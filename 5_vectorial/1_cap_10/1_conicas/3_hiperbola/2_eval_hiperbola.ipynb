{
 "cells": [
  {
   "cell_type": "markdown",
   "id": "dc06dec7",
   "metadata": {
    "slideshow": {
     "slide_type": "slide"
    }
   },
   "source": [
    "<table align=\"left\">\n",
    "  <td>\n",
    "    <a href=\"https://colab.research.google.com/github/marco-canas/didactica_ciencia_datos/blob/main/1_curso_machine_learning/1_evaluacion_oral_tarea_quiz_parcial.ipynb\" target=\"_parent\"><img src=\"https://colab.research.google.com/assets/colab-badge.svg\" alt=\"Open In Colab\"/></a>\n",
    "  </td>\n",
    "  <td>\n",
    "    <a target=\"_blank\" href=\"https://kaggle.com/kernels/welcome?src=https://github.com/marco-canas/didactica_ciencia_datos/blob/main/1_curso_machine_learning/1_evaluacion_oral_tarea_quiz_parcial.ipynb\"><img src=\"https://kaggle.com/static/images/open-in-kaggle.svg\" /></a>\n",
    "  </td>\n",
    "</table>"
   ]
  },
  {
   "cell_type": "markdown",
   "id": "e0c5b198",
   "metadata": {
    "slideshow": {
     "slide_type": "slide"
    }
   },
   "source": [
    "### [Video de apoyo a la lectura interactiva y experimental de este cuaderno]()"
   ]
  },
  {
   "cell_type": "markdown",
   "id": "41e82203",
   "metadata": {
    "slideshow": {
     "slide_type": "slide"
    }
   },
   "source": [
    "## [Vínculo al programa del curso:  ]()"
   ]
  },
  {
   "cell_type": "markdown",
   "id": "ca46c23b",
   "metadata": {
    "slideshow": {
     "slide_type": "slide"
    }
   },
   "source": [
    "# Modelo general de clase: [aula invertida](https://www3.gobiernodecanarias.org/medusa/ecoescuela/pedagotic/aprendizaje-invertido-flipped-classroom/)\n"
   ]
  },
  {
   "cell_type": "markdown",
   "id": "7f9be90f",
   "metadata": {
    "slideshow": {
     "slide_type": "slide"
    }
   },
   "source": [
    "# Fomento de la lectura literaria asociada a Ingeniería agropecuaria y licenciatura en Matemáticas y administración de empresas\n",
    "\n",
    "[Hábitos atómicos](https://github.com/marco-canas/habitos_atomicos/blob/main/13_como_dejar_de_postergar_usando_la_regla_de_los_dos_minutos/1_13_como_dejar_de_postergar_usando_la_regla_de_los_dos_minutos.ipynb)"
   ]
  },
  {
   "cell_type": "markdown",
   "id": "96775931",
   "metadata": {
    "slideshow": {
     "slide_type": "slide"
    }
   },
   "source": [
    "# Título de la clase: Realización evaluación oral, de Tareas en cuadernos Jupyter, Quiz o Parcial de selección múltiple o de preguntas cerradas.  \n",
    "\n"
   ]
  },
  {
   "cell_type": "markdown",
   "id": "cf101603",
   "metadata": {},
   "source": [
    "# Prompt para pedir el diseño de evaluación de acuerdo a la metodología de \"Enseñanza basada en proyectos\"  \n",
    "\n",
    "Dame, por favor, una propuesta de evaluación de esta clase bajo la metodología de enseñanza: \"Aprendizaje basado en proyectos\". Pero además incluye una evaluación escrita tipo quiz y una tipo parcial. "
   ]
  },
  {
   "cell_type": "markdown",
   "id": "388ab32f",
   "metadata": {},
   "source": [
    "\n",
    "### **1. Título de la Clase**  \n",
    "**\"Hipérbolas en el Campo: Geometría que Siembra Soluciones\"**  \n",
    "\n",
    "---\n"
   ]
  },
  {
   "cell_type": "markdown",
   "id": "7a65e05a",
   "metadata": {},
   "source": [
    "\n",
    "### **2. Objetivos de Aprendizaje e Indicadores**  \n",
    "- **Objetivo 1:** Modelar sistemas de riego hiperbólicos usando propiedades geométricas.  \n",
    "  *Indicador:* Simulación en Python de cobertura de aspersores con Plotly 3D.  \n",
    "- **Objetivo 2:** Analizar trayectorias hiperbólicas en navegación GPS para maquinaria agrícola.  \n",
    "  *Indicador:* Cálculo de diferencias temporales entre satélites usando $ \\frac{x^2}{a^2} - \\frac{y^2}{b^2} = 1 $.  \n",
    "- **Objetivo 3:** Diseñar silos de almacenamiento con secciones hiperbólicas para optimización térmica.  \n",
    "  *Indicador:* Gráfico interactivo con ipywidgets variando parámetros $a$ y $b$.  \n",
    "\n",
    "---\n",
    "\n",
    "### **3. Mapa Conceptual Jerárquico (Graphviz)**  \n"
   ]
  },
  {
   "cell_type": "code",
   "execution_count": 2,
   "id": "fa516ef2",
   "metadata": {},
   "outputs": [
    {
     "data": {
      "text/plain": [
       "'C:\\\\Users\\\\marco\\\\Descargas\\\\hiperbola_agro.png'"
      ]
     },
     "execution_count": 2,
     "metadata": {},
     "output_type": "execute_result"
    }
   ],
   "source": [
    "\n",
    "from graphviz import Digraph\n",
    "\n",
    "dot = Digraph(comment='Hipérbola Agropecuaria', format='png', engine='dot')\n",
    "dot.attr('graph', overlap='false', rankdir='TB')  # Jerarquía Top-Bottom\n",
    "\n",
    "# Nodos principales\n",
    "dot.node('A', 'Hipérbola\\nen Ingeniería Agropecuaria', shape='ellipse', style='filled', fillcolor='#CDEAC0')\n",
    "dot.node('B', 'Aplicaciones\\nReales', shape='box', fillcolor='#FFF3B0')\n",
    "dot.node('C', 'Propiedades\\nGeométricas', shape='component', fillcolor='#E2F0FB')\n",
    "dot.node('D', 'Ecuación\\nAlgebraica', shape='note', fillcolor='#F4D4E3')\n",
    "\n",
    "# Subnodos aplicaciones\n",
    "dot.node('B1', 'Sistemas de Riego\\n(Ángulo de cobertura)', shape='cylinder')\n",
    "dot.node('B2', 'Navegación GPS\\npara Tractores', shape='tab')\n",
    "dot.node('B3', 'Diseño de Silos\\nTermoregulados', shape='folder')\n",
    "\n",
    "# Subnodos propiedades\n",
    "dot.node('C1', 'Asíntotas\\n(Dirección flujo agua)', shape='triangle')\n",
    "dot.node('C2', 'Focos\\n(Puntos de control térmico)', shape='circle')\n",
    "\n",
    "# Jerarquías\n",
    "dot.edges(['AB', 'AC', 'AD'])\n",
    "dot.edges([('B','B1'), ('B', 'B2'), ('B', 'B3')])\n",
    "dot.edges([('C', 'C1'), ('C', 'C2')])\n",
    "dot.edge('C1', 'B1', label='Optimiza\\ncobertura', style='dotted')\n",
    "dot.edge('C2', 'B3', label='Control\\ntérmico', style='dashed')\n",
    "\n",
    "dot.render(directory='C:/Users/marco/Descargas', filename='hiperbola_agro', view=True)\n"
   ]
  },
  {
   "cell_type": "markdown",
   "id": "f497698c",
   "metadata": {},
   "source": [
    "```\n",
    "\n",
    "---\n"
   ]
  },
  {
   "cell_type": "markdown",
   "id": "5e7ec616",
   "metadata": {},
   "source": [
    "\n",
    "### **4. Contenido de Clase (Enfoque STEAM-Agropecuario)**  \n",
    "**Aplicación Real:** Diseño de aspersores con patrón hiperbólico para riego en cultivos de plátano (zona de Urabá Antioqueño).  \n",
    "\n",
    "**Secuencia Didáctica:**  \n",
    "1. **Problema Agrícola:**  \n",
    "   \"¿Cómo regar 5 hectáreas con 3 aspersores si el caudal es limitado?\" → Patrón hiperbólico optimiza área.  \n",
    "\n",
    "2. **Geometría Viva:**  \n",
    "   - Demostración con manguera y regadores en campo (video adjunto).  \n",
    "   - **Propiedad:** La diferencia de distancias a dos focos es constante → $|PF_1 - PF_2| = 2a$  \n",
    "\n",
    "3. **Modelo Algebraico:**  \n",
    "   $$ \\frac{x^2}{(15)^2} - \\frac{y^2}{(10)^2} = 1 $$  \n",
    "   (Donde 15m es la distancia entre aspersores y 10m el radio efectivo).  \n",
    "\n",
    "4. **Simulación Computacional:**  \n",
    "```python\n",
    "import plotly.graph_objects as go\n",
    "\n",
    "a, b = 15, 10\n",
    "x = np.linspace(-30, 30, 100)\n",
    "y = b * np.sqrt((x**2 / a**2) - 1)\n",
    "\n",
    "fig = go.Figure(data=go.Scatter(x=x, y=y, mode='lines', name='Hipérbola Riego'))\n",
    "fig.add_trace(go.Scatter(x=[-a, a], y=[0,0], mode='markers', name='Aspersores'))\n",
    "fig.update_layout(title='Sistema de Riego Hiperbólico - Cultivo de Plátano')\n",
    "fig.show()\n",
    "```\n",
    "\n",
    "---\n"
   ]
  },
  {
   "cell_type": "markdown",
   "id": "71102700",
   "metadata": {},
   "source": [
    "\n",
    "### **5. Historia Épica (Estilo Cuentero Antioqueño)**  \n",
    "*\"¡Oiga pues, paisano! En las montañas de Caucasia, la ingeniera María \"La Hiperbólica\" descubrió en 1998 que los viejos silos de maíz se calentaban demasiado. Usando las ideas de Apolonio de Perga (el griego de las cónicas), diseñó silos con paredes hiperbólicas que atrapaban el aire fresco. ¡Los focos de la hipérbola servían para colocar termómetros! Así nacieron los primeros silos termoregulados del Bajo Cauca. Hoy, sus ecuaciones salvan cosechas: $ \\frac{calor}{sombra} - \\frac{humedad}{viento} = 1 $.\"*  \n",
    "\n",
    "**Imágenes Sugeridas:**  \n",
    "- [Apolonio de Perga](https://ejemplo.com/apolonio.jpg)  \n",
    "- [Ing. María con Plátanos](https://ejemplo.com/maria_hiperbola.jpg)  \n",
    "\n",
    "---\n",
    "\n",
    "### **6. Actividades de Aprendizaje**  \n",
    "**Jupyter Lab 1:**  \n",
    "```python\n",
    "from ipywidgets import interactive\n",
    "\n",
    "def plot_hiperbola(a=15, b=10):\n",
    "    x = np.linspace(-3*a, 3*a, 400)\n",
    "    y = b * np.sqrt((x**2 / a**2) - 1)\n",
    "    plt.plot(x, y, 'g-', label='Área de Riego')\n",
    "    plt.scatter([-a, a], [0,0], c='red', label='Aspersores')\n",
    "    plt.title(f'Riego Hiperbólico: a={a}m, b={b}m')\n",
    "    \n",
    "interactive(plot_hiperbola, a=(5,25), b=(5,20))\n",
    "```\n",
    "\n",
    "**Role-Play ABP:**  \n",
    "- Grupo A: Agricultores con problema de riego desigual.  \n",
    "- Grupo B: Ingenieros que proponen solución hiperbólica.  \n",
    "- Debate con datos matemáticos y costos económicos.  \n",
    "\n",
    "---\n"
   ]
  },
  {
   "cell_type": "markdown",
   "id": "34bd3375",
   "metadata": {},
   "source": [
    "\n",
    "### **7. Poema Concreto**  \n",
    "**Ritmo: Bambuco**  \n",
    "*\"Dos focos tiene la hipérbola,  \n",
    "como dos ojos en el campo.  \n",
    "El tractorista con su GPS  \n",
    "traza rutas sin dañar el terreno.  \n",
    "\n",
    "Asíntotas son sus guías,  \n",
    "líneas que nunca tocará,  \n",
    "como el riego que moja justo  \n",
    "donde la planta lo necesitará.\"*  \n",
    "\n",
    "---\n"
   ]
  },
  {
   "cell_type": "markdown",
   "id": "4168e7c6",
   "metadata": {},
   "source": [
    "\n",
    "### **8. Tarea de Ejercitación**  \n",
    "**Problema:** Un silo hiperbólico tiene ecuación $ \\frac{x^2}{25} - \\frac{y^2}{16} = 1 $.  \n",
    "1. Calcular posición de sensores térmicos (focos).  \n",
    "2. Simular en Python cómo varía el área de almacenamiento si $b$ aumenta 20%.  \n",
    "3. Relacionar con:  \n",
    "   - **Contexto Familiar:** \"Si tu casa fuera un silo, ¿dónde colocarías ventanas usando focos?\"  \n",
    "\n",
    "---\n"
   ]
  },
  {
   "cell_type": "markdown",
   "id": "2f95e37c",
   "metadata": {},
   "source": [
    "\n",
    "### **9. Evaluación**  \n",
    "**Proyectos:**  \n",
    "1. Modelo 3D de silo hiperbólico con control térmico.  \n",
    "2. Algoritmo para corregir deriva GPS en tractores usando hipérbolas.  \n",
    "\n",
    "**Quiz (3 Preguntas):**  \n",
    "1. En $ \\frac{x^2}{9} - \\frac{y^2}{4} = 1 $, las asíntotas son:  \n",
    "   a) $y = \\pm \\frac{2}{3}x$  \n",
    "\n",
    "**Parcial (5 Puntos):**  \n",
    "1. Dado un sistema de riego con focos en (±8,0) y diferencia de distancias 10m, hallar ecuación.  \n",
    "\n",
    "---\n"
   ]
  },
  {
   "cell_type": "markdown",
   "id": "da52fd0c",
   "metadata": {},
   "source": [
    "\n",
    "### **10. Retroalimentación**  \n",
    "- **Taller de Errores:** Análisis colectivo de modelos computacionales fallidos.  \n",
    "- **Método 3-2-1:** 3 conceptos claros, 2 dudas, 1 analogía agrícola.  \n",
    "\n",
    "---\n"
   ]
  },
  {
   "cell_type": "markdown",
   "id": "99e08dea",
   "metadata": {},
   "source": [
    "\n",
    "### **11. Vocabulario Inglés**  \n",
    "- Hyperbola → Hipérbola  \n",
    "- Asymptotes → Asíntotas  \n",
    "- Thermal regulation → Termorregulación  \n",
    "\n",
    "---\n"
   ]
  },
  {
   "cell_type": "markdown",
   "id": "dd755690",
   "metadata": {},
   "source": [
    "\n",
    "### **12. Apéndice: Habilidades Blandas**  \n",
    "**Dinámica:**  \n",
    "- **Juego de Roles:** \"Eres un ingeniero que debe convencer a un agricultor escéptico usando modelos matemáticos\".  \n",
    "- **Técnica del Semáforo Emocional:**  \n",
    "  - **Rojo:** Identificar miedo a ecuaciones.  \n",
    "  - **Amarillo:** Practicar con ejemplos cotidianos.  \n",
    "  - **Verde:** Presentar proyectos con seguridad.  \n",
    "\n",
    "---\n"
   ]
  },
  {
   "cell_type": "markdown",
   "id": "b9151a54",
   "metadata": {},
   "source": [
    "\n",
    "### **Código Animación Hiperbólica**  \n",
    "```python\n"
   ]
  },
  {
   "cell_type": "markdown",
   "id": "55d65c57",
   "metadata": {},
   "source": [
    "from matplotlib.animation import FuncAnimation\n",
    "\n",
    "fig, ax = plt.subplots()\n",
    "x = np.linspace(-30, 30, 200)\n",
    "ln, = ax.plot([], [], 'b-')\n",
    "\n",
    "def init():\n",
    "    ax.set_xlim(-30, 30)\n",
    "    ax.set_ylim(0, 20)\n",
    "    return ln,\n",
    "\n",
    "def update(frame):\n",
    "    b = frame/10  # frame varía de 1 a 100\n",
    "    y = b * np.sqrt((x**2 / 225) - 1)\n",
    "    ln.set_data(x, y)\n",
    "    return ln,\n",
    "\n",
    "ani = FuncAnimation(fig, update, frames=100, init_func=init, bl=True)\n",
    "from IPython.display import HTML\n",
    "HTML(ani.to_jshtml())\n",
    "```  \n"
   ]
  },
  {
   "cell_type": "markdown",
   "id": "2cebd521",
   "metadata": {},
   "source": [
    "\n",
    "Este diseño integra cálculo vectorial con aplicaciones agropecuarias reales de la región. ¿Necesitas ajustar algún componente? 🌱"
   ]
  },
  {
   "cell_type": "markdown",
   "id": "c6236d5d",
   "metadata": {},
   "source": [
    "# FODA del grupo y del profesor  \n",
    "\n",
    "* F: Fortalezas\n",
    "* O: Oportunidades\n",
    "* D: Dificultades\n",
    "* A: Amenazas."
   ]
  },
  {
   "cell_type": "markdown",
   "id": "b48f9542",
   "metadata": {},
   "source": [
    "## ¿Cómo se sintió en este espacio de enseñanza y aprendizaje?\n",
    "\n",
    "!Dios te bendiga¡"
   ]
  },
  {
   "cell_type": "markdown",
   "id": "10bce0d0",
   "metadata": {
    "slideshow": {
     "slide_type": "slide"
    }
   },
   "source": [
    "## Referentes "
   ]
  },
  {
   "cell_type": "markdown",
   "id": "d204c917",
   "metadata": {},
   "source": [
    "* [Grajales Vanegas, L. M., Restrepo Estrada, C. E., Restrepo Ochoa, S. I., & Ruíz De Villalba, F. (2015). Matemáticas I para las ciencias económicas.](https://github.com/marco-canas/fundamentos_de_la_aritmetica/blob/main/referentes/2_grajales_logica/grajales_lina_matemticas.pdf)\n",
    "  \n",
    "* Duval, R. (2004). Semiosis y pensamiento humano: registros semióticos y aprendizajes intelectuales. Universidad del Valle.\n",
    "\n",
    "* [Aylwin, C. U. (2011). Lógica, conjuntos y números. Universidad de los Andes, Consejo de Publicaciones, Colección: Ciencias Básicas, Serie: Matemáticas.](https://github.com/marco-canas/fundamentos_logica/blob/main/referentes/2_uzcategui/uscategui.pdf)\n",
    "  \n",
    "* [Chollet, F. (2021). Deep learning with Python. Simon and Schuster.](https://github.com/marco-canas/didactica_ciencia_datos/blob/main/2_referentes/chollet/Fran%C3%A7ois%20Chollet%20-%20Deep%20Learning%20with%20Python-Manning%20(2018).pdf)  \n",
    "  \n",
    "* [Watson, S., Stewart, J., & Redlin, L. (2009). Precálculo. Matemáticas para el cálculo.](https://github.com/marco-canas/calculo/blob/main/referents/1_precalculo_stewart/stewart_precalculo.pdf)  \n",
    "\n",
    "* [Purcell, E. J., Varberg, D., & Rigdon, S. E. (2007). Cálculo diferencial e integral. Pearson Educación.](https://github.com/marco-canas/calculo/blob/main/referents/purcell/purcell_calculo.pdf)\n",
    "\n",
    "  \n",
    "\n",
    "* [stewart cálculo](https://udeaeduco-my.sharepoint.com/:b:/g/personal/marco_canas_udea_edu_co/EZgXZjAp8QxPqOAim2hs6LcBNPLGjSHf-xwYnUVYkwa04w?e=RZdTCy)  \n",
    "\n",
    "* [larson](https://udeaeduco-my.sharepoint.com/:b:/g/personal/marco_canas_udea_edu_co/ES71ChFeO9ZDhW3TwC5Ijk8BjxUK3Pdqz_fjHxTTFAfIAg?e=VDEjfu)\n",
    "\n",
    "\n",
    "\n",
    "* [Recomendación de la UNESCO sobre ciencia abierta](https://unesdoc.unesco.org/ark:/48223/pf0000379949_spa)\n",
    "\n",
    "* [chatGPT](https://openai.com/blog/chatgpt)  \n",
    "\n",
    "* [Géron, A. (2017). Hands-on machine learning with scikit-learn and tensorflow: Concepts. Tools, and Techniques to build intelligent systems.](chrome-extension://efaidnbmnnnibpcajpcglclefindmkaj/http://14.139.161.31/OddSem-0822-1122/Hands-On_Machine_Learning_with_Scikit-Learn-Keras-and-TensorFlow-2nd-Edition-Aurelien-Geron.pdf)   \n"
   ]
  },
  {
   "cell_type": "markdown",
   "id": "6b9e56a8",
   "metadata": {
    "slideshow": {
     "slide_type": "slide"
    }
   },
   "source": [
    "### [Evaluamos al profesor Marco Cañas Aquí](https://forms.office.com/Pages/ResponsePage.aspx?id=IefhmYRxjkmK_7KtTlPBwkanXIs1i1FEujpsZgO6dXpUREJPV1kxUk1JV1ozTFJIQVNIQjY5WEY3US4u)"
   ]
  },
  {
   "cell_type": "markdown",
   "id": "071afa04",
   "metadata": {
    "slideshow": {
     "slide_type": "slide"
    }
   },
   "source": [
    "## [Evaluación luego de alcanzar estos objetivos de aprendizaje]()"
   ]
  },
  {
   "cell_type": "markdown",
   "id": "10f43536",
   "metadata": {
    "slideshow": {
     "slide_type": "slide"
    }
   },
   "source": [
    "### Continue su aprendizaje en la siguiente clase a través del siguiente [vínculo]()"
   ]
  },
  {
   "cell_type": "markdown",
   "id": "af751e30",
   "metadata": {
    "slideshow": {
     "slide_type": "slide"
    }
   },
   "source": [
    "# Conjeturas pedagógicas fruto de la aplicación del modelo de aprendizaje invertido y del enfoque hacia la ciencia de datos con python\n",
    "\n",
    "1. Todo cálculo o resultado debe ser interpretado en una línea markdown del cuaderno Jupyter, inmediatamente después de la enunciación del resultado y después de la presentación de una tabla o gráfico bidimensional, de tal menera que el estudiante explicite la comprensión verbal del resultado y las inferencias o estrategias que este resultado le sugieren.   "
   ]
  }
 ],
 "metadata": {
  "celltoolbar": "Slideshow",
  "kernelspec": {
   "display_name": ".venv",
   "language": "python",
   "name": "python3"
  },
  "language_info": {
   "codemirror_mode": {
    "name": "ipython",
    "version": 3
   },
   "file_extension": ".py",
   "mimetype": "text/x-python",
   "name": "python",
   "nbconvert_exporter": "python",
   "pygments_lexer": "ipython3",
   "version": "3.12.6"
  },
  "rise": {
   "enable_chalkboard": true,
   "theme": "sky",
   "transition": "zoom"
  }
 },
 "nbformat": 4,
 "nbformat_minor": 5
}
