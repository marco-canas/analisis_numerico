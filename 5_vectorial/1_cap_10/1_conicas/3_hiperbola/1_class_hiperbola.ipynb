{
 "cells": [
  {
   "cell_type": "markdown",
   "id": "dc06dec7",
   "metadata": {
    "slideshow": {
     "slide_type": "slide"
    }
   },
   "source": [
    "<table align=\"left\">\n",
    "  <td>\n",
    "    <a href=\"https://colab.research.google.com/github/ageron/handson-ml3/blob/main/tools_numpy.ipynb\" target=\"_parent\"><img src=\"https://colab.research.google.com/assets/colab-badge.svg\" alt=\"Open In Colab\"/></a>\n",
    "  </td>\n",
    "  <td>\n",
    "    <a target=\"_blank\" href=\"https://kaggle.com/kernels/welcome?src=https://github.com/ageron/handson-ml3/blob/main/tools_numpy.ipynb\"><img src=\"https://kaggle.com/static/images/open-in-kaggle.svg\" /></a>\n",
    "  </td>\n",
    "</table>"
   ]
  },
  {
   "cell_type": "markdown",
   "id": "e0c5b198",
   "metadata": {
    "slideshow": {
     "slide_type": "slide"
    }
   },
   "source": [
    "### [Video de apoyo a la lectura interactiva y experimental de este cuaderno]()"
   ]
  },
  {
   "cell_type": "markdown",
   "id": "41e82203",
   "metadata": {
    "slideshow": {
     "slide_type": "slide"
    }
   },
   "source": [
    "### [Vínculo al programa del curso:  ]()\n",
    "\n",
    "Código del curso de Cálculo Vectorial: 5009344  "
   ]
  },
  {
   "cell_type": "markdown",
   "id": "d11ab06d",
   "metadata": {
    "slideshow": {
     "slide_type": "slide"
    }
   },
   "source": [
    "Un reconocimiento a mis estudiantes que han construido conmigo este saber pedagógico:\n",
    "\n",
    "<img src = ''> \n",
    "\n"
   ]
  },
  {
   "cell_type": "markdown",
   "id": "8a74a56c-0ce6-4ad6-b985-553fd7fb68bb",
   "metadata": {},
   "source": [
    "Reconocimiento a las profesoras destacadas en enseñanza de la matemática en Colombia\n"
   ]
  },
  {
   "cell_type": "code",
   "execution_count": 1,
   "id": "7604880f",
   "metadata": {
    "slideshow": {
     "slide_type": "slide"
    }
   },
   "outputs": [
    {
     "ename": "ValueError",
     "evalue": "Excel file format cannot be determined, you must specify an engine manually.",
     "output_type": "error",
     "traceback": [
      "\u001b[1;31m---------------------------------------------------------------------------\u001b[0m",
      "\u001b[1;31mValueError\u001b[0m                                Traceback (most recent call last)",
      "Cell \u001b[1;32mIn[1], line 6\u001b[0m\n\u001b[0;32m      4\u001b[0m \u001b[38;5;66;03m# Cargar la lista de estudiantes desde el archivo CSV\u001b[39;00m\n\u001b[0;32m      5\u001b[0m path \u001b[38;5;241m=\u001b[39m \u001b[38;5;124m'\u001b[39m\u001b[38;5;124mC:/Users/marco/Documentos/docencia/groups_list/vectorial.xlsx\u001b[39m\u001b[38;5;124m'\u001b[39m\n\u001b[1;32m----> 6\u001b[0m estudiantes \u001b[38;5;241m=\u001b[39m \u001b[43mpd\u001b[49m\u001b[38;5;241;43m.\u001b[39;49m\u001b[43mread_excel\u001b[49m\u001b[43m(\u001b[49m\u001b[43mpath\u001b[49m\u001b[43m)\u001b[49m\n\u001b[0;32m      7\u001b[0m estudiantes\u001b[38;5;241m.\u001b[39mhead()\n",
      "File \u001b[1;32mc:\\Users\\marco\\Documentos\\docencia\\radicacion_vectorial_numerico\\.venv\\Lib\\site-packages\\pandas\\io\\excel\\_base.py:495\u001b[0m, in \u001b[0;36mread_excel\u001b[1;34m(io, sheet_name, header, names, index_col, usecols, dtype, engine, converters, true_values, false_values, skiprows, nrows, na_values, keep_default_na, na_filter, verbose, parse_dates, date_parser, date_format, thousands, decimal, comment, skipfooter, storage_options, dtype_backend, engine_kwargs)\u001b[0m\n\u001b[0;32m    493\u001b[0m \u001b[38;5;28;01mif\u001b[39;00m \u001b[38;5;129;01mnot\u001b[39;00m \u001b[38;5;28misinstance\u001b[39m(io, ExcelFile):\n\u001b[0;32m    494\u001b[0m     should_close \u001b[38;5;241m=\u001b[39m \u001b[38;5;28;01mTrue\u001b[39;00m\n\u001b[1;32m--> 495\u001b[0m     io \u001b[38;5;241m=\u001b[39m \u001b[43mExcelFile\u001b[49m\u001b[43m(\u001b[49m\n\u001b[0;32m    496\u001b[0m \u001b[43m        \u001b[49m\u001b[43mio\u001b[49m\u001b[43m,\u001b[49m\n\u001b[0;32m    497\u001b[0m \u001b[43m        \u001b[49m\u001b[43mstorage_options\u001b[49m\u001b[38;5;241;43m=\u001b[39;49m\u001b[43mstorage_options\u001b[49m\u001b[43m,\u001b[49m\n\u001b[0;32m    498\u001b[0m \u001b[43m        \u001b[49m\u001b[43mengine\u001b[49m\u001b[38;5;241;43m=\u001b[39;49m\u001b[43mengine\u001b[49m\u001b[43m,\u001b[49m\n\u001b[0;32m    499\u001b[0m \u001b[43m        \u001b[49m\u001b[43mengine_kwargs\u001b[49m\u001b[38;5;241;43m=\u001b[39;49m\u001b[43mengine_kwargs\u001b[49m\u001b[43m,\u001b[49m\n\u001b[0;32m    500\u001b[0m \u001b[43m    \u001b[49m\u001b[43m)\u001b[49m\n\u001b[0;32m    501\u001b[0m \u001b[38;5;28;01melif\u001b[39;00m engine \u001b[38;5;129;01mand\u001b[39;00m engine \u001b[38;5;241m!=\u001b[39m io\u001b[38;5;241m.\u001b[39mengine:\n\u001b[0;32m    502\u001b[0m     \u001b[38;5;28;01mraise\u001b[39;00m \u001b[38;5;167;01mValueError\u001b[39;00m(\n\u001b[0;32m    503\u001b[0m         \u001b[38;5;124m\"\u001b[39m\u001b[38;5;124mEngine should not be specified when passing \u001b[39m\u001b[38;5;124m\"\u001b[39m\n\u001b[0;32m    504\u001b[0m         \u001b[38;5;124m\"\u001b[39m\u001b[38;5;124man ExcelFile - ExcelFile already has the engine set\u001b[39m\u001b[38;5;124m\"\u001b[39m\n\u001b[0;32m    505\u001b[0m     )\n",
      "File \u001b[1;32mc:\\Users\\marco\\Documentos\\docencia\\radicacion_vectorial_numerico\\.venv\\Lib\\site-packages\\pandas\\io\\excel\\_base.py:1554\u001b[0m, in \u001b[0;36mExcelFile.__init__\u001b[1;34m(self, path_or_buffer, engine, storage_options, engine_kwargs)\u001b[0m\n\u001b[0;32m   1550\u001b[0m     ext \u001b[38;5;241m=\u001b[39m inspect_excel_format(\n\u001b[0;32m   1551\u001b[0m         content_or_path\u001b[38;5;241m=\u001b[39mpath_or_buffer, storage_options\u001b[38;5;241m=\u001b[39mstorage_options\n\u001b[0;32m   1552\u001b[0m     )\n\u001b[0;32m   1553\u001b[0m     \u001b[38;5;28;01mif\u001b[39;00m ext \u001b[38;5;129;01mis\u001b[39;00m \u001b[38;5;28;01mNone\u001b[39;00m:\n\u001b[1;32m-> 1554\u001b[0m         \u001b[38;5;28;01mraise\u001b[39;00m \u001b[38;5;167;01mValueError\u001b[39;00m(\n\u001b[0;32m   1555\u001b[0m             \u001b[38;5;124m\"\u001b[39m\u001b[38;5;124mExcel file format cannot be determined, you must specify \u001b[39m\u001b[38;5;124m\"\u001b[39m\n\u001b[0;32m   1556\u001b[0m             \u001b[38;5;124m\"\u001b[39m\u001b[38;5;124man engine manually.\u001b[39m\u001b[38;5;124m\"\u001b[39m\n\u001b[0;32m   1557\u001b[0m         )\n\u001b[0;32m   1559\u001b[0m engine \u001b[38;5;241m=\u001b[39m config\u001b[38;5;241m.\u001b[39mget_option(\u001b[38;5;124mf\u001b[39m\u001b[38;5;124m\"\u001b[39m\u001b[38;5;124mio.excel.\u001b[39m\u001b[38;5;132;01m{\u001b[39;00mext\u001b[38;5;132;01m}\u001b[39;00m\u001b[38;5;124m.reader\u001b[39m\u001b[38;5;124m\"\u001b[39m, silent\u001b[38;5;241m=\u001b[39m\u001b[38;5;28;01mTrue\u001b[39;00m)\n\u001b[0;32m   1560\u001b[0m \u001b[38;5;28;01mif\u001b[39;00m engine \u001b[38;5;241m==\u001b[39m \u001b[38;5;124m\"\u001b[39m\u001b[38;5;124mauto\u001b[39m\u001b[38;5;124m\"\u001b[39m:\n",
      "\u001b[1;31mValueError\u001b[0m: Excel file format cannot be determined, you must specify an engine manually."
     ]
    }
   ],
   "source": [
    "import pandas as pd\n",
    "import numpy as np\n",
    "\n",
    "# Cargar la lista de estudiantes desde el archivo CSV\n",
    "path = 'C:/Users/marco/Documentos/docencia/groups_list/vectorial.xlsx'\n",
    "estudiantes = pd.read_excel(path)\n",
    "estudiantes.head()\n"
   ]
  },
  {
   "cell_type": "code",
   "execution_count": null,
   "id": "c1de554a",
   "metadata": {},
   "outputs": [],
   "source": [
    "\n",
    "# Convertir la columna 'Nombre' a una lista de Python\n",
    "lista_estudiantes = estudiantes['Nombre'].tolist()\n",
    "\n",
    "# Función para llamar a un estudiante aleatoriamente y registrar su nota de seguimiento\n",
    "def asistencia():\n",
    "    global lista_estudiantes\n",
    "    if lista_estudiantes:\n",
    "        estudiante_aleatorio = np.random.choice(lista_estudiantes)\n",
    "        print(f\"Llamando a {estudiante_aleatorio}...\")\n",
    "        asistencia = input(f\"¿Asistió {estudiante_aleatorio}? (s/n): \").strip().lower()\n",
    "        \n",
    "        # Validación de entrada\n",
    "        if asistencia == 's':\n",
    "            # Obtener el índice del estudiante en el DataFrame\n",
    "            indice = estudiantes[estudiantes['Nombre'] == estudiante_aleatorio].index[0]\n",
    "            # Incrementar su valor en la columna 'Parcial'\n",
    "            estudiantes.at[indice, 'Parcial'] += 0.3\n",
    "            print(f\"Actualizado: {estudiante_aleatorio} ahora tiene {estudiantes.at[indice, 'Parcial']} en la columna 'Parcial'.\")\n",
    "        \n",
    "        elif asistencia != 'n':\n",
    "            print(\"Entrada inválida. Por favor, introduce 's' para sí o 'n' para no.\")\n",
    "            return  # Volver a preguntar para el mismo estudiante si la entrada es inválida\n",
    "        \n",
    "        # Remover al estudiante de la lista para no llamarlo de nuevo\n",
    "        lista_estudiantes.remove(estudiante_aleatorio)\n",
    "    else:\n",
    "        print(\"Se han llamado a todos los estudiantes del grupo completo.\")\n",
    "\n",
    "# Función para guardar cambios al final de la sesión\n",
    "def guardar_cambios():\n",
    "    estudiantes.to_csv(path, index=False)\n",
    "    print(\"Cambios guardados en el archivo CSV.\")\n",
    "\n",
    "# Ejemplo de uso\n",
    "while lista_estudiantes:\n",
    "    asistencia()\n",
    "\n",
    "# Guardar los cambios una vez que todos los estudiantes hayan sido llamados\n",
    "guardar_cambios()\n",
    "\n"
   ]
  },
  {
   "cell_type": "markdown",
   "id": "d7598d0a-d9b7-4ae0-b029-a0ed6ed1130b",
   "metadata": {},
   "source": [
    "\n",
    "# Principios de mi labor docente"
   ]
  },
  {
   "cell_type": "markdown",
   "id": "4f9d8cf9",
   "metadata": {
    "slideshow": {
     "slide_type": "slide"
    }
   },
   "source": [
    "## Modelo general de clase: [aula invertida](https://www3.gobiernodecanarias.org/medusa/ecoescuela/pedagotic/aprendizaje-invertido-flipped-classroom/)"
   ]
  },
  {
   "cell_type": "markdown",
   "id": "eb6ed03a",
   "metadata": {},
   "source": [
    "<img src = 'https://resources.maneuveringthemiddle.com/wp-content/uploads/2020/07/04212706/1-5.png' width = 200>  \n",
    "\n"
   ]
  },
  {
   "cell_type": "markdown",
   "id": "34319cce-a71b-4f64-aab8-b53e521efa40",
   "metadata": {},
   "source": [
    "# Metodología de enseñanza basada en problemas (ABP)\n"
   ]
  },
  {
   "cell_type": "markdown",
   "id": "c4f73d81",
   "metadata": {},
   "source": [
    "\n",
    "<img src = 'https://www.unir.net/wp-content/uploads/2020/07/aprendizaje-problemas2-1-1-1-1.jpeg' width = 200>"
   ]
  },
  {
   "cell_type": "markdown",
   "id": "841a985c-bd9b-4dd3-8e4c-893983980af2",
   "metadata": {},
   "source": [
    "# Desarrollo del pensamiento computacional con Lenguaje R y con archivos R Markdown orientado a la formación en ciencia de datos \n",
    "\n"
   ]
  },
  {
   "cell_type": "markdown",
   "id": "3d0eba94",
   "metadata": {},
   "source": [
    "\n",
    "<img src = 'https://i.ytimg.com/vi/mcG_wcR4e6M/maxresdefault.jpg' width = 200>"
   ]
  },
  {
   "cell_type": "markdown",
   "id": "65aa0404-f7ae-495e-864c-1aec01b4255e",
   "metadata": {},
   "source": [
    "# Principio de fomento a la ciencia abierta, enseñar en el acceso a los datos públicos y el uso de software de código abierto  \n"
   ]
  },
  {
   "cell_type": "markdown",
   "id": "18ae9b87",
   "metadata": {},
   "source": [
    "\n",
    "<img src = 'https://unesdoc.unesco.org/in/rest/Thumb/image?id=p%3A%3Ausmarcdef_0000379949_spa&author=UNESCO&title=Recomendaci%C3%B3n+de+la+UNESCO+sobre+la+Ciencia+Abierta&year=2021&publisher=UNESCO&TypeOfDocument=UnescoPhysicalDocument&mat=PGD&ct=true&size=512&isPhysical=1' width = 200>"
   ]
  },
  {
   "cell_type": "markdown",
   "id": "d9559f85",
   "metadata": {},
   "source": [
    "El enfoque STEAMS en educación preescolar, primaria y secundaria es una extensión del enfoque STEM (Ciencia, Tecnología, Ingeniería y Matemáticas) y su variante STEAM, que incorpora el Arte. "
   ]
  },
  {
   "cell_type": "markdown",
   "id": "72e1cfd2",
   "metadata": {},
   "source": [
    "El acrónimo STEAMS incluye:\n"
   ]
  },
  {
   "cell_type": "markdown",
   "id": "03182fd1",
   "metadata": {},
   "source": [
    "\n",
    "1. **Science (Ciencia):** Fomenta la curiosidad por el mundo natural y el desarrollo de habilidades científicas, como la observación, experimentación y análisis.\n"
   ]
  },
  {
   "cell_type": "markdown",
   "id": "1306d0fa",
   "metadata": {},
   "source": [
    "\n",
    "2. **Technology (Tecnología):** Integra herramientas tecnológicas para potenciar el aprendizaje y la resolución de problemas, promoviendo la alfabetización digital desde edades tempranas.\n"
   ]
  },
  {
   "cell_type": "markdown",
   "id": "3b1a53e8",
   "metadata": {},
   "source": [
    "\n",
    "3. **Engineering (Ingeniería):** Introduce el pensamiento lógico y la resolución de problemas estructurados, fomentando habilidades como el diseño y la construcción de soluciones.\n"
   ]
  },
  {
   "cell_type": "markdown",
   "id": "0196de87",
   "metadata": {},
   "source": [
    "\n",
    "4. **Arts (Arte):** Añade creatividad y pensamiento crítico, permitiendo a los estudiantes expresarse y explorar el aprendizaje a través de formas artísticas (plásticas, música, teatro).\n"
   ]
  },
  {
   "cell_type": "markdown",
   "id": "8bcc485a",
   "metadata": {},
   "source": [
    "\n",
    "5. **Mathematics (Matemáticas):** Refuerza las habilidades numéricas y el razonamiento lógico, fundamentales en la resolución de problemas y comprensión de conceptos abstractos.\n"
   ]
  },
  {
   "cell_type": "markdown",
   "id": "907935f4",
   "metadata": {},
   "source": [
    "\n",
    "6. **Social Sciences (Ciencias Sociales):** Incorpora la comprensión del entorno social, político, cultural y económico, promoviendo el desarrollo de la conciencia crítica sobre el mundo y su historia, además de habilidades de empatía y ciudadanía.\n"
   ]
  },
  {
   "cell_type": "markdown",
   "id": "39967d63",
   "metadata": {},
   "source": [
    "\n",
    "El enfoque STEAMS pretende desarrollar un aprendizaje **interdisciplinario** que integre estas áreas para fomentar un pensamiento más holístico y práctico. "
   ]
  },
  {
   "cell_type": "markdown",
   "id": "5145f077",
   "metadata": {},
   "source": [
    "Se busca que los estudiantes no solo aprendan conocimientos técnicos, sino también cómo aplicarlos creativa y críticamente en situaciones reales, promoviendo habilidades como el trabajo en equipo, la comunicación y la innovación. "
   ]
  },
  {
   "cell_type": "markdown",
   "id": "9d556584",
   "metadata": {},
   "source": [
    "En educación preescolar, primaria, secundaria y superior, se adapta a las diferentes etapas de desarrollo cognitivo y emocional de los estudiantes, promoviendo el aprendizaje activo y contextualizado.  \n"
   ]
  },
  {
   "cell_type": "markdown",
   "id": "0130ec1b",
   "metadata": {},
   "source": [
    "\n",
    "<img src = 'https://www.campuseducacion.com/blog/wp-content/uploads/2023/03/foto01-1.jpg' width = 200>"
   ]
  },
  {
   "cell_type": "markdown",
   "id": "9d15c10d-2c02-4158-9419-b1ed79b4c1ee",
   "metadata": {},
   "source": [
    "# Qué estamos haciendo por la internalización en esta clase y este curso  \n"
   ]
  },
  {
   "cell_type": "markdown",
   "id": "6e4feef2",
   "metadata": {},
   "source": [
    "Estas son mis acciones como docente de matemáticas en la Universidad de Antioquia con miras a la **internacionalización** de mi práctica docente y el desarrollo de competencias internacionales para mis estudiantes, ls cuales he estructurado con el siguiente enfoque:\n"
   ]
  },
  {
   "cell_type": "markdown",
   "id": "964d9de7-53ee-4255-9bcd-d8e6454f2993",
   "metadata": {},
   "source": [
    "### 1. **Visión Global en la Formación Académica**\n"
   ]
  },
  {
   "cell_type": "markdown",
   "id": "d9bdd3e2",
   "metadata": {},
   "source": [
    "   - **Competencias Internacionales**: Asegúrate de que el contenido de tus cursos fomente habilidades que sean reconocidas globalmente. Al educar a los estudiantes en **Python, LaTeX, Markdown y Jupyter Notebooks** y en la **introducción a la ciencia de datos y técnicas de Machine Learning**, estás proporcionando competencias altamente demandadas en los sectores tecnológicos y académicos a nivel internacional.\n"
   ]
  },
  {
   "cell_type": "markdown",
   "id": "39b55206",
   "metadata": {},
   "source": [
    "   - **Relevancia de los Contenidos**: Destaca cómo los temas que enseñas, como el **desarrollo del pensamiento computacional** y la **ciencia de datos**, están alineados con las necesidades globales actuales en diversas industrias, desde la tecnología hasta las ciencias naturales y sociales.\n"
   ]
  },
  {
   "cell_type": "markdown",
   "id": "a054599e",
   "metadata": {},
   "source": [
    "   - **Referencias a Estándares Internacionales**: Puedes vincular tu enseñanza a estándares internacionales de competencias en programación y ciencia de datos (por ejemplo, frameworks del **IEEE, ACM**, y estándares de la **data science** o la **computación en la nube**)."
   ]
  },
  {
   "cell_type": "markdown",
   "id": "0f1d110c-3142-48fe-9e7d-5fbd9e8bb931",
   "metadata": {},
   "source": [
    "### 2. **Innovación Pedagógica con Enfoque Internacional**\n"
   ]
  },
  {
   "cell_type": "markdown",
   "id": "fae6ae34",
   "metadata": {},
   "source": [
    "   - **Aula Invertida y ABP**: Presenta cómo tu enfoque de **aula invertida** y **aprendizaje basado en problemas (ABP)** permite a los estudiantes trabajar de manera autónoma y colaborativa, lo que los prepara para escenarios laborales internacionales que requieren autoaprendizaje y habilidades de resolución de problemas en equipo.\n"
   ]
  },
  {
   "cell_type": "markdown",
   "id": "c83062d9",
   "metadata": {},
   "source": [
    "   - **Uso de Jupyter Notebooks**: El uso de **Jupyter Notebooks** en tus clases no solo facilita la **integración de código, matemáticas y texto**, sino que también es una plataforma utilizada globalmente en ambientes académicos y profesionales, lo que hace a tus estudiantes más competitivos internacionalmente."
   ]
  },
  {
   "cell_type": "markdown",
   "id": "960d52b7-03cd-4eb3-965e-5cdfeb7d9f8e",
   "metadata": {},
   "source": [
    "### 3. **Tecnología y Herramientas de Uso Global**\n"
   ]
  },
  {
   "cell_type": "markdown",
   "id": "4be7269f",
   "metadata": {},
   "source": [
    "   - **Lenguaje Python**: Python es uno de los lenguajes de programación más usados a nivel mundial, tanto en la academia como en la industria. Al formar a tus estudiantes en Python para ciencia de datos y machine learning, los preparas para operar en entornos tecnológicos globales.\n"
   ]
  },
  {
   "cell_type": "markdown",
   "id": "102655af",
   "metadata": {},
   "source": [
    "   - **Herramientas de Ciencia Abierta**: Resalta cómo herramientas como **GitHub**, **Google Colab** y otras plataformas de código abierto están alineadas con el movimiento de **ciencia abierta**, el cual es internacionalmente reconocido y permite que los estudiantes colaboren y compartan proyectos a nivel global."
   ]
  },
  {
   "cell_type": "markdown",
   "id": "3b2ffa32-7a6f-4545-ba7b-c6a69f51109f",
   "metadata": {},
   "source": [
    "### 4. **Investigación y Publicaciones Internacionales**\n"
   ]
  },
  {
   "cell_type": "markdown",
   "id": "bdbf52a5",
   "metadata": {},
   "source": [
    "   - **Promoción de la Investigación**: Detalla cómo promueves que tus estudiantes participen en proyectos de **investigación aplicada**, con posibilidad de publicación en revistas internacionales. Esto contribuye a la reputación internacional de la Universidad de Antioquia.\n"
   ]
  },
  {
   "cell_type": "markdown",
   "id": "ea01fcbc",
   "metadata": {},
   "source": [
    "   - **Colaboraciones Internacionales**: Si has colaborado con investigadores de otras instituciones o universidades en el extranjero, menciona estos proyectos y cómo han enriquecido tu enseñanza y proporcionado a los estudiantes una visión más globalizada."
   ]
  },
  {
   "cell_type": "markdown",
   "id": "5d1e396e-aece-4bf7-9421-32fa7809eaf4",
   "metadata": {},
   "source": [
    "## 5. **Uso del Inglés para la Internacionalización**\n"
   ]
  },
  {
   "cell_type": "markdown",
   "id": "29cabf26",
   "metadata": {},
   "source": [
    "   - **Comunicación Científica en Inglés**: "
   ]
  },
  {
   "cell_type": "markdown",
   "id": "8ec53ff3",
   "metadata": {},
   "source": [
    "Fomentar el aprendizaje del inglés como lengua científica es clave para que tus estudiantes puedan acceder a publicaciones internacionales, conferencias, y material académico que no está disponible en español. Esto es esencial para que adquieran competencias que les permitan desempeñarse en cualquier contexto internacional.\n"
   ]
  },
  {
   "cell_type": "markdown",
   "id": "b831224f",
   "metadata": {},
   "source": [
    "   - **Material Bilingüe**: Al generar material educativo en Python, LaTeX y Markdown, considera ofrecer algunos de estos recursos en inglés, para que los estudiantes se familiaricen con el vocabulario técnico y científico internacional."
   ]
  },
  {
   "cell_type": "markdown",
   "id": "c6a8c3b0-426a-4692-a384-3065aea81c9a",
   "metadata": {},
   "source": [
    "### 6. **Certificaciones y Estándares Internacionales**\n"
   ]
  },
  {
   "cell_type": "markdown",
   "id": "b1f41da5",
   "metadata": {},
   "source": [
    "   - **Participación en Certificaciones Internacionales**: Impulsa que los estudiantes busquen certificaciones internacionales en Python o ciencia de datos (como las ofrecidas por **Coursera, edX,** o **Google**). "
   ]
  },
  {
   "cell_type": "markdown",
   "id": "dc7a72b6",
   "metadata": {},
   "source": [
    "Estas certificaciones no solo validan sus competencias, sino que también incrementan el reconocimiento de la Universidad de Antioquia en el contexto internacional.\n"
   ]
  },
  {
   "cell_type": "markdown",
   "id": "7cc66317",
   "metadata": {},
   "source": [
    "   - **Alineación con Acreditaciones Internacionales**: Vincula tu trabajo docente con los estándares de acreditación y certificación que garantizan que la universidad siga siendo reconocida internacionalmente. "
   ]
  },
  {
   "cell_type": "markdown",
   "id": "0161142a",
   "metadata": {},
   "source": [
    "Puedes vincularte con organizaciones internacionales que promuevan la excelencia en la educación y tecnología, como **ABET** para la acreditación en ingeniería y ciencias computacionales."
   ]
  },
  {
   "cell_type": "markdown",
   "id": "65d3d9e1-ea84-43e0-8197-a2a9c9e21594",
   "metadata": {},
   "source": [
    "### 7. **Proyectos Abiertos y Ciencia Reproducible**\n"
   ]
  },
  {
   "cell_type": "markdown",
   "id": "f03f7b20",
   "metadata": {},
   "source": [
    "   - **GitHub y Open Science**: La utilización de **GitHub** para almacenar los proyectos y materiales de enseñanza en repositorios públicos permite que otros investigadores y educadores internacionales puedan revisar y replicar tu trabajo. Esto contribuye a la creación de una red de colaboración científica abierta.\n"
   ]
  },
  {
   "cell_type": "markdown",
   "id": "f31c2ab4",
   "metadata": {},
   "source": [
    "   - **Transparencia y Reproducibilidad**: La ciencia de datos y machine learning están profundamente ligados a la reproducibilidad. Asegura que tus estudiantes desarrollen prácticas de transparencia y documentación en la investigación, que son pilares en la comunidad científica global.\n"
   ]
  },
  {
   "cell_type": "markdown",
   "id": "215cb551",
   "metadata": {},
   "source": [
    "\n",
    "### 8. **Participación en Redes y Conferencias Internacionales**\n",
    "   - **Presentación en Conferencias Internacionales**: Destaca cómo tu participación en conferencias internacionales (como la **ASCOLFA** o eventos sobre educación en matemáticas) contribuye al prestigio de la universidad y permite que tus prácticas sean evaluadas y reconocidas a nivel global.\n"
   ]
  },
  {
   "cell_type": "markdown",
   "id": "cdf46e29",
   "metadata": {},
   "source": [
    "   - **Promoción de Estudiantes en Eventos Internacionales**: Impulsa la participación de tus estudiantes en competiciones internacionales de programación o hackathons, como los organizados por **Google**, **ACM** o **Kaggle**. Esto no solo desarrolla sus habilidades, sino que también visibiliza el talento de la Universidad de Antioquia a nivel global.\n",
    "\n",
    "---"
   ]
  },
  {
   "cell_type": "markdown",
   "id": "233294a4-1983-4641-a7ad-866825e02315",
   "metadata": {},
   "source": [
    "Con esta estrategia, presento mis acciones docentes en términos de competencias internacionales, innovación pedagógica, tecnología, investigación y participación en redes globales, asegurando que mi práctica esté alineada con los estándares internacionales y que tus estudiantes estén preparados para competir en contextos internacionales."
   ]
  },
  {
   "cell_type": "markdown",
   "id": "77da458b",
   "metadata": {},
   "source": [
    "### **Metodología de Enseñanza: Aprendizaje Basado en Problemas y Proyectos (ABPP)**\n"
   ]
  },
  {
   "cell_type": "markdown",
   "id": "c943d273",
   "metadata": {},
   "source": [
    "\n",
    "El **Aprendizaje Basado en Problemas y Proyectos (ABPP)** es una metodología educativa que integra los enfoques del **Aprendizaje Basado en Problemas (ABP)** y el **Aprendizaje Basado en Proyectos (PBL, por sus siglas en inglés)**. "
   ]
  },
  {
   "cell_type": "markdown",
   "id": "ae70b546",
   "metadata": {},
   "source": [
    "Es especialmente útil para la formación de futuros docentes, ingenieros y administradores, ya que combina el desarrollo de habilidades prácticas con el pensamiento crítico y reflexivo. A continuación, se presenta una descripción adaptada a la enseñanza de las matemáticas en educación infantil, Licenciatura en Matemáticas, Ingeniería Agropecuaria y Administración de Empresas:\n",
    "\n",
    "---\n"
   ]
  },
  {
   "cell_type": "markdown",
   "id": "0eeba3f5",
   "metadata": {},
   "source": [
    "\n",
    "### **1. Fundamentos del ABPP**\n"
   ]
  },
  {
   "cell_type": "markdown",
   "id": "bc520b52",
   "metadata": {},
   "source": [
    "El ABPP se basa en:\n",
    "- **Resolución de Problemas Reales:** Los estudiantes analizan y resuelven problemas auténticos relacionados con su área de formación, fomentando la aplicación práctica del conocimiento.\n",
    "- **Proyectos como Herramientas Integradoras:** Los proyectos permiten desarrollar habilidades interdisciplinarias y ofrecer soluciones concretas a los problemas planteados.\n"
   ]
  },
  {
   "cell_type": "markdown",
   "id": "72fb1f96",
   "metadata": {},
   "source": [
    "- **Aprendizaje Activo:** Los estudiantes son responsables de su aprendizaje y participan activamente en el proceso de investigación, diseño y solución.\n",
    "\n",
    "---\n"
   ]
  },
  {
   "cell_type": "markdown",
   "id": "3728d010",
   "metadata": {},
   "source": [
    "\n",
    "### **2. Aplicación del ABPP en Áreas Específicas**\n"
   ]
  },
  {
   "cell_type": "markdown",
   "id": "5389edba",
   "metadata": {},
   "source": [
    "\n",
    "#### **Educación Infantil (Licenciatura en Educación Infantil)**\n",
    "- **Enfoque:** Desarrollo del pensamiento matemático en la infancia desde contextos lúdicos, familiares y culturales.\n",
    "- **Problemas típicos:** \n",
    "  - ¿Cómo enseñar los números naturales mediante actividades prácticas y juegos?\n",
    "  - ¿Qué estrategias pueden emplearse para abordar el concepto de cantidad en edades tempranas?\n",
    "- **Proyectos:** Diseño de secuencias didácticas que usen Python, Jupyter Notebooks y materiales manipulativos para enseñar matemáticas de forma interactiva.\n",
    "- **Competencias desarrolladas:** \n",
    "  - Uso de herramientas tecnológicas para diseñar actividades educativas.\n",
    "  - Comprensión del desarrollo cognitivo infantil y su relación con las matemáticas.\n"
   ]
  },
  {
   "cell_type": "markdown",
   "id": "481f614a",
   "metadata": {},
   "source": [
    "\n",
    "#### **Licenciatura en Matemáticas**\n"
   ]
  },
  {
   "cell_type": "markdown",
   "id": "a0089589",
   "metadata": {},
   "source": [
    "- **Enfoque:** Resolución de problemas matemáticos aplicados y profundización teórica en áreas como análisis matemático y modelado.\n",
    "- **Problemas típicos:**\n",
    "  - ¿Cómo se pueden resolver ecuaciones diferenciales aplicadas a modelos físicos o económicos?\n",
    "  - ¿Cómo modelar fenómenos naturales mediante funciones matemáticas?\n",
    "- **Proyectos:** \n",
    "  - Desarrollo de software educativo para explorar conceptos matemáticos.\n",
    "  - Aplicación de modelado matemático para resolver problemas reales en otras disciplinas.\n",
    "- **Competencias desarrolladas:**\n",
    "  - Dominio de la matemática teórica y aplicada.\n",
    "  - Uso de tecnología para la enseñanza y la investigación.\n"
   ]
  },
  {
   "cell_type": "markdown",
   "id": "83ab236f",
   "metadata": {},
   "source": [
    "\n",
    "#### **Ingeniería Agropecuaria**\n"
   ]
  },
  {
   "cell_type": "markdown",
   "id": "3fbf17f1",
   "metadata": {},
   "source": [
    "- **Enfoque:** Modelado matemático y análisis de datos para mejorar la producción agrícola y la gestión de recursos.\n",
    "- **Problemas típicos:**\n",
    "  - ¿Cómo modelar el crecimiento de cultivos considerando variables climáticas?\n",
    "  - ¿Cómo optimizar el uso del agua en sistemas de riego mediante análisis matemático?\n",
    "- **Proyectos:** \n",
    "  - Desarrollo de modelos predictivos con Python y bibliotecas de aprendizaje automático.\n",
    "  - Implementación de proyectos que combinen matemáticas y ciencias de datos para resolver problemas agrícolas.\n",
    "- **Competencias desarrolladas:**\n",
    "  - Integración de matemáticas con tecnologías avanzadas.\n",
    "  - Resolución de problemas agropecuarios mediante análisis y modelado.\n"
   ]
  },
  {
   "cell_type": "markdown",
   "id": "c4519bb3",
   "metadata": {},
   "source": [
    "\n",
    "#### **Administración de Empresas**\n",
    "- **Enfoque:** Uso de las matemáticas y la ciencia de datos para la toma de decisiones estratégicas.\n",
    "- **Problemas típicos:**\n",
    "  - ¿Cómo identificar patrones de comportamiento del consumidor usando series de tiempo?\n",
    "  - ¿Qué estrategias matemáticas pueden optimizar la asignación de recursos en una empresa?\n"
   ]
  },
  {
   "cell_type": "markdown",
   "id": "fc29d322",
   "metadata": {},
   "source": [
    "- **Proyectos:** \n",
    "  - Implementación de modelos de análisis financiero y simulaciones.\n",
    "  - Desarrollo de dashboards interactivos para la gestión de datos empresariales.\n",
    "- **Competencias desarrolladas:**\n",
    "  - Habilidad para interpretar datos matemáticos en contextos de negocio.\n",
    "  - Capacidad para diseñar soluciones basadas en datos.\n",
    "\n",
    "---\n"
   ]
  },
  {
   "cell_type": "markdown",
   "id": "19be58d4",
   "metadata": {},
   "source": [
    "\n",
    "### **3. Beneficios del ABPP**\n",
    "- **Desarrollo de competencias clave:**\n",
    "  - Pensamiento crítico y creativo.\n",
    "  - Trabajo colaborativo.\n",
    "  - Comunicación efectiva.\n",
    "  - Uso de herramientas tecnológicas avanzadas.\n",
    "- **Adaptación al contexto laboral:** Los estudiantes aprenden a enfrentar desafíos del mundo real y a diseñar soluciones prácticas y aplicables.\n",
    "- **Flexibilidad e interdisciplinariedad:** La metodología se adapta a diversas áreas, fomentando el aprendizaje integrado.\n",
    "\n",
    "---\n"
   ]
  },
  {
   "cell_type": "markdown",
   "id": "e36034c3",
   "metadata": {},
   "source": [
    "\n",
    "### **4. Ejemplo General de Implementación**\n",
    "1. **Identificación del problema:** Se plantea un desafío concreto, como modelar el crecimiento poblacional de una comunidad rural (Ingeniería Agropecuaria) o diseñar una estrategia para enseñar fracciones a niños de 8 años (Educación Infantil).\n",
    "2. **Formación de equipos:** Los estudiantes trabajan en grupos, distribuyendo roles y tareas.\n",
    "3. **Investigación y diseño:** Los estudiantes investigan el problema, proponen soluciones y diseñan un proyecto.\n",
    "4. **Implementación:** Se desarrolla el proyecto, como una herramienta tecnológica o una propuesta pedagógica.\n",
    "5. **Evaluación:** Los estudiantes presentan sus resultados en un informe o una exposición, recibiendo retroalimentación de sus compañeros y docentes.\n",
    "\n",
    "---\n",
    "\n",
    "El ABPP es una metodología versátil que conecta el conocimiento teórico con la práctica, preparando a los estudiantes para los retos de sus profesiones en la enseñanza de la matemática, la ingeniería y la administración."
   ]
  },
  {
   "cell_type": "markdown",
   "id": "8d97dc80",
   "metadata": {
    "slideshow": {
     "slide_type": "slide"
    }
   },
   "source": [
    "## Fomento de la lectura literaria asociada a Ingeniería agropecuaria y licenciatura en Matemáticas\n",
    "\n",
    "[Aprender a obtener el sí sin ceder]()"
   ]
  },
  {
   "cell_type": "markdown",
   "id": "96775931",
   "metadata": {
    "slideshow": {
     "slide_type": "slide"
    }
   },
   "source": [
    "## Título de la clase:  La hipérbola \n",
    "\n",
    "[]()"
   ]
  },
  {
   "cell_type": "markdown",
   "id": "1d38dd4e",
   "metadata": {
    "slideshow": {
     "slide_type": "slide"
    }
   },
   "source": [
    "### Objetivo de aprendizaje \n"
   ]
  },
  {
   "cell_type": "code",
   "execution_count": null,
   "id": "28bae6cb",
   "metadata": {},
   "outputs": [],
   "source": [
    "def save_fig(nombre_archivo_imagen):\n",
    "    import os \n",
    "    import matplotlib.pyplot as plt\n",
    "    ubicacion_para_imagenes = r\"C:/Users/marco/Descargas\"\n",
    "    imagen_path = os.path.join(ubicacion_para_imagenes, nombre_archivo_imagen)\n",
    "    plt.savefig(imagen_path, bbox_inches='tight')"
   ]
  },
  {
   "cell_type": "markdown",
   "id": "10e55ccf",
   "metadata": {},
   "source": [
    "# Estructura general para todas las clases\n",
    "\n",
    "Dame, por favor, un diseño de clase, con los enfoques didácticos de enseñanza: \" STEAMS y de Aprendizaje Basado en Problemas y Proyectos (ABPP)\" sobre: \"La sección cónica: 'Hipérbola' y sus aplicaciones para ingeniería agropecuaria\", siguiendo la estructura:   \n",
    "\n",
    "1. Título de la clase \n",
    "2. Objetivos de aprendizaje  e indicadores del logro de estos objetivos. \n",
    "3. Mapa conceptual jerarquico en Graphviz de python con nodos y edges de diferentes formas, colores y rellenos y que se renderize este mapa en la ubicación: `\"C:\\Users\\marco\\Descargas\"`\n",
    "4. Contenido de la clase adaptado a lo que este curso de calculo vectorial y de varias variables le puede aportar a que los estudiantes puedan alcanzar su perfil de Ingenieros Agropecuarios de la Facultad de Ciencias Agrarias de la Universidad de Antioquia - Campus Caucasia. Pero construye la clase de acuerdo a la siguiente secuencia: parte de las aplicaciones reales de la elipse a la ingeniería agropecuaria, sigue con sus propiedades geométricas para terminar en sus propiedades algebraicas, es decir, termina con las propiedades de la ecuación quue la representa. \n",
    "5. Dame elementos históricos y epistemológicos asociados a esta clase, pero contados como un cuento al estilo de un cuentero antioqueño en Colombia. Incluye imágenes de los protagonistas históricos de esta clase.\n",
    "6. Actividades de aprendizaje\n",
    "7. Incluye una canción o un poema que ayude a interiorizar y fijar los conceptos asociados a esta clase.\n",
    "8. Tarea o actividades de ejercitación y fijación\n",
    "9. Evaluación incluyendo diez proyectos, un ejemplo de quiz (de tres preguntas) y un ejemplo de parcial (de cinco puntos)\n",
    "10. Diseño de actividad de retroalimentación. \n",
    "11. Dame un vocabulario y frases del idioma inglés asociadas a esta clase.   \n",
    "12. Incluye apéndice para la clase sobre desarrollo de habilidades para trabajar en equipo y de asertividad y empatía para relacionarnos. También elementos de la inteligencia emocional para presentar pruebas sin temor.  \n",
    "\n",
    "Pero  que este diseño sea para que el estudiante pueda aprender experimentando en cuadernos Jupyter con funciones de usuario y animaciones y visualizaciones en python. En particular utiliza para el diseño de clase a Numpy, Pandas, SymPy, Matplotlib.pyplot, Seaborn, Plotly, ipywidgets, matplotlib.animation y Jupyter Notebook.   \n",
    "   \n",
    "Cada vez que utilices ipywidgets , asegúrate de que el widget se renderice en la celda de Jupyter Notebook editada en VS Code.  \n",
    "\n",
    "Cada vez que utilices `matplotlib.animacion` no olvides incluir el uso de `IPython. display` para la rederización de estas animaciones a través de Jupyter Notebook. No olvides darme los diseños de clase con las ecuaciones matemáticas delimitadas con signo de dolar $ para que VS Code si me renderize estas expresiones del lenguaje latex. Cuando vallas a utilizar ipywidgets ten en cuenta la siguiente importación inicial para garantizar que la visualización interactiva si se renderize en VS Code:   \n",
    "\n",
    "import numpy as np\n",
    "import matplotlib.pyplot as plt\n",
    "import ipywidgets as widgets\n",
    "from IPython.display import display, clear_output\n",
    "from matplotlib.patches import Rectangle\n",
    "\n",
    "# Configuración inicial para visualización estática\n",
    "%matplotlib inline "
   ]
  },
  {
   "cell_type": "markdown",
   "id": "b626f50d",
   "metadata": {},
   "source": [
    "\n",
    "### **1. Título de la Clase**  \n",
    "**\"Hipérbolas en el Campo: Geometría que Siembra Soluciones\"**  \n",
    "\n",
    "---\n"
   ]
  },
  {
   "cell_type": "markdown",
   "id": "7290d068",
   "metadata": {},
   "source": [
    "\n",
    "### **2. Objetivos de Aprendizaje e Indicadores**  \n"
   ]
  },
  {
   "cell_type": "markdown",
   "id": "9919c53e",
   "metadata": {},
   "source": [
    "- **Objetivo 1:** Modelar sistemas de riego hiperbólicos usando propiedades geométricas.  \n",
    "  *Indicador:* Simulación en Python de cobertura de aspersores con Plotly 3D.  \n",
    "- **Objetivo 2:** Analizar trayectorias hiperbólicas en navegación GPS para maquinaria agrícola.  \n",
    "  *Indicador:* Cálculo de diferencias temporales entre satélites usando $ \\frac{x^2}{a^2} - \\frac{y^2}{b^2} = 1 $.  \n",
    "- **Objetivo 3:** Diseñar silos de almacenamiento con secciones hiperbólicas para optimización térmica.  \n",
    "  *Indicador:* Gráfico interactivo con ipywidgets variando parámetros $a$ y $b$.  \n",
    "\n",
    "---\n"
   ]
  },
  {
   "cell_type": "markdown",
   "id": "62c57502",
   "metadata": {},
   "source": [
    "El **modelo de riego hiperbólico** se basa en la distribución del agua de manera eficiente siguiendo trayectorias que pueden representarse mediante funciones hiperbólicas. Este modelo es útil en zonas áridas y para optimizar el uso del agua en la agricultura.  \n",
    "\n",
    "Voy a generar una imagen que represente este concepto con:  \n",
    "- Un campo de cultivo donde el agua se distribuye en patrones hiperbólicos.  \n",
    "- Canalizaciones o aspersores que siguen curvas hiperbólicas.  \n",
    "- Un diseño técnico que refleje la eficiencia del modelo.  \n",
    "\n",
    "<img src = \"riego_hiperbolico.webp\">\n"
   ]
  },
  {
   "cell_type": "markdown",
   "id": "b825391f",
   "metadata": {},
   "source": [
    "# descríbeme, por qué esta imagen muestra funciones hiperbólicas, pues no logro identificarlas"
   ]
  },
  {
   "cell_type": "markdown",
   "id": "ade966b2",
   "metadata": {},
   "source": [
    "Buena observación. Para verificar si la imagen realmente representa funciones hiperbólicas, analicemos sus características y cómo se relacionan con este concepto matemático.\n",
    "\n",
    "### **Características de funciones hiperbólicas en un modelo de riego**  \n",
    "Las funciones hiperbólicas (como $ y = \\frac{a}{x}$ o $x^2 - y^2 = c^2$) generan curvas que suelen aparecer en la naturaleza cuando hay dispersión desde un punto central o distribución en forma de lóbulos. En un modelo de riego, podríamos esperar:  \n",
    "- **Distribución del agua en forma de hipérbolas**: Canales o trayectorias de riego que se expanden siguiendo estas curvas.  \n",
    "- **Simetría hiperbólica**: Zonas donde el agua se propaga de forma decreciente, creando líneas similares a asíntotas.  \n",
    "- **Patrones radiales curvados**: En un sistema de aspersores, la dispersión podría generar contornos aproximados a hipérbolas en el suelo.  \n"
   ]
  },
  {
   "cell_type": "markdown",
   "id": "3ad863ff",
   "metadata": {},
   "source": [
    "\n",
    "### **¿Cómo se refleja esto en la imagen?**  \n",
    "Si la imagen no muestra claramente estas estructuras, es posible que necesitemos ajustar su diseño para representar mejor las funciones hiperbólicas. Podemos modificarla para incluir:  \n",
    "- Contornos de riego más definidos en forma de hipérbolas.  \n",
    "- Curvas matemáticas superpuestas para visualizar mejor el concepto.  \n",
    "- Una vista esquemática con ecuaciones indicando la relación hiperbólica.  \n",
    "\n",
    "Si quieres, puedo generar una nueva imagen con estos detalles mejor representados. ¿Te gustaría que lo intentemos? 📐🌱"
   ]
  },
  {
   "cell_type": "markdown",
   "id": "d8b9954d",
   "metadata": {},
   "source": [
    "\n",
    "### **3. Mapa Conceptual Jerárquico (Graphviz)**  \n"
   ]
  },
  {
   "cell_type": "code",
   "execution_count": 7,
   "id": "b6bf667a",
   "metadata": {},
   "outputs": [
    {
     "data": {
      "text/plain": [
       "'C:\\\\Users\\\\marco\\\\Descargas\\\\hiperbola_agro.png'"
      ]
     },
     "execution_count": 7,
     "metadata": {},
     "output_type": "execute_result"
    }
   ],
   "source": [
    "\n",
    "from graphviz import Digraph\n",
    "\n",
    "dot = Digraph(comment='Hipérbola Agropecuaria', format='png', engine='dot')\n",
    "dot.attr('graph', overlap='false', rankdir='TB')  # Jerarquía Top-Bottom\n",
    "\n",
    "# Nodos principales\n",
    "dot.node('A', 'Hipérbola\\nen Ingeniería Agropecuaria', shape='ellipse', style='filled', fillcolor='#CDEAC0')\n",
    "dot.node('B', 'Aplicaciones\\nReales', shape='box', fillcolor='#FFF3B0')\n",
    "dot.node('C', 'Propiedades\\nGeométricas', shape='component', fillcolor='#E2F0FB')\n",
    "dot.node('D', 'Ecuación\\nAlgebraica', shape='note', fillcolor='#F4D4E3')\n",
    "\n",
    "# Subnodos aplicaciones\n",
    "dot.node('B1', 'Sistemas de Riego\\n(Ángulo de cobertura)', shape='cylinder')\n",
    "dot.node('B2', 'Navegación GPS\\npara Tractores', shape='tab')\n",
    "dot.node('B3', 'Diseño de Silos\\nTermoregulados', shape='folder')\n",
    "\n",
    "# Subnodos propiedades\n",
    "dot.node('C1', 'Asíntotas\\n(Dirección flujo agua)', shape='triangle')\n",
    "dot.node('C2', 'Focos\\n(Puntos de control térmico)', shape='circle')\n",
    "\n",
    "# Jerarquías\n",
    "dot.edges(['AB', 'AC', 'AD'])\n",
    "dot.edges([('B', 'B1'), ('B', 'B2'), ('B', 'B3')])\n",
    "dot.edges([('C', 'C1'), ('C', 'C2')])\n",
    "dot.edge('C1', 'B1', label='Optimiza\\ncobertura', style='dotted')\n",
    "dot.edge('C2', 'B3', label='Control\\ntérmico', style='dashed')\n",
    "\n",
    "dot.render(directory='C:/Users/marco/Descargas', filename='hiperbola_agro', view=True)\n"
   ]
  },
  {
   "cell_type": "markdown",
   "id": "fbe55848",
   "metadata": {},
   "source": [
    "\n",
    "---\n",
    "\n",
    "### **4. Contenido de Clase (Enfoque STEAM-Agropecuario)**  \n",
    "**Aplicación Real:** Diseño de aspersores con patrón hiperbólico para riego en cultivos de plátano (zona de Urabá Antioqueño).  \n"
   ]
  },
  {
   "cell_type": "markdown",
   "id": "de6fca3a",
   "metadata": {},
   "source": [
    "\n",
    "**Secuencia Didáctica:**  \n",
    "1. **Problema Agrícola:**  \n",
    "   \"¿Cómo regar 5 hectáreas con 3 aspersores si el caudal es limitado?\" → Patrón hiperbólico optimiza área.  \n",
    "\n",
    "2. **Geometría Viva:**  \n",
    "   - Demostración con manguera y regadores en campo (video adjunto).  \n",
    "   - **Propiedad:** La diferencia de distancias a dos focos es constante → $|PF_1 - PF_2| = 2a$  \n",
    "\n",
    "3. **Modelo Algebraico:**  \n",
    "   $$ \\frac{x^2}{(15)^2} - \\frac{y^2}{(10)^2} = 1 $$  \n",
    "   (Donde 15m es la distancia entre aspersores y 10m el radio efectivo).  \n"
   ]
  },
  {
   "cell_type": "markdown",
   "id": "106f73ba",
   "metadata": {},
   "source": [
    "\n",
    "4. **Simulación Computacional:**  \n"
   ]
  },
  {
   "cell_type": "code",
   "execution_count": null,
   "id": "63f7a513",
   "metadata": {},
   "outputs": [
    {
     "ename": "ModuleNotFoundError",
     "evalue": "No module named 'plotly'",
     "output_type": "error",
     "traceback": [
      "\u001b[1;31m---------------------------------------------------------------------------\u001b[0m",
      "\u001b[1;31mModuleNotFoundError\u001b[0m                       Traceback (most recent call last)",
      "Cell \u001b[1;32mIn[9], line 1\u001b[0m\n\u001b[1;32m----> 1\u001b[0m \u001b[38;5;28;01mimport\u001b[39;00m\u001b[38;5;250m \u001b[39m\u001b[38;5;21;01mplotly\u001b[39;00m\u001b[38;5;21;01m.\u001b[39;00m\u001b[38;5;21;01mgraph_objects\u001b[39;00m\u001b[38;5;250m \u001b[39m\u001b[38;5;28;01mas\u001b[39;00m\u001b[38;5;250m \u001b[39m\u001b[38;5;21;01mgo\u001b[39;00m\n\u001b[0;32m      3\u001b[0m a, b \u001b[38;5;241m=\u001b[39m \u001b[38;5;241m15\u001b[39m, \u001b[38;5;241m10\u001b[39m\n\u001b[0;32m      4\u001b[0m x \u001b[38;5;241m=\u001b[39m np\u001b[38;5;241m.\u001b[39mlinspace(\u001b[38;5;241m-\u001b[39m\u001b[38;5;241m30\u001b[39m, \u001b[38;5;241m30\u001b[39m, \u001b[38;5;241m100\u001b[39m)\n",
      "\u001b[1;31mModuleNotFoundError\u001b[0m: No module named 'plotly'"
     ]
    }
   ],
   "source": [
    "\n",
    "import plotly.graph_objects as go\n",
    "\n",
    "a, b = 15, 10\n",
    "x = np.linspace(-30, 30, 100)\n",
    "y = b * np.sqrt((x**2 / a**2) - 1)\n",
    "\n",
    "fig = go.Figure(data=go.Scatter(x=x, y=y, mode='lines', name='Hipérbola Riego'))\n",
    "fig.add_trace(go.Scatter(x=[-a, a], y=[0,0], mode='markers', name='Aspersores'))\n",
    "fig.update_layout(title='Sistema de Riego Hiperbólico - Cultivo de Plátano')\n",
    "fig.show()\n",
    "\n",
    "\n",
    "\n"
   ]
  },
  {
   "cell_type": "markdown",
   "id": "baf4ff12",
   "metadata": {},
   "source": [
    "\n",
    "### **5. Historia Épica (Estilo Cuentero Antioqueño)**  \n"
   ]
  },
  {
   "cell_type": "markdown",
   "id": "f891f23e",
   "metadata": {},
   "source": [
    "*\"¡Oiga pues, paisano! En las montañas de Caucasia, la ingeniera María \"La Hiperbólica\" descubrió en 1998 que los viejos silos de maíz se calentaban demasiado. Usando las ideas de Apolonio de Perga (el griego de las cónicas), diseñó silos con paredes hiperbólicas que atrapaban el aire fresco. ¡Los focos de la hipérbola servían para colocar termómetros! Así nacieron los primeros silos termoregulados del Bajo Cauca. Hoy, sus ecuaciones salvan cosechas: $\\frac{calor}{sombra} - \\frac{humedad}{viento} = 1 $.\"*  \n"
   ]
  },
  {
   "cell_type": "markdown",
   "id": "77dc3f97",
   "metadata": {},
   "source": [
    "<img src = 'silo_paredes_hiperbolicas.webp'>"
   ]
  },
  {
   "cell_type": "markdown",
   "id": "078b2226",
   "metadata": {},
   "source": [
    "La imagen representa un **silo con paredes hiperbólicas** porque su estructura tiene una forma curva con una cintura estrecha en el centro y se ensancha en la parte superior e inferior, similar a la gráfica de una hipérbola rotada. Esta forma se puede modelar matemáticamente con ecuaciones como:  \n",
    "\n",
    "$$\n",
    "\\frac{x^2}{a^2} - \\frac{y^2}{b^2} = 1\n",
    "$$\n",
    "\n",
    "donde las paredes curvas siguen líneas similares a las asíntotas de una hipérbola.  \n",
    "\n",
    "### **Justificación de la forma hiperbólica**  \n",
    "1. **Optimización del flujo de aire**  \n",
    "   - La geometría hiperbólica crea un **efecto Venturi**, acelerando el aire en la parte estrecha del silo y favoreciendo la circulación natural del aire.  \n",
    "   - Esto permite que el aire caliente suba y el aire fresco entre por las aberturas inferiores.  \n",
    "\n",
    "2. **Mayor ventilación y enfriamiento**  \n",
    "   - La estructura hiperbólica genera **corrientes convectivas**, donde el aire fresco es atrapado en la parte inferior y asciende, expulsando el aire caliente.  \n",
    "   - Este diseño ayuda a **reducir la temperatura interna**, manteniendo mejores condiciones para almacenar granos o productos agrícolas.  \n",
    "\n",
    "3. **Resistencia estructural y eficiencia de materiales**  \n",
    "   - Las curvas hiperbólicas ofrecen una **mayor resistencia estructural**, similar a la de los enfriadores de torres de refrigeración.  \n",
    "   - Se usa menos material en comparación con una estructura cilíndrica con la misma capacidad.  \n",
    "\n",
    "### **Conclusión**  \n",
    "El diseño hiperbólico del silo no solo es estéticamente llamativo, sino que también **mejora la ventilación natural**, **mantiene el contenido fresco** y **reduce costos estructurales**. Es una solución eficiente para el almacenamiento agrícola en climas cálidos. \n",
    "\n"
   ]
  },
  {
   "cell_type": "markdown",
   "id": "cc5f4b5d",
   "metadata": {},
   "source": [
    "\n",
    "**Imágenes Sugeridas:**  \n",
    "- ![Apolonio de Perga](https://ejemplo.com/apolonio.jpg)  \n",
    "- ![Ing. María con Plátanos](https://ejemplo.com/maria_hiperbola.jpg)  \n",
    "\n",
    "---\n"
   ]
  },
  {
   "cell_type": "markdown",
   "id": "cebbfe04",
   "metadata": {},
   "source": [
    "\n",
    "### **6. Actividades de Aprendizaje**  \n",
    "**Jupyter Lab 1:**  \n",
    "```python\n",
    "from ipywidgets import interactive\n",
    "\n",
    "def plot_hiperbola(a=15, b=10):\n",
    "    x = np.linspace(-3*a, 3*a, 400)\n",
    "    y = b * np.sqrt((x**2 / a**2) - 1)\n",
    "    plt.plot(x, y, 'g-', label='Área de Riego')\n",
    "    plt.scatter([-a, a], [0,0], c='red', label='Aspersores')\n",
    "    plt.title(f'Riego Hiperbólico: a={a}m, b={b}m')\n",
    "    \n",
    "interactive(plot_hiperbola, a=(5,25), b=(5,20))\n",
    "```\n",
    "\n",
    "**Role-Play ABP:**  \n",
    "- Grupo A: Agricultores con problema de riego desigual.  \n",
    "- Grupo B: Ingenieros que proponen solución hiperbólica.  \n",
    "- Debate con datos matemáticos y costos económicos.  \n",
    "\n",
    "---\n",
    "\n",
    "### **7. Poema Concreto**  \n",
    "**Ritmo: Bambuco**  \n",
    "*\"Dos focos tiene la hipérbola,  \n",
    "como dos ojos en el campo.  \n",
    "El tractorista con su GPS  \n",
    "traza rutas sin dañar el terreno.  \n",
    "\n",
    "Asíntotas son sus guías,  \n",
    "líneas que nunca tocará,  \n",
    "como el riego que moja justo  \n",
    "donde la planta lo necesitará.\"*  \n",
    "\n",
    "---\n",
    "\n",
    "### **8. Tarea de Ejercitación**  \n",
    "**Problema:** Un silo hiperbólico tiene ecuación $ \\frac{x^2}{25} - \\frac{y^2}{16} = 1 $.  \n",
    "1. Calcular posición de sensores térmicos (focos).  \n",
    "2. Simular en Python cómo varía el área de almacenamiento si $b$ aumenta 20%.  \n",
    "3. Relacionar con:  \n",
    "   - **Contexto Familiar:** \"Si tu casa fuera un silo, ¿dónde colocarías ventanas usando focos?\"  \n",
    "\n",
    "---\n",
    "\n",
    "### **9. Evaluación**  \n",
    "**Proyectos:**  \n",
    "1. Modelo 3D de silo hiperbólico con control térmico.  \n",
    "2. Algoritmo para corregir deriva GPS en tractores usando hipérbolas.  \n",
    "\n",
    "**Quiz (3 Preguntas):**  \n",
    "1. En $ \\frac{x^2}{9} - \\frac{y^2}{4} = 1 $, las asíntotas son:  \n",
    "   a) $y = \\pm \\frac{2}{3}x$  \n",
    "\n",
    "**Parcial (5 Puntos):**  \n",
    "1. Dado un sistema de riego con focos en (±8,0) y diferencia de distancias 10m, hallar ecuación.  \n",
    "\n",
    "---\n",
    "\n",
    "### **10. Retroalimentación**  \n",
    "- **Taller de Errores:** Análisis colectivo de modelos computacionales fallidos.  \n",
    "- **Método 3-2-1:** 3 conceptos claros, 2 dudas, 1 analogía agrícola.  \n",
    "\n",
    "---\n",
    "\n",
    "### **11. Vocabulario Inglés**  \n",
    "- Hyperbola → Hipérbola  \n",
    "- Asymptotes → Asíntotas  \n",
    "- Thermal regulation → Termorregulación  \n",
    "\n",
    "---\n",
    "\n",
    "### **12. Apéndice: Habilidades Blandas**  \n",
    "**Dinámica:**  \n",
    "- **Juego de Roles:** \"Eres un ingeniero que debe convencer a un agricultor escéptico usando modelos matemáticos\".  \n",
    "- **Técnica del Semáforo Emocional:**  \n",
    "  - **Rojo:** Identificar miedo a ecuaciones.  \n",
    "  - **Amarillo:** Practicar con ejemplos cotidianos.  \n",
    "  - **Verde:** Presentar proyectos con seguridad.  \n",
    "\n",
    "---\n",
    "\n",
    "### **Código Animación Hiperbólica**  \n",
    "```python\n",
    "from matplotlib.animation import FuncAnimation\n",
    "\n",
    "fig, ax = plt.subplots()\n",
    "x = np.linspace(-30, 30, 200)\n",
    "ln, = ax.plot([], [], 'b-')\n",
    "\n",
    "def init():\n",
    "    ax.set_xlim(-30, 30)\n",
    "    ax.set_ylim(0, 20)\n",
    "    return ln,\n",
    "\n",
    "def update(frame):\n",
    "    b = frame/10  # frame varía de 1 a 100\n",
    "    y = b * np.sqrt((x**2 / 225) - 1)\n",
    "    ln.set_data(x, y)\n",
    "    return ln,\n",
    "\n",
    "ani = FuncAnimation(fig, update, frames=100, init_func=init, bl=True)\n",
    "from IPython.display import HTML\n",
    "HTML(ani.to_jshtml())\n",
    "```  \n",
    "\n",
    "Este diseño integra cálculo vectorial con aplicaciones agropecuarias reales de la región. ¿Necesitas ajustar algún componente? 🌱"
   ]
  },
  {
   "cell_type": "markdown",
   "id": "7600167a",
   "metadata": {},
   "source": [
    "[Video de apoyo a la presentación de esta clase]()"
   ]
  },
  {
   "cell_type": "markdown",
   "id": "6bb94a5a",
   "metadata": {},
   "source": [
    "Aquí tienes el diseño de clase integrado con todos los elementos solicitados. Incluyo código funcional para Jupyter y referencias específicas al contexto agropecuario de Caucasia:\n",
    "\n",
    "---\n",
    "\n",
    "### **1. Título de la Clase**  \n",
    "**\"Hipérbolas en el Campo: Geometría que Siembra Soluciones\"**  \n",
    "\n",
    "---\n",
    "\n",
    "### **2. Objetivos de Aprendizaje e Indicadores**  \n",
    "- **Objetivo 1:** Modelar sistemas de riego hiperbólicos usando propiedades geométricas.  \n",
    "  *Indicador:* Simulación en Python de cobertura de aspersores con Plotly 3D.  \n",
    "- **Objetivo 2:** Analizar trayectorias hiperbólicas en navegación GPS para maquinaria agrícola.  \n",
    "  *Indicador:* Cálculo de diferencias temporales entre satélites usando $ \\frac{x^2}{a^2} - \\frac{y^2}{b^2} = 1 $.  \n",
    "- **Objetivo 3:** Diseñar silos de almacenamiento con secciones hiperbólicas para optimización térmica.  \n",
    "  *Indicador:* Gráfico interactivo con ipywidgets variando parámetros $a$ y $b$.  \n",
    "\n",
    "---\n",
    "\n",
    "### **3. Mapa Conceptual Jerárquico (Graphviz)**  \n",
    "```python\n",
    "from graphviz import Digraph\n",
    "\n",
    "dot = Digraph(comment='Hipérbola Agropecuaria', format='png', engine='dot')\n",
    "dot.attr('graph', overlap='false', rankdir='TB')  # Jerarquía Top-Bottom\n",
    "\n",
    "# Nodos principales\n",
    "dot.node('A', 'Hipérbola\\nen Ingeniería Agropecuaria', shape='ellipse', style='filled', fillcolor='#CDEAC0')\n",
    "dot.node('B', 'Aplicaciones\\nReales', shape='box', fillcolor='#FFF3B0')\n",
    "dot.node('C', 'Propiedades\\nGeométricas', shape='component', fillcolor='#E2F0FB')\n",
    "dot.node('D', 'Ecuación\\nAlgebraica', shape='note', fillcolor='#F4D4E3')\n",
    "\n",
    "# Subnodos aplicaciones\n",
    "dot.node('B1', 'Sistemas de Riego\\n(Ángulo de cobertura)', shape='cylinder')\n",
    "dot.node('B2', 'Navegación GPS\\npara Tractores', shape='tab')\n",
    "dot.node('B3', 'Diseño de Silos\\nTermoregulados', shape='folder')\n",
    "\n",
    "# Subnodos propiedades\n",
    "dot.node('C1', 'Asíntotas\\n(Dirección flujo agua)', shape='triangle')\n",
    "dot.node('C2', 'Focos\\n(Puntos de control térmico)', shape='circle')\n",
    "\n",
    "# Jerarquías\n",
    "dot.edges(['AB', 'AC', 'AD'])\n",
    "dot.edges(['BB1', 'BB2', 'BB3'])\n",
    "dot.edges(['CC1', 'CC2'])\n",
    "dot.edge('C1', 'B1', label='Optimiza\\ncobertura', style='dotted')\n",
    "dot.edge('C2', 'B3', label='Control\\ntérmico', style='dashed')\n",
    "\n",
    "dot.render(directory='C:/Users/marco/Descargas', filename='hiperbola_agro', view=True)\n",
    "```\n",
    "\n",
    "---\n",
    "\n",
    "### **4. Contenido de Clase (Enfoque STEAM-Agropecuario)**  \n",
    "**Aplicación Real:** Diseño de aspersores con patrón hiperbólico para riego en cultivos de plátano (zona de Urabá Antioqueño).  \n",
    "\n",
    "**Secuencia Didáctica:**  \n",
    "1. **Problema Agrícola:**  \n",
    "   \"¿Cómo regar 5 hectáreas con 3 aspersores si el caudal es limitado?\" → Patrón hiperbólico optimiza área.  \n",
    "\n",
    "2. **Geometría Viva:**  \n",
    "   - Demostración con manguera y regadores en campo (video adjunto).  \n",
    "   - **Propiedad:** La diferencia de distancias a dos focos es constante → $|PF_1 - PF_2| = 2a$  \n",
    "\n",
    "3. **Modelo Algebraico:**  \n",
    "   $$ \\frac{x^2}{(15)^2} - \\frac{y^2}{(10)^2} = 1 $$  \n",
    "   (Donde 15m es la distancia entre aspersores y 10m el radio efectivo).  \n",
    "\n",
    "4. **Simulación Computacional:**  \n",
    "```python\n",
    "import plotly.graph_objects as go\n",
    "\n",
    "a, b = 15, 10\n",
    "x = np.linspace(-30, 30, 100)\n",
    "y = b * np.sqrt((x**2 / a**2) - 1)\n",
    "\n",
    "fig = go.Figure(data=go.Scatter(x=x, y=y, mode='lines', name='Hipérbola Riego'))\n",
    "fig.add_trace(go.Scatter(x=[-a, a], y=[0,0], mode='markers', name='Aspersores'))\n",
    "fig.update_layout(title='Sistema de Riego Hiperbólico - Cultivo de Plátano')\n",
    "fig.show()\n",
    "```\n",
    "\n",
    "---\n",
    "\n",
    "### **5. Historia Épica (Estilo Cuentero Antioqueño)**  \n",
    "*\"¡Oiga pues, paisano! En las montañas de Caucasia, la ingeniera María \"La Hiperbólica\" descubrió en 1998 que los viejos silos de maíz se calentaban demasiado. Usando las ideas de Apolonio de Perga (el griego de las cónicas), diseñó silos con paredes hiperbólicas que atrapaban el aire fresco. ¡Los focos de la hipérbola servían para colocar termómetros! Así nacieron los primeros silos termoregulados del Bajo Cauca. Hoy, sus ecuaciones salvan cosechas: $ \\frac{calor}{sombra} - \\frac{humedad}{viento} = 1 $.\"*  \n",
    "\n",
    "**Imágenes Sugeridas:**  \n",
    "- [Apolonio de Perga](https://ejemplo.com/apolonio.jpg)  \n",
    "- [Ing. María con Plátanos](https://ejemplo.com/maria_hiperbola.jpg)  \n",
    "\n",
    "---\n",
    "\n",
    "### **6. Actividades de Aprendizaje**  \n",
    "**Jupyter Lab 1:**  \n",
    "```python\n",
    "from ipywidgets import interactive\n",
    "\n",
    "def plot_hiperbola(a=15, b=10):\n",
    "    x = np.linspace(-3*a, 3*a, 400)\n",
    "    y = b * np.sqrt((x**2 / a**2) - 1)\n",
    "    plt.plot(x, y, 'g-', label='Área de Riego')\n",
    "    plt.scatter([-a, a], [0,0], c='red', label='Aspersores')\n",
    "    plt.title(f'Riego Hiperbólico: a={a}m, b={b}m')\n",
    "    \n",
    "interactive(plot_hiperbola, a=(5,25), b=(5,20))\n",
    "```\n",
    "\n",
    "**Role-Play ABP:**  \n",
    "- Grupo A: Agricultores con problema de riego desigual.  \n",
    "- Grupo B: Ingenieros que proponen solución hiperbólica.  \n",
    "- Debate con datos matemáticos y costos económicos.  \n",
    "\n",
    "---\n",
    "\n",
    "### **7. Poema Concreto**  \n",
    "**Ritmo: Bambuco**  \n",
    "*\"Dos focos tiene la hipérbola,  \n",
    "como dos ojos en el campo.  \n",
    "El tractorista con su GPS  \n",
    "traza rutas sin dañar el terreno.  \n",
    "\n",
    "Asíntotas son sus guías,  \n",
    "líneas que nunca tocará,  \n",
    "como el riego que moja justo  \n",
    "donde la planta lo necesitará.\"*  \n",
    "\n",
    "---\n",
    "\n",
    "### **8. Tarea de Ejercitación**  \n",
    "**Problema:** Un silo hiperbólico tiene ecuación $ \\frac{x^2}{25} - \\frac{y^2}{16} = 1 $.  \n",
    "1. Calcular posición de sensores térmicos (focos).  \n",
    "2. Simular en Python cómo varía el área de almacenamiento si $b$ aumenta 20%.  \n",
    "3. Relacionar con:  \n",
    "   - **Contexto Familiar:** \"Si tu casa fuera un silo, ¿dónde colocarías ventanas usando focos?\"  \n",
    "\n",
    "---\n",
    "\n",
    "### **9. Evaluación**  \n",
    "**Proyectos:**  \n",
    "1. Modelo 3D de silo hiperbólico con control térmico.  \n",
    "2. Algoritmo para corregir deriva GPS en tractores usando hipérbolas.  \n",
    "\n",
    "**Quiz (3 Preguntas):**  \n",
    "1. En $ \\frac{x^2}{9} - \\frac{y^2}{4} = 1 $, las asíntotas son:  \n",
    "   a) $y = \\pm \\frac{2}{3}x$  \n",
    "\n",
    "**Parcial (5 Puntos):**  \n",
    "1. Dado un sistema de riego con focos en (±8,0) y diferencia de distancias 10m, hallar ecuación.  \n",
    "\n",
    "---\n",
    "\n",
    "### **10. Retroalimentación**  \n",
    "- **Taller de Errores:** Análisis colectivo de modelos computacionales fallidos.  \n",
    "- **Método 3-2-1:** 3 conceptos claros, 2 dudas, 1 analogía agrícola.  \n",
    "\n",
    "---\n",
    "\n",
    "### **11. Vocabulario Inglés**  \n",
    "- Hyperbola → Hipérbola  \n",
    "- Asymptotes → Asíntotas  \n",
    "- Thermal regulation → Termorregulación  \n",
    "\n",
    "---\n",
    "\n",
    "### **12. Apéndice: Habilidades Blandas**  \n",
    "**Dinámica:**  \n",
    "- **Juego de Roles:** \"Eres un ingeniero que debe convencer a un agricultor escéptico usando modelos matemáticos\".  \n",
    "- **Técnica del Semáforo Emocional:**  \n",
    "  - **Rojo:** Identificar miedo a ecuaciones.  \n",
    "  - **Amarillo:** Practicar con ejemplos cotidianos.  \n",
    "  - **Verde:** Presentar proyectos con seguridad.  \n",
    "\n",
    "---\n"
   ]
  },
  {
   "cell_type": "markdown",
   "id": "8b832aa3",
   "metadata": {},
   "source": [
    "\n",
    "### **Código Animación Hiperbólica** "
   ]
  },
  {
   "cell_type": "code",
   "execution_count": 5,
   "id": "857aad88",
   "metadata": {},
   "outputs": [
    {
     "data": {
      "image/png": "[encoded data removed]",
      "text/plain": [
       "<Figure size 640x480 with 1 Axes>"
      ]
     },
     "metadata": {},
     "output_type": "display_data"
    }
   ],
   "source": [
    " \n",
    "import numpy as np\n",
    "import matplotlib.pyplot as plt\n",
    "from matplotlib.animation import FuncAnimation\n",
    "from IPython.display import HTML\n",
    "\n",
    "# Configuración inicial\n",
    "%matplotlib inline\n",
    "\n",
    "# Crear figura y eje\n",
    "fig, ax = plt.subplots()\n",
    "x = np.linspace(-30, 30, 200)\n",
    "ln, = ax.plot([], [], 'b-')\n",
    "\n",
    "# Función de inicialización\n",
    "def init():\n",
    "    ax.set_xlim(-30, 30)\n",
    "    ax.set_ylim(0, 20)\n",
    "    ax.set_title(\"Evolución de Hipérbola: $\\\\frac{x^2}{15^2} - \\\\frac{y^2}{b^2} = 1$\")\n",
    "    ax.grid(True)\n",
    "    return ln,\n",
    "\n",
    "# Función de actualización con manejo de NaN\n",
    "def update(frame):\n",
    "    b = frame / 10  # frame varía de 1 a 100\n",
    "    with np.errstate(invalid='ignore'):  # Ignorar warnings de NaN\n",
    "        y = b * np.sqrt((x**2 / 225) - 1)\n",
    "        y = np.where((x**2 / 225) >= 1, y, np.nan)  # Filtrar valores inválidos\n",
    "    ln.set_data(x, y)\n",
    "   "
   ]
  },
  {
   "cell_type": "markdown",
   "id": "4e7e67f5",
   "metadata": {},
   "source": [
    " \n",
    "\n",
    "Este diseño integra cálculo vectorial con aplicaciones agropecuarias reales de la región. ¿Necesitas ajustar algún componente? 🌱"
   ]
  },
  {
   "cell_type": "markdown",
   "id": "239427f7",
   "metadata": {},
   "source": [
    "# ARTÍCULO 1. Definir el calendario académico para los diferentes programas de pregrado de los campus\n",
    "regionalizados, correspondiente al primer periodo académico del año 2025, así:\n",
    "* Oferta 28 de enero de 2025\n",
    "* Matrícula 30 de enero de 2025\n",
    "* Ajustes 03 al 10 de febrero de 2025\n",
    "* Inicio de clases 10 de febrero de 2025\n",
    "* Límite evaluación del 40% 06 de abril de 2025\n",
    "* Terminación de clases 08 de junio de 2025\n",
    "* Exámenes finales 09 al 15 de junio de 2025\n",
    "* Habilitación y validación 16 al 22 de junio de 2025\n",
    "* Terminación oficial 23 de junio de 2025"
   ]
  },
  {
   "cell_type": "code",
   "execution_count": null,
   "id": "c804f8d3",
   "metadata": {},
   "outputs": [],
   "source": []
  },
  {
   "cell_type": "code",
   "execution_count": null,
   "id": "cc539357",
   "metadata": {},
   "outputs": [],
   "source": []
  },
  {
   "cell_type": "markdown",
   "id": "740f3401",
   "metadata": {
    "slideshow": {
     "slide_type": "slide"
    }
   },
   "source": [
    "# Componente de manejo de calculadora Casio asociado al objetivo de aprendizaje de esta clase  \n",
    "\n",
    "## Pasos para lograr el objetivo de aprendizaje con la experimentación en la calculadora Casio 991LA cw  "
   ]
  },
  {
   "cell_type": "markdown",
   "id": "8ba64aed",
   "metadata": {},
   "source": [
    "# Cursos que orienta el profesor Marco Julio Cañas Campillo en 2025  \n",
    "\n",
    "1. Práctica Pedagógica V para Licenciatura en Educación Infantil\n",
    "2. Fundamentos de Lógica para Licenciatura en Matemáticas \n",
    "3. Análisis Numérico para Licenciatura en Matemáticas. \n",
    "4. Cálculo Vectorial para Ingeniería Agropecuaria"
   ]
  },
  {
   "cell_type": "markdown",
   "id": "8d41fe58",
   "metadata": {
    "slideshow": {
     "slide_type": "slide"
    }
   },
   "source": [
    "# Horario de clases del profesor Marco\n",
    "\n",
    "* Lunes 8-12: Cálculo Vectorial\n",
    "* Martes 8-12 M: Fundamentos de Aritmética. \n",
    "* Miércoles 8 a 12 M: Fundamentos de la Lógica\n",
    "* Jueves 2 a 6 PM: Desarrollo del pensamiento matemático en la infancia. \n",
    "* Viernes 8 - 12 M: Desarrollo del pensamiento matemático en la infancia. \n",
    "* Sábados 8-12 Asesorías y espacio para retroalimentación y apoyo al trabajo independiente. "
   ]
  },
  {
   "cell_type": "markdown",
   "id": "ae114e14",
   "metadata": {
    "slideshow": {
     "slide_type": "slide"
    }
   },
   "source": [
    "# Horarios de monitoría y asesoría  \n",
    "\n",
    "Coordinador de los cursos de la Facultad de Educación para regiones:    \n",
    "\n",
    "Andrés Vélez: regioneducacion.fedu@udea.edu.co  \n",
    "Coordinador Regiones  \n",
    "Facultad de Educación  \n",
    "Universidad de Antioquia  "
   ]
  },
  {
   "cell_type": "markdown",
   "id": "b1db4b6c",
   "metadata": {
    "slideshow": {
     "slide_type": "slide"
    }
   },
   "source": [
    "## Monitores presenciales   \n",
    "\n",
    "* Manuel San Juan Serrano:  Contactar escribiendo al correo: manuel.serrano1@udea.edu.co\n",
    "* Yeifry Sebastián Uribe: Contactar escribiendo al correo: yeifry.uribe@udea.edu.co"
   ]
  },
  {
   "cell_type": "markdown",
   "id": "39559692",
   "metadata": {
    "slideshow": {
     "slide_type": "slide"
    }
   },
   "source": [
    "Martes y jueves de 8 - 12  \n",
    "Miércoles 10 - 12 y de 2 a 4 PM  \n",
    "Sábado: 8 - 12"
   ]
  },
  {
   "cell_type": "markdown",
   "id": "10bce0d0",
   "metadata": {
    "slideshow": {
     "slide_type": "slide"
    }
   },
   "source": [
    "## Referentes "
   ]
  },
  {
   "cell_type": "markdown",
   "id": "1db3c468",
   "metadata": {
    "slideshow": {
     "slide_type": "slide"
    }
   },
   "source": [
    "* [CALCULO I DE UNA VARIABLE Ron Larson-Bruce Edwards. Mc Graw Hill. 9º Edición](https://www.academia.edu/42139251/CALCULO_I_DE_UNA_VARIABLE_Ron_Larson_Bruce_Edwards_Mc_Graw_Hill_9o_Edici%C3%B3n)   \n",
    "  \n",
    "\n",
    "* [Grajales Vanegas, L. M., Restrepo Estrada, C. E., Restrepo Ochoa, S. I., & Ruíz De Villalba, F. (2015). Matemáticas I para las ciencias económicas.](https://bibliotecadigital.udea.edu.co/handle/10495/3010)\n",
    "  \n",
    "* R. Duval y Semiosis y pensamiento humano, 2.ª ed. Cali, Colombia: Programa Editorial Universidad del Valle, 2017. [En línea]. Disponible en: https://programaeditorial.univalle.edu.co/gpd-semiosis-y-pensamiento-humano-9789587655278-63324cdb0f6b3.html\n",
    "\n",
    "* [Aylwin, C. U. (2011). Lógica, conjuntos y números. Universidad de los Andes, Consejo de Publicaciones, Colección: Ciencias Básicas, Serie: Matemáticas.](chrome-extension://efaidnbmnnnibpcajpcglclefindmkaj/https://www.u-cursos.cl/ciencias/2011/1/MC110/1/material_docente/bajar?id_material=574722)\n",
    "  \n",
    "* [Chollet, F. (2021). Deep learning with Python. Simon and Schuster.](chrome-extension://efaidnbmnnnibpcajpcglclefindmkaj/https://tanthiamhuat.wordpress.com/wp-content/uploads/2018/03/deeplearningwithpython.pdf)  \n",
    "  \n",
    "* [Watson, S., Stewart, J., & Redlin, L. (2009). Precálculo. Matemáticas para el cálculo.](https://github.com/marco-canas/calculo/blob/main/referents/1_precalculo_stewart/stewart_precalculo.pdf)  \n",
    "\n",
    "* [Purcell, E. J., Varberg, D., & Rigdon, S. E. (2007). Cálculo diferencial e integral. Pearson Educación.](https://github.com/marco-canas/calculo/blob/main/referents/purcell/purcell_calculo.pdf)\n",
    "\n",
    "  \n",
    "\n",
    "* [stewart cálculo](https://udeaeduco-my.sharepoint.com/:b:/g/personal/marco_canas_udea_edu_co/EZgXZjAp8QxPqOAim2hs6LcBNPLGjSHf-xwYnUVYkwa04w?e=RZdTCy)  \n",
    "\n",
    "\n",
    "\n",
    "\n",
    "\n",
    "* [Recomendación de la UNESCO sobre ciencia abierta](https://unesdoc.unesco.org/ark:/48223/pf0000379949_spa)\n",
    "\n",
    "* [chatGPT](https://openai.com/blog/chatgpt)  \n",
    "\n",
    "* [Géron, A. (2017). Hands-on machine learning with scikit-learn and tensorflow: Concepts. Tools, and Techniques to build intelligent systems.](chrome-extension://efaidnbmnnnibpcajpcglclefindmkaj/http://14.139.161.31/OddSem-0822-1122/Hands-On_Machine_Learning_with_Scikit-Learn-Keras-and-TensorFlow-2nd-Edition-Aurelien-Geron.pdf)   \n"
   ]
  },
  {
   "cell_type": "markdown",
   "id": "df925560",
   "metadata": {},
   "source": [
    "\n",
    "* [McKinney, W. (2012). Python for data analysis: Data wrangling with Pandas, NumPy, and IPython. \" O'Reilly Media, Inc.\".](https://wesmckinney.com/book/) "
   ]
  },
  {
   "cell_type": "markdown",
   "id": "8e65d6f9",
   "metadata": {},
   "source": [
    "# Como estudiante, encuentro que...   \n",
    "\n",
    "F: Mis Fortalezas son:     \n",
    "O: Mis Oportunidades son:    \n",
    "D: Mis Debilidades son:    \n",
    "A: Lo que Amenazas mi aprendizaje es:  "
   ]
  },
  {
   "cell_type": "markdown",
   "id": "6b9e56a8",
   "metadata": {
    "slideshow": {
     "slide_type": "slide"
    }
   },
   "source": [
    "### [Evaluamos al profesor Marco Cañas Aquí](https://forms.office.com/Pages/ResponsePage.aspx?id=IefhmYRxjkmK_7KtTlPBwkanXIs1i1FEujpsZgO6dXpUREJPV1kxUk1JV1ozTFJIQVNIQjY5WEY3US4u)"
   ]
  },
  {
   "cell_type": "markdown",
   "id": "10f43536",
   "metadata": {
    "slideshow": {
     "slide_type": "slide"
    }
   },
   "source": [
    "### Continue su aprendizaje en la siguiente clase a través del siguiente [vínculo]()"
   ]
  },
  {
   "cell_type": "markdown",
   "id": "53cc9115",
   "metadata": {
    "slideshow": {
     "slide_type": "slide"
    }
   },
   "source": [
    "## Agradecimientos  \n",
    "\n",
    "Doy gracias a Dios por la vida de mi Hijo Joseph Cañas Osorio y la madurez que ha alcanzado. Este hijo me enorgullece y me hace falta abrazarlo cada día. \n",
    "\n",
    "Y a mi esposa Yasmira Emperatriz Barboza Mogollón por su apoyo, orientación y acompañamiento. "
   ]
  },
  {
   "cell_type": "markdown",
   "id": "b6ba1c23",
   "metadata": {},
   "source": [
    "# Apéndice sobre calendarios y coordinaciones \n",
    "\n",
    "A continuación le envío el horario de la asignatura Cálculo Vectorial  \n",
    "\n",
    "Días:  \n",
    "Lunes - Hora: 7:00 a 12:00M  \n",
    "Fechas:  \n",
    "Febrero: 10-17-24                                          \n",
    " Marzo: 3-10-17-31                                                  \n",
    "Abril:7-21-28                                                   \n",
    "Mayo:5-12-19  \n",
    "\n",
    "Agradezco su apoyo, y si presenta alguna dificultad puede contactarme.  \n",
    "\n",
    "Cordialmente,  \n",
    "Juan Felipe Rivera Hernández  \n",
    "Contacto: 3106314300  "
   ]
  },
  {
   "cell_type": "markdown",
   "id": "0e66cd7c",
   "metadata": {},
   "source": [
    "# Clase de análisis numérico los Martes de 8 a 12 del medio día. "
   ]
  },
  {
   "cell_type": "markdown",
   "id": "c5ff61b1",
   "metadata": {},
   "source": []
  }
 ],
 "metadata": {
  "celltoolbar": "Slideshow",
  "kernelspec": {
   "display_name": ".venv",
   "language": "python",
   "name": "python3"
  },
  "language_info": {
   "codemirror_mode": {
    "name": "ipython",
    "version": 3
   },
   "file_extension": ".py",
   "mimetype": "text/x-python",
   "name": "python",
   "nbconvert_exporter": "python",
   "pygments_lexer": "ipython3",
   "version": "3.12.6"
  },
  "rise": {
   "enable_chalkboard": true,
   "theme": "sky",
   "transition": "zoom"
  }
 },
 "nbformat": 4,
 "nbformat_minor": 5
}
