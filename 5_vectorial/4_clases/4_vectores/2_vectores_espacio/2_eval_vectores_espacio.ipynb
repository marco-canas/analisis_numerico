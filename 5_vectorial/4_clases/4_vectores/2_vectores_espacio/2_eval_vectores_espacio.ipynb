{
 "cells": [
  {
   "cell_type": "markdown",
   "id": "dc06dec7",
   "metadata": {
    "slideshow": {
     "slide_type": "slide"
    }
   },
   "source": [
    "<table align=\"left\">\n",
    "  <td>\n",
    "    <a href=\"https://colab.research.google.com/github/marco-canas/didactica_ciencia_datos/blob/main/1_curso_machine_learning/1_evaluacion_oral_tarea_quiz_parcial.ipynb\" target=\"_parent\"><img src=\"https://colab.research.google.com/assets/colab-badge.svg\" alt=\"Open In Colab\"/></a>\n",
    "  </td>\n",
    "  <td>\n",
    "    <a target=\"_blank\" href=\"https://kaggle.com/kernels/welcome?src=https://github.com/marco-canas/didactica_ciencia_datos/blob/main/1_curso_machine_learning/1_evaluacion_oral_tarea_quiz_parcial.ipynb\"><img src=\"https://kaggle.com/static/images/open-in-kaggle.svg\" /></a>\n",
    "  </td>\n",
    "</table>"
   ]
  },
  {
   "cell_type": "markdown",
   "id": "e0c5b198",
   "metadata": {
    "slideshow": {
     "slide_type": "slide"
    }
   },
   "source": [
    "### [Video de apoyo a la lectura interactiva y experimental de este cuaderno]()"
   ]
  },
  {
   "cell_type": "markdown",
   "id": "41e82203",
   "metadata": {
    "slideshow": {
     "slide_type": "slide"
    }
   },
   "source": [
    "## [Vínculo al programa del curso:  ]()"
   ]
  },
  {
   "cell_type": "markdown",
   "id": "ca46c23b",
   "metadata": {
    "slideshow": {
     "slide_type": "slide"
    }
   },
   "source": [
    "# Modelo general de clase: [aula invertida](https://www3.gobiernodecanarias.org/medusa/ecoescuela/pedagotic/aprendizaje-invertido-flipped-classroom/)\n"
   ]
  },
  {
   "cell_type": "markdown",
   "id": "7f9be90f",
   "metadata": {
    "slideshow": {
     "slide_type": "slide"
    }
   },
   "source": [
    "# Fomento de la lectura literaria asociada a Ingeniería agropecuaria y licenciatura en Matemáticas y administración de empresas\n",
    "\n",
    "[Hábitos atómicos](https://github.com/marco-canas/habitos_atomicos/blob/main/13_como_dejar_de_postergar_usando_la_regla_de_los_dos_minutos/1_13_como_dejar_de_postergar_usando_la_regla_de_los_dos_minutos.ipynb)"
   ]
  },
  {
   "cell_type": "markdown",
   "id": "96775931",
   "metadata": {
    "slideshow": {
     "slide_type": "slide"
    }
   },
   "source": [
    "# Título de la clase: Realización evaluación oral, de Tareas en cuadernos Jupyter, Quiz o Parcial de selección múltiple o de preguntas cerradas.  \n",
    "\n"
   ]
  },
  {
   "cell_type": "markdown",
   "id": "1d38dd4e",
   "metadata": {
    "slideshow": {
     "slide_type": "slide"
    }
   },
   "source": [
    "### Objetivo de aprendizaje (Enunciar, de manera corta sencilla y clara para todos los asistentes)\n",
    "\n",
    "* [Hipervínculo para el cuaderno de enseñanza]()\n",
    "1. Evaluar las tareas realizadas de manera manúscrita\n",
    "2. Evaluar las tareas realizadas en los cuadernos Jupyter. (Solo realizar la tercera parte de las tareas asignadas de manera manuscrita)\n",
    "3. Evaluar con un quiz escrito\n",
    "4. Evaluar con un parcial escrito.\n",
    "5. Evaluar la capacidad de describir un problema y su solución de manera oral. "
   ]
  },
  {
   "cell_type": "markdown",
   "id": "cf101603",
   "metadata": {},
   "source": [
    "# Prompt para pedir el diseño de evaluación de acuerdo a la metodología de \"Enseñanza basada en proyectos\"  \n",
    "\n",
    "Dame, por favor, un diseño de clase, con los enfoques didácticos de enseñanza: \" STEAMS y de Aprendizaje Basado en Problemas y Proyectos (ABPP)\" sobre: **\"Vectores en el espacio tridimensional y su aplicación a las ciencias agrarias en el Bajo Cauca Antioqueño.\"**, siguiendo la estructura:   \n",
    "\n",
    "1. Título de la clase   \n",
    "   \n",
    "2. Objetivos de aprendizaje  e indicadores del logro de estos objetivos.   \n",
    "   \n",
    "3. Un mapa conceptual que resuma la clase elaborado en Graphviz de python con nodos y edges de diferentes formas, colores y rellenos y renderizado en la siguiente ubicación:  \n",
    "    `\"C:/Users/marco/Descargas\"`.  \n",
    "   No olvides el parámetro `view = True` para el método `render()` de Graphviz. Para este mapa controla las superposiciones de los nodos con:  \n",
    "   graph [overlap=false]; // Elimina superposiciones  (puede aumentar el espacio)  \n",
    "   graph [overlap=\"scalexy\"]; // Escala el gráfico para evitar overlaps  \n",
    "   graph [overlap=\"compress\"]; // Comprime el grafo sin overlaps   \n",
    "   \n",
    "4. Contenido de la clase adaptado a lo que este curso de calculo vectorial y de varias variables le puede aportar a que los estudiantes puedan alcanzar su perfil de   \n",
    "   Ingenieros Agropecuarios de la Facultad de Ciencias Agrarias  de la Universidad de Antioquia - Campus Caucasia. Estructura el contenido para estudiar \"Los Vectores en el Espacio\" siguiendo la secuencia: Problemas prácticas en el Agro Caucasiano donde el concepto de vector tridimensional puede ser aplicable $\\to$ Definición y propiedades geométricas de los vectores 3D $\\to$  Definición y propiedades algebraicas de los vectores 3D $\\to$ Soluciones a problemas reales del Agro en Caucasia - Antioquia utilizando vectores 3D.  \n",
    "   \n",
    "5. Dame elementos históricos y epistemológicos asociados a esta clase, pero contados como un cuento al estilo de un cuentero antioqueño en Colombia. Incluye imágenes de los protagonistas históricos de esta clase.   \n",
    "   \n",
    "6. Actividades de aprendizaje.    \n",
    "     - Diseña una actividad de aprendizaje a través del uso de la Calculadora Casio 991 LA cw  \n",
    "     - Diseña una actividad de aprendizaje a través del uso de GeoGebra.\n",
    "     - Diseña una actividad de aprendizaje a través del uso de Python y Jupyter Notebook.  \n",
    "7. Incluye una canción o un poema que ayude a interiorizar y fijar los conceptos asociados a esta clase.   \n",
    "   \n",
    "   \n",
    "8. Tarea o actividades de ejercitación y fijación  \n",
    " \n",
    "9.  Evaluación incluyendo diez proyectos, un ejemplo de quiz (de tres preguntas) y un ejemplo de parcial (de cinco puntos). Diseña la clase un proyectos como:  \n",
    "      1. Modelo 3D de silo hiperbólico con control térmico.  \n",
    "      2. Algoritmo para corregir deriva GPS en tractores usando hipérbolas. \n",
    "      3. Sistema de riego hiperbólico con GeoGebra o con Python.  \n",
    "      4. Estructuras agrarias hiperbólicas para optimizar el uso de la energía solar.\n",
    "      5. Aplicación de la hipérbola en la navegación de drones para monitoreo agrícola.\n",
    "      6. Hivernaderos hiperbólicos para cultivos de alto valor.\n",
    "      7. Proyecto sobre **La silvicultura** (el manejo científico de bosques para producción sostenible de madera, biodiversidad y servicios ecosistémicos). \n",
    "      8. Proyecto de ciencia de datos con python o R para el servicio y desarrollo agrario. \n",
    "\n",
    "   \n",
    "10. Diseño de actividad de retroalimentación.    \n",
    "     \n",
    "11. Dame un vocabulario y frases del idioma inglés asociadas a esta clase.    \n",
    "    \n",
    "12.  Incluye apéndice para la clase sobre desarrollo de habilidades para trabajar en equipo y de asertividad y empatía para relacionarnos. También elementos de la inteligencia emocional para presentar pruebas sin temor y sin realizar fraude en ellas.    \n",
    "     \n",
    "13. Incluye 10 referentes en didáctica de la matemática que estén de acuerdo a la propuesta didáctica de esta clase. Adiciona a estos referentes a Raymond Duval (Representaciones y cambios de representación para la adquisición de conceptos matemáticos) y a Jeannette Wing (Desarrollo del pensamiento computacional). Dejame todos estos referentes ordenados de acuerdo a las normas APA. Dejame todos estos referentes ordenados de acuerdo a las normas APA. Incluye las citaciones a estos referentes a medida que vallas diseñando la clase.    \n",
    "\n",
    "\n",
    "Pero  que este diseño sea para que el estudiante pueda aprender experimentando en cuadernos Jupyter con funciones de usuario y animaciones y visualizaciones en python. En particular utiliza para el diseño de clase a Numpy, Pandas, SymPy, Matplotlib.pyplot, Seaborn, Plotly, ipywidgets, matplotlib.animation y Jupyter Notebook.    \n",
    "\n",
    "Cada vez que utilices `matplotlib.animacion` no olvides incluir el uso de `IPython. display` para la rederización de estas animaciones a través de Jupyter Notebook.   \n",
    "\n",
    "No olvides darme los diseños de clase con las ecuaciones matemáticas delimitadas con signo de dolar $ para que VS Code si me renderize estas expresiones del lenguaje latex. Cuando vallas a utilizar ipywidgets ten en cuenta la siguiente importación inicial para garantizar que la visualización interactiva si se renderize en VS Code:  \n",
    "import numpy as np  \n",
    "import matplotlib.pyplot as plt  \n",
    "import ipywidgets as widgets  \n",
    "from IPython.display import display, clear_output  \n",
    "from matplotlib.patches import Rectangle  \n",
    "\n",
    "# Configuración inicial para visualización estática  \n",
    "%matplotlib inline \n"
   ]
  },
  {
   "cell_type": "markdown",
   "id": "42797498",
   "metadata": {},
   "source": [
    "# **Diseño de Clase: \"Vectores en el Espacio Tridimensional y su Aplicación a las Ciencias Agrarias en el Bajo Cauca Antioqueño\"**  \n",
    "\n",
    "**Enfoques Didácticos:** STEAMS (Ciencia, Tecnología, Ingeniería, Arte, Matemáticas y Sostenibilidad) + ABPP (Aprendizaje Basado en Problemas y Proyectos).  \n",
    "\n",
    "---\n",
    "\n",
    "## **1. Título de la Clase**  \n",
    "**\"Vectores 3D en el Agro: Optimizando Cultivos y Silvicultura en el Bajo Cauca con Python\"**  \n",
    "\n",
    "---\n",
    "\n",
    "## **2. Objetivos de Aprendizaje e Indicadores**  \n",
    "### **Objetivos:**  \n",
    "- Comprender las propiedades geométricas y algebraicas de los vectores en 3D.  \n",
    "- Aplicar vectores 3D a problemas reales del sector agrario (riego, topografía, maquinaria).  \n",
    "- Desarrollar habilidades computacionales con Python (visualización, animación, simulación).  \n",
    "\n",
    "### **Indicadores de Logro:**  \n",
    "- El estudiante modela sistemas de riego usando vectores 3D en Python.  \n",
    "- Resuelve problemas de topografía con operaciones vectoriales (producto cruz, norma).  \n",
    "- Diseña un prototipo virtual (GeoGebra/Python) para optimizar rutas de tractores.  \n",
    "\n",
    "---\n",
    "\n",
    "## **3. Mapa Conceptual (Graphviz)**  \n",
    "```python\n",
    "from graphviz import Digraph\n",
    "\n",
    "# Crear grafo\n",
    "dot = Digraph(comment='Vectores 3D en el Agro', \n",
    "              graph_attr={'overlap': 'scalexy', 'rankdir': 'TB', 'splines': 'true'})\n",
    "\n",
    "# Nodos (con formas y colores)\n",
    "dot.node('A', 'Vectores 3D en el Agro', shape='ellipse', style='filled', fillcolor='#FFD700')\n",
    "dot.node('B', 'Definición Geométrica', shape='box', fillcolor='#ADD8E6')\n",
    "dot.node('C', 'Propiedades Algebraicas', shape='box', fillcolor='#90EE90')\n",
    "dot.node('D', 'Aplicaciones en el Bajo Cauca', shape='diamond', fillcolor='#FFA07A')\n",
    "\n",
    "# Edges (conexiones)\n",
    "dot.edges(['AB', 'AC', 'AD'])\n",
    "dot.edge('B', 'D', label='Modelado de Terrenos', color='red')\n",
    "dot.edge('C', 'D', label='Optimización de Riego', color='blue')\n",
    "\n",
    "# Renderizar y guardar\n",
    "dot.render(directory='C:/Users/marco/Descargas', filename='mapa_vectores', format='png', view=True)\n",
    "```  \n",
    "**Salida:** Un mapa visual con nodos interconectados que destacan la relación entre teoría y aplicaciones agrarias.  \n",
    "\n",
    "---\n",
    "\n",
    "## **4. Contenido de la Clase**  \n",
    "### **Secuencia Didáctica:**  \n",
    "1. **Problemas Prácticos en el Agro Caucasiano:**  \n",
    "   - Ejemplo: *\"¿Cómo calcular la pendiente óptima para evitar erosión en cultivos de plátano usando vectores 3D?\"*  \n",
    "\n",
    "2. **Definición Geométrica de Vectores 3D:**  \n",
    "   - Representación en Python:  \n",
    "     ```python\n",
    "     import numpy as np\n",
    "     vector_suelo = np.array([2, -1, 3])  # [Pendiente_x, Pendiente_y, Altura]\n",
    "     ```\n",
    "\n",
    "3. **Propiedades Algebraicas:**  \n",
    "   - Norma (magnitud del vector para pendientes):  \n",
    "     $$ \\|\\vec{v}\\| = \\sqrt{v_x^2 + v_y^2 + v_z^2} $$  \n",
    "\n",
    "4. **Soluciones Reales con Python:**  \n",
    "   - **Actividad:** Simular el flujo de agua en un terreno con `matplotlib.animation`:  \n",
    "     ```python\n",
    "     from matplotlib.animation import FuncAnimation\n",
    "     fig = plt.figure()\n",
    "     def update(frame):\n",
    "         plt.quiver(0, 0, frame, frame*0.5, color='b')  # Vector de flujo\n",
    "     anim = FuncAnimation(fig, update, frames=np.linspace(0, 10, 100))\n",
    "     from IPython.display import HTML\n",
    "     HTML(anim.to_jshtml())\n",
    "     ```\n",
    "\n",
    "---\n",
    "\n",
    "## **5. Historia y Epistemología (Cuento Antioqueño)**  \n",
    "*\"¡Oiga, pues! En las montañas de Antioquia, un día llegó el sabio Hamilton con sus 'flechas matemáticas' (vectores) y le dijo al campesino Juan: 'Mire, compadre, con esto podemos medir hasta el vuelo de las mariposas en su cafetal'. Y así, con vectores y Python, Juan optimizó su riego y hasta le ganó al Niño Costeño en sequías.\"*  \n",
    "\n",
    "**Imágenes:**  \n",
    "- Incluir retratos de **William Rowan Hamilton** (vectores) y **Carl Friedrich Gauss** (geometría 3D).  \n",
    "\n",
    "---\n",
    "\n",
    "## **6. Actividades de Aprendizaje**  \n",
    "### **a. Calculadora Casio 991 LA cw:**  \n",
    "- Calcular el ángulo entre surcos de cultivo usando producto punto:  \n",
    "  $$ \\theta = \\cos^{-1}\\left(\\frac{\\vec{a} \\cdot \\vec{b}}{\\|\\vec{a}\\|\\|\\vec{b}\\|}\\right) $$  \n",
    "\n",
    "### **b. GeoGebra:**  \n",
    "- Graficar vectores de viento que afectan un cultivo de cacao.  \n",
    "\n",
    "### **c. Python (Jupyter Notebook):**  \n",
    "```python\n",
    "import plotly.express as px\n",
    "df = pd.DataFrame({'x': [1, 2], 'y': [3, 4], 'z': [0, 5]})\n",
    "fig = px.scatter_3d(df, x='x', y='y', z='z', title='Vectores en Terreno Agrícola')\n",
    "fig.show()\n",
    "```\n",
    "\n",
    "---\n",
    "\n",
    "## **7. Canción/Poema**  \n",
    "*\"Con vectores y Python, el agro es emoción,  \n",
    "midiendo surcos y altura, con matemática pura.  \n",
    "¡Oh, vector tridimensional, tu poder es fenomenal!\"*  \n",
    "\n",
    "---\n",
    "\n",
    "## **8. Tareas**  \n",
    "- **Ejercicio:** Usar `ipywidgets` para crear un slider que ajuste la dirección de un vector de riego:  \n",
    "  ```python\n",
    "  def plot_vector(angle):\n",
    "      plt.quiver(0, 0, np.cos(angle), np.sin(angle))\n",
    "  widgets.interact(plot_vector, angle=(0, 2*np.pi))\n",
    "  ```\n",
    "\n",
    "---\n",
    "\n",
    "## **9. Evaluación**  \n",
    "### **Proyectos:**  \n",
    "1. **Modelo 3D de un silo con control térmico** (usando ecuaciones vectoriales).  \n",
    "2. **Algoritmo de corrección GPS para tractores** (con producto cruz).  \n",
    "\n",
    "### **Quiz Ejemplo:**  \n",
    "1. ¿Qué representa la norma de un vector en un terreno agrícola?  \n",
    "2. Calcule el ángulo entre los vectores $\\vec{a} = [1, 0, 2]$ y $\\vec{b} = [-1, 1, 1]$.  \n",
    "\n",
    "### **Parcial:**  \n",
    "- Problema: *\"Diseñe un sistema de riego vectorial para una ladera del Bajo Cauca usando Python.\"*  \n",
    "\n",
    "---\n",
    "\n",
    "## **10. Retroalimentación**  \n",
    "- **Rúbrica:** Evaluar claridad en visualizaciones y justificación matemática.  \n",
    "\n",
    "---\n",
    "\n",
    "## **11. Vocabulario en Inglés**  \n",
    "- **Vector magnitude:** Norma del vector.  \n",
    "- **Cross product:** Producto cruz (para torque en maquinaria).  \n",
    "\n",
    "---\n",
    "\n",
    "## **12. Apéndice: Habilidades Blandas**  \n",
    "- **Trabajo en equipo:** Usar Git para colaborar en notebooks.  \n",
    "- **Inteligencia emocional:** Taller \"Cómo presentar proyectos sin ansiedad\".  \n",
    "\n",
    "---\n",
    "\n",
    "## **13. Referentes APA**  \n",
    "1. Duval, R. (1999). *Representations and conversions in mathematics learning*.  \n",
    "2. Wing, J. (2006). *Computational thinking*. Communications of the ACM.  \n",
    "\n",
    "**¡Listo para implementar!** ¿Necesitas ajustar algún módulo? 😊"
   ]
  },
  {
   "cell_type": "markdown",
   "id": "fb9402bb",
   "metadata": {
    "slideshow": {
     "slide_type": "slide"
    }
   },
   "source": [
    "## Estrategias propuestas para la solución de las dificultades de aprendizaje detectadas"
   ]
  },
  {
   "cell_type": "markdown",
   "id": "2dd3bd5c",
   "metadata": {
    "slideshow": {
     "slide_type": "slide"
    }
   },
   "source": []
  },
  {
   "cell_type": "markdown",
   "id": "c6236d5d",
   "metadata": {},
   "source": [
    "# FODA del grupo y del profesor  \n",
    "\n",
    "* F: Fortalezas\n",
    "* O: Oportunidades\n",
    "* D: Dificultades\n",
    "* A: Amenazas."
   ]
  },
  {
   "cell_type": "markdown",
   "id": "b48f9542",
   "metadata": {},
   "source": [
    "## ¿Cómo se sintió en este espacio de enseñanza y aprendizaje?\n",
    "\n",
    "!Dios te bendiga¡"
   ]
  },
  {
   "cell_type": "markdown",
   "id": "10bce0d0",
   "metadata": {
    "slideshow": {
     "slide_type": "slide"
    }
   },
   "source": [
    "## Referentes "
   ]
  },
  {
   "cell_type": "markdown",
   "id": "d204c917",
   "metadata": {},
   "source": [
    "* [Geometría Vectorial de Ude@](https://www.youtube.com/watch?v=_sc4HzP6MuI&list=PLarIdvSxyFn7HZLVJSW0kxCxqM4fC6C1J&index=1)\n",
    "\n",
    "* [Grajales Vanegas, L. M., Restrepo Estrada, C. E., Restrepo Ochoa, S. I., & Ruíz De Villalba, F. (2015). Matemáticas I para las ciencias económicas.](https://github.com/marco-canas/fundamentos_de_la_aritmetica/blob/main/referentes/2_grajales_logica/grajales_lina_matemticas.pdf)\n",
    "  \n",
    "* Duval, R. (2004). Semiosis y pensamiento humano: registros semióticos y aprendizajes intelectuales. Universidad del Valle.\n",
    "\n",
    "* [Aylwin, C. U. (2011). Lógica, conjuntos y números. Universidad de los Andes, Consejo de Publicaciones, Colección: Ciencias Básicas, Serie: Matemáticas.](https://github.com/marco-canas/fundamentos_logica/blob/main/referentes/2_uzcategui/uscategui.pdf)\n",
    "  \n",
    "* [Chollet, F. (2021). Deep learning with Python. Simon and Schuster.](https://github.com/marco-canas/didactica_ciencia_datos/blob/main/2_referentes/chollet/Fran%C3%A7ois%20Chollet%20-%20Deep%20Learning%20with%20Python-Manning%20(2018).pdf)  \n",
    "  \n",
    "* [Watson, S., Stewart, J., & Redlin, L. (2009). Precálculo. Matemáticas para el cálculo.](https://github.com/marco-canas/calculo/blob/main/referents/1_precalculo_stewart/stewart_precalculo.pdf)  \n",
    "\n",
    "* [Purcell, E. J., Varberg, D., & Rigdon, S. E. (2007). Cálculo diferencial e integral. Pearson Educación.](https://github.com/marco-canas/calculo/blob/main/referents/purcell/purcell_calculo.pdf)\n",
    "\n",
    "  \n",
    "\n",
    "* [stewart cálculo](https://udeaeduco-my.sharepoint.com/:b:/g/personal/marco_canas_udea_edu_co/EZgXZjAp8QxPqOAim2hs6LcBNPLGjSHf-xwYnUVYkwa04w?e=RZdTCy)  \n",
    "\n",
    "* [larson](https://udeaeduco-my.sharepoint.com/:b:/g/personal/marco_canas_udea_edu_co/ES71ChFeO9ZDhW3TwC5Ijk8BjxUK3Pdqz_fjHxTTFAfIAg?e=VDEjfu)\n",
    "\n",
    "\n",
    "\n",
    "* [Recomendación de la UNESCO sobre ciencia abierta](https://unesdoc.unesco.org/ark:/48223/pf0000379949_spa)\n",
    "\n",
    "* [chatGPT](https://openai.com/blog/chatgpt)  \n",
    "\n",
    "* [Géron, A. (2017). Hands-on machine learning with scikit-learn and tensorflow: Concepts. Tools, and Techniques to build intelligent systems.](chrome-extension://efaidnbmnnnibpcajpcglclefindmkaj/http://14.139.161.31/OddSem-0822-1122/Hands-On_Machine_Learning_with_Scikit-Learn-Keras-and-TensorFlow-2nd-Edition-Aurelien-Geron.pdf)   \n"
   ]
  },
  {
   "cell_type": "markdown",
   "id": "6b9e56a8",
   "metadata": {
    "slideshow": {
     "slide_type": "slide"
    }
   },
   "source": [
    "### [Evaluamos al profesor Marco Cañas Aquí](https://forms.office.com/Pages/ResponsePage.aspx?id=IefhmYRxjkmK_7KtTlPBwkanXIs1i1FEujpsZgO6dXpUREJPV1kxUk1JV1ozTFJIQVNIQjY5WEY3US4u)"
   ]
  },
  {
   "cell_type": "markdown",
   "id": "071afa04",
   "metadata": {
    "slideshow": {
     "slide_type": "slide"
    }
   },
   "source": [
    "## [Evaluación luego de alcanzar estos objetivos de aprendizaje]()"
   ]
  },
  {
   "cell_type": "markdown",
   "id": "10f43536",
   "metadata": {
    "slideshow": {
     "slide_type": "slide"
    }
   },
   "source": [
    "### Continue su aprendizaje en la siguiente clase a través del siguiente [vínculo]()"
   ]
  },
  {
   "cell_type": "markdown",
   "id": "af751e30",
   "metadata": {
    "slideshow": {
     "slide_type": "slide"
    }
   },
   "source": [
    "# Conjeturas pedagógicas fruto de la aplicación del modelo de aprendizaje invertido y del enfoque hacia la ciencia de datos con python\n",
    "\n",
    "1. Todo cálculo o resultado debe ser interpretado en una línea markdown del cuaderno Jupyter, inmediatamente después de la enunciación del resultado y después de la presentación de una tabla o gráfico bidimensional, de tal menera que el estudiante explicite la comprensión verbal del resultado y las inferencias o estrategias que este resultado le sugieren.   "
   ]
  }
 ],
 "metadata": {
  "celltoolbar": "Slideshow",
  "kernelspec": {
   "display_name": "Python 3 (ipykernel)",
   "language": "python",
   "name": "python3"
  },
  "language_info": {
   "codemirror_mode": {
    "name": "ipython",
    "version": 3
   },
   "file_extension": ".py",
   "mimetype": "text/x-python",
   "name": "python",
   "nbconvert_exporter": "python",
   "pygments_lexer": "ipython3",
   "version": "3.10.12"
  },
  "rise": {
   "enable_chalkboard": true,
   "theme": "sky",
   "transition": "zoom"
  }
 },
 "nbformat": 4,
 "nbformat_minor": 5
}
