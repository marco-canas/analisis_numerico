{
 "cells": [
  {
   "cell_type": "markdown",
   "id": "dc06dec7",
   "metadata": {
    "slideshow": {
     "slide_type": "slide"
    }
   },
   "source": [
    "<table align=\"left\">\n",
    "  <td>\n",
    "    <a href=\"https://colab.research.google.com/github/marco-canas/radicacion_calculo_vectorial_analisis_numerico/blob/main/6_numerico/3_integracion/2_Planificacion/dise%C3%B1o_intervencion/6_suma_simpson/1_simpson.ipynb\" target=\"_parent\"><img src=\"https://colab.research.google.com/assets/colab-badge.svg\" alt=\"Open In Colab\"/></a>\n",
    "  </td>\n",
    "  <td>\n",
    "    <a target=\"_blank\" href=\"https://kaggle.com/kernels/welcome?src=https://github.com/marco-canas/radicacion_calculo_vectorial_analisis_numerico/blob/main/6_numerico/3_integracion/2_Planificacion/dise%C3%B1o_intervencion/6_suma_simpson/1_simpson.ipynb\"><img src=\"https://kaggle.com/static/images/open-in-kaggle.svg\" /></a>\n",
    "  </td>\n",
    "</table>"
   ]
  },
  {
   "cell_type": "markdown",
   "id": "e0c5b198",
   "metadata": {
    "slideshow": {
     "slide_type": "slide"
    }
   },
   "source": [
    "### [Video de apoyo a la lectura interactiva y experimental de este cuaderno]()"
   ]
  },
  {
   "cell_type": "markdown",
   "id": "41e82203",
   "metadata": {
    "slideshow": {
     "slide_type": "slide"
    }
   },
   "source": [
    "### [Vínculo al programa del curso:  ]()\n",
    "\n"
   ]
  },
  {
   "cell_type": "markdown",
   "id": "d11ab06d",
   "metadata": {
    "slideshow": {
     "slide_type": "slide"
    }
   },
   "source": [
    "Un reconocimiento a mis estudiantes que han construido conmigo este saber pedagógico:\n",
    "\n",
    "<img src = ''> \n",
    "\n"
   ]
  },
  {
   "cell_type": "code",
   "execution_count": 2,
   "id": "7604880f",
   "metadata": {
    "slideshow": {
     "slide_type": "slide"
    }
   },
   "outputs": [
    {
     "data": {
      "application/vnd.microsoft.datawrangler.viewer.v0+json": {
       "columns": [
        {
         "name": "index",
         "rawType": "int64",
         "type": "integer"
        },
        {
         "name": "Cedula",
         "rawType": "float64",
         "type": "float"
        },
        {
         "name": "Nombre",
         "rawType": "object",
         "type": "string"
        },
        {
         "name": "Email",
         "rawType": "object",
         "type": "string"
        }
       ],
       "conversionMethod": "pd.DataFrame",
       "ref": "84560b9f-9864-42c5-8325-5cc0f97b1db2",
       "rows": [
        [
         "0",
         "1007410536.0",
         "CALY HERRERA ESTEFANIA",
         "estefania.caly@udea.edu.co"
        ],
        [
         "1",
         "1038108070.0",
         "DORADO PADILLA LEONEL ESTEBAN",
         "leonel.dorado@udea.edu.co"
        ],
        [
         "2",
         "1038115862.0",
         "LONDONO CASTRO FRED IVAN",
         "fred.londonoc@udea.edu.co"
        ],
        [
         "3",
         "1129804572.0",
         "SAN JUAN SERRANO MANUEL",
         "manuel.serrano1@udea.edu.co"
        ],
        [
         "4",
         "1007554266.0",
         "URIBE ARRIETA YEIFRY SEBASTIAN",
         "yeifry.uribe@udea.edu.co"
        ],
        [
         "5",
         "1007578670.0",
         "VELASQUEZ LOPEZ MERLIS",
         "merlis.velasquez@udea.edu.co"
        ]
       ],
       "shape": {
        "columns": 3,
        "rows": 6
       }
      },
      "text/html": [
       "<div>\n",
       "<style scoped>\n",
       "    .dataframe tbody tr th:only-of-type {\n",
       "        vertical-align: middle;\n",
       "    }\n",
       "\n",
       "    .dataframe tbody tr th {\n",
       "        vertical-align: top;\n",
       "    }\n",
       "\n",
       "    .dataframe thead th {\n",
       "        text-align: right;\n",
       "    }\n",
       "</style>\n",
       "<table border=\"1\" class=\"dataframe\">\n",
       "  <thead>\n",
       "    <tr style=\"text-align: right;\">\n",
       "      <th></th>\n",
       "      <th>Cedula</th>\n",
       "      <th>Nombre</th>\n",
       "      <th>Email</th>\n",
       "    </tr>\n",
       "  </thead>\n",
       "  <tbody>\n",
       "    <tr>\n",
       "      <th>0</th>\n",
       "      <td>1.007411e+09</td>\n",
       "      <td>CALY HERRERA ESTEFANIA</td>\n",
       "      <td>estefania.caly@udea.edu.co</td>\n",
       "    </tr>\n",
       "    <tr>\n",
       "      <th>1</th>\n",
       "      <td>1.038108e+09</td>\n",
       "      <td>DORADO PADILLA LEONEL ESTEBAN</td>\n",
       "      <td>leonel.dorado@udea.edu.co</td>\n",
       "    </tr>\n",
       "    <tr>\n",
       "      <th>2</th>\n",
       "      <td>1.038116e+09</td>\n",
       "      <td>LONDONO CASTRO FRED IVAN</td>\n",
       "      <td>fred.londonoc@udea.edu.co</td>\n",
       "    </tr>\n",
       "    <tr>\n",
       "      <th>3</th>\n",
       "      <td>1.129805e+09</td>\n",
       "      <td>SAN JUAN SERRANO MANUEL</td>\n",
       "      <td>manuel.serrano1@udea.edu.co</td>\n",
       "    </tr>\n",
       "    <tr>\n",
       "      <th>4</th>\n",
       "      <td>1.007554e+09</td>\n",
       "      <td>URIBE ARRIETA YEIFRY SEBASTIAN</td>\n",
       "      <td>yeifry.uribe@udea.edu.co</td>\n",
       "    </tr>\n",
       "    <tr>\n",
       "      <th>5</th>\n",
       "      <td>1.007579e+09</td>\n",
       "      <td>VELASQUEZ LOPEZ MERLIS</td>\n",
       "      <td>merlis.velasquez@udea.edu.co</td>\n",
       "    </tr>\n",
       "  </tbody>\n",
       "</table>\n",
       "</div>"
      ],
      "text/plain": [
       "         Cedula                          Nombre                         Email\n",
       "0  1.007411e+09          CALY HERRERA ESTEFANIA    estefania.caly@udea.edu.co\n",
       "1  1.038108e+09   DORADO PADILLA LEONEL ESTEBAN     leonel.dorado@udea.edu.co\n",
       "2  1.038116e+09        LONDONO CASTRO FRED IVAN     fred.londonoc@udea.edu.co\n",
       "3  1.129805e+09         SAN JUAN SERRANO MANUEL   manuel.serrano1@udea.edu.co\n",
       "4  1.007554e+09  URIBE ARRIETA YEIFRY SEBASTIAN      yeifry.uribe@udea.edu.co\n",
       "5  1.007579e+09          VELASQUEZ LOPEZ MERLIS  merlis.velasquez@udea.edu.co"
      ]
     },
     "execution_count": 2,
     "metadata": {},
     "output_type": "execute_result"
    }
   ],
   "source": [
    "import pandas as pd\n",
    "import numpy as np\n",
    "\n",
    "# Cargar la lista de estudiantes desde el archivo CSV\n",
    "path = 'C:/Users/marco/Documentos/docencia/groups_list/numerico.xls'\n",
    "estudiantes = pd.read_csv(path, sep = '\\t')\n",
    "estudiantes.head(6)\n"
   ]
  },
  {
   "cell_type": "code",
   "execution_count": null,
   "id": "57ce3191",
   "metadata": {},
   "outputs": [],
   "source": [
    "\n",
    "# Convertir la columna 'Nombre' a una lista de Python\n",
    "lista_estudiantes = estudiantes['Nombre'].tolist()\n",
    "\n",
    "# Función para llamar a un estudiante aleatoriamente y registrar su nota de seguimiento\n",
    "def asistencia():\n",
    "    global lista_estudiantes\n",
    "    if lista_estudiantes:\n",
    "        estudiante_aleatorio = np.random.choice(lista_estudiantes)\n",
    "        print(f\"Llamando a {estudiante_aleatorio}...\")\n",
    "        asistencia = input(f\"¿Asistió {estudiante_aleatorio}? (s/n): \").strip().lower()\n",
    "        \n",
    "        # Validación de entrada\n",
    "        if asistencia == 'n':\n",
    "            # Obtener el índice del estudiante en el DataFrame\n",
    "            indice = estudiantes[estudiantes['Nombre'] == estudiante_aleatorio].index[0]\n",
    "            # Incrementar su valor en la columna 'Parcial'\n",
    "            estudiantes.at[indice, 'Parcial'] += 4\n",
    "            print(f\"Actualizado: {estudiante_aleatorio} ahora tiene {estudiantes.at[indice, 'Asistencia']} en la columna 'Asistencia'.\")\n",
    "        \n",
    "        elif asistencia != 's':\n",
    "            print(\"Entrada inválida. Por favor, introduce 's' para sí o 'n' para no.\")\n",
    "            return  # Volver a preguntar para el mismo estudiante si la entrada es inválida\n",
    "        \n",
    "        # Remover al estudiante de la lista para no llamarlo de nuevo\n",
    "        lista_estudiantes.remove(estudiante_aleatorio)\n",
    "    else:\n",
    "        print(\"Se han llamado a todos los estudiantes del grupo completo.\")\n",
    "\n",
    "# Función para guardar cambios al final de la sesión\n",
    "def guardar_cambios():\n",
    "    estudiantes.to_csv(path, index=False)\n",
    "    print(\"Cambios guardados en el archivo CSV.\")\n",
    "\n",
    "# Ejemplo de uso\n",
    "while lista_estudiantes:\n",
    "    asistencia()\n",
    "\n",
    "# Guardar los cambios una vez que todos los estudiantes hayan sido llamados\n",
    "guardar_cambios()\n",
    "\n"
   ]
  },
  {
   "cell_type": "markdown",
   "id": "d7598d0a-d9b7-4ae0-b029-a0ed6ed1130b",
   "metadata": {},
   "source": [
    "\n",
    "# Principios de mi labor docente"
   ]
  },
  {
   "cell_type": "markdown",
   "id": "4f9d8cf9",
   "metadata": {
    "slideshow": {
     "slide_type": "slide"
    }
   },
   "source": [
    "## Modelo general de clase: [aula invertida](https://www3.gobiernodecanarias.org/medusa/ecoescuela/pedagotic/aprendizaje-invertido-flipped-classroom/)"
   ]
  },
  {
   "cell_type": "markdown",
   "id": "eb6ed03a",
   "metadata": {},
   "source": [
    "<img src = 'https://resources.maneuveringthemiddle.com/wp-content/uploads/2020/07/04212706/1-5.png' width = 200>  \n",
    "\n"
   ]
  },
  {
   "cell_type": "markdown",
   "id": "34319cce-a71b-4f64-aab8-b53e521efa40",
   "metadata": {},
   "source": [
    "# Metodología de Aprendizaje Basado en problemas y Proyectos (ABPP)\n"
   ]
  },
  {
   "cell_type": "markdown",
   "id": "c4f73d81",
   "metadata": {},
   "source": [
    "\n",
    "<img src = 'https://www.unir.net/wp-content/uploads/2020/07/aprendizaje-problemas2-1-1-1-1.jpeg' width = 200>"
   ]
  },
  {
   "cell_type": "markdown",
   "id": "841a985c-bd9b-4dd3-8e4c-893983980af2",
   "metadata": {},
   "source": [
    "# Desarrollo del pensamiento computacional con Lenguaje Python y con archivos Markdown orientado a la formación en ciencia de datos \n",
    "\n"
   ]
  },
  {
   "cell_type": "markdown",
   "id": "3d0eba94",
   "metadata": {},
   "source": [
    "\n",
    "<img src = 'https://i.ytimg.com/vi/mcG_wcR4e6M/maxresdefault.jpg' width = 200>"
   ]
  },
  {
   "cell_type": "markdown",
   "id": "65aa0404-f7ae-495e-864c-1aec01b4255e",
   "metadata": {},
   "source": [
    "# Principio de fomento a la ciencia abierta, enseñar en el acceso a los datos públicos y el uso de software de código abierto  \n"
   ]
  },
  {
   "cell_type": "markdown",
   "id": "18ae9b87",
   "metadata": {},
   "source": [
    "\n",
    "<img src = 'https://unesdoc.unesco.org/in/rest/Thumb/image?id=p%3A%3Ausmarcdef_0000379949_spa&author=UNESCO&title=Recomendaci%C3%B3n+de+la+UNESCO+sobre+la+Ciencia+Abierta&year=2021&publisher=UNESCO&TypeOfDocument=UnescoPhysicalDocument&mat=PGD&ct=true&size=512&isPhysical=1' width = 200>"
   ]
  },
  {
   "cell_type": "markdown",
   "id": "d9559f85",
   "metadata": {},
   "source": [
    "El enfoque STEAMS en educación preescolar, primaria y secundaria es una extensión del enfoque STEM (Ciencia, Tecnología, Ingeniería y Matemáticas) y su variante STEAM, que incorpora el Arte. "
   ]
  },
  {
   "cell_type": "markdown",
   "id": "72e1cfd2",
   "metadata": {},
   "source": [
    "El acrónimo STEAMS incluye:\n"
   ]
  },
  {
   "cell_type": "markdown",
   "id": "03182fd1",
   "metadata": {},
   "source": [
    "\n",
    "1. **Science (Ciencia):** Fomenta la curiosidad por el mundo natural y el desarrollo de habilidades científicas, como la observación, experimentación y análisis.\n"
   ]
  },
  {
   "cell_type": "markdown",
   "id": "1306d0fa",
   "metadata": {},
   "source": [
    "\n",
    "2. **Technology (Tecnología):** Integra herramientas tecnológicas para potenciar el aprendizaje y la resolución de problemas, promoviendo la alfabetización digital desde edades tempranas.\n"
   ]
  },
  {
   "cell_type": "markdown",
   "id": "3b1a53e8",
   "metadata": {},
   "source": [
    "\n",
    "3. **Engineering (Ingeniería):** Introduce el pensamiento lógico y la resolución de problemas estructurados, fomentando habilidades como el diseño y la construcción de soluciones.\n"
   ]
  },
  {
   "cell_type": "markdown",
   "id": "0196de87",
   "metadata": {},
   "source": [
    "\n",
    "4. **Arts (Arte):** Añade creatividad y pensamiento crítico, permitiendo a los estudiantes expresarse y explorar el aprendizaje a través de formas artísticas (plásticas, música, teatro).\n"
   ]
  },
  {
   "cell_type": "markdown",
   "id": "8bcc485a",
   "metadata": {},
   "source": [
    "\n",
    "5. **Mathematics (Matemáticas):** Refuerza las habilidades numéricas y el razonamiento lógico, fundamentales en la resolución de problemas y comprensión de conceptos abstractos.\n"
   ]
  },
  {
   "cell_type": "markdown",
   "id": "907935f4",
   "metadata": {},
   "source": [
    "\n",
    "6. **Social Sciences (Ciencias Sociales):** Incorpora la comprensión del entorno social, político, cultural y económico, promoviendo el desarrollo de la conciencia crítica sobre el mundo y su historia, además de habilidades de empatía y ciudadanía.\n"
   ]
  },
  {
   "cell_type": "markdown",
   "id": "39967d63",
   "metadata": {},
   "source": [
    "\n",
    "El enfoque STEAMS pretende desarrollar un aprendizaje **interdisciplinario** que integre estas áreas para fomentar un pensamiento más holístico y práctico. "
   ]
  },
  {
   "cell_type": "markdown",
   "id": "5145f077",
   "metadata": {},
   "source": [
    "Se busca que los estudiantes no solo aprendan conocimientos técnicos, sino también cómo aplicarlos creativa y críticamente en situaciones reales, promoviendo habilidades como el trabajo en equipo, la comunicación y la innovación. "
   ]
  },
  {
   "cell_type": "markdown",
   "id": "9d556584",
   "metadata": {},
   "source": [
    "En educación preescolar, primaria, secundaria y superior, se adapta a las diferentes etapas de desarrollo cognitivo y emocional de los estudiantes, promoviendo el aprendizaje activo y contextualizado.  \n"
   ]
  },
  {
   "cell_type": "markdown",
   "id": "0130ec1b",
   "metadata": {},
   "source": [
    "\n",
    "<img src = 'https://www.campuseducacion.com/blog/wp-content/uploads/2023/03/foto01-1.jpg' width = 200>"
   ]
  },
  {
   "cell_type": "markdown",
   "id": "9d15c10d-2c02-4158-9419-b1ed79b4c1ee",
   "metadata": {},
   "source": [
    "# Qué estamos haciendo por la internalización en esta clase y este curso  \n"
   ]
  },
  {
   "cell_type": "markdown",
   "id": "6e4feef2",
   "metadata": {},
   "source": [
    "Estas son mis acciones como docente de matemáticas en la Universidad de Antioquia con miras a la **internacionalización** de mi práctica docente y el desarrollo de competencias internacionales para mis estudiantes, ls cuales he estructurado con el siguiente enfoque:\n"
   ]
  },
  {
   "cell_type": "markdown",
   "id": "964d9de7-53ee-4255-9bcd-d8e6454f2993",
   "metadata": {},
   "source": [
    "### 1. **Visión Global en la Formación Académica**\n"
   ]
  },
  {
   "cell_type": "markdown",
   "id": "d9bdd3e2",
   "metadata": {},
   "source": [
    "   - **Competencias Internacionales**: Asegúrate de que el contenido de tus cursos fomente habilidades que sean reconocidas globalmente. "
   ]
  },
  {
   "cell_type": "markdown",
   "id": "2c4d3623",
   "metadata": {},
   "source": [
    "Al educar a los estudiantes en **Python, LaTeX, Markdown y Jupyter Notebooks** y en la **introducción a la ciencia de datos y técnicas de Machine Learning**, estás proporcionando competencias altamente demandadas en los sectores tecnológicos y académicos a nivel internacional.\n"
   ]
  },
  {
   "cell_type": "markdown",
   "id": "39b55206",
   "metadata": {},
   "source": [
    "   - **Relevancia de los Contenidos**: Destaca cómo los temas que enseñas, como el **desarrollo del pensamiento computacional** y la **ciencia de datos**, están alineados con las necesidades globales actuales en diversas industrias, desde la tecnología hasta las ciencias naturales y sociales.\n"
   ]
  },
  {
   "cell_type": "markdown",
   "id": "a054599e",
   "metadata": {},
   "source": [
    "   - **Referencias a Estándares Internacionales**: Puedes vincular tu enseñanza a estándares internacionales de competencias en programación y ciencia de datos (por ejemplo, frameworks del **IEEE, ACM**, y estándares de la **data science** o la **computación en la nube**)."
   ]
  },
  {
   "cell_type": "markdown",
   "id": "0f1d110c-3142-48fe-9e7d-5fbd9e8bb931",
   "metadata": {},
   "source": [
    "### 2. **Innovación Pedagógica con Enfoque Internacional**\n"
   ]
  },
  {
   "cell_type": "markdown",
   "id": "fae6ae34",
   "metadata": {},
   "source": [
    "   - **Aula Invertida y ABP**: Presenta cómo tu enfoque de **aula invertida** y **aprendizaje basado en problemas (ABP)** permite a los estudiantes trabajar de manera autónoma y colaborativa, lo que los prepara para escenarios laborales internacionales que requieren autoaprendizaje y habilidades de resolución de problemas en equipo.\n"
   ]
  },
  {
   "cell_type": "markdown",
   "id": "c83062d9",
   "metadata": {},
   "source": [
    "   - **Uso de Jupyter Notebooks**: El uso de **Jupyter Notebooks** en tus clases no solo facilita la **integración de código, matemáticas y texto**, sino que también es una plataforma utilizada globalmente en ambientes académicos y profesionales, lo que hace a tus estudiantes más competitivos internacionalmente."
   ]
  },
  {
   "cell_type": "markdown",
   "id": "960d52b7-03cd-4eb3-965e-5cdfeb7d9f8e",
   "metadata": {},
   "source": [
    "### 3. **Tecnología y Herramientas de Uso Global**\n"
   ]
  },
  {
   "cell_type": "markdown",
   "id": "4be7269f",
   "metadata": {},
   "source": [
    "   - **Lenguaje Python**: Python es uno de los lenguajes de programación más usados a nivel mundial, tanto en la academia como en la industria. "
   ]
  },
  {
   "cell_type": "markdown",
   "id": "5abb1c38",
   "metadata": {},
   "source": [
    "Al formar a tus estudiantes en Python para ciencia de datos y machine learning, los preparas para operar en entornos tecnológicos globales.\n"
   ]
  },
  {
   "cell_type": "markdown",
   "id": "102655af",
   "metadata": {},
   "source": [
    "   - **Herramientas de Ciencia Abierta**: Resalta cómo herramientas como **GitHub**, **Google Colab** y otras plataformas de código abierto están alineadas con el movimiento de **ciencia abierta**, el cual es internacionalmente reconocido y permite que los estudiantes colaboren y compartan proyectos a nivel global."
   ]
  },
  {
   "cell_type": "markdown",
   "id": "3b2ffa32-7a6f-4545-ba7b-c6a69f51109f",
   "metadata": {},
   "source": [
    "### 4. **Investigación y Publicaciones Internacionales**\n"
   ]
  },
  {
   "cell_type": "markdown",
   "id": "bdbf52a5",
   "metadata": {},
   "source": [
    "   - **Promoción de la Investigación**: Detalla cómo promueves que tus estudiantes participen en proyectos de **investigación aplicada**, con posibilidad de publicación en revistas internacionales. "
   ]
  },
  {
   "cell_type": "markdown",
   "id": "1a6bc2e1",
   "metadata": {},
   "source": [
    "Esto contribuye a la reputación internacional de la Universidad de Antioquia.\n"
   ]
  },
  {
   "cell_type": "markdown",
   "id": "ea01fcbc",
   "metadata": {},
   "source": [
    "   - **Colaboraciones Internacionales**: Si has colaborado con investigadores de otras instituciones o universidades en el extranjero, menciona estos proyectos y cómo han enriquecido tu enseñanza y proporcionado a los estudiantes una visión más globalizada."
   ]
  },
  {
   "cell_type": "markdown",
   "id": "5d1e396e-aece-4bf7-9421-32fa7809eaf4",
   "metadata": {},
   "source": [
    "## 5. **Uso del Inglés para la Internacionalización**\n"
   ]
  },
  {
   "cell_type": "markdown",
   "id": "29cabf26",
   "metadata": {},
   "source": [
    "   - **Comunicación Científica en Inglés**: "
   ]
  },
  {
   "cell_type": "markdown",
   "id": "8ec53ff3",
   "metadata": {},
   "source": [
    "Fomentar el aprendizaje del inglés como lengua científica es clave para que tus estudiantes puedan acceder a publicaciones internacionales, conferencias, y material académico que no está disponible en español. "
   ]
  },
  {
   "cell_type": "markdown",
   "id": "3afdef3a",
   "metadata": {},
   "source": [
    "Esto es esencial para que adquieran competencias que les permitan desempeñarse en cualquier contexto internacional.\n"
   ]
  },
  {
   "cell_type": "markdown",
   "id": "b831224f",
   "metadata": {},
   "source": [
    "   - **Material Bilingüe**: Al generar material educativo en Python, LaTeX y Markdown, considera ofrecer algunos de estos recursos en inglés, para que los estudiantes se familiaricen con el vocabulario técnico y científico internacional."
   ]
  },
  {
   "cell_type": "markdown",
   "id": "c6a8c3b0-426a-4692-a384-3065aea81c9a",
   "metadata": {},
   "source": [
    "### 6. **Certificaciones y Estándares Internacionales**\n"
   ]
  },
  {
   "cell_type": "markdown",
   "id": "b1f41da5",
   "metadata": {},
   "source": [
    "   - **Participación en Certificaciones Internacionales**: Impulsa que los estudiantes busquen certificaciones internacionales en Python o ciencia de datos (como las ofrecidas por **Coursera, edX,** o **Google**). "
   ]
  },
  {
   "cell_type": "markdown",
   "id": "a62da188",
   "metadata": {},
   "source": [
    "Estas certificaciones no solo validan sus competencias, sino que también incrementan el reconocimiento de la Universidad de Antioquia en el contexto internacional.\n"
   ]
  },
  {
   "cell_type": "markdown",
   "id": "7cc66317",
   "metadata": {},
   "source": [
    "   - **Alineación con Acreditaciones Internacionales**: Vincula tu trabajo docente con los estándares de acreditación y certificación que garantizan que la universidad siga siendo reconocida internacionalmente. "
   ]
  },
  {
   "cell_type": "markdown",
   "id": "52efe76f",
   "metadata": {},
   "source": [
    "Puedes vincularte con organizaciones internacionales que promuevan la excelencia en la educación y tecnología, como **ABET** para la acreditación en ingeniería y ciencias computacionales."
   ]
  },
  {
   "cell_type": "markdown",
   "id": "65d3d9e1-ea84-43e0-8197-a2a9c9e21594",
   "metadata": {},
   "source": [
    "### 7. **Proyectos Abiertos y Ciencia Reproducible**\n"
   ]
  },
  {
   "cell_type": "markdown",
   "id": "f03f7b20",
   "metadata": {},
   "source": [
    "   - **GitHub y Open Science**: La utilización de **GitHub** para almacenar los proyectos y materiales de enseñanza en repositorios públicos permite que otros investigadores y educadores internacionales puedan revisar y replicar tu trabajo. "
   ]
  },
  {
   "cell_type": "markdown",
   "id": "7c6c8076",
   "metadata": {},
   "source": [
    "Esto contribuye a la creación de una red de colaboración científica abierta.\n"
   ]
  },
  {
   "cell_type": "markdown",
   "id": "ea9af834",
   "metadata": {},
   "source": [
    "   - **Transparencia y Reproducibilidad**: La ciencia de datos y machine learning están profundamente ligados a la reproducibilidad. "
   ]
  },
  {
   "cell_type": "markdown",
   "id": "7735a05c",
   "metadata": {},
   "source": [
    "Asegura que tus estudiantes desarrollen prácticas de transparencia y documentación en la investigación, que son pilares en la comunidad científica global.\n"
   ]
  },
  {
   "cell_type": "markdown",
   "id": "215cb551",
   "metadata": {},
   "source": [
    "\n",
    "### 8. **Participación en Redes y Conferencias Internacionales**\n",
    "   - **Presentación en Conferencias Internacionales**: Destaca cómo tu participación en conferencias internacionales (como la **ASCOLFA** o eventos sobre educación en matemáticas) contribuye al prestigio de la universidad y permite que tus prácticas sean evaluadas y reconocidas a nivel global.\n"
   ]
  },
  {
   "cell_type": "markdown",
   "id": "cdf46e29",
   "metadata": {},
   "source": [
    "   - **Promoción de Estudiantes en Eventos Internacionales**: Impulsa la participación de tus estudiantes en competiciones internacionales de programación o hackathons, como los organizados por **Google**, **ACM** o **Kaggle**. "
   ]
  },
  {
   "cell_type": "markdown",
   "id": "dda320f8",
   "metadata": {},
   "source": [
    "Esto no solo desarrolla sus habilidades, sino que también visibiliza el talento de la Universidad de Antioquia a nivel global.\n",
    "\n",
    "---"
   ]
  },
  {
   "cell_type": "markdown",
   "id": "233294a4-1983-4641-a7ad-866825e02315",
   "metadata": {},
   "source": [
    "Con esta estrategia, presento mis acciones docentes en términos de competencias internacionales, innovación pedagógica, tecnología, investigación y participación en redes globales, asegurando que mi práctica esté alineada con los estándares internacionales y que tus estudiantes estén preparados para competir en contextos internacionales."
   ]
  },
  {
   "cell_type": "markdown",
   "id": "77da458b",
   "metadata": {},
   "source": [
    "### **Metodología de Enseñanza: Aprendizaje Basado en Problemas y Proyectos (ABPP)**\n"
   ]
  },
  {
   "cell_type": "markdown",
   "id": "c943d273",
   "metadata": {},
   "source": [
    "\n",
    "El **Aprendizaje Basado en Problemas y Proyectos (ABPP)** es una metodología educativa que integra los enfoques del **Aprendizaje Basado en Problemas (ABP)** y el **Aprendizaje Basado en Proyectos (PBL, por sus siglas en inglés)**. "
   ]
  },
  {
   "cell_type": "markdown",
   "id": "ad0e0bf3",
   "metadata": {},
   "source": [
    "Es especialmente útil para la formación de futuros docentes, ingenieros y administradores, ya que combina el desarrollo de habilidades prácticas con el pensamiento crítico y reflexivo. "
   ]
  },
  {
   "cell_type": "markdown",
   "id": "137b18e2",
   "metadata": {},
   "source": [
    "A continuación, se presenta una descripción adaptada a la enseñanza de las matemáticas en educación infantil, Licenciatura en Matemáticas, Ingeniería Agropecuaria y Administración de Empresas:\n",
    "\n",
    "---\n"
   ]
  },
  {
   "cell_type": "markdown",
   "id": "0eeba3f5",
   "metadata": {},
   "source": [
    "\n",
    "### **1. Fundamentos del ABPP**\n"
   ]
  },
  {
   "cell_type": "markdown",
   "id": "e127d644",
   "metadata": {},
   "source": [
    "El ABPP se basa en:\n",
    "- **Resolución de Problemas Reales:** Los estudiantes analizan y resuelven problemas auténticos relacionados con su área de formación, fomentando la aplicación práctica del conocimiento.\n"
   ]
  },
  {
   "cell_type": "markdown",
   "id": "2adeeac9",
   "metadata": {},
   "source": [
    "- **Proyectos como Herramientas Integradoras:** Los proyectos permiten desarrollar habilidades interdisciplinarias y ofrecer soluciones concretas a los problemas planteados.\n"
   ]
  },
  {
   "cell_type": "markdown",
   "id": "d343a03f",
   "metadata": {},
   "source": [
    "- **Aprendizaje Activo:** Los estudiantes son responsables de su aprendizaje y participan activamente en el proceso de investigación, diseño y solución.\n",
    "\n",
    "---\n"
   ]
  },
  {
   "cell_type": "markdown",
   "id": "3728d010",
   "metadata": {},
   "source": [
    "\n",
    "### **2. Aplicación del ABPP en Áreas Específicas**\n",
    "\n",
    "#### **Educación Infantil (Licenciatura en Educación Infantil)**\n",
    "- **Enfoque:** Desarrollo del pensamiento matemático en la infancia desde contextos lúdicos, familiares y culturales.\n"
   ]
  },
  {
   "cell_type": "markdown",
   "id": "5f84c4f0",
   "metadata": {},
   "source": [
    "- **Problemas típicos:** \n",
    "  - ¿Cómo enseñar los números naturales mediante actividades prácticas y juegos?\n",
    "  - ¿Qué estrategias pueden emplearse para abordar el concepto de cantidad en edades tempranas?\n"
   ]
  },
  {
   "cell_type": "markdown",
   "id": "0e92dea0",
   "metadata": {},
   "source": [
    "- **Proyectos:** Diseño de secuencias didácticas que usen Python, Jupyter Notebooks y materiales manipulativos para enseñar matemáticas de forma interactiva.\n"
   ]
  },
  {
   "cell_type": "markdown",
   "id": "9c58539c",
   "metadata": {},
   "source": [
    "- **Competencias desarrolladas:** \n",
    "  - Uso de herramientas tecnológicas para diseñar actividades educativas.\n",
    "  - Comprensión del desarrollo cognitivo infantil y su relación con las matemáticas.\n"
   ]
  },
  {
   "cell_type": "markdown",
   "id": "481f614a",
   "metadata": {},
   "source": [
    "\n",
    "#### **Licenciatura en Matemáticas**\n",
    "- **Enfoque:** Resolución de problemas matemáticos aplicados y profundización teórica en áreas como análisis matemático y modelado.\n"
   ]
  },
  {
   "cell_type": "markdown",
   "id": "6dbb7fc6",
   "metadata": {},
   "source": [
    "- **Problemas típicos:**\n",
    "  - ¿Cómo se pueden resolver ecuaciones diferenciales aplicadas a modelos físicos o económicos?\n",
    "  - ¿Cómo modelar fenómenos naturales mediante funciones matemáticas?\n"
   ]
  },
  {
   "cell_type": "markdown",
   "id": "1e4ab50a",
   "metadata": {},
   "source": [
    "- **Proyectos:** \n",
    "  - Desarrollo de software educativo para explorar conceptos matemáticos.\n",
    "  - Aplicación de modelado matemático para resolver problemas reales en otras disciplinas.\n"
   ]
  },
  {
   "cell_type": "markdown",
   "id": "fce8cf95",
   "metadata": {},
   "source": [
    "- **Competencias desarrolladas:**\n",
    "  - Dominio de la matemática teórica y aplicada.\n",
    "  - Uso de tecnología para la enseñanza y la investigación.\n"
   ]
  },
  {
   "cell_type": "markdown",
   "id": "83ab236f",
   "metadata": {},
   "source": [
    "\n",
    "#### **Ingeniería Agropecuaria**\n",
    "- **Enfoque:** Modelado matemático y análisis de datos para mejorar la producción agrícola y la gestión de recursos.\n"
   ]
  },
  {
   "cell_type": "markdown",
   "id": "12da1f71",
   "metadata": {},
   "source": [
    "- **Problemas típicos:**\n",
    "  - ¿Cómo modelar el crecimiento de cultivos considerando variables climáticas?\n",
    "  - ¿Cómo optimizar el uso del agua en sistemas de riego mediante análisis matemático?\n"
   ]
  },
  {
   "cell_type": "markdown",
   "id": "beb4510f",
   "metadata": {},
   "source": [
    "- **Proyectos:** \n",
    "  - Desarrollo de modelos predictivos con Python y bibliotecas de aprendizaje automático.\n",
    "  - Implementación de proyectos que combinen matemáticas y ciencias de datos para resolver problemas agrícolas.\n"
   ]
  },
  {
   "cell_type": "markdown",
   "id": "67ab3982",
   "metadata": {},
   "source": [
    "- **Competencias desarrolladas:**\n",
    "  - Integración de matemáticas con tecnologías avanzadas.\n",
    "  - Resolución de problemas agropecuarios mediante análisis y modelado.\n"
   ]
  },
  {
   "cell_type": "markdown",
   "id": "c4519bb3",
   "metadata": {},
   "source": [
    "\n",
    "#### **Administración de Empresas**\n",
    "- **Enfoque:** Uso de las matemáticas y la ciencia de datos para la toma de decisiones estratégicas.\n"
   ]
  },
  {
   "cell_type": "markdown",
   "id": "c432b94c",
   "metadata": {},
   "source": [
    "- **Problemas típicos:**\n",
    "  - ¿Cómo identificar patrones de comportamiento del consumidor usando series de tiempo?\n",
    "  - ¿Qué estrategias matemáticas pueden optimizar la asignación de recursos en una empresa?\n"
   ]
  },
  {
   "cell_type": "markdown",
   "id": "451c674b",
   "metadata": {},
   "source": [
    "- **Proyectos:** \n",
    "  - Implementación de modelos de análisis financiero y simulaciones.\n",
    "  - Desarrollo de dashboards interactivos para la gestión de datos empresariales.\n"
   ]
  },
  {
   "cell_type": "markdown",
   "id": "97a52986",
   "metadata": {},
   "source": [
    "- **Competencias desarrolladas:**\n",
    "  - Habilidad para interpretar datos matemáticos en contextos de negocio.\n",
    "  - Capacidad para diseñar soluciones basadas en datos.\n",
    "\n",
    "\n"
   ]
  },
  {
   "cell_type": "markdown",
   "id": "19be58d4",
   "metadata": {},
   "source": [
    "\n",
    "### **3. Beneficios del ABPP**\n"
   ]
  },
  {
   "cell_type": "markdown",
   "id": "ab9500bb",
   "metadata": {},
   "source": [
    "- **Desarrollo de competencias clave:**\n",
    "  - Pensamiento crítico y creativo.\n",
    "  - Trabajo colaborativo.\n",
    "  - Comunicación efectiva.\n",
    "  - Uso de herramientas tecnológicas avanzadas.\n"
   ]
  },
  {
   "cell_type": "markdown",
   "id": "5ab8af55",
   "metadata": {},
   "source": [
    "- **Adaptación al contexto laboral:** Los estudiantes aprenden a enfrentar desafíos del mundo real y a diseñar soluciones prácticas y aplicables.\n"
   ]
  },
  {
   "cell_type": "markdown",
   "id": "eb0b61cc",
   "metadata": {},
   "source": [
    "- **Flexibilidad e interdisciplinariedad:** La metodología se adapta a diversas áreas, fomentando el aprendizaje integrado.\n",
    "\n"
   ]
  },
  {
   "cell_type": "markdown",
   "id": "e36034c3",
   "metadata": {},
   "source": [
    "\n",
    "### **4. Ejemplo General de Implementación**\n",
    "1. **Identificación del problema:** Se plantea un desafío concreto, como modelar el crecimiento poblacional de una comunidad rural (Ingeniería Agropecuaria) o diseñar una estrategia para enseñar fracciones a niños de 8 años (Educación Infantil).\n"
   ]
  },
  {
   "cell_type": "markdown",
   "id": "372e09e0",
   "metadata": {},
   "source": [
    "2. **Formación de equipos:** Los estudiantes trabajan en grupos, distribuyendo roles y tareas.\n",
    "3. **Investigación y diseño:** Los estudiantes investigan el problema, proponen soluciones y diseñan un proyecto.\n"
   ]
  },
  {
   "cell_type": "markdown",
   "id": "b48fbbee",
   "metadata": {},
   "source": [
    "4. **Implementación:** Se desarrolla el proyecto, como una herramienta tecnológica o una propuesta pedagógica.\n",
    "5. **Evaluación:** Los estudiantes presentan sus resultados en un informe o una exposición, recibiendo retroalimentación de sus compañeros y docentes.\n",
    "\n",
    "---\n"
   ]
  },
  {
   "cell_type": "markdown",
   "id": "71fd303b",
   "metadata": {},
   "source": [
    "\n",
    "El ABPP es una metodología versátil que conecta el conocimiento teórico con la práctica, preparando a los estudiantes para los retos de sus profesiones en la enseñanza de la matemática, la ingeniería y la administración."
   ]
  },
  {
   "cell_type": "markdown",
   "id": "8d97dc80",
   "metadata": {
    "slideshow": {
     "slide_type": "slide"
    }
   },
   "source": [
    "## Fomento de la lectura literaria asociada a Ingeniería agropecuaria y licenciatura en Matemáticas\n",
    "\n",
    "[Aprender a obtener el sí sin ceder]()"
   ]
  },
  {
   "cell_type": "markdown",
   "id": "96775931",
   "metadata": {
    "slideshow": {
     "slide_type": "slide"
    }
   },
   "source": [
    "## Título de la clase: La Regla de Simpson para integración numérica en la formación de Licenciados en Matemáticas y su aplicación a la modelación de la precipitación en Caucasia (Aplicación para Ingeniería Agropecuaria) \n",
    " \n",
    "[Página 333 del PDF de Larson, 9ª edición](chrome-extension://efaidnbmnnnibpcajpcglclefindmkaj/https://ingindustrial869624637.wordpress.com/wp-content/uploads/2019/02/calculo-1-ron-larson-.pdf)  \n",
    "Página 313 del texto de Larson, 9ª edición\n",
    "[]()"
   ]
  },
  {
   "cell_type": "code",
   "execution_count": 2,
   "id": "28bae6cb",
   "metadata": {},
   "outputs": [],
   "source": [
    "def save_fig(nombre_archivo_imagen):\n",
    "    import os \n",
    "    import matplotlib.pyplot as plt\n",
    "    ubicacion_para_imagenes = r\"C:/Users/marco/Downloads\"\n",
    "    imagen_path = os.path.join(ubicacion_para_imagenes, nombre_archivo_imagen)\n",
    "    plt.savefig(imagen_path, bbox_inches='tight')"
   ]
  },
  {
   "cell_type": "markdown",
   "id": "10e55ccf",
   "metadata": {},
   "source": [
    "# Estructura general para todas las clases\n"
   ]
  },
  {
   "cell_type": "markdown",
   "id": "e3324582",
   "metadata": {},
   "source": [
    "Dame, por favor, un diseño de clase, con el enfoque: \"Aula Invertida, STEAMS y de Aprendizaje Basado en Problemas y Proyectos (ABPP)\" sobre: \"La Regla de Simpson para integración numérica en la formación de Licenciados en Matemáticas y su aplicación a la modelación de la precipitación en Caucasia (Aplicación para Ingeniería Agropecuaria)\", siguiendo la estructura:  \n",
    "\n",
    "1. Título de la clase   \n",
    "   \n",
    "2. Objetivo de aprendizaje que incluyan los indicadores del logro de estos objetivos. \n",
    "   \n",
    "3. Un mapa conceptual que resuma la clase elaborado en Graphviz de python con nodos y edges de diferentes formas, colores y rellenos y renderizado en la siguiente ubicación: `\"C:\\Users\\marco\\Descargas\"`.  No olvides el parámetro `view = True` para el método `render()` de Graphviz. Para este mapa controla las superposiciones de los nodos con: graph [overlap=false]; // Elimina superposiciones (puede aumentar el espacio)\n",
    "graph [overlap=\"scalexy\"]; // Escala el gráfico para evitar overlaps\n",
    "graph [overlap=\"compress\"]; // Comprime el grafo sin overlaps  \n",
    "   \n",
    "4. Elementos históricos y epistemológicos relevantes para la clase, pero narrados como una historieta al estilo de un cuentero antioqueño en Colombia. Incluye imágenes de los protagonistas históricos de esta clase.  \n",
    "   \n",
    "5. Contenido de la clase:     \n",
    "   \n",
    "     \n",
    "     2. Enseña cómo presentar el algoritmo del Simpson de forma verbal,   \n",
    "        es decir, en lenguaje natural. \n",
    "     3. Enseña cómo presentar el algoritmo del Simpson de forma geométrica\n",
    "     4. Enseña cómo presentar el algoritmo del Simpson de forma de código   \n",
    "        python (Utilizando la terminar PowerShell de Windows)\n",
    "     5. Enseña cómo presentar el algoritmo del Simpson de forma algebraica. \n",
    "    \n",
    "     * Incluye, cómo implementar la calculadora \"Casio 991LA cw\" para implementar el método numérico de integración de Simpson. \n",
    "     * Incluye, cómo implementar GeoGebra para implementar el método numérico de integración de Simpson. \n",
    "     * Incluye, cómo implementar Hojas de Cálculo (Hoja de cálculo de GeoGrebra, Excel, Sheets) para implementar el método numérico   \n",
    "       de integración de Simpson. \n",
    "     \n",
    "     \n",
    "6. Deducción de una función de usuario de python, que permita determinar el número de rectángulos $n$ necesarios para una precisión de la suma de con trapecios de $\\epsilon = 0.0001$ (es decir, de tres cifras de precisión).   \n",
    "   \n",
    "7. Actividades de aprendizaje: que incluya pruebas de escritorio para   \n",
    "   los algoritmos en forma verbal y seudo código, diagrama de flujo, y la implementación del algoritmo en lenguaje python. \n",
    "   * Incluye 10 ejercicios sobre determinación de la única parábola $y = f(x) = ax^{2} + bx + c$ que pase por tres del plano no alineados. \n",
    "   * Incluye 10 ejercicios dobre verificación de la fórmula de Simpson para la determinación del área bajo un segmento parabólico.  \n",
    "   \n",
    "8. Incluye una canción o un poema que ayude a interiorizar y fijar los conceptos asociados a esta clase.   \n",
    "   \n",
    "9.  Tarea o actividades de ejercitación y fijación. Incluye tareas en las que los estudiantes empiecen con la descripción geométrica del algoritmo, luego la descripción verbal y secuencial del algoritmo, después la implementación en lenguaje Python editado a través de la terminal Powershell de su computador y finalmente con el cálculo a mano y en su cuaderno para $n = 4$.  \n",
    "    \n",
    "10. Evaluación incluyendo diez proyectos, un ejemplo de quiz y un ejemplo de parcial. Incluye evaluaciones en las que los estudiantes empiecen con la descripción geométrica del algoritmo, luego la descripción verbal y secuencial del algoritmo, después la implementación en lenguaje Python editado a través de la terminal Powershell de su computador, y finalmente con el cálculo algebraico y numérico a mano y en su cuaderno para $n = 4$. \n",
    "    \n",
    "11. Diseño de actividad de retroalimentación.   \n",
    "    \n",
    "12. Dame un vocabulario y frases del idioma inglés asociadas a esta clase.    \n",
    "     \n",
    "13. Incluye apéndice para la clase sobre desarrollo de habilidades para trabajar en equipo y de asertividad y empatía para relacionarnos. También elementos de la inteligencia emocional para presentar pruebas sin temor y sin realizar fraude en ellas.    \n",
    "     \n",
    "14. Incluye 10 referentes en didáctica de la matemática que estén de acuerdo a la propuesta didáctica de esta clase. Adiciona a estos referentes a Raymond Duval (Representaciones y cambios de representación para la adquisición de conceptos matemáticos) y a Jannette Wing (Desarrollo del pensamiento computacional). Déjame todos estos referentes ordenados de acuerdo a las normas APA. Al crear la clase, introduce las citas de estos autores en el texto de la clase.\n",
    "\n",
    "\n",
    "Pero  que este diseño sea para que el estudiante pueda aprender experimentando en cuadernos Jupyter con funciones de usuario y animaciones y visualizaciones en Python.   \n",
    "\n",
    "En particular utiliza para el diseño de clase a Numpy, Pandas, SymPy, Matplotlib.pyplot, Seaborn, Plotly, ipywidgets, matplotlib.animation y Jupyter Notebook.    \n",
    "\n",
    "Cada vez que utilices `matplotlib.animacion` no olvides incluir el uso de `IPython. display` para la rederización de estas animaciones a través de Jupyter Notebook.   \n",
    "\n",
    "No olvides darme los diseños de clase con las ecuaciones matemáticas delimitadas con signo de dolar $ para que VS Code si me renderize estas expresiones del lenguaje latex.     \n",
    "\n",
    "Cuando vallas a utilizar ipywidgets ten en cuenta la siguiente importación inicial para garantizar que la visualización interactiva si se renderize en VS Code:   \n",
    "\n",
    "import numpy as np  \n",
    "import matplotlib.pyplot as plt  \n",
    "import ipywidgets as widgets  \n",
    "from IPython.display import display, clear_output  \n",
    "from matplotlib.patches import Rectangle  \n",
    "\n",
    "# Configuración inicial para visualización estática  \n",
    "%matplotlib inline"
   ]
  },
  {
   "cell_type": "markdown",
   "id": "8f31a606",
   "metadata": {},
   "source": [
    "# Taller inicial de 15 minutos para desarrollo de habilidades blandas e inteligencia emocional  \n",
    "\n",
    "## Prompt para este taller  \n",
    "\n",
    "Dame, por favor, el diseño de un taller de desarrollo de habilidades blandas e inteligencia emocional que me permita crecer con mis 6 estudiantes de licenciatura en matemáticas en habilidades para acoger a todos nuestros compañeros en todo momento de clase, tratarlos con palabras amables y asertivas y crecer en la resiliencia de todos, pues muchos hemos vivido pérdidas familiares que afectan nuestro relacionamiento y la capacidad de entrar en estado de crecimiento o parasimpático, que haga o permita el aprendizaje en este curso de Análisis numérico para estudiantes de quinto semestre de la licenciatura en matemáticas.   \n"
   ]
  },
  {
   "cell_type": "markdown",
   "id": "08f11438",
   "metadata": {},
   "source": [
    "\n",
    "### **Diseño de Taller: Desarrollo de Habilidades Blandas e Inteligencia Emocional para Estudiantes de Licenciatura en Matemáticas**\n"
   ]
  },
  {
   "cell_type": "markdown",
   "id": "7cf7204c",
   "metadata": {},
   "source": [
    "\n",
    "#### **Título del Taller:**\n",
    "**\"Creciendo Juntos: Habilidades Blandas y Resiliencia en el Aula de Análisis Numérico\"**\n"
   ]
  },
  {
   "cell_type": "markdown",
   "id": "0dacfb2a",
   "metadata": {},
   "source": [
    "\n",
    "#### **Objetivo General:**\n",
    "Fomentar habilidades blandas e inteligencia emocional en los estudiantes de quinto semestre de la licenciatura en matemáticas, con el fin de crear un ambiente de aprendizaje inclusivo, resiliente y colaborativo, donde se promueva el trato amable, la asertividad y la capacidad de acoger a todos los compañeros, incluso en momentos de dificultad personal.\n",
    "\n",
    "---\n"
   ]
  },
  {
   "cell_type": "markdown",
   "id": "272003e0",
   "metadata": {},
   "source": [
    "\n",
    "### **Participantes:**\n",
    "- 6 estudiantes de quinto semestre de la licenciatura en matemáticas.\n",
    "- Facilitador (tú, como profesor).\n",
    "\n",
    "---\n"
   ]
  },
  {
   "cell_type": "markdown",
   "id": "ff503bc4",
   "metadata": {},
   "source": [
    "\n",
    "### **Metodología:**\n",
    "- **Actividades prácticas**: Dinámicas grupales, juegos de roles y ejercicios de reflexión.\n",
    "- **Espacios de diálogo**: Discusiones guiadas y círculos de conversación.\n",
    "- **Herramientas visuales**: Uso de pizarras, tarjetas y materiales didácticos.\n",
    "- **Enfoque vivencial**: Basado en las experiencias personales de los estudiantes.\n",
    "\n",
    "---\n"
   ]
  },
  {
   "cell_type": "markdown",
   "id": "b2c0f8f3",
   "metadata": {},
   "source": [
    "\n",
    "### **Estructura del Taller:**\n"
   ]
  },
  {
   "cell_type": "markdown",
   "id": "587131ff",
   "metadata": {},
   "source": [
    "\n",
    "#### **Sesión 1: Conociéndonos y Construyendo Confianza**\n",
    "**Objetivo:** Establecer un ambiente seguro y de confianza donde los estudiantes se sientan cómodos compartiendo sus experiencias y emociones.\n",
    "\n",
    "1. **Dinámica de presentación** (30 minutos):\n",
    "   - Cada estudiante comparte su nombre, una cualidad que aprecia de sí mismo y un desafío personal que ha enfrentado.\n",
    "   - Uso de tarjetas con preguntas guía para facilitar la participación.\n",
    "\n",
    "2. **Actividad: El árbol de las emociones** (45 minutos):\n",
    "   - En una pizarra, se dibuja un árbol. Cada estudiante escribe en una hoja de papel una emoción que ha sentido en clase (positiva o negativa) y la pega en el árbol.\n",
    "   - Discusión grupal sobre cómo esas emociones afectan el aprendizaje y la convivencia.\n",
    "\n",
    "3. **Reflexión final** (15 minutos):\n",
    "   - Pregunta guía: ¿Cómo podemos apoyarnos mutuamente para crear un ambiente más acogedor?\n",
    "\n",
    "---\n"
   ]
  },
  {
   "cell_type": "markdown",
   "id": "c486d389",
   "metadata": {},
   "source": [
    "\n",
    "#### **Sesión 2: Comunicación Asertiva y Palabras Amables**\n"
   ]
  },
  {
   "cell_type": "markdown",
   "id": "c30511a8",
   "metadata": {},
   "source": [
    "**Objetivo:** Desarrollar habilidades de comunicación asertiva y aprender a usar palabras que fomenten la inclusión y el respeto.\n",
    "\n",
    "1. **Juego de roles: Comunicación efectiva** (40 minutos):\n",
    "   - Los estudiantes se dividen en parejas y practican escenarios comunes en el aula (por ejemplo, pedir ayuda, dar feedback, resolver conflictos).\n",
    "   - Se enfatiza el uso de palabras amables y constructivas.\n",
    "\n",
    "2. **Actividad: El poder de las palabras** (30 minutos):\n",
    "   - Cada estudiante escribe en un papel una frase que le haya hecho sentir bien y otra que le haya lastimado.\n",
    "   - Discusión grupal sobre el impacto de las palabras en las emociones y el aprendizaje.\n",
    "\n",
    "3. **Reflexión final** (20 minutos):\n",
    "   - Pregunta guía: ¿Cómo podemos usar nuestras palabras para construir un ambiente de apoyo mutuo?\n",
    "\n",
    "---\n"
   ]
  },
  {
   "cell_type": "markdown",
   "id": "f5112545",
   "metadata": {},
   "source": [
    "\n",
    "#### **Sesión 3: Resiliencia y Manejo de Pérdidas**\n",
    "**Objetivo:** Fortalecer la resiliencia y aprender a manejar las emociones relacionadas con pérdidas personales.\n"
   ]
  },
  {
   "cell_type": "markdown",
   "id": "2e95a69f",
   "metadata": {},
   "source": [
    "\n",
    "1. **Dinámica: La ola de las emociones** (30 minutos):\n",
    "   - Los estudiantes dibujan una \"ola\" que representa los altibajos emocionales que han experimentado.\n",
    "   - Comparten cómo han superado momentos difíciles.\n",
    "\n",
    "2. **Actividad: Caja de herramientas emocionales** (40 minutos):\n",
    "   - Cada estudiante identifica estrategias que le han ayudado a manejar el estrés o el dolor (por ejemplo, meditación, ejercicio, hablar con amigos).\n",
    "   - Se crea una lista grupal de \"herramientas emocionales\" que todos pueden usar.\n",
    "\n",
    "3. **Reflexión final** (20 minutos):\n",
    "   - Pregunta guía: ¿Cómo podemos apoyarnos mutuamente en momentos de dificultad?\n",
    "\n",
    "---\n"
   ]
  },
  {
   "cell_type": "markdown",
   "id": "ce75a039",
   "metadata": {},
   "source": [
    "\n",
    "#### **Sesión 4: Creando un Aula Inclusiva y Resiliente**\n"
   ]
  },
  {
   "cell_type": "markdown",
   "id": "e5344de2",
   "metadata": {},
   "source": [
    "**Objetivo:** Consolidar las habilidades aprendidas y aplicarlas en el contexto del curso de Análisis Numérico.\n",
    "\n",
    "1. **Actividad: El aula ideal** (40 minutos):\n",
    "   - Los estudiantes trabajan en grupos para diseñar un \"aula ideal\" donde todos se sientan acogidos y apoyados.\n",
    "   - Presentan sus propuestas y se discuten formas de implementarlas en el curso.\n",
    "\n",
    "2. **Dinámica: Compromisos personales** (30 minutos):\n",
    "   - Cada estudiante escribe un compromiso personal para contribuir a un ambiente de aprendizaje positivo (por ejemplo, \"Escuchar con atención\", \"Usar palabras amables\").\n",
    "   - Los compromisos se comparten y se colocan en un mural grupal.\n",
    "\n",
    "3. **Cierre del taller** (20 minutos):\n",
    "   - Reflexión final: ¿Qué hemos aprendido y cómo lo aplicaremos en nuestra vida académica y personal?\n",
    "   - Entrega de un \"diploma simbólico\" a cada estudiante por su participación y compromiso.\n",
    "\n",
    "---\n"
   ]
  },
  {
   "cell_type": "markdown",
   "id": "272e263b",
   "metadata": {},
   "source": [
    "\n",
    "### **Materiales Necesarios:**\n",
    "- Tarjetas con preguntas guía.\n",
    "- Papel, lápices y marcadores.\n",
    "- Pizarra o papelógrafo.\n",
    "- Hojas de papel para actividades.\n",
    "- Material para crear un mural grupal.\n",
    "\n",
    "---\n"
   ]
  },
  {
   "cell_type": "markdown",
   "id": "a807574d",
   "metadata": {},
   "source": [
    "\n",
    "### **Evaluación del Taller:**\n",
    "1. **Evaluación formativa**:\n",
    "   - Observación del facilitador durante las actividades.\n",
    "   - Retroalimentación verbal al final de cada sesión.\n",
    "\n",
    "2. **Evaluación sumativa**:\n",
    "   - Encuesta anónima al final del taller para medir la satisfacción y el aprendizaje.\n",
    "   - Seguimiento en el aula para observar la aplicación de las habilidades aprendidas.\n",
    "\n",
    "---\n"
   ]
  },
  {
   "cell_type": "markdown",
   "id": "eff5e788",
   "metadata": {},
   "source": [
    "\n",
    "### **Resultados Esperados:**\n",
    "- Los estudiantes desarrollan habilidades de comunicación asertiva y empatía.\n",
    "- Se crea un ambiente de aprendizaje más inclusivo y resiliente.\n",
    "- Los estudiantes se sienten más capaces de manejar emociones difíciles y apoyar a sus compañeros.\n",
    "- Mejora la cohesión grupal y la capacidad de trabajar en equipo.\n",
    "\n",
    "---\n"
   ]
  },
  {
   "cell_type": "markdown",
   "id": "0b37bc28",
   "metadata": {},
   "source": [
    "\n",
    "Este taller no solo fortalecerá las habilidades blandas de tus estudiantes, sino que también les brindará herramientas para enfrentar desafíos personales y académicos, creando un ambiente de aprendizaje más humano y efectivo. ¡Éxito en la implementación! \n"
   ]
  },
  {
   "cell_type": "markdown",
   "id": "cf930b80",
   "metadata": {},
   "source": [
    "### **Actividad de 5 Minutos: \"El Puente de la Colaboración\"**\n",
    "\n",
    "**Objetivo:** Desarrollar habilidades sociales para manejar sentimientos de incomodidad cuando hay desigualdad en el esfuerzo o situaciones de fraude en el trabajo grupal.\n",
    "\n",
    "---\n"
   ]
  },
  {
   "cell_type": "markdown",
   "id": "858923a4",
   "metadata": {},
   "source": [
    "\n",
    "#### **Instrucciones:**\n",
    "\n",
    "1. **Preparación** (1 minuto):\n",
    "   - El facilitador (tú) explica el objetivo de la actividad: \"Vamos a practicar cómo manejar situaciones incómodas en el trabajo en equipo, especialmente cuando algunos sienten que están trabajando más que otros o cuando hay deshonestidad.\"\n"
   ]
  },
  {
   "cell_type": "markdown",
   "id": "8cefa172",
   "metadata": {},
   "source": [
    "\n",
    "2. **Dinámica** (3 minutos):\n",
    "   - **Paso 1:** Divide a los estudiantes en parejas.\n",
    "   - **Paso 2:** Asigna roles:\n",
    "     - **Persona A:** Representa a un estudiante que siente que está trabajando más que su compañero.\n",
    "     - **Persona B:** Representa a un estudiante que no está contribuyendo equitativamente o que ha cometido fraude.\n",
    "   - **Paso 3:** Las parejas practican una conversación asertiva. La **Persona A** expresa sus sentimientos de manera respetuosa, usando frases como:\n",
    "     - \"Me siento incómodo porque siento que estoy haciendo más trabajo del que me corresponde.\"\n",
    "     - \"Me preocupa que no estemos siguiendo las reglas del curso.\"\n",
    "   - La **Persona B** responde con empatía, usando frases como:\n",
    "     - \"Entiendo cómo te sientes. No era mi intención que cargaras con todo el trabajo.\"\n",
    "     - \"¿Cómo podemos resolver esto juntos?\"\n"
   ]
  },
  {
   "cell_type": "markdown",
   "id": "fe349cf1",
   "metadata": {},
   "source": [
    "\n",
    "3. **Reflexión grupal** (1 minuto):\n",
    "   - Pregunta guía: \"¿Qué aprendimos sobre cómo manejar estas situaciones de manera respetuosa y constructiva?\"\n",
    "   - Los estudiantes comparten brevemente sus reflexiones.\n",
    "\n",
    "---\n"
   ]
  },
  {
   "cell_type": "markdown",
   "id": "44b25699",
   "metadata": {},
   "source": [
    "\n",
    "#### **Beneficios de la Actividad:**\n",
    "- Fomenta la comunicación asertiva y empática.\n",
    "- Ayuda a los estudiantes a expresar sus sentimientos de incomodidad sin confrontación.\n",
    "- Promueve la resolución colaborativa de conflictos.\n",
    "- Prepara a los estudiantes para manejar situaciones reales en el aula o en trabajos grupales.\n",
    "\n",
    "---\n"
   ]
  },
  {
   "cell_type": "markdown",
   "id": "ede536d9",
   "metadata": {},
   "source": [
    "\n",
    "### **Integración en el Taller:**\n",
    "Esta actividad se puede incluir al final de la **Sesión 2: Comunicación Asertiva y Palabras Amables**, ya que refuerza las habilidades de comunicación aprendidas y las aplica a un escenario común en el aula.\n",
    "\n",
    "---\n"
   ]
  },
  {
   "cell_type": "markdown",
   "id": "9eab26e4",
   "metadata": {},
   "source": [
    "\n",
    "### **Nota para el Facilitador:**\n",
    "- Asegúrate de crear un ambiente seguro donde los estudiantes se sientan cómodos practicando estas conversaciones.\n",
    "- Si surge alguna tensión durante la actividad, guía a los estudiantes para que mantengan un tono respetuoso y constructivo.\n",
    "\n",
    "Con esta actividad, tus estudiantes desarrollarán herramientas prácticas para manejar situaciones incómodas y fomentar un ambiente de colaboración y honestidad en el curso de Análisis Numérico. "
   ]
  },
  {
   "cell_type": "markdown",
   "id": "d0b60773",
   "metadata": {},
   "source": [
    "### **Diseño de Clase: \"La Regla de Simpson para Integración Numérica con Aplicaciones a la Ingeniería Agropecuaria\"**\n",
    "\n",
    "---\n"
   ]
  },
  {
   "cell_type": "markdown",
   "id": "96e8a9d9",
   "metadata": {},
   "source": [
    "\n",
    "### **1. Título de la Clase**\n",
    "**\"Aplicación de la Regla de Simpson en la Ingeniería Agropecuaria: Un Enfoque STEAM y Aprendizaje Basado en Problemas y Proyectos (ABPP) para formación de licenciados en Matemática\"**\n",
    "\n",
    "---\n"
   ]
  },
  {
   "cell_type": "markdown",
   "id": "9b79aadf",
   "metadata": {},
   "source": [
    "\n",
    "### **2. Objetivo de Aprendizaje**\n",
    "**Objetivo General:**  \n",
    "Comprender y aplicar la regla de Simpson para la integración numérica, utilizando herramientas computacionales y visualizaciones interactivas, con aplicaciones en problemas de ingeniería agropecuaria.\n"
   ]
  },
  {
   "cell_type": "markdown",
   "id": "d745d728",
   "metadata": {},
   "source": [
    "\n",
    "**Indicadores de Logro:**  \n"
   ]
  },
  {
   "cell_type": "markdown",
   "id": "b2366b2f",
   "metadata": {},
   "source": [
    "1. **Conceptual:**  \n",
    "   - Explicar geométrica, verbal, algebraica y computacionalmente la regla de Simpson.  \n",
    "   - Identificar las ventajas y limitaciones de la regla de Simpson frente a otros métodos de integración numérica.  \n",
    "\n",
    "2. **Procedimental:**  \n",
    "   - Implementar la regla de Simpson en Python, GeoGebra, Excel, utilizando `numpy`, `sympy`, y `matplotlib`.  \n",
    "   - Resolver problemas de ingeniería agropecuaria aplicando la regla de Simpson.  \n",
    "\n",
    "3. **Actitudinal:**  \n",
    "   - Valorar la importancia de la integración numérica en la solución de problemas reales.  \n",
    "   - Fomentar el trabajo colaborativo y la comunicación asertiva en el desarrollo de proyectos.  \n",
    "\n",
    "---\n"
   ]
  },
  {
   "cell_type": "markdown",
   "id": "832172b0",
   "metadata": {},
   "source": [
    "\n",
    "### **3. Mapa Conceptual**\n",
    "El mapa conceptual resume los conceptos clave de la clase, incluyendo la regla de Simpson, sus aplicaciones en ingeniería agropecuaria, y las herramientas computacionales utilizadas.\n"
   ]
  },
  {
   "cell_type": "code",
   "execution_count": 4,
   "id": "5cbce150",
   "metadata": {},
   "outputs": [
    {
     "data": {
      "text/plain": [
       "'C:\\\\Users\\\\marco\\\\Downloads\\\\SimpsonRuleMap.png'"
      ]
     },
     "execution_count": 4,
     "metadata": {},
     "output_type": "execute_result"
    }
   ],
   "source": [
    "\n",
    "from graphviz import Digraph\n",
    "\n",
    "# Crear el gráfico\n",
    "graph = Digraph('SimpsonRule', format='png')\n",
    "graph.attr(overlap='scalexy')  # Evitar superposiciones\n",
    "graph.attr('node', shape='box', style='filled', color='lightblue')\n",
    "graph.attr('edge', color='gray')\n",
    "\n",
    "# Nodos\n",
    "graph.node('A', 'Regla de Simpson')\n",
    "graph.node('B', 'Aplicaciones en Ingeniería Agropecuaria')\n",
    "graph.node('C', 'Implementación en Python, GeoGebra y Excel')\n",
    "graph.node('D', 'Visualización con Matplotlib')\n",
    "graph.node('E', 'Herramientas: Numpy, SymPy, GeoGebra')\n",
    "graph.node('F', 'Aprendizaje Basado en Problemas y Proyectos (ABPP)')\n",
    "\n",
    "# Edges\n",
    "graph.edge('A', 'B', label='Resuelve problemas de área y volumen')\n",
    "graph.edge('A', 'C', label='Código en Python')\n",
    "graph.edge('C', 'D', label='Gráficos interactivos')\n",
    "graph.edge('C', 'E', label='Integración con herramientas')\n",
    "graph.edge('F', 'A', label='Enfoque práctico')\n",
    "\n",
    "# Renderizar y mostrar\n",
    "graph.render(\"C:\\\\Users\\\\marco\\\\Downloads\\\\SimpsonRuleMap\", view=True)\n",
    "\n"
   ]
  },
  {
   "cell_type": "markdown",
   "id": "80e2d54c",
   "metadata": {},
   "source": [
    "\n",
    "### **4. Elementos Históricos y Epistemológicos**\n",
    "**Historieta: \"El Cuento de Thomas Simpson y la Curva Perfecta\"**  \n",
    "*Narrado al estilo de un cuentero antioqueño:*\n",
    "\n",
    "\"Érase una vez, en el siglo XVIII, un matemático inglés llamado Thomas Simpson. Este hombre, con su sombrero de copa y su bastón, caminaba por las calles de Londres pensando en cómo calcular áreas bajo curvas complicadas. Un día, mientras observaba a un agricultor medir su terreno, se le ocurrió una idea brillante: ¿por qué no aproximar la curva con parábolas en lugar de rectas? Así nació la regla de Simpson, un método que revolucionó el cálculo numérico y que hoy usamos para resolver problemas de ingeniería agropecuaria, como calcular el volumen de un silo o el área de un cultivo irregular.\"\n"
   ]
  },
  {
   "cell_type": "markdown",
   "id": "18d0681e",
   "metadata": {},
   "source": [
    "<img src = 'https://grupoacura.com/wp-content/uploads/2021/09/que-es-un-silo-2-1.jpg'>"
   ]
  },
  {
   "cell_type": "markdown",
   "id": "fe1b73b9",
   "metadata": {},
   "source": [
    "\n",
    "*Imágenes:*  \n",
    "- Thomas Simpson (imagen histórica).  \n",
    "- Agricultor midiendo un terreno (ilustración).  \n",
    "\n",
    "<img src = 'simpson_integral.webp'>\n",
    "---\n"
   ]
  },
  {
   "cell_type": "code",
   "execution_count": null,
   "id": "3f4847e7",
   "metadata": {},
   "outputs": [],
   "source": [
    "from PIL import Image\n",
    "\n",
    "def convert_to_jpeg(input_path, output_path):\n",
    "    \"\"\"\n",
    "    Convierte una imagen en formato PNG a formato JPEG usando Pillow.\n",
    "    \n",
    "    :param input_path: Ruta de la imagen de entrada en formato webp.\n",
    "    :param output_path: Ruta de la imagen de salida en formato JPEG.\n",
    "    \"\"\"\n",
    "    with Image.open(input_path) as img:\n",
    "        rgb_img = img.convert(\"RGB\")  # Convertir a modo RGB para JPEG\n",
    "        rgb_img.save(output_path, \"JPEG\")\n",
    "\n",
    "# Uso de la función\n",
    "convert_to_jpeg(\"simpson_integral.webp\", \n",
    "                \"simpson_integral.jpeg\")\n"
   ]
  },
  {
   "cell_type": "markdown",
   "id": "ebe553c2",
   "metadata": {},
   "source": [
    "\n",
    "### **5. Contenido de la Clase**\n"
   ]
  },
  {
   "cell_type": "markdown",
   "id": "1f37c974",
   "metadata": {},
   "source": [
    "\n",
    "#### **5.1. Presentación Geométrica del Algoritmo de Simpson**\n",
    "- **Explicación:**  \n",
    "  La regla de Simpson aproxima el área bajo una curva dividiéndola en segmentos y ajustando parábolas a cada trio de puntos.  \n",
    "  - Fórmula geométrica:  \n",
    "\n",
    "    $$ \\int_{a}^{b} f(x) \\ dx \\approx \\sum_{i = 1}^{n} \\frac{1}{3} \\Delta x [f(x_{i-1}) + 4f\\left( \\frac{x_{i-1}+x_{i}}{2} \\right) + f(x_{i})] $$\n",
    "\n",
    " $$ \\text{donde} \\quad \\frac{1}{3} \\Delta x \\left[f(x_{i-1}) + 4f\\left( \\frac{x_{i-1}+x_{i}}{2} \\right) + f(x_{i}) \\right] \\quad \\text{ es el área del $i$-esimo \"trapecio parabólico\"} $$   \n",
    "\n",
    " Con esta fórmula, podemos aproximar el área bajo la curva de $f$ con $n$ par o impar.    \n"
   ]
  },
  {
   "cell_type": "markdown",
   "id": "6a4f8167",
   "metadata": {},
   "source": [
    "Esta fórmula se puede escribir, sin el uso del operador sigma, y asumiento que $n$ es par así:  \n",
    "\n",
    "$$\n",
    "    \\int_a^b f(x) \\, dx \\approx \\frac{h}{3} \\left[ f(x_0) + 4f(x_1) + 2f(x_2) + 4f(x_3) + \\dots + f(x_n) \\right]\n",
    "$$\n"
   ]
  },
  {
   "cell_type": "markdown",
   "id": "96b61849",
   "metadata": {},
   "source": [
    "# Visualización en Python:  \n"
   ]
  },
  {
   "cell_type": "code",
   "execution_count": 3,
   "id": "4965d14d",
   "metadata": {},
   "outputs": [
    {
     "data": {
      "image/png": "[encoded data removed]",
      "text/plain": [
       "<Figure size 640x480 with 1 Axes>"
      ]
     },
     "metadata": {},
     "output_type": "display_data"
    }
   ],
   "source": [
    "import numpy as np\n",
    "import matplotlib.pyplot as plt\n",
    "\n",
    "def f(x):\n",
    "    return np.sin(x)  # Función de ejemplo\n",
    "\n",
    "a, b = 0, np.pi\n",
    "x = np.linspace(a, b, 100)\n",
    "y = f(x)\n",
    "\n",
    "plt.plot(x, y, label='f(x) = sin(x)')\n",
    "plt.fill_between(x, y, alpha=0.2)\n",
    "plt.title('Regla de Simpson: Aproximación Parabólica')\n",
    "plt.legend()\n",
    "plt.grid(alpha = 0.5)\n",
    "save_fig('seno_para_simpson')\n",
    "plt.show()\n",
    "\n"
   ]
  },
  {
   "cell_type": "markdown",
   "id": "54461e3d",
   "metadata": {},
   "source": [
    "\n",
    "#### **5.2. Presentación Verbal del Algoritmo**\n"
   ]
  },
  {
   "cell_type": "markdown",
   "id": "baededfa",
   "metadata": {},
   "source": [
    "- **Pasos:**  \n",
    "  1. Definir con numpy a la función $f$ a integrar. \n",
    "  1. Dividir el intervalo $[a, b]$ en $n$ subintervalos ($n$ debe ser par).  \n",
    "  2. Calcular el ancho de cada subintervalo: $h = \\frac{b - a}{n}$.  \n",
    "  3. Evaluar la función en los puntos $x_0, x_1, \\dots, x_n$.  \n",
    "  4. Aplicar la fórmula de Simpson.  \n"
   ]
  },
  {
   "cell_type": "markdown",
   "id": "24c67674",
   "metadata": {},
   "source": [
    "# 5.3 Secuencia gráfica del algoritmo de Simpson"
   ]
  },
  {
   "cell_type": "code",
   "execution_count": null,
   "id": "e3caa798",
   "metadata": {},
   "outputs": [],
   "source": [
    "import numpy as np "
   ]
  },
  {
   "cell_type": "markdown",
   "id": "6bbe2fae",
   "metadata": {},
   "source": [
    "\n",
    "#### **5.4. Implementación en Python**\n"
   ]
  },
  {
   "cell_type": "code",
   "execution_count": null,
   "id": "217d0952",
   "metadata": {},
   "outputs": [
    {
     "name": "stdout",
     "output_type": "stream",
     "text": [
      "Resultado: 2.0045597549844207\n"
     ]
    }
   ],
   "source": [
    "def simpson_rule(f, a, b, n):\n",
    "    \"\"\"_summary_\n",
    "\n",
    "    Args:\n",
    "        f (_type_): _description_\n",
    "        a (_type_): _description_\n",
    "        b (_type_): _description_\n",
    "        n (int64): Es un entero par\n",
    "\n",
    "    Returns:\n",
    "        _type_: _description_\n",
    "    \"\"\"\n",
    "    h = (b - a) / n # step size o longitud de cada subintervalo de la partición o \n",
    "    # altura del trapecio parabólico. \n",
    "    x = np.linspace(a, b, n+1)\n",
    "    y = f(x)\n",
    "    return (h/3) * (y[0] + 4*np.sum(y[1:-1:2]) + 2*np.sum(y[2:-2:2]) + y[-1])\n"
   ]
  },
  {
   "cell_type": "code",
   "execution_count": null,
   "id": "ae3d1f3d",
   "metadata": {},
   "outputs": [],
   "source": [
    "\n",
    "# Ejemplo\n",
    "result = simpson_rule(np.sin, 0, np.pi, 4)\n",
    "print(f\"Resultado: {result}\")\n"
   ]
  },
  {
   "cell_type": "markdown",
   "id": "b9e68034",
   "metadata": {},
   "source": [
    "\n",
    "#### **5.5. Presentación Algebraica**\n",
    "- Fórmula general:  \n",
    "  $$\n",
    "  \\int_a^b f(x) \\, dx \\approx \\frac{h}{3} \\left[ f(x_0) + 4 \\sum_{i=1,3,5,\\dots}^{n-1} f(x_i) + 2 \\sum_{i=2,4,6,\\dots}^{n-2} f(x_i) + f(x_n) \\right]\n",
    "  $$\n",
    "\n",
    "---\n"
   ]
  },
  {
   "cell_type": "markdown",
   "id": "542782bf",
   "metadata": {},
   "source": [
    "\n",
    "### **6. Implementación en Herramientas**\n",
    "- **Casio 991LA cw:** Usar la función de integración numérica.  \n",
    "- **GeoGebra:** Crear una función y aplicar la regla de Simpson.  \n",
    "- **Hojas de Cálculo:** Implementar la fórmula en Excel(de Microsoft) o Sheets(de Google).  \n",
    "\n",
    "---\n"
   ]
  },
  {
   "cell_type": "markdown",
   "id": "1acae432",
   "metadata": {},
   "source": [
    "\n",
    "### **7. Función de Usuario en Python**\n"
   ]
  },
  {
   "cell_type": "code",
   "execution_count": 5,
   "id": "03b9cc4c",
   "metadata": {},
   "outputs": [],
   "source": [
    "\n",
    "def find_n_for_precision(f, a, b, epsilon=0.0001):\n",
    "    n = 2\n",
    "    while True:\n",
    "        result = simpson_rule(f, a, b, n)\n",
    "        if abs(result - simpson_rule(f, a, b, 2*n)) < epsilon:\n",
    "            return n\n",
    "        n *= 2\n",
    "\n"
   ]
  },
  {
   "cell_type": "code",
   "execution_count": 12,
   "id": "420472df",
   "metadata": {},
   "outputs": [
    {
     "data": {
      "text/plain": [
       "2"
      ]
     },
     "execution_count": 12,
     "metadata": {},
     "output_type": "execute_result"
    }
   ],
   "source": [
    "import numpy as np \n",
    "f = lambda x: x**3\n",
    "a, b = 0, 4\n",
    "epsilon = 0.0001\n",
    "find_n_for_precision(f, a, b, epsilon)\n"
   ]
  },
  {
   "cell_type": "markdown",
   "id": "ca7a23fc",
   "metadata": {},
   "source": [
    "## Cnclusiones del uso de esta función `find_n_for_precision()`"
   ]
  },
  {
   "cell_type": "markdown",
   "id": "8b0f60d2",
   "metadata": {},
   "source": [
    "\n",
    "### **8. Actividades de Aprendizaje**\n",
    "- **Pruebas de Escritorio:** Verificar el algoritmo paso a paso.  \n",
    "- **Diagrama de Flujo:** Crear un diagrama para la regla de Simpson.  \n",
    "- **Implementación en Python:** Resolver problemas de ingeniería agropecuaria.  \n",
    "\n",
    "---\n"
   ]
  },
  {
   "cell_type": "markdown",
   "id": "47861a6e",
   "metadata": {},
   "source": [
    "* Incluye 10 ejercicios sobre determinación de la única parábola $y = f(x) = ax^{2} + bx + c$ que pase por tres del plano no alineados. \n",
    "   * Incluye 10 ejercicios dobre verificación de la fórmula de Simpson para la determinación del área bajo un segmento parabólico."
   ]
  },
  {
   "cell_type": "markdown",
   "id": "373335e5",
   "metadata": {},
   "source": []
  },
  {
   "cell_type": "markdown",
   "id": "a6f194a5",
   "metadata": {},
   "source": [
    "\n",
    "### **9. Canción o Poema**\n",
    "**Poema: \"La Parábola de Simpson\"**  \n",
    "\"Bajo la curva, una parábola se alza,  \n",
    "Simpson la usa, su método nos abraza.  \n",
    "Con Python y números, el área se halla,  \n",
    "En la ingeniería, su uso no falla.\"  \n",
    "\n",
    "---\n"
   ]
  },
  {
   "cell_type": "markdown",
   "id": "fe585448",
   "metadata": {},
   "source": [
    "\n",
    "### **10. Tareas**\n",
    "1. **Descripción Geométrica:** Dibujar la aproximación parabólica.  \n",
    "2. **Descripción Verbal:** Explicar los pasos del algoritmo.  \n",
    "3. **Implementación en Python:** Resolver un problema de área.  \n",
    "4. **Cálculo Manual:** Aplicar la regla de Simpson para $n=4$.  \n",
    "\n",
    "---\n"
   ]
  },
  {
   "cell_type": "markdown",
   "id": "76e7bec7",
   "metadata": {},
   "source": [
    "\n",
    "### **11. Evaluación**\n",
    "- **Proyectos:** 10 problemas de ingeniería agropecuaria.  \n",
    "- **Quiz:** Preguntas conceptuales y procedimentales.  \n",
    "- **Parcial:** Implementación en Python y cálculo manual.  \n",
    "\n",
    "---\n"
   ]
  },
  {
   "cell_type": "markdown",
   "id": "02ea00a3",
   "metadata": {},
   "source": [
    "\n",
    "### **12. Retroalimentación**\n",
    "- **Círculo de Conversación:** Discutir los errores comunes y cómo corregirlos.  \n",
    "\n",
    "---\n"
   ]
  },
  {
   "cell_type": "markdown",
   "id": "d838eadb",
   "metadata": {},
   "source": [
    "\n",
    "### **13. Vocabulario en Inglés**\n",
    "- **Integration:** Integración.  \n",
    "- **Parabola:** Parábola.  \n",
    "- **Numerical Methods:** Métodos numéricos.  \n",
    "- **Precision:** Precisión.  \n",
    "\n",
    "---\n"
   ]
  },
  {
   "cell_type": "markdown",
   "id": "daf8f791",
   "metadata": {},
   "source": [
    "\n",
    "### **14. Apéndice: Habilidades Blandas**\n",
    "- **Trabajo en Equipo:** Dinámicas de colaboración.  \n",
    "- **Asertividad y Empatía:** Cómo comunicar errores sin confrontación.  \n",
    "- **Inteligencia Emocional:** Manejo del estrés en evaluaciones.  \n",
    "\n",
    "---\n"
   ]
  },
  {
   "cell_type": "markdown",
   "id": "ec028e33",
   "metadata": {},
   "source": [
    "\n",
    "### **15. Referentes en Didáctica**\n",
    "1. Duval, R. (2006). *Representaciones y cambios de representación para la adquisición de conceptos matemáticos*.  \n",
    "2. Wing, J. (2006). *Computational Thinking*.  \n",
    "3. ... (otros 8 referentes en APA).  \n",
    "\n",
    "---\n"
   ]
  },
  {
   "cell_type": "markdown",
   "id": "33391aa5",
   "metadata": {},
   "source": [
    "\n",
    "Este diseño de clase integra el enfoque STEAM, ABPP y herramientas computacionales para un aprendizaje experiencial y significativo. "
   ]
  },
  {
   "cell_type": "markdown",
   "id": "780f9ff5",
   "metadata": {},
   "source": [
    "[Video de presentación de la estructura de la clase]()"
   ]
  },
  {
   "cell_type": "markdown",
   "id": "9089a24d",
   "metadata": {},
   "source": [
    "# Implementación de la clase del Método de Simpson \n"
   ]
  },
  {
   "cell_type": "markdown",
   "id": "2aaa54b9",
   "metadata": {},
   "source": [
    "\n",
    "### **Diseño de Clase: \"La Regla de Simpson para Integración Numérica con Aplicaciones a la Ingeniería Agropecuaria\"**\n",
    "\n",
    "---\n"
   ]
  },
  {
   "cell_type": "markdown",
   "id": "49414eac",
   "metadata": {},
   "source": [
    "\n",
    "### **1. Título de la Clase**\n",
    "**\"Aplicación de la Regla de Simpson en la Ingeniería Agropecuaria: Un Enfoque STEAM y Aprendizaje Basado en Problemas y Proyectos (ABPP)\"**\n",
    "\n",
    "---\n"
   ]
  },
  {
   "cell_type": "markdown",
   "id": "83ab862c",
   "metadata": {},
   "source": [
    "\n",
    "### **2. Objetivo de Aprendizaje**\n",
    "**Objetivo General:**  \n",
    "Comprender y aplicar la regla de Simpson para la integración numérica, utilizando herramientas computacionales y visualizaciones interactivas, con aplicaciones en problemas de ingeniería agropecuaria.\n",
    "\n",
    "**Indicadores de Logro:**  \n",
    "1. **Conceptual:**  \n",
    "   - Explicar geométrica, verbal, algebraica y computacionalmente la regla de Simpson.  \n",
    "   - Identificar las ventajas y limitaciones de la regla de Simpson frente a otros métodos de integración numérica.  \n",
    "\n",
    "2. **Procedimental:**  \n",
    "   - Implementar la regla de Simpson en Python utilizando `numpy`, `sympy`, y `matplotlib`.  \n",
    "   - Resolver problemas de ingeniería agropecuaria aplicando la regla de Simpson.  \n"
   ]
  },
  {
   "cell_type": "markdown",
   "id": "0692db80",
   "metadata": {},
   "source": [
    "\n",
    "3. **Actitudinal:**  \n",
    "   - Valorar la importancia de la integración numérica en la solución de problemas reales.  \n",
    "   - Fomentar el trabajo colaborativo y la comunicación asertiva en el desarrollo de proyectos.  \n",
    "\n",
    "---\n"
   ]
  },
  {
   "cell_type": "markdown",
   "id": "63adf03d",
   "metadata": {},
   "source": [
    "\n",
    "### **3. Mapa Conceptual**\n",
    "El mapa conceptual resume los conceptos clave de la clase, incluyendo la regla de Simpson, sus aplicaciones en ingeniería agropecuaria, y las herramientas computacionales utilizadas.\n"
   ]
  },
  {
   "cell_type": "code",
   "execution_count": 1,
   "id": "8c9d6607",
   "metadata": {},
   "outputs": [
    {
     "data": {
      "text/plain": [
       "'C:\\\\Users\\\\marco\\\\Descargas\\\\SimpsonRuleMap.png'"
      ]
     },
     "execution_count": 1,
     "metadata": {},
     "output_type": "execute_result"
    }
   ],
   "source": [
    "from graphviz import Digraph\n",
    "\n",
    "# Crear el gráfico\n",
    "graph = Digraph('SimpsonRule', format='png')\n",
    "graph.attr(overlap='scalexy')  # Evitar superposiciones\n",
    "graph.attr('node', shape='box', style='filled', color='lightblue')\n",
    "graph.attr('edge', color='gray')\n",
    "\n",
    "# Nodos\n",
    "graph.node('A', 'Regla de Simpson')\n",
    "graph.node('B', 'Aplicaciones en Ingeniería Agropecuaria')\n",
    "graph.node('C', 'Implementación en Python')\n",
    "graph.node('D', 'Visualización con Matplotlib')\n",
    "graph.node('E', 'Herramientas: Numpy, SymPy, GeoGebra')\n",
    "graph.node('F', 'Aprendizaje Basado en Problemas y Proyectos (ABPP)')\n",
    "\n",
    "# Edges\n",
    "graph.edge('A', 'B', label='Resuelve problemas de área y volumen')\n",
    "graph.edge('A', 'C', label='Código en Python')\n",
    "graph.edge('C', 'D', label='Gráficos interactivos')\n",
    "graph.edge('C', 'E', label='Integración con herramientas')\n",
    "graph.edge('F', 'A', label='Enfoque práctico')\n",
    "\n",
    "# Renderizar y mostrar\n",
    "graph.render(\"C:\\\\Users\\\\marco\\\\Descargas\\\\SimpsonRuleMap\", view=True)\n",
    "\n"
   ]
  },
  {
   "cell_type": "markdown",
   "id": "0cece966",
   "metadata": {},
   "source": [
    "\n",
    "---\n",
    "\n",
    "### **4. Elementos Históricos y Epistemológicos**\n",
    "**Historieta: \"El Cuento de Thomas Simpson y la Curva Perfecta\"**  \n",
    "*Narrado al estilo de un cuentero antioqueño:*\n",
    "\n",
    "\"Érase una vez, en el siglo XVIII, un matemático inglés llamado Thomas Simpson. Este hombre, con su sombrero de copa y su bastón, caminaba por las calles de Londres pensando en cómo calcular áreas bajo curvas complicadas. Un día, mientras observaba a un agricultor medir su terreno, se le ocurrió una idea brillante: ¿por qué no aproximar la curva con parábolas en lugar de rectas? Así nació la regla de Simpson, un método que revolucionó el cálculo numérico y que hoy usamos para resolver problemas de ingeniería agropecuaria, como calcular el volumen de un silo o el área de un cultivo irregular.\"\n",
    "\n",
    "*Imágenes:*  \n",
    "- Thomas Simpson (imagen histórica).  \n",
    "- Agricultor midiendo un terreno (ilustración).  \n",
    "\n",
    "---\n"
   ]
  },
  {
   "cell_type": "markdown",
   "id": "b4d9d8ff",
   "metadata": {},
   "source": [
    "\n",
    "### **5. Contenido de la Clase**\n",
    "\n",
    "#### **5.1. Presentación Geométrica del Algoritmo de Simpson**\n"
   ]
  },
  {
   "cell_type": "markdown",
   "id": "a3beafc8",
   "metadata": {},
   "source": [
    "- **Explicación:**  \n",
    "  La regla de Simpson aproxima el área bajo una curva dividiéndola en segmentos y ajustando parábolas a cada trio de puntos.  \n",
    "  - Fórmula geométrica:  \n",
    "    $$\n",
    "    \\int_a^b f(x) \\, dx \\approx \\frac{h}{3} \\left[ f(x_0) + 4f(x_1) + 2f(x_2) + 4f(x_3) + \\dots + f(x_n) \\right]\n",
    "    $$\n",
    "  - Visualización en Python:  \n"
   ]
  },
  {
   "cell_type": "code",
   "execution_count": null,
   "id": "f2ec974a",
   "metadata": {},
   "outputs": [
    {
     "data": {
      "image/png": "[encoded data removed]",
      "text/plain": [
       "<Figure size 640x480 with 1 Axes>"
      ]
     },
     "metadata": {},
     "output_type": "display_data"
    }
   ],
   "source": [
    "import numpy as np\n",
    "import matplotlib.pyplot as plt\n",
    "\n",
    "def f(x):\n",
    "    return np.sin(x)  # Función de ejemplo\n",
    "\n",
    "a, b = 0, np.pi\n",
    "n = 50\n",
    "x = np.linspace(a, b, n) # partición regular de [a, b] \n",
    "y = f(x)\n",
    "\n",
    "plt.plot(x, y, label='f(x) = sin(x)')\n",
    "plt.fill_between(x, y, alpha=0.2)\n",
    "plt.title('Regla de Simpson: Aproximación Parabólica')\n",
    "plt.legend()\n",
    "plt.grid(alpha = 0.4)\n",
    "plt.show()\n",
    "\n"
   ]
  },
  {
   "cell_type": "markdown",
   "id": "7a38be70",
   "metadata": {},
   "source": [
    "\n",
    "#### **5.2. Presentación Verbal del Algoritmo**\n",
    "- **Pasos:**  \n",
    "  1. Dividir el intervalo $[a, b]$ en $n$ subintervalos (debe ser par).  \n",
    "  2. Calcular el ancho de cada subintervalo: $h = \\frac{b - a}{n}$.  \n",
    "  3. Evaluar la función en los puntos $x_0, x_1, \\dots, x_n$.  \n",
    "  4. Aplicar la fórmula de Simpson.  \n"
   ]
  },
  {
   "cell_type": "markdown",
   "id": "ddd3f5f3",
   "metadata": {},
   "source": [
    "\n",
    "#### **5.3. Implementación en Python**\n"
   ]
  },
  {
   "cell_type": "code",
   "execution_count": null,
   "id": "cf2ddf7d",
   "metadata": {},
   "outputs": [],
   "source": [
    "\n",
    "def simpson_rule(f, a, b, n):\n",
    "    h = (b - a) / n\n",
    "    x = np.linspace(a, b, n+1)\n",
    "    y = f(x)\n",
    "    return (h/3) * (y[0] + 4*np.sum(y[1:-1:2]) + 2*np.sum(y[2:-2:2]) + y[-1])\n",
    "\n",
    "# Ejemplo\n",
    "result = simpson_rule(np.sin, 0, np.pi, 4)\n",
    "print(f\"Resultado: {result}\")\n",
    "\n"
   ]
  },
  {
   "cell_type": "markdown",
   "id": "af881a25",
   "metadata": {},
   "source": [
    "\n",
    "#### **5.4. Presentación Algebraica**\n",
    "- Fórmula general:  \n",
    "  $$\n",
    "  \\int_a^b f(x) \\, dx \\approx \\frac{h}{3} \\left[ f(x_0) + 4 \\sum_{i=1,3,5,\\dots}^{n-1} f(x_i) + 2 \\sum_{i=2,4,6,\\dots}^{n-2} f(x_i) + f(x_n) \\right]\n",
    "  $$\n",
    "\n",
    "---\n"
   ]
  },
  {
   "cell_type": "code",
   "execution_count": null,
   "id": "5065f09a",
   "metadata": {},
   "outputs": [],
   "source": [
    "# Secuencia gráfica para el método de Riemann del punto medio  import numpy as np\n",
    "import matplotlib.pyplot as plt\n",
    "\n",
    "# Definimos la función\n",
    "def f(x):\n",
    "    return x**2\n",
    "\n",
    "# Intervalo de integración\n",
    "a, b = 0, 3\n",
    "n = 3                  # Número de subdivisiones\n",
    "dx = (b-a)/n       # Longitud de los subintervalos. Longitud de la base de los rectángulos. \n",
    "# Generamos los puntos de partición y los valores correspondientes\n",
    "x_part = np.arange(a, b + dx, dx)  \n",
    "\n",
    "\n",
    "x_right = x_part[1:]  # Puntos derechos para evaluar la función. Le quita el primer punto de la partición \n",
    "y_right = f(x_right)\n",
    "\n",
    "# Creamos la figura y los subgráficos\n",
    "fig, axes = plt.subplots(1, 3, figsize=(15, 5))\n",
    "\n",
    "# Primer gráfico: Resaltar los puntos de partición\n",
    "axes[0].axhline(0)\n",
    "axes[0].plot(np.linspace(a, b, 1000), f(np.linspace(a, b, 1000)), 'blue', linewidth=2, label='$f(x)$') # grafica de la función seno \n",
    "axes[0].scatter(x_part, np.zeros_like(x_part), color='red', zorder=3, label='Puntos de partición') # puntos de la partición\n",
    "axes[0].set_title('Puntos de partición ($n=3$)')\n",
    "axes[0].legend()\n",
    "axes[0].set_xlabel('$x$')\n",
    "axes[0].set_ylabel('$f(x)$')\n",
    "\n",
    "# Segundo gráfico: Agregar los segmentos de altura f(x_{i+1})\n",
    "axes[1].axhline(0)\n",
    "axes[1].plot(np.linspace(a, b, 1000), f(np.linspace(a, b, 1000)), 'blue', linewidth=2, label='$f(x)$') # grafica de la función seno \n",
    "axes[1].scatter(x_right, np.zeros_like(x_right), color='red', zorder=3, label='Puntos de partición') # extremos derechos de los subintervalos\n",
    "for i in range(0, n):\n",
    "    axes[1].plot([x_right[i], x_right[i]], [0, y_right[i]], 'g--')  # Líneas verticales de altura\n",
    "axes[1].set_title('Alturas $f(x_{i+1})$')\n",
    "axes[1].legend()\n",
    "axes[1].set_xlabel('$x$')\n",
    "axes[1].set_ylabel('$f(x)$')\n",
    "\n",
    "# Tercer gráfico: Agregar los rectángulos de la suma de Riemann\n",
    "axes[2].axhline(0)\n",
    "axes[2].plot(np.linspace(a, b, 1000), f(np.linspace(a, b, 1000)), 'blue', linewidth=2, label='$f(x)$')\n",
    "axes[2].scatter(x_right, np.zeros_like(x_right), color='red', zorder=3, label='Puntos de partición')\n",
    "for i in range(0, n):\n",
    "    axes[2].plot([x_right[i], x_right[i]], [0, y_right[i]], 'g--')  # Líneas verticales\n",
    "    axes[2].bar(x = x_part[i], height = y_right[i-3], width = dx, align='edge', edgecolor='black', alpha=0.5)  # Rectángulos\n",
    "axes[2].set_title('Suma de Riemann Derecha')\n",
    "axes[2].legend()\n",
    "axes[2].set_xlabel('$x$')\n",
    "axes[2].set_ylabel('$f(x)$')\n",
    "\n",
    "plt.tight_layout()  \n",
    "save_fig('descripcion_suma_derecha')\n",
    "plt.show()\n"
   ]
  },
  {
   "cell_type": "code",
   "execution_count": null,
   "id": "ded2dc81",
   "metadata": {},
   "outputs": [],
   "source": [
    "# Secuencia gráfica para el método del trapecio\n",
    "import numpy as np\n",
    "import matplotlib.pyplot as plt\n",
    "\n",
    "# Definimos la función\n",
    "def f(x):\n",
    "    return x**2\n",
    "\n",
    "# Intervalo de integración\n",
    "a, b = 0, 3\n",
    "n = 3                  # Número de subdivisiones\n",
    "dx = (b-a)/n       # Longitud de los subintervalos. Longitud de la base de los rectángulos. \n",
    "# Generamos los puntos de partición y los valores correspondientes\n",
    "x_part = np.arange(a, b + dx, dx)  \n",
    "\n",
    "\n",
    "x_right = x_part[1:]  # Puntos derechos para evaluar la función. Le quita el primer punto de la partición \n",
    "y_right = f(x_right)\n",
    "\n",
    "# Creamos la figura y los subgráficos\n",
    "fig, axes = plt.subplots(1, 3, figsize=(15, 5))\n",
    "\n",
    "# Primer gráfico: Resaltar los puntos de partición\n",
    "axes[0].axhline(0)\n",
    "axes[0].plot(np.linspace(a, b, 1000), f(np.linspace(a, b, 1000)), 'blue', linewidth=2, label='$f(x)$') # grafica de la función seno \n",
    "axes[0].scatter(x_part, np.zeros_like(x_part), color='red', zorder=3, label='Puntos de partición') # puntos de la partición\n",
    "axes[0].set_title('Puntos de partición ($n=3$)')\n",
    "axes[0].legend()\n",
    "axes[0].set_xlabel('$x$')\n",
    "axes[0].set_ylabel('$f(x)$')\n",
    "\n",
    "# Segundo gráfico: Agregar los segmentos de altura f(x_{i+1})\n",
    "axes[1].axhline(0)\n",
    "axes[1].plot(np.linspace(a, b, 1000), f(np.linspace(a, b, 1000)), 'blue', linewidth=2, label='$f(x)$') # grafica de la función seno \n",
    "axes[1].scatter(x_right, np.zeros_like(x_right), color='red', zorder=3, label='Puntos de partición') # extremos derechos de los subintervalos\n",
    "for i in range(0, n):\n",
    "    axes[1].plot([x_right[i], x_right[i]], [0, y_right[i]], 'g--')  # Líneas verticales de altura\n",
    "axes[1].set_title('Alturas $f(x_{i+1})$')\n",
    "axes[1].legend()\n",
    "axes[1].set_xlabel('$x$')\n",
    "axes[1].set_ylabel('$f(x)$')\n",
    "\n",
    "# Tercer gráfico: Agregar los rectángulos de la suma de Riemann\n",
    "axes[2].axhline(0)\n",
    "axes[2].plot(np.linspace(a, b, 1000), f(np.linspace(a, b, 1000)), 'blue', linewidth=2, label='$f(x)$')\n",
    "axes[2].scatter(x_right, np.zeros_like(x_right), color='red', zorder=3, label='Puntos de partición')\n",
    "for i in range(0, n):\n",
    "    axes[2].plot([x_right[i], x_right[i]], [0, y_right[i]], 'g--')  # Líneas verticales\n",
    "    axes[2].bar(x = x_part[i], height = y_right[i-3], width = dx, align='edge', edgecolor='black', alpha=0.5)  # Rectángulos\n",
    "axes[2].set_title('Suma de Riemann Derecha')\n",
    "axes[2].legend()\n",
    "axes[2].set_xlabel('$x$')\n",
    "axes[2].set_ylabel('$f(x)$')\n",
    "\n",
    "plt.tight_layout()  \n",
    "save_fig('descripcion_suma_derecha')\n",
    "plt.show()\n"
   ]
  },
  {
   "cell_type": "code",
   "execution_count": null,
   "id": "09743c09",
   "metadata": {},
   "outputs": [],
   "source": [
    "# Secuencia gráfica del algoritmo de simpson, en matriz de matplotlib   \n",
    "\n",
    "import numpy as np\n",
    "import matplotlib.pyplot as plt\n",
    "\n",
    "# Definimos la función\n",
    "def f(x):\n",
    "    return x**2\n",
    "\n",
    "# Intervalo de integración\n",
    "a, b = 0, 3\n",
    "n = 3                  # Número de subdivisiones\n",
    "dx = (b-a)/n       # Longitud de los subintervalos. Longitud de la base de los rectángulos. \n",
    "# Generamos los puntos de partición y los valores correspondientes\n",
    "x_part = np.arange(a, b + dx, dx)  \n",
    "\n",
    "\n",
    "x_right = x_part[1:]  # Puntos derechos para evaluar la función. Le quita el primer punto de la partición \n",
    "y_right = f(x_right)\n",
    "\n",
    "# Creamos la figura y los subgráficos\n",
    "fig, axes = plt.subplots(1, 3, figsize=(15, 5))\n",
    "\n",
    "# Primer gráfico: Resaltar los puntos de partición\n",
    "axes[0].axhline(0)\n",
    "axes[0].plot(np.linspace(a, b, 1000), f(np.linspace(a, b, 1000)), 'blue', linewidth=2, label='$f(x)$') # grafica de la función seno \n",
    "axes[0].scatter(x_part, np.zeros_like(x_part), color='red', zorder=3, label='Puntos de partición') # puntos de la partición\n",
    "axes[0].set_title('Puntos de partición ($n=3$)')\n",
    "axes[0].legend()\n",
    "axes[0].set_xlabel('$x$')\n",
    "axes[0].set_ylabel('$f(x)$')\n",
    "\n",
    "# Segundo gráfico: Agregar los segmentos de altura f(x_{i+1})\n",
    "axes[1].axhline(0)\n",
    "axes[1].plot(np.linspace(a, b, 1000), f(np.linspace(a, b, 1000)), 'blue', linewidth=2, label='$f(x)$') # grafica de la función seno \n",
    "axes[1].scatter(x_right, np.zeros_like(x_right), color='red', zorder=3, label='Puntos de partición') # extremos derechos de los subintervalos\n",
    "for i in range(0, n):\n",
    "    axes[1].plot([x_right[i], x_right[i]], [0, y_right[i]], 'g--')  # Líneas verticales de altura\n",
    "axes[1].set_title('Alturas $f(x_{i+1})$')\n",
    "axes[1].legend()\n",
    "axes[1].set_xlabel('$x$')\n",
    "axes[1].set_ylabel('$f(x)$')\n",
    "\n",
    "# Tercer gráfico: Agregar los rectángulos de la suma de Riemann\n",
    "axes[2].axhline(0)\n",
    "axes[2].plot(np.linspace(a, b, 1000), f(np.linspace(a, b, 1000)), 'blue', linewidth=2, label='$f(x)$')\n",
    "axes[2].scatter(x_right, np.zeros_like(x_right), color='red', zorder=3, label='Puntos de partición')\n",
    "for i in range(0, n):\n",
    "    axes[2].plot([x_right[i], x_right[i]], [0, y_right[i]], 'g--')  # Líneas verticales\n",
    "    axes[2].bar(x = x_part[i], height = y_right[i-3], width = dx, align='edge', edgecolor='black', alpha=0.5)  # Rectángulos\n",
    "axes[2].set_title('Suma de Riemann Derecha')\n",
    "axes[2].legend()\n",
    "axes[2].set_xlabel('$x$')\n",
    "axes[2].set_ylabel('$f(x)$')\n",
    "\n",
    "plt.tight_layout()  \n",
    "save_fig('descripcion_suma_derecha')\n",
    "plt.show()\n"
   ]
  },
  {
   "cell_type": "markdown",
   "id": "e96eb9a2",
   "metadata": {},
   "source": [
    "\n",
    "### **6. Implementación en Herramientas**\n",
    "- **Casio 991LA cw:** Usar la función de integración numérica.  \n",
    "- **GeoGebra:** Crear una función y aplicar la regla de Simpson.  \n",
    "- **Hojas de Cálculo:** Implementar la fórmula en Excel o Sheets.  \n",
    "\n",
    "---\n"
   ]
  },
  {
   "cell_type": "markdown",
   "id": "8ffd461d",
   "metadata": {},
   "source": [
    "\n",
    "### **7. Función de Usuario en Python**\n"
   ]
  },
  {
   "cell_type": "code",
   "execution_count": 3,
   "id": "88ee9153",
   "metadata": {},
   "outputs": [],
   "source": [
    "def find_n_for_precision(f, a, b, epsilon=0.0001):\n",
    "    n = 2\n",
    "    while True:\n",
    "        result = simpson_rule(f, a, b, n)\n",
    "        if abs(result - simpson_rule(f, a, b, 2*n)) < epsilon:\n",
    "            return n\n",
    "        n *= 2\n",
    "\n"
   ]
  },
  {
   "cell_type": "markdown",
   "id": "4028bba6",
   "metadata": {},
   "source": [
    "\n",
    "---\n",
    "\n",
    "### **8. Actividades de Aprendizaje**\n",
    "- **Pruebas de Escritorio:** Verificar el algoritmo paso a paso.  \n",
    "- **Diagrama de Flujo:** Crear un diagrama para la regla de Simpson.  \n",
    "- **Implementación en Python:** Resolver problemas de ingeniería agropecuaria.  \n",
    "\n",
    "---\n"
   ]
  },
  {
   "cell_type": "markdown",
   "id": "c68108e4",
   "metadata": {},
   "source": [
    "* Incluye 10 ejercicios sobre determinación de la única parábola $y = p(x) = ax^{2} + bx + c$ que pase por tres del plano no alineados. \n",
    "   * Incluye 10 ejercicios dobre verificación de la fórmula de Simpson para la determinación del área bajo un segmento parabólico. \n",
    "     $$ \\int_{x_{0}}^{x_{2}} p(x) dx = \\frac{x_{2} - x_{0}}{6} \\left[ p() + 4p\\left( \\right) + p()   \\right] $$"
   ]
  },
  {
   "cell_type": "markdown",
   "id": "4d656922",
   "metadata": {},
   "source": [
    "\n",
    "### **9. Canción o Poema**\n",
    "**Poema: \"La Parábola de Simpson\"**  \n",
    "\"Bajo la curva, una parábola se alza,  \n",
    "Simpson la usa, su método nos abraza.  \n",
    "Con Python y números, el área se halla,  \n",
    "En la ingeniería, su uso no falla.\"  \n",
    "\n",
    "---\n",
    "\n",
    "### **10. Tareas**\n",
    "1. **Descripción Geométrica:** Dibujar la aproximación parabólica.  \n",
    "2. **Descripción Verbal:** Explicar los pasos del algoritmo.  \n",
    "3. **Implementación en Python:** Resolver un problema de área.  \n",
    "4. **Cálculo Manual:** Aplicar la regla de Simpson para $n=4$.  \n",
    "\n",
    "---\n",
    "\n",
    "### **11. Evaluación**\n",
    "- **Proyectos:** 10 problemas de ingeniería agropecuaria.  \n",
    "- **Quiz:** Preguntas conceptuales y procedimentales.  \n",
    "- **Parcial:** Implementación en Python y cálculo manual.  \n",
    "\n",
    "---\n",
    "\n",
    "### **12. Retroalimentación**\n",
    "- **Círculo de Conversación:** Discutir los errores comunes y cómo corregirlos.  \n",
    "\n",
    "---\n",
    "\n",
    "### **13. Vocabulario en Inglés**\n",
    "- **Integration:** Integración.  \n",
    "- **Parabola:** Parábola.  \n",
    "- **Numerical Methods:** Métodos numéricos.  \n",
    "- **Precision:** Precisión.  \n",
    "\n",
    "---\n",
    "\n",
    "### **14. Apéndice: Habilidades Blandas**\n",
    "- **Trabajo en Equipo:** Dinámicas de colaboración.  \n",
    "- **Asertividad y Empatía:** Cómo comunicar errores sin confrontación.  \n",
    "- **Inteligencia Emocional:** Manejo del estrés en evaluaciones.  \n",
    "\n",
    "---\n",
    "\n",
    "### **15. Referentes en Didáctica**\n",
    "1. Duval, R. (2006). *Representaciones y cambios de representación para la adquisición de conceptos matemáticos*.  \n",
    "2. Wing, J. (2006). *Computational Thinking*.  \n",
    "3. ... (otros 8 referentes en APA).  \n",
    "\n",
    "---\n",
    "\n",
    "Este diseño de clase integra el enfoque STEAM, ABPP y herramientas computacionales para un aprendizaje experiencial y significativo. "
   ]
  },
  {
   "cell_type": "markdown",
   "id": "3ad0b968",
   "metadata": {},
   "source": [
    "**Diseño de Clase Multimodal: Regla de Simpson para Integración Numérica en Ingeniería Agropecuaria**  \n",
    "*Integrando Aula Invertida, STEAMS y ABPP con Python*  \n",
    "\n",
    "---\n"
   ]
  },
  {
   "cell_type": "markdown",
   "id": "00eaa381",
   "metadata": {},
   "source": [
    "\n",
    "### **1. Título de la Clase**  \n",
    "*\"Aplicando la Regla de Simpson: Desde la Geometría hasta Python para Modelar Cultivos\"*  \n",
    "\n",
    "---\n"
   ]
  },
  {
   "cell_type": "markdown",
   "id": "f8b14275",
   "metadata": {},
   "source": [
    "\n",
    "### **2. Objetivos de Aprendizaje**  \n",
    "**Objetivo Principal:**  \n",
    "Aplicar la regla de Simpson para estimar integrales definidas en problemas de ingeniería agropecuaria, utilizando cuatro representaciones (geométrica, verbal, algebraica y computacional).  \n"
   ]
  },
  {
   "cell_type": "markdown",
   "id": "d8899c30",
   "metadata": {},
   "source": [
    "\n",
    "**Indicadores de Logro:**  \n",
    "- El estudiante explica geométricamente la regla de Simpson con dibujos y analogías agrícolas (ej: cálculo de área de cultivos).  \n",
    "- Implementa en Python el método usando `numpy` y `matplotlib` con error < 0.0001.  \n",
    "- Resuelve problemas reales (ej: cálculo de volumen de riego) usando la calculadora Casio 991LA.  \n",
    "- Justifica la elección del método frente a alternativas como el trapecio.  \n",
    "\n",
    "---\n"
   ]
  },
  {
   "cell_type": "markdown",
   "id": "5d79ad44",
   "metadata": {},
   "source": [
    "\n",
    "### **3. Mapa Conceptual en Graphviz**  \n"
   ]
  },
  {
   "cell_type": "code",
   "execution_count": 3,
   "id": "407c97d6",
   "metadata": {},
   "outputs": [
    {
     "data": {
      "text/plain": [
       "'C:\\\\Users\\\\marco\\\\Descargas\\\\simpson_map.png'"
      ]
     },
     "execution_count": 3,
     "metadata": {},
     "output_type": "execute_result"
    }
   ],
   "source": [
    "from graphviz import Digraph\n",
    "\n",
    "# Configurar grafo\n",
    "graph = Digraph(comment='Regla de Simpson', \n",
    "                graph_attr={'overlap': 'false', 'rankdir': 'LR', 'bgcolor': '#F0F8FF'})\n",
    "graph.attr('node', shape='box3d', style='filled', fillcolor='#E6E6FA')\n",
    "\n",
    "# Nodos principales\n",
    "graph.node('A', 'Regla de Simpson\\n(Thomas Simpson, 1743)', shape='ellipse', fillcolor='#98FB98')\n",
    "graph.node('B', 'Aplicaciones Agropecuarias\\n- Volumen de riego\\n- Área de cultivos', fillcolor='#FFD700')\n",
    "graph.node('C', 'Representaciones', fillcolor='#87CEEB')\n",
    "graph.node('D', 'Implementación Python\\n(numpy, matplotlib)', shape='component', fillcolor='#FFB6C1')\n",
    "\n",
    "# Subnodos representaciones\n",
    "with graph.subgraph(name='cluster_rep') as c:\n",
    "    c.attr(color='blue', label='Representaciones según Duval')\n",
    "    c.node('C1', 'Geométrica\\n(gráfica de parábolas)')\n",
    "    c.node('C2', 'Verbal\\n\"Dividir en segmentos pares...\"')\n",
    "    c.node('C3', 'Algebraica\\n$\\\\frac{h}{3}[f(x_0) + 4f(x_1) + f(x_2)]$')\n",
    "    c.node('C4', 'Código Python\\nfor k in range(n): ...')\n",
    "\n",
    "# Edges\n",
    "graph.edges(['AB', 'AC', 'AD'])\n",
    "graph.edge('C', 'C1', style='dashed')\n",
    "graph.edge('C', 'C2', style='dashed')\n",
    "graph.edge('C', 'C3', style='dashed')\n",
    "graph.edge('C', 'C4', style='dashed')\n",
    "graph.edge('D', 'B', label='Simulación', color='red')\n",
    "\n",
    "# Renderizar\n",
    "graph.render(directory='C:\\\\Users\\\\marco\\\\Descargas', filename='simpson_map', view=True, format='png')\n"
   ]
  },
  {
   "cell_type": "markdown",
   "id": "81baac59",
   "metadata": {},
   "source": [
    "```\n",
    "\n",
    "---\n",
    "\n",
    "### **4. Historia Épica del Método**  \n",
    "*\"¡Oiga, mijito! Esto no es cuento de caminos, pero allá por 1743, un inglés medio loco llamado Thomas Simpson, que ni era matemático de academia, se le ocurrió juntar parábolas pa’ medir áreas. Imagínese, como esos surcos que hacemos pa’ sembrar yuca, pero con números. ¡Y funcionó! Hoy hasta la NASA lo usa... ¡y nosotros pa’ calcular cuánta agua necesita el arroz!\"*  \n",
    "**Imagen:** Dibujo estilo cómic de Simpson con sombrero aguadeño y una parábola como machete.  \n",
    "\n",
    "---\n"
   ]
  },
  {
   "cell_type": "markdown",
   "id": "1244a48a",
   "metadata": {},
   "source": [
    "\n",
    "### **5. Contenido de la Clase**  \n",
    "\n",
    "#### **5.1. Algoritmo Geométrico**  \n",
    "```python\n",
    "import matplotlib.pyplot as plt\n",
    "from matplotlib.animation import FuncAnimation\n",
    "from IPython.display import HTML\n",
    "\n",
    "def plot_simpson(f, a, b, n=2):\n",
    "    x = np.linspace(a, b, n*2+1)\n",
    "    y = f(x)\n",
    "    fig, ax = plt.subplots()\n",
    "    ax.plot(x, y, 'bo-')\n",
    "    \n",
    "    # Animación parábolas\n",
    "    for i in range(0, len(x)-2, 2):\n",
    "        x_parab = np.linspace(x[i], x[i+2], 100)\n",
    "        coeffs = np.polyfit(x[i:i+3], y[i:i+3], 2)\n",
    "        ax.plot(x_parab, np.polyval(coeffs, x_parab), 'r--')\n",
    "    \n",
    "    plt.title(f'Regla de Simpson (n={n})')\n",
    "    return HTML(fig.to_html5_video())\n",
    "```\n"
   ]
  },
  {
   "cell_type": "markdown",
   "id": "23c0b287",
   "metadata": {},
   "source": [
    "\n",
    "#### **5.2. Descripción Verbal**  \n",
    "\"Paso 1: Dividir el intervalo [a, b] en $2n$ segmentos iguales. Paso 2: En cada par de segmentos, ajustar una parábola. Paso 3: Sumar el área bajo todas las parábolas.\"  \n",
    "\n",
    "#### **5.3. Código Python**  \n"
   ]
  },
  {
   "cell_type": "markdown",
   "id": "cc66a456",
   "metadata": {},
   "source": [
    "```python\n",
    "def simpson(f, a, b, n):\n",
    "    h = (b - a) / (2*n)\n",
    "    x = np.linspace(a, b, 2*n+1)\n",
    "    y = f(x)\n",
    "    return (h/3) * (y[0] + 4*np.sum(y[1:-1:2]) + 2*np.sum(y[2:-2:2]) + y[-1])\n",
    "```\n"
   ]
  },
  {
   "cell_type": "markdown",
   "id": "a2e9a63a",
   "metadata": {},
   "source": [
    "\n",
    "#### **5.4. Formulación Algebraica**  \n",
    "$$ \\int_a^b f(x)dx \\approx \\frac{h}{3} \\left[ f(x_0) + 4\\sum_{k=1}^{n} f(x_{2k-1}) + 2\\sum_{k=1}^{n-1} f(x_{2k}) + f(x_{2n}) \\right] $$  \n",
    "\n",
    "**Implementación en Casio 991LA:**  \n",
    "1. Ingresar puntos manuales con `MODE` → `TABLE`.  \n",
    "2. Aplicar fórmula manualmente con coeficientes 1-4-2-4-...-1.  \n",
    "\n",
    "---\n"
   ]
  },
  {
   "cell_type": "markdown",
   "id": "8fb10c5d",
   "metadata": {},
   "source": [
    "\n",
    "### **6. Función para Calcular $n$ con Precisión**  \n",
    "```python\n",
    "def calcular_n_trapecios(f, a, b, epsilon=0.0001):\n",
    "    n = 1\n",
    "    error = epsilon + 1\n",
    "    while error > epsilon:\n",
    "        n *= 2\n",
    "        integral_n = simpson(f, a, b, n)\n",
    "        integral_2n = simpson(f, a, b, 2*n)\n",
    "        error = abs(integral_n - integral_2n)\n",
    "    return n\n",
    "```\n",
    "\n",
    "---\n"
   ]
  },
  {
   "cell_type": "markdown",
   "id": "3c4eccec",
   "metadata": {},
   "source": [
    "\n",
    "### **7. Actividades de Aprendizaje**  \n",
    "**Prueba de Escritorio:**  \n",
    "- Dado $f(x) = x^2$ en [0, 2], calcular manualmente con $n=2$.  \n",
    "**Diagrama de Flujo:**  \n",
    "```mermaid\n",
    "graph TD\n",
    "A[Inicio] --> B[Leer a, b, n]\n",
    "B --> C[Calcular h = (b-a)/n]\n",
    "C --> D[Inicializar suma = f(a) + f(b)]\n",
    "D --> E[Iterar i de 1 a n-1]\n",
    "E --> F{¿i par?}\n",
    "F -->|Sí| G[suma += 2*f(a + i*h)]\n",
    "F -->|No| H[suma += 4*f(a + i*h)]\n",
    "G --> I\n",
    "H --> I\n",
    "I --> J[¿Fin?]\n",
    "J -->|No| E\n",
    "J -->|Sí| K[Resultado = h/3 * suma]\n",
    "K --> L[Fin]\n",
    "```\n",
    "\n",
    "---\n"
   ]
  },
  {
   "cell_type": "markdown",
   "id": "99ea0d2f",
   "metadata": {},
   "source": [
    "\n",
    "### **8. Canción de la Integración**  \n",
    "*\"Dividir en partes iguales,  \n",
    "parábolas van a unir,  \n",
    "con coeﬁcientes 1-4-1,  \n",
    "¡Simpson nos hace reír!  \n",
    "Si el error quieres controlar,  \n",
    "duplica n y compara al final.\"*  \n",
    "\n",
    "---\n"
   ]
  },
  {
   "cell_type": "markdown",
   "id": "d7608fe1",
   "metadata": {},
   "source": [
    "\n",
    "### **9. Tarea**  \n",
    "1. **Geométrica:** Dibujar 4 parábolas sobre $f(x) = \\sin(x)$ en [0, π].  \n",
    "2. **Verbal:** Grabar un audio explicando los pasos.  \n",
    "3. **Python:** Implementar en Jupyter con `n=4` usando PowerShell: "
   ]
  },
  {
   "cell_type": "markdown",
   "id": "586c8def",
   "metadata": {},
   "source": [
    " \n",
    "```powershell\n",
    "jupyter notebook simpson.ipynb\n",
    "```\n",
    "4. **Algebraica:** Calcular manualmente $\\int_0^2 x^3 dx$ con $n=4$.  \n",
    "\n",
    "---\n"
   ]
  },
  {
   "cell_type": "markdown",
   "id": "d4a09c57",
   "metadata": {},
   "source": [
    "\n",
    "### **10. Evaluación**  \n",
    "**Proyecto 3:** *\"Calcular el volumen de agua en un canal de riego usando perfiles parabólicos.\"*  \n",
    "**Quiz Ejemplo:**  \n",
    "```python\n",
    "# ¿Cuál es el coeficiente de f(x_1) cuando n=2?\n",
    "# a) 1, b) 4, c) 2 → Respuesta: b\n",
    "```\n",
    "\n",
    "---\n",
    "\n",
    "### **11. Retroalimentación**  \n",
    "**Técnica:** *\"Taller de errores\"* donde los estudiantes analizan casos fallidos con `numpy.gradient` para ver divergencias.  \n",
    "\n",
    "---\n",
    "\n",
    "### **12. Vocabulario en Inglés**  \n",
    "- **Trapezoidal Rule:** Regla del trapecio  \n",
    "- **Parabola:** Parábola  \n",
    "- **Coefficient:** Coeficiente  \n",
    "- **Accuracy:** Precisión  \n",
    "\n",
    "---\n"
   ]
  },
  {
   "cell_type": "markdown",
   "id": "7dc59a7a",
   "metadata": {},
   "source": [
    "\n",
    "### **13. Apéndice: Habilidades Blandas**  \n",
    "- **Trabajo en Equipo:** Asignar roles en proyectos (ej: \"codificador\", \"verificador analítico\").  \n",
    "- **Inteligencia Emocional:** Ejercicios de respiración antes de exámenes.  \n",
    "\n",
    "---\n"
   ]
  },
  {
   "cell_type": "markdown",
   "id": "3625e52d",
   "metadata": {},
   "source": [
    "\n",
    "### **14. Referentes Didácticos (APA)**  \n",
    "1. Duval, R. (1999). *Semiosis y pensamiento humano*. Universidad de Valencia.  \n",
    "2. Wing, J. M. (2006). *Computational Thinking*. Communications of the ACM.  \n",
    "3. Polya, G. (1945). *How to Solve It*. Princeton University Press.  \n",
    "4. Schoenfeld, A. H. (1985). *Mathematical Problem Solving*. Academic Press.  \n",
    "5. Hiebert, J. (1986). *Conceptual and Procedural Knowledge*. Erlbaum.  \n",
    "\n",
    "**Cita en Texto:** *\"Como señala Duval (1999), la coordinación de representaciones es clave para la comprensión matemática\"*.  \n",
    "\n",
    "```python\n",
    "# Ejemplo de widget interactivo\n",
    "def update(n=2):\n",
    "    clear_output(wait=True)\n",
    "    display(plot_simpson(lambda x: np.sin(x), 0, np.pi, n))\n",
    "\n",
    "widgets.interact(update, n=(2, 10, 2));\n",
    "```"
   ]
  },
  {
   "cell_type": "markdown",
   "id": "83075336",
   "metadata": {},
   "source": [
    "[Video de apoyo a la presentación de la estructura de esta clase]()"
   ]
  },
  {
   "cell_type": "markdown",
   "id": "68195f06",
   "metadata": {},
   "source": [
    "# Implementación de la clase  \n",
    "\n",
    "**Diseño de Clase Multimodal: Regla de Simpson para Integración Numérica en Ingeniería Agropecuaria**  \n",
    "*Integrando Aula Invertida, STEAMS y ABPP con Python*  \n",
    "\n",
    "---\n"
   ]
  },
  {
   "cell_type": "markdown",
   "id": "d71e26ac",
   "metadata": {},
   "source": [
    "\n",
    "### **1. Título de la Clase**  \n",
    "*\"Aplicando la Regla de Simpson: Desde la Geometría hasta Python para Modelar Cultivos\"*  \n",
    "\n",
    "---\n"
   ]
  },
  {
   "cell_type": "markdown",
   "id": "5325ec2e",
   "metadata": {},
   "source": [
    "\n",
    "### **2. Objetivos de Aprendizaje**  \n",
    "**Objetivo Principal:**  \n",
    "Aplicar la regla de Simpson para estimar integrales definidas en problemas de ingeniería agropecuaria, utilizando cuatro representaciones (geométrica, verbal, algebraica y computacional).  \n",
    "\n",
    "**Indicadores de Logro:**  \n",
    "- El estudiante explica geométricamente la regla de Simpson con dibujos y analogías agrícolas (ej: cálculo de área de cultivos).  \n",
    "- Implementa en Python el método usando `numpy` y `matplotlib` con error < 0.0001.  \n",
    "- Resuelve problemas reales (ej: cálculo de volumen de riego) usando la calculadora Casio 991LA.  \n",
    "- Justifica la elección del método frente a alternativas como el trapecio.  \n",
    "\n",
    "---\n"
   ]
  },
  {
   "cell_type": "markdown",
   "id": "89199422",
   "metadata": {},
   "source": [
    "\n",
    "### **3. Mapa Conceptual en Graphviz**  \n"
   ]
  },
  {
   "cell_type": "code",
   "execution_count": 1,
   "id": "f392b212",
   "metadata": {},
   "outputs": [
    {
     "data": {
      "text/plain": [
       "'C:\\\\Users\\\\marco\\\\Descargas\\\\simpson_map.png'"
      ]
     },
     "execution_count": 1,
     "metadata": {},
     "output_type": "execute_result"
    }
   ],
   "source": [
    "\n",
    "from graphviz import Digraph\n",
    "\n",
    "# Configurar grafo\n",
    "graph = Digraph(comment='Regla de Simpson', \n",
    "                graph_attr={'overlap': 'false', 'rankdir': 'LR', 'bgcolor': '#F0F8FF'})\n",
    "graph.attr('node', shape='box3d', style='filled', fillcolor='#E6E6FA')\n",
    "\n",
    "# Nodos principales\n",
    "graph.node('A', 'Regla de Simpson\\n(Thomas Simpson, 1743)', shape='ellipse', fillcolor='#98FB98')\n",
    "graph.node('B', 'Aplicaciones Agropecuarias\\n- Volumen de riego\\n- Área de cultivos', fillcolor='#FFD700')\n",
    "graph.node('C', 'Representaciones', fillcolor='#87CEEB')\n",
    "graph.node('D', 'Implementación Python\\n(numpy, matplotlib)', shape='component', fillcolor='#FFB6C1')\n",
    "\n",
    "# Subnodos representaciones\n",
    "with graph.subgraph(name='cluster_rep') as c:\n",
    "    c.attr(color='blue', label='Representaciones según Duval')\n",
    "    c.node('C1', 'Geométrica\\n(gráfica de parábolas)')\n",
    "    c.node('C2', 'Verbal\\n\"Dividir en segmentos pares...\"')\n",
    "    c.node('C3', 'Algebraica\\n$\\\\frac{h}{3}[f(x_0) + 4f(x_1) + f(x_2)]$')\n",
    "    c.node('C4', 'Código Python\\nfor k in range(n): ...')\n",
    "\n",
    "# Edges\n",
    "graph.edges(['AB', 'AC', 'AD'])\n",
    "graph.edge('C', 'C1', style='dashed')\n",
    "graph.edge('C', 'C2', style='dashed')\n",
    "graph.edge('C', 'C3', style='dashed')\n",
    "graph.edge('C', 'C4', style='dashed')\n",
    "graph.edge('D', 'B', label='Simulación', color='red')\n",
    "\n",
    "# Renderizar\n",
    "graph.render(directory='C:\\\\Users\\\\marco\\\\Descargas', filename='simpson_map', view=True, format='png')\n",
    "\n"
   ]
  },
  {
   "cell_type": "markdown",
   "id": "d1fda775",
   "metadata": {},
   "source": [
    "\n",
    "---\n",
    "\n",
    "### **4. Historia Épica del Método**  \n",
    "*\"¡Oiga, mijito! Esto no es cuento de caminos, pero allá por 1743, un inglés medio loco llamado Thomas Simpson, que ni era matemático de academia, se le ocurrió juntar parábolas pa’ medir áreas. Imagínese, como esos surcos que hacemos pa’ sembrar yuca, pero con números. ¡Y funcionó! Hoy hasta la NASA lo usa... ¡y nosotros pa’ calcular cuánta agua necesita el arroz!\"*  \n",
    "**Imagen:** Dibujo estilo cómic de Simpson con sombrero aguadeño y una parábola como machete.  \n",
    "\n",
    "---\n"
   ]
  },
  {
   "cell_type": "markdown",
   "id": "8c92b280",
   "metadata": {},
   "source": [
    "\n",
    "### **5. Contenido de la Clase**  \n",
    "\n",
    "#### **5.1. Algoritmo Geométrico**  \n"
   ]
  },
  {
   "cell_type": "code",
   "execution_count": 2,
   "id": "be0ed174",
   "metadata": {},
   "outputs": [],
   "source": [
    "import matplotlib.pyplot as plt\n",
    "from matplotlib.animation import FuncAnimation\n",
    "from IPython.display import HTML\n",
    "\n",
    "def plot_simpson(f, a, b, n=2):\n",
    "    x = np.linspace(a, b, n*2+1)\n",
    "    y = f(x)\n",
    "    fig, ax = plt.subplots()\n",
    "    ax.plot(x, y, 'bo-')\n",
    "    \n",
    "    # Animación parábolas\n",
    "    for i in range(0, len(x)-2, 2):\n",
    "        x_parab = np.linspace(x[i], x[i+2], 100)\n",
    "        coeffs = np.polyfit(x[i:i+3], y[i:i+3], 2)\n",
    "        ax.plot(x_parab, np.polyval(coeffs, x_parab), 'r--')\n",
    "    \n",
    "    plt.title(f'Regla de Simpson (n={n})')\n",
    "    return HTML(fig.to_html5_video())\n",
    "\n"
   ]
  },
  {
   "cell_type": "markdown",
   "id": "d2cdca58",
   "metadata": {},
   "source": [
    "\n",
    "#### **5.2. Descripción Verbal**  \n",
    "\"Paso 1: Dividir el intervalo [a, b] en $2n$ segmentos iguales. Paso 2: En cada par de segmentos, ajustar una parábola. Paso 3: Sumar el área bajo todas las parábolas.\"  \n",
    "\n",
    "#### **5.3. Código Python**  \n",
    "```python\n",
    "def simpson(f, a, b, n):\n",
    "    h = (b - a) / (2*n)\n",
    "    x = np.linspace(a, b, 2*n+1)\n",
    "    y = f(x)\n",
    "    return (h/3) * (y[0] + 4*np.sum(y[1:-1:2]) + 2*np.sum(y[2:-2:2]) + y[-1])\n",
    "```\n",
    "\n",
    "#### **5.4. Formulación Algebraica**  \n",
    "$$ \\int_a^b f(x)dx \\approx \\frac{h}{3} \\left[ f(x_0) + 4\\sum_{k=1}^{n} f(x_{2k-1}) + 2\\sum_{k=1}^{n-1} f(x_{2k}) + f(x_{2n}) \\right] $$  \n",
    "\n",
    "**Implementación en Casio 991LA:**  \n",
    "1. Ingresar puntos manuales con `MODE` → `TABLE`.  \n",
    "2. Aplicar fórmula manualmente con coeficientes 1-4-2-4-...-1.  \n",
    "\n",
    "---\n",
    "\n",
    "### **6. Función para Calcular $n$ con Precisión**  \n",
    "```python\n",
    "def calcular_n_trapecios(f, a, b, epsilon=0.0001):\n",
    "    n = 1\n",
    "    error = epsilon + 1\n",
    "    while error > epsilon:\n",
    "        n *= 2\n",
    "        integral_n = simpson(f, a, b, n)\n",
    "        integral_2n = simpson(f, a, b, 2*n)\n",
    "        error = abs(integral_n - integral_2n)\n",
    "    return n\n",
    "```\n",
    "\n",
    "---\n",
    "\n",
    "### **7. Actividades de Aprendizaje**  \n",
    "**Prueba de Escritorio:**  \n",
    "- Dado $f(x) = x^2$ en [0, 2], calcular manualmente con $n=2$.  \n",
    "**Diagrama de Flujo:**  \n",
    "```mermaid\n",
    "graph TD\n",
    "A[Inicio] --> B[Leer a, b, n]\n",
    "B --> C[Calcular h = (b-a)/n]\n",
    "C --> D[Inicializar suma = f(a) + f(b)]\n",
    "D --> E[Iterar i de 1 a n-1]\n",
    "E --> F{¿i par?}\n",
    "F -->|Sí| G[suma += 2*f(a + i*h)]\n",
    "F -->|No| H[suma += 4*f(a + i*h)]\n",
    "G --> I\n",
    "H --> I\n",
    "I --> J[¿Fin?]\n",
    "J -->|No| E\n",
    "J -->|Sí| K[Resultado = h/3 * suma]\n",
    "K --> L[Fin]\n",
    "```\n",
    "\n",
    "---\n",
    "\n",
    "### **8. Canción de la Integración**  \n",
    "*\"Dividir en partes iguales,  \n",
    "parábolas van a unir,  \n",
    "con coeﬁcientes 1-4-1,  \n",
    "¡Simpson nos hace reír!  \n",
    "Si el error quieres controlar,  \n",
    "duplica n y compara al final.\"*  \n",
    "\n",
    "---\n",
    "\n",
    "### **9. Tarea**  \n",
    "1. **Geométrica:** Dibujar 4 parábolas sobre $f(x) = \\sin(x)$ en [0, π].  \n",
    "2. **Verbal:** Grabar un audio explicando los pasos.  \n",
    "3. **Python:** Implementar en Jupyter con `n=4` usando PowerShell:  \n",
    "```powershell\n",
    "jupyter notebook simpson.ipynb\n",
    "```\n",
    "4. **Algebraica:** Calcular manualmente $\\int_0^2 x^3 dx$ con $n=4$.  \n",
    "\n",
    "---\n",
    "\n",
    "### **10. Evaluación**  \n",
    "**Proyecto 3:** *\"Calcular el volumen de agua en un canal de riego usando perfiles parabólicos.\"*  \n",
    "**Quiz Ejemplo:**  \n",
    "```python\n",
    "# ¿Cuál es el coeficiente de f(x_1) cuando n=2?\n",
    "# a) 1, b) 4, c) 2 → Respuesta: b\n",
    "```\n",
    "\n",
    "---\n",
    "\n",
    "### **11. Retroalimentación**  \n",
    "**Técnica:** *\"Taller de errores\"* donde los estudiantes analizan casos fallidos con `numpy.gradient` para ver divergencias.  \n",
    "\n",
    "---\n",
    "\n",
    "### **12. Vocabulario en Inglés**  \n",
    "- **Trapezoidal Rule:** Regla del trapecio  \n",
    "- **Parabola:** Parábola  \n",
    "- **Coefficient:** Coeficiente  \n",
    "- **Accuracy:** Precisión  \n",
    "\n",
    "---\n",
    "\n",
    "### **13. Apéndice: Habilidades Blandas**  \n",
    "- **Trabajo en Equipo:** Asignar roles en proyectos (ej: \"codificador\", \"verificador analítico\").  \n",
    "- **Inteligencia Emocional:** Ejercicios de respiración antes de exámenes.  \n",
    "\n",
    "---\n",
    "\n",
    "### **14. Referentes Didácticos (APA)**  \n",
    "1. Duval, R. (1999). *Semiosis y pensamiento humano*. Universidad de Valencia.  \n",
    "2. Wing, J. M. (2006). *Computational Thinking*. Communications of the ACM.  \n",
    "3. Polya, G. (1945). *How to Solve It*. Princeton University Press.  \n",
    "4. Schoenfeld, A. H. (1985). *Mathematical Problem Solving*. Academic Press.  \n",
    "5. Hiebert, J. (1986). *Conceptual and Procedural Knowledge*. Erlbaum.  \n",
    "\n",
    "**Cita en Texto:** *\"Como señala Duval (1999), la coordinación de representaciones es clave para la comprensión matemática\"*.  \n",
    "\n",
    "```python\n",
    "# Ejemplo de widget interactivo\n",
    "def update(n=2):\n",
    "    clear_output(wait=True)\n",
    "    display(plot_simpson(lambda x: np.sin(x), 0, np.pi, n))\n",
    "\n",
    "widgets.interact(update, n=(2, 10, 2));\n",
    "```"
   ]
  },
  {
   "cell_type": "markdown",
   "id": "239427f7",
   "metadata": {},
   "source": [
    "# ARTÍCULO 1. Definir el calendario académico para los diferentes programas de pregrado de los campus\n",
    "regionalizados, correspondiente al primer periodo académico del año 2025, así:\n",
    "* Oferta 28 de enero de 2025\n",
    "* Matrícula 30 de enero de 2025\n",
    "* Ajustes 03 al 10 de febrero de 2025\n",
    "* Inicio de clases 10 de febrero de 2025\n",
    "* Límite evaluación del 40% 06 de abril de 2025\n",
    "* Terminación de clases 08 de junio de 2025\n",
    "* Exámenes finales 09 al 15 de junio de 2025\n",
    "* Habilitación y validación 16 al 22 de junio de 2025\n",
    "* Terminación oficial 23 de junio de 2025"
   ]
  },
  {
   "cell_type": "markdown",
   "id": "8ba64aed",
   "metadata": {},
   "source": [
    "# Cursos que orienta el profesor Marco Julio Cañas Campillo en 2025  \n",
    "\n",
    "1. Práctica Pedagógica V para Licenciatura en Educación Infantil\n",
    "2. Fundamentos de Lógica para Licenciatura en Matemáticas \n",
    "3. Análisis Numérico para Licenciatura en Matemáticas. \n",
    "4. Cálculo Vectorial para Ingeniería Agropecuaria"
   ]
  },
  {
   "cell_type": "markdown",
   "id": "8d41fe58",
   "metadata": {
    "slideshow": {
     "slide_type": "slide"
    }
   },
   "source": [
    "# Horario de clases del profesor Marco\n",
    "\n",
    "* Lunes 8-12: Cálculo Vectorial\n",
    "* Martes 8-12 M: Fundamentos de Aritmética. \n",
    "* Miércoles 8 a 12 M: Fundamentos de la Lógica\n",
    "* Jueves 2 a 6 PM: Desarrollo del pensamiento matemático en la infancia. \n",
    "* Viernes 8 - 12 M: Desarrollo del pensamiento matemático en la infancia. \n",
    "* Sábados 8-12 Asesorías y espacio para retroalimentación y apoyo al trabajo independiente. "
   ]
  },
  {
   "cell_type": "markdown",
   "id": "ae114e14",
   "metadata": {
    "slideshow": {
     "slide_type": "slide"
    }
   },
   "source": [
    "# Horarios de monitoría y asesoría  \n",
    "\n",
    "Coordinador de los cursos de la Facultad de Educación para regiones:    \n",
    "\n",
    "Andrés Vélez: regioneducacion.fedu@udea.edu.co  \n",
    "Coordinador Regiones  \n",
    "Facultad de Educación  \n",
    "Universidad de Antioquia  "
   ]
  },
  {
   "cell_type": "markdown",
   "id": "b1db4b6c",
   "metadata": {
    "slideshow": {
     "slide_type": "slide"
    }
   },
   "source": [
    "## Monitor Manuel San Juan Serrano\n",
    "\n",
    "Contactar escribiendo al correo: manuel.serrano1@udea.edu.co"
   ]
  },
  {
   "cell_type": "markdown",
   "id": "39559692",
   "metadata": {
    "slideshow": {
     "slide_type": "slide"
    }
   },
   "source": [
    "Martes y jueves de 8 - 12  \n",
    "Miércoles 10 - 12 y de 2 a 4 PM  \n",
    "Sábado: 8 - 12"
   ]
  },
  {
   "cell_type": "markdown",
   "id": "10bce0d0",
   "metadata": {
    "slideshow": {
     "slide_type": "slide"
    }
   },
   "source": [
    "## Referentes "
   ]
  },
  {
   "cell_type": "markdown",
   "id": "1db3c468",
   "metadata": {
    "slideshow": {
     "slide_type": "slide"
    }
   },
   "source": [
    "* [Cómo descargar python para trabajar desde la terminal powershell](https://www.python.org/)  \n",
    "  \n",
    "* [CALCULO I DE UNA VARIABLE Ron Larson-Bruce Edwards. Mc Graw Hill. 9º Edición](https://www.academia.edu/42139251/CALCULO_I_DE_UNA_VARIABLE_Ron_Larson_Bruce_Edwards_Mc_Graw_Hill_9o_Edici%C3%B3n)   \n",
    "  \n",
    "  \n",
    "* R. Duval y Semiosis y pensamiento humano, 2.ª ed. Cali, Colombia: Programa Editorial Universidad del Valle, 2017. [En línea]. Disponible en: https://programaeditorial.univalle.edu.co/gpd-semiosis-y-pensamiento-humano-9789587655278-63324cdb0f6b3.html\n",
    "\n",
    "\n",
    "* [stewart cálculo](https://udeaeduco-my.sharepoint.com/:b:/g/personal/marco_canas_udea_edu_co/EZgXZjAp8QxPqOAim2hs6LcBNPLGjSHf-xwYnUVYkwa04w?e=RZdTCy)  \n",
    "\n",
    "\n",
    "* [Recomendación de la UNESCO sobre ciencia abierta](https://unesdoc.unesco.org/ark:/48223/pf0000379949_spa)\n",
    "\n",
    "* [chatGPT](https://openai.com/blog/chatgpt)    \n",
    "  \n",
    "* [IA China](https://chat.deepseek.com/)\n",
    "\n",
    "* [Géron, A. (2017). Hands-on machine learning with scikit-learn and tensorflow: Concepts. Tools, and Techniques to build intelligent systems.](chrome-extension://efaidnbmnnnibpcajpcglclefindmkaj/http://14.139.161.31/OddSem-0822-1122/Hands-On_Machine_Learning_with_Scikit-Learn-Keras-and-TensorFlow-2nd-Edition-Aurelien-Geron.pdf)   \n"
   ]
  },
  {
   "cell_type": "markdown",
   "id": "df925560",
   "metadata": {},
   "source": [
    "\n",
    "* [McKinney, W. (2012). Python for data analysis: Data wrangling with Pandas, NumPy, and IPython. \" O'Reilly Media, Inc.\".](https://wesmckinney.com/book/) "
   ]
  },
  {
   "cell_type": "markdown",
   "id": "8e65d6f9",
   "metadata": {},
   "source": [
    "# Como estudiante, encuentro que...   \n",
    "\n",
    "F: Mis Fortalezas son:     \n",
    "O: Mis Oportunidades son:    \n",
    "D: Mis Debilidades son:    \n",
    "A: Lo que Amenazas mi aprendizaje es:  "
   ]
  },
  {
   "cell_type": "markdown",
   "id": "6b9e56a8",
   "metadata": {
    "slideshow": {
     "slide_type": "slide"
    }
   },
   "source": [
    "### [Evaluamos al profesor Marco Cañas Aquí](https://forms.office.com/Pages/ResponsePage.aspx?id=IefhmYRxjkmK_7KtTlPBwkanXIs1i1FEujpsZgO6dXpUREJPV1kxUk1JV1ozTFJIQVNIQjY5WEY3US4u)"
   ]
  },
  {
   "cell_type": "markdown",
   "id": "10f43536",
   "metadata": {
    "slideshow": {
     "slide_type": "slide"
    }
   },
   "source": [
    "### Continue su aprendizaje en la siguiente clase a través del siguiente [vínculo]()"
   ]
  },
  {
   "cell_type": "markdown",
   "id": "53cc9115",
   "metadata": {
    "slideshow": {
     "slide_type": "slide"
    }
   },
   "source": [
    "## Agradecimientos  \n",
    "\n",
    "Doy gracias a Dios por la vida de mi Hijo Joseph Cañas Osorio y la madurez que ha alcanzado. Este hijo me enorgullece y me hace falta abrazarlo cada día. \n",
    "\n",
    "Y a mi esposa Yasmira Emperatriz Barboza Mogollón por su apoyo, orientación y acompañamiento. "
   ]
  },
  {
   "cell_type": "markdown",
   "id": "b6ba1c23",
   "metadata": {},
   "source": [
    "# Apéndice sobre calendarios y coordinaciones \n",
    "\n",
    "A continuación le envío el horario de la asignatura Cálculo Vectorial  \n",
    "\n",
    "Días:  \n",
    "Lunes - Hora: 7:00 a 12:00M  \n",
    "Fechas:  \n",
    "Febrero: 10-17-24                                          \n",
    " Marzo: 3-10-17-31                                                  \n",
    "Abril:7-21-28                                                   \n",
    "Mayo:5-12-19  \n",
    "\n",
    "Agradezco su apoyo, y si presenta alguna dificultad puede contactarme.  \n",
    "\n",
    "Cordialmente,  \n",
    "Juan Felipe Rivera Hernández  \n",
    "Contacto: 3106314300  "
   ]
  },
  {
   "cell_type": "markdown",
   "id": "0e66cd7c",
   "metadata": {},
   "source": [
    "# Clase de análisis numérico los Martes de 8 a 12 del medio día. "
   ]
  },
  {
   "cell_type": "markdown",
   "id": "c5ff61b1",
   "metadata": {},
   "source": []
  },
  {
   "cell_type": "code",
   "execution_count": 1,
   "id": "48a8dd6c",
   "metadata": {},
   "outputs": [
    {
     "data": {
      "text/plain": [
       "93.74999179686219"
      ]
     },
     "execution_count": 1,
     "metadata": {},
     "output_type": "execute_result"
    }
   ],
   "source": [
    "100- abs(20-21.333333)/21.3333*100"
   ]
  }
 ],
 "metadata": {
  "celltoolbar": "Slideshow",
  "kernelspec": {
   "display_name": ".venv",
   "language": "python",
   "name": "python3"
  },
  "language_info": {
   "codemirror_mode": {
    "name": "ipython",
    "version": 3
   },
   "file_extension": ".py",
   "mimetype": "text/x-python",
   "name": "python",
   "nbconvert_exporter": "python",
   "pygments_lexer": "ipython3",
   "version": "3.12.6"
  },
  "rise": {
   "enable_chalkboard": true,
   "theme": "sky",
   "transition": "zoom"
  }
 },
 "nbformat": 4,
 "nbformat_minor": 5
}
