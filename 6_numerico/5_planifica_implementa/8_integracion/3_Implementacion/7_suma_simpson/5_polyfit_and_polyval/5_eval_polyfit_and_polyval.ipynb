{
 "cells": [
  {
   "cell_type": "markdown",
   "id": "dc06dec7",
   "metadata": {
    "slideshow": {
     "slide_type": "slide"
    }
   },
   "source": [
    "<table align=\"left\">\n",
    "  <td>\n",
    "    <a href=\"https://colab.research.google.com/github/marco-canas/didactica_ciencia_datos/blob/main/1_curso_machine_learning/1_evaluacion_oral_tarea_quiz_parcial.ipynb\" target=\"_parent\"><img src=\"https://colab.research.google.com/assets/colab-badge.svg\" alt=\"Open In Colab\"/></a>\n",
    "  </td>\n",
    "  <td>\n",
    "    <a target=\"_blank\" href=\"https://kaggle.com/kernels/welcome?src=https://github.com/marco-canas/didactica_ciencia_datos/blob/main/1_curso_machine_learning/1_evaluacion_oral_tarea_quiz_parcial.ipynb\"><img src=\"https://kaggle.com/static/images/open-in-kaggle.svg\" /></a>\n",
    "  </td>\n",
    "</table>"
   ]
  },
  {
   "cell_type": "markdown",
   "id": "e0c5b198",
   "metadata": {
    "slideshow": {
     "slide_type": "slide"
    }
   },
   "source": [
    "### [Video de apoyo a la lectura interactiva y experimental de este cuaderno]()"
   ]
  },
  {
   "cell_type": "markdown",
   "id": "41e82203",
   "metadata": {
    "slideshow": {
     "slide_type": "slide"
    }
   },
   "source": [
    "## [Vínculo al programa del curso:  ]()"
   ]
  },
  {
   "cell_type": "markdown",
   "id": "ca46c23b",
   "metadata": {
    "slideshow": {
     "slide_type": "slide"
    }
   },
   "source": [
    "# Modelo general de clase: [aula invertida](https://www3.gobiernodecanarias.org/medusa/ecoescuela/pedagotic/aprendizaje-invertido-flipped-classroom/)\n"
   ]
  },
  {
   "cell_type": "markdown",
   "id": "7f9be90f",
   "metadata": {
    "slideshow": {
     "slide_type": "slide"
    }
   },
   "source": [
    "# Fomento de la lectura literaria asociada a Ingeniería agropecuaria y licenciatura en Matemáticas y administración de empresas\n",
    "\n",
    "[Hábitos atómicos](https://github.com/marco-canas/habitos_atomicos/blob/main/13_como_dejar_de_postergar_usando_la_regla_de_los_dos_minutos/1_13_como_dejar_de_postergar_usando_la_regla_de_los_dos_minutos.ipynb)"
   ]
  },
  {
   "cell_type": "markdown",
   "id": "96775931",
   "metadata": {
    "slideshow": {
     "slide_type": "slide"
    }
   },
   "source": [
    "# Título de la clase: Realización evaluación oral, de Tareas en cuadernos Jupyter, Quiz o Parcial de selección múltiple o de preguntas cerradas.  \n",
    "\n"
   ]
  },
  {
   "cell_type": "code",
   "execution_count": 5,
   "id": "ad098f40",
   "metadata": {},
   "outputs": [],
   "source": [
    "# algoritmo para llamar a evaluación oral individual\n",
    "import pandas as pd\n",
    "import numpy as np\n",
    "\n",
    "# Cargar la lista de estudiantes desde la URL\n",
    "path = '/home/marco/Documentos/docencia/groups_list/calculo_vectorial.csv'\n",
    "estudiantes = pd.read_csv(path)\n",
    "estudiantes['Parcial'] = estudiantes['Parcial'].astype(float) \n",
    "\n",
    "# Convertir la columna 'Nombre' a una lista de Python\n",
    "lista_estudiantes = estudiantes['Nombre'].tolist()\n",
    "\n",
    "# Función para llamar a un estudiante aleatoriamente y registrar su nota de seguimiento\n",
    "def eval_oral():\n",
    "    if lista_estudiantes:\n",
    "        estudiante_aleatorio = np.random.choice(lista_estudiantes)\n",
    "        print(f\"Llamando a {estudiante_aleatorio}...\")\n",
    "        asistencia = input(f\"¿Se expresó bien y correco {estudiante_aleatorio}? (s/n): \").strip().lower()\n",
    "        \n",
    "        if asistencia == 's':\n",
    "            # Obtener el índice del estudiante en el DataFrame\n",
    "            indice = estudiantes[estudiantes['Nombre'] == estudiante_aleatorio].index[0]\n",
    "            # Incrementar su valor en la columna 'Parcial'\n",
    "            estudiantes.at[indice, 'Parcial'] += 0.1\n",
    "            print(f\"Actualizado: {estudiante_aleatorio} ahora tiene {estudiantes.at[indice, 'Parcial']} en la columna 'Parcial'.\")\n",
    "        \n",
    "        lista_estudiantes.remove(estudiante_aleatorio)\n",
    "    else:\n",
    "        print(\"Se han llamado a todos los estudiantes del grupo completo.\")\n",
    "\n",
    "# Guardar los cambios en el archivo CSV\n",
    "def guardar_cambios():\n",
    "    estudiantes.to_csv(path, index=False)\n",
    "    print(\"Cambios guardados en el archivo CSV.\")\n",
    "\n",
    "# Ejemplo de uso\n",
    "#while lista_estudiantes:\n",
    "#    eval_oral()\n",
    "#    guardar_cambios()\n",
    "\n",
    "\n"
   ]
  },
  {
   "cell_type": "markdown",
   "id": "cf101603",
   "metadata": {},
   "source": [
    "# Prompt para pedir el diseño de evaluación de acuerdo a la metodología de \"Enseñanza basada en proyectos\"  \n",
    "Dame, por favor, un diseño de clase, con el enfoque: \"Aula Invertida, STEAMS y De aprendizaje basado en problemas y proyectos(ABPP)\" sobre: \"Las funciones numpy.polyfit() y numpy.polyval de NumPy y su utilidad en el M´petodo de integración de Simpson para Licenciatura en Matemáticas en Caucasia - Antioquia\", siguiendo la estructura:  \n",
    "\n",
    "1. Título de la clase   \n",
    "   \n",
    "2. Objetivos de aprendizaje que incluyan los indicadores del logro de estos objetivos.\n",
    "   \n",
    "3. Un mapa conceptual que resuma la clase elaborado en Graphviz de python con nodos y edges de diferentes formas, colores y rellenos y renderizado en la siguiente ubicación: `\"C:/Users/marco/Downloads\"`. No olvides el parámetro `view = True` para el método `render()` de Graphviz. Para este mapa controla las superposiciones de los nodos con: graph [overlap=false]; // Elimina superposiciones (puede aumentar el espacio)\n",
    "graph [overlap=\"scalexy\"]; // Escala el gráfico para evitar overlaps\n",
    "graph [overlap=\"compress\"]; // Comprime el grafo sin overlaps  \n",
    "   \n",
    "4. Dame elementos históricos y epistemológicos asociados a esta clase, pero contados como un cuento al estilo de un cuentero antioqueño en Colombia. Incluye imágenes de los protagonistas históricos de esta clase.   \n",
    "   \n",
    "5. Contenido de la clase. Que el contenido parta de una situación real para llegar a una constitución del modelo matemático que represente tal situación real.    \n",
    "   \n",
    "     \n",
    "\n",
    "6. Deducción de una función de usuario de python, que permita determinar el número de rectángulos $n$ necesarios para una precisión de la suma de riemenn dada $\\epsilon = 0.0001$.   \n",
    "   \n",
    "7. Actividades de aprendizaje: que incluya pruebas de escritorio para los algoritmos en forma verbal y seudo código, diagrama de flujo, y la implementación del algoritmo en lenguaje python.  \n",
    "   \n",
    "8. Incluye una canción o un poema que ayude a interiorizar y fijar los conceptos asociados a esta clase.   \n",
    "   \n",
    "9.  Tarea o actividades de ejercitación y fijación.  \n",
    "    \n",
    "10. Evaluación incluyendo diez proyectos, un ejemplo de quiz y un ejemplo de parcial.  \n",
    "    \n",
    "11. Diseño de actividad de retroalimentación.   \n",
    "    \n",
    "12. Dame un vocabulario y frases del idioma inglés asociadas a esta clase.  \n",
    "\n",
    "13.  Incluye apéndice para la clase sobre desarrollo de habilidades para trabajar en equipo y de asertividad y empatía para relacionarnos. También elementos de la inteligencia emocional para presentar pruebas sin temor y sin realizar fraude en ellas.    \n",
    "     \n",
    "14. Incluye 5 referentes en didáctica de la matemática que estén de acuerdo a la propuesta didáctica de esta clase. Adiciona a estos referentes a Raymond Duval (Representaciones y cambios de representación para la adquisición de conceptos matemáticos) y a Jeannette Wing (Desarrollo del pensamiento computacional). Déjame todos estos referentes ordenados de acuerdo a las normas APA. Incluye un referente en didáctica de la matemática que fundamente el uso del Enfoque de Aula Invertida, uno que fundamente el enfoque STEAMS y finalmente otro que fundamente el enfoque de Aprendizaje Basado en Problemas y Proyectos (ABPP)\n",
    "  \n",
    "\n",
    "Pero  que este diseño sea para que el estudiante pueda aprender experimentando en cuadernos Jupyter con funciones de usuario y animaciones y visualizaciones en python.   \n",
    "\n",
    "En particular utiliza para el diseño de clase a Numpy, Pandas, SymPy, Matplotlib.pyplot, Seaborn, Plotly, ipywidgets, matplotlib.animation y Jupyter Notebook.    \n",
    "\n",
    "Cada vez que utilices `matplotlib.animacion` no olvides incluir el uso de `IPython. display` para la rederización de estas animaciones a través de Jupyter Notebook.   \n",
    "\n",
    "No olvides darme los diseños de clase con las ecuaciones matemáticas delimitadas con signo de dolar $ para que VS Code si me renderize estas expresiones del lenguaje latex. Cuando vallas a utilizar ipywidgets ten en cuenta la siguiente importación inicial para garantizar que la visualización interactiva si se renderize en VS Code:   \n",
    " \n",
    "import numpy as np  \n",
    "import matplotlib.pyplot as plt  \n",
    "import ipywidgets as widgets  \n",
    "from IPython.display import display, clear_output  \n",
    "from matplotlib.patches import Rectangle  \n",
    "\n",
    "# Configuración inicial para visualización estática  \n",
    "%matplotlib inline "
   ]
  },
  {
   "cell_type": "markdown",
   "id": "42797498",
   "metadata": {},
   "source": [
    "### **Diseño de Clase: \"Aproximación Numérica con `polyfit` y `polyval` en el Método de Simpson**  \n",
    "**Enfoques:** Aula Invertida, STEAM, ABPP (Aprendizaje Basado en Problemas y Proyectos)  \n",
    "**Herramientas:** Python (NumPy, Matplotlib, Jupyter), Graphviz, Visualizaciones Interactivas.  \n",
    "\n",
    "---\n",
    "\n",
    "### **1. Título de la Clase**  \n",
    "*\"De las parábolas al cálculo integral: Aproximando áreas con `numpy.polyfit` y `numpy.polyval` en el método de Simpson\"*  \n",
    "\n",
    "---\n",
    "\n",
    "### **2. Objetivos de Aprendizaje**  \n",
    "- **Objetivo Principal:**  \n",
    "  Aplicar `numpy.polyfit` y `numpy.polyval` para aproximar integrales definidas usando el método de Simpson, integrando pensamiento computacional y matemático.  \n",
    "- **Indicadores de Logro:**  \n",
    "  - Deriva la fórmula de Simpson a partir de ajustes parabólicos.  \n",
    "  - Implementa una función en Python que grafique la aproximación.  \n",
    "  - Analiza el error comparando con la solución exacta.  \n",
    "\n",
    "---\n",
    "\n",
    "### **3. Mapa Conceptual (Graphviz)**  \n",
    "```python\n",
    "from graphviz import Digraph\n",
    "\n",
    "graph = Digraph('Simpson', filename='C:/Users/marco/Downloads/simpson_map', format='png')\n",
    "graph.attr(overlap='false', rankdir='LR', splines='true')\n",
    "\n",
    "# Nodos\n",
    "graph.node('A', 'Método de Simpson', shape='ellipse', color='darkblue', style='filled', fillcolor='lightblue')\n",
    "graph.node('B', 'polyfit', shape='box', color='red')\n",
    "graph.node('C', 'polyval', shape='box', color='red')\n",
    "graph.node('D', 'Aproximación Parabólica', shape='diamond')\n",
    "graph.node('E', 'Integral Definida', shape='ellipse', color='green')\n",
    "graph.node('F', 'Error Numérico', shape='octagon', color='purple')\n",
    "\n",
    "# Edges\n",
    "graph.edges(['AB', 'AC', 'AD', 'BD', 'CD', 'DE', 'DF', 'EF'])\n",
    "graph.render(view=True)\n",
    "```  \n",
    "**Salida:** Un mapa visual que conecta los conceptos clave con flechas y nodos coloridos.  \n",
    "\n",
    "---\n",
    "\n",
    "### **4. Historia y Epistemología (Cuento Antioqueño)**  \n",
    "*\"¡Ajá, pues oiga usted! En las montañas de Antioquia, un señor llamado Thomas Simpson, allá por 1743, andaba buscando cómo medir terrenos curveados pa’ los cultivos de café. Resulta que se le ocurrió usar parábolas, como las que hacían los griegos con Arquíedes, pero ahora con números y no con regla y compás... ¡Y así nació el método que hoy usamos en Python con `polyfit`!\"*  \n",
    "\n",
    "**Imágenes:**  \n",
    "- Thomas Simpson (Dibujo estilo caricatura).  \n",
    "- Gráfico antiguo de Arquímedes.  \n",
    "\n",
    "---\n",
    "\n",
    "### **5. Contenido (Problema Real → Modelo Matemático)**  \n",
    "**Situación Real:**  \n",
    "*\"Calcular el área bajo la curva de producción de café en una finca del Cauca, donde los datos no son lineales.\"*  \n",
    "\n",
    "**Construcción del Modelo:**  \n",
    "1. **Ajuste Parabólico:** Usar `polyfit` para encontrar la parábola que pasa por 3 puntos.  \n",
    "2. **Integración:** Aplicar la regla de Simpson:  \n",
    "   \\[\n",
    "   \\int_a^b f(x)dx \\approx \\frac{h}{3} \\left[ f(x_0) + 4f(x_1) + f(x_2) \\right]\n",
    "   \\]  \n",
    "\n",
    "---\n",
    "\n",
    "### **6. Función en Python para Precisión Dada**  \n",
    "```python\n",
    "def simpson_precision(f, a, b, epsilon=0.0001):\n",
    "    n = 2\n",
    "    while True:\n",
    "        h = (b - a) / n\n",
    "        integral = (h / 3) * sum(f(a + i*h) * (4 if i % 2 else 2) for i in range(n+1))\n",
    "        if abs(integral - exacto) < epsilon:\n",
    "            return n\n",
    "        n += 2\n",
    "```\n",
    "\n",
    "---\n",
    "\n",
    "### **7. Actividades de Aprendizaje**  \n",
    "- **Prueba de Escritorio:**  \n",
    "  - Para \\(f(x) = x^2\\), \\(a=0\\), \\(b=2\\), \\(n=2\\):  \n",
    "    \\[\n",
    "    \\text{Integral} \\approx \\frac{1}{3} \\left[ 0 + 4(1) + 4 \\right] = \\frac{8}{3}\n",
    "    \\]  \n",
    "- **Implementación en Python:**  \n",
    "  ```python\n",
    "  def simpson(f, a, b, n):\n",
    "      h = (b - a) / n\n",
    "      return (h / 3) * (f(a) + 4*sum(f(a + i*h) for i in range(1, n, 2)) + 2*sum(f(a + i*h) for i in range(2, n, 2)) + f(b))\n",
    "  ```\n",
    "\n",
    "---\n",
    "\n",
    "### **8. Canción/Poema**  \n",
    "*\"Parábolas van, parábolas vienen,  \n",
    "con `polyfit` las ajustamos bien,  \n",
    "y el área bajo la curva, ¡qué alegría!,  \n",
    "con Simpson se resuelve al fin.\"*  \n",
    "\n",
    "---\n",
    "\n",
    "### **9. Tareas**  \n",
    "- **Ejercicio:** Calcular \\(\\int_0^\\pi \\sin(x)dx\\) con \\(n=4\\) usando `polyfit/polyval`.  \n",
    "- **Proyecto:** Modelar el área de un cultivo irregular con datos reales.  \n",
    "\n",
    "---\n",
    "\n",
    "### **10. Evaluación**  \n",
    "- **Quiz:** Preguntas sobre la fórmula de Simpson.  \n",
    "- **Parcial:** Implementar una función que compare el error con `numpy.trapz`.  \n",
    "\n",
    "---\n",
    "\n",
    "### **11. Retroalimentación**  \n",
    "- **Rúbrica:** Exactitud (50%), Código (30%), Creatividad (20%).  \n",
    "\n",
    "---\n",
    "\n",
    "### **12. Vocabulario en Inglés**  \n",
    "- *Numerical Integration*: Integración numérica.  \n",
    "- *Polynomial Fit*: Ajuste polinomial.  \n",
    "\n",
    "---\n",
    "\n",
    "### **13. Apéndice: Habilidades Blandas**  \n",
    "- **Trabajo en Equipo:** Roles claros (ej: \"experto en Python\", \"matemático\").  \n",
    "- **Inteligencia Emocional:** Técnicas para manejar el estrés en exámenes.  \n",
    "\n",
    "---\n",
    "\n",
    "### **14. Referentes Didácticos (APA)**  \n",
    "1. Duval, R. (2006). *Representaciones y cambios de representación...*  \n",
    "2. Wing, J. (2006). *Computational Thinking.*  \n",
    "3. Bergmann, J. (2012). *Flip Your Classroom.*  \n",
    "4. Sanders, M. (2009). *STEM, STEAM, STEAMS...*  \n",
    "5. Thomas, J. (2000). *A Review of Project-Based Learning.*  \n",
    "\n",
    "--- \n",
    "\n",
    "**Nota:** Todas las visualizaciones en Jupyter usan:  \n",
    "```python\n",
    "from IPython.display import HTML\n",
    "HTML(ani.to_html5_video())  # Para animaciones\n",
    "```  \n",
    "Y las ecuaciones se escriben en LaTeX: $\\int_a^b f(x)dx$.  \n",
    "\n",
    "--- \n",
    "\n",
    "¿Qué más necesitas ajustar para tu clase en Caucasia? 😊"
   ]
  },
  {
   "cell_type": "markdown",
   "id": "fb9402bb",
   "metadata": {
    "slideshow": {
     "slide_type": "slide"
    }
   },
   "source": [
    "## Estrategias propuestas para la solución de las dificultades de aprendizaje detectadas"
   ]
  },
  {
   "cell_type": "markdown",
   "id": "2dd3bd5c",
   "metadata": {
    "slideshow": {
     "slide_type": "slide"
    }
   },
   "source": []
  },
  {
   "cell_type": "markdown",
   "id": "c6236d5d",
   "metadata": {},
   "source": [
    "# FODA del grupo y del profesor  \n",
    "\n",
    "* F: Fortalezas\n",
    "* O: Oportunidades\n",
    "* D: Dificultades\n",
    "* A: Amenazas."
   ]
  },
  {
   "cell_type": "markdown",
   "id": "b48f9542",
   "metadata": {},
   "source": [
    "## ¿Cómo se sintió en este espacio de enseñanza y aprendizaje?\n",
    "\n",
    "!Dios te bendiga¡"
   ]
  },
  {
   "cell_type": "markdown",
   "id": "10bce0d0",
   "metadata": {
    "slideshow": {
     "slide_type": "slide"
    }
   },
   "source": [
    "## Referentes "
   ]
  },
  {
   "cell_type": "markdown",
   "id": "d204c917",
   "metadata": {},
   "source": [
    "* [Grajales Vanegas, L. M., Restrepo Estrada, C. E., Restrepo Ochoa, S. I., & Ruíz De Villalba, F. (2015). Matemáticas I para las ciencias económicas.](https://github.com/marco-canas/fundamentos_de_la_aritmetica/blob/main/referentes/2_grajales_logica/grajales_lina_matemticas.pdf)\n",
    "  \n",
    "* Duval, R. (2004). Semiosis y pensamiento humano: registros semióticos y aprendizajes intelectuales. Universidad del Valle.\n",
    "\n",
    "* [Aylwin, C. U. (2011). Lógica, conjuntos y números. Universidad de los Andes, Consejo de Publicaciones, Colección: Ciencias Básicas, Serie: Matemáticas.](https://github.com/marco-canas/fundamentos_logica/blob/main/referentes/2_uzcategui/uscategui.pdf)\n",
    "  \n",
    "* [Chollet, F. (2021). Deep learning with Python. Simon and Schuster.](https://github.com/marco-canas/didactica_ciencia_datos/blob/main/2_referentes/chollet/Fran%C3%A7ois%20Chollet%20-%20Deep%20Learning%20with%20Python-Manning%20(2018).pdf)  \n",
    "  \n",
    "* [Watson, S., Stewart, J., & Redlin, L. (2009). Precálculo. Matemáticas para el cálculo.](https://github.com/marco-canas/calculo/blob/main/referents/1_precalculo_stewart/stewart_precalculo.pdf)  \n",
    "\n",
    "* [Purcell, E. J., Varberg, D., & Rigdon, S. E. (2007). Cálculo diferencial e integral. Pearson Educación.](https://github.com/marco-canas/calculo/blob/main/referents/purcell/purcell_calculo.pdf)\n",
    "\n",
    "  \n",
    "\n",
    "* [stewart cálculo](https://udeaeduco-my.sharepoint.com/:b:/g/personal/marco_canas_udea_edu_co/EZgXZjAp8QxPqOAim2hs6LcBNPLGjSHf-xwYnUVYkwa04w?e=RZdTCy)  \n",
    "\n",
    "* [larson](https://udeaeduco-my.sharepoint.com/:b:/g/personal/marco_canas_udea_edu_co/ES71ChFeO9ZDhW3TwC5Ijk8BjxUK3Pdqz_fjHxTTFAfIAg?e=VDEjfu)\n",
    "\n",
    "\n",
    "\n",
    "* [Recomendación de la UNESCO sobre ciencia abierta](https://unesdoc.unesco.org/ark:/48223/pf0000379949_spa)\n",
    "\n",
    "* [chatGPT](https://openai.com/blog/chatgpt)  \n",
    "\n",
    "* [Géron, A. (2017). Hands-on machine learning with scikit-learn and tensorflow: Concepts. Tools, and Techniques to build intelligent systems.](chrome-extension://efaidnbmnnnibpcajpcglclefindmkaj/http://14.139.161.31/OddSem-0822-1122/Hands-On_Machine_Learning_with_Scikit-Learn-Keras-and-TensorFlow-2nd-Edition-Aurelien-Geron.pdf)   \n"
   ]
  },
  {
   "cell_type": "markdown",
   "id": "6b9e56a8",
   "metadata": {
    "slideshow": {
     "slide_type": "slide"
    }
   },
   "source": [
    "### [Evaluamos al profesor Marco Cañas Aquí](https://forms.office.com/Pages/ResponsePage.aspx?id=IefhmYRxjkmK_7KtTlPBwkanXIs1i1FEujpsZgO6dXpUREJPV1kxUk1JV1ozTFJIQVNIQjY5WEY3US4u)"
   ]
  },
  {
   "cell_type": "markdown",
   "id": "071afa04",
   "metadata": {
    "slideshow": {
     "slide_type": "slide"
    }
   },
   "source": [
    "## [Evaluación luego de alcanzar estos objetivos de aprendizaje]()"
   ]
  },
  {
   "cell_type": "markdown",
   "id": "10f43536",
   "metadata": {
    "slideshow": {
     "slide_type": "slide"
    }
   },
   "source": [
    "### Continue su aprendizaje en la siguiente clase a través del siguiente [vínculo]()"
   ]
  },
  {
   "cell_type": "markdown",
   "id": "af751e30",
   "metadata": {
    "slideshow": {
     "slide_type": "slide"
    }
   },
   "source": [
    "# Conjeturas pedagógicas fruto de la aplicación del modelo de aprendizaje invertido y del enfoque hacia la ciencia de datos con python\n",
    "\n",
    "1. Todo cálculo o resultado debe ser interpretado en una línea markdown del cuaderno Jupyter, inmediatamente después de la enunciación del resultado y después de la presentación de una tabla o gráfico bidimensional, de tal menera que el estudiante explicite la comprensión verbal del resultado y las inferencias o estrategias que este resultado le sugieren.   "
   ]
  }
 ],
 "metadata": {
  "celltoolbar": "Slideshow",
  "kernelspec": {
   "display_name": "Python 3 (ipykernel)",
   "language": "python",
   "name": "python3"
  },
  "language_info": {
   "codemirror_mode": {
    "name": "ipython",
    "version": 3
   },
   "file_extension": ".py",
   "mimetype": "text/x-python",
   "name": "python",
   "nbconvert_exporter": "python",
   "pygments_lexer": "ipython3",
   "version": "3.10.12"
  },
  "rise": {
   "enable_chalkboard": true,
   "theme": "sky",
   "transition": "zoom"
  }
 },
 "nbformat": 4,
 "nbformat_minor": 5
}
