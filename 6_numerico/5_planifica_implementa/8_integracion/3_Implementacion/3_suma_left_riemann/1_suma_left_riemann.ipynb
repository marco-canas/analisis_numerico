{
 "cells": [
  {
   "cell_type": "markdown",
   "id": "dc06dec7",
   "metadata": {
    "slideshow": {
     "slide_type": "slide"
    }
   },
   "source": [
    "<table align=\"left\">\n",
    "  <td>\n",
    "    <a href=\"https://colab.research.google.com/github/ageron/handson-ml3/blob/main/tools_numpy.ipynb\" target=\"_parent\"><img src=\"https://colab.research.google.com/assets/colab-badge.svg\" alt=\"Open In Colab\"/></a>\n",
    "  </td>\n",
    "  <td>\n",
    "    <a target=\"_blank\" href=\"https://kaggle.com/kernels/welcome?src=https://github.com/ageron/handson-ml3/blob/main/tools_numpy.ipynb\"><img src=\"https://kaggle.com/static/images/open-in-kaggle.svg\" /></a>\n",
    "  </td>\n",
    "</table>"
   ]
  },
  {
   "cell_type": "markdown",
   "id": "e0c5b198",
   "metadata": {
    "slideshow": {
     "slide_type": "slide"
    }
   },
   "source": [
    "### [Video de apoyo a la lectura interactiva y experimental de este cuaderno]()"
   ]
  },
  {
   "cell_type": "markdown",
   "id": "41e82203",
   "metadata": {
    "slideshow": {
     "slide_type": "slide"
    }
   },
   "source": [
    "### [Vínculo al programa del curso:  ]()\n",
    "\n"
   ]
  },
  {
   "cell_type": "markdown",
   "id": "d11ab06d",
   "metadata": {
    "slideshow": {
     "slide_type": "slide"
    }
   },
   "source": [
    "Un reconocimiento a mis estudiantes que han construido conmigo este saber pedagógico:\n",
    "\n",
    "<img src = ''> \n",
    "\n"
   ]
  },
  {
   "cell_type": "markdown",
   "id": "8a74a56c-0ce6-4ad6-b985-553fd7fb68bb",
   "metadata": {},
   "source": [
    "Reconocimiento a las profesoras destacadas en enseñanza de la matemática en Colombia\n"
   ]
  },
  {
   "cell_type": "code",
   "execution_count": 6,
   "id": "1fc181fa",
   "metadata": {},
   "outputs": [
    {
     "data": {
      "application/vnd.microsoft.datawrangler.viewer.v0+json": {
       "columns": [
        {
         "name": "index",
         "rawType": "int64",
         "type": "integer"
        },
        {
         "name": "Cedula",
         "rawType": "int64",
         "type": "integer"
        },
        {
         "name": "Nombre",
         "rawType": "object",
         "type": "string"
        },
        {
         "name": "Email",
         "rawType": "object",
         "type": "string"
        },
        {
         "name": "Parcial",
         "rawType": "int64",
         "type": "integer"
        },
        {
         "name": "Asistencia",
         "rawType": "int64",
         "type": "integer"
        }
       ],
       "conversionMethod": "pd.DataFrame",
       "ref": "48a9c0ce-a954-4a93-8199-23c1df65a5b5",
       "rows": [
        [
         "0",
         "1007410536",
         "CALY HERRERA ESTEFANIA",
         "estefania.caly@udea.edu.co",
         "0",
         "0"
        ],
        [
         "1",
         "1038108070",
         "DORADO PADILLA LEONEL ESTEBAN",
         "leonel.dorado@udea.edu.co",
         "0",
         "0"
        ],
        [
         "2",
         "1038115862",
         "LONDONO CASTRO FRED IVAN",
         "fred.londonoc@udea.edu.co",
         "0",
         "4"
        ],
        [
         "3",
         "1129804572",
         "SAN JUAN SERRANO MANUEL",
         "manuel.serrano1@udea.edu.co",
         "0",
         "0"
        ],
        [
         "4",
         "1007554266",
         "URIBE ARRIETA YEIFRY SEBASTIAN",
         "yeifry.uribe@udea.edu.co",
         "0",
         "0"
        ],
        [
         "5",
         "1007578670",
         "VELASQUEZ LOPEZ MERLIS",
         "merlis.velasquez@udea.edu.co",
         "0",
         "0"
        ]
       ],
       "shape": {
        "columns": 5,
        "rows": 6
       }
      },
      "text/html": [
       "<div>\n",
       "<style scoped>\n",
       "    .dataframe tbody tr th:only-of-type {\n",
       "        vertical-align: middle;\n",
       "    }\n",
       "\n",
       "    .dataframe tbody tr th {\n",
       "        vertical-align: top;\n",
       "    }\n",
       "\n",
       "    .dataframe thead th {\n",
       "        text-align: right;\n",
       "    }\n",
       "</style>\n",
       "<table border=\"1\" class=\"dataframe\">\n",
       "  <thead>\n",
       "    <tr style=\"text-align: right;\">\n",
       "      <th></th>\n",
       "      <th>Cedula</th>\n",
       "      <th>Nombre</th>\n",
       "      <th>Email</th>\n",
       "      <th>Parcial</th>\n",
       "      <th>Asistencia</th>\n",
       "    </tr>\n",
       "  </thead>\n",
       "  <tbody>\n",
       "    <tr>\n",
       "      <th>0</th>\n",
       "      <td>1007410536</td>\n",
       "      <td>CALY HERRERA ESTEFANIA</td>\n",
       "      <td>estefania.caly@udea.edu.co</td>\n",
       "      <td>0</td>\n",
       "      <td>0</td>\n",
       "    </tr>\n",
       "    <tr>\n",
       "      <th>1</th>\n",
       "      <td>1038108070</td>\n",
       "      <td>DORADO PADILLA LEONEL ESTEBAN</td>\n",
       "      <td>leonel.dorado@udea.edu.co</td>\n",
       "      <td>0</td>\n",
       "      <td>0</td>\n",
       "    </tr>\n",
       "    <tr>\n",
       "      <th>2</th>\n",
       "      <td>1038115862</td>\n",
       "      <td>LONDONO CASTRO FRED IVAN</td>\n",
       "      <td>fred.londonoc@udea.edu.co</td>\n",
       "      <td>0</td>\n",
       "      <td>4</td>\n",
       "    </tr>\n",
       "    <tr>\n",
       "      <th>3</th>\n",
       "      <td>1129804572</td>\n",
       "      <td>SAN JUAN SERRANO MANUEL</td>\n",
       "      <td>manuel.serrano1@udea.edu.co</td>\n",
       "      <td>0</td>\n",
       "      <td>0</td>\n",
       "    </tr>\n",
       "    <tr>\n",
       "      <th>4</th>\n",
       "      <td>1007554266</td>\n",
       "      <td>URIBE ARRIETA YEIFRY SEBASTIAN</td>\n",
       "      <td>yeifry.uribe@udea.edu.co</td>\n",
       "      <td>0</td>\n",
       "      <td>0</td>\n",
       "    </tr>\n",
       "    <tr>\n",
       "      <th>5</th>\n",
       "      <td>1007578670</td>\n",
       "      <td>VELASQUEZ LOPEZ MERLIS</td>\n",
       "      <td>merlis.velasquez@udea.edu.co</td>\n",
       "      <td>0</td>\n",
       "      <td>0</td>\n",
       "    </tr>\n",
       "  </tbody>\n",
       "</table>\n",
       "</div>"
      ],
      "text/plain": [
       "       Cedula                          Nombre                         Email  \\\n",
       "0  1007410536          CALY HERRERA ESTEFANIA    estefania.caly@udea.edu.co   \n",
       "1  1038108070   DORADO PADILLA LEONEL ESTEBAN     leonel.dorado@udea.edu.co   \n",
       "2  1038115862        LONDONO CASTRO FRED IVAN     fred.londonoc@udea.edu.co   \n",
       "3  1129804572         SAN JUAN SERRANO MANUEL   manuel.serrano1@udea.edu.co   \n",
       "4  1007554266  URIBE ARRIETA YEIFRY SEBASTIAN      yeifry.uribe@udea.edu.co   \n",
       "5  1007578670          VELASQUEZ LOPEZ MERLIS  merlis.velasquez@udea.edu.co   \n",
       "\n",
       "   Parcial  Asistencia  \n",
       "0        0           0  \n",
       "1        0           0  \n",
       "2        0           4  \n",
       "3        0           0  \n",
       "4        0           0  \n",
       "5        0           0  "
      ]
     },
     "execution_count": 6,
     "metadata": {},
     "output_type": "execute_result"
    }
   ],
   "source": [
    "import pandas as pd\n",
    "import numpy as np\n",
    "\n",
    "# Cargar la lista de estudiantes desde el archivo CSV\n",
    "path = r\"C:\\Users\\marco\\Documentos\\docencia\\groups_list\\numerico.xlsx\"\n",
    "estudiantes = pd.read_excel(path) \n",
    "estudiantes "
   ]
  },
  {
   "cell_type": "markdown",
   "id": "2ea92512",
   "metadata": {},
   "source": [
    "Definitivamente, el archivo de lista de estudiantes de la universidad de antioquia debe ser leído por pandas.read_csv(path, sep = '\\t') pues es un archivo donde la información está separada por tabulaciones. "
   ]
  },
  {
   "cell_type": "code",
   "execution_count": 8,
   "id": "7604880f",
   "metadata": {
    "slideshow": {
     "slide_type": "slide"
    }
   },
   "outputs": [
    {
     "name": "stdout",
     "output_type": "stream",
     "text": [
      "Llamando a VELASQUEZ LOPEZ MERLIS...\n",
      "Llamando a CALY HERRERA ESTEFANIA...\n",
      "Llamando a URIBE ARRIETA YEIFRY SEBASTIAN...\n",
      "Llamando a LONDONO CASTRO FRED IVAN...\n",
      "Llamando a SAN JUAN SERRANO MANUEL...\n",
      "Llamando a DORADO PADILLA LEONEL ESTEBAN...\n",
      "Cambios guardados en el archivo CSV.\n"
     ]
    }
   ],
   "source": [
    "# Convertir la columna 'Nombre' a una lista de Python\n",
    "lista_estudiantes = estudiantes['Nombre'].tolist()\n",
    "\n",
    "# Función para llamar a un estudiante aleatoriamente y registrar su nota de seguimiento\n",
    "def asistencia():\n",
    "    global lista_estudiantes\n",
    "    if lista_estudiantes:\n",
    "        estudiante_aleatorio = np.random.choice(lista_estudiantes)\n",
    "        print(f\"Llamando a {estudiante_aleatorio}...\")\n",
    "        asistencia = input(f\"¿Asistió {estudiante_aleatorio}? (s/n): \").strip().lower()\n",
    "        \n",
    "        # Validación de entrada\n",
    "        if asistencia == 'n':\n",
    "            # Obtener el índice del estudiante en el DataFrame\n",
    "            indice = estudiantes[estudiantes['Nombre'] == estudiante_aleatorio].index[0]\n",
    "            # Incrementar su valor en la columna 'Parcial'\n",
    "            estudiantes.at[indice, 'Asistencia'] += 4\n",
    "            print(f\"Actualizado: {estudiante_aleatorio} ahora tiene {estudiantes.at[indice, 'Asistencia']} en la columna 'Asistencia'.\")\n",
    "        \n",
    "        elif asistencia != 's':\n",
    "            print(\"Entrada inválida. Por favor, introduce 's' para sí o 'n' para no.\")\n",
    "            return  # Volver a preguntar para el mismo estudiante si la entrada es inválida\n",
    "        \n",
    "        # Remover al estudiante de la lista para no llamarlo de nuevo\n",
    "        lista_estudiantes.remove(estudiante_aleatorio)\n",
    "    else:\n",
    "        print(\"Se han llamado a todos los estudiantes del grupo completo.\")\n",
    "\n",
    "# Función para guardar cambios al final de la sesión\n",
    "def guardar_cambios():\n",
    "    estudiantes.to_csv(path, index=False)\n",
    "    print(\"Cambios guardados en el archivo CSV.\")\n",
    "\n",
    "# Ejemplo de uso\n",
    "while lista_estudiantes:\n",
    "    asistencia()\n",
    "\n",
    "# Guardar los cambios una vez que todos los estudiantes hayan sido llamados\n",
    "guardar_cambios()\n",
    "\n"
   ]
  },
  {
   "cell_type": "code",
   "execution_count": 9,
   "id": "c84c2b23",
   "metadata": {},
   "outputs": [
    {
     "data": {
      "application/vnd.microsoft.datawrangler.viewer.v0+json": {
       "columns": [
        {
         "name": "index",
         "rawType": "int64",
         "type": "integer"
        },
        {
         "name": "Cedula",
         "rawType": "int64",
         "type": "integer"
        },
        {
         "name": "Nombre",
         "rawType": "object",
         "type": "string"
        },
        {
         "name": "Email",
         "rawType": "object",
         "type": "string"
        },
        {
         "name": "Parcial",
         "rawType": "int64",
         "type": "integer"
        },
        {
         "name": "Asistencia",
         "rawType": "int64",
         "type": "integer"
        }
       ],
       "conversionMethod": "pd.DataFrame",
       "ref": "e5d7183d-ef9a-4225-bdf8-1988d9cd2fb4",
       "rows": [
        [
         "0",
         "1007410536",
         "CALY HERRERA ESTEFANIA",
         "estefania.caly@udea.edu.co",
         "0",
         "0"
        ],
        [
         "1",
         "1038108070",
         "DORADO PADILLA LEONEL ESTEBAN",
         "leonel.dorado@udea.edu.co",
         "0",
         "0"
        ],
        [
         "2",
         "1038115862",
         "LONDONO CASTRO FRED IVAN",
         "fred.londonoc@udea.edu.co",
         "0",
         "4"
        ],
        [
         "3",
         "1129804572",
         "SAN JUAN SERRANO MANUEL",
         "manuel.serrano1@udea.edu.co",
         "0",
         "0"
        ],
        [
         "4",
         "1007554266",
         "URIBE ARRIETA YEIFRY SEBASTIAN",
         "yeifry.uribe@udea.edu.co",
         "0",
         "0"
        ]
       ],
       "shape": {
        "columns": 5,
        "rows": 5
       }
      },
      "text/html": [
       "<div>\n",
       "<style scoped>\n",
       "    .dataframe tbody tr th:only-of-type {\n",
       "        vertical-align: middle;\n",
       "    }\n",
       "\n",
       "    .dataframe tbody tr th {\n",
       "        vertical-align: top;\n",
       "    }\n",
       "\n",
       "    .dataframe thead th {\n",
       "        text-align: right;\n",
       "    }\n",
       "</style>\n",
       "<table border=\"1\" class=\"dataframe\">\n",
       "  <thead>\n",
       "    <tr style=\"text-align: right;\">\n",
       "      <th></th>\n",
       "      <th>Cedula</th>\n",
       "      <th>Nombre</th>\n",
       "      <th>Email</th>\n",
       "      <th>Parcial</th>\n",
       "      <th>Asistencia</th>\n",
       "    </tr>\n",
       "  </thead>\n",
       "  <tbody>\n",
       "    <tr>\n",
       "      <th>0</th>\n",
       "      <td>1007410536</td>\n",
       "      <td>CALY HERRERA ESTEFANIA</td>\n",
       "      <td>estefania.caly@udea.edu.co</td>\n",
       "      <td>0</td>\n",
       "      <td>0</td>\n",
       "    </tr>\n",
       "    <tr>\n",
       "      <th>1</th>\n",
       "      <td>1038108070</td>\n",
       "      <td>DORADO PADILLA LEONEL ESTEBAN</td>\n",
       "      <td>leonel.dorado@udea.edu.co</td>\n",
       "      <td>0</td>\n",
       "      <td>0</td>\n",
       "    </tr>\n",
       "    <tr>\n",
       "      <th>2</th>\n",
       "      <td>1038115862</td>\n",
       "      <td>LONDONO CASTRO FRED IVAN</td>\n",
       "      <td>fred.londonoc@udea.edu.co</td>\n",
       "      <td>0</td>\n",
       "      <td>4</td>\n",
       "    </tr>\n",
       "    <tr>\n",
       "      <th>3</th>\n",
       "      <td>1129804572</td>\n",
       "      <td>SAN JUAN SERRANO MANUEL</td>\n",
       "      <td>manuel.serrano1@udea.edu.co</td>\n",
       "      <td>0</td>\n",
       "      <td>0</td>\n",
       "    </tr>\n",
       "    <tr>\n",
       "      <th>4</th>\n",
       "      <td>1007554266</td>\n",
       "      <td>URIBE ARRIETA YEIFRY SEBASTIAN</td>\n",
       "      <td>yeifry.uribe@udea.edu.co</td>\n",
       "      <td>0</td>\n",
       "      <td>0</td>\n",
       "    </tr>\n",
       "  </tbody>\n",
       "</table>\n",
       "</div>"
      ],
      "text/plain": [
       "       Cedula                          Nombre                        Email  \\\n",
       "0  1007410536          CALY HERRERA ESTEFANIA   estefania.caly@udea.edu.co   \n",
       "1  1038108070   DORADO PADILLA LEONEL ESTEBAN    leonel.dorado@udea.edu.co   \n",
       "2  1038115862        LONDONO CASTRO FRED IVAN    fred.londonoc@udea.edu.co   \n",
       "3  1129804572         SAN JUAN SERRANO MANUEL  manuel.serrano1@udea.edu.co   \n",
       "4  1007554266  URIBE ARRIETA YEIFRY SEBASTIAN     yeifry.uribe@udea.edu.co   \n",
       "\n",
       "   Parcial  Asistencia  \n",
       "0        0           0  \n",
       "1        0           0  \n",
       "2        0           4  \n",
       "3        0           0  \n",
       "4        0           0  "
      ]
     },
     "execution_count": 9,
     "metadata": {},
     "output_type": "execute_result"
    }
   ],
   "source": [
    "estudiantes.head() "
   ]
  },
  {
   "cell_type": "markdown",
   "id": "d7598d0a-d9b7-4ae0-b029-a0ed6ed1130b",
   "metadata": {},
   "source": [
    "\n",
    "# Principios de mi labor docente"
   ]
  },
  {
   "cell_type": "markdown",
   "id": "4f9d8cf9",
   "metadata": {
    "slideshow": {
     "slide_type": "slide"
    }
   },
   "source": [
    "## Modelo general de clase: [aula invertida](https://www3.gobiernodecanarias.org/medusa/ecoescuela/pedagotic/aprendizaje-invertido-flipped-classroom/)"
   ]
  },
  {
   "cell_type": "markdown",
   "id": "eb6ed03a",
   "metadata": {},
   "source": [
    "<img src = 'https://resources.maneuveringthemiddle.com/wp-content/uploads/2020/07/04212706/1-5.png' width = 200>  \n",
    "\n"
   ]
  },
  {
   "cell_type": "markdown",
   "id": "34319cce-a71b-4f64-aab8-b53e521efa40",
   "metadata": {},
   "source": [
    "# Metodología de enseñanza basada en problemas (ABP)\n"
   ]
  },
  {
   "cell_type": "markdown",
   "id": "c4f73d81",
   "metadata": {},
   "source": [
    "\n",
    "<img src = 'https://www.unir.net/wp-content/uploads/2020/07/aprendizaje-problemas2-1-1-1-1.jpeg' width = 200>"
   ]
  },
  {
   "cell_type": "markdown",
   "id": "841a985c-bd9b-4dd3-8e4c-893983980af2",
   "metadata": {},
   "source": [
    "# Desarrollo del pensamiento computacional con Lenguaje R y con archivos R Markdown orientado a la formación en ciencia de datos \n",
    "\n"
   ]
  },
  {
   "cell_type": "markdown",
   "id": "3d0eba94",
   "metadata": {},
   "source": [
    "\n",
    "<img src = 'https://i.ytimg.com/vi/mcG_wcR4e6M/maxresdefault.jpg' width = 200>"
   ]
  },
  {
   "cell_type": "markdown",
   "id": "65aa0404-f7ae-495e-864c-1aec01b4255e",
   "metadata": {},
   "source": [
    "# Principio de fomento a la ciencia abierta, enseñar en el acceso a los datos públicos y el uso de software de código abierto  \n"
   ]
  },
  {
   "cell_type": "markdown",
   "id": "18ae9b87",
   "metadata": {},
   "source": [
    "\n",
    "<img src = 'https://unesdoc.unesco.org/in/rest/Thumb/image?id=p%3A%3Ausmarcdef_0000379949_spa&author=UNESCO&title=Recomendaci%C3%B3n+de+la+UNESCO+sobre+la+Ciencia+Abierta&year=2021&publisher=UNESCO&TypeOfDocument=UnescoPhysicalDocument&mat=PGD&ct=true&size=512&isPhysical=1' width = 200>"
   ]
  },
  {
   "cell_type": "markdown",
   "id": "d9559f85",
   "metadata": {},
   "source": [
    "El enfoque STEAMS en educación preescolar, primaria y secundaria es una extensión del enfoque STEM (Ciencia, Tecnología, Ingeniería y Matemáticas) y su variante STEAM, que incorpora el Arte. "
   ]
  },
  {
   "cell_type": "markdown",
   "id": "72e1cfd2",
   "metadata": {},
   "source": [
    "El acrónimo STEAMS incluye:\n"
   ]
  },
  {
   "cell_type": "markdown",
   "id": "03182fd1",
   "metadata": {},
   "source": [
    "\n",
    "1. **Science (Ciencia):** Fomenta la curiosidad por el mundo natural y el desarrollo de habilidades científicas, como la observación, experimentación y análisis.\n"
   ]
  },
  {
   "cell_type": "markdown",
   "id": "1306d0fa",
   "metadata": {},
   "source": [
    "\n",
    "2. **Technology (Tecnología):** Integra herramientas tecnológicas para potenciar el aprendizaje y la resolución de problemas, promoviendo la alfabetización digital desde edades tempranas.\n"
   ]
  },
  {
   "cell_type": "markdown",
   "id": "3b1a53e8",
   "metadata": {},
   "source": [
    "\n",
    "3. **Engineering (Ingeniería):** Introduce el pensamiento lógico y la resolución de problemas estructurados, fomentando habilidades como el diseño y la construcción de soluciones.\n"
   ]
  },
  {
   "cell_type": "markdown",
   "id": "0196de87",
   "metadata": {},
   "source": [
    "\n",
    "4. **Arts (Arte):** Añade creatividad y pensamiento crítico, permitiendo a los estudiantes expresarse y explorar el aprendizaje a través de formas artísticas (plásticas, música, teatro).\n"
   ]
  },
  {
   "cell_type": "markdown",
   "id": "8bcc485a",
   "metadata": {},
   "source": [
    "\n",
    "5. **Mathematics (Matemáticas):** Refuerza las habilidades numéricas y el razonamiento lógico, fundamentales en la resolución de problemas y comprensión de conceptos abstractos.\n"
   ]
  },
  {
   "cell_type": "markdown",
   "id": "907935f4",
   "metadata": {},
   "source": [
    "\n",
    "6. **Social Sciences (Ciencias Sociales):** Incorpora la comprensión del entorno social, político, cultural y económico, promoviendo el desarrollo de la conciencia crítica sobre el mundo y su historia, además de habilidades de empatía y ciudadanía.\n"
   ]
  },
  {
   "cell_type": "markdown",
   "id": "39967d63",
   "metadata": {},
   "source": [
    "\n",
    "El enfoque STEAMS pretende desarrollar un aprendizaje **interdisciplinario** que integre estas áreas para fomentar un pensamiento más holístico y práctico. "
   ]
  },
  {
   "cell_type": "markdown",
   "id": "5145f077",
   "metadata": {},
   "source": [
    "Se busca que los estudiantes no solo aprendan conocimientos técnicos, sino también cómo aplicarlos creativa y críticamente en situaciones reales, promoviendo habilidades como el trabajo en equipo, la comunicación y la innovación. "
   ]
  },
  {
   "cell_type": "markdown",
   "id": "9d556584",
   "metadata": {},
   "source": [
    "En educación preescolar, primaria, secundaria y superior, se adapta a las diferentes etapas de desarrollo cognitivo y emocional de los estudiantes, promoviendo el aprendizaje activo y contextualizado.  \n"
   ]
  },
  {
   "cell_type": "markdown",
   "id": "0130ec1b",
   "metadata": {},
   "source": [
    "\n",
    "<img src = 'https://www.campuseducacion.com/blog/wp-content/uploads/2023/03/foto01-1.jpg' width = 200>"
   ]
  },
  {
   "cell_type": "markdown",
   "id": "9d15c10d-2c02-4158-9419-b1ed79b4c1ee",
   "metadata": {},
   "source": [
    "# Qué estamos haciendo por la internalización en esta clase y este curso  \n"
   ]
  },
  {
   "cell_type": "markdown",
   "id": "6e4feef2",
   "metadata": {},
   "source": [
    "Estas son mis acciones como docente de matemáticas en la Universidad de Antioquia con miras a la **internacionalización** de mi práctica docente y el desarrollo de competencias internacionales para mis estudiantes, ls cuales he estructurado con el siguiente enfoque:\n"
   ]
  },
  {
   "cell_type": "markdown",
   "id": "964d9de7-53ee-4255-9bcd-d8e6454f2993",
   "metadata": {},
   "source": [
    "### 1. **Visión Global en la Formación Académica**\n"
   ]
  },
  {
   "cell_type": "markdown",
   "id": "d9bdd3e2",
   "metadata": {},
   "source": [
    "   - **Competencias Internacionales**: Asegúrate de que el contenido de tus cursos fomente habilidades que sean reconocidas globalmente. "
   ]
  },
  {
   "cell_type": "markdown",
   "id": "95cca7d1",
   "metadata": {},
   "source": [
    "Al educar a los estudiantes en **Python, LaTeX, Markdown y Jupyter Notebooks** y en la **introducción a la ciencia de datos y técnicas de Machine Learning**, estás proporcionando competencias altamente demandadas en los sectores tecnológicos y académicos a nivel internacional.\n"
   ]
  },
  {
   "cell_type": "markdown",
   "id": "39b55206",
   "metadata": {},
   "source": [
    "   - **Relevancia de los Contenidos**: Destaca cómo los temas que enseñas, como el **desarrollo del pensamiento computacional** y la **ciencia de datos**, están alineados con las necesidades globales actuales en diversas industrias, desde la tecnología hasta las ciencias naturales y sociales.\n"
   ]
  },
  {
   "cell_type": "markdown",
   "id": "a054599e",
   "metadata": {},
   "source": [
    "   - **Referencias a Estándares Internacionales**: Puedes vincular tu enseñanza a estándares internacionales de competencias en programación y ciencia de datos (por ejemplo, frameworks del **IEEE, ACM**, y estándares de la **data science** o la **computación en la nube**)."
   ]
  },
  {
   "cell_type": "markdown",
   "id": "0f1d110c-3142-48fe-9e7d-5fbd9e8bb931",
   "metadata": {},
   "source": [
    "### 2. **Innovación Pedagógica con Enfoque Internacional**\n"
   ]
  },
  {
   "cell_type": "markdown",
   "id": "fae6ae34",
   "metadata": {},
   "source": [
    "   - **Aula Invertida y ABP**: Presenta cómo tu enfoque de **aula invertida** y **aprendizaje basado en problemas (ABP)** permite a los estudiantes trabajar de manera autónoma y colaborativa, lo que los prepara para escenarios laborales internacionales que requieren autoaprendizaje y habilidades de resolución de problemas en equipo.\n"
   ]
  },
  {
   "cell_type": "markdown",
   "id": "c83062d9",
   "metadata": {},
   "source": [
    "   - **Uso de Jupyter Notebooks**: El uso de **Jupyter Notebooks** en tus clases no solo facilita la **integración de código, matemáticas y texto**, sino que también es una plataforma utilizada globalmente en ambientes académicos y profesionales, lo que hace a tus estudiantes más competitivos internacionalmente."
   ]
  },
  {
   "cell_type": "markdown",
   "id": "960d52b7-03cd-4eb3-965e-5cdfeb7d9f8e",
   "metadata": {},
   "source": [
    "### 3. **Tecnología y Herramientas de Uso Global**\n"
   ]
  },
  {
   "cell_type": "markdown",
   "id": "4be7269f",
   "metadata": {},
   "source": [
    "   - **Lenguaje Python**: Python es uno de los lenguajes de programación más usados a nivel mundial, tanto en la academia como en la industria. "
   ]
  },
  {
   "cell_type": "markdown",
   "id": "9a7f83bc",
   "metadata": {},
   "source": [
    "Al formar a tus estudiantes en Python para ciencia de datos y machine learning, los preparas para operar en entornos tecnológicos globales.\n"
   ]
  },
  {
   "cell_type": "markdown",
   "id": "102655af",
   "metadata": {},
   "source": [
    "   - **Herramientas de Ciencia Abierta**: Resalta cómo herramientas como **GitHub**, **Google Colab** y otras plataformas de código abierto están alineadas con el movimiento de **ciencia abierta**, el cual es internacionalmente reconocido y permite que los estudiantes colaboren y compartan proyectos a nivel global."
   ]
  },
  {
   "cell_type": "markdown",
   "id": "3b2ffa32-7a6f-4545-ba7b-c6a69f51109f",
   "metadata": {},
   "source": [
    "### 4. **Investigación y Publicaciones Internacionales**\n"
   ]
  },
  {
   "cell_type": "markdown",
   "id": "bdbf52a5",
   "metadata": {},
   "source": [
    "   - **Promoción de la Investigación**: Detalla cómo promueves que tus estudiantes participen en proyectos de **investigación aplicada**, con posibilidad de publicación en revistas internacionales. Esto contribuye a la reputación internacional de la Universidad de Antioquia.\n"
   ]
  },
  {
   "cell_type": "markdown",
   "id": "ea01fcbc",
   "metadata": {},
   "source": [
    "   - **Colaboraciones Internacionales**: Si has colaborado con investigadores de otras instituciones o universidades en el extranjero, menciona estos proyectos y cómo han enriquecido tu enseñanza y proporcionado a los estudiantes una visión más globalizada."
   ]
  },
  {
   "cell_type": "markdown",
   "id": "5d1e396e-aece-4bf7-9421-32fa7809eaf4",
   "metadata": {},
   "source": [
    "## 5. **Uso del Inglés para la Internacionalización**\n"
   ]
  },
  {
   "cell_type": "markdown",
   "id": "29cabf26",
   "metadata": {},
   "source": [
    "   - **Comunicación Científica en Inglés**: "
   ]
  },
  {
   "cell_type": "markdown",
   "id": "8ec53ff3",
   "metadata": {},
   "source": [
    "Fomentar el aprendizaje del inglés como lengua científica es clave para que tus estudiantes puedan acceder a publicaciones internacionales, conferencias, y material académico que no está disponible en español. Esto es esencial para que adquieran competencias que les permitan desempeñarse en cualquier contexto internacional.\n"
   ]
  },
  {
   "cell_type": "markdown",
   "id": "b831224f",
   "metadata": {},
   "source": [
    "   - **Material Bilingüe**: Al generar material educativo en Python, LaTeX y Markdown, considera ofrecer algunos de estos recursos en inglés, para que los estudiantes se familiaricen con el vocabulario técnico y científico internacional."
   ]
  },
  {
   "cell_type": "markdown",
   "id": "c6a8c3b0-426a-4692-a384-3065aea81c9a",
   "metadata": {},
   "source": [
    "### 6. **Certificaciones y Estándares Internacionales**\n"
   ]
  },
  {
   "cell_type": "markdown",
   "id": "b1f41da5",
   "metadata": {},
   "source": [
    "   - **Participación en Certificaciones Internacionales**: Impulsa que los estudiantes busquen certificaciones internacionales en Python o ciencia de datos (como las ofrecidas por **Coursera, edX,** o **Google**). Estas certificaciones no solo validan sus competencias, sino que también incrementan el reconocimiento de la Universidad de Antioquia en el contexto internacional.\n"
   ]
  },
  {
   "cell_type": "markdown",
   "id": "7cc66317",
   "metadata": {},
   "source": [
    "   - **Alineación con Acreditaciones Internacionales**: Vincula tu trabajo docente con los estándares de acreditación y certificación que garantizan que la universidad siga siendo reconocida internacionalmente. "
   ]
  },
  {
   "cell_type": "markdown",
   "id": "adab8a57",
   "metadata": {},
   "source": [
    "Puedes vincularte con organizaciones internacionales que promuevan la excelencia en la educación y tecnología, como **ABET** para la acreditación en ingeniería y ciencias computacionales."
   ]
  },
  {
   "cell_type": "markdown",
   "id": "65d3d9e1-ea84-43e0-8197-a2a9c9e21594",
   "metadata": {},
   "source": [
    "### 7. **Proyectos Abiertos y Ciencia Reproducible**\n"
   ]
  },
  {
   "cell_type": "markdown",
   "id": "f03f7b20",
   "metadata": {},
   "source": [
<<<<<<< HEAD
    "   - **GitHub y Open Science**: La utilización de **GitHub** para almacenar los proyectos y materiales de enseñanza en repositorios públicos permite que otros investigadores y educadores internacionales puedan revisar y replicar tu trabajo. Esto contribuye a la creación de una red de colaboración científica abierta.\n"
   ]
  },
  {
   "cell_type": "markdown",
   "id": "859a3449",
   "metadata": {},
   "source": [
=======
    "   - **GitHub y Open Science**: La utilización de **GitHub** para almacenar los proyectos y materiales de enseñanza en repositorios públicos permite que otros investigadores y educadores internacionales puedan revisar y replicar tu trabajo. Esto contribuye a la creación de una red de colaboración científica abierta.\n",
>>>>>>> 5b8503c945ec2b382e01906ecc12c817f3562bd4
    "   - **Transparencia y Reproducibilidad**: La ciencia de datos y machine learning están profundamente ligados a la reproducibilidad. Asegura que tus estudiantes desarrollen prácticas de transparencia y documentación en la investigación, que son pilares en la comunidad científica global.\n"
   ]
  },
  {
   "cell_type": "markdown",
   "id": "215cb551",
   "metadata": {},
   "source": [
    "\n",
    "### 8. **Participación en Redes y Conferencias Internacionales**\n",
    "   - **Presentación en Conferencias Internacionales**: Destaca cómo tu participación en conferencias internacionales (como la **ASCOLFA** o eventos sobre educación en matemáticas) contribuye al prestigio de la universidad y permite que tus prácticas sean evaluadas y reconocidas a nivel global.\n"
   ]
  },
  {
   "cell_type": "markdown",
   "id": "cdf46e29",
   "metadata": {},
   "source": [
    "   - **Promoción de Estudiantes en Eventos Internacionales**: Impulsa la participación de tus estudiantes en competiciones internacionales de programación o hackathons, como los organizados por **Google**, **ACM** o **Kaggle**. Esto no solo desarrolla sus habilidades, sino que también visibiliza el talento de la Universidad de Antioquia a nivel global.\n",
    "\n",
    "---"
   ]
  },
  {
   "cell_type": "markdown",
   "id": "233294a4-1983-4641-a7ad-866825e02315",
   "metadata": {},
   "source": [
    "Con esta estrategia, presento mis acciones docentes en términos de competencias internacionales, innovación pedagógica, tecnología, investigación y participación en redes globales, asegurando que mi práctica esté alineada con los estándares internacionales y que tus estudiantes estén preparados para competir en contextos internacionales."
   ]
  },
  {
   "cell_type": "markdown",
   "id": "77da458b",
   "metadata": {},
   "source": [
    "### **Metodología de Enseñanza: Aprendizaje Basado en Problemas y Proyectos (ABPP)**\n"
   ]
  },
  {
   "cell_type": "markdown",
   "id": "c943d273",
   "metadata": {},
   "source": [
    "\n",
    "El **Aprendizaje Basado en Problemas y Proyectos (ABPP)** es una metodología educativa que integra los enfoques del **Aprendizaje Basado en Problemas (ABP)** y el **Aprendizaje Basado en Proyectos (PBL, por sus siglas en inglés)**. "
   ]
  },
  {
   "cell_type": "markdown",
   "id": "028326c7",
   "metadata": {},
   "source": [
    "Es especialmente útil para la formación de futuros docentes, ingenieros y administradores, ya que combina el desarrollo de habilidades prácticas con el pensamiento crítico y reflexivo. A continuación, se presenta una descripción adaptada a la enseñanza de las matemáticas en educación infantil, Licenciatura en Matemáticas, Ingeniería Agropecuaria y Administración de Empresas:\n",
    "\n",
    "---\n"
   ]
  },
  {
   "cell_type": "markdown",
   "id": "0eeba3f5",
   "metadata": {},
   "source": [
    "\n",
<<<<<<< HEAD
    "### **1. Fundamentos del ABPP**\n"
   ]
  },
  {
   "cell_type": "markdown",
   "id": "a6275b11",
   "metadata": {},
   "source": [
=======
    "### **1. Fundamentos del ABPP**\n",
>>>>>>> 5b8503c945ec2b382e01906ecc12c817f3562bd4
    "El ABPP se basa en:\n",
    "- **Resolución de Problemas Reales:** Los estudiantes analizan y resuelven problemas auténticos relacionados con su área de formación, fomentando la aplicación práctica del conocimiento.\n",
    "- **Proyectos como Herramientas Integradoras:** Los proyectos permiten desarrollar habilidades interdisciplinarias y ofrecer soluciones concretas a los problemas planteados.\n",
    "- **Aprendizaje Activo:** Los estudiantes son responsables de su aprendizaje y participan activamente en el proceso de investigación, diseño y solución.\n",
    "\n",
    "---\n"
   ]
  },
  {
   "cell_type": "markdown",
   "id": "3728d010",
   "metadata": {},
   "source": [
    "\n",
<<<<<<< HEAD
    "### **2. Aplicación del ABPP en Áreas Específicas**\n"
   ]
  },
  {
   "cell_type": "markdown",
   "id": "0d8467a5",
   "metadata": {},
   "source": [
    "\n",
    "#### **Educación Infantil (Licenciatura en Educación Infantil)**\n",
    "- **Enfoque:** Desarrollo del pensamiento matemático en la infancia desde contextos lúdicos, familiares y culturales.\n"
   ]
  },
  {
   "cell_type": "markdown",
   "id": "9ee3deab",
   "metadata": {},
   "source": [
    "- **Problemas típicos:** \n"
   ]
  },
  {
   "cell_type": "markdown",
   "id": "a6251255",
   "metadata": {},
   "source": [
=======
    "### **2. Aplicación del ABPP en Áreas Específicas**\n",
    "\n",
    "#### **Educación Infantil (Licenciatura en Educación Infantil)**\n",
    "- **Enfoque:** Desarrollo del pensamiento matemático en la infancia desde contextos lúdicos, familiares y culturales.\n",
    "- **Problemas típicos:** \n",
>>>>>>> 5b8503c945ec2b382e01906ecc12c817f3562bd4
    "  - ¿Cómo enseñar los números naturales mediante actividades prácticas y juegos?\n",
    "  - ¿Qué estrategias pueden emplearse para abordar el concepto de cantidad en edades tempranas?\n",
    "- **Proyectos:** Diseño de secuencias didácticas que usen Python, Jupyter Notebooks y materiales manipulativos para enseñar matemáticas de forma interactiva.\n"
   ]
  },
  {
   "cell_type": "markdown",
   "id": "50c62085",
   "metadata": {},
   "source": [
    "- **Competencias desarrolladas:** \n",
    "  - Uso de herramientas tecnológicas para diseñar actividades educativas.\n",
    "  - Comprensión del desarrollo cognitivo infantil y su relación con las matemáticas.\n"
   ]
  },
  {
   "cell_type": "markdown",
   "id": "481f614a",
   "metadata": {},
   "source": [
    "\n",
    "#### **Licenciatura en Matemáticas**\n",
    "- **Enfoque:** Resolución de problemas matemáticos aplicados y profundización teórica en áreas como análisis matemático y modelado.\n",
    "- **Problemas típicos:**\n",
    "  - ¿Cómo se pueden resolver ecuaciones diferenciales aplicadas a modelos físicos o económicos?\n",
<<<<<<< HEAD
    "  - ¿Cómo modelar fenómenos naturales mediante funciones matemáticas?\n"
   ]
  },
  {
   "cell_type": "markdown",
   "id": "8247755d",
   "metadata": {},
   "source": [
=======
    "  - ¿Cómo modelar fenómenos naturales mediante funciones matemáticas?\n",
>>>>>>> 5b8503c945ec2b382e01906ecc12c817f3562bd4
    "- **Proyectos:** \n",
    "  - Desarrollo de software educativo para explorar conceptos matemáticos.\n",
    "  - Aplicación de modelado matemático para resolver problemas reales en otras disciplinas.\n",
    "- **Competencias desarrolladas:**\n",
    "  - Dominio de la matemática teórica y aplicada.\n",
    "  - Uso de tecnología para la enseñanza y la investigación.\n"
   ]
  },
  {
   "cell_type": "markdown",
   "id": "83ab236f",
   "metadata": {},
   "source": [
    "\n",
    "#### **Ingeniería Agropecuaria**\n",
    "- **Enfoque:** Modelado matemático y análisis de datos para mejorar la producción agrícola y la gestión de recursos.\n",
    "- **Problemas típicos:**\n",
    "  - ¿Cómo modelar el crecimiento de cultivos considerando variables climáticas?\n",
    "  - ¿Cómo optimizar el uso del agua en sistemas de riego mediante análisis matemático?\n",
    "- **Proyectos:** \n",
    "  - Desarrollo de modelos predictivos con Python y bibliotecas de aprendizaje automático.\n",
    "  - Implementación de proyectos que combinen matemáticas y ciencias de datos para resolver problemas agrícolas.\n",
    "- **Competencias desarrolladas:**\n",
    "  - Integración de matemáticas con tecnologías avanzadas.\n",
    "  - Resolución de problemas agropecuarios mediante análisis y modelado.\n"
   ]
  },
  {
   "cell_type": "markdown",
   "id": "c4519bb3",
   "metadata": {},
   "source": [
    "\n",
    "#### **Administración de Empresas**\n",
    "- **Enfoque:** Uso de las matemáticas y la ciencia de datos para la toma de decisiones estratégicas.\n",
    "- **Problemas típicos:**\n",
    "  - ¿Cómo identificar patrones de comportamiento del consumidor usando series de tiempo?\n",
<<<<<<< HEAD
    "  - ¿Qué estrategias matemáticas pueden optimizar la asignación de recursos en una empresa?\n"
   ]
  },
  {
   "cell_type": "markdown",
   "id": "90fb68b7",
   "metadata": {},
   "source": [
=======
    "  - ¿Qué estrategias matemáticas pueden optimizar la asignación de recursos en una empresa?\n",
>>>>>>> 5b8503c945ec2b382e01906ecc12c817f3562bd4
    "- **Proyectos:** \n",
    "  - Implementación de modelos de análisis financiero y simulaciones.\n",
    "  - Desarrollo de dashboards interactivos para la gestión de datos empresariales.\n",
    "- **Competencias desarrolladas:**\n",
    "  - Habilidad para interpretar datos matemáticos en contextos de negocio.\n",
    "  - Capacidad para diseñar soluciones basadas en datos.\n",
    "\n",
    "---\n"
   ]
  },
  {
   "cell_type": "markdown",
   "id": "19be58d4",
   "metadata": {},
   "source": [
    "\n",
    "### **3. Beneficios del ABPP**\n",
    "- **Desarrollo de competencias clave:**\n",
    "  - Pensamiento crítico y creativo.\n",
    "  - Trabajo colaborativo.\n",
    "  - Comunicación efectiva.\n",
    "  - Uso de herramientas tecnológicas avanzadas.\n",
    "- **Adaptación al contexto laboral:** Los estudiantes aprenden a enfrentar desafíos del mundo real y a diseñar soluciones prácticas y aplicables.\n",
    "- **Flexibilidad e interdisciplinariedad:** La metodología se adapta a diversas áreas, fomentando el aprendizaje integrado.\n",
    "\n",
    "---\n"
   ]
  },
  {
   "cell_type": "markdown",
   "id": "e36034c3",
   "metadata": {},
   "source": [
    "\n",
    "### **4. Ejemplo General de Implementación**\n",
    "1. **Identificación del problema:** Se plantea un desafío concreto, como modelar el crecimiento poblacional de una comunidad rural (Ingeniería Agropecuaria) o diseñar una estrategia para enseñar fracciones a niños de 8 años (Educación Infantil).\n",
    "2. **Formación de equipos:** Los estudiantes trabajan en grupos, distribuyendo roles y tareas.\n",
    "3. **Investigación y diseño:** Los estudiantes investigan el problema, proponen soluciones y diseñan un proyecto.\n",
    "4. **Implementación:** Se desarrolla el proyecto, como una herramienta tecnológica o una propuesta pedagógica.\n",
    "5. **Evaluación:** Los estudiantes presentan sus resultados en un informe o una exposición, recibiendo retroalimentación de sus compañeros y docentes.\n",
    "\n",
    "---\n"
   ]
  },
  {
   "cell_type": "markdown",
   "id": "89f6e61c",
   "metadata": {},
   "source": [
    "\n",
    "El ABPP es una metodología versátil que conecta el conocimiento teórico con la práctica, preparando a los estudiantes para los retos de sus profesiones en la enseñanza de la matemática, la ingeniería y la administración."
   ]
  },
  {
   "cell_type": "markdown",
   "id": "8d97dc80",
   "metadata": {
    "slideshow": {
     "slide_type": "slide"
    }
   },
   "source": [
    "## Fomento de la lectura literaria asociada a Ingeniería agropecuaria y licenciatura en Matemáticas\n",
    "\n",
    "[Aprender a obtener el sí sin ceder]()"
   ]
  },
  {
   "cell_type": "markdown",
   "id": "96775931",
   "metadata": {
    "slideshow": {
     "slide_type": "slide"
    }
   },
   "source": [
    "## Título de la clase: Método numérico de integración definida con sumas de Riemann izquierdas.   \n",
    "\n",
    "[]()"
   ]
  },
  {
   "cell_type": "markdown",
   "id": "e3ffa494",
   "metadata": {},
   "source": [
    "# Vocabulary   \n",
    "\n",
    "1. left: izquierda. \n",
<<<<<<< HEAD
    "2. arange: alinear. Función para generar puntos alineados.  \n",
=======
    "2.  \n",
>>>>>>> 5b8503c945ec2b382e01906ecc12c817f3562bd4
    "3.  \n",
    "4.  \n",
    "5.  "
   ]
  },
  {
   "cell_type": "code",
<<<<<<< HEAD
   "execution_count": 45,
   "id": "bc0addfe",
   "metadata": {},
   "outputs": [
    {
     "data": {
      "text/plain": [
       "'C:\\\\Users\\\\marco\\\\Documentos\\\\docencia\\\\calculo\\\\classes\\\\3_calculo\\\\6_numerico\\\\3_integracion\\\\1_suma_left_riemann\\\\images\\\\mapa_suma_riemann_left.pdf'"
      ]
     },
     "execution_count": 45,
     "metadata": {},
     "output_type": "execute_result"
    }
   ],
=======
   "execution_count": null,
   "id": "bc0addfe",
   "metadata": {},
   "outputs": [],
>>>>>>> 5b8503c945ec2b382e01906ecc12c817f3562bd4
   "source": [
    "# Mapa conceptual para la clase \"Método numérico de integración - Suma de Riemann izquierda\"\n",
    "from graphviz import Digraph\n",
    "\n",
    "# Crear un nuevo grafo dirigido\n",
    "dot = Digraph()\n",
    "\n",
    "# Definir el concepto principal\n",
    "main_concept = 'Método numérico de integración\\n(Suma de Riemann izquierda)'\n",
    "dot.node('A', main_concept, shape='box', style='filled', fillcolor='lightblue')\n",
    "\n",
    "# Nodos secundarios\n",
    "dot.node('B', 'Pensamiento Variacional', shape='ellipse', style='filled', fillcolor='lightyellow')\n",
    "dot.node('C', 'Pensamiento Computacional', shape='ellipse', style='filled', fillcolor='lightgreen')\n",
    "dot.node('D', 'Pensamiento Algorítmico', shape='ellipse', style='filled', fillcolor='lightcoral')\n",
    "\n",
    "dot.node('E', 'Escritura Verbal del Algoritmo', shape='parallelogram', style='filled', fillcolor='lightgrey')\n",
    "dot.node('F', 'Pseudocódigo', shape='parallelogram', style='filled', fillcolor='lightpink')\n",
    "dot.node('G', 'Implementación en Python', shape='parallelogram', style='filled', fillcolor='lightskyblue')\n",
    "\n",
    "dot.node('H', 'Pruebas de Escritorio', shape='diamond', style='filled', fillcolor='orange')\n",
    "dot.node('I', 'Visualización con Animaciones', shape='diamond', style='filled', fillcolor='cyan')\n",
    "\n",
    "# Relaciones principales\n",
    "dot.edge('A', 'B', label=' Relación con', color='black')\n",
    "dot.edge('A', 'C', label=' Relación con', color='black')\n",
    "dot.edge('A', 'D', label=' Relación con', color='black')\n",
    "\n",
    "dot.edge('D', 'E', label=' Desarrollo', color='blue')\n",
    "dot.edge('E', 'F', label=' Traducción', color='purple')\n",
    "dot.edge('F', 'G', label=' Codificación', color='green')\n",
    "\n",
    "dot.edge('G', 'H', label=' Validación', color='red')\n",
    "dot.edge('G', 'I', label=' Experimentación', color='darkblue')\n",
    "\n",
    "# Guardar y visualizar el mapa conceptual\n",
    "dot.render(filename=\"mapa_suma_riemann_left\", format='png', cleanup=True, \n",
<<<<<<< HEAD
    "           directory=r\"C:/Users/marco/Documentos/docencia/calculo/classes/3_calculo/6_numerico/3_integracion/1_suma_left_riemann\\images\")\n",
=======
    "           directory=r\"C:/Users/marco/Documentos/docencia/calculo/classes/3_calculo/6_analisis_numerico/3_integracion/1_suma_left_riemann\\images\")\n",
>>>>>>> 5b8503c945ec2b382e01906ecc12c817f3562bd4
    "\n",
    "dot.view()\n"
   ]
  },
  {
   "cell_type": "markdown",
   "id": "10e55ccf",
   "metadata": {},
   "source": [
    "# Estructura general para todas las clases\n"
   ]
  },
  {
   "cell_type": "markdown",
   "id": "b348ae39",
   "metadata": {},
   "source": [
    "\n",
    "Dame, por favor, un diseño de clase, con los enfoques: \"STEAMS y de Aprendizaje Basado en Problemas y Proyectos (ABPP)\" sobre: \"El método numérico de integración a través de rectángulos inscritos o particiones del intervalo de integración tomando los extremos izquierdos de cada subintervalo\", siguiendo la estructura:   \n",
    "\n",
    "1. Título de la clase \n",
    "2. Objetivo de aprendizaje que incluya el desarrollo del pensamiento variacional, el pensamiento computacional y el pensamiento algoritmico de los futuros profesores de Cálculo de la Licenciatura en matemáticas. \n",
    "3. Mapa conceptual jerarquico en Graphviz de python con nodos y edges de diferentes formas, colores y rellenos y que se renderize este mapa en la ubicación: `\"C:\\Users\\marco\\Documentos\\docencia\\calculo\\classes\\3_calculo\\5_calculo_vectorial\\1_cap_10\\1_class_conicas\\images\"`\n",
    "4. Incluye elementos históricos y epistemológicos relevantes sobre el método numérico de integración a través de rectángulos inscritos\n",
    "5. Contenido de la clase: donde este contenido busque el desarrollo del pensamiento algoritmico al proponer a los estudiantes actividades de escritura manuscrita del algoritmo en forma verbal , luego en forma de seudo código, para llegar al algoritmo en lenguaje python. \n",
    "   * Incluye una visualización con matplotlib y ipywidgets de python de la formación de los puntos $x_{i-1}$ de una partición regular del dominio $[a, b]$ de una función $f$ y la interpretación de $f(x_{i-1})$ como alturas o longitudes de la función en los puntos $x_{i-1}$, resaltando en color rojo a estos segmentos. Pero donde el deslizador representa la variable $i$ de los extremos izquierdos de los subintervalos. Para $n = 5$ fijo. Y que los rectángulos sean visibles. \n",
    "    * Incluye una visualización con matplotlib y ipywidgets de python de la formación de los puntos $x_{i-1}$ de una partición regular del dominio $[a, b]$ de una función $f$ y la interpretación de $f(x_{i-1})$ como alturas o longitudes de la función en los puntos $x_{i-1}$, resaltando en color rojo a estos segmentos. Donde el deslizador represente la variable $n$ de la partición regular.  Y que los rectángulos sean visibles.  \n",
    "    * Incluye en este contenido una visualización con matplotlib de python de la interpretación geométrica de los puntos distinguidos ($x_{i-1}$) de una partición regular del dominio $[a,b]$ de una función $f$ y la interpretación de $f(x_{i-1})$ (Coloreando en rojo estos segmentos verticales) como alturas o longitudes de la función en los puntos $x_{i-1}$\n",
    "6. Deducción de una función de usuario de python, que permita determinar el número de rectángulos $n$ necesarios para una precisión de la suma de riemenn dada $\\epsilon = 0.0001$. \n",
    "7. Actividades de aprendizaje: que incluya pruebas de escritorio para los algoritmos en forma verbal y seudo código, diagrama de flujo, y la implementación del algoritmo en lenguaje python. \n",
    "8. Incluye una canción o poema que refleje el tema de la clase.\n",
    "9. Tarea o actividades de ejercitación y fijación\n",
    "10. Evaluación incluyendo diez proyectos, un ejemplo de quiz y un ejemplo de parcial\n",
    "11. Diseño de actividad de retroalimentación.   \n",
    "12. Dame un vocabulario y frases del idioma inglés asociadas a esta clase.   \n",
    "\n",
    "Pero  que este diseño sea para que el estudiante pueda aprender experimentando en cuadernos Jupyter con funciones de usuario y animaciones y visualizaciones en python. En particular utiliza para este diseño de clase a NumPy, Pandas, SymPy, matplotlib.pyplot, ipywidgets, matplotlib.animation. "
   ]
  },
  {
   "cell_type": "markdown",
   "id": "11cb49d9",
   "metadata": {},
   "source": [
    "# Diseño de Clase: Integración Numérica por el Método de Rectángulos (Extremos Izquierdos)\n"
   ]
  },
  {
   "cell_type": "markdown",
   "id": "3e8261b2",
   "metadata": {},
   "source": [
    "\n",
    "## 1. Título de la Clase\n"
   ]
  },
  {
   "cell_type": "markdown",
   "id": "1fad2d58",
   "metadata": {},
   "source": [
    "**Integración numérica por el método de rectángulos con extremos izquierdos: exploración algorítmica y computacional**\n"
   ]
  },
  {
   "cell_type": "markdown",
   "id": "7d410347",
   "metadata": {},
   "source": [
    "\n",
    "## 2. Objetivo de Aprendizaje\n"
   ]
  },
  {
   "cell_type": "markdown",
   "id": "ef30780d",
   "metadata": {},
   "source": [
    "Al finalizar la clase, los estudiantes serán capaces de aplicar el método numérico de integración mediante rectángulos de puntos distinguidos $w_{i} = x_{i-1}$, es decir, utilizando los extremos izquierdos de cada subintervalo. En este proceso, desarrollarán:\n"
   ]
  },
  {
   "cell_type": "markdown",
   "id": "1b95e43d",
   "metadata": {},
   "source": [
    "- **Pensamiento variacional** al analizar la aproximación de áreas bajo curvas y su relación con la integral definida.\n"
   ]
  },
  {
   "cell_type": "markdown",
   "id": "aae52933",
   "metadata": {},
   "source": [
    "- **Pensamiento computacional** al diseñar y ejecutar simulaciones en Jupyter notebooks.\n",
    "- **Pensamiento algorítmico** al construir el algoritmo desde su representación en lenguaje natural hasta su implementación en Python.\n"
   ]
  },
  {
   "cell_type": "markdown",
   "id": "3f3097a7",
   "metadata": {},
   "source": [
    "\n",
    "## 3. Contenido de la Clase\n"
   ]
  },
  {
   "cell_type": "markdown",
   "id": "e653442f",
   "metadata": {},
   "source": [
    "1. **Concepto de integral definida y su interpretación geométrica**.\n"
   ]
  },
  {
   "cell_type": "markdown",
   "id": "61ca086e",
   "metadata": {},
   "source": [
    "2. **Método de rectángulos con extremos izquierdos**:\n",
    "   - Definición y justificación del método.\n",
    "   - Interpretación geométrica.\n",
    "   - Aproximación de la integral con diferentes cantidades de subintervalos.\n"
   ]
  },
  {
   "cell_type": "markdown",
   "id": "2062e9a7",
   "metadata": {},
   "source": [
    "3. **Diseño del algoritmo paso a paso**:\n",
    "   - Escritura manuscrita del algoritmo en lenguaje natural.\n",
    "   - Traducción a seudocódigo.\n",
    "   - Implementación en Python con funciones de usuario.\n",
    "   - Visualización y animación del proceso.\n"
   ]
  },
  {
   "cell_type": "markdown",
   "id": "0f3e6fca",
   "metadata": {},
   "source": [
    "\n",
    "## 4. Actividades de Aprendizaje\n"
   ]
  },
  {
   "cell_type": "markdown",
   "id": "ab757ad5",
   "metadata": {},
   "source": [
    "1. **Análisis manual del algoritmo**:\n",
    "   - Describir en lenguaje natural los pasos para calcular la integral aproximada.\n",
    "   - Diseñar el algoritmo en seudocódigo.\n",
    "   - Realizar pruebas de escritorio con ejemplos sencillos.\n"
   ]
  },
  {
   "cell_type": "markdown",
   "id": "45a57384",
   "metadata": {},
   "source": [
    "2. **Implementación en Jupyter Notebook**:\n",
    "   - Definir una función en Python que implemente el método de rectángulos.\n",
    "   - Crear visualizaciones gráficas con `matplotlib` para ilustrar la aproximación.\n",
    "   - Usar `ipywidgets` para generar animaciones que permitan observar el cambio al aumentar el número de subintervalos.\n"
   ]
  },
  {
   "cell_type": "markdown",
   "id": "52ccf3ce",
   "metadata": {},
   "source": [
    "\n",
    "## 5. Tarea o Actividades de Ejercitación y Fijación\n",
    "- Implementar el método con funciones matemáticas diferentes (por ejemplo, polinomios, exponenciales y trigonométricas).\n",
    "- Comparar los resultados obtenidos con el valor de la integral calculado analíticamente.\n",
    "- Diseñar una función en Python que permita cambiar la estrategia de aproximación (puntos medios, extremos derechos, trapezoidal).\n"
   ]
  },
  {
   "cell_type": "markdown",
   "id": "9d0359ba",
   "metadata": {},
   "source": [
    "\n",
    "## 6. Diseño de Actividad de Retroalimentación\n",
    "- **Discusión en grupos**: Comparar los resultados obtenidos con diferentes funciones y distintos números de subintervalos.\n",
    "- **Exploración interactiva**: Usar `ipywidgets` para modificar la cantidad de subintervalos en tiempo real y analizar el comportamiento de la aproximación.\n",
    "- **Reflexión escrita**: Responder preguntas sobre el impacto de aumentar el número de particiones y la relación con el teorema fundamental del cálculo.\n",
    "\n",
    "Este diseño permitirá a los futuros docentes de matemáticas explorar el concepto de integral desde una perspectiva algorítmica y computacional, promoviendo el aprendizaje basado en experimentación.\n",
    "\n"
   ]
  },
  {
   "cell_type": "markdown",
   "id": "fde422cc",
   "metadata": {},
   "source": [
    "[Video de apoyo a la presentación de la estructura de esta clase](https://www.youtube.com/watch?v=1leP4_enkS0)"
   ]
  },
  {
   "cell_type": "markdown",
   "id": "67bed855",
   "metadata": {},
   "source": [
    "# Implementación de esta clase  \n"
   ]
  },
  {
   "cell_type": "markdown",
   "id": "024f2ce3",
   "metadata": {},
   "source": [
    "\n",
    "# Diseño de Clase: Integración Numérica por el Método de Rectángulos (Extremos Izquierdos)\n"
   ]
  },
  {
   "cell_type": "markdown",
   "id": "6e9ca6bb",
   "metadata": {},
   "source": [
    "\n",
    "# **Integración numérica por el método de rectángulos con extremos izquierdos: exploración algorítmica y computacional**\n"
   ]
  },
  {
   "cell_type": "markdown",
   "id": "b1e86a37",
   "metadata": {},
   "source": [
    "\n",
    "## 2. Objetivo de Aprendizaje\n",
<<<<<<< HEAD
    "Al finalizar la clase, los estudiantes serán capaces de aplicar el método numérico de integración por sumas de Riemann donde los puntos distinguidos sean los extremos izquierdos de los subintervalos. En este proceso, desarrollarán:\n",
    "- **Pensamiento variacional** al analizar la aproximación de áreas bajo curvas y su relación con la integral definida.\n",
    "- **Pensamiento computacional** al diseñar y ejecutar simulaciones en Jupyter notebooks, excel, .\n",
=======
    "Al finalizar la clase, los estudiantes serán capaces de aplicar el método numérico de integración mediante rectángulos inscritos, utilizando los extremos izquierdos de cada subintervalo. En este proceso, desarrollarán:\n",
    "- **Pensamiento variacional** al analizar la aproximación de áreas bajo curvas y su relación con la integral definida.\n",
    "- **Pensamiento computacional** al diseñar y ejecutar simulaciones en Jupyter notebooks.\n",
>>>>>>> 5b8503c945ec2b382e01906ecc12c817f3562bd4
    "- **Pensamiento algorítmico** al construir el algoritmo desde su representación en lenguaje natural hasta su implementación en Python.\n"
   ]
  },
  {
   "cell_type": "markdown",
   "id": "6d03af88",
   "metadata": {},
   "source": [
    "\n",
    "## 3. Contenido de la Clase\n"
   ]
  },
  {
   "cell_type": "markdown",
   "id": "70f9ca1d",
   "metadata": {},
   "source": [
    "1. **Concepto de integral definida y su interpretación geométrica**.\n"
   ]
  },
  {
   "cell_type": "markdown",
<<<<<<< HEAD
   "id": "aaccd6ec",
   "metadata": {},
   "source": [
    "$$ \\int_{a}^{b} f(x) \\ dx = \\lim_{n \\to \\infty} \\sum_{i = 1}^{n} f(w_{i}) \\Delta x  = \\lim_{\\Vert \\Delta \\Vert \\to 0} \\sum_{i = 1}^{n} f(w_{i}) \\Delta x_{i}    $$"
   ]
  },
  {
   "cell_type": "markdown",
=======
>>>>>>> 5b8503c945ec2b382e01906ecc12c817f3562bd4
   "id": "27fe2910",
   "metadata": {},
   "source": [
    "2. **Método de rectángulos con extremos izquierdos**:\n",
    "   - Definición y justificación del método.\n",
    "   - Interpretación geométrica.\n",
    "   - Aproximación de la integral con diferentes cantidades de subintervalos.\n"
   ]
  },
  {
   "cell_type": "markdown",
<<<<<<< HEAD
   "id": "ab86112b",
   "metadata": {},
   "source": [
    "[Video de apoyo a la diferenciación entre el método simbólico y el método numérico](https://www.youtube.com/watch?v=R2uL60OPuJ4) "
   ]
  },
  {
   "cell_type": "markdown",
=======
>>>>>>> 5b8503c945ec2b382e01906ecc12c817f3562bd4
   "id": "9ba0e3cb",
   "metadata": {},
   "source": [
    "3. **Diseño del algoritmo paso a paso**:\n",
    "   - Escritura manuscrita del algoritmo en lenguaje natural.\n",
    "   - Traducción a seudocódigo.\n",
<<<<<<< HEAD
    "   - Diagrama de flujo. \n",
=======
>>>>>>> 5b8503c945ec2b382e01906ecc12c817f3562bd4
    "   - Implementación en Python con funciones de usuario.\n",
    "   - Visualización y animación del proceso.\n"
   ]
  },
  {
   "cell_type": "markdown",
<<<<<<< HEAD
   "id": "c4e7d8cb",
   "metadata": {},
   "source": [
    "# Tarea  \n",
    "\n",
    "1. Aproxima el área bajo la curva de $x^{2}$ en $[0,1]$ con $n = 3, 5, 10, 20, 50,, 100, 1000 $ rectángulos usando:  \n",
    "    * Hoja de Cálculo de GeoGebra\n",
    "    * Hoja de Cálculo de Microsoft llamada Excel\n",
    "    * Hoja de Cálculo de Google llamada Sheets.  \n",
    "    * Con la Calculadora Casio.\n",
    "2. Evalue la siguiente sumatoria a mano y con calculadora:\n",
    "\n",
    "$$ \\sum_{i = 1}^{3} \\frac{(i-1)^{2}}{27} = \\frac{0}{27} + \\frac{1}{27} + \\frac{4}{27} = \\frac{5}{27} $$"
   ]
  },
  {
   "cell_type": "code",
   "execution_count": 7,
   "id": "c253eb7d",
   "metadata": {},
   "outputs": [
    {
     "data": {
      "text/plain": [
       "0.18518518518518517"
      ]
     },
     "execution_count": 7,
     "metadata": {},
     "output_type": "execute_result"
    }
   ],
   "source": [
    "5/27"
   ]
  },
  {
   "cell_type": "code",
   "execution_count": 8,
   "id": "cac9652c",
   "metadata": {},
   "outputs": [
    {
     "data": {
      "text/plain": [
       "0.18518518518518517"
      ]
     },
     "execution_count": 8,
     "metadata": {},
     "output_type": "execute_result"
    }
   ],
   "source": [
    "sum((i - 1) ** 2 / 27 for i in range(1, 4))\n"
   ]
  },
  {
   "cell_type": "markdown",
   "id": "59d4ca22",
   "metadata": {},
   "source": [
    "# Aproximemos el área con cuaderno Jupyter en lengiaje Python  "
   ]
  },
  {
   "cell_type": "code",
   "execution_count": null,
   "id": "9ffcc1cc",
   "metadata": {},
   "outputs": [],
   "source": [
    "# Definir la funcion, el dominio, y el número de rectángulos"
   ]
  },
  {
   "cell_type": "code",
   "execution_count": null,
   "id": "168d854b",
   "metadata": {},
   "outputs": [],
   "source": [
    "def f(x):  # ya definí la función\n",
    "    return x**2"
   ]
  },
  {
   "cell_type": "code",
   "execution_count": null,
   "id": "19bc970d",
   "metadata": {},
   "outputs": [],
   "source": [
    "a,b = 0,1 # ya defini el dominio"
   ]
  },
  {
   "cell_type": "code",
   "execution_count": 27,
   "id": "4cdc593b",
   "metadata": {},
   "outputs": [],
   "source": [
    "n = 100 # número de rectángulos "
   ]
  },
  {
   "cell_type": "code",
   "execution_count": 28,
   "id": "ad5281ec",
   "metadata": {},
   "outputs": [
    {
     "data": {
      "text/plain": [
       "array([0.  , 0.01, 0.02, 0.03, 0.04, 0.05, 0.06, 0.07, 0.08, 0.09, 0.1 ,\n",
       "       0.11, 0.12, 0.13, 0.14, 0.15, 0.16, 0.17, 0.18, 0.19, 0.2 , 0.21,\n",
       "       0.22, 0.23, 0.24, 0.25, 0.26, 0.27, 0.28, 0.29, 0.3 , 0.31, 0.32,\n",
       "       0.33, 0.34, 0.35, 0.36, 0.37, 0.38, 0.39, 0.4 , 0.41, 0.42, 0.43,\n",
       "       0.44, 0.45, 0.46, 0.47, 0.48, 0.49, 0.5 , 0.51, 0.52, 0.53, 0.54,\n",
       "       0.55, 0.56, 0.57, 0.58, 0.59, 0.6 , 0.61, 0.62, 0.63, 0.64, 0.65,\n",
       "       0.66, 0.67, 0.68, 0.69, 0.7 , 0.71, 0.72, 0.73, 0.74, 0.75, 0.76,\n",
       "       0.77, 0.78, 0.79, 0.8 , 0.81, 0.82, 0.83, 0.84, 0.85, 0.86, 0.87,\n",
       "       0.88, 0.89, 0.9 , 0.91, 0.92, 0.93, 0.94, 0.95, 0.96, 0.97, 0.98,\n",
       "       0.99])"
      ]
     },
     "execution_count": 28,
     "metadata": {},
     "output_type": "execute_result"
    }
   ],
   "source": [
    "import numpy as np \n",
    "deltax = (b-a)/n\n",
    "particion = np.arange(0, 1, deltax)\n",
    "particion"
   ]
  },
  {
   "cell_type": "code",
   "execution_count": 29,
   "id": "a33a501a",
   "metadata": {},
   "outputs": [
    {
     "data": {
      "text/plain": [
       "array([0.000e+00, 1.000e-04, 4.000e-04, 9.000e-04, 1.600e-03, 2.500e-03,\n",
       "       3.600e-03, 4.900e-03, 6.400e-03, 8.100e-03, 1.000e-02, 1.210e-02,\n",
       "       1.440e-02, 1.690e-02, 1.960e-02, 2.250e-02, 2.560e-02, 2.890e-02,\n",
       "       3.240e-02, 3.610e-02, 4.000e-02, 4.410e-02, 4.840e-02, 5.290e-02,\n",
       "       5.760e-02, 6.250e-02, 6.760e-02, 7.290e-02, 7.840e-02, 8.410e-02,\n",
       "       9.000e-02, 9.610e-02, 1.024e-01, 1.089e-01, 1.156e-01, 1.225e-01,\n",
       "       1.296e-01, 1.369e-01, 1.444e-01, 1.521e-01, 1.600e-01, 1.681e-01,\n",
       "       1.764e-01, 1.849e-01, 1.936e-01, 2.025e-01, 2.116e-01, 2.209e-01,\n",
       "       2.304e-01, 2.401e-01, 2.500e-01, 2.601e-01, 2.704e-01, 2.809e-01,\n",
       "       2.916e-01, 3.025e-01, 3.136e-01, 3.249e-01, 3.364e-01, 3.481e-01,\n",
       "       3.600e-01, 3.721e-01, 3.844e-01, 3.969e-01, 4.096e-01, 4.225e-01,\n",
       "       4.356e-01, 4.489e-01, 4.624e-01, 4.761e-01, 4.900e-01, 5.041e-01,\n",
       "       5.184e-01, 5.329e-01, 5.476e-01, 5.625e-01, 5.776e-01, 5.929e-01,\n",
       "       6.084e-01, 6.241e-01, 6.400e-01, 6.561e-01, 6.724e-01, 6.889e-01,\n",
       "       7.056e-01, 7.225e-01, 7.396e-01, 7.569e-01, 7.744e-01, 7.921e-01,\n",
       "       8.100e-01, 8.281e-01, 8.464e-01, 8.649e-01, 8.836e-01, 9.025e-01,\n",
       "       9.216e-01, 9.409e-01, 9.604e-01, 9.801e-01])"
      ]
     },
     "execution_count": 29,
     "metadata": {},
     "output_type": "execute_result"
    }
   ],
   "source": [
    "alturas = f(particion) \n",
    "alturas"
   ]
  },
  {
   "cell_type": "code",
   "execution_count": 30,
   "id": "c07ae163",
   "metadata": {},
   "outputs": [
    {
     "data": {
      "text/plain": [
       "array([0.000e+00, 1.000e-06, 4.000e-06, 9.000e-06, 1.600e-05, 2.500e-05,\n",
       "       3.600e-05, 4.900e-05, 6.400e-05, 8.100e-05, 1.000e-04, 1.210e-04,\n",
       "       1.440e-04, 1.690e-04, 1.960e-04, 2.250e-04, 2.560e-04, 2.890e-04,\n",
       "       3.240e-04, 3.610e-04, 4.000e-04, 4.410e-04, 4.840e-04, 5.290e-04,\n",
       "       5.760e-04, 6.250e-04, 6.760e-04, 7.290e-04, 7.840e-04, 8.410e-04,\n",
       "       9.000e-04, 9.610e-04, 1.024e-03, 1.089e-03, 1.156e-03, 1.225e-03,\n",
       "       1.296e-03, 1.369e-03, 1.444e-03, 1.521e-03, 1.600e-03, 1.681e-03,\n",
       "       1.764e-03, 1.849e-03, 1.936e-03, 2.025e-03, 2.116e-03, 2.209e-03,\n",
       "       2.304e-03, 2.401e-03, 2.500e-03, 2.601e-03, 2.704e-03, 2.809e-03,\n",
       "       2.916e-03, 3.025e-03, 3.136e-03, 3.249e-03, 3.364e-03, 3.481e-03,\n",
       "       3.600e-03, 3.721e-03, 3.844e-03, 3.969e-03, 4.096e-03, 4.225e-03,\n",
       "       4.356e-03, 4.489e-03, 4.624e-03, 4.761e-03, 4.900e-03, 5.041e-03,\n",
       "       5.184e-03, 5.329e-03, 5.476e-03, 5.625e-03, 5.776e-03, 5.929e-03,\n",
       "       6.084e-03, 6.241e-03, 6.400e-03, 6.561e-03, 6.724e-03, 6.889e-03,\n",
       "       7.056e-03, 7.225e-03, 7.396e-03, 7.569e-03, 7.744e-03, 7.921e-03,\n",
       "       8.100e-03, 8.281e-03, 8.464e-03, 8.649e-03, 8.836e-03, 9.025e-03,\n",
       "       9.216e-03, 9.409e-03, 9.604e-03, 9.801e-03])"
      ]
     },
     "execution_count": 30,
     "metadata": {},
     "output_type": "execute_result"
    }
   ],
   "source": [
    "areas = alturas*deltax\n",
    "areas "
   ]
  },
  {
   "cell_type": "code",
   "execution_count": 31,
   "id": "157a39f8",
   "metadata": {},
   "outputs": [
    {
     "data": {
      "text/plain": [
       "np.float64(0.32835000000000014)"
      ]
     },
     "execution_count": 31,
     "metadata": {},
     "output_type": "execute_result"
    }
   ],
   "source": [
    "sum(areas)"
   ]
  },
  {
   "cell_type": "code",
   "execution_count": 48,
   "id": "5884e200",
   "metadata": {},
   "outputs": [],
   "source": [
    "def suma_izquierda(f, a, b, n):\n",
    "    import numpy as np \n",
    "    deltax = (b-a)/n # longitud de los subintervalos \n",
    "    particion = np.arange(a, b, deltax)\n",
    "    alturas = f(particion) \n",
    "    areas = alturas*deltax\n",
    "    return sum(areas)"
   ]
  },
  {
   "cell_type": "code",
   "execution_count": null,
   "id": "7a90a840",
   "metadata": {},
   "outputs": [
    {
     "data": {
      "image/png": "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",
      "text/plain": [
       "<Figure size 1000x600 with 1 Axes>"
      ]
     },
     "metadata": {},
     "output_type": "display_data"
    }
   ],
   "source": [
    "import numpy as np\n",
    "import matplotlib.pyplot as plt\n",
    "\n",
    "# Definir la función f\n",
    "def f(x):\n",
    "    return x**2  # Función cuadrática de ejemplo\n",
    "\n",
    "# Parámetros del intervalo [a, b] y número de subintervalos\n",
    "a = 0\n",
    "b = 1\n",
    "n = 10\n",
    "\n",
    "# Calcular el ancho de cada subintervalo\n",
    "delta_x = (b - a) / n\n",
    "\n",
    "# Generar los puntos de la partición regular\n",
    "x_particion = np.linspace(a, b, n + 1)\n",
    "\n",
    "# Crear la figura y el eje\n",
    "fig, ax = plt.subplots(figsize=(10, 6))\n",
    "\n",
    "# Graficar la función f(x)\n",
    "x_fine = np.linspace(a, b, 100)\n",
    "ax.plot(x_fine, f(x_fine), 'b-', lw=2, label='$f(x) = x^2$')\n",
    "\n",
    "# Resaltar los puntos x_{i-1} y sus alturas\n",
    "for i in range(n):\n",
    "    x_izq = x_particion[i]  # Punto izquierdo x_{i-1} del subintervalo\n",
    "    altura = f(x_izq)       # Altura f(x_{i-1})\n",
    "    \n",
    "    # Dibujar el rectángulo correspondiente a la altura\n",
    "    ax.bar(x_izq, altura, width=delta_x, alpha=0.3, \\\n",
    "        label = f'Suma área de los rectángulos: {suma_izquierda(lambda x:x**2, a,b,n)}', \n",
    "           align='edge', edgecolor='black', color='orange')\n",
    "    \n",
    "    # Marcar el punto x_{i-1} en el eje x\n",
    "    ax.plot(x_izq, 0, 'ro', markersize=8, label=f'$x_{i}$' if i == 0 else \"\")\n",
    "\n",
    "# Añadir líneas verticales para la partición\n",
    "for x in x_particion:\n",
    "    ax.axvline(x, color='gray', linestyle='--', alpha=0.5)\n",
    "\n",
    "# Configuración del gráfico\n",
    "ax.set_xlabel('x', fontsize=12)\n",
    "ax.set_ylabel('f(x)', fontsize=12)\n",
    "ax.set_title(f'Partición regular de $[{a},{b}]$ con $n={n}$ subintervalos', fontsize=14)\n",
    "ax.legend(loc='upper left')\n",
    "ax.grid(True, linestyle='--', alpha=0.7)\n",
    "ax.set_xticks(np.linspace(a,b, n+1))\n",
    "\n",
    "save_fig('suma_izquierda_2')\n",
    "plt.show()\n",
    "\n"
   ]
  },
  {
   "cell_type": "code",
   "execution_count": 32,
   "metadata": {},
   "outputs": [],
   "source": [
    "def save_fig(nombre_archivo_imagen):\n",
    "    import os \n",
    "    ubicacion_para_imagenes = r\"C:/Users/marco/Documentos/docencia/calculo/classes/3_calculo/6_analisis_numerico/3_integracion/1_suma_left_riemann/images\"\n",
    "    imagen_path = os.path.join(ubicacion_para_imagenes, nombre_archivo_imagen)\n",
    "    plt.savefig(imagen_path, bbox_inches='tight')"
   ]
  },
  {
   "cell_type": "markdown",
=======
>>>>>>> 5b8503c945ec2b382e01906ecc12c817f3562bd4
   "id": "493a8d8a",
   "metadata": {},
   "source": [
    "## 3. Contenido de la Clase\n"
   ]
  },
  {
   "cell_type": "markdown",
   "id": "cc56aba0",
   "metadata": {},
   "source": [
    "\n",
    "### 1. Concepto de integral definida y su interpretación geométrica\n"
   ]
  },
  {
   "cell_type": "markdown",
   "id": "e1ffbd1c",
   "metadata": {},
   "source": [
    "En lenguaje Python La integral definida de una función continua $f(x)$ en un intervalo $[a, b]$ se denota como:  \n",
    "$$\n",
    "\\int_{a}^{b} f(x)\\,dx = \\lim_{n \\to \\infty} \\sum_{i = 0}^{n-1} f(x_{i})\\Delta x \n",
    "$$\n"
   ]
  },
  {
   "cell_type": "markdown",
   "id": "5120dc5a",
   "metadata": {},
   "source": [
    "En la literatura de los textos de Cálculo La integral definida de una función continua $f(x)$ en un intervalo $[a, b]$ se denota como:  \n",
    "\n",
    "$$\n",
    "\\int_{a}^{b} f(x)\\, dx = \\lim_{n \\to \\infty} \\sum_{i = 1}^{n} f(x_{i-1}) \\Delta x \n",
    "$$\n"
   ]
  },
  {
   "cell_type": "markdown",
   "id": "a9bee875",
   "metadata": {},
   "source": [
    "# Geométricamente  \n",
    "\n",
<<<<<<< HEAD
    "* $x_{i}$ son puntos del dominio $[a,b]$ de la función correspondientes a la partición regular cosiderada ($i \\in \\{0, 1, 2, \\ldots, n\\}$).\n",
=======
    "* $x_{i}$ son puntos del dominio $[a,b]$ de la función.\n",
>>>>>>> 5b8503c945ec2b382e01906ecc12c817f3562bd4
    "* $f(x_{i})$ son alturas o longitudes verticales de los puntos de la función en $x_{i}$. "
   ]
  },
  {
   "cell_type": "markdown",
   "id": "2eb3889a",
   "metadata": {},
   "source": [
    "Aquí tienes un ejemplo de visualización usando matplotlib y ipywidgets que muestra la partición regular y las alturas de la función en los puntos izquierdos:\n"
   ]
  },
  {
   "cell_type": "markdown",
   "id": "d12516bc",
   "metadata": {},
   "source": [
    "# Visualización de partición regular izquierda de número de subintervalos variable."
   ]
  },
  {
   "cell_type": "code",
<<<<<<< HEAD
   "execution_count": 1,
=======
   "execution_count": null,
>>>>>>> 5b8503c945ec2b382e01906ecc12c817f3562bd4
   "id": "bba48e46",
   "metadata": {},
   "outputs": [
    {
     "data": {
      "application/vnd.jupyter.widget-view+json": {
<<<<<<< HEAD
       "model_id": "6a6e136500d54e2fbb0017a636d74ac7",
=======
       "model_id": "63118d5590534ec896981682ff613d24",
>>>>>>> 5b8503c945ec2b382e01906ecc12c817f3562bd4
       "version_major": 2,
       "version_minor": 0
      },
      "text/plain": [
       "interactive(children=(IntSlider(value=5, description='Subintervalos', max=50, min=1, style=SliderStyle(descrip…"
      ]
     },
     "metadata": {},
     "output_type": "display_data"
    },
    {
     "data": {
      "text/plain": [
       "<function __main__.plot_particion(n=5)>"
      ]
     },
<<<<<<< HEAD
     "execution_count": 1,
=======
     "execution_count": 14,
>>>>>>> 5b8503c945ec2b382e01906ecc12c817f3562bd4
     "metadata": {},
     "output_type": "execute_result"
    }
   ],
   "source": [
    "# Visualización de partición regular izquierda de número de subintervalos variable\n",
    "import numpy as np\n",
    "import matplotlib.pyplot as plt\n",
    "from ipywidgets import interact, IntSlider\n",
    "\n",
    "# Definimos la función a graficar (puedes modificarla)\n",
    "def f(x):\n",
    "    return np.sin(x) + 2\n",
    "\n",
    "# Parámetros del intervalo [a, b]\n",
    "a, b = 0, 2*np.pi\n",
    "\n",
    "# Función principal de visualización\n",
    "def plot_particion(n=5):\n",
    "    # Configuración inicial\n",
    "    plt.figure(figsize=(10, 5))\n",
    "    x = np.linspace(a, b, 1000)\n",
    "    y = f(x)\n",
    "    \n",
    "    # Graficar la función\n",
    "    plt.plot(x, y, 'b-', lw=2, label='f(x)')\n",
    "    \n",
    "    # Calcular puntos de la partición\n",
    "    delta = (b - a)/n\n",
    "    particion = [a + i*delta for i in range(n+1)]\n",
    "    \n",
    "    # Dibujar segmentos verticales rojos en x_{i-1}\n",
    "    for i in range(n):\n",
    "        x_prev = particion[i]\n",
    "        y_prev = f(x_prev)\n",
    "        plt.plot([x_prev, x_prev], [0, y_prev], \n",
    "                'r-', lw=2, alpha=0.7)\n",
    "    \n",
    "    # Marcar puntos de la partición\n",
    "    plt.plot(particion, [0]*len(particion), 'ko', \n",
    "            markersize=5, label='Puntos de partición')\n",
    "    \n",
    "    # Añadir etiquetas y estilo\n",
    "    plt.title(f'Partición regular de [{a}, {b:.2f}] con {n} subintervalos')\n",
    "    plt.xlabel('x')\n",
    "    plt.ylabel('f(x)')\n",
    "    plt.grid(True, alpha=0.3)\n",
    "    plt.legend()\n",
    "    plt.ylim(0, None)\n",
    "    plt.show()\n",
    "\n",
    "# Crear widget interactivo\n",
    "interact(plot_particion,\n",
    "         n=IntSlider(value=5, min=1, max=50, \n",
    "                    description='Subintervalos',\n",
    "                    style={'description_width': 'initial'}))\n",
    "\n"
   ]
  },
  {
   "cell_type": "markdown",
   "id": "bd7db377",
   "metadata": {},
   "source": [
    "\n",
    "Este código produce:\n",
    "\n",
    "1. Una gráfica interactiva con un control deslizante para el número de subintervalos\n",
    "2. La función se muestra en azul\n",
<<<<<<< HEAD
    "3. Los puntos de la partición se marcan con puntos negros en el eje $x$\n",
    "4. Segmentos verticales rojos que representan $f(x_{i-1})$\n",
    "5. Líneas de cuadrícula para mejor orientación\n"
   ]
  },
  {
   "cell_type": "markdown",
   "id": "edb1dac9",
   "metadata": {},
   "source": [
=======
    "3. Los puntos de la partición se marcan con puntos negros en el eje x\n",
    "4. Segmentos verticales rojos que representan f(x_{i-1})\n",
    "5. Líneas de cuadrícula para mejor orientación\n",
>>>>>>> 5b8503c945ec2b382e01906ecc12c817f3562bd4
    "\n",
    "Características principales:\n",
    "- Usa `ipywidgets` para hacerla interactiva\n",
    "- Los segmentos rojos muestran la altura de la función en cada punto izquierdo de la partición\n",
    "- La partición se actualiza dinámicamente al mover el control deslizante\n",
    "- La función ejemplo es sin(x) + 2, pero puedes modificarla\n",
    "- El intervalo [a, b] está configurado como [0, 2π], pero es editable\n",
    "\n",
    "Para usar diferentes funciones o intervalos, solo modifica:\n",
    "- La definición de `f(x)`\n",
    "- Los valores de `a` y `b` en el código\n",
    "- Los límites del control deslizante si necesitas más/menos subintervalos"
   ]
  },
  {
   "cell_type": "markdown",
   "id": "f004e36a",
   "metadata": {},
   "source": [
    "Aquí tienes un ejemplo de visualización utilizando matplotlib en Python que muestra la partición regular del intervalo $[a, b]$ y las alturas $f(x_{i-1})$:\n"
   ]
  },
  {
   "cell_type": "code",
<<<<<<< HEAD
   "execution_count": 42,
   "id": "40d50ee1",
   "metadata": {},
   "outputs": [],
   "source": [
    "\n",
    "def save_fig(nombre_archivo_imagen):\n",
    "    import os \n",
    "    ubicacion_images = r\"C:/Users/marco/Documentos/docencia/calculo/classes/3_calculo/6_numerico/3_integracion/1_suma_left_riemann/images\"\n",
    "    imagen_path = os.path.join(ubicacion_images, nombre_archivo_imagen)\n",
    "    plt.savefig(imagen_path, bbox_inches='tight')\n"
   ]
  },
  {
   "cell_type": "code",
   "execution_count": 43,
   "id": "0a938ee8",
   "metadata": {},
   "outputs": [
    {
     "data": {
      "image/png": "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",
=======
   "execution_count": 13,
   "id": "40d50ee1",
   "metadata": {},
   "outputs": [
    {
     "data": {
      "image/png": "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",
>>>>>>> 5b8503c945ec2b382e01906ecc12c817f3562bd4
      "text/plain": [
       "<Figure size 1000x600 with 1 Axes>"
      ]
     },
     "metadata": {},
     "output_type": "display_data"
    }
   ],
   "source": [
    "\n",
    "import numpy as np\n",
    "import matplotlib.pyplot as plt\n",
    "\n",
    "# Definir la función f\n",
    "def f(x):\n",
    "    return x**2  # Función cuadrática de ejemplo\n",
    "\n",
    "# Parámetros del intervalo [a, b] y número de subintervalos\n",
    "a = 0\n",
<<<<<<< HEAD
    "b = 1\n",
    "n = 3\n",
=======
    "b = 2\n",
    "n = 5\n",
>>>>>>> 5b8503c945ec2b382e01906ecc12c817f3562bd4
    "\n",
    "# Calcular el ancho de cada subintervalo\n",
    "delta_x = (b - a) / n\n",
    "\n",
    "# Generar los puntos de la partición regular\n",
    "x_particion = np.linspace(a, b, n + 1)\n",
    "\n",
    "# Crear la figura y el eje\n",
    "fig, ax = plt.subplots(figsize=(10, 6))\n",
    "\n",
    "# Graficar la función f(x)\n",
    "x_fine = np.linspace(a, b, 100)\n",
    "ax.plot(x_fine, f(x_fine), 'b-', lw=2, label='$f(x) = x^2$')\n",
    "\n",
    "# Resaltar los puntos x_{i-1} y sus alturas\n",
    "for i in range(n):\n",
    "    x_izq = x_particion[i]  # Punto izquierdo x_{i-1} del subintervalo\n",
    "    altura = f(x_izq)       # Altura f(x_{i-1})\n",
    "    \n",
    "    # Dibujar el rectángulo correspondiente a la altura\n",
    "    ax.bar(x_izq, altura, width=delta_x, alpha=0.3, \n",
    "           align='edge', edgecolor='black', color='orange')\n",
    "    \n",
    "    # Marcar el punto x_{i-1} en el eje x\n",
    "    ax.plot(x_izq, 0, 'ro', markersize=8, label=f'$x_{i}$' if i == 0 else \"\")\n",
    "\n",
    "# Añadir líneas verticales para la partición\n",
    "for x in x_particion:\n",
    "    ax.axvline(x, color='gray', linestyle='--', alpha=0.5)\n",
    "\n",
    "# Configuración del gráfico\n",
    "ax.set_xlabel('x', fontsize=12)\n",
    "ax.set_ylabel('f(x)', fontsize=12)\n",
    "ax.set_title(f'Partición regular de $[{a},{b}]$ con $n={n}$ subintervalos', fontsize=14)\n",
    "ax.legend(loc='upper left')\n",
    "ax.grid(True, linestyle='--', alpha=0.7)\n",
    "ax.set_xticks(np.linspace(a,b, n+1))\n",
    "\n",
<<<<<<< HEAD
    "save_fig('suma_izquierda_2')\n",
=======
    "save_fig('suma_izquierda_1')\n",
>>>>>>> 5b8503c945ec2b382e01906ecc12c817f3562bd4
    "plt.show()\n",
    "\n"
   ]
  },
  {
   "cell_type": "markdown",
   "id": "77abebe2",
   "metadata": {},
   "source": [
    "[Video de apoyo para la interpretación geométrica de los puntos $x_{i}$ y los segmentos $f(x_{i})$](https://www.youtube.com/watch?v=L7rQSnb8ji8)"
   ]
  },
  {
   "cell_type": "markdown",
   "id": "2bdaa00c",
   "metadata": {},
   "source": [
    "\n",
    "**Explicación del código:**\n"
   ]
  },
  {
   "cell_type": "markdown",
   "id": "0acf06e2",
   "metadata": {},
   "source": [
    "\n",
    "1. **Función y parámetros:** Se define \\(f(x) = x^2\\) como ejemplo, el intervalo \\([0, 2]\\), y \\(n = 5\\) subintervalos.\n",
    "\n",
    "2. **Partición regular:** Se calculan los puntos de división equiespaciados usando `np.linspace`.\n",
    "\n",
    "3. **Visualización de la función:** Se grafica \\(f(x)\\) con alta resolución para suavizar la curva.\n",
    "\n",
    "4. **Rectángulos y alturas:** Para cada punto $x_{i-1}$:\n",
    "   - Se calcula la altura $f(x_{i-1})$.\n",
    "   - Se dibuja un rectángulo de ancho \\(\\Delta x\\) y altura correspondiente.\n",
    "   - Se marca el punto \\(x_{i-1}\\) en el eje x.\n",
    "\n",
    "5. **Líneas verticales:** Se añaden líneas punteadas para destacar los puntos de la partición.\n",
    "\n",
    "**Resultado visual:**\n",
    "- La curva azul representa \\(f(x)\\).\n",
    "- Los rectángulos naranjas muestran las alturas \\(f(x_{i-1})\\).\n",
    "- Los puntos rojos indican \\(x_{i-1}\\) en el eje x.\n",
    "- Las líneas grises verticales marcan la partición del intervalo.\n",
    "\n",
    "Este gráfico ilustra claramente cómo los valores \\(f(x_{i-1})\\) se interpretan como alturas en el método de suma de Riemann por la izquierda."
   ]
  },
  {
   "cell_type": "markdown",
   "id": "ff653598",
   "metadata": {},
   "source": [
    "Esta integral representa el área neta bajo la curva $y = f(x)$ desde $x = a$ hasta $x = b$, considerando las áreas por encima del eje $x$ como positivas y las áreas por debajo como negativas. "
   ]
  },
  {
   "cell_type": "markdown",
   "id": "c4ebeec4",
   "metadata": {},
   "source": [
    "Su interpretación geométrica permite aproximar áreas bajo curvas utilizando métodos numéricos, como la regla de los rectángulos, cuando no es posible hallar la primitiva de $f(x)$.\n",
    "\n",
    "---\n"
   ]
  },
  {
   "cell_type": "markdown",
   "id": "0d6e75a7",
   "metadata": {},
   "source": [
    "\n",
    "### 2. Método de rectángulos con extremos izquierdos\n"
   ]
  },
  {
   "cell_type": "markdown",
   "id": "b48055df",
   "metadata": {},
   "source": [
    "\n",
    "#### Definición y justificación del método\n"
   ]
  },
  {
   "cell_type": "markdown",
   "id": "f6a3c869",
   "metadata": {},
   "source": [
    "El método de los rectángulos con extremos izquierdos es un procedimiento numérico para aproximar integrales definidas mediante la suma de áreas de rectángulos. "
   ]
  },
  {
   "cell_type": "markdown",
   "id": "600db36c",
   "metadata": {},
   "source": [
    "Se basa en dividir el intervalo $[a, b]$ en $n$ subintervalos de igual longitud $\\Delta x$:\n",
    "$$\n"
   ]
  },
  {
   "cell_type": "markdown",
   "id": "d3fb5ca8",
   "metadata": {},
   "source": [
    "$$\n",
    "\\Delta x = \\frac{b - a}{n}\n",
    "$$\n"
   ]
  },
  {
   "cell_type": "markdown",
   "id": "d88a0355",
   "metadata": {},
   "source": [
    "Cada subintervalo $[x_{i}, x_{i+1}]$ define un rectángulo cuya altura se evalúa en el extremo izquierdo $x_{i}$, de manera que la suma de las áreas de estos rectángulos aproxima la integral:  \n",
    "\n",
    "$$\n",
    "\\int_{a}^{b} f(x)\\ dx = I \\approx \\sum_{i=0}^{n-1} f(x_i) \\Delta x\n",
    "$$\n"
   ]
  },
  {
   "cell_type": "markdown",
   "id": "9a9625c9",
   "metadata": {},
   "source": [
    "\n",
    "## Interpretación geométrica\n"
   ]
  },
  {
   "cell_type": "markdown",
   "id": "73ab8729",
   "metadata": {},
   "source": [
    "Cada rectángulo tiene su base en $\\Delta x$ y su altura en $f(x_i)$. "
   ]
  },
  {
   "cell_type": "markdown",
   "id": "be8cffac",
   "metadata": {},
   "source": [
    "* Cuando $f(x)$ es creciente en $[a, b]$, este método proporciona una subestimación del área;  \n",
    "* cuando $f(x)$ es decreciente, sobreestima la integral.\n"
   ]
  },
  {
   "cell_type": "markdown",
   "id": "0076d9d6",
   "metadata": {},
   "source": [
    "\n",
    "#### Aproximación con diferentes cantidades de subintervalos\n"
   ]
  },
  {
   "cell_type": "markdown",
   "id": "05a57805",
   "metadata": {},
   "source": [
    "Al aumentar $n$, la precisión de la aproximación mejora, ya que los rectángulos se ajustan mejor a la curva. "
   ]
  },
  {
   "cell_type": "markdown",
   "id": "97c56b99",
   "metadata": {},
   "source": [
    "En el límite, cuando $n \\to \\infty$, la aproximación converge al valor exacto de la integral.\n"
   ]
  },
  {
   "cell_type": "markdown",
   "id": "c0cf5a38",
   "metadata": {},
   "source": [
    "\n",
    "---\n",
    "\n",
    "### 3. Diseño del algoritmo paso a paso\n"
   ]
  },
  {
   "cell_type": "markdown",
   "id": "3e7b3784",
   "metadata": {},
   "source": [
    "\n",
    "#### Escritura manuscrita del algoritmo en lenguaje natural\n"
   ]
  },
  {
   "cell_type": "markdown",
   "id": "760b42fa",
   "metadata": {},
   "source": [
    "1. Definir los límites de integración $a$ y $b$.\n",
    "2. Elegir el número de subintervalos $n$.\n",
    "3. Calcular el ancho de cada subintervalo: $\\Delta x = \\frac{b-a}{n}$.\n",
    "4. Inicializar una variable suma en cero.\n",
    "5. Iterar desde $i = 0$ hasta $n-1$:\n",
    "   - Evaluar $x_i = a + i \\cdot \\Delta x$.\n",
    "   - Calcular $f(x_i)$.\n",
    "   - Sumar $f(x_i) \\cdot \\Delta x$ a la variable suma.\n",
    "6. Imprimir el resultado como aproximación de la integral.\n"
   ]
  },
  {
   "cell_type": "markdown",
   "id": "b31405f6",
   "metadata": {},
   "source": [
    "\n",
    "#### Traducción a seudocódigo\n"
   ]
  },
  {
   "cell_type": "markdown",
   "id": "3317e041",
   "metadata": {},
   "source": [
    "```plaintext\n",
    "INICIO\n",
    "    Definir f(x)\n",
    "    Definir a, b, n\n",
    "    Calcular Δx = (b - a) / n\n",
    "    Suma = 0\n",
    "    PARA i desde 0 hasta n-1 HACER\n",
    "        x_i = a + i * Δx\n",
    "        Suma = Suma + f(x_i) * Δx\n",
    "    FIN PARA\n",
    "    Mostrar Suma\n",
    "FIN\n",
    "```\n"
   ]
  },
  {
   "cell_type": "markdown",
   "id": "65257309",
   "metadata": {},
   "source": [
    "\n",
    "#### Implementación en Python con funciones de usuario\n"
   ]
  },
  {
   "cell_type": "code",
   "execution_count": 9,
   "id": "3ef81a85",
   "metadata": {},
   "outputs": [],
   "source": [
    "def save_fig(nombre_archivo_imagen):\n",
    "    import os \n",
    "    ubicacion_para_imagenes = r\"C:/Users/marco/Documentos/docencia/calculo/classes/3_calculo/6_analisis_numerico/3_integracion/1_suma_left_riemann/images\"\n",
    "    imagen_path = os.path.join(ubicacion_para_imagenes, nombre_archivo_imagen)\n",
    "    plt.savefig(imagen_path, bbox_inches='tight')"
   ]
  },
  {
   "cell_type": "code",
   "execution_count": null,
   "id": "492ed1cc",
   "metadata": {},
   "outputs": [],
   "source": [
    "import numpy as np\n",
    "import matplotlib.pyplot as plt\n",
    "\n",
    "def f(x):\n",
    "    return x**2  # Función de ejemplo\n",
    "\n",
    "def rectangulos_izquierdos(f, a, b, n):\n",
    "    dx = (b - a) / n\n",
    "    suma = 0\n",
    "    for i in range(n):\n",
    "        x_i = a + i * dx\n",
    "        suma += f(x_i) * dx\n",
    "    return suma\n"
   ]
  },
  {
   "cell_type": "code",
   "execution_count": null,
   "id": "46c99d07",
   "metadata": {},
   "outputs": [
    {
     "name": "stdout",
     "output_type": "stream",
     "text": [
      "Aproximación de la integral: 2.2800000000000007\n"
     ]
    }
   ],
   "source": [
    "\n",
    "a, b, n = 0, 2, 10\n",
    "aprox_integral = rectangulos_izquierdos(f, a, b, n)\n",
    "print(f\"Aproximación de la integral: {aprox_integral}\")\n"
   ]
  },
  {
   "cell_type": "markdown",
   "id": "a6281160",
   "metadata": {},
   "source": [
    "\n",
    "#### Visualización y animación del proceso\n"
   ]
  },
  {
   "cell_type": "code",
   "execution_count": 6,
   "id": "dbf8b376",
   "metadata": {},
   "outputs": [
    {
     "ename": "NameError",
     "evalue": "name 'save_fig' is not defined",
     "output_type": "error",
     "traceback": [
      "\u001b[1;31m---------------------------------------------------------------------------\u001b[0m",
      "\u001b[1;31mNameError\u001b[0m                                 Traceback (most recent call last)",
      "Cell \u001b[1;32mIn[6], line 19\u001b[0m\n\u001b[0;32m     17\u001b[0m plt\u001b[38;5;241m.\u001b[39mtitle(\u001b[38;5;124m'\u001b[39m\u001b[38;5;124mAproximación de la integral con rectángulos izquierdos\u001b[39m\u001b[38;5;124m'\u001b[39m)\n\u001b[0;32m     18\u001b[0m plt\u001b[38;5;241m.\u001b[39mlegend()\n\u001b[1;32m---> 19\u001b[0m \u001b[43msave_fig\u001b[49m(\u001b[38;5;124m'\u001b[39m\u001b[38;5;124manimacion_2\u001b[39m\u001b[38;5;124m'\u001b[39m)\n\u001b[0;32m     20\u001b[0m plt\u001b[38;5;241m.\u001b[39mshow()\n",
      "\u001b[1;31mNameError\u001b[0m: name 'save_fig' is not defined"
     ]
    },
    {
     "data": {
      "image/png": "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",
      "text/plain": [
       "<Figure size 640x480 with 1 Axes>"
      ]
     },
     "metadata": {},
     "output_type": "display_data"
    }
   ],
   "source": [
    "import os \n",
    "import numpy as np \n",
    "n = 1000\n",
    "x = np.linspace(a, b, n)\n",
    "y = f(x)\n",
    "area_aproximada = rectangulos_izquierdos(f, a, b, n)\n",
    "plt.plot(x, y, 'r', label='f(x)')\n",
    "dx = (b-a)/n\n",
    "# Dibujar los rectángulos\n",
    "x_rects = np.linspace(a, b-dx, n)\n",
    "y_rects = f(x_rects)\n",
    "plt.bar(x_rects, y_rects, width=dx, alpha=0.3, edgecolor='b', align='edge', \\\n",
    "    label = f'el área aproximada es {area_aproximada}')\n",
    "\n",
    "plt.xlabel('x')\n",
    "plt.ylabel('f(x)')\n",
    "plt.title('Aproximación de la integral con rectángulos izquierdos')\n",
    "plt.legend()\n",
    "save_fig('animacion_2')\n",
    "plt.show()\n"
   ]
  },
  {
   "cell_type": "markdown",
   "id": "4ccd2d67",
   "metadata": {},
   "source": [
    "\n",
    "\n",
    "La respuesta final es: $\\boxed{2.6666666666666665}$"
   ]
  },
  {
   "cell_type": "markdown",
   "id": "2209aa31",
   "metadata": {},
   "source": [
    "[Video de apoyo al contenido de la clase](https://www.youtube.com/watch?v=PoeJ_gv6PE4)"
   ]
  },
  {
   "cell_type": "markdown",
   "id": "e1786f63",
   "metadata": {},
   "source": [
    "\n",
    "## 4. Actividades de Aprendizaje\n"
   ]
  },
  {
   "cell_type": "markdown",
   "id": "0dd95ccb",
   "metadata": {},
   "source": [
    "[Página 506 de Stewart Cálculo de una Variable.](https://www.academia.edu/44088107/CALCULO_TRASCENDENTES_TEMPRANAS_8va_Edi) "
   ]
  },
  {
   "cell_type": "markdown",
   "id": "aa9894c2",
   "metadata": {},
   "source": [
    "1. **Análisis manual del algoritmo**:\n",
    "   - Describir en lenguaje natural los pasos para calcular la integral aproximada.\n",
    "   - Diseñar el algoritmo en seudocódigo.\n",
    "   - Realizar pruebas de escritorio con ejemplos sencillos.\n",
    "2. **Implementación en Jupyter Notebook**:\n",
    "   - Definir una función en Python que implemente el método de rectángulos.\n",
    "   - Crear visualizaciones gráficas con `matplotlib` para ilustrar la aproximación.\n",
    "   - Usar `ipywidgets` para generar animaciones que permitan observar el cambio al aumentar el número de subintervalos.\n"
   ]
  },
  {
   "cell_type": "markdown",
   "id": "0e08d458",
   "metadata": {},
   "source": [
    "## 3. Contenido de la Clase\n"
   ]
  },
  {
   "cell_type": "markdown",
   "id": "10ef127c",
   "metadata": {},
   "source": [
    "\n",
    "### 1. Concepto de integral definida y su interpretación geométrica\n"
   ]
  },
  {
   "cell_type": "markdown",
   "id": "db8f08cb",
   "metadata": {},
   "source": [
    "La integral definida de una función continua $f(x)$ en un intervalo $[a, b]$ se denota como:\n",
    "$$\n",
    "\\int_{a}^{b} f(x)\\,dx\n",
    "$$\n"
   ]
  },
  {
   "cell_type": "markdown",
   "id": "2626a139",
   "metadata": {},
   "source": [
    "Esta integral representa el área neta bajo la curva $y = f(x)$ desde $x = a$ hasta $x = b$, considerando las áreas por encima del eje $x$ como positivas y las áreas por debajo como negativas. "
   ]
  },
  {
   "cell_type": "markdown",
   "id": "2be2f426",
   "metadata": {},
   "source": [
    "Su interpretación geométrica permite aproximar áreas bajo curvas utilizando métodos numéricos, como la regla de los rectángulos, cuando no es posible hallar la primitiva de $f(x)$.\n"
   ]
  },
  {
   "cell_type": "markdown",
   "id": "8aaa0329",
   "metadata": {},
   "source": [
    "\n",
    "---\n",
    "\n",
    "### 2. Método de rectángulos con extremos izquierdos\n",
    "\n",
    "#### Definición y justificación del método\n"
   ]
  },
  {
   "cell_type": "markdown",
   "id": "5f4acacc",
   "metadata": {},
   "source": [
    "El método de los rectángulos con extremos izquierdos es un procedimiento numérico para aproximar integrales definidas mediante la suma de áreas de rectángulos. Se basa en dividir el intervalo $[a, b]$ en $n$ subintervalos de igual longitud $\\Delta x$:\n"
   ]
  },
  {
   "cell_type": "markdown",
   "id": "45039a4d",
   "metadata": {},
   "source": [
    "$$\n",
    "\\Delta x = \\frac{b - a}{n}\n",
    "$$\n",
    "Cada subintervalo $[x_i, x_{i+1}]$ define un rectángulo cuya altura se evalúa en el extremo izquierdo $x_i$, de manera que la suma de las áreas de estos rectángulos aproxima la integral:\n",
    "$$\n",
    "I \\approx \\sum_{i=0}^{n-1} f(x_i) \\Delta x\n",
    "$$\n"
   ]
  },
  {
   "cell_type": "markdown",
   "id": "ec2dce83",
   "metadata": {},
   "source": [
    "\n",
    "#### Interpretación geométrica\n"
   ]
  },
  {
   "cell_type": "markdown",
   "id": "726502f3",
   "metadata": {},
   "source": [
    "Cada rectángulo tiene su base en $\\Delta x$ y su altura en $f(x_i)$. Cuando $f(x)$ es creciente en $[a, b]$, este método proporciona una subestimación del área; cuando $f(x)$ es decreciente, sobreestima la integral.\n"
   ]
  },
  {
   "cell_type": "markdown",
   "id": "dac87dfa",
   "metadata": {},
   "source": [
    "\n",
    "#### Aproximación con diferentes cantidades de subintervalos\n",
    "Al aumentar $n$, la precisión de la aproximación mejora, ya que los rectángulos se ajustan mejor a la curva. "
   ]
  },
  {
   "cell_type": "markdown",
   "id": "d9b591b2",
   "metadata": {},
   "source": [
    "En el límite, cuando $n \\to \\infty$, la aproximación converge al valor exacto de la integral.\n"
   ]
  },
  {
   "cell_type": "markdown",
   "id": "ee754086",
   "metadata": {},
   "source": [
    "\n",
    "---\n",
    "\n",
    "### 3. Diseño del algoritmo paso a paso\n"
   ]
  },
  {
   "cell_type": "markdown",
   "id": "ae6765db",
   "metadata": {},
   "source": [
    "\n",
    "#### Escritura manuscrita del algoritmo en lenguaje natural\n"
   ]
  },
  {
   "cell_type": "markdown",
   "id": "e1a7c983",
   "metadata": {},
   "source": [
    "1. Definir los límites de integración $a$ y $b$.\n",
    "2. Elegir el número de subintervalos $n$.\n",
    "3. Calcular el ancho de cada subintervalo: $\\Delta x = \\frac{b-a}{n}$.\n",
    "4. Inicializar una variable suma en cero.\n",
    "5. Iterar desde $i = 0$ hasta $n-1$:\n",
    "   - Evaluar $x_i = a + i \\cdot \\Delta x$.\n",
    "   - Calcular $f(x_i)$.\n",
    "   - Sumar $f(x_i) \\cdot \\Delta x$ a la variable suma.\n",
    "6. Imprimir el resultado como aproximación de la integral.\n"
   ]
  },
  {
   "cell_type": "markdown",
   "id": "c195b729",
   "metadata": {},
   "source": [
    "\n",
    "#### Traducción a seudocódigo\n"
   ]
  },
  {
   "cell_type": "markdown",
   "id": "59894c96",
   "metadata": {},
   "source": [
    "```plaintext\n",
    "INICIO\n",
    "    Definir f(x)\n",
    "    Definir a, b, n\n",
    "    Calcular Δx = (b - a) / n\n",
    "    Suma = 0\n",
    "    PARA i desde 0 hasta n-1 HACER\n",
    "        x_i = a + i * Δx\n",
    "        Suma = Suma + f(x_i) * Δx\n",
    "    FIN PARA\n",
    "    Mostrar Suma\n",
    "FIN\n",
    "```\n"
   ]
  },
  {
   "cell_type": "markdown",
   "id": "2140b2a0",
   "metadata": {},
   "source": [
    "\n",
    "#### Implementación en Python con funciones de usuario\n"
   ]
  },
  {
   "cell_type": "code",
   "execution_count": 9,
   "id": "edddea03",
   "metadata": {},
   "outputs": [
    {
     "name": "stdout",
     "output_type": "stream",
     "text": [
      "Aproximación de la integral: 2.2800000000000007\n"
     ]
    }
   ],
   "source": [
    "import numpy as np\n",
    "import matplotlib.pyplot as plt\n",
    "\n",
    "def f(x):\n",
    "    return x**2  # Función de ejemplo\n",
    "\n",
    "def rectangulos_izquierdos(f, a, b, n):\n",
    "    dx = (b - a) / n\n",
    "    suma = 0\n",
    "    for i in range(n):\n",
    "        x_i = a + i * dx\n",
    "        suma += f(x_i) * dx\n",
    "    return suma\n",
    "\n",
    "a, b, n = 0, 2, 10\n",
    "aprox_integral = rectangulos_izquierdos(f, a, b, n)\n",
    "print(f\"Aproximación de la integral: {aprox_integral}\")\n",
    "\n"
   ]
  },
  {
   "cell_type": "markdown",
   "id": "06692fff",
   "metadata": {},
   "source": [
    "\n",
    "#### Visualización y animación del proceso\n"
   ]
  },
  {
   "cell_type": "code",
   "execution_count": null,
   "id": "3f954ef8",
   "metadata": {},
   "outputs": [],
   "source": [
    "x = np.linspace(a, b, 100) # partición regular en 100 subintervalos \n",
    "y = f(x)\n",
    "plt.plot(x, y, 'r', label='f(x)')\n",
    "\n",
    "# Dibujar los rectángulos\n",
    "x_rects = np.linspace(a, b-dx, n)\n",
    "y_rects = f(x_rects)\n",
    "plt.bar(x_rects, y_rects, width=dx, alpha=0.3, edgecolor='b', align='edge')\n",
    "\n",
    "plt.xlabel('x')\n",
    "plt.ylabel('f(x)')\n",
    "plt.title('Aproximación de la integral con rectángulos izquierdos')\n",
    "plt.legend()\n",
    "plt.show()\n",
    "\n"
   ]
  },
  {
   "cell_type": "markdown",
   "id": "043ecf3d",
   "metadata": {},
   "source": [
    "\n",
    "---\n",
    "\n",
    "### 4. Actividades de aprendizaje\n"
   ]
  },
  {
   "cell_type": "markdown",
   "id": "c326d3e5",
   "metadata": {},
   "source": [
    "\n",
    "#### 1. Análisis manual del algoritmo\n",
    "- Describir en lenguaje natural los pasos para calcular la integral aproximada.\n",
    "- Diseñar el algoritmo en seudocódigo.\n",
    "- Realizar pruebas de escritorio con ejemplos sencillos, verificando que el algoritmo produce resultados consistentes al aplicar valores de entrada específicos.\n"
   ]
  },
  {
   "cell_type": "markdown",
   "id": "f83a2628",
   "metadata": {},
   "source": [
    "\n",
    "#### 2. Implementación en Jupyter Notebook\n",
    "- Definir una función en Python que implemente el método de rectángulos.\n",
    "- Crear visualizaciones gráficas con `matplotlib` para ilustrar la aproximación.\n",
    "- Usar `ipywidgets` para generar animaciones que permitan observar el cambio al aumentar el número de subintervalos.\n"
   ]
  },
  {
   "cell_type": "markdown",
   "id": "28634214",
   "metadata": {},
   "source": [
    "\n",
    "##### Código base en Jupyter Notebook\n"
   ]
  },
  {
   "cell_type": "code",
   "execution_count": 18,
   "id": "f8cac2c9",
   "metadata": {},
   "outputs": [
    {
     "data": {
      "application/vnd.jupyter.widget-view+json": {
       "model_id": "b287ff2dcb2e40e2aa44353a7f86df89",
       "version_major": 2,
       "version_minor": 0
      },
      "text/plain": [
       "IntSlider(value=10, description='Subintervalos:', min=1)"
      ]
     },
     "metadata": {},
     "output_type": "display_data"
    },
    {
     "data": {
      "application/vnd.jupyter.widget-view+json": {
       "model_id": "311fed35f1574762942beed129c25833",
       "version_major": 2,
       "version_minor": 0
      },
      "text/plain": [
       "Output()"
      ]
     },
     "metadata": {},
     "output_type": "display_data"
    }
   ],
   "source": [
    "import os\n",
    "import ipywidgets as widgets\n",
    "from IPython.display import display\n",
    "import numpy as np\n",
    "import matplotlib.pyplot as plt\n",
    "\n",
    "def f(x):\n",
    "    return x**(1/2)  # Función de ejemplo\n",
    "\n",
    "def actualizar(n):\n",
    "    fig, ax = plt.subplots(figsize=(6, 4))\n",
    "    x = np.linspace(a, b, 100) # genera partición regular del intervalo [a,b]\n",
    "    y = f(x)\n",
    "    ax.plot(x, y, 'r', label='f(x)')\n",
    "    area_aproximada = rectangulos_izquierdos(f, a, b, n)\n",
    "    dx = (b - a) / n\n",
    "    x_rects = np.linspace(a, b - dx, n)\n",
    "    y_rects = f(x_rects)\n",
    "    ax.bar(x_rects, y_rects, width=dx, alpha=0.3, edgecolor='b', align='edge', \\\n",
    "        label = f'el área aproximada es {area_aproximada}')\n",
    "    \n",
    "    ax.set_xlabel('x')\n",
    "    ax.set_ylabel('f(x)')\n",
    "    ax.set_title('Aproximación con rectángulos izquierdos')\n",
    "    ax.legend()\n",
    "    save_fig('aproximacion_left')\n",
    "    plt.show()\n",
    "\n",
    "a, b = 0, 1  # Definir límites de integración\n",
    "slider = widgets.IntSlider(min=1, max=100, step=1, value=10, description='Subintervalos:')\n",
    "interactive_plot = widgets.interactive_output(actualizar, {'n': slider})\n",
    "display(slider, interactive_plot)"
   ]
  },
  {
   "cell_type": "markdown",
   "id": "7d7543e8",
   "metadata": {},
   "source": [
    "[Video de apoyo a las actividades de aprendizaje]()"
   ]
  },
  {
   "cell_type": "markdown",
   "id": "63f32323",
   "metadata": {},
   "source": [
    "\n",
    "## 5. Tarea o Actividades de Ejercitación y Fijación\n",
    "- Implementar el método con funciones matemáticas diferentes (por ejemplo, polinomios, exponenciales y trigonométricas).\n",
    "- Comparar los resultados obtenidos con el valor de la integral calculado analíticamente.\n",
    "- Diseñar una función en Python que permita cambiar la estrategia de aproximación (puntos medios, extremos derechos, trapezoidal).\n"
   ]
  },
  {
   "cell_type": "markdown",
   "id": "5acd87db",
   "metadata": {},
   "source": []
  },
  {
   "cell_type": "markdown",
   "id": "4f63ea7a",
   "metadata": {},
   "source": []
  },
  {
   "cell_type": "markdown",
   "id": "c277578e",
   "metadata": {},
   "source": [
    "\n",
    "## 6. Diseño de Actividad de Retroalimentación\n",
    "- **Discusión en grupos**: Comparar los resultados obtenidos con diferentes funciones y distintos números de subintervalos.\n",
    "- **Exploración interactiva**: Usar `ipywidgets` para modificar la cantidad de subintervalos en tiempo real y analizar el comportamiento de la aproximación.\n",
    "- **Reflexión escrita**: Responder preguntas sobre el impacto de aumentar el número de particiones y la relación con el teorema fundamental del cálculo.\n"
   ]
  },
  {
   "cell_type": "markdown",
   "id": "a7becfd4",
   "metadata": {},
   "source": [
    "\n",
    "Este diseño permitirá a los futuros docentes de matemáticas explorar el concepto de integral desde una perspectiva algorítmica y computacional, promoviendo el aprendizaje basado en experimentación.\n",
    "\n"
   ]
  },
  {
   "cell_type": "markdown",
   "id": "239427f7",
   "metadata": {},
   "source": [
    "# ARTÍCULO 1. Definir el calendario académico para los diferentes programas de pregrado de los campus\n",
    "regionalizados, correspondiente al primer periodo académico del año 2025, así:\n",
    "\n",
    "\n",
    "\n",
    "* Ajustes 03 al 10 de febrero de 2025\n",
    "* Inicio de clases 10 de febrero de 2025\n",
    "* Límite evaluación del 40% 06 de abril de 2025\n",
    "* Terminación de clases 08 de junio de 2025\n",
    "* Exámenes finales 09 al 15 de junio de 2025\n",
    "* Habilitación y validación 16 al 22 de junio de 2025\n",
    "* Terminación oficial 23 de junio de 2025"
   ]
  },
  {
   "cell_type": "code",
   "execution_count": null,
   "id": "ec048afb",
   "metadata": {},
   "outputs": [],
   "source": []
  },
  {
   "cell_type": "code",
   "execution_count": null,
   "id": "c804f8d3",
   "metadata": {},
   "outputs": [],
   "source": []
  },
  {
   "cell_type": "code",
   "execution_count": null,
   "id": "cc539357",
   "metadata": {},
   "outputs": [],
   "source": []
  },
  {
   "cell_type": "markdown",
   "id": "740f3401",
   "metadata": {
    "slideshow": {
     "slide_type": "slide"
    }
   },
   "source": [
    "# Componente de manejo de calculadora Casio asociado al objetivo de aprendizaje de esta clase  \n",
    "\n",
    "## Pasos para lograr el objetivo de aprendizaje con la experimentación en la calculadora Casio 991LA cw  "
   ]
  },
  {
   "cell_type": "markdown",
   "id": "8ba64aed",
   "metadata": {},
   "source": [
    "# Cursos que orienta el profesor Marco Julio Cañas Campillo en 2025  \n",
    "\n",
    "1. Práctica Pedagógica V para Licenciatura en Educación Infantil\n",
    "2. Fundamentos de Lógica para Licenciatura en Matemáticas \n",
    "3. Análisis Numérico para Licenciatura en Matemáticas. \n",
    "4. Cálculo Vectorial para Ingeniería Agropecuaria"
   ]
  },
  {
   "cell_type": "markdown",
   "id": "8d41fe58",
   "metadata": {
    "slideshow": {
     "slide_type": "slide"
    }
   },
   "source": [
    "# Horario de clases del profesor Marco\n",
    "\n",
    "* Lunes 8 - 12: Cálculo Vectorial\n",
    "* Martes 8 - 12 M: Análisis Numérico. \n",
    "* Miércoles 8 a 12 M: Fundamentos de la Lógica\n",
    "* Jueves 2 a 6 PM: Desarrollo del pensamiento matemático en la infancia (Práctica V). \n",
    "* Viernes 8 - 12 M: Fundamentos de Lógica. \n",
    "* Sábados 8 - 12 Asesorías y espacio para retroalimentación y apoyo al trabajo independiente. "
   ]
  },
  {
   "cell_type": "markdown",
   "id": "ae114e14",
   "metadata": {
    "slideshow": {
     "slide_type": "slide"
    }
   },
   "source": [
    "# Horarios de monitoría y asesoría  \n",
    "\n",
    "Coordinador de los cursos de la Facultad de Educación para regiones:    \n",
    "\n",
    "Andrés Vélez: regioneducacion.fedu@udea.edu.co  \n",
    "Coordinador Regiones  \n",
    "Facultad de Educación  \n",
    "Universidad de Antioquia  "
   ]
  },
  {
   "cell_type": "markdown",
   "id": "b1db4b6c",
   "metadata": {
    "slideshow": {
     "slide_type": "slide"
    }
   },
   "source": [
    "## Monitor Manuel San Juan Serrano\n",
    "\n",
    "Contactar escribiendo al correo: manuel.serrano1@udea.edu.co"
   ]
  },
  {
   "cell_type": "markdown",
   "id": "39559692",
   "metadata": {
    "slideshow": {
     "slide_type": "slide"
    }
   },
   "source": [
    "Martes y jueves de 8 - 12  \n",
    "Miércoles 10 - 12 y de 2 a 4 PM  \n",
    "Sábado: 8 - 12"
   ]
  },
  {
   "cell_type": "markdown",
   "id": "10bce0d0",
   "metadata": {
    "slideshow": {
     "slide_type": "slide"
    }
   },
   "source": [
    "## Referentes "
   ]
  },
  {
   "cell_type": "markdown",
   "id": "1db3c468",
   "metadata": {
    "slideshow": {
     "slide_type": "slide"
    }
   },
   "source": [
    "* [CALCULO I DE UNA VARIABLE Ron Larson-Bruce Edwards. Mc Graw Hill. 9º Edición](https://www.academia.edu/42139251/CALCULO_I_DE_UNA_VARIABLE_Ron_Larson_Bruce_Edwards_Mc_Graw_Hill_9o_Edici%C3%B3n)   \n",
    "  \n",
    "\n",
    "* [Grajales Vanegas, L. M., Restrepo Estrada, C. E., Restrepo Ochoa, S. I., & Ruíz De Villalba, F. (2015). Matemáticas I para las ciencias económicas.](https://bibliotecadigital.udea.edu.co/handle/10495/3010)\n",
    "  \n",
    "* R. Duval y Semiosis y pensamiento humano, 2.ª ed. Cali, Colombia: Programa Editorial Universidad del Valle, 2017. [En línea]. Disponible en: https://programaeditorial.univalle.edu.co/gpd-semiosis-y-pensamiento-humano-9789587655278-63324cdb0f6b3.html\n",
    "\n",
    "* [Aylwin, C. U. (2011). Lógica, conjuntos y números. Universidad de los Andes, Consejo de Publicaciones, Colección: Ciencias Básicas, Serie: Matemáticas.](chrome-extension://efaidnbmnnnibpcajpcglclefindmkaj/https://www.u-cursos.cl/ciencias/2011/1/MC110/1/material_docente/bajar?id_material=574722)\n",
    "  \n",
    "* [Chollet, F. (2021). Deep learning with Python. Simon and Schuster.](chrome-extension://efaidnbmnnnibpcajpcglclefindmkaj/https://tanthiamhuat.wordpress.com/wp-content/uploads/2018/03/deeplearningwithpython.pdf)  \n",
    "  \n",
    "* [Watson, S., Stewart, J., & Redlin, L. (2009). Precálculo. Matemáticas para el cálculo.](https://github.com/marco-canas/calculo/blob/main/referents/1_precalculo_stewart/stewart_precalculo.pdf)  \n",
    "\n",
    "* [Purcell, E. J., Varberg, D., & Rigdon, S. E. (2007). Cálculo diferencial e integral. Pearson Educación.](https://github.com/marco-canas/calculo/blob/main/referents/purcell/purcell_calculo.pdf)\n",
    "\n",
    "  \n",
    "\n",
    "* [stewart cálculo](https://udeaeduco-my.sharepoint.com/:b:/g/personal/marco_canas_udea_edu_co/EZgXZjAp8QxPqOAim2hs6LcBNPLGjSHf-xwYnUVYkwa04w?e=RZdTCy)  \n",
    "\n",
    "\n",
    "\n",
    "\n",
    "\n",
    "* [Recomendación de la UNESCO sobre ciencia abierta](https://unesdoc.unesco.org/ark:/48223/pf0000379949_spa)\n",
    "\n",
    "* [chatGPT](https://openai.com/blog/chatgpt)  \n",
    "\n",
    "* [Géron, A. (2017). Hands-on machine learning with scikit-learn and tensorflow: Concepts. Tools, and Techniques to build intelligent systems.](chrome-extension://efaidnbmnnnibpcajpcglclefindmkaj/http://14.139.161.31/OddSem-0822-1122/Hands-On_Machine_Learning_with_Scikit-Learn-Keras-and-TensorFlow-2nd-Edition-Aurelien-Geron.pdf)   \n"
   ]
  },
  {
   "cell_type": "markdown",
   "id": "df925560",
   "metadata": {},
   "source": [
    "\n",
    "* [McKinney, W. (2012). Python for data analysis: Data wrangling with Pandas, NumPy, and IPython. \" O'Reilly Media, Inc.\".](https://wesmckinney.com/book/) "
   ]
  },
  {
   "cell_type": "markdown",
   "id": "8e65d6f9",
   "metadata": {},
   "source": [
    "# Como estudiante, encuentro que...   \n",
    "\n",
    "F: Mis Fortalezas son:     \n",
    "O: Mis Oportunidades son:    \n",
    "D: Mis Debilidades son:    \n",
    "A: Lo que Amenazas mi aprendizaje es:  "
   ]
  },
  {
   "cell_type": "markdown",
   "id": "6b9e56a8",
   "metadata": {
    "slideshow": {
     "slide_type": "slide"
    }
   },
   "source": [
    "### [Evaluamos al profesor Marco Cañas Aquí](https://forms.office.com/Pages/ResponsePage.aspx?id=IefhmYRxjkmK_7KtTlPBwkanXIs1i1FEujpsZgO6dXpUREJPV1kxUk1JV1ozTFJIQVNIQjY5WEY3US4u)"
   ]
  },
  {
   "cell_type": "markdown",
   "id": "10f43536",
   "metadata": {
    "slideshow": {
     "slide_type": "slide"
    }
   },
   "source": [
    "### Continue su aprendizaje en la siguiente clase a través del siguiente [vínculo]()"
   ]
  },
  {
   "cell_type": "markdown",
   "id": "53cc9115",
   "metadata": {
    "slideshow": {
     "slide_type": "slide"
    }
   },
   "source": [
    "## Agradecimientos  \n",
    "\n",
    "Doy gracias a Dios por la vida de mi Hijo Joseph Cañas Osorio y la madurez que ha alcanzado. Este hijo me enorgullece y me hace falta abrazarlo cada día. \n",
    "\n",
    "Y a mi esposa Yasmira Emperatriz Barboza Mogollón por su apoyo, orientación y acompañamiento. "
   ]
  },
  {
   "cell_type": "markdown",
   "id": "b6ba1c23",
   "metadata": {},
   "source": [
    "# Apéndice sobre calendarios y coordinaciones \n",
    "\n",
    "A continuación le envío el horario de la asignatura Cálculo Vectorial  \n",
    "\n",
    "Días:  \n",
    "Lunes - Hora: 7:00 a 12:00M  \n",
    "Fechas:  \n",
    "Febrero: 10-17-24                                          \n",
    " Marzo: 3-10-17-31                                                  \n",
    "Abril:7-21-28                                                   \n",
    "Mayo:5-12-19  \n",
    "\n",
    "Agradezco su apoyo, y si presenta alguna dificultad puede contactarme.  \n",
    "\n",
    "Cordialmente,  \n",
    "Juan Felipe Rivera Hernández  \n",
    "Contacto: 3106314300  "
   ]
  },
  {
   "cell_type": "markdown",
   "id": "0e66cd7c",
   "metadata": {},
   "source": [
    "# Clase de análisis numérico los Martes de 8 a 12 del medio día. "
   ]
  },
  {
   "cell_type": "markdown",
   "id": "c5ff61b1",
   "metadata": {},
   "source": []
  }
 ],
 "metadata": {
  "celltoolbar": "Slideshow",
  "kernelspec": {
   "display_name": ".venv",
   "language": "python",
   "name": "python3"
  },
  "language_info": {
   "codemirror_mode": {
    "name": "ipython",
    "version": 3
   },
   "file_extension": ".py",
   "mimetype": "text/x-python",
   "name": "python",
   "nbconvert_exporter": "python",
   "pygments_lexer": "ipython3",
   "version": "3.12.6"
  },
  "rise": {
   "enable_chalkboard": true,
   "theme": "sky",
   "transition": "zoom"
  }
 },
 "nbformat": 4,
 "nbformat_minor": 5
}
