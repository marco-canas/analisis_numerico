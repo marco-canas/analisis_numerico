{
 "cells": [
  {
   "cell_type": "markdown",
   "metadata": {},
   "source": [
    "# Proyecto de Implementación de Geogebra para la evaluación de integrales definidas por el método numérico de la regla de Simpsoon"
   ]
  },
  {
   "cell_type": "markdown",
   "metadata": {},
   "source": [
    "**Actividad de Aprendizaje: Implementación del Método de Simpson en GeoGebra**  \n",
    "**Título:** *\"Integración numérica con Simpson: De la teoría a GeoGebra\"*  \n",
    "\n",
    "---\n"
   ]
  },
  {
   "cell_type": "markdown",
   "metadata": {},
   "source": [
    "\n",
    "### **Objetivo:**  \n",
    "Implementar la regla de Simpson para aproximar $\\int_a^b f(x)dx$ usando listas y la función `Suma` de GeoGebra, analizando el error de aproximación.\n",
    "\n",
    "---\n"
   ]
  },
  {
   "cell_type": "markdown",
   "metadata": {},
   "source": [
    "\n",
    "### **Materiales:**  \n",
    "- GeoGebra Classic (versión desktop o online).  \n",
    "- Función a integrar: $f(x) = x^2$ en $[0, 2]$.  \n",
    "- $n = 4$ (número de subintervalos, debe ser par).  \n",
    "\n",
    "---\n"
   ]
  },
  {
   "cell_type": "markdown",
   "metadata": {},
   "source": [
    "\n",
    "### **Pasos de la Actividad:**  \n"
   ]
  },
  {
   "cell_type": "markdown",
   "metadata": {},
   "source": [
    "\n",
    "#### **1. Definir la función y parámetros iniciales**  \n",
    "- **Ingrese en la barra de comandos:**  \n"
   ]
  },
  {
   "cell_type": "markdown",
   "metadata": {},
   "source": [
    "  ```geo\n",
    "  f(x) = x^2\n",
    "  a = 0\n",
    "  b = 2\n",
    "  n = 4\n",
    "  h = (b - a) / n\n",
    "  ```"
   ]
  },
  {
   "cell_type": "markdown",
   "metadata": {},
   "source": [
    "  \n",
    "  *Nota: $h$ es el ancho de cada subintervalo.*  \n",
    "\n",
    "---\n"
   ]
  },
  {
   "cell_type": "markdown",
   "metadata": {},
   "source": [
    "\n",
    "#### **2. Generar los puntos de la partición**  \n",
    "- **Cree una lista de valores $x_i$:**  \n",
    "  ```geo\n",
    "  X = Secuencia(a + i * h, i, 0, n)\n",
    "  ```  \n",
    "  Verifique que se generen 5 puntos: $0, 0.5, 1, 1.5, 2$.  \n",
    "\n",
    "- **Genere la lista de puntos $(x_i, f(x_i))$:**  \n",
    "  ```geo\n",
    "  Puntos = Secuencia((Elemento(X, k), f(Elemento(X, k)), k, 1, n + 1)\n",
    "  ```  \n"
   ]
  },
  {
   "cell_type": "markdown",
   "metadata": {},
   "source": [
    "\n",
    "---\n",
    "\n",
    "#### **3. Aplicar la regla de Simpson usando `Suma`**  \n",
    "La fórmula de Simpson es:   \n",
    " \n",
    "$$ \\int_a^b f(x)dx \\approx \\frac{h}{3} \\left[ f(x_0) + 4\\sum_{i=1}^{n/2} f(x_{2i-1}) + 2\\sum_{i=1}^{(n/2)-1} f(x_{2i}) + f(x_n) \\right] $$  \n"
   ]
  },
  {
   "cell_type": "markdown",
   "metadata": {},
   "source": [
    "\n",
    "- **Calcule cada componente con listas:**  \n",
    "  ```geo\n",
    "  sum_impares = Suma(f(Elemento(X, 2*k - 1)), k, 1, n/2)\n",
    "  sum_pares = Suma(f(Elemento(X, 2*k)), k, 1, (n/2) - 1)\n",
    "  aprox_simpson = (h / 3) * (f(a) + 4 * sum_impares + 2 * sum_pares + f(b))\n",
    "  ```  \n"
   ]
  },
  {
   "cell_type": "markdown",
   "metadata": {},
   "source": [
    "\n",
    "- **Compare con el valor exacto:**  \n",
    "  ```geo\n",
    "  valor_exacto = Integral(f(x), a, b)\n",
    "  error = abs(valor_exacto - aprox_simpson)\n",
    "  ```  \n",
    "\n",
    "---\n"
   ]
  },
  {
   "cell_type": "markdown",
   "metadata": {},
   "source": [
    "\n",
    "#### **4. Visualización gráfica**  \n",
    "- **Represente las parábolas segmentadas:**  \n",
    "  1. Active la herramienta *Polinomio* y ajuste parábolas manualmente entre los puntos $(x_0, x_2)$, $(x_2, x_4)$, etc.  \n",
    "  2. Use colores distintos para cada segmento (ej: rojo para $[x_0, x_2]$, azul para $[x_2, x_4]$).  \n",
    "\n",
    "- **Resultado esperado:**  \n",
    "  ![](https://i.imgur.com/7mQ6W9A.png)  \n",
    "\n",
    "---\n"
   ]
  },
  {
   "cell_type": "markdown",
   "metadata": {},
   "source": [
    "\n",
    "#### **5. Actividad interactiva**  \n",
    "- **Modifique $n$ con un deslizador:**  \n",
    "  ```geo\n",
    "  n_slider = Deslizador(2, 10, 2, 1, 100, false, true, false, false)\n",
    "  ```  \n",
    "  Actualice las fórmulas anteriores usando $n = n_slider$.  \n",
    "- **Observe cómo disminuye el error al aumentar $n$.**  \n",
    "\n",
    "---\n"
   ]
  },
  {
   "cell_type": "markdown",
   "metadata": {},
   "source": [
    "\n",
    "### **Ejercicios de Verificación:**  \n",
    "1. **Para $n=4$:**  \n",
    "   - Calcule manualmente $aprox_simpson$ y compare con GeoGebra.  \n",
    "   - ¿Por qué $n$ debe ser par?  \n",
    "\n",
    "2. **Cambie la función a $f(x) = \\sin(x)$ en $[0, \\pi]$:**  \n",
    "   - Repita los pasos 1-4.  \n",
    "   - Use `Integral(f, a, b)` para hallar el valor real y calcule el error.  \n",
    "\n",
    "---\n"
   ]
  },
  {
   "cell_type": "markdown",
   "metadata": {},
   "source": [
    "\n",
    "### **Rúbrica de Evaluación:**  \n",
    "| **Criterio**                | **Excelente (5)** | **Aceptable (3)** | **En desarrollo (1)** |  \n",
    "|-----------------------------|-------------------|--------------------|-----------------------|  \n",
    "| Uso correcto de `Secuencia` | Listas sin errores | 1-2 errores        | Listas incorrectas    |  \n",
    "| Implementación de la fórmula | Error < 0.01      | Error < 0.1        | Error ≥ 0.1           |  \n",
    "| Análisis del error           | Conclusiones claras | Descripción básica | Sin análisis          |  \n",
    "\n",
    "---\n"
   ]
  },
  {
   "cell_type": "markdown",
   "metadata": {},
   "source": [
    "\n",
    "### **Solución Esperada (para $f(x) = x^2$):**  \n",
    "- **Valor exacto:** $\\int_0^2 x^2 dx = \\frac{8}{3} \\approx 2.6667$.  \n",
    "- **Aproximación ($n=4$):**  \n",
    "  $$ \\frac{0.5}{3} \\left[0 + 4(0.25 + 2.25) + 2(1) + 4\\right] = 2.6667 $$  \n",
    "  *¡El método es exacto para polinomios de grado ≤ 3!*  \n"
   ]
  },
  {
   "cell_type": "markdown",
   "metadata": {},
   "source": [
    "\n",
    "```geo\n",
    "# Comandos adicionales para colorear áreas:\n",
    "Polinomio(Puntos, 2)  # Ajusta parábolas de grado 2\n",
    "```"
   ]
  }
 ],
 "metadata": {
  "language_info": {
   "name": "python"
  }
 },
 "nbformat": 4,
 "nbformat_minor": 2
}
