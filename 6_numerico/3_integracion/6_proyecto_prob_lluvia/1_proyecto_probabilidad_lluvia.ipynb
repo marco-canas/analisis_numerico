{
 "cells": [
  {
   "cell_type": "markdown",
   "id": "dc06dec7",
   "metadata": {
    "slideshow": {
     "slide_type": "slide"
    }
   },
   "source": [
    "<table align=\"left\">\n",
    "  <td>\n",
    "    <a href=\"https://colab.research.google.com/github/ageron/handson-ml3/blob/main/tools_numpy.ipynb\" target=\"_parent\"><img src=\"https://colab.research.google.com/assets/colab-badge.svg\" alt=\"Open In Colab\"/></a>\n",
    "  </td>\n",
    "  <td>\n",
    "    <a target=\"_blank\" href=\"https://kaggle.com/kernels/welcome?src=https://github.com/ageron/handson-ml3/blob/main/tools_numpy.ipynb\"><img src=\"https://kaggle.com/static/images/open-in-kaggle.svg\" /></a>\n",
    "  </td>\n",
    "</table>"
   ]
  },
  {
   "cell_type": "markdown",
   "id": "e0c5b198",
   "metadata": {
    "slideshow": {
     "slide_type": "slide"
    }
   },
   "source": [
    "### [Video de apoyo a la lectura interactiva y experimental de este cuaderno]()"
   ]
  },
  {
   "cell_type": "markdown",
   "id": "41e82203",
   "metadata": {
    "slideshow": {
     "slide_type": "slide"
    }
   },
   "source": [
    "### [Vínculo al programa del curso:  ]()\n",
    "\n"
   ]
  },
  {
   "cell_type": "markdown",
   "id": "d11ab06d",
   "metadata": {
    "slideshow": {
     "slide_type": "slide"
    }
   },
   "source": [
    "Un reconocimiento a mis estudiantes que han construido conmigo este saber pedagógico:\n",
    "\n",
    "<img src = ''> \n",
    "\n"
   ]
  },
  {
   "cell_type": "markdown",
   "id": "8a74a56c-0ce6-4ad6-b985-553fd7fb68bb",
   "metadata": {},
   "source": [
    "Reconocimiento a las profesoras destacadas en enseñanza de la matemática en Colombia\n"
   ]
  },
  {
   "cell_type": "code",
   "execution_count": null,
   "id": "7604880f",
   "metadata": {
    "slideshow": {
     "slide_type": "slide"
    }
   },
   "outputs": [
    {
     "name": "stdout",
     "output_type": "stream",
     "text": [
      "Llamando a ROSILLO TEJADA VANESA...\n",
      "Cambios guardados en el archivo CSV.\n",
      "Llamando a QUINONEZ CERVANTES MARIANA...\n"
     ]
    }
   ],
   "source": [
    "import pandas as pd\n",
    "import numpy as np\n",
    "\n",
    "# Cargar la lista de estudiantes desde el archivo CSV\n",
    "path = 'C:/Users/marco/Documentos/docencia/groups_list/geometria.csv'\n",
    "estudiantes = pd.read_csv(path)\n",
    "estudiantes['Parcial'] = estudiantes['Parcial'].astype(float)  # Asegurar que la columna 'Parcial' es float\n"
   ]
  },
  {
   "cell_type": "code",
   "execution_count": null,
   "id": "128f07ea",
   "metadata": {},
   "outputs": [],
   "source": [
    "\n",
    "# Convertir la columna 'Nombre' a una lista de Python\n",
    "lista_estudiantes = estudiantes['Nombre'].tolist()\n",
    "\n",
    "# Función para llamar a un estudiante aleatoriamente y registrar su nota de seguimiento\n",
    "def asistencia():\n",
    "    global lista_estudiantes\n",
    "    if lista_estudiantes:\n",
    "        estudiante_aleatorio = np.random.choice(lista_estudiantes)\n",
    "        print(f\"Llamando a {estudiante_aleatorio}...\")\n",
    "        asistencia = input(f\"¿Asistió {estudiante_aleatorio}? (s/n): \").strip().lower()\n",
    "        \n",
    "        # Validación de entrada\n",
    "        if asistencia == 's':\n",
    "            # Obtener el índice del estudiante en el DataFrame\n",
    "            indice = estudiantes[estudiantes['Nombre'] == estudiante_aleatorio].index[0]\n",
    "            # Incrementar su valor en la columna 'Parcial'\n",
    "            estudiantes.at[indice, 'Parcial'] += 0.3\n",
    "            print(f\"Actualizado: {estudiante_aleatorio} ahora tiene {estudiantes.at[indice, 'Parcial']} en la columna 'Parcial'.\")\n",
    "        \n",
    "        elif asistencia != 'n':\n",
    "            print(\"Entrada inválida. Por favor, introduce 's' para sí o 'n' para no.\")\n",
    "            return  # Volver a preguntar para el mismo estudiante si la entrada es inválida\n",
    "        \n",
    "        # Remover al estudiante de la lista para no llamarlo de nuevo\n",
    "        lista_estudiantes.remove(estudiante_aleatorio)\n",
    "    else:\n",
    "        print(\"Se han llamado a todos los estudiantes del grupo completo.\")\n",
    "\n",
    "# Función para guardar cambios al final de la sesión\n",
    "def guardar_cambios():\n",
    "    estudiantes.to_csv(path, index=False)\n",
    "    print(\"Cambios guardados en el archivo CSV.\")\n",
    "\n",
    "# Ejemplo de uso\n",
    "while lista_estudiantes:\n",
    "    asistencia()\n",
    "\n",
    "# Guardar los cambios una vez que todos los estudiantes hayan sido llamados\n",
    "guardar_cambios()\n",
    "\n"
   ]
  },
  {
   "cell_type": "markdown",
   "id": "d7598d0a-d9b7-4ae0-b029-a0ed6ed1130b",
   "metadata": {},
   "source": [
    "\n",
    "# Principios de mi labor docente"
   ]
  },
  {
   "cell_type": "markdown",
   "id": "4f9d8cf9",
   "metadata": {
    "slideshow": {
     "slide_type": "slide"
    }
   },
   "source": [
    "## Modelo general de clase: [aula invertida](https://www3.gobiernodecanarias.org/medusa/ecoescuela/pedagotic/aprendizaje-invertido-flipped-classroom/)"
   ]
  },
  {
   "cell_type": "markdown",
   "id": "eb6ed03a",
   "metadata": {},
   "source": [
    "<img src = 'https://resources.maneuveringthemiddle.com/wp-content/uploads/2020/07/04212706/1-5.png' width = 200>  \n",
    "\n"
   ]
  },
  {
   "cell_type": "markdown",
   "id": "34319cce-a71b-4f64-aab8-b53e521efa40",
   "metadata": {},
   "source": [
    "# Metodología de enseñanza basada en problemas (ABP)\n"
   ]
  },
  {
   "cell_type": "markdown",
   "id": "c4f73d81",
   "metadata": {},
   "source": [
    "\n",
    "<img src = 'https://www.unir.net/wp-content/uploads/2020/07/aprendizaje-problemas2-1-1-1-1.jpeg' width = 200>"
   ]
  },
  {
   "cell_type": "markdown",
   "id": "841a985c-bd9b-4dd3-8e4c-893983980af2",
   "metadata": {},
   "source": [
    "# Desarrollo del pensamiento computacional con Lenguaje R y con archivos R Markdown orientado a la formación en ciencia de datos \n",
    "\n"
   ]
  },
  {
   "cell_type": "markdown",
   "id": "3d0eba94",
   "metadata": {},
   "source": [
    "\n",
    "<img src = 'https://i.ytimg.com/vi/mcG_wcR4e6M/maxresdefault.jpg' width = 200>"
   ]
  },
  {
   "cell_type": "markdown",
   "id": "65aa0404-f7ae-495e-864c-1aec01b4255e",
   "metadata": {},
   "source": [
    "# Principio de fomento a la ciencia abierta, enseñar en el acceso a los datos públicos y el uso de software de código abierto  \n"
   ]
  },
  {
   "cell_type": "markdown",
   "id": "18ae9b87",
   "metadata": {},
   "source": [
    "\n",
    "<img src = 'https://unesdoc.unesco.org/in/rest/Thumb/image?id=p%3A%3Ausmarcdef_0000379949_spa&author=UNESCO&title=Recomendaci%C3%B3n+de+la+UNESCO+sobre+la+Ciencia+Abierta&year=2021&publisher=UNESCO&TypeOfDocument=UnescoPhysicalDocument&mat=PGD&ct=true&size=512&isPhysical=1' width = 200>"
   ]
  },
  {
   "cell_type": "markdown",
   "id": "d9559f85",
   "metadata": {},
   "source": [
    "El enfoque STEAMS en educación preescolar, primaria y secundaria es una extensión del enfoque STEM (Ciencia, Tecnología, Ingeniería y Matemáticas) y su variante STEAM, que incorpora el Arte. "
   ]
  },
  {
   "cell_type": "markdown",
   "id": "72e1cfd2",
   "metadata": {},
   "source": [
    "El acrónimo STEAMS incluye:\n"
   ]
  },
  {
   "cell_type": "markdown",
   "id": "03182fd1",
   "metadata": {},
   "source": [
    "\n",
    "1. **Science (Ciencia):** Fomenta la curiosidad por el mundo natural y el desarrollo de habilidades científicas, como la observación, experimentación y análisis.\n"
   ]
  },
  {
   "cell_type": "markdown",
   "id": "1306d0fa",
   "metadata": {},
   "source": [
    "\n",
    "2. **Technology (Tecnología):** Integra herramientas tecnológicas para potenciar el aprendizaje y la resolución de problemas, promoviendo la alfabetización digital desde edades tempranas.\n"
   ]
  },
  {
   "cell_type": "markdown",
   "id": "3b1a53e8",
   "metadata": {},
   "source": [
    "\n",
    "3. **Engineering (Ingeniería):** Introduce el pensamiento lógico y la resolución de problemas estructurados, fomentando habilidades como el diseño y la construcción de soluciones.\n"
   ]
  },
  {
   "cell_type": "markdown",
   "id": "0196de87",
   "metadata": {},
   "source": [
    "\n",
    "4. **Arts (Arte):** Añade creatividad y pensamiento crítico, permitiendo a los estudiantes expresarse y explorar el aprendizaje a través de formas artísticas (plásticas, música, teatro).\n"
   ]
  },
  {
   "cell_type": "markdown",
   "id": "8bcc485a",
   "metadata": {},
   "source": [
    "\n",
    "5. **Mathematics (Matemáticas):** Refuerza las habilidades numéricas y el razonamiento lógico, fundamentales en la resolución de problemas y comprensión de conceptos abstractos.\n"
   ]
  },
  {
   "cell_type": "markdown",
   "id": "907935f4",
   "metadata": {},
   "source": [
    "\n",
    "6. **Social Sciences (Ciencias Sociales):** Incorpora la comprensión del entorno social, político, cultural y económico, promoviendo el desarrollo de la conciencia crítica sobre el mundo y su historia, además de habilidades de empatía y ciudadanía.\n"
   ]
  },
  {
   "cell_type": "markdown",
   "id": "39967d63",
   "metadata": {},
   "source": [
    "\n",
    "El enfoque STEAMS pretende desarrollar un aprendizaje **interdisciplinario** que integre estas áreas para fomentar un pensamiento más holístico y práctico. "
   ]
  },
  {
   "cell_type": "markdown",
   "id": "5145f077",
   "metadata": {},
   "source": [
    "Se busca que los estudiantes no solo aprendan conocimientos técnicos, sino también cómo aplicarlos creativa y críticamente en situaciones reales, promoviendo habilidades como el trabajo en equipo, la comunicación y la innovación. "
   ]
  },
  {
   "cell_type": "markdown",
   "id": "9d556584",
   "metadata": {},
   "source": [
    "En educación preescolar, primaria, secundaria y superior, se adapta a las diferentes etapas de desarrollo cognitivo y emocional de los estudiantes, promoviendo el aprendizaje activo y contextualizado.  \n"
   ]
  },
  {
   "cell_type": "markdown",
   "id": "0130ec1b",
   "metadata": {},
   "source": [
    "\n",
    "<img src = 'https://www.campuseducacion.com/blog/wp-content/uploads/2023/03/foto01-1.jpg' width = 200>"
   ]
  },
  {
   "cell_type": "markdown",
   "id": "9d15c10d-2c02-4158-9419-b1ed79b4c1ee",
   "metadata": {},
   "source": [
    "# Qué estamos haciendo por la internalización en esta clase y este curso  \n"
   ]
  },
  {
   "cell_type": "markdown",
   "id": "6e4feef2",
   "metadata": {},
   "source": [
    "Estas son mis acciones como docente de matemáticas en la Universidad de Antioquia con miras a la **internacionalización** de mi práctica docente y el desarrollo de competencias internacionales para mis estudiantes, los cuales he estructurado con el siguiente enfoque:\n"
   ]
  },
  {
   "cell_type": "markdown",
   "id": "964d9de7-53ee-4255-9bcd-d8e6454f2993",
   "metadata": {},
   "source": [
    "### 1. **Visión Global en la Formación Académica**\n"
   ]
  },
  {
   "cell_type": "markdown",
   "id": "d9bdd3e2",
   "metadata": {},
   "source": [
    "   - **Competencias Internacionales**: Asegúrate de que el contenido de tus cursos fomente habilidades que sean reconocidas globalmente. "
   ]
  },
  {
   "cell_type": "markdown",
   "id": "8f670df7",
   "metadata": {},
   "source": [
    "Al educar a los estudiantes en **Python, LaTeX, Markdown y Jupyter Notebooks** y en la **introducción a la ciencia de datos y técnicas de Machine Learning**, estás proporcionando competencias altamente demandadas en los sectores tecnológicos y académicos a nivel internacional.\n"
   ]
  },
  {
   "cell_type": "markdown",
   "id": "39b55206",
   "metadata": {},
   "source": [
    "   - **Relevancia de los Contenidos**: Destaca cómo los temas que enseñas, como el **desarrollo del pensamiento computacional** y la **ciencia de datos**, están alineados con las necesidades globales actuales en diversas industrias, desde la tecnología hasta las ciencias naturales y sociales.\n"
   ]
  },
  {
   "cell_type": "markdown",
   "id": "a054599e",
   "metadata": {},
   "source": [
    "   - **Referencias a Estándares Internacionales**: Puedes vincular tu enseñanza a estándares internacionales de competencias en programación y ciencia de datos (por ejemplo, frameworks del **IEEE, ACM**, y estándares de la **data science** o la **computación en la nube**)."
   ]
  },
  {
   "cell_type": "markdown",
   "id": "0f1d110c-3142-48fe-9e7d-5fbd9e8bb931",
   "metadata": {},
   "source": [
    "### 2. **Innovación Pedagógica con Enfoque Internacional**\n"
   ]
  },
  {
   "cell_type": "markdown",
   "id": "fae6ae34",
   "metadata": {},
   "source": [
    "   - **Aula Invertida y ABP**: Presenta cómo tu enfoque de **aula invertida** y **aprendizaje basado en problemas (ABP)** permite a los estudiantes trabajar de manera autónoma y colaborativa, lo que los prepara para escenarios laborales internacionales que requieren autoaprendizaje y habilidades de resolución de problemas en equipo.\n"
   ]
  },
  {
   "cell_type": "markdown",
   "id": "c83062d9",
   "metadata": {},
   "source": [
    "   - **Uso de Jupyter Notebooks**: El uso de **Jupyter Notebooks** en tus clases no solo facilita la **integración de código, matemáticas y texto**, sino que también es una plataforma utilizada globalmente en ambientes académicos y profesionales, lo que hace a tus estudiantes más competitivos internacionalmente."
   ]
  },
  {
   "cell_type": "markdown",
   "id": "960d52b7-03cd-4eb3-965e-5cdfeb7d9f8e",
   "metadata": {},
   "source": [
    "### 3. **Tecnología y Herramientas de Uso Global**\n"
   ]
  },
  {
   "cell_type": "markdown",
   "id": "4be7269f",
   "metadata": {},
   "source": [
    "   - **Lenguaje Python**: Python es uno de los lenguajes de programación más usados a nivel mundial, tanto en la academia como en la industria. "
   ]
  },
  {
   "cell_type": "markdown",
   "id": "5abb1c38",
   "metadata": {},
   "source": [
    "Al formar a tus estudiantes en Python para ciencia de datos y machine learning, los preparas para operar en entornos tecnológicos globales.\n"
   ]
  },
  {
   "cell_type": "markdown",
   "id": "102655af",
   "metadata": {},
   "source": [
    "   - **Herramientas de Ciencia Abierta**: Resalta cómo herramientas como **GitHub**, **Google Colab** y otras plataformas de código abierto están alineadas con el movimiento de **ciencia abierta**, el cual es internacionalmente reconocido y permite que los estudiantes colaboren y compartan proyectos a nivel global."
   ]
  },
  {
   "cell_type": "markdown",
   "id": "3b2ffa32-7a6f-4545-ba7b-c6a69f51109f",
   "metadata": {},
   "source": [
    "### 4. **Investigación y Publicaciones Internacionales**\n"
   ]
  },
  {
   "cell_type": "markdown",
   "id": "bdbf52a5",
   "metadata": {},
   "source": [
    "   - **Promoción de la Investigación**: Detalla cómo promueves que tus estudiantes participen en proyectos de **investigación aplicada**, con posibilidad de publicación en revistas internacionales. "
   ]
  },
  {
   "cell_type": "markdown",
   "id": "15994588",
   "metadata": {},
   "source": [
    "Esto contribuye a la reputación internacional de la Universidad de Antioquia.\n"
   ]
  },
  {
   "cell_type": "markdown",
   "id": "ea01fcbc",
   "metadata": {},
   "source": [
    "   - **Colaboraciones Internacionales**: Si has colaborado con investigadores de otras instituciones o universidades en el extranjero, menciona estos proyectos y cómo han enriquecido tu enseñanza y proporcionado a los estudiantes una visión más globalizada."
   ]
  },
  {
   "cell_type": "markdown",
   "id": "5d1e396e-aece-4bf7-9421-32fa7809eaf4",
   "metadata": {},
   "source": [
    "## 5. **Uso del Inglés para la Internacionalización**\n"
   ]
  },
  {
   "cell_type": "markdown",
   "id": "29cabf26",
   "metadata": {},
   "source": [
    "   - **Comunicación Científica en Inglés**: "
   ]
  },
  {
   "cell_type": "markdown",
   "id": "8ec53ff3",
   "metadata": {},
   "source": [
    "Fomentar el aprendizaje del inglés como lengua científica es clave para que tus estudiantes puedan acceder a publicaciones internacionales, conferencias, y material académico que no está disponible en español. "
   ]
  },
  {
   "cell_type": "markdown",
   "id": "3afdef3a",
   "metadata": {},
   "source": [
    "Esto es esencial para que adquieran competencias que les permitan desempeñarse en cualquier contexto internacional.\n"
   ]
  },
  {
   "cell_type": "markdown",
   "id": "b831224f",
   "metadata": {},
   "source": [
    "   - **Material Bilingüe**: Al generar material educativo en Python, LaTeX y Markdown, considera ofrecer algunos de estos recursos en inglés, para que los estudiantes se familiaricen con el vocabulario técnico y científico internacional."
   ]
  },
  {
   "cell_type": "markdown",
   "id": "c6a8c3b0-426a-4692-a384-3065aea81c9a",
   "metadata": {},
   "source": [
    "### 6. **Certificaciones y Estándares Internacionales**\n"
   ]
  },
  {
   "cell_type": "markdown",
   "id": "b1f41da5",
   "metadata": {},
   "source": [
    "   - **Participación en Certificaciones Internacionales**: Impulsa que los estudiantes busquen certificaciones internacionales en Python o ciencia de datos (como las ofrecidas por **Coursera, edX,** o **Google**). "
   ]
  },
  {
   "cell_type": "markdown",
   "id": "0c6944c1",
   "metadata": {},
   "source": [
    "Estas certificaciones no solo validan sus competencias, sino que también incrementan el reconocimiento de la Universidad de Antioquia en el contexto internacional.\n"
   ]
  },
  {
   "cell_type": "markdown",
   "id": "7cc66317",
   "metadata": {},
   "source": [
    "   - **Alineación con Acreditaciones Internacionales**: Vincula tu trabajo docente con los estándares de acreditación y certificación que garantizan que la universidad siga siendo reconocida internacionalmente. "
   ]
  },
  {
   "cell_type": "markdown",
   "id": "6a3dc298",
   "metadata": {},
   "source": [
    "Puedes vincularte con organizaciones internacionales que promuevan la excelencia en la educación y tecnología, como **ABET** para la acreditación en ingeniería y ciencias computacionales."
   ]
  },
  {
   "cell_type": "markdown",
   "id": "65d3d9e1-ea84-43e0-8197-a2a9c9e21594",
   "metadata": {},
   "source": [
    "### 7. **Proyectos Abiertos y Ciencia Reproducible**\n"
   ]
  },
  {
   "cell_type": "markdown",
   "id": "f03f7b20",
   "metadata": {},
   "source": [
    "   - **GitHub y Open Science**: La utilización de **GitHub** para almacenar los proyectos y materiales de enseñanza en repositorios públicos permite que otros investigadores y educadores internacionales puedan revisar y replicar tu trabajo. Esto contribuye a la creación de una red de colaboración científica abierta.\n"
   ]
  },
  {
   "cell_type": "markdown",
   "id": "e1ada55e",
   "metadata": {},
   "source": [
    "   - **Transparencia y Reproducibilidad**: La ciencia de datos y machine learning están profundamente ligados a la reproducibilidad. Asegura que tus estudiantes desarrollen prácticas de transparencia y documentación en la investigación, que son pilares en la comunidad científica global.\n"
   ]
  },
  {
   "cell_type": "markdown",
   "id": "215cb551",
   "metadata": {},
   "source": [
    "\n",
    "### 8. **Participación en Redes y Conferencias Internacionales**\n",
    "   - **Presentación en Conferencias Internacionales**: Destaca cómo tu participación en conferencias internacionales (como la **ASCOLFA** o eventos sobre educación en matemáticas) contribuye al prestigio de la universidad y permite que tus prácticas sean evaluadas y reconocidas a nivel global.\n"
   ]
  },
  {
   "cell_type": "markdown",
   "id": "cdf46e29",
   "metadata": {},
   "source": [
    "   - **Promoción de Estudiantes en Eventos Internacionales**: Impulsa la participación de tus estudiantes en competiciones internacionales de programación o hackathons, como los organizados por **Google**, **ACM** o **Kaggle**. "
   ]
  },
  {
   "cell_type": "markdown",
   "id": "e4239f16",
   "metadata": {},
   "source": [
    "Esto no solo desarrolla sus habilidades, sino que también visibiliza el talento de la Universidad de Antioquia a nivel global.\n",
    "\n",
    "---"
   ]
  },
  {
   "cell_type": "markdown",
   "id": "233294a4-1983-4641-a7ad-866825e02315",
   "metadata": {},
   "source": [
    "Con esta estrategia, presento mis acciones docentes en términos de competencias internacionales, innovación pedagógica, tecnología, investigación y participación en redes globales, asegurando que mi práctica esté alineada con los estándares internacionales y que tus estudiantes estén preparados para competir en contextos internacionales."
   ]
  },
  {
   "cell_type": "markdown",
   "id": "77da458b",
   "metadata": {},
   "source": [
    "### **Metodología de Enseñanza: Aprendizaje Basado en Problemas y Proyectos (ABPP)**\n"
   ]
  },
  {
   "cell_type": "markdown",
   "id": "c943d273",
   "metadata": {},
   "source": [
    "\n",
    "El **Aprendizaje Basado en Problemas y Proyectos (ABPP)** es una metodología educativa que integra los enfoques del **Aprendizaje Basado en Problemas (ABP)** y el **Aprendizaje Basado en Proyectos (PBL, por sus siglas en inglés)**. "
   ]
  },
  {
   "cell_type": "markdown",
   "id": "ad0e0bf3",
   "metadata": {},
   "source": [
    "Es especialmente útil para la formación de futuros docentes, ingenieros y administradores, ya que combina el desarrollo de habilidades prácticas con el pensamiento crítico y reflexivo. "
   ]
  },
  {
   "cell_type": "markdown",
   "id": "137b18e2",
   "metadata": {},
   "source": [
    "A continuación, se presenta una descripción adaptada a la enseñanza de las matemáticas en educación infantil, Licenciatura en Matemáticas, Ingeniería Agropecuaria y Administración de Empresas:\n",
    "\n",
    "---\n"
   ]
  },
  {
   "cell_type": "markdown",
   "id": "0eeba3f5",
   "metadata": {},
   "source": [
    "\n",
    "### **1. Fundamentos del ABPP**\n"
   ]
  },
  {
   "cell_type": "markdown",
   "id": "e127d644",
   "metadata": {},
   "source": [
    "El ABPP se basa en:\n",
    "- **Resolución de Problemas Reales:** Los estudiantes analizan y resuelven problemas auténticos relacionados con su área de formación, fomentando la aplicación práctica del conocimiento.\n"
   ]
  },
  {
   "cell_type": "markdown",
   "id": "f3d197f9",
   "metadata": {},
   "source": [
    "- **Proyectos como Herramientas Integradoras:** Los proyectos permiten desarrollar habilidades interdisciplinarias y ofrecer soluciones concretas a los problemas planteados.\n"
   ]
  },
  {
   "cell_type": "markdown",
   "id": "d343a03f",
   "metadata": {},
   "source": [
    "- **Aprendizaje Activo:** Los estudiantes son responsables de su aprendizaje y participan activamente en el proceso de investigación, diseño y solución.\n",
    "\n",
    "---\n"
   ]
  },
  {
   "cell_type": "markdown",
   "id": "3728d010",
   "metadata": {},
   "source": [
    "\n",
    "### **2. Aplicación del ABPP en Áreas Específicas**\n",
    "\n",
    "#### **Educación Infantil (Licenciatura en Educación Infantil)**\n",
    "- **Enfoque:** Desarrollo del pensamiento matemático en la infancia desde contextos lúdicos, familiares y culturales.\n",
    "- **Problemas típicos:** \n",
    "  - ¿Cómo enseñar los números naturales mediante actividades prácticas y juegos?\n"
   ]
  },
  {
   "cell_type": "markdown",
   "id": "e8dea12d",
   "metadata": {},
   "source": [
    "  - ¿Qué estrategias pueden emplearse para abordar el concepto de cantidad en edades tempranas?\n",
    "- **Proyectos:** Diseño de secuencias didácticas que usen Python, Jupyter Notebooks y materiales manipulativos para enseñar matemáticas de forma interactiva.\n"
   ]
  },
  {
   "cell_type": "markdown",
   "id": "9c58539c",
   "metadata": {},
   "source": [
    "- **Competencias desarrolladas:** \n",
    "  - Uso de herramientas tecnológicas para diseñar actividades educativas.\n",
    "  - Comprensión del desarrollo cognitivo infantil y su relación con las matemáticas.\n"
   ]
  },
  {
   "cell_type": "markdown",
   "id": "481f614a",
   "metadata": {},
   "source": [
    "\n",
    "#### **Licenciatura en Matemáticas**\n",
    "- **Enfoque:** Resolución de problemas matemáticos aplicados y profundización teórica en áreas como análisis matemático y modelado.\n"
   ]
  },
  {
   "cell_type": "markdown",
   "id": "fb0cfaa2",
   "metadata": {},
   "source": [
    "- **Problemas típicos:**\n",
    "  - ¿Cómo se pueden resolver ecuaciones diferenciales aplicadas a modelos físicos o económicos?\n",
    "  - ¿Cómo modelar fenómenos naturales mediante funciones matemáticas?\n"
   ]
  },
  {
   "cell_type": "markdown",
   "id": "1e4ab50a",
   "metadata": {},
   "source": [
    "- **Proyectos:** \n",
    "  - Desarrollo de software educativo para explorar conceptos matemáticos.\n",
    "  - Aplicación de modelado matemático para resolver problemas reales en otras disciplinas.\n"
   ]
  },
  {
   "cell_type": "markdown",
   "id": "6e5ed4f4",
   "metadata": {},
   "source": [
    "- **Competencias desarrolladas:**\n",
    "  - Dominio de la matemática teórica y aplicada.\n",
    "  - Uso de tecnología para la enseñanza y la investigación.\n"
   ]
  },
  {
   "cell_type": "markdown",
   "id": "83ab236f",
   "metadata": {},
   "source": [
    "\n",
    "#### **Ingeniería Agropecuaria**\n",
    "- **Enfoque:** Modelado matemático y análisis de datos para mejorar la producción agrícola y la gestión de recursos.\n",
    "- **Problemas típicos:**\n",
    "  - ¿Cómo modelar el crecimiento de cultivos considerando variables climáticas?\n",
    "  - ¿Cómo optimizar el uso del agua en sistemas de riego mediante análisis matemático?\n"
   ]
  },
  {
   "cell_type": "markdown",
   "id": "3a22e475",
   "metadata": {},
   "source": [
    "- **Proyectos:** \n",
    "  - Desarrollo de modelos predictivos con Python y bibliotecas de aprendizaje automático.\n",
    "  - Implementación de proyectos que combinen matemáticas y ciencias de datos para resolver problemas agrícolas.\n",
    "- **Competencias desarrolladas:**\n",
    "  - Integración de matemáticas con tecnologías avanzadas.\n",
    "  - Resolución de problemas agropecuarios mediante análisis y modelado.\n"
   ]
  },
  {
   "cell_type": "markdown",
   "id": "c4519bb3",
   "metadata": {},
   "source": [
    "\n",
    "#### **Administración de Empresas**\n",
    "- **Enfoque:** Uso de las matemáticas y la ciencia de datos para la toma de decisiones estratégicas.\n",
    "- **Problemas típicos:**\n",
    "  - ¿Cómo identificar patrones de comportamiento del consumidor usando series de tiempo?\n",
    "  - ¿Qué estrategias matemáticas pueden optimizar la asignación de recursos en una empresa?\n"
   ]
  },
  {
   "cell_type": "markdown",
   "id": "ac4996ab",
   "metadata": {},
   "source": [
    "- **Proyectos:** \n",
    "  - Implementación de modelos de análisis financiero y simulaciones.\n",
    "  - Desarrollo de dashboards interactivos para la gestión de datos empresariales.\n",
    "- **Competencias desarrolladas:**\n",
    "  - Habilidad para interpretar datos matemáticos en contextos de negocio.\n",
    "  - Capacidad para diseñar soluciones basadas en datos.\n",
    "\n",
    "---\n"
   ]
  },
  {
   "cell_type": "markdown",
   "id": "19be58d4",
   "metadata": {},
   "source": [
    "\n",
    "### **3. Beneficios del ABPP**\n",
    "- **Desarrollo de competencias clave:**\n",
    "  - Pensamiento crítico y creativo.\n",
    "  - Trabajo colaborativo.\n",
    "  - Comunicación efectiva.\n",
    "  - Uso de herramientas tecnológicas avanzadas.\n",
    "- **Adaptación al contexto laboral:** Los estudiantes aprenden a enfrentar desafíos del mundo real y a diseñar soluciones prácticas y aplicables.\n",
    "- **Flexibilidad e interdisciplinariedad:** La metodología se adapta a diversas áreas, fomentando el aprendizaje integrado.\n",
    "\n",
    "---\n"
   ]
  },
  {
   "cell_type": "markdown",
   "id": "e36034c3",
   "metadata": {},
   "source": [
    "\n",
    "### **4. Ejemplo General de Implementación**\n",
    "1. **Identificación del problema:** Se plantea un desafío concreto, como modelar el crecimiento poblacional de una comunidad rural (Ingeniería Agropecuaria) o diseñar una estrategia para enseñar fracciones a niños de 8 años (Educación Infantil).\n",
    "2. **Formación de equipos:** Los estudiantes trabajan en grupos, distribuyendo roles y tareas.\n",
    "3. **Investigación y diseño:** Los estudiantes investigan el problema, proponen soluciones y diseñan un proyecto.\n",
    "4. **Implementación:** Se desarrolla el proyecto, como una herramienta tecnológica o una propuesta pedagógica.\n",
    "5. **Evaluación:** Los estudiantes presentan sus resultados en un informe o una exposición, recibiendo retroalimentación de sus compañeros y docentes.\n"
   ]
  },
  {
   "cell_type": "markdown",
   "id": "1d924f5d",
   "metadata": {},
   "source": [
    "\n",
    "---\n",
    "\n",
    "El ABPP es una metodología versátil que conecta el conocimiento teórico con la práctica, preparando a los estudiantes para los retos de sus profesiones en la enseñanza de la matemática, la ingeniería y la administración."
   ]
  },
  {
   "cell_type": "markdown",
   "id": "8d97dc80",
   "metadata": {
    "slideshow": {
     "slide_type": "slide"
    }
   },
   "source": [
    "## Fomento de la lectura literaria asociada a Ingeniería agropecuaria y licenciatura en Matemáticas\n",
    "\n",
    "[Aprender a obtener el sí sin ceder]()"
   ]
  },
  {
   "cell_type": "markdown",
   "id": "96775931",
   "metadata": {
    "slideshow": {
     "slide_type": "slide"
    }
   },
   "source": [
    "## Título de la clase: Proyecto de determinanión de probabilidad de lluvia para utilizar integración numérica   \n",
    "\n",
    "[]()"
   ]
  },
  {
   "cell_type": "markdown",
   "id": "10e55ccf",
   "metadata": {},
   "source": [
    "# Estructura general para todas las clases\n",
    "\n",
    "Dame, por favor, un diseño de clase, con el enfoque: \"Aula Invertida, STEAMS y de Aprendizaje Basado en Problemas y Proyectos(ABPP)\" sobre: \"Implementación de la integración numérica para la determinación de la probabilidad de precipitación o lluvia en Caucasia - Antioquia con datos históricos gratuitos y abiertos\", siguiendo la estructura:  \n",
    "\n",
    "1. Título de la clase \n",
    "2. Objetivos de aprendizaje con los indicadores de logro de estos objetivos.  \n",
    "3. Un mapa conceptual que resuma la clase elaborado en Graphviz de python con nodos y edges de diferentes formas, colores y rellenos y renderizado en la siguiente ubicación: `\"C:/Users/marco/Descargas\"`\n",
    "4. Elementos históricos y epistemológicos relevantes para la clase. \n",
    "5. Contenido de la clase: \n",
    "     1. Se parte de la obtención de uno datos reales de precipitación de Caucasia - Antioquia en los últimos 20 años. Obtenidos de los datos públicos de algun satélite como el GOES que está sobre Suramérica o alguna fuente de datos gratuitos y abiertos. \n",
    "     2. Visualizar el histograma que los representa. \n",
    "     3. Luego encontrar la Función de Distribución de probabilidad que se ajueste mejor a estos datos usan scipy \n",
    "     4. Finalmente determinar la probabilidad de lluvia en esta semana del 23 de febrero de 2025, utilizando Función de Distribución Acumulada (FDA).  \n",
    "6. Deducción de una función de usuario de python, que permita determinar el número de rectángulos $n$ necesarios para una precisión de la suma de riemenn dada $\\epsilon = 0.0001$. \n",
    "7. Actividades de aprendizaje: que incluya pruebas de escritorio para los algoritmos en forma verbal y seudo código, diagrama de flujo, y la implementación del algoritmo en lenguaje python.\n",
    "8. Incluye una canción o un poema que ayude a interiorizar y fijar los conceptos asociados a esta clase. \n",
    "9. Tarea o actividades de ejercitación y fijación\n",
    "10. Evaluación incluyendo diez proyectos, un ejemplo de quiz y un ejemplo de parcial\n",
    "11. Diseño de actividad de retroalimentación. \n",
    "12. Dame un vocabulario y frases del idioma inglés asociadas a esta clase.   \n",
    "\n",
    "Pero  que este diseño sea para que el estudiante pueda aprender experimentando en cuadernos Jupyter con funciones de usuario y animaciones y visualizaciones en python. En particular utiliza para el diseño de clase a Numpy, Pandas, SymPy, Matplotlib.pyplot, Seaborn, Plotly, ipywidgets, SciPy, matplotlib.animation y Jupyter Notebook. No olvides delimitar las expresiones matemáticas entre signos de dolar $ para que VS Code me las renderize. "
   ]
  },
  {
   "cell_type": "code",
   "execution_count": 2,
   "id": "f4eb77e9",
   "metadata": {},
   "outputs": [],
   "source": [
    "def save_fig(nombre_archivo_imagen):\n",
    "    import os \n",
    "    import matplotlib.pyplot as plt\n",
    "    ubicacion_para_imagenes = r\"C:/Users/marco/Descargas\"\n",
    "    imagen_path = os.path.join(ubicacion_para_imagenes, nombre_archivo_imagen)\n",
    "    plt.savefig(imagen_path, bbox_inches='tight')"
   ]
  },
  {
   "cell_type": "markdown",
   "id": "c1c776ac",
   "metadata": {},
   "source": [
    "# Describir la estructura de esta clase  \n"
   ]
  },
  {
   "cell_type": "markdown",
   "id": "a90eef19",
   "metadata": {},
   "source": [
    "\n",
    "A continuación, se presenta un diseño de clase con el enfoque de Aula Invertida, STEAMS y Aprendizaje Basado en Problemas y Proyectos (ABPP) sobre la \"Implementación de la integración numérica para la determinación de la probabilidad de precipitación o lluvia en Caucasia - Antioquia\". "
   ]
  },
  {
   "cell_type": "markdown",
   "id": "425ac5f5",
   "metadata": {},
   "source": [
    "Este diseño está orientado a que los estudiantes aprendan de manera experimental utilizando cuadernos Jupyter y diversas bibliotecas de Python para análisis y visualización de datos.\n"
   ]
  },
  {
   "cell_type": "markdown",
   "id": "d6215413",
   "metadata": {},
   "source": [
    "\n",
    "**1. Título de la clase:**\n",
    "Implementación de la integración numérica para determinar la probabilidad de precipitación en Caucasia, Antioquia.\n"
   ]
  },
  {
   "cell_type": "markdown",
   "id": "08b97636",
   "metadata": {},
   "source": [
    "\n",
    "**2. Objetivos de aprendizaje e indicadores de logro:**\n"
   ]
  },
  {
   "cell_type": "markdown",
   "id": "38950d79",
   "metadata": {},
   "source": []
  },
  {
   "cell_type": "markdown",
   "id": "110aabde",
   "metadata": {},
   "source": [
    "\n",
    "- **Objetivo 1:** Analizar datos históricos de precipitación en Caucasia para identificar patrones y tendencias.\n",
    "  - *Indicador de logro:* El estudiante obtiene y visualiza datos históricos de precipitación, identificando patrones relevantes.\n"
   ]
  },
  {
   "cell_type": "markdown",
   "id": "acfab37d",
   "metadata": {},
   "source": [
    "\n",
    "- **Objetivo 2:** Aplicar técnicas de ajuste de distribuciones de probabilidad utilizando Python para modelar los datos de precipitación.\n",
    "  - *Indicador de logro:* El estudiante utiliza `scipy` para ajustar una función de distribución de probabilidad a los datos y evalúa su adecuación.\n"
   ]
  },
  {
   "cell_type": "markdown",
   "id": "9fff4270",
   "metadata": {},
   "source": [
    "\n",
    "- **Objetivo 3:** Implementar métodos de integración numérica para calcular probabilidades acumuladas de precipitación.\n",
    "  - *Indicador de logro:* El estudiante desarrolla una función en Python que calcula la probabilidad acumulada de precipitación para un intervalo de tiempo específico.\n"
   ]
  },
  {
   "cell_type": "markdown",
   "id": "f64bbaad",
   "metadata": {},
   "source": [
    "\n",
    "- **Objetivo 4:** Determinar el número óptimo de subdivisiones en la integración numérica para alcanzar una precisión deseada.\n",
    "  - *Indicador de logro:* El estudiante implementa una función en Python que estima el número de rectángulos necesarios para una precisión de integración específica.\n"
   ]
  },
  {
   "cell_type": "markdown",
   "id": "56edd79a",
   "metadata": {},
   "source": [
    "\n",
    "**3. Mapa conceptual:**\n",
    "\n",
    "El mapa conceptual se ha elaborado utilizando Graphviz en Python y se ha renderizado en la ubicación especificada: `C:\\Users\\marco\\Descargas`. "
   ]
  },
  {
   "cell_type": "markdown",
   "id": "dfcee0d6",
   "metadata": {},
   "source": [
    "Este mapa ilustra la relación entre los datos históricos de precipitación, el ajuste de distribuciones de probabilidad, la integración numérica y la determinación de la probabilidad de lluvia.\n"
   ]
  },
  {
   "cell_type": "code",
   "execution_count": 1,
   "id": "eaefc4c7",
   "metadata": {},
   "outputs": [
    {
     "name": "stdout",
     "output_type": "stream",
     "text": [
      "Mapa conceptual generado en C:\\Users\\marco\\Descargas\\mapa_conceptual_lluvia.png\n"
     ]
    }
   ],
   "source": [
    "from graphviz import Digraph\n",
    "\n",
    "# Crear un objeto Digraph\n",
    "dot = Digraph(\"Mapa_Conceptual\", format=\"png\")\n",
    "\n",
    "# Especificar la ubicación de salida\n",
    "dot.attr(dpi=\"300\")\n",
    "dot.attr(outputdir=\"C:\\\\Users\\\\marco\\\\Descargas\")\n",
    "\n",
    "# Nodo principal\n",
    "dot.node(\"P\", \"Probabilidad de Precipitación en Caucasia\", shape=\"hexagon\", style=\"filled\", fillcolor=\"lightblue\", fontcolor=\"black\")\n",
    "\n",
    "# Nodos secundarios con estilos variados\n",
    "dot.node(\"D\", \"Datos Históricos de Precipitación\", shape=\"box\", style=\"filled\", fillcolor=\"lightgray\", fontcolor=\"black\")\n",
    "dot.node(\"A\", \"Ajuste de Distribuciones de Probabilidad\", shape=\"ellipse\", style=\"filled\", fillcolor=\"lightgreen\", fontcolor=\"black\")\n",
    "dot.node(\"I\", \"Integración Numérica\", shape=\"parallelogram\", style=\"filled\", fillcolor=\"lightcoral\", fontcolor=\"black\")\n",
    "\n",
    "dot.node(\"H\", \"Histograma de Precipitación\", shape=\"diamond\", style=\"filled\", fillcolor=\"yellow\", fontcolor=\"black\")\n",
    "dot.node(\"F\", \"Función de Distribución Acumulada (FDA)\", shape=\"oval\", style=\"filled\", fillcolor=\"purple\", fontcolor=\"white\")\n",
    "dot.node(\"M\", \"Métodos de Integración Numérica\", shape=\"rectangle\", style=\"filled\", fillcolor=\"orange\", fontcolor=\"black\")\n",
    "dot.node(\"N\", \"Número Óptimo de Subdivisiones\", shape=\"trapezium\", style=\"filled\", fillcolor=\"pink\", fontcolor=\"black\")\n",
    "\n",
    "# Relaciones con colores variados\n",
    "dot.edge(\"D\", \"H\", label=\"Visualización y Exploración\", color=\"blue\", fontcolor=\"blue\")\n",
    "dot.edge(\"H\", \"A\", label=\"Ajuste de Distribución\", color=\"green\", fontcolor=\"green\")\n",
    "dot.edge(\"A\", \"F\", label=\"Estimación de Probabilidades\", color=\"red\", fontcolor=\"red\")\n",
    "dot.edge(\"F\", \"I\", label=\"Aplicación de Integración\", color=\"purple\", fontcolor=\"purple\")\n",
    "dot.edge(\"I\", \"M\", label=\"Método de Cuadratura\", color=\"brown\", fontcolor=\"brown\")\n",
    "dot.edge(\"I\", \"N\", label=\"Cálculo de Precisión\", color=\"gray\", fontcolor=\"gray\")\n",
    "dot.edge(\"M\", \"P\", label=\"Cálculo Probabilístico\", color=\"black\", fontcolor=\"black\")\n",
    "dot.edge(\"N\", \"P\", label=\"Precisión en la Estimación\", color=\"darkblue\", fontcolor=\"darkblue\")\n",
    "\n",
    "# Renderizar y guardar el archivo\n",
    "dot.render(\"C:\\\\Users\\\\marco\\\\Descargas\\\\mapa_conceptual_lluvia\", view = True)\n",
    "\n",
    "print(\"Mapa conceptual generado en C:\\\\Users\\\\marco\\\\Descargas\\\\mapa_conceptual_lluvia.png\")\n"
   ]
  },
  {
   "cell_type": "markdown",
   "id": "496e6441",
   "metadata": {},
   "source": [
    "\n",
    "**4. Elementos históricos y epistemológicos relevantes:**\n",
    "\n",
    "- **Historia de la integración numérica:** Desde los métodos de cuadratura en la antigua Grecia hasta los algoritmos computacionales modernos, la integración numérica ha sido fundamental en el cálculo de áreas y probabilidades.\n",
    "\n",
    "- **Meteorología y predicción climática:** El estudio sistemático de patrones climáticos ha evolucionado desde observaciones empíricas hasta modelos predictivos sofisticados, apoyados en análisis estadísticos y computacionales.\n"
   ]
  },
  {
   "cell_type": "markdown",
   "id": "87839039",
   "metadata": {},
   "source": []
  },
  {
   "cell_type": "markdown",
   "id": "a6442f7b",
   "metadata": {},
   "source": [
    "\n",
    "**5. Contenido de la clase:**\n",
    "\n",
    "1. **Obtención de datos reales de precipitación:**\n",
    "   - Acceder a datos históricos de precipitación en Caucasia, Antioquia, de los últimos 20 años. Una fuente recomendada es [World Weather Online](https://www.worldweatheronline.com/caucasia-weather-history/antioquia/co.aspx).\n"
   ]
  },
  {
   "cell_type": "markdown",
   "id": "d70a222d",
   "metadata": {},
   "source": [
    "\n",
    "2. **Visualización del histograma:**\n",
    "   - Utilizar bibliotecas como `Pandas` y `Matplotlib` para cargar y visualizar los datos en forma de histograma, identificando la distribución de las precipitaciones.\n"
   ]
  },
  {
   "cell_type": "markdown",
   "id": "072a0e54",
   "metadata": {},
   "source": [
    "\n",
    "3. **Ajuste de la función de distribución de probabilidad:**\n",
    "   - Emplear `scipy.stats` para probar diferentes distribuciones (e.g., normal, gamma) y determinar cuál se ajusta mejor a los datos mediante pruebas de bondad de ajuste.\n"
   ]
  },
  {
   "cell_type": "markdown",
   "id": "a6d906d4",
   "metadata": {},
   "source": [
    "\n",
    "4. **Determinación de la probabilidad de lluvia para la semana del 23 de febrero de 2025:**\n",
    "   - Utilizar la función de distribución acumulada (FDA) ajustada para calcular la probabilidad de que la precipitación exceda un umbral específico durante la semana en cuestión.\n"
   ]
  },
  {
   "cell_type": "markdown",
   "id": "a4c66f9a",
   "metadata": {},
   "source": [
    "\n",
    "**6. Deducción de una función en Python para determinar el número de rectángulos $n$ necesarios para una precisión de la suma de Riemann dada $\\epsilon = 0.0001$:**\n"
   ]
  },
  {
   "cell_type": "markdown",
   "id": "7bb50a2e",
   "metadata": {},
   "source": [
    "\n",
    "- **Concepto:** La suma de Riemann se utiliza para aproximar el valor de una integral definida. La precisión de esta aproximación depende del número de subdivisiones $n$.\n"
   ]
  },
  {
   "cell_type": "markdown",
   "id": "da22f6f4",
   "metadata": {},
   "source": [
    "\n",
    "- **Función propuesta:**\n",
    "  \n"
   ]
  },
  {
   "cell_type": "code",
   "execution_count": 12,
   "id": "c9323639",
   "metadata": {},
   "outputs": [],
   "source": [
    "import numpy as np\n",
    "\n",
    "def calcular_n(f, a, b, epsilon):\n",
    "    \"\"\"\n",
    "    Calcula el número mínimo de rectángulos necesarios para que la suma de Riemann\n",
    "    de la función f en el intervalo [a, b] tenga una precisión menor o igual a epsilon.\n",
    "    \"\"\"\n",
    "    n = 1        # Inicializamos n con 1\n",
    "    error = epsilon + 1  # Inicializar error para entrar en el bucle\n",
    "    while error > epsilon:\n",
    "        n *= 2    # Incrementar n en un factor de 2 \n",
    "        x = np.linspace(a, b, n+1) # Generar n+1 puntos en el intervalo [a, b]\n",
    "        y = f(x) # \n",
    "        integral_aprox = np.sum(y[:-1]) * (b - a) / n\n",
    "        integral_aprox_doble = np.sum(y) * (b - a) / (n+1)\n",
    "        error = abs(integral_aprox_doble - integral_aprox)\n",
    "    return n\n",
    "\n",
    "# El criterio es el de cercanía de resultados en iteraciones sucesivas. "
   ]
  },
  {
   "cell_type": "code",
   "execution_count": 13,
   "id": "686a5509",
   "metadata": {},
   "outputs": [
    {
     "name": "stdout",
     "output_type": "stream",
     "text": [
      "CPU times: total: 0 ns\n",
      "Wall time: 583 μs\n"
     ]
    },
    {
     "data": {
      "text/plain": [
       "8192"
      ]
     },
     "execution_count": 13,
     "metadata": {},
     "output_type": "execute_result"
    }
   ],
   "source": [
    "%%time \n",
    "calcular_n(f = lambda x: x**2, a = 0, b = 1, epsilon = 0.0001)"
   ]
  },
  {
   "cell_type": "markdown",
   "id": "d95bd736",
   "metadata": {},
   "source": [
    "\n",
    "Esta función duplica el número de rectángulos hasta que el error entre dos aproximaciones consecutivas sea menor que $\\epsilon$.\n"
   ]
  },
  {
   "cell_type": "markdown",
   "id": "9f681a1a",
   "metadata": {},
   "source": [
    "\n",
    "**7. Actividades de aprendizaje:**\n"
   ]
  },
  {
   "cell_type": "markdown",
   "id": "8b94c0bd",
   "metadata": {},
   "source": [
    "\n",
    "- **Pruebas de escritorio:**\n",
    "  - Analizar manualmente casos simples de integración para comprender el funcionamiento del algoritmo antes de implementarlo.\n",
    "\n",
    "- **Pseudocódigo y diagramas de flujo:**\n",
    "  - Desarrollar el pseudocódigo y el diagrama de flujo de la función `calcular_n` para visualizar su lógica y estructura.\n",
    "\n",
    "- **Implementación en Python:**\n",
    "  - Codificar la función en un cuaderno Jupyter, probarla con diferentes funciones y comparar los resultados con integrales conocidas.\n"
   ]
  },
  {
   "cell_type": "markdown",
   "id": "447b3eef",
   "metadata": {},
   "source": [
    "\n",
    "**8. Canción o poema para interiorizar conceptos:**\n",
    "\n",
    "*Integrando la lluvia*\n",
    "\n",
    "En Caucasia, gotas caen sin cesar,\n",
    "Un patrón que queremos descifrar.\n",
    "Con datos y funciones por explorar,\n",
    "La probabilidad vamos a calcular "
   ]
  },
  {
   "cell_type": "markdown",
   "id": "c3aaf318",
   "metadata": {},
   "source": []
  },
  {
   "cell_type": "markdown",
   "id": "b339d06e",
   "metadata": {},
   "source": [
    "9. Tarea o actividades de ejercitación y fijación\n",
    "\n",
    "Para reforzar el aprendizaje, se asignarán las siguientes actividades:\n",
    "\n",
    "  1. Descargar datos históricos de precipitación de Caucasia - Antioquia y realizar un análisis exploratorio.\n",
    "\n",
    "  2. Crear un histograma de los datos usando Matplotlib y Seaborn.\n",
    "\n",
    "  3. Ajustar diferentes distribuciones de probabilidad con SciPy y determinar cuál se adapta mejor a los datos.\n",
    "\n",
    "  4. Implementar en Python la cálculo de probabilidad de lluvia usando la Función de Distribución Acumulada (FDA).\n",
    "\n",
    "  5. Comparar los resultados obtenidos con predicciones meteorológicas oficiales.\n",
    "\n",
    "  6. Programar una función en Python que determine el número de rectángulos necesarios para alcanzar una precisión dada en la suma de Riemann.\n",
    "\n",
    "  7. Elaborar un informe en Jupyter Notebook con visualizaciones, explicaciones y análisis de los resultados.\n",
    "**10. Evaluación**\n",
    "\n",
    "La evaluación de la clase se basará en:\n",
    "\n",
    "**a) Proyectos (10 en total):**\n",
    "1. Análisis de precipitación en otra región de Colombia usando el mismo método.\n",
    "2. Comparación de distribuciones de probabilidad para dos localidades.\n",
    "3. Creación de un dashboard interactivo con Plotly para visualizar datos.\n",
    "4. Implementación de otro método de integración numérica.\n",
    "5. Validación de predicciones con datos reales recientes.\n",
    "6. Desarrollo de un modelo predictivo simple con regresión logística.\n",
    "7. Simulación de efectos climáticos en precipitaciones futuras.\n",
    "8. Análisis de correlación entre temperatura y precipitación.\n",
    "9. Aplicación del cálculo de probabilidades en otro fenómeno natural.\n",
    "10. Creación de una aplicación web sencilla con Flask para consultar probabilidades de lluvia.\n",
    "\n",
    "**b) Ejemplo de quiz:**\n",
    "1. ¿Qué es la función de distribución acumulada y cómo se usa en la predicción de lluvia?\n",
    "2. Explica cómo se obtiene y visualiza un histograma de precipitación.\n",
    "3. ¿Qué bibliotecas de Python se utilizan para ajuste de distribuciones de probabilidad?\n",
    "4. Describe el proceso de integración numérica mediante la suma de Riemann.\n",
    "5. Implementa una función en Python que determine la probabilidad de lluvia en una fecha dada.\n",
    "\n",
    "**c) Ejemplo de parcial:**\n",
    "1. Obtén los datos de precipitación de una región y visualiza su histograma.\n",
    "2. Determina qué distribución de probabilidad se ajusta mejor a estos datos.\n",
    "3. Utiliza la FDA para estimar la probabilidad de lluvia en un rango de fechas.\n",
    "4. Implementa un algoritmo de integración numérica para calcular la probabilidad acumulada.\n",
    "5. Desarrolla un diagrama de flujo que represente el proceso completo.\n",
    "\n",
    "**11. Diseño de actividad de retroalimentación**\n",
    "\n",
    "Los estudiantes presentarán sus resultados en una sesión de discusión donde se analizarán los errores comunes y se proponerán mejoras a los algoritmos. Se fomentará el trabajo colaborativo para que los estudiantes puedan optimizar sus soluciones y aprender de los distintos enfoques utilizados por sus compañeros.\n",
    "\n",
    "**12. Vocabulario y frases en inglés asociadas a la clase**\n",
    "\n",
    "- **Precipitation data** (Datos de precipitación)\n",
    "- **Histogram visualization** (Visualización de histograma)\n",
    "- **Probability distribution function (PDF)** (Función de distribución de probabilidad)\n",
    "- **Cumulative distribution function (CDF)** (Función de distribución acumulada)\n",
    "- **Numerical integration** (Integración numérica)\n",
    "- **Riemann sum** (Suma de Riemann)\n",
    "- **Accuracy of approximation** (Precisión de la aproximación)\n",
    "- **Python implementation** (Implementación en Python)\n",
    "- **Data analysis and visualization** (Análisis y visualización de datos)\n",
    "- **Weather prediction using statistics** (Predicción del clima usando estadística)\n",
    "\n",
    "Con este diseño de clase, los estudiantes desarrollarán habilidades en modelado matemático, programación y análisis de datos aplicados a problemas reales, fomentando el aprendizaje experimental y basado en proyectos.\n",
    "\n"
   ]
  },
  {
   "cell_type": "markdown",
   "id": "df897063",
   "metadata": {},
   "source": [
    "# Implementamos esta estructura de clase  \n",
    "\n",
    "A continuación, se presenta un diseño de clase con el enfoque de Aula Invertida, STEAMS y Aprendizaje Basado en Problemas y Proyectos (ABPP) sobre la \"Implementación de la integración numérica para la determinación de la probabilidad de precipitación o lluvia en Caucasia - Antioquia\". Este diseño está orientado a que los estudiantes aprendan de manera experimental utilizando cuadernos Jupyter y diversas bibliotecas de Python para análisis y visualización de datos.\n",
    "\n",
    "**1. Título de la clase:**\n",
    "Implementación de la integración numérica para determinar la probabilidad de precipitación en Caucasia, Antioquia.\n",
    "\n",
    "**2. Objetivos de aprendizaje e indicadores de logro:**\n",
    "\n",
    "- **Objetivo 1:** Analizar datos históricos de precipitación en Caucasia para identificar patrones y tendencias.\n",
    "  - *Indicador de logro:* El estudiante obtiene y visualiza datos históricos de precipitación, identificando patrones relevantes.\n",
    "\n",
    "- **Objetivo 2:** Aplicar técnicas de ajuste de distribuciones de probabilidad utilizando Python para modelar los datos de precipitación.\n",
    "  - *Indicador de logro:* El estudiante utiliza `scipy` para ajustar una función de distribución de probabilidad a los datos y evalúa su adecuación.\n",
    "\n",
    "- **Objetivo 3:** Implementar métodos de integración numérica para calcular probabilidades acumuladas de precipitación.\n",
    "  - *Indicador de logro:* El estudiante desarrolla una función en Python que calcula la probabilidad acumulada de precipitación para un intervalo de tiempo específico.\n",
    "\n",
    "- **Objetivo 4:** Determinar el número óptimo de subdivisiones en la integración numérica para alcanzar una precisión deseada.\n",
    "  - *Indicador de logro:* El estudiante implementa una función en Python que estima el número de rectángulos necesarios para una precisión de integración específica.\n",
    "\n",
    "**3. Mapa conceptual:**\n",
    "\n",
    "El mapa conceptual se ha elaborado utilizando Graphviz en Python y se ha renderizado en la ubicación especificada: `C:\\Users\\marco\\Documentos\\docencia\\geo_euclidiana`. Este mapa ilustra la relación entre los datos históricos de precipitación, el ajuste de distribuciones de probabilidad, la integración numérica y la determinación de la probabilidad de lluvia.\n",
    "\n",
    "**4. Elementos históricos y epistemológicos relevantes:**\n",
    "\n",
    "- **Historia de la integración numérica:** Desde los métodos de cuadratura en la antigua Grecia hasta los algoritmos computacionales modernos, la integración numérica ha sido fundamental en el cálculo de áreas y probabilidades.\n",
    "\n",
    "- **Meteorología y predicción climática:** El estudio sistemático de patrones climáticos ha evolucionado desde observaciones empíricas hasta modelos predictivos sofisticados, apoyados en análisis estadísticos y computacionales.\n"
   ]
  },
  {
   "cell_type": "markdown",
   "id": "bba735ca",
   "metadata": {},
   "source": [
    "\n",
    "**5. Contenido de la clase:**\n"
   ]
  },
  {
   "cell_type": "markdown",
   "id": "6e998184",
   "metadata": {},
   "source": [
    "\n",
    "1. **Obtención de datos reales de precipitación:**\n",
    "   - Acceder a datos históricos de precipitación en Caucasia, Antioquia, de los últimos 20 años. Una fuente recomendada es [World Weather Online](https://www.worldweatheronline.com/caucasia-weather-history/antioquia/co.aspx).\n"
   ]
  },
  {
   "cell_type": "markdown",
   "id": "e068118a",
   "metadata": {},
   "source": [
    "\n",
    "2. **Visualización del histograma:**\n",
    "   - Utilizar bibliotecas como `Pandas` y `Matplotlib` para cargar y visualizar los datos en forma de histograma, identificando la distribución de las precipitaciones.\n"
   ]
  },
  {
   "cell_type": "markdown",
   "id": "19735ced",
   "metadata": {},
   "source": [
    "\n",
    "3. **Ajuste de la función de distribución de probabilidad:**\n",
    "   - Emplear `scipy.stats` para probar diferentes distribuciones (e.g., normal, gamma) y determinar cuál se ajusta mejor a los datos mediante pruebas de bondad de ajuste.\n"
   ]
  },
  {
   "cell_type": "markdown",
   "id": "f7498106",
   "metadata": {},
   "source": [
    "\n",
    "4. **Determinación de la probabilidad de lluvia para la semana del 23 de febrero de 2025:**\n",
    "   - Utilizar la función de distribución acumulada (FDA) ajustada para calcular la probabilidad de que la precipitación exceda un umbral específico durante la semana en cuestión.\n"
   ]
  },
  {
   "cell_type": "markdown",
   "id": "344bf3f3",
   "metadata": {},
   "source": [
    "\n",
    "**6. Deducción de una función en Python para determinar el número de rectángulos $n$ necesarios para una precisión de la suma de Riemann dada $\\epsilon = 0.0001$:**\n",
    "\n",
    "- **Concepto:** La suma de Riemann se utiliza para aproximar el valor de una integral definida. La precisión de esta aproximación depende del número de subdivisiones $n$.\n"
   ]
  },
  {
   "cell_type": "markdown",
   "id": "c06e2901",
   "metadata": {},
   "source": [
    "\n",
    "- **Función propuesta:**\n",
    "  \n"
   ]
  },
  {
   "cell_type": "code",
   "execution_count": 15,
   "id": "8d830388",
   "metadata": {},
   "outputs": [],
   "source": [
    "import numpy as np\n",
    "\n",
    "def calcular_n(f, a, b, epsilon):\n",
    "    \"\"\"\n",
    "    Calcula el número mínimo de rectángulos necesarios para que la suma de Riemann\n",
    "    de la función f en el intervalo [a, b] tenga una precisión menor o igual a epsilon.\n",
    "    \"\"\"\n",
    "    n = 1\n",
    "    error = epsilon + 1  # Inicializar error para entrar en el bucle\n",
    "    while error > epsilon:\n",
    "        n *= 2\n",
    "        x = np.linspace(a, b, n+1)\n",
    "        y = f(x)\n",
    "        integral_aprox = np.sum(y[:-1]) * (b - a) / n\n",
    "        integral_aprox_doble = np.sum(y) * (b - a) / (n+1)\n",
    "        error = abs(integral_aprox_doble - integral_aprox)\n",
    "    return n\n",
    "\n"
   ]
  },
  {
   "cell_type": "markdown",
   "id": "47752a97",
   "metadata": {},
   "source": [
    "\n",
    "  Esta función duplica el número de rectángulos hasta que el error entre dos aproximaciones consecutivas sea menor que $\\epsilon$.\n",
    "\n",
    "**7. Actividades de aprendizaje:**\n",
    "\n",
    "- **Pruebas de escritorio:**\n",
    "  - Analizar manualmente casos simples de integración para comprender el funcionamiento del algoritmo antes de implementarlo.\n",
    "\n",
    "- **Pseudocódigo y diagramas de flujo:**\n",
    "  - Desarrollar el pseudocódigo y el diagrama de flujo de la función `calcular_n` para visualizar su lógica y estructura.\n",
    "\n",
    "- **Implementación en Python:**\n",
    "  - Codificar la función en un cuaderno Jupyter, probarla con diferentes funciones y comparar los resultados con integrales conocidas.\n"
   ]
  },
  {
   "cell_type": "markdown",
   "id": "82885e5e",
   "metadata": {},
   "source": [
    "\n",
    "**8. Canción o poema para interiorizar conceptos:**\n",
    "\n",
    "*Integrando la lluvia*\n",
    "\n",
    "En Caucasia, gotas caen sin cesar,\n",
    "Un patrón que queremos descifrar.\n",
    "Con datos y funciones por explorar,\n",
    "La probabilidad vamos a calcular "
   ]
  },
  {
   "cell_type": "markdown",
   "id": "0184f9ed",
   "metadata": {},
   "source": [
    "9. Tarea o actividades de ejercitación y fijación\n",
    "\n",
    "Para reforzar el aprendizaje, se asignarán las siguientes actividades:\n",
    "\n",
    "  1. Descargar datos históricos de precipitación de Caucasia - Antioquia y realizar un análisis exploratorio.\n",
    "\n",
    "  2. Crear un histograma de los datos usando Matplotlib y Seaborn.\n",
    "\n",
    "  3. Ajustar diferentes distribuciones de probabilidad con SciPy y determinar cuál se adapta mejor a los datos.\n",
    "\n",
    "  4. Implementar en Python la cálculo de probabilidad de lluvia usando la Función de Distribución Acumulada (FDA).\n",
    "\n",
    "  5. Comparar los resultados obtenidos con predicciones meteorológicas oficiales.\n",
    "\n",
    "  6. Programar una función en Python que determine el número de rectángulos necesarios para alcanzar una precisión dada en la suma de Riemann.\n",
    "\n",
    "  7. Elaborar un informe en Jupyter Notebook con visualizaciones, explicaciones y análisis de los resultados.\n",
    "**10. Evaluación**\n",
    "\n",
    "La evaluación de la clase se basará en:\n",
    "\n",
    "**a) Proyectos (10 en total):**\n",
    "1. Análisis de precipitación en otra región de Colombia usando el mismo método.\n",
    "2. Comparación de distribuciones de probabilidad para dos localidades.\n",
    "3. Creación de un dashboard interactivo con Plotly para visualizar datos.\n",
    "4. Implementación de otro método de integración numérica.\n",
    "5. Validación de predicciones con datos reales recientes.\n",
    "6. Desarrollo de un modelo predictivo simple con regresión logística.\n",
    "7. Simulación de efectos climáticos en precipitaciones futuras.\n",
    "8. Análisis de correlación entre temperatura y precipitación.\n",
    "9. Aplicación del cálculo de probabilidades en otro fenómeno natural.\n",
    "10. Creación de una aplicación web sencilla con Flask para consultar probabilidades de lluvia.\n",
    "\n",
    "**b) Ejemplo de quiz:**\n",
    "1. ¿Qué es la función de distribución acumulada y cómo se usa en la predicción de lluvia?\n",
    "2. Explica cómo se obtiene y visualiza un histograma de precipitación.\n",
    "3. ¿Qué bibliotecas de Python se utilizan para ajuste de distribuciones de probabilidad?\n",
    "4. Describe el proceso de integración numérica mediante la suma de Riemann.\n",
    "5. Implementa una función en Python que determine la probabilidad de lluvia en una fecha dada.\n",
    "\n",
    "**c) Ejemplo de parcial:**\n",
    "1. Obtén los datos de precipitación de una región y visualiza su histograma.\n",
    "2. Determina qué distribución de probabilidad se ajusta mejor a estos datos.\n",
    "3. Utiliza la FDA para estimar la probabilidad de lluvia en un rango de fechas.\n",
    "4. Implementa un algoritmo de integración numérica para calcular la probabilidad acumulada.\n",
    "5. Desarrolla un diagrama de flujo que represente el proceso completo.\n",
    "\n",
    "**11. Diseño de actividad de retroalimentación**\n",
    "\n",
    "Los estudiantes presentarán sus resultados en una sesión de discusión donde se analizarán los errores comunes y se proponerán mejoras a los algoritmos. Se fomentará el trabajo colaborativo para que los estudiantes puedan optimizar sus soluciones y aprender de los distintos enfoques utilizados por sus compañeros.\n",
    "\n",
    "**12. Vocabulario y frases en inglés asociadas a la clase**\n",
    "\n",
    "- **Precipitation data** (Datos de precipitación)\n",
    "- **Histogram visualization** (Visualización de histograma)\n",
    "- **Probability distribution function (PDF)** (Función de distribución de probabilidad)\n",
    "- **Cumulative distribution function (CDF)** (Función de distribución acumulada)\n",
    "- **Numerical integration** (Integración numérica)\n",
    "- **Riemann sum** (Suma de Riemann)\n",
    "- **Accuracy of approximation** (Precisión de la aproximación)\n",
    "- **Python implementation** (Implementación en Python)\n",
    "- **Data analysis and visualization** (Análisis y visualización de datos)\n",
    "- **Weather prediction using statistics** (Predicción del clima usando estadística)\n",
    "\n",
    "Con este diseño de clase, los estudiantes desarrollarán habilidades en modelado matemático, programación y análisis de datos aplicados a problemas reales, fomentando el aprendizaje experimental y basado en proyectos.\n",
    "\n"
   ]
  },
  {
   "cell_type": "markdown",
   "id": "239427f7",
   "metadata": {},
   "source": [
    "# ARTÍCULO 1. Definir el calendario académico para los diferentes programas de pregrado de los campus\n",
    "regionalizados, correspondiente al primer periodo académico del año 2025, así:\n",
    "* Oferta 28 de enero de 2025\n",
    "* Matrícula 30 de enero de 2025\n",
    "* Ajustes 03 al 10 de febrero de 2025\n",
    "* Inicio de clases 10 de febrero de 2025\n",
    "* Límite evaluación del 40% 06 de abril de 2025\n",
    "* Terminación de clases 08 de junio de 2025\n",
    "* Exámenes finales 09 al 15 de junio de 2025\n",
    "* Habilitación y validación 16 al 22 de junio de 2025\n",
    "* Terminación oficial 23 de junio de 2025"
   ]
  },
  {
   "cell_type": "code",
   "execution_count": null,
   "id": "ec048afb",
   "metadata": {},
   "outputs": [],
   "source": []
  },
  {
   "cell_type": "markdown",
   "id": "740f3401",
   "metadata": {
    "slideshow": {
     "slide_type": "slide"
    }
   },
   "source": [
    "# Componente de manejo de calculadora Casio asociado al objetivo de aprendizaje de esta clase  \n",
    "\n",
    "## Pasos para lograr el objetivo de aprendizaje con la experimentación en la calculadora Casio 991LA cw  "
   ]
  },
  {
   "cell_type": "markdown",
   "id": "8ba64aed",
   "metadata": {},
   "source": [
    "# Cursos que orienta el profesor Marco Julio Cañas Campillo en 2025  \n",
    "\n",
    "1. Práctica Pedagógica V para Licenciatura en Educación Infantil\n",
    "2. Fundamentos de Lógica para Licenciatura en Matemáticas \n",
    "3. Análisis Numérico para Licenciatura en Matemáticas. \n",
    "4. Cálculo Vectorial para Ingeniería Agropecuaria"
   ]
  },
  {
   "cell_type": "markdown",
   "id": "8d41fe58",
   "metadata": {
    "slideshow": {
     "slide_type": "slide"
    }
   },
   "source": [
    "# Horario de clases del profesor Marco\n",
    "\n",
    "* Lunes 8-12: Cálculo Vectorial\n",
    "* Martes 8-12 M: Fundamentos de Aritmética. \n",
    "* Miércoles 8 a 12 M: Fundamentos de la Lógica\n",
    "* Jueves 2 a 6 PM: Desarrollo del pensamiento matemático en la infancia. \n",
    "* Viernes 8 - 12 M: Desarrollo del pensamiento matemático en la infancia. \n",
    "* Sábados 8-12 Asesorías y espacio para retroalimentación y apoyo al trabajo independiente. "
   ]
  },
  {
   "cell_type": "markdown",
   "id": "ae114e14",
   "metadata": {
    "slideshow": {
     "slide_type": "slide"
    }
   },
   "source": [
    "# Horarios de monitoría y asesoría  \n",
    "\n",
    "Coordinador de los cursos de la Facultad de Educación para regiones:    \n",
    "\n",
    "Andrés Vélez: regioneducacion.fedu@udea.edu.co  \n",
    "Coordinador Regiones  \n",
    "Facultad de Educación  \n",
    "Universidad de Antioquia  "
   ]
  },
  {
   "cell_type": "markdown",
   "id": "b1db4b6c",
   "metadata": {
    "slideshow": {
     "slide_type": "slide"
    }
   },
   "source": [
    "## Monitor Manuel San Juan Serrano\n",
    "\n",
    "Contactar escribiendo al correo: manuel.serrano1@udea.edu.co"
   ]
  },
  {
   "cell_type": "markdown",
   "id": "39559692",
   "metadata": {
    "slideshow": {
     "slide_type": "slide"
    }
   },
   "source": [
    "Martes y jueves de 8 - 12  \n",
    "Miércoles 10 - 12 y de 2 a 4 PM  \n",
    "Sábado: 8 - 12"
   ]
  },
  {
   "cell_type": "markdown",
   "id": "10bce0d0",
   "metadata": {
    "slideshow": {
     "slide_type": "slide"
    }
   },
   "source": [
    "## Referentes "
   ]
  },
  {
   "cell_type": "markdown",
   "id": "1db3c468",
   "metadata": {
    "slideshow": {
     "slide_type": "slide"
    }
   },
   "source": [
    "* [CALCULO I DE UNA VARIABLE Ron Larson-Bruce Edwards. Mc Graw Hill. 9º Edición](https://www.academia.edu/42139251/CALCULO_I_DE_UNA_VARIABLE_Ron_Larson_Bruce_Edwards_Mc_Graw_Hill_9o_Edici%C3%B3n)   \n",
    "  \n",
    "\n",
    "* [Grajales Vanegas, L. M., Restrepo Estrada, C. E., Restrepo Ochoa, S. I., & Ruíz De Villalba, F. (2015). Matemáticas I para las ciencias económicas.](https://bibliotecadigital.udea.edu.co/handle/10495/3010)\n",
    "  \n",
    "* R. Duval y Semiosis y pensamiento humano, 2.ª ed. Cali, Colombia: Programa Editorial Universidad del Valle, 2017. [En línea]. Disponible en: https://programaeditorial.univalle.edu.co/gpd-semiosis-y-pensamiento-humano-9789587655278-63324cdb0f6b3.html\n",
    "\n",
    "* [Aylwin, C. U. (2011). Lógica, conjuntos y números. Universidad de los Andes, Consejo de Publicaciones, Colección: Ciencias Básicas, Serie: Matemáticas.](chrome-extension://efaidnbmnnnibpcajpcglclefindmkaj/https://www.u-cursos.cl/ciencias/2011/1/MC110/1/material_docente/bajar?id_material=574722)\n",
    "  \n",
    "* [Chollet, F. (2021). Deep learning with Python. Simon and Schuster.](chrome-extension://efaidnbmnnnibpcajpcglclefindmkaj/https://tanthiamhuat.wordpress.com/wp-content/uploads/2018/03/deeplearningwithpython.pdf)  \n",
    "  \n",
    "* [Watson, S., Stewart, J., & Redlin, L. (2009). Precálculo. Matemáticas para el cálculo.](https://github.com/marco-canas/calculo/blob/main/referents/1_precalculo_stewart/stewart_precalculo.pdf)  \n",
    "\n",
    "* [Purcell, E. J., Varberg, D., & Rigdon, S. E. (2007). Cálculo diferencial e integral. Pearson Educación.](https://github.com/marco-canas/calculo/blob/main/referents/purcell/purcell_calculo.pdf)\n",
    "\n",
    "  \n",
    "\n",
    "* [stewart cálculo](https://udeaeduco-my.sharepoint.com/:b:/g/personal/marco_canas_udea_edu_co/EZgXZjAp8QxPqOAim2hs6LcBNPLGjSHf-xwYnUVYkwa04w?e=RZdTCy)  \n",
    "\n",
    "\n",
    "\n",
    "\n",
    "\n",
    "* [Recomendación de la UNESCO sobre ciencia abierta](https://unesdoc.unesco.org/ark:/48223/pf0000379949_spa)\n",
    "\n",
    "* [chatGPT](https://openai.com/blog/chatgpt)  \n",
    "\n",
    "* [Géron, A. (2017). Hands-on machine learning with scikit-learn and tensorflow: Concepts. Tools, and Techniques to build intelligent systems.](chrome-extension://efaidnbmnnnibpcajpcglclefindmkaj/http://14.139.161.31/OddSem-0822-1122/Hands-On_Machine_Learning_with_Scikit-Learn-Keras-and-TensorFlow-2nd-Edition-Aurelien-Geron.pdf)   \n"
   ]
  },
  {
   "cell_type": "markdown",
   "id": "df925560",
   "metadata": {},
   "source": [
    "\n",
    "* [McKinney, W. (2012). Python for data analysis: Data wrangling with Pandas, NumPy, and IPython. \" O'Reilly Media, Inc.\".](https://wesmckinney.com/book/) "
   ]
  },
  {
   "cell_type": "markdown",
   "id": "8e65d6f9",
   "metadata": {},
   "source": [
    "# Como estudiante, encuentro que...   \n",
    "\n",
    "F: Mis Fortalezas son:     \n",
    "O: Mis Oportunidades son:    \n",
    "D: Mis Debilidades son:    \n",
    "A: Lo que Amenazas mi aprendizaje es:  "
   ]
  },
  {
   "cell_type": "markdown",
   "id": "6b9e56a8",
   "metadata": {
    "slideshow": {
     "slide_type": "slide"
    }
   },
   "source": [
    "### [Evaluamos al profesor Marco Cañas Aquí](https://forms.office.com/Pages/ResponsePage.aspx?id=IefhmYRxjkmK_7KtTlPBwkanXIs1i1FEujpsZgO6dXpUREJPV1kxUk1JV1ozTFJIQVNIQjY5WEY3US4u)"
   ]
  },
  {
   "cell_type": "markdown",
   "id": "10f43536",
   "metadata": {
    "slideshow": {
     "slide_type": "slide"
    }
   },
   "source": [
    "### Continue su aprendizaje en la siguiente clase a través del siguiente [vínculo]()"
   ]
  },
  {
   "cell_type": "markdown",
   "id": "53cc9115",
   "metadata": {
    "slideshow": {
     "slide_type": "slide"
    }
   },
   "source": [
    "## Agradecimientos  \n",
    "\n",
    "Doy gracias a Dios por la vida de mi Hijo Joseph Cañas Osorio y la madurez que ha alcanzado. Este hijo me enorgullece y me hace falta abrazarlo cada día. \n",
    "\n",
    "Y a mi esposa Yasmira Emperatriz Barboza Mogollón por su apoyo, orientación y acompañamiento. "
   ]
  },
  {
   "cell_type": "markdown",
   "id": "b6ba1c23",
   "metadata": {},
   "source": [
    "# Apéndice sobre calendarios y coordinaciones \n",
    "\n",
    "A continuación le envío el horario de la asignatura Cálculo Vectorial  \n",
    "\n",
    "Días:  \n",
    "Lunes - Hora: 7:00 a 12:00M  \n",
    "Fechas:  \n",
    "Febrero: 10-17-24                                          \n",
    " Marzo: 3-10-17-31                                                  \n",
    "Abril:7-21-28                                                   \n",
    "Mayo:5-12-19  \n",
    "\n",
    "Agradezco su apoyo, y si presenta alguna dificultad puede contactarme.  \n",
    "\n",
    "Cordialmente,  \n",
    "Juan Felipe Rivera Hernández  \n",
    "Contacto: 3106314300  "
   ]
  },
  {
   "cell_type": "markdown",
   "id": "0e66cd7c",
   "metadata": {},
   "source": [
    "# Clase de análisis numérico los Martes de 8 a 12 del medio día. "
   ]
  },
  {
   "cell_type": "code",
   "execution_count": 18,
   "id": "c5ff61b1",
   "metadata": {},
   "outputs": [
    {
     "name": "stdout",
     "output_type": "stream",
     "text": [
      "Archivos a eliminar:\n",
      "C:/Users/marco/Documentos/docencia/calculo\\.git\\lfs\\objects\\02\\62\\02620d6384b52053352de8da112c80f9b43b50082b9f1d1588237a4bba3076ae\n",
      "C:/Users/marco/Documentos/docencia/calculo\\.git\\objects\\80\\35f58be8a0ec9ede7fcd30761e1179d84f00f9\n",
      "C:/Users/marco/Documentos/docencia/calculo\\.git\\objects\\ab\\f45e1ea376912a0718830c49b4c54679ba4bb3\n",
      "Eliminado: C:/Users/marco/Documentos/docencia/calculo\\.git\\lfs\\objects\\02\\62\\02620d6384b52053352de8da112c80f9b43b50082b9f1d1588237a4bba3076ae\n"
     ]
    },
    {
     "ename": "PermissionError",
     "evalue": "[WinError 5] Acceso denegado: 'C:/Users/marco/Documentos/docencia/calculo\\\\.git\\\\objects\\\\80\\\\35f58be8a0ec9ede7fcd30761e1179d84f00f9'",
     "output_type": "error",
     "traceback": [
      "\u001b[1;31m---------------------------------------------------------------------------\u001b[0m",
      "\u001b[1;31mPermissionError\u001b[0m                           Traceback (most recent call last)",
      "Cell \u001b[1;32mIn[18], line 30\u001b[0m\n\u001b[0;32m     28\u001b[0m \u001b[38;5;28;01mif\u001b[39;00m confirm \u001b[38;5;241m==\u001b[39m \u001b[38;5;124m\"\u001b[39m\u001b[38;5;124ms\u001b[39m\u001b[38;5;124m\"\u001b[39m:\n\u001b[0;32m     29\u001b[0m     \u001b[38;5;28;01mfor\u001b[39;00m file \u001b[38;5;129;01min\u001b[39;00m large_files:\n\u001b[1;32m---> 30\u001b[0m         \u001b[43mos\u001b[49m\u001b[38;5;241;43m.\u001b[39;49m\u001b[43mremove\u001b[49m\u001b[43m(\u001b[49m\u001b[43mfile\u001b[49m\u001b[43m)\u001b[49m\n\u001b[0;32m     31\u001b[0m         \u001b[38;5;28mprint\u001b[39m(\u001b[38;5;124mf\u001b[39m\u001b[38;5;124m\"\u001b[39m\u001b[38;5;124mEliminado: \u001b[39m\u001b[38;5;132;01m{\u001b[39;00mfile\u001b[38;5;132;01m}\u001b[39;00m\u001b[38;5;124m\"\u001b[39m)\n\u001b[0;32m     33\u001b[0m     \u001b[38;5;66;03m# Limpiar historial de Git para remover referencias a archivos eliminados\u001b[39;00m\n",
      "\u001b[1;31mPermissionError\u001b[0m: [WinError 5] Acceso denegado: 'C:/Users/marco/Documentos/docencia/calculo\\\\.git\\\\objects\\\\80\\\\35f58be8a0ec9ede7fcd30761e1179d84f00f9'"
     ]
    }
   ],
   "source": [
    "import os\n",
    "import subprocess\n",
    "\n",
    "# Define el tamaño máximo permitido por GitHub en bytes (100MB)\n",
    "MAX_SIZE = 100 * 1024 * 1024\n",
    "\n",
    "# Ruta del repositorio (ajústala si es necesario)\n",
    "repo_path = r\"C:/Users/marco/Documentos/docencia/calculo\"\n",
    "\n",
    "# Buscar archivos mayores a 100MB\n",
    "large_files = []\n",
    "for root, _, files in os.walk(repo_path):\n",
    "    for file in files:\n",
    "        file_path = os.path.join(root, file)\n",
    "        if os.path.getsize(file_path) > MAX_SIZE:\n",
    "            large_files.append(file_path)\n",
    "\n",
    "# Mostrar los archivos grandes encontrados\n",
    "if not large_files:\n",
    "    print(\"No se encontraron archivos que excedan el límite de 100MB.\")\n",
    "else:\n",
    "    print(\"Archivos a eliminar:\")\n",
    "    for file in large_files:\n",
    "        print(file)\n",
    "\n",
    "    # Confirmar eliminación\n",
    "    confirm = input(\"\\n¿Deseas eliminar estos archivos? (s/n): \").strip().lower()\n",
    "    if confirm == \"s\":\n",
    "        for file in large_files:\n",
    "            os.remove(file)\n",
    "            print(f\"Eliminado: {file}\")\n",
    "\n",
    "        # Limpiar historial de Git para remover referencias a archivos eliminados\n",
    "        subprocess.run([\"git\", \"filter-branch\", \"--force\", \"--index-filter\",\n",
    "                        \"git rm --cached --ignore-unmatch \" + \" \".join(large_files),\n",
    "                        \"--prune-empty\", \"--tag-name-filter\", \"cat\", \"--\", \"HEAD\"],\n",
    "                        cwd=repo_path, shell=True)\n",
    "\n",
    "        # Forzar una limpieza en Git\n",
    "        subprocess.run([\"git\", \"gc\", \"--prune=now\"], cwd=repo_path)\n",
    "        subprocess.run([\"git\", \"reflog\", \"expire\", \"--expire=now\", \"--all\"], cwd=repo_path)\n",
    "        subprocess.run([\"git\", \"fsck\"], cwd=repo_path)\n",
    "\n",
    "        print(\"\\nArchivos eliminados y limpiados del historial de Git.\")\n",
    "\n",
    "        # Subir cambios al repositorio remoto\n",
    "        print(\"\\nSubiendo cambios al repositorio remoto...\")\n",
    "        subprocess.run([\"git\", \"add\", \".\"], cwd=repo_path)\n",
    "        subprocess.run([\"git\", \"commit\", \"-m\", \"Eliminación de archivos grandes para cumplir con GitHub\"], cwd=repo_path)\n",
    "        subprocess.run([\"git\", \"push\", \"origin\", \"main\", \"--force\"], cwd=repo_path)\n",
    "    else:\n",
    "        print(\"Operación cancelada. No se eliminaron archivos.\")\n"
   ]
  }
 ],
 "metadata": {
  "celltoolbar": "Slideshow",
  "kernelspec": {
   "display_name": ".venv",
   "language": "python",
   "name": "python3"
  },
  "language_info": {
   "codemirror_mode": {
    "name": "ipython",
    "version": 3
   },
   "file_extension": ".py",
   "mimetype": "text/x-python",
   "name": "python",
   "nbconvert_exporter": "python",
   "pygments_lexer": "ipython3",
   "version": "3.13.2"
  },
  "rise": {
   "enable_chalkboard": true,
   "theme": "sky",
   "transition": "zoom"
  }
 },
 "nbformat": 4,
 "nbformat_minor": 5
}
