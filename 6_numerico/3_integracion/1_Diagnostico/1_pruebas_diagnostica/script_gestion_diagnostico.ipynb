{
 "cells": [
  {
   "cell_type": "markdown",
   "metadata": {},
   "source": [
    "# Gestión del diagnóstico de esta investigación  \n",
    "\n",
    "Dame, por favor, un script de Python para convertir el siguiente texto .md en uno tipo .docx y edita las ecuaciones matemáticas utilizando el editor de ecuaciones de Word para no utilizar lenguaje Latex"
   ]
  },
  {
   "cell_type": "markdown",
   "metadata": {},
   "source": [
    "Para convertir un archivo Markdown (.md) a un archivo Word (.docx) y asegurarte de que las ecuaciones matemáticas se manejen correctamente utilizando el editor de ecuaciones de Word (en lugar de LaTeX), puedes utilizar la biblioteca `python-docx` junto con `pandoc`. Sin embargo, `python-docx` no tiene soporte nativo para ecuaciones matemáticas, por lo que necesitarás un enfoque adicional para manejar las ecuaciones.\n",
    "\n",
    "Aquí te dejo un script en Python que utiliza `pandoc` para convertir el archivo Markdown a Word, y luego utiliza `python-docx` para editar las ecuaciones matemáticas:\n",
    "\n",
    "### Paso 1: Instalar las dependencias necesarias\n",
    "\n",
    "Primero, asegúrate de tener instaladas las siguientes bibliotecas y herramientas:\n",
    "\n",
    "1. **Pandoc**: Puedes descargarlo e instalarlo desde [aquí](https://pandoc.org/installing.html).\n",
    "2. **python-docx**: Puedes instalarlo usando pip:\n"
   ]
  },
  {
   "cell_type": "code",
   "execution_count": 1,
   "metadata": {},
   "outputs": [
    {
     "name": "stdout",
     "output_type": "stream",
     "text": [
      "Collecting python-docx\n",
      "  Using cached python_docx-1.1.2-py3-none-any.whl.metadata (2.0 kB)\n",
      "Collecting lxml>=3.1.0 (from python-docx)\n",
      "  Using cached lxml-5.3.1-cp312-cp312-win_amd64.whl.metadata (3.8 kB)\n",
      "Collecting typing-extensions>=4.9.0 (from python-docx)\n",
      "  Using cached typing_extensions-4.12.2-py3-none-any.whl.metadata (3.0 kB)\n",
      "Using cached python_docx-1.1.2-py3-none-any.whl (244 kB)\n",
      "Using cached lxml-5.3.1-cp312-cp312-win_amd64.whl (3.8 MB)\n",
      "Using cached typing_extensions-4.12.2-py3-none-any.whl (37 kB)\n",
      "Installing collected packages: typing-extensions, lxml, python-docx\n",
      "Successfully installed lxml-5.3.1 python-docx-1.1.2 typing-extensions-4.12.2\n"
     ]
    }
   ],
   "source": [
    "!pip install python-docx\n",
    "\n"
   ]
  },
  {
   "cell_type": "markdown",
   "metadata": {},
   "source": [
    "\n",
    "### Paso 2: Script de Python\n"
   ]
  },
  {
   "cell_type": "markdown",
   "metadata": {},
   "source": [
    "El error `FileNotFoundError: [WinError 2] El sistema no puede encontrar el archivo especificado` ocurre porque el sistema no puede encontrar el archivo Markdown (`1_prueba_diagnostica.md`) o el ejecutable de `pandoc`. Vamos a corregir el script para asegurarnos de que:\n",
    "\n",
    "1. **El archivo Markdown existe en la ruta correcta**: Asegúrate de que el archivo `1_prueba_diagnostica.md` esté en la misma carpeta que el script o proporciona la ruta completa al archivo.\n",
    "2. **Pandoc está instalado y accesible**: Asegúrate de que `pandoc` esté instalado y que su ejecutable esté en el PATH del sistema.\n",
    "\n",
    "### Script corregido\n"
   ]
  },
  {
   "cell_type": "code",
   "execution_count": 2,
   "metadata": {},
   "outputs": [
    {
     "name": "stdout",
     "output_type": "stream",
     "text": [
      "Error: Pandoc no está instalado o no se encuentra en el PATH.\n"
     ]
    }
   ],
   "source": [
    "import subprocess\n",
    "from docx import Document\n",
    "from docx.oxml import OxmlElement\n",
    "from docx.oxml.ns import qn\n",
    "import os\n",
    "\n",
    "def convert_md_to_docx(md_file, docx_file):\n",
    "    # Verificar si el archivo Markdown existe\n",
    "    if not os.path.exists(md_file):\n",
    "        raise FileNotFoundError(f\"El archivo Markdown '{md_file}' no se encuentra.\")\n",
    "    \n",
    "    # Convertir el archivo .md a .docx usando pandoc\n",
    "    try:\n",
    "        subprocess.run(['pandoc', md_file, '-o', docx_file, '--mathml'], check=True)\n",
    "    except subprocess.CalledProcessError as e:\n",
    "        raise RuntimeError(f\"Error al convertir el archivo Markdown a Word: {e}\")\n",
    "    except FileNotFoundError:\n",
    "        raise FileNotFoundError(\"Pandoc no está instalado o no se encuentra en el PATH.\")\n",
    "\n",
    "def replace_latex_with_equation(docx_file):\n",
    "    # Verificar si el archivo Word existe\n",
    "    if not os.path.exists(docx_file):\n",
    "        raise FileNotFoundError(f\"El archivo Word '{docx_file}' no se encuentra.\")\n",
    "    \n",
    "    # Abrir el documento .docx\n",
    "    doc = Document(docx_file)\n",
    "    \n",
    "    # Buscar y reemplazar ecuaciones LaTeX con ecuaciones de Word\n",
    "    for paragraph in doc.paragraphs:\n",
    "        if '$$' in paragraph.text:\n",
    "            # Extraer la ecuación LaTeX\n",
    "            latex_eq = paragraph.text.strip('$$')\n",
    "            \n",
    "            # Crear una nueva ecuación en Word\n",
    "            paragraph.text = ''  # Eliminar el texto LaTeX\n",
    "            run = paragraph.add_run()\n",
    "            run._element.append(create_math_element(latex_eq))\n",
    "    \n",
    "    # Guardar el documento modificado\n",
    "    doc.save(docx_file)\n",
    "\n",
    "def create_math_element(latex_eq):\n",
    "    # Crear un elemento de ecuación en Word\n",
    "    math_element = OxmlElement('m:oMath')\n",
    "    math_element.set(qn('m:mathType'), 'inline')\n",
    "    \n",
    "    # Convertir LaTeX a MathML (esto es un ejemplo simplificado)\n",
    "    # En un caso real, necesitarías una biblioteca para convertir LaTeX a MathML\n",
    "    mathml_eq = f'<m:r>{latex_eq}</m:r>'\n",
    "    \n",
    "    math_element.append(OxmlElement.from_xml(mathml_eq))\n",
    "    return math_element\n",
    "\n",
    "if __name__ == \"__main__\":\n",
    "    # Rutas de los archivos\n",
    "    md_file = \"1_prueba_diagnostica.md\"  # Ruta al archivo Markdown\n",
    "    docx_file = '1_prueba_diagnostica.docx'  # Ruta al archivo Word de salida\n",
    "    \n",
    "    # Verificar si el archivo Markdown existe\n",
    "    if not os.path.exists(md_file):\n",
    "        print(f\"Error: El archivo Markdown '{md_file}' no se encuentra en la ruta especificada.\")\n",
    "    else:\n",
    "        try:\n",
    "            # Convertir el archivo .md a .docx\n",
    "            convert_md_to_docx(md_file, docx_file)\n",
    "            \n",
    "            # Reemplazar ecuaciones LaTeX con ecuaciones de Word\n",
    "            replace_latex_with_equation(docx_file)\n",
    "            \n",
    "            print(f\"El archivo '{md_file}' se ha convertido exitosamente a '{docx_file}'.\")\n",
    "        except Exception as e:\n",
    "            print(f\"Error: {e}\")\n",
    "\n"
   ]
  },
  {
   "cell_type": "markdown",
   "metadata": {},
   "source": [
    "\n",
    "### Cambios realizados:\n",
    "\n",
    "1. **Verificación de la existencia del archivo Markdown**:\n",
    "   - Se agregó una verificación para asegurarse de que el archivo Markdown (`1_prueba_diagnostica.md`) existe antes de intentar convertirlo.\n",
    "\n",
    "2. **Manejo de errores en `subprocess.run`**:\n",
    "   - Se agregó un manejo de errores para capturar problemas durante la ejecución de `pandoc`, como la falta de instalación de `pandoc` o errores en la conversión.\n",
    "\n",
    "3. **Verificación de la existencia del archivo Word**:\n",
    "   - Se agregó una verificación para asegurarse de que el archivo Word generado existe antes de intentar editarlo.\n",
    "\n",
    "4. **Mensajes de error más claros**:\n",
    "   - Se mejoraron los mensajes de error para que sean más descriptivos.\n",
    "\n",
    "### Instrucciones para ejecutar el script:\n",
    "\n",
    "1. Asegúrate de que el archivo `1_prueba_diagnostica.md` esté en la misma carpeta que el script o proporciona la ruta completa al archivo.\n",
    "2. Asegúrate de que `pandoc` esté instalado y accesible desde la línea de comandos. Puedes verificar esto ejecutando `pandoc --version` en una terminal.\n",
    "3. Ejecuta el script. Si todo está correcto, el archivo Word se generará y las ecuaciones se manejarán adecuadamente.\n",
    "\n",
    "### Nota:\n",
    "- Si `pandoc` no está en el PATH, puedes proporcionar la ruta completa al ejecutable de `pandoc` en el script, por ejemplo:\n",
    "  ```python\n",
    "  subprocess.run(['C:/ruta/a/pandoc.exe', md_file, '-o', docx_file, '--mathml'], check=True)\n",
    "  ```\n",
    "- La conversión de LaTeX a MathML en el script es un ejemplo simplificado. Para una conversión precisa, considera usar una biblioteca como `latex2mathml`."
   ]
  },
  {
   "cell_type": "markdown",
   "metadata": {},
   "source": [
    "\n",
    "### Explicación del Script:\n",
    "\n",
    "1. **convert_md_to_docx**: Utiliza `pandoc` para convertir el archivo Markdown a Word. La opción `--mathml` asegura que las ecuaciones se conviertan a MathML, que es compatible con el editor de ecuaciones de Word.\n",
    "\n",
    "2. **replace_latex_with_equation**: Abre el archivo Word generado y busca ecuaciones LaTeX (encerradas entre `$$`). Luego, reemplaza estas ecuaciones con elementos de ecuación de Word.\n",
    "\n",
    "3. **create_math_element**: Crea un elemento de ecuación en Word utilizando MathML. Este es un ejemplo simplificado, y en un caso real, necesitarías una biblioteca para convertir LaTeX a MathML.\n",
    "\n",
    "### Nota:\n",
    "- Este script es un ejemplo básico y puede necesitar ajustes dependiendo de la complejidad de tus ecuaciones y del formato de tu archivo Markdown.\n",
    "- La conversión de LaTeX a MathML no está implementada en este script. Para una conversión precisa, podrías utilizar una biblioteca como `latex2mathml` o `pandoc` con opciones adicionales.\n",
    "\n",
    "### Paso 3: Ejecutar el Script\n",
    "\n",
    "Guarda el script en un archivo Python (por ejemplo, `convert_md_to_docx.py`) y ejecútalo:\n",
    "\n",
    "```bash\n",
    "python convert_md_to_docx.py\n",
    "```\n",
    "\n",
    "Esto generará un archivo Word con las ecuaciones matemáticas listas para ser editadas en el editor de ecuaciones de Word."
   ]
  }
 ],
 "metadata": {
  "kernelspec": {
   "display_name": ".venv",
   "language": "python",
   "name": "python3"
  },
  "language_info": {
   "codemirror_mode": {
    "name": "ipython",
    "version": 3
   },
   "file_extension": ".py",
   "mimetype": "text/x-python",
   "name": "python",
   "nbconvert_exporter": "python",
   "pygments_lexer": "ipython3",
   "version": "3.12.6"
  }
 },
 "nbformat": 4,
 "nbformat_minor": 2
}
