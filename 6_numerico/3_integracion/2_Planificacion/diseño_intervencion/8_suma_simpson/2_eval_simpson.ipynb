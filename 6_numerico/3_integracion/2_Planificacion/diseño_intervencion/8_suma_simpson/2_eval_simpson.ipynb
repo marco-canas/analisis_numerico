{
 "cells": [
  {
   "cell_type": "markdown",
   "id": "dc06dec7",
   "metadata": {
    "slideshow": {
     "slide_type": "slide"
    }
   },
   "source": [
    "<table align=\"left\">\n",
    "  <td>\n",
    "    <a href=\"https://colab.research.google.com/github/marco-canas/didactica_ciencia_datos/blob/main/1_curso_machine_learning/1_evaluacion_oral_tarea_quiz_parcial.ipynb\" target=\"_parent\"><img src=\"https://colab.research.google.com/assets/colab-badge.svg\" alt=\"Open In Colab\"/></a>\n",
    "  </td>\n",
    "  <td>\n",
    "    <a target=\"_blank\" href=\"https://kaggle.com/kernels/welcome?src=https://github.com/marco-canas/didactica_ciencia_datos/blob/main/1_curso_machine_learning/1_evaluacion_oral_tarea_quiz_parcial.ipynb\"><img src=\"https://kaggle.com/static/images/open-in-kaggle.svg\" /></a>\n",
    "  </td>\n",
    "</table>"
   ]
  },
  {
   "cell_type": "markdown",
   "id": "e0c5b198",
   "metadata": {
    "slideshow": {
     "slide_type": "slide"
    }
   },
   "source": [
    "### [Video de apoyo a la lectura interactiva y experimental de este cuaderno]()"
   ]
  },
  {
   "cell_type": "markdown",
   "id": "41e82203",
   "metadata": {
    "slideshow": {
     "slide_type": "slide"
    }
   },
   "source": [
    "## [Vínculo al programa del curso:  ]()"
   ]
  },
  {
   "cell_type": "markdown",
   "id": "ca46c23b",
   "metadata": {
    "slideshow": {
     "slide_type": "slide"
    }
   },
   "source": [
    "# Modelo general de clase: [aula invertida](https://www3.gobiernodecanarias.org/medusa/ecoescuela/pedagotic/aprendizaje-invertido-flipped-classroom/)\n"
   ]
  },
  {
   "cell_type": "markdown",
   "id": "7f9be90f",
   "metadata": {
    "slideshow": {
     "slide_type": "slide"
    }
   },
   "source": [
    "# Fomento de la lectura literaria asociada a Ingeniería agropecuaria y licenciatura en Matemáticas y administración de empresas\n",
    "\n",
    "[Hábitos atómicos](https://github.com/marco-canas/habitos_atomicos/blob/main/13_como_dejar_de_postergar_usando_la_regla_de_los_dos_minutos/1_13_como_dejar_de_postergar_usando_la_regla_de_los_dos_minutos.ipynb)"
   ]
  },
  {
   "cell_type": "markdown",
   "id": "96775931",
   "metadata": {
    "slideshow": {
     "slide_type": "slide"
    }
   },
   "source": [
    "# Título de la clase: Realización evaluación oral, de Tareas en cuadernos Jupyter, Quiz o Parcial de selección múltiple o de preguntas cerradas.  \n",
    "\n"
   ]
  },
  {
   "cell_type": "markdown",
   "id": "cf101603",
   "metadata": {},
   "source": [
    "# Prompt para pedir el diseño de evaluación de acuerdo a la metodología de \"Enseñanza basada en proyectos\"  \n"
   ]
  },
  {
   "cell_type": "markdown",
   "id": "99e94b04",
   "metadata": {},
   "source": [
    "\n",
    "Dame, por favor, un diseño de clase, con el enfoque: \"Aula Invertida, STEAMS y de Aprendizaje Basado en Problemas y Proyectos (ABPP)\" sobre: \"La regla de Simpson para integración numérica con aplicaciones a la ingeniería agropecuaria\", siguiendo la estructura:  \n",
    "\n",
    "1. Título de la clase   \n",
    "   \n",
    "2. Objetivo de aprendizaje que incluyan los indicadores del logro de estos objetivos. \n",
    "   \n",
    "3. Un mapa conceptual que resuma la clase elaborado en Graphviz de python con nodos y edges de diferentes formas, colores y rellenos y renderizado en la siguiente ubicación: `\"C:\\Users\\marco\\Descargas\"`.  No olvides el parámetro `view = True` para el método `render()` de Graphviz. Para este mapa controla las superposiciones de los nodos con: graph [overlap=false]; // Elimina superposiciones (puede aumentar el espacio)\n",
    "graph [overlap=\"scalexy\"]; // Escala el gráfico para evitar overlaps\n",
    "graph [overlap=\"compress\"]; // Comprime el grafo sin overlaps  \n",
    "   \n",
    "4. Elementos históricos y epistemológicos relevantes para la clase, pero narrados como una historieta al estilo de un cuentero antioqueño en Colombia. Incluye imágenes de los protagonistas históricos de esta clase.  \n",
    "   \n",
    "5. Contenido de la clase:     \n",
    "   \n",
    "     1. Enseña cómo presentar el algoritmo del trapecio de forma geométrica\n",
    "     2. Enseña cómo presentar el algoritmo del trapecio de forma verbal, es decir, en lenguaje natural. \n",
    "     3. Enseña cómo presentar el algoritmo del trapecio de forma de código python\n",
    "     4. Enseña cómo presentar el algoritmo del trapecio de forma algebraica. \n",
    "    \n",
    "     * Incluye, cómo implementar la calculadora \"Casio 991LA cw\" para implementar el método numérico de integración por trapecios. \n",
    "     \n",
    "     \n",
    "6. Deducción de una función de usuario de python, que permita determinar el número de rectángulos $n$ necesarios para una precisión de la suma de con trapecios de $\\epsilon = 0.0001$ (es decir, de tres cifras de precisión).   \n",
    "   \n",
    "7. Actividades de aprendizaje: que incluya pruebas de escritorio para los algoritmos en forma verbal y seudo código, diagrama de flujo, y la implementación del algoritmo en lenguaje python.  \n",
    "   \n",
    "8. Incluye una canción o un poema que ayude a interiorizar y fijar los conceptos asociados a esta clase.   \n",
    "   \n",
    "9.  Tarea o actividades de ejercitación y fijación. Incluye tareas en las que los estudiantes empiecen con la descripción geométrica del algoritmo, luego la descripción verbal y secuencial del algoritmo, después la implementación en lenguaje Python editado a través de la terminal Powershell de su computador y finalmente con el cálculo a mano y en su cuaderno para $n = 4$.  \n",
    "    \n",
    "10. Evaluación incluyendo diez proyectos, un ejemplo de quiz y un ejemplo de parcial. Incluye evaluaciones en las que los estudiantes empiecen con la descripción geométrica del algoritmo, luego la descripción verbal y secuencial del algoritmo, después la implementación en lenguaje Python editado a través de la terminal Powershell de su computador, y finalmente con el cálculo algebraico y numérico a mano y en su cuaderno para $n = 4$. \n",
    "    \n",
    "11. Diseño de actividad de retroalimentación.   \n",
    "    \n",
    "12. Dame un vocabulario y frases del idioma inglés asociadas a esta clase.    \n",
    "     \n",
    "13. Incluye apéndice para la clase sobre desarrollo de habilidades para trabajar en equipo y de asertividad y empatía para relacionarnos. También elementos de la inteligencia emocional para presentar pruebas sin temor y sin realizar fraude en ellas.    \n",
    "     \n",
    "14. Incluye 5 referentes en didáctica de la matemática que estén de acuerdo a la propuesta didáctica de esta clase. Adiciona a estos referentes a Raymond Duval (Representaciones y cambios de representación para la adquisición de conceptos matemáticos) y a Jannette Wing (Desarrollo del pensamiento computacional). Déjame todos estos referentes ordenados de acuerdo a las normas APA. Al crear la clase, introduce las citas de estos autores en el texto de la clase.\n",
    "\n",
    "\n",
    "Pero  que este diseño sea para que el estudiante pueda aprender experimentando en cuadernos Jupyter con funciones de usuario y animaciones y visualizaciones en Python.   \n",
    "\n",
    "En particular utiliza para el diseño de clase a Numpy, Pandas, SymPy, Matplotlib.pyplot, Seaborn, Plotly, ipywidgets, matplotlib.animation y Jupyter Notebook.    \n",
    "\n",
    "Cada vez que utilices `matplotlib.animacion` no olvides incluir el uso de `IPython. display` para la rederización de estas animaciones a través de Jupyter Notebook. No olvides darme los diseños de clase con las ecuaciones matemáticas delimitadas con signo de dolar $ para que VS Code si me renderize estas expresiones del lenguaje latex.   Cuando vallas a utilizar ipywidgets ten en cuenta la siguiente importación inicial para garantizar que la visualización interactiva si se renderize en VS Code:   \n",
    "\n",
    "import numpy as np  \n",
    "import matplotlib.pyplot as plt  \n",
    "import ipywidgets as widgets  \n",
    "from IPython.display import display, clear_output  \n",
    "from matplotlib.patches import Rectangle  \n",
    "\n",
    "# Configuración inicial para visualización estática  \n",
    "%matplotlib inline"
   ]
  },
  {
   "cell_type": "markdown",
   "id": "42797498",
   "metadata": {},
   "source": [
    "**Diseño de Clase Multimodal: Regla de Simpson para Integración Numérica en Ingeniería Agropecuaria**  \n",
    "*Integrando Aula Invertida, STEAMS y ABPP con Python*  \n",
    "\n",
    "---\n",
    "\n",
    "### **1. Título de la Clase**  \n",
    "*\"Aplicando la Regla de Simpson: Desde la Geometría hasta Python para Modelar Cultivos\"*  \n",
    "\n",
    "---\n",
    "\n",
    "### **2. Objetivos de Aprendizaje**  \n",
    "**Objetivo Principal:**  \n",
    "Aplicar la regla de Simpson para estimar integrales definidas en problemas de ingeniería agropecuaria, utilizando cuatro representaciones (geométrica, verbal, algebraica y computacional).  \n",
    "\n",
    "**Indicadores de Logro:**  \n",
    "- El estudiante explica geométricamente la regla de Simpson con dibujos y analogías agrícolas (ej: cálculo de área de cultivos).  \n",
    "- Implementa en Python el método usando `numpy` y `matplotlib` con error < 0.0001.  \n",
    "- Resuelve problemas reales (ej: cálculo de volumen de riego) usando la calculadora Casio 991LA.  \n",
    "- Justifica la elección del método frente a alternativas como el trapecio.  \n",
    "\n",
    "---\n",
    "\n",
    "### **3. Mapa Conceptual en Graphviz**  \n",
    "```python\n",
    "from graphviz import Digraph\n",
    "\n",
    "# Configurar grafo\n",
    "graph = Digraph(comment='Regla de Simpson', \n",
    "                graph_attr={'overlap': 'false', 'rankdir': 'LR', 'bgcolor': '#F0F8FF'})\n",
    "graph.attr('node', shape='box3d', style='filled', fillcolor='#E6E6FA')\n",
    "\n",
    "# Nodos principales\n",
    "graph.node('A', 'Regla de Simpson\\n(Thomas Simpson, 1743)', shape='ellipse', fillcolor='#98FB98')\n",
    "graph.node('B', 'Aplicaciones Agropecuarias\\n- Volumen de riego\\n- Área de cultivos', fillcolor='#FFD700')\n",
    "graph.node('C', 'Representaciones', fillcolor='#87CEEB')\n",
    "graph.node('D', 'Implementación Python\\n(numpy, matplotlib)', shape='component', fillcolor='#FFB6C1')\n",
    "\n",
    "# Subnodos representaciones\n",
    "with graph.subgraph(name='cluster_rep') as c:\n",
    "    c.attr(color='blue', label='Representaciones según Duval')\n",
    "    c.node('C1', 'Geométrica\\n(gráfica de parábolas)')\n",
    "    c.node('C2', 'Verbal\\n\"Dividir en segmentos pares...\"')\n",
    "    c.node('C3', 'Algebraica\\n$\\\\frac{h}{3}[f(x_0) + 4f(x_1) + f(x_2)]$')\n",
    "    c.node('C4', 'Código Python\\nfor k in range(n): ...')\n",
    "\n",
    "# Edges\n",
    "graph.edges(['AB', 'AC', 'AD'])\n",
    "graph.edge('C', 'C1', style='dashed')\n",
    "graph.edge('C', 'C2', style='dashed')\n",
    "graph.edge('C', 'C3', style='dashed')\n",
    "graph.edge('C', 'C4', style='dashed')\n",
    "graph.edge('D', 'B', label='Simulación', color='red')\n",
    "\n",
    "# Renderizar\n",
    "graph.render(directory='C:\\\\Users\\\\marco\\\\Descargas', filename='simpson_map', view=True, format='png')\n",
    "```\n",
    "\n",
    "---\n",
    "\n",
    "### **4. Historia Épica del Método**  \n",
    "*\"¡Oiga, mijito! Esto no es cuento de caminos, pero allá por 1743, un inglés medio loco llamado Thomas Simpson, que ni era matemático de academia, se le ocurrió juntar parábolas pa’ medir áreas. Imagínese, como esos surcos que hacemos pa’ sembrar yuca, pero con números. ¡Y funcionó! Hoy hasta la NASA lo usa... ¡y nosotros pa’ calcular cuánta agua necesita el arroz!\"*  \n",
    "**Imagen:** Dibujo estilo cómic de Simpson con sombrero aguadeño y una parábola como machete.  \n",
    "\n",
    "---\n",
    "\n",
    "### **5. Contenido de la Clase**  \n",
    "\n",
    "#### **5.1. Algoritmo Geométrico**  \n",
    "```python\n",
    "import matplotlib.pyplot as plt\n",
    "from matplotlib.animation import FuncAnimation\n",
    "from IPython.display import HTML\n",
    "\n",
    "def plot_simpson(f, a, b, n=2):\n",
    "    x = np.linspace(a, b, n*2+1)\n",
    "    y = f(x)\n",
    "    fig, ax = plt.subplots()\n",
    "    ax.plot(x, y, 'bo-')\n",
    "    \n",
    "    # Animación parábolas\n",
    "    for i in range(0, len(x)-2, 2):\n",
    "        x_parab = np.linspace(x[i], x[i+2], 100)\n",
    "        coeffs = np.polyfit(x[i:i+3], y[i:i+3], 2)\n",
    "        ax.plot(x_parab, np.polyval(coeffs, x_parab), 'r--')\n",
    "    \n",
    "    plt.title(f'Regla de Simpson (n={n})')\n",
    "    return HTML(fig.to_html5_video())\n",
    "```\n",
    "\n",
    "#### **5.2. Descripción Verbal**  \n",
    "\"Paso 1: Dividir el intervalo [a, b] en $2n$ segmentos iguales. Paso 2: En cada par de segmentos, ajustar una parábola. Paso 3: Sumar el área bajo todas las parábolas.\"  \n",
    "\n",
    "#### **5.3. Código Python**  \n",
    "```python\n",
    "def simpson(f, a, b, n):\n",
    "    h = (b - a) / (2*n)\n",
    "    x = np.linspace(a, b, 2*n+1)\n",
    "    y = f(x)\n",
    "    return (h/3) * (y[0] + 4*np.sum(y[1:-1:2]) + 2*np.sum(y[2:-2:2]) + y[-1])\n",
    "```\n",
    "\n",
    "#### **5.4. Formulación Algebraica**  \n",
    "$$ \\int_a^b f(x)dx \\approx \\frac{h}{3} \\left[ f(x_0) + 4\\sum_{k=1}^{n} f(x_{2k-1}) + 2\\sum_{k=1}^{n-1} f(x_{2k}) + f(x_{2n}) \\right] $$  \n",
    "\n",
    "**Implementación en Casio 991LA:**  \n",
    "1. Ingresar puntos manuales con `MODE` → `TABLE`.  \n",
    "2. Aplicar fórmula manualmente con coeficientes 1-4-2-4-...-1.  \n",
    "\n",
    "---\n",
    "\n",
    "### **6. Función para Calcular $n$ con Precisión**  \n",
    "```python\n",
    "def calcular_n_trapecios(f, a, b, epsilon=0.0001):\n",
    "    n = 1\n",
    "    error = epsilon + 1\n",
    "    while error > epsilon:\n",
    "        n *= 2\n",
    "        integral_n = simpson(f, a, b, n)\n",
    "        integral_2n = simpson(f, a, b, 2*n)\n",
    "        error = abs(integral_n - integral_2n)\n",
    "    return n\n",
    "```\n",
    "\n",
    "---\n",
    "\n",
    "### **7. Actividades de Aprendizaje**  \n",
    "**Prueba de Escritorio:**  \n",
    "- Dado $f(x) = x^2$ en [0, 2], calcular manualmente con $n=2$.  \n",
    "**Diagrama de Flujo:**  \n",
    "```mermaid\n",
    "graph TD\n",
    "A[Inicio] --> B[Leer a, b, n]\n",
    "B --> C[Calcular h = (b-a)/n]\n",
    "C --> D[Inicializar suma = f(a) + f(b)]\n",
    "D --> E[Iterar i de 1 a n-1]\n",
    "E --> F{¿i par?}\n",
    "F -->|Sí| G[suma += 2*f(a + i*h)]\n",
    "F -->|No| H[suma += 4*f(a + i*h)]\n",
    "G --> I\n",
    "H --> I\n",
    "I --> J[¿Fin?]\n",
    "J -->|No| E\n",
    "J -->|Sí| K[Resultado = h/3 * suma]\n",
    "K --> L[Fin]\n",
    "```\n",
    "\n",
    "---\n",
    "\n",
    "### **8. Canción de la Integración**  \n",
    "*\"Dividir en partes iguales,  \n",
    "parábolas van a unir,  \n",
    "con coeﬁcientes 1-4-1,  \n",
    "¡Simpson nos hace reír!  \n",
    "Si el error quieres controlar,  \n",
    "duplica n y compara al final.\"*  \n",
    "\n",
    "---\n",
    "\n",
    "### **9. Tarea**  \n",
    "1. **Geométrica:** Dibujar 4 parábolas sobre $f(x) = \\sin(x)$ en [0, π].  \n",
    "2. **Verbal:** Grabar un audio explicando los pasos.  \n",
    "3. **Python:** Implementar en Jupyter con `n=4` usando PowerShell:  \n",
    "```powershell\n",
    "jupyter notebook simpson.ipynb\n",
    "```\n",
    "4. **Algebraica:** Calcular manualmente $\\int_0^2 x^3 dx$ con $n=4$.  \n",
    "\n",
    "---\n",
    "\n",
    "### **10. Evaluación**  \n",
    "**Proyecto 3:** *\"Calcular el volumen de agua en un canal de riego usando perfiles parabólicos.\"*  \n",
    "**Quiz Ejemplo:**  \n",
    "```python\n",
    "# ¿Cuál es el coeficiente de f(x_1) cuando n=2?\n",
    "# a) 1, b) 4, c) 2 → Respuesta: b\n",
    "```\n",
    "\n",
    "---\n",
    "\n",
    "### **11. Retroalimentación**  \n",
    "**Técnica:** *\"Taller de errores\"* donde los estudiantes analizan casos fallidos con `numpy.gradient` para ver divergencias.  \n",
    "\n",
    "---\n",
    "\n",
    "### **12. Vocabulario en Inglés**  \n",
    "- **Trapezoidal Rule:** Regla del trapecio  \n",
    "- **Parabola:** Parábola  \n",
    "- **Coefficient:** Coeficiente  \n",
    "- **Accuracy:** Precisión  \n",
    "\n",
    "---\n",
    "\n",
    "### **13. Apéndice: Habilidades Blandas**  \n",
    "- **Trabajo en Equipo:** Asignar roles en proyectos (ej: \"codificador\", \"verificador analítico\").  \n",
    "- **Inteligencia Emocional:** Ejercicios de respiración antes de exámenes.  \n",
    "\n",
    "---\n",
    "\n",
    "### **14. Referentes Didácticos (APA)**  \n",
    "1. Duval, R. (1999). *Semiosis y pensamiento humano*. Universidad de Valencia.  \n",
    "2. Wing, J. M. (2006). *Computational Thinking*. Communications of the ACM.  \n",
    "3. Polya, G. (1945). *How to Solve It*. Princeton University Press.  \n",
    "4. Schoenfeld, A. H. (1985). *Mathematical Problem Solving*. Academic Press.  \n",
    "5. Hiebert, J. (1986). *Conceptual and Procedural Knowledge*. Erlbaum.  \n",
    "\n",
    "**Cita en Texto:** *\"Como señala Duval (1999), la coordinación de representaciones es clave para la comprensión matemática\"*.  \n",
    "\n",
    "```python\n",
    "# Ejemplo de widget interactivo\n",
    "def update(n=2):\n",
    "    clear_output(wait=True)\n",
    "    display(plot_simpson(lambda x: np.sin(x), 0, np.pi, n))\n",
    "\n",
    "widgets.interact(update, n=(2, 10, 2));\n",
    "```"
   ]
  },
  {
   "cell_type": "markdown",
   "id": "fb9402bb",
   "metadata": {
    "slideshow": {
     "slide_type": "slide"
    }
   },
   "source": [
    "## Estrategias propuestas para la solución de las dificultades de aprendizaje detectadas"
   ]
  },
  {
   "cell_type": "markdown",
   "id": "2dd3bd5c",
   "metadata": {
    "slideshow": {
     "slide_type": "slide"
    }
   },
   "source": []
  },
  {
   "cell_type": "markdown",
   "id": "c6236d5d",
   "metadata": {},
   "source": [
    "# FODA del grupo y del profesor  \n",
    "\n",
    "* F: Fortalezas\n",
    "* O: Oportunidades\n",
    "* D: Dificultades\n",
    "* A: Amenazas."
   ]
  },
  {
   "cell_type": "markdown",
   "id": "b48f9542",
   "metadata": {},
   "source": [
    "## ¿Cómo se sintió en este espacio de enseñanza y aprendizaje?\n",
    "\n",
    "!Dios te bendiga¡"
   ]
  },
  {
   "cell_type": "markdown",
   "id": "10bce0d0",
   "metadata": {
    "slideshow": {
     "slide_type": "slide"
    }
   },
   "source": [
    "## Referentes "
   ]
  },
  {
   "cell_type": "markdown",
   "id": "d204c917",
   "metadata": {},
   "source": [
    "* [Grajales Vanegas, L. M., Restrepo Estrada, C. E., Restrepo Ochoa, S. I., & Ruíz De Villalba, F. (2015). Matemáticas I para las ciencias económicas.](https://github.com/marco-canas/fundamentos_de_la_aritmetica/blob/main/referentes/2_grajales_logica/grajales_lina_matemticas.pdf)\n",
    "  \n",
    "* Duval, R. (2004). Semiosis y pensamiento humano: registros semióticos y aprendizajes intelectuales. Universidad del Valle.\n",
    "\n",
    "* [Aylwin, C. U. (2011). Lógica, conjuntos y números. Universidad de los Andes, Consejo de Publicaciones, Colección: Ciencias Básicas, Serie: Matemáticas.](https://github.com/marco-canas/fundamentos_logica/blob/main/referentes/2_uzcategui/uscategui.pdf)\n",
    "  \n",
    "* [Chollet, F. (2021). Deep learning with Python. Simon and Schuster.](https://github.com/marco-canas/didactica_ciencia_datos/blob/main/2_referentes/chollet/Fran%C3%A7ois%20Chollet%20-%20Deep%20Learning%20with%20Python-Manning%20(2018).pdf)  \n",
    "  \n",
    "* [Watson, S., Stewart, J., & Redlin, L. (2009). Precálculo. Matemáticas para el cálculo.](https://github.com/marco-canas/calculo/blob/main/referents/1_precalculo_stewart/stewart_precalculo.pdf)  \n",
    "\n",
    "* [Purcell, E. J., Varberg, D., & Rigdon, S. E. (2007). Cálculo diferencial e integral. Pearson Educación.](https://github.com/marco-canas/calculo/blob/main/referents/purcell/purcell_calculo.pdf)\n",
    "\n",
    "  \n",
    "\n",
    "* [stewart cálculo](https://udeaeduco-my.sharepoint.com/:b:/g/personal/marco_canas_udea_edu_co/EZgXZjAp8QxPqOAim2hs6LcBNPLGjSHf-xwYnUVYkwa04w?e=RZdTCy)  \n",
    "\n",
    "* [larson](https://udeaeduco-my.sharepoint.com/:b:/g/personal/marco_canas_udea_edu_co/ES71ChFeO9ZDhW3TwC5Ijk8BjxUK3Pdqz_fjHxTTFAfIAg?e=VDEjfu)\n",
    "\n",
    "\n",
    "\n",
    "* [Recomendación de la UNESCO sobre ciencia abierta](https://unesdoc.unesco.org/ark:/48223/pf0000379949_spa)\n",
    "\n",
    "* [chatGPT](https://openai.com/blog/chatgpt)  \n",
    "\n",
    "* [Géron, A. (2017). Hands-on machine learning with scikit-learn and tensorflow: Concepts. Tools, and Techniques to build intelligent systems.](chrome-extension://efaidnbmnnnibpcajpcglclefindmkaj/http://14.139.161.31/OddSem-0822-1122/Hands-On_Machine_Learning_with_Scikit-Learn-Keras-and-TensorFlow-2nd-Edition-Aurelien-Geron.pdf)   \n"
   ]
  },
  {
   "cell_type": "markdown",
   "id": "6b9e56a8",
   "metadata": {
    "slideshow": {
     "slide_type": "slide"
    }
   },
   "source": [
    "### [Evaluamos al profesor Marco Cañas Aquí](https://forms.office.com/Pages/ResponsePage.aspx?id=IefhmYRxjkmK_7KtTlPBwkanXIs1i1FEujpsZgO6dXpUREJPV1kxUk1JV1ozTFJIQVNIQjY5WEY3US4u)"
   ]
  },
  {
   "cell_type": "markdown",
   "id": "071afa04",
   "metadata": {
    "slideshow": {
     "slide_type": "slide"
    }
   },
   "source": [
    "## [Evaluación luego de alcanzar estos objetivos de aprendizaje]()"
   ]
  },
  {
   "cell_type": "markdown",
   "id": "10f43536",
   "metadata": {
    "slideshow": {
     "slide_type": "slide"
    }
   },
   "source": [
    "### Continue su aprendizaje en la siguiente clase a través del siguiente [vínculo]()"
   ]
  },
  {
   "cell_type": "markdown",
   "id": "af751e30",
   "metadata": {
    "slideshow": {
     "slide_type": "slide"
    }
   },
   "source": [
    "# Conjeturas pedagógicas fruto de la aplicación del modelo de aprendizaje invertido y del enfoque hacia la ciencia de datos con python\n",
    "\n",
    "1. Todo cálculo o resultado debe ser interpretado en una línea markdown del cuaderno Jupyter, inmediatamente después de la enunciación del resultado y después de la presentación de una tabla o gráfico bidimensional, de tal menera que el estudiante explicite la comprensión verbal del resultado y las inferencias o estrategias que este resultado le sugieren.   "
   ]
  }
 ],
 "metadata": {
  "celltoolbar": "Slideshow",
  "kernelspec": {
   "display_name": "Python 3 (ipykernel)",
   "language": "python",
   "name": "python3"
  },
  "language_info": {
   "codemirror_mode": {
    "name": "ipython",
    "version": 3
   },
   "file_extension": ".py",
   "mimetype": "text/x-python",
   "name": "python",
   "nbconvert_exporter": "python",
   "pygments_lexer": "ipython3",
   "version": "3.10.12"
  },
  "rise": {
   "enable_chalkboard": true,
   "theme": "sky",
   "transition": "zoom"
  }
 },
 "nbformat": 4,
 "nbformat_minor": 5
}
