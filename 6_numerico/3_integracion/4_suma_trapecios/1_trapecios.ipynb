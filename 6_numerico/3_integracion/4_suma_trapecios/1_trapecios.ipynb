{
 "cells": [
  {
   "cell_type": "markdown",
   "id": "dc06dec7",
   "metadata": {
    "slideshow": {
     "slide_type": "slide"
    }
   },
   "source": [
    "<table align=\"left\">\n",
    "  <td>\n",
    "    <a href=\"https://colab.research.google.com/github/ageron/handson-ml3/blob/main/tools_numpy.ipynb\" target=\"_parent\"><img src=\"https://colab.research.google.com/assets/colab-badge.svg\" alt=\"Open In Colab\"/></a>\n",
    "  </td>\n",
    "  <td>\n",
    "    <a target=\"_blank\" href=\"https://kaggle.com/kernels/welcome?src=https://github.com/ageron/handson-ml3/blob/main/tools_numpy.ipynb\"><img src=\"https://kaggle.com/static/images/open-in-kaggle.svg\" /></a>\n",
    "  </td>\n",
    "</table>"
   ]
  },
  {
   "cell_type": "markdown",
   "id": "e0c5b198",
   "metadata": {
    "slideshow": {
     "slide_type": "slide"
    }
   },
   "source": [
    "### [Video de apoyo a la lectura interactiva y experimental de este cuaderno]()"
   ]
  },
  {
   "cell_type": "markdown",
   "id": "41e82203",
   "metadata": {
    "slideshow": {
     "slide_type": "slide"
    }
   },
   "source": [
    "### [Vínculo al programa del curso:  ]()\n",
    "\n"
   ]
  },
  {
   "cell_type": "markdown",
   "id": "d11ab06d",
   "metadata": {
    "slideshow": {
     "slide_type": "slide"
    }
   },
   "source": [
    "Un reconocimiento a mis estudiantes que han construido conmigo este saber pedagógico:\n",
    "\n",
    "<img src = ''> \n",
    "\n"
   ]
  },
  {
   "cell_type": "markdown",
   "id": "8a74a56c-0ce6-4ad6-b985-553fd7fb68bb",
   "metadata": {},
   "source": [
    "Reconocimiento a las profesoras destacadas en enseñanza de la matemática en Colombia\n"
   ]
  },
  {
   "cell_type": "code",
   "execution_count": 2,
   "id": "7604880f",
   "metadata": {
    "slideshow": {
     "slide_type": "slide"
    }
   },
   "outputs": [
    {
     "ename": "ValueError",
     "evalue": "Excel file format cannot be determined, you must specify an engine manually.",
     "output_type": "error",
     "traceback": [
      "\u001b[31m---------------------------------------------------------------------------\u001b[39m",
      "\u001b[31mValueError\u001b[39m                                Traceback (most recent call last)",
      "\u001b[36mCell\u001b[39m\u001b[36m \u001b[39m\u001b[32mIn[2]\u001b[39m\u001b[32m, line 6\u001b[39m\n\u001b[32m      4\u001b[39m \u001b[38;5;66;03m# Cargar la lista de estudiantes desde el archivo CSV\u001b[39;00m\n\u001b[32m      5\u001b[39m path = \u001b[33m'\u001b[39m\u001b[33mC:/Users/marco/Documentos/docencia/groups_list/numerico.xlsx\u001b[39m\u001b[33m'\u001b[39m\n\u001b[32m----> \u001b[39m\u001b[32m6\u001b[39m estudiantes = \u001b[43mpd\u001b[49m\u001b[43m.\u001b[49m\u001b[43mread_excel\u001b[49m\u001b[43m(\u001b[49m\u001b[43mpath\u001b[49m\u001b[43m)\u001b[49m\n\u001b[32m      7\u001b[39m estudiantes.head() \n",
      "\u001b[36mFile \u001b[39m\u001b[32mc:\\Users\\marco\\Documentos\\docencia\\radicacion_vectorial_numerico\\.venv\\Lib\\site-packages\\pandas\\io\\excel\\_base.py:495\u001b[39m, in \u001b[36mread_excel\u001b[39m\u001b[34m(io, sheet_name, header, names, index_col, usecols, dtype, engine, converters, true_values, false_values, skiprows, nrows, na_values, keep_default_na, na_filter, verbose, parse_dates, date_parser, date_format, thousands, decimal, comment, skipfooter, storage_options, dtype_backend, engine_kwargs)\u001b[39m\n\u001b[32m    493\u001b[39m \u001b[38;5;28;01mif\u001b[39;00m \u001b[38;5;129;01mnot\u001b[39;00m \u001b[38;5;28misinstance\u001b[39m(io, ExcelFile):\n\u001b[32m    494\u001b[39m     should_close = \u001b[38;5;28;01mTrue\u001b[39;00m\n\u001b[32m--> \u001b[39m\u001b[32m495\u001b[39m     io = \u001b[43mExcelFile\u001b[49m\u001b[43m(\u001b[49m\n\u001b[32m    496\u001b[39m \u001b[43m        \u001b[49m\u001b[43mio\u001b[49m\u001b[43m,\u001b[49m\n\u001b[32m    497\u001b[39m \u001b[43m        \u001b[49m\u001b[43mstorage_options\u001b[49m\u001b[43m=\u001b[49m\u001b[43mstorage_options\u001b[49m\u001b[43m,\u001b[49m\n\u001b[32m    498\u001b[39m \u001b[43m        \u001b[49m\u001b[43mengine\u001b[49m\u001b[43m=\u001b[49m\u001b[43mengine\u001b[49m\u001b[43m,\u001b[49m\n\u001b[32m    499\u001b[39m \u001b[43m        \u001b[49m\u001b[43mengine_kwargs\u001b[49m\u001b[43m=\u001b[49m\u001b[43mengine_kwargs\u001b[49m\u001b[43m,\u001b[49m\n\u001b[32m    500\u001b[39m \u001b[43m    \u001b[49m\u001b[43m)\u001b[49m\n\u001b[32m    501\u001b[39m \u001b[38;5;28;01melif\u001b[39;00m engine \u001b[38;5;129;01mand\u001b[39;00m engine != io.engine:\n\u001b[32m    502\u001b[39m     \u001b[38;5;28;01mraise\u001b[39;00m \u001b[38;5;167;01mValueError\u001b[39;00m(\n\u001b[32m    503\u001b[39m         \u001b[33m\"\u001b[39m\u001b[33mEngine should not be specified when passing \u001b[39m\u001b[33m\"\u001b[39m\n\u001b[32m    504\u001b[39m         \u001b[33m\"\u001b[39m\u001b[33man ExcelFile - ExcelFile already has the engine set\u001b[39m\u001b[33m\"\u001b[39m\n\u001b[32m    505\u001b[39m     )\n",
      "\u001b[36mFile \u001b[39m\u001b[32mc:\\Users\\marco\\Documentos\\docencia\\radicacion_vectorial_numerico\\.venv\\Lib\\site-packages\\pandas\\io\\excel\\_base.py:1554\u001b[39m, in \u001b[36mExcelFile.__init__\u001b[39m\u001b[34m(self, path_or_buffer, engine, storage_options, engine_kwargs)\u001b[39m\n\u001b[32m   1550\u001b[39m     ext = inspect_excel_format(\n\u001b[32m   1551\u001b[39m         content_or_path=path_or_buffer, storage_options=storage_options\n\u001b[32m   1552\u001b[39m     )\n\u001b[32m   1553\u001b[39m     \u001b[38;5;28;01mif\u001b[39;00m ext \u001b[38;5;129;01mis\u001b[39;00m \u001b[38;5;28;01mNone\u001b[39;00m:\n\u001b[32m-> \u001b[39m\u001b[32m1554\u001b[39m         \u001b[38;5;28;01mraise\u001b[39;00m \u001b[38;5;167;01mValueError\u001b[39;00m(\n\u001b[32m   1555\u001b[39m             \u001b[33m\"\u001b[39m\u001b[33mExcel file format cannot be determined, you must specify \u001b[39m\u001b[33m\"\u001b[39m\n\u001b[32m   1556\u001b[39m             \u001b[33m\"\u001b[39m\u001b[33man engine manually.\u001b[39m\u001b[33m\"\u001b[39m\n\u001b[32m   1557\u001b[39m         )\n\u001b[32m   1559\u001b[39m engine = config.get_option(\u001b[33mf\u001b[39m\u001b[33m\"\u001b[39m\u001b[33mio.excel.\u001b[39m\u001b[38;5;132;01m{\u001b[39;00mext\u001b[38;5;132;01m}\u001b[39;00m\u001b[33m.reader\u001b[39m\u001b[33m\"\u001b[39m, silent=\u001b[38;5;28;01mTrue\u001b[39;00m)\n\u001b[32m   1560\u001b[39m \u001b[38;5;28;01mif\u001b[39;00m engine == \u001b[33m\"\u001b[39m\u001b[33mauto\u001b[39m\u001b[33m\"\u001b[39m:\n",
      "\u001b[31mValueError\u001b[39m: Excel file format cannot be determined, you must specify an engine manually."
     ]
    }
   ],
   "source": [
    "import pandas as pd\n",
    "import numpy as np\n",
    "\n",
    "# Cargar la lista de estudiantes desde el archivo CSV\n",
    "path = 'C:/Users/marco/Documentos/docencia/groups_list/numerico.xlsx'\n",
    "estudiantes = pd.read_excel(path)\n",
    "estudiantes.head() \n"
   ]
  },
  {
   "cell_type": "code",
   "execution_count": null,
   "id": "72fbe36b",
   "metadata": {},
   "outputs": [],
   "source": [
    "\n",
    "# Convertir la columna 'Nombre' a una lista de Python\n",
    "lista_estudiantes = estudiantes['Nombre'].tolist()\n",
    "\n",
    "# Función para llamar a un estudiante aleatoriamente y registrar su nota de seguimiento\n",
    "def asistencia():\n",
    "    global lista_estudiantes\n",
    "    if lista_estudiantes:\n",
    "        estudiante_aleatorio = np.random.choice(lista_estudiantes)\n",
    "        print(f\"Llamando a {estudiante_aleatorio}...\")\n",
    "        asistencia = input(f\"¿Asistió {estudiante_aleatorio}? (s/n): \").strip().lower()\n",
    "        \n",
    "        # Validación de entrada\n",
    "        if asistencia == 's':\n",
    "            # Obtener el índice del estudiante en el DataFrame\n",
    "            indice = estudiantes[estudiantes['Nombre'] == estudiante_aleatorio].index[0]\n",
    "            # Incrementar su valor en la columna 'Parcial'\n",
    "            estudiantes.at[indice, 'Parcial'] += 0.3\n",
    "            print(f\"Actualizado: {estudiante_aleatorio} ahora tiene {estudiantes.at[indice, 'Parcial']} en la columna 'Parcial'.\")\n",
    "        \n",
    "        elif asistencia != 'n':\n",
    "            print(\"Entrada inválida. Por favor, introduce 's' para sí o 'n' para no.\")\n",
    "            return  # Volver a preguntar para el mismo estudiante si la entrada es inválida\n",
    "        \n",
    "        # Remover al estudiante de la lista para no llamarlo de nuevo\n",
    "        lista_estudiantes.remove(estudiante_aleatorio)\n",
    "    else:\n",
    "        print(\"Se han llamado a todos los estudiantes del grupo completo.\")\n",
    "\n",
    "# Función para guardar cambios al final de la sesión\n",
    "def guardar_cambios():\n",
    "    estudiantes.to_csv(path, index=False)\n",
    "    print(\"Cambios guardados en el archivo CSV.\")\n",
    "\n",
    "# Ejemplo de uso\n",
    "while lista_estudiantes:\n",
    "    asistencia()\n",
    "\n",
    "# Guardar los cambios una vez que todos los estudiantes hayan sido llamados\n",
    "guardar_cambios()\n",
    "\n"
   ]
  },
  {
   "cell_type": "markdown",
   "id": "d7598d0a-d9b7-4ae0-b029-a0ed6ed1130b",
   "metadata": {},
   "source": [
    "\n",
    "# Principios de mi labor docente"
   ]
  },
  {
   "cell_type": "markdown",
   "id": "4f9d8cf9",
   "metadata": {
    "slideshow": {
     "slide_type": "slide"
    }
   },
   "source": [
    "## Modelo general de clase: [aula invertida](https://www3.gobiernodecanarias.org/medusa/ecoescuela/pedagotic/aprendizaje-invertido-flipped-classroom/)"
   ]
  },
  {
   "cell_type": "markdown",
   "id": "eb6ed03a",
   "metadata": {},
   "source": [
    "<img src = 'https://resources.maneuveringthemiddle.com/wp-content/uploads/2020/07/04212706/1-5.png' width = 200>  \n",
    "\n"
   ]
  },
  {
   "cell_type": "markdown",
   "id": "34319cce-a71b-4f64-aab8-b53e521efa40",
   "metadata": {},
   "source": [
    "# Metodología de enseñanza basada en problemas (ABP)\n"
   ]
  },
  {
   "cell_type": "markdown",
   "id": "c4f73d81",
   "metadata": {},
   "source": [
    "\n",
    "<img src = 'https://www.unir.net/wp-content/uploads/2020/07/aprendizaje-problemas2-1-1-1-1.jpeg' width = 200>"
   ]
  },
  {
   "cell_type": "markdown",
   "id": "841a985c-bd9b-4dd3-8e4c-893983980af2",
   "metadata": {},
   "source": [
    "# Desarrollo del pensamiento computacional con Lenguaje Python y Mardown y con archivos .ipynb y .md Markdown orientado a la formación en ciencia de datos \n",
    "\n"
   ]
  },
  {
   "cell_type": "markdown",
   "id": "3d0eba94",
   "metadata": {},
   "source": [
    "\n",
    "<img src = 'https://i.ytimg.com/vi/mcG_wcR4e6M/maxresdefault.jpg' width = 200>"
   ]
  },
  {
   "cell_type": "markdown",
   "id": "65aa0404-f7ae-495e-864c-1aec01b4255e",
   "metadata": {},
   "source": [
    "# Principio de fomento a la ciencia abierta, enseñar en el acceso a los datos públicos y el uso de software de código abierto  \n"
   ]
  },
  {
   "cell_type": "markdown",
   "id": "18ae9b87",
   "metadata": {},
   "source": [
    "\n",
    "<img src = 'https://unesdoc.unesco.org/in/rest/Thumb/image?id=p%3A%3Ausmarcdef_0000379949_spa&author=UNESCO&title=Recomendaci%C3%B3n+de+la+UNESCO+sobre+la+Ciencia+Abierta&year=2021&publisher=UNESCO&TypeOfDocument=UnescoPhysicalDocument&mat=PGD&ct=true&size=512&isPhysical=1' width = 200>"
   ]
  },
  {
   "cell_type": "markdown",
   "id": "d9559f85",
   "metadata": {},
   "source": [
    "El enfoque STEAMS en educación preescolar, primaria y secundaria es una extensión del enfoque STEM (Ciencia, Tecnología, Ingeniería y Matemáticas) y su variante STEAM, que incorpora el Arte. "
   ]
  },
  {
   "cell_type": "markdown",
   "id": "72e1cfd2",
   "metadata": {},
   "source": [
    "El acrónimo STEAMS incluye:\n"
   ]
  },
  {
   "cell_type": "markdown",
   "id": "03182fd1",
   "metadata": {},
   "source": [
    "\n",
    "1. **Science (Ciencia):** Fomenta la curiosidad por el mundo natural y el desarrollo de habilidades científicas, como la observación, experimentación y análisis.\n"
   ]
  },
  {
   "cell_type": "markdown",
   "id": "1306d0fa",
   "metadata": {},
   "source": [
    "\n",
    "2. **Technology (Tecnología):** Integra herramientas tecnológicas para potenciar el aprendizaje y la resolución de problemas, promoviendo la alfabetización digital desde edades tempranas.\n"
   ]
  },
  {
   "cell_type": "markdown",
   "id": "3b1a53e8",
   "metadata": {},
   "source": [
    "\n",
    "3. **Engineering (Ingeniería):** Introduce el pensamiento lógico y la resolución de problemas estructurados, fomentando habilidades como el diseño y la construcción de soluciones.\n"
   ]
  },
  {
   "cell_type": "markdown",
   "id": "0196de87",
   "metadata": {},
   "source": [
    "\n",
    "4. **Arts (Arte):** Añade creatividad y pensamiento crítico, permitiendo a los estudiantes expresarse y explorar el aprendizaje a través de formas artísticas (plásticas, música, teatro).\n"
   ]
  },
  {
   "cell_type": "markdown",
   "id": "8bcc485a",
   "metadata": {},
   "source": [
    "\n",
    "5. **Mathematics (Matemáticas):** Refuerza las habilidades numéricas y el razonamiento lógico, fundamentales en la resolución de problemas y comprensión de conceptos abstractos.\n"
   ]
  },
  {
   "cell_type": "markdown",
   "id": "907935f4",
   "metadata": {},
   "source": [
    "\n",
    "6. **Social Sciences (Ciencias Sociales):** Incorpora la comprensión del entorno social, político, cultural y económico, promoviendo el desarrollo de la conciencia crítica sobre el mundo y su historia, además de habilidades de empatía y ciudadanía.\n"
   ]
  },
  {
   "cell_type": "markdown",
   "id": "39967d63",
   "metadata": {},
   "source": [
    "\n",
    "El enfoque STEAMS pretende desarrollar un aprendizaje **interdisciplinario** que integre estas áreas para fomentar un pensamiento más holístico y práctico. "
   ]
  },
  {
   "cell_type": "markdown",
   "id": "5145f077",
   "metadata": {},
   "source": [
    "Se busca que los estudiantes no solo aprendan conocimientos técnicos, sino también cómo aplicarlos creativa y críticamente en situaciones reales, promoviendo habilidades como el trabajo en equipo, la comunicación y la innovación. "
   ]
  },
  {
   "cell_type": "markdown",
   "id": "9d556584",
   "metadata": {},
   "source": [
    "En educación preescolar, primaria, secundaria y superior, se adapta a las diferentes etapas de desarrollo cognitivo y emocional de los estudiantes, promoviendo el aprendizaje activo y contextualizado.  \n"
   ]
  },
  {
   "cell_type": "markdown",
   "id": "0130ec1b",
   "metadata": {},
   "source": [
    "\n",
    "<img src = 'https://www.campuseducacion.com/blog/wp-content/uploads/2023/03/foto01-1.jpg' width = 200>"
   ]
  },
  {
   "cell_type": "markdown",
   "id": "9d15c10d-2c02-4158-9419-b1ed79b4c1ee",
   "metadata": {},
   "source": [
    "# Qué estamos haciendo por la internalización en esta clase y este curso  \n"
   ]
  },
  {
   "cell_type": "markdown",
   "id": "6e4feef2",
   "metadata": {},
   "source": [
    "Estas son mis acciones como docente de matemáticas en la Universidad de Antioquia con miras a la **internacionalización** de mi práctica docente y el desarrollo de competencias internacionales para mis estudiantes, ls cuales he estructurado con el siguiente enfoque:\n"
   ]
  },
  {
   "cell_type": "markdown",
   "id": "964d9de7-53ee-4255-9bcd-d8e6454f2993",
   "metadata": {},
   "source": [
    "### 1. **Visión Global en la Formación Académica**\n"
   ]
  },
  {
   "cell_type": "markdown",
   "id": "d9bdd3e2",
   "metadata": {},
   "source": [
    "   - **Competencias Internacionales**: Asegúrate de que el contenido de tus cursos fomente habilidades que sean reconocidas globalmente. "
   ]
  },
  {
   "cell_type": "markdown",
   "id": "146d4391",
   "metadata": {},
   "source": [
    "Al educar a los estudiantes en **Python, LaTeX, Markdown y Jupyter Notebooks** y en la **introducción a la ciencia de datos y técnicas de Machine Learning**, estás proporcionando competencias altamente demandadas en los sectores tecnológicos y académicos a nivel internacional.\n"
   ]
  },
  {
   "cell_type": "markdown",
   "id": "39b55206",
   "metadata": {},
   "source": [
    "   - **Relevancia de los Contenidos**: Destaca cómo los temas que enseñas, como el **desarrollo del pensamiento computacional** y la **ciencia de datos**, están alineados con las necesidades globales actuales en diversas industrias, desde la tecnología hasta las ciencias naturales y sociales.\n"
   ]
  },
  {
   "cell_type": "markdown",
   "id": "a054599e",
   "metadata": {},
   "source": [
    "   - **Referencias a Estándares Internacionales**: Puedes vincular tu enseñanza a estándares internacionales de competencias en programación y ciencia de datos (por ejemplo, frameworks del **IEEE, ACM**, y estándares de la **data science** o la **computación en la nube**)."
   ]
  },
  {
   "cell_type": "markdown",
   "id": "0f1d110c-3142-48fe-9e7d-5fbd9e8bb931",
   "metadata": {},
   "source": [
    "### 2. **Innovación Pedagógica con Enfoque Internacional**\n"
   ]
  },
  {
   "cell_type": "markdown",
   "id": "fae6ae34",
   "metadata": {},
   "source": [
    "   - **Aula Invertida y ABP**: Presenta cómo tu enfoque de **aula invertida** y **aprendizaje basado en problemas (ABP)** permite a los estudiantes trabajar de manera autónoma y colaborativa, lo que los prepara para escenarios laborales internacionales que requieren autoaprendizaje y habilidades de resolución de problemas en equipo.\n"
   ]
  },
  {
   "cell_type": "markdown",
   "id": "c83062d9",
   "metadata": {},
   "source": [
    "   - **Uso de Jupyter Notebooks**: El uso de **Jupyter Notebooks** en tus clases no solo facilita la **integración de código, matemáticas y texto**, sino que también es una plataforma utilizada globalmente en ambientes académicos y profesionales, lo que hace a tus estudiantes más competitivos internacionalmente."
   ]
  },
  {
   "cell_type": "markdown",
   "id": "960d52b7-03cd-4eb3-965e-5cdfeb7d9f8e",
   "metadata": {},
   "source": [
    "### 3. **Tecnología y Herramientas de Uso Global**\n"
   ]
  },
  {
   "cell_type": "markdown",
   "id": "4be7269f",
   "metadata": {},
   "source": [
    "   - **Lenguaje Python**: Python es uno de los lenguajes de programación más usados a nivel mundial, tanto en la academia como en la industria. "
   ]
  },
  {
   "cell_type": "markdown",
   "id": "5abb1c38",
   "metadata": {},
   "source": [
    "Al formar a tus estudiantes en Python para ciencia de datos y machine learning, los preparas para operar en entornos tecnológicos globales.\n"
   ]
  },
  {
   "cell_type": "markdown",
   "id": "102655af",
   "metadata": {},
   "source": [
    "   - **Herramientas de Ciencia Abierta**: Resalta cómo herramientas como **GitHub**, **Google Colab** y otras plataformas de código abierto están alineadas con el movimiento de **ciencia abierta**, el cual es internacionalmente reconocido y permite que los estudiantes colaboren y compartan proyectos a nivel global."
   ]
  },
  {
   "cell_type": "markdown",
   "id": "3b2ffa32-7a6f-4545-ba7b-c6a69f51109f",
   "metadata": {},
   "source": [
    "### 4. **Investigación y Publicaciones Internacionales**\n"
   ]
  },
  {
   "cell_type": "markdown",
   "id": "bdbf52a5",
   "metadata": {},
   "source": [
    "   - **Promoción de la Investigación**: Detalla cómo promueves que tus estudiantes participen en proyectos de **investigación aplicada**, con posibilidad de publicación en revistas internacionales. "
   ]
  },
  {
   "cell_type": "markdown",
   "id": "e025ff8c",
   "metadata": {},
   "source": [
    "Esto contribuye a la reputación internacional de la Universidad de Antioquia.\n"
   ]
  },
  {
   "cell_type": "markdown",
   "id": "ea01fcbc",
   "metadata": {},
   "source": [
    "   - **Colaboraciones Internacionales**: Si has colaborado con investigadores de otras instituciones o universidades en el extranjero, menciona estos proyectos y cómo han enriquecido tu enseñanza y proporcionado a los estudiantes una visión más globalizada."
   ]
  },
  {
   "cell_type": "markdown",
   "id": "5d1e396e-aece-4bf7-9421-32fa7809eaf4",
   "metadata": {},
   "source": [
    "## 5. **Uso del Inglés para la Internacionalización**\n"
   ]
  },
  {
   "cell_type": "markdown",
   "id": "29cabf26",
   "metadata": {},
   "source": [
    "   - **Comunicación Científica en Inglés**: "
   ]
  },
  {
   "cell_type": "markdown",
   "id": "8ec53ff3",
   "metadata": {},
   "source": [
    "Fomentar el aprendizaje del inglés como lengua científica es clave para que tus estudiantes puedan acceder a publicaciones internacionales, conferencias, y material académico que no está disponible en español. "
   ]
  },
  {
   "cell_type": "markdown",
   "id": "3afdef3a",
   "metadata": {},
   "source": [
    "Esto es esencial para que adquieran competencias que les permitan desempeñarse en cualquier contexto internacional.\n"
   ]
  },
  {
   "cell_type": "markdown",
   "id": "b831224f",
   "metadata": {},
   "source": [
    "   - **Material Bilingüe**: Al generar material educativo en Python, LaTeX y Markdown, considera ofrecer algunos de estos recursos en inglés, para que los estudiantes se familiaricen con el vocabulario técnico y científico internacional."
   ]
  },
  {
   "cell_type": "markdown",
   "id": "c6a8c3b0-426a-4692-a384-3065aea81c9a",
   "metadata": {},
   "source": [
    "### 6. **Certificaciones y Estándares Internacionales**\n"
   ]
  },
  {
   "cell_type": "markdown",
   "id": "b1f41da5",
   "metadata": {},
   "source": [
    "   - **Participación en Certificaciones Internacionales**: Impulsa que los estudiantes busquen certificaciones internacionales en Python o ciencia de datos (como las ofrecidas por **Coursera, edX,** o **Google**). "
   ]
  },
  {
   "cell_type": "markdown",
   "id": "fd518a2c",
   "metadata": {},
   "source": [
    "Estas certificaciones no solo validan sus competencias, sino que también incrementan el reconocimiento de la Universidad de Antioquia en el contexto internacional.\n"
   ]
  },
  {
   "cell_type": "markdown",
   "id": "7cc66317",
   "metadata": {},
   "source": [
    "   - **Alineación con Acreditaciones Internacionales**: Vincula tu trabajo docente con los estándares de acreditación y certificación que garantizan que la universidad siga siendo reconocida internacionalmente. "
   ]
  },
  {
   "cell_type": "markdown",
   "id": "69b307c8",
   "metadata": {},
   "source": [
    "Puedes vincularte con organizaciones internacionales que promuevan la excelencia en la educación y tecnología, como **ABET** para la acreditación en ingeniería y ciencias computacionales."
   ]
  },
  {
   "cell_type": "markdown",
   "id": "65d3d9e1-ea84-43e0-8197-a2a9c9e21594",
   "metadata": {},
   "source": [
    "### 7. **Proyectos Abiertos y Ciencia Reproducible**\n"
   ]
  },
  {
   "cell_type": "markdown",
   "id": "f03f7b20",
   "metadata": {},
   "source": [
    "   - **GitHub y Open Science**: La utilización de **GitHub** para almacenar los proyectos y materiales de enseñanza en repositorios públicos permite que otros investigadores y educadores internacionales puedan revisar y replicar tu trabajo. "
   ]
  },
  {
   "cell_type": "markdown",
   "id": "d4826096",
   "metadata": {},
   "source": [
    "Esto contribuye a la creación de una red de colaboración científica abierta.\n"
   ]
  },
  {
   "cell_type": "markdown",
   "id": "ea9af834",
   "metadata": {},
   "source": [
    "   - **Transparencia y Reproducibilidad**: La ciencia de datos y machine learning están profundamente ligados a la reproducibilidad. "
   ]
  },
  {
   "cell_type": "markdown",
   "id": "f2274e13",
   "metadata": {},
   "source": [
    "Asegura que tus estudiantes desarrollen prácticas de transparencia y documentación en la investigación, que son pilares en la comunidad científica global.\n"
   ]
  },
  {
   "cell_type": "markdown",
   "id": "215cb551",
   "metadata": {},
   "source": [
    "\n",
    "### 8. **Participación en Redes y Conferencias Internacionales**\n",
    "   - **Presentación en Conferencias Internacionales**: Destaca cómo tu participación en conferencias internacionales (como la **ASCOLFA** o eventos sobre educación en matemáticas) contribuye al prestigio de la universidad y permite que tus prácticas sean evaluadas y reconocidas a nivel global.\n"
   ]
  },
  {
   "cell_type": "markdown",
   "id": "cdf46e29",
   "metadata": {},
   "source": [
    "   - **Promoción de Estudiantes en Eventos Internacionales**: Impulsa la participación de tus estudiantes en competiciones internacionales de programación o hackathons, como los organizados por **Google**, **ACM** o **Kaggle**. "
   ]
  },
  {
   "cell_type": "markdown",
   "id": "26c20b9b",
   "metadata": {},
   "source": [
    "Esto no solo desarrolla sus habilidades, sino que también visibiliza el talento de la Universidad de Antioquia a nivel global.\n",
    "\n",
    "---"
   ]
  },
  {
   "cell_type": "markdown",
   "id": "233294a4-1983-4641-a7ad-866825e02315",
   "metadata": {},
   "source": [
    "Con esta estrategia, presento mis acciones docentes en términos de competencias internacionales, innovación pedagógica, tecnología, investigación y participación en redes globales, asegurando que mi práctica esté alineada con los estándares internacionales y que tus estudiantes estén preparados para competir en contextos internacionales."
   ]
  },
  {
   "cell_type": "markdown",
   "id": "77da458b",
   "metadata": {},
   "source": [
    "### **Metodología de Enseñanza: Aprendizaje Basado en Problemas y Proyectos (ABPP)**\n"
   ]
  },
  {
   "cell_type": "markdown",
   "id": "c943d273",
   "metadata": {},
   "source": [
    "\n",
    "El **Aprendizaje Basado en Problemas y Proyectos (ABPP)** es una metodología educativa que integra los enfoques del **Aprendizaje Basado en Problemas (ABP)** y el **Aprendizaje Basado en Proyectos (PBL, por sus siglas en inglés)**. "
   ]
  },
  {
   "cell_type": "markdown",
   "id": "ad0e0bf3",
   "metadata": {},
   "source": [
    "Es especialmente útil para la formación de futuros docentes, ingenieros y administradores, ya que combina el desarrollo de habilidades prácticas con el pensamiento crítico y reflexivo. "
   ]
  },
  {
   "cell_type": "markdown",
   "id": "137b18e2",
   "metadata": {},
   "source": [
    "A continuación, se presenta una descripción adaptada a la enseñanza de las matemáticas en educación infantil, Licenciatura en Matemáticas, Ingeniería Agropecuaria y Administración de Empresas:\n",
    "\n",
    "---\n"
   ]
  },
  {
   "cell_type": "markdown",
   "id": "0eeba3f5",
   "metadata": {},
   "source": [
    "\n",
    "### **1. Fundamentos del ABPP**\n"
   ]
  },
  {
   "cell_type": "markdown",
   "id": "e127d644",
   "metadata": {},
   "source": [
    "El ABPP se basa en:\n",
    "- **Resolución de Problemas Reales:** Los estudiantes analizan y resuelven problemas auténticos relacionados con su área de formación, fomentando la aplicación práctica del conocimiento.\n"
   ]
  },
  {
   "cell_type": "markdown",
   "id": "4f4601a7",
   "metadata": {},
   "source": [
    "- **Proyectos como Herramientas Integradoras:** Los proyectos permiten desarrollar habilidades interdisciplinarias y ofrecer soluciones concretas a los problemas planteados.\n"
   ]
  },
  {
   "cell_type": "markdown",
   "id": "d343a03f",
   "metadata": {},
   "source": [
    "- **Aprendizaje Activo:** Los estudiantes son responsables de su aprendizaje y participan activamente en el proceso de investigación, diseño y solución.\n",
    "\n",
    "---\n"
   ]
  },
  {
   "cell_type": "markdown",
   "id": "3728d010",
   "metadata": {},
   "source": [
    "\n",
    "### **2. Aplicación del ABPP en Áreas Específicas**\n"
   ]
  },
  {
   "cell_type": "markdown",
   "id": "e08692b6",
   "metadata": {},
   "source": [
    "\n",
    "#### **Educación Infantil (Licenciatura en Educación Infantil)**\n"
   ]
  },
  {
   "cell_type": "markdown",
   "id": "78127aa0",
   "metadata": {},
   "source": [
    "- **Enfoque:** Desarrollo del pensamiento matemático en la infancia desde contextos lúdicos, familiares y culturales.\n"
   ]
  },
  {
   "cell_type": "markdown",
   "id": "06b6280b",
   "metadata": {},
   "source": [
    "- **Problemas típicos:** \n",
    "  - ¿Cómo enseñar los números naturales mediante actividades prácticas y juegos?\n",
    "  - ¿Qué estrategias pueden emplearse para abordar el concepto de cantidad en edades tempranas?\n"
   ]
  },
  {
   "cell_type": "markdown",
   "id": "ee3b13b8",
   "metadata": {},
   "source": [
    "- **Proyectos:** Diseño de secuencias didácticas que usen Python, Jupyter Notebooks y materiales manipulativos para enseñar matemáticas de forma interactiva.\n"
   ]
  },
  {
   "cell_type": "markdown",
   "id": "9c58539c",
   "metadata": {},
   "source": [
    "- **Competencias desarrolladas:** \n",
    "  - Uso de herramientas tecnológicas para diseñar actividades educativas.\n",
    "  - Comprensión del desarrollo cognitivo infantil y su relación con las matemáticas.\n"
   ]
  },
  {
   "cell_type": "markdown",
   "id": "481f614a",
   "metadata": {},
   "source": [
    "\n",
    "#### **Licenciatura en Matemáticas**\n"
   ]
  },
  {
   "cell_type": "markdown",
   "id": "db2c619f",
   "metadata": {},
   "source": [
    "- **Enfoque:** Resolución de problemas matemáticos aplicados y profundización teórica en áreas como análisis matemático y modelado.\n",
    "- **Problemas típicos:**\n",
    "  - ¿Cómo se pueden resolver ecuaciones diferenciales aplicadas a modelos físicos o económicos?\n",
    "  - ¿Cómo modelar fenómenos naturales mediante funciones matemáticas?\n"
   ]
  },
  {
   "cell_type": "markdown",
   "id": "1e4ab50a",
   "metadata": {},
   "source": [
    "- **Proyectos:** \n",
    "  - Desarrollo de software educativo para explorar conceptos matemáticos.\n",
    "  - Aplicación de modelado matemático para resolver problemas reales en otras disciplinas.\n",
    "- **Competencias desarrolladas:**\n",
    "  - Dominio de la matemática teórica y aplicada.\n",
    "  - Uso de tecnología para la enseñanza y la investigación.\n"
   ]
  },
  {
   "cell_type": "markdown",
   "id": "83ab236f",
   "metadata": {},
   "source": [
    "\n",
    "#### **Ingeniería Agropecuaria**\n",
    "- **Enfoque:** Modelado matemático y análisis de datos para mejorar la producción agrícola y la gestión de recursos.\n",
    "- **Problemas típicos:**\n",
    "  - ¿Cómo modelar el crecimiento de cultivos considerando variables climáticas?\n",
    "  - ¿Cómo optimizar el uso del agua en sistemas de riego mediante análisis matemático?\n"
   ]
  },
  {
   "cell_type": "markdown",
   "id": "5c0b4df3",
   "metadata": {},
   "source": [
    "- **Proyectos:** \n",
    "  - Desarrollo de modelos predictivos con Python y bibliotecas de aprendizaje automático.\n",
    "  - Implementación de proyectos que combinen matemáticas y ciencias de datos para resolver problemas agrícolas.\n"
   ]
  },
  {
   "cell_type": "markdown",
   "id": "606e32bc",
   "metadata": {},
   "source": [
    "- **Competencias desarrolladas:**\n",
    "  - Integración de matemáticas con tecnologías avanzadas.\n",
    "  - Resolución de problemas agropecuarios mediante análisis y modelado.\n"
   ]
  },
  {
   "cell_type": "markdown",
   "id": "c4519bb3",
   "metadata": {},
   "source": [
    "\n",
    "#### **Administración de Empresas**\n",
    "- **Enfoque:** Uso de las matemáticas y la ciencia de datos para la toma de decisiones estratégicas.\n",
    "- **Problemas típicos:**\n",
    "  - ¿Cómo identificar patrones de comportamiento del consumidor usando series de tiempo?\n",
    "  - ¿Qué estrategias matemáticas pueden optimizar la asignación de recursos en una empresa?\n"
   ]
  },
  {
   "cell_type": "markdown",
   "id": "1ec4e4c5",
   "metadata": {},
   "source": [
    "- **Proyectos:** \n",
    "  - Implementación de modelos de análisis financiero y simulaciones.\n",
    "  - Desarrollo de dashboards interactivos para la gestión de datos empresariales.\n"
   ]
  },
  {
   "cell_type": "markdown",
   "id": "69532392",
   "metadata": {},
   "source": [
    "- **Competencias desarrolladas:**\n",
    "  - Habilidad para interpretar datos matemáticos en contextos de negocio.\n",
    "  - Capacidad para diseñar soluciones basadas en datos.\n",
    "\n",
    "---\n"
   ]
  },
  {
   "cell_type": "markdown",
   "id": "19be58d4",
   "metadata": {},
   "source": [
    "\n",
    "### **3. Beneficios del ABPP**\n",
    "- **Desarrollo de competencias clave:**\n",
    "  - Pensamiento crítico y creativo.\n",
    "  - Trabajo colaborativo.\n",
    "  - Comunicación efectiva.\n",
    "  - Uso de herramientas tecnológicas avanzadas.\n"
   ]
  },
  {
   "cell_type": "markdown",
   "id": "b2f56b62",
   "metadata": {},
   "source": [
    "- **Adaptación al contexto laboral:** Los estudiantes aprenden a enfrentar desafíos del mundo real y a diseñar soluciones prácticas y aplicables.\n",
    "- **Flexibilidad e interdisciplinariedad:** La metodología se adapta a diversas áreas, fomentando el aprendizaje integrado.\n",
    "\n",
    "---\n"
   ]
  },
  {
   "cell_type": "markdown",
   "id": "e36034c3",
   "metadata": {},
   "source": [
    "\n",
    "### **4. Ejemplo General de Implementación**\n",
    "1. **Identificación del problema:** Se plantea un desafío concreto, como modelar el crecimiento poblacional de una comunidad rural (Ingeniería Agropecuaria) o diseñar una estrategia para enseñar fracciones a niños de 8 años (Educación Infantil).\n",
    "2. **Formación de equipos:** Los estudiantes trabajan en grupos, distribuyendo roles y tareas.\n",
    "3. **Investigación y diseño:** Los estudiantes investigan el problema, proponen soluciones y diseñan un proyecto.\n",
    "4. **Implementación:** Se desarrolla el proyecto, como una herramienta tecnológica o una propuesta pedagógica.\n",
    "5. **Evaluación:** Los estudiantes presentan sus resultados en un informe o una exposición, recibiendo retroalimentación de sus compañeros y docentes.\n",
    "\n",
    "---\n"
   ]
  },
  {
   "cell_type": "markdown",
   "id": "7dc3f428",
   "metadata": {},
   "source": [
    "\n",
    "El ABPP es una metodología versátil que conecta el conocimiento teórico con la práctica, preparando a los estudiantes para los retos de sus profesiones en la enseñanza de la matemática, la ingeniería y la administración."
   ]
  },
  {
   "cell_type": "markdown",
   "id": "8d97dc80",
   "metadata": {
    "slideshow": {
     "slide_type": "slide"
    }
   },
   "source": [
    "## Fomento de la lectura literaria asociada a Ingeniería agropecuaria y licenciatura en Matemáticas\n",
    "\n",
    "[Aprender a obtener el sí sin ceder]()"
   ]
  },
  {
   "cell_type": "markdown",
   "id": "96775931",
   "metadata": {
    "slideshow": {
     "slide_type": "slide"
    }
   },
   "source": [
    "## Título de la clase: El método de integración numérica utilizando trapecios  \n",
    "\n",
    "[]()"
   ]
  },
  {
   "cell_type": "code",
   "execution_count": 3,
   "id": "28bae6cb",
   "metadata": {},
   "outputs": [],
   "source": [
    "def save_fig(nombre_archivo_imagen):\n",
    "    import os \n",
    "    import matplotlib.pyplot as plt\n",
    "    ubicacion_para_imagenes = r\"C:/Users/marco/Descargas\"\n",
    "    imagen_path = os.path.join(ubicacion_para_imagenes, nombre_archivo_imagen)\n",
    "    plt.savefig(imagen_path, bbox_inches='tight')"
   ]
  },
  {
   "cell_type": "markdown",
   "id": "10e55ccf",
   "metadata": {},
   "source": [
    "# Estructura general para todas las clases\n",
    "\n",
    "Dame, por favor, un diseño de clase, con el enfoque: \"Aula Invertida, STEAMS y de Aprendizaje Basado en Problemas y Proyectos (ABPP)\" sobre: \"La regla de los trapecios para integración numérica\", siguiendo la estructura:  \n",
    "\n",
    "1. Título de la clase   \n",
    "   \n",
    "2. Objetivo de aprendizaje que incluyan los indicadores del logro de estos objetivos. \n",
    "   \n",
    "3. Un mapa conceptual que resuma la clase elaborado en Graphviz de python con nodos y edges de diferentes formas, colores y rellenos y renderizado en la siguiente ubicación: `\"C:\\Users\\marco\\Descargas\"`.  No olvides el parámetro `view = True` para el método `render()` de Graphviz. Para este mapa controla las superposiciones de los nodos con: graph [overlap=false]; // Elimina superposiciones (puede aumentar el espacio)\n",
    "graph [overlap=\"scalexy\"]; // Escala el gráfico para evitar overlaps\n",
    "graph [overlap=\"compress\"]; // Comprime el grafo sin overlaps  \n",
    "   \n",
    "4. Elementos históricos y epistemológicos relevantes para la clase, pero narrados como una historieta al estilo de un cuentero antioqueño en Colombia. Incluye imágenes de los protagonistas históricos de esta clase.  \n",
    "   \n",
    "5. Contenido de la clase:     \n",
    "   \n",
    "     1. Enseña cómo presentar el algoritmo del trapecio de forma geométrica\n",
    "     2. Enseña cómo presentar el algoritmo del trapecio de forma verbal, es decir, en lenguaje natural. \n",
    "     3. Enseña cómo presentar el algoritmo del trapecio de forma de código python\n",
    "     4. Enseña cómo presentar el algoritmo del trapecio de forma algebraica. \n",
    "   \n",
    "     * Incluye una visualización con matplotlib y ipywidgets de python de la formación de los puntos $x_{i}$ de una partición regular del dominio $[a, b]$ de una función $f$ y la interpretación de $f(x_{i})$ y $f(x_{i+1})$ como longitudes de las bases del $i$ - ésimo trapecio, resaltando en color rojo a estos segmentos. Pero donde el deslizador representa la variable $i$ de los extremos izquierdos de los subintervalos. Para $n = 4$ fijo. Y que los rectángulos sean visibles. \n",
    "     * Incluye una visualización con matplotlib y matplotlib.animation de python de la formación de los puntos $x_{i}$ de una partición regular del dominio $[a, b]$ de una función $f$ y la interpretación de $f(x_{i})$ y $f(x_{i+1})$ como longitudes de las bases del $i$ - ésimo trapecio, resaltando en color rojo a estos segmentos. Pero donde el deslizador representa la variable $i$ de los extremos izquierdos de los subintervalos. Para $n = 4$ fijo. Y que los rectángulos sean visibles. \n",
    "     * Incluye, cómo implementar la calculadora \"Casio 991LA cw\" para implementar el método numérico de integración por trapecios. \n",
    "     \n",
    "     \n",
    "6. Deducción de una función de usuario de python, que permita determinar el número de rectángulos $n$ necesarios para una precisión de la suma de con trapecios de $\\epsilon = 0.0001$ (es decir, de tres cifras de precisión).   \n",
    "   \n",
    "7. Actividades de aprendizaje: que incluya pruebas de escritorio para los algoritmos en forma verbal y seudo código, diagrama de flujo, y la implementación del algoritmo en lenguaje python.  \n",
    "   \n",
    "8. Incluye una canción o un poema que ayude a interiorizar y fijar los conceptos asociados a esta clase.   \n",
    "   \n",
    "9.  Tarea o actividades de ejercitación y fijación. Incluye tareas en las que los estudiantes empiecen con la descripción geométrica del algoritmo, luego la descripción verbal y secuencial del algoritmo, después la implementación en lenguaje python editado a través de la terminal powershell de su computador y finalmente con el cálculo a mano y en su cuaderno para $n = 4$.  \n",
    "    \n",
    "10. Evaluación incluyendo diez proyectos, un ejemplo de quiz y un ejemplo de parcial. Incluye evaluaciones en las que los estudiantes empiecen con la descripción geométrica del algoritmo, luego la descripción verbal y secuencial del algoritmo, después la implementación en lenguaje python editado a través de la terminal powershell de su computador, y finalmente con el cálculo algebraico y numérico a mano y en su cuaderno para $n = 4$. \n",
    "    \n",
    "11. Diseño de actividad de retroalimentación.   \n",
    "    \n",
    "12. Dame un vocabulario y frases del idioma inglés asociadas a esta clase.    \n",
    "     \n",
    "13. Incluye apéndice para la clase sobre desarrollo de habilidades para trabajar en equipo y de asertividad y empatía para relacionarnos. También elementos de la inteligencia emocional para presentar pruebas sin temor y sin realizar fraude en ellas. \n",
    "\n",
    "Pero  que este diseño sea para que el estudiante pueda aprender experimentando en cuadernos Jupyter con funciones de usuario y animaciones y visualizaciones en python. En particular utiliza para el diseño de clase a Numpy, Pandas, SymPy, Matplotlib.pyplot, Seaborn, Plotly, ipywidgets, matplotlib.animation y Jupyter Notebook.  Cada vez que utilices `matplotlib.animacion` no olvides incluir el uso de `IPython. display` para la rederización de estas animaciones a través de Jupyter Notebook. No olvides darme los diseños de clase con las ecuaciones matemáticas delimitadas con signo de dolar $ para que VS Code si me renderize estas expresiones del lenguaje latex. Cuando vallas a utilizar ipywidgets ten en cuenta la siguiente importación inicial para garantizar que la visualización interactiva si se renderize en VS Code:  \n",
    "import numpy as np  \n",
    "import matplotlib.pyplot as plt  \n",
    "import ipywidgets as widgets  \n",
    "from IPython.display import display, clear_output  \n",
    "from matplotlib.patches import Rectangle  \n",
    "\n",
    "# Configuración inicial para visualización estática  \n",
    "%matplotlib inline "
   ]
  },
  {
   "cell_type": "markdown",
   "id": "04780802",
   "metadata": {},
   "source": [
    "**Diseño de Clase: \"Integrales que Sembrar: La Regla del Trapecio para Cultivar Soluciones en Ingeniería Agropecuaria\"**  \n",
    "*(Integración de Aula Invertida, STEAMS y ABPP)*  \n",
    "\n",
    "---\n",
    "\n",
    "### **1. Título de la Clase**  \n",
    "\"La Regla del Trapecio: Sembrando Precisión en el Cálculo de Cultivos\"  \n",
    "\n",
    "---\n",
    "\n",
    "### **2. Objetivos de Aprendizaje**  \n",
    "- **Objetivo Principal**:  \n",
    "  Aplicar la regla del trapecio para estimar integrales definidas en problemas agropecuarios (ej: área de cultivo, volumen de fertilizante).  \n",
    "- **Indicadores**:  \n",
    "  - Explica geométricamente la regla del trapecio (error < 5% en pruebas escritas).  \n",
    "  - Codifica el algoritmo en Python con precisión $\\epsilon = 0.0001$.  \n",
    "  - Integra datos reales (ej: curvas de rendimiento) en proyectos STEAMS.  \n",
    "  - Colabora en equipos para resolver problemas agroindustriales (rubricas de participación).  \n",
    "\n",
    "---\n",
    "\n",
    "### **3. Mapa Conceptual (Graphviz)**  \n",
    "```python\n",
    "from graphviz import Digraph\n",
    "\n",
    "graph = Digraph(comment='Regla del Trapecio', format='png', engine='neato')\n",
    "graph.attr(overlap='false')  # Eliminar superposiciones\n",
    "\n",
    "# Nodos (formas y colores)\n",
    "graph.node('A', 'Regla del Trapecio', shape='ellipse', style='filled', color='gold')\n",
    "graph.node('B', 'Contexto Histórico', shape='box', color='skyblue')\n",
    "graph.node('C', 'Interpretación Geométrica', shape='ellipse', color='lightgreen')\n",
    "graph.node('D', 'Fórmula Algebraica: $\\\\frac{h}{2}[f(x_0) + 2\\\\sum_{i=1}^{n-1}f(x_i) + f(x_n)]$', shape='plaintext', color='pink')\n",
    "graph.node('E', 'Implementación Python', shape='box3d', color='orange')\n",
    "graph.node('F', 'Aplicación Agropecuaria', shape='folder', color='brown')\n",
    "graph.node('G', 'Error y Precisión', shape='note', color='red')\n",
    "\n",
    "# Edges (conexiones)\n",
    "graph.edge('A', 'B', label='Origen', color='gray')\n",
    "graph.edge('A', 'C', label='Visualiza', color='green')\n",
    "graph.edge('A', 'D', label='Calcula', color='blue')\n",
    "graph.edge('A', 'E', label='Automatiza', color='purple')\n",
    "graph.edge('E', 'F', label='Proyectos STEAMS', color='brown')\n",
    "graph.edge('D', 'G', label='Controla', color='red')\n",
    "\n",
    "# Renderizar en la ubicación especificada\n",
    "graph.render(directory=r'C:\\Users\\marco\\Descargas', filename='mapa_trapecio', view=True)\n",
    "```\n",
    "\n",
    "---\n",
    "\n",
    "### **4. Historia Épica (Estilo Cuentero Antioqueño)**  \n",
    "*\"¡Ajá, parceros! Les voy a contar cómo unos viejos matemáticos, más tercos que una mula, inventaron esto del trapecio pa’ medir tierras. Resulta que allá por el siglo XVIII, el inglés **Isaac Newton** y su compadre **Roger Cotes** (imagínenlos con pelucas blancas y levita) estaban rayados con calcular áreas bajo curvas raritas, como las que miden la fertilidad del suelo. Total, que se les ocurrió dividir el terreno en trapecios, como si fueran surcos de maíz, pa’ sumar pedacitos y no errarle al cálculo. ¡Y voilà! Así nació la regla del trapecio, que hoy nos sirve pa’ planificar siembras en el Urabá. ¡Eso es ingenio puro, como el café de los Andes!\"*  \n",
    "\n",
    "---\n",
    "\n",
    "### **5. Contenido de la Clase**  \n",
    "\n",
    "#### **5.1. Algoritmo del Trapecio**  \n",
    "- **Geométrico**:  \n",
    "  - Visualizar la integral como el área bajo $f(x)$ entre $a$ y $b$.  \n",
    "  - Dividir en $n=4$ trapecios de base $h = \\frac{b-a}{n}$.  \n",
    "  - Área del trapecio $i$: $\\frac{h}{2}[f(x_i) + f(x_{i+1})]$.  \n",
    "\n",
    "- **Verbal**:  \n",
    "  \"Paso 1: Dividir el intervalo en $n$ partes. Paso 2: Calcular el ancho $h$. Paso 3: Sumar las áreas de los trapecios.\"  \n",
    "\n",
    "- **Python**:  \n",
    "  ```python\n",
    "  def trapecio(f, a, b, n):\n",
    "      h = (b - a) / n\n",
    "      suma = 0.5 * (f(a) + f(b))\n",
    "      for i in range(1, n):\n",
    "          suma += f(a + i * h)\n",
    "      return h * suma\n",
    "  ```\n",
    "\n",
    "- **Algebraico**:  \n",
    "  $$ \\int_a^b f(x)dx \\approx \\frac{h}{2} \\left[ f(x_0) + 2\\sum_{i=1}^{n-1}f(x_i) + f(x_n) \\right] $$  \n",
    "\n",
    "#### **5.2. Visualizaciones Interactivas**  \n",
    "- **Con Ipywidgets (Slider $i$)**:  \n",
    "  ```python\n",
    "  def plot_trapezoid(i):\n",
    "      plt.figure(figsize=(8, 4))\n",
    "      x = np.linspace(a, b, 100)\n",
    "      plt.plot(x, f(x), 'b-')\n",
    "      # Dibujar trapecio i en rojo\n",
    "      xi = a + i*h\n",
    "      xi1 = xi + h\n",
    "      plt.fill_between([xi, xi1], [f(xi), f(xi1)], color='red', alpha=0.3)\n",
    "      plt.show()\n",
    "\n",
    "  widgets.interact(plot_trapezoid, i=widgets.IntSlider(min=0, max=n-1, step=1))\n",
    "  ```\n",
    "\n",
    "- **Animación con Matplotlib**:  \n",
    "  ```python\n",
    "  from matplotlib.animation import FuncAnimation\n",
    "  from IPython.display import HTML\n",
    "\n",
    "  fig, ax = plt.subplots()\n",
    "  def animate(frame):\n",
    "      ax.clear()\n",
    "      # Código similar al anterior, actualizando con frame\n",
    "  ani = FuncAnimation(fig, animate, frames=n, interval=500)\n",
    "  HTML(ani.to_jshtml())\n",
    "  ```\n",
    "\n",
    "#### **5.3. Casio 991LA cw**  \n",
    "- **Pasos Manuales**:  \n",
    "  1. Ingresar puntos $(x_i, f(x_i))$.  \n",
    "  2. Calcular $\\sum$ usando la fórmula del trapecio.  \n",
    "\n",
    "---\n",
    "\n",
    "### **6. Función para Calcular $n$ con Precisión $\\epsilon$**  \n",
    "```python\n",
    "def calcular_n(f, a, b, epsilon=0.0001):\n",
    "    from sympy import symbols, diff, lambdify, Maximum\n",
    "    x = symbols('x')\n",
    "    f2_deriv = diff(f(x), x, 2)\n",
    "    f2_max = Maximum(f2_deriv, x, Interval(a, b))\n",
    "    h = np.sqrt(( (b-a)**3 * abs(f2_max) ) / (12 * epsilon))\n",
    "    n = int(np.ceil((b - a) / h))\n",
    "    return n\n",
    "```\n",
    "\n",
    "---\n",
    "\n",
    "### **7. Actividades de Aprendizaje**  \n",
    "- **Prueba de Escritorio** (ejemplo):  \n",
    "  - Entrada: $f(x) = x^2$, $a=0$, $b=2$, $n=4$.  \n",
    "  - Salida esperada: $\\frac{1}{2}[0 + 2(0.25 + 1 + 2.25) + 4] = 4.25$.  \n",
    "\n",
    "- **Diagrama de Flujo**:  \n",
    "  ```mermaid\n",
    "  graph TD\n",
    "  A[Inicio] --> B[Leer a, b, n]\n",
    "  B --> C[Calcular h]\n",
    "  C --> D[Inicializar suma]\n",
    "  D --> E[Loop i=1 a n-1]\n",
    "  E --> F[Actualizar suma]\n",
    "  F --> G[Calcular área]\n",
    "  G --> H[Fin]\n",
    "  ```\n",
    "\n",
    "---\n",
    "\n",
    "### **8. Canción del Trapecio (Estilo Vallenato)**  \n",
    "*\"Con Newton y Cotes, la regla nació,  \n",
    "dividiendo el área en trapecios de amor.  \n",
    "¡Suma las bases, multiplica por h,  \n",
    "y entre dos lo divides, pa’ que cuadre bien!  \n",
    "¡Ay, trapecio, trapecio, tu fórmula es vital,  \n",
    "pa’ medir el maíz en el agro nacional!\"*  \n",
    "\n",
    "---\n",
    "\n",
    "### **9. Tarea**  \n",
    "1. **Geométrica**: Dibuja 4 trapecios bajo $f(x) = \\sin(x)$ en $[0, \\pi]$.  \n",
    "2. **Verbal**: Describe el algoritmo para un ingeniero que no sabe matemáticas.  \n",
    "3. **Python**: Implementa `trapecio` y prueba con $n=4$.  \n",
    "4. **Manual**: Calcula $\\int_0^2 x^3 dx$ con $n=4$ a mano.  \n",
    "\n",
    "---\n",
    "\n",
    "### **10. Evaluación**  \n",
    "- **Quiz Ejemplo**:  \n",
    "  \"Calcule $\\int_1^3 2x dx$ con $n=4$ usando la regla del trapecio.\"  \n",
    "- **Parcial**:  \n",
    "  Proyecto STEAMS: \"Use la regla del trapecio para estimar el área cultivable de una finca en Caucasia usando datos satelitales (CSV en GitHub).\"  \n",
    "\n",
    "---\n",
    "\n",
    "### **11. Retroalimentación**  \n",
    "- **Peer Review**: Intercambien códigos en GitHub y evalúen con rúbricas (precisión, comentarios, estilo).  \n",
    "\n",
    "---\n",
    "\n",
    "### **12. Vocabulario en Inglés**  \n",
    "- Trapezoidal Rule / Numerical Integration / Partition / Error Bound / Code Snippet / Precision.  \n",
    "\n",
    "---\n",
    "\n",
    "### **13. Apéndice: Habilidades Blandas**  \n",
    "- **Trabajo en Equipo**: Usen Git para fusionar códigos.  \n",
    "- **Inteligencia Emocional**: Antes del quiz, respiren hondo y recuerden: \"El error es parte del aprendizaje\".  \n",
    "\n",
    "--- \n",
    "\n",
    "**¡Listo!** Los estudiantes aprenderán haciendo, con código, tierra y pasión. ¿Necesitas el código completo de las visualizaciones?"
   ]
  },
  {
   "cell_type": "markdown",
   "id": "07f9d055",
   "metadata": {},
   "source": []
  },
  {
   "cell_type": "markdown",
   "id": "d28cb4c9",
   "metadata": {},
   "source": [
    "# Implementación de la clase  \n"
   ]
  },
  {
   "cell_type": "markdown",
   "id": "36fcb5ef",
   "metadata": {},
   "source": [
    "\n",
    "**Diseño de Clase: \"Integrales que Sembrar: La Regla del Trapecio para Cultivar Soluciones en Ingeniería Agropecuaria\"**  \n",
    "*(Integración de Aula Invertida, STEAMS y ABPP)*  \n",
    "\n",
    "---\n"
   ]
  },
  {
   "cell_type": "markdown",
   "id": "1885a18d",
   "metadata": {},
   "source": [
    "\n",
    "### **1. Título de la Clase**  \n",
    "\"La Regla del Trapecio: Sembrando Precisión en el Cálculo de Cultivos\"  \n",
    "\n"
   ]
  },
  {
   "cell_type": "markdown",
   "id": "6e2691e3",
   "metadata": {},
   "source": [
    "\n",
    "### **2. Objetivos de Aprendizaje**  \n",
    "- **Objetivo Principal**:  \n",
    "  Aplicar la regla del trapecio para estimar integrales definidas en problemas agropecuarios (ej: área de cultivo, volumen de fertilizante).  \n",
    "- **Indicadores**:  \n",
    "  - Explica geométricamente la regla del trapecio (error < 5% en pruebas escritas).  \n",
    "  - Codifica el algoritmo en Python con precisión $\\epsilon = 0.0001$.  \n",
    "  - Integra datos reales (ej: curvas de rendimiento) en proyectos STEAMS.  \n",
    "  - Colabora en equipos para resolver problemas agroindustriales (rubricas de participación).  \n",
    "\n",
    "\n"
   ]
  },
  {
   "cell_type": "markdown",
   "id": "7e737ec4",
   "metadata": {},
   "source": [
    "\n",
    "### **3. Mapa Conceptual (Graphviz)**  \n"
   ]
  },
  {
   "cell_type": "code",
   "execution_count": 4,
   "id": "802a0f9f",
   "metadata": {},
   "outputs": [
    {
     "data": {
      "text/plain": [
       "'C:\\\\Users\\\\marco\\\\Descargas\\\\mapa_trapecio.png'"
      ]
     },
     "execution_count": 4,
     "metadata": {},
     "output_type": "execute_result"
    }
   ],
   "source": [
    "\n",
    "from graphviz import Digraph\n",
    "\n",
    "graph = Digraph(comment='Regla del Trapecio', format='png', engine='neato')\n",
    "graph.attr(overlap='false')  # Eliminar superposiciones\n",
    "\n",
    "# Nodos (formas y colores)\n",
    "graph.node('A', 'Regla del Trapecio', shape='ellipse', style='filled', color='gold')\n",
    "graph.node('B', 'Contexto Histórico', shape='box', color='skyblue')\n",
    "graph.node('C', 'Interpretación Geométrica', shape='ellipse', color='lightgreen')\n",
    "graph.node('D', 'Fórmula Algebraica: $\\\\frac{h}{2}[f(x_0) + 2\\\\sum_{i=1}^{n-1}f(x_i) + f(x_n)]$', shape='plaintext', color='pink')\n",
    "graph.node('E', 'Implementación Python', shape='box3d', color='orange')\n",
    "graph.node('F', 'Aplicación Agropecuaria', shape='folder', color='brown')\n",
    "graph.node('G', 'Error y Precisión', shape='note', color='red')\n",
    "\n",
    "# Edges (conexiones)\n",
    "graph.edge('A', 'B', label='Origen', color='gray')\n",
    "graph.edge('A', 'C', label='Visualiza', color='green')\n",
    "graph.edge('A', 'D', label='Calcula', color='blue')\n",
    "graph.edge('A', 'E', label='Automatiza', color='purple')\n",
    "graph.edge('E', 'F', label='Proyectos STEAMS', color='brown')\n",
    "graph.edge('D', 'G', label='Controla', color='red')\n",
    "\n",
    "# Renderizar en la ubicación especificada\n",
    "graph.render(directory=r'C:\\Users\\marco\\Descargas', filename='mapa_trapecio', view=True)\n",
    "\n"
   ]
  },
  {
   "cell_type": "markdown",
   "id": "a375670f",
   "metadata": {},
   "source": [
    "\n",
    "\n",
    "\n",
    "### **4. Historia Épica (Estilo Cuentero Antioqueño)**  \n",
    "*\"¡Ajá, parceros! Les voy a contar cómo unos viejos matemáticos, más tercos que una mula, inventaron esto del trapecio pa’ medir tierras. Resulta que allá por el siglo XVIII, el inglés **Isaac Newton** y su compadre **Roger Cotes** (imagínenlos con pelucas blancas y levita) estaban rayados con calcular áreas bajo curvas raritas, como las que miden la fertilidad del suelo. Total, que se les ocurrió dividir el terreno en trapecios, como si fueran surcos de maíz, pa’ sumar pedacitos y no errarle al cálculo. ¡Y voilà! Así nació la regla del trapecio, que hoy nos sirve pa’ planificar siembras en el Urabá. ¡Eso es ingenio puro, como el café de los Andes!\"*  \n",
    "\n",
    "\n"
   ]
  },
  {
   "cell_type": "markdown",
   "id": "a5a60d6f",
   "metadata": {},
   "source": [
    "\n",
    "### **5. Contenido de la Clase**  \n"
   ]
  },
  {
   "cell_type": "markdown",
   "id": "0cc9a795",
   "metadata": {},
   "source": [
    "\n",
    "#### **5.1. Algoritmo del Trapecio**  \n",
    "- **Geométrico**:  \n",
    "  - Visualizar la integral como el área bajo $f(x)$ entre $a$ y $b$.  \n",
    "  - Dividir en $n=4$ trapecios de base $h = \\frac{b-a}{n}$.  \n",
    "  - Área del trapecio $i$: $\\frac{h}{2}[f(x_i) + f(x_{i+1})]$.  \n",
    "\n",
    "- **Verbal**:  \n",
    "  \"Paso 1: Dividir el intervalo en $n$ partes. Paso 2: Calcular el ancho $h$. Paso 3: Sumar las áreas de los trapecios.\"  \n",
    "\n",
    "- **Python**:  \n"
   ]
  },
  {
   "cell_type": "code",
   "execution_count": 5,
   "id": "221bf252",
   "metadata": {},
   "outputs": [],
   "source": [
    "def trapecio(f, a, b, n):\n",
    "    h = (b - a) / n\n",
    "    suma = 0.5 * (f(a) + f(b))\n",
    "    for i in range(1, n):\n",
    "        suma += f(a + i * h)\n",
    "    return h * suma\n",
    "\n"
   ]
  },
  {
   "cell_type": "markdown",
   "id": "cc728071",
   "metadata": {},
   "source": [
    "\n",
    "- **Algebraico**:  \n",
    "  $$ \\int_a^b f(x)dx \\approx \\frac{h}{2} \\left[ f(x_0) + 2\\sum_{i=1}^{n-1}f(x_i) + f(x_n) \\right] $$  \n",
    "\n",
    "#### **5.2. Visualizaciones Interactivas**  \n",
    "- **Con Ipywidgets (Slider $i$)**:  \n"
   ]
  },
  {
   "cell_type": "code",
   "execution_count": null,
   "id": "efbd4f20",
   "metadata": {},
   "outputs": [
    {
     "data": {
      "application/vnd.jupyter.widget-view+json": {
       "model_id": "d9bfe898698f4721ab6ab89ee6b9d341",
       "version_major": 2,
       "version_minor": 0
      },
      "text/plain": [
       "interactive(children=(IntSlider(value=0, description='i', max=3), Output()), _dom_classes=('widget-interact',)…"
      ]
     },
     "metadata": {},
     "output_type": "display_data"
    }
   ],
   "source": [
    "import matplotlib.pyplot as plt \n",
    "from ipywidgets import interact, IntSlider    \n",
    "f = lambda x: x**2\n",
    "a, b = 0, 4\n",
    "n = 4\n",
    "h = (b-a)/n\n",
    "def plot_trapezoid(i):\n",
    "    plt.figure(figsize=(8, 4))\n",
    "    x = np.linspace(a, b, 100)\n",
    "    plt.plot(x, f(x), 'b-')\n",
    "    # Dibujar trapecio i en rojo\n",
    "    xi = a + i*h\n",
    "    xi1 = xi + h\n",
    "    plt.fill_between([xi, xi1], [f(xi), f(xi1)], color='red', alpha=0.3)\n",
    "    plt.grid(alpha = 0.4)\n",
    "    \n",
    "\n",
    "interact(plot_trapezoid, i=IntSlider(min=0, max=n-1, step=1))\n",
    "\n",
    "plt.show()\n"
   ]
  },
  {
   "cell_type": "markdown",
   "id": "00b404a5",
   "metadata": {},
   "source": [
    "\n",
    "# - **Animación con Matplotlib**:  \n"
   ]
  },
  {
   "cell_type": "code",
   "execution_count": 16,
   "id": "028000b4",
   "metadata": {},
   "outputs": [
    {
     "data": {
      "text/html": [
       "\n",
       "<link rel=\"stylesheet\"\n",
       "href=\"https://maxcdn.bootstrapcdn.com/font-awesome/4.4.0/css/font-awesome.min.css\">\n",
       "<script language=\"javascript\">\n",
       "  function isInternetExplorer() {\n",
       "    ua = navigator.userAgent;\n",
       "    /* MSIE used to detect old browsers and Trident used to newer ones*/\n",
       "    return ua.indexOf(\"MSIE \") > -1 || ua.indexOf(\"Trident/\") > -1;\n",
       "  }\n",
       "\n",
       "  /* Define the Animation class */\n",
       "  function Animation(frames, img_id, slider_id, interval, loop_select_id){\n",
       "    this.img_id = img_id;\n",
       "    this.slider_id = slider_id;\n",
       "    this.loop_select_id = loop_select_id;\n",
       "    this.interval = interval;\n",
       "    this.current_frame = 0;\n",
       "    this.direction = 0;\n",
       "    this.timer = null;\n",
       "    this.frames = new Array(frames.length);\n",
       "\n",
       "    for (var i=0; i<frames.length; i++)\n",
       "    {\n",
       "     this.frames[i] = new Image();\n",
       "     this.frames[i].src = frames[i];\n",
       "    }\n",
       "    var slider = document.getElementById(this.slider_id);\n",
       "    slider.max = this.frames.length - 1;\n",
       "    if (isInternetExplorer()) {\n",
       "        // switch from oninput to onchange because IE <= 11 does not conform\n",
       "        // with W3C specification. It ignores oninput and onchange behaves\n",
       "        // like oninput. In contrast, Microsoft Edge behaves correctly.\n",
       "        slider.setAttribute('onchange', slider.getAttribute('oninput'));\n",
       "        slider.setAttribute('oninput', null);\n",
       "    }\n",
       "    this.set_frame(this.current_frame);\n",
       "  }\n",
       "\n",
       "  Animation.prototype.get_loop_state = function(){\n",
       "    var button_group = document[this.loop_select_id].state;\n",
       "    for (var i = 0; i < button_group.length; i++) {\n",
       "        var button = button_group[i];\n",
       "        if (button.checked) {\n",
       "            return button.value;\n",
       "        }\n",
       "    }\n",
       "    return undefined;\n",
       "  }\n",
       "\n",
       "  Animation.prototype.set_frame = function(frame){\n",
       "    this.current_frame = frame;\n",
       "    document.getElementById(this.img_id).src =\n",
       "            this.frames[this.current_frame].src;\n",
       "    document.getElementById(this.slider_id).value = this.current_frame;\n",
       "  }\n",
       "\n",
       "  Animation.prototype.next_frame = function()\n",
       "  {\n",
       "    this.set_frame(Math.min(this.frames.length - 1, this.current_frame + 1));\n",
       "  }\n",
       "\n",
       "  Animation.prototype.previous_frame = function()\n",
       "  {\n",
       "    this.set_frame(Math.max(0, this.current_frame - 1));\n",
       "  }\n",
       "\n",
       "  Animation.prototype.first_frame = function()\n",
       "  {\n",
       "    this.set_frame(0);\n",
       "  }\n",
       "\n",
       "  Animation.prototype.last_frame = function()\n",
       "  {\n",
       "    this.set_frame(this.frames.length - 1);\n",
       "  }\n",
       "\n",
       "  Animation.prototype.slower = function()\n",
       "  {\n",
       "    this.interval /= 0.7;\n",
       "    if(this.direction > 0){this.play_animation();}\n",
       "    else if(this.direction < 0){this.reverse_animation();}\n",
       "  }\n",
       "\n",
       "  Animation.prototype.faster = function()\n",
       "  {\n",
       "    this.interval *= 0.7;\n",
       "    if(this.direction > 0){this.play_animation();}\n",
       "    else if(this.direction < 0){this.reverse_animation();}\n",
       "  }\n",
       "\n",
       "  Animation.prototype.anim_step_forward = function()\n",
       "  {\n",
       "    this.current_frame += 1;\n",
       "    if(this.current_frame < this.frames.length){\n",
       "      this.set_frame(this.current_frame);\n",
       "    }else{\n",
       "      var loop_state = this.get_loop_state();\n",
       "      if(loop_state == \"loop\"){\n",
       "        this.first_frame();\n",
       "      }else if(loop_state == \"reflect\"){\n",
       "        this.last_frame();\n",
       "        this.reverse_animation();\n",
       "      }else{\n",
       "        this.pause_animation();\n",
       "        this.last_frame();\n",
       "      }\n",
       "    }\n",
       "  }\n",
       "\n",
       "  Animation.prototype.anim_step_reverse = function()\n",
       "  {\n",
       "    this.current_frame -= 1;\n",
       "    if(this.current_frame >= 0){\n",
       "      this.set_frame(this.current_frame);\n",
       "    }else{\n",
       "      var loop_state = this.get_loop_state();\n",
       "      if(loop_state == \"loop\"){\n",
       "        this.last_frame();\n",
       "      }else if(loop_state == \"reflect\"){\n",
       "        this.first_frame();\n",
       "        this.play_animation();\n",
       "      }else{\n",
       "        this.pause_animation();\n",
       "        this.first_frame();\n",
       "      }\n",
       "    }\n",
       "  }\n",
       "\n",
       "  Animation.prototype.pause_animation = function()\n",
       "  {\n",
       "    this.direction = 0;\n",
       "    if (this.timer){\n",
       "      clearInterval(this.timer);\n",
       "      this.timer = null;\n",
       "    }\n",
       "  }\n",
       "\n",
       "  Animation.prototype.play_animation = function()\n",
       "  {\n",
       "    this.pause_animation();\n",
       "    this.direction = 1;\n",
       "    var t = this;\n",
       "    if (!this.timer) this.timer = setInterval(function() {\n",
       "        t.anim_step_forward();\n",
       "    }, this.interval);\n",
       "  }\n",
       "\n",
       "  Animation.prototype.reverse_animation = function()\n",
       "  {\n",
       "    this.pause_animation();\n",
       "    this.direction = -1;\n",
       "    var t = this;\n",
       "    if (!this.timer) this.timer = setInterval(function() {\n",
       "        t.anim_step_reverse();\n",
       "    }, this.interval);\n",
       "  }\n",
       "</script>\n",
       "\n",
       "<style>\n",
       ".animation {\n",
       "    display: inline-block;\n",
       "    text-align: center;\n",
       "}\n",
       "input[type=range].anim-slider {\n",
       "    width: 374px;\n",
       "    margin-left: auto;\n",
       "    margin-right: auto;\n",
       "}\n",
       ".anim-buttons {\n",
       "    margin: 8px 0px;\n",
       "}\n",
       ".anim-buttons button {\n",
       "    padding: 0;\n",
       "    width: 36px;\n",
       "}\n",
       ".anim-state label {\n",
       "    margin-right: 8px;\n",
       "}\n",
       ".anim-state input {\n",
       "    margin: 0;\n",
       "    vertical-align: middle;\n",
       "}\n",
       "</style>\n",
       "\n",
       "<div class=\"animation\">\n",
       "  <img id=\"_anim_img582d3b0e93fb4b888e7291ecd86e4f1d\">\n",
       "  <div class=\"anim-controls\">\n",
       "    <input id=\"_anim_slider582d3b0e93fb4b888e7291ecd86e4f1d\" type=\"range\" class=\"anim-slider\"\n",
       "           name=\"points\" min=\"0\" max=\"1\" step=\"1\" value=\"0\"\n",
       "           oninput=\"anim582d3b0e93fb4b888e7291ecd86e4f1d.set_frame(parseInt(this.value));\">\n",
       "    <div class=\"anim-buttons\">\n",
       "      <button title=\"Decrease speed\" aria-label=\"Decrease speed\" onclick=\"anim582d3b0e93fb4b888e7291ecd86e4f1d.slower()\">\n",
       "          <i class=\"fa fa-minus\"></i></button>\n",
       "      <button title=\"First frame\" aria-label=\"First frame\" onclick=\"anim582d3b0e93fb4b888e7291ecd86e4f1d.first_frame()\">\n",
       "        <i class=\"fa fa-fast-backward\"></i></button>\n",
       "      <button title=\"Previous frame\" aria-label=\"Previous frame\" onclick=\"anim582d3b0e93fb4b888e7291ecd86e4f1d.previous_frame()\">\n",
       "          <i class=\"fa fa-step-backward\"></i></button>\n",
       "      <button title=\"Play backwards\" aria-label=\"Play backwards\" onclick=\"anim582d3b0e93fb4b888e7291ecd86e4f1d.reverse_animation()\">\n",
       "          <i class=\"fa fa-play fa-flip-horizontal\"></i></button>\n",
       "      <button title=\"Pause\" aria-label=\"Pause\" onclick=\"anim582d3b0e93fb4b888e7291ecd86e4f1d.pause_animation()\">\n",
       "          <i class=\"fa fa-pause\"></i></button>\n",
       "      <button title=\"Play\" aria-label=\"Play\" onclick=\"anim582d3b0e93fb4b888e7291ecd86e4f1d.play_animation()\">\n",
       "          <i class=\"fa fa-play\"></i></button>\n",
       "      <button title=\"Next frame\" aria-label=\"Next frame\" onclick=\"anim582d3b0e93fb4b888e7291ecd86e4f1d.next_frame()\">\n",
       "          <i class=\"fa fa-step-forward\"></i></button>\n",
       "      <button title=\"Last frame\" aria-label=\"Last frame\" onclick=\"anim582d3b0e93fb4b888e7291ecd86e4f1d.last_frame()\">\n",
       "          <i class=\"fa fa-fast-forward\"></i></button>\n",
       "      <button title=\"Increase speed\" aria-label=\"Increase speed\" onclick=\"anim582d3b0e93fb4b888e7291ecd86e4f1d.faster()\">\n",
       "          <i class=\"fa fa-plus\"></i></button>\n",
       "    </div>\n",
       "    <form title=\"Repetition mode\" aria-label=\"Repetition mode\" action=\"#n\" name=\"_anim_loop_select582d3b0e93fb4b888e7291ecd86e4f1d\"\n",
       "          class=\"anim-state\">\n",
       "      <input type=\"radio\" name=\"state\" value=\"once\" id=\"_anim_radio1_582d3b0e93fb4b888e7291ecd86e4f1d\"\n",
       "             >\n",
       "      <label for=\"_anim_radio1_582d3b0e93fb4b888e7291ecd86e4f1d\">Once</label>\n",
       "      <input type=\"radio\" name=\"state\" value=\"loop\" id=\"_anim_radio2_582d3b0e93fb4b888e7291ecd86e4f1d\"\n",
       "             checked>\n",
       "      <label for=\"_anim_radio2_582d3b0e93fb4b888e7291ecd86e4f1d\">Loop</label>\n",
       "      <input type=\"radio\" name=\"state\" value=\"reflect\" id=\"_anim_radio3_582d3b0e93fb4b888e7291ecd86e4f1d\"\n",
       "             >\n",
       "      <label for=\"_anim_radio3_582d3b0e93fb4b888e7291ecd86e4f1d\">Reflect</label>\n",
       "    </form>\n",
       "  </div>\n",
       "</div>\n",
       "\n",
       "\n",
       "<script language=\"javascript\">\n",
       "  /* Instantiate the Animation class. */\n",
       "  /* The IDs given should match those used in the template above. */\n",
       "  (function() {\n",
       "    var img_id = \"_anim_img582d3b0e93fb4b888e7291ecd86e4f1d\";\n",
       "    var slider_id = \"_anim_slider582d3b0e93fb4b888e7291ecd86e4f1d\";\n",
       "    var loop_select_id = \"_anim_loop_select582d3b0e93fb4b888e7291ecd86e4f1d\";\n",
       "    var frames = new Array(4);\n",
       "    \n",
       "  frames[0] = \"data:image/png;base64,iVBORw0KGgoAAAANSUhEUgAAAoAAAAHgCAYAAAA10dzkAAAAOnRFWHRTb2Z0d2FyZQBNYXRwbG90\\\n",
       "bGliIHZlcnNpb24zLjEwLjEsIGh0dHBzOi8vbWF0cGxvdGxpYi5vcmcvc2/+5QAAAAlwSFlzAAAP\\\n",
       "YQAAD2EBqD+naQAAHJhJREFUeJzt3XuMFuX98OF7AVk0FdRSQChK1XqqCgqCiMTYUDfRYPmjKVUj\\\n",
       "lHio1RoLaQU8gGesp5DUVSJqNWktqBFrhKxVKjFWGiJIoq1gFBVqXA61sIgKCvPLzPvuhoVdBOs+\\\n",
       "C/O9rmQKMzvjznZ2eT57z+GpyrIsSwAAhNGhvXcAAIDKEoAAAMEIQACAYAQgAEAwAhAAIBgBCAAQ\\\n",
       "jAAEAAhGAAIABCMAAQCCEYAAAMEIQACAYAQgAEAwAhAAIBgBCAAQjAAEAAhGAAIABCMAAQCCEYAA\\\n",
       "AMEIQACAYAQgAEAwAhAAIBgBCAAQjAAEAAhGAAIABCMAAQCCEYAAAMEIQACAYAQgAEAwAhAAIBgB\\\n",
       "CAAQjAAEAAhGAAIABCMAAQCCEYAAAMEIQACAYAQgAEAwAhAAIBgBCAAQjAAEAAhGAAIABCMAAQCC\\\n",
       "EYAAAMEIQACAYAQgAEAwAhAAIBgBCAAQjAAEAAhGAAIABCMAAQCCEYAAAMEIQACAYAQgAEAwpQnA\\\n",
       "l19+OY0cOTL17t07VVVVpWeeeeYrt1mwYEE65ZRTUnV1dTrqqKPSo48+WpF9BQBoT6UJwE2bNqX+\\\n",
       "/fun2tra3Vr/vffeS+eee24666yz0tKlS9Ovf/3rdMkll6Tnn3++zfcVAKA9VWVZlqWSyUcA58yZ\\\n",
       "k0aNGtXqOhMnTkxz585Nb775ZtOyn/3sZ2n9+vWprq6uQnsKAFB5pRkB3FMLFy5MI0aMaLaspqam\\\n",
       "WA4AUGadUlD19fWpZ8+ezZbl8w0NDemzzz5L+++//07bbN68uZgabdu2LX388cfp29/+djHqCADs\\\n",
       "/bIsSxs3bizuG+jQIeZYWNgA/DqmTZuWbrrppvbeDQDgG7Bq1ar03e9+N0UUNgB79eqVVq9e3WxZ\\\n",
       "Pt+1a9cWR/9ykydPThMmTGia37BhQzrssMOKb6B8OwBg79fQ0JD69u2bDjzwwBRV2AAcOnRomjdv\\\n",
       "XrNlL7zwQrG8NfnjYvJpR3n8CUAA2LdUBb58qzQnvj/55JPicS751PiYl/zvK1eubBq9GzNmTNP6\\\n",
       "l19+eVqxYkW65ppr0rJly9L999+fnnjiiTR+/Ph2+xoAACqhNAH42muvpZNPPrmYcvmp2vzvU6ZM\\\n",
       "KeY/+uijphjMfe973yseA5OP+uXPD7znnnvSQw89VNwJDABQZqV8DmAlryHo1q1bcS2gU8AAsG/w\\\n",
       "+l2iEUAAAHaPAAQACEYAAgAEIwABAIIRgAAAwQhAAIBgBCAAQDACEAAgGAEIABCMAAQACEYAAgAE\\\n",
       "IwABAIIRgAAAwQhAAIBgBCAAQDACEAAgGAEIABCMAAQACEYAAgAEIwABAIIRgAAAwQhAAIBgBCAA\\\n",
       "QDACEAAgGAEIABCMAAQACEYAAgAEIwABAIIRgAAAwQhAAIBgBCAAQDACEAAgGAEIABCMAAQACEYA\\\n",
       "AgAEIwABAIIRgAAAwQhAAIBgBCAAQDACEAAgGAEIABCMAAQACEYAAgAEIwABAIIRgAAAwQhAAIBg\\\n",
       "BCAAQDACEAAgGAEIABCMAAQACEYAAgAEIwABAIIRgAAAwQhAAIBgBCAAQDACEAAgGAEIABCMAAQA\\\n",
       "CEYAAgAEIwABAIIRgAAAwQhAAIBgBCAAQDClCsDa2trUr1+/1KVLlzRkyJC0aNGiXa4/ffr0dMwx\\\n",
       "x6T9998/9e3bN40fPz59/vnnFdtfAID2UJoAnD17dpowYUKaOnVqWrJkSerfv3+qqalJa9asaXH9\\\n",
       "xx9/PE2aNKlY/6233koPP/xw8d+49tprK77vAACVVJoAvPfee9Oll16axo0bl44//vg0Y8aMdMAB\\\n",
       "B6RHHnmkxfVfffXVNGzYsHTBBRcUo4Znn312Ov/8879y1BAAYF9XigDcsmVLWrx4cRoxYkTTsg4d\\\n",
       "OhTzCxcubHGb008/vdimMfhWrFiR5s2bl84555yK7TcAQHvolEpg3bp1aevWralnz57Nlufzy5Yt\\\n",
       "a3GbfOQv3+6MM85IWZalL7/8Ml1++eW7PAW8efPmYmrU0NDwDX4VAACVUYoRwK9jwYIF6fbbb0/3\\\n",
       "339/cc3g008/nebOnZtuueWWVreZNm1a6tatW9OU3zgCALCvqcry4a8SnALOr/d76qmn0qhRo5qW\\\n",
       "jx07Nq1fvz795S9/2Wmb4cOHp9NOOy3dddddTcv++Mc/pssuuyx98sknxSnk3RkBzCNww4YNqWvX\\\n",
       "rm3ytQEA36yGhoZiICfy63cpRgA7d+6cBg4cmObPn9+0bNu2bcX80KFDW9zm008/3SnyOnbsWPzZ\\\n",
       "WhNXV1cX3yjbTwAA+5pSXAOYyx8Bk4/4DRo0KA0ePLh4xt+mTZuKu4JzY8aMSX369ClO4+ZGjhxZ\\\n",
       "3Dl88sknF88MfOedd9INN9xQLG8MQQCAMipNAI4ePTqtXbs2TZkyJdXX16cBAwakurq6phtDVq5c\\\n",
       "2WzE7/rrr09VVVXFnx9++GH6zne+U8Tfbbfd1o5fBQBA2yvFNYDtxTUEALDvafD6XY5rAAEA2H0C\\\n",
       "EAAgGAEIABCMAAQACEYAAgAEIwABAIIRgAAAwQhAAIBgBCAAQDACEAAgGAEIABCMAAQACEYAAgAE\\\n",
       "IwABAIIRgAAAwQhAAIBgBCAAQDACEAAgGAEIABCMAAQACEYAAgAEIwABAIIRgAAAwQhAAIBgBCAA\\\n",
       "QDACEAAgGAEIABCMAAQACEYAAgAEIwABAIIRgAAAwQhAAIBgBCAAQDACEAAgGAEIABCMAAQACEYA\\\n",
       "AgAEIwABAIIRgAAAwQhAAIBgBCAAQDACEAAgGAEIABCMAAQACEYAAgAEIwABAIIRgAAAwQhAAIBg\\\n",
       "BCAAQDACEAAgGAEIABCMAAQACEYAAgAEIwABAIIRgAAAwQhAAIBgBCAAQDACEAAgGAEIABCMAAQA\\\n",
       "CEYAAgAEIwABAIIRgAAAwZQqAGtra1O/fv1Sly5d0pAhQ9KiRYt2uf769evTlVdemQ499NBUXV2d\\\n",
       "jj766DRv3ryK7S8AQHvolEpi9uzZacKECWnGjBlF/E2fPj3V1NSk5cuXpx49euy0/pYtW9KPfvSj\\\n",
       "4mNPPfVU6tOnT/rggw/SQQcd1C77DwBQKVVZlmWpBPLoO/XUU9N9991XzG/bti317ds3XXXVVWnS\\\n",
       "pEk7rZ+H4l133ZWWLVuW9ttvv6/1ORsaGlK3bt3Shg0bUteuXf/nrwEAaHsNXr/LcQo4H81bvHhx\\\n",
       "GjFiRNOyDh06FPMLFy5scZtnn302DR06tDgF3LNnz3TCCSek22+/PW3durXVz7N58+bim2b7CQBg\\\n",
       "X1OKAFy3bl0RbnnIbS+fr6+vb3GbFStWFKd+8+3y6/5uuOGGdM8996Rbb7211c8zbdq04jeGxikf\\\n",
       "YQQA2NeUIgC/jvwUcX7934MPPpgGDhyYRo8ena677rri1HBrJk+eXAwXN06rVq2q6D4DAHwTSnET\\\n",
       "SPfu3VPHjh3T6tWrmy3P53v16tXiNvmdv/m1f/l2jY477rhixDA/pdy5c+edtsnvFM4nAIB9WSlG\\\n",
       "APNYy0fx5s+f32yEL5/Pr/NrybBhw9I777xTrNfo7bffLsKwpfgDACiLUgRgLn8EzMyZM9Njjz2W\\\n",
       "3nrrrfTLX/4ybdq0KY0bN674+JgxY4pTuI3yj3/88cfp6quvLsJv7ty5xU0g+U0hAABlVopTwLn8\\\n",
       "Gr61a9emKVOmFKdxBwwYkOrq6ppuDFm5cmVxZ3Cj/AaO559/Po0fPz6ddNJJxXMA8xicOHFiO34V\\\n",
       "AABtrzTPAWwPniMEAPueBq/f5TkFDADA7hGAAADBCEAAgGAEIABAMAIQACAYAQgAEIwABAAIRgAC\\\n",
       "AAQjAAEAghGAAADBCEAAgGAEIABAMAIQACAYAQgAEIwABAAIRgACAAQjAAEAghGAAADBCEAAgGAE\\\n",
       "IABAMAIQACAYAQgAEIwABAAIRgACAAQjAAEAghGAAADBCEAAgGAEIABAMAIQACAYAQgAEIwABAAI\\\n",
       "RgACAAQjAAEAghGAAADBCEAAgGAEIABAMAIQACAYAQgAEIwABAAIRgACAAQjAAEAghGAAADBCEAA\\\n",
       "gGAEIABAMAIQACAYAQgAEIwABAAIRgACAAQjAAEAghGAAADBCEAAgGAEIABAMAIQACAYAQgAEIwA\\\n",
       "BAAIRgACAAQjAAEAghGAAADBCEAAgGAEIABAMAIQACAYAQgAEIwABAAIplQBWFtbm/r165e6dOmS\\\n",
       "hgwZkhYtWrRb282aNStVVVWlUaNGtfk+AgC0t9IE4OzZs9OECRPS1KlT05IlS1L//v1TTU1NWrNm\\\n",
       "zS63e//999NvfvObNHz48IrtKwBAeypNAN57773p0ksvTePGjUvHH398mjFjRjrggAPSI4880uo2\\\n",
       "W7duTRdeeGG66aab0hFHHFHR/QUAaC+lCMAtW7akxYsXpxEjRjQt69ChQzG/cOHCVre7+eabU48e\\\n",
       "PdLFF1+8W59n8+bNqaGhodkEALCvKUUArlu3rhjN69mzZ7Pl+Xx9fX2L27zyyivp4YcfTjNnztzt\\\n",
       "zzNt2rTUrVu3pqlv377/874DAFRaKQJwT23cuDFddNFFRfx17959t7ebPHly2rBhQ9O0atWqNt1P\\\n",
       "AIC20CmVQB5xHTt2TKtXr262PJ/v1avXTuu/++67xc0fI0eObFq2bdu24s9OnTql5cuXpyOPPHKn\\\n",
       "7aqrq4sJAGBfVooRwM6dO6eBAwem+fPnNwu6fH7o0KE7rX/sscemN954Iy1durRpOu+889JZZ51V\\\n",
       "/N2pXQCgzEoxApjLHwEzduzYNGjQoDR48OA0ffr0tGnTpuKu4NyYMWNSnz59iuv48ucEnnDCCc22\\\n",
       "P+igg4o/d1wOAFA2pQnA0aNHp7Vr16YpU6YUN34MGDAg1dXVNd0YsnLlyuLOYACA6KqyLMvaeyf2\\\n",
       "VfljYPK7gfMbQrp27dreuwMA7IYGr9/luAYQAIDdJwABAIIRgAAAwQhAAIBgBCAAQDACEAAgGAEI\\\n",
       "ABCMAAQACEYAAgAEIwABAIIRgAAAwQhAAIBgBCAAQDACEAAgGAEIABCMAAQACEYAAgAEIwABAIIR\\\n",
       "gAAAwQhAAIBgBCAAQDACEAAgGAEIABCMAAQACEYAAgAEIwABAIIRgAAAwQhAAIBgBCAAQDACEAAg\\\n",
       "GAEIABCMAAQACEYAAgAEIwABAIIRgAAAwQhAAIBgBCAAQDACEAAgGAEIABCMAAQACEYAAgAEIwAB\\\n",
       "AIIRgAAAwQhAAIBgBCAAQDACEAAgGAEIABCMAAQACEYAAgAEIwABAIIRgAAAwQhAAIBgBCAAQDAC\\\n",
       "EAAgGAEIABCMAAQACEYAAgAEIwABAIIRgAAAwQhAAIBgBCAAQDACEAAgGAEIABBMqQKwtrY29evX\\\n",
       "L3Xp0iUNGTIkLVq0qNV1Z86cmYYPH54OPvjgYhoxYsQu1wcAKIvSBODs2bPThAkT0tSpU9OSJUtS\\\n",
       "//79U01NTVqzZk2L6y9YsCCdf/756aWXXkoLFy5Mffv2TWeffXb68MMPK77vAACVVJVlWZZKIB/x\\\n",
       "O/XUU9N9991XzG/btq2IuquuuipNmjTpK7ffunVrMRKYbz9mzJjd+pwNDQ2pW7duacOGDalr167/\\\n",
       "89cAALS9Bq/f5RgB3LJlS1q8eHFxGrdRhw4divl8dG93fPrpp+mLL75IhxxySKvrbN68ufim2X4C\\\n",
       "ANjXlCIA161bV4zg9ezZs9nyfL6+vn63/hsTJ05MvXv3bhaRO5o2bVrxG0PjlI8wAgDsa0oRgP+r\\\n",
       "O+64I82aNSvNmTOnuIGkNZMnTy6GixunVatWVXQ/AQC+CZ1SCXTv3j117NgxrV69utnyfL5Xr167\\\n",
       "3Pbuu+8uAvDFF19MJ5100i7Xra6uLiYAgH1ZKUYAO3funAYOHJjmz5/ftCy/CSSfHzp0aKvb3Xnn\\\n",
       "nemWW25JdXV1adCgQRXaWwCA9lWKEcBc/giYsWPHFiE3ePDgNH369LRp06Y0bty44uP5nb19+vQp\\\n",
       "ruPL/e53v0tTpkxJjz/+ePHswMZrBb/1rW8VEwBAWZUmAEePHp3Wrl1bRF0ecwMGDChG9hpvDFm5\\\n",
       "cmVxZ3CjBx54oLh7+Cc/+Umz/07+HMEbb7yx4vsPAFAppXkOYHvwHCEA2Pc0eP0uxzWAAADsPgEI\\\n",
       "ABCMAAQACEYAAgAEIwABAIIRgAAAwQhAAIBgBCAAQDACEAAgGAEIABCMAAQACEYAAgAEIwABAIIR\\\n",
       "gAAAwQhAAIBgBCAAQDACEAAgGAEIABCMAAQACEYAAgAEIwABAIIRgAAAwQhAAIBgBCAAQDACEAAg\\\n",
       "GAEIABCMAAQACEYAAgAEIwABAIIRgAAAwQhAAIBgBCAAQDACEAAgGAEIABCMAAQACEYAAgAEIwAB\\\n",
       "AIIRgAAAwQhAAIBgBCAAQDACEAAgGAEIABCMAAQACEYAAgAEIwABAIIRgAAAwQhAAIBgBCAAQDAC\\\n",
       "EAAgGAEIABCMAAQACEYAAgAEIwABAIIRgAAAwQhAAIBgBCAAQDACEAAgGAEIABCMAAQACEYAAgAE\\\n",
       "IwABAIIRgAAAwQhAAIBgShWAtbW1qV+/fqlLly5pyJAhadGiRbtc/8knn0zHHntssf6JJ56Y5s2b\\\n",
       "V7F9BQBoL6UJwNmzZ6cJEyakqVOnpiVLlqT+/funmpqatGbNmhbXf/XVV9P555+fLr744vT666+n\\\n",
       "UaNGFdObb75Z8X0HAKikqizLslQC+Yjfqaeemu67775iftu2balv377pqquuSpMmTdpp/dGjR6dN\\\n",
       "mzal5557rmnZaaedlgYMGJBmzJixW5+zoaEhdevWLW3YsCF17dr1G/xqAIC20uD1O3VKJbBly5a0\\\n",
       "ePHiNHny5KZlHTp0SCNGjEgLFy5scZt8eT5iuL18xPCZZ55p9fNs3ry5mBrl3ziN30gAwL6h4f+/\\\n",
       "bpdkDCxuAK5bty5t3bo19ezZs9nyfH7ZsmUtblNfX9/i+vny1kybNi3ddNNNOy3PRxoBgH3Lf/7z\\\n",
       "n2IkMKJSBGCl5COM248arl+/Ph1++OFp5cqVYb+B9qbf5vIQX7VqVdjh/L2FY7F3cTz2Ho7F3mPD\\\n",
       "hg3psMMOS4ccckiKqhQB2L1799SxY8e0evXqZsvz+V69erW4Tb58T9bPVVdXF9OO8vjzw7x3yI+D\\\n",
       "Y7F3cCz2Lo7H3sOx2Ht06FCae2H3WCm+8s6dO6eBAwem+fPnNy3LbwLJ54cOHdriNvny7dfPvfDC\\\n",
       "C62uDwBQFqUYAczlp2bHjh2bBg0alAYPHpymT59e3OU7bty44uNjxoxJffr0Ka7jy1199dXpzDPP\\\n",
       "TPfcc08699xz06xZs9Jrr72WHnzwwXb+SgAA2lZpAjB/rMvatWvTlClTihs58se51NXVNd3okV+n\\\n",
       "t/1Q7+mnn54ef/zxdP3116drr702ff/73y/uAD7hhBN2+3Pmp4Pz5w62dFqYynIs9h6Oxd7F8dh7\\\n",
       "OBZ7j2rHojzPAQQAINA1gAAA7D4BCAAQjAAEAAhGAAIABCMAv0JtbW3q169f6tKlSxoyZEhatGjR\\\n",
       "Ltd/8skn07HHHlusf+KJJ6Z58+ZVbF/Lbk+OxcyZM9Pw4cPTwQcfXEz5+0J/1bGj7X4uGuWPW6qq\\\n",
       "qkqjRo1q832MYk+PRf4ORldeeWU69NBDizsgjz76aP9OtePxyB9Zdswxx6T999+/eJeQ8ePHp88/\\\n",
       "/7xi+1tWL7/8cho5cmTq3bt38W9O/pSPr7JgwYJ0yimnFD8XRx11VHr00UdTqeV3AdOyWbNmZZ07\\\n",
       "d84eeeSR7J///Gd26aWXZgcddFC2evXqFtf/+9//nnXs2DG78847s3/961/Z9ddfn+23337ZG2+8\\\n",
       "UfF9j34sLrjggqy2tjZ7/fXXs7feeiv7+c9/nnXr1i3797//XfF9j34sGr333ntZnz59suHDh2c/\\\n",
       "/vGPK7a/Zbanx2Lz5s3ZoEGDsnPOOSd75ZVXimOyYMGCbOnSpRXf9zLa0+Pxpz/9Kauuri7+zI/F\\\n",
       "888/nx166KHZ+PHjK77vZTNv3rzsuuuuy55++un8SSfZnDlzdrn+ihUrsgMOOCCbMGFC8fr9+9//\\\n",
       "vng9r6ury8pKAO7C4MGDsyuvvLJpfuvWrVnv3r2zadOmtbj+T3/60+zcc89ttmzIkCHZL37xizbf\\\n",
       "17Lb02Oxoy+//DI78MADs8cee6wN9zKGr3Ms8v//Tz/99Oyhhx7Kxo4dKwDb6Vg88MAD2RFHHJFt\\\n",
       "2bKlgnsZx54ej3zdH/7wh82W5QEybNiwNt/XSHYnAK+55prsBz/4QbNlo0ePzmpqarKycgq4FVu2\\\n",
       "bEmLFy8uTh02yh8knc8vXLiwxW3y5duvn6upqWl1fdruWOzo008/TV988UXoN/5uz2Nx8803px49\\\n",
       "eqSLL764Qntafl/nWDz77LPF213mp4Dzh+TnD76//fbb09atWyu45+X0dY5H/oYE+TaNp4lXrFhR\\\n",
       "nI4/55xzKrbfxH39Ls07gXzT1q1bV/yj2PhOIo3y+WXLlrW4Tf4OJC2tny+nssdiRxMnTiyuBdnx\\\n",
       "B5y2PxavvPJKevjhh9PSpUsrtJcxfJ1jkQfG3/72t3ThhRcWofHOO++kK664ovjlKH9XBCp7PC64\\\n",
       "4IJiuzPOOCM/G5e+/PLLdPnllxfvTkVl1bfy+t3Q0JA+++yz4hrNsjECSOndcccdxc0Hc+bMKS7M\\\n",
       "pnI2btyYLrroouKmnO7du7f37oS3bdu2YiQ2f8/zgQMHFm+hed1116UZM2a0966FlN90kI/A3n//\\\n",
       "/WnJkiXp6aefTnPnzk233HJLe+8aARgBbEX+YtWxY8e0evXqZsvz+V69erW4Tb58T9an7Y5Fo7vv\\\n",
       "vrsIwBdffDGddNJJbbyn5benx+Ldd99N77//fnE33vYRkuvUqVNavnx5OvLIIyuw5+XzdX4u8jt/\\\n",
       "99tvv2K7Rscdd1wx+pGfwuzcuXOb73dZfZ3jccMNNxS/IF1yySXFfP7kiE2bNqXLLrusCPPt37+e\\\n",
       "ttWrldfvrl27lnL0L+e7qxX5P4T5b8jz589v9sKVz+fX0LQkX779+rkXXnih1fVpu2ORu/POO4vf\\\n",
       "pOvq6tKgQYMqtLfltqfHIn8k0htvvFGc/m2czjvvvHTWWWcVf88fe0Hlfi6GDRtWnPZtjPDc22+/\\\n",
       "XYSh+Kv88civTd4x8hrj/P/du0ClDI34+t3ed6Hs7bf057foP/roo8Vt4ZdddllxS399fX3x8Ysu\\\n",
       "uiibNGlSs8fAdOrUKbv77ruLR49MnTrVY2Da6VjccccdxeMYnnrqqeyjjz5qmjZu3NiOX0XMY7Ej\\\n",
       "dwG337FYuXJlcTf8r371q2z58uXZc889l/Xo0SO79dZb2/GriHs88teI/Hj8+c9/Lh5D8te//jU7\\\n",
       "8sgjiydK8L/J/63PHwOWT3nq3HvvvcXfP/jgg+LjkyZNKo7Hjo+B+e1vf1u8fuePEfMYmODyZwEd\\\n",
       "dthhRUzkt/j/4x//aPrYmWeeWbyYbe+JJ57Ijj766GL9/JbyuXPntsNel9OeHIvDDz+8+KHfccr/\\\n",
       "waXyPxfbE4DteyxeffXV4vFUeajkj4S57bbbisf08M3Yk+PxxRdfZDfeeGMRfV26dMn69u2bXXHF\\\n",
       "Fdl///vfdtr78njppZdafA1o/P9/7NixxfHYcZsBAwYUxy7/2fjDH/6QlVlV/j/tPQoJAEDluAYQ\\\n",
       "ACAYAQgAEIwABAAIRgACAAQjAAEAghGAAADBCEAAgGAEIABAMAIQACAYAQgAEIwABAAIRgACAAQj\\\n",
       "AAEAghGAAADBCEAAgGAEIABAMAIQACAYAQgAEIwABAAIRgACAAQjAAEAghGAAADBCEAAgGAEIABA\\\n",
       "MAIQACAYAQgAEIwABAAIRgACAAQjAAEAghGAAADBCEAAgBTL/wFEV9qKnOg6mgAAAABJRU5ErkJg\\\n",
       "gg==\\\n",
       "\"\n",
       "  frames[1] = \"data:image/png;base64,iVBORw0KGgoAAAANSUhEUgAAAoAAAAHgCAYAAAA10dzkAAAAOnRFWHRTb2Z0d2FyZQBNYXRwbG90\\\n",
       "bGliIHZlcnNpb24zLjEwLjEsIGh0dHBzOi8vbWF0cGxvdGxpYi5vcmcvc2/+5QAAAAlwSFlzAAAP\\\n",
       "YQAAD2EBqD+naQAAHJhJREFUeJzt3XuMFuX98OF7AVk0FdRSQChK1XqqCgqCiMTYUDfRYPmjKVUj\\\n",
       "lHio1RoLaQU8gGesp5DUVSJqNWktqBFrhKxVKjFWGiJIoq1gFBVqXA61sIgKCvPLzPvuhoVdBOs+\\\n",
       "C/O9rmQKMzvjznZ2eT57z+GpyrIsSwAAhNGhvXcAAIDKEoAAAMEIQACAYAQgAEAwAhAAIBgBCAAQ\\\n",
       "jAAEAAhGAAIABCMAAQCCEYAAAMEIQACAYAQgAEAwAhAAIBgBCAAQjAAEAAhGAAIABCMAAQCCEYAA\\\n",
       "AMEIQACAYAQgAEAwAhAAIBgBCAAQjAAEAAhGAAIABCMAAQCCEYAAAMEIQACAYAQgAEAwAhAAIBgB\\\n",
       "CAAQjAAEAAhGAAIABCMAAQCCEYAAAMEIQACAYAQgAEAwAhAAIBgBCAAQjAAEAAhGAAIABCMAAQCC\\\n",
       "EYAAAMEIQACAYAQgAEAwAhAAIBgBCAAQjAAEAAhGAAIABCMAAQCCEYAAAMEIQACAYAQgAEAwpQnA\\\n",
       "l19+OY0cOTL17t07VVVVpWeeeeYrt1mwYEE65ZRTUnV1dTrqqKPSo48+WpF9BQBoT6UJwE2bNqX+\\\n",
       "/fun2tra3Vr/vffeS+eee24666yz0tKlS9Ovf/3rdMkll6Tnn3++zfcVAKA9VWVZlqWSyUcA58yZ\\\n",
       "k0aNGtXqOhMnTkxz585Nb775ZtOyn/3sZ2n9+vWprq6uQnsKAFB5pRkB3FMLFy5MI0aMaLaspqam\\\n",
       "WA4AUGadUlD19fWpZ8+ezZbl8w0NDemzzz5L+++//07bbN68uZgabdu2LX388cfp29/+djHqCADs\\\n",
       "/bIsSxs3bizuG+jQIeZYWNgA/DqmTZuWbrrppvbeDQDgG7Bq1ar03e9+N0UUNgB79eqVVq9e3WxZ\\\n",
       "Pt+1a9cWR/9ykydPThMmTGia37BhQzrssMOKb6B8OwBg79fQ0JD69u2bDjzwwBRV2AAcOnRomjdv\\\n",
       "XrNlL7zwQrG8NfnjYvJpR3n8CUAA2LdUBb58qzQnvj/55JPicS751PiYl/zvK1eubBq9GzNmTNP6\\\n",
       "l19+eVqxYkW65ppr0rJly9L999+fnnjiiTR+/Ph2+xoAACqhNAH42muvpZNPPrmYcvmp2vzvU6ZM\\\n",
       "KeY/+uijphjMfe973yseA5OP+uXPD7znnnvSQw89VNwJDABQZqV8DmAlryHo1q1bcS2gU8AAsG/w\\\n",
       "+l2iEUAAAHaPAAQACEYAAgAEIwABAIIRgAAAwQhAAIBgBCAAQDACEAAgGAEIABCMAAQACEYAAgAE\\\n",
       "IwABAIIRgAAAwQhAAIBgBCAAQDACEAAgGAEIABCMAAQACEYAAgAEIwABAIIRgAAAwQhAAIBgBCAA\\\n",
       "QDACEAAgGAEIABCMAAQACEYAAgAEIwABAIIRgAAAwQhAAIBgBCAAQDACEAAgGAEIABCMAAQACEYA\\\n",
       "AgAEIwABAIIRgAAAwQhAAIBgBCAAQDACEAAgGAEIABCMAAQACEYAAgAEIwABAIIRgAAAwQhAAIBg\\\n",
       "BCAAQDACEAAgGAEIABCMAAQACEYAAgAEIwABAIIRgAAAwQhAAIBgBCAAQDACEAAgGAEIABCMAAQA\\\n",
       "CEYAAgAEIwABAIIRgAAAwQhAAIBgBCAAQDClCsDa2trUr1+/1KVLlzRkyJC0aNGiXa4/ffr0dMwx\\\n",
       "x6T9998/9e3bN40fPz59/vnnFdtfAID2UJoAnD17dpowYUKaOnVqWrJkSerfv3+qqalJa9asaXH9\\\n",
       "xx9/PE2aNKlY/6233koPP/xw8d+49tprK77vAACVVJoAvPfee9Oll16axo0bl44//vg0Y8aMdMAB\\\n",
       "B6RHHnmkxfVfffXVNGzYsHTBBRcUo4Znn312Ov/8879y1BAAYF9XigDcsmVLWrx4cRoxYkTTsg4d\\\n",
       "OhTzCxcubHGb008/vdimMfhWrFiR5s2bl84555yK7TcAQHvolEpg3bp1aevWralnz57Nlufzy5Yt\\\n",
       "a3GbfOQv3+6MM85IWZalL7/8Ml1++eW7PAW8efPmYmrU0NDwDX4VAACVUYoRwK9jwYIF6fbbb0/3\\\n",
       "339/cc3g008/nebOnZtuueWWVreZNm1a6tatW9OU3zgCALCvqcry4a8SnALOr/d76qmn0qhRo5qW\\\n",
       "jx07Nq1fvz795S9/2Wmb4cOHp9NOOy3dddddTcv++Mc/pssuuyx98sknxSnk3RkBzCNww4YNqWvX\\\n",
       "rm3ytQEA36yGhoZiICfy63cpRgA7d+6cBg4cmObPn9+0bNu2bcX80KFDW9zm008/3SnyOnbsWPzZ\\\n",
       "WhNXV1cX3yjbTwAA+5pSXAOYyx8Bk4/4DRo0KA0ePLh4xt+mTZuKu4JzY8aMSX369ClO4+ZGjhxZ\\\n",
       "3Dl88sknF88MfOedd9INN9xQLG8MQQCAMipNAI4ePTqtXbs2TZkyJdXX16cBAwakurq6phtDVq5c\\\n",
       "2WzE7/rrr09VVVXFnx9++GH6zne+U8Tfbbfd1o5fBQBA2yvFNYDtxTUEALDvafD6XY5rAAEA2H0C\\\n",
       "EAAgGAEIABCMAAQACEYAAgAEIwABAIIRgAAAwQhAAIBgBCAAQDACEAAgGAEIABCMAAQACEYAAgAE\\\n",
       "IwABAIIRgAAAwQhAAIBgBCAAQDACEAAgGAEIABCMAAQACEYAAgAEIwABAIIRgAAAwQhAAIBgBCAA\\\n",
       "QDACEAAgGAEIABCMAAQACEYAAgAEIwABAIIRgAAAwQhAAIBgBCAAQDACEAAgGAEIABCMAAQACEYA\\\n",
       "AgAEIwABAIIRgAAAwQhAAIBgBCAAQDACEAAgGAEIABCMAAQACEYAAgAEIwABAIIRgAAAwQhAAIBg\\\n",
       "BCAAQDACEAAgGAEIABCMAAQACEYAAgAEIwABAIIRgAAAwQhAAIBgBCAAQDACEAAgGAEIABCMAAQA\\\n",
       "CEYAAgAEIwABAIIRgAAAwZQqAGtra1O/fv1Sly5d0pAhQ9KiRYt2uf769evTlVdemQ499NBUXV2d\\\n",
       "jj766DRv3ryK7S8AQHvolEpi9uzZacKECWnGjBlF/E2fPj3V1NSk5cuXpx49euy0/pYtW9KPfvSj\\\n",
       "4mNPPfVU6tOnT/rggw/SQQcd1C77DwBQKVVZlmWpBPLoO/XUU9N9991XzG/bti317ds3XXXVVWnS\\\n",
       "pEk7rZ+H4l133ZWWLVuW9ttvv6/1ORsaGlK3bt3Shg0bUteuXf/nrwEAaHsNXr/LcQo4H81bvHhx\\\n",
       "GjFiRNOyDh06FPMLFy5scZtnn302DR06tDgF3LNnz3TCCSek22+/PW3durXVz7N58+bim2b7CQBg\\\n",
       "X1OKAFy3bl0RbnnIbS+fr6+vb3GbFStWFKd+8+3y6/5uuOGGdM8996Rbb7211c8zbdq04jeGxikf\\\n",
       "YQQA2NeUIgC/jvwUcX7934MPPpgGDhyYRo8ena677rri1HBrJk+eXAwXN06rVq2q6D4DAHwTSnET\\\n",
       "SPfu3VPHjh3T6tWrmy3P53v16tXiNvmdv/m1f/l2jY477rhixDA/pdy5c+edtsnvFM4nAIB9WSlG\\\n",
       "APNYy0fx5s+f32yEL5/Pr/NrybBhw9I777xTrNfo7bffLsKwpfgDACiLUgRgLn8EzMyZM9Njjz2W\\\n",
       "3nrrrfTLX/4ybdq0KY0bN674+JgxY4pTuI3yj3/88cfp6quvLsJv7ty5xU0g+U0hAABlVopTwLn8\\\n",
       "Gr61a9emKVOmFKdxBwwYkOrq6ppuDFm5cmVxZ3Cj/AaO559/Po0fPz6ddNJJxXMA8xicOHFiO34V\\\n",
       "AABtrzTPAWwPniMEAPueBq/f5TkFDADA7hGAAADBCEAAgGAEIABAMAIQACAYAQgAEIwABAAIRgAC\\\n",
       "AAQjAAEAghGAAADBCEAAgGAEIABAMAIQACAYAQgAEIwABAAIRgACAAQjAAEAghGAAADBCEAAgGAE\\\n",
       "IABAMAIQACAYAQgAEIwABAAIRgACAAQjAAEAghGAAADBCEAAgGAEIABAMAIQACAYAQgAEIwABAAI\\\n",
       "RgACAAQjAAEAghGAAADBCEAAgGAEIABAMAIQACAYAQgAEIwABAAIRgACAAQjAAEAghGAAADBCEAA\\\n",
       "gGAEIABAMAIQACAYAQgAEIwABAAIRgACAAQjAAEAghGAAADBCEAAgGAEIABAMAIQACAYAQgAEIwA\\\n",
       "BAAIRgACAAQjAAEAghGAAADBCEAAgGAEIABAMAIQACAYAQgAEIwABAAIplQBWFtbm/r165e6dOmS\\\n",
       "hgwZkhYtWrRb282aNStVVVWlUaNGtfk+AgC0t9IE4OzZs9OECRPS1KlT05IlS1L//v1TTU1NWrNm\\\n",
       "zS63e//999NvfvObNHz48IrtKwBAeypNAN57773p0ksvTePGjUvHH398mjFjRjrggAPSI4880uo2\\\n",
       "W7duTRdeeGG66aab0hFHHFHR/QUAaC+lCMAtW7akxYsXpxEjRjQt69ChQzG/cOHCVre7+eabU48e\\\n",
       "PdLFF1+8W59n8+bNqaGhodkEALCvKUUArlu3rhjN69mzZ7Pl+Xx9fX2L27zyyivp4YcfTjNnztzt\\\n",
       "zzNt2rTUrVu3pqlv377/874DAFRaKQJwT23cuDFddNFFRfx17959t7ebPHly2rBhQ9O0atWqNt1P\\\n",
       "AIC20CmVQB5xHTt2TKtXr262PJ/v1avXTuu/++67xc0fI0eObFq2bdu24s9OnTql5cuXpyOPPHKn\\\n",
       "7aqrq4sJAGBfVooRwM6dO6eBAwem+fPnNwu6fH7o0KE7rX/sscemN954Iy1durRpOu+889JZZ51V\\\n",
       "/N2pXQCgzEoxApjLHwEzduzYNGjQoDR48OA0ffr0tGnTpuKu4NyYMWNSnz59iuv48ucEnnDCCc22\\\n",
       "P+igg4o/d1wOAFA2pQnA0aNHp7Vr16YpU6YUN34MGDAg1dXVNd0YsnLlyuLOYACA6KqyLMvaeyf2\\\n",
       "VfljYPK7gfMbQrp27dreuwMA7IYGr9/luAYQAIDdJwABAIIRgAAAwQhAAIBgBCAAQDACEAAgGAEI\\\n",
       "ABCMAAQACEYAAgAEIwABAIIRgAAAwQhAAIBgBCAAQDACEAAgGAEIABCMAAQACEYAAgAEIwABAIIR\\\n",
       "gAAAwQhAAIBgBCAAQDACEAAgGAEIABCMAAQACEYAAgAEIwABAIIRgAAAwQhAAIBgBCAAQDACEAAg\\\n",
       "GAEIABCMAAQACEYAAgAEIwABAIIRgAAAwQhAAIBgBCAAQDACEAAgGAEIABCMAAQACEYAAgAEIwAB\\\n",
       "AIIRgAAAwQhAAIBgBCAAQDACEAAgGAEIABCMAAQACEYAAgAEIwABAIIRgAAAwQhAAIBgBCAAQDAC\\\n",
       "EAAgGAEIABCMAAQACEYAAgAEIwABAIIRgAAAwQhAAIBgBCAAQDACEAAgGAEIABBMqQKwtrY29evX\\\n",
       "L3Xp0iUNGTIkLVq0qNV1Z86cmYYPH54OPvjgYhoxYsQu1wcAKIvSBODs2bPThAkT0tSpU9OSJUtS\\\n",
       "//79U01NTVqzZk2L6y9YsCCdf/756aWXXkoLFy5Mffv2TWeffXb68MMPK77vAACVVJVlWZZKIB/x\\\n",
       "O/XUU9N9991XzG/btq2IuquuuipNmjTpK7ffunVrMRKYbz9mzJjd+pwNDQ2pW7duacOGDalr167/\\\n",
       "89cAALS9Bq/f5RgB3LJlS1q8eHFxGrdRhw4divl8dG93fPrpp+mLL75IhxxySKvrbN68ufim2X4C\\\n",
       "ANjXlCIA161bV4zg9ezZs9nyfL6+vn63/hsTJ05MvXv3bhaRO5o2bVrxG0PjlI8wAgDsa0oRgP+r\\\n",
       "O+64I82aNSvNmTOnuIGkNZMnTy6GixunVatWVXQ/AQC+CZ1SCXTv3j117NgxrV69utnyfL5Xr167\\\n",
       "3Pbuu+8uAvDFF19MJ5100i7Xra6uLiYAgH1ZKUYAO3funAYOHJjmz5/ftCy/CSSfHzp0aKvb3Xnn\\\n",
       "nemWW25JdXV1adCgQRXaWwCA9lWKEcBc/giYsWPHFiE3ePDgNH369LRp06Y0bty44uP5nb19+vQp\\\n",
       "ruPL/e53v0tTpkxJjz/+ePHswMZrBb/1rW8VEwBAWZUmAEePHp3Wrl1bRF0ecwMGDChG9hpvDFm5\\\n",
       "cmVxZ3CjBx54oLh7+Cc/+Umz/07+HMEbb7yx4vsPAFAppXkOYHvwHCEA2Pc0eP0uxzWAAADsPgEI\\\n",
       "ABCMAAQACEYAAgAEIwABAIIRgAAAwQhAAIBgBCAAQDACEAAgGAEIABCMAAQACEYAAgAEIwABAIIR\\\n",
       "gAAAwQhAAIBgBCAAQDACEAAgGAEIABCMAAQACEYAAgAEIwABAIIRgAAAwQhAAIBgBCAAQDACEAAg\\\n",
       "GAEIABCMAAQACEYAAgAEIwABAIIRgAAAwQhAAIBgBCAAQDACEAAgGAEIABCMAAQACEYAAgAEIwAB\\\n",
       "AIIRgAAAwQhAAIBgBCAAQDACEAAgGAEIABCMAAQACEYAAgAEIwABAIIRgAAAwQhAAIBgBCAAQDAC\\\n",
       "EAAgGAEIABCMAAQACEYAAgAEIwABAIIRgAAAwQhAAIBgBCAAQDACEAAgGAEIABCMAAQACEYAAgAE\\\n",
       "IwABAIIRgAAAwQhAAIBgShWAtbW1qV+/fqlLly5pyJAhadGiRbtc/8knn0zHHntssf6JJ56Y5s2b\\\n",
       "V7F9BQBoL6UJwNmzZ6cJEyakqVOnpiVLlqT+/funmpqatGbNmhbXf/XVV9P555+fLr744vT666+n\\\n",
       "UaNGFdObb75Z8X0HAKikqizLslQC+Yjfqaeemu67775iftu2balv377pqquuSpMmTdpp/dGjR6dN\\\n",
       "mzal5557rmnZaaedlgYMGJBmzJixW5+zoaEhdevWLW3YsCF17dr1G/xqAIC20uD1O3VKJbBly5a0\\\n",
       "ePHiNHny5KZlHTp0SCNGjEgLFy5scZt8eT5iuL18xPCZZ55p9fNs3ry5mBrl3ziN30gAwL6h4f+/\\\n",
       "bpdkDCxuAK5bty5t3bo19ezZs9nyfH7ZsmUtblNfX9/i+vny1kybNi3ddNNNOy3PRxoBgH3Lf/7z\\\n",
       "n2IkMKJSBGCl5COM248arl+/Ph1++OFp5cqVYb+B9qbf5vIQX7VqVdjh/L2FY7F3cTz2Ho7F3mPD\\\n",
       "hg3psMMOS4ccckiKqhQB2L1799SxY8e0evXqZsvz+V69erW4Tb58T9bPVVdXF9OO8vjzw7x3yI+D\\\n",
       "Y7F3cCz2Lo7H3sOx2Ht06FCae2H3WCm+8s6dO6eBAwem+fPnNy3LbwLJ54cOHdriNvny7dfPvfDC\\\n",
       "C62uDwBQFqUYAczlp2bHjh2bBg0alAYPHpymT59e3OU7bty44uNjxoxJffr0Ka7jy1199dXpzDPP\\\n",
       "TPfcc08699xz06xZs9Jrr72WHnzwwXb+SgAA2lZpAjB/rMvatWvTlClTihs58se51NXVNd3okV+n\\\n",
       "t/1Q7+mnn54ef/zxdP3116drr702ff/73y/uAD7hhBN2+3Pmp4Pz5w62dFqYynIs9h6Oxd7F8dh7\\\n",
       "OBZ7j2rHojzPAQQAINA1gAAA7D4BCAAQjAAEAAhGAAIABCMAv0JtbW3q169f6tKlSxoyZEhatGjR\\\n",
       "Ltd/8skn07HHHlusf+KJJ6Z58+ZVbF/Lbk+OxcyZM9Pw4cPTwQcfXEz5+0J/1bGj7X4uGuWPW6qq\\\n",
       "qkqjRo1q832MYk+PRf4ORldeeWU69NBDizsgjz76aP9OtePxyB9Zdswxx6T999+/eJeQ8ePHp88/\\\n",
       "/7xi+1tWL7/8cho5cmTq3bt38W9O/pSPr7JgwYJ0yimnFD8XRx11VHr00UdTqeV3AdOyWbNmZZ07\\\n",
       "d84eeeSR7J///Gd26aWXZgcddFC2evXqFtf/+9//nnXs2DG78847s3/961/Z9ddfn+23337ZG2+8\\\n",
       "UfF9j34sLrjggqy2tjZ7/fXXs7feeiv7+c9/nnXr1i3797//XfF9j34sGr333ntZnz59suHDh2c/\\\n",
       "/vGPK7a/Zbanx2Lz5s3ZoEGDsnPOOSd75ZVXimOyYMGCbOnSpRXf9zLa0+Pxpz/9Kauuri7+zI/F\\\n",
       "888/nx166KHZ+PHjK77vZTNv3rzsuuuuy55++un8SSfZnDlzdrn+ihUrsgMOOCCbMGFC8fr9+9//\\\n",
       "vng9r6ury8pKAO7C4MGDsyuvvLJpfuvWrVnv3r2zadOmtbj+T3/60+zcc89ttmzIkCHZL37xizbf\\\n",
       "17Lb02Oxoy+//DI78MADs8cee6wN9zKGr3Ms8v//Tz/99Oyhhx7Kxo4dKwDb6Vg88MAD2RFHHJFt\\\n",
       "2bKlgnsZx54ej3zdH/7wh82W5QEybNiwNt/XSHYnAK+55prsBz/4QbNlo0ePzmpqarKycgq4FVu2\\\n",
       "bEmLFy8uTh02yh8knc8vXLiwxW3y5duvn6upqWl1fdruWOzo008/TV988UXoN/5uz2Nx8803px49\\\n",
       "eqSLL764Qntafl/nWDz77LPF213mp4Dzh+TnD76//fbb09atWyu45+X0dY5H/oYE+TaNp4lXrFhR\\\n",
       "nI4/55xzKrbfxH39Ls07gXzT1q1bV/yj2PhOIo3y+WXLlrW4Tf4OJC2tny+nssdiRxMnTiyuBdnx\\\n",
       "B5y2PxavvPJKevjhh9PSpUsrtJcxfJ1jkQfG3/72t3ThhRcWofHOO++kK664ovjlKH9XBCp7PC64\\\n",
       "4IJiuzPOOCM/G5e+/PLLdPnllxfvTkVl1bfy+t3Q0JA+++yz4hrNsjECSOndcccdxc0Hc+bMKS7M\\\n",
       "pnI2btyYLrroouKmnO7du7f37oS3bdu2YiQ2f8/zgQMHFm+hed1116UZM2a0966FlN90kI/A3n//\\\n",
       "/WnJkiXp6aefTnPnzk233HJLe+8aARgBbEX+YtWxY8e0evXqZsvz+V69erW4Tb58T9an7Y5Fo7vv\\\n",
       "vrsIwBdffDGddNJJbbyn5benx+Ldd99N77//fnE33vYRkuvUqVNavnx5OvLIIyuw5+XzdX4u8jt/\\\n",
       "99tvv2K7Rscdd1wx+pGfwuzcuXOb73dZfZ3jccMNNxS/IF1yySXFfP7kiE2bNqXLLrusCPPt37+e\\\n",
       "ttWrldfvrl27lnL0L+e7qxX5P4T5b8jz589v9sKVz+fX0LQkX779+rkXXnih1fVpu2ORu/POO4vf\\\n",
       "pOvq6tKgQYMqtLfltqfHIn8k0htvvFGc/m2czjvvvHTWWWcVf88fe0Hlfi6GDRtWnPZtjPDc22+/\\\n",
       "XYSh+Kv88civTd4x8hrj/P/du0ClDI34+t3ed6Hs7bf057foP/roo8Vt4ZdddllxS399fX3x8Ysu\\\n",
       "uiibNGlSs8fAdOrUKbv77ruLR49MnTrVY2Da6VjccccdxeMYnnrqqeyjjz5qmjZu3NiOX0XMY7Ej\\\n",
       "dwG337FYuXJlcTf8r371q2z58uXZc889l/Xo0SO79dZb2/GriHs88teI/Hj8+c9/Lh5D8te//jU7\\\n",
       "8sgjiydK8L/J/63PHwOWT3nq3HvvvcXfP/jgg+LjkyZNKo7Hjo+B+e1vf1u8fuePEfMYmODyZwEd\\\n",
       "dthhRUzkt/j/4x//aPrYmWeeWbyYbe+JJ57Ijj766GL9/JbyuXPntsNel9OeHIvDDz+8+KHfccr/\\\n",
       "waXyPxfbE4DteyxeffXV4vFUeajkj4S57bbbisf08M3Yk+PxxRdfZDfeeGMRfV26dMn69u2bXXHF\\\n",
       "Fdl///vfdtr78njppZdafA1o/P9/7NixxfHYcZsBAwYUxy7/2fjDH/6QlVlV/j/tPQoJAEDluAYQ\\\n",
       "ACAYAQgAEIwABAAIRgACAAQjAAEAghGAAADBCEAAgGAEIABAMAIQACAYAQgAEIwABAAIRgACAAQj\\\n",
       "AAEAghGAAADBCEAAgGAEIABAMAIQACAYAQgAEIwABAAIRgACAAQjAAEAghGAAADBCEAAgGAEIABA\\\n",
       "MAIQACAYAQgAEIwABAAIRgACAAQjAAEAghGAAADBCEAAgBTL/wFEV9qKnOg6mgAAAABJRU5ErkJg\\\n",
       "gg==\\\n",
       "\"\n",
       "  frames[2] = \"data:image/png;base64,iVBORw0KGgoAAAANSUhEUgAAAoAAAAHgCAYAAAA10dzkAAAAOnRFWHRTb2Z0d2FyZQBNYXRwbG90\\\n",
       "bGliIHZlcnNpb24zLjEwLjEsIGh0dHBzOi8vbWF0cGxvdGxpYi5vcmcvc2/+5QAAAAlwSFlzAAAP\\\n",
       "YQAAD2EBqD+naQAAHJhJREFUeJzt3XuMFuX98OF7AVk0FdRSQChK1XqqCgqCiMTYUDfRYPmjKVUj\\\n",
       "lHio1RoLaQU8gGesp5DUVSJqNWktqBFrhKxVKjFWGiJIoq1gFBVqXA61sIgKCvPLzPvuhoVdBOs+\\\n",
       "C/O9rmQKMzvjznZ2eT57z+GpyrIsSwAAhNGhvXcAAIDKEoAAAMEIQACAYAQgAEAwAhAAIBgBCAAQ\\\n",
       "jAAEAAhGAAIABCMAAQCCEYAAAMEIQACAYAQgAEAwAhAAIBgBCAAQjAAEAAhGAAIABCMAAQCCEYAA\\\n",
       "AMEIQACAYAQgAEAwAhAAIBgBCAAQjAAEAAhGAAIABCMAAQCCEYAAAMEIQACAYAQgAEAwAhAAIBgB\\\n",
       "CAAQjAAEAAhGAAIABCMAAQCCEYAAAMEIQACAYAQgAEAwAhAAIBgBCAAQjAAEAAhGAAIABCMAAQCC\\\n",
       "EYAAAMEIQACAYAQgAEAwAhAAIBgBCAAQjAAEAAhGAAIABCMAAQCCEYAAAMEIQACAYAQgAEAwpQnA\\\n",
       "l19+OY0cOTL17t07VVVVpWeeeeYrt1mwYEE65ZRTUnV1dTrqqKPSo48+WpF9BQBoT6UJwE2bNqX+\\\n",
       "/fun2tra3Vr/vffeS+eee24666yz0tKlS9Ovf/3rdMkll6Tnn3++zfcVAKA9VWVZlqWSyUcA58yZ\\\n",
       "k0aNGtXqOhMnTkxz585Nb775ZtOyn/3sZ2n9+vWprq6uQnsKAFB5pRkB3FMLFy5MI0aMaLaspqam\\\n",
       "WA4AUGadUlD19fWpZ8+ezZbl8w0NDemzzz5L+++//07bbN68uZgabdu2LX388cfp29/+djHqCADs\\\n",
       "/bIsSxs3bizuG+jQIeZYWNgA/DqmTZuWbrrppvbeDQDgG7Bq1ar03e9+N0UUNgB79eqVVq9e3WxZ\\\n",
       "Pt+1a9cWR/9ykydPThMmTGia37BhQzrssMOKb6B8OwBg79fQ0JD69u2bDjzwwBRV2AAcOnRomjdv\\\n",
       "XrNlL7zwQrG8NfnjYvJpR3n8CUAA2LdUBb58qzQnvj/55JPicS751PiYl/zvK1eubBq9GzNmTNP6\\\n",
       "l19+eVqxYkW65ppr0rJly9L999+fnnjiiTR+/Ph2+xoAACqhNAH42muvpZNPPrmYcvmp2vzvU6ZM\\\n",
       "KeY/+uijphjMfe973yseA5OP+uXPD7znnnvSQw89VNwJDABQZqV8DmAlryHo1q1bcS2gU8AAsG/w\\\n",
       "+l2iEUAAAHaPAAQACEYAAgAEIwABAIIRgAAAwQhAAIBgBCAAQDACEAAgGAEIABCMAAQACEYAAgAE\\\n",
       "IwABAIIRgAAAwQhAAIBgBCAAQDACEAAgGAEIABCMAAQACEYAAgAEIwABAIIRgAAAwQhAAIBgBCAA\\\n",
       "QDACEAAgGAEIABCMAAQACEYAAgAEIwABAIIRgAAAwQhAAIBgBCAAQDACEAAgGAEIABCMAAQACEYA\\\n",
       "AgAEIwABAIIRgAAAwQhAAIBgBCAAQDACEAAgGAEIABCMAAQACEYAAgAEIwABAIIRgAAAwQhAAIBg\\\n",
       "BCAAQDACEAAgGAEIABCMAAQACEYAAgAEIwABAIIRgAAAwQhAAIBgBCAAQDACEAAgGAEIABCMAAQA\\\n",
       "CEYAAgAEIwABAIIRgAAAwQhAAIBgBCAAQDClCsDa2trUr1+/1KVLlzRkyJC0aNGiXa4/ffr0dMwx\\\n",
       "x6T9998/9e3bN40fPz59/vnnFdtfAID2UJoAnD17dpowYUKaOnVqWrJkSerfv3+qqalJa9asaXH9\\\n",
       "xx9/PE2aNKlY/6233koPP/xw8d+49tprK77vAACVVJoAvPfee9Oll16axo0bl44//vg0Y8aMdMAB\\\n",
       "B6RHHnmkxfVfffXVNGzYsHTBBRcUo4Znn312Ov/8879y1BAAYF9XigDcsmVLWrx4cRoxYkTTsg4d\\\n",
       "OhTzCxcubHGb008/vdimMfhWrFiR5s2bl84555yK7TcAQHvolEpg3bp1aevWralnz57Nlufzy5Yt\\\n",
       "a3GbfOQv3+6MM85IWZalL7/8Ml1++eW7PAW8efPmYmrU0NDwDX4VAACVUYoRwK9jwYIF6fbbb0/3\\\n",
       "339/cc3g008/nebOnZtuueWWVreZNm1a6tatW9OU3zgCALCvqcry4a8SnALOr/d76qmn0qhRo5qW\\\n",
       "jx07Nq1fvz795S9/2Wmb4cOHp9NOOy3dddddTcv++Mc/pssuuyx98sknxSnk3RkBzCNww4YNqWvX\\\n",
       "rm3ytQEA36yGhoZiICfy63cpRgA7d+6cBg4cmObPn9+0bNu2bcX80KFDW9zm008/3SnyOnbsWPzZ\\\n",
       "WhNXV1cX3yjbTwAA+5pSXAOYyx8Bk4/4DRo0KA0ePLh4xt+mTZuKu4JzY8aMSX369ClO4+ZGjhxZ\\\n",
       "3Dl88sknF88MfOedd9INN9xQLG8MQQCAMipNAI4ePTqtXbs2TZkyJdXX16cBAwakurq6phtDVq5c\\\n",
       "2WzE7/rrr09VVVXFnx9++GH6zne+U8Tfbbfd1o5fBQBA2yvFNYDtxTUEALDvafD6XY5rAAEA2H0C\\\n",
       "EAAgGAEIABCMAAQACEYAAgAEIwABAIIRgAAAwQhAAIBgBCAAQDACEAAgGAEIABCMAAQACEYAAgAE\\\n",
       "IwABAIIRgAAAwQhAAIBgBCAAQDACEAAgGAEIABCMAAQACEYAAgAEIwABAIIRgAAAwQhAAIBgBCAA\\\n",
       "QDACEAAgGAEIABCMAAQACEYAAgAEIwABAIIRgAAAwQhAAIBgBCAAQDACEAAgGAEIABCMAAQACEYA\\\n",
       "AgAEIwABAIIRgAAAwQhAAIBgBCAAQDACEAAgGAEIABCMAAQACEYAAgAEIwABAIIRgAAAwQhAAIBg\\\n",
       "BCAAQDACEAAgGAEIABCMAAQACEYAAgAEIwABAIIRgAAAwQhAAIBgBCAAQDACEAAgGAEIABCMAAQA\\\n",
       "CEYAAgAEIwABAIIRgAAAwZQqAGtra1O/fv1Sly5d0pAhQ9KiRYt2uf769evTlVdemQ499NBUXV2d\\\n",
       "jj766DRv3ryK7S8AQHvolEpi9uzZacKECWnGjBlF/E2fPj3V1NSk5cuXpx49euy0/pYtW9KPfvSj\\\n",
       "4mNPPfVU6tOnT/rggw/SQQcd1C77DwBQKVVZlmWpBPLoO/XUU9N9991XzG/bti317ds3XXXVVWnS\\\n",
       "pEk7rZ+H4l133ZWWLVuW9ttvv6/1ORsaGlK3bt3Shg0bUteuXf/nrwEAaHsNXr/LcQo4H81bvHhx\\\n",
       "GjFiRNOyDh06FPMLFy5scZtnn302DR06tDgF3LNnz3TCCSek22+/PW3durXVz7N58+bim2b7CQBg\\\n",
       "X1OKAFy3bl0RbnnIbS+fr6+vb3GbFStWFKd+8+3y6/5uuOGGdM8996Rbb7211c8zbdq04jeGxikf\\\n",
       "YQQA2NeUIgC/jvwUcX7934MPPpgGDhyYRo8ena677rri1HBrJk+eXAwXN06rVq2q6D4DAHwTSnET\\\n",
       "SPfu3VPHjh3T6tWrmy3P53v16tXiNvmdv/m1f/l2jY477rhixDA/pdy5c+edtsnvFM4nAIB9WSlG\\\n",
       "APNYy0fx5s+f32yEL5/Pr/NrybBhw9I777xTrNfo7bffLsKwpfgDACiLUgRgLn8EzMyZM9Njjz2W\\\n",
       "3nrrrfTLX/4ybdq0KY0bN674+JgxY4pTuI3yj3/88cfp6quvLsJv7ty5xU0g+U0hAABlVopTwLn8\\\n",
       "Gr61a9emKVOmFKdxBwwYkOrq6ppuDFm5cmVxZ3Cj/AaO559/Po0fPz6ddNJJxXMA8xicOHFiO34V\\\n",
       "AABtrzTPAWwPniMEAPueBq/f5TkFDADA7hGAAADBCEAAgGAEIABAMAIQACAYAQgAEIwABAAIRgAC\\\n",
       "AAQjAAEAghGAAADBCEAAgGAEIABAMAIQACAYAQgAEIwABAAIRgACAAQjAAEAghGAAADBCEAAgGAE\\\n",
       "IABAMAIQACAYAQgAEIwABAAIRgACAAQjAAEAghGAAADBCEAAgGAEIABAMAIQACAYAQgAEIwABAAI\\\n",
       "RgACAAQjAAEAghGAAADBCEAAgGAEIABAMAIQACAYAQgAEIwABAAIRgACAAQjAAEAghGAAADBCEAA\\\n",
       "gGAEIABAMAIQACAYAQgAEIwABAAIRgACAAQjAAEAghGAAADBCEAAgGAEIABAMAIQACAYAQgAEIwA\\\n",
       "BAAIRgACAAQjAAEAghGAAADBCEAAgGAEIABAMAIQACAYAQgAEIwABAAIplQBWFtbm/r165e6dOmS\\\n",
       "hgwZkhYtWrRb282aNStVVVWlUaNGtfk+AgC0t9IE4OzZs9OECRPS1KlT05IlS1L//v1TTU1NWrNm\\\n",
       "zS63e//999NvfvObNHz48IrtKwBAeypNAN57773p0ksvTePGjUvHH398mjFjRjrggAPSI4880uo2\\\n",
       "W7duTRdeeGG66aab0hFHHFHR/QUAaC+lCMAtW7akxYsXpxEjRjQt69ChQzG/cOHCVre7+eabU48e\\\n",
       "PdLFF1+8W59n8+bNqaGhodkEALCvKUUArlu3rhjN69mzZ7Pl+Xx9fX2L27zyyivp4YcfTjNnztzt\\\n",
       "zzNt2rTUrVu3pqlv377/874DAFRaKQJwT23cuDFddNFFRfx17959t7ebPHly2rBhQ9O0atWqNt1P\\\n",
       "AIC20CmVQB5xHTt2TKtXr262PJ/v1avXTuu/++67xc0fI0eObFq2bdu24s9OnTql5cuXpyOPPHKn\\\n",
       "7aqrq4sJAGBfVooRwM6dO6eBAwem+fPnNwu6fH7o0KE7rX/sscemN954Iy1durRpOu+889JZZ51V\\\n",
       "/N2pXQCgzEoxApjLHwEzduzYNGjQoDR48OA0ffr0tGnTpuKu4NyYMWNSnz59iuv48ucEnnDCCc22\\\n",
       "P+igg4o/d1wOAFA2pQnA0aNHp7Vr16YpU6YUN34MGDAg1dXVNd0YsnLlyuLOYACA6KqyLMvaeyf2\\\n",
       "VfljYPK7gfMbQrp27dreuwMA7IYGr9/luAYQAIDdJwABAIIRgAAAwQhAAIBgBCAAQDACEAAgGAEI\\\n",
       "ABCMAAQACEYAAgAEIwABAIIRgAAAwQhAAIBgBCAAQDACEAAgGAEIABCMAAQACEYAAgAEIwABAIIR\\\n",
       "gAAAwQhAAIBgBCAAQDACEAAgGAEIABCMAAQACEYAAgAEIwABAIIRgAAAwQhAAIBgBCAAQDACEAAg\\\n",
       "GAEIABCMAAQACEYAAgAEIwABAIIRgAAAwQhAAIBgBCAAQDACEAAgGAEIABCMAAQACEYAAgAEIwAB\\\n",
       "AIIRgAAAwQhAAIBgBCAAQDACEAAgGAEIABCMAAQACEYAAgAEIwABAIIRgAAAwQhAAIBgBCAAQDAC\\\n",
       "EAAgGAEIABCMAAQACEYAAgAEIwABAIIRgAAAwQhAAIBgBCAAQDACEAAgGAEIABBMqQKwtrY29evX\\\n",
       "L3Xp0iUNGTIkLVq0qNV1Z86cmYYPH54OPvjgYhoxYsQu1wcAKIvSBODs2bPThAkT0tSpU9OSJUtS\\\n",
       "//79U01NTVqzZk2L6y9YsCCdf/756aWXXkoLFy5Mffv2TWeffXb68MMPK77vAACVVJVlWZZKIB/x\\\n",
       "O/XUU9N9991XzG/btq2IuquuuipNmjTpK7ffunVrMRKYbz9mzJjd+pwNDQ2pW7duacOGDalr167/\\\n",
       "89cAALS9Bq/f5RgB3LJlS1q8eHFxGrdRhw4divl8dG93fPrpp+mLL75IhxxySKvrbN68ufim2X4C\\\n",
       "ANjXlCIA161bV4zg9ezZs9nyfL6+vn63/hsTJ05MvXv3bhaRO5o2bVrxG0PjlI8wAgDsa0oRgP+r\\\n",
       "O+64I82aNSvNmTOnuIGkNZMnTy6GixunVatWVXQ/AQC+CZ1SCXTv3j117NgxrV69utnyfL5Xr167\\\n",
       "3Pbuu+8uAvDFF19MJ5100i7Xra6uLiYAgH1ZKUYAO3funAYOHJjmz5/ftCy/CSSfHzp0aKvb3Xnn\\\n",
       "nemWW25JdXV1adCgQRXaWwCA9lWKEcBc/giYsWPHFiE3ePDgNH369LRp06Y0bty44uP5nb19+vQp\\\n",
       "ruPL/e53v0tTpkxJjz/+ePHswMZrBb/1rW8VEwBAWZUmAEePHp3Wrl1bRF0ecwMGDChG9hpvDFm5\\\n",
       "cmVxZ3CjBx54oLh7+Cc/+Umz/07+HMEbb7yx4vsPAFAppXkOYHvwHCEA2Pc0eP0uxzWAAADsPgEI\\\n",
       "ABCMAAQACEYAAgAEIwABAIIRgAAAwQhAAIBgBCAAQDACEAAgGAEIABCMAAQACEYAAgAEIwABAIIR\\\n",
       "gAAAwQhAAIBgBCAAQDACEAAgGAEIABCMAAQACEYAAgAEIwABAIIRgAAAwQhAAIBgBCAAQDACEAAg\\\n",
       "GAEIABCMAAQACEYAAgAEIwABAIIRgAAAwQhAAIBgBCAAQDACEAAgGAEIABCMAAQACEYAAgAEIwAB\\\n",
       "AIIRgAAAwQhAAIBgBCAAQDACEAAgGAEIABCMAAQACEYAAgAEIwABAIIRgAAAwQhAAIBgBCAAQDAC\\\n",
       "EAAgGAEIABCMAAQACEYAAgAEIwABAIIRgAAAwQhAAIBgBCAAQDACEAAgGAEIABCMAAQACEYAAgAE\\\n",
       "IwABAIIRgAAAwQhAAIBgShWAtbW1qV+/fqlLly5pyJAhadGiRbtc/8knn0zHHntssf6JJ56Y5s2b\\\n",
       "V7F9BQBoL6UJwNmzZ6cJEyakqVOnpiVLlqT+/funmpqatGbNmhbXf/XVV9P555+fLr744vT666+n\\\n",
       "UaNGFdObb75Z8X0HAKikqizLslQC+Yjfqaeemu67775iftu2balv377pqquuSpMmTdpp/dGjR6dN\\\n",
       "mzal5557rmnZaaedlgYMGJBmzJixW5+zoaEhdevWLW3YsCF17dr1G/xqAIC20uD1O3VKJbBly5a0\\\n",
       "ePHiNHny5KZlHTp0SCNGjEgLFy5scZt8eT5iuL18xPCZZ55p9fNs3ry5mBrl3ziN30gAwL6h4f+/\\\n",
       "bpdkDCxuAK5bty5t3bo19ezZs9nyfH7ZsmUtblNfX9/i+vny1kybNi3ddNNNOy3PRxoBgH3Lf/7z\\\n",
       "n2IkMKJSBGCl5COM248arl+/Ph1++OFp5cqVYb+B9qbf5vIQX7VqVdjh/L2FY7F3cTz2Ho7F3mPD\\\n",
       "hg3psMMOS4ccckiKqhQB2L1799SxY8e0evXqZsvz+V69erW4Tb58T9bPVVdXF9OO8vjzw7x3yI+D\\\n",
       "Y7F3cCz2Lo7H3sOx2Ht06FCae2H3WCm+8s6dO6eBAwem+fPnNy3LbwLJ54cOHdriNvny7dfPvfDC\\\n",
       "C62uDwBQFqUYAczlp2bHjh2bBg0alAYPHpymT59e3OU7bty44uNjxoxJffr0Ka7jy1199dXpzDPP\\\n",
       "TPfcc08699xz06xZs9Jrr72WHnzwwXb+SgAA2lZpAjB/rMvatWvTlClTihs58se51NXVNd3okV+n\\\n",
       "t/1Q7+mnn54ef/zxdP3116drr702ff/73y/uAD7hhBN2+3Pmp4Pz5w62dFqYynIs9h6Oxd7F8dh7\\\n",
       "OBZ7j2rHojzPAQQAINA1gAAA7D4BCAAQjAAEAAhGAAIABCMAv0JtbW3q169f6tKlSxoyZEhatGjR\\\n",
       "Ltd/8skn07HHHlusf+KJJ6Z58+ZVbF/Lbk+OxcyZM9Pw4cPTwQcfXEz5+0J/1bGj7X4uGuWPW6qq\\\n",
       "qkqjRo1q832MYk+PRf4ORldeeWU69NBDizsgjz76aP9OtePxyB9Zdswxx6T999+/eJeQ8ePHp88/\\\n",
       "/7xi+1tWL7/8cho5cmTq3bt38W9O/pSPr7JgwYJ0yimnFD8XRx11VHr00UdTqeV3AdOyWbNmZZ07\\\n",
       "d84eeeSR7J///Gd26aWXZgcddFC2evXqFtf/+9//nnXs2DG78847s3/961/Z9ddfn+23337ZG2+8\\\n",
       "UfF9j34sLrjggqy2tjZ7/fXXs7feeiv7+c9/nnXr1i3797//XfF9j34sGr333ntZnz59suHDh2c/\\\n",
       "/vGPK7a/Zbanx2Lz5s3ZoEGDsnPOOSd75ZVXimOyYMGCbOnSpRXf9zLa0+Pxpz/9Kauuri7+zI/F\\\n",
       "888/nx166KHZ+PHjK77vZTNv3rzsuuuuy55++un8SSfZnDlzdrn+ihUrsgMOOCCbMGFC8fr9+9//\\\n",
       "vng9r6ury8pKAO7C4MGDsyuvvLJpfuvWrVnv3r2zadOmtbj+T3/60+zcc89ttmzIkCHZL37xizbf\\\n",
       "17Lb02Oxoy+//DI78MADs8cee6wN9zKGr3Ms8v//Tz/99Oyhhx7Kxo4dKwDb6Vg88MAD2RFHHJFt\\\n",
       "2bKlgnsZx54ej3zdH/7wh82W5QEybNiwNt/XSHYnAK+55prsBz/4QbNlo0ePzmpqarKycgq4FVu2\\\n",
       "bEmLFy8uTh02yh8knc8vXLiwxW3y5duvn6upqWl1fdruWOzo008/TV988UXoN/5uz2Nx8803px49\\\n",
       "eqSLL764Qntafl/nWDz77LPF213mp4Dzh+TnD76//fbb09atWyu45+X0dY5H/oYE+TaNp4lXrFhR\\\n",
       "nI4/55xzKrbfxH39Ls07gXzT1q1bV/yj2PhOIo3y+WXLlrW4Tf4OJC2tny+nssdiRxMnTiyuBdnx\\\n",
       "B5y2PxavvPJKevjhh9PSpUsrtJcxfJ1jkQfG3/72t3ThhRcWofHOO++kK664ovjlKH9XBCp7PC64\\\n",
       "4IJiuzPOOCM/G5e+/PLLdPnllxfvTkVl1bfy+t3Q0JA+++yz4hrNsjECSOndcccdxc0Hc+bMKS7M\\\n",
       "pnI2btyYLrroouKmnO7du7f37oS3bdu2YiQ2f8/zgQMHFm+hed1116UZM2a0966FlN90kI/A3n//\\\n",
       "/WnJkiXp6aefTnPnzk233HJLe+8aARgBbEX+YtWxY8e0evXqZsvz+V69erW4Tb58T9an7Y5Fo7vv\\\n",
       "vrsIwBdffDGddNJJbbyn5benx+Ldd99N77//fnE33vYRkuvUqVNavnx5OvLIIyuw5+XzdX4u8jt/\\\n",
       "99tvv2K7Rscdd1wx+pGfwuzcuXOb73dZfZ3jccMNNxS/IF1yySXFfP7kiE2bNqXLLrusCPPt37+e\\\n",
       "ttWrldfvrl27lnL0L+e7qxX5P4T5b8jz589v9sKVz+fX0LQkX779+rkXXnih1fVpu2ORu/POO4vf\\\n",
       "pOvq6tKgQYMqtLfltqfHIn8k0htvvFGc/m2czjvvvHTWWWcVf88fe0Hlfi6GDRtWnPZtjPDc22+/\\\n",
       "XYSh+Kv88civTd4x8hrj/P/du0ClDI34+t3ed6Hs7bf057foP/roo8Vt4ZdddllxS399fX3x8Ysu\\\n",
       "uiibNGlSs8fAdOrUKbv77ruLR49MnTrVY2Da6VjccccdxeMYnnrqqeyjjz5qmjZu3NiOX0XMY7Ej\\\n",
       "dwG337FYuXJlcTf8r371q2z58uXZc889l/Xo0SO79dZb2/GriHs88teI/Hj8+c9/Lh5D8te//jU7\\\n",
       "8sgjiydK8L/J/63PHwOWT3nq3HvvvcXfP/jgg+LjkyZNKo7Hjo+B+e1vf1u8fuePEfMYmODyZwEd\\\n",
       "dthhRUzkt/j/4x//aPrYmWeeWbyYbe+JJ57Ijj766GL9/JbyuXPntsNel9OeHIvDDz+8+KHfccr/\\\n",
       "waXyPxfbE4DteyxeffXV4vFUeajkj4S57bbbisf08M3Yk+PxxRdfZDfeeGMRfV26dMn69u2bXXHF\\\n",
       "Fdl///vfdtr78njppZdafA1o/P9/7NixxfHYcZsBAwYUxy7/2fjDH/6QlVlV/j/tPQoJAEDluAYQ\\\n",
       "ACAYAQgAEIwABAAIRgACAAQjAAEAghGAAADBCEAAgGAEIABAMAIQACAYAQgAEIwABAAIRgACAAQj\\\n",
       "AAEAghGAAADBCEAAgGAEIABAMAIQACAYAQgAEIwABAAIRgACAAQjAAEAghGAAADBCEAAgGAEIABA\\\n",
       "MAIQACAYAQgAEIwABAAIRgACAAQjAAEAghGAAADBCEAAgBTL/wFEV9qKnOg6mgAAAABJRU5ErkJg\\\n",
       "gg==\\\n",
       "\"\n",
       "  frames[3] = \"data:image/png;base64,iVBORw0KGgoAAAANSUhEUgAAAoAAAAHgCAYAAAA10dzkAAAAOnRFWHRTb2Z0d2FyZQBNYXRwbG90\\\n",
       "bGliIHZlcnNpb24zLjEwLjEsIGh0dHBzOi8vbWF0cGxvdGxpYi5vcmcvc2/+5QAAAAlwSFlzAAAP\\\n",
       "YQAAD2EBqD+naQAAHJhJREFUeJzt3XuMFuX98OF7AVk0FdRSQChK1XqqCgqCiMTYUDfRYPmjKVUj\\\n",
       "lHio1RoLaQU8gGesp5DUVSJqNWktqBFrhKxVKjFWGiJIoq1gFBVqXA61sIgKCvPLzPvuhoVdBOs+\\\n",
       "C/O9rmQKMzvjznZ2eT57z+GpyrIsSwAAhNGhvXcAAIDKEoAAAMEIQACAYAQgAEAwAhAAIBgBCAAQ\\\n",
       "jAAEAAhGAAIABCMAAQCCEYAAAMEIQACAYAQgAEAwAhAAIBgBCAAQjAAEAAhGAAIABCMAAQCCEYAA\\\n",
       "AMEIQACAYAQgAEAwAhAAIBgBCAAQjAAEAAhGAAIABCMAAQCCEYAAAMEIQACAYAQgAEAwAhAAIBgB\\\n",
       "CAAQjAAEAAhGAAIABCMAAQCCEYAAAMEIQACAYAQgAEAwAhAAIBgBCAAQjAAEAAhGAAIABCMAAQCC\\\n",
       "EYAAAMEIQACAYAQgAEAwAhAAIBgBCAAQjAAEAAhGAAIABCMAAQCCEYAAAMEIQACAYAQgAEAwpQnA\\\n",
       "l19+OY0cOTL17t07VVVVpWeeeeYrt1mwYEE65ZRTUnV1dTrqqKPSo48+WpF9BQBoT6UJwE2bNqX+\\\n",
       "/fun2tra3Vr/vffeS+eee24666yz0tKlS9Ovf/3rdMkll6Tnn3++zfcVAKA9VWVZlqWSyUcA58yZ\\\n",
       "k0aNGtXqOhMnTkxz585Nb775ZtOyn/3sZ2n9+vWprq6uQnsKAFB5pRkB3FMLFy5MI0aMaLaspqam\\\n",
       "WA4AUGadUlD19fWpZ8+ezZbl8w0NDemzzz5L+++//07bbN68uZgabdu2LX388cfp29/+djHqCADs\\\n",
       "/bIsSxs3bizuG+jQIeZYWNgA/DqmTZuWbrrppvbeDQDgG7Bq1ar03e9+N0UUNgB79eqVVq9e3WxZ\\\n",
       "Pt+1a9cWR/9ykydPThMmTGia37BhQzrssMOKb6B8OwBg79fQ0JD69u2bDjzwwBRV2AAcOnRomjdv\\\n",
       "XrNlL7zwQrG8NfnjYvJpR3n8CUAA2LdUBb58qzQnvj/55JPicS751PiYl/zvK1eubBq9GzNmTNP6\\\n",
       "l19+eVqxYkW65ppr0rJly9L999+fnnjiiTR+/Ph2+xoAACqhNAH42muvpZNPPrmYcvmp2vzvU6ZM\\\n",
       "KeY/+uijphjMfe973yseA5OP+uXPD7znnnvSQw89VNwJDABQZqV8DmAlryHo1q1bcS2gU8AAsG/w\\\n",
       "+l2iEUAAAHaPAAQACEYAAgAEIwABAIIRgAAAwQhAAIBgBCAAQDACEAAgGAEIABCMAAQACEYAAgAE\\\n",
       "IwABAIIRgAAAwQhAAIBgBCAAQDACEAAgGAEIABCMAAQACEYAAgAEIwABAIIRgAAAwQhAAIBgBCAA\\\n",
       "QDACEAAgGAEIABCMAAQACEYAAgAEIwABAIIRgAAAwQhAAIBgBCAAQDACEAAgGAEIABCMAAQACEYA\\\n",
       "AgAEIwABAIIRgAAAwQhAAIBgBCAAQDACEAAgGAEIABCMAAQACEYAAgAEIwABAIIRgAAAwQhAAIBg\\\n",
       "BCAAQDACEAAgGAEIABCMAAQACEYAAgAEIwABAIIRgAAAwQhAAIBgBCAAQDACEAAgGAEIABCMAAQA\\\n",
       "CEYAAgAEIwABAIIRgAAAwQhAAIBgBCAAQDClCsDa2trUr1+/1KVLlzRkyJC0aNGiXa4/ffr0dMwx\\\n",
       "x6T9998/9e3bN40fPz59/vnnFdtfAID2UJoAnD17dpowYUKaOnVqWrJkSerfv3+qqalJa9asaXH9\\\n",
       "xx9/PE2aNKlY/6233koPP/xw8d+49tprK77vAACVVJoAvPfee9Oll16axo0bl44//vg0Y8aMdMAB\\\n",
       "B6RHHnmkxfVfffXVNGzYsHTBBRcUo4Znn312Ov/8879y1BAAYF9XigDcsmVLWrx4cRoxYkTTsg4d\\\n",
       "OhTzCxcubHGb008/vdimMfhWrFiR5s2bl84555yK7TcAQHvolEpg3bp1aevWralnz57Nlufzy5Yt\\\n",
       "a3GbfOQv3+6MM85IWZalL7/8Ml1++eW7PAW8efPmYmrU0NDwDX4VAACVUYoRwK9jwYIF6fbbb0/3\\\n",
       "339/cc3g008/nebOnZtuueWWVreZNm1a6tatW9OU3zgCALCvqcry4a8SnALOr/d76qmn0qhRo5qW\\\n",
       "jx07Nq1fvz795S9/2Wmb4cOHp9NOOy3dddddTcv++Mc/pssuuyx98sknxSnk3RkBzCNww4YNqWvX\\\n",
       "rm3ytQEA36yGhoZiICfy63cpRgA7d+6cBg4cmObPn9+0bNu2bcX80KFDW9zm008/3SnyOnbsWPzZ\\\n",
       "WhNXV1cX3yjbTwAA+5pSXAOYyx8Bk4/4DRo0KA0ePLh4xt+mTZuKu4JzY8aMSX369ClO4+ZGjhxZ\\\n",
       "3Dl88sknF88MfOedd9INN9xQLG8MQQCAMipNAI4ePTqtXbs2TZkyJdXX16cBAwakurq6phtDVq5c\\\n",
       "2WzE7/rrr09VVVXFnx9++GH6zne+U8Tfbbfd1o5fBQBA2yvFNYDtxTUEALDvafD6XY5rAAEA2H0C\\\n",
       "EAAgGAEIABCMAAQACEYAAgAEIwABAIIRgAAAwQhAAIBgBCAAQDACEAAgGAEIABCMAAQACEYAAgAE\\\n",
       "IwABAIIRgAAAwQhAAIBgBCAAQDACEAAgGAEIABCMAAQACEYAAgAEIwABAIIRgAAAwQhAAIBgBCAA\\\n",
       "QDACEAAgGAEIABCMAAQACEYAAgAEIwABAIIRgAAAwQhAAIBgBCAAQDACEAAgGAEIABCMAAQACEYA\\\n",
       "AgAEIwABAIIRgAAAwQhAAIBgBCAAQDACEAAgGAEIABCMAAQACEYAAgAEIwABAIIRgAAAwQhAAIBg\\\n",
       "BCAAQDACEAAgGAEIABCMAAQACEYAAgAEIwABAIIRgAAAwQhAAIBgBCAAQDACEAAgGAEIABCMAAQA\\\n",
       "CEYAAgAEIwABAIIRgAAAwZQqAGtra1O/fv1Sly5d0pAhQ9KiRYt2uf769evTlVdemQ499NBUXV2d\\\n",
       "jj766DRv3ryK7S8AQHvolEpi9uzZacKECWnGjBlF/E2fPj3V1NSk5cuXpx49euy0/pYtW9KPfvSj\\\n",
       "4mNPPfVU6tOnT/rggw/SQQcd1C77DwBQKVVZlmWpBPLoO/XUU9N9991XzG/bti317ds3XXXVVWnS\\\n",
       "pEk7rZ+H4l133ZWWLVuW9ttvv6/1ORsaGlK3bt3Shg0bUteuXf/nrwEAaHsNXr/LcQo4H81bvHhx\\\n",
       "GjFiRNOyDh06FPMLFy5scZtnn302DR06tDgF3LNnz3TCCSek22+/PW3durXVz7N58+bim2b7CQBg\\\n",
       "X1OKAFy3bl0RbnnIbS+fr6+vb3GbFStWFKd+8+3y6/5uuOGGdM8996Rbb7211c8zbdq04jeGxikf\\\n",
       "YQQA2NeUIgC/jvwUcX7934MPPpgGDhyYRo8ena677rri1HBrJk+eXAwXN06rVq2q6D4DAHwTSnET\\\n",
       "SPfu3VPHjh3T6tWrmy3P53v16tXiNvmdv/m1f/l2jY477rhixDA/pdy5c+edtsnvFM4nAIB9WSlG\\\n",
       "APNYy0fx5s+f32yEL5/Pr/NrybBhw9I777xTrNfo7bffLsKwpfgDACiLUgRgLn8EzMyZM9Njjz2W\\\n",
       "3nrrrfTLX/4ybdq0KY0bN674+JgxY4pTuI3yj3/88cfp6quvLsJv7ty5xU0g+U0hAABlVopTwLn8\\\n",
       "Gr61a9emKVOmFKdxBwwYkOrq6ppuDFm5cmVxZ3Cj/AaO559/Po0fPz6ddNJJxXMA8xicOHFiO34V\\\n",
       "AABtrzTPAWwPniMEAPueBq/f5TkFDADA7hGAAADBCEAAgGAEIABAMAIQACAYAQgAEIwABAAIRgAC\\\n",
       "AAQjAAEAghGAAADBCEAAgGAEIABAMAIQACAYAQgAEIwABAAIRgACAAQjAAEAghGAAADBCEAAgGAE\\\n",
       "IABAMAIQACAYAQgAEIwABAAIRgACAAQjAAEAghGAAADBCEAAgGAEIABAMAIQACAYAQgAEIwABAAI\\\n",
       "RgACAAQjAAEAghGAAADBCEAAgGAEIABAMAIQACAYAQgAEIwABAAIRgACAAQjAAEAghGAAADBCEAA\\\n",
       "gGAEIABAMAIQACAYAQgAEIwABAAIRgACAAQjAAEAghGAAADBCEAAgGAEIABAMAIQACAYAQgAEIwA\\\n",
       "BAAIRgACAAQjAAEAghGAAADBCEAAgGAEIABAMAIQACAYAQgAEIwABAAIplQBWFtbm/r165e6dOmS\\\n",
       "hgwZkhYtWrRb282aNStVVVWlUaNGtfk+AgC0t9IE4OzZs9OECRPS1KlT05IlS1L//v1TTU1NWrNm\\\n",
       "zS63e//999NvfvObNHz48IrtKwBAeypNAN57773p0ksvTePGjUvHH398mjFjRjrggAPSI4880uo2\\\n",
       "W7duTRdeeGG66aab0hFHHFHR/QUAaC+lCMAtW7akxYsXpxEjRjQt69ChQzG/cOHCVre7+eabU48e\\\n",
       "PdLFF1+8W59n8+bNqaGhodkEALCvKUUArlu3rhjN69mzZ7Pl+Xx9fX2L27zyyivp4YcfTjNnztzt\\\n",
       "zzNt2rTUrVu3pqlv377/874DAFRaKQJwT23cuDFddNFFRfx17959t7ebPHly2rBhQ9O0atWqNt1P\\\n",
       "AIC20CmVQB5xHTt2TKtXr262PJ/v1avXTuu/++67xc0fI0eObFq2bdu24s9OnTql5cuXpyOPPHKn\\\n",
       "7aqrq4sJAGBfVooRwM6dO6eBAwem+fPnNwu6fH7o0KE7rX/sscemN954Iy1durRpOu+889JZZ51V\\\n",
       "/N2pXQCgzEoxApjLHwEzduzYNGjQoDR48OA0ffr0tGnTpuKu4NyYMWNSnz59iuv48ucEnnDCCc22\\\n",
       "P+igg4o/d1wOAFA2pQnA0aNHp7Vr16YpU6YUN34MGDAg1dXVNd0YsnLlyuLOYACA6KqyLMvaeyf2\\\n",
       "VfljYPK7gfMbQrp27dreuwMA7IYGr9/luAYQAIDdJwABAIIRgAAAwQhAAIBgBCAAQDACEAAgGAEI\\\n",
       "ABCMAAQACEYAAgAEIwABAIIRgAAAwQhAAIBgBCAAQDACEAAgGAEIABCMAAQACEYAAgAEIwABAIIR\\\n",
       "gAAAwQhAAIBgBCAAQDACEAAgGAEIABCMAAQACEYAAgAEIwABAIIRgAAAwQhAAIBgBCAAQDACEAAg\\\n",
       "GAEIABCMAAQACEYAAgAEIwABAIIRgAAAwQhAAIBgBCAAQDACEAAgGAEIABCMAAQACEYAAgAEIwAB\\\n",
       "AIIRgAAAwQhAAIBgBCAAQDACEAAgGAEIABCMAAQACEYAAgAEIwABAIIRgAAAwQhAAIBgBCAAQDAC\\\n",
       "EAAgGAEIABCMAAQACEYAAgAEIwABAIIRgAAAwQhAAIBgBCAAQDACEAAgGAEIABBMqQKwtrY29evX\\\n",
       "L3Xp0iUNGTIkLVq0qNV1Z86cmYYPH54OPvjgYhoxYsQu1wcAKIvSBODs2bPThAkT0tSpU9OSJUtS\\\n",
       "//79U01NTVqzZk2L6y9YsCCdf/756aWXXkoLFy5Mffv2TWeffXb68MMPK77vAACVVJVlWZZKIB/x\\\n",
       "O/XUU9N9991XzG/btq2IuquuuipNmjTpK7ffunVrMRKYbz9mzJjd+pwNDQ2pW7duacOGDalr167/\\\n",
       "89cAALS9Bq/f5RgB3LJlS1q8eHFxGrdRhw4divl8dG93fPrpp+mLL75IhxxySKvrbN68ufim2X4C\\\n",
       "ANjXlCIA161bV4zg9ezZs9nyfL6+vn63/hsTJ05MvXv3bhaRO5o2bVrxG0PjlI8wAgDsa0oRgP+r\\\n",
       "O+64I82aNSvNmTOnuIGkNZMnTy6GixunVatWVXQ/AQC+CZ1SCXTv3j117NgxrV69utnyfL5Xr167\\\n",
       "3Pbuu+8uAvDFF19MJ5100i7Xra6uLiYAgH1ZKUYAO3funAYOHJjmz5/ftCy/CSSfHzp0aKvb3Xnn\\\n",
       "nemWW25JdXV1adCgQRXaWwCA9lWKEcBc/giYsWPHFiE3ePDgNH369LRp06Y0bty44uP5nb19+vQp\\\n",
       "ruPL/e53v0tTpkxJjz/+ePHswMZrBb/1rW8VEwBAWZUmAEePHp3Wrl1bRF0ecwMGDChG9hpvDFm5\\\n",
       "cmVxZ3CjBx54oLh7+Cc/+Umz/07+HMEbb7yx4vsPAFAppXkOYHvwHCEA2Pc0eP0uxzWAAADsPgEI\\\n",
       "ABCMAAQACEYAAgAEIwABAIIRgAAAwQhAAIBgBCAAQDACEAAgGAEIABCMAAQACEYAAgAEIwABAIIR\\\n",
       "gAAAwQhAAIBgBCAAQDACEAAgGAEIABCMAAQACEYAAgAEIwABAIIRgAAAwQhAAIBgBCAAQDACEAAg\\\n",
       "GAEIABCMAAQACEYAAgAEIwABAIIRgAAAwQhAAIBgBCAAQDACEAAgGAEIABCMAAQACEYAAgAEIwAB\\\n",
       "AIIRgAAAwQhAAIBgBCAAQDACEAAgGAEIABCMAAQACEYAAgAEIwABAIIRgAAAwQhAAIBgBCAAQDAC\\\n",
       "EAAgGAEIABCMAAQACEYAAgAEIwABAIIRgAAAwQhAAIBgBCAAQDACEAAgGAEIABCMAAQACEYAAgAE\\\n",
       "IwABAIIRgAAAwQhAAIBgShWAtbW1qV+/fqlLly5pyJAhadGiRbtc/8knn0zHHntssf6JJ56Y5s2b\\\n",
       "V7F9BQBoL6UJwNmzZ6cJEyakqVOnpiVLlqT+/funmpqatGbNmhbXf/XVV9P555+fLr744vT666+n\\\n",
       "UaNGFdObb75Z8X0HAKikqizLslQC+Yjfqaeemu67775iftu2balv377pqquuSpMmTdpp/dGjR6dN\\\n",
       "mzal5557rmnZaaedlgYMGJBmzJixW5+zoaEhdevWLW3YsCF17dr1G/xqAIC20uD1O3VKJbBly5a0\\\n",
       "ePHiNHny5KZlHTp0SCNGjEgLFy5scZt8eT5iuL18xPCZZ55p9fNs3ry5mBrl3ziN30gAwL6h4f+/\\\n",
       "bpdkDCxuAK5bty5t3bo19ezZs9nyfH7ZsmUtblNfX9/i+vny1kybNi3ddNNNOy3PRxoBgH3Lf/7z\\\n",
       "n2IkMKJSBGCl5COM248arl+/Ph1++OFp5cqVYb+B9qbf5vIQX7VqVdjh/L2FY7F3cTz2Ho7F3mPD\\\n",
       "hg3psMMOS4ccckiKqhQB2L1799SxY8e0evXqZsvz+V69erW4Tb58T9bPVVdXF9OO8vjzw7x3yI+D\\\n",
       "Y7F3cCz2Lo7H3sOx2Ht06FCae2H3WCm+8s6dO6eBAwem+fPnNy3LbwLJ54cOHdriNvny7dfPvfDC\\\n",
       "C62uDwBQFqUYAczlp2bHjh2bBg0alAYPHpymT59e3OU7bty44uNjxoxJffr0Ka7jy1199dXpzDPP\\\n",
       "TPfcc08699xz06xZs9Jrr72WHnzwwXb+SgAA2lZpAjB/rMvatWvTlClTihs58se51NXVNd3okV+n\\\n",
       "t/1Q7+mnn54ef/zxdP3116drr702ff/73y/uAD7hhBN2+3Pmp4Pz5w62dFqYynIs9h6Oxd7F8dh7\\\n",
       "OBZ7j2rHojzPAQQAINA1gAAA7D4BCAAQjAAEAAhGAAIABCMAv0JtbW3q169f6tKlSxoyZEhatGjR\\\n",
       "Ltd/8skn07HHHlusf+KJJ6Z58+ZVbF/Lbk+OxcyZM9Pw4cPTwQcfXEz5+0J/1bGj7X4uGuWPW6qq\\\n",
       "qkqjRo1q832MYk+PRf4ORldeeWU69NBDizsgjz76aP9OtePxyB9Zdswxx6T999+/eJeQ8ePHp88/\\\n",
       "/7xi+1tWL7/8cho5cmTq3bt38W9O/pSPr7JgwYJ0yimnFD8XRx11VHr00UdTqeV3AdOyWbNmZZ07\\\n",
       "d84eeeSR7J///Gd26aWXZgcddFC2evXqFtf/+9//nnXs2DG78847s3/961/Z9ddfn+23337ZG2+8\\\n",
       "UfF9j34sLrjggqy2tjZ7/fXXs7feeiv7+c9/nnXr1i3797//XfF9j34sGr333ntZnz59suHDh2c/\\\n",
       "/vGPK7a/Zbanx2Lz5s3ZoEGDsnPOOSd75ZVXimOyYMGCbOnSpRXf9zLa0+Pxpz/9Kauuri7+zI/F\\\n",
       "888/nx166KHZ+PHjK77vZTNv3rzsuuuuy55++un8SSfZnDlzdrn+ihUrsgMOOCCbMGFC8fr9+9//\\\n",
       "vng9r6ury8pKAO7C4MGDsyuvvLJpfuvWrVnv3r2zadOmtbj+T3/60+zcc89ttmzIkCHZL37xizbf\\\n",
       "17Lb02Oxoy+//DI78MADs8cee6wN9zKGr3Ms8v//Tz/99Oyhhx7Kxo4dKwDb6Vg88MAD2RFHHJFt\\\n",
       "2bKlgnsZx54ej3zdH/7wh82W5QEybNiwNt/XSHYnAK+55prsBz/4QbNlo0ePzmpqarKycgq4FVu2\\\n",
       "bEmLFy8uTh02yh8knc8vXLiwxW3y5duvn6upqWl1fdruWOzo008/TV988UXoN/5uz2Nx8803px49\\\n",
       "eqSLL764Qntafl/nWDz77LPF213mp4Dzh+TnD76//fbb09atWyu45+X0dY5H/oYE+TaNp4lXrFhR\\\n",
       "nI4/55xzKrbfxH39Ls07gXzT1q1bV/yj2PhOIo3y+WXLlrW4Tf4OJC2tny+nssdiRxMnTiyuBdnx\\\n",
       "B5y2PxavvPJKevjhh9PSpUsrtJcxfJ1jkQfG3/72t3ThhRcWofHOO++kK664ovjlKH9XBCp7PC64\\\n",
       "4IJiuzPOOCM/G5e+/PLLdPnllxfvTkVl1bfy+t3Q0JA+++yz4hrNsjECSOndcccdxc0Hc+bMKS7M\\\n",
       "pnI2btyYLrroouKmnO7du7f37oS3bdu2YiQ2f8/zgQMHFm+hed1116UZM2a0966FlN90kI/A3n//\\\n",
       "/WnJkiXp6aefTnPnzk233HJLe+8aARgBbEX+YtWxY8e0evXqZsvz+V69erW4Tb58T9an7Y5Fo7vv\\\n",
       "vrsIwBdffDGddNJJbbyn5benx+Ldd99N77//fnE33vYRkuvUqVNavnx5OvLIIyuw5+XzdX4u8jt/\\\n",
       "99tvv2K7Rscdd1wx+pGfwuzcuXOb73dZfZ3jccMNNxS/IF1yySXFfP7kiE2bNqXLLrusCPPt37+e\\\n",
       "ttWrldfvrl27lnL0L+e7qxX5P4T5b8jz589v9sKVz+fX0LQkX779+rkXXnih1fVpu2ORu/POO4vf\\\n",
       "pOvq6tKgQYMqtLfltqfHIn8k0htvvFGc/m2czjvvvHTWWWcVf88fe0Hlfi6GDRtWnPZtjPDc22+/\\\n",
       "XYSh+Kv88civTd4x8hrj/P/du0ClDI34+t3ed6Hs7bf057foP/roo8Vt4ZdddllxS399fX3x8Ysu\\\n",
       "uiibNGlSs8fAdOrUKbv77ruLR49MnTrVY2Da6VjccccdxeMYnnrqqeyjjz5qmjZu3NiOX0XMY7Ej\\\n",
       "dwG337FYuXJlcTf8r371q2z58uXZc889l/Xo0SO79dZb2/GriHs88teI/Hj8+c9/Lh5D8te//jU7\\\n",
       "8sgjiydK8L/J/63PHwOWT3nq3HvvvcXfP/jgg+LjkyZNKo7Hjo+B+e1vf1u8fuePEfMYmODyZwEd\\\n",
       "dthhRUzkt/j/4x//aPrYmWeeWbyYbe+JJ57Ijj766GL9/JbyuXPntsNel9OeHIvDDz+8+KHfccr/\\\n",
       "waXyPxfbE4DteyxeffXV4vFUeajkj4S57bbbisf08M3Yk+PxxRdfZDfeeGMRfV26dMn69u2bXXHF\\\n",
       "Fdl///vfdtr78njppZdafA1o/P9/7NixxfHYcZsBAwYUxy7/2fjDH/6QlVlV/j/tPQoJAEDluAYQ\\\n",
       "ACAYAQgAEIwABAAIRgACAAQjAAEAghGAAADBCEAAgGAEIABAMAIQACAYAQgAEIwABAAIRgACAAQj\\\n",
       "AAEAghGAAADBCEAAgGAEIABAMAIQACAYAQgAEIwABAAIRgACAAQjAAEAghGAAADBCEAAgGAEIABA\\\n",
       "MAIQACAYAQgAEIwABAAIRgACAAQjAAEAghGAAADBCEAAgBTL/wFEV9qKnOg6mgAAAABJRU5ErkJg\\\n",
       "gg==\\\n",
       "\"\n",
       "\n",
       "\n",
       "    /* set a timeout to make sure all the above elements are created before\n",
       "       the object is initialized. */\n",
       "    setTimeout(function() {\n",
       "        anim582d3b0e93fb4b888e7291ecd86e4f1d = new Animation(frames, img_id, slider_id, 500.0,\n",
       "                                 loop_select_id);\n",
       "    }, 0);\n",
       "  })()\n",
       "</script>\n"
      ],
      "text/plain": [
       "<IPython.core.display.HTML object>"
      ]
     },
     "execution_count": 16,
     "metadata": {},
     "output_type": "execute_result"
    },
    {
     "data": {
      "image/png": "[encoded data removed]",
      "text/plain": [
       "<Figure size 640x480 with 1 Axes>"
      ]
     },
     "metadata": {},
     "output_type": "display_data"
    }
   ],
   "source": [
    "import matplotlib.pyplot as plt \n",
    "from matplotlib.animation import FuncAnimation\n",
    "from IPython.display import HTML\n",
    "\n",
    "f = lambda x: x**2\n",
    "a, b = 0, 4\n",
    "n = 4\n",
    "h = (b-a)/n\n",
    "\n",
    "fig, ax = plt.subplots()\n",
    "def animate(frame):\n",
    "    ax.clear()\n",
    "    # Código similar al anterior, actualizando con frame\n",
    "ani = FuncAnimation(fig, animate, frames=n, interval=500)\n",
    "HTML(ani.to_jshtml())\n",
    "\n"
   ]
  },
  {
   "cell_type": "markdown",
   "id": "a5b30fe2",
   "metadata": {},
   "source": [
    "\n",
    "#### **5.3. Casio 991LA cw**  \n",
    "- **Pasos Manuales**:  \n",
    "  1. Ingresar puntos $(x_i, f(x_i))$.  \n",
    "  2. Calcular $\\sum$ usando la fórmula del trapecio.  \n",
    "\n",
    "---\n"
   ]
  },
  {
   "cell_type": "markdown",
   "id": "c58f2299",
   "metadata": {},
   "source": [
    "\n",
    "### **6. Función para Calcular $n$ con Precisión $\\epsilon$**  \n"
   ]
  },
  {
   "cell_type": "code",
   "execution_count": null,
   "id": "3cf1802a",
   "metadata": {},
   "outputs": [],
   "source": [
    "\n",
    "def calcular_n(f, a, b, epsilon = 0.0001):\n",
    "    from sympy import symbols, diff, lambdify, Maximum\n",
    "    x = symbols('x')\n",
    "    f2_deriv = diff(f(x), x, 2)\n",
    "    f2_max = Maximum(f2_deriv, x, Interval(a, b))\n",
    "    h = np.sqrt(( (b-a)**3 * abs(f2_max) ) / (12 * epsilon))\n",
    "    n = int(np.ceil((b - a) / h))\n",
    "    return n\n",
    "\n"
   ]
  },
  {
   "cell_type": "code",
   "execution_count": null,
   "id": "0c153785",
   "metadata": {},
   "outputs": [],
   "source": []
  },
  {
   "cell_type": "markdown",
   "id": "74fea38d",
   "metadata": {},
   "source": [
    "### **7. Actividades de Aprendizaje**  \n",
    "- **Prueba de Escritorio** (ejemplo):  \n",
    "  - Entrada: $f(x) = x^2$, $a=0$, $b=2$, $n=4$.  \n",
    "  - Salida esperada: $\\frac{1}{2}[0 + 2(0.25 + 1 + 2.25) + 4] = 4.25$.  \n"
   ]
  },
  {
   "cell_type": "markdown",
   "id": "dcb6fbb5",
   "metadata": {},
   "source": [
    "\n",
    "- **Diagrama de Flujo**:  \n",
    "  ```mermaid\n",
    "  graph TD\n",
    "  A[Inicio] --> B[Leer a, b, n]\n",
    "  B --> C[Calcular h]\n",
    "  C --> D[Inicializar suma]\n",
    "  D --> E[Loop i=1 a n-1]\n",
    "  E --> F[Actualizar suma]\n",
    "  F --> G[Calcular área]\n",
    "  G --> H[Fin]\n",
    "  ```\n",
    "\n",
    "\n"
   ]
  },
  {
   "cell_type": "markdown",
   "id": "d51fe8a3",
   "metadata": {},
   "source": [
    "\n",
    "### **8. Canción del Trapecio (Estilo Vallenato)**  \n",
    "*\"Con Newton y Cotes, la regla nació,  \n",
    "dividiendo el área en trapecios de amor.  \n",
    "¡Suma las bases, multiplica por h,  \n",
    "y entre dos lo divides, pa’ que cuadre bien!  \n",
    "¡Ay, trapecio, trapecio, tu fórmula es vital,  \n",
    "pa’ medir el maíz en el agro nacional!\"*  \n",
    "\n",
    "---\n"
   ]
  },
  {
   "cell_type": "markdown",
   "id": "218400ca",
   "metadata": {},
   "source": [
    "\n",
    "### **9. Tarea**  \n",
    "1. **Geométrica**: Dibuja 4 trapecios bajo $f(x) = \\sin(x)$ en $[0, \\pi]$.  \n",
    "2. **Verbal**: Describe el algoritmo para un ingeniero que no sabe matemáticas.  \n",
    "3. **Python**: Implementa `trapecio` y prueba con $n=4$.  \n",
    "4. **Manual**: Calcula $\\int_0^2 x^3 dx$ con $n=4$ a mano.  \n",
    "\n",
    "---\n"
   ]
  },
  {
   "cell_type": "markdown",
   "id": "48e466ad",
   "metadata": {},
   "source": [
    "\n",
    "### **10. Evaluación**  \n",
    "- **Quiz Ejemplo**:  \n",
    "  \"Calcule $\\int_1^3 2x dx$ con $n=4$ usando la regla del trapecio.\"  \n",
    "- **Parcial**:  \n",
    "  Proyecto STEAMS: \"Use la regla del trapecio para estimar el área cultivable de una finca en Caucasia usando datos satelitales (CSV en GitHub).\"  \n",
    "\n",
    "---\n"
   ]
  },
  {
   "cell_type": "markdown",
   "id": "b7cd33f4",
   "metadata": {},
   "source": [
    "\n",
    "### **11. Retroalimentación**  \n",
    "- **Peer Review**: Intercambien códigos en GitHub y evalúen con rúbricas (precisión, comentarios, estilo).  \n",
    "\n",
    "---\n"
   ]
  },
  {
   "cell_type": "markdown",
   "id": "1f2ba63b",
   "metadata": {},
   "source": [
    "\n",
    "### **12. Vocabulario en Inglés**  \n",
    "- Trapezoidal Rule / Numerical Integration / Partition / Error Bound / Code Snippet / Precision.  \n",
    "\n",
    "---\n"
   ]
  },
  {
   "cell_type": "markdown",
   "id": "5e92916b",
   "metadata": {},
   "source": [
    "\n",
    "### **13. Apéndice: Habilidades Blandas**  \n",
    "- **Trabajo en Equipo**: Usen Git para fusionar códigos.  \n",
    "- **Inteligencia Emocional**: Antes del quiz, respiren hondo y recuerden: \"El error es parte del aprendizaje\".  \n",
    "\n",
    "--- \n"
   ]
  },
  {
   "cell_type": "markdown",
   "id": "a28b8219",
   "metadata": {},
   "source": [
    "\n",
    "**¡Listo!** Los estudiantes aprenderán haciendo, con código, tierra y pasión. ¿Necesitas el código completo de las visualizaciones?"
   ]
  },
  {
   "cell_type": "markdown",
   "id": "239427f7",
   "metadata": {},
   "source": [
    "# ARTÍCULO 1. Definir el calendario académico para los diferentes programas de pregrado de los campus\n",
    "regionalizados, correspondiente al primer periodo académico del año 2025, así:\n",
    "* Oferta 28 de enero de 2025\n",
    "* Matrícula 30 de enero de 2025\n",
    "* Ajustes 03 al 10 de febrero de 2025\n",
    "* Inicio de clases 10 de febrero de 2025\n",
    "* Límite evaluación del 40% 06 de abril de 2025\n",
    "* Terminación de clases 08 de junio de 2025\n",
    "* Exámenes finales 09 al 15 de junio de 2025\n",
    "* Habilitación y validación 16 al 22 de junio de 2025\n",
    "* Terminación oficial 23 de junio de 2025"
   ]
  },
  {
   "cell_type": "code",
   "execution_count": null,
   "id": "cc539357",
   "metadata": {},
   "outputs": [],
   "source": []
  },
  {
   "cell_type": "markdown",
   "id": "740f3401",
   "metadata": {
    "slideshow": {
     "slide_type": "slide"
    }
   },
   "source": [
    "# Componente de manejo de calculadora Casio asociado al objetivo de aprendizaje de esta clase  \n",
    "\n",
    "## Pasos para lograr el objetivo de aprendizaje con la experimentación en la calculadora Casio 991LA cw  "
   ]
  },
  {
   "cell_type": "markdown",
   "id": "8ba64aed",
   "metadata": {},
   "source": [
    "# Cursos que orienta el profesor Marco Julio Cañas Campillo en 2025  \n",
    "\n",
    "1. Práctica Pedagógica V para Licenciatura en Educación Infantil\n",
    "2. Fundamentos de Lógica para Licenciatura en Matemáticas \n",
    "3. Análisis Numérico para Licenciatura en Matemáticas. \n",
    "4. Cálculo Vectorial para Ingeniería Agropecuaria"
   ]
  },
  {
   "cell_type": "markdown",
   "id": "8d41fe58",
   "metadata": {
    "slideshow": {
     "slide_type": "slide"
    }
   },
   "source": [
    "# Horario de clases del profesor Marco\n",
    "\n",
    "* Lunes 8-12: Cálculo Vectorial\n",
    "* Martes 8-12 M: Fundamentos de Aritmética. \n",
    "* Miércoles 8 a 12 M: Fundamentos de la Lógica\n",
    "* Jueves 2 a 6 PM: Desarrollo del pensamiento matemático en la infancia. \n",
    "* Viernes 8 - 12 M: Desarrollo del pensamiento matemático en la infancia. \n",
    "* Sábados 8-12 Asesorías y espacio para retroalimentación y apoyo al trabajo independiente. "
   ]
  },
  {
   "cell_type": "markdown",
   "id": "ae114e14",
   "metadata": {
    "slideshow": {
     "slide_type": "slide"
    }
   },
   "source": [
    "# Horarios de monitoría y asesoría  \n",
    "\n",
    "Coordinador de los cursos de la Facultad de Educación para regiones:    \n",
    "\n",
    "Andrés Vélez: regioneducacion.fedu@udea.edu.co  \n",
    "Coordinador Regiones  \n",
    "Facultad de Educación  \n",
    "Universidad de Antioquia  "
   ]
  },
  {
   "cell_type": "markdown",
   "id": "b1db4b6c",
   "metadata": {
    "slideshow": {
     "slide_type": "slide"
    }
   },
   "source": [
    "## Monitor Manuel San Juan Serrano\n",
    "\n",
    "Contactar escribiendo al correo: manuel.serrano1@udea.edu.co"
   ]
  },
  {
   "cell_type": "markdown",
   "id": "39559692",
   "metadata": {
    "slideshow": {
     "slide_type": "slide"
    }
   },
   "source": [
    "Martes y jueves de 8 - 12  \n",
    "Miércoles 10 - 12 y de 2 a 4 PM  \n",
    "Sábado: 8 - 12"
   ]
  },
  {
   "cell_type": "markdown",
   "id": "10bce0d0",
   "metadata": {
    "slideshow": {
     "slide_type": "slide"
    }
   },
   "source": [
    "## Referentes "
   ]
  },
  {
   "cell_type": "markdown",
   "id": "1db3c468",
   "metadata": {
    "slideshow": {
     "slide_type": "slide"
    }
   },
   "source": [
    "* [CALCULO I DE UNA VARIABLE Ron Larson-Bruce Edwards. Mc Graw Hill. 9º Edición](https://www.academia.edu/42139251/CALCULO_I_DE_UNA_VARIABLE_Ron_Larson_Bruce_Edwards_Mc_Graw_Hill_9o_Edici%C3%B3n)   \n",
    "  \n",
    "\n",
    "* [Grajales Vanegas, L. M., Restrepo Estrada, C. E., Restrepo Ochoa, S. I., & Ruíz De Villalba, F. (2015). Matemáticas I para las ciencias económicas.](https://bibliotecadigital.udea.edu.co/handle/10495/3010)\n",
    "  \n",
    "* R. Duval y Semiosis y pensamiento humano, 2.ª ed. Cali, Colombia: Programa Editorial Universidad del Valle, 2017. [En línea]. Disponible en: https://programaeditorial.univalle.edu.co/gpd-semiosis-y-pensamiento-humano-9789587655278-63324cdb0f6b3.html\n",
    "\n",
    "* [Aylwin, C. U. (2011). Lógica, conjuntos y números. Universidad de los Andes, Consejo de Publicaciones, Colección: Ciencias Básicas, Serie: Matemáticas.](chrome-extension://efaidnbmnnnibpcajpcglclefindmkaj/https://www.u-cursos.cl/ciencias/2011/1/MC110/1/material_docente/bajar?id_material=574722)\n",
    "  \n",
    "* [Chollet, F. (2021). Deep learning with Python. Simon and Schuster.](chrome-extension://efaidnbmnnnibpcajpcglclefindmkaj/https://tanthiamhuat.wordpress.com/wp-content/uploads/2018/03/deeplearningwithpython.pdf)  \n",
    "  \n",
    "* [Watson, S., Stewart, J., & Redlin, L. (2009). Precálculo. Matemáticas para el cálculo.](https://github.com/marco-canas/calculo/blob/main/referents/1_precalculo_stewart/stewart_precalculo.pdf)  \n",
    "\n",
    "* [Purcell, E. J., Varberg, D., & Rigdon, S. E. (2007). Cálculo diferencial e integral. Pearson Educación.](https://github.com/marco-canas/calculo/blob/main/referents/purcell/purcell_calculo.pdf)\n",
    "\n",
    "  \n",
    "\n",
    "* [stewart cálculo](https://udeaeduco-my.sharepoint.com/:b:/g/personal/marco_canas_udea_edu_co/EZgXZjAp8QxPqOAim2hs6LcBNPLGjSHf-xwYnUVYkwa04w?e=RZdTCy)  \n",
    "\n",
    "\n",
    "\n",
    "\n",
    "\n",
    "* [Recomendación de la UNESCO sobre ciencia abierta](https://unesdoc.unesco.org/ark:/48223/pf0000379949_spa)\n",
    "\n",
    "* [chatGPT](https://openai.com/blog/chatgpt)  \n",
    "\n",
    "* [Géron, A. (2017). Hands-on machine learning with scikit-learn and tensorflow: Concepts. Tools, and Techniques to build intelligent systems.](chrome-extension://efaidnbmnnnibpcajpcglclefindmkaj/http://14.139.161.31/OddSem-0822-1122/Hands-On_Machine_Learning_with_Scikit-Learn-Keras-and-TensorFlow-2nd-Edition-Aurelien-Geron.pdf)   \n"
   ]
  },
  {
   "cell_type": "markdown",
   "id": "df925560",
   "metadata": {},
   "source": [
    "\n",
    "* [McKinney, W. (2012). Python for data analysis: Data wrangling with Pandas, NumPy, and IPython. \" O'Reilly Media, Inc.\".](https://wesmckinney.com/book/) "
   ]
  },
  {
   "cell_type": "markdown",
   "id": "8e65d6f9",
   "metadata": {},
   "source": [
    "# Como estudiante, encuentro que...   \n",
    "\n",
    "F: Mis Fortalezas son:     \n",
    "O: Mis Oportunidades son:    \n",
    "D: Mis Debilidades son:    \n",
    "A: Lo que Amenazas mi aprendizaje es:  "
   ]
  },
  {
   "cell_type": "markdown",
   "id": "6b9e56a8",
   "metadata": {
    "slideshow": {
     "slide_type": "slide"
    }
   },
   "source": [
    "### [Evaluamos al profesor Marco Cañas Aquí](https://forms.office.com/Pages/ResponsePage.aspx?id=IefhmYRxjkmK_7KtTlPBwkanXIs1i1FEujpsZgO6dXpUREJPV1kxUk1JV1ozTFJIQVNIQjY5WEY3US4u)"
   ]
  },
  {
   "cell_type": "markdown",
   "id": "10f43536",
   "metadata": {
    "slideshow": {
     "slide_type": "slide"
    }
   },
   "source": [
    "### Continue su aprendizaje en la siguiente clase a través del siguiente [vínculo]()"
   ]
  },
  {
   "cell_type": "markdown",
   "id": "53cc9115",
   "metadata": {
    "slideshow": {
     "slide_type": "slide"
    }
   },
   "source": [
    "## Agradecimientos  \n",
    "\n",
    "Doy gracias a Dios por la vida de mi Hijo Joseph Cañas Osorio y la madurez que ha alcanzado. Este hijo me enorgullece y me hace falta abrazarlo cada día. \n",
    "\n",
    "Y a mi esposa Yasmira Emperatriz Barboza Mogollón por su apoyo, orientación y acompañamiento. "
   ]
  },
  {
   "cell_type": "markdown",
   "id": "b6ba1c23",
   "metadata": {},
   "source": [
    "# Apéndice sobre calendarios y coordinaciones \n",
    "\n",
    "A continuación le envío el horario de la asignatura Cálculo Vectorial  \n",
    "\n",
    "Días:  \n",
    "Lunes - Hora: 7:00 a 12:00M  \n",
    "Fechas:  \n",
    "Febrero: 10-17-24                                          \n",
    " Marzo: 3-10-17-31                                                  \n",
    "Abril:7-21-28                                                   \n",
    "Mayo:5-12-19  \n",
    "\n",
    "Agradezco su apoyo, y si presenta alguna dificultad puede contactarme.  \n",
    "\n",
    "Cordialmente,  \n",
    "Juan Felipe Rivera Hernández  \n",
    "Contacto: 3106314300  "
   ]
  },
  {
   "cell_type": "markdown",
   "id": "0e66cd7c",
   "metadata": {},
   "source": [
    "# Clase de análisis numérico los Martes de 8 a 12 del medio día. "
   ]
  },
  {
   "cell_type": "markdown",
   "id": "c5ff61b1",
   "metadata": {},
   "source": []
  }
 ],
 "metadata": {
  "celltoolbar": "Slideshow",
  "kernelspec": {
   "display_name": ".venv",
   "language": "python",
   "name": "python3"
  },
  "language_info": {
   "codemirror_mode": {
    "name": "ipython",
    "version": 3
   },
   "file_extension": ".py",
   "mimetype": "text/x-python",
   "name": "python",
   "nbconvert_exporter": "python",
   "pygments_lexer": "ipython3",
   "version": "3.12.6"
  },
  "rise": {
   "enable_chalkboard": true,
   "theme": "sky",
   "transition": "zoom"
  }
 },
 "nbformat": 4,
 "nbformat_minor": 5
}
