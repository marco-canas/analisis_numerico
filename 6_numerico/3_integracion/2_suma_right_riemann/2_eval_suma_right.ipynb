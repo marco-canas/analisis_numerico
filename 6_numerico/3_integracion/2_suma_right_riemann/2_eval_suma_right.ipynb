{
 "cells": [
  {
   "cell_type": "markdown",
   "id": "dc06dec7",
   "metadata": {
    "slideshow": {
     "slide_type": "slide"
    }
   },
   "source": [
    "<table align=\"left\">\n",
    "  <td>\n",
    "    <a href=\"https://colab.research.google.com/github/marco-canas/didactica_ciencia_datos/blob/main/1_curso_machine_learning/1_evaluacion_oral_tarea_quiz_parcial.ipynb\" target=\"_parent\"><img src=\"https://colab.research.google.com/assets/colab-badge.svg\" alt=\"Open In Colab\"/></a>\n",
    "  </td>\n",
    "  <td>\n",
    "    <a target=\"_blank\" href=\"https://kaggle.com/kernels/welcome?src=https://github.com/marco-canas/didactica_ciencia_datos/blob/main/1_curso_machine_learning/1_evaluacion_oral_tarea_quiz_parcial.ipynb\"><img src=\"https://kaggle.com/static/images/open-in-kaggle.svg\" /></a>\n",
    "  </td>\n",
    "</table>"
   ]
  },
  {
   "cell_type": "markdown",
   "id": "e0c5b198",
   "metadata": {
    "slideshow": {
     "slide_type": "slide"
    }
   },
   "source": [
    "### [Video de apoyo a la lectura interactiva y experimental de este cuaderno]()"
   ]
  },
  {
   "cell_type": "markdown",
   "id": "41e82203",
   "metadata": {
    "slideshow": {
     "slide_type": "slide"
    }
   },
   "source": [
    "## [Vínculo al programa del curso:  ]()"
   ]
  },
  {
   "cell_type": "markdown",
   "id": "ca46c23b",
   "metadata": {
    "slideshow": {
     "slide_type": "slide"
    }
   },
   "source": [
    "# Modelo general de clase: [aula invertida](https://www3.gobiernodecanarias.org/medusa/ecoescuela/pedagotic/aprendizaje-invertido-flipped-classroom/)\n"
   ]
  },
  {
   "cell_type": "markdown",
   "id": "7f9be90f",
   "metadata": {
    "slideshow": {
     "slide_type": "slide"
    }
   },
   "source": [
    "# Fomento de la lectura literaria asociada a Ingeniería agropecuaria y licenciatura en Matemáticas y administración de empresas\n",
    "\n",
    "[Hábitos atómicos](https://github.com/marco-canas/habitos_atomicos/blob/main/13_como_dejar_de_postergar_usando_la_regla_de_los_dos_minutos/1_13_como_dejar_de_postergar_usando_la_regla_de_los_dos_minutos.ipynb)"
   ]
  },
  {
   "cell_type": "markdown",
   "id": "96775931",
   "metadata": {
    "slideshow": {
     "slide_type": "slide"
    }
   },
   "source": [
    "# Título de la clase: Realización evaluación oral, de Tareas en cuadernos Jupyter, Quiz o Parcial de selección múltiple o de preguntas cerradas.  \n",
    "\n"
   ]
  },
  {
   "cell_type": "markdown",
   "id": "1d38dd4e",
   "metadata": {
    "slideshow": {
     "slide_type": "slide"
    }
   },
   "source": [
    "### Objetivo de aprendizaje (Enunciar, de manera corta sencilla y clara para todos los asistentes)\n",
    "\n",
    "* [Hipervínculo para el cuaderno de enseñanza]()\n",
    "1. Evaluar las tareas realizadas de manera manúscrita\n",
    "2. Evaluar las tareas realizadas en los cuadernos Jupyter. (Solo realizar la tercera parte de las tareas asignadas de manera manuscrita)\n",
    "3. Evaluar con un quiz escrito\n",
    "4. Evaluar con un parcial escrito.\n",
    "5. Evaluar la capacidad de describir un problema y su solución de manera oral. "
   ]
  },
  {
   "cell_type": "markdown",
   "id": "cf101603",
   "metadata": {},
   "source": [
    "# Prompt para pedir el diseño de evaluación de acuerdo a la metodología de \"Enseñanza basada en proyectos\"  \n",
    "\n",
    "Dame, por favor, un diseño de clase, con el enfoque: \"Aula Invertida, STEAMS y De aprendizaje basado en problemas y proyectos(ABPP)\" sobre: \"El método numérico de integración a través de sumas de Riemann cuyos puntos distinguidos sean los extremos derechos de los subintervalos\", siguiendo la estructura:  \n",
    "\n",
    "1. Título de la clase \n",
    "2. Objetivo de aprendizaje\n",
    "3. Un mapa conceptual que resuma la clase elaborado en Graphviz de python con nodos y edges de diferentes formas, colores y rellenos y renderizado en la siguiente ubicación: `\"C:\\Users\\marco\\Descargas\"`.  No olvides el parámetro `view = True` para el método `render()` de graphviz. \n",
    "4. Elementos históricos y epistemológicos relevantes para la clase. \n",
    "5. Contenido de la clase: \n",
    "     * Incluye una visualización con matplotlib y ipywidgets de python de la formación de los puntos $x_{i-1}$ de una partición regular del dominio $[a, b]$ de una función $f$ y la interpretación de $f(x_{i-1})$ como alturas o longitudes de la función en los puntos $x_{i-1}$, resaltando en color rojo a estos segmentos. Pero donde el deslizador representa la variable $i$ de los extremos izquierdos de los subintervalos. Para $n = 5$ fijo. Y que los rectángulos sean visibles. \n",
    "     * Incluye una visualización con matplotlib y ipywidgets de python de la formación de los puntos $x_{i}$ de una partición regular del dominio $[a, b]$ de una función $f$ y la interpretación de $f(x_{i})$ como alturas o longitudes de la función en los puntos $x_{i}$, resaltando en color rojo a estos segmentos. Donde el deslizador represente la variable $n$ de la partición regular.  Y que los rectángulos sean visibles.  \n",
    "     * Incluye en este contenido una visualización con matplotlib de python de la interpretación geométrica de los puntos distinguidos ($x_{i}$) de una partición regular del dominio $[a, b]$ de una función $f$ y la interpretación de $f(x_{i})$ (Coloreando en rojo estos segmentos verticales) como alturas o longitudes de la función en los puntos $x_{i}$.\n",
    "6. Deducción de una función de usuario de python, que permita determinar el número de rectángulos $n$ necesarios para una precisión de la suma de Riemann dada $\\epsilon = 0.0001$. \n",
    "7. Actividades de aprendizaje: que incluya pruebas de escritorio para los algoritmos en forma verbal y seudo código, diagrama de flujo, y la implementación del algoritmo en lenguaje python.\n",
    "7. Incluye una canción o un poema que ayude a interiorizar y fijar los conceptos asociados a esta clase. \n",
    "8. Tarea o actividades de ejercitación y fijación\n",
    "9.  Evaluación incluyendo diez proyectos, un ejemplo de quiz y un ejemplo de parcial\n",
    "10. Diseño de actividad de retroalimentación. \n",
    "11. Dame un vocabulario y frases del idioma inglés asociadas a esta clase.   \n",
    "\n",
    "Pero  que este diseño sea para que el estudiante pueda aprender experimentando en cuadernos Jupyter con funciones de usuario y animaciones y visualizaciones en python. En particular utiliza para el diseño de clase a Numpy, Pandas, SymPy, Matplotlib.pyplot, Seaborn, Plotly, ipywidgets, SciPy, matplotlib.animation y Jupyter Notebook. Cada vez que itilice `matplotlib.animacion` no olvides incluir el uso de IPython. display para la rederización de estas animaciones a través de Jupyter Notebook. No olvides darme los diseños de clase con las ecuaciones matemáticas delimitadas con signo de dolar $ para que VS Code si me renderize estas expresiones del lenguaje latex."
   ]
  },
  {
   "cell_type": "markdown",
   "id": "42797498",
   "metadata": {},
   "source": [
    "# Título de la clase\n",
    "El método numérico de integración a través de sumas de Riemann cuyos puntos distinguidos sean los extremos derechos de los subintervalos.\n"
   ]
  },
  {
   "cell_type": "markdown",
   "id": "7906d4bd",
   "metadata": {},
   "source": [
    "\n",
    "---\n",
    "\n",
    "# Objetivo de aprendizaje\n"
   ]
  },
  {
   "cell_type": "markdown",
   "id": "53b8ea3d",
   "metadata": {},
   "source": [
    "Comprender y aplicar el método de integración numérica mediante sumas de Riemann utilizando los extremos derechos de los subintervalos para aproximar áreas bajo una curva, empleando experimentación en cuadernos Jupyter con funciones de usuario, animaciones y visualizaciones interactivas en Python.\n",
    "\n",
    "---\n"
   ]
  },
  {
   "cell_type": "markdown",
   "id": "f8c1e63c",
   "metadata": {},
   "source": [
    "\n",
    "# Mapa conceptual\n",
    "\n",
    "Se generará un mapa conceptual con Graphviz en Python, con nodos y aristas de diferentes colores, formas y rellenos, renderizado en la ubicación: `C:\\Users\\marco\\Descargas` con `view = True`.\n"
   ]
  },
  {
   "cell_type": "code",
   "execution_count": null,
   "id": "cec443e2",
   "metadata": {},
   "outputs": [],
   "source": [
    "from graphviz import Digraph\n",
    "\n",
    "dot = Digraph(comment='Mapa Conceptual Sumas de Riemann')\n",
    "dot.attr(size='8', rankdir='LR')\n",
    "dot.node('A', 'Integración Numérica', shape='box', style='filled', fillcolor='lightblue')\n",
    "dot.node('B', 'Sumas de Riemann', shape='ellipse', style='filled', fillcolor='lightgreen')\n",
    "dot.node('C', 'Partición del Intervalo', shape='diamond', style='filled', fillcolor='yellow')\n",
    "dot.node('D', 'Extremos Derechos', shape='parallelogram', style='filled', fillcolor='pink')\n",
    "dot.node('E', 'Implementación en Python', shape='octagon', style='filled', fillcolor='orange')\n",
    "\n",
    "dot.edges(['AB', 'BC', 'CD', 'CE'])\n",
    "dot.render('C:\\\\Users\\\\marco\\\\Descargas\\\\mapa_conceptual', view=True)\n",
    "\n"
   ]
  },
  {
   "cell_type": "markdown",
   "id": "7874fddc",
   "metadata": {},
   "source": [
    "\n",
    "---\n",
    "\n",
    "# Elementos históricos y epistemológicos relevantes\n",
    "\n",
    "El cálculo integral surge con Newton y Leibniz en el siglo XVII como una herramienta fundamental para el análisis matemático, proporcionando métodos para calcular áreas, volúmenes y tasas de cambio.\n",
    "\n",
    "Bernard Riemann (1826-1866) formalizó la definición de la integral mediante sumas, estableciendo una base rigurosa para el análisis integral y dando lugar a la integral de Riemann, que sigue siendo fundamental en la matemática moderna.\n",
    "\n",
    "El concepto de partición y aproximación se remonta a los métodos de exhausción de Arquímedes, quien utilizó particiones cada vez más finas para aproximar áreas y volúmenes, anticipando ideas clave del cálculo integral.\n",
    "\n",
    "La relevancia de la computación moderna ha permitido implementar estos métodos numéricos con gran precisión y eficiencia, facilitando su uso en la resolución de problemas aplicados en física, ingeniería y economía.\n"
   ]
  },
  {
   "cell_type": "code",
   "execution_count": null,
   "id": "676bf0c4",
   "metadata": {},
   "outputs": [],
   "source": []
  },
  {
   "cell_type": "markdown",
   "id": "11c54c7f",
   "metadata": {},
   "source": [
    "\n",
    "# Contenido de la clase\n",
    "\n",
    "### Visualización 1: Sumas de Riemann con extremos izquierdos ($x_{i-1}$)\n"
   ]
  },
  {
   "cell_type": "code",
   "execution_count": null,
   "id": "14ca0de4",
   "metadata": {},
   "outputs": [
    {
     "data": {
      "application/vnd.jupyter.widget-view+json": {
       "model_id": "8a302cd707214f6e9336228c2775174e",
       "version_major": 2,
       "version_minor": 0
      },
      "text/plain": [
       "VBox(children=(IntSlider(value=1, description='Número de rectángulos:', max=5, min=1, style=SliderStyle(descri…"
      ]
     },
     "metadata": {},
     "output_type": "display_data"
    },
    {
     "data": {
      "image/png": "[encoded data removed]",
      "text/plain": [
       "<Figure size 960x720 with 1 Axes>"
      ]
     },
     "metadata": {},
     "output_type": "display_data"
    }
   ],
   "source": [
    "import numpy as np\n",
    "import matplotlib.pyplot as plt\n",
    "import ipywidgets as widgets\n",
    "from IPython.display import display, clear_output\n",
    "from matplotlib.patches import Rectangle\n",
    "\n",
    "# Cambiar a modo inline para mejor estabilidad en notebooks\n",
    "%matplotlib inline\n",
    "\n",
    "def plot_riemann_left(i):\n",
    "    a, b, n = 0, 2, 5\n",
    "    x = np.linspace(a, b, 100)\n",
    "    f = lambda x: x**2\n",
    "    dx = (b - a)/n\n",
    "    xi = np.linspace(a, b, n + 1)\n",
    "    \n",
    "    # Configuración inicial del gráfico\n",
    "    fig, ax = plt.subplots(figsize=(8, 5))\n",
    "    ax.plot(x, f(x), 'b-', lw=2)\n",
    "    ax.set_title(f'Suma de Riemann (i = {i})')\n",
    "    ax.grid(True)\n",
    "    \n",
    "    # Limpiar solo los parches en cada actualización\n",
    "    for patch in ax.patches[:]:\n",
    "        patch.remove()\n",
    "    \n",
    "    # Dibujar todos los rectángulos hasta el índice i\n",
    "    for k in range(i):\n",
    "        x_left = xi[k]\n",
    "        height = f(x_left)\n",
    "        rect = Rectangle((x_left, 0), dx, height, \n",
    "                        alpha=0.3, color='red', ec='black')\n",
    "        ax.add_patch(rect)\n",
    "        ax.plot([x_left, x_left], [0, height], 'r--', lw=1)\n",
    "    \n",
    "    # Ajustar límites y mostrar\n",
    "    ax.set_xlim(a, b)\n",
    "    ax.set_ylim(0, f(b))\n",
    "    plt.close(fig)  # Previene la duplicación de figuras\n",
    "    display(fig)\n",
    "\n",
    "# Crear controles interactivos\n",
    "slider = widgets.IntSlider(\n",
    "    value=1,\n",
    "    min=1,\n",
    "    max=5,\n",
    "    step=1,\n",
    "    description='Número de rectángulos:',\n",
    "    style={'description_width': 'initial'}\n",
    ")\n",
    "\n",
    "out = widgets.Output()\n",
    "widgets.VBox([slider, out])\n",
    "\n",
    "def update(change):\n",
    "    with out:\n",
    "        clear_output(wait=True)\n",
    "        plot_riemann_left(change.new)\n",
    "\n",
    "slider.observe(update, names='value')\n",
    "\n",
    "display(widgets.VBox([slider, out]))"
   ]
  },
  {
   "cell_type": "code",
   "execution_count": 1,
   "id": "3373ebce",
   "metadata": {},
   "outputs": [
    {
     "data": {
      "application/vnd.jupyter.widget-view+json": {
       "model_id": "6f01fef1ed204ee4a0b8346f0623b41d",
       "version_major": 2,
       "version_minor": 0
      },
      "image/png": "[encoded data removed]",
      "text/html": [
       "\n",
       "            <div style=\"display: inline-block;\">\n",
       "                <div class=\"jupyter-widgets widget-label\" style=\"text-align: center;\">\n",
       "                    Figure\n",
       "                </div>\n",
       "                <img src='data:image/png;base64,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' width=640.0/>\n",
       "            </div>\n",
       "        "
      ],
      "text/plain": [
       "Canvas(toolbar=Toolbar(toolitems=[('Home', 'Reset original view', 'home', 'home'), ('Back', 'Back to previous …"
      ]
     },
     "metadata": {},
     "output_type": "display_data"
    }
   ],
   "source": [
    "%matplotlib widget\n",
    "import matplotlib.pyplot as plt\n",
    "plt.plot([1, 2, 3], [4, 5, 6])\n",
    "plt.show()\n"
   ]
  },
  {
   "cell_type": "markdown",
   "id": "2ed6c3b5",
   "metadata": {},
   "source": [
    "\n",
    "### Visualización 2: Sumas de Riemann con extremos derechos ($x_i$)\n"
   ]
  },
  {
   "cell_type": "markdown",
   "id": "6bdfbbf1",
   "metadata": {},
   "source": [
    "```python\n",
    "import numpy as np\n",
    "import matplotlib.pyplot as plt\n",
    "import ipywidgets as widgets\n",
    "from IPython.display import display\n",
    "\n",
    "def plot_riemann_right(n):\n",
    "    a, b = 0, 2\n",
    "    x = np.linspace(a, b, 100)\n",
    "    f = lambda x: x**2\n",
    "    xi = np.linspace(a, b, n+1)\n",
    "    xi_right = xi[1:]\n",
    "    yi_right = f(xi_right)\n",
    "    plt.figure(figsize=(6,4))\n",
    "    plt.plot(x, f(x), 'b', linewidth=2)\n",
    "    plt.bar(xi_right, yi_right, width=(b-a)/n, color='red', alpha=0.5, edgecolor='black')\n",
    "    plt.show()\n",
    "\n",
    "widgets.interact(plot_riemann_right, n=widgets.IntSlider(min=1, max=10, step=1, value=5));\n",
    "```\n"
   ]
  },
  {
   "cell_type": "markdown",
   "id": "25c38d4a",
   "metadata": {},
   "source": [
    "\n",
    "### Cálculo de $n$ para $\\epsilon = 0.0001$\n"
   ]
  },
  {
   "cell_type": "markdown",
   "id": "c92f9780",
   "metadata": {},
   "source": [
    "```python\n",
    "def riemann_n(epsilon=0.0001):\n",
    "    a, b = 0, 2\n",
    "    f = lambda x: x**2\n",
    "    n = 1\n",
    "    integral_real = (b**3 - a**3)/3\n",
    "    while True:\n",
    "        xi = np.linspace(a, b, n+1)\n",
    "        xi_right = xi[1:]\n",
    "        riemann_sum = np.sum(f(xi_right)*(b-a)/n)\n",
    "        if abs(riemann_sum - integral_real) < epsilon:\n",
    "            return n\n",
    "        n += 1\n",
    "\n",
    "print(\"Número de rectángulos necesarios:\", riemann_n())\n",
    "```\n"
   ]
  },
  {
   "cell_type": "markdown",
   "id": "4f2f2046",
   "metadata": {},
   "source": [
    "\n",
    "---\n",
    "\n",
    "# Actividades de aprendizaje\n",
    "1. Pruebas de escritorio con valores simples.\n",
    "2. Desarrollo de pseudocódigo y diagramas de flujo.\n",
    "3. Implementación en Python en cuadernos Jupyter.\n",
    "\n",
    "---\n"
   ]
  },
  {
   "cell_type": "markdown",
   "id": "8ea6782f",
   "metadata": {},
   "source": [
    "\n",
    "# Canción o poema\n",
    "> \"Sumas de Riemann con n pequeño\n",
    "> Rectángulos torpes y bastos,\n",
    "> Pero aumenta n y verás,\n",
    "> El área exacta hallarás.\"\n",
    "\n",
    "---\n"
   ]
  },
  {
   "cell_type": "markdown",
   "id": "f69beb69",
   "metadata": {},
   "source": [
    "\n",
    "# Tarea o actividades de ejercitación y fijación\n",
    "1. Implementar una función en Python que calcule la suma de Riemann con cualquier función dada.\n",
    "2. Comparar la suma de Riemann con la integral real usando SymPy.\n",
    "\n",
    "---\n"
   ]
  },
  {
   "cell_type": "markdown",
   "id": "fa6754c0",
   "metadata": {},
   "source": [
    "\n",
    "# Evaluación\n",
    "1. **Diez proyectos**, como comparar el método de Riemann con otros métodos numéricos.\n",
    "2. **Ejemplo de quiz:** Definir y calcular una suma de Riemann para $f(x) = \\sin(x)$ en $[0, \\pi]$ con $n=10$.\n",
    "3. **Ejemplo de parcial:** Implementar y analizar el error en una aproximación numérica.\n",
    "\n",
    "---\n"
   ]
  },
  {
   "cell_type": "markdown",
   "id": "8adddcd2",
   "metadata": {},
   "source": [
    "\n",
    "# Actividad de retroalimentación\n",
    "Los estudiantes compartirán sus observaciones sobre los resultados obtenidos en sus implementaciones y se discutirán mejoras y optimizaciones.\n",
    "\n",
    "---\n"
   ]
  },
  {
   "cell_type": "markdown",
   "id": "48208fbd",
   "metadata": {},
   "source": [
    "\n",
    "# Vocabulario y frases en inglés\n",
    "- Riemann sum: Suma de Riemann\n",
    "- Partition: Partición\n",
    "- Right endpoints: Extremos derechos\n",
    "- Left endpoints: Extremos izquierdos\n",
    "- Approximate integral: Integral aproximada\n",
    "\n",
    "---\n",
    "\n"
   ]
  },
  {
   "cell_type": "code",
   "execution_count": null,
   "id": "e67b93a0",
   "metadata": {},
   "outputs": [],
   "source": []
  },
  {
   "cell_type": "code",
   "execution_count": null,
   "id": "8bd753ea",
   "metadata": {},
   "outputs": [],
   "source": []
  },
  {
   "cell_type": "markdown",
   "id": "fb9402bb",
   "metadata": {
    "slideshow": {
     "slide_type": "slide"
    }
   },
   "source": [
    "## Estrategias propuestas para la solución de las dificultades de aprendizaje detectadas"
   ]
  },
  {
   "cell_type": "markdown",
   "id": "2dd3bd5c",
   "metadata": {
    "slideshow": {
     "slide_type": "slide"
    }
   },
   "source": []
  },
  {
   "cell_type": "markdown",
   "id": "c6236d5d",
   "metadata": {},
   "source": [
    "# FODA del grupo y del profesor  \n",
    "\n",
    "* F: Fortalezas\n",
    "* O: Oportunidades\n",
    "* D: Dificultades\n",
    "* A: Amenazas."
   ]
  },
  {
   "cell_type": "markdown",
   "id": "b48f9542",
   "metadata": {},
   "source": [
    "## ¿Cómo se sintió en este espacio de enseñanza y aprendizaje?\n",
    "\n",
    "!Dios te bendiga¡"
   ]
  },
  {
   "cell_type": "markdown",
   "id": "10bce0d0",
   "metadata": {
    "slideshow": {
     "slide_type": "slide"
    }
   },
   "source": [
    "## Referentes "
   ]
  },
  {
   "cell_type": "markdown",
   "id": "d204c917",
   "metadata": {},
   "source": [
    "* [Grajales Vanegas, L. M., Restrepo Estrada, C. E., Restrepo Ochoa, S. I., & Ruíz De Villalba, F. (2015). Matemáticas I para las ciencias económicas.](https://github.com/marco-canas/fundamentos_de_la_aritmetica/blob/main/referentes/2_grajales_logica/grajales_lina_matemticas.pdf)\n",
    "  \n",
    "* Duval, R. (2004). Semiosis y pensamiento humano: registros semióticos y aprendizajes intelectuales. Universidad del Valle.\n",
    "\n",
    "* [Aylwin, C. U. (2011). Lógica, conjuntos y números. Universidad de los Andes, Consejo de Publicaciones, Colección: Ciencias Básicas, Serie: Matemáticas.](https://github.com/marco-canas/fundamentos_logica/blob/main/referentes/2_uzcategui/uscategui.pdf)\n",
    "  \n",
    "* [Chollet, F. (2021). Deep learning with Python. Simon and Schuster.](https://github.com/marco-canas/didactica_ciencia_datos/blob/main/2_referentes/chollet/Fran%C3%A7ois%20Chollet%20-%20Deep%20Learning%20with%20Python-Manning%20(2018).pdf)  \n",
    "  \n",
    "* [Watson, S., Stewart, J., & Redlin, L. (2009). Precálculo. Matemáticas para el cálculo.](https://github.com/marco-canas/calculo/blob/main/referents/1_precalculo_stewart/stewart_precalculo.pdf)  \n",
    "\n",
    "* [Purcell, E. J., Varberg, D., & Rigdon, S. E. (2007). Cálculo diferencial e integral. Pearson Educación.](https://github.com/marco-canas/calculo/blob/main/referents/purcell/purcell_calculo.pdf)\n",
    "\n",
    "  \n",
    "\n",
    "* [stewart cálculo](https://udeaeduco-my.sharepoint.com/:b:/g/personal/marco_canas_udea_edu_co/EZgXZjAp8QxPqOAim2hs6LcBNPLGjSHf-xwYnUVYkwa04w?e=RZdTCy)  \n",
    "\n",
    "* [larson](https://udeaeduco-my.sharepoint.com/:b:/g/personal/marco_canas_udea_edu_co/ES71ChFeO9ZDhW3TwC5Ijk8BjxUK3Pdqz_fjHxTTFAfIAg?e=VDEjfu)\n",
    "\n",
    "\n",
    "\n",
    "* [Recomendación de la UNESCO sobre ciencia abierta](https://unesdoc.unesco.org/ark:/48223/pf0000379949_spa)\n",
    "\n",
    "* [chatGPT](https://openai.com/blog/chatgpt)  \n",
    "\n",
    "* [Géron, A. (2017). Hands-on machine learning with scikit-learn and tensorflow: Concepts. Tools, and Techniques to build intelligent systems.](chrome-extension://efaidnbmnnnibpcajpcglclefindmkaj/http://14.139.161.31/OddSem-0822-1122/Hands-On_Machine_Learning_with_Scikit-Learn-Keras-and-TensorFlow-2nd-Edition-Aurelien-Geron.pdf)   \n"
   ]
  },
  {
   "cell_type": "markdown",
   "id": "6b9e56a8",
   "metadata": {
    "slideshow": {
     "slide_type": "slide"
    }
   },
   "source": [
    "### [Evaluamos al profesor Marco Cañas Aquí](https://forms.office.com/Pages/ResponsePage.aspx?id=IefhmYRxjkmK_7KtTlPBwkanXIs1i1FEujpsZgO6dXpUREJPV1kxUk1JV1ozTFJIQVNIQjY5WEY3US4u)"
   ]
  },
  {
   "cell_type": "markdown",
   "id": "071afa04",
   "metadata": {
    "slideshow": {
     "slide_type": "slide"
    }
   },
   "source": [
    "## [Evaluación luego de alcanzar estos objetivos de aprendizaje]()"
   ]
  },
  {
   "cell_type": "markdown",
   "id": "10f43536",
   "metadata": {
    "slideshow": {
     "slide_type": "slide"
    }
   },
   "source": [
    "### Continue su aprendizaje en la siguiente clase a través del siguiente [vínculo]()"
   ]
  }
 ],
 "metadata": {
  "celltoolbar": "Slideshow",
  "kernelspec": {
   "display_name": ".venv",
   "language": "python",
   "name": "python3"
  },
  "language_info": {
   "codemirror_mode": {
    "name": "ipython",
    "version": 3
   },
   "file_extension": ".py",
   "mimetype": "text/x-python",
   "name": "python",
   "nbconvert_exporter": "python",
   "pygments_lexer": "ipython3",
   "version": "3.13.2"
  },
  "rise": {
   "enable_chalkboard": true,
   "theme": "sky",
   "transition": "zoom"
  }
 },
 "nbformat": 4,
 "nbformat_minor": 5
}
