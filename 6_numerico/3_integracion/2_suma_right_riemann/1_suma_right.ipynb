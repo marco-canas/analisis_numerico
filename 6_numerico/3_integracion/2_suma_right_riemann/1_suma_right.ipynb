{
 "cells": [
  {
   "cell_type": "markdown",
   "id": "dc06dec7",
   "metadata": {
    "slideshow": {
     "slide_type": "slide"
    }
   },
   "source": [
    "<table align=\"left\">\n",
    "  <td>\n",
    "    <a href=\"https://colab.research.google.com/github/marco-canas/calculo/blob/main/classes/3_calculo/6_numerico/3_integracion/2_suma_right_riemann/1_class.ipynb\" target=\"_parent\"><img src=\"https://colab.research.google.com/assets/colab-badge.svg\" alt=\"Open In Colab\"/></a>\n",
    "  </td>\n",
    "  <td>\n",
    "    <a target=\"_blank\" href=\"https://kaggle.com/kernels/welcome?src=https://github.com/marco-canas/calculo/blob/main/classes/3_calculo/6_numerico/3_integracion/2_suma_right_riemann/1_class.ipynb\"><img src=\"https://kaggle.com/static/images/open-in-kaggle.svg\" /></a>\n",
    "  </td>\n",
    "</table>"
   ]
  },
  {
   "cell_type": "markdown",
   "id": "e0c5b198",
   "metadata": {
    "slideshow": {
     "slide_type": "slide"
    }
   },
   "source": [
    "### [Video de apoyo a la lectura interactiva y experimental de este cuaderno]()"
   ]
  },
  {
   "cell_type": "markdown",
   "id": "41e82203",
   "metadata": {
    "slideshow": {
     "slide_type": "slide"
    }
   },
   "source": [
    "### [Vínculo al programa del curso:  ]()\n",
    "\n"
   ]
  },
  {
   "cell_type": "markdown",
   "id": "d11ab06d",
   "metadata": {
    "slideshow": {
     "slide_type": "slide"
    }
   },
   "source": [
    "Un reconocimiento a mis estudiantes que han construido conmigo este saber pedagógico:\n",
    "\n",
    "<img src = ''> \n",
    "\n"
   ]
  },
  {
   "cell_type": "markdown",
   "id": "8a74a56c-0ce6-4ad6-b985-553fd7fb68bb",
   "metadata": {},
   "source": [
    "Reconocimiento a las profesoras destacadas en enseñanza de la matemática en Colombia\n"
   ]
  },
  {
   "cell_type": "code",
   "execution_count": 10,
   "id": "7604880f",
   "metadata": {
    "slideshow": {
     "slide_type": "slide"
    }
   },
   "outputs": [
    {
     "data": {
      "application/vnd.microsoft.datawrangler.viewer.v0+json": {
       "columns": [
        {
         "name": "index",
         "rawType": "int64",
         "type": "integer"
        },
        {
         "name": "Cedula",
         "rawType": "int64",
         "type": "integer"
        },
        {
         "name": "Nombre",
         "rawType": "object",
         "type": "string"
        },
        {
         "name": "Email",
         "rawType": "object",
         "type": "string"
        },
        {
         "name": "Parcial",
         "rawType": "int64",
         "type": "integer"
        },
        {
         "name": "Asistencia",
         "rawType": "int64",
         "type": "integer"
        }
       ],
       "conversionMethod": "pd.DataFrame",
       "ref": "651ce4ec-aff3-45ac-8909-e1c68f113c6f",
       "rows": [
        [
         "0",
         "1007410536",
         "CALY HERRERA ESTEFANIA",
         "estefania.caly@udea.edu.co",
         "0",
         "0"
        ],
        [
         "1",
         "1038108070",
         "DORADO PADILLA LEONEL ESTEBAN",
         "leonel.dorado@udea.edu.co",
         "0",
         "0"
        ],
        [
         "2",
         "1038115862",
         "LONDONO CASTRO FRED IVAN",
         "fred.londonoc@udea.edu.co",
         "0",
         "4"
        ],
        [
         "3",
         "1129804572",
         "SAN JUAN SERRANO MANUEL",
         "manuel.serrano1@udea.edu.co",
         "0",
         "0"
        ],
        [
         "4",
         "1007554266",
         "URIBE ARRIETA YEIFRY SEBASTIAN",
         "yeifry.uribe@udea.edu.co",
         "0",
         "4"
        ]
       ],
       "shape": {
        "columns": 5,
        "rows": 5
       }
      },
      "text/html": [
       "<div>\n",
       "<style scoped>\n",
       "    .dataframe tbody tr th:only-of-type {\n",
       "        vertical-align: middle;\n",
       "    }\n",
       "\n",
       "    .dataframe tbody tr th {\n",
       "        vertical-align: top;\n",
       "    }\n",
       "\n",
       "    .dataframe thead th {\n",
       "        text-align: right;\n",
       "    }\n",
       "</style>\n",
       "<table border=\"1\" class=\"dataframe\">\n",
       "  <thead>\n",
       "    <tr style=\"text-align: right;\">\n",
       "      <th></th>\n",
       "      <th>Cedula</th>\n",
       "      <th>Nombre</th>\n",
       "      <th>Email</th>\n",
       "      <th>Parcial</th>\n",
       "      <th>Asistencia</th>\n",
       "    </tr>\n",
       "  </thead>\n",
       "  <tbody>\n",
       "    <tr>\n",
       "      <th>0</th>\n",
       "      <td>1007410536</td>\n",
       "      <td>CALY HERRERA ESTEFANIA</td>\n",
       "      <td>estefania.caly@udea.edu.co</td>\n",
       "      <td>0</td>\n",
       "      <td>0</td>\n",
       "    </tr>\n",
       "    <tr>\n",
       "      <th>1</th>\n",
       "      <td>1038108070</td>\n",
       "      <td>DORADO PADILLA LEONEL ESTEBAN</td>\n",
       "      <td>leonel.dorado@udea.edu.co</td>\n",
       "      <td>0</td>\n",
       "      <td>0</td>\n",
       "    </tr>\n",
       "    <tr>\n",
       "      <th>2</th>\n",
       "      <td>1038115862</td>\n",
       "      <td>LONDONO CASTRO FRED IVAN</td>\n",
       "      <td>fred.londonoc@udea.edu.co</td>\n",
       "      <td>0</td>\n",
       "      <td>4</td>\n",
       "    </tr>\n",
       "    <tr>\n",
       "      <th>3</th>\n",
       "      <td>1129804572</td>\n",
       "      <td>SAN JUAN SERRANO MANUEL</td>\n",
       "      <td>manuel.serrano1@udea.edu.co</td>\n",
       "      <td>0</td>\n",
       "      <td>0</td>\n",
       "    </tr>\n",
       "    <tr>\n",
       "      <th>4</th>\n",
       "      <td>1007554266</td>\n",
       "      <td>URIBE ARRIETA YEIFRY SEBASTIAN</td>\n",
       "      <td>yeifry.uribe@udea.edu.co</td>\n",
       "      <td>0</td>\n",
       "      <td>4</td>\n",
       "    </tr>\n",
       "  </tbody>\n",
       "</table>\n",
       "</div>"
      ],
      "text/plain": [
       "       Cedula                          Nombre                        Email  \\\n",
       "0  1007410536          CALY HERRERA ESTEFANIA   estefania.caly@udea.edu.co   \n",
       "1  1038108070   DORADO PADILLA LEONEL ESTEBAN    leonel.dorado@udea.edu.co   \n",
       "2  1038115862        LONDONO CASTRO FRED IVAN    fred.londonoc@udea.edu.co   \n",
       "3  1129804572         SAN JUAN SERRANO MANUEL  manuel.serrano1@udea.edu.co   \n",
       "4  1007554266  URIBE ARRIETA YEIFRY SEBASTIAN     yeifry.uribe@udea.edu.co   \n",
       "\n",
       "   Parcial  Asistencia  \n",
       "0        0           0  \n",
       "1        0           0  \n",
       "2        0           4  \n",
       "3        0           0  \n",
       "4        0           4  "
      ]
     },
     "execution_count": 10,
     "metadata": {},
     "output_type": "execute_result"
    }
   ],
   "source": [
    "import pandas as pd\n",
    "import numpy as np\n",
    "\n",
    "# Cargar la lista de estudiantes desde el archivo CSV\n",
    "path = 'C:/Users/marco/Documentos/docencia/groups_list/numerico.xlsx'\n",
    "estudiantes = pd.read_csv(path, delimiter = ',')\n",
    "\n",
    "estudiantes.head()"
   ]
  },
  {
   "cell_type": "code",
   "execution_count": 5,
   "id": "9d70b75d",
   "metadata": {},
   "outputs": [],
   "source": [
    "# registro de asistencia \n",
    "# estudiantes.asistencia[] = "
   ]
  },
  {
   "cell_type": "code",
   "execution_count": 8,
   "id": "f712361f",
   "metadata": {},
   "outputs": [
    {
     "name": "stdout",
     "output_type": "stream",
     "text": [
      "Llamando a DORADO PADILLA LEONEL ESTEBAN...\n",
      "Llamando a URIBE ARRIETA YEIFRY SEBASTIAN...\n",
      "Actualizado: URIBE ARRIETA YEIFRY SEBASTIAN ahora tiene 4 en la columna 'Asistencia'.\n",
      "Llamando a VELASQUEZ LOPEZ MERLIS...\n",
      "Llamando a CALY HERRERA ESTEFANIA...\n",
      "Llamando a LONDONO CASTRO FRED IVAN...\n",
      "Llamando a SAN JUAN SERRANO MANUEL...\n",
      "Cambios guardados en el archivo CSV.\n"
     ]
    }
   ],
   "source": [
    "\n",
    "# Convertir la columna 'Nombre' a una lista de Python\n",
    "lista_estudiantes = estudiantes['Nombre'].tolist()\n",
    "\n",
    "# Función para llamar a un estudiante aleatoriamente y registrar su nota de seguimiento\n",
    "def asistencia():\n",
    "    global lista_estudiantes\n",
    "    if lista_estudiantes:\n",
    "        estudiante_aleatorio = np.random.choice(lista_estudiantes)\n",
    "        print(f\"Llamando a {estudiante_aleatorio}...\")\n",
    "        asistencia = input(f\"¿Asistió {estudiante_aleatorio}? (s/n): \").strip().lower()\n",
    "        \n",
    "        # Validación de entrada\n",
    "        if asistencia == 'n':\n",
    "            # Obtener el índice del estudiante en el DataFrame\n",
    "            indice = estudiantes[estudiantes['Nombre'] == estudiante_aleatorio].index[0]\n",
    "            # Incrementar su valor en la columna 'Parcial'\n",
    "            estudiantes.at[indice, 'Asistencia'] += 4\n",
    "            print(f\"Actualizado: {estudiante_aleatorio} ahora tiene {estudiantes.at[indice, 'Asistencia']} en la columna 'Asistencia'.\")\n",
    "        \n",
    "        elif asistencia != 's':\n",
    "            print(\"Entrada inválida. Por favor, introduce 's' para sí o 'n' para no.\")\n",
    "            return  # Volver a preguntar para el mismo estudiante si la entrada es inválida\n",
    "        \n",
    "        # Remover al estudiante de la lista para no llamarlo de nuevo\n",
    "        lista_estudiantes.remove(estudiante_aleatorio)\n",
    "    else:\n",
    "        print(\"Se han llamado a todos los estudiantes del grupo completo.\")\n",
    "\n",
    "# Función para guardar cambios al final de la sesión\n",
    "def guardar_cambios():\n",
    "    estudiantes.to_csv(path, index=False)\n",
    "    print(\"Cambios guardados en el archivo CSV.\")\n",
    "\n",
    "# Ejemplo de uso\n",
    "while lista_estudiantes:\n",
    "    asistencia()\n",
    "\n",
    "# Guardar los cambios una vez que todos los estudiantes hayan sido llamados\n",
    "guardar_cambios()\n",
    "\n"
   ]
  },
  {
   "cell_type": "markdown",
   "id": "d7598d0a-d9b7-4ae0-b029-a0ed6ed1130b",
   "metadata": {},
   "source": [
    "\n",
    "# Principios de mi labor docente"
   ]
  },
  {
   "cell_type": "markdown",
   "id": "4f9d8cf9",
   "metadata": {
    "slideshow": {
     "slide_type": "slide"
    }
   },
   "source": [
    "## Modelo general de clase: [aula invertida](https://www3.gobiernodecanarias.org/medusa/ecoescuela/pedagotic/aprendizaje-invertido-flipped-classroom/)"
   ]
  },
  {
   "cell_type": "markdown",
   "id": "eb6ed03a",
   "metadata": {},
   "source": [
    "<img src = 'https://resources.maneuveringthemiddle.com/wp-content/uploads/2020/07/04212706/1-5.png' width = 200>  \n",
    "\n"
   ]
  },
  {
   "cell_type": "markdown",
   "id": "34319cce-a71b-4f64-aab8-b53e521efa40",
   "metadata": {},
   "source": [
    "# Metodología de enseñanza basada en problemas (ABP)\n"
   ]
  },
  {
   "cell_type": "markdown",
   "id": "c4f73d81",
   "metadata": {},
   "source": [
    "\n",
    "<img src = 'https://www.unir.net/wp-content/uploads/2020/07/aprendizaje-problemas2-1-1-1-1.jpeg' width = 200>"
   ]
  },
  {
   "cell_type": "markdown",
   "id": "841a985c-bd9b-4dd3-8e4c-893983980af2",
   "metadata": {},
   "source": [
    "# Desarrollo del pensamiento computacional con Lenguaje R y con archivos R Markdown orientado a la formación en ciencia de datos \n",
    "\n"
   ]
  },
  {
   "cell_type": "markdown",
   "id": "3d0eba94",
   "metadata": {},
   "source": [
    "\n",
    "<img src = 'https://i.ytimg.com/vi/mcG_wcR4e6M/maxresdefault.jpg' width = 200>"
   ]
  },
  {
   "cell_type": "markdown",
   "id": "65aa0404-f7ae-495e-864c-1aec01b4255e",
   "metadata": {},
   "source": [
    "# Principio de fomento a la ciencia abierta, enseñar en el acceso a los datos públicos y el uso de software de código abierto  \n"
   ]
  },
  {
   "cell_type": "markdown",
   "id": "18ae9b87",
   "metadata": {},
   "source": [
    "\n",
    "<img src = 'https://unesdoc.unesco.org/in/rest/Thumb/image?id=p%3A%3Ausmarcdef_0000379949_spa&author=UNESCO&title=Recomendaci%C3%B3n+de+la+UNESCO+sobre+la+Ciencia+Abierta&year=2021&publisher=UNESCO&TypeOfDocument=UnescoPhysicalDocument&mat=PGD&ct=true&size=512&isPhysical=1' width = 200>"
   ]
  },
  {
   "cell_type": "markdown",
   "id": "d9559f85",
   "metadata": {},
   "source": [
    "El enfoque STEAMS en educación preescolar, primaria y secundaria es una extensión del enfoque STEM (Ciencia, Tecnología, Ingeniería y Matemáticas) y su variante STEAM, que incorpora el Arte. "
   ]
  },
  {
   "cell_type": "markdown",
   "id": "72e1cfd2",
   "metadata": {},
   "source": [
    "El acrónimo STEAMS incluye:\n"
   ]
  },
  {
   "cell_type": "markdown",
   "id": "03182fd1",
   "metadata": {},
   "source": [
    "\n",
    "1. **Science (Ciencia):** Fomenta la curiosidad por el mundo natural y el desarrollo de habilidades científicas, como la observación, experimentación y análisis.\n"
   ]
  },
  {
   "cell_type": "markdown",
   "id": "1306d0fa",
   "metadata": {},
   "source": [
    "\n",
    "2. **Technology (Tecnología):** Integra herramientas tecnológicas para potenciar el aprendizaje y la resolución de problemas, promoviendo la alfabetización digital desde edades tempranas.\n"
   ]
  },
  {
   "cell_type": "markdown",
   "id": "3b1a53e8",
   "metadata": {},
   "source": [
    "\n",
    "3. **Engineering (Ingeniería):** Introduce el pensamiento lógico y la resolución de problemas estructurados, fomentando habilidades como el diseño y la construcción de soluciones.\n"
   ]
  },
  {
   "cell_type": "markdown",
   "id": "0196de87",
   "metadata": {},
   "source": [
    "\n",
    "4. **Arts (Arte):** Añade creatividad y pensamiento crítico, permitiendo a los estudiantes expresarse y explorar el aprendizaje a través de formas artísticas (plásticas, música, teatro).\n"
   ]
  },
  {
   "cell_type": "markdown",
   "id": "8bcc485a",
   "metadata": {},
   "source": [
    "\n",
    "5. **Mathematics (Matemáticas):** Refuerza las habilidades numéricas y el razonamiento lógico, fundamentales en la resolución de problemas y comprensión de conceptos abstractos.\n"
   ]
  },
  {
   "cell_type": "markdown",
   "id": "907935f4",
   "metadata": {},
   "source": [
    "\n",
    "6. **Social Sciences (Ciencias Sociales):** Incorpora la comprensión del entorno social, político, cultural y económico, promoviendo el desarrollo de la conciencia crítica sobre el mundo y su historia, además de habilidades de empatía y ciudadanía.\n"
   ]
  },
  {
   "cell_type": "markdown",
   "id": "39967d63",
   "metadata": {},
   "source": [
    "\n",
    "El enfoque STEAMS pretende desarrollar un aprendizaje **interdisciplinario** que integre estas áreas para fomentar un pensamiento más holístico y práctico. "
   ]
  },
  {
   "cell_type": "markdown",
   "id": "5145f077",
   "metadata": {},
   "source": [
    "Se busca que los estudiantes no solo aprendan conocimientos técnicos, sino también cómo aplicarlos creativa y críticamente en situaciones reales, promoviendo habilidades como el trabajo en equipo, la comunicación y la innovación. "
   ]
  },
  {
   "cell_type": "markdown",
   "id": "9d556584",
   "metadata": {},
   "source": [
    "En educación preescolar, primaria, secundaria y superior, se adapta a las diferentes etapas de desarrollo cognitivo y emocional de los estudiantes, promoviendo el aprendizaje activo y contextualizado.  \n"
   ]
  },
  {
   "cell_type": "markdown",
   "id": "0130ec1b",
   "metadata": {},
   "source": [
    "\n",
    "<img src = 'https://www.campuseducacion.com/blog/wp-content/uploads/2023/03/foto01-1.jpg' width = 200>"
   ]
  },
  {
   "cell_type": "markdown",
   "id": "9d15c10d-2c02-4158-9419-b1ed79b4c1ee",
   "metadata": {},
   "source": [
    "# Qué estamos haciendo por la internalización en esta clase y este curso  \n"
   ]
  },
  {
   "cell_type": "markdown",
   "id": "6e4feef2",
   "metadata": {},
   "source": [
    "Estas son mis acciones como docente de matemáticas en la Universidad de Antioquia con miras a la **internacionalización** de mi práctica docente y el desarrollo de competencias internacionales para mis estudiantes, los cuales he estructurado con el siguiente enfoque:\n"
   ]
  },
  {
   "cell_type": "markdown",
   "id": "964d9de7-53ee-4255-9bcd-d8e6454f2993",
   "metadata": {},
   "source": [
    "### 1. **Visión Global en la Formación Académica**\n"
   ]
  },
  {
   "cell_type": "markdown",
   "id": "d9bdd3e2",
   "metadata": {},
   "source": [
    "   - **Competencias Internacionales**: Asegúrate de que el contenido de tus cursos fomente habilidades que sean reconocidas globalmente. Al educar a los estudiantes en **Python, LaTeX, Markdown y Jupyter Notebooks** y en la **introducción a la ciencia de datos y técnicas de Machine Learning**, estás proporcionando competencias altamente demandadas en los sectores tecnológicos y académicos a nivel internacional.\n"
   ]
  },
  {
   "cell_type": "markdown",
   "id": "39b55206",
   "metadata": {},
   "source": [
    "   - **Relevancia de los Contenidos**: Destaca cómo los temas que enseñas, como el **desarrollo del pensamiento computacional** y la **ciencia de datos**, están alineados con las necesidades globales actuales en diversas industrias, desde la tecnología hasta las ciencias naturales y sociales.\n"
   ]
  },
  {
   "cell_type": "markdown",
   "id": "a054599e",
   "metadata": {},
   "source": [
    "   - **Referencias a Estándares Internacionales**: Puedes vincular tu enseñanza a estándares internacionales de competencias en programación y ciencia de datos (por ejemplo, frameworks del **IEEE, ACM**, y estándares de la **data science** o la **computación en la nube**)."
   ]
  },
  {
   "cell_type": "markdown",
   "id": "0f1d110c-3142-48fe-9e7d-5fbd9e8bb931",
   "metadata": {},
   "source": [
    "### 2. **Innovación Pedagógica con Enfoque Internacional**\n"
   ]
  },
  {
   "cell_type": "markdown",
   "id": "fae6ae34",
   "metadata": {},
   "source": [
    "   - **Aula Invertida y ABP**: Presenta cómo tu enfoque de **aula invertida** y **aprendizaje basado en problemas (ABP)** permite a los estudiantes trabajar de manera autónoma y colaborativa, lo que los prepara para escenarios laborales internacionales que requieren autoaprendizaje y habilidades de resolución de problemas en equipo.\n"
   ]
  },
  {
   "cell_type": "markdown",
   "id": "c83062d9",
   "metadata": {},
   "source": [
    "   - **Uso de Jupyter Notebooks**: El uso de **Jupyter Notebooks** en tus clases no solo facilita la **integración de código, matemáticas y texto**, sino que también es una plataforma utilizada globalmente en ambientes académicos y profesionales, lo que hace a tus estudiantes más competitivos internacionalmente."
   ]
  },
  {
   "cell_type": "markdown",
   "id": "960d52b7-03cd-4eb3-965e-5cdfeb7d9f8e",
   "metadata": {},
   "source": [
    "### 3. **Tecnología y Herramientas de Uso Global**\n"
   ]
  },
  {
   "cell_type": "markdown",
   "id": "4be7269f",
   "metadata": {},
   "source": [
    "   - **Lenguaje Python**: Python es uno de los lenguajes de programación más usados a nivel mundial, tanto en la academia como en la industria. Al formar a tus estudiantes en Python para ciencia de datos y machine learning, los preparas para operar en entornos tecnológicos globales.\n"
   ]
  },
  {
   "cell_type": "markdown",
   "id": "102655af",
   "metadata": {},
   "source": [
    "   - **Herramientas de Ciencia Abierta**: Resalta cómo herramientas como **GitHub**, **Google Colab** y otras plataformas de código abierto están alineadas con el movimiento de **ciencia abierta**, el cual es internacionalmente reconocido y permite que los estudiantes colaboren y compartan proyectos a nivel global."
   ]
  },
  {
   "cell_type": "markdown",
   "id": "3b2ffa32-7a6f-4545-ba7b-c6a69f51109f",
   "metadata": {},
   "source": [
    "### 4. **Investigación y Publicaciones Internacionales**\n"
   ]
  },
  {
   "cell_type": "markdown",
   "id": "bdbf52a5",
   "metadata": {},
   "source": [
    "   - **Promoción de la Investigación**: Detalla cómo promueves que tus estudiantes participen en proyectos de **investigación aplicada**, con posibilidad de publicación en revistas internacionales. Esto contribuye a la reputación internacional de la Universidad de Antioquia.\n"
   ]
  },
  {
   "cell_type": "markdown",
   "id": "ea01fcbc",
   "metadata": {},
   "source": [
    "   - **Colaboraciones Internacionales**: Si has colaborado con investigadores de otras instituciones o universidades en el extranjero, menciona estos proyectos y cómo han enriquecido tu enseñanza y proporcionado a los estudiantes una visión más globalizada."
   ]
  },
  {
   "cell_type": "markdown",
   "id": "5d1e396e-aece-4bf7-9421-32fa7809eaf4",
   "metadata": {},
   "source": [
    "## 5. **Uso del Inglés para la Internacionalización**\n"
   ]
  },
  {
   "cell_type": "markdown",
   "id": "29cabf26",
   "metadata": {},
   "source": [
    "   - **Comunicación Científica en Inglés**: "
   ]
  },
  {
   "cell_type": "markdown",
   "id": "8ec53ff3",
   "metadata": {},
   "source": [
    "Fomentar el aprendizaje del inglés como lengua científica es clave para que tus estudiantes puedan acceder a publicaciones internacionales, conferencias, y material académico que no está disponible en español. "
   ]
  },
  {
   "cell_type": "markdown",
   "id": "5ea824ac",
   "metadata": {},
   "source": [
    "Esto es esencial para que adquieran competencias que les permitan desempeñarse en cualquier contexto internacional.\n"
   ]
  },
  {
   "cell_type": "markdown",
   "id": "b831224f",
   "metadata": {},
   "source": [
    "   - **Material Bilingüe**: Al generar material educativo en Python, LaTeX y Markdown, considera ofrecer algunos de estos recursos en inglés, para que los estudiantes se familiaricen con el vocabulario técnico y científico internacional."
   ]
  },
  {
   "cell_type": "markdown",
   "id": "c6a8c3b0-426a-4692-a384-3065aea81c9a",
   "metadata": {},
   "source": [
    "### 6. **Certificaciones y Estándares Internacionales**\n"
   ]
  },
  {
   "cell_type": "markdown",
   "id": "b1f41da5",
   "metadata": {},
   "source": [
    "   - **Participación en Certificaciones Internacionales**: Impulsa que los estudiantes busquen certificaciones internacionales en Python o ciencia de datos (como las ofrecidas por **Coursera, edX,** o **Google**). "
   ]
  },
  {
   "cell_type": "markdown",
   "id": "51032c62",
   "metadata": {},
   "source": [
    "Estas certificaciones no solo validan sus competencias, sino que también incrementan el reconocimiento de la Universidad de Antioquia en el contexto internacional.\n"
   ]
  },
  {
   "cell_type": "markdown",
   "id": "7cc66317",
   "metadata": {},
   "source": [
    "   - **Alineación con Acreditaciones Internacionales**: Vincula tu trabajo docente con los estándares de acreditación y certificación que garantizan que la universidad siga siendo reconocida internacionalmente. "
   ]
  },
  {
   "cell_type": "markdown",
   "id": "5b8a9ca0",
   "metadata": {},
   "source": [
    "Puedes vincularte con organizaciones internacionales que promuevan la excelencia en la educación y tecnología, como **ABET** para la acreditación en ingeniería y ciencias computacionales."
   ]
  },
  {
   "cell_type": "markdown",
   "id": "65d3d9e1-ea84-43e0-8197-a2a9c9e21594",
   "metadata": {},
   "source": [
    "### 7. **Proyectos Abiertos y Ciencia Reproducible**\n"
   ]
  },
  {
   "cell_type": "markdown",
   "id": "f03f7b20",
   "metadata": {},
   "source": [
    "   - **GitHub y Open Science**: La utilización de **GitHub** para almacenar los proyectos y materiales de enseñanza en repositorios públicos permite que otros investigadores y educadores internacionales puedan revisar y replicar tu trabajo. "
   ]
  },
  {
   "cell_type": "markdown",
   "id": "ffc42116",
   "metadata": {},
   "source": [
    "Esto contribuye a la creación de una red de colaboración científica abierta.\n"
   ]
  },
  {
   "cell_type": "markdown",
   "id": "abcfc748",
   "metadata": {},
   "source": [
    "   - **Transparencia y Reproducibilidad**: La ciencia de datos y machine learning están profundamente ligados a la reproducibilidad. "
   ]
  },
  {
   "cell_type": "markdown",
   "id": "9eb0d20f",
   "metadata": {},
   "source": [
    "Asegura que tus estudiantes desarrollen prácticas de transparencia y documentación en la investigación, que son pilares en la comunidad científica global.\n"
   ]
  },
  {
   "cell_type": "markdown",
   "id": "215cb551",
   "metadata": {},
   "source": [
    "\n",
    "### 8. **Participación en Redes y Conferencias Internacionales**  \n"
   ]
  },
  {
   "cell_type": "markdown",
   "id": "03b5d7d0",
   "metadata": {},
   "source": [
    "   - **Presentación en Conferencias Internacionales**: Destaca cómo tu participación en conferencias internacionales (como la **ASCOLFA** o eventos sobre educación en matemáticas) contribuye al prestigio de la universidad y permite que tus prácticas sean evaluadas y reconocidas a nivel global.\n"
   ]
  },
  {
   "cell_type": "markdown",
   "id": "cdf46e29",
   "metadata": {},
   "source": [
    "   - **Promoción de Estudiantes en Eventos Internacionales**: Impulsa la participación de tus estudiantes en competiciones internacionales de programación o hackathons, como los organizados por **Google**, **ACM** o **Kaggle**. "
   ]
  },
  {
   "cell_type": "markdown",
   "id": "f2197399",
   "metadata": {},
   "source": [
    "Esto no solo desarrolla sus habilidades, sino que también visibiliza el talento de la Universidad de Antioquia a nivel global.\n",
    "\n",
    "---"
   ]
  },
  {
   "cell_type": "markdown",
   "id": "233294a4-1983-4641-a7ad-866825e02315",
   "metadata": {},
   "source": [
    "Con esta estrategia, presento mis acciones docentes en términos de competencias internacionales, innovación pedagógica, tecnología, investigación y participación en redes globales, asegurando que mi práctica esté alineada con los estándares internacionales y que mis estudiantes estén preparados para competir en contextos internacionales."
   ]
  },
  {
   "cell_type": "markdown",
   "id": "77da458b",
   "metadata": {},
   "source": [
    "### **Metodología de Enseñanza: Aprendizaje Basado en Problemas y Proyectos (ABPP)**\n"
   ]
  },
  {
   "cell_type": "markdown",
   "id": "c943d273",
   "metadata": {},
   "source": [
    "\n",
    "El **Aprendizaje Basado en Problemas y Proyectos (ABPP)** es una metodología educativa que integra los enfoques del **Aprendizaje Basado en Problemas (ABP)** y el **Aprendizaje Basado en Proyectos (PBL, por sus siglas en inglés)**. "
   ]
  },
  {
   "cell_type": "markdown",
   "id": "36fabc22",
   "metadata": {},
   "source": [
    "Es especialmente útil para la formación de futuros docentes, ingenieros y administradores, ya que combina el desarrollo de habilidades prácticas con el pensamiento crítico y reflexivo. "
   ]
  },
  {
   "cell_type": "markdown",
   "id": "8afd2e6c",
   "metadata": {},
   "source": [
    "A continuación, se presenta una descripción adaptada a la enseñanza de las matemáticas en educación infantil, Licenciatura en Matemáticas, Ingeniería Agropecuaria y Administración de Empresas:\n",
    "\n",
    "---\n"
   ]
  },
  {
   "cell_type": "markdown",
   "id": "0eeba3f5",
   "metadata": {},
   "source": [
    "\n",
    "### **1. Fundamentos del ABPP**\n"
   ]
  },
  {
   "cell_type": "markdown",
   "id": "22dc9417",
   "metadata": {},
   "source": [
    "El ABPP se basa en:\n",
    "- **Resolución de Problemas Reales:** Los estudiantes analizan y resuelven problemas auténticos relacionados con su área de formación, fomentando la aplicación práctica del conocimiento.\n"
   ]
  },
  {
   "cell_type": "markdown",
   "id": "d2892490",
   "metadata": {},
   "source": [
    "- **Proyectos como Herramientas Integradoras:** Los proyectos permiten desarrollar habilidades interdisciplinarias y ofrecer soluciones concretas a los problemas planteados.\n"
   ]
  },
  {
   "cell_type": "markdown",
   "id": "bb18e637",
   "metadata": {},
   "source": [
    "- **Aprendizaje Activo:** Los estudiantes son responsables de su aprendizaje y participan activamente en el proceso de investigación, diseño y solución.\n",
    "\n",
    "---\n"
   ]
  },
  {
   "cell_type": "markdown",
   "id": "3728d010",
   "metadata": {},
   "source": [
    "\n",
    "### **2. Aplicación del ABPP en Áreas Específicas**\n"
   ]
  },
  {
   "cell_type": "markdown",
   "id": "5ed5d8d6",
   "metadata": {},
   "source": [
    "\n",
    "#### **Educación Infantil (Licenciatura en Educación Infantil)**\n",
    "- **Enfoque:** Desarrollo del pensamiento matemático en la infancia desde contextos lúdicos, familiares y culturales.\n"
   ]
  },
  {
   "cell_type": "markdown",
   "id": "911bd677",
   "metadata": {},
   "source": [
    "- **Problemas típicos:** \n",
    "  - ¿Cómo enseñar los números naturales mediante actividades prácticas y juegos?\n",
    "  - ¿Qué estrategias pueden emplearse para abordar el concepto de cantidad en edades tempranas?\n"
   ]
  },
  {
   "cell_type": "markdown",
   "id": "f8425712",
   "metadata": {},
   "source": [
    "- **Proyectos:** Diseño de secuencias didácticas que usen Python, Jupyter Notebooks y materiales manipulativos para enseñar matemáticas de forma interactiva.\n",
    "- **Competencias desarrolladas:** \n",
    "  - Uso de herramientas tecnológicas para diseñar actividades educativas.\n",
    "  - Comprensión del desarrollo cognitivo infantil y su relación con las matemáticas.\n"
   ]
  },
  {
   "cell_type": "markdown",
   "id": "481f614a",
   "metadata": {},
   "source": [
    "\n",
    "#### **Licenciatura en Matemáticas**\n"
   ]
  },
  {
   "cell_type": "markdown",
   "id": "69f244cf",
   "metadata": {},
   "source": [
    "- **Enfoque:** Resolución de problemas matemáticos aplicados y profundización teórica en áreas como análisis matemático y modelado.\n"
   ]
  },
  {
   "cell_type": "markdown",
   "id": "ad9416a1",
   "metadata": {},
   "source": [
    "- **Problemas típicos:**\n"
   ]
  },
  {
   "cell_type": "markdown",
   "id": "d3c1257b",
   "metadata": {},
   "source": [
    "  - ¿Cómo se pueden resolver ecuaciones diferenciales aplicadas a modelos físicos o económicos?\n",
    "  - ¿Cómo modelar fenómenos naturales mediante funciones matemáticas?\n"
   ]
  },
  {
   "cell_type": "markdown",
   "id": "e671aebd",
   "metadata": {},
   "source": [
    "- **Proyectos:** \n",
    "  - Desarrollo de software educativo para explorar conceptos matemáticos.\n",
    "  - Aplicación de modelado matemático para resolver problemas reales en otras disciplinas.\n",
    "- **Competencias desarrolladas:**\n",
    "  - Dominio de la matemática teórica y aplicada.\n",
    "  - Uso de tecnología para la enseñanza y la investigación.\n"
   ]
  },
  {
   "cell_type": "markdown",
   "id": "83ab236f",
   "metadata": {},
   "source": [
    "\n",
    "#### **Ingeniería Agropecuaria**\n"
   ]
  },
  {
   "cell_type": "markdown",
   "id": "8edcbf9a",
   "metadata": {},
   "source": [
    "- **Enfoque:** Modelado matemático y análisis de datos para mejorar la producción agrícola y la gestión de recursos.\n",
    "- **Problemas típicos:**\n",
    "  - ¿Cómo modelar el crecimiento de cultivos considerando variables climáticas?\n",
    "  - ¿Cómo optimizar el uso del agua en sistemas de riego mediante análisis matemático?\n"
   ]
  },
  {
   "cell_type": "markdown",
   "id": "a22683f1",
   "metadata": {},
   "source": [
    "- **Proyectos:** \n",
    "  - Desarrollo de modelos predictivos con Python y bibliotecas de aprendizaje automático.\n",
    "  - Implementación de proyectos que combinen matemáticas y ciencias de datos para resolver problemas agrícolas.\n",
    "- **Competencias desarrolladas:**\n",
    "  - Integración de matemáticas con tecnologías avanzadas.\n",
    "  - Resolución de problemas agropecuarios mediante análisis y modelado.\n"
   ]
  },
  {
   "cell_type": "markdown",
   "id": "c4519bb3",
   "metadata": {},
   "source": [
    "\n",
    "#### **Administración de Empresas**\n"
   ]
  },
  {
   "cell_type": "markdown",
   "id": "5d003f89",
   "metadata": {},
   "source": [
    "- **Enfoque:** Uso de las matemáticas y la ciencia de datos para la toma de decisiones estratégicas.\n",
    "- **Problemas típicos:**\n",
    "  - ¿Cómo identificar patrones de comportamiento del consumidor usando series de tiempo?\n",
    "  - ¿Qué estrategias matemáticas pueden optimizar la asignación de recursos en una empresa?\n"
   ]
  },
  {
   "cell_type": "markdown",
   "id": "5b85ef1b",
   "metadata": {},
   "source": [
    "- **Proyectos:** \n",
    "  - Implementación de modelos de análisis financiero y simulaciones.\n",
    "  - Desarrollo de dashboards interactivos para la gestión de datos empresariales.\n",
    "- **Competencias desarrolladas:**\n",
    "  - Habilidad para interpretar datos matemáticos en contextos de negocio.\n",
    "  - Capacidad para diseñar soluciones basadas en datos.\n",
    "\n",
    "---\n"
   ]
  },
  {
   "cell_type": "markdown",
   "id": "19be58d4",
   "metadata": {},
   "source": [
    "\n",
    "### **3. Beneficios del ABPP**\n"
   ]
  },
  {
   "cell_type": "markdown",
   "id": "36294346",
   "metadata": {},
   "source": [
    "- **Desarrollo de competencias clave:**\n",
    "  - Pensamiento crítico y creativo.\n",
    "  - Trabajo colaborativo.\n",
    "  - Comunicación efectiva.\n",
    "  - Uso de herramientas tecnológicas avanzadas.\n"
   ]
  },
  {
   "cell_type": "markdown",
   "id": "81e47725",
   "metadata": {},
   "source": [
    "- **Adaptación al contexto laboral:** Los estudiantes aprenden a enfrentar desafíos del mundo real y a diseñar soluciones prácticas y aplicables.\n",
    "- **Flexibilidad e interdisciplinariedad:** La metodología se adapta a diversas áreas, fomentando el aprendizaje integrado.\n",
    "\n",
    "---\n"
   ]
  },
  {
   "cell_type": "markdown",
   "id": "e36034c3",
   "metadata": {},
   "source": [
    "\n",
    "### **4. Ejemplo General de Implementación**\n"
   ]
  },
  {
   "cell_type": "markdown",
   "id": "c921c641",
   "metadata": {},
   "source": [
    "1. **Identificación del problema:** Se plantea un desafío concreto, como modelar el crecimiento poblacional de una comunidad rural (Ingeniería Agropecuaria) o diseñar una estrategia para enseñar fracciones a niños de 8 años (Educación Infantil).\n"
   ]
  },
  {
   "cell_type": "markdown",
   "id": "8775fe39",
   "metadata": {},
   "source": [
    "2. **Formación de equipos:** Los estudiantes trabajan en grupos, distribuyendo roles y tareas.\n",
    "3. **Investigación y diseño:** Los estudiantes investigan el problema, proponen soluciones y diseñan un proyecto.\n",
    "4. **Implementación:** Se desarrolla el proyecto, como una herramienta tecnológica o una propuesta pedagógica.\n",
    "5. **Evaluación:** Los estudiantes presentan sus resultados en un informe o una exposición, recibiendo retroalimentación de sus compañeros y docentes.\n",
    "\n",
    "---\n"
   ]
  },
  {
   "cell_type": "markdown",
   "id": "7bffbba1",
   "metadata": {},
   "source": [
    "\n",
    "El ABPP es una metodología versátil que conecta el conocimiento teórico con la práctica, preparando a los estudiantes para los retos de sus profesiones en la enseñanza de la matemática, la ingeniería y la administración."
   ]
  },
  {
   "cell_type": "markdown",
   "id": "8d97dc80",
   "metadata": {
    "slideshow": {
     "slide_type": "slide"
    }
   },
   "source": [
    "## Fomento de la lectura literaria asociada a Ingeniería agropecuaria y licenciatura en Matemáticas\n",
    "\n",
    "[Aprender a obtener el sí sin ceder]()"
   ]
  },
  {
   "cell_type": "markdown",
   "id": "96775931",
   "metadata": {
    "slideshow": {
     "slide_type": "slide"
    }
   },
   "source": [
    "## Título de la clase: Método de integración numérica por sumas derechas de Riemann    \n",
    "\n",
    "[Cálculo 1. de una variable. Novena edición](chrome-extension://efaidnbmnnnibpcajpcglclefindmkaj/https://ingindustrial869624637.wordpress.com/wp-content/uploads/2019/02/calculo-1-ron-larson-.pdf)"
   ]
  },
  {
   "cell_type": "markdown",
   "id": "10e55ccf",
   "metadata": {},
   "source": [
    "# Estructura general para todas las clases\n",
    "\n",
    "Dame, por favor, un diseño de clase, con el enfoque: \"Aula Invertida, STEAMS y De aprendizaje Basado en Problemas y Proyectos(ABPP)\" sobre: \"El método numérico de integración a través de sumas de Riemann cuyos puntos distinguidos sean los extremos derechos de los subintervalos\", siguiendo la estructura:  \n",
    "\n",
    "1. Título de la clase \n",
    "2. Objetivo de aprendizaje\n",
    "3. Un mapa conceptual que resuma la clase elaborado en Graphviz de python con nodos y edges de diferentes formas, colores y rellenos y renderizado en la siguiente ubicación: `\"C:\\Users\\marco\\Descargas\"`.  No olvides el parámetro `view = True` ppara el método `render()` de graphviz. \n",
    "4. Elementos históricos y epistemológicos relevantes para la clase. \n",
    "5. Contenido de la clase: \n",
    "     * Descripción del algoritmo de aproximación del área bajo la curva de $f$ en $[a, b]$ a través de sumas derechas de Riemann de manera verbal, luego de manera gráfica a través de una matriz de gráficas de matplotlib. y finalmente la descripción a través de una animación con matplolib.animation. \n",
    "     * Incluye una visualización con matplotlib y ipywidgets de python de la formación de los puntos $x_{i}$ de una partición regular del dominio $[a, b]$ de una función $f$ y la interpretación de $f(x_{i})$ como alturas o longitudes de la función en los puntos $x_{i}$, resaltando en color rojo a estos segmentos. Pero donde el deslizador representa la variable $i$ de los extremos izquierdos de los subintervalos. Para $n = 5$ fijo. Y que los rectángulos sean visibles. \n",
    "     * Incluye una visualización con matplotlib y ipywidgets de python de la formación de los puntos $x_{i}$ de una partición regular del dominio $[a, b]$ de una función $f$ y la interpretación de $f(x_{i})$ como alturas o longitudes de la función en los puntos $x_{i}$, resaltando en color rojo a estos segmentos. Donde el deslizador represente la variable $n$ de la partición regular.  Y que los rectángulos sean visibles.  \n",
    "     * Incluye en este contenido una visualización con matplotlib de python de la interpretación geométrica de los puntos distinguidos ($x_{i}$) de una partición regular del dominio $[a, b]$ de una función $f$ y la interpretación de $f(x_{i})$ (Coloreando en rojo estos segmentos verticales) como alturas o longitudes de la función en los puntos $x_{i}$.\n",
    "6. Deducción de una función de usuario de python, que permita determinar el número de rectángulos $n$ necesarios para una precisión de la suma de riemenn dada $\\epsilon = 0.0001$. \n",
    "7. Actividades de aprendizaje: que incluya pruebas de escritorio para los algoritmos en forma verbal y seudo código, diagrama de flujo, y la implementación del algoritmo en lenguaje python.\n",
    "8. Incluye una canción o un poema que ayude a interiorizar y fijar los conceptos asociados a esta clase. \n",
    "9.  Tarea o actividades de ejercitación y fijación\n",
    "10. Evaluación incluyendo diez proyectos, un ejemplo de quiz y un ejemplo de parcial\n",
    "11. Diseño de actividad de retroalimentación. \n",
    "12. Dame un vocabulario y frases del idioma inglés asociadas a esta clase.   \n",
    "\n",
    "Pero  que este diseño sea para que el estudiante pueda aprender experimentando en cuadernos Jupyter con funciones de usuario y animaciones y visualizaciones en python. En particular utiliza para el diseño de clase a Numpy, Pandas, SymPy, Matplotlib.pyplot, Seaborn, Plotly, ipywidgets, SciPy, `matplotlib.animation` y Jupyter Notebook. Cada vez que itilice `matplotlib.animacion` no olvides incluir el uso de IPython. display para la rederización de estas animaciones a través de Jupyter Notebook. No olvides darme los diseños de clase con las ecuaciones matemáticas delimitadas con signo de dolar $ para que VS Code si me renderize estas expresiones del lenguaje latex. Utiliza la siguiente configuración inicial para cuendo vallas a utilizar ipywidges para animaciones interactivas: import numpy as np              # Manipulación numérica\n",
    "import matplotlib.pyplot as plt # Visualización gráfica\n",
    "import ipywidgets as widgets    # Elementos interactivos\n",
    "from IPython.display import display, clear_output  # Manejo de salida en notebooks\n",
    "from matplotlib.patches import Rectangle  # Dibujo de rectángulos\n",
    "\n",
    "%matplotlib inline  # Muestra gráficos estáticos en el notebook"
   ]
  },
  {
   "cell_type": "markdown",
   "id": "c64a1da3",
   "metadata": {},
   "source": [
    "## Presentación de la estructura de esta clase  \n",
    "\n",
    "# Integración numérica por sumas derechas de Riemann  \n"
   ]
  },
  {
   "cell_type": "markdown",
   "id": "02fe45d1",
   "metadata": {},
   "source": [
    "# 1. Título de la clase\n",
    "\"\"\"\n",
    "**Clase 15: Integración Numérica con Sumas de Riemann derechas - Enfoque STEAMS y ABPP**\n",
    "\"\"\"\n"
   ]
  },
  {
   "cell_type": "markdown",
   "id": "4210ed63",
   "metadata": {},
   "source": [
    "\n",
    "# 2. Objetivo de aprendizaje\n"
   ]
  },
  {
   "cell_type": "markdown",
   "id": "29939448",
   "metadata": {},
   "source": [
    "\n",
    "Al finalizar la clase, el estudiante será capaz de:\n"
   ]
  },
  {
   "cell_type": "markdown",
   "id": "d375e215",
   "metadata": {},
   "source": [
    "- Describir, diseñar e implementar algoritmos numéricos en Python para aproximar integrales definidas usando sumas de Riemann con extremos derechos. \n"
   ]
  },
  {
   "cell_type": "markdown",
   "id": "88c2b455",
   "metadata": {},
   "source": [
    "- Analizar y visualizar el proceso de convergencia mediante técnicas interactivas\n",
    "- Aplicar el método a problemas reales en contextos STEAMS\n",
    "\n"
   ]
  },
  {
   "cell_type": "code",
   "execution_count": null,
   "id": "de8ddcb4",
   "metadata": {},
   "outputs": [
    {
     "data": {
      "text/plain": [
       "'C:\\\\Users\\\\marco\\\\Descargas\\\\Riemann_Map\\\\Digraph.gv.png'"
      ]
     },
     "execution_count": 7,
     "metadata": {},
     "output_type": "execute_result"
    }
   ],
   "source": [
    "\n",
    "from graphviz import Digraph\n",
    "\n",
    "dot = Digraph(comment='Sumas Derechas de Riemann', \n",
    "             format='png', \n",
    "             engine='dot')  # Cambiado a 'dot' para layout jerárquico\n",
    "\n",
    "# Configuración general\n",
    "dot.attr(rankdir='TB',         # Dirección Top-Bottom para jerarquía vertical\n",
    "         splines='ortho',      # Líneas rectas\n",
    "         nodesep='0.5',        # Espacio entre nodos\n",
    "         ranksep='0.3',        # Espacio entre niveles\n",
    "         newrank='true')       # Permite múltiples grupos de rango\n",
    "\n",
    "# Nodos agrupados por niveles jerárquicos\n",
    "with dot.subgraph(name='cluster_1') as c:\n",
    "    c.attr(rank='same')\n",
    "    c.node('A', 'Aula Invertida\\n(Videos previos,\\nlecturas)', \n",
    "          shape='house', style='filled', fillcolor='#FFE4B5', margin='0.2')\n",
    "\n",
    "with dot.subgraph(name='cluster_2') as c:\n",
    "    c.attr(rank='same')\n",
    "    c.node('B', 'STEAMS\\n(Proyectos interdisciplinares)', \n",
    "          shape='egg', style='filled,rounded', fillcolor='#98FB98', margin='0.2')\n",
    "    c.node('C', 'ABPP\\n(Problemas reales)', \n",
    "          shape='component', style='filled', fillcolor='#87CEEB', margin='0.2')\n",
    "\n",
    "with dot.subgraph(name='cluster_3') as c:\n",
    "    c.attr(rank='same')\n",
    "    c.node('D', 'Sumas de Riemann\\n∫ₐᵇ f(x)dx ≈ Σf(xᵢ)Δx', \n",
    "          shape='note', style='filled', fillcolor='#FFB6C1', margin='0.2')\n",
    "\n",
    "with dot.subgraph(name='cluster_4') as c:\n",
    "    c.attr(rank='same')\n",
    "    c.node('E', 'Python\\n(Implementación)', \n",
    "          shape='ellipse', style='filled,dashed', fillcolor='#F0E68C', margin='0.2')\n",
    "    c.node('F', 'Visualización\\nMatplotlib/Plotly', \n",
    "          shape='box3d', style='filled', fillcolor='#DDA0DD', margin='0.2')\n",
    "\n",
    "# Conexiones jerárquicas\n",
    "dot.edges([\n",
    "    'AB', 'AC',    # Nivel 1 → Nivel 2\n",
    "    'BD', 'CD',    # Nivel 2 → Nivel 3\n",
    "    'DE', 'DF',    # Nivel 3 → Nivel 4\n",
    "    'EF'           # Conexión final\n",
    "])\n",
    "\n",
    "# Alineación adicional para evitar superposiciones\n",
    "dot.edge('B', 'C', style='invis')  # Fuerza alineación horizontal\n",
    "dot.edge('E', 'F', style='invis')  # Fuerza alineación horizontal\n",
    "\n",
    "dot.render(directory=r'C:\\Users\\marco\\Descargas\\Riemann_Map', \n",
    "         view=True, \n",
    "         cleanup=True)  # Auto-limpieza de archivos temporales"
   ]
  },
  {
   "cell_type": "markdown",
   "id": "7a46004d",
   "metadata": {},
   "source": [
    "\n",
    "# 4. Elementos históricos\n",
    "\"\"\"\n",
    "**Contexto histórico:**\n",
    "- Desarrollado por Bernhard Riemann (1826-1866) como parte de su teoría de integración\n",
    "- Fundamentos del cálculo integral moderno\n",
    "- Aplicaciones históricas en física y astronomía\n",
    "- Relación con la aproximación de áreas en civilizaciones antiguas (Egipto, Grecia)\n",
    "\n",
    "**Epistemología:**\n",
    "- Transición de métodos geométricos a algebraicos\n",
    "- Conexión entre lo discreto y lo continuo\n",
    "- Importancia en el desarrollo del análisis numérico\n",
    "\"\"\"\n"
   ]
  },
  {
   "cell_type": "markdown",
   "id": "532ca7ef",
   "metadata": {},
   "source": [
    "\n",
    "# 5. Contenido de la clase\n"
   ]
  },
  {
   "cell_type": "markdown",
   "id": "518051ee",
   "metadata": {},
   "source": [
    "# Descripción del algoritmo de aproximación del área bajo la curva con sumas derechas de Riemann  \n"
   ]
  },
  {
   "cell_type": "markdown",
   "id": "addd6048",
   "metadata": {},
   "source": [
    "\n",
    "## Iniciemos con el contenido correspondiente a la descripción del algoritmo de sumas de Riemann derechas y cómo llegar de esta descripción a la construcción de un script de python que lo implemente (geométrico $\\to$ Verbal $\\to$ algoritmo en lenguaje python )\n"
   ]
  },
  {
   "cell_type": "markdown",
   "id": "264603f0",
   "metadata": {},
   "source": [
    "\n",
    "[Un video de apoyo a la descripción del algoritmo desde lo geométrico a lo verbal y de esta a la secuencia en lenguaje python](https://www.youtube.com/watch?v=jfAiWO04z2I)\n"
   ]
  },
  {
   "cell_type": "markdown",
   "id": "04a55d9e",
   "metadata": {},
   "source": [
    "\n",
    "Esta son tres formas de describir el algoritmo de aproximación del área bajo la curva usando sumas de Riemann a la derecha:  \n",
    "\n",
    "---\n",
    "\n"
   ]
  },
  {
   "cell_type": "markdown",
   "id": "5d1bfbb4",
   "metadata": {},
   "source": [
    "\n",
    "### **1️⃣ Descripción Verbal:**  \n",
    "\n",
    "El algoritmo de **aproximación del área bajo la curva de una función $f(x)$ en el intervalo $[a, b]$** usando sumas de Riemann a la derecha sigue estos pasos:  \n",
    "\n",
    "1. **División del intervalo**: Se divide $[a, b]$ en $n$ subintervalos de igual longitud $\\Delta x = \\frac{b-a}{n}$.  \n",
    "2. **Elección de puntos derechos**: En cada subintervalo $[x_i, x_{i+1}]$, se toma el punto derecho $x_{i+1}$ como referencia para evaluar la función.  \n",
    "3. **Cálculo de las áreas de los rectángulos**: Se construyen $n$ rectángulos de base $\\Delta x$ y altura $f(x_{i+1})$.  \n",
    "4. **Suma de áreas**: Se obtiene la aproximación sumando las áreas de todos los rectángulos:  \n",
    "   $$\n",
    "   S_n = \\sum_{i=0}^{n-1} f(x_{i+1}) \\Delta x.\n",
    "   $$\n",
    "\n",
    "5. **Refinamiento de la aproximación**: Al aumentar $n$, la aproximación se vuelve más precisa y tiende al valor de la integral definida $\\int_a^b f(x) dx$.  \n",
    "\n",
    "\n",
    "---\n"
   ]
  },
  {
   "cell_type": "markdown",
   "id": "bb458dd9",
   "metadata": {},
   "source": [
    "\n",
    "## **2️ Descripción Gráfica con Matriz de Gráficas en Matplotlib**  \n",
    "\n",
    "\n",
    "Ahora mostramos la aproximación con diferentes valores de $ n $ en una matriz de gráficos. Vamos a usar `matplotlib` para mostrar cómo la suma de Riemann mejora con más particiones:  \n"
   ]
  },
  {
   "cell_type": "markdown",
   "id": "a3944b58",
   "metadata": {},
   "source": [
    "\n",
    "def save_fig(nombre_archivo_imagen):\n",
    "    import os \n",
    "    import matplotlib.pyplot as plt\n",
    "    ubicacion_para_imagenes = r\"C:/Users/marco/Descargas\"\n",
    "    imagen_path = os.path.join(ubicacion_para_imagenes, nombre_archivo_imagen)\n",
    "    plt.savefig(imagen_path, bbox_inches='tight')\n"
   ]
  },
  {
   "cell_type": "code",
   "execution_count": null,
   "id": "03396d1d",
   "metadata": {},
   "outputs": [],
   "source": []
  },
  {
   "cell_type": "code",
   "execution_count": null,
   "id": "8dd23c0c",
   "metadata": {},
   "outputs": [],
   "source": [
    "import numpy as np\n",
    "import matplotlib.pyplot as plt\n",
    "\n",
    "# Definimos la función\n",
    "def f(x):\n",
    "    return x**2\n",
    "\n",
    "# Intervalo de integración\n",
    "a, b = 0, 3\n",
    "n = 3                  # Número de subdivisiones\n",
    "dx = (b-a)/n       # Longitud de los subintervalos. Longitud de la base de los rectángulos. \n",
    "# Generamos los puntos de partición y los valores correspondientes\n",
    "x_part = np.arange(a, b + dx, dx)  \n",
    "\n",
    "\n",
    "x_right = x_part[1:]  # Puntos derechos para evaluar la función. Le quita el primer punto de la partición \n",
    "y_right = f(x_right)\n",
    "\n",
    "# Creamos la figura y los subgráficos\n",
    "fig, axes = plt.subplots(1, 3, figsize=(15, 5))\n",
    "\n",
    "# Primer gráfico: Resaltar los puntos de partición\n",
    "axes[0].axhline(0)\n",
    "axes[0].plot(np.linspace(a, b, 1000), f(np.linspace(a, b, 1000)), 'blue', linewidth=2, label='$f(x)$') # grafica de la función seno \n",
    "axes[0].scatter(x_part, np.zeros_like(x_part), color='red', zorder=3, label='Puntos de partición') # puntos de la partición\n",
    "axes[0].set_title('Puntos de partición ($n=3$)')\n",
    "axes[0].legend()\n",
    "axes[0].set_xlabel('$x$')\n",
    "axes[0].set_ylabel('$f(x)$')\n",
    "\n",
    "# Segundo gráfico: Agregar los segmentos de altura f(x_{i+1})\n",
    "axes[1].axhline(0)\n",
    "axes[1].plot(np.linspace(a, b, 1000), f(np.linspace(a, b, 1000)), 'blue', linewidth=2, label='$f(x)$') # grafica de la función seno \n",
    "axes[1].scatter(x_right, np.zeros_like(x_right), color='red', zorder=3, label='Puntos de partición') # extremos derechos de los subintervalos\n",
    "for i in range(0, n):\n",
    "    axes[1].plot([x_right[i], x_right[i]], [0, y_right[i]], 'g--')  # Líneas verticales de altura\n",
    "axes[1].set_title('Alturas $f(x_{i+1})$')\n",
    "axes[1].legend()\n",
    "axes[1].set_xlabel('$x$')\n",
    "axes[1].set_ylabel('$f(x)$')\n",
    "\n",
    "# Tercer gráfico: Agregar los rectángulos de la suma de Riemann\n",
    "axes[2].axhline(0)\n",
    "axes[2].plot(np.linspace(a, b, 1000), f(np.linspace(a, b, 1000)), 'blue', linewidth=2, label='$f(x)$')\n",
    "axes[2].scatter(x_right, np.zeros_like(x_right), color='red', zorder=3, label='Puntos de partición')\n",
    "for i in range(0, n):\n",
    "    axes[2].plot([x_right[i], x_right[i]], [0, y_right[i]], 'g--')  # Líneas verticales\n",
    "    axes[2].bar(x = x_part[i], height = y_right[i-3], width = dx, align='edge', edgecolor='black', alpha=0.5)  # Rectángulos\n",
    "axes[2].set_title('Suma de Riemann Derecha')\n",
    "axes[2].legend()\n",
    "axes[2].set_xlabel('$x$')\n",
    "axes[2].set_ylabel('$f(x)$')\n",
    "\n",
    "plt.tight_layout()  \n",
    "save_fig('descripcion_suma_derecha')\n",
    "plt.show()\n",
    "\n"
   ]
  },
  {
   "cell_type": "markdown",
   "id": "32699141",
   "metadata": {},
   "source": [
    "\n",
    "🔹 **Explicación del código:**  \n",
    "✅ Se grafican la función $f(x)$ y los rectángulos para valores de $n = 4, 8, 16, 32$.  \n",
    "✅ Se observa cómo al aumentar $n$, los rectángulos se ajustan mejor a la curva.  \n",
    "\n",
    "---\n"
   ]
  },
  {
   "cell_type": "markdown",
   "id": "d1f029c9",
   "metadata": {},
   "source": [
    "\n",
    "# El algoriotmo de suma derecha de Riemann en lenguaje python\n"
   ]
  },
  {
   "cell_type": "code",
   "execution_count": null,
   "id": "9a9ca20d",
   "metadata": {},
   "outputs": [],
   "source": [
    "def f(x):\n",
    "    return x**2\n",
    "\n",
    "a,b = 0,3  \n",
    "n = 3  \n",
    "longitud_subintervalos = (b-a)/n  \n",
    "particion_regular = np.arange(a, b+longitud_subintervalos, longitud_subintervalos)\n",
    "extremos_derechos = particion_regular[1:]\n",
    "alturas = f(extremos_derechos) \n",
    "sum(alturas*longitud_subintervalos)\n",
    "from sympy import * \n",
    "\n",
    "x = var('x') \n",
    "\n",
    "f = x**2\n",
    "\n",
    "integrate(f, (x, 0,3))\n"
   ]
  },
  {
   "cell_type": "markdown",
   "id": "50260d57",
   "metadata": {},
   "source": [
    "## Conclusión\n",
    "\n",
    "$$ \\text{Suma derecha de Riemann} > \\int_{a}^{b} f(x) dx > \\text{Suma izquierda de Riemann}$$"
   ]
  },
  {
   "cell_type": "markdown",
   "id": "121da940",
   "metadata": {},
   "source": [
    "\n",
    "### **3️⃣ Descripción con Animación usando Matplotlib**  \n"
   ]
  },
  {
   "cell_type": "markdown",
   "id": "ab8cbf01",
   "metadata": {},
   "source": [
    "\n",
    "Ahora creamos una animación que muestra la aproximación progresiva del área con sumas de Riemann a medida que $n$ aumenta:  \n"
   ]
  },
  {
   "cell_type": "code",
   "execution_count": 8,
   "id": "e6b25340",
   "metadata": {},
   "outputs": [
    {
     "ename": "NameError",
     "evalue": "name 'save_fig' is not defined",
     "output_type": "error",
     "traceback": [
      "\u001b[1;31m---------------------------------------------------------------------------\u001b[0m",
      "\u001b[1;31mNameError\u001b[0m                                 Traceback (most recent call last)",
      "Cell \u001b[1;32mIn[8], line 44\u001b[0m\n\u001b[0;32m     42\u001b[0m plt\u001b[38;5;241m.\u001b[39mlegend()\n\u001b[0;32m     43\u001b[0m plt\u001b[38;5;241m.\u001b[39mgrid()\n\u001b[1;32m---> 44\u001b[0m \u001b[43msave_fig\u001b[49m(\u001b[38;5;124m'\u001b[39m\u001b[38;5;124mseno_1\u001b[39m\u001b[38;5;124m'\u001b[39m)\n\u001b[0;32m     45\u001b[0m plt\u001b[38;5;241m.\u001b[39mshow()\n",
      "\u001b[1;31mNameError\u001b[0m: name 'save_fig' is not defined"
     ]
    },
    {
     "data": {
      "image/png": "[encoded data removed]",
      "text/plain": [
       "<Figure size 800x500 with 1 Axes>"
      ]
     },
     "metadata": {},
     "output_type": "display_data"
    }
   ],
   "source": [
    "import numpy as np\n",
    "import matplotlib.pyplot as plt\n",
    "import matplotlib.animation as animation\n",
    "\n",
    "# Definir la función\n",
    "def f(x):\n",
    "    return np.sin(x) + 2\n",
    "\n",
    "# Intervalo de integración\n",
    "a, b = 0, 2*np.pi\n",
    "\n",
    "fig, ax = plt.subplots(figsize=(8, 5))\n",
    "\n",
    "x = np.linspace(a, b, 1000)  # Puntos finos para la función\n",
    "ax.plot(x, f(x), 'r', linewidth=2, label='$f(x)$')\n",
    "\n",
    "rects = []\n",
    "\n",
    "def update(n):\n",
    "    global rects\n",
    "    for rect in rects:\n",
    "        rect.remove()  # Eliminar los rectángulos anteriores\n",
    "    rects = []\n",
    "\n",
    "    x_rect = np.linspace(a, b, n+1)  # Puntos de partición\n",
    "    dx = (b - a) / n  # Ancho de los rectángulos\n",
    "    x_right = x_rect[1:]  # Puntos derechos\n",
    "    y_right = f(x_right)\n",
    "\n",
    "    # Dibujar los rectángulos\n",
    "    for i in range(n):\n",
    "        rect = ax.bar(x_right[i], y_right[i], width=dx, align='edge', edgecolor='black', alpha=0.5)\n",
    "        rects.extend(rect)\n",
    "\n",
    "    ax.set_title(f'Aproximación con Sumas de Riemann Derecha (n={n})')\n",
    "\n",
    "# Crear animación\n",
    "ani = animation.FuncAnimation(fig, update, frames=np.arange(2, 50, 2), interval=300, repeat=True)\n",
    "\n",
    "plt.xlabel('$x$')\n",
    "plt.ylabel('$f(x)$')\n",
    "plt.legend()\n",
    "plt.grid()\n",
    "save_fig('seno_1')\n",
    "plt.show()\n",
    "\n"
   ]
  },
  {
   "cell_type": "markdown",
   "id": "86750c2a",
   "metadata": {},
   "source": [
    "\n",
    "🔹 **Explicación del código:**  \n",
    "✅ La animación aumenta progresivamente el número de rectángulos.  \n",
    "✅ Se eliminan los rectángulos anteriores en cada paso para una visualización limpia.  \n",
    "✅ Se observa cómo la aproximación mejora a medida que $n$ crece.  \n",
    "\n",
    "---\n"
   ]
  },
  {
   "cell_type": "markdown",
   "id": "f519e5cc",
   "metadata": {},
   "source": [
    "\n",
    "### **Conclusión**  \n",
    "\n",
    "Hemos representado la aproximación del área bajo la curva con sumas de Riemann a la derecha de tres formas:  \n",
    "\n",
    "✅ **Verbalmente**, explicando los pasos del algoritmo.  \n",
    "✅ **Gráficamente**, mostrando una matriz con distintos valores de $n$.  \n",
    "✅ **Animadamente**, viendo cómo los rectángulos se acercan a la curva con el aumento de $n$.  \n",
    "\n",
    "¿Quieres agregar más detalles o modificar la función $f(x)$? 🚀"
   ]
  },
  {
   "cell_type": "code",
   "execution_count": 4,
   "id": "43993e2a",
   "metadata": {},
   "outputs": [
    {
     "data": {
      "application/vnd.jupyter.widget-view+json": {
       "model_id": "44f3f6afd77b4bacbb90eb5fa2447de2",
       "version_major": 2,
       "version_minor": 0
      },
      "text/plain": [
       "VBox(children=(IntSlider(value=1, description='Número de rectángulos:', max=5, min=1, style=SliderStyle(descri…"
      ]
     },
     "metadata": {},
     "output_type": "display_data"
    }
   ],
   "source": [
    "import numpy as np\n",
    "import matplotlib.pyplot as plt\n",
    "import ipywidgets as widgets\n",
    "from IPython.display import display, clear_output\n",
    "from matplotlib.patches import Rectangle\n",
    "\n",
    "# Cambiar a modo inline para mejor estabilidad en notebooks\n",
    "%matplotlib inline\n",
    "\n",
    "def plot_riemann_left(i):\n",
    "    a, b, n = 0, 2, 5\n",
    "    x = np.linspace(a, b, 100)\n",
    "    f = lambda x: x**2\n",
    "    dx = (b - a)/n\n",
    "    xi = np.linspace(a, b, n + 1)\n",
    "    \n",
    "    # Configuración inicial del gráfico\n",
    "    fig, ax = plt.subplots(figsize=(8, 5))\n",
    "    ax.plot(x, f(x), 'b-', lw=2)\n",
    "    ax.set_title(f'Suma Izquierda de Riemann (i = {i})')\n",
    "    ax.grid(True)\n",
    "    \n",
    "    # Limpiar solo los parches en cada actualización\n",
    "    for patch in ax.patches[:]:\n",
    "        patch.remove()\n",
    "    \n",
    "    # Dibujar todos los rectángulos hasta el índice i\n",
    "    for k in range(i):\n",
    "        x_left = xi[k]\n",
    "        height = f(x_left)\n",
    "        rect = Rectangle((x_left, 0), dx, height, \n",
    "                        alpha=0.3, color='red', ec='black')\n",
    "        ax.add_patch(rect)\n",
    "        ax.plot([x_left, x_left], [0, height], 'r--', lw=1)\n",
    "    \n",
    "    # Ajustar límites y mostrar\n",
    "    ax.set_xlim(a, b)\n",
    "    ax.set_ylim(0, f(b))\n",
    "    plt.close(fig)  # Previene la duplicación de figuras\n",
    "    display(fig)\n",
    "\n",
    "# Crear controles interactivos\n",
    "slider = widgets.IntSlider(\n",
    "    value=1,\n",
    "    min=1,\n",
    "    max=5,\n",
    "    step=1,\n",
    "    description='Número de rectángulos:',\n",
    "    style={'description_width': 'initial'}\n",
    ")\n",
    "\n",
    "out = widgets.Output()\n",
    "widgets.VBox([slider, out])\n",
    "\n",
    "def update(change):\n",
    "    with out:\n",
    "        clear_output(wait=True)\n",
    "        plot_riemann_left(change.new)\n",
    "\n",
    "slider.observe(update, names='value')\n",
    "\n",
    "display(widgets.VBox([slider, out]))"
   ]
  },
  {
   "cell_type": "code",
   "execution_count": 5,
   "id": "b1342efc",
   "metadata": {},
   "outputs": [
    {
     "data": {
      "application/vnd.jupyter.widget-view+json": {
       "model_id": "08b95340229a4bc19f5e503bc50d6bfc",
       "version_major": 2,
       "version_minor": 0
      },
      "text/plain": [
       "VBox(children=(IntSlider(value=1, description='Número de rectángulos:', max=5, min=1, style=SliderStyle(descri…"
      ]
     },
     "metadata": {},
     "output_type": "display_data"
    }
   ],
   "source": [
    "import numpy as np\n",
    "import matplotlib.pyplot as plt\n",
    "import ipywidgets as widgets\n",
    "from IPython.display import display, clear_output\n",
    "from matplotlib.patches import Rectangle\n",
    "\n",
    "%matplotlib inline\n",
    "\n",
    "def plot_riemann_right(i):\n",
    "    a, b, n = 0, 2, 5\n",
    "    x = np.linspace(a, b, 100)\n",
    "    f = lambda x: x**2\n",
    "    dx = (b - a)/n\n",
    "    xi = np.linspace(a, b, n + 1)  # Puntos de partición\n",
    "    \n",
    "    fig, ax = plt.subplots(figsize=(8, 5))\n",
    "    ax.plot(x, f(x), 'b-', lw=2)\n",
    "    ax.set_title(f'Suma Derechas de Riemann (n = {i})')\n",
    "    ax.grid(True)\n",
    "    \n",
    "    # Limpiar elementos anteriores\n",
    "    for patch in ax.patches[:]:\n",
    "        patch.remove()\n",
    "    for line in ax.lines[1:]:  # Conserva la línea azul de la función\n",
    "        line.remove()\n",
    "    \n",
    "    # Dibujar rectángulos con extremos derechos\n",
    "    for k in range(i):\n",
    "        x_left = xi[k]       # Punto izquierdo del subintervalo\n",
    "        x_right = xi[k + 1]  # Punto derecho del subintervalo\n",
    "        height = f(x_right)\n",
    "        \n",
    "        # Rectángulo desde x_left hasta x_left + dx\n",
    "        rect = Rectangle((x_left, 0), dx, height, alpha=0.3, color='red', ec='black')\n",
    "        ax.add_patch(rect)\n",
    "        ax.plot([x_right, x_right], [0, height], 'r--', lw=1) # trazado del segmento altura de cada rectángulo\n",
    "    \n",
    "    ax.set_xlim(a, b)\n",
    "    ax.set_ylim(0, f(b) + 0.5)\n",
    "    plt.close(fig)\n",
    "    display(fig)\n",
    "\n",
    "# Configuración del slider\n",
    "slider = widgets.IntSlider(\n",
    "    value=1,\n",
    "    min=1,\n",
    "    max=5,  # Coincide con n=5\n",
    "    step=1,\n",
    "    description='Número de rectángulos:',\n",
    "    style={'description_width': 'initial'}\n",
    ")\n",
    "\n",
    "out = widgets.Output()\n",
    "\n",
    "def update(change):\n",
    "    with out:\n",
    "        clear_output(wait=True)\n",
    "        plot_riemann_right(change.new)  # Corregido nombre de función\n",
    "\n",
    "slider.observe(update, names='value')\n",
    "\n",
    "display(widgets.VBox([slider, out]))"
   ]
  },
  {
   "cell_type": "markdown",
   "id": "9c5d6319",
   "metadata": {},
   "source": [
    "## Principales correcciones:\n"
   ]
  },
  {
   "cell_type": "markdown",
   "id": "0c0e50a9",
   "metadata": {},
   "source": [
    "\n",
    "Se eliminó %matplotlib notebook (problemático en algunos entornos)\n",
    "\n",
    "Se usó clear_output para manejar actualizaciones\n",
    "\n",
    "Se implementó un sistema de actualización de parches\n",
    "\n",
    "Se agregó manejo explícito de la figura\n",
    "\n",
    "Se mejoró la estructura de widgets con contenedores\n",
    "\n",
    "Este código ahora mostrará:\n",
    "\n",
    "Un deslizador funcional\n",
    "\n",
    "Gráficos que se actualizan correctamente\n",
    "\n",
    "Rectángulos acumulativos según el valor de i\n",
    "\n",
    "Ejes estables y etiquetas claras\n",
    "\n",
    "Recuerda:\n",
    "\n",
    "Ejecutarlo en un Jupyter Notebook actualizado\n",
    "\n",
    "Tener instaladas las dependencias: pip install ipywidgets matplotlib numpy\n",
    "\n",
    "Habilitar extensiones de widgets: jupyter nbextension enable --py widgetsnbextension"
   ]
  },
  {
   "cell_type": "markdown",
   "id": "59f2d0a5",
   "metadata": {},
   "source": [
    "[]()"
   ]
  },
  {
   "cell_type": "markdown",
   "id": "0e0aa7c6",
   "metadata": {},
   "source": [
    "\n",
    "# Segunda visualización (n variable)\n"
   ]
  },
  {
   "cell_type": "code",
   "execution_count": null,
   "id": "ae787ce8",
   "metadata": {},
   "outputs": [],
   "source": [
    "from ipywidgets import interact, IntSlider\n",
    "def plot_riemann_right(n, a=0, b=2):\n",
    "    x = np.linspace(a, b, 1000)\n",
    "    f = lambda x: np.sin(x)*np.exp(-x)\n",
    "    dx = (b-a)/n\n",
    "    xi = np.linspace(a+dx, b, n)\n",
    "    \n",
    "    fig, ax = plt.subplots()\n",
    "    ax.plot(x, f(x), 'b-')\n",
    "    ax.set_title(f'Suma de Riemann (Extremo Derecho) - n = {n}')\n",
    "    \n",
    "    for x_i in xi:\n",
    "        rect = plt.Rectangle((x_i-dx, 0), dx, f(x_i), alpha=0.3, color='red')\n",
    "        ax.add_patch(rect)\n",
    "        ax.plot([x_i]*2, [0, f(x_i)], 'r--')\n",
    "    \n",
    "    ax.grid(True)\n",
    "    plt.show()\n",
    "\n",
    "interact(plot_riemann_right, n=IntSlider(min=1, max=50, step=1, value=5))\n"
   ]
  },
  {
   "cell_type": "markdown",
   "id": "baecdaec",
   "metadata": {},
   "source": [
    "\n",
    "# 6. Función para determinar n necesario\n"
   ]
  },
  {
   "cell_type": "code",
   "execution_count": 4,
   "id": "e000a982",
   "metadata": {},
   "outputs": [],
   "source": [
    "def find_n(f, a, b, epsilon=1e-4, max_iter=10000):\n",
    "    \"\"\"\n",
    "    Encuentra el número de rectángulos necesario para alcanzar la precisión ε\n",
    "    \"\"\"\n",
    "    import numpy as np \n",
    "    n = 1\n",
    "    prev_sum = 0\n",
    "    while n <= max_iter:\n",
    "        dx = (b - a)/n\n",
    "        xi = a + dx*np.arange(1, n+1)\n",
    "        current_sum = np.sum(f(xi)*dx)\n",
    "        if abs(current_sum - prev_sum) < epsilon:\n",
    "            return n\n",
    "        prev_sum = current_sum\n",
    "        n *= 2\n",
    "    return n\n"
   ]
  },
  {
   "cell_type": "code",
   "execution_count": 5,
   "id": "f552a3c4",
   "metadata": {},
   "outputs": [
    {
     "data": {
      "text/plain": [
       "1024"
      ]
     },
     "execution_count": 5,
     "metadata": {},
     "output_type": "execute_result"
    }
   ],
   "source": [
    "find_n(f = lambda x:x**2, a = 0, b = 1, epsilon = 0.0001, max_iter = 1000)"
   ]
  },
  {
   "cell_type": "markdown",
   "id": "1371eff3",
   "metadata": {},
   "source": [
    "\n",
    "# 7. Actividades de aprendizaje\n"
   ]
  },
  {
   "cell_type": "markdown",
   "id": "4a4e0f0e",
   "metadata": {},
   "source": [
    "\n",
    "**Prueba de escritorio:**\n",
    "Función: f(x) = x² en [0, 2], ε = 0.1\n",
    "Iteración 1: n=1 → Suma=8.0, |8.0 - 0| =8.0 >0.1\n",
    "Iteración 2: n=2 → Suma=5.0, |5-8|=3 >0.1\n",
    "Iteración 3: n=4 → Suma=3.75, |3.75-5|=1.25 >0.1\n",
    "...\n",
    "Hasta que |S_n - S_{n/2}| < ε\n"
   ]
  },
  {
   "cell_type": "markdown",
   "id": "f2c7997f",
   "metadata": {},
   "source": [
    "\n",
    "**Pseudocódigo:**\n",
    "1. Inicializar n = 1, suma_prev = 0\n",
    "2. Calcular suma_actual con n actual\n",
    "3. Si |suma_actual - suma_prev| < ε → retornar n\n",
    "4. Doblar n y repetir\n",
    "\"\"\"\n"
   ]
  },
  {
   "cell_type": "markdown",
   "id": "2595282c",
   "metadata": {},
   "source": [
    "\n",
    "# 8. Canción/Poema\n",
    "\"\"\"\n",
    "**Riemann's Rhyme**\n",
    "(To the tune of \"The House of the Rising Sun\")\n",
    "\n",
    "There is a method in calculus land,\n",
    "They call the Riemann sum,\n",
    "It's helped many a math student,\n",
    "Understand where integrals come from.\n",
    " \n",
    "With rectangles tall and narrow,\n",
    "Approximating area true,\n",
    "As n approaches infinity,\n",
    "The limit comes into view...\n",
    "\"\"\"\n"
   ]
  },
  {
   "cell_type": "markdown",
   "id": "297247eb",
   "metadata": {},
   "source": [
    "\n",
    "# 9. Tareas\n",
    "\n",
    "1. Implementar la función find_n para diferentes funciones\n",
    "2. Comparar resultados con scipy.integrate.quad\n",
    "3. Investigar aplicaciones en cálculo de probabilidades\n",
    "4. Analizar error relativo vs. número de iteraciones\n",
    "\"\"\"\n"
   ]
  },
  {
   "cell_type": "markdown",
   "id": "d4125e9c",
   "metadata": {},
   "source": [
    "\n",
    "# 10. Evaluación\n",
    "\"\"\"\n",
    "**Proyectos:**\n",
    "- Calculadora de áreas irregulares para topografía\n",
    "- Simulador de acumulación de contaminantes\n",
    "- Analizador de señales ECG para medicina\n"
   ]
  },
  {
   "cell_type": "markdown",
   "id": "6083fca7",
   "metadata": {},
   "source": [
    "\n",
    "**Quiz Ejemplo:**\n",
    "¿Cuál es la expresión correcta para la suma de Riemann con extremos derechos?\n",
    "a) Σf(x_{i-1})Δx\n",
    "b) Σf(x_i)Δx\n",
    "c) Σf((x_i+x_{i-1})/2)Δx\n",
    "\n",
    "**Parcial Ejemplo:**\n",
    "Implemente una función que calcule la suma de Riemann para puntos medios y compare su convergencia con extremos derechos.\n",
    "\"\"\"\n"
   ]
  },
  {
   "cell_type": "markdown",
   "id": "7c262ff4",
   "metadata": {},
   "source": [
    "\n",
    "# 11. Retroalimentación\n",
    "\"\"\"\n",
    "Actividad de Peer Review en Jupyter Notebook:\n",
    "- Intercambiar notebooks con visualizaciones\n",
    "- Proponer mejoras usando widgets interactivos\n",
    "- Discutir casos límite (funciones discontinuas, intervalos infinitos)\n",
    "\"\"\"\n"
   ]
  },
  {
   "cell_type": "markdown",
   "id": "e791ebc0",
   "metadata": {},
   "source": [
    "\n",
    "# 12. Vocabulario inglés\n",
    "\n",
    "1. Riemann sum - Suma de Riemann\n",
    "2. Right endpoints - Puntos extremos derechos\n",
    "3. Partition - Partición\n",
    "4. Subinterval - Subintervalo  \n",
    "5. Approximation error - Error de aproximación\n",
    "6. Numerical integration - Integración numérica\n",
    "7. Convergence - Convergencia\n",
    "8. Step size - Tamaño de paso\n",
    "9. Accumulation - Acumulación\n",
    "10. Limit process - Proceso de límite\n",
    "\n",
    "Frases útiles:\n",
    "\"The Riemann sum approaches the integral as n increases\"  \n",
    "\"Choosing right endpoints affects the approximation error\"  \n",
    "\"Numerical methods bridge theory and practical computation\"  \n",
    "\"\"\"\n",
    "\n"
   ]
  },
  {
   "cell_type": "markdown",
   "id": "39b9003e",
   "metadata": {},
   "source": [
    "\n",
    "Este diseño incluye:\n",
    "- Visualizaciones interactivas con `ipywidgets`\n",
    "- Animaciones potenciales usando `matplotlib.animation`\n",
    "- Integración con STEAMS a través de proyectos aplicados\n",
    "- Componentes de ABPP con problemas reales\n",
    "- Implementaciones prácticas en Python\n",
    "- Elementos multimedia para diferentes estilos de aprendizaje\n",
    "\n",
    "Para usar animaciones, agregarías:\n"
   ]
  },
  {
   "cell_type": "code",
   "execution_count": 7,
   "id": "cf8e4364",
   "metadata": {},
   "outputs": [],
   "source": [
    "from matplotlib.animation import FuncAnimation\n",
    "from IPython.display import HTML\n",
    "\n",
    "def animate_riemann():\n",
    "    fig, ax = plt.subplots()\n",
    "    # Configuración inicial\n",
    "    def update(frame):\n",
    "        # Actualizar gráfico\n",
    "        return ax\n",
    "    ani = FuncAnimation(fig, update, frames=range(1,50), interval=100)\n",
    "    return HTML(ani.to_jshtml())\n",
    "\n"
   ]
  },
  {
   "cell_type": "markdown",
   "id": "86b82b04",
   "metadata": {},
   "source": [
    "\n",
    "¡Recuerda instalar los requisitos con `pip install numpy matplotlib ipywidgets graphviz` y usar Jupyter Notebook para mejor experiencia!"
   ]
  },
  {
   "cell_type": "markdown",
   "id": "0add899d",
   "metadata": {},
   "source": [
    "# Implementación de esta estructura de clase  \n",
    "\n",
    "## 1. Título de la clase\n",
    "\n",
    "### **Clase 15: Integración Numérica con Sumas de Riemann - Enfoque STEAMS y ABPP**\n",
    "\n"
   ]
  },
  {
   "cell_type": "markdown",
   "id": "2d7dffe0",
   "metadata": {},
   "source": [
    "\n",
    "# 2. Objetivo de aprendizaje\n",
    "\"\"\"\n",
    "Al finalizar la clase, el estudiante será capaz de:\n",
    "- Describir, diseñar e implementar algoritmos numéricos en Python para aproximar integrales definidas usando sumas de Riemann con extremos derechos\n",
    "- Analizar y visualizar el proceso de convergencia mediante técnicas interactivas\n",
    "- Aplicar el método a problemas reales en contextos STEAMS y ABPP.\n",
    "\"\"\"\n"
   ]
  },
  {
   "cell_type": "markdown",
   "id": "c29e1b7d",
   "metadata": {},
   "source": [
    "\n",
    "# 3. Mapa Conceptual (Graphviz)\n"
   ]
  },
  {
   "cell_type": "code",
   "execution_count": 3,
   "id": "d6d36632",
   "metadata": {},
   "outputs": [
    {
     "data": {
      "text/plain": [
       "'C:\\\\Users\\\\marco\\\\Descargas\\\\Riemann_Map\\\\Digraph.gv.png'"
      ]
     },
     "execution_count": 3,
     "metadata": {},
     "output_type": "execute_result"
    }
   ],
   "source": [
    "from graphviz import Digraph\n",
    "\n",
    "dot = Digraph(comment='Sumas de Riemann', format='png', engine='neato')\n",
    "\n",
    "# Ajustes para evitar superposiciones\n",
    "dot.attr(rankdir='LR', splines='true', overlap='scale', nodesep='0.8', ranksep='1.0')\n",
    "\n",
    "# Nodos\n",
    "dot.node('A', 'Aula Invertida\\n(Videos previos,\\nlecturas)', shape='house', style='filled', fillcolor='#FFE4B5')\n",
    "dot.node('B', 'STEAMS\\n(Proyectos interdisciplinares)', shape='egg', style='filled,rounded', fillcolor='#98FB98')\n",
    "dot.node('C', 'ABPP\\n(Problemas reales)', shape='component', style='filled', fillcolor='#87CEEB')\n",
    "dot.node('D', 'Sumas de Riemann\\n∫ₐᵇ f(x)dx ≈ Σf(xᵢ)Δx', shape='note', style='filled', fillcolor='#FFB6C1')\n",
    "dot.node('E', 'Python\\n(Implementación)', shape='ellipse', style='filled,dashed', fillcolor='#F0E68C')\n",
    "dot.node('F', 'Visualización\\nMatplotlib/Plotly', shape='box3d', style='filled', fillcolor='#DDA0DD')\n",
    "\n",
    "# Conexiones\n",
    "dot.edge('A', 'B')\n",
    "dot.edge('A', 'C')\n",
    "dot.edge('B', 'C')\n",
    "dot.edge('C', 'D')\n",
    "dot.edge('D', 'E')\n",
    "dot.edge('D', 'F')\n",
    "dot.edge('E', 'F')\n",
    "\n",
    "# Renderizar\n",
    "dot.render(directory=r'C:\\Users\\marco\\Descargas\\Riemann_Map', view=True)\n"
   ]
  },
  {
   "cell_type": "markdown",
   "id": "14edda4e",
   "metadata": {},
   "source": [
    "\n",
    "# 4. Elementos históricos\n"
   ]
  },
  {
   "cell_type": "markdown",
   "id": "c7965b09",
   "metadata": {},
   "source": [
    "\n",
    "**Contexto histórico:**\n",
    "- Desarrollado por Bernhard Riemann (1826-1866) como parte de su teoría de integración\n",
    "- Fundamentos del cálculo integral moderno\n",
    "- Aplicaciones históricas en física y astronomía\n",
    "- Relación con la aproximación de áreas en civilizaciones antiguas (Egipto, Grecia)\n"
   ]
  },
  {
   "cell_type": "markdown",
   "id": "836f8fab",
   "metadata": {},
   "source": [
    "\n",
    "**Epistemología:**\n",
    "- Transición de métodos geométricos a algebraicos\n",
    "- Conexión entre lo discreto y lo continuo\n",
    "- Importancia en el desarrollo del análisis numérico\n"
   ]
  },
  {
   "cell_type": "markdown",
   "id": "f9ff48ef",
   "metadata": {},
   "source": [
    "\n",
    "# 5. Contenido de la clase\n"
   ]
  },
  {
   "cell_type": "markdown",
   "id": "98b70e72",
   "metadata": {},
   "source": [
    "## Iniciemos con el contenido correspondiente a la descripción del algoritmo de sumas de Riemann derechas y cómo llegar de esta descripción a la construcción de un script de python que lo implemente (geométrico $\\to$ Verbal $\\to$ algoritmo en lenguaje python )"
   ]
  },
  {
   "cell_type": "markdown",
   "id": "4e967f73",
   "metadata": {},
   "source": [
    "# Descripción del algoritmo de aproximación del área bajo la curva con sumas derechas de Riemann  \n",
    "\n",
    "## Iniciemos con el contenido correspondiente a la descripción del algoritmo de sumas de Riemann derechas y cómo llegar de esta descripción a la construcción de un script de python que lo implemente (geométrico $\\to$ Verbal $\\to$ algoritmo en lenguaje python )\n",
    "\n",
    "[Un video de apoyo a la descripción del algoritmo desde lo geométrico a lo verbal y de esta a la secuencia en lenguaje python](https://www.youtube.com/watch?v=jfAiWO04z2I)\n",
    "\n",
    "Esta son tres formas de describir el algoritmo de aproximación del área bajo la curva usando sumas de Riemann a la derecha:  \n",
    "\n",
    "---\n",
    "\n",
    "\n",
    "### **1️⃣ Descripción Verbal:**  \n",
    "\n",
    "El algoritmo de **aproximación del área bajo la curva de una función $f(x)$ en el intervalo $[a, b]$** usando sumas de Riemann a la derecha sigue estos pasos:  \n",
    "\n",
    "1. **División del intervalo**: Se divide $[a, b]$ en $n$ subintervalos de igual longitud $\\Delta x = \\frac{b-a}{n}$.  \n",
    "2. **Elección de puntos derechos**: En cada subintervalo $[x_i, x_{i+1}]$, se toma el punto derecho $x_{i+1}$ como referencia para evaluar la función.  \n",
    "3. **Cálculo de las áreas de los rectángulos**: Se construyen $n$ rectángulos de base $\\Delta x$ y altura $f(x_{i+1})$.  \n",
    "4. **Suma de áreas**: Se obtiene la aproximación sumando las áreas de todos los rectángulos:  \n",
    "   $$\n",
    "   S_n = \\sum_{i=0}^{n-1} f(x_{i+1}) \\Delta x.\n",
    "   $$\n",
    "\n",
    "5. **Refinamiento de la aproximación**: Al aumentar $n$, la aproximación se vuelve más precisa y tiende al valor de la integral definida $\\int_a^b f(x) dx$.  \n",
    "\n",
    "\n",
    "---\n",
    "\n",
    "## **2️ Descripción Gráfica con Matriz de Gráficas en Matplotlib**  \n",
    "\n",
    "\n",
    "Ahora mostramos la aproximación con diferentes valores de $ n $ en una matriz de gráficos. Vamos a usar `matplotlib` para mostrar cómo la suma de Riemann mejora con más particiones:  \n",
    "\n",
    "def save_fig(nombre_archivo_imagen):\n",
    "    import os \n",
    "    import matplotlib.pyplot as plt\n",
    "    ubicacion_para_imagenes = r\"C:/Users/marco/Descargas\"\n",
    "    imagen_path = os.path.join(ubicacion_para_imagenes, nombre_archivo_imagen)\n",
    "    plt.savefig(imagen_path, bbox_inches='tight')\n",
    "import numpy as np\n",
    "import matplotlib.pyplot as plt\n",
    "\n",
    "# Definimos la función\n",
    "def f(x):\n",
    "    return x**2\n",
    "\n",
    "# Intervalo de integración\n",
    "a, b = 0, 3\n",
    "n = 3                  # Número de subdivisiones\n",
    "dx = (b-a)/n       # Longitud de los subintervalos. Longitud de la base de los rectángulos. \n",
    "# Generamos los puntos de partición y los valores correspondientes\n",
    "x_part = np.arange(a, b + dx, dx)  \n",
    "\n",
    "\n",
    "x_right = x_part[1:]  # Puntos derechos para evaluar la función. Le quita el primer punto de la partición \n",
    "y_right = f(x_right)\n",
    "\n",
    "# Creamos la figura y los subgráficos\n",
    "fig, axes = plt.subplots(1, 3, figsize=(15, 5))\n",
    "\n",
    "# Primer gráfico: Resaltar los puntos de partición\n",
    "axes[0].axhline(0)\n",
    "axes[0].plot(np.linspace(a, b, 1000), f(np.linspace(a, b, 1000)), 'blue', linewidth=2, label='$f(x)$') # grafica de la función seno \n",
    "axes[0].scatter(x_part, np.zeros_like(x_part), color='red', zorder=3, label='Puntos de partición') # puntos de la partición\n",
    "axes[0].set_title('Puntos de partición ($n=3$)')\n",
    "axes[0].legend()\n",
    "axes[0].set_xlabel('$x$')\n",
    "axes[0].set_ylabel('$f(x)$')\n",
    "\n",
    "# Segundo gráfico: Agregar los segmentos de altura f(x_{i+1})\n",
    "axes[1].axhline(0)\n",
    "axes[1].plot(np.linspace(a, b, 1000), f(np.linspace(a, b, 1000)), 'blue', linewidth=2, label='$f(x)$') # grafica de la función seno \n",
    "axes[1].scatter(x_right, np.zeros_like(x_right), color='red', zorder=3, label='Puntos de partición') # extremos derechos de los subintervalos\n",
    "for i in range(0, n):\n",
    "    axes[1].plot([x_right[i], x_right[i]], [0, y_right[i]], 'g--')  # Líneas verticales de altura\n",
    "axes[1].set_title('Alturas $f(x_{i+1})$')\n",
    "axes[1].legend()\n",
    "axes[1].set_xlabel('$x$')\n",
    "axes[1].set_ylabel('$f(x)$')\n",
    "\n",
    "# Tercer gráfico: Agregar los rectángulos de la suma de Riemann\n",
    "axes[2].axhline(0)\n",
    "axes[2].plot(np.linspace(a, b, 1000), f(np.linspace(a, b, 1000)), 'blue', linewidth=2, label='$f(x)$')\n",
    "axes[2].scatter(x_right, np.zeros_like(x_right), color='red', zorder=3, label='Puntos de partición')\n",
    "for i in range(0, n):\n",
    "    axes[2].plot([x_right[i], x_right[i]], [0, y_right[i]], 'g--')  # Líneas verticales\n",
    "    axes[2].bar(x = x_part[i], height = y_right[i-3], width = dx, align='edge', edgecolor='black', alpha=0.5)  # Rectángulos\n",
    "axes[2].set_title('Suma de Riemann Derecha')\n",
    "axes[2].legend()\n",
    "axes[2].set_xlabel('$x$')\n",
    "axes[2].set_ylabel('$f(x)$')\n",
    "\n",
    "plt.tight_layout()  \n",
    "save_fig('descripcion_suma_derecha')\n",
    "plt.show()\n",
    "\n",
    "\n",
    "🔹 **Explicación del código:**  \n",
    "✅ Se grafican la función $f(x)$ y los rectángulos para valores de $n = 4, 8, 16, 32$.  \n",
    "✅ Se observa cómo al aumentar $n$, los rectángulos se ajustan mejor a la curva.  \n",
    "\n",
    "---\n",
    "\n",
    "# El algoriotmo de suma derecha de Riemann en lenguaje python\n",
    "def f(x):\n",
    "    return x**2\n",
    "\n",
    "a,b = 0,3  \n",
    "n = 3  \n",
    "longitud_subintervalos = (b-a)/n  \n",
    "particion_regular = np.arange(a, b+longitud_subintervalos, longitud_subintervalos)\n",
    "extremos_derechos = particion_regular[1:]\n",
    "alturas = f(extremos_derechos) \n",
    "sum(alturas*longitud_subintervalos)\n",
    "from sympy import * \n",
    "\n",
    "x = var('x') \n",
    "\n",
    "f = x**2\n",
    "\n",
    "integrate(f, (x, 0,3))\n",
    "## Conclusión\n",
    "\n",
    "$$ \\text{Suma derecha de Riemann} > \\int_{a}^{b} f(x) dx > \\text{Suma izquierda de Riemann}$$"
   ]
  },
  {
   "cell_type": "code",
   "execution_count": null,
   "id": "f2c2cae2",
   "metadata": {},
   "outputs": [],
   "source": []
  },
  {
   "cell_type": "code",
   "execution_count": null,
   "id": "7f7d9484",
   "metadata": {},
   "outputs": [],
   "source": []
  },
  {
   "cell_type": "code",
   "execution_count": null,
   "id": "c1865977",
   "metadata": {},
   "outputs": [],
   "source": []
  },
  {
   "cell_type": "code",
   "execution_count": null,
   "id": "4add8aab",
   "metadata": {},
   "outputs": [],
   "source": [
    "import numpy as np\n",
    "import matplotlib.pyplot as plt\n",
    "from ipywidgets import interact, IntSlider\n",
    "\n",
    "# Primera visualización (i variable, n=5)\n",
    "def plot_riemann_left(i, a=0, b=2, n=5):\n",
    "    x = np.linspace(a, b, 1000)\n",
    "    f = lambda x: x**2\n",
    "    dx = (b-a)/n\n",
    "    xi = np.arange(a, b, dx)\n",
    "    \n",
    "    fig, ax = plt.subplots()\n",
    "    ax.plot(x, f(x), 'b-')\n",
    "    ax.set_title(f'Suma de Riemann (Extremo Izquierdo) - i = {i}')\n",
    "    \n",
    "    if i <= n:\n",
    "        rect = plt.Rectangle((xi[i-1], 0), dx, f(xi[i-1]), alpha=0.3, color='red')\n",
    "        ax.add_patch(rect)\n",
    "        ax.plot([xi[i-1]]*2, [0, f(xi[i-1])], 'r--')\n",
    "    \n",
    "    ax.grid(True)\n",
    "    plt.show()\n",
    "\n",
    "interact(plot_riemann_left, i=IntSlider(min=1, max=5, step=1, value=1))\n"
   ]
  },
  {
   "cell_type": "markdown",
   "id": "37b7cb3f",
   "metadata": {},
   "source": [
    "\n",
    "# Segunda visualización (n variable)\n"
   ]
  },
  {
   "cell_type": "code",
   "execution_count": 10,
   "id": "db02ec68",
   "metadata": {},
   "outputs": [
    {
     "data": {
      "application/vnd.jupyter.widget-view+json": {
       "model_id": "3e033e3cb0534508a9c955a1169af96f",
       "version_major": 2,
       "version_minor": 0
      },
      "text/plain": [
       "interactive(children=(IntSlider(value=5, description='n', max=50, min=1), IntSlider(value=0, description='a', …"
      ]
     },
     "metadata": {},
     "output_type": "display_data"
    },
    {
     "data": {
      "text/plain": [
       "<function __main__.plot_riemann_right(n, a=0, b=2)>"
      ]
     },
     "execution_count": 10,
     "metadata": {},
     "output_type": "execute_result"
    }
   ],
   "source": [
    "import numpy as np \n",
    "import matplotlib.pyplot as plt \n",
    "from ipywidgets import interact, IntSlider \n",
    "def plot_riemann_right(n, a=0, b=2):\n",
    "    x = np.linspace(a, b, 1000)\n",
    "    f = lambda x: np.sin(x)*np.exp(-x)\n",
    "    dx = (b-a)/n\n",
    "    xi = np.linspace(a+dx, b, n)\n",
    "    \n",
    "    fig, ax = plt.subplots()\n",
    "    ax.plot(x, f(x), 'b-')\n",
    "    ax.set_title(f'Suma de Riemann (Extremo Derecho) - n = {n}')\n",
    "    \n",
    "    for x_i in xi:\n",
    "        rect = plt.Rectangle((x_i-dx, 0), dx, f(x_i), alpha=0.3, color='red')\n",
    "        ax.add_patch(rect)\n",
    "        ax.plot([x_i]*2, [0, f(x_i)], 'r--')\n",
    "    \n",
    "    ax.grid(True)\n",
    "    plt.show()\n",
    "\n",
    "interact(plot_riemann_right, n=IntSlider(min=1, max=50, step=1, value=5))\n"
   ]
  },
  {
   "cell_type": "markdown",
   "id": "d1ca057e",
   "metadata": {},
   "source": [
    "\n",
    "# 6. Función para determinar n necesario\n"
   ]
  },
  {
   "cell_type": "code",
   "execution_count": 3,
   "id": "ad0abfdc",
   "metadata": {},
   "outputs": [],
   "source": [
    "def find_n(f, a, b, epsilon=1e-4, max_iter=10000):\n",
    "    \"\"\"\n",
    "    Encuentra el número de rectángulos necesario para alcanzar la precisión ε\n",
    "    \"\"\"\n",
    "    import numpy as np \n",
    "    n = 1\n",
    "    prev_sum = 0\n",
    "    while n <= max_iter:\n",
    "        dx = (b - a)/n\n",
    "        xi = a + dx*np.arange(1, n+1)\n",
    "        current_sum = np.sum(f(xi)*dx)\n",
    "        if abs(current_sum - prev_sum) < epsilon:\n",
    "            return n\n",
    "        prev_sum = current_sum\n",
    "        n *= 2\n",
    "    return n\n"
   ]
  },
  {
   "cell_type": "code",
   "execution_count": 4,
   "id": "a7e2fc56",
   "metadata": {},
   "outputs": [
    {
     "data": {
      "text/plain": [
       "16384"
      ]
     },
     "execution_count": 4,
     "metadata": {},
     "output_type": "execute_result"
    }
   ],
   "source": [
    "find_n(f = lambda x:x**2, a = 0, b = 3, epsilon=0.0001, max_iter=10_000)"
   ]
  },
  {
   "cell_type": "markdown",
   "id": "5e9b9ab3",
   "metadata": {},
   "source": [
    "\n",
    "# 7. Actividades de aprendizaje\n",
    "\"\"\"\n",
    "**Prueba de escritorio:**\n",
    "Función: f(x) = x² en [0, 2], ε = 0.1\n",
    "Iteración 1: n=1 → Suma=8.0, |8.0 - 0| =8.0 >0.1\n",
    "Iteración 2: n=2 → Suma=5.0, |5-8|=3 >0.1\n",
    "Iteración 3: n=4 → Suma=3.75, |3.75-5|=1.25 >0.1\n",
    "...\n",
    "Hasta que |S_n - S_{n/2}| < ε\n",
    "\n",
    "**Pseudocódigo:**\n",
    "1. Inicializar n = 1, suma_prev = 0\n",
    "2. Calcular suma_actual con n actual\n",
    "3. Si |suma_actual - suma_prev| < ε → retornar n\n",
    "4. Doblar n y repetir\n",
    "\"\"\"\n"
   ]
  },
  {
   "cell_type": "markdown",
   "id": "cc3377b0",
   "metadata": {},
   "source": [
    "\n",
    "# 8. Canción/Poema\n",
    "\"\"\"\n",
    "**Riemann's Rhyme**\n",
    "(To the tune of \"The House of the Rising Sun\")\n",
    "\n",
    "There is a method in calculus land,\n",
    "They call the Riemann sum,\n",
    "It's helped many a math student,\n",
    "Understand where integrals come from.\n",
    " \n",
    "With rectangles tall and narrow,\n",
    "Approximating area true,\n",
    "As n approaches infinity,\n",
    "The limit comes into view...\n",
    "\"\"\"\n"
   ]
  },
  {
   "cell_type": "markdown",
   "id": "e0451a9e",
   "metadata": {},
   "source": [
    "\n",
    "# 9. Tareas\n",
    "\"\"\"\n",
    "1. Implementar la función find_n para diferentes funciones\n",
    "2. Comparar resultados con scipy.integrate.quad\n",
    "3. Investigar aplicaciones en cálculo de probabilidades\n",
    "4. Analizar error relativo vs. número de iteraciones\n",
    "\"\"\"\n"
   ]
  },
  {
   "cell_type": "markdown",
   "id": "70b312e3",
   "metadata": {},
   "source": [
    "\n",
    "# 10. Evaluación\n",
    "\"\"\"\n",
    "**Proyectos:**\n",
    "- Calculadora de áreas irregulares para topografía\n",
    "- Simulador de acumulación de contaminantes\n",
    "- Analizador de señales ECG para medicina\n"
   ]
  },
  {
   "cell_type": "markdown",
   "id": "4cc0629b",
   "metadata": {},
   "source": [
    "\n",
    "**Quiz Ejemplo:**\n",
    "¿Cuál es la expresión correcta para la suma de Riemann con extremos derechos?\n",
    "a) Σf(x_{i-1})Δx\n",
    "b) Σf(x_i)Δx\n",
    "c) Σf((x_i+x_{i-1})/2)Δx\n",
    "\n",
    "**Parcial Ejemplo:**\n",
    "Implemente una función que calcule la suma de Riemann para puntos medios y compare su convergencia con extremos derechos.\n",
    "\"\"\"\n"
   ]
  },
  {
   "cell_type": "markdown",
   "id": "26485f12",
   "metadata": {},
   "source": [
    "\n",
    "# 11. Retroalimentación\n",
    "\"\"\"\n",
    "Actividad de Peer Review en Jupyter Notebook:\n",
    "- Intercambiar notebooks con visualizaciones\n",
    "- Proponer mejoras usando widgets interactivos\n",
    "- Discutir casos límite (funciones discontinuas, intervalos infinitos)\n",
    "\"\"\"\n"
   ]
  },
  {
   "cell_type": "markdown",
   "id": "16c6876e",
   "metadata": {},
   "source": [
    "\n",
    "# 12. Vocabulario inglés\n",
    "\"\"\"\n",
    "1. Riemann sum - Suma de Riemann\n",
    "2. Right endpoints - Puntos extremos derechos\n",
    "3. Partition - Partición\n",
    "4. Subinterval - Subintervalo\n",
    "5. Approximation error - Error de aproximación\n",
    "6. Numerical integration - Integración numérica\n",
    "7. Convergence - Convergencia\n",
    "8. Step size - Tamaño de paso\n",
    "9. Accumulation - Acumulación\n",
    "10. Limit process - Proceso de límite\n",
    "\n",
    "Frases útiles:\n",
    "\"The Riemann sum approaches the integral as n increases\"\n",
    "\"Choosing right endpoints affects the approximation error\"\n",
    "\"Numerical methods bridge theory and practical computation\"\n",
    "\"\"\"\n",
    "```\n"
   ]
  },
  {
   "cell_type": "markdown",
   "id": "107222ab",
   "metadata": {},
   "source": [
    "\n",
    "Este diseño incluye:\n",
    "- Visualizaciones interactivas con `ipywidgets`\n",
    "- Animaciones potenciales usando `matplotlib.animation`\n",
    "- Integración con STEAMS a través de proyectos aplicados\n",
    "- Componentes de ABPP con problemas reales\n",
    "- Implementaciones prácticas en Python\n",
    "- Elementos multimedia para diferentes estilos de aprendizaje\n",
    "\n",
    "Para usar animaciones, agregarías:\n",
    "```python\n",
    "from matplotlib.animation import FuncAnimation\n",
    "from IPython.display import HTML\n",
    "\n",
    "def animate_riemann():\n",
    "    fig, ax = plt.subplots()\n",
    "    # Configuración inicial\n",
    "    def update(frame):\n",
    "        # Actualizar gráfico\n",
    "        return ax\n",
    "    ani = FuncAnimation(fig, update, frames=range(1,50), interval=100)\n",
    "    return HTML(ani.to_jshtml())\n",
    "```\n",
    "\n",
    "¡Recuerda instalar los requisitos con `pip install numpy matplotlib ipywidgets graphviz` y usar Jupyter Notebook para mejor experiencia!"
   ]
  },
  {
   "cell_type": "code",
   "execution_count": null,
   "id": "a026c34f",
   "metadata": {},
   "outputs": [],
   "source": []
  },
  {
   "cell_type": "code",
   "execution_count": null,
   "id": "3e2a492b",
   "metadata": {},
   "outputs": [],
   "source": []
  },
  {
   "cell_type": "markdown",
   "id": "239427f7",
   "metadata": {},
   "source": [
    "# ARTÍCULO 1. Definir el calendario académico para los diferentes programas de pregrado de los campus\n",
    "regionalizados, correspondiente al primer periodo académico del año 2025, así:\n",
    "* Oferta 28 de enero de 2025\n",
    "* Matrícula 30 de enero de 2025\n",
    "* Ajustes 03 al 10 de febrero de 2025\n",
    "* Inicio de clases 10 de febrero de 2025\n",
    "* Límite evaluación del 40% 06 de abril de 2025\n",
    "* Terminación de clases 08 de junio de 2025\n",
    "* Exámenes finales 09 al 15 de junio de 2025\n",
    "* Habilitación y validación 16 al 22 de junio de 2025\n",
    "* Terminación oficial 23 de junio de 2025"
   ]
  },
  {
   "cell_type": "code",
   "execution_count": null,
   "id": "ec048afb",
   "metadata": {},
   "outputs": [],
   "source": []
  },
  {
   "cell_type": "code",
   "execution_count": null,
   "id": "c804f8d3",
   "metadata": {},
   "outputs": [],
   "source": []
  },
  {
   "cell_type": "code",
   "execution_count": null,
   "id": "cc539357",
   "metadata": {},
   "outputs": [],
   "source": []
  },
  {
   "cell_type": "markdown",
   "id": "740f3401",
   "metadata": {
    "slideshow": {
     "slide_type": "slide"
    }
   },
   "source": [
    "# Componente de manejo de calculadora Casio asociado al objetivo de aprendizaje de esta clase  \n",
    "\n",
    "## Pasos para lograr el objetivo de aprendizaje con la experimentación en la calculadora Casio 991LA cw  "
   ]
  },
  {
   "cell_type": "markdown",
   "id": "87248855",
   "metadata": {},
   "source": [
    "1. definición de la función  $f(x)\\Delta x$\n",
    "2. definición del dominio de integración [a,b]  a través del start y stop de la progresión aritmética\n",
    "3. definición del número de rectángulos a través del paso.   \n",
    "\n",
    "Con esto obtendremos la tabla de las áreas de los rectángulos. "
   ]
  },
  {
   "cell_type": "markdown",
   "id": "8ba64aed",
   "metadata": {},
   "source": [
    "# Cursos que orienta el profesor Marco Julio Cañas Campillo en 2025  \n",
    "\n",
    "1. Práctica Pedagógica V para Licenciatura en Educación Infantil\n",
    "2. Fundamentos de Lógica para Licenciatura en Matemáticas \n",
    "3. Análisis Numérico para Licenciatura en Matemáticas. \n",
    "4. Cálculo Vectorial para Ingeniería Agropecuaria"
   ]
  },
  {
   "cell_type": "markdown",
   "id": "8d41fe58",
   "metadata": {
    "slideshow": {
     "slide_type": "slide"
    }
   },
   "source": [
    "# Horario de clases del profesor Marco\n",
    "\n",
    "* Lunes 8-12: Cálculo Vectorial\n",
    "* Martes 8-12 M: Fundamentos de Aritmética. \n",
    "* Miércoles 8 a 12 M: Fundamentos de la Lógica\n",
    "* Jueves 2 a 6 PM: Desarrollo del pensamiento matemático en la infancia. \n",
    "* Viernes 8 - 12 M: Desarrollo del pensamiento matemático en la infancia. \n",
    "* Sábados 8-12 Asesorías y espacio para retroalimentación y apoyo al trabajo independiente. "
   ]
  },
  {
   "cell_type": "markdown",
   "id": "ae114e14",
   "metadata": {
    "slideshow": {
     "slide_type": "slide"
    }
   },
   "source": [
    "# Horarios de monitoría y asesoría  \n",
    "\n",
    "Coordinador de los cursos de la Facultad de Educación para regiones:    \n",
    "\n",
    "Andrés Vélez: regioneducacion.fedu@udea.edu.co  \n",
    "Coordinador Regiones  \n",
    "Facultad de Educación  \n",
    "Universidad de Antioquia  "
   ]
  },
  {
   "cell_type": "markdown",
   "id": "b1db4b6c",
   "metadata": {
    "slideshow": {
     "slide_type": "slide"
    }
   },
   "source": [
    "## Monitor Manuel San Juan Serrano\n",
    "\n",
    "Contactar escribiendo al correo: manuel.serrano1@udea.edu.co"
   ]
  },
  {
   "cell_type": "markdown",
   "id": "39559692",
   "metadata": {
    "slideshow": {
     "slide_type": "slide"
    }
   },
   "source": [
    "Martes y jueves de 8 - 12  \n",
    "Miércoles 10 - 12 y de 2 a 4 PM  \n",
    "Sábado: 8 - 12"
   ]
  },
  {
   "cell_type": "markdown",
   "id": "10bce0d0",
   "metadata": {
    "slideshow": {
     "slide_type": "slide"
    }
   },
   "source": [
    "## Referentes "
   ]
  },
  {
   "cell_type": "markdown",
   "id": "1db3c468",
   "metadata": {
    "slideshow": {
     "slide_type": "slide"
    }
   },
   "source": [
    "* [CALCULO I DE UNA VARIABLE Ron Larson-Bruce Edwards. Mc Graw Hill. 9º Edición](https://www.academia.edu/42139251/CALCULO_I_DE_UNA_VARIABLE_Ron_Larson_Bruce_Edwards_Mc_Graw_Hill_9o_Edici%C3%B3n)   \n",
    "  \n",
    "\n",
    "* [Grajales Vanegas, L. M., Restrepo Estrada, C. E., Restrepo Ochoa, S. I., & Ruíz De Villalba, F. (2015). Matemáticas I para las ciencias económicas.](https://bibliotecadigital.udea.edu.co/handle/10495/3010)\n",
    "  \n",
    "* R. Duval y Semiosis y pensamiento humano, 2.ª ed. Cali, Colombia: Programa Editorial Universidad del Valle, 2017. [En línea]. Disponible en: https://programaeditorial.univalle.edu.co/gpd-semiosis-y-pensamiento-humano-9789587655278-63324cdb0f6b3.html\n",
    "\n",
    "* [Aylwin, C. U. (2011). Lógica, conjuntos y números. Universidad de los Andes, Consejo de Publicaciones, Colección: Ciencias Básicas, Serie: Matemáticas.](chrome-extension://efaidnbmnnnibpcajpcglclefindmkaj/https://www.u-cursos.cl/ciencias/2011/1/MC110/1/material_docente/bajar?id_material=574722)\n",
    "  \n",
    "* [Chollet, F. (2021). Deep learning with Python. Simon and Schuster.](chrome-extension://efaidnbmnnnibpcajpcglclefindmkaj/https://tanthiamhuat.wordpress.com/wp-content/uploads/2018/03/deeplearningwithpython.pdf)  \n",
    "  \n",
    "* [Watson, S., Stewart, J., & Redlin, L. (2009). Precálculo. Matemáticas para el cálculo.](https://github.com/marco-canas/calculo/blob/main/referents/1_precalculo_stewart/stewart_precalculo.pdf)  \n",
    "\n",
    "* [Purcell, E. J., Varberg, D., & Rigdon, S. E. (2007). Cálculo diferencial e integral. Pearson Educación.](https://github.com/marco-canas/calculo/blob/main/referents/purcell/purcell_calculo.pdf)\n",
    "\n",
    "  \n",
    "\n",
    "* [stewart cálculo](https://udeaeduco-my.sharepoint.com/:b:/g/personal/marco_canas_udea_edu_co/EZgXZjAp8QxPqOAim2hs6LcBNPLGjSHf-xwYnUVYkwa04w?e=RZdTCy)  \n",
    "\n",
    "\n",
    "\n",
    "\n",
    "\n",
    "* [Recomendación de la UNESCO sobre ciencia abierta](https://unesdoc.unesco.org/ark:/48223/pf0000379949_spa)\n",
    "\n",
    "* [chatGPT](https://openai.com/blog/chatgpt)  \n",
    "\n",
    "* [Géron, A. (2017). Hands-on machine learning with scikit-learn and tensorflow: Concepts. Tools, and Techniques to build intelligent systems.](chrome-extension://efaidnbmnnnibpcajpcglclefindmkaj/http://14.139.161.31/OddSem-0822-1122/Hands-On_Machine_Learning_with_Scikit-Learn-Keras-and-TensorFlow-2nd-Edition-Aurelien-Geron.pdf)   \n"
   ]
  },
  {
   "cell_type": "markdown",
   "id": "df925560",
   "metadata": {},
   "source": [
    "\n",
    "* [McKinney, W. (2012). Python for data analysis: Data wrangling with Pandas, NumPy, and IPython. \" O'Reilly Media, Inc.\".](https://wesmckinney.com/book/) "
   ]
  },
  {
   "cell_type": "markdown",
   "id": "8e65d6f9",
   "metadata": {},
   "source": [
    "# Como estudiante, encuentro que...   \n",
    "\n",
    "F: Mis Fortalezas son:     \n",
    "O: Mis Oportunidades son:    \n",
    "D: Mis Debilidades son:    \n",
    "A: Lo que Amenazas mi aprendizaje es:  "
   ]
  },
  {
   "cell_type": "markdown",
   "id": "6b9e56a8",
   "metadata": {
    "slideshow": {
     "slide_type": "slide"
    }
   },
   "source": [
    "### [Evaluamos al profesor Marco Cañas Aquí](https://forms.office.com/Pages/ResponsePage.aspx?id=IefhmYRxjkmK_7KtTlPBwkanXIs1i1FEujpsZgO6dXpUREJPV1kxUk1JV1ozTFJIQVNIQjY5WEY3US4u)"
   ]
  },
  {
   "cell_type": "markdown",
   "id": "10f43536",
   "metadata": {
    "slideshow": {
     "slide_type": "slide"
    }
   },
   "source": [
    "### Continue su aprendizaje en la siguiente clase a través del siguiente [vínculo]()"
   ]
  },
  {
   "cell_type": "markdown",
   "id": "53cc9115",
   "metadata": {
    "slideshow": {
     "slide_type": "slide"
    }
   },
   "source": [
    "## Agradecimientos  \n",
    "\n",
    "Doy gracias a Dios por la vida de mi Hijo Joseph Cañas Osorio y la madurez que ha alcanzado. Este hijo me enorgullece y me hace falta abrazarlo cada día. \n",
    "\n",
    "Y a mi esposa Yasmira Emperatriz Barboza Mogollón por su apoyo, orientación y acompañamiento. "
   ]
  },
  {
   "cell_type": "markdown",
   "id": "b6ba1c23",
   "metadata": {},
   "source": [
    "# Apéndice sobre calendarios y coordinaciones \n",
    "\n",
    "A continuación le envío el horario de la asignatura Cálculo Vectorial  \n",
    "\n",
    "Días:  \n",
    "Lunes - Hora: 7:00 a 12:00M  \n",
    "Fechas:  \n",
    "Febrero: 10-17-24                                          \n",
    " Marzo: 3-10-17-31                                                  \n",
    "Abril:7-21-28                                                   \n",
    "Mayo:5-12-19  \n",
    "\n",
    "Agradezco su apoyo, y si presenta alguna dificultad puede contactarme.  \n",
    "\n",
    "Cordialmente,  \n",
    "Juan Felipe Rivera Hernández  \n",
    "Contacto: 3106314300  "
   ]
  },
  {
   "cell_type": "markdown",
   "id": "0e66cd7c",
   "metadata": {},
   "source": [
    "# Clase de análisis numérico los Martes de 8 a 12 del medio día. "
   ]
  },
  {
   "cell_type": "markdown",
   "id": "c5ff61b1",
   "metadata": {},
   "source": []
  }
 ],
 "metadata": {
  "celltoolbar": "Slideshow",
  "kernelspec": {
   "display_name": ".venv",
   "language": "python",
   "name": "python3"
  },
  "language_info": {
   "codemirror_mode": {
    "name": "ipython",
    "version": 3
   },
   "file_extension": ".py",
   "mimetype": "text/x-python",
   "name": "python",
   "nbconvert_exporter": "python",
   "pygments_lexer": "ipython3",
   "version": "3.13.2"
  },
  "rise": {
   "enable_chalkboard": true,
   "theme": "sky",
   "transition": "zoom"
  }
 },
 "nbformat": 4,
 "nbformat_minor": 5
}
