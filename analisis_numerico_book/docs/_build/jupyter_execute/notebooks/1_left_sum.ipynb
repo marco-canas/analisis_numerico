{
 "cells": [
  {
   "cell_type": "markdown",
   "id": "3a0b7dc2",
   "metadata": {},
   "source": [
    "<table align=\"left\">\n",
    "  <td>\n",
    "    <a href=\"https://colab.research.google.com/github/ageron/handson-ml3/blob/main/tools_numpy.ipynb\" target=\"_parent\"><img src=\"https://colab.research.google.com/assets/colab-badge.svg\" alt=\"Open In Colab\"/></a>\n",
    "  </td>\n",
    "  <td>\n",
    "    <a target=\"_blank\" href=\"https://kaggle.com/kernels/welcome?src=https://github.com/ageron/handson-ml3/blob/main/tools_numpy.ipynb\"><img src=\"https://kaggle.com/static/images/open-in-kaggle.svg\" /></a>\n",
    "  </td>\n",
    "</table>"
   ]
  },
  {
   "cell_type": "markdown",
   "id": "613c277b",
   "metadata": {},
   "source": [
    "### [Video de apoyo a la lectura interactiva y experimental de este cuaderno]()"
   ]
  },
  {
   "cell_type": "markdown",
   "id": "99109b4c",
   "metadata": {},
   "source": [
    "### [Vínculo al programa del curso:  ]()\n",
    "\n"
   ]
  },
  {
   "cell_type": "markdown",
   "id": "a5ee4a47",
   "metadata": {},
   "source": [
    "Un reconocimiento a mis estudiantes que han construido conmigo este saber pedagógico:\n",
    "\n",
    "<img src = ''> \n",
    "\n"
   ]
  },
  {
   "cell_type": "markdown",
   "id": "4e6677bd",
   "metadata": {},
   "source": [
    "Reconocimiento a las profesoras destacadas en enseñanza de la matemática en Colombia\n"
   ]
  },
  {
   "cell_type": "code",
   "execution_count": 1,
   "id": "01203508",
   "metadata": {},
   "outputs": [
    {
     "ename": "ModuleNotFoundError",
     "evalue": "No module named 'pandas'",
     "output_type": "error",
     "traceback": [
      "\u001b[31m---------------------------------------------------------------------------\u001b[39m",
      "\u001b[31mModuleNotFoundError\u001b[39m                       Traceback (most recent call last)",
      "\u001b[36mCell\u001b[39m\u001b[36m \u001b[39m\u001b[32mIn[1]\u001b[39m\u001b[32m, line 1\u001b[39m\n\u001b[32m----> \u001b[39m\u001b[32m1\u001b[39m \u001b[38;5;28;01mimport\u001b[39;00m\u001b[38;5;250m \u001b[39m\u001b[34;01mpandas\u001b[39;00m\u001b[38;5;250m \u001b[39m\u001b[38;5;28;01mas\u001b[39;00m\u001b[38;5;250m \u001b[39m\u001b[34;01mpd\u001b[39;00m\n\u001b[32m      2\u001b[39m \u001b[38;5;28;01mimport\u001b[39;00m\u001b[38;5;250m \u001b[39m\u001b[34;01mnumpy\u001b[39;00m\u001b[38;5;250m \u001b[39m\u001b[38;5;28;01mas\u001b[39;00m\u001b[38;5;250m \u001b[39m\u001b[34;01mnp\u001b[39;00m\n\u001b[32m      4\u001b[39m \u001b[38;5;66;03m# Cargar la lista de estudiantes desde el archivo CSV\u001b[39;00m\n",
      "\u001b[31mModuleNotFoundError\u001b[39m: No module named 'pandas'"
     ]
    }
   ],
   "source": [
    "import pandas as pd\n",
    "import numpy as np\n",
    "\n",
    "# Cargar la lista de estudiantes desde el archivo CSV\n",
    "path = 'C:/Users/marco/Documentos/docencia/groups_list/geometria.csv'\n",
    "estudiantes = pd.read_csv(path)\n",
    "estudiantes['Parcial'] = estudiantes['Parcial'].astype(float)  # Asegurar que la columna 'Parcial' es float\n",
    "\n",
    "# Convertir la columna 'Nombre' a una lista de Python\n",
    "lista_estudiantes = estudiantes['Nombre'].tolist()\n",
    "\n",
    "# Función para llamar a un estudiante aleatoriamente y registrar su nota de seguimiento\n",
    "def asistencia():\n",
    "    global lista_estudiantes\n",
    "    if lista_estudiantes:\n",
    "        estudiante_aleatorio = np.random.choice(lista_estudiantes)\n",
    "        print(f\"Llamando a {estudiante_aleatorio}...\")\n",
    "        asistencia = input(f\"¿Asistió {estudiante_aleatorio}? (s/n): \").strip().lower()\n",
    "        \n",
    "        # Validación de entrada\n",
    "        if asistencia == 's':\n",
    "            # Obtener el índice del estudiante en el DataFrame\n",
    "            indice = estudiantes[estudiantes['Nombre'] == estudiante_aleatorio].index[0]\n",
    "            # Incrementar su valor en la columna 'Parcial'\n",
    "            estudiantes.at[indice, 'Parcial'] += 0.3\n",
    "            print(f\"Actualizado: {estudiante_aleatorio} ahora tiene {estudiantes.at[indice, 'Parcial']} en la columna 'Parcial'.\")\n",
    "        \n",
    "        elif asistencia != 'n':\n",
    "            print(\"Entrada inválida. Por favor, introduce 's' para sí o 'n' para no.\")\n",
    "            return  # Volver a preguntar para el mismo estudiante si la entrada es inválida\n",
    "        \n",
    "        # Remover al estudiante de la lista para no llamarlo de nuevo\n",
    "        lista_estudiantes.remove(estudiante_aleatorio)\n",
    "    else:\n",
    "        print(\"Se han llamado a todos los estudiantes del grupo completo.\")\n",
    "\n",
    "# Función para guardar cambios al final de la sesión\n",
    "def guardar_cambios():\n",
    "    estudiantes.to_csv(path, index=False)\n",
    "    print(\"Cambios guardados en el archivo CSV.\")\n",
    "\n",
    "# Ejemplo de uso\n",
    "while lista_estudiantes:\n",
    "    asistencia()\n",
    "\n",
    "# Guardar los cambios una vez que todos los estudiantes hayan sido llamados\n",
    "guardar_cambios()\n",
    "\n"
   ]
  },
  {
   "cell_type": "markdown",
   "id": "023bda99",
   "metadata": {},
   "source": [
    "\n",
    "# Principios de mi labor docente"
   ]
  },
  {
   "cell_type": "markdown",
   "id": "7b05a46f",
   "metadata": {},
   "source": [
    "## Modelo general de clase: [aula invertida](https://www3.gobiernodecanarias.org/medusa/ecoescuela/pedagotic/aprendizaje-invertido-flipped-classroom/)"
   ]
  },
  {
   "cell_type": "markdown",
   "id": "7de741d1",
   "metadata": {},
   "source": [
    "<img src = 'https://resources.maneuveringthemiddle.com/wp-content/uploads/2020/07/04212706/1-5.png' width = 200>  \n",
    "\n"
   ]
  },
  {
   "cell_type": "markdown",
   "id": "d8720b07",
   "metadata": {},
   "source": [
    "# Metodología de Aprendizaje Basado en Problemas y Proyectos (ABPP) \n"
   ]
  },
  {
   "cell_type": "markdown",
   "id": "b9864884",
   "metadata": {},
   "source": [
    "\n",
    "<img src = 'https://www.unir.net/wp-content/uploads/2020/07/aprendizaje-problemas2-1-1-1-1.jpeg' width = 200>"
   ]
  },
  {
   "cell_type": "markdown",
   "id": "010bd14d",
   "metadata": {},
   "source": [
    "# Desarrollo del pensamiento computacional con Lenguajes Python, R; y con archivos Markdown y R-Markdown orientado a la formación en ciencia de datos \n",
    "\n"
   ]
  },
  {
   "cell_type": "markdown",
   "id": "70aa672f",
   "metadata": {},
   "source": [
    "\n",
    "<img src = 'https://i.ytimg.com/vi/mcG_wcR4e6M/maxresdefault.jpg' width = 200>"
   ]
  },
  {
   "cell_type": "markdown",
   "id": "b173c35e",
   "metadata": {},
   "source": [
    "# Principio de fomento a la ciencia abierta, enseñar en el acceso a los datos públicos y el uso de software de código abierto  \n"
   ]
  },
  {
   "cell_type": "markdown",
   "id": "2e0d0f96",
   "metadata": {},
   "source": [
    "\n",
    "<img src = 'https://unesdoc.unesco.org/in/rest/Thumb/image?id=p%3A%3Ausmarcdef_0000379949_spa&author=UNESCO&title=Recomendaci%C3%B3n+de+la+UNESCO+sobre+la+Ciencia+Abierta&year=2021&publisher=UNESCO&TypeOfDocument=UnescoPhysicalDocument&mat=PGD&ct=true&size=512&isPhysical=1' width = 200>"
   ]
  },
  {
   "cell_type": "markdown",
   "id": "d95e9065",
   "metadata": {},
   "source": [
    "El enfoque STEAMS en educación preescolar, primaria y secundaria es una extensión del enfoque STEM (Ciencia, Tecnología, Ingeniería y Matemáticas) y su variante STEAM, que incorpora el Arte. "
   ]
  },
  {
   "cell_type": "markdown",
   "id": "47c59861",
   "metadata": {},
   "source": [
    "El acrónimo STEAMS incluye:\n"
   ]
  },
  {
   "cell_type": "markdown",
   "id": "e2679e3f",
   "metadata": {},
   "source": [
    "\n",
    "1. **Science (Ciencia):** Fomenta la curiosidad por el mundo natural y el desarrollo de habilidades científicas, como la observación, experimentación y análisis.\n"
   ]
  },
  {
   "cell_type": "markdown",
   "id": "74c4c879",
   "metadata": {},
   "source": [
    "\n",
    "2. **Technology (Tecnología):** Integra herramientas tecnológicas para potenciar el aprendizaje y la resolución de problemas, promoviendo la alfabetización digital desde edades tempranas.\n"
   ]
  },
  {
   "cell_type": "markdown",
   "id": "15b92777",
   "metadata": {},
   "source": [
    "\n",
    "3. **Engineering (Ingeniería):** Introduce el pensamiento lógico y la resolución de problemas estructurados, fomentando habilidades como el diseño y la construcción de soluciones.\n"
   ]
  },
  {
   "cell_type": "markdown",
   "id": "c25042c5",
   "metadata": {},
   "source": [
    "\n",
    "4. **Arts (Arte):** Añade creatividad y pensamiento crítico, permitiendo a los estudiantes expresarse y explorar el aprendizaje a través de formas artísticas (plásticas, música, teatro).\n"
   ]
  },
  {
   "cell_type": "markdown",
   "id": "6c76129c",
   "metadata": {},
   "source": [
    "\n",
    "5. **Mathematics (Matemáticas):** Refuerza las habilidades numéricas y el razonamiento lógico, fundamentales en la resolución de problemas y comprensión de conceptos abstractos.\n"
   ]
  },
  {
   "cell_type": "markdown",
   "id": "ee044969",
   "metadata": {},
   "source": [
    "\n",
    "6. **Social Sciences (Ciencias Sociales):** Incorpora la comprensión del entorno social, político, cultural y económico, promoviendo el desarrollo de la conciencia crítica sobre el mundo y su historia, además de habilidades de empatía y ciudadanía.\n"
   ]
  },
  {
   "cell_type": "markdown",
   "id": "3f41164f",
   "metadata": {},
   "source": [
    "\n",
    "El enfoque STEAMS pretende desarrollar un aprendizaje **interdisciplinario** que integre estas áreas para fomentar un pensamiento más holístico y práctico. "
   ]
  },
  {
   "cell_type": "markdown",
   "id": "eb0f89a3",
   "metadata": {},
   "source": [
    "Se busca que los estudiantes no solo aprendan conocimientos técnicos, sino también cómo aplicarlos creativa y críticamente en situaciones reales, promoviendo habilidades como el trabajo en equipo, la comunicación y la innovación. "
   ]
  },
  {
   "cell_type": "markdown",
   "id": "a070599a",
   "metadata": {},
   "source": [
    "En educación preescolar, primaria, secundaria y superior, se adapta a las diferentes etapas de desarrollo cognitivo y emocional de los estudiantes, promoviendo el aprendizaje activo y contextualizado.  \n"
   ]
  },
  {
   "cell_type": "markdown",
   "id": "653c65c4",
   "metadata": {},
   "source": [
    "\n",
    "<img src = 'https://www.campuseducacion.com/blog/wp-content/uploads/2023/03/foto01-1.jpg' width = 200>"
   ]
  },
  {
   "cell_type": "markdown",
   "id": "e30f4805",
   "metadata": {},
   "source": [
    "# Qué estamos haciendo por la internalización en esta clase y este curso  \n"
   ]
  },
  {
   "cell_type": "markdown",
   "id": "7bcaa1e4",
   "metadata": {},
   "source": [
    "Estas son mis acciones como docente de matemáticas en la Universidad de Antioquia con miras a la **internacionalización** de mi práctica docente y el desarrollo de competencias internacionales para mis estudiantes, ls cuales he estructurado con el siguiente enfoque:\n"
   ]
  },
  {
   "cell_type": "markdown",
   "id": "f44ac6a5",
   "metadata": {},
   "source": [
    "### 1. **Visión Global en la Formación Académica**\n"
   ]
  },
  {
   "cell_type": "markdown",
   "id": "f802c09d",
   "metadata": {},
   "source": [
    "   - **Competencias Internacionales**: Asegúrate de que el contenido de tus cursos fomente habilidades que sean reconocidas globalmente. "
   ]
  },
  {
   "cell_type": "markdown",
   "id": "9561328d",
   "metadata": {},
   "source": [
    "Al educar a los estudiantes en **Python, LaTeX, Markdown y Jupyter Notebooks** y en la **introducción a la ciencia de datos y técnicas de Machine Learning**, estás proporcionando competencias altamente demandadas en los sectores tecnológicos y académicos a nivel internacional.\n"
   ]
  },
  {
   "cell_type": "markdown",
   "id": "206aad06",
   "metadata": {},
   "source": [
    "   - **Relevancia de los Contenidos**: Destaca cómo los temas que enseñas, como el **desarrollo del pensamiento computacional** y la **ciencia de datos**, están alineados con las necesidades globales actuales en diversas industrias, desde la tecnología hasta las ciencias naturales y sociales.\n"
   ]
  },
  {
   "cell_type": "markdown",
   "id": "554d9efd",
   "metadata": {},
   "source": [
    "   - **Referencias a Estándares Internacionales**: Puedes vincular tu enseñanza a estándares internacionales de competencias en programación y ciencia de datos (por ejemplo, frameworks del **IEEE, ACM**, y estándares de la **data science** o la **computación en la nube**)."
   ]
  },
  {
   "cell_type": "markdown",
   "id": "b5b1f569",
   "metadata": {},
   "source": [
    "### 2. **Innovación Pedagógica con Enfoque Internacional**\n"
   ]
  },
  {
   "cell_type": "markdown",
   "id": "2b532a4d",
   "metadata": {},
   "source": [
    "   - **Aula Invertida y ABP**: Presenta cómo tu enfoque de **aula invertida** y **aprendizaje basado en problemas (ABP)** permite a los estudiantes trabajar de manera autónoma y colaborativa, lo que los prepara para escenarios laborales internacionales que requieren autoaprendizaje y habilidades de resolución de problemas en equipo.\n"
   ]
  },
  {
   "cell_type": "markdown",
   "id": "383836b5",
   "metadata": {},
   "source": [
    "   - **Uso de Jupyter Notebooks**: El uso de **Jupyter Notebooks** en tus clases no solo facilita la **integración de código, matemáticas y texto**, sino que también es una plataforma utilizada globalmente en ambientes académicos y profesionales, lo que hace a tus estudiantes más competitivos internacionalmente."
   ]
  },
  {
   "cell_type": "markdown",
   "id": "f5e41051",
   "metadata": {},
   "source": [
    "### 3. **Tecnología y Herramientas de Uso Global**\n"
   ]
  },
  {
   "cell_type": "markdown",
   "id": "1a7ccdcb",
   "metadata": {},
   "source": [
    "   - **Lenguaje Python**: Python es uno de los lenguajes de programación más usados a nivel mundial, tanto en la academia como en la industria. "
   ]
  },
  {
   "cell_type": "markdown",
   "id": "8bc911a1",
   "metadata": {},
   "source": [
    "Al formar a tus estudiantes en Python para ciencia de datos y machine learning, los preparas para operar en entornos tecnológicos globales.\n"
   ]
  },
  {
   "cell_type": "markdown",
   "id": "4877bcda",
   "metadata": {},
   "source": [
    "   - **Herramientas de Ciencia Abierta**: Resalta cómo herramientas como **GitHub**, **Google Colab** y otras plataformas de código abierto están alineadas con el movimiento de **ciencia abierta**, el cual es internacionalmente reconocido y permite que los estudiantes colaboren y compartan proyectos a nivel global."
   ]
  },
  {
   "cell_type": "markdown",
   "id": "bf8fb9f7",
   "metadata": {},
   "source": [
    "### 4. **Investigación y Publicaciones Internacionales**\n"
   ]
  },
  {
   "cell_type": "markdown",
   "id": "24f2fae7",
   "metadata": {},
   "source": [
    "   - **Promoción de la Investigación**: Detalla cómo promueves que tus estudiantes participen en proyectos de **investigación aplicada**, con posibilidad de publicación en revistas internacionales. Esto contribuye a la reputación internacional de la Universidad de Antioquia.\n"
   ]
  },
  {
   "cell_type": "markdown",
   "id": "4b3d4fe7",
   "metadata": {},
   "source": [
    "   - **Colaboraciones Internacionales**: Si has colaborado con investigadores de otras instituciones o universidades en el extranjero, menciona estos proyectos y cómo han enriquecido tu enseñanza y proporcionado a los estudiantes una visión más globalizada."
   ]
  },
  {
   "cell_type": "markdown",
   "id": "b2468d1b",
   "metadata": {},
   "source": [
    "## 5. **Uso del Inglés para la Internacionalización**\n"
   ]
  },
  {
   "cell_type": "markdown",
   "id": "4e4bc5d1",
   "metadata": {},
   "source": [
    "   - **Comunicación Científica en Inglés**: "
   ]
  },
  {
   "cell_type": "markdown",
   "id": "d01c067b",
   "metadata": {},
   "source": [
    "Fomentar el aprendizaje del inglés como lengua científica es clave para que tus estudiantes puedan acceder a publicaciones internacionales, conferencias, y material académico que no está disponible en español. "
   ]
  },
  {
   "cell_type": "markdown",
   "id": "42b880dc",
   "metadata": {},
   "source": [
    "Esto es esencial para que adquieran competencias que les permitan desempeñarse en cualquier contexto internacional.\n"
   ]
  },
  {
   "cell_type": "markdown",
   "id": "7400f2e9",
   "metadata": {},
   "source": [
    "   - **Material Bilingüe**: Al generar material educativo en Python, LaTeX y Markdown, considera ofrecer algunos de estos recursos en inglés, para que los estudiantes se familiaricen con el vocabulario técnico y científico internacional."
   ]
  },
  {
   "cell_type": "markdown",
   "id": "aa9682f2",
   "metadata": {},
   "source": [
    "### 6. **Certificaciones y Estándares Internacionales**\n"
   ]
  },
  {
   "cell_type": "markdown",
   "id": "75e51a5d",
   "metadata": {},
   "source": [
    "   - **Participación en Certificaciones Internacionales**: Impulsa que los estudiantes busquen certificaciones internacionales en Python o ciencia de datos (como las ofrecidas por **Coursera, edX,** o **Google**). "
   ]
  },
  {
   "cell_type": "markdown",
   "id": "a9628ed2",
   "metadata": {},
   "source": [
    "Estas certificaciones no solo validan sus competencias, sino que también incrementan el reconocimiento de la Universidad de Antioquia en el contexto internacional.\n"
   ]
  },
  {
   "cell_type": "markdown",
   "id": "3f5e24f1",
   "metadata": {},
   "source": [
    "   - **Alineación con Acreditaciones Internacionales**: Vincula tu trabajo docente con los estándares de acreditación y certificación que garantizan que la universidad siga siendo reconocida internacionalmente. "
   ]
  },
  {
   "cell_type": "markdown",
   "id": "d04dc426",
   "metadata": {},
   "source": [
    "Puedes vincularte con organizaciones internacionales que promuevan la excelencia en la educación y tecnología, como **ABET** para la acreditación en ingeniería y ciencias computacionales."
   ]
  },
  {
   "cell_type": "markdown",
   "id": "bc468118",
   "metadata": {},
   "source": [
    "### 7. **Proyectos Abiertos y Ciencia Reproducible**\n"
   ]
  },
  {
   "cell_type": "markdown",
   "id": "de362820",
   "metadata": {},
   "source": [
    "   - **GitHub y Open Science**: La utilización de **GitHub** para almacenar los proyectos y materiales de enseñanza en repositorios públicos permite que otros investigadores y educadores internacionales puedan revisar y replicar tu trabajo. Esto contribuye a la creación de una red de colaboración científica abierta.\n"
   ]
  },
  {
   "cell_type": "markdown",
   "id": "41911e54",
   "metadata": {},
   "source": [
    "   - **Transparencia y Reproducibilidad**: La ciencia de datos y machine learning están profundamente ligados a la reproducibilidad. Asegura que tus estudiantes desarrollen prácticas de transparencia y documentación en la investigación, que son pilares en la comunidad científica global.\n"
   ]
  },
  {
   "cell_type": "markdown",
   "id": "3d570dbb",
   "metadata": {},
   "source": [
    "\n",
    "### 8. **Participación en Redes y Conferencias Internacionales**\n",
    "   - **Presentación en Conferencias Internacionales**: Destaca cómo tu participación en conferencias internacionales (como la **ASCOLFA** o eventos sobre educación en matemáticas) contribuye al prestigio de la universidad y permite que tus prácticas sean evaluadas y reconocidas a nivel global.\n"
   ]
  },
  {
   "cell_type": "markdown",
   "id": "20ea2d54",
   "metadata": {},
   "source": [
    "   - **Promoción de Estudiantes en Eventos Internacionales**: Impulsa la participación de tus estudiantes en competiciones internacionales de programación o hackathons, como los organizados por **Google**, **ACM** o **Kaggle**. "
   ]
  },
  {
   "cell_type": "markdown",
   "id": "1fbacf60",
   "metadata": {},
   "source": [
    "Esto no solo desarrolla sus habilidades, sino que también visibiliza el talento de la Universidad de Antioquia a nivel global.\n",
    "\n"
   ]
  },
  {
   "cell_type": "markdown",
   "id": "c3520caa",
   "metadata": {},
   "source": [
    "Con esta estrategia, presento mis acciones docentes en términos de competencias internacionales, innovación pedagógica, tecnología, investigación y participación en redes globales, asegurando que mi práctica esté alineada con los estándares internacionales y que tus estudiantes estén preparados para competir en contextos internacionales."
   ]
  },
  {
   "cell_type": "markdown",
   "id": "b7ad000c",
   "metadata": {},
   "source": [
    "### **Metodología de Enseñanza: Aprendizaje Basado en Problemas y Proyectos (ABPP)**\n"
   ]
  },
  {
   "cell_type": "markdown",
   "id": "08bc182f",
   "metadata": {},
   "source": [
    "\n",
    "El **Aprendizaje Basado en Problemas y Proyectos (ABPP)** es una metodología educativa que integra los enfoques del **Aprendizaje Basado en Problemas (ABP)** y el **Aprendizaje Basado en Proyectos (PBL, por sus siglas en inglés)**. "
   ]
  },
  {
   "cell_type": "markdown",
   "id": "66cd6b38",
   "metadata": {},
   "source": [
    "Es especialmente útil para la formación de futuros docentes, ingenieros y administradores, ya que combina el desarrollo de habilidades prácticas con el pensamiento crítico y reflexivo. "
   ]
  },
  {
   "cell_type": "markdown",
   "id": "625efb1f",
   "metadata": {},
   "source": [
    "A continuación, se presenta una descripción adaptada a la enseñanza de las matemáticas en educación infantil, Licenciatura en Matemáticas, Ingeniería Agropecuaria y Administración de Empresas:\n",
    "\n",
    "---\n"
   ]
  },
  {
   "cell_type": "markdown",
   "id": "1f84aa84",
   "metadata": {},
   "source": [
    "\n",
    "### **1. Fundamentos del ABPP**\n"
   ]
  },
  {
   "cell_type": "markdown",
   "id": "dfde47fc",
   "metadata": {},
   "source": [
    "El ABPP se basa en:\n",
    "- **Resolución de Problemas Reales:** Los estudiantes analizan y resuelven problemas auténticos relacionados con su área de formación, fomentando la aplicación práctica del conocimiento.\n"
   ]
  },
  {
   "cell_type": "markdown",
   "id": "2da42cb1",
   "metadata": {},
   "source": [
    "- **Proyectos como Herramientas Integradoras:** Los proyectos permiten desarrollar habilidades interdisciplinarias y ofrecer soluciones concretas a los problemas planteados.\n"
   ]
  },
  {
   "cell_type": "markdown",
   "id": "5bcb8e38",
   "metadata": {},
   "source": [
    "- **Aprendizaje Activo:** Los estudiantes son responsables de su aprendizaje y participan activamente en el proceso de investigación, diseño y solución.\n",
    "\n",
    "---\n"
   ]
  },
  {
   "cell_type": "markdown",
   "id": "be09041f",
   "metadata": {},
   "source": [
    "\n",
    "### **2. Aplicación del ABPP en Áreas Específicas**\n"
   ]
  },
  {
   "cell_type": "markdown",
   "id": "14619238",
   "metadata": {},
   "source": [
    "\n",
    "#### **Educación Infantil (Licenciatura en Educación Infantil)**\n",
    "- **Enfoque:** Desarrollo del pensamiento matemático en la infancia desde contextos lúdicos, familiares y culturales.\n"
   ]
  },
  {
   "cell_type": "markdown",
   "id": "06b0db76",
   "metadata": {},
   "source": [
    "- **Problemas típicos:** \n",
    "  - ¿Cómo enseñar los números naturales mediante actividades prácticas y juegos?\n",
    "  - ¿Qué estrategias pueden emplearse para abordar el concepto de cantidad en edades tempranas?\n"
   ]
  },
  {
   "cell_type": "markdown",
   "id": "aa820cff",
   "metadata": {},
   "source": [
    "- **Proyectos:** Diseño de secuencias didácticas que usen Python, Jupyter Notebooks y materiales manipulativos para enseñar matemáticas de forma interactiva.\n"
   ]
  },
  {
   "cell_type": "markdown",
   "id": "2188855c",
   "metadata": {},
   "source": [
    "- **Competencias desarrolladas:** \n",
    "  - Uso de herramientas tecnológicas para diseñar actividades educativas.\n",
    "  - Comprensión del desarrollo cognitivo infantil y su relación con las matemáticas.\n"
   ]
  },
  {
   "cell_type": "markdown",
   "id": "b2f52683",
   "metadata": {},
   "source": [
    "\n",
    "#### **Licenciatura en Matemáticas**\n",
    "- **Enfoque:** Resolución de problemas matemáticos aplicados y profundización teórica en áreas como análisis matemático y modelado.\n"
   ]
  },
  {
   "cell_type": "markdown",
   "id": "d21dacee",
   "metadata": {},
   "source": [
    "- **Problemas típicos:**\n",
    "  - ¿Cómo se pueden resolver ecuaciones diferenciales aplicadas a modelos físicos o económicos?\n",
    "  - ¿Cómo modelar fenómenos naturales mediante funciones matemáticas?\n"
   ]
  },
  {
   "cell_type": "markdown",
   "id": "2468554d",
   "metadata": {},
   "source": [
    "- **Proyectos:** \n",
    "  - Desarrollo de software educativo para explorar conceptos matemáticos.\n",
    "  - Aplicación de modelado matemático para resolver problemas reales en otras disciplinas.\n"
   ]
  },
  {
   "cell_type": "markdown",
   "id": "b789ea12",
   "metadata": {},
   "source": [
    "- **Competencias desarrolladas:**\n",
    "  - Dominio de la matemática teórica y aplicada.\n",
    "  - Uso de tecnología para la enseñanza y la investigación.\n"
   ]
  },
  {
   "cell_type": "markdown",
   "id": "b3232166",
   "metadata": {},
   "source": [
    "\n",
    "#### **Ingeniería Agropecuaria**\n",
    "- **Enfoque:** Modelado matemático y análisis de datos para mejorar la producción agrícola y la gestión de recursos.\n",
    "- **Problemas típicos:**\n",
    "  - ¿Cómo modelar el crecimiento de cultivos considerando variables climáticas?\n",
    "  - ¿Cómo optimizar el uso del agua en sistemas de riego mediante análisis matemático?\n"
   ]
  },
  {
   "cell_type": "markdown",
   "id": "1cc34389",
   "metadata": {},
   "source": [
    "- **Proyectos:** \n",
    "  - Desarrollo de modelos predictivos con Python y bibliotecas de aprendizaje automático.\n",
    "  - Implementación de proyectos que combinen matemáticas y ciencias de datos para resolver problemas agrícolas.\n",
    "- **Competencias desarrolladas:**\n",
    "  - Integración de matemáticas con tecnologías avanzadas.\n",
    "  - Resolución de problemas agropecuarios mediante análisis y modelado.\n"
   ]
  },
  {
   "cell_type": "markdown",
   "id": "d67c3dc6",
   "metadata": {},
   "source": [
    "\n",
    "#### **Administración de Empresas**\n",
    "- **Enfoque:** Uso de las matemáticas y la ciencia de datos para la toma de decisiones estratégicas.\n",
    "- **Problemas típicos:**\n",
    "  - ¿Cómo identificar patrones de comportamiento del consumidor usando series de tiempo?\n",
    "  - ¿Qué estrategias matemáticas pueden optimizar la asignación de recursos en una empresa?\n"
   ]
  },
  {
   "cell_type": "markdown",
   "id": "c4ac9f40",
   "metadata": {},
   "source": [
    "- **Proyectos:** \n",
    "  - Implementación de modelos de análisis financiero y simulaciones.\n",
    "  - Desarrollo de dashboards interactivos para la gestión de datos empresariales.\n",
    "- **Competencias desarrolladas:**\n",
    "  - Habilidad para interpretar datos matemáticos en contextos de negocio.\n",
    "  - Capacidad para diseñar soluciones basadas en datos.\n",
    "\n",
    "---\n"
   ]
  },
  {
   "cell_type": "markdown",
   "id": "daf2a252",
   "metadata": {},
   "source": [
    "\n",
    "### **3. Beneficios del ABPP**\n",
    "- **Desarrollo de competencias clave:**\n",
    "  - Pensamiento crítico y creativo.\n",
    "  - Trabajo colaborativo.\n",
    "  - Comunicación efectiva.\n",
    "  - Uso de herramientas tecnológicas avanzadas.\n"
   ]
  },
  {
   "cell_type": "markdown",
   "id": "5d8672d7",
   "metadata": {},
   "source": [
    "- **Adaptación al contexto laboral:** Los estudiantes aprenden a enfrentar desafíos del mundo real y a diseñar soluciones prácticas y aplicables.\n",
    "- **Flexibilidad e interdisciplinariedad:** La metodología se adapta a diversas áreas, fomentando el aprendizaje integrado.\n",
    "\n",
    "---\n"
   ]
  },
  {
   "cell_type": "markdown",
   "id": "04a2f676",
   "metadata": {},
   "source": [
    "\n",
    "### **4. Ejemplo General de Implementación**\n",
    "1. **Identificación del problema:** Se plantea un desafío concreto, como modelar el crecimiento poblacional de una comunidad rural (Ingeniería Agropecuaria) o diseñar una estrategia para enseñar fracciones a niños de 8 años (Educación Infantil).\n",
    "2. **Formación de equipos:** Los estudiantes trabajan en grupos, distribuyendo roles y tareas.\n",
    "3. **Investigación y diseño:** Los estudiantes investigan el problema, proponen soluciones y diseñan un proyecto.\n",
    "4. **Implementación:** Se desarrolla el proyecto, como una herramienta tecnológica o una propuesta pedagógica.\n",
    "5. **Evaluación:** Los estudiantes presentan sus resultados en un informe o una exposición, recibiendo retroalimentación de sus compañeros y docentes.\n"
   ]
  },
  {
   "cell_type": "markdown",
   "id": "dae66efd",
   "metadata": {},
   "source": [
    "\n",
    "\n",
    "\n",
    "El ABPP es una metodología versátil que conecta el conocimiento teórico con la práctica, preparando a los estudiantes para los retos de sus profesiones en la enseñanza de la matemática, la ingeniería y la administración."
   ]
  },
  {
   "cell_type": "markdown",
   "id": "7f61ebd0",
   "metadata": {},
   "source": [
    "## Fomento de la lectura literaria asociada a Ingeniería agropecuaria y licenciatura en Matemáticas\n",
    "\n",
    "[Aprender a obtener el sí sin ceder]()"
   ]
  },
  {
   "cell_type": "markdown",
   "id": "569b28c2",
   "metadata": {},
   "source": [
    "## Título de la clase: Sumas de Riemann Izquierda   \n",
    "\n",
    "[]()"
   ]
  },
  {
   "cell_type": "code",
   "execution_count": 1,
   "id": "b4d760ef",
   "metadata": {},
   "outputs": [],
   "source": [
    "def save_fig(nombre_archivo_imagen):\n",
    "    import os \n",
    "    import matplotlib.pyplot as plt \n",
    "    ubicacion_para_imagenes = r\"C:/Users/marco/Downloads\"\n",
    "    imagen_path = os.path.join(ubicacion_para_imagenes, nombre_archivo_imagen)\n",
    "    plt.savefig(imagen_path, bbox_inches='tight')"
   ]
  },
  {
   "cell_type": "markdown",
   "id": "5d45bb10",
   "metadata": {},
   "source": [
    "# Estructura general para todas las clases\n",
    "\n",
    "Dame, por favor, un diseño de clase, con el enfoque: \"Aula Invertida, STEAMS y De aprendizaje basado en problemas y proyectos(ABPP)\" sobre: \"El método de integración numérica llamado Sumas Izquierdas de Riemann \", siguiendo la estructura:  \n",
    "\n",
    "1. Título de la clase   \n",
    "   \n",
    "2. Objetivos de aprendizaje que incluyan los indicadores del logro de estos objetivos.\n",
    "   \n",
    "3. Un mapa conceptual que resuma la clase elaborado en Graphviz de Python con nodos y edges de diferentes formas, colores y rellenos y renderizado en la siguiente ubicación: `\"C:/Users/marco/Downloads\"`. No olvides el parámetro `view = True` para el método `render()` de Graphviz. Para este mapa controla las superposiciones de los nodos con: graph [overlap=false]; // Elimina superposiciones (puede aumentar el espacio) \n",
    "graph [overlap=\"scalexy\"]; // Escala el gráfico para evitar overlaps\n",
    "graph [overlap=\"compress\"]; // Comprime el grafo sin overlaps  \n",
    "   \n",
    "4. Dame elementos históricos y epistemológicos asociados a esta clase, pero contados como un cuento al estilo de un cuentero antioqueño en Colombia. Incluye imágenes de los protagonistas históricos de esta clase.   \n",
    "   \n",
    "5. Contenido de la clase. Que el contenido parta de una situación real para llegar a una constitución del modelo matemático que represente tal situación real.    \n",
    "   \n",
    "\n",
    "6. Deducción de una función de usuario de Python, que permita determinar el número de rectángulos $n$ necesarios para una precisión de la suma de Riemann dada $\\epsilon = 0.0001$.    \n",
    "   \n",
    "7. Actividades de aprendizaje: que incluya pruebas de escritorio para los algoritmos en forma verbal y seudo código, diagrama de flujo, y la implementación del algoritmo en lenguaje Python.   \n",
    "   \n",
    "8. Incluye una canción o un poema que ayude a interiorizar y fijar los conceptos asociados a esta clase.   \n",
    "   \n",
    "9.  Tarea o actividades de ejercitación y fijación.  \n",
    "    \n",
    "10. Evaluación incluyendo diez proyectos, un ejemplo de quiz y un ejemplo de parcial.  \n",
    "    \n",
    "11. Diseño de actividad de retroalimentación.   \n",
    "    \n",
    "12. Dame un vocabulario y frases del idioma inglés asociadas a esta clase.  \n",
    "\n",
    "13.  Incluye apéndice para la clase sobre desarrollo de habilidades para trabajar en equipo y de asertividad y empatía para relacionarnos. También elementos de la inteligencia emocional para presentar pruebas sin temor y sin realizar fraude en ellas. Y Actividades para desarrollar la habilidad de la Tolerancia    \n",
    "     \n",
    "14. Incluye 5 referentes en didáctica de la matemática que estén de acuerdo a la propuesta didáctica de esta clase. Adiciona a estos referentes a Raymond Duval (Representaciones y cambios de representación para la adquisición de conceptos matemáticos) y a Jeannette Wing (Desarrollo del pensamiento computacional). Dejame todos estos referentes ordenados de acuerdo a las normas APA. Incluye un referente en didáctica de la matemática que fundamente el uso del Enfoque de Aula Invertida, uno que fundamente el enfoque STEAMS y finalmente otro que fundamente el enfoque de Aprendizaje Basado en Problemas y Proyectos (ABPP)\n",
    "  \n",
    "\n",
    "Pero  que este diseño sea para que el estudiante pueda aprender experimentando en cuadernos Jupyter con funciones de usuario y animaciones y visualizaciones en Python.    \n",
    "\n",
    "En particular utiliza para el diseño de clase a Numpy, Pandas, SymPy, Matplotlib.pyplot, Seaborn, Plotly, ipywidgets, matplotlib.animation y Jupyter Notebook.    \n",
    "\n",
    "Cada vez que utilices `matplotlib.animacion` no olvides incluir el uso de `IPython. display` para la renderización de estas animaciones a través de Jupyter Notebook.    \n",
    "\n",
    "No olvides darme los diseños de clase con las ecuaciones matemáticas delimitadas con signo de dólar $ para que VS Code si me renderice estas expresiones del lenguaje latex. Cuando vallas a utilizar ipywidgets ten en cuenta la siguiente importación inicial para garantizar que la visualización interactiva si se renderice en VS Code:    \n",
    " \n",
    "import numpy as np  \n",
    "import matplotlib.pyplot as plt  \n",
    "import ipywidgets as widgets  \n",
    "from IPython.display import display, clear_output  \n",
    "from matplotlib.patches import Rectangle  \n",
    "\n",
    "# Configuración inicial para visualización estática  \n",
    "%matplotlib inline "
   ]
  },
  {
   "cell_type": "markdown",
   "id": "f779a70a",
   "metadata": {},
   "source": [
    "# Estructura de la clase    \n",
    "\n",
    "# Diseño de Clase: Sumas Izquierdas de Riemann con Enfoque STEAMS, Aula Invertida y ABPP\n",
    "\n",
    "## 1. Título de la Clase\n",
    "**\"Descubriendo el área bajo la curva: Sumas Izquierdas de Riemann a través de la experimentación en Python\"**\n",
    "\n",
    "## 2. Objetivos de Aprendizaje e Indicadores\n",
    "\n",
    "**Objetivos:**\n",
    "- Comprender el concepto de integración numérica mediante Sumas Izquierdas de Riemann\n",
    "- Aplicar el método para aproximar áreas bajo curvas en problemas reales\n",
    "- Implementar algoritmos computacionales para cálculo de áreas\n",
    "- Analizar la precisión de la aproximación en función del número de rectángulos\n",
    "\n",
    "**Indicadores de logro:**\n",
    "- El estudiante representa gráficamente el método de Sumas Izquierdas de Riemann\n",
    "- Calcula manualmente áreas aproximadas usando el método\n",
    "- Programa funciones en Python que implementen el método\n",
    "- Compara resultados numéricos con soluciones analíticas\n",
    "- Diseña experimentos para determinar el número óptimo de rectángulos\n",
    "\n",
    "## 3. Mapa Conceptual (Graphviz)\n",
    "\n",
    "```python\n",
    "from graphviz import Digraph\n",
    "\n",
    "# Crear el gráfico\n",
    "graph = Digraph('Riemann', \n",
    "                filename='C:/Users/marco/Downloads/riemann_sum_left.gv',\n",
    "                format='png',\n",
    "                engine='neato')\n",
    "\n",
    "# Configuración para evitar overlaps\n",
    "graph.attr('graph', overlap='false', splines='true', layout='neato')\n",
    "\n",
    "# Nodos principales\n",
    "graph.attr('node', shape='ellipse', style='filled', color='lightblue2')\n",
    "graph.node('A', 'Sumas Izquierdas de Riemann')\n",
    "graph.node('B', 'Integración Numérica')\n",
    "graph.node('C', 'Área bajo la curva')\n",
    "\n",
    "# Nodos secundarios\n",
    "graph.attr('node', shape='box', style='rounded,filled', color='gold')\n",
    "graph.node('D', 'Partición del intervalo')\n",
    "graph.node('E', 'Altura = f(x_i)')\n",
    "graph.node('F', 'Ancho = Δx')\n",
    "graph.node('G', 'Suma de áreas')\n",
    "\n",
    "# Nodos aplicaciones\n",
    "graph.attr('node', shape='hexagon', style='filled', color='darkolivegreen3')\n",
    "graph.node('H', 'Cálculo de áreas irregulares')\n",
    "graph.node('I', 'Trabajo en física')\n",
    "graph.node('J', 'Probabilidades en estadística')\n",
    "\n",
    "# Nodos tecnológicos\n",
    "graph.attr('node', shape='component', style='filled', color='coral')\n",
    "graph.node('K', 'Implementación en Python')\n",
    "graph.node('L', 'Visualización con Matplotlib')\n",
    "graph.node('M', 'Animaciones interactivas')\n",
    "\n",
    "# Conexiones\n",
    "graph.edges(['AB', 'AC', 'AD', 'AE', 'AF', 'AG'])\n",
    "graph.edges(['BD', 'BE', 'BF', 'BG'])\n",
    "graph.edges(['CH', 'CI', 'CJ'])\n",
    "graph.edges(['DK', 'DL', 'DM'])\n",
    "\n",
    "# Renderizar y mostrar\n",
    "graph.render(view=True)\n",
    "```\n",
    "\n",
    "## 4. Historia y Epistemología (Cuento Antioqueño)\n",
    "\n",
    "*\"¡Ave María pues!* Les voy a contar la historia de un alemán terco como una mula que se empeñó en medir lo imposible: Bernhard Riemann. \n",
    "\n",
    "Este muchacho, *¡qué bárbaro!*, allá por 1854 se puso a pensar en cómo medir áreas raras, esas que no son triángulos ni cuadrados, sino las que hacen las curvas cuando bailan sobre el plano. \n",
    "\n",
    "*¡Uy!* Y no estaba solo en esto. Antes que él, otro loco lindo, Augustin-Louis Cauchy, *¡ese sí que era echado pa'lante!*, ya había empezado a jugar con estas ideas. Pero Riemann las organizó mejor que una dueña de casa antioqueña ordenando su cocina.\n",
    "\n",
    "*Miren pues* cómo era la cosa: Imagínense que tienen un terreno con forma rara, como esos cafetales en las montañas de Antioquia. Para medirlo, Riemann dijo: *\"Partámoslo en cachitos rectangulares, como si fueran tablitas de un piso, y sumémoslos\"*. \n",
    "\n",
    "*¡Ajá!* Y así nació la idea de las sumas que llevan su nombre. Pero aquí viene lo bueno: entre más finitas las tablitas, más exacta la medida. *¡Eso es pura matemática, mijito!*\n",
    "\n",
    "*¿Y saben qué?* Hoy usamos estas ideas para todo: desde predecir el clima hasta diseñar celulares. *¡Eso sí que es progreso!*\"\n",
    "\n",
    "**Imágenes históricas:**\n",
    "- [Bernhard Riemann](https://upload.wikimedia.org/wikipedia/commons/1/1b/Bernhard_Riemann.jpeg)\n",
    "- [Augustin-Louis Cauchy](https://upload.wikimedia.org/wikipedia/commons/5/53/Augustin-Louis_Cauchy_1901.jpg)\n",
    "\n",
    "## 5. Contenido de la Clase (Situación Real)\n",
    "\n",
    "**Situación Problema:** \n",
    "Un ingeniero ambiental necesita calcular el área contaminada por un derrame de petróleo en un lago. La forma del derrame es irregular y sigue aproximadamente la función f(x) = x³ - 2x² + 5 entre x=0 y x=2.\n",
    "\n",
    "**Desarrollo:**\n",
    "\n",
    "1. **Planteamiento del problema:** \n",
    "   - ¿Cómo medir un área con bordes curvos?\n",
    "   - Necesidad de aproximación\n",
    "\n",
    "2. **Solución intuitiva:**\n",
    "   - Dividir el área en rectángulos delgados\n",
    "   - Sumar las áreas de estos rectángulos\n",
    "\n",
    "3. **Construcción del modelo:**\n",
    "   - Partición del intervalo [a,b] en n subintervalos\n",
    "   - Ancho de cada rectángulo: Δx = (b-a)/n\n",
    "   - Altura: valor de la función en el extremo izquierdo\n",
    "   - Área total ≈ Σ f(x_i) * Δx, desde i=0 hasta n-1\n",
    "\n",
    "4. **Matematización:**\n",
    "   $$ A \\approx \\sum_{i=0}^{n-1} f(x_i) \\cdot \\Delta x $$\n",
    "   donde:\n",
    "   $$ \\Delta x = \\frac{b-a}{n}, \\quad x_i = a + i \\cdot \\Delta x $$\n"
   ]
  },
  {
   "cell_type": "code",
   "execution_count": 5,
   "id": "0c63ece6",
   "metadata": {},
   "outputs": [
    {
     "data": {
      "image/png": "[encoded data removed]",
      "text/plain": [
       "<Figure size 1500x1000 with 6 Axes>"
      ]
     },
     "metadata": {},
     "output_type": "display_data"
    }
   ],
   "source": [
    "import numpy as np\n",
    "from scipy.integrate import quad\n",
    "\n",
    "# Descripción Gráfica del algoritmo de sumas de Riemann Izquierdas \n",
    "\n",
    "# Prompt: Dame una seguencia gráfica en forma de matriz con matplotlib donde: \n",
    "# 1. El primer gráfico presente a f(x) = x^{2} en el intervalo [1, 3]; \n",
    "# 2. En el segundo gráfico presente el primero agregando los puntos sobre el eje x definidos por \n",
    "#    la partición del dominio en n = 3 subintervalos; \n",
    "# 3. En el tercer gráfico incluyas al anterior gráfico solo resaltando los extremos izquierdos de cada subintervalo; \n",
    "# 4. En el cuarto gráfico, incluya al anterior y agreguele los segmentos verticales que representan la evaluación de la función f en los extremos izquierdos de los subintervalos; \n",
    "# 5. en el quinto gráfico incluye al anterior y agregándole los rectángulos asociados a cada subintervalo y cuya altura es la evaluación de la función f en el extremo izquierdo de cada subintervalo; \n",
    "# 6. El el sexto gráfico muestre ell gráfico anterior y la leyenda de la suma de las áreas de los rectángulos y el valor exacto de la integral de f en el dominio dado.   \n",
    "import matplotlib.pyplot as plt\n",
    "\n",
    "# Definir la función\n",
    "def f(x):\n",
    "    return x**2\n",
    "\n",
    "# Intervalo y partición\n",
    "a, b = 1, 3\n",
    "n = 3\n",
    "x = np.linspace(a, b, 100)\n",
    "x_partition = np.linspace(a, b, n + 1)\n",
    "x_left = x_partition[:-1]\n",
    "dx = (b - a) / n\n",
    "\n",
    "# Evaluaciones de la función\n",
    "y = f(x)\n",
    "y_left = f(x_left)\n",
    "\n",
    "# Calcular el área exacta\n",
    "area_exacta, _ = quad(f, a, b)\n",
    "\n",
    "# Crear la figura y los subgráficos\n",
    "fig, axes = plt.subplots(2, 3, figsize=(15, 10))\n",
    "axes = axes.flatten()\n",
    "\n",
    "# Primer gráfico: f(x) en el intervalo [1, 3]\n",
    "axes[0].plot(x, y, label='f(x) = x^2', color='blue')\n",
    "axes[0].set_title(\"1. Gráfico de f(x)\")\n",
    "axes[0].set_xlabel(\"x\")\n",
    "axes[0].set_ylabel(\"f(x)\")\n",
    "axes[0].grid()\n",
    "\n",
    "# Segundo gráfico: Agregar puntos de partición\n",
    "axes[1].plot(x, y, label='f(x) = x^2', color='blue')\n",
    "axes[1].scatter(x_partition, f(x_partition), color='red', label='Puntos de partición')\n",
    "axes[1].set_title(\"2. Puntos de partición\")\n",
    "axes[1].set_xlabel(\"x\")\n",
    "axes[1].set_ylabel(\"f(x)\")\n",
    "axes[1].grid()\n",
    "axes[1].legend()\n",
    "\n",
    "# Tercer gráfico: Resaltar extremos izquierdos\n",
    "axes[2].plot(x, y, label='f(x) = x^2', color='blue')\n",
    "axes[2].scatter(x_left, y_left, color='green', label='Extremos izquierdos')\n",
    "axes[2].set_title(\"3. Extremos izquierdos\")\n",
    "axes[2].set_xlabel(\"x\")\n",
    "axes[2].set_ylabel(\"f(x)\")\n",
    "axes[2].grid()\n",
    "axes[2].legend()\n",
    "\n",
    "# Cuarto gráfico: Agregar segmentos verticales\n",
    "axes[3].plot(x, y, label='f(x) = x^2', color='blue')\n",
    "axes[3].scatter(x_left, y_left, color='green', label='Extremos izquierdos')\n",
    "for xi, yi in zip(x_left, y_left):\n",
    "    axes[3].vlines(xi, 0, yi, color='purple', linestyle='--')\n",
    "axes[3].set_title(\"4. Segmentos verticales\")\n",
    "axes[3].set_xlabel(\"x\")\n",
    "axes[3].set_ylabel(\"f(x)\")\n",
    "axes[3].grid()\n",
    "axes[3].legend()\n",
    "\n",
    "# Quinto gráfico: Agregar rectángulos\n",
    "axes[4].plot(x, y, label='f(x) = x^2', color='blue')\n",
    "axes[4].scatter(x_left, y_left, color='green', label='Extremos izquierdos')\n",
    "for xi, yi in zip(x_left, y_left):\n",
    "    axes[4].vlines(xi, 0, yi, color='purple', linestyle='--')\n",
    "    axes[4].bar(xi, yi, width=dx, align='edge', color='orange', edgecolor='black', alpha=0.5, label='Rectángulos' if xi == x_left[0] else \"\")\n",
    "axes[4].set_title(\"5. Rectángulos\")\n",
    "axes[4].set_xlabel(\"x\")\n",
    "axes[4].set_ylabel(\"f(x)\")\n",
    "axes[4].grid()\n",
    "axes[4].legend()\n",
    "\n",
    "# Sexto gráfico: Agregar leyenda y área exacta\n",
    "area_aproximada = np.sum(y_left * dx)\n",
    "axes[5].plot(x, y, label='f(x) = x^2', color='blue')\n",
    "axes[5].scatter(x_left, y_left, color='green', label='Extremos izquierdos')\n",
    "for xi, yi in zip(x_left, y_left):\n",
    "    axes[5].vlines(xi, 0, yi, color='purple', linestyle='--')\n",
    "    axes[5].bar(xi, yi, width=dx, align='edge', color='orange', edgecolor='black', alpha=0.5)\n",
    "axes[5].set_title(\"6. Área aproximada y exacta\")\n",
    "axes[5].set_xlabel(\"x\")\n",
    "axes[5].set_ylabel(\"f(x)\")\n",
    "axes[5].grid()\n",
    "axes[5].legend()\n",
    "axes[5].text(1.5, 5, f\"Área aproximada: {area_aproximada:.4f}\\nÁrea exacta: {area_exacta:.4f}\", fontsize=10, bbox=dict(facecolor='white', alpha=0.8))\n",
    "\n",
    "# Ajustar diseño\n",
    "plt.tight_layout()\n",
    "plt.show()\n"
   ]
  },
  {
   "cell_type": "markdown",
   "id": "06d8bca3",
   "metadata": {},
   "source": [
    "\n",
    "## 6. Función Python para Determinar Número de Rectángulos\n",
    "\n",
    "```python\n",
    "import numpy as np\n",
    "\n",
    "def encontrar_n_rectangulos(f, a, b, epsilon=0.0001, max_iter=10000):\n",
    "    \"\"\"\n",
    "    Encuentra el número mínimo de rectángulos para alcanzar la precisión deseada\n",
    "    \n",
    "    Parámetros:\n",
    "    f : función a integrar\n",
    "    a, b : límites de integración\n",
    "    epsilon : precisión deseada\n",
    "    max_iter : máximo número de iteraciones permitidas\n",
    "    \n",
    "    Retorna:\n",
    "    n : número de rectángulos requeridos\n",
    "    \"\"\"\n",
    "    n = 1\n",
    "    integral_prev = 0\n",
    "    converged = False\n",
    "    \n",
    "    for _ in range(max_iter):\n",
    "        # Calcular suma de Riemann izquierda con n rectángulos\n",
    "        delta_x = (b - a) / n\n",
    "        x = np.linspace(a, b, n+1)[:-1]  # Puntos izquierdos\n",
    "        integral = np.sum(f(x) * delta_x)\n",
    "        \n",
    "        # Verificar convergencia\n",
    "        if np.abs(integral - integral_prev) < epsilon and n > 1:\n",
    "            converged = True\n",
    "            break\n",
    "            \n",
    "        integral_prev = integral\n",
    "        n *= 2  # Duplicar rectángulos en cada iteración\n",
    "    \n",
    "    if not converged:\n",
    "        print(\"Advertencia: No se alcanzó convergencia en el máximo de iteraciones\")\n",
    "    \n",
    "    return n // 2  # Devolver el n anterior al que duplicamos\n",
    "\n",
    "# Ejemplo de uso\n",
    "def f_ejemplo(x):\n",
    "    return x**3 - 2*x**2 + 5\n",
    "\n",
    "n_rect = encontrar_n_rectangulos(f_ejemplo, 0, 2)\n",
    "print(f\"Número de rectángulos necesarios: {n_rect}\")\n",
    "```\n"
   ]
  },
  {
   "cell_type": "markdown",
   "id": "5b05b8d0",
   "metadata": {},
   "source": [
    "\n",
    "## 7. Actividades de Aprendizaje\n",
    "\n",
    "**1. Prueba de Escritorio (Verbal):**\n",
    "- Dada f(x) = x² en [0,2] con n=4\n",
    "- Δx = (2-0)/4 = 0.5\n",
    "- Puntos izquierdos: 0, 0.5, 1.0, 1.5\n",
    "- Áreas: f(0)*0.5 = 0, f(0.5)*0.5 = 0.125, f(1.0)*0.5 = 0.5, f(1.5)*0.5 = 1.125\n",
    "- Suma total = 0 + 0.125 + 0.5 + 1.125 = 1.75\n",
    "\n",
    "**2. Diagrama de Flujo:**\n",
    "```\n",
    "[Inicio]\n",
    "  ↓\n",
    "[Definir f(x), a, b, n]\n",
    "  ↓\n",
    "[Calcular Δx = (b-a)/n]\n",
    "  ↓\n",
    "[Inicializar suma = 0]\n",
    "  ↓\n",
    "[Para i de 0 a n-1]\n",
    "  ↓\n",
    "[Calcular x_i = a + i*Δx]\n",
    "  ↓\n",
    "[Sumar f(x_i)*Δx a suma]\n",
    "  ↓\n",
    "[Fin del ciclo]\n",
    "  ↓\n",
    "[Mostrar suma]\n",
    "  ↓\n",
    "[Fin]\n",
    "```\n",
    "\n",
    "**3. Implementación en Python:**\n",
    "```python\n",
    "import numpy as np\n",
    "import matplotlib.pyplot as plt\n",
    "from matplotlib.patches import Rectangle\n",
    "from IPython.display import display, clear_output\n",
    "import ipywidgets as widgets\n",
    "\n",
    "def riemann_izquierda(f, a, b, n, graficar=False):\n",
    "    \"\"\"\n",
    "    Calcula la suma izquierda de Riemann y opcionalmente grafica los rectángulos\n",
    "    \n",
    "    Parámetros:\n",
    "    f : función a integrar (callable)\n",
    "    a, b : límites de integración\n",
    "    n : número de rectángulos\n",
    "    graficar : si es True, muestra la gráfica\n",
    "    \n",
    "    Retorna:\n",
    "    suma : aproximación de la integral\n",
    "    \"\"\"\n",
    "    delta_x = (b - a) / n\n",
    "    x = np.linspace(a, b, n+1)\n",
    "    x_left = x[:-1]  # Puntos izquierdos\n",
    "    \n",
    "    suma = np.sum(f(x_left) * delta_x)\n",
    "    \n",
    "    if graficar:\n",
    "        plt.figure(figsize=(10, 6))\n",
    "        \n",
    "        # Graficar la función\n",
    "        x_fine = np.linspace(a, b, 1000)\n",
    "        plt.plot(x_fine, f(x_fine), 'b-', linewidth=2, label='f(x)')\n",
    "        \n",
    "        # Graficar los rectángulos\n",
    "        for xi in x_left:\n",
    "            rect = Rectangle((xi, 0), delta_x, f(xi), \n",
    "                            edgecolor='r', facecolor='orange', alpha=0.4)\n",
    "            plt.gca().add_patch(rect)\n",
    "        \n",
    "        plt.title(f'Suma Izquierda de Riemann para n={n} rectángulos\\nÁrea aproximada: {suma:.4f}')\n",
    "        plt.xlabel('x')\n",
    "        plt.ylabel('f(x)')\n",
    "        plt.legend()\n",
    "        plt.grid(True)\n",
    "        plt.xlim(a, b)\n",
    "        plt.ylim(0, max(f(x_fine))*1.1)\n",
    "        plt.show()\n",
    "    \n",
    "    return suma\n",
    "\n",
    "# Widget interactivo\n",
    "def interact_riemann(n=(1, 100, 1)):\n",
    "    clear_output(wait=True)\n",
    "    a, b = 0, 2\n",
    "    f = lambda x: x**3 - 2*x**2 + 5\n",
    "    area = riemann_izquierda(f, a, b, n, graficar=True)\n",
    "    \n",
    "widgets.interact(interact_riemann, n=widgets.IntSlider(value=5, min=1, max=100, step=1, description='Rectángulos:'))\n",
    "```\n",
    "\n",
    "## 8. Canción/Poema para Interiorizar Conceptos\n",
    "\n",
    "**\"La Cumbia de Riemann\"**  \n",
    "*(Se canta con ritmo de cumbia colombiana)*\n",
    "\n",
    "*Un dos tres, Riemann va*  \n",
    "*midiendo áreas con su método de verdad*  \n",
    "*Con rectángulos a la izquierda*  \n",
    "*la aproximación nunca se pierde*  \n",
    "\n",
    "*Δx es el ancho*  \n",
    "*f(x) es la altura*  \n",
    "*la suma de todos*  \n",
    "*te da la figura*  \n",
    "\n",
    "*¡Ay! Cuanto más rectángulos tú pones*  \n",
    "*más exacto será el cálculo que obtienes*  \n",
    "*¡Eso es integración numérica, mi amor*  \n",
    "*Riemann nos enseñó con su rigor!*\n",
    "\n",
    "## 9. Tareas y Actividades de Fijación\n",
    "\n",
    "**Ejercicios Básicos:**\n",
    "1. Calcular manualmente la suma izquierda de Riemann para f(x) = 2x + 1 en [0,4] con n=4\n",
    "2. Programar una versión modificada que use puntos medios\n",
    "3. Comparar resultados con n=10, 100, 1000 para f(x) = sin(x) en [0,π]\n",
    "\n",
    "**Proyecto de Investigación:**\n",
    "- Analizar cómo varía el error al cambiar n para diferentes funciones\n",
    "- Crear una tabla comparativa entre métodos de Riemann izquierdo, derecho y medio\n",
    "\n",
    "**Desafío STEAM:**\n",
    "- Modelar el área de un lago usando datos reales de su contorno\n",
    "- Comparar con mediciones por satélite (Google Earth)\n"
   ]
  },
  {
   "cell_type": "markdown",
   "id": "28c34ae7",
   "metadata": {},
   "source": [
    "\n",
    "## 10. Evaluación\n",
    "\n",
    "**Proyectos:**\n",
    "1. Calculadora visual de Riemann con interfaz interactiva\n",
    "2. Análisis de convergencia para funciones discontinuas\n",
    "3. Aplicación a cálculo de trabajo en física\n",
    "4. Estimación de probabilidades con distribuciones continuas\n",
    "5. Comparación con otros métodos numéricos (trapecios, Simpson)\n",
    "6. Integración en coordenadas polares\n",
    "7. Cálculo de volúmenes de revolución\n",
    "8. Aplicación a economía: cálculo de excedente del consumidor\n",
    "9. Modelado de crecimiento poblacional\n",
    "10. Simulación de acumulación de contaminantes\n",
    "\n",
    "**Ejemplo de Quiz:**\n",
    "1. Defina con sus palabras el método de Sumas Izquierdas de Riemann\n",
    "2. Para f(x) = x² en [0,2] con n=4, calcule Δx y los puntos x_i\n",
    "3. ¿Cómo afecta aumentar n a la precisión del resultado?\n",
    "\n",
    "**Ejemplo de Parcial:**\n",
    "1. Demuestre que la suma de Riemann converge a la integral definida cuando n→∞\n",
    "2. Programe una función que calcule sumas derechas de Riemann\n",
    "3. Aplique el método para aproximar ∫(e^x)dx de 0 a 1 con error < 0.001\n"
   ]
  },
  {
   "cell_type": "markdown",
   "id": "9c54bb2b",
   "metadata": {},
   "source": [
    "\n",
    "## 11. Retroalimentación\n",
    "\n",
    "**Estrategias:**\n",
    "- Rúbrica de autoevaluación con criterios claros\n",
    "- Sesión de \"Museo Matemático\" donde los estudiantes exponen sus visualizaciones\n",
    "- Taller de corrección entre pares con guía estructurada\n",
    "- Video-feedback con comentarios sobre implementaciones Python\n",
    "- Foro de discusión sobre errores comunes y soluciones\n",
    "\n",
    "## 12. Vocabulario en Inglés\n",
    "\n",
    "**Términos clave:**\n",
    "- Riemann Sum - Suma de Riemann\n",
    "- Left Endpoint - Extremo izquierdo\n",
    "- Partition - Partición\n",
    "- Subinterval - Subintervalo\n",
    "- Numerical Integration - Integración numérica\n",
    "- Accuracy - Precisión\n",
    "- Convergence - Convergencia\n",
    "- Approximation - Aproximación\n",
    "- Definite Integral - Integral definida\n",
    "- Area under the curve - Área bajo la curva\n",
    "\n",
    "**Frases útiles:**\n",
    "- \"The left Riemann sum approaches the true area as n increases\"\n",
    "- \"We partition the interval into n equal subintervals\"\n",
    "- \"The approximation improves with finer partitions\"\n",
    "- \"The error decreases as we use more rectangles\"\n",
    "- \"Numerical methods provide approximate solutions to integrals\"\n",
    "\n",
    "## 13. Apéndice: Habilidades Blandas\n",
    "\n",
    "**Trabajo en Equipo:**\n",
    "- Técnica \"Puzzle\" para asignar roles (experto en matemáticas, programador, visualizador)\n",
    "- Rúbrica de coevaluación con criterios de colaboración\n",
    "\n",
    "**Inteligencia Emocional:**\n",
    "- Taller \"Errar es aprender\" para normalizar errores en el proceso\n",
    "- Técnicas de respiración para manejar ansiedad en evaluaciones\n",
    "\n",
    "**Tolerancia:**\n",
    "- Foro de discusión sobre contribuciones matemáticas de diversas culturas\n",
    "- Análisis de cómo diferentes enfoques (visual, numérico, analítico) enriquecen la comprensión\n",
    "\n",
    "## 14. Referentes en Didáctica (APA)\n",
    "\n",
    "1. Duval, R. (2006). A cognitive analysis of problems of comprehension in a learning of mathematics. *Educational Studies in Mathematics*, *61*(1-2), 103-131. https://doi.org/10.1007/s10649-006-0400-z\n",
    "\n",
    "2. Wing, J. M. (2006). Computational thinking. *Communications of the ACM*, *49*(3), 33-35. https://doi.org/10.1145/1118178.1118215\n",
    "\n",
    "3. Bergmann, J., & Sams, A. (2012). *Flip your classroom: Reach every student in every class every day*. International Society for Technology in Education.\n",
    "\n",
    "4. Sanders, M. (2009). STEM, STEM education, STEMmania. *The Technology Teacher*, *68*(4), 20-26.\n",
    "\n",
    "5. Thomas, J. W. (2000). *A review of research on project-based learning*. Autodesk Foundation.\n",
    "\n",
    "6. Polya, G. (1945). *How to solve it*. Princeton University Press.\n",
    "\n",
    "7. Schoenfeld, A. H. (1985). *Mathematical problem solving*. Academic Press.\n",
    "\n",
    "8. Boaler, J. (2016). *Mathematical mindsets: Unleashing students' potential through creative math, inspiring messages and innovative teaching*. John Wiley & Sons.\n",
    "\n",
    "9. Hiebert, J., & Grouws, D. A. (2007). The effects of classroom mathematics teaching on students' learning. *Second handbook of research on mathematics teaching and learning*, *1*, 371-404.\n",
    "\n",
    "10. National Council of Teachers of Mathematics. (2000). *Principles and standards for school mathematics*. NCTM."
   ]
  },
  {
   "cell_type": "markdown",
   "id": "3ff21a78",
   "metadata": {},
   "source": [
    "# Definición del calendario académico para los diferentes programas de pregrado de los campus regionalizados, correspondiente al primer periodo académico del año 2025, así:  \n",
    "\n",
    "\n",
    "* Límite evaluación del 40% 06 de abril de 2025\n",
    "* Terminación de clases 08 de junio de 2025\n",
    "* Exámenes finales 09 al 15 de junio de 2025\n",
    "* Habilitación y validación 16 al 22 de junio de 2025\n",
    "* Terminación oficial 23 de junio de 2025"
   ]
  },
  {
   "cell_type": "markdown",
   "id": "16db75dd",
   "metadata": {},
   "source": [
    "# Cursos que orienta el profesor Marco Julio Cañas Campillo en 2025  \n",
    "\n",
    "4. Cálculo Vectorial para Ingeniería Agropecuaria\n",
    "3. Análisis Numérico para Licenciatura en Matemáticas. \n",
    "5. Práctica Pedagógica V para Licenciatura en Educación Infantil\n",
    "6. Fundamentos de Lógica para Licenciatura en Matemáticas \n",
    "\n"
   ]
  },
  {
   "cell_type": "markdown",
   "id": "6dc378bc",
   "metadata": {},
   "source": [
    "# Horario de clases del profesor Marco\n",
    "\n",
    "* Lunes 8-12: Cálculo Vectorial\n",
    "* Martes 8-12 M: Fundamentos de Aritmética. \n",
    "* Miércoles 8 a 12 M: Fundamentos de la Lógica\n",
    "* Jueves 2 a 6 PM: Desarrollo del pensamiento matemático en la infancia. \n",
    "* Viernes 8 - 12 M: Desarrollo del pensamiento matemático en la infancia. \n",
    "* Sábados 8-12 Asesorías y espacio para retroalimentación y apoyo al trabajo independiente. "
   ]
  },
  {
   "cell_type": "markdown",
   "id": "8539e2e7",
   "metadata": {},
   "source": [
    "# Horarios de monitoría y asesoría  \n",
    "\n",
    "Coordinador de los cursos de la Facultad de Educación para regiones:    \n",
    "\n",
    "Andrés Vélez: regioneducacion.fedu@udea.edu.co  \n",
    "Coordinador Regiones  \n",
    "Facultad de Educación  \n",
    "Universidad de Antioquia  "
   ]
  },
  {
   "cell_type": "markdown",
   "id": "c7a9878e",
   "metadata": {},
   "source": [
    "## Monitor Manuel San Juan Serrano\n",
    "\n",
    "Contactar escribiendo al correo: manuel.serrano1@udea.edu.co"
   ]
  },
  {
   "cell_type": "markdown",
   "id": "0e37fcea",
   "metadata": {},
   "source": [
    "Martes y jueves de 8 - 12  \n",
    "Miércoles 10 - 12 y de 2 a 4 PM  \n",
    "Sábado: 8 - 12"
   ]
  },
  {
   "cell_type": "markdown",
   "id": "ba97c634",
   "metadata": {},
   "source": [
    "## Referentes "
   ]
  },
  {
   "cell_type": "markdown",
   "id": "070b45d2",
   "metadata": {},
   "source": [
    "* [CALCULO I DE UNA VARIABLE Ron Larson-Bruce Edwards. Mc Graw Hill. 9º Edición](https://www.academia.edu/42139251/CALCULO_I_DE_UNA_VARIABLE_Ron_Larson_Bruce_Edwards_Mc_Graw_Hill_9o_Edici%C3%B3n)   \n",
    "  \n",
    "\n",
    "* [Grajales Vanegas, L. M., Restrepo Estrada, C. E., Restrepo Ochoa, S. I., & Ruíz De Villalba, F. (2015). Matemáticas I para las ciencias económicas.](https://bibliotecadigital.udea.edu.co/handle/10495/3010)\n",
    "  \n",
    "* R. Duval y Semiosis y pensamiento humano, 2.ª ed. Cali, Colombia: Programa Editorial Universidad del Valle, 2017. [En línea]. Disponible en: https://programaeditorial.univalle.edu.co/gpd-semiosis-y-pensamiento-humano-9789587655278-63324cdb0f6b3.html\n",
    "\n",
    "* [Aylwin, C. U. (2011). Lógica, conjuntos y números. Universidad de los Andes, Consejo de Publicaciones, Colección: Ciencias Básicas, Serie: Matemáticas.](chrome-extension://efaidnbmnnnibpcajpcglclefindmkaj/https://www.u-cursos.cl/ciencias/2011/1/MC110/1/material_docente/bajar?id_material=574722)\n",
    "  \n",
    "* [Chollet, F. (2021). Deep learning with Python. Simon and Schuster.](chrome-extension://efaidnbmnnnibpcajpcglclefindmkaj/https://tanthiamhuat.wordpress.com/wp-content/uploads/2018/03/deeplearningwithpython.pdf)  \n",
    "  \n",
    "* [Watson, S., Stewart, J., & Redlin, L. (2009). Precálculo. Matemáticas para el cálculo.](https://github.com/marco-canas/calculo/blob/main/referents/1_precalculo_stewart/stewart_precalculo.pdf)  \n",
    "\n",
    "* [Purcell, E. J., Varberg, D., & Rigdon, S. E. (2007). Cálculo diferencial e integral. Pearson Educación.](https://github.com/marco-canas/calculo/blob/main/referents/purcell/purcell_calculo.pdf)\n",
    "\n",
    "  \n",
    "\n",
    "* [stewart cálculo](https://udeaeduco-my.sharepoint.com/:b:/g/personal/marco_canas_udea_edu_co/EZgXZjAp8QxPqOAim2hs6LcBNPLGjSHf-xwYnUVYkwa04w?e=RZdTCy)  \n",
    "\n",
    "\n",
    "\n",
    "\n",
    "\n",
    "* [Recomendación de la UNESCO sobre ciencia abierta](https://unesdoc.unesco.org/ark:/48223/pf0000379949_spa)\n",
    "\n",
    "* [chatGPT](https://openai.com/blog/chatgpt)  \n",
    "\n",
    "* [Géron, A. (2017). Hands-on machine learning with scikit-learn and tensorflow: Concepts. Tools, and Techniques to build intelligent systems.](chrome-extension://efaidnbmnnnibpcajpcglclefindmkaj/http://14.139.161.31/OddSem-0822-1122/Hands-On_Machine_Learning_with_Scikit-Learn-Keras-and-TensorFlow-2nd-Edition-Aurelien-Geron.pdf)   \n"
   ]
  },
  {
   "cell_type": "markdown",
   "id": "0daa0c0f",
   "metadata": {},
   "source": [
    "\n",
    "* [McKinney, W. (2012). Python for data analysis: Data wrangling with Pandas, NumPy, and IPython. \" O'Reilly Media, Inc.\".](https://wesmckinney.com/book/) "
   ]
  },
  {
   "cell_type": "markdown",
   "id": "ef740dda",
   "metadata": {},
   "source": [
    "# Como estudiante, encuentro que...   \n",
    "\n",
    "F: Mis Fortalezas son:     \n",
    "O: Mis Oportunidades son:    \n",
    "D: Mis Debilidades son:    \n",
    "A: Lo que Amenazas mi aprendizaje es:  "
   ]
  },
  {
   "cell_type": "markdown",
   "id": "81887266",
   "metadata": {},
   "source": [
    "### [Evaluamos al profesor Marco Cañas Aquí](https://forms.office.com/Pages/ResponsePage.aspx?id=IefhmYRxjkmK_7KtTlPBwkanXIs1i1FEujpsZgO6dXpUREJPV1kxUk1JV1ozTFJIQVNIQjY5WEY3US4u)"
   ]
  },
  {
   "cell_type": "markdown",
   "id": "0f4c5cc1",
   "metadata": {},
   "source": [
    "### Continue su aprendizaje en la siguiente clase a través del siguiente [vínculo]()"
   ]
  },
  {
   "cell_type": "markdown",
   "id": "bd1de953",
   "metadata": {},
   "source": [
    "## Agradecimientos  \n",
    "\n",
    "Doy gracias a Dios por la vida de mi Hijo Joseph Cañas Osorio y la madurez que ha alcanzado. Este hijo me enorgullece y me hace falta abrazarlo cada día. \n",
    "\n",
    "Y a mi esposa Yasmira Emperatriz Barboza Mogollón por su apoyo, orientación y acompañamiento. "
   ]
  },
  {
   "cell_type": "markdown",
   "id": "63319593",
   "metadata": {},
   "source": [
    "# Apéndice sobre calendarios y coordinaciones \n",
    "\n",
    "A continuación le envío el horario de la asignatura Cálculo Vectorial  \n",
    "\n",
    "Días:  \n",
    "Lunes - Hora: 7:00 a 12:00M  \n",
    "Fechas:  \n",
    "Febrero: 10-17-24                                          \n",
    " Marzo: 3-10-17-31                                                  \n",
    "Abril:7-21-28                                                   \n",
    "Mayo:5-12-19  \n",
    "\n",
    "Agradezco su apoyo, y si presenta alguna dificultad puede contactarme.  \n",
    "\n",
    "Cordialmente,  \n",
    "Juan Felipe Rivera Hernández  \n",
    "Contacto: 3106314300  "
   ]
  },
  {
   "cell_type": "markdown",
   "id": "a2af94f6",
   "metadata": {},
   "source": [
    "# Clase de análisis numérico los Martes de 8 a 12 del medio día. "
   ]
  },
  {
   "cell_type": "markdown",
   "id": "b3ee9d73",
   "metadata": {},
   "source": []
  }
 ],
 "metadata": {
  "kernelspec": {
   "display_name": ".venv",
   "language": "python",
   "name": "python3"
  },
  "language_info": {
   "codemirror_mode": {
    "name": "ipython",
    "version": 3
   },
   "file_extension": ".py",
   "mimetype": "text/x-python",
   "name": "python",
   "nbconvert_exporter": "python",
   "pygments_lexer": "ipython3",
   "version": "3.12.6"
  }
 },
 "nbformat": 4,
 "nbformat_minor": 5
}