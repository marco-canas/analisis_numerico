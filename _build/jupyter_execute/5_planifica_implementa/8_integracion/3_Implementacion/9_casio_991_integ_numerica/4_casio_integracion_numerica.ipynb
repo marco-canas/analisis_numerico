{
 "cells": [
  {
   "cell_type": "markdown",
   "id": "dc06dec7",
   "metadata": {
    "slideshow": {
     "slide_type": "slide"
    }
   },
   "source": [
    "<table align=\"left\">\n",
    "  <td>\n",
    "    <a href=\"https://colab.research.google.com/github/ageron/handson-ml3/blob/main/tools_numpy.ipynb\" target=\"_parent\"><img src=\"https://colab.research.google.com/assets/colab-badge.svg\" alt=\"Open In Colab\"/></a>\n",
    "  </td>\n",
    "  <td>\n",
    "    <a target=\"_blank\" href=\"https://kaggle.com/kernels/welcome?src=https://github.com/ageron/handson-ml3/blob/main/tools_numpy.ipynb\"><img src=\"https://kaggle.com/static/images/open-in-kaggle.svg\" /></a>\n",
    "  </td>\n",
    "</table>"
   ]
  },
  {
   "cell_type": "markdown",
   "id": "e0c5b198",
   "metadata": {
    "slideshow": {
     "slide_type": "slide"
    }
   },
   "source": [
    "### [Video de apoyo a la lectura interactiva y experimental de este cuaderno]()"
   ]
  },
  {
   "cell_type": "markdown",
   "id": "41e82203",
   "metadata": {
    "slideshow": {
     "slide_type": "slide"
    }
   },
   "source": [
    "### [Vínculo al programa del curso:  ]()\n",
    "\n"
   ]
  },
  {
   "cell_type": "markdown",
   "id": "d11ab06d",
   "metadata": {
    "slideshow": {
     "slide_type": "slide"
    }
   },
   "source": [
    "Un reconocimiento a mis estudiantes que han construido conmigo este saber pedagógico:\n",
    "\n",
    "<img src = ''> \n",
    "\n"
   ]
  },
  {
   "cell_type": "markdown",
   "id": "8a74a56c-0ce6-4ad6-b985-553fd7fb68bb",
   "metadata": {},
   "source": [
    "Reconocimiento a las profesoras destacadas en enseñanza de la matemática en Colombia\n"
   ]
  },
  {
   "cell_type": "code",
   "execution_count": null,
   "id": "7604880f",
   "metadata": {
    "slideshow": {
     "slide_type": "slide"
    }
   },
   "outputs": [],
   "source": [
    "import pandas as pd\n",
    "import numpy as np\n",
    "\n",
    "# Cargar la lista de estudiantes desde el archivo CSV\n",
    "path = 'C:/Users/marco/Documentos/docencia/groups_list/geometria.csv'\n",
    "estudiantes = pd.read_csv(path)\n",
    "estudiantes['Parcial'] = estudiantes['Parcial'].astype(float)  # Asegurar que la columna 'Parcial' es float\n",
    "\n",
    "# Convertir la columna 'Nombre' a una lista de Python\n",
    "lista_estudiantes = estudiantes['Nombre'].tolist()\n",
    "\n",
    "# Función para llamar a un estudiante aleatoriamente y registrar su nota de seguimiento\n",
    "def asistencia():\n",
    "    global lista_estudiantes\n",
    "    if lista_estudiantes:\n",
    "        estudiante_aleatorio = np.random.choice(lista_estudiantes)\n",
    "        print(f\"Llamando a {estudiante_aleatorio}...\")\n",
    "        asistencia = input(f\"¿Asistió {estudiante_aleatorio}? (s/n): \").strip().lower()\n",
    "        \n",
    "        # Validación de entrada\n",
    "        if asistencia == 's':\n",
    "            # Obtener el índice del estudiante en el DataFrame\n",
    "            indice = estudiantes[estudiantes['Nombre'] == estudiante_aleatorio].index[0]\n",
    "            # Incrementar su valor en la columna 'Parcial'\n",
    "            estudiantes.at[indice, 'Parcial'] += 0.3\n",
    "            print(f\"Actualizado: {estudiante_aleatorio} ahora tiene {estudiantes.at[indice, 'Parcial']} en la columna 'Parcial'.\")\n",
    "        \n",
    "        elif asistencia != 'n':\n",
    "            print(\"Entrada inválida. Por favor, introduce 's' para sí o 'n' para no.\")\n",
    "            return  # Volver a preguntar para el mismo estudiante si la entrada es inválida\n",
    "        \n",
    "        # Remover al estudiante de la lista para no llamarlo de nuevo\n",
    "        lista_estudiantes.remove(estudiante_aleatorio)\n",
    "    else:\n",
    "        print(\"Se han llamado a todos los estudiantes del grupo completo.\")\n",
    "\n",
    "# Función para guardar cambios al final de la sesión\n",
    "def guardar_cambios():\n",
    "    estudiantes.to_csv(path, index=False)\n",
    "    print(\"Cambios guardados en el archivo CSV.\")\n",
    "\n",
    "# Ejemplo de uso\n",
    "while lista_estudiantes:\n",
    "    asistencia()\n",
    "\n",
    "# Guardar los cambios una vez que todos los estudiantes hayan sido llamados\n",
    "guardar_cambios()\n",
    "\n"
   ]
  },
  {
   "cell_type": "markdown",
   "id": "d7598d0a-d9b7-4ae0-b029-a0ed6ed1130b",
   "metadata": {},
   "source": [
    "\n",
    "# Principios de mi labor docente"
   ]
  },
  {
   "cell_type": "markdown",
   "id": "4f9d8cf9",
   "metadata": {
    "slideshow": {
     "slide_type": "slide"
    }
   },
   "source": [
    "## Modelo general de clase: [aula invertida](https://www3.gobiernodecanarias.org/medusa/ecoescuela/pedagotic/aprendizaje-invertido-flipped-classroom/)"
   ]
  },
  {
   "cell_type": "markdown",
   "id": "eb6ed03a",
   "metadata": {},
   "source": [
    "<img src = 'https://resources.maneuveringthemiddle.com/wp-content/uploads/2020/07/04212706/1-5.png' width = 200>  \n",
    "\n"
   ]
  },
  {
   "cell_type": "markdown",
   "id": "34319cce-a71b-4f64-aab8-b53e521efa40",
   "metadata": {},
   "source": [
    "# Metodología de enseñanza basada en problemas (ABP)\n"
   ]
  },
  {
   "cell_type": "markdown",
   "id": "c4f73d81",
   "metadata": {},
   "source": [
    "\n",
    "<img src = 'https://www.unir.net/wp-content/uploads/2020/07/aprendizaje-problemas2-1-1-1-1.jpeg' width = 200>"
   ]
  },
  {
   "cell_type": "markdown",
   "id": "841a985c-bd9b-4dd3-8e4c-893983980af2",
   "metadata": {},
   "source": [
    "# Desarrollo del pensamiento computacional con Lenguaje R y con archivos R Markdown orientado a la formación en ciencia de datos \n",
    "\n"
   ]
  },
  {
   "cell_type": "markdown",
   "id": "3d0eba94",
   "metadata": {},
   "source": [
    "\n",
    "<img src = 'https://i.ytimg.com/vi/mcG_wcR4e6M/maxresdefault.jpg' width = 200>"
   ]
  },
  {
   "cell_type": "markdown",
   "id": "65aa0404-f7ae-495e-864c-1aec01b4255e",
   "metadata": {},
   "source": [
    "# Principio de fomento a la ciencia abierta, enseñar en el acceso a los datos públicos y el uso de software de código abierto  \n"
   ]
  },
  {
   "cell_type": "markdown",
   "id": "18ae9b87",
   "metadata": {},
   "source": [
    "\n",
    "<img src = 'https://unesdoc.unesco.org/in/rest/Thumb/image?id=p%3A%3Ausmarcdef_0000379949_spa&author=UNESCO&title=Recomendaci%C3%B3n+de+la+UNESCO+sobre+la+Ciencia+Abierta&year=2021&publisher=UNESCO&TypeOfDocument=UnescoPhysicalDocument&mat=PGD&ct=true&size=512&isPhysical=1' width = 200>"
   ]
  },
  {
   "cell_type": "markdown",
   "id": "d9559f85",
   "metadata": {},
   "source": [
    "El enfoque STEAMS en educación preescolar, primaria y secundaria es una extensión del enfoque STEM (Ciencia, Tecnología, Ingeniería y Matemáticas) y su variante STEAM, que incorpora el Arte. "
   ]
  },
  {
   "cell_type": "markdown",
   "id": "72e1cfd2",
   "metadata": {},
   "source": [
    "El acrónimo STEAMS incluye:\n"
   ]
  },
  {
   "cell_type": "markdown",
   "id": "03182fd1",
   "metadata": {},
   "source": [
    "\n",
    "1. **Science (Ciencia):** Fomenta la curiosidad por el mundo natural y el desarrollo de habilidades científicas, como la observación, experimentación y análisis.\n"
   ]
  },
  {
   "cell_type": "markdown",
   "id": "1306d0fa",
   "metadata": {},
   "source": [
    "\n",
    "2. **Technology (Tecnología):** Integra herramientas tecnológicas para potenciar el aprendizaje y la resolución de problemas, promoviendo la alfabetización digital desde edades tempranas.\n"
   ]
  },
  {
   "cell_type": "markdown",
   "id": "3b1a53e8",
   "metadata": {},
   "source": [
    "\n",
    "3. **Engineering (Ingeniería):** Introduce el pensamiento lógico y la resolución de problemas estructurados, fomentando habilidades como el diseño y la construcción de soluciones.\n"
   ]
  },
  {
   "cell_type": "markdown",
   "id": "0196de87",
   "metadata": {},
   "source": [
    "\n",
    "4. **Arts (Arte):** Añade creatividad y pensamiento crítico, permitiendo a los estudiantes expresarse y explorar el aprendizaje a través de formas artísticas (plásticas, música, teatro).\n"
   ]
  },
  {
   "cell_type": "markdown",
   "id": "8bcc485a",
   "metadata": {},
   "source": [
    "\n",
    "5. **Mathematics (Matemáticas):** Refuerza las habilidades numéricas y el razonamiento lógico, fundamentales en la resolución de problemas y comprensión de conceptos abstractos.\n"
   ]
  },
  {
   "cell_type": "markdown",
   "id": "907935f4",
   "metadata": {},
   "source": [
    "\n",
    "6. **Social Sciences (Ciencias Sociales):** Incorpora la comprensión del entorno social, político, cultural y económico, promoviendo el desarrollo de la conciencia crítica sobre el mundo y su historia, además de habilidades de empatía y ciudadanía.\n"
   ]
  },
  {
   "cell_type": "markdown",
   "id": "39967d63",
   "metadata": {},
   "source": [
    "\n",
    "El enfoque STEAMS pretende desarrollar un aprendizaje **interdisciplinario** que integre estas áreas para fomentar un pensamiento más holístico y práctico. "
   ]
  },
  {
   "cell_type": "markdown",
   "id": "5145f077",
   "metadata": {},
   "source": [
    "Se busca que los estudiantes no solo aprendan conocimientos técnicos, sino también cómo aplicarlos creativa y críticamente en situaciones reales, promoviendo habilidades como el trabajo en equipo, la comunicación y la innovación. "
   ]
  },
  {
   "cell_type": "markdown",
   "id": "9d556584",
   "metadata": {},
   "source": [
    "En educación preescolar, primaria, secundaria y superior, se adapta a las diferentes etapas de desarrollo cognitivo y emocional de los estudiantes, promoviendo el aprendizaje activo y contextualizado.  \n"
   ]
  },
  {
   "cell_type": "markdown",
   "id": "0130ec1b",
   "metadata": {},
   "source": [
    "\n",
    "<img src = 'https://www.campuseducacion.com/blog/wp-content/uploads/2023/03/foto01-1.jpg' width = 200>"
   ]
  },
  {
   "cell_type": "markdown",
   "id": "9d15c10d-2c02-4158-9419-b1ed79b4c1ee",
   "metadata": {},
   "source": [
    "# Qué estamos haciendo por la internalización en esta clase y este curso  \n"
   ]
  },
  {
   "cell_type": "markdown",
   "id": "6e4feef2",
   "metadata": {},
   "source": [
    "Estas son mis acciones como docente de matemáticas en la Universidad de Antioquia con miras a la **internacionalización** de mi práctica docente y el desarrollo de competencias internacionales para mis estudiantes, ls cuales he estructurado con el siguiente enfoque:\n"
   ]
  },
  {
   "cell_type": "markdown",
   "id": "964d9de7-53ee-4255-9bcd-d8e6454f2993",
   "metadata": {},
   "source": [
    "### 1. **Visión Global en la Formación Académica**\n"
   ]
  },
  {
   "cell_type": "markdown",
   "id": "d9bdd3e2",
   "metadata": {},
   "source": [
    "   - **Competencias Internacionales**: Asegúrate de que el contenido de tus cursos fomente habilidades que sean reconocidas globalmente. Al educar a los estudiantes en **Python, LaTeX, Markdown y Jupyter Notebooks** y en la **introducción a la ciencia de datos y técnicas de Machine Learning**, estás proporcionando competencias altamente demandadas en los sectores tecnológicos y académicos a nivel internacional.\n"
   ]
  },
  {
   "cell_type": "markdown",
   "id": "39b55206",
   "metadata": {},
   "source": [
    "   - **Relevancia de los Contenidos**: Destaca cómo los temas que enseñas, como el **desarrollo del pensamiento computacional** y la **ciencia de datos**, están alineados con las necesidades globales actuales en diversas industrias, desde la tecnología hasta las ciencias naturales y sociales.\n"
   ]
  },
  {
   "cell_type": "markdown",
   "id": "a054599e",
   "metadata": {},
   "source": [
    "   - **Referencias a Estándares Internacionales**: Puedes vincular tu enseñanza a estándares internacionales de competencias en programación y ciencia de datos (por ejemplo, frameworks del **IEEE, ACM**, y estándares de la **data science** o la **computación en la nube**)."
   ]
  },
  {
   "cell_type": "markdown",
   "id": "0f1d110c-3142-48fe-9e7d-5fbd9e8bb931",
   "metadata": {},
   "source": [
    "### 2. **Innovación Pedagógica con Enfoque Internacional**\n"
   ]
  },
  {
   "cell_type": "markdown",
   "id": "fae6ae34",
   "metadata": {},
   "source": [
    "   - **Aula Invertida y ABP**: Presenta cómo tu enfoque de **aula invertida** y **aprendizaje basado en problemas (ABP)** permite a los estudiantes trabajar de manera autónoma y colaborativa, lo que los prepara para escenarios laborales internacionales que requieren autoaprendizaje y habilidades de resolución de problemas en equipo.\n"
   ]
  },
  {
   "cell_type": "markdown",
   "id": "c83062d9",
   "metadata": {},
   "source": [
    "   - **Uso de Jupyter Notebooks**: El uso de **Jupyter Notebooks** en tus clases no solo facilita la **integración de código, matemáticas y texto**, sino que también es una plataforma utilizada globalmente en ambientes académicos y profesionales, lo que hace a tus estudiantes más competitivos internacionalmente."
   ]
  },
  {
   "cell_type": "markdown",
   "id": "960d52b7-03cd-4eb3-965e-5cdfeb7d9f8e",
   "metadata": {},
   "source": [
    "### 3. **Tecnología y Herramientas de Uso Global**\n"
   ]
  },
  {
   "cell_type": "markdown",
   "id": "4be7269f",
   "metadata": {},
   "source": [
    "   - **Lenguaje Python**: Python es uno de los lenguajes de programación más usados a nivel mundial, tanto en la academia como en la industria. "
   ]
  },
  {
   "cell_type": "markdown",
   "id": "5abb1c38",
   "metadata": {},
   "source": [
    "Al formar a tus estudiantes en Python para ciencia de datos y machine learning, los preparas para operar en entornos tecnológicos globales.\n"
   ]
  },
  {
   "cell_type": "markdown",
   "id": "102655af",
   "metadata": {},
   "source": [
    "   - **Herramientas de Ciencia Abierta**: Resalta cómo herramientas como **GitHub**, **Google Colab** y otras plataformas de código abierto están alineadas con el movimiento de **ciencia abierta**, el cual es internacionalmente reconocido y permite que los estudiantes colaboren y compartan proyectos a nivel global."
   ]
  },
  {
   "cell_type": "markdown",
   "id": "3b2ffa32-7a6f-4545-ba7b-c6a69f51109f",
   "metadata": {},
   "source": [
    "### 4. **Investigación y Publicaciones Internacionales**\n"
   ]
  },
  {
   "cell_type": "markdown",
   "id": "bdbf52a5",
   "metadata": {},
   "source": [
    "   - **Promoción de la Investigación**: Detalla cómo promueves que tus estudiantes participen en proyectos de **investigación aplicada**, con posibilidad de publicación en revistas internacionales. Esto contribuye a la reputación internacional de la Universidad de Antioquia.\n"
   ]
  },
  {
   "cell_type": "markdown",
   "id": "ea01fcbc",
   "metadata": {},
   "source": [
    "   - **Colaboraciones Internacionales**: Si has colaborado con investigadores de otras instituciones o universidades en el extranjero, menciona estos proyectos y cómo han enriquecido tu enseñanza y proporcionado a los estudiantes una visión más globalizada."
   ]
  },
  {
   "cell_type": "markdown",
   "id": "5d1e396e-aece-4bf7-9421-32fa7809eaf4",
   "metadata": {},
   "source": [
    "## 5. **Uso del Inglés para la Internacionalización**\n"
   ]
  },
  {
   "cell_type": "markdown",
   "id": "29cabf26",
   "metadata": {},
   "source": [
    "   - **Comunicación Científica en Inglés**: "
   ]
  },
  {
   "cell_type": "markdown",
   "id": "8ec53ff3",
   "metadata": {},
   "source": [
    "Fomentar el aprendizaje del inglés como lengua científica es clave para que tus estudiantes puedan acceder a publicaciones internacionales, conferencias, y material académico que no está disponible en español. "
   ]
  },
  {
   "cell_type": "markdown",
   "id": "3afdef3a",
   "metadata": {},
   "source": [
    "Esto es esencial para que adquieran competencias que les permitan desempeñarse en cualquier contexto internacional.\n"
   ]
  },
  {
   "cell_type": "markdown",
   "id": "b831224f",
   "metadata": {},
   "source": [
    "   - **Material Bilingüe**: Al generar material educativo en Python, LaTeX y Markdown, considera ofrecer algunos de estos recursos en inglés, para que los estudiantes se familiaricen con el vocabulario técnico y científico internacional."
   ]
  },
  {
   "cell_type": "markdown",
   "id": "c6a8c3b0-426a-4692-a384-3065aea81c9a",
   "metadata": {},
   "source": [
    "### 6. **Certificaciones y Estándares Internacionales**\n"
   ]
  },
  {
   "cell_type": "markdown",
   "id": "b1f41da5",
   "metadata": {},
   "source": [
    "   - **Participación en Certificaciones Internacionales**: Impulsa que los estudiantes busquen certificaciones internacionales en Python o ciencia de datos (como las ofrecidas por **Coursera, edX,** o **Google**). "
   ]
  },
  {
   "cell_type": "markdown",
   "id": "bd7c21e2",
   "metadata": {},
   "source": [
    "Estas certificaciones no solo validan sus competencias, sino que también incrementan el reconocimiento de la Universidad de Antioquia en el contexto internacional.\n"
   ]
  },
  {
   "cell_type": "markdown",
   "id": "7cc66317",
   "metadata": {},
   "source": [
    "   - **Alineación con Acreditaciones Internacionales**: Vincula tu trabajo docente con los estándares de acreditación y certificación que garantizan que la universidad siga siendo reconocida internacionalmente. "
   ]
  },
  {
   "cell_type": "markdown",
   "id": "19c5e839",
   "metadata": {},
   "source": [
    "Puedes vincularte con organizaciones internacionales que promuevan la excelencia en la educación y tecnología, como **ABET** para la acreditación en ingeniería y ciencias computacionales."
   ]
  },
  {
   "cell_type": "markdown",
   "id": "65d3d9e1-ea84-43e0-8197-a2a9c9e21594",
   "metadata": {},
   "source": [
    "### 7. **Proyectos Abiertos y Ciencia Reproducible**\n"
   ]
  },
  {
   "cell_type": "markdown",
   "id": "f03f7b20",
   "metadata": {},
   "source": [
    "   - **GitHub y Open Science**: La utilización de **GitHub** para almacenar los proyectos y materiales de enseñanza en repositorios públicos permite que otros investigadores y educadores internacionales puedan revisar y replicar tu trabajo. Esto contribuye a la creación de una red de colaboración científica abierta.\n"
   ]
  },
  {
   "cell_type": "markdown",
   "id": "ea9af834",
   "metadata": {},
   "source": [
    "   - **Transparencia y Reproducibilidad**: La ciencia de datos y machine learning están profundamente ligados a la reproducibilidad. Asegura que tus estudiantes desarrollen prácticas de transparencia y documentación en la investigación, que son pilares en la comunidad científica global.\n"
   ]
  },
  {
   "cell_type": "markdown",
   "id": "215cb551",
   "metadata": {},
   "source": [
    "\n",
    "### 8. **Participación en Redes y Conferencias Internacionales**\n",
    "   - **Presentación en Conferencias Internacionales**: Destaca cómo tu participación en conferencias internacionales (como la **ASCOLFA** o eventos sobre educación en matemáticas) contribuye al prestigio de la universidad y permite que tus prácticas sean evaluadas y reconocidas a nivel global.\n"
   ]
  },
  {
   "cell_type": "markdown",
   "id": "cdf46e29",
   "metadata": {},
   "source": [
    "   - **Promoción de Estudiantes en Eventos Internacionales**: Impulsa la participación de tus estudiantes en competiciones internacionales de programación o hackathons, como los organizados por **Google**, **ACM** o **Kaggle**. "
   ]
  },
  {
   "cell_type": "markdown",
   "id": "f3f70943",
   "metadata": {},
   "source": [
    "Esto no solo desarrolla sus habilidades, sino que también visibiliza el talento de la Universidad de Antioquia a nivel global.\n",
    "\n"
   ]
  },
  {
   "cell_type": "markdown",
   "id": "233294a4-1983-4641-a7ad-866825e02315",
   "metadata": {},
   "source": [
    "Con esta estrategia, presento mis acciones docentes en términos de competencias internacionales, innovación pedagógica, tecnología, investigación y participación en redes globales, asegurando que mi práctica esté alineada con los estándares internacionales y que tus estudiantes estén preparados para competir en contextos internacionales."
   ]
  },
  {
   "cell_type": "markdown",
   "id": "77da458b",
   "metadata": {},
   "source": [
    "### **Metodología de Enseñanza: Aprendizaje Basado en Problemas y Proyectos (ABPP)**\n"
   ]
  },
  {
   "cell_type": "markdown",
   "id": "c943d273",
   "metadata": {},
   "source": [
    "\n",
    "El **Aprendizaje Basado en Problemas y Proyectos (ABPP)** es una metodología educativa que integra los enfoques del **Aprendizaje Basado en Problemas (ABP)** y el **Aprendizaje Basado en Proyectos (PBL, por sus siglas en inglés)**. "
   ]
  },
  {
   "cell_type": "markdown",
   "id": "ad0e0bf3",
   "metadata": {},
   "source": [
    "Es especialmente útil para la formación de futuros docentes, ingenieros y administradores, ya que combina el desarrollo de habilidades prácticas con el pensamiento crítico y reflexivo. "
   ]
  },
  {
   "cell_type": "markdown",
   "id": "137b18e2",
   "metadata": {},
   "source": [
    "A continuación, se presenta una descripción adaptada a la enseñanza de las matemáticas en educación infantil, Licenciatura en Matemáticas, Ingeniería Agropecuaria y Administración de Empresas:\n",
    "\n",
    "---\n"
   ]
  },
  {
   "cell_type": "markdown",
   "id": "0eeba3f5",
   "metadata": {},
   "source": [
    "\n",
    "### **1. Fundamentos del ABPP**\n"
   ]
  },
  {
   "cell_type": "markdown",
   "id": "e127d644",
   "metadata": {},
   "source": [
    "El ABPP se basa en:\n",
    "- **Resolución de Problemas Reales:** Los estudiantes analizan y resuelven problemas auténticos relacionados con su área de formación, fomentando la aplicación práctica del conocimiento.\n"
   ]
  },
  {
   "cell_type": "markdown",
   "id": "2769689c",
   "metadata": {},
   "source": [
    "- **Proyectos como Herramientas Integradoras:** Los proyectos permiten desarrollar habilidades interdisciplinarias y ofrecer soluciones concretas a los problemas planteados.\n"
   ]
  },
  {
   "cell_type": "markdown",
   "id": "d343a03f",
   "metadata": {},
   "source": [
    "- **Aprendizaje Activo:** Los estudiantes son responsables de su aprendizaje y participan activamente en el proceso de investigación, diseño y solución.\n",
    "\n",
    "---\n"
   ]
  },
  {
   "cell_type": "markdown",
   "id": "3728d010",
   "metadata": {},
   "source": [
    "\n",
    "### **2. Aplicación del ABPP en Áreas Específicas**\n"
   ]
  },
  {
   "cell_type": "markdown",
   "id": "967cefe8",
   "metadata": {},
   "source": [
    "\n",
    "#### **Educación Infantil (Licenciatura en Educación Infantil)**\n",
    "- **Enfoque:** Desarrollo del pensamiento matemático en la infancia desde contextos lúdicos, familiares y culturales.\n"
   ]
  },
  {
   "cell_type": "markdown",
   "id": "3c0a1103",
   "metadata": {},
   "source": [
    "- **Problemas típicos:** \n",
    "  - ¿Cómo enseñar los números naturales mediante actividades prácticas y juegos?\n",
    "  - ¿Qué estrategias pueden emplearse para abordar el concepto de cantidad en edades tempranas?\n"
   ]
  },
  {
   "cell_type": "markdown",
   "id": "d00f566e",
   "metadata": {},
   "source": [
    "- **Proyectos:** Diseño de secuencias didácticas que usen Python, Jupyter Notebooks y materiales manipulativos para enseñar matemáticas de forma interactiva.\n"
   ]
  },
  {
   "cell_type": "markdown",
   "id": "9c58539c",
   "metadata": {},
   "source": [
    "- **Competencias desarrolladas:** \n",
    "  - Uso de herramientas tecnológicas para diseñar actividades educativas.\n",
    "  - Comprensión del desarrollo cognitivo infantil y su relación con las matemáticas.\n"
   ]
  },
  {
   "cell_type": "markdown",
   "id": "481f614a",
   "metadata": {},
   "source": [
    "\n",
    "#### **Licenciatura en Matemáticas**\n",
    "- **Enfoque:** Resolución de problemas matemáticos aplicados y profundización teórica en áreas como análisis matemático y modelado.\n"
   ]
  },
  {
   "cell_type": "markdown",
   "id": "e535c2f8",
   "metadata": {},
   "source": [
    "- **Problemas típicos:**\n",
    "  - ¿Cómo se pueden resolver ecuaciones diferenciales aplicadas a modelos físicos o económicos?\n",
    "  - ¿Cómo modelar fenómenos naturales mediante funciones matemáticas?\n"
   ]
  },
  {
   "cell_type": "markdown",
   "id": "1e4ab50a",
   "metadata": {},
   "source": [
    "- **Proyectos:** \n",
    "  - Desarrollo de software educativo para explorar conceptos matemáticos.\n",
    "  - Aplicación de modelado matemático para resolver problemas reales en otras disciplinas.\n"
   ]
  },
  {
   "cell_type": "markdown",
   "id": "1da7c262",
   "metadata": {},
   "source": [
    "- **Competencias desarrolladas:**\n",
    "  - Dominio de la matemática teórica y aplicada.\n",
    "  - Uso de tecnología para la enseñanza y la investigación.\n"
   ]
  },
  {
   "cell_type": "markdown",
   "id": "83ab236f",
   "metadata": {},
   "source": [
    "\n",
    "#### **Ingeniería Agropecuaria**\n",
    "- **Enfoque:** Modelado matemático y análisis de datos para mejorar la producción agrícola y la gestión de recursos.\n",
    "- **Problemas típicos:**\n",
    "  - ¿Cómo modelar el crecimiento de cultivos considerando variables climáticas?\n",
    "  - ¿Cómo optimizar el uso del agua en sistemas de riego mediante análisis matemático?\n"
   ]
  },
  {
   "cell_type": "markdown",
   "id": "9bfe43ae",
   "metadata": {},
   "source": [
    "- **Proyectos:** \n",
    "  - Desarrollo de modelos predictivos con Python y bibliotecas de aprendizaje automático.\n",
    "  - Implementación de proyectos que combinen matemáticas y ciencias de datos para resolver problemas agrícolas.\n",
    "- **Competencias desarrolladas:**\n",
    "  - Integración de matemáticas con tecnologías avanzadas.\n",
    "  - Resolución de problemas agropecuarios mediante análisis y modelado.\n"
   ]
  },
  {
   "cell_type": "markdown",
   "id": "c4519bb3",
   "metadata": {},
   "source": [
    "\n",
    "#### **Administración de Empresas**\n",
    "- **Enfoque:** Uso de las matemáticas y la ciencia de datos para la toma de decisiones estratégicas.\n",
    "- **Problemas típicos:**\n",
    "  - ¿Cómo identificar patrones de comportamiento del consumidor usando series de tiempo?\n",
    "  - ¿Qué estrategias matemáticas pueden optimizar la asignación de recursos en una empresa?\n"
   ]
  },
  {
   "cell_type": "markdown",
   "id": "68f0b528",
   "metadata": {},
   "source": [
    "- **Proyectos:** \n",
    "  - Implementación de modelos de análisis financiero y simulaciones.\n",
    "  - Desarrollo de dashboards interactivos para la gestión de datos empresariales.\n",
    "- **Competencias desarrolladas:**\n",
    "  - Habilidad para interpretar datos matemáticos en contextos de negocio.\n",
    "  - Capacidad para diseñar soluciones basadas en datos.\n",
    "\n",
    "---\n"
   ]
  },
  {
   "cell_type": "markdown",
   "id": "19be58d4",
   "metadata": {},
   "source": [
    "\n",
    "### **3. Beneficios del ABPP**\n",
    "- **Desarrollo de competencias clave:**\n",
    "  - Pensamiento crítico y creativo.\n",
    "  - Trabajo colaborativo.\n",
    "  - Comunicación efectiva.\n",
    "  - Uso de herramientas tecnológicas avanzadas.\n"
   ]
  },
  {
   "cell_type": "markdown",
   "id": "680b5502",
   "metadata": {},
   "source": [
    "- **Adaptación al contexto laboral:** Los estudiantes aprenden a enfrentar desafíos del mundo real y a diseñar soluciones prácticas y aplicables.\n",
    "- **Flexibilidad e interdisciplinariedad:** La metodología se adapta a diversas áreas, fomentando el aprendizaje integrado.\n",
    "\n",
    "---\n"
   ]
  },
  {
   "cell_type": "markdown",
   "id": "e36034c3",
   "metadata": {},
   "source": [
    "\n",
    "### **4. Ejemplo General de Implementación**\n",
    "1. **Identificación del problema:** Se plantea un desafío concreto, como modelar el crecimiento poblacional de una comunidad rural (Ingeniería Agropecuaria) o diseñar una estrategia para enseñar fracciones a niños de 8 años (Educación Infantil).\n",
    "2. **Formación de equipos:** Los estudiantes trabajan en grupos, distribuyendo roles y tareas.\n",
    "3. **Investigación y diseño:** Los estudiantes investigan el problema, proponen soluciones y diseñan un proyecto.\n",
    "4. **Implementación:** Se desarrolla el proyecto, como una herramienta tecnológica o una propuesta pedagógica.\n",
    "5. **Evaluación:** Los estudiantes presentan sus resultados en un informe o una exposición, recibiendo retroalimentación de sus compañeros y docentes.\n"
   ]
  },
  {
   "cell_type": "markdown",
   "id": "ec7fb2b7",
   "metadata": {},
   "source": [
    "\n",
    "\n",
    "\n",
    "El ABPP es una metodología versátil que conecta el conocimiento teórico con la práctica, preparando a los estudiantes para los retos de sus profesiones en la enseñanza de la matemática, la ingeniería y la administración."
   ]
  },
  {
   "cell_type": "markdown",
   "id": "8d97dc80",
   "metadata": {
    "slideshow": {
     "slide_type": "slide"
    }
   },
   "source": [
    "## Fomento de la lectura literaria asociada a Ingeniería agropecuaria y licenciatura en Matemáticas\n",
    "\n",
    "[Aprender a obtener el sí sin ceder]()"
   ]
  },
  {
   "cell_type": "markdown",
   "id": "96775931",
   "metadata": {
    "slideshow": {
     "slide_type": "slide"
    }
   },
   "source": [
    "## Título de la clase:   \n",
    "\n",
    "[]()"
   ]
  },
  {
   "cell_type": "code",
   "execution_count": null,
   "id": "28bae6cb",
   "metadata": {},
   "outputs": [],
   "source": [
    "def save_fig(nombre_archivo_imagen):\n",
    "    import os \n",
    "    import matplotlib.pyplot as plt \n",
    "    ubicacion_para_imagenes = r\"C:/Users/marco/Descargas\"\n",
    "    imagen_path = os.path.join(ubicacion_para_imagenes, nombre_archivo_imagen)\n",
    "    plt.savefig(imagen_path, bbox_inches='tight')"
   ]
  },
  {
   "cell_type": "markdown",
   "id": "10e55ccf",
   "metadata": {},
   "source": [
    "# Estructura general para todas las clases\n",
    "\n",
    "Dame, por favor, un diseño de clase, con el enfoque: \"Aula Invertida, STEAMS y De aprendizaje basado en problemas y proyectos(ABPP)\" sobre: \"Taller sobre integración numérica con la Calculadora Casio fx 991 LA cw ppara firmación de Licenciados en Matemáticas  e Ingenieros agropecuarios\", siguiendo la estructura:  \n",
    "\n",
    "1. Título de la clase   \n",
    "   \n",
    "2. Objetivos de aprendizaje que incluyan los indicadores del logro de estos objetivos.\n",
    "   \n",
    "3. Un mapa conceptual que resuma la clase elaborado en Graphviz de python con nodos y edges de diferentes formas, colores y rellenos y renderizado en la siguiente ubicación: `\"C:/Users/marco/Descargas\"`. No olvides el parámetro `view = True` para el método `render()` de Graphviz. Para este mapa controla las superposiciones de los nodos con: graph [overlap=false]; // Elimina superposiciones (puede aumentar el espacio)\n",
    "graph [overlap=\"scalexy\"]; // Escala el gráfico para evitar overlaps\n",
    "graph [overlap=\"compress\"]; // Comprime el grafo sin overlaps  \n",
    "   \n",
    "4. Dame elementos históricos y epistemológicos asociados a esta clase, pero contados como un cuento al estilo de un cuentero antioqueño en Colombia. Incluye imágenes de los protagonistas históricos de esta clase. \n",
    "5. Contenido de la clase. Que el contenido parta de una situación real para llegar a una constitución del modelo matemático que represente tal situación real.    \n",
    "   \n",
    "     * Incluye una visualización con matplotlib y ipywidgets de python de la formación de los puntos $x_{i-1}$ de una partición regular del dominio $[a, b]$ de una función $f$ y la interpretación de $f(x_{i-1})$ como alturas o longitudes de la función en los puntos $x_{i-1}$, resaltando en color rojo a estos segmentos. Pero donde el deslizador representa la variable $i$ de los extremos izquierdos de los subintervalos. Para $n = 5$ fijo. Y que los rectángulos sean visibles. \n",
    "     * Incluye una visualización con matplotlib y ipywidgets de python de la formación de los puntos $x_{i-1}$ de una partición regular del dominio $[a, b]$ de una función $f$ y la interpretación de $f(x_{i-1})$ como alturas o longitudes de la función en los puntos $x_{i-1}$, resaltando en color rojo a estos segmentos. Donde el deslizador represente la variable $n$ de la partición regular.  Y que los rectángulos sean visibles.  \n",
    "     * Incluye en este contenido una visualización con matplotlib de python de la interpretación geométrica de los puntos distinguidos ($x_{i-1}$) de una partición regular del dominio $[a,b]$ de una función $f$ y la interpretación de $f(x_{i-1})$ (Coloreando en rojo estos segmentos verticales) como alturas o longitudes de la función en los puntos $x_{i-1}$.  \n",
    "\n",
    "\n",
    "6. Deducción de una función de usuario de python, que permita determinar el número de rectángulos $n$ necesarios para una precisión de la suma de riemenn dada $\\epsilon = 0.0001$.   \n",
    "   \n",
    "7. Actividades de aprendizaje: que incluya pruebas de escritorio para los algoritmos en forma verbal y seudo código, diagrama de flujo, y la implementación del algoritmo en lenguaje python.  \n",
    "   \n",
    "8. Incluye una canción o un poema que ayude a interiorizar y fijar los conceptos asociados a esta clase.   \n",
    "   \n",
    "9.  Tarea o actividades de ejercitación y fijación.  \n",
    "    \n",
    "10. Evaluación incluyendo diez proyectos, un ejemplo de quiz y un ejemplo de parcial.  \n",
    "    \n",
    "11. Diseño de actividad de retroalimentación.   \n",
    "    \n",
    "12. Dame un vocabulario y frases del idioma inglés asociadas a esta clase.  \n",
    "\n",
    "13.  Incluye apéndice para la clase sobre desarrollo de habilidades para trabajar en equipo y de asertividad y empatía para relacionarnos. También elementos de la inteligencia emocional para presentar pruebas sin temor y sin realizar fraude en ellas.    \n",
    "     \n",
    "14. Incluye 5 referentes en didáctica de la matemática que estén de acuerdo a la propuesta didáctica de esta clase. Adiciona a estos referentes a Raymond Duval (Representaciones y cambios de representación para la adquisición de conceptos matemáticos) y a Janete Wing (Desarrollo del pensamiento computacional). Dejame todos estos referentes ordenados de acuerdo a las normas APA. \n",
    "  \n",
    "\n",
    "Pero  que este diseño sea para que el estudiante pueda aprender experimentando en cuadernos Jupyter con funciones de usuario y animaciones y visualizaciones en python.   \n",
    "\n",
    "En particular utiliza para el diseño de clase a Numpy, Pandas, SymPy, Matplotlib.pyplot, Seaborn, Plotly, ipywidgets, matplotlib.animation y Jupyter Notebook.    \n",
    "\n",
    "Cada vez que utilices `matplotlib.animacion` no olvides incluir el uso de `IPython. display` para la rederización de estas animaciones a través de Jupyter Notebook.   \n",
    "\n",
    "No olvides darme los diseños de clase con las ecuaciones matemáticas delimitadas con signo de dolar $ para que VS Code si me renderize estas expresiones del lenguaje latex. Cuando vallas a utilizar ipywidgets ten en cuenta la siguiente importación inicial para garantizar que la visualización interactiva si se renderize en VS Code:   \n",
    " \n",
    "import numpy as np  \n",
    "import matplotlib.pyplot as plt  \n",
    "import ipywidgets as widgets  \n",
    "from IPython.display import display, clear_output  \n",
    "from matplotlib.patches import Rectangle  \n",
    "\n",
    "# Configuración inicial para visualización estática  \n",
    "%matplotlib inline "
   ]
  },
  {
   "cell_type": "markdown",
   "id": "ded1813a",
   "metadata": {},
   "source": [
    "# Estructura del Taller   \n",
    "\n",
    "### Diseño de Clase: **Taller sobre Integración Numérica con la Calculadora Casio fx-991 LA X**\n",
    "\n",
    "---\n",
    "\n",
    "#### **1. Título de la Clase**\n",
    "**\"Integración Numérica: De la teoría a la práctica con la Calculadora Casio fx-991 LA X y Python\"**\n",
    "\n",
    "---\n",
    "\n",
    "#### **2. Objetivos de Aprendizaje**\n",
    "- **Objetivo General**: \n",
    "  - Comprender y aplicar métodos numéricos para la integración definida utilizando la Calculadora Casio fx-991 LA X y Python, integrando enfoques STEAMS (Ciencia, Tecnología, Ingeniería, Arte, Matemáticas y Sociedad) y ABPP (Aprendizaje Basado en Problemas y Proyectos).\n",
    "\n",
    "- **Objetivos Específicos**:\n",
    "  1. Identificar los métodos numéricos utilizados por la Calculadora Casio fx-991 LA X para calcular integrales definidas.\n",
    "  2. Implementar en Python métodos numéricos como la regla del trapecio, regla de Simpson y suma de Riemann.\n",
    "  3. Visualizar y analizar geométricamente la integración numérica mediante gráficos interactivos.\n",
    "  4. Resolver problemas reales de ingeniería y matemáticas aplicando integración numérica.\n",
    "\n",
    "- **Indicadores de Logro**:\n",
    "  - El estudiante implementa correctamente métodos numéricos en Python.\n",
    "  - El estudiante explica el proceso de integración numérica utilizando gráficos interactivos.\n",
    "  - El estudiante resuelve problemas prácticos utilizando la Calculadora Casio fx-991 LA X y Python.\n",
    "\n",
    "---\n",
    "\n",
    "#### **3. Mapa Conceptual**\n",
    "El mapa conceptual se genera utilizando `Graphviz` en Python. Aquí está el código para crearlo:\n",
    "\n",
    "```python\n",
    "from graphviz import Digraph\n",
    "\n",
    "# Crear el grafo\n",
    "graph = Digraph('G', filename='C:/Users/marco/Descargas/integracion_numerica', format='png')\n",
    "graph.attr(overlap='scalexy')  # Evitar superposiciones\n",
    "\n",
    "# Nodos\n",
    "graph.node('A', 'Integración Numérica', shape='ellipse', color='blue', style='filled', fillcolor='lightblue')\n",
    "graph.node('B', 'Métodos Numéricos', shape='box', color='red', style='filled', fillcolor='pink')\n",
    "graph.node('C', 'Suma de Riemann', shape='box', color='green', style='filled', fillcolor='lightgreen')\n",
    "graph.node('D', 'Regla del Trapecio', shape='box', color='green', style='filled', fillcolor='lightgreen')\n",
    "graph.node('E', 'Regla de Simpson', shape='box', color='green', style='filled', fillcolor='lightgreen')\n",
    "graph.node('F', 'Aplicaciones', shape='ellipse', color='orange', style='filled', fillcolor='yellow')\n",
    "graph.node('G', 'Cálculo de Áreas', shape='box', color='purple', style='filled', fillcolor='lavender')\n",
    "graph.node('H', 'Ingeniería Agrícola', shape='box', color='purple', style='filled', fillcolor='lavender')\n",
    "\n",
    "# Edges\n",
    "graph.edge('A', 'B')\n",
    "graph.edge('B', 'C')\n",
    "graph.edge('B', 'D')\n",
    "graph.edge('B', 'E')\n",
    "graph.edge('A', 'F')\n",
    "graph.edge('F', 'G')\n",
    "graph.edge('F', 'H')\n",
    "\n",
    "# Renderizar y mostrar\n",
    "graph.render(view=True)\n",
    "```\n",
    "\n",
    "---\n",
    "\n",
    "#### **4. Elementos Históricos y Epistemológicos**\n",
    "**Cuento al estilo de un cuentero antioqueño**:\n",
    "\"Había una vez, en la antigua Grecia, un sabio llamado Arquímedes, que soñaba con medir lo imposible. Un día, mientras se bañaba, gritó '¡Eureka!' al descubrir cómo calcular el área bajo una curva usando rectángulos. Siglos después, Isaac Newton y Gottfried Leibniz, dos genios rivales, desarrollaron el cálculo integral, permitiéndonos calcular áreas, volúmenes y mucho más. Hoy, con la Calculadora Casio fx-991 LA X y Python, seguimos sus pasos, resolviendo problemas que antes parecían imposibles.\"\n",
    "\n",
    "**Imágenes**:\n",
    "- Arquímedes: ![Arquímedes](https://upload.wikimedia.org/wikipedia/commons/thumb/e/e7/Archimedes_%28Idealportrait%29.jpg/220px-Archimedes_%28Idealportrait%29.jpg)\n",
    "- Newton: ![Newton](https://upload.wikimedia.org/wikipedia/commons/thumb/3/39/GodfreyKneller-IsaacNewton-1689.jpg/220px-GodfreyKneller-IsaacNewton-1689.jpg)\n",
    "- Leibniz: ![Leibniz](https://upload.wikimedia.org/wikipedia/commons/thumb/6/6a/Gottfried_Wilhelm_Leibniz.jpg/220px-Gottfried_Wilhelm_Leibniz.jpg)\n",
    "\n",
    "---\n",
    "\n",
    "#### **5. Contenido de la Clase**\n",
    "**Situación Real**: Calcular el área de un terreno irregular para un proyecto agrícola.\n",
    "\n",
    "**Modelo Matemático**: \n",
    "- Partición regular del intervalo $[a, b]$ en $n$ subintervalos.\n",
    "- Suma de Riemann: $\\sum_{i=1}^n f(x_{i-1}) \\Delta x$.\n",
    "\n",
    "**Visualización con `matplotlib` y `ipywidgets`**:\n",
    "```python\n",
    "import numpy as np\n",
    "import matplotlib.pyplot as plt\n",
    "import ipywidgets as widgets\n",
    "from IPython.display import display, clear_output\n",
    "from matplotlib.patches import Rectangle\n",
    "\n",
    "# Función para visualizar la suma de Riemann\n",
    "def riemann_sum(n, i):\n",
    "    a, b = 0, 5\n",
    "    x = np.linspace(a, b, n+1)\n",
    "    y = np.sin(x)\n",
    "    dx = (b - a) / n\n",
    "    \n",
    "    plt.figure(figsize=(10, 5))\n",
    "    plt.plot(x, y, 'b-', label='$f(x) = \\sin(x)$')\n",
    "    plt.bar(x[i], y[i], width=dx, color='red', alpha=0.5, label='Rectángulo')\n",
    "    plt.title(f'Suma de Riemann para $n = {n}$, $i = {i}$')\n",
    "    plt.legend()\n",
    "    plt.show()\n",
    "\n",
    "# Widget interactivo\n",
    "widgets.interact(riemann_sum, n=widgets.IntSlider(min=1, max=20, step=1, value=5), \n",
    "                 i=widgets.IntSlider(min=0, max=4, step=1, value=0));\n",
    "```\n",
    "\n",
    "---\n",
    "\n",
    "#### **6. Deducción de una Función de Usuario**\n"
   ]
  },
  {
   "cell_type": "markdown",
   "id": "91d9f14a",
   "metadata": {},
   "source": [
    "```python\n",
    "def riemann_precision(f, a, b, epsilon=0.0001):\n",
    "    n = 1\n",
    "    while True:\n",
    "        dx = (b - a) / n\n",
    "        sum_prev = sum(f(a + i * dx) * dx for i in range(n))\n",
    "        sum_next = sum(f(a + i * dx) * dx for i in range(n+1)))\n",
    "        if abs(sum_next - sum_prev) < epsilon:\n",
    "            return n\n",
    "        n += 1\n",
    "```\n"
   ]
  },
  {
   "cell_type": "markdown",
   "id": "6d2e90c1",
   "metadata": {},
   "source": [
    "\n",
    "---\n",
    "\n",
    "#### **7. Actividades de Aprendizaje**\n",
    "- **Pruebas de Escritorio**: Verificar el algoritmo para $f(x) = x^2$, $a = 0$, $b = 1$.\n",
    "- **Diagrama de Flujo**: Representar el proceso de la suma de Riemann.\n",
    "- **Implementación en Python**: Ejecutar el código en Jupyter Notebook.\n",
    "\n",
    "---\n",
    "\n",
    "#### **8. Canción o Poema**\n",
    "**Poema**:\n",
    "\"Integrar es sumar, paso a paso,  \n",
    "Rectángulos que el área abrazan.  \n",
    "Con Python y Casio, vamos avanzando,  \n",
    "Problemas reales resolviendo.\"\n",
    "\n",
    "---\n",
    "\n",
    "#### **9. Tarea**\n",
    "- Calcular el área bajo $f(x) = e^{-x}$ desde $0$ hasta $10$ usando la Calculadora Casio fx-991 LA X y Python.\n",
    "\n",
    "---\n",
    "\n",
    "#### **10. Evaluación**\n",
    "- **Proyectos**: Implementar métodos numéricos en Python.\n",
    "- **Quiz**: Preguntas teóricas sobre integración numérica.\n",
    "- **Parcial**: Resolver un problema real usando integración numérica.\n",
    "\n",
    "---\n",
    "\n",
    "#### **11. Retroalimentación**\n",
    "- Revisión de códigos y gráficos en clase.\n",
    "- Discusión grupal sobre los resultados obtenidos.\n",
    "\n",
    "---\n",
    "\n",
    "#### **12. Vocabulario en Inglés**\n",
    "- **Integration**: Integración.\n",
    "- **Numerical Methods**: Métodos numéricos.\n",
    "- **Riemann Sum**: Suma de Riemann.\n",
    "- **Trapezoidal Rule**: Regla del trapecio.\n",
    "- **Simpson's Rule**: Regla de Simpson.\n",
    "\n",
    "---\n",
    "\n",
    "#### **13. Apéndice**\n",
    "- **Trabajo en Equipo**: Roles claros y comunicación efectiva.\n",
    "- **Inteligencia Emocional**: Manejo del estrés durante las pruebas.\n",
    "\n",
    "---\n"
   ]
  },
  {
   "cell_type": "markdown",
   "id": "aca96dd0",
   "metadata": {},
   "source": [
    "\n",
    "#### **14. Referentes en Didáctica de la Matemática**\n",
    "1. Duval, R. (2006). *Representaciones y cambios de representación para la adquisición de conceptos matemáticos*.\n",
    "2. Wing, J. (2006). *Computational Thinking*.\n",
    "3. Polya, G. (1945). *How to Solve It*.\n",
    "4. Schoenfeld, A. H. (1985). *Mathematical Problem Solving*.\n",
    "5. Skemp, R. R. (1976). *Relational Understanding and Instrumental Understanding*.\n"
   ]
  },
  {
   "cell_type": "markdown",
   "id": "a22c167f",
   "metadata": {},
   "source": [
    "\n",
    "---\n",
    "\n",
    "Este diseño de clase integra tecnología, matemáticas y pedagogía para un aprendizaje activo y significativo."
   ]
  },
  {
   "cell_type": "markdown",
   "id": "a9f5fc01",
   "metadata": {},
   "source": [
    "# Una actividad de aprendizaje más  \n",
    "\n",
    "### Actividad de Aprendizaje Activo: Explorando Métodos Numéricos para Cálculo de Integrales Definidas en la Calculadora Casio fx-991 LA X\n",
    "\n",
    "#### Objetivo:\n",
    "El objetivo de esta actividad es que los estudiantes exploren y comprendan los métodos numéricos que podrían estar detrás del cálculo de integrales definidas en una calculadora científica como la Casio fx-991 LA X. Utilizando un cuaderno Jupyter con kernel de Python, los estudiantes implementarán y compararán diferentes métodos numéricos para aproximar integrales definidas.\n",
    "\n",
    "#### Materiales:\n",
    "- Cuaderno Jupyter con kernel de Python.\n",
    "- Bibliotecas de Python: `numpy`, `matplotlib`, `scipy`.\n",
    "- Documentación de la calculadora Casio fx-991 LA X (opcional).\n",
    "\n",
    "#### Duración:\n",
    "- 2 horas.\n",
    "\n",
    "#### Actividades:\n",
    "\n",
    "1. **Introducción Teórica (15 minutos):**\n",
    "   - Breve explicación de los métodos numéricos comunes para calcular integrales definidas: **Regla del Trapecio**, **Regla de Simpson**, y **Método de Romberg**.\n",
    "   - Discusión sobre cómo las calculadoras científicas podrían implementar estos métodos.\n",
    "\n",
    "2. **Implementación de Métodos Numéricos (45 minutos):**\n",
    "   - **Regla del Trapecio:**\n"
   ]
  },
  {
   "cell_type": "markdown",
   "id": "b972d9a1",
   "metadata": {},
   "source": [
    "     ```python\n",
    "     import numpy as np\n",
    "\n",
    "     def trapezoidal_rule(f, a, b, n):\n",
    "         h = (b - a) / n\n",
    "         x = np.linspace(a, b, n+1)\n",
    "         y = f(x)\n",
    "         return h * (np.sum(y) - 0.5 * (y[0] + y[-1]))\n",
    "\n",
    "     # Ejemplo de uso:\n",
    "     f = lambda x: np.sin(x)\n",
    "     a = 0\n",
    "     b = np.pi\n",
    "     n = 100\n",
    "     resultado = trapezoidal_rule(f, a, b, n)\n",
    "     print(f\"Resultado usando la regla del trapecio: {resultado}\")\n",
    "     ```\n"
   ]
  },
  {
   "cell_type": "markdown",
   "id": "0375ba87",
   "metadata": {},
   "source": [
    "\n",
    "   # **Regla de Simpson:**\n"
   ]
  },
  {
   "cell_type": "code",
   "execution_count": null,
   "id": "75b9cc35",
   "metadata": {},
   "outputs": [
    {
     "name": "stdout",
     "output_type": "stream",
     "text": [
      "Resultado usando la regla de Simpson: 0.3333333333333333\n"
     ]
    }
   ],
   "source": [
    "f = lambda x:x**2\n",
    "a,b = 0,1\n",
    "n = 10  \n",
    "\n",
    "def simpsons_rule(f, a, b, n):\n",
    "    h = (b - a) / n\n",
    "    x = np.linspace(a, b, n+1)\n",
    "    y = f(x)\n",
    "    return h/3 * (y[0] + 4*np.sum(y[1:-1:2]) + 2*np.sum(y[2:-2:2]) + y[-1])\n",
    "\n",
    "# Ejemplo de uso:\n",
    "resultado = simpsons_rule(f, a, b, n)\n",
    "print(f\"Resultado usando la regla de Simpson: {resultado}\")\n",
    "\n"
   ]
  },
  {
   "cell_type": "markdown",
   "id": "ece52644",
   "metadata": {},
   "source": [
    "\n",
    "   # **Método de Romberg:**\n",
    "    \n",
    "### Función `romberg()` del módulo `integrate` de `scipy`\n",
    "\n",
    "La función `romberg()` es una herramienta poderosa para la integración numérica en Python, disponible en el módulo `integrate` de la librería `scipy`. Esta función implementa el **método de Romberg**, un algoritmo eficiente y preciso para calcular integrales definidas numéricamente. A continuación, te explico en detalle su funcionamiento, utilidad y limitaciones.\n",
    "\n",
    "---\n",
    "\n",
    "#### **¿Qué es el método de Romberg?**\n",
    "El método de Romberg es una técnica de integración numérica que combina la **extrapolación de Richardson** con la **regla del trapecio**. Su objetivo es mejorar la precisión de la estimación de una integral definida utilizando sucesivas aproximaciones de la regla del trapecio con diferentes tamaños de paso. A medida que se refina el tamaño del paso, el método de Romberg extrapola los resultados para converger rápidamente hacia el valor exacto de la integral.\n",
    "\n",
    "---\n",
    "\n",
    "#### **Sintaxis de `romberg()`**\n",
    "La función `romberg()` tiene la siguiente sintaxis básica:\n"
   ]
  },
  {
   "cell_type": "code",
   "execution_count": null,
   "id": "17cf38a4",
   "metadata": {},
   "outputs": [],
   "source": [
    "\n",
    "from scipy.integrate import romberg\n",
    "\n",
    "resultado = romberg(func, a, b, args=(), tol=1.48e-08, rtol=1.48e-08, show=False, divmax=10, vec_func=False)\n",
    "\n"
   ]
  },
  {
   "cell_type": "markdown",
   "id": "52e3ad8e",
   "metadata": {},
   "source": [
    "\n",
    "##### Parámetros principales:\n",
    "1. **`func`**: Función a integrar. Debe ser una función de una variable (por ejemplo, `f(x)`).\n",
    "2. **`a`**: Límite inferior de integración.\n",
    "3. **`b`**: Límite superior de integración.\n",
    "4. **`args`** (opcional): Argumentos adicionales para pasar a `func`.\n",
    "5. **`tol`** (opcional): Tolerancia absoluta para la convergencia. Por defecto es `1.48e-08`.\n",
    "6. **`rtol`** (opcional): Tolerancia relativa para la convergencia. Por defecto es `1.48e-08`.\n",
    "7. **`show`** (opcional): Si es `True`, muestra la tabla de iteraciones de Romberg. Por defecto es `False`.\n",
    "8. **`divmax`** (opcional): Número máximo de divisiones (refinamientos) del intervalo. Por defecto es `10`.\n",
    "9. **`vec_func`** (opcional): Si es `True`, `func` puede aceptar un array de entrada y devolver un array de salida. Por defecto es `False`.\n",
    "\n",
    "##### Valor de retorno:\n",
    "- **`resultado`**: Valor aproximado de la integral definida.\n",
    "\n",
    "---\n",
    "\n",
    "#### **Utilidad de `romberg()`**\n",
    "1. **Alta precisión**:\n",
    "   - El método de Romberg es conocido por su rapidez y precisión en la convergencia hacia el valor exacto de la integral. Es especialmente útil cuando se necesita una alta precisión en el cálculo de integrales definidas.\n",
    "\n",
    "2. **Eficiencia**:\n",
    "   - Aprovecha la extrapolación de Richardson para reducir el número de evaluaciones de la función en comparación con métodos como la regla del trapecio o la regla de Simpson.\n",
    "\n",
    "3. **Flexibilidad**:\n",
    "   - Permite ajustar la tolerancia (`tol` y `rtol`) y el número máximo de divisiones (`divmax`) para controlar la precisión y el tiempo de cálculo.\n",
    "\n",
    "4. **Visualización**:\n",
    "   - Con el parámetro `show=True`, se puede visualizar la tabla de iteraciones de Romberg, lo que ayuda a entender cómo converge el método.\n",
    "\n",
    "---\n",
    "\n",
    "#### **Limitaciones de `romberg()`**\n",
    "1. **Funciones suaves**:\n",
    "   - El método de Romberg funciona mejor con funciones suaves (diferenciables). Si la función tiene discontinuidades o singularidades, puede no converger correctamente o requerir un número muy alto de iteraciones.\n",
    "\n",
    "2. **Dependencia de la tolerancia**:\n",
    "   - Aunque la tolerancia puede ajustarse, una tolerancia demasiado estricta puede aumentar significativamente el tiempo de cálculo.\n",
    "\n",
    "3. **Intervalos infinitos**:\n",
    "   - No puede manejar directamente intervalos infinitos (por ejemplo, integrales impropias como `∫[0, ∞]`). Para estos casos, se requiere una transformación previa del intervalo.\n",
    "\n",
    "4. **Funciones vectoriales**:\n",
    "   - Aunque `romberg()` puede manejar funciones vectoriales (con `vec_func=True`), su rendimiento puede no ser óptimo en comparación con otros métodos como `quad()`.\n",
    "\n",
    "---\n"
   ]
  },
  {
   "cell_type": "markdown",
   "id": "718dca58",
   "metadata": {},
   "source": [
    "\n",
    "#### **Ejemplo de uso**\n"
   ]
  },
  {
   "cell_type": "code",
   "execution_count": 11,
   "id": "ea331660",
   "metadata": {},
   "outputs": [
    {
     "name": "stdout",
     "output_type": "stream",
     "text": [
      "Resultado de la integral: (0.7468241328124271, 8.291413475940725e-15)\n"
     ]
    }
   ],
   "source": [
    "from scipy.integrate import quad \n",
    "import numpy as np\n",
    "\n",
    "# Definir la función a integrar\n",
    "def f(x): \n",
    "    return np.exp(-x**2)\n",
    "\n",
    "# Calcular la integral definida de f(x) desde 0 hasta 1\n",
    "resultado = quad(f, 0, 1)\n",
    "print(f\"Resultado de la integral: {resultado}\")\n",
    "\n"
   ]
  },
  {
   "cell_type": "markdown",
   "id": "5ab62ea5",
   "metadata": {},
   "source": [
    "\n",
    "##### Salida:\n",
    "```\n",
    "Romberg integration of <function vectorize1.<locals>.vfunc at 0x7f9b8c0b5d30> from [0, 1]\n",
    "\n",
    " Steps  StepSize   Results\n",
    "     1  1.000000  0.746824 \n",
    "     2  0.500000  0.746855  0.746824 \n",
    "     4  0.250000  0.746824  0.746824  0.746824 \n",
    "     8  0.125000  0.746824  0.746824  0.746824  0.746824 \n",
    "    16  0.062500  0.746824  0.746824  0.746824  0.746824  0.746824 \n",
    "\n",
    "The final result is 0.746824132812427 after 17 function evaluations.\n",
    "Resultado de la integral: 0.746824132812427\n",
    "```\n",
    "\n",
    "---\n",
    "\n",
    "#### **Comparación con otros métodos**\n",
    "- **Regla del Trapecio y Simpson**:\n",
    "  - Estos métodos son más simples pero menos precisos y eficientes que el método de Romberg.\n",
    "- **`quad()` de `scipy`**:\n",
    "  - `quad()` es más versátil y puede manejar intervalos infinitos y singularidades, pero `romberg()` puede ser más rápido y preciso para funciones suaves en intervalos finitos.\n",
    "\n",
    "---\n",
    "\n",
    "#### **Conclusión**\n",
    "La función `romberg()` es una excelente opción para calcular integrales definidas con alta precisión y eficiencia, especialmente cuando se trabaja con funciones suaves en intervalos finitos. Sin embargo, es importante considerar sus limitaciones, como su rendimiento en funciones no suaves o con singularidades. Para casos más generales, métodos como `quad()` pueden ser más adecuados."
   ]
  },
  {
   "cell_type": "code",
   "execution_count": 6,
   "id": "80190382",
   "metadata": {},
   "outputs": [
    {
     "name": "stdout",
     "output_type": "stream",
     "text": [
      "Resultado usando el método de Romberg: (0.33333333333333337, 3.700743415417189e-15)\n"
     ]
    }
   ],
   "source": [
    "from scipy.integrate import quad\n",
    "def f(x):   # quad() no recibe funciones f definidas con la sentencia lambda sino las credas con sentencia def\n",
    "    return x**2 \n",
    "\n",
    "# Ejemplo de uso:\n",
    "resultado = quad(f, a = 0, b = 1)\n",
    "print(f\"Resultado usando el método de Romberg: {resultado}\")\n"
   ]
  },
  {
   "cell_type": "markdown",
   "id": "f1a1ab12",
   "metadata": {},
   "source": [
    "     ```\n",
    "\n",
    "3. **Comparación de Resultados (30 minutos):**\n",
    "   - Los estudiantes deben comparar los resultados obtenidos con cada método numérico y discutir cuál de ellos podría ser el utilizado por la calculadora Casio fx-991 LA X.\n",
    "   - Preguntas guía:\n",
    "     - ¿Cuál método es más preciso?\n",
    "     - ¿Cuál método es más eficiente en términos de tiempo de cálculo?\n",
    "     - ¿Qué método crees que utiliza la calculadora y por qué?\n",
    "\n",
    "4. **Investigación y Conclusión (30 minutos):**\n",
    "   - Los estudiantes deben investigar en la documentación de la calculadora Casio fx-991 LA X o en fuentes confiables para confirmar cuál método numérico utiliza la calculadora.\n",
    "   - Conclusión: Los estudiantes deben escribir un breve informe en el cuaderno Jupyter explicando cuál método creen que utiliza la calculadora y justificar su respuesta basándose en los resultados obtenidos y la investigación realizada.\n",
    "\n",
    "#### Evaluación:\n",
    "- Los estudiantes serán evaluados en base a la correcta implementación de los métodos numéricos, la calidad de la comparación y análisis de resultados, y la justificación de su conclusión sobre el método utilizado por la calculadora.\n",
    "\n",
    "#### Extensión (Opcional):\n",
    "- Los estudiantes pueden explorar otros métodos numéricos como el **Método de Monte Carlo** o **Cuadratura Gaussiana** y compararlos con los métodos ya implementados.\n",
    "\n",
    "---\n",
    "\n",
    "Esta actividad no solo permite a los estudiantes comprender los métodos numéricos detrás del cálculo de integrales definidas, sino también desarrollar habilidades de programación y análisis crítico."
   ]
  },
  {
   "cell_type": "markdown",
   "id": "7b521dea",
   "metadata": {},
   "source": [
    "[Video de presentación a la estructura de la clase]()"
   ]
  },
  {
   "cell_type": "markdown",
   "id": "6390f8a5",
   "metadata": {},
   "source": [
    "# Implementación de la clase  \n",
    "\n",
    "### Diseño de Clase: **Taller sobre Integración Numérica con la Calculadora Casio fx-991 LA X**\n",
    "\n",
    "---\n",
    "\n",
    "#### **1. Título de la Clase**\n",
    "**\"Integración Numérica: De la teoría a la práctica con la Calculadora Casio fx-991 LA X y Python\"**\n",
    "\n",
    "---\n",
    "\n",
    "#### **2. Objetivos de Aprendizaje**\n",
    "- **Objetivo General**: \n",
    "  - Comprender y aplicar métodos numéricos para la integración definida utilizando la Calculadora Casio fx-991 LA X y Python, integrando enfoques STEAMS (Ciencia, Tecnología, Ingeniería, Arte, Matemáticas y Sociedad) y ABPP (Aprendizaje Basado en Problemas y Proyectos).\n",
    "\n",
    "- **Objetivos Específicos**:\n",
    "  1. Identificar los métodos numéricos utilizados por la Calculadora Casio fx-991 LA X para calcular integrales definidas.\n",
    "  2. Implementar en Python métodos numéricos como la regla del trapecio, regla de Simpson y suma de Riemann.\n",
    "  3. Visualizar y analizar geométricamente la integración numérica mediante gráficos interactivos.\n",
    "  4. Resolver problemas reales de ingeniería y matemáticas aplicando integración numérica.\n",
    "\n",
    "- **Indicadores de Logro**:\n",
    "  - El estudiante implementa correctamente métodos numéricos en Python.\n",
    "  - El estudiante explica el proceso de integración numérica utilizando gráficos interactivos.\n",
    "  - El estudiante resuelve problemas prácticos utilizando la Calculadora Casio fx-991 LA X y Python.\n",
    "\n",
    "---\n",
    "\n",
    "#### **3. Mapa Conceptual**\n",
    "El mapa conceptual se genera utilizando `Graphviz` en Python. Aquí está el código para crearlo:\n",
    "\n",
    "```python\n",
    "from graphviz import Digraph\n",
    "\n",
    "# Crear el grafo\n",
    "graph = Digraph('G', filename='C:/Users/marco/Descargas/integracion_numerica', format='png')\n",
    "graph.attr(overlap='scalexy')  # Evitar superposiciones\n",
    "\n",
    "# Nodos\n",
    "graph.node('A', 'Integración Numérica', shape='ellipse', color='blue', style='filled', fillcolor='lightblue')\n",
    "graph.node('B', 'Métodos Numéricos', shape='box', color='red', style='filled', fillcolor='pink')\n",
    "graph.node('C', 'Suma de Riemann', shape='box', color='green', style='filled', fillcolor='lightgreen')\n",
    "graph.node('D', 'Regla del Trapecio', shape='box', color='green', style='filled', fillcolor='lightgreen')\n",
    "graph.node('E', 'Regla de Simpson', shape='box', color='green', style='filled', fillcolor='lightgreen')\n",
    "graph.node('F', 'Aplicaciones', shape='ellipse', color='orange', style='filled', fillcolor='yellow')\n",
    "graph.node('G', 'Cálculo de Áreas', shape='box', color='purple', style='filled', fillcolor='lavender')\n",
    "graph.node('H', 'Ingeniería Agrícola', shape='box', color='purple', style='filled', fillcolor='lavender')\n",
    "\n",
    "# Edges\n",
    "graph.edge('A', 'B')\n",
    "graph.edge('B', 'C')\n",
    "graph.edge('B', 'D')\n",
    "graph.edge('B', 'E')\n",
    "graph.edge('A', 'F')\n",
    "graph.edge('F', 'G')\n",
    "graph.edge('F', 'H')\n",
    "\n",
    "# Renderizar y mostrar\n",
    "graph.render(view=True)\n",
    "```\n",
    "\n",
    "---\n",
    "\n",
    "#### **4. Elementos Históricos y Epistemológicos**\n",
    "**Cuento al estilo de un cuentero antioqueño**:\n",
    "\"Había una vez, en la antigua Grecia, un sabio llamado Arquímedes, que soñaba con medir lo imposible. Un día, mientras se bañaba, gritó '¡Eureka!' al descubrir cómo calcular el área bajo una curva usando rectángulos. Siglos después, Isaac Newton y Gottfried Leibniz, dos genios rivales, desarrollaron el cálculo integral, permitiéndonos calcular áreas, volúmenes y mucho más. Hoy, con la Calculadora Casio fx-991 LA X y Python, seguimos sus pasos, resolviendo problemas que antes parecían imposibles.\"\n",
    "\n",
    "**Imágenes**:\n",
    "- Arquímedes: ![Arquímedes](https://upload.wikimedia.org/wikipedia/commons/thumb/e/e7/Archimedes_%28Idealportrait%29.jpg/220px-Archimedes_%28Idealportrait%29.jpg)\n",
    "- Newton: ![Newton](https://upload.wikimedia.org/wikipedia/commons/thumb/3/39/GodfreyKneller-IsaacNewton-1689.jpg/220px-GodfreyKneller-IsaacNewton-1689.jpg)\n",
    "- Leibniz: ![Leibniz](https://upload.wikimedia.org/wikipedia/commons/thumb/6/6a/Gottfried_Wilhelm_Leibniz.jpg/220px-Gottfried_Wilhelm_Leibniz.jpg)\n",
    "\n",
    "---\n",
    "\n",
    "#### **5. Contenido de la Clase**\n",
    "**Situación Real**: Calcular el área de un terreno irregular para un proyecto agrícola.\n",
    "\n",
    "**Modelo Matemático**: \n",
    "- Partición regular del intervalo $[a, b]$ en $n$ subintervalos.\n",
    "- Suma de Riemann: $\\sum_{i=1}^n f(x_{i-1}) \\Delta x$.\n",
    "\n",
    "**Visualización con `matplotlib` y `ipywidgets`**:\n",
    "```python\n",
    "import numpy as np\n",
    "import matplotlib.pyplot as plt\n",
    "import ipywidgets as widgets\n",
    "from IPython.display import display, clear_output\n",
    "from matplotlib.patches import Rectangle\n",
    "\n",
    "# Función para visualizar la suma de Riemann\n",
    "def riemann_sum(n, i):\n",
    "    a, b = 0, 5\n",
    "    x = np.linspace(a, b, n+1)\n",
    "    y = np.sin(x)\n",
    "    dx = (b - a) / n\n",
    "    \n",
    "    plt.figure(figsize=(10, 5))\n",
    "    plt.plot(x, y, 'b-', label='$f(x) = \\sin(x)$')\n",
    "    plt.bar(x[i], y[i], width=dx, color='red', alpha=0.5, label='Rectángulo')\n",
    "    plt.title(f'Suma de Riemann para $n = {n}$, $i = {i}$')\n",
    "    plt.legend()\n",
    "    plt.show()\n",
    "\n",
    "# Widget interactivo\n",
    "widgets.interact(riemann_sum, n=widgets.IntSlider(min=1, max=20, step=1, value=5), \n",
    "                 i=widgets.IntSlider(min=0, max=4, step=1, value=0));\n",
    "```\n",
    "\n",
    "---\n",
    "\n",
    "#### **6. Deducción de una Función de Usuario**\n",
    "```python\n",
    "def riemann_precision(f, a, b, epsilon=0.0001):\n",
    "    n = 1\n",
    "    while True:\n",
    "        dx = (b - a) / n\n",
    "        sum_prev = sum(f(a + i * dx) * dx for i in range(n))\n",
    "        sum_next = sum(f(a + i * dx) * dx for i in range(n+1)))\n",
    "        if abs(sum_next - sum_prev) < epsilon:\n",
    "            return n\n",
    "        n += 1\n",
    "```\n",
    "\n",
    "---\n"
   ]
  },
  {
   "cell_type": "markdown",
   "id": "c7c22484",
   "metadata": {},
   "source": [
    "\n",
    "#### **7. Actividades de Aprendizaje**\n",
    "- **Pruebas de Escritorio**: Verificar el algoritmo para $f(x) = x^2$, $a = 0$, $b = 1$.\n",
    "- **Diagrama de Flujo**: Representar el proceso de la suma de Riemann.\n",
    "- **Implementación en Python**: Ejecutar el código en Jupyter Notebook.\n",
    "\n",
    "---\n",
    "\n",
    "#### **8. Canción o Poema**\n",
    "**Poema**:\n",
    "\"Integrar es sumar, paso a paso,  \n",
    "Rectángulos que el área abrazan.  \n",
    "Con Python y Casio, vamos avanzando,  \n",
    "Problemas reales resolviendo.\"\n",
    "\n",
    "---\n",
    "\n",
    "#### **9. Tarea**\n",
    "- Calcular el área bajo $f(x) = e^{-x}$ desde $0$ hasta $10$ usando la Calculadora Casio fx-991 LA X y Python.\n",
    "\n",
    "---\n",
    "\n",
    "#### **10. Evaluación**\n",
    "- **Proyectos**: Implementar métodos numéricos en Python.\n",
    "- **Quiz**: Preguntas teóricas sobre integración numérica.\n",
    "- **Parcial**: Resolver un problema real usando integración numérica.\n",
    "\n",
    "---\n",
    "\n",
    "#### **11. Retroalimentación**\n",
    "- Revisión de códigos y gráficos en clase.\n",
    "- Discusión grupal sobre los resultados obtenidos.\n",
    "\n",
    "---\n",
    "\n",
    "#### **12. Vocabulario en Inglés**\n",
    "- **Integration**: Integración.\n",
    "- **Numerical Methods**: Métodos numéricos.\n",
    "- **Riemann Sum**: Suma de Riemann.\n",
    "- **Trapezoidal Rule**: Regla del trapecio.\n",
    "- **Simpson's Rule**: Regla de Simpson.\n",
    "\n",
    "---\n",
    "\n",
    "#### **13. Apéndice**\n",
    "- **Trabajo en Equipo**: Roles claros y comunicación efectiva.\n",
    "- **Inteligencia Emocional**: Manejo del estrés durante las pruebas.\n",
    "\n",
    "---\n",
    "\n",
    "#### **14. Referentes en Didáctica de la Matemática**\n",
    "1. Duval, R. (2006). *Representaciones y cambios de representación para la adquisición de conceptos matemáticos*.\n",
    "2. Wing, J. (2006). *Computational Thinking*.\n",
    "3. Polya, G. (1945). *How to Solve It*.\n",
    "4. Schoenfeld, A. H. (1985). *Mathematical Problem Solving*.\n",
    "5. Skemp, R. R. (1976). *Relational Understanding and Instrumental Understanding*.\n",
    "\n",
    "---\n",
    "\n",
    "Este diseño de clase integra tecnología, matemáticas y pedagogía para un aprendizaje activo y significativo. ¡Espero que sea útil! 😊"
   ]
  },
  {
   "cell_type": "markdown",
   "id": "35715e02",
   "metadata": {},
   "source": [
    "El error que estás viendo (`ImportError: cannot import name 'romberg' from 'scipy.integrate'`) ocurre porque la función `romberg` no está disponible directamente en el módulo `scipy.integrate` en algunas versiones de `scipy`. Esto puede deberse a que estás utilizando una versión antigua de `scipy` o a que la función no está correctamente importada.\n"
   ]
  },
  {
   "cell_type": "markdown",
   "id": "48e00a07",
   "metadata": {},
   "source": [
    "\n",
    "### Solución al problema\n",
    "\n",
    "1. **Actualiza `scipy`**:\n",
    "   Asegúrate de tener la última versión de `scipy` instalada. Puedes actualizarla usando `pip`:\n",
    "\n",
    "\n"
   ]
  },
  {
   "cell_type": "code",
   "execution_count": null,
   "id": "526ff6e7",
   "metadata": {},
   "outputs": [],
   "source": [
    "!pip install --upgrade scipy\n"
   ]
  },
  {
   "cell_type": "markdown",
   "id": "aab39be3",
   "metadata": {},
   "source": [
    "\n",
    "2. **Verifica la importación**:\n",
    "   Si la actualización no resuelve el problema, es posible que la función `romberg` no esté disponible en tu entorno. En ese caso, puedes usar otra función de integración numérica, como `quad`, que es más común y está disponible en todas las versiones de `scipy`.\n",
    "\n",
    "3. **Código corregido usando `quad`**:\n",
    "   Si no puedes usar `romberg`, aquí te dejo un ejemplo de cómo resolver el problema usando `quad`:\n"
   ]
  },
  {
   "cell_type": "code",
   "execution_count": null,
   "id": "537579e4",
   "metadata": {},
   "outputs": [],
   "source": [
    "from scipy.integrate import quad\n",
    "\n",
    "# Definir la función a integrar\n",
    "def func(x):\n",
    "    return x**2  # Ejemplo: integral de x^2\n",
    "\n",
    "# Límites de integración\n",
    "a = 0\n",
    "b = 1\n",
    "\n",
    "# Calcular la integral definida usando quad\n",
    "resultado, error = quad(func, a, b)\n",
    "\n",
    "print(f\"Resultado de la integral: {resultado}\")\n",
    "print(f\"Error estimado: {error}\")\n",
    "\n"
   ]
  },
  {
   "cell_type": "markdown",
   "id": "1a0c752c",
   "metadata": {},
   "source": [
    "\n",
    "   Este código resuelve la integral definida de `x^2` desde `0` hasta `1` usando `quad`, que es una función más general y ampliamente compatible.\n",
    "\n",
    "---\n"
   ]
  },
  {
   "cell_type": "markdown",
   "id": "fc857ddd",
   "metadata": {},
   "source": [
    "\n",
    "### Si aún quieres usar `romberg`:\n",
    "Si después de actualizar `scipy` la función `romberg` está disponible, puedes usar el siguiente código:\n"
   ]
  },
  {
   "cell_type": "code",
   "execution_count": 1,
   "id": "30281cd7",
   "metadata": {},
   "outputs": [
    {
     "ename": "ImportError",
     "evalue": "cannot import name 'romberg' from 'scipy.integrate' (c:\\Users\\marco\\Documentos\\investigacion\\investigacion_en_asesoria\\.venv\\Lib\\site-packages\\scipy\\integrate\\__init__.py)",
     "output_type": "error",
     "traceback": [
      "\u001b[31m---------------------------------------------------------------------------\u001b[39m",
      "\u001b[31mImportError\u001b[39m                               Traceback (most recent call last)",
      "\u001b[36mCell\u001b[39m\u001b[36m \u001b[39m\u001b[32mIn[1]\u001b[39m\u001b[32m, line 1\u001b[39m\n\u001b[32m----> \u001b[39m\u001b[32m1\u001b[39m \u001b[38;5;28;01mfrom\u001b[39;00m\u001b[38;5;250m \u001b[39m\u001b[34;01mscipy\u001b[39;00m\u001b[34;01m.\u001b[39;00m\u001b[34;01mintegrate\u001b[39;00m\u001b[38;5;250m \u001b[39m\u001b[38;5;28;01mimport\u001b[39;00m romberg\n\u001b[32m      3\u001b[39m \u001b[38;5;66;03m# Definir la función a integrar\u001b[39;00m\n\u001b[32m      4\u001b[39m \u001b[38;5;28;01mdef\u001b[39;00m\u001b[38;5;250m \u001b[39m\u001b[34mfunc\u001b[39m(x):\n",
      "\u001b[31mImportError\u001b[39m: cannot import name 'romberg' from 'scipy.integrate' (c:\\Users\\marco\\Documentos\\investigacion\\investigacion_en_asesoria\\.venv\\Lib\\site-packages\\scipy\\integrate\\__init__.py)"
     ]
    }
   ],
   "source": [
    "from scipy.integrate import romberg\n",
    "\n",
    "# Definir la función a integrar\n",
    "def func(x):\n",
    "    return x**2  # Ejemplo: integral de x^2\n",
    "\n",
    "# Límites de integración\n",
    "a = 0\n",
    "b = 1\n",
    "\n",
    "# Calcular la integral definida usando romberg\n",
    "resultado = romberg(func, a, b, show=True)\n",
    "\n",
    "print(f\"Resultado de la integral: {resultado}\")\n",
    "\n"
   ]
  },
  {
   "cell_type": "markdown",
   "id": "33e34755",
   "metadata": {},
   "source": [
    "\n",
    "---\n",
    "\n",
    "### Resumen de acciones:\n",
    "1. Actualiza `scipy` con `pip install --upgrade scipy`.\n",
    "2. Si `romberg` no está disponible, usa `quad` como alternativa.\n",
    "3. Si `romberg` está disponible, usa el código proporcionado para resolver la integral.\n",
    "\n"
   ]
  },
  {
   "cell_type": "markdown",
   "id": "239427f7",
   "metadata": {},
   "source": [
    "# ARTÍCULO 1. Definir el calendario académico para los diferentes programas de pregrado de los campus\n",
    "regionalizados, correspondiente al primer periodo académico del año 2025, así:\n",
    "* Oferta 28 de enero de 2025\n",
    "* Matrícula 30 de enero de 2025\n",
    "* Ajustes 03 al 10 de febrero de 2025\n",
    "* Inicio de clases 10 de febrero de 2025\n",
    "* Límite evaluación del 40% 06 de abril de 2025\n",
    "* Terminación de clases 08 de junio de 2025\n",
    "* Exámenes finales 09 al 15 de junio de 2025\n",
    "* Habilitación y validación 16 al 22 de junio de 2025\n",
    "* Terminación oficial 23 de junio de 2025"
   ]
  },
  {
   "cell_type": "code",
   "execution_count": null,
   "id": "ec048afb",
   "metadata": {},
   "outputs": [],
   "source": []
  },
  {
   "cell_type": "markdown",
   "id": "740f3401",
   "metadata": {
    "slideshow": {
     "slide_type": "slide"
    }
   },
   "source": [
    "# Componente de manejo de calculadora Casio asociado al objetivo de aprendizaje de esta clase  \n",
    "\n",
    "## Pasos para lograr el objetivo de aprendizaje con la experimentación en la calculadora Casio 991LA cw  "
   ]
  },
  {
   "cell_type": "markdown",
   "id": "8ba64aed",
   "metadata": {},
   "source": [
    "# Cursos que orienta el profesor Marco Julio Cañas Campillo en 2025  \n",
    "\n",
    "1. Práctica Pedagógica V para Licenciatura en Educación Infantil\n",
    "2. Fundamentos de Lógica para Licenciatura en Matemáticas \n",
    "3. Análisis Numérico para Licenciatura en Matemáticas. \n",
    "4. Cálculo Vectorial para Ingeniería Agropecuaria"
   ]
  },
  {
   "cell_type": "markdown",
   "id": "8d41fe58",
   "metadata": {
    "slideshow": {
     "slide_type": "slide"
    }
   },
   "source": [
    "# Horario de clases del profesor Marco\n",
    "\n",
    "* Lunes 8-12: Cálculo Vectorial\n",
    "* Martes 8-12 M: Fundamentos de Aritmética. \n",
    "* Miércoles 8 a 12 M: Fundamentos de la Lógica\n",
    "* Jueves 2 a 6 PM: Desarrollo del pensamiento matemático en la infancia. \n",
    "* Viernes 8 - 12 M: Desarrollo del pensamiento matemático en la infancia. \n",
    "* Sábados 8-12 Asesorías y espacio para retroalimentación y apoyo al trabajo independiente. "
   ]
  },
  {
   "cell_type": "markdown",
   "id": "ae114e14",
   "metadata": {
    "slideshow": {
     "slide_type": "slide"
    }
   },
   "source": [
    "# Horarios de monitoría y asesoría  \n",
    "\n",
    "Coordinador de los cursos de la Facultad de Educación para regiones:    \n",
    "\n",
    "Andrés Vélez: regioneducacion.fedu@udea.edu.co  \n",
    "Coordinador Regiones  \n",
    "Facultad de Educación  \n",
    "Universidad de Antioquia  "
   ]
  },
  {
   "cell_type": "markdown",
   "id": "b1db4b6c",
   "metadata": {
    "slideshow": {
     "slide_type": "slide"
    }
   },
   "source": [
    "## Monitor Manuel San Juan Serrano\n",
    "\n",
    "Contactar escribiendo al correo: manuel.serrano1@udea.edu.co"
   ]
  },
  {
   "cell_type": "markdown",
   "id": "39559692",
   "metadata": {
    "slideshow": {
     "slide_type": "slide"
    }
   },
   "source": [
    "Martes y jueves de 8 - 12  \n",
    "Miércoles 10 - 12 y de 2 a 4 PM  \n",
    "Sábado: 8 - 12"
   ]
  },
  {
   "cell_type": "markdown",
   "id": "10bce0d0",
   "metadata": {
    "slideshow": {
     "slide_type": "slide"
    }
   },
   "source": [
    "## Referentes "
   ]
  },
  {
   "cell_type": "markdown",
   "id": "1db3c468",
   "metadata": {
    "slideshow": {
     "slide_type": "slide"
    }
   },
   "source": [
    "* [CALCULO I DE UNA VARIABLE Ron Larson-Bruce Edwards. Mc Graw Hill. 9º Edición](https://www.academia.edu/42139251/CALCULO_I_DE_UNA_VARIABLE_Ron_Larson_Bruce_Edwards_Mc_Graw_Hill_9o_Edici%C3%B3n)   \n",
    "  \n",
    "\n",
    "* [Grajales Vanegas, L. M., Restrepo Estrada, C. E., Restrepo Ochoa, S. I., & Ruíz De Villalba, F. (2015). Matemáticas I para las ciencias económicas.](https://bibliotecadigital.udea.edu.co/handle/10495/3010)\n",
    "  \n",
    "* R. Duval y Semiosis y pensamiento humano, 2.ª ed. Cali, Colombia: Programa Editorial Universidad del Valle, 2017. [En línea]. Disponible en: https://programaeditorial.univalle.edu.co/gpd-semiosis-y-pensamiento-humano-9789587655278-63324cdb0f6b3.html\n",
    "\n",
    "* [Aylwin, C. U. (2011). Lógica, conjuntos y números. Universidad de los Andes, Consejo de Publicaciones, Colección: Ciencias Básicas, Serie: Matemáticas.](chrome-extension://efaidnbmnnnibpcajpcglclefindmkaj/https://www.u-cursos.cl/ciencias/2011/1/MC110/1/material_docente/bajar?id_material=574722)\n",
    "  \n",
    "* [Chollet, F. (2021). Deep learning with Python. Simon and Schuster.](chrome-extension://efaidnbmnnnibpcajpcglclefindmkaj/https://tanthiamhuat.wordpress.com/wp-content/uploads/2018/03/deeplearningwithpython.pdf)  \n",
    "  \n",
    "* [Watson, S., Stewart, J., & Redlin, L. (2009). Precálculo. Matemáticas para el cálculo.](https://github.com/marco-canas/calculo/blob/main/referents/1_precalculo_stewart/stewart_precalculo.pdf)  \n",
    "\n",
    "* [Purcell, E. J., Varberg, D., & Rigdon, S. E. (2007). Cálculo diferencial e integral. Pearson Educación.](https://github.com/marco-canas/calculo/blob/main/referents/purcell/purcell_calculo.pdf)\n",
    "\n",
    "  \n",
    "\n",
    "* [stewart cálculo](https://udeaeduco-my.sharepoint.com/:b:/g/personal/marco_canas_udea_edu_co/EZgXZjAp8QxPqOAim2hs6LcBNPLGjSHf-xwYnUVYkwa04w?e=RZdTCy)  \n",
    "\n",
    "\n",
    "\n",
    "\n",
    "\n",
    "* [Recomendación de la UNESCO sobre ciencia abierta](https://unesdoc.unesco.org/ark:/48223/pf0000379949_spa)\n",
    "\n",
    "* [chatGPT](https://openai.com/blog/chatgpt)  \n",
    "\n",
    "* [Géron, A. (2017). Hands-on machine learning with scikit-learn and tensorflow: Concepts. Tools, and Techniques to build intelligent systems.](chrome-extension://efaidnbmnnnibpcajpcglclefindmkaj/http://14.139.161.31/OddSem-0822-1122/Hands-On_Machine_Learning_with_Scikit-Learn-Keras-and-TensorFlow-2nd-Edition-Aurelien-Geron.pdf)   \n"
   ]
  },
  {
   "cell_type": "markdown",
   "id": "df925560",
   "metadata": {},
   "source": [
    "\n",
    "* [McKinney, W. (2012). Python for data analysis: Data wrangling with Pandas, NumPy, and IPython. \" O'Reilly Media, Inc.\".](https://wesmckinney.com/book/) "
   ]
  },
  {
   "cell_type": "markdown",
   "id": "8e65d6f9",
   "metadata": {},
   "source": [
    "# Como estudiante, encuentro que...   \n",
    "\n",
    "F: Mis Fortalezas son:     \n",
    "O: Mis Oportunidades son:    \n",
    "D: Mis Debilidades son:    \n",
    "A: Lo que Amenazas mi aprendizaje es:  "
   ]
  },
  {
   "cell_type": "markdown",
   "id": "6b9e56a8",
   "metadata": {
    "slideshow": {
     "slide_type": "slide"
    }
   },
   "source": [
    "### [Evaluamos al profesor Marco Cañas Aquí](https://forms.office.com/Pages/ResponsePage.aspx?id=IefhmYRxjkmK_7KtTlPBwkanXIs1i1FEujpsZgO6dXpUREJPV1kxUk1JV1ozTFJIQVNIQjY5WEY3US4u)"
   ]
  },
  {
   "cell_type": "markdown",
   "id": "10f43536",
   "metadata": {
    "slideshow": {
     "slide_type": "slide"
    }
   },
   "source": [
    "### Continue su aprendizaje en la siguiente clase a través del siguiente [vínculo]()"
   ]
  },
  {
   "cell_type": "markdown",
   "id": "53cc9115",
   "metadata": {
    "slideshow": {
     "slide_type": "slide"
    }
   },
   "source": [
    "## Agradecimientos  \n",
    "\n",
    "Doy gracias a Dios por la vida de mi Hijo Joseph Cañas Osorio y la madurez que ha alcanzado. Este hijo me enorgullece y me hace falta abrazarlo cada día. \n",
    "\n",
    "Y a mi esposa Yasmira Emperatriz Barboza Mogollón por su apoyo, orientación y acompañamiento. "
   ]
  },
  {
   "cell_type": "markdown",
   "id": "b6ba1c23",
   "metadata": {},
   "source": [
    "# Apéndice sobre calendarios y coordinaciones \n",
    "\n",
    "A continuación le envío el horario de la asignatura Cálculo Vectorial  \n",
    "\n",
    "Días:  \n",
    "Lunes - Hora: 7:00 a 12:00M  \n",
    "Fechas:  \n",
    "Febrero: 10-17-24                                          \n",
    " Marzo: 3-10-17-31                                                  \n",
    "Abril:7-21-28                                                   \n",
    "Mayo:5-12-19  \n",
    "\n",
    "Agradezco su apoyo, y si presenta alguna dificultad puede contactarme.  \n",
    "\n",
    "Cordialmente,  \n",
    "Juan Felipe Rivera Hernández  \n",
    "Contacto: 3106314300  "
   ]
  },
  {
   "cell_type": "markdown",
   "id": "0e66cd7c",
   "metadata": {},
   "source": [
    "# Clase de análisis numérico los Martes de 8 a 12 del medio día. "
   ]
  },
  {
   "cell_type": "markdown",
   "id": "c5ff61b1",
   "metadata": {},
   "source": []
  }
 ],
 "metadata": {
  "celltoolbar": "Slideshow",
  "kernelspec": {
   "display_name": ".venv",
   "language": "python",
   "name": "python3"
  },
  "language_info": {
   "codemirror_mode": {
    "name": "ipython",
    "version": 3
   },
   "file_extension": ".py",
   "mimetype": "text/x-python",
   "name": "python",
   "nbconvert_exporter": "python",
   "pygments_lexer": "ipython3",
   "version": "3.12.6"
  },
  "rise": {
   "enable_chalkboard": true,
   "theme": "sky",
   "transition": "zoom"
  }
 },
 "nbformat": 4,
 "nbformat_minor": 5
}