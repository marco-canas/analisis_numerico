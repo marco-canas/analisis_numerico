{
 "cells": [
  {
   "cell_type": "markdown",
   "id": "dc06dec7",
   "metadata": {
    "slideshow": {
     "slide_type": "slide"
    }
   },
   "source": [
    "<table align=\"left\">\n",
    "  <td>\n",
    "    <a href=\"https://colab.research.google.com/github/marco-canas/didactica_ciencia_datos/blob/main/1_curso_machine_learning/1_evaluacion_oral_tarea_quiz_parcial.ipynb\" target=\"_parent\"><img src=\"https://colab.research.google.com/assets/colab-badge.svg\" alt=\"Open In Colab\"/></a>\n",
    "  </td>\n",
    "  <td>\n",
    "    <a target=\"_blank\" href=\"https://kaggle.com/kernels/welcome?src=https://github.com/marco-canas/didactica_ciencia_datos/blob/main/1_curso_machine_learning/1_evaluacion_oral_tarea_quiz_parcial.ipynb\"><img src=\"https://kaggle.com/static/images/open-in-kaggle.svg\" /></a>\n",
    "  </td>\n",
    "</table>"
   ]
  },
  {
   "cell_type": "markdown",
   "id": "e0c5b198",
   "metadata": {
    "slideshow": {
     "slide_type": "slide"
    }
   },
   "source": [
    "### [Video de apoyo a la lectura interactiva y experimental de este cuaderno]()"
   ]
  },
  {
   "cell_type": "markdown",
   "id": "41e82203",
   "metadata": {
    "slideshow": {
     "slide_type": "slide"
    }
   },
   "source": [
    "## [Vínculo al programa del curso:  ]()"
   ]
  },
  {
   "cell_type": "markdown",
   "id": "ca46c23b",
   "metadata": {
    "slideshow": {
     "slide_type": "slide"
    }
   },
   "source": [
    "# Modelo general de clase: [aula invertida](https://www3.gobiernodecanarias.org/medusa/ecoescuela/pedagotic/aprendizaje-invertido-flipped-classroom/)\n"
   ]
  },
  {
   "cell_type": "markdown",
   "id": "7f9be90f",
   "metadata": {
    "slideshow": {
     "slide_type": "slide"
    }
   },
   "source": [
    "# Fomento de la lectura literaria asociada a Ingeniería agropecuaria y licenciatura en Matemáticas y administración de empresas\n",
    "\n",
    "[Hábitos atómicos](https://github.com/marco-canas/habitos_atomicos/blob/main/13_como_dejar_de_postergar_usando_la_regla_de_los_dos_minutos/1_13_como_dejar_de_postergar_usando_la_regla_de_los_dos_minutos.ipynb)"
   ]
  },
  {
   "cell_type": "markdown",
   "id": "96775931",
   "metadata": {
    "slideshow": {
     "slide_type": "slide"
    }
   },
   "source": [
    "# Título de la clase: Realización evaluación oral, de Tareas en cuadernos Jupyter, Quiz o Parcial de selección múltiple o de preguntas cerradas.  \n",
    "\n"
   ]
  },
  {
   "cell_type": "markdown",
   "id": "cf101603",
   "metadata": {},
   "source": [
    "# Prompt para pedir el diseño de evaluación de acuerdo a la metodología de \"Enseñanza basada en proyectos\"  \n",
    "\n",
    "Dame, por favor, una propuesta de evaluación de esta clase bajo la metodología de enseñanza: \"Aprendizaje basado en proyectos\". Pero además incluye una evaluación escrita tipo quiz y una tipo parcial. "
   ]
  },
  {
   "cell_type": "markdown",
   "id": "42797498",
   "metadata": {},
   "source": [
    "A continuación, se presenta un diseño de clase con el enfoque de Aula Invertida, STEAMS y Aprendizaje Basado en Problemas y Proyectos (ABPP) sobre la \"Implementación de la integración numérica para la determinación de la probabilidad de precipitación o lluvia en Caucasia - Antioquia\". Este diseño está orientado a que los estudiantes aprendan de manera experimental utilizando cuadernos Jupyter y diversas bibliotecas de Python para análisis y visualización de datos.\n"
   ]
  },
  {
   "cell_type": "markdown",
   "id": "351208bb",
   "metadata": {},
   "source": [
    "\n",
    "**1. Título de la clase:**\n",
    "Implementación de la integración numérica para determinar la probabilidad de precipitación en Caucasia, Antioquia.\n"
   ]
  },
  {
   "cell_type": "markdown",
   "id": "6a6894d0",
   "metadata": {},
   "source": [
    "\n",
    "**2. Objetivos de aprendizaje e indicadores de logro:**\n",
    "\n",
    "- **Objetivo 1:** Analizar datos históricos de precipitación en Caucasia para identificar patrones y tendencias.\n",
    "  - *Indicador de logro:* El estudiante obtiene y visualiza datos históricos de precipitación, identificando patrones relevantes.\n",
    "\n",
    "- **Objetivo 2:** Aplicar técnicas de ajuste de distribuciones de probabilidad utilizando Python para modelar los datos de precipitación.\n",
    "  - *Indicador de logro:* El estudiante utiliza `scipy` para ajustar una función de distribución de probabilidad a los datos y evalúa su adecuación.\n",
    "\n",
    "- **Objetivo 3:** Implementar métodos de integración numérica para calcular probabilidades acumuladas de precipitación.\n",
    "  - *Indicador de logro:* El estudiante desarrolla una función en Python que calcula la probabilidad acumulada de precipitación para un intervalo de tiempo específico.\n",
    "\n",
    "- **Objetivo 4:** Determinar el número óptimo de subdivisiones en la integración numérica para alcanzar una precisión deseada.\n",
    "  - *Indicador de logro:* El estudiante implementa una función en Python que estima el número de rectángulos necesarios para una precisión de integración específica.\n"
   ]
  },
  {
   "cell_type": "markdown",
   "id": "9a788a23",
   "metadata": {},
   "source": [
    "\n",
    "**3. Mapa conceptual:**\n",
    "\n",
    "El mapa conceptual se ha elaborado utilizando Graphviz en Python y se ha renderizado en la ubicación especificada: `C:\\Users\\marco\\Descargas`. Este mapa ilustra la relación entre los datos históricos de precipitación, el ajuste de distribuciones de probabilidad, la integración numérica y la determinación de la probabilidad de lluvia.\n"
   ]
  },
  {
   "cell_type": "code",
   "execution_count": 2,
   "id": "76e57b60",
   "metadata": {},
   "outputs": [
    {
     "name": "stdout",
     "output_type": "stream",
     "text": [
      "Mapa conceptual generado en C:\\Users\\marco\\Descargas\\mapa_conceptual_lluvia.png\n"
     ]
    }
   ],
   "source": [
    "from graphviz import Digraph\n",
    "\n",
    "# Crear un objeto Digraph\n",
    "dot = Digraph(\"Mapa_Conceptual\", format=\"png\")\n",
    "\n",
    "# Especificar la ubicación de salida\n",
    "dot.attr(dpi=\"300\")\n",
    "dot.attr(outputdir=\"C:\\\\Users\\\\marco\\\\Descargas\")\n",
    "\n",
    "# Nodo principal\n",
    "dot.node(\"P\", \"Probabilidad de Precipitación en Caucasia\")\n",
    "\n",
    "# Nodos secundarios\n",
    "dot.node(\"D\", \"Datos Históricos de Precipitación\")\n",
    "dot.node(\"A\", \"Ajuste de Distribuciones de Probabilidad\")\n",
    "dot.node(\"I\", \"Integración Numérica\")\n",
    "\n",
    "dot.node(\"H\", \"Histograma de Precipitación\")\n",
    "dot.node(\"F\", \"Función de Distribución Acumulada (FDA)\")\n",
    "dot.node(\"M\", \"Métodos de Integración Numérica\")\n",
    "dot.node(\"N\", \"Número Óptimo de Subdivisiones\")\n",
    "\n",
    "# Relaciones\n",
    "dot.edge(\"D\", \"H\", label=\"Visualización y Exploración\")\n",
    "dot.edge(\"H\", \"A\", label=\"Ajuste de Distribución\")\n",
    "dot.edge(\"A\", \"F\", label=\"Estimación de Probabilidades\")\n",
    "dot.edge(\"F\", \"I\", label=\"Aplicación de Integración\")\n",
    "dot.edge(\"I\", \"M\", label=\"Método de Cuadratura\")\n",
    "dot.edge(\"I\", \"N\", label=\"Cálculo de Precisión\")\n",
    "dot.edge(\"M\", \"P\", label=\"Cálculo Probabilístico\")\n",
    "dot.edge(\"N\", \"P\", label=\"Precisión en la Estimación\")\n",
    "\n",
    "# Renderizar y guardar el archivo\n",
    "dot.render(\"C:\\\\Users\\\\marco\\\\Descargas\\\\mapa_conceptual_lluvia\", view = True)\n",
    "\n",
    "print(\"Mapa conceptual generado en C:\\\\Users\\\\marco\\\\Descargas\\\\mapa_conceptual_lluvia.png\")\n"
   ]
  },
  {
   "cell_type": "markdown",
   "id": "558d9cb3",
   "metadata": {},
   "source": [
    "\n",
    "**4. Elementos históricos y epistemológicos relevantes:**\n",
    "\n",
    "- **Historia de la integración numérica:** Desde los métodos de cuadratura en la antigua Grecia hasta los algoritmos computacionales modernos, la integración numérica ha sido fundamental en el cálculo de áreas y probabilidades.\n",
    "\n",
    "- **Meteorología y predicción climática:** El estudio sistemático de patrones climáticos ha evolucionado desde observaciones empíricas hasta modelos predictivos sofisticados, apoyados en análisis estadísticos y computacionales.\n"
   ]
  },
  {
   "cell_type": "markdown",
   "id": "6a5c2dd7",
   "metadata": {},
   "source": [
    "\n",
    "**5. Contenido de la clase:**\n",
    "\n",
    "1. **Obtención de datos reales de precipitación:**\n",
    "   - Acceder a datos históricos de precipitación en Caucasia, Antioquia, de los últimos 20 años. Una fuente recomendada es [World Weather Online](https://www.worldweatheronline.com/caucasia-weather-history/antioquia/co.aspx).\n",
    "\n",
    "2. **Visualización del histograma:**\n",
    "   - Utilizar bibliotecas como `Pandas` y `Matplotlib` para cargar y visualizar los datos en forma de histograma, identificando la distribución de las precipitaciones.\n",
    "\n",
    "3. **Ajuste de la función de distribución de probabilidad:**\n",
    "   - Emplear `scipy.stats` para probar diferentes distribuciones (e.g., normal, gamma) y determinar cuál se ajusta mejor a los datos mediante pruebas de bondad de ajuste.\n",
    "\n",
    "4. **Determinación de la probabilidad de lluvia para la semana del 23 de febrero de 2025:**\n",
    "   - Utilizar la función de distribución acumulada (FDA) ajustada para calcular la probabilidad de que la precipitación exceda un umbral específico durante la semana en cuestión.\n",
    "\n",
    "**6. Deducción de una función en Python para determinar el número de rectángulos \\( n \\) necesarios para una precisión de la suma de Riemann dada \\( \\epsilon = 0.0001 \\):**\n",
    "\n",
    "- **Concepto:** La suma de Riemann se utiliza para aproximar el valor de una integral definida. La precisión de esta aproximación depende del número de subdivisiones $n$.\n",
    "\n",
    "- **Función propuesta:**\n"
   ]
  },
  {
   "cell_type": "code",
   "execution_count": 3,
   "id": "5f08b699",
   "metadata": {},
   "outputs": [],
   "source": [
    "import numpy as np\n",
    "\n",
    "def calcular_n(f, a, b, epsilon):\n",
    "    \"\"\"\n",
    "    Calcula el número mínimo de rectángulos necesarios para que la suma de Riemann\n",
    "    de la función f en el intervalo [a, b] tenga una precisión menor o igual a epsilon.\n",
    "    \"\"\"\n",
    "    n = 1\n",
    "    error = epsilon + 1  # Inicializar error para entrar en el bucle\n",
    "    while error > epsilon:\n",
    "        n *= 2\n",
    "        x = np.linspace(a, b, n+1)\n",
    "        y = f(x)\n",
    "        integral_aprox = np.sum(y[:-1]) * (b - a) / n\n",
    "        integral_aprox_doble = np.sum(y) * (b - a) / (n + 1)\n",
    "        error = abs(integral_aprox_doble - integral_aprox)\n",
    "    return n\n",
    "\n"
   ]
  },
  {
   "cell_type": "code",
   "execution_count": 4,
   "id": "7773152b",
   "metadata": {},
   "outputs": [
    {
     "ename": "TypeError",
     "evalue": "calcular_n() missing 4 required positional arguments: 'f', 'a', 'b', and 'epsilon'",
     "output_type": "error",
     "traceback": [
      "\u001b[1;31m---------------------------------------------------------------------------\u001b[0m",
      "\u001b[1;31mTypeError\u001b[0m                                 Traceback (most recent call last)",
      "Cell \u001b[1;32mIn[4], line 1\u001b[0m\n\u001b[1;32m----> 1\u001b[0m \u001b[43mcalcular_n\u001b[49m\u001b[43m(\u001b[49m\u001b[43m)\u001b[49m\n",
      "\u001b[1;31mTypeError\u001b[0m: calcular_n() missing 4 required positional arguments: 'f', 'a', 'b', and 'epsilon'"
     ]
    }
   ],
   "source": [
    "calcular_n()"
   ]
  },
  {
   "cell_type": "markdown",
   "id": "b3c1c865",
   "metadata": {},
   "source": [
    "\n",
    "  Esta función duplica el número de rectángulos hasta que el error entre dos aproximaciones consecutivas sea menor que $\\epsilon$.\n",
    "\n",
    "**7. Actividades de aprendizaje:**\n",
    "\n",
    "- **Pruebas de escritorio:**\n",
    "  - Analizar manualmente casos simples de integración para comprender el funcionamiento del algoritmo antes de implementarlo.\n",
    "\n",
    "- **Pseudocódigo y diagramas de flujo:**\n",
    "  - Desarrollar el pseudocódigo y el diagrama de flujo de la función `calcular_n` para visualizar su lógica y estructura.\n",
    "\n",
    "- **Implementación en Python:**\n",
    "  - Codificar la función en un cuaderno Jupyter, probarla con diferentes funciones y comparar los resultados con integrales conocidas.\n"
   ]
  },
  {
   "cell_type": "markdown",
   "id": "75ae4c8b",
   "metadata": {},
   "source": [
    "\n",
    "**8. Canción o poema para interiorizar conceptos:**\n",
    "\n",
    "*Integrando la lluvia*\n",
    "\n",
    "En Caucasia, gotas caen sin cesar,\n",
    "Un patrón que queremos descifrar.\n",
    "Con datos y funciones por explorar,\n",
    "La probabilidad vamos a calcular "
   ]
  },
  {
   "cell_type": "markdown",
   "id": "5815bc5b",
   "metadata": {},
   "source": [
    "9. Tarea o actividades de ejercitación y fijación\n",
    "\n",
    "Para reforzar el aprendizaje, se asignarán las siguientes actividades:\n",
    "\n",
    "  1. Descargar datos históricos de precipitación de Caucasia - Antioquia y realizar un análisis exploratorio.\n",
    "\n",
    "  2. Crear un histograma de los datos usando Matplotlib y Seaborn.\n",
    "\n",
    "  3. Ajustar diferentes distribuciones de probabilidad con SciPy y determinar cuál se adapta mejor a los datos.\n",
    "\n",
    "  4. Implementar en Python la cálculo de probabilidad de lluvia usando la Función de Distribución Acumulada (FDA).\n",
    "\n",
    "  5. Comparar los resultados obtenidos con predicciones meteorológicas oficiales.\n",
    "\n",
    "  6. Programar una función en Python que determine el número de rectángulos necesarios para alcanzar una precisión dada en la suma de Riemann.\n",
    "\n",
    "  7. Elaborar un informe en Jupyter Notebook con visualizaciones, explicaciones y análisis de los resultados.\n",
    "**10. Evaluación**\n",
    "\n",
    "La evaluación de la clase se basará en:\n",
    "\n",
    "**a) Proyectos (10 en total):**\n",
    "1. Análisis de precipitación en otra región de Colombia usando el mismo método.\n",
    "2. Comparación de distribuciones de probabilidad para dos localidades.\n",
    "3. Creación de un dashboard interactivo con Plotly para visualizar datos.\n",
    "4. Implementación de otro método de integración numérica.\n",
    "5. Validación de predicciones con datos reales recientes.\n",
    "6. Desarrollo de un modelo predictivo simple con regresión logística.\n",
    "7. Simulación de efectos climáticos en precipitaciones futuras.\n",
    "8. Análisis de correlación entre temperatura y precipitación.\n",
    "9. Aplicación del cálculo de probabilidades en otro fenómeno natural.\n",
    "10. Creación de una aplicación web sencilla con Flask para consultar probabilidades de lluvia.\n",
    "\n",
    "**b) Ejemplo de quiz:**\n",
    "1. ¿Qué es la función de distribución acumulada y cómo se usa en la predicción de lluvia?\n",
    "2. Explica cómo se obtiene y visualiza un histograma de precipitación.\n",
    "3. ¿Qué bibliotecas de Python se utilizan para ajuste de distribuciones de probabilidad?\n",
    "4. Describe el proceso de integración numérica mediante la suma de Riemann.\n",
    "5. Implementa una función en Python que determine la probabilidad de lluvia en una fecha dada.\n",
    "\n",
    "**c) Ejemplo de parcial:**\n",
    "1. Obtén los datos de precipitación de una región y visualiza su histograma.\n",
    "2. Determina qué distribución de probabilidad se ajusta mejor a estos datos.\n",
    "3. Utiliza la FDA para estimar la probabilidad de lluvia en un rango de fechas.\n",
    "4. Implementa un algoritmo de integración numérica para calcular la probabilidad acumulada.\n",
    "5. Desarrolla un diagrama de flujo que represente el proceso completo.\n",
    "\n",
    "**11. Diseño de actividad de retroalimentación**\n",
    "\n",
    "Los estudiantes presentarán sus resultados en una sesión de discusión donde se analizarán los errores comunes y se proponerán mejoras a los algoritmos. Se fomentará el trabajo colaborativo para que los estudiantes puedan optimizar sus soluciones y aprender de los distintos enfoques utilizados por sus compañeros.\n",
    "\n",
    "**12. Vocabulario y frases en inglés asociadas a la clase**\n",
    "\n",
    "- **Precipitation data** (Datos de precipitación)\n",
    "- **Histogram visualization** (Visualización de histograma)\n",
    "- **Probability distribution function (PDF)** (Función de distribución de probabilidad)\n",
    "- **Cumulative distribution function (CDF)** (Función de distribución acumulada)\n",
    "- **Numerical integration** (Integración numérica)\n",
    "- **Riemann sum** (Suma de Riemann)\n",
    "- **Accuracy of approximation** (Precisión de la aproximación)\n",
    "- **Python implementation** (Implementación en Python)\n",
    "- **Data analysis and visualization** (Análisis y visualización de datos)\n",
    "- **Weather prediction using statistics** (Predicción del clima usando estadística)\n",
    "\n",
    "Con este diseño de clase, los estudiantes desarrollarán habilidades en modelado matemático, programación y análisis de datos aplicados a problemas reales, fomentando el aprendizaje experimental y basado en proyectos.\n",
    "\n"
   ]
  },
  {
   "cell_type": "markdown",
   "id": "fb9402bb",
   "metadata": {
    "slideshow": {
     "slide_type": "slide"
    }
   },
   "source": [
    "## Estrategias propuestas para la solución de las dificultades de aprendizaje detectadas"
   ]
  },
  {
   "cell_type": "markdown",
   "id": "2dd3bd5c",
   "metadata": {
    "slideshow": {
     "slide_type": "slide"
    }
   },
   "source": []
  },
  {
   "cell_type": "markdown",
   "id": "c6236d5d",
   "metadata": {},
   "source": [
    "# FODA del grupo y del profesor  \n",
    "\n",
    "* F: Fortalezas\n",
    "* O: Oportunidades\n",
    "* D: Dificultades\n",
    "* A: Amenazas."
   ]
  },
  {
   "cell_type": "markdown",
   "id": "b48f9542",
   "metadata": {},
   "source": [
    "## ¿Cómo se sintió en este espacio de enseñanza y aprendizaje?\n",
    "\n",
    "!Dios te bendiga¡"
   ]
  },
  {
   "cell_type": "markdown",
   "id": "10bce0d0",
   "metadata": {
    "slideshow": {
     "slide_type": "slide"
    }
   },
   "source": [
    "## Referentes "
   ]
  },
  {
   "cell_type": "markdown",
   "id": "d204c917",
   "metadata": {},
   "source": [
    "* [Grajales Vanegas, L. M., Restrepo Estrada, C. E., Restrepo Ochoa, S. I., & Ruíz De Villalba, F. (2015). Matemáticas I para las ciencias económicas.](https://github.com/marco-canas/fundamentos_de_la_aritmetica/blob/main/referentes/2_grajales_logica/grajales_lina_matemticas.pdf)\n",
    "  \n",
    "* Duval, R. (2004). Semiosis y pensamiento humano: registros semióticos y aprendizajes intelectuales. Universidad del Valle.\n",
    "\n",
    "* [Aylwin, C. U. (2011). Lógica, conjuntos y números. Universidad de los Andes, Consejo de Publicaciones, Colección: Ciencias Básicas, Serie: Matemáticas.](https://github.com/marco-canas/fundamentos_logica/blob/main/referentes/2_uzcategui/uscategui.pdf)\n",
    "  \n",
    "* [Chollet, F. (2021). Deep learning with Python. Simon and Schuster.](https://github.com/marco-canas/didactica_ciencia_datos/blob/main/2_referentes/chollet/Fran%C3%A7ois%20Chollet%20-%20Deep%20Learning%20with%20Python-Manning%20(2018).pdf)  \n",
    "  \n",
    "* [Watson, S., Stewart, J., & Redlin, L. (2009). Precálculo. Matemáticas para el cálculo.](https://github.com/marco-canas/calculo/blob/main/referents/1_precalculo_stewart/stewart_precalculo.pdf)  \n",
    "\n",
    "* [Purcell, E. J., Varberg, D., & Rigdon, S. E. (2007). Cálculo diferencial e integral. Pearson Educación.](https://github.com/marco-canas/calculo/blob/main/referents/purcell/purcell_calculo.pdf)\n",
    "\n",
    "  \n",
    "\n",
    "* [stewart cálculo](https://udeaeduco-my.sharepoint.com/:b:/g/personal/marco_canas_udea_edu_co/EZgXZjAp8QxPqOAim2hs6LcBNPLGjSHf-xwYnUVYkwa04w?e=RZdTCy)  \n",
    "\n",
    "* [larson](https://udeaeduco-my.sharepoint.com/:b:/g/personal/marco_canas_udea_edu_co/ES71ChFeO9ZDhW3TwC5Ijk8BjxUK3Pdqz_fjHxTTFAfIAg?e=VDEjfu)\n",
    "\n",
    "\n",
    "\n",
    "* [Recomendación de la UNESCO sobre ciencia abierta](https://unesdoc.unesco.org/ark:/48223/pf0000379949_spa)\n",
    "\n",
    "* [chatGPT](https://openai.com/blog/chatgpt)  \n",
    "\n",
    "* [Géron, A. (2017). Hands-on machine learning with scikit-learn and tensorflow: Concepts. Tools, and Techniques to build intelligent systems.](chrome-extension://efaidnbmnnnibpcajpcglclefindmkaj/http://14.139.161.31/OddSem-0822-1122/Hands-On_Machine_Learning_with_Scikit-Learn-Keras-and-TensorFlow-2nd-Edition-Aurelien-Geron.pdf)   \n"
   ]
  },
  {
   "cell_type": "markdown",
   "id": "6b9e56a8",
   "metadata": {
    "slideshow": {
     "slide_type": "slide"
    }
   },
   "source": [
    "### [Evaluamos al profesor Marco Cañas Aquí](https://forms.office.com/Pages/ResponsePage.aspx?id=IefhmYRxjkmK_7KtTlPBwkanXIs1i1FEujpsZgO6dXpUREJPV1kxUk1JV1ozTFJIQVNIQjY5WEY3US4u)"
   ]
  },
  {
   "cell_type": "markdown",
   "id": "071afa04",
   "metadata": {
    "slideshow": {
     "slide_type": "slide"
    }
   },
   "source": [
    "## [Evaluación luego de alcanzar estos objetivos de aprendizaje]()"
   ]
  },
  {
   "cell_type": "markdown",
   "id": "10f43536",
   "metadata": {
    "slideshow": {
     "slide_type": "slide"
    }
   },
   "source": [
    "### Continue su aprendizaje en la siguiente clase a través del siguiente [vínculo]()"
   ]
  },
  {
   "cell_type": "markdown",
   "id": "af751e30",
   "metadata": {
    "slideshow": {
     "slide_type": "slide"
    }
   },
   "source": [
    "# Conjeturas pedagógicas fruto de la aplicación del modelo de aprendizaje invertido y del enfoque hacia la ciencia de datos con python\n",
    "\n",
    "1. Todo cálculo o resultado debe ser interpretado en una línea markdown del cuaderno Jupyter, inmediatamente después de la enunciación del resultado y después de la presentación de una tabla o gráfico bidimensional, de tal menera que el estudiante explicite la comprensión verbal del resultado y las inferencias o estrategias que este resultado le sugieren.   "
   ]
  }
 ],
 "metadata": {
  "celltoolbar": "Slideshow",
  "kernelspec": {
   "display_name": ".venv",
   "language": "python",
   "name": "python3"
  },
  "language_info": {
   "codemirror_mode": {
    "name": "ipython",
    "version": 3
   },
   "file_extension": ".py",
   "mimetype": "text/x-python",
   "name": "python",
   "nbconvert_exporter": "python",
   "pygments_lexer": "ipython3",
   "version": "3.13.2"
  },
  "rise": {
   "enable_chalkboard": true,
   "theme": "sky",
   "transition": "zoom"
  }
 },
 "nbformat": 4,
 "nbformat_minor": 5
}