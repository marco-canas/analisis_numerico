{
 "cells": [
  {
   "cell_type": "markdown",
   "id": "dc06dec7",
   "metadata": {
    "slideshow": {
     "slide_type": "slide"
    }
   },
   "source": [
    "<table align=\"left\">\n",
    "  <td>\n",
    "    <a href=\"https://colab.research.google.com/github/marco-canas/analisis_numerico/blob/main/4_planifica_implementa/1_conceptos_preliminares/1_conceptos_preliminares_python.ipynb#scrollTo=e0c5b198\" target=\"_parent\"><img src=\"https://colab.research.google.com/assets/colab-badge.svg\" alt=\"Open In Colab\"/></a>\n",
    "  </td>\n",
    "  <td>\n",
    "    <a target=\"_blank\" href=\"https://kaggle.com/kernels/welcome?src=https://github.com/marco-canas/analisis_numerico/blob/main/4_planifica_implementa/1_conceptos_preliminares/1_conceptos_preliminares_python.ipynb#scrollTo=e0c5b198\"><img src=\"https://kaggle.com/static/images/open-in-kaggle.svg\" /></a>\n",
    "  </td>\n",
    "</table>"
   ]
  },
  {
   "cell_type": "markdown",
   "id": "8a15c4d0",
   "metadata": {},
   "source": [
    "# Script para Generar Códigos QR en Jupyter Notebook desde VS Code\n",
    "\n",
    "Aquí tienes un script de Python que te permite crear una función para generar códigos QR desde URLs y mostrarlos en un Jupyter Notebook editado en VS Code:\n"
   ]
  },
  {
   "cell_type": "code",
   "execution_count": 1,
   "id": "13d23dd2",
   "metadata": {},
   "outputs": [],
   "source": [
    "import qrcode\n",
    "from IPython.display import display\n",
    "from PIL import Image\n",
    "\n",
    "def generar_qr(url, version=1, box_size=10, border=4, fill_color=\"black\", back_color=\"white\"):\n",
    "    \"\"\"\n",
    "    Genera y muestra un código QR para una URL dada en un Jupyter Notebook.\n",
    "    \n",
    "    Parámetros:\n",
    "    - url: La URL para la cual generar el código QR\n",
    "    - version: Tamaño del QR (1-40, donde 1 es el más pequeño)\n",
    "    - box_size: Número de píxeles por cada \"caja\" del QR\n",
    "    - border: Grosor del borde blanco alrededor del QR (en cajas)\n",
    "    - fill_color: Color del código QR\n",
    "    - back_color: Color de fondo del código QR\n",
    "    \n",
    "    Retorna:\n",
    "    - Muestra el código QR directamente en el notebook\n",
    "    - Retorna el objeto QR generado\n",
    "    \"\"\"\n",
    "    # Configurar el generador de QR\n",
    "    qr = qrcode.QRCode(\n",
    "        version=version,\n",
    "        error_correction=qrcode.constants.ERROR_CORRECT_L,\n",
    "        box_size=box_size,\n",
    "        border=border,\n",
    "    )\n",
    "    \n",
    "    # Añadir la URL al QR\n",
    "    qr.add_data(url)\n",
    "    qr.make(fit=True)\n",
    "    \n",
    "    # Crear la imagen del QR\n",
    "    img = qr.make_image(fill_color=fill_color, back_color=back_color)\n",
    "    \n",
    "    # Mostrar la imagen en el notebook\n",
    "    display(img)\n",
    "    \n",
    "    return img\n",
    "\n",
    "# Ejemplo de uso:\n",
    "# generar_qr(\"https://www.ejemplo.com\")\n",
    "\n"
   ]
  },
  {
   "cell_type": "code",
   "execution_count": 10,
   "id": "626213f5",
   "metadata": {},
   "outputs": [
    {
     "data": {
      "image/jpeg": "[encoded data removed]",
      "image/png": "[encoded data removed]",
      "text/plain": [
       "<qrcode.image.pil.PilImage at 0x13f339a0150>"
      ]
     },
     "metadata": {},
     "output_type": "display_data"
    },
    {
     "data": {
      "image/jpeg": "[encoded data removed]",
      "image/png": "[encoded data removed]",
      "text/plain": [
       "<qrcode.image.pil.PilImage at 0x13f339a0150>"
      ]
     },
     "execution_count": 10,
     "metadata": {},
     "output_type": "execute_result"
    }
   ],
   "source": [
    "generar_qr(\"https://colab.research.google.com/github/marco-canas/analisis_numerico/blob/main/4_planifica_implementa/1_conceptos_preliminares/1_conceptos_preliminares_python.ipynb#scrollTo=e0c5b198\")"
   ]
  },
  {
   "cell_type": "markdown",
   "id": "fd953404",
   "metadata": {},
   "source": [
    "\n",
    "2. **Cómo usar**:\n"
   ]
  },
  {
   "cell_type": "markdown",
   "id": "b178aeaa",
   "metadata": {},
   "source": [
    "\n",
    "3. **Personalización**:\n",
    "   - Puedes ajustar parámetros como tamaño, colores, etc.:\n",
    "     ```python\n",
    "     generar_qr(\"https://www.github.com\", \n",
    "               version=3, \n",
    "               box_size=15, \n",
    "               border=2, \n",
    "               fill_color=\"blue\", \n",
    "               back_color=\"lightgray\")\n",
    "     ```\n"
   ]
  },
  {
   "cell_type": "markdown",
   "id": "5018d489",
   "metadata": {},
   "source": [
    "\n",
    "Este script generará el código QR y lo mostrará directamente en el notebook, aprovechando las capacidades de visualización de Jupyter en VS Code.\n"
   ]
  },
  {
   "cell_type": "markdown",
   "id": "e0c5b198",
   "metadata": {
    "slideshow": {
     "slide_type": "slide"
    }
   },
   "source": [
    "### [Video de apoyo a la lectura interactiva y experimental de este cuaderno](https://www.youtube.com/watch?v=WtdsLUK3FEk)"
   ]
  },
  {
   "cell_type": "markdown",
   "id": "41e82203",
   "metadata": {
    "slideshow": {
     "slide_type": "slide"
    }
   },
   "source": [
    "### [Vínculo al programa del curso de Análisis Numérico:](https://github.com/marco-canas/analisis_numerico/blob/main/2_programa_curso/2_programa_curso_analisis_numerico.md)\n",
    "\n"
   ]
  },
  {
   "cell_type": "markdown",
   "id": "d11ab06d",
   "metadata": {
    "slideshow": {
     "slide_type": "slide"
    }
   },
   "source": [
    "Un reconocimiento a mis estudiantes que han construido conmigo este saber pedagógico:\n"
   ]
  },
  {
   "cell_type": "markdown",
   "id": "842f18ce",
   "metadata": {},
   "source": [
    "\n",
    "<img src = 'https://github.com/marco-canas/analisis_numerico/blob/main/7_images/analisis_numerico_primera_clase_2025-08-08%20_17.39..jpg?raw=true'> \n"
   ]
  },
  {
   "cell_type": "markdown",
   "id": "724d1bbd",
   "metadata": {},
   "source": [
    "\n",
    "<img src = 'https://github.com/marco-canas/analisis_numerico/blob/main/7_images/clase_2_2025-08-15_hora_17_22.jpg?raw=true'>"
   ]
  },
  {
   "cell_type": "markdown",
   "id": "8a74a56c-0ce6-4ad6-b985-553fd7fb68bb",
   "metadata": {},
   "source": [
    "Reconocimiento a las profesoras destacadas en enseñanza de la matemática en Colombia\n"
   ]
  },
  {
   "cell_type": "code",
   "execution_count": 25,
   "id": "7604880f",
   "metadata": {
    "slideshow": {
     "slide_type": "slide"
    }
   },
   "outputs": [
    {
     "data": {
      "application/vnd.microsoft.datawrangler.viewer.v0+json": {
       "columns": [
        {
         "name": "index",
         "rawType": "int64",
         "type": "integer"
        },
        {
         "name": "Cedula",
         "rawType": "int64",
         "type": "integer"
        },
        {
         "name": "Nombre",
         "rawType": "object",
         "type": "string"
        },
        {
         "name": "Email",
         "rawType": "object",
         "type": "string"
        }
       ],
       "ref": "6edc5734-5efc-44b6-a651-397318e32366",
       "rows": [
        [
         "1",
         "1067281024",
         "ALVAREZ GOEZ DAIRO ESTEBAN",
         "dairo.alvarez1@udea.edu.co"
        ],
        [
         "2",
         "1041086439",
         "CASTILLO SIERRA SHIRLIS SARAY",
         "shirlis.castillo@udea.edu.co"
        ],
        [
         "3",
         "1045419649",
         "ESPINOSA ESPINOSA LILIANA ANDREA",
         "lilianaa.espinosa@udea.edu.co"
        ],
        [
         "4",
         "1040494191",
         "GARCIA PADILLA JHONATAN",
         "jhonatan.garcia1@udea.edu.co"
        ],
        [
         "5",
         "1038131529",
         "HOYOS ARRIETA ELIECER JOSE",
         "jose.hoyos2@udea.edu.co"
        ],
        [
         "6",
         "1038116007",
         "MARIAGA BALLESTEROS KEILA MELIZA",
         "keila.mariaga@udea.edu.co"
        ],
        [
         "7",
         "3667402",
         "MARIN MARTINEZ FRANCISCO JAVIER",
         "fjavier.marin@udea.edu.co"
        ],
        [
         "8",
         "1038092575",
         "OSORIO ACEVEDO LUIS MARIO",
         "luismario.osorio@udea.edu.co"
        ],
        [
         "9",
         "1038130817",
         "PENATE PENA JHON SEBASTIAN",
         "jhon.penate@udea.edu.co"
        ],
        [
         "10",
         "1040494087",
         "POLANCO LUCAS FABIER GABRIEL",
         "fabier.polanco@udea.edu.co"
        ],
        [
         "11",
         "1019842256",
         "RODELO ZABALA ARIANA",
         "a.rodelo@udea.edu.co"
        ],
        [
         "12",
         "1042822239",
         "RODRIGUEZ MOSQUERA ANGELA MARIA",
         "maria.rodriguez8@udea.edu.co"
        ],
        [
         "13",
         "1038436130",
         "ROHENES DE ARCO CAMILO ANDRES",
         "camilo.rohenes@udea.edu.co"
        ],
        [
         "14",
         "1038436131",
         "ROHENES DE ARCO DIEGO ANDRES",
         "diego.rohenes@udea.edu.co"
        ],
        [
         "15",
         "1038646944",
         "SILVA URDA FABIAN",
         "fabian.silva1@udea.edu.co"
        ],
        [
         "16",
         "1007429411",
         "VILLA CABARCA SANDY JANETH",
         "sandy.villac@udea.edu.co"
        ]
       ],
       "shape": {
        "columns": 3,
        "rows": 16
       }
      },
      "text/html": [
       "<div>\n",
       "<style scoped>\n",
       "    .dataframe tbody tr th:only-of-type {\n",
       "        vertical-align: middle;\n",
       "    }\n",
       "\n",
       "    .dataframe tbody tr th {\n",
       "        vertical-align: top;\n",
       "    }\n",
       "\n",
       "    .dataframe thead th {\n",
       "        text-align: right;\n",
       "    }\n",
       "</style>\n",
       "<table border=\"1\" class=\"dataframe\">\n",
       "  <thead>\n",
       "    <tr style=\"text-align: right;\">\n",
       "      <th></th>\n",
       "      <th>Cedula</th>\n",
       "      <th>Nombre</th>\n",
       "      <th>Email</th>\n",
       "    </tr>\n",
       "  </thead>\n",
       "  <tbody>\n",
       "    <tr>\n",
       "      <th>1</th>\n",
       "      <td>1067281024</td>\n",
       "      <td>ALVAREZ GOEZ DAIRO ESTEBAN</td>\n",
       "      <td>dairo.alvarez1@udea.edu.co</td>\n",
       "    </tr>\n",
       "    <tr>\n",
       "      <th>2</th>\n",
       "      <td>1041086439</td>\n",
       "      <td>CASTILLO SIERRA SHIRLIS SARAY</td>\n",
       "      <td>shirlis.castillo@udea.edu.co</td>\n",
       "    </tr>\n",
       "    <tr>\n",
       "      <th>3</th>\n",
       "      <td>1045419649</td>\n",
       "      <td>ESPINOSA ESPINOSA LILIANA ANDREA</td>\n",
       "      <td>lilianaa.espinosa@udea.edu.co</td>\n",
       "    </tr>\n",
       "    <tr>\n",
       "      <th>4</th>\n",
       "      <td>1040494191</td>\n",
       "      <td>GARCIA PADILLA JHONATAN</td>\n",
       "      <td>jhonatan.garcia1@udea.edu.co</td>\n",
       "    </tr>\n",
       "    <tr>\n",
       "      <th>5</th>\n",
       "      <td>1038131529</td>\n",
       "      <td>HOYOS ARRIETA ELIECER JOSE</td>\n",
       "      <td>jose.hoyos2@udea.edu.co</td>\n",
       "    </tr>\n",
       "    <tr>\n",
       "      <th>6</th>\n",
       "      <td>1038116007</td>\n",
       "      <td>MARIAGA BALLESTEROS KEILA MELIZA</td>\n",
       "      <td>keila.mariaga@udea.edu.co</td>\n",
       "    </tr>\n",
       "    <tr>\n",
       "      <th>7</th>\n",
       "      <td>3667402</td>\n",
       "      <td>MARIN MARTINEZ FRANCISCO JAVIER</td>\n",
       "      <td>fjavier.marin@udea.edu.co</td>\n",
       "    </tr>\n",
       "    <tr>\n",
       "      <th>8</th>\n",
       "      <td>1038092575</td>\n",
       "      <td>OSORIO ACEVEDO LUIS MARIO</td>\n",
       "      <td>luismario.osorio@udea.edu.co</td>\n",
       "    </tr>\n",
       "    <tr>\n",
       "      <th>9</th>\n",
       "      <td>1038130817</td>\n",
       "      <td>PENATE PENA JHON SEBASTIAN</td>\n",
       "      <td>jhon.penate@udea.edu.co</td>\n",
       "    </tr>\n",
       "    <tr>\n",
       "      <th>10</th>\n",
       "      <td>1040494087</td>\n",
       "      <td>POLANCO LUCAS FABIER GABRIEL</td>\n",
       "      <td>fabier.polanco@udea.edu.co</td>\n",
       "    </tr>\n",
       "    <tr>\n",
       "      <th>11</th>\n",
       "      <td>1019842256</td>\n",
       "      <td>RODELO ZABALA ARIANA</td>\n",
       "      <td>a.rodelo@udea.edu.co</td>\n",
       "    </tr>\n",
       "    <tr>\n",
       "      <th>12</th>\n",
       "      <td>1042822239</td>\n",
       "      <td>RODRIGUEZ MOSQUERA ANGELA MARIA</td>\n",
       "      <td>maria.rodriguez8@udea.edu.co</td>\n",
       "    </tr>\n",
       "    <tr>\n",
       "      <th>13</th>\n",
       "      <td>1038436130</td>\n",
       "      <td>ROHENES DE ARCO CAMILO ANDRES</td>\n",
       "      <td>camilo.rohenes@udea.edu.co</td>\n",
       "    </tr>\n",
       "    <tr>\n",
       "      <th>14</th>\n",
       "      <td>1038436131</td>\n",
       "      <td>ROHENES DE ARCO DIEGO ANDRES</td>\n",
       "      <td>diego.rohenes@udea.edu.co</td>\n",
       "    </tr>\n",
       "    <tr>\n",
       "      <th>15</th>\n",
       "      <td>1038646944</td>\n",
       "      <td>SILVA URDA FABIAN</td>\n",
       "      <td>fabian.silva1@udea.edu.co</td>\n",
       "    </tr>\n",
       "    <tr>\n",
       "      <th>16</th>\n",
       "      <td>1007429411</td>\n",
       "      <td>VILLA CABARCA SANDY JANETH</td>\n",
       "      <td>sandy.villac@udea.edu.co</td>\n",
       "    </tr>\n",
       "  </tbody>\n",
       "</table>\n",
       "</div>"
      ],
      "text/plain": [
       "        Cedula                            Nombre  \\\n",
       "1   1067281024        ALVAREZ GOEZ DAIRO ESTEBAN   \n",
       "2   1041086439     CASTILLO SIERRA SHIRLIS SARAY   \n",
       "3   1045419649  ESPINOSA ESPINOSA LILIANA ANDREA   \n",
       "4   1040494191           GARCIA PADILLA JHONATAN   \n",
       "5   1038131529        HOYOS ARRIETA ELIECER JOSE   \n",
       "6   1038116007  MARIAGA BALLESTEROS KEILA MELIZA   \n",
       "7      3667402   MARIN MARTINEZ FRANCISCO JAVIER   \n",
       "8   1038092575         OSORIO ACEVEDO LUIS MARIO   \n",
       "9   1038130817        PENATE PENA JHON SEBASTIAN   \n",
       "10  1040494087      POLANCO LUCAS FABIER GABRIEL   \n",
       "11  1019842256              RODELO ZABALA ARIANA   \n",
       "12  1042822239   RODRIGUEZ MOSQUERA ANGELA MARIA   \n",
       "13  1038436130     ROHENES DE ARCO CAMILO ANDRES   \n",
       "14  1038436131      ROHENES DE ARCO DIEGO ANDRES   \n",
       "15  1038646944                 SILVA URDA FABIAN   \n",
       "16  1007429411        VILLA CABARCA SANDY JANETH   \n",
       "\n",
       "                            Email  \n",
       "1      dairo.alvarez1@udea.edu.co  \n",
       "2    shirlis.castillo@udea.edu.co  \n",
       "3   lilianaa.espinosa@udea.edu.co  \n",
       "4    jhonatan.garcia1@udea.edu.co  \n",
       "5         jose.hoyos2@udea.edu.co  \n",
       "6       keila.mariaga@udea.edu.co  \n",
       "7       fjavier.marin@udea.edu.co  \n",
       "8    luismario.osorio@udea.edu.co  \n",
       "9         jhon.penate@udea.edu.co  \n",
       "10     fabier.polanco@udea.edu.co  \n",
       "11           a.rodelo@udea.edu.co  \n",
       "12   maria.rodriguez8@udea.edu.co  \n",
       "13     camilo.rohenes@udea.edu.co  \n",
       "14      diego.rohenes@udea.edu.co  \n",
       "15      fabian.silva1@udea.edu.co  \n",
       "16       sandy.villac@udea.edu.co  "
      ]
     },
     "execution_count": 25,
     "metadata": {},
     "output_type": "execute_result"
    }
   ],
   "source": [
    "import pandas as pd\n",
    "import numpy as np\n",
    "\n",
    "# Cargar la lista de estudiantes desde el archivo CSV\n",
    "path = 'C:/Users/marco/Documentos/docencia/groups_list/metodos_numericos.xlsx'\n",
    "df = pd.read_excel(path)\n",
    "df.index = range(1, len(df) + 1)\n",
    "df\n"
   ]
  },
  {
   "cell_type": "markdown",
   "id": "d7598d0a-d9b7-4ae0-b029-a0ed6ed1130b",
   "metadata": {},
   "source": [
    "\n",
    "# Principios de mi labor docente"
   ]
  },
  {
   "cell_type": "markdown",
   "id": "4f9d8cf9",
   "metadata": {
    "slideshow": {
     "slide_type": "slide"
    }
   },
   "source": [
    "## Modelo general de clase: [aula invertida](https://www3.gobiernodecanarias.org/medusa/ecoescuela/pedagotic/aprendizaje-invertido-flipped-classroom/)"
   ]
  },
  {
   "cell_type": "markdown",
   "id": "eb6ed03a",
   "metadata": {},
   "source": [
    "<img src = 'https://resources.maneuveringthemiddle.com/wp-content/uploads/2020/07/04212706/1-5.png' width = 200>  \n",
    "\n"
   ]
  },
  {
   "cell_type": "markdown",
   "id": "34319cce-a71b-4f64-aab8-b53e521efa40",
   "metadata": {},
   "source": [
    "# Metodología de Aprendizaje Basado en Problemas y Proyectos (ABPP) \n"
   ]
  },
  {
   "cell_type": "markdown",
   "id": "c4f73d81",
   "metadata": {},
   "source": [
    "\n",
    "<img src = 'https://www.unir.net/wp-content/uploads/2020/07/aprendizaje-problemas2-1-1-1-1.jpeg' width = 200>"
   ]
  },
  {
   "cell_type": "markdown",
   "id": "841a985c-bd9b-4dd3-8e4c-893983980af2",
   "metadata": {},
   "source": [
    "# Desarrollo del pensamiento computacional con Lenguajes Python, R; y con archivos Markdown y R-Markdown orientado a la formación en ciencia de datos \n",
    "\n"
   ]
  },
  {
   "cell_type": "markdown",
   "id": "3d0eba94",
   "metadata": {},
   "source": [
    "\n",
    "<img src = 'https://i.ytimg.com/vi/mcG_wcR4e6M/maxresdefault.jpg' width = 200>"
   ]
  },
  {
   "cell_type": "markdown",
   "id": "65aa0404-f7ae-495e-864c-1aec01b4255e",
   "metadata": {},
   "source": [
    "# Principio de fomento a la ciencia abierta, enseñar en el acceso a los datos públicos y el uso de software de código abierto  \n"
   ]
  },
  {
   "cell_type": "markdown",
   "id": "18ae9b87",
   "metadata": {},
   "source": [
    "\n",
    "<img src = 'https://unesdoc.unesco.org/in/rest/Thumb/image?id=p%3A%3Ausmarcdef_0000379949_spa&author=UNESCO&title=Recomendaci%C3%B3n+de+la+UNESCO+sobre+la+Ciencia+Abierta&year=2021&publisher=UNESCO&TypeOfDocument=UnescoPhysicalDocument&mat=PGD&ct=true&size=512&isPhysical=1' width = 200>"
   ]
  },
  {
   "cell_type": "markdown",
   "id": "d9559f85",
   "metadata": {},
   "source": [
    "El enfoque STEAMS en educación preescolar, primaria y secundaria es una extensión del enfoque STEM (Ciencia, Tecnología, Ingeniería y Matemáticas) y su variante STEAM, que incorpora el Arte. "
   ]
  },
  {
   "cell_type": "markdown",
   "id": "d545bfc1",
   "metadata": {},
   "source": [
    "# Y el enfoque de TRRS de Duval "
   ]
  },
  {
   "cell_type": "code",
   "execution_count": 1,
   "id": "28bae6cb",
   "metadata": {},
   "outputs": [],
   "source": [
    "def save_fig(nombre_archivo_imagen):\n",
    "    import os \n",
    "    import matplotlib.pyplot as plt \n",
    "    ubicacion_para_imagenes = r\"C:/Users/marco/Downloads\"\n",
    "    imagen_path = os.path.join(ubicacion_para_imagenes, nombre_archivo_imagen)\n",
    "    plt.savefig(imagen_path, bbox_inches='tight')"
   ]
  },
  {
   "cell_type": "markdown",
   "id": "10e55ccf",
   "metadata": {},
   "source": [
    "# Estructura general para todas las clases\n",
    "\n",
    "Dame, por favor, un diseño de clase, con el enfoque: \"Aula Invertida, STEAMS y de Aprendizaje Basado en Problemas y Proyectos (ABPP) y de Teoría de Registros de Representación Semiótica (TRRS) de Duval\" sobre: \"Introducción a la sintaxis básica de Python: Numpy, Matplotlib y errores numéricos para el curso de Métodos Numéricos. Tipos de errores: truncamiento, redondeo.\"; siguiendo la estructura:  \n",
    "\n",
    "\n",
    "\n",
    "1. Título de la clase   \n",
    "   \n",
    "2. Objetivos de aprendizaje que incluyan los indicadores del logro de estos objetivos.\n",
    "   \n",
    "3. Un mapa conceptual que resuma la clase elaborado en Graphviz de Python con nodos y edges de diferentes formas, colores y rellenos y renderizado en la siguiente ubicación: `\"C:/Users/marco/Downloads\"`. No olvides el parámetro `view = True` para el método `render()` de Graphviz. Para este mapa controla las superposiciones de los nodos con: graph [overlap=false]; // Elimina superposiciones (puede aumentar el espacio) \n",
    "graph [overlap=\"scalexy\"]; // Escala el gráfico para evitar overlaps\n",
    "graph [overlap=\"compress\"]; // Comprime el grafo sin overlaps  \n",
    "   \n",
    "1. Dame elementos históricos y epistemológicos asociados a esta clase, pero contados como un cuento al estilo de un cuentero antioqueño en Colombia. Incluye imágenes de los protagonistas históricos de esta clase.   \n",
    "   \n",
    "2. Contenido de la clase. Que el contenido parta de una situación real para llegar a una constitución del modelo matemático que represente tal situación real.    \n",
    "    \n",
    "   \n",
    "7. Actividades de aprendizaje: que incluya pruebas de escritorio para los algoritmos en forma verbal y seudo código, diagrama de flujo, y la implementación del algoritmo en lenguaje Python.   \n",
    "   \n",
    "8. Incluye una canción o un poema que ayude a interiorizar y fijar los conceptos asociados a esta clase.   \n",
    "   \n",
    "9.  Tarea o actividades de ejercitación y fijación.  \n",
    "    \n",
    "10. Evaluación incluyendo diez proyectos, un ejemplo de quiz y un ejemplo de parcial.  \n",
    "    \n",
    "11. Diseño de actividad de retroalimentación.   \n",
    "    \n",
    "12. Dame un vocabulario y frases del idioma inglés asociadas a esta clase.  \n",
    "\n",
    "13.  Incluye apéndice para la clase sobre desarrollo de habilidades para trabajar en equipo y de asertividad y empatía para relacionarnos. También elementos de la inteligencia emocional para presentar pruebas sin temor y sin realizar fraude en ellas. Y Actividades para desarrollar la habilidad de la Tolerancia    \n",
    "     \n",
    "14. Incluye 5 referentes en didáctica de la matemática que estén de acuerdo a la propuesta didáctica de esta clase. Adiciona a estos referentes a Raymond Duval (Representaciones y cambios de representación para la adquisición de conceptos matemáticos) y a Jeannette Wing (Desarrollo del pensamiento computacional). Dejame todos estos referentes ordenados de acuerdo a las normas APA. Incluye un referente en didáctica de la matemática que fundamente el uso del Enfoque de Aula Invertida, uno que fundamente el enfoque STEAMS y finalmente otro que fundamente el enfoque de Aprendizaje Basado en Problemas y Proyectos (ABPP)\n",
    "  \n",
    "\n",
    "Pero  que este diseño sea para que el estudiante pueda aprender experimentando en cuadernos Jupyter con funciones de usuario y animaciones y visualizaciones en Python.    \n",
    "\n",
    "En particular utiliza para el diseño de clase a Numpy, Pandas, SymPy, Matplotlib.pyplot, Seaborn, Plotly, ipywidgets, matplotlib.animation y Jupyter Notebook.    \n",
    "\n",
    "Cada vez que utilices `matplotlib.animacion` no olvides incluir el uso de `IPython. display` para la renderización de estas animaciones a través de Jupyter Notebook.    \n",
    "\n",
    "No olvides darme los diseños de clase con las ecuaciones matemáticas delimitadas con signo de dólar $ para que VS Code si me renderice estas expresiones del lenguaje latex. Cuando vallas a utilizar ipywidgets ten en cuenta la siguiente importación inicial para garantizar que la visualización interactiva si se renderice en VS Code:    \n",
    " \n",
    "import numpy as np  \n",
    "import matplotlib.pyplot as plt  \n",
    "import ipywidgets as widgets  \n",
    "from IPython.display import display, clear_output  \n",
    " \n",
    "\n",
    "* Obtenga el libro guía: Métodos Numéricos Usando Python, [aquí:](chrome-extension://efaidnbmnnnibpcajpcglclefindmkaj/https://librosoa.unam.mx/bitstream/handle/123456789/3416/MNPython.pdf?sequence=1&isAllowed=y)  \n",
    "* Obtenga el programa del curso [aquí](https://github.com/marco-canas/analisis_numerico/blob/main/2_programa_curso/2_programa_curso_analisis_numerico.md)  \n",
    "* El cronograma o clase  a clase de este curso lo puede obtener [aquí](https://github.com/marco-canas/analisis_numerico/blob/main/2_programa_curso/3_cronograma_o_clase_a_clase.md)"
   ]
  },
  {
   "cell_type": "markdown",
   "id": "8764ea29",
   "metadata": {},
   "source": [
    "# Diseño de Clase: Introducción a la Sintaxis Básica de Python para Métodos Numéricos\n"
   ]
  },
  {
   "cell_type": "markdown",
   "id": "b6a1fa93",
   "metadata": {},
   "source": [
    "\n",
    "## 1. Título de la Clase\n",
    "**\"Domando números con Python: Numpy, Matplotlib y el arte de entender los errores numéricos\"**\n"
   ]
  },
  {
   "cell_type": "markdown",
   "id": "640be3d5",
   "metadata": {},
   "source": [
    "\n",
    "## 2. Objetivos de Aprendizaje\n"
   ]
  },
  {
   "cell_type": "markdown",
   "id": "d65e6ba4",
   "metadata": {},
   "source": [
    "- **Objetivo Conceptual**: Comprender los tipos de errores numéricos (truncamiento y redondeo) y su impacto en cálculos científicos \n",
    " \n"
   ]
  },
  {
   "cell_type": "markdown",
   "id": "623104db",
   "metadata": {},
   "source": [
    "$$\\text{Error absoluto} = |x - \\overline{x}|$$  \n",
    "  \n"
   ]
  },
  {
   "cell_type": "markdown",
   "id": "3972beca",
   "metadata": {},
   "source": [
    "$x$: valor real  \n",
    "\n",
    "$\\overline{x}$: valor estimado. "
   ]
  },
  {
   "cell_type": "markdown",
   "id": "d0243b32",
   "metadata": {},
   "source": [
    "$$\\epsilon_{rel} = \\frac{|x - \\overline{x}|}{|x|}$$\n",
    "El error relativo es una comparación del error con respecto a la magnitud del valor real. "
   ]
  },
  {
   "cell_type": "markdown",
   "id": "14ca865e",
   "metadata": {},
   "source": [
    "- **Objetivo Procedimental**: Implementar funciones en Python usando Numpy que ilustren errores numéricos y visualizarlos con Matplotlib/Plotly\n"
   ]
  },
  {
   "cell_type": "markdown",
   "id": "f13d0042",
   "metadata": {},
   "source": [
    "- **Objetivo Actitudinal**: Valorar la precisión numérica en contextos científicos y tecnológicos\n"
   ]
  },
  {
   "cell_type": "markdown",
   "id": "ccbab56a",
   "metadata": {},
   "source": [
    "\n",
    "# **Indicadores**:\n"
   ]
  },
  {
   "cell_type": "markdown",
   "id": "2ed9325b",
   "metadata": {},
   "source": [
    "- El estudiante crea visualizaciones interactivas de propagación de errores usando ipywidgets\n"
   ]
  },
  {
   "cell_type": "markdown",
   "id": "35dfebb1",
   "metadata": {},
   "source": [
    "- Explica con ejemplos concretos la diferencia entre error de truncamiento ($\\sum_{n=1}^\\infty \\frac{1}{n^2} \\approx \\sum_{n=1}^N \\frac{1}{n^2}$) y redondeo\n"
   ]
  },
  {
   "cell_type": "markdown",
   "id": "1ebf0166",
   "metadata": {},
   "source": [
    "- Implementa una calculadora de errores con interfaz en Jupyter Notebook\n"
   ]
  },
  {
   "cell_type": "markdown",
   "id": "72f39d71",
   "metadata": {},
   "source": [
    "# Crear una variables  para guardar un número \n",
    "\n"
   ]
  },
  {
   "cell_type": "code",
   "execution_count": 2,
   "id": "2398c8a4",
   "metadata": {},
   "outputs": [],
   "source": [
    "numero_pi = 3.1416 "
   ]
  },
  {
   "cell_type": "code",
   "execution_count": 3,
   "id": "c8b91156",
   "metadata": {},
   "outputs": [
    {
     "data": {
      "text/plain": [
       "3.1416"
      ]
     },
     "execution_count": 3,
     "metadata": {},
     "output_type": "execute_result"
    }
   ],
   "source": [
    "numero_pi"
   ]
  },
  {
   "cell_type": "code",
   "execution_count": 4,
   "id": "89b902ad",
   "metadata": {},
   "outputs": [],
   "source": [
    "n = 50"
   ]
  },
  {
   "cell_type": "code",
   "execution_count": 5,
   "id": "c73d16da",
   "metadata": {},
   "outputs": [
    {
     "data": {
      "text/plain": [
       "50"
      ]
     },
     "execution_count": 5,
     "metadata": {},
     "output_type": "execute_result"
    }
   ],
   "source": [
    "n"
   ]
  },
  {
   "cell_type": "code",
   "execution_count": 6,
   "id": "a49bd9f5",
   "metadata": {},
   "outputs": [
    {
     "data": {
      "text/plain": [
       "int"
      ]
     },
     "execution_count": 6,
     "metadata": {},
     "output_type": "execute_result"
    }
   ],
   "source": [
    "type(n)"
   ]
  },
  {
   "cell_type": "code",
   "execution_count": 7,
   "id": "0d054bce",
   "metadata": {},
   "outputs": [],
   "source": [
    "estatura = 1.65 "
   ]
  },
  {
   "cell_type": "code",
   "execution_count": 8,
   "id": "b75992db",
   "metadata": {},
   "outputs": [
    {
     "data": {
      "text/plain": [
       "1.65"
      ]
     },
     "execution_count": 8,
     "metadata": {},
     "output_type": "execute_result"
    }
   ],
   "source": [
    "estatura"
   ]
  },
  {
   "cell_type": "code",
   "execution_count": 9,
   "id": "407f1956",
   "metadata": {},
   "outputs": [
    {
     "data": {
      "text/plain": [
       "float"
      ]
     },
     "execution_count": 9,
     "metadata": {},
     "output_type": "execute_result"
    }
   ],
   "source": [
    "type(estatura)"
   ]
  },
  {
   "cell_type": "code",
   "execution_count": 10,
   "id": "7d86cc19",
   "metadata": {},
   "outputs": [
    {
     "data": {
      "text/plain": [
       "9223372036854775808"
      ]
     },
     "execution_count": 10,
     "metadata": {},
     "output_type": "execute_result"
    }
   ],
   "source": [
    "2**63"
   ]
  },
  {
   "cell_type": "code",
   "execution_count": 14,
   "id": "8bc659ef",
   "metadata": {},
   "outputs": [
    {
     "data": {
      "text/plain": [
       "[1,\n",
       " 2,\n",
       " 3,\n",
       " 4,\n",
       " 5,\n",
       " 6,\n",
       " 7,\n",
       " 8,\n",
       " 9,\n",
       " 10,\n",
       " 11,\n",
       " 12,\n",
       " 13,\n",
       " 14,\n",
       " 15,\n",
       " 16,\n",
       " 17,\n",
       " 18,\n",
       " 19,\n",
       " 20,\n",
       " 21,\n",
       " 22,\n",
       " 23,\n",
       " 24,\n",
       " 25,\n",
       " 26,\n",
       " 27,\n",
       " 28,\n",
       " 29,\n",
       " 30,\n",
       " 31,\n",
       " 32,\n",
       " 33,\n",
       " 34,\n",
       " 35,\n",
       " 36,\n",
       " 37,\n",
       " 38,\n",
       " 39,\n",
       " 40,\n",
       " 41,\n",
       " 42,\n",
       " 43,\n",
       " 44,\n",
       " 45,\n",
       " 46,\n",
       " 47,\n",
       " 48,\n",
       " 49,\n",
       " 50,\n",
       " 51,\n",
       " 52,\n",
       " 53,\n",
       " 54,\n",
       " 55,\n",
       " 56,\n",
       " 57,\n",
       " 58,\n",
       " 59,\n",
       " 60,\n",
       " 61,\n",
       " 62,\n",
       " 63]"
      ]
     },
     "execution_count": 14,
     "metadata": {},
     "output_type": "execute_result"
    }
   ],
   "source": [
    "# crear casillas\n",
    "\n",
    "casillas = list(range(1,64))  \n",
    "casillas "
   ]
  },
  {
   "cell_type": "code",
   "execution_count": 11,
   "id": "69bf63d9",
   "metadata": {},
   "outputs": [
    {
     "data": {
      "text/plain": [
       "9223372036854775808"
      ]
     },
     "execution_count": 11,
     "metadata": {},
     "output_type": "execute_result"
    }
   ],
   "source": [
    "numero_granos = 1\n",
    "for casilla in range(1, 64):\n",
    "    numero_granos = numero_granos * 2\n",
    "\n",
    "numero_granos    "
   ]
  },
  {
   "cell_type": "markdown",
   "id": "09849cc2",
   "metadata": {},
   "source": [
    "\n",
    "## 3. Mapa Conceptual (Graphviz)\n"
   ]
  },
  {
   "cell_type": "code",
   "execution_count": 1,
   "id": "e48d7d0d",
   "metadata": {},
   "outputs": [
    {
     "data": {
      "image/svg+xml": [
       "<?xml version=\"1.0\" encoding=\"UTF-8\" standalone=\"no\"?>\n",
       "<!DOCTYPE svg PUBLIC \"-//W3C//DTD SVG 1.1//EN\"\n",
       " \"http://www.w3.org/Graphics/SVG/1.1/DTD/svg11.dtd\">\n",
       "<!-- Generated by graphviz version 12.1.2 (20240928.0832)\n",
       " -->\n",
       "<!-- Pages: 1 -->\n",
       "<svg width=\"1034pt\" height=\"347pt\"\n",
       " viewBox=\"0.00 0.00 1034.48 347.30\" xmlns=\"http://www.w3.org/2000/svg\" xmlns:xlink=\"http://www.w3.org/1999/xlink\">\n",
       "<g id=\"graph0\" class=\"graph\" transform=\"scale(1 1) rotate(0) translate(4 343.3)\">\n",
       "<polygon fill=\"white\" stroke=\"none\" points=\"-4,4 -4,-343.3 1030.48,-343.3 1030.48,4 -4,4\"/>\n",
       "<!-- A -->\n",
       "<g id=\"node1\" class=\"node\">\n",
       "<title>A</title>\n",
       "<polygon fill=\"#ffd700\" stroke=\"black\" points=\"561.87,-153.02 561.87,-178.07 503.92,-195.78 421.97,-195.78 364.02,-178.07 364.02,-153.02 421.97,-135.31 503.92,-135.31 561.87,-153.02\"/>\n",
       "<polygon fill=\"none\" stroke=\"black\" points=\"565.87,-150.06 565.87,-181.03 504.52,-199.78 421.37,-199.78 360.02,-181.03 360.02,-150.06 421.37,-131.31 504.52,-131.31 565.87,-150.06\"/>\n",
       "<text text-anchor=\"middle\" x=\"462.94\" y=\"-168\" font-family=\"Helvetica,sans-Serif\" font-size=\"14.00\">Errores Numéricos</text>\n",
       "<text text-anchor=\"middle\" x=\"462.94\" y=\"-152.25\" font-family=\"Helvetica,sans-Serif\" font-size=\"14.00\">en Python</text>\n",
       "</g>\n",
       "<!-- B -->\n",
       "<g id=\"node2\" class=\"node\">\n",
       "<title>B</title>\n",
       "<ellipse fill=\"#ffa07a\" stroke=\"black\" cx=\"618.95\" cy=\"-248.39\" rx=\"77.01\" ry=\"18\"/>\n",
       "<text text-anchor=\"middle\" x=\"618.95\" y=\"-242.96\" font-family=\"Helvetica,sans-Serif\" font-size=\"14.00\">Tipos de Errores</text>\n",
       "</g>\n",
       "<!-- A&#45;&gt;B -->\n",
       "<g id=\"edge7\" class=\"edge\">\n",
       "<title>A&#45;&gt;B</title>\n",
       "<path fill=\"none\" stroke=\"black\" d=\"M519.26,-195.45C538.38,-205.6 559.38,-216.76 577.16,-226.2\"/>\n",
       "<polygon fill=\"black\" stroke=\"black\" points=\"575.4,-229.23 585.88,-230.83 578.69,-223.04 575.4,-229.23\"/>\n",
       "</g>\n",
       "<!-- C -->\n",
       "<g id=\"node3\" class=\"node\">\n",
       "<title>C</title>\n",
       "<polygon fill=\"#98fb98\" stroke=\"black\" points=\"717.37,-207.66 577.87,-207.66 573.87,-203.66 573.87,-171.66 713.37,-171.66 717.37,-175.66 717.37,-207.66\"/>\n",
       "<polyline fill=\"none\" stroke=\"black\" points=\"713.37,-203.66 573.87,-203.66\"/>\n",
       "<polyline fill=\"none\" stroke=\"black\" points=\"713.37,-203.66 713.37,-171.66\"/>\n",
       "<polyline fill=\"none\" stroke=\"black\" points=\"713.37,-203.66 717.37,-207.66\"/>\n",
       "<text text-anchor=\"middle\" x=\"645.62\" y=\"-184.23\" font-family=\"Helvetica,sans-Serif\" font-size=\"14.00\">Herramientas Python</text>\n",
       "</g>\n",
       "<!-- A&#45;&gt;C -->\n",
       "<g id=\"edge8\" class=\"edge\">\n",
       "<title>A&#45;&gt;C</title>\n",
       "<path fill=\"none\" stroke=\"black\" d=\"M566.29,-179.19C566.44,-179.21 566.59,-179.23 566.75,-179.25\"/>\n",
       "<polygon fill=\"black\" stroke=\"black\" points=\"561.64,-182.1 572.02,-179.94 562.56,-175.16 561.64,-182.1\"/>\n",
       "</g>\n",
       "<!-- D -->\n",
       "<g id=\"node4\" class=\"node\">\n",
       "<title>D</title>\n",
       "<polygon fill=\"#add8e6\" stroke=\"black\" points=\"367.1,-115.59 272.35,-115.59 272.35,-111.59 268.35,-111.59 268.35,-107.59 272.35,-107.59 272.35,-87.59 268.35,-87.59 268.35,-83.59 272.35,-83.59 272.35,-79.59 367.1,-79.59 367.1,-115.59\"/>\n",
       "<polyline fill=\"none\" stroke=\"black\" points=\"272.35,-111.59 276.35,-111.59 276.35,-107.59 272.35,-107.59\"/>\n",
       "<polyline fill=\"none\" stroke=\"black\" points=\"272.35,-87.59 276.35,-87.59 276.35,-83.59 272.35,-83.59\"/>\n",
       "<text text-anchor=\"middle\" x=\"319.72\" y=\"-92.16\" font-family=\"Helvetica,sans-Serif\" font-size=\"14.00\">Visualización</text>\n",
       "</g>\n",
       "<!-- A&#45;&gt;D -->\n",
       "<g id=\"edge9\" class=\"edge\">\n",
       "<title>A&#45;&gt;D</title>\n",
       "<path fill=\"none\" stroke=\"black\" d=\"M402.21,-136.73C391,-131.41 379.43,-125.92 368.62,-120.79\"/>\n",
       "<polygon fill=\"black\" stroke=\"black\" points=\"370.44,-117.78 359.9,-116.65 367.44,-124.1 370.44,-117.78\"/>\n",
       "</g>\n",
       "<!-- B1 -->\n",
       "<g id=\"node5\" class=\"node\">\n",
       "<title>B1</title>\n",
       "<polygon fill=\"#ffb6c1\" stroke=\"black\" points=\"1020.48,-278.3 766.73,-278.3 766.73,-238.8 1026.48,-238.8 1026.48,-272.3 1020.48,-278.3\"/>\n",
       "<polyline fill=\"none\" stroke=\"black\" points=\"1020.48,-278.3 1020.48,-272.3\"/>\n",
       "<polyline fill=\"none\" stroke=\"black\" points=\"1026.48,-272.3 1020.48,-272.3\"/>\n",
       "<text text-anchor=\"middle\" x=\"896.6\" y=\"-261\" font-family=\"Helvetica,sans-Serif\" font-size=\"14.00\">Truncamiento</text>\n",
       "<text text-anchor=\"middle\" x=\"896.6\" y=\"-245.25\" font-family=\"Helvetica,sans-Serif\" font-size=\"14.00\">$sum_{n=1}^infty approx sum_{n=1}^N$</text>\n",
       "</g>\n",
       "<!-- B&#45;&gt;B1 -->\n",
       "<g id=\"edge1\" class=\"edge\">\n",
       "<title>B&#45;&gt;B1</title>\n",
       "<path fill=\"none\" stroke=\"black\" d=\"M695.55,-251.19C714.11,-251.87 734.53,-252.62 755.04,-253.37\"/>\n",
       "<polygon fill=\"black\" stroke=\"black\" points=\"754.79,-256.86 764.91,-253.73 755.05,-249.86 754.79,-256.86\"/>\n",
       "</g>\n",
       "<!-- B2 -->\n",
       "<g id=\"node6\" class=\"node\">\n",
       "<title>B2</title>\n",
       "<polygon fill=\"#e6e6fa\" stroke=\"black\" points=\"582.28,-339.3 412.53,-339.3 412.53,-299.8 588.28,-299.8 588.28,-333.3 582.28,-339.3\"/>\n",
       "<polyline fill=\"none\" stroke=\"black\" points=\"582.28,-339.3 582.28,-333.3\"/>\n",
       "<polyline fill=\"none\" stroke=\"black\" points=\"588.28,-333.3 582.28,-333.3\"/>\n",
       "<text text-anchor=\"middle\" x=\"500.4\" y=\"-322\" font-family=\"Helvetica,sans-Serif\" font-size=\"14.00\">Redondeo</text>\n",
       "<text text-anchor=\"middle\" x=\"500.4\" y=\"-306.25\" font-family=\"Helvetica,sans-Serif\" font-size=\"14.00\">$epsilon_{máq} = 2^{&#45;52}$</text>\n",
       "</g>\n",
       "<!-- B&#45;&gt;B2 -->\n",
       "<g id=\"edge2\" class=\"edge\">\n",
       "<title>B&#45;&gt;B2</title>\n",
       "<path fill=\"none\" stroke=\"black\" d=\"M590.55,-265.43C576.49,-273.88 559.2,-284.25 543.54,-293.66\"/>\n",
       "<polygon fill=\"black\" stroke=\"black\" points=\"542.11,-290.43 535.34,-298.58 545.71,-296.43 542.11,-290.43\"/>\n",
       "</g>\n",
       "<!-- C1 -->\n",
       "<g id=\"node7\" class=\"node\">\n",
       "<title>C1</title>\n",
       "<polygon fill=\"#f0e68c\" stroke=\"black\" points=\"996.04,-206.26 852.54,-206.26 852.54,-210.26 840.54,-210.26 840.54,-166.76 996.04,-166.76 996.04,-206.26\"/>\n",
       "<polyline fill=\"none\" stroke=\"black\" points=\"840.54,-206.26 852.54,-206.26\"/>\n",
       "<text text-anchor=\"middle\" x=\"918.29\" y=\"-188.96\" font-family=\"Helvetica,sans-Serif\" font-size=\"14.00\">Numpy</text>\n",
       "<text text-anchor=\"middle\" x=\"918.29\" y=\"-173.21\" font-family=\"Helvetica,sans-Serif\" font-size=\"14.00\">np.float64 vs np.float32</text>\n",
       "</g>\n",
       "<!-- C&#45;&gt;C1 -->\n",
       "<g id=\"edge3\" class=\"edge\">\n",
       "<title>C&#45;&gt;C1</title>\n",
       "<path fill=\"none\" stroke=\"black\" d=\"M717.62,-188.83C751.64,-188.43 792.61,-187.96 828.63,-187.54\"/>\n",
       "<polygon fill=\"black\" stroke=\"black\" points=\"828.66,-191.04 838.62,-187.43 828.58,-184.05 828.66,-191.04\"/>\n",
       "</g>\n",
       "<!-- C2 -->\n",
       "<g id=\"node8\" class=\"node\">\n",
       "<title>C2</title>\n",
       "<polygon fill=\"#90ee90\" stroke=\"black\" points=\"466.13,-279.73 349.63,-279.73 349.63,-283.73 337.63,-283.73 337.63,-240.23 466.13,-240.23 466.13,-279.73\"/>\n",
       "<polyline fill=\"none\" stroke=\"black\" points=\"337.63,-279.73 349.63,-279.73\"/>\n",
       "<text text-anchor=\"middle\" x=\"401.88\" y=\"-262.43\" font-family=\"Helvetica,sans-Serif\" font-size=\"14.00\">SymPy</text>\n",
       "<text text-anchor=\"middle\" x=\"401.88\" y=\"-246.68\" font-family=\"Helvetica,sans-Serif\" font-size=\"14.00\">Precisión arbitraria</text>\n",
       "</g>\n",
       "<!-- C&#45;&gt;C2 -->\n",
       "<g id=\"edge4\" class=\"edge\">\n",
       "<title>C&#45;&gt;C2</title>\n",
       "<path fill=\"none\" stroke=\"black\" d=\"M581.58,-208.13C549.51,-217.39 510.48,-228.65 477,-238.31\"/>\n",
       "<polygon fill=\"black\" stroke=\"black\" points=\"476.43,-234.83 467.79,-240.97 478.37,-241.56 476.43,-234.83\"/>\n",
       "</g>\n",
       "<!-- D1 -->\n",
       "<g id=\"node9\" class=\"node\">\n",
       "<title>D1</title>\n",
       "<polygon fill=\"#87cefa\" stroke=\"black\" points=\"109,-108.18 106,-112.18 85,-112.18 82,-108.18 0,-108.18 0,-68.68 109,-68.68 109,-108.18\"/>\n",
       "<text text-anchor=\"middle\" x=\"54.5\" y=\"-90.88\" font-family=\"Helvetica,sans-Serif\" font-size=\"14.00\">Matplotlib</text>\n",
       "<text text-anchor=\"middle\" x=\"54.5\" y=\"-75.13\" font-family=\"Helvetica,sans-Serif\" font-size=\"14.00\">Gráficos 2D/3D</text>\n",
       "</g>\n",
       "<!-- D&#45;&gt;D1 -->\n",
       "<g id=\"edge5\" class=\"edge\">\n",
       "<title>D&#45;&gt;D1</title>\n",
       "<path fill=\"none\" stroke=\"black\" d=\"M272,-95.94C229.7,-94.48 167.53,-92.34 120.47,-90.71\"/>\n",
       "<polygon fill=\"black\" stroke=\"black\" points=\"120.79,-87.22 110.68,-90.37 120.55,-94.22 120.79,-87.22\"/>\n",
       "</g>\n",
       "<!-- D2 -->\n",
       "<g id=\"node10\" class=\"node\">\n",
       "<title>D2</title>\n",
       "<polygon fill=\"#d8bfd8\" stroke=\"black\" points=\"460.49,-39.5 457.49,-43.5 436.49,-43.5 433.49,-39.5 300.49,-39.5 300.49,0 460.49,0 460.49,-39.5\"/>\n",
       "<text text-anchor=\"middle\" x=\"380.49\" y=\"-22.2\" font-family=\"Helvetica,sans-Serif\" font-size=\"14.00\">Plotly</text>\n",
       "<text text-anchor=\"middle\" x=\"380.49\" y=\"-6.45\" font-family=\"Helvetica,sans-Serif\" font-size=\"14.00\">Visualización interactiva</text>\n",
       "</g>\n",
       "<!-- D&#45;&gt;D2 -->\n",
       "<g id=\"edge6\" class=\"edge\">\n",
       "<title>D&#45;&gt;D2</title>\n",
       "<path fill=\"none\" stroke=\"black\" d=\"M334.12,-79.14C341.16,-70.12 349.8,-59.06 357.71,-48.93\"/>\n",
       "<polygon fill=\"black\" stroke=\"black\" points=\"360.37,-51.21 363.77,-41.17 354.85,-46.9 360.37,-51.21\"/>\n",
       "</g>\n",
       "<!-- B1&#45;&gt;C1 -->\n",
       "<g id=\"edge10\" class=\"edge\">\n",
       "<title>B1&#45;&gt;C1</title>\n",
       "<path fill=\"none\" stroke=\"black\" stroke-dasharray=\"5,2\" d=\"M902.64,-238.48C904.6,-231.98 906.82,-224.61 908.96,-217.5\"/>\n",
       "<polygon fill=\"black\" stroke=\"black\" points=\"912.24,-218.75 911.77,-208.17 905.53,-216.73 912.24,-218.75\"/>\n",
       "<text text-anchor=\"middle\" x=\"874.82\" y=\"-209.23\" font-family=\"Times New Roman,serif\" font-size=\"14.00\">implementa</text>\n",
       "</g>\n",
       "<!-- B2&#45;&gt;C2 -->\n",
       "<g id=\"edge11\" class=\"edge\">\n",
       "<title>B2&#45;&gt;C2</title>\n",
       "<path fill=\"none\" stroke=\"black\" stroke-dasharray=\"1,5\" d=\"M467.05,-299.38C459.91,-295.06 452.26,-290.44 444.82,-285.94\"/>\n",
       "<polygon fill=\"black\" stroke=\"black\" points=\"446.86,-283.09 436.5,-280.91 443.24,-289.08 446.86,-283.09\"/>\n",
       "<text text-anchor=\"middle\" x=\"470.26\" y=\"-276.46\" font-family=\"Times New Roman,serif\" font-size=\"14.00\">analiza</text>\n",
       "</g>\n",
       "</g>\n",
       "</svg>\n"
      ],
      "text/plain": [
       "<graphviz.graphs.Digraph at 0x12c368c1750>"
      ]
     },
     "metadata": {},
     "output_type": "display_data"
    }
   ],
   "source": [
    "from graphviz import Digraph\n",
    "\n",
    "# Crear el grafo\n",
    "dot = Digraph(comment='Errores Numéricos en Python', \n",
    "              graph_attr={'overlap': 'scalexy', 'splines': 'true', 'fontsize': '20'},\n",
    "              node_attr={'style': 'filled', 'fillcolor': 'lightblue', 'fontname': 'Helvetica'},\n",
    "              engine='neato')\n",
    "\n",
    "# Nodos principales\n",
    "dot.node('A', 'Errores Numéricos\\nen Python', shape='doubleoctagon', fillcolor='#FFD700')\n",
    "dot.node('B', 'Tipos de Errores', shape='ellipse', fillcolor='#FFA07A')\n",
    "dot.node('C', 'Herramientas Python', shape='box3d', fillcolor='#98FB98')\n",
    "dot.node('D', 'Visualización', shape='component', fillcolor='#ADD8E6')\n",
    "\n",
    "# Subnodos para tipos de errores\n",
    "dot.node('B1', 'Truncamiento\\n$\\\\sum_{n=1}^\\\\infty \\\\approx \\\\sum_{n=1}^N$', shape='note', fillcolor='#FFB6C1')\n",
    "dot.node('B2', 'Redondeo\\n$\\\\epsilon_{máq} = 2^{-52}$', shape='note', fillcolor='#E6E6FA')\n",
    "dot.edge('B', 'B1')\n",
    "dot.edge('B', 'B2')\n",
    "\n",
    "# Subnodos para herramientas\n",
    "dot.node('C1', 'Numpy\\nnp.float64 vs np.float32', shape='tab', fillcolor='#F0E68C')\n",
    "dot.node('C2', 'SymPy\\nPrecisión arbitraria', shape='tab', fillcolor='#90EE90')\n",
    "dot.edge('C', 'C1')\n",
    "dot.edge('C', 'C2')\n",
    "\n",
    "# Subnodos para visualización\n",
    "dot.node('D1', 'Matplotlib\\nGráficos 2D/3D', shape='folder', fillcolor='#87CEFA')\n",
    "dot.node('D2', 'Plotly\\nVisualización interactiva', shape='folder', fillcolor='#D8BFD8')\n",
    "dot.edge('D', 'D1')\n",
    "dot.edge('D', 'D2')\n",
    "\n",
    "# Conexiones principales\n",
    "dot.edges(['AB', 'AC', 'AD'])\n",
    "dot.edge('B1', 'C1', label='implementa', style='dashed')\n",
    "dot.edge('B2', 'C2', label='analiza', style='dotted')\n",
    "\n",
    "# Renderizar y mostrar\n",
    "dot.render(directory='C:/Users/marco/Downloads', filename='errores_numericos', format='png', view=True)\n",
    "display(dot)\n",
    "\n"
   ]
  },
  {
   "cell_type": "markdown",
   "id": "e766a0a8",
   "metadata": {},
   "source": [
    "\n",
    "## 4. Historia Épica de los Errores Numéricos\n"
   ]
  },
  {
   "cell_type": "markdown",
   "id": "cb74d1b1",
   "metadata": {},
   "source": [
    "\n",
    "*\"¡Acompáñenme muchachos a recorrer este camino de números y computadoras!* �\n",
    "\n",
    "**Érase una vez...** en la Alejandría del siglo III a.C., un sabio llamado **Eratóstenes** (muéstrese imagen) que midió la Tierra con un palo y sombras. ¡Pero oh sorpresa! Su error fue de solo el 2%... ¡puro error de truncamiento porque no tenía decimales suficientes!\n",
    "\n",
    "<img src = 'eratostenes_1.jpeg'>\n"
   ]
  },
  {
   "cell_type": "markdown",
   "id": "19139ad0",
   "metadata": {},
   "source": [
    "\n",
    "**Avancemos** al siglo XVII donde **Wilhelm Leibniz** (imagen) descubría las series infinitas. ¡Ay compadre! Cuando truncaba esas series para calcular $\\pi$, los errores se le acumulaban como goteras en techo de zinc.\n",
    "\n",
    "<img src = ''>"
   ]
  },
  {
   "cell_type": "markdown",
   "id": "0ddac42b",
   "metadata": {},
   "source": [
    "\n",
    "**Saltemos** al 1947, cuando **John von Neumann** (imagen con computadora ENIAC) enfrentó el primer \"bug\" numérico: un misil que falló por culpa de redondeos mal hechos. ¡Eso les dolió más que un ají en los ojos!\n"
   ]
  },
  {
   "cell_type": "markdown",
   "id": "f50e8e01",
   "metadata": {},
   "source": [
    "\n",
    "*Moraleja*: Los errores numéricos han sido compañeros fieles (¡pero traicioneros!) de la ciencia desde siempre. Hoy con Python los domamos como a mula arisca, pero hay que conocer sus mañas.\"\n"
   ]
  },
  {
   "cell_type": "markdown",
   "id": "ff8ae186",
   "metadata": {},
   "source": [
    "\n",
    "## 5. Contenido de Clase (ABPP)\n"
   ]
  },
  {
   "cell_type": "code",
   "execution_count": 20,
   "id": "c4681065",
   "metadata": {},
   "outputs": [],
   "source": [
    "posiciones = list(range(1,65)) # 1 a 64"
   ]
  },
  {
   "cell_type": "code",
   "execution_count": 21,
   "id": "edd5e473",
   "metadata": {},
   "outputs": [
    {
     "data": {
      "text/plain": [
       "[1,\n",
       " 2,\n",
       " 3,\n",
       " 4,\n",
       " 5,\n",
       " 6,\n",
       " 7,\n",
       " 8,\n",
       " 9,\n",
       " 10,\n",
       " 11,\n",
       " 12,\n",
       " 13,\n",
       " 14,\n",
       " 15,\n",
       " 16,\n",
       " 17,\n",
       " 18,\n",
       " 19,\n",
       " 20,\n",
       " 21,\n",
       " 22,\n",
       " 23,\n",
       " 24,\n",
       " 25,\n",
       " 26,\n",
       " 27,\n",
       " 28,\n",
       " 29,\n",
       " 30,\n",
       " 31,\n",
       " 32,\n",
       " 33,\n",
       " 34,\n",
       " 35,\n",
       " 36,\n",
       " 37,\n",
       " 38,\n",
       " 39,\n",
       " 40,\n",
       " 41,\n",
       " 42,\n",
       " 43,\n",
       " 44,\n",
       " 45,\n",
       " 46,\n",
       " 47,\n",
       " 48,\n",
       " 49,\n",
       " 50,\n",
       " 51,\n",
       " 52,\n",
       " 53,\n",
       " 54,\n",
       " 55,\n",
       " 56,\n",
       " 57,\n",
       " 58,\n",
       " 59,\n",
       " 60,\n",
       " 61,\n",
       " 62,\n",
       " 63,\n",
       " 64]"
      ]
     },
     "execution_count": 21,
     "metadata": {},
     "output_type": "execute_result"
    }
   ],
   "source": [
    "posiciones"
   ]
  },
  {
   "cell_type": "code",
   "execution_count": 22,
   "id": "9b6ab7d9",
   "metadata": {},
   "outputs": [],
   "source": [
    "costal = 0\n",
    "for posicion in posiciones: \n",
    "    numero_granos_trigo_por_casilla = 2**(posicion- 1)\n",
    "    costal = costal + numero_granos_trigo_por_casilla"
   ]
  },
  {
   "cell_type": "code",
   "execution_count": 23,
   "id": "29d48493",
   "metadata": {},
   "outputs": [
    {
     "data": {
      "text/plain": [
       "18446744073709551615"
      ]
     },
     "execution_count": 23,
     "metadata": {},
     "output_type": "execute_result"
    }
   ],
   "source": [
    "costal "
   ]
  },
  {
   "cell_type": "code",
   "execution_count": 24,
   "id": "4f670097",
   "metadata": {},
   "outputs": [
    {
     "data": {
      "text/plain": [
       "18446744073709551615"
      ]
     },
     "execution_count": 24,
     "metadata": {},
     "output_type": "execute_result"
    }
   ],
   "source": [
    "2**64-1"
   ]
  },
  {
   "cell_type": "markdown",
   "id": "c7608596",
   "metadata": {},
   "source": [
    "\n",
    "**Situación Real**: Un ingeniero aeronáutico está diseñando un ala y necesita calcular la sustentación ($L = \\frac{1}{2} \\rho v^2 S C_L$) con diferentes precisiones numéricas.\n"
   ]
  },
  {
   "cell_type": "code",
   "execution_count": null,
   "id": "a34195a3",
   "metadata": {},
   "outputs": [
    {
     "data": {
      "application/vnd.jupyter.widget-view+json": {
       "model_id": "ba5bc5893ada4867b456bffe76012174",
       "version_major": 2,
       "version_minor": 0
      },
      "text/plain": [
       "interactive(children=(Dropdown(description='precision', options=('float64', 'float32'), value='float64'), Outp…"
      ]
     },
     "metadata": {},
     "output_type": "display_data"
    }
   ],
   "source": [
    "import numpy as np\n",
    "import matplotlib.pyplot as plt\n",
    "from ipywidgets import interact\n",
    "\n",
    "def calcular_sustentacion(rho=1 + 1/3, v=100 + 1/7, S=20+13/19, CL=0.5+ 1/9, precision='float64'):\n",
    "    \"\"\"Calcula la fuerza de sustentación con diferente precisión numérica\"\"\"\n",
    "    if precision == 'float32':\n",
    "        # Convertimos todos los valores y constantes a float32\n",
    "        rho = np.float32(rho)\n",
    "        v = np.float32(v)\n",
    "        S = np.float32(S)\n",
    "        CL = np.float32(CL)\n",
    "        # También convertimos la constante 0.5\n",
    "        medio = np.float32(0.5)\n",
    "    else:\n",
    "        medio = 0.5  # float64 por defecto en numpy\n",
    "    \n",
    "    # Realizamos el cálculo con la precisión seleccionada\n",
    "    L = medio * rho * v**2 * S * CL\n",
    "    return L\n",
    "\n",
    "# Widget interactivo mejorado\n",
    "@interact(precision=['float64', 'float32'])\n",
    "def comparar_precision(precision):\n",
    "    # Calculamos con la precisión seleccionada\n",
    "    L_selected = calcular_sustentacion(precision=precision)\n",
    "    \n",
    "    # Calculamos la versión de referencia en float64\n",
    "    L_reference = calcular_sustentacion(precision='float64')\n",
    "    \n",
    "    # Calculamos diferencias\n",
    "    diferencia = abs(L_reference - L_selected)\n",
    "    error_relativo = diferencia / L_reference\n",
    "    \n",
    "    # Mostramos resultados con formato adecuado\n",
    "    print(f\"=== Resultados con precisión {precision} ===\")\n",
    "    print(f\"Sustentación calculada: {L_selected:.16f}\")\n",
    "    print(f\"Valor de referencia (float64): {L_reference:.16f}\")\n",
    "    print(f\"Diferencia absoluta: {diferencia:.4e} N\")\n",
    "    print(f\"Error relativo: {error_relativo:.4e}\")\n",
    "    print(\"\\n\" + \"=\"*50 + \"\\n\")\n",
    "    \n",
    "    # Visualización adicional\n",
    "    fig, ax = plt.subplots(figsize=(10, 4))\n",
    "    precisions = ['float64', 'float32']\n",
    "    valores = [calcular_sustentacion(precision=p) for p in precisions]\n",
    "    \n",
    "    bars = ax.bar(precisions, valores, color=['blue', 'orange'])\n",
    "    ax.axhline(y=L_reference, color='red', linestyle='--', label='Referencia float64')\n",
    "    ax.set_ylabel('Sustentación (N)')\n",
    "    ax.set_title('Comparación de Precisión Numérica')\n",
    "    \n",
    "    # Añadir etiquetas con los valores\n",
    "    for bar in bars:\n",
    "        height = bar.get_height()\n",
    "        ax.text(bar.get_x() + bar.get_width()/2., height,\n",
    "                f'{height:.6f}',\n",
    "                ha='center', va='bottom')\n",
    "    plt.savefig(r\"C:\\Users\\marco\\Downloads\\sustentacion_con_dos_precisiones.png\")\n",
    "    ax.legend()\n",
    "    plt.show()\n",
    "\n"
   ]
  },
  {
   "cell_type": "markdown",
   "id": "7ed8ee89",
   "metadata": {},
   "source": [
    "\n",
    "## Mejoras realizadas:\n",
    "\n",
    "1. **Conversión consistente**: Ahora se convierte también la constante 0.5 al tipo de precisión seleccionado.\n",
    "\n",
    "2. **Resultados más detallados**: Se muestra el valor de referencia en float64, la diferencia absoluta y el error relativo.\n",
    "\n",
    "3. **Visualización gráfica**: Se añadió un gráfico de barras para comparar visualmente los resultados.\n",
    "\n",
    "4. **Formato mejorado**: Los números se muestran con suficiente precisión decimal para apreciar las diferencias.\n",
    "\n",
    "5. **Cálculo robusto**: Se garantiza que todas las operaciones se realicen con el tipo de precisión seleccionado.\n"
   ]
  },
  {
   "cell_type": "markdown",
   "id": "8fb0335f",
   "metadata": {},
   "source": [
    "\n",
    "## Cómo probarlo:\n",
    "\n",
    "1. Ejecuta el código en un Jupyter Notebook\n",
    "2. Usa el widget desplegable para seleccionar entre 'float32' y 'float64'\n",
    "3. Observa las diferencias numéricas en los resultados impresos\n",
    "4. Analiza la visualización gráfica que muestra la comparación\n",
    "\n",
    "Este código ahora muestra claramente el impacto de usar diferente precisión numérica en cálculos científicos, que es justamente el objetivo de la lección sobre errores numéricos."
   ]
  },
  {
   "cell_type": "markdown",
   "id": "c9637e18",
   "metadata": {},
   "source": [
    "\n",
    "# **Construcción del Modelo**:\n"
   ]
  },
  {
   "cell_type": "markdown",
   "id": "8b1f7b6e",
   "metadata": {},
   "source": [
    "1. Identificar fuentes de error:\n",
    "   - Truncamiento: $\\frac{1}{3} \\approx 0.333...3$ (series infinitas)\n",
    "   - Redondeo: $\\pi \\approx 3.1416$ (limitación de bits)\n"
   ]
  },
  {
   "cell_type": "code",
   "execution_count": 5,
   "id": "22f31134",
   "metadata": {},
   "outputs": [
    {
     "data": {
      "text/plain": [
       "3.141592653589793"
      ]
     },
     "execution_count": 5,
     "metadata": {},
     "output_type": "execute_result"
    }
   ],
   "source": [
    "import numpy as np \n",
    "\n",
    "np.pi"
   ]
  },
  {
   "cell_type": "markdown",
   "id": "8d481a73",
   "metadata": {},
   "source": [
    "\n",
    "# 2. Visualización con Matplotlib:  \n",
    "\n",
    "Visualicemos la aproximación  a seno con un polinomio. \n"
   ]
  },
  {
   "cell_type": "code",
   "execution_count": 6,
   "id": "570fab3f",
   "metadata": {},
   "outputs": [
    {
     "data": {
      "image/png": "[encoded data removed]",
      "text/plain": [
       "<Figure size 800x400 with 1 Axes>"
      ]
     },
     "metadata": {},
     "output_type": "display_data"
    }
   ],
   "source": [
    "def visualizar_errores():\n",
    "    x = np.linspace(0, 2*np.pi, 100)  # una partición del dominio de graficación \n",
    "    y_true = np.sin(x) # la función verdadera\n",
    "    y_approx = x - x**3/6  # Aproximación de Taylor truncada\n",
    "    \n",
    "    fig, ax = plt.subplots(figsize=(8, 4))\n",
    "    ax.plot(x, y_true, label='Verdadero $\\sin(x)$', linewidth=3) # la función verdadera\n",
    "    ax.plot(x, y_approx, '--', label='Aproximación $x - x^3/6$') # la aproximación de Taylor truncada\n",
    "    ax.fill_between(x, y_true, y_approx, alpha=0.3, color='red', label='Error de truncamiento')\n",
    "    ax.set_title('Error por Truncamiento en Aproximación de $\\sin(x)$')\n",
    "    ax.legend()\n",
    "    plt.savefig(r\"C:\\Users\\marco\\Downloads\\visualizacion_error_al_aproximar_seno.jpeg\")\n",
    "    plt.show()\n",
    "\n",
    "visualizar_errores()\n",
    "\n"
   ]
  },
  {
   "cell_type": "code",
   "execution_count": 8,
   "id": "8ddc0c31",
   "metadata": {},
   "outputs": [],
   "source": [
    "import numpy as np # \n",
    "from sympy import symbols, sin, series, lambdify\n",
    "\n",
    "import matplotlib.pyplot as plt\n",
    "\n",
    "def graficar_seno_taylor(n):\n",
    "    \"\"\"\n",
    "    Grafica la función seno y su polinomio de Taylor de grado n (n impar) en el intervalo [-2π, 2π].\n",
    "    \"\"\"\n",
    "    if n % 2 == 0 or n <= 0:\n",
    "        raise ValueError(\"n debe ser un entero positivo impar.\")\n",
    "    \n",
    "    x = symbols('x')\n",
    "    taylor_poly = series(sin(x), x, 0, n+1).removeO()\n",
    "    taylor_func = lambdify(x, taylor_poly, modules=['numpy'])\n",
    "    \n",
    "    x_vals = np.linspace(-2*np.pi, 2*np.pi, 400)\n",
    "    y_sin = np.sin(x_vals)\n",
    "    y_taylor = taylor_func(x_vals)\n",
    "    \n",
    "    plt.figure(figsize=(10, 5))\n",
    "    plt.plot(x_vals, y_sin, label='sin(x)', linewidth=2)\n",
    "    plt.plot(x_vals, y_taylor, '--', label=f'Taylor grado {n}', linewidth=2)\n",
    "    plt.title(f'Aproximación de sin(x) por Taylor de grado {n}')\n",
    "    plt.xlabel('x')\n",
    "    plt.ylabel('y')\n",
    "    plt.legend()\n",
    "    plt.grid(True)\n",
    "    plt.show()"
   ]
  },
  {
   "cell_type": "code",
   "execution_count": 12,
   "id": "55dd7b49",
   "metadata": {},
   "outputs": [
    {
     "data": {
      "image/png": "[encoded data removed]",
      "text/plain": [
       "<Figure size 1000x500 with 1 Axes>"
      ]
     },
     "metadata": {},
     "output_type": "display_data"
    }
   ],
   "source": [
    "graficar_seno_taylor(n = 21)"
   ]
  },
  {
   "cell_type": "markdown",
   "id": "01af7ecd",
   "metadata": {},
   "source": [
    "\n",
    "## 6. Actividades de Aprendizaje (STEAMS)\n"
   ]
  },
  {
   "cell_type": "markdown",
   "id": "9e8004f6",
   "metadata": {},
   "source": [
    "\n",
    "**Prueba de Escritorio** (Pseudocódigo):\n",
    "```\n",
    "1. Definir número real x = 1/3\n",
    "2. Almacenar en precisión simple (32 bits) → x_32\n",
    "3. Almacenar en precisión doble (64 bits) → x_64\n",
    "4. Calcular error_absoluto = |x_64 - x_32|\n",
    "5. Visualizar diferencias\n",
    "```\n"
   ]
  },
  {
   "cell_type": "markdown",
   "id": "a28d9691",
   "metadata": {},
   "source": [
    "\n",
    "**Implementación Python**:\n"
   ]
  },
  {
   "cell_type": "code",
   "execution_count": 15,
   "id": "fc61de11",
   "metadata": {},
   "outputs": [],
   "source": [
    "import pandas as pd \n",
    "def experimento_redondeo():\n",
    "    x = 1/3\n",
    "    x_32 = np.float32(x)\n",
    "    x_64 = np.float64(x)\n",
    "    \n",
    "    error_abs = abs(x_64 - x_32)\n",
    "    error_rel = error_abs / x_64\n",
    "    \n",
    "    resultados = pd.DataFrame({\n",
    "        'Tipo': ['Precisión Simple', 'Precisión Doble'],\n",
    "        'Valor': [x_32, x_64],\n",
    "        'Error Absoluto': [error_abs, 0],\n",
    "        'Error Relativo': [error_rel, 0]\n",
    "    })\n",
    "    \n",
    "    display(resultados)\n",
    "    \n",
    "    # Animación\n",
    "    fig, ax = plt.subplots()\n",
    "    line, = ax.plot([], [], 'ro-')\n",
    "    ax.set_xlim(0, 1)\n",
    "    ax.set_ylim(0, 0.4)\n",
    "    \n",
    "    def init():\n",
    "        line.set_data([], [])\n",
    "        return (line,)\n",
    "    \n",
    "    def animate(i):\n",
    "        x = np.linspace(0, 1, 10)\n",
    "        y = np.float32(np.sin(x + i/10)) - np.sin(x + i/10)\n",
    "        line.set_data(x, y)\n",
    "        return (line,)\n",
    "    \n",
    "    anim = animation.FuncAnimation(fig, animate, init_func=init, frames=100, interval=50, blit=True)\n",
    "    display(HTML(anim.to_jshtml()))\n",
    "\n"
   ]
  },
  {
   "cell_type": "code",
   "execution_count": 16,
   "id": "e6bd25a3",
   "metadata": {},
   "outputs": [
    {
     "data": {
      "application/vnd.microsoft.datawrangler.viewer.v0+json": {
       "columns": [
        {
         "name": "index",
         "rawType": "int64",
         "type": "integer"
        },
        {
         "name": "Tipo",
         "rawType": "object",
         "type": "string"
        },
        {
         "name": "Valor",
         "rawType": "float64",
         "type": "float"
        },
        {
         "name": "Error Absoluto",
         "rawType": "float64",
         "type": "float"
        },
        {
         "name": "Error Relativo",
         "rawType": "float64",
         "type": "float"
        }
       ],
       "ref": "18773dc6-33a6-41a0-9f04-8f6102ab0379",
       "rows": [
        [
         "0",
         "Precisión Simple",
         "0.3333333432674408",
         "9.934107481068821e-09",
         "2.9802322443206464e-08"
        ],
        [
         "1",
         "Precisión Doble",
         "0.3333333333333333",
         "0.0",
         "0.0"
        ]
       ],
       "shape": {
        "columns": 4,
        "rows": 2
       }
      },
      "text/html": [
       "<div>\n",
       "<style scoped>\n",
       "    .dataframe tbody tr th:only-of-type {\n",
       "        vertical-align: middle;\n",
       "    }\n",
       "\n",
       "    .dataframe tbody tr th {\n",
       "        vertical-align: top;\n",
       "    }\n",
       "\n",
       "    .dataframe thead th {\n",
       "        text-align: right;\n",
       "    }\n",
       "</style>\n",
       "<table border=\"1\" class=\"dataframe\">\n",
       "  <thead>\n",
       "    <tr style=\"text-align: right;\">\n",
       "      <th></th>\n",
       "      <th>Tipo</th>\n",
       "      <th>Valor</th>\n",
       "      <th>Error Absoluto</th>\n",
       "      <th>Error Relativo</th>\n",
       "    </tr>\n",
       "  </thead>\n",
       "  <tbody>\n",
       "    <tr>\n",
       "      <th>0</th>\n",
       "      <td>Precisión Simple</td>\n",
       "      <td>0.333333</td>\n",
       "      <td>9.934107e-09</td>\n",
       "      <td>2.980232e-08</td>\n",
       "    </tr>\n",
       "    <tr>\n",
       "      <th>1</th>\n",
       "      <td>Precisión Doble</td>\n",
       "      <td>0.333333</td>\n",
       "      <td>0.000000e+00</td>\n",
       "      <td>0.000000e+00</td>\n",
       "    </tr>\n",
       "  </tbody>\n",
       "</table>\n",
       "</div>"
      ],
      "text/plain": [
       "               Tipo     Valor  Error Absoluto  Error Relativo\n",
       "0  Precisión Simple  0.333333    9.934107e-09    2.980232e-08\n",
       "1   Precisión Doble  0.333333    0.000000e+00    0.000000e+00"
      ]
     },
     "metadata": {},
     "output_type": "display_data"
    },
    {
     "ename": "NameError",
     "evalue": "name 'animation' is not defined",
     "output_type": "error",
     "traceback": [
      "\u001b[31m---------------------------------------------------------------------------\u001b[39m",
      "\u001b[31mNameError\u001b[39m                                 Traceback (most recent call last)",
      "\u001b[36mCell\u001b[39m\u001b[36m \u001b[39m\u001b[32mIn[16]\u001b[39m\u001b[32m, line 1\u001b[39m\n\u001b[32m----> \u001b[39m\u001b[32m1\u001b[39m \u001b[43mexperimento_redondeo\u001b[49m\u001b[43m(\u001b[49m\u001b[43m)\u001b[49m \n",
      "\u001b[36mCell\u001b[39m\u001b[36m \u001b[39m\u001b[32mIn[15]\u001b[39m\u001b[32m, line 35\u001b[39m, in \u001b[36mexperimento_redondeo\u001b[39m\u001b[34m()\u001b[39m\n\u001b[32m     32\u001b[39m     line.set_data(x, y)\n\u001b[32m     33\u001b[39m     \u001b[38;5;28;01mreturn\u001b[39;00m (line,)\n\u001b[32m---> \u001b[39m\u001b[32m35\u001b[39m anim = \u001b[43manimation\u001b[49m.FuncAnimation(fig, animate, init_func=init, frames=\u001b[32m100\u001b[39m, interval=\u001b[32m50\u001b[39m, blit=\u001b[38;5;28;01mTrue\u001b[39;00m)\n\u001b[32m     36\u001b[39m display(HTML(anim.to_jshtml()))\n",
      "\u001b[31mNameError\u001b[39m: name 'animation' is not defined"
     ]
    },
    {
     "data": {
      "image/png": "[encoded data removed]",
      "text/plain": [
       "<Figure size 640x480 with 1 Axes>"
      ]
     },
     "metadata": {},
     "output_type": "display_data"
    }
   ],
   "source": [
    "experimento_redondeo() "
   ]
  },
  {
   "cell_type": "markdown",
   "id": "71d5b5cf",
   "metadata": {},
   "source": [
    "\n",
    "## 7. Canción de los Errores Numéricos\n",
    "*(Con melodía de \"La Cucaracha\")*\n"
   ]
  },
  {
   "cell_type": "markdown",
   "id": "4d3c1a70",
   "metadata": {},
   "source": [
    "\n",
    "```\n",
    "Cuando hago cuentas con la compu, \n",
    "¡redondeo, trunca, ay qué dolor! \n",
    "Si no controlo bien los errores, \n",
    "mi cohete explota sin honor. \n",
    "\n",
    "Precisión simple, doble, \n",
    "quad, octuple hay que usar, \n",
    "según el problema \n",
    "que me toque resolver. \n",
    "```\n"
   ]
  },
  {
   "cell_type": "markdown",
   "id": "e14630d5",
   "metadata": {},
   "source": []
  },
  {
   "cell_type": "markdown",
   "id": "fb6ef56d",
   "metadata": {},
   "source": [
    "\n",
    "# 8. Tareas de Ejercitación\n"
   ]
  },
  {
   "cell_type": "markdown",
   "id": "1b3e2e20",
   "metadata": {},
   "source": [
    "## Tareas sobre la secuencia de clase sobre sintaxis básica en el lenguaje Python  \n",
    "\n",
    "Teniendo en cuenta la secuencia de enseñanza: \n",
    "\n",
    "1. Crear variables de python de tipo entero y float. \n",
    "2. imprimir el valor de una variable en Python. \n",
    "3. Determinar el tipo de variable con la función `type()` de Python. \n",
    "4. Utilizar el ciclo `for` para iterar sobre una lista de valores. Ejemplo: determinar con ciclo for, el número de granos en la última casilla de un tablero de ajedrez. (https://es.wikipedia.org/wiki/Problema_del_trigo_y_del_tablero_de_ajedrez) "
   ]
  },
  {
   "cell_type": "markdown",
   "id": "1470b157",
   "metadata": {},
   "source": [
    "Perfecto, Marco Julio.\n",
    "Te prepararé una **lista de 32 ejercicios** que avancen desde lo más básico (crear variables) hasta aplicar el ciclo `for` en problemas más elaborados, incluyendo el ejemplo del problema del trigo y variaciones para que los estudiantes practiquen.\n",
    "\n",
    "---\n",
    "\n",
    "## **Ejercicios propuestos — Secuencia de enseñanza**\n",
    "\n",
    "### **Parte 1 – Crear variables (Enteros y Float)**\n",
    "\n",
    "1. Crea una variable entera que guarde tu edad y otra flotante que guarde tu estatura en metros.\n",
    "2. Declara una variable entera con el número de estudiantes en tu salón.\n",
    "3. Crea una variable flotante que represente el precio de un kilo de arroz en tu ciudad.\n",
    "4. Declara dos variables: una entera con el número de días en un año y otra flotante con el número de horas que tiene un día.\n",
    "5. Guarda en una variable entera la cantidad de libros que has leído este año y en otra flotante la nota promedio de tus materias.\n",
    "\n",
    "---\n",
    "\n",
    "### **Parte 2 – Imprimir el valor de variables**\n",
    "\n",
    "6. Imprime en pantalla tu edad y estatura en una misma línea.\n",
    "7. Imprime el precio del arroz con el mensaje: `\"El precio del arroz es: X pesos\"`.\n",
    "8. Declara una variable con tu nombre y otra con tu apellido, e imprímelas juntas con un espacio en medio.\n",
    "9. Crea una variable con el nombre de tu asignatura favorita y muéstrala en pantalla.\n",
    "10. Declara una variable con el número de hijos de tus padres y otra con el número de nietos de tus abuelos, imprímelas con un texto descriptivo.\n",
    "\n",
    "---\n",
    "\n",
    "### **Parte 3 – Determinar el tipo de variable con `type()`**\n",
    "\n",
    "11. Declara una variable entera y usa `type()` para mostrar su tipo.\n",
    "12. Declara una variable flotante y usa `type()` para mostrar su tipo.\n",
    "13. Declara una variable con un texto (string) y muestra su tipo.\n",
    "14. Declara una variable booleana (`True` o `False`) y muestra su tipo.\n",
    "15. Crea una variable con un número complejo y usa `type()` para identificarlo.\n",
    "\n",
    "---\n",
    "\n",
    "### **Parte 4 – Uso del ciclo `for` con listas**\n",
    "\n",
    "16. Crea una lista con los números del 1 al 10 e imprímelos usando un ciclo `for`.\n",
    "17. Declara una lista con cinco frutas y usa un `for` para imprimir cada fruta en una línea diferente.\n",
    "18. Crea una lista con cinco precios y calcula con un `for` el total a pagar sumando todos los precios.\n",
    "19. Declara una lista con tres temperaturas (en °C) y usa un `for` para imprimir cada temperatura convertida a °F.\n",
    "20. Crea una lista con los números del 1 al 5 y usa un `for` para imprimir el cuadrado de cada número.\n",
    "\n",
    "---\n",
    "\n",
    "### **Parte 5 – Problema del trigo y del tablero de ajedrez**\n",
    "\n",
    "21. Calcula con un `for` cuántos granos de trigo habría en la **primera** casilla del tablero.\n",
    "22. Calcula cuántos granos habría en la **segunda** casilla del tablero.\n",
    "23. Imprime con un `for` el número de granos en cada casilla hasta la casilla 8.\n",
    "24. Determina con un `for` el número total de granos hasta la casilla 64.\n",
    "25. Calcula el número de granos en la última casilla (casilla 64) usando un `for`.\n",
    "26. Calcula el total de granos pero expresado en **toneladas** suponiendo que cada grano pesa 0.02 gramos.\n",
    "27. Usa un `for` para mostrar una tabla: columna 1 = número de casilla, columna 2 = granos en la casilla.\n",
    "28. Determina en qué casilla se supera el millón de granos.\n",
    "29. Calcula el total de granos hasta la casilla 32.\n",
    "30. Determina qué porcentaje de los granos totales del tablero hay en las últimas 4 casillas.\n",
    "\n",
    "---\n",
    "\n",
    "### **Parte 6 – Variaciones creativas con `for`**\n",
    "\n",
    "31. Simula un tablero pero donde la cantidad de granos se triplica en cada casilla (en lugar de duplicarse).\n",
    "32. Calcula cuántos días tardaría en colocar todos los granos en el tablero si puedes colocar 1 millón de granos por día.\n",
    "\n",
    "---\n",
    "\n",
    "Si quieres, puedo prepararte también **un cuaderno Jupyter listo con los 32 ejercicios y celdas para que tus estudiantes escriban el código**, con un formato atractivo para clase invertida.\n",
    "Así ahorrarías tiempo de digitación en clase.\n"
   ]
  },
  {
   "cell_type": "markdown",
   "id": "6ec3f369",
   "metadata": {},
   "source": [
    "Perfecto, Marco Julio.\n",
    "Te propongo **30 ejercicios** distribuidos de forma progresiva para que los estudiantes practiquen todos los pasos de tu secuencia de enseñanza.\n",
    "\n",
    "---\n",
    "\n",
    "## **Lista de ejercicios: secuencia 1–4**\n",
    "\n",
    "### **1. Crear variables de tipo entero y float**\n",
    "\n",
    "1. Crea una variable entera con el número de estudiantes en tu clase.\n",
    "2. Crea una variable `pi_aprox` con un valor decimal aproximado de π (por ejemplo, 3.14).\n",
    "3. Crea dos variables: `edad` y `estatura`, y asígnales un valor entero y un valor decimal respectivamente.\n",
    "4. Asigna a una variable `dias_semana` el valor 7 y a otra variable `horas_dia` el valor 24.\n",
    "5. Crea variables `precio_producto` y `cantidad`, representando un precio en pesos (decimal) y una cantidad (entero).\n",
    "\n",
    "---\n",
    "\n",
    "### **2. Imprimir el valor de una variable**\n",
    "\n",
    "6. Imprime el valor de `pi_aprox` en pantalla.\n",
    "7. Imprime un mensaje con la cantidad de estudiantes, usando concatenación o f-strings.\n",
    "8. Muestra el valor de `edad` y `estatura` en una sola línea.\n",
    "9. Crea una variable `nombre` con tu nombre y otra `apellido` con tu apellido, e imprímelas juntas.\n",
    "10. Imprime el resultado de multiplicar `precio_producto` por `cantidad`.\n",
    "\n",
    "---\n",
    "\n",
    "### **3. Determinar el tipo de variable con `type()`**\n",
    "\n",
    "11. Muestra el tipo de la variable `edad`.\n",
    "12. Muestra el tipo de la variable `pi_aprox`.\n",
    "13. Muestra el tipo de una variable que contenga una palabra, por ejemplo `ciudad = \"Caucasia\"`.\n",
    "14. Muestra el tipo de una variable booleana creada como `es_profesor = True`.\n",
    "15. Crea una variable `numero_texto = \"123\"` y determina su tipo.\n",
    "\n",
    "---\n",
    "\n",
    "### **4. Utilizar el ciclo `for` para iterar sobre una lista**\n",
    "\n",
    "16. Imprime todos los elementos de la lista `colores = [\"rojo\", \"verde\", \"azul\"]` usando un `for`.\n",
    "17. Imprime todos los números del 1 al 10 usando un `for`.\n",
    "18. Calcula la suma de todos los números en la lista `[2, 4, 6, 8, 10]`.\n",
    "19. Imprime cada letra de la palabra `\"Python\"` en una línea distinta.\n",
    "20. Dada la lista `precios = [1500.5, 2300.75, 1200.0]`, imprime cada precio multiplicado por 1.19 (IVA).\n",
    "\n",
    "---\n",
    "\n",
    "### **5. Problema del trigo y el tablero de ajedrez**\n",
    "\n",
    "21. Imprime el número de granos en la primera casilla del tablero (1 grano).\n",
    "22. Calcula el número de granos en la segunda casilla si se dobla la cantidad de la primera.\n",
    "23. Calcula el número de granos en la tercera casilla con la misma lógica.\n",
    "24. Usa un ciclo `for` para imprimir el número de granos en cada casilla hasta la 8ª.\n",
    "25. Modifica el ejercicio anterior para que imprima hasta la casilla 64.\n",
    "26. Calcula el número total de granos en las primeras 10 casillas.\n",
    "27. Calcula el número total de granos en las 64 casillas.\n",
    "28. Imprime solo el número de granos en la última casilla.\n",
    "29. Imprime el número total de granos en el tablero y conviértelo a toneladas (suponiendo que cada grano pesa 0.02 g).\n",
    "30. Calcula cuántos años tardarías en contar todos los granos si contaras 1 grano por segundo.\n",
    "\n",
    "---\n",
    "\n",
    "Si quieres, puedo prepararte también **el notebook de Python con estos 30 ejercicios listos para que tus estudiantes solo los resuelvan**, siguiendo tu metodología de aula invertida.\n",
    "Así podrían descargarlo desde tu GitHub y trabajarlo directamente en Colab o JupyterLab.\n"
   ]
  },
  {
   "cell_type": "markdown",
   "id": "87286326",
   "metadata": {},
   "source": [
    "1. Implementar una calculadora de errores con ipywidgets que permita:\n",
    "   - Seleccionar función (sin, exp, log)\n",
    "   - Elegir precisión numérica\n",
    "   - Visualizar error acumulado\n"
   ]
  },
  {
   "cell_type": "markdown",
   "id": "64a4c0e5",
   "metadata": {},
   "source": [
    "Perfecto.\n",
    "Aquí tienes un **cuaderno interactivo en Python** con `ipywidgets` para que los estudiantes exploren el **error acumulado** al calcular funciones (`sin`, `exp`, `log`) con diferentes precisiones numéricas.\n"
   ]
  },
  {
   "cell_type": "code",
   "execution_count": null,
   "id": "0a0a4014",
   "metadata": {},
   "outputs": [
    {
     "data": {
      "application/vnd.jupyter.widget-view+json": {
       "model_id": "d564640de8854aacb8a781f96086265e",
       "version_major": 2,
       "version_minor": 0
      },
      "text/plain": [
       "interactive(children=(Dropdown(description='Función:', options=('sin', 'exp', 'log'), value='sin'), Dropdown(d…"
      ]
     },
     "metadata": {},
     "output_type": "display_data"
    },
    {
     "data": {
      "text/plain": [
       "<function __main__.visualizar(func_name, precision, puntos)>"
      ]
     },
     "execution_count": 17,
     "metadata": {},
     "output_type": "execute_result"
    }
   ],
   "source": [
    "import numpy as np\n",
    "import matplotlib.pyplot as plt\n",
    "import ipywidgets as widgets\n",
    "from ipywidgets import interact\n",
    "\n",
    "# ===============================\n",
    "# Función para calcular el error\n",
    "# ===============================\n",
    "def calcular_error(func_name, precision, puntos):\n",
    "    # Creamos un rango de valores\n",
    "    x = np.linspace(0.1, 10, puntos)  # Evitamos log(0)\n",
    "    \n",
    "    # Seleccionamos la función\n",
    "    if func_name == 'sin':\n",
    "        f = np.sin\n",
    "    elif func_name == 'exp':\n",
    "        f = np.exp\n",
    "    elif func_name == 'log':\n",
    "        f = np.log\n",
    "    \n",
    "    # Valor \"exacto\" (doble precisión por defecto en NumPy)\n",
    "    y_real = f(x)\n",
    "    \n",
    "    # Simulación de precisión reducida\n",
    "    if precision == 'float32':\n",
    "        y_aprox = f(x.astype(np.float32)).astype(np.float32)\n",
    "    elif precision == 'float16':\n",
    "        y_aprox = f(x.astype(np.float16)).astype(np.float16)\n",
    "    else:  # float64\n",
    "        y_aprox = f(x.astype(np.float64)).astype(np.float64)\n",
    "    \n",
    "    # Error absoluto\n",
    "    error = np.abs(y_real - y_aprox)\n",
    "    \n",
    "    return x, y_real, y_aprox, error\n",
    "\n",
    "# ===============================\n",
    "# Función para graficar\n",
    "# ===============================\n",
    "def visualizar(func_name, precision, puntos):\n",
    "    x, y_real, y_aprox, error = calcular_error(func_name, precision, puntos)\n",
    "    \n",
    "    plt.figure(figsize=(10,4))\n",
    "    \n",
    "    # Gráfico de función\n",
    "    plt.subplot(1,2,1)\n",
    "    plt.plot(x, y_real, label='Valor exacto', lw=2)\n",
    "    plt.plot(x, y_aprox, '--', label=f'Aprox. ({precision})')\n",
    "    plt.title(f'Función {func_name}(x)')\n",
    "    plt.xlabel('x')\n",
    "    plt.ylabel('y')\n",
    "    plt.legend()\n",
    "    \n",
    "    # Gráfico de error\n",
    "    plt.subplot(1,2,2)\n",
    "    plt.plot(x, error, color='red')\n",
    "    plt.yscale('log')\n",
    "    plt.title('Error absoluto (escala log)')\n",
    "    plt.xlabel('x')\n",
    "    plt.ylabel('Error')\n",
    "    \n",
    "    plt.tight_layout()\n",
    "    plt.show()\n",
    "\n",
    "# ===============================\n",
    "# Widget interactivo\n",
    "# ===============================\n",
    "interact(\n",
    "    visualizar,\n",
    "    func_name=widgets.Dropdown(\n",
    "        options=['sin', 'exp', 'log'],\n",
    "        value='sin',\n",
    "        description='Función:'\n",
    "    ),\n",
    "    precision=widgets.Dropdown(\n",
    "        options=['float16', 'float32', 'float64'],\n",
    "        value='float32',\n",
    "        description='Precisión:'\n",
    "    ),\n",
    "    puntos=widgets.IntSlider(\n",
    "        value=100,\n",
    "        min=10,\n",
    "        max=1000,\n",
    "        step=10,\n",
    "        description='Puntos:'\n",
    "    )\n",
    ")\n",
    "\n"
   ]
  },
  {
   "cell_type": "markdown",
   "id": "33960bf3",
   "metadata": {},
   "source": [
    "\n",
    "---\n",
    "\n",
    "### Cómo usarlo en clase\n",
    "\n",
    "* **Objetivo**: Que los estudiantes visualicen cómo reducir la precisión numérica (de `float64` a `float32` o `float16`) incrementa el **error acumulado**.\n",
    "* **Actividades sugeridas**:\n",
    "\n",
    "  1. Probar cada función (`sin`, `exp`, `log`) y observar en qué rangos el error crece más rápido.\n",
    "  2. Discutir por qué el **logaritmo** es más sensible cerca de cero.\n",
    "  3. Relacionar con el concepto de **cancelación numérica** y **acumulación de errores**.\n",
    "\n",
    "Si quieres, puedo ampliarte este notebook para que también muestre **error relativo** y no solo absoluto.\n"
   ]
  },
  {
   "cell_type": "markdown",
   "id": "6a57cd65",
   "metadata": {},
   "source": [
    "\n",
    "# 2. Investigar el desastre del Ariane 5 (1996) por errores numéricos y simularlo con Python\n"
   ]
  },
  {
   "cell_type": "markdown",
   "id": "4c0ee840",
   "metadata": {},
   "source": [
    "¡Excelente tema para tu clase! Aquí tienes un **mini-dossier** del caso Ariane 5 (1996) y una **simulación en Python** para mostrar, de forma visual, cómo un desbordamiento por conversión de tipos puede arruinar un sistema crítico.\n",
    "\n",
    "# Qué ocurrió (resumen citable)\n",
    "\n",
    "* **Fecha:** 4 de junio de 1996 (vuelo 501). A los \\~37 s desde el encendido principal (\\~30 s tras el despegue) se perdió totalmente la guiado y la actitud; el lanzador se autodestruyó por la secuencia de terminación de vuelo. ([Agencia Espacial Europea][1])\n",
    "* **Causa raíz técnica:** en el **Sistema de Referencia Inercial (SRI)**, un valor de punto flotante de **64 bits** (relacionado con la **velocidad horizontal / sesgo horizontal**) fue convertido a **entero con signo de 16 bits**; el valor real excedió el rango representable y se produjo una **excepción por overflow**. El código —reutilizado de Ariane 4— no contempló que Ariane 5 tendría valores mayores en esa fase del vuelo y no protegió esa conversión; tanto el SRI principal como el de respaldo fallaron casi a la vez. ([sunnyday.mit.edu][2], [www-users.cse.umn.edu][3], [Wikipedia][4])\n",
    "* **Lección clave:** **reutilizar software** sin revalidar supuestos del **entorno/operación** (rango de datos, perfiles de vuelo) y **falta de manejo defensivo de errores** (checks / saturación / degradación segura) son prácticas peligrosas. ([ACM Digital Library][5])\n",
    "\n",
    "---\n",
    "\n",
    "# Simulación didáctica en Python\n",
    "\n",
    "Arriba te muestro un **gráfico** que simula un valor de “velocidad horizontal” en **float64** convertido sin control a **int16**. Observa cómo, al superar el **máximo de int16 (32767)**, la conversión **se desborda y se “enrolla”** (wraparound), generando valores absurdos que, si se interpretan como datos válidos, pueden provocar órdenes de control erróneas (análogo a lo que pasó en Ariane 5).\n",
    "\n",
    "Si quieres ejecutarlo de nuevo en tu cuaderno, este es el código esencial:\n",
    "\n",
    "```python\n",
    "import numpy as np\n",
    "import matplotlib.pyplot as plt\n",
    "\n",
    "# Línea de tiempo (0 a 45 s)\n",
    "t = np.linspace(0, 45, 451)\n",
    "\n",
    "# Perfil \"toy\" de velocidad horizontal (más alto que en Ariane 4)\n",
    "k = 500.0                      # escala grande para forzar overflow\n",
    "vh = k * (t ** 1.6)            # float64 \"real\"\n",
    "vh_scaled = vh                 # valor a convertir\n",
    "\n",
    "# Conversión insegura: float64 -> int16 (envuelve silenciosamente)\n",
    "vh_i16 = vh_scaled.astype(np.int16)\n",
    "\n",
    "INT16_MAX = np.iinfo(np.int16).max\n",
    "overflow_idx = np.argmax(vh_scaled > INT16_MAX)\n",
    "t_over = t[overflow_idx] if (vh_scaled > INT16_MAX).any() else None\n",
    "\n",
    "# Visualización\n",
    "plt.figure(figsize=(10,6))\n",
    "plt.plot(t, vh_scaled, label=\"Float64 (\\\"real\\\")\")\n",
    "plt.plot(t, vh_i16, label=\"Int16 tras conversión insegura\")\n",
    "if t_over is not None:\n",
    "    plt.axvline(t_over, linestyle=\"--\", label=f\"Primer overflow ~{t_over:.1f} s\")\n",
    "plt.title(\"Overflow por conversión: float64 → int16 (simulado)\")\n",
    "plt.xlabel(\"Tiempo (s)\"); plt.ylabel(\"Valor (u.a.)\"); plt.legend()\n",
    "plt.show()\n",
    "```\n",
    "\n",
    "## Cómo conectar la simulación con el caso real\n",
    "\n",
    "Propón a tus estudiantes:\n",
    "\n",
    "1. **Ubicar el primer overflow** en el gráfico y discutir qué pasaría si el sistema interpreta ese valor como ángulo/velocidad válidos.\n",
    "2. **Aplicar defensas**:\n",
    "\n",
    "   * *Chequeo de rango* y **saturación** en vez de “wraparound”:\n",
    "\n",
    "   ```python\n",
    "   def saturate_to_int16(x):\n",
    "       x = np.clip(x, np.iinfo(np.int16).min, np.iinfo(np.int16).max)\n",
    "       return x.astype(np.int16)\n",
    "   ```\n",
    "\n",
    "   * **Manejo de excepciones** (parar sólo la tarea afectada, no el SRI completo) y **degradación segura** (usar última medida válida o un filtro de contingencia).\n",
    "3. **Revalidar supuestos**: cambien el exponente/escala del perfil de velocidad y observen cómo cambia el punto de fallo. Esa es la metáfora del paso de Ariane 4 a Ariane 5.\n",
    "\n",
    "---\n",
    "\n",
    "# Para tu clase (en 15’)\n",
    "\n",
    "* **Demostración**: ejecuta el script y muestra el instante de overflow.\n",
    "* **Discusión guiada**: ¿Qué políticas de ingeniería hubieran evitado el fallo? (chequeos, saturación, pruebas con datos operacionales, *fault containment boundaries*). ([sunnyday.mit.edu][2], [ACM Digital Library][5])\n",
    "* **Actividad rápida**: pide a la clase implementar `saturate_to_int16` y comparar la señal de control “inestable” vs “saturada”.\n",
    "\n",
    "---\n",
    "\n",
    "### Fuentes recomendadas\n",
    "\n",
    "* **Informe oficial de la Junta de Investigación (1996)**: descripción del overflow 64-bit float → 16-bit int en el SRI. ([sunnyday.mit.edu][2], [Docenti Ingenieria Pisa][6], [NASA Space Flight Forum][7])\n",
    "* **ESA (nota de prensa)**: cronología exacta del fallo a los \\~37 s desde el encendido principal. ([Agencia Espacial Europea][1])\n",
    "* **Artículo ACM (Dowson, 1997)**: análisis de ingeniería de software. ([ACM Digital Library][5])\n",
    "* **Resumen enciclopédico del vuelo V88**: contexto y cifras. ([Wikipedia][4])\n",
    "\n",
    "¿Quieres que lo empaquete como **notebook (.ipynb)** con celdas de explicación, gráficas y preguntas guía para tus estudiantes?\n",
    "\n",
    "[1]: https://www.esa.int/Newsroom/Press_Releases/Ariane_501_-_Presentation_of_Inquiry_Board_report?utm_source=chatgpt.com \"Ariane 501 - Presentation of Inquiry Board report\"\n",
    "[2]: https://sunnyday.mit.edu/nasa-class/Ariane5-report.html?utm_source=chatgpt.com \"ARIANE 5 Failure - Full Report\"\n",
    "[3]: https://www-users.cse.umn.edu/~arnold/disasters/ariane5rep.html?utm_source=chatgpt.com \"ARIANE 5 Failure - Full Report\"\n",
    "[4]: https://en.wikipedia.org/wiki/Ariane_flight_V88?utm_source=chatgpt.com \"Ariane flight V88\"\n",
    "[5]: https://dl.acm.org/doi/pdf/10.1145/251880.251992?utm_source=chatgpt.com \"The Ariane 5 software failure\"\n",
    "[6]: https://docenti.ing.unipi.it/~a009435/issw/extra/esa-x-1819eng.pdf?utm_source=chatgpt.com \"Ariane 501 Inquiry Board report\"\n",
    "[7]: https://forum.nasaspaceflight.com/index.php?action=dlattach%3Btopic%3D33019.0%3Battach%3D1102564&utm_source=chatgpt.com \"ARIANE 5 - Flight 501 Failure Report\"\n"
   ]
  },
  {
   "cell_type": "markdown",
   "id": "81018aa9",
   "metadata": {},
   "source": [
    "\n",
    "## 9. Evaluación\n",
    "**Proyectos**:\n",
    "1. Simulador de propagación de errores en operaciones básicas\n",
    "2. Visualizador 3D de superficies de error\n",
    "3. Biblioteca de funciones numéricamente estables\n"
   ]
  },
  {
   "cell_type": "markdown",
   "id": "56ed3a22",
   "metadata": {},
   "source": [
    "\n",
    "# **Quiz Ejemplo**:\n"
   ]
  },
  {
   "cell_type": "code",
   "execution_count": 18,
   "id": "656bdb3b",
   "metadata": {},
   "outputs": [],
   "source": [
    "# Pregunta 1: ¿Cuál produce mayor error?\n",
    "a = np.float32(0.1) + np.float32(0.2)\n",
    "b = np.float64(0.1) + np.float64(0.2)\n",
    "\n"
   ]
  },
  {
   "cell_type": "code",
   "execution_count": 19,
   "id": "65496b2a",
   "metadata": {},
   "outputs": [
    {
     "data": {
      "text/plain": [
       "(np.float32(0.3), np.float64(0.30000000000000004))"
      ]
     },
     "execution_count": 19,
     "metadata": {},
     "output_type": "execute_result"
    }
   ],
   "source": [
    "a,b "
   ]
  },
  {
   "cell_type": "markdown",
   "id": "20c24b9b",
   "metadata": {},
   "source": [
    "\n",
    "**Parcial Ejemplo**:\n",
    "Implemente un algoritmo que calcule $\\sum_{k=1}^N \\frac{1}{k^2}$ de dos formas diferentes y analice los errores.\n"
   ]
  },
  {
   "cell_type": "code",
   "execution_count": null,
   "id": "d36e1a29",
   "metadata": {},
   "outputs": [],
   "source": []
  },
  {
   "cell_type": "markdown",
   "id": "ed669101",
   "metadata": {},
   "source": [
    "\n",
    "## 10. Retroalimentación\n",
    "Usar un formulario de Google Forms con:\n",
    "- Preguntas sobre dificultades encontradas\n",
    "- Ejercicio de autoevaluación con solución comentada\n",
    "- Espacio para sugerencias de mejora\n"
   ]
  },
  {
   "cell_type": "markdown",
   "id": "f2d152f2",
   "metadata": {},
   "source": [
    "\n",
    "## 11. Vocabulario Inglés\n",
    "- **Rounding error**: Error de redondeo\n",
    "- **Truncation error**: Error de truncamiento\n",
    "- **Numerical stability**: Estabilidad numérica\n",
    "- **Floating-point arithmetic**: Aritmética de punto flotante\n",
    "- **Loss of significance**: Pérdida de significancia\n"
   ]
  },
  {
   "cell_type": "markdown",
   "id": "41f022c5",
   "metadata": {},
   "source": [
    "\n",
    "## 12. Apéndice: Habilidades Blandas\n",
    "**Trabajo en Equipo**:\n",
    "- Usar Git para colaborar en notebooks\n",
    "- Dividir tareas según fortalezas (matemáticas/programación/visualización)\n",
    "\n",
    "**Inteligencia Emocional**:\n",
    "- Técnica \"5 respiraciones\" antes de pruebas\n",
    "- Diario de errores: documentar y aprender de ellos\n"
   ]
  },
  {
   "cell_type": "markdown",
   "id": "a95ac903",
   "metadata": {},
   "source": [
    "\n",
    "## 13. Referentes Didácticos (APA)  \n",
    "\n",
    "1. Duval, R. (2006). *A cognitive analysis of problems of comprehension in a learning of mathematics*. Educational Studies in Mathematics, 61(1-2), 103-131.\n",
    "\n",
    "2. Wing, J. M. (2006). *Computational thinking*. Communications of the ACM, 49(3), 33-35.\n",
    "\n",
    "3. Bergmann, J., & Sams, A. (2012). *Flip your classroom: Reach every student in every class every day*. International Society for Technology in Education.\n",
    "\n",
    "4. Sanders, M. (2009). *STEM, STEM education, STEMmania*. The Technology Teacher, 68(4), 20-26.\n",
    "\n",
    "5. Thomas, J. W. (2000). *A review of research on project-based learning*. Autodesk Foundation.  \n",
    "     \n",
    "6. OpenAI. (2025, 15 de agosto). Respuesta generada por ChatGPT a una consulta sobre encuesta digital y generación de datos en Python. ChatGPT. https://chat.openai.com/\n",
    "\n",
    "*Nota*: El diseño completo incluye más visualizaciones interactivas y notebooks de ejemplo que por espacio no se muestran aquí."
   ]
  },
  {
   "cell_type": "code",
   "execution_count": null,
   "id": "1bb78d11",
   "metadata": {},
   "outputs": [],
   "source": []
  },
  {
   "cell_type": "code",
   "execution_count": null,
   "id": "f42b12a0",
   "metadata": {},
   "outputs": [],
   "source": []
  },
  {
   "cell_type": "markdown",
   "id": "8d41fe58",
   "metadata": {
    "slideshow": {
     "slide_type": "slide"
    }
   },
   "source": [
    "# Horario de clases del profesor Marco\n",
    "\n",
    "* Lunes 8-12: Cálculo Vectorial\n",
    "* Martes 8-12 M: Fundamentos de Aritmética. \n",
    "* Miércoles 8 a 12 M: Fundamentos de la Lógica\n",
    "* Jueves 2 a 6 PM: Desarrollo del pensamiento matemático en la infancia. \n",
    "* Viernes 8 - 12 M: Análisis Numérico. \n",
    "* Sábados 8-12 Asesorías y espacio para retroalimentación y apoyo al trabajo independiente. "
   ]
  },
  {
   "cell_type": "markdown",
   "id": "ae114e14",
   "metadata": {
    "slideshow": {
     "slide_type": "slide"
    }
   },
   "source": [
    "# Horarios de monitoría y asesoría   \n",
    "\n",
    "* Asesoría: Sábados de 8 a 12 en el aula que nos asigne la sección de medios y logística. \n"
   ]
  },
  {
   "cell_type": "markdown",
   "id": "8cf679e7",
   "metadata": {},
   "source": [
    "\n",
    "# Coordinador de los cursos de la Facultad de Educación para regiones:    \n",
    "\n",
    "Andrés Vélez: regioneducacion.fedu@udea.edu.co  \n",
    "Coordinador Regiones  \n",
    "Facultad de Educación  \n",
    "Universidad de Antioquia  "
   ]
  },
  {
   "cell_type": "markdown",
   "id": "b1db4b6c",
   "metadata": {
    "slideshow": {
     "slide_type": "slide"
    }
   },
   "source": [
    "## Monitores  \n",
    "* Yeifry Sebastián Uribe: yeifry.uribe@udea.edu.co. \n",
    "* Manuel San Juan Serrano: Contactar escribiendo al correo: manuel.serrano1@udea.edu.co"
   ]
  },
  {
   "cell_type": "markdown",
   "id": "39559692",
   "metadata": {
    "slideshow": {
     "slide_type": "slide"
    }
   },
   "source": [
    "Martes y jueves de 8 - 12  \n",
    "Miércoles 10 - 12 y de 2 a 4 PM  \n",
    "Sábado: 8 - 12"
   ]
  },
  {
   "cell_type": "markdown",
   "id": "10bce0d0",
   "metadata": {
    "slideshow": {
     "slide_type": "slide"
    }
   },
   "source": [
    "## Referentes "
   ]
  },
  {
   "cell_type": "markdown",
   "id": "1db3c468",
   "metadata": {
    "slideshow": {
     "slide_type": "slide"
    }
   },
   "source": [
    "* [Bergmann, J. (2012). *Flip Your Classroom.* (Aula Invertida).](chrome-extension://efaidnbmnnnibpcajpcglclefindmkaj/https://blogs.ugto.mx/mdued/wp-content/uploads/sites/66/2022/11/Bergmann-y-Sams-Dale-la-vuelta-a-tu-clase.pdf)    \n",
    "  \n",
    "* [CALCULO I DE UNA VARIABLE Ron Larson-Bruce Edwards. Mc Graw Hill. 9º Edición](https://www.academia.edu/42139251/CALCULO_I_DE_UNA_VARIABLE_Ron_Larson_Bruce_Edwards_Mc_Graw_Hill_9o_Edici%C3%B3n)   \n",
    "  \n",
    "* [Métodos numéricos usando python](chrome-extension://efaidnbmnnnibpcajpcglclefindmkaj/https://librosoa.unam.mx/bitstream/handle/123456789/3416/MNPython.pdf?sequence=1&isAllowed=y)  \n",
    "  \n",
    "* [Métodos numéricos usando python. Código fuente de todo el libro](https://github.com/jcjimenezb123/MNPython-Libro?tab=readme-ov-file#readme)\n",
    "\n",
    "* [Grajales Vanegas, L. M., Restrepo Estrada, C. E., Restrepo Ochoa, S. I., & Ruíz De Villalba, F. (2015). Matemáticas I para las ciencias económicas.](https://bibliotecadigital.udea.edu.co/handle/10495/3010)\n",
    "  \n",
    "* R. Duval y Semiosis y pensamiento humano, 2.ª ed. Cali, Colombia: Programa Editorial Universidad del Valle, 2017. [En línea]. Disponible en: https://programaeditorial.univalle.edu.co/gpd-semiosis-y-pensamiento-humano-9789587655278-63324cdb0f6b3.html\n",
    "\n",
    "* [Aylwin, C. U. (2011). Lógica, conjuntos y números. Universidad de los Andes, Consejo de Publicaciones, Colección: Ciencias Básicas, Serie: Matemáticas.](chrome-extension://efaidnbmnnnibpcajpcglclefindmkaj/https://www.u-cursos.cl/ciencias/2011/1/MC110/1/material_docente/bajar?id_material=574722)\n",
    "  \n",
    "* [Chollet, F. (2021). Deep learning with Python. Simon and Schuster.](chrome-extension://efaidnbmnnnibpcajpcglclefindmkaj/https://tanthiamhuat.wordpress.com/wp-content/uploads/2018/03/deeplearningwithpython.pdf)  \n",
    "  \n",
    "* [Watson, S., Stewart, J., & Redlin, L. (2009). Precálculo. Matemáticas para el cálculo.](https://github.com/marco-canas/calculo/blob/main/referents/1_precalculo_stewart/stewart_precalculo.pdf)  \n",
    "\n",
    "* [Purcell, E. J., Varberg, D., & Rigdon, S. E. (2007). Cálculo diferencial e integral. Pearson Educación.](https://github.com/marco-canas/calculo/blob/main/referents/purcell/purcell_calculo.pdf)\n",
    "\n",
    "  \n",
    "\n",
    "* [stewart cálculo](https://udeaeduco-my.sharepoint.com/:b:/g/personal/marco_canas_udea_edu_co/EZgXZjAp8QxPqOAim2hs6LcBNPLGjSHf-xwYnUVYkwa04w?e=RZdTCy)  \n",
    "\n",
    "\n",
    "\n",
    "\n",
    "\n",
    "* [Recomendación de la UNESCO sobre ciencia abierta](https://unesdoc.unesco.org/ark:/48223/pf0000379949_spa)\n",
    "\n",
    "* [chatGPT](https://openai.com/blog/chatgpt)  \n",
    "\n",
    "* [Géron, A. (2017). Hands-on machine learning with scikit-learn and tensorflow: Concepts. Tools, and Techniques to build intelligent systems.](chrome-extension://efaidnbmnnnibpcajpcglclefindmkaj/http://14.139.161.31/OddSem-0822-1122/Hands-On_Machine_Learning_with_Scikit-Learn-Keras-and-TensorFlow-2nd-Edition-Aurelien-Geron.pdf)   \n"
   ]
  },
  {
   "cell_type": "markdown",
   "id": "df925560",
   "metadata": {},
   "source": [
    "\n",
    "* [McKinney, W. (2012). Python for data analysis: Data wrangling with Pandas, NumPy, and IPython. \" O'Reilly Media, Inc.\".](https://wesmckinney.com/book/) "
   ]
  },
  {
   "cell_type": "markdown",
   "id": "8e65d6f9",
   "metadata": {},
   "source": [
    "# Como estudiante, encuentro que...   \n",
    "\n",
    "F: Mis Fortalezas son:     \n",
    "O: Mis Oportunidades son:    \n",
    "D: Mis Debilidades son:    \n",
    "A: Lo que Amenazas mi aprendizaje es:  "
   ]
  },
  {
   "cell_type": "markdown",
   "id": "6b9e56a8",
   "metadata": {
    "slideshow": {
     "slide_type": "slide"
    }
   },
   "source": [
    "### [Evaluamos al profesor Marco Cañas Aquí](https://forms.office.com/Pages/ResponsePage.aspx?id=IefhmYRxjkmK_7KtTlPBwkanXIs1i1FEujpsZgO6dXpUREJPV1kxUk1JV1ozTFJIQVNIQjY5WEY3US4u)"
   ]
  },
  {
   "cell_type": "markdown",
   "id": "10f43536",
   "metadata": {
    "slideshow": {
     "slide_type": "slide"
    }
   },
   "source": [
    "### Continue su aprendizaje en la siguiente clase a través del siguiente [vínculo]()"
   ]
  },
  {
   "cell_type": "markdown",
   "id": "53cc9115",
   "metadata": {
    "slideshow": {
     "slide_type": "slide"
    }
   },
   "source": [
    "## Agradecimientos  \n",
    "\n",
    "Doy gracias a Dios por la vida de mi Hijo Joseph Cañas Osorio y la madurez que ha alcanzado. Este hijo me enorgullece y me hace falta abrazarlo cada día. \n",
    "\n",
    "Y a mi esposa Yasmira Emperatriz Barboza Mogollón por su apoyo, orientación y acompañamiento. "
   ]
  },
  {
   "cell_type": "markdown",
   "id": "0e66cd7c",
   "metadata": {},
   "source": [
    "# Clase de análisis numérico los Viernes de 8 a 12 del medio día. "
   ]
  },
  {
   "cell_type": "markdown",
   "id": "c5ff61b1",
   "metadata": {},
   "source": []
  }
 ],
 "metadata": {
  "celltoolbar": "Slideshow",
  "kernelspec": {
   "display_name": ".venv",
   "language": "python",
   "name": "python3"
  },
  "language_info": {
   "codemirror_mode": {
    "name": "ipython",
    "version": 3
   },
   "file_extension": ".py",
   "mimetype": "text/x-python",
   "name": "python",
   "nbconvert_exporter": "python",
   "pygments_lexer": "ipython3",
   "version": "3.11.9"
  },
  "rise": {
   "enable_chalkboard": true,
   "theme": "sky",
   "transition": "zoom"
  }
 },
 "nbformat": 4,
 "nbformat_minor": 5
}
