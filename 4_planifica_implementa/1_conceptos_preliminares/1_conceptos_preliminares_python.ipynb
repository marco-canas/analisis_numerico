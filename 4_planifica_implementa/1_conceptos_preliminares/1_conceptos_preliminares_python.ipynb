{
 "cells": [
  {
   "cell_type": "markdown",
   "id": "dc06dec7",
   "metadata": {
    "slideshow": {
     "slide_type": "slide"
    }
   },
   "source": [
    "<table align=\"left\">\n",
    "  <td>\n",
    "    <a href=\"https://colab.research.google.com/github/ageron/handson-ml3/blob/main/tools_numpy.ipynb\" target=\"_parent\"><img src=\"https://colab.research.google.com/assets/colab-badge.svg\" alt=\"Open In Colab\"/></a>\n",
    "  </td>\n",
    "  <td>\n",
    "    <a target=\"_blank\" href=\"https://kaggle.com/kernels/welcome?src=https://github.com/ageron/handson-ml3/blob/main/tools_numpy.ipynb\"><img src=\"https://kaggle.com/static/images/open-in-kaggle.svg\" /></a>\n",
    "  </td>\n",
    "</table>"
   ]
  },
  {
   "cell_type": "markdown",
   "id": "e0c5b198",
   "metadata": {
    "slideshow": {
     "slide_type": "slide"
    }
   },
   "source": [
    "### [Video de apoyo a la lectura interactiva y experimental de este cuaderno]()"
   ]
  },
  {
   "cell_type": "markdown",
   "id": "41e82203",
   "metadata": {
    "slideshow": {
     "slide_type": "slide"
    }
   },
   "source": [
    "### [Vínculo al programa del curso:  ]()\n",
    "\n"
   ]
  },
  {
   "cell_type": "markdown",
   "id": "d11ab06d",
   "metadata": {
    "slideshow": {
     "slide_type": "slide"
    }
   },
   "source": [
    "Un reconocimiento a mis estudiantes que han construido conmigo este saber pedagógico:\n",
    "\n",
    "<img src = ''> \n",
    "\n"
   ]
  },
  {
   "cell_type": "markdown",
   "id": "8a74a56c-0ce6-4ad6-b985-553fd7fb68bb",
   "metadata": {},
   "source": [
    "Reconocimiento a las profesoras destacadas en enseñanza de la matemática en Colombia\n"
   ]
  },
  {
   "cell_type": "code",
   "execution_count": 2,
   "id": "7604880f",
   "metadata": {
    "slideshow": {
     "slide_type": "slide"
    }
   },
   "outputs": [
    {
     "data": {
      "application/vnd.microsoft.datawrangler.viewer.v0+json": {
       "columns": [
        {
         "name": "index",
         "rawType": "int64",
         "type": "integer"
        },
        {
         "name": "Cédula",
         "rawType": "int64",
         "type": "integer"
        },
        {
         "name": "Nombre",
         "rawType": "object",
         "type": "string"
        },
        {
         "name": "Email",
         "rawType": "object",
         "type": "string"
        },
        {
         "name": "trapecio_descrpcion_grafica",
         "rawType": "float64",
         "type": "float"
        },
        {
         "name": "trapecio_geogebra",
         "rawType": "float64",
         "type": "float"
        },
        {
         "name": "videos_geo_metodo_integración_numerica",
         "rawType": "float64",
         "type": "float"
        }
       ],
       "conversionMethod": "pd.DataFrame",
       "ref": "73a98407-c9ff-47f6-a671-1e6ba00c55a4",
       "rows": [
        [
         "0",
         "1007410536",
         "CALY HERRERA ESTEFANIA",
         "estefania.caly@udea.edu.co",
         null,
         "5.0",
         "3.5"
        ],
        [
         "1",
         "1038108070",
         "DORADO PADILLA LEONEL ESTEBAN",
         "leonel.dorado@udea.edu.co",
         null,
         null,
         null
        ],
        [
         "2",
         "1038115862",
         "LONDONO CASTRO FRED IVAN",
         "fred.londonoc@udea.edu.co",
         null,
         null,
         null
        ],
        [
         "3",
         "1129804572",
         "SAN JUAN SERRANO MANUEL",
         "manuel.serrano1@udea.edu.co",
         null,
         null,
         null
        ],
        [
         "4",
         "1007554266",
         "URIBE ARRIETA YEIFRY SEBASTIAN",
         "yeifry.uribe@udea.edu.co",
         null,
         null,
         null
        ]
       ],
       "shape": {
        "columns": 6,
        "rows": 5
       }
      },
      "text/html": [
       "<div>\n",
       "<style scoped>\n",
       "    .dataframe tbody tr th:only-of-type {\n",
       "        vertical-align: middle;\n",
       "    }\n",
       "\n",
       "    .dataframe tbody tr th {\n",
       "        vertical-align: top;\n",
       "    }\n",
       "\n",
       "    .dataframe thead th {\n",
       "        text-align: right;\n",
       "    }\n",
       "</style>\n",
       "<table border=\"1\" class=\"dataframe\">\n",
       "  <thead>\n",
       "    <tr style=\"text-align: right;\">\n",
       "      <th></th>\n",
       "      <th>Cédula</th>\n",
       "      <th>Nombre</th>\n",
       "      <th>Email</th>\n",
       "      <th>trapecio_descrpcion_grafica</th>\n",
       "      <th>trapecio_geogebra</th>\n",
       "      <th>videos_geo_metodo_integración_numerica</th>\n",
       "    </tr>\n",
       "  </thead>\n",
       "  <tbody>\n",
       "    <tr>\n",
       "      <th>0</th>\n",
       "      <td>1007410536</td>\n",
       "      <td>CALY HERRERA ESTEFANIA</td>\n",
       "      <td>estefania.caly@udea.edu.co</td>\n",
       "      <td>NaN</td>\n",
       "      <td>5.0</td>\n",
       "      <td>3.5</td>\n",
       "    </tr>\n",
       "    <tr>\n",
       "      <th>1</th>\n",
       "      <td>1038108070</td>\n",
       "      <td>DORADO PADILLA LEONEL ESTEBAN</td>\n",
       "      <td>leonel.dorado@udea.edu.co</td>\n",
       "      <td>NaN</td>\n",
       "      <td>NaN</td>\n",
       "      <td>NaN</td>\n",
       "    </tr>\n",
       "    <tr>\n",
       "      <th>2</th>\n",
       "      <td>1038115862</td>\n",
       "      <td>LONDONO CASTRO FRED IVAN</td>\n",
       "      <td>fred.londonoc@udea.edu.co</td>\n",
       "      <td>NaN</td>\n",
       "      <td>NaN</td>\n",
       "      <td>NaN</td>\n",
       "    </tr>\n",
       "    <tr>\n",
       "      <th>3</th>\n",
       "      <td>1129804572</td>\n",
       "      <td>SAN JUAN SERRANO MANUEL</td>\n",
       "      <td>manuel.serrano1@udea.edu.co</td>\n",
       "      <td>NaN</td>\n",
       "      <td>NaN</td>\n",
       "      <td>NaN</td>\n",
       "    </tr>\n",
       "    <tr>\n",
       "      <th>4</th>\n",
       "      <td>1007554266</td>\n",
       "      <td>URIBE ARRIETA YEIFRY SEBASTIAN</td>\n",
       "      <td>yeifry.uribe@udea.edu.co</td>\n",
       "      <td>NaN</td>\n",
       "      <td>NaN</td>\n",
       "      <td>NaN</td>\n",
       "    </tr>\n",
       "  </tbody>\n",
       "</table>\n",
       "</div>"
      ],
      "text/plain": [
       "       Cédula                          Nombre                        Email  \\\n",
       "0  1007410536          CALY HERRERA ESTEFANIA   estefania.caly@udea.edu.co   \n",
       "1  1038108070   DORADO PADILLA LEONEL ESTEBAN    leonel.dorado@udea.edu.co   \n",
       "2  1038115862        LONDONO CASTRO FRED IVAN    fred.londonoc@udea.edu.co   \n",
       "3  1129804572         SAN JUAN SERRANO MANUEL  manuel.serrano1@udea.edu.co   \n",
       "4  1007554266  URIBE ARRIETA YEIFRY SEBASTIAN     yeifry.uribe@udea.edu.co   \n",
       "\n",
       "   trapecio_descrpcion_grafica  trapecio_geogebra  \\\n",
       "0                          NaN                5.0   \n",
       "1                          NaN                NaN   \n",
       "2                          NaN                NaN   \n",
       "3                          NaN                NaN   \n",
       "4                          NaN                NaN   \n",
       "\n",
       "   videos_geo_metodo_integración_numerica  \n",
       "0                                     3.5  \n",
       "1                                     NaN  \n",
       "2                                     NaN  \n",
       "3                                     NaN  \n",
       "4                                     NaN  "
      ]
     },
     "execution_count": 2,
     "metadata": {},
     "output_type": "execute_result"
    }
   ],
   "source": [
    "import pandas as pd\n",
    "import numpy as np\n",
    "\n",
    "# Cargar la lista de estudiantes desde el archivo CSV\n",
    "path = 'C:/Users/marco/Documentos/docencia/groups_list/numerico.xlsx'\n",
    "df = pd.read_excel(path)\n",
    "df.head()\n"
   ]
  },
  {
   "cell_type": "markdown",
   "id": "d7598d0a-d9b7-4ae0-b029-a0ed6ed1130b",
   "metadata": {},
   "source": [
    "\n",
    "# Principios de mi labor docente"
   ]
  },
  {
   "cell_type": "markdown",
   "id": "4f9d8cf9",
   "metadata": {
    "slideshow": {
     "slide_type": "slide"
    }
   },
   "source": [
    "## Modelo general de clase: [aula invertida](https://www3.gobiernodecanarias.org/medusa/ecoescuela/pedagotic/aprendizaje-invertido-flipped-classroom/)"
   ]
  },
  {
   "cell_type": "markdown",
   "id": "eb6ed03a",
   "metadata": {},
   "source": [
    "<img src = 'https://resources.maneuveringthemiddle.com/wp-content/uploads/2020/07/04212706/1-5.png' width = 200>  \n",
    "\n"
   ]
  },
  {
   "cell_type": "markdown",
   "id": "34319cce-a71b-4f64-aab8-b53e521efa40",
   "metadata": {},
   "source": [
    "# Metodología de Aprendizaje Basado en Problemas y Proyectos (ABPP) \n"
   ]
  },
  {
   "cell_type": "markdown",
   "id": "c4f73d81",
   "metadata": {},
   "source": [
    "\n",
    "<img src = 'https://www.unir.net/wp-content/uploads/2020/07/aprendizaje-problemas2-1-1-1-1.jpeg' width = 200>"
   ]
  },
  {
   "cell_type": "markdown",
   "id": "841a985c-bd9b-4dd3-8e4c-893983980af2",
   "metadata": {},
   "source": [
    "# Desarrollo del pensamiento computacional con Lenguajes Python, R; y con archivos Markdown y R-Markdown orientado a la formación en ciencia de datos \n",
    "\n"
   ]
  },
  {
   "cell_type": "markdown",
   "id": "3d0eba94",
   "metadata": {},
   "source": [
    "\n",
    "<img src = 'https://i.ytimg.com/vi/mcG_wcR4e6M/maxresdefault.jpg' width = 200>"
   ]
  },
  {
   "cell_type": "markdown",
   "id": "65aa0404-f7ae-495e-864c-1aec01b4255e",
   "metadata": {},
   "source": [
    "# Principio de fomento a la ciencia abierta, enseñar en el acceso a los datos públicos y el uso de software de código abierto  \n"
   ]
  },
  {
   "cell_type": "markdown",
   "id": "18ae9b87",
   "metadata": {},
   "source": [
    "\n",
    "<img src = 'https://unesdoc.unesco.org/in/rest/Thumb/image?id=p%3A%3Ausmarcdef_0000379949_spa&author=UNESCO&title=Recomendaci%C3%B3n+de+la+UNESCO+sobre+la+Ciencia+Abierta&year=2021&publisher=UNESCO&TypeOfDocument=UnescoPhysicalDocument&mat=PGD&ct=true&size=512&isPhysical=1' width = 200>"
   ]
  },
  {
   "cell_type": "markdown",
   "id": "d9559f85",
   "metadata": {},
   "source": [
    "El enfoque STEAMS en educación preescolar, primaria y secundaria es una extensión del enfoque STEM (Ciencia, Tecnología, Ingeniería y Matemáticas) y su variante STEAM, que incorpora el Arte. "
   ]
  },
  {
   "cell_type": "markdown",
   "id": "d545bfc1",
   "metadata": {},
   "source": [
    "# Y el enfoque de TRRS de Duval "
   ]
  },
  {
   "cell_type": "markdown",
   "id": "96775931",
   "metadata": {
    "slideshow": {
     "slide_type": "slide"
    }
   },
   "source": [
    "## Título de la clase:   \n",
    "\n",
    "[]()"
   ]
  },
  {
   "cell_type": "code",
   "execution_count": 1,
   "id": "28bae6cb",
   "metadata": {},
   "outputs": [],
   "source": [
    "def save_fig(nombre_archivo_imagen):\n",
    "    import os \n",
    "    import matplotlib.pyplot as plt \n",
    "    ubicacion_para_imagenes = r\"C:/Users/marco/Downloads\"\n",
    "    imagen_path = os.path.join(ubicacion_para_imagenes, nombre_archivo_imagen)\n",
    "    plt.savefig(imagen_path, bbox_inches='tight')"
   ]
  },
  {
   "cell_type": "markdown",
   "id": "10e55ccf",
   "metadata": {},
   "source": [
    "# Estructura general para todas las clases\n",
    "\n",
    "Dame, por favor, un diseño de clase, con el enfoque: \"Aula Invertida, STEAMS y de Aprendizaje Basado en Problemas y Proyectos (ABPP) y de Teoría de Registros de Representación Semiótica (TRRS) de Duval\" sobre: \"Introducción a Python y errores numéricos\t- Sintaxis básica de Python (NumPy, Matplotlib). Tipos de errores: truncamiento, redondeo.\tAula invertida (videos + Jupyter Notebooks). Taller práctico en clase. Prerrequisitos para el curso de Métodos Numéricos usando Python\"; siguiendo la estructura:  \n",
    "\n",
    "\n",
    "\n",
    "1. Título de la clase   \n",
    "   \n",
    "2. Objetivos de aprendizaje que incluyan los indicadores del logro de estos objetivos.\n",
    "   \n",
    "3. Un mapa conceptual que resuma la clase elaborado en Graphviz de Python con nodos y edges de diferentes formas, colores y rellenos y renderizado en la siguiente ubicación: `\"C:/Users/marco/Downloads\"`. No olvides el parámetro `view = True` para el método `render()` de Graphviz. Para este mapa controla las superposiciones de los nodos con: graph [overlap=false]; // Elimina superposiciones (puede aumentar el espacio) \n",
    "graph [overlap=\"scalexy\"]; // Escala el gráfico para evitar overlaps\n",
    "graph [overlap=\"compress\"]; // Comprime el grafo sin overlaps  \n",
    "   \n",
    "1. Dame elementos históricos y epistemológicos asociados a esta clase, pero contados como un cuento al estilo de un cuentero antioqueño en Colombia. Incluye imágenes de los protagonistas históricos de esta clase.   \n",
    "   \n",
    "2. Contenido de la clase. Que el contenido parta de una situación real para llegar a una constitución del modelo matemático que represente tal situación real.    \n",
    "    \n",
    "   \n",
    "7. Actividades de aprendizaje: que incluya pruebas de escritorio para los algoritmos en forma verbal y seudo código, diagrama de flujo, y la implementación del algoritmo en lenguaje Python.   \n",
    "   \n",
    "8. Incluye una canción o un poema que ayude a interiorizar y fijar los conceptos asociados a esta clase.   \n",
    "   \n",
    "9.  Tarea o actividades de ejercitación y fijación.  \n",
    "    \n",
    "10. Evaluación incluyendo diez proyectos, un ejemplo de quiz y un ejemplo de parcial.  \n",
    "    \n",
    "11. Diseño de actividad de retroalimentación.   \n",
    "    \n",
    "12. Dame un vocabulario y frases del idioma inglés asociadas a esta clase.  \n",
    "\n",
    "13.  Incluye apéndice para la clase sobre desarrollo de habilidades para trabajar en equipo y de asertividad y empatía para relacionarnos. También elementos de la inteligencia emocional para presentar pruebas sin temor y sin realizar fraude en ellas. Y Actividades para desarrollar la habilidad de la Tolerancia    \n",
    "     \n",
    "14. Incluye 5 referentes en didáctica de la matemática que estén de acuerdo a la propuesta didáctica de esta clase. Adiciona a estos referentes a Raymond Duval (Representaciones y cambios de representación para la adquisición de conceptos matemáticos) y a Jeannette Wing (Desarrollo del pensamiento computacional). Dejame todos estos referentes ordenados de acuerdo a las normas APA. Incluye un referente en didáctica de la matemática que fundamente el uso del Enfoque de Aula Invertida, uno que fundamente el enfoque STEAMS y finalmente otro que fundamente el enfoque de Aprendizaje Basado en Problemas y Proyectos (ABPP)\n",
    "  \n",
    "\n",
    "Pero  que este diseño sea para que el estudiante pueda aprender experimentando en cuadernos Jupyter con funciones de usuario y animaciones y visualizaciones en Python.    \n",
    "\n",
    "En particular utiliza para el diseño de clase a Numpy, Pandas, SymPy, Matplotlib.pyplot, Seaborn, Plotly, ipywidgets, matplotlib.animation y Jupyter Notebook.    \n",
    "\n",
    "Cada vez que utilices `matplotlib.animacion` no olvides incluir el uso de `IPython. display` para la renderización de estas animaciones a través de Jupyter Notebook.    \n",
    "\n",
    "No olvides darme los diseños de clase con las ecuaciones matemáticas delimitadas con signo de dólar $ para que VS Code si me renderice estas expresiones del lenguaje latex. Cuando vallas a utilizar ipywidgets ten en cuenta la siguiente importación inicial para garantizar que la visualización interactiva si se renderice en VS Code:    \n",
    " \n",
    "import numpy as np  \n",
    "import matplotlib.pyplot as plt  \n",
    "import ipywidgets as widgets  \n",
    "from IPython.display import display, clear_output  \n",
    " \n",
    "\n",
    "* Obtenga el libro guía: Métodos Numéricos Usando Python, [aquí:](chrome-extension://efaidnbmnnnibpcajpcglclefindmkaj/https://librosoa.unam.mx/bitstream/handle/123456789/3416/MNPython.pdf?sequence=1&isAllowed=y)  \n",
    "* Obtenga el programa del curso [aquí](https://github.com/marco-canas/analisis_numerico/blob/main/2_programa_curso/2_programa_curso_analisis_numerico.md)  \n",
    "* El cronograma o clase  a clase de este curso lo puede obtener [aquí](https://github.com/marco-canas/analisis_numerico/blob/main/2_programa_curso/3_cronograma_o_clase_a_clase.md)"
   ]
  },
  {
   "cell_type": "markdown",
   "id": "ded1813a",
   "metadata": {},
   "source": [
    "# Introducción a Python y errores numéricos\t- Sintaxis básica de Python (NumPy, Matplotlib).\n"
   ]
  },
  {
   "cell_type": "markdown",
   "id": "457f22a7",
   "metadata": {},
   "source": [
    "\n",
    "\n",
    "Tipos de errores: truncamiento, redondeo.\tAula invertida (videos + Jupyter Notebooks).\n",
    "Taller práctico en clase.\tQuiz 1 (Python básico)."
   ]
  },
  {
   "cell_type": "markdown",
   "id": "ec385506",
   "metadata": {},
   "source": [
    "# **Diseño de Clase: Introducción a Python y Errores Numéricos**  \n",
    "**Enfoques Pedagógicos:** Aula Invertida, STEAM, ABPP (Aprendizaje Basado en Problemas y Proyectos), TRRS (Teoría de Registros de Representación Semiótica de Duval)  \n",
    "**Herramientas:** Python (NumPy, Matplotlib, SymPy, Plotly, ipywidgets), Jupyter Notebook  \n",
    "\n",
    "---\n"
   ]
  },
  {
   "cell_type": "markdown",
   "id": "aa862fb8",
   "metadata": {},
   "source": [
    "\n",
    "## **1. Título de la Clase**  \n",
    "**\"Errores Numéricos en Python: De la Teoría a la Práctica con Jupyter\"**  \n",
    "\n",
    "---\n"
   ]
  },
  {
   "cell_type": "markdown",
   "id": "d074dfc9",
   "metadata": {},
   "source": [
    "\n",
    "## **2. Objetivos de Aprendizaje**  \n",
    "- **Conceptuales:**  \n",
    "  - Comprender los tipos de errores numéricos (truncamiento, redondeo) y su impacto en cálculos científicos.  \n",
    "  - Dominar la sintaxis básica de Python para métodos numéricos (NumPy, Matplotlib).  \n",
    "- **Procedimentales:**  \n",
    "  - Implementar funciones en Python para simular errores.  \n",
    "  - Visualizar errores con gráficos interactivos (Plotly, ipywidgets).  \n",
    "- **Actitudinales:**  \n",
    "  - Valorar la precisión en cálculos numéricos.  \n",
    "  - Trabajar colaborativamente en proyectos STEAM.  \n"
   ]
  },
  {
   "cell_type": "markdown",
   "id": "1b34eaf0",
   "metadata": {},
   "source": [
    "\n",
    "**Indicadores de Logro:**  \n",
    "- El estudiante crea un Jupyter Notebook que compara errores de truncamiento vs. redondeo.  \n",
    "- Diseña una animación con `matplotlib.animation` para mostrar la propagación de errores.  \n",
    "\n",
    "---\n"
   ]
  },
  {
   "cell_type": "markdown",
   "id": "5aa95a5d",
   "metadata": {},
   "source": [
    "\n",
    "## **3. Mapa Conceptual (Graphviz)** "
   ]
  },
  {
   "cell_type": "code",
   "execution_count": 2,
   "id": "5f0d20a5",
   "metadata": {},
   "outputs": [
    {
     "data": {
      "text/plain": [
       "'C:\\\\Users\\\\marco\\\\Downloads\\\\errores_numericos.png'"
      ]
     },
     "execution_count": 2,
     "metadata": {},
     "output_type": "execute_result"
    }
   ],
   "source": [
    " \n",
    "\n",
    "from graphviz import Digraph\n",
    "\n",
    "graph = Digraph('G', filename='C:/Users/marco/Downloads/errores_numericos', format='png')\n",
    "graph.attr(overlap='false', rankdir='LR', splines='true')\n",
    "\n",
    "# Nodos\n",
    "graph.node('A', 'Errores Numéricos', shape='ellipse', color='red', style='filled', fillcolor='lightyellow')\n",
    "graph.node('B', 'Truncamiento', shape='box', color='blue')\n",
    "graph.node('C', 'Redondeo', shape='box', color='blue')\n",
    "graph.node('D', 'Python', shape='doubleoctagon', color='green')\n",
    "graph.node('E', 'Visualización', shape='component', color='orange')\n",
    "graph.node('F', 'Aplicaciones', shape='folder', color='purple')\n",
    "\n",
    "# Edges\n",
    "graph.edges(['AB', 'AC', 'AD', 'DE', 'EF'])\n",
    "graph.edge('D', 'B', label='np.float32', fontsize='10')\n",
    "graph.edge('D', 'C', label='round()', fontsize='10')\n",
    "\n",
    "graph.render(view=True)\n",
    "\n"
   ]
  },
  {
   "cell_type": "markdown",
   "id": "dd20de26",
   "metadata": {},
   "source": [
    "**Salida:** Un mapa conceptual en `C:/Users/marco/Downloads/errores_numericos.png`.  \n",
    "\n",
    "---\n"
   ]
  },
  {
   "cell_type": "markdown",
   "id": "d5df955b",
   "metadata": {},
   "source": [
    "\n",
    "## **4. Historia y Epistemología**  \n",
    "*\"¡Atención, muchachos!* Les voy a contar cómo los errores numéricos jodieron —perdón, *afectaron*— a los grandes de la ciencia.  \n",
    "\n",
    "**Protagonistas:**  \n",
    "- **Ada Lovelace** (imagen): La primera programadora, que con su máquina analítica soñó con cálculos exactos... pero ¡oh sorpresa!, los errores de truncamiento la perseguían como un tiple en un fandango.  \n",
    "- **John von Neumann** (imagen): El genio que dijo: *\"Con cuatro decimales, conquistamos el mundo\"*, hasta que la bomba atómica le enseñó que un redondeo mal hecho podía volar todo por los aires.  \n",
    "\n",
    "**Moraleja:** Hasta los más grandes cayeron en la trampa de los errores. ¡Pero nosotros aprenderemos a domarlos con Python!  \n",
    "\n",
    "---\n"
   ]
  },
  {
   "cell_type": "markdown",
   "id": "cb459f29",
   "metadata": {},
   "source": [
    "\n",
    "## **5. Contenido de la Clase** "
   ]
  },
  {
   "cell_type": "markdown",
   "id": "50e91871",
   "metadata": {},
   "source": [
    " \n",
    "**Situación Real:**  \n",
    "*\"Un ingeniero usa Python para calcular la trayectoria de un cohete, pero el cohete se desvía por errores de redondeo. ¿Qué pasó?\"*  \n"
   ]
  },
  {
   "cell_type": "markdown",
   "id": "dec2f822",
   "metadata": {},
   "source": [
    "\n",
    "**Modelo Matemático:**  \n",
    "1. **Error Absoluto:** $E_a = |valor\\ real - valor\\ aproximado|$  \n",
    "2. **Error Relativo:** $E_r = \\frac{E_a}{valor\\ real}$  \n"
   ]
  },
  {
   "cell_type": "markdown",
   "id": "3da7cfd8",
   "metadata": {},
   "source": [
    "\n",
    "**Implementación en Python:**  \n"
   ]
  },
  {
   "cell_type": "code",
   "execution_count": 3,
   "id": "e604d1a8",
   "metadata": {},
   "outputs": [
    {
     "ename": "ModuleNotFoundError",
     "evalue": "No module named 'numpy'",
     "output_type": "error",
     "traceback": [
      "\u001b[31m---------------------------------------------------------------------------\u001b[39m",
      "\u001b[31mModuleNotFoundError\u001b[39m                       Traceback (most recent call last)",
      "\u001b[36mCell\u001b[39m\u001b[36m \u001b[39m\u001b[32mIn[3]\u001b[39m\u001b[32m, line 1\u001b[39m\n\u001b[32m----> \u001b[39m\u001b[32m1\u001b[39m \u001b[38;5;28;01mimport\u001b[39;00m\u001b[38;5;250m \u001b[39m\u001b[34;01mnumpy\u001b[39;00m\u001b[38;5;250m \u001b[39m\u001b[38;5;28;01mas\u001b[39;00m\u001b[38;5;250m \u001b[39m\u001b[34;01mnp\u001b[39;00m\n\u001b[32m      3\u001b[39m \u001b[38;5;28;01mdef\u001b[39;00m\u001b[38;5;250m \u001b[39m\u001b[34merror_absoluto\u001b[39m(real, aprox):\n\u001b[32m      4\u001b[39m     \u001b[38;5;28;01mreturn\u001b[39;00m np.abs(real - aprox)\n",
      "\u001b[31mModuleNotFoundError\u001b[39m: No module named 'numpy'"
     ]
    }
   ],
   "source": [
    "\n",
    "import numpy as np\n",
    "\n",
    "def error_absoluto(real, aprox):\n",
    "    return np.abs(real - aprox)\n"
   ]
  },
  {
   "cell_type": "code",
   "execution_count": null,
   "id": "0bdb391e",
   "metadata": {},
   "outputs": [],
   "source": [
    "\n",
    "def error_relativo(real, aprox):\n",
    "    return error_absoluto(real, aprox) / real\n",
    "\n"
   ]
  },
  {
   "cell_type": "markdown",
   "id": "e497d016",
   "metadata": {},
   "source": [
    "\n",
    "---\n",
    "\n",
    "## **6. Actividades de Aprendizaje**  \n",
    "### **Prueba de Escritorio (Pseudocódigo)**  \n",
    "```plaintext\n",
    "FUNCIÓN error_absoluto(real, aprox):\n",
    "    RETORNAR |real - aprox|\n",
    "FIN FUNCIÓN\n",
    "```\n",
    "\n",
    "### **Diagrama de Flujo**  \n",
    "```mermaid\n",
    "graph TD\n",
    "    A[Inicio] --> B[Ingresar valor real y aproximado]\n",
    "    B --> C[Calcular error absoluto]\n",
    "    C --> D[Calcular error relativo]\n",
    "    D --> E[Mostrar resultados]\n",
    "```\n",
    "\n",
    "### **Implementación en Python (Jupyter Notebook)**  \n",
    "```python\n",
    "# Widget interactivo\n",
    "def plot_errores(valor_real=1.0, decimales=2):\n",
    "    aprox = round(valor_real, decimales)\n",
    "    ea = error_absoluto(valor_real, aprox)\n",
    "    er = error_relativo(valor_real, aprox)\n",
    "    \n",
    "    plt.figure(figsize=(10, 4))\n",
    "    plt.bar(['Error Absoluto', 'Error Relativo'], [ea, er], color=['red', 'blue'])\n",
    "    plt.title('Análisis de Errores')\n",
    "    plt.show()\n",
    "\n",
    "widgets.interact(plot_errores, valor_real=(0.1, 5.0), decimales=(1, 10))\n",
    "```\n",
    "\n",
    "---\n",
    "\n",
    "## **7. Canción/Poema**  \n",
    "**RAP DE LOS ERRORES** *(Para cantar con ritmo de champeta)*  \n",
    "*\"Redondeo pa’ acá, truncamiento pa’ allá,*  \n",
    "*si no los controlas, tu código explotará. ¡Hey!\"*  \n",
    "\n",
    "---\n",
    "\n",
    "## **8. Tareas**  \n",
    "- **Ejercicio:** Compara los errores al calcular $\\pi$ con series de Taylor (truncamiento) vs. redondeo.  \n",
    "- **Proyecto Mini:** Crea una animación con `matplotlib.animation` que muestre cómo se acumulan los errores en sumas iterativas.  \n",
    "\n",
    "---\n",
    "\n",
    "## **9. Evaluación**  \n",
    "- **Quiz Ejemplo:**  \n",
    "  *\"¿Por qué el número $0.1 + 0.2$ en Python no es exactamente $0.3$?\"*  \n",
    "- **Parcial:** Diseña una función que calcule la serie de Fibonacci y analice sus errores de redondeo.  \n",
    "\n",
    "---\n",
    "\n",
    "## **10. Retroalimentación**  \n",
    "**Técnica *3-2-1*:**  \n",
    "- **3** conceptos aprendidos.  \n",
    "- **2** dudas pendientes.  \n",
    "- **1** aplicación en tu carrera.  \n",
    "\n",
    "---\n",
    "\n",
    "## **11. Vocabulario en Inglés**  \n",
    "- *Rounding error* → Error de redondeo.  \n",
    "- *Floating-point arithmetic* → Aritmética de punto flotante.  \n",
    "\n",
    "---\n",
    "\n",
    "## **12. Apéndice: Habilidades Blandas**  \n",
    "- **Trabajo en Equipo:** Usa Git para colaborar en el Notebook.  \n",
    "- **Inteligencia Emocional:** Técnica *STOP* antes de un examen:  \n",
    "  - **S**top (Detente).  \n",
    "  - **T**hink (Piensa).  \n",
    "  - **O**ptions (Opciones).  \n",
    "  - **P**roceed (Actúa).  \n",
    "\n",
    "---\n"
   ]
  },
  {
   "cell_type": "markdown",
   "id": "4c1eb155",
   "metadata": {},
   "source": [
    "\n",
    "## **13. Referentes en Didáctica (APA)**  \n",
    "1. Duval, R. (2006). *Un tema crucial en la educación matemática: La habilidad para cambiar representaciones*.  \n",
    "2. Wing, J. (2006). *Computational Thinking*. Communications of the ACM.  \n",
    "3. Bergmann, J. (2012). *Flip Your Classroom: Reach Every Student*.  \n",
    "4. Yakman, G. (2008). *STEAM Education Framework*.  \n",
    "5. Thomas, J. (2000). *A Review of Research on Project-Based Learning*.  \n",
    "\n",
    "--- \n"
   ]
  },
  {
   "cell_type": "markdown",
   "id": "eab87efc",
   "metadata": {},
   "source": [
    "\n",
    "**Nota:** Todos los códigos deben ejecutarse en Jupyter Notebook con:  \n",
    "```python\n",
    "from IPython.display import display, HTML\n",
    "display(HTML(\"<style>.container { width:100% !important; }</style>\"))\n",
    "``` \n",
    "\n",
    "¿Quieres ajustar algún enfoque o profundizar en una actividad?"
   ]
  },
  {
   "cell_type": "markdown",
   "id": "239427f7",
   "metadata": {},
   "source": [
    "# Calendario Académico     \n",
    "\n",
    "* Clase de Análisis Numérico: Viernes de 8 AM a 12M.  \n",
    "* Oferta de cursos: 29 de julio de 2025\n",
    "* Matrícula: 30 de julio de 2025\n",
    "* Ajustes de matrícula: 01 al 08 de agosto de 2025\n",
    "* Inicio de clases: 04 de agosto de 2025  \n",
    "* Límite evaluación del 40%: 27 de septiembre de 2025  \n",
    "* Terminación de clases: 22 de noviembre de 2025  \n",
    "* Exámenes finales: 24 al 29 de noviembre de 2025  \n",
    "* Habilitación y validación: 01 al 06 de diciembre 2025  \n",
    "* Terminación oficial del semestre: 09 de diciembre de 2025.  \n",
    "  \n",
    "\n"
   ]
  },
  {
   "cell_type": "markdown",
   "id": "8ba64aed",
   "metadata": {},
   "source": [
    "# Cursos que orienta el profesor Marco Julio Cañas Campillo en 2025  \n",
    "\n",
    "4. Cálculo Vectorial para Ingeniería Agropecuaria\n",
    "5. Práctica Pedagógica V para Licenciatura en Educación Infantil\n",
    "6. Fundamentos de Lógica para Licenciatura en Matemáticas \n",
    "7. Análisis Numérico para Licenciatura en Matemáticas: Viernes de 8 a 12.  \n",
    "\n"
   ]
  },
  {
   "cell_type": "markdown",
   "id": "8d41fe58",
   "metadata": {
    "slideshow": {
     "slide_type": "slide"
    }
   },
   "source": [
    "# Horario de clases del profesor Marco\n",
    "\n",
    "* Lunes 8-12: Cálculo Vectorial\n",
    "* Martes 8-12 M: Fundamentos de Aritmética. \n",
    "* Miércoles 8 a 12 M: Fundamentos de la Lógica\n",
    "* Jueves 2 a 6 PM: Desarrollo del pensamiento matemático en la infancia. \n",
    "* Viernes 8 - 12 M: Análisis Numérico. \n",
    "* Sábados 8-12 Asesorías y espacio para retroalimentación y apoyo al trabajo independiente. "
   ]
  },
  {
   "cell_type": "markdown",
   "id": "ae114e14",
   "metadata": {
    "slideshow": {
     "slide_type": "slide"
    }
   },
   "source": [
    "# Horarios de monitoría y asesoría   \n",
    "\n",
    "* Asesoría: Sábados de 8 a 12 en el aula que nos asigne la sección de medios y logística. \n"
   ]
  },
  {
   "cell_type": "markdown",
   "id": "8cf679e7",
   "metadata": {},
   "source": [
    "\n",
    "# Coordinador de los cursos de la Facultad de Educación para regiones:    \n",
    "\n",
    "Andrés Vélez: regioneducacion.fedu@udea.edu.co  \n",
    "Coordinador Regiones  \n",
    "Facultad de Educación  \n",
    "Universidad de Antioquia  "
   ]
  },
  {
   "cell_type": "markdown",
   "id": "b1db4b6c",
   "metadata": {
    "slideshow": {
     "slide_type": "slide"
    }
   },
   "source": [
    "## Monitores  \n",
    "* Yeifry Sebastián Uribe: yeifry.uribe@udea.edu.co. \n",
    "* Manuel San Juan Serrano: Contactar escribiendo al correo: manuel.serrano1@udea.edu.co"
   ]
  },
  {
   "cell_type": "markdown",
   "id": "39559692",
   "metadata": {
    "slideshow": {
     "slide_type": "slide"
    }
   },
   "source": [
    "Martes y jueves de 8 - 12  \n",
    "Miércoles 10 - 12 y de 2 a 4 PM  \n",
    "Sábado: 8 - 12"
   ]
  },
  {
   "cell_type": "markdown",
   "id": "10bce0d0",
   "metadata": {
    "slideshow": {
     "slide_type": "slide"
    }
   },
   "source": [
    "## Referentes "
   ]
  },
  {
   "cell_type": "markdown",
   "id": "1db3c468",
   "metadata": {
    "slideshow": {
     "slide_type": "slide"
    }
   },
   "source": [
    "* [Bergmann, J. (2012). *Flip Your Classroom.* (Aula Invertida).](chrome-extension://efaidnbmnnnibpcajpcglclefindmkaj/https://blogs.ugto.mx/mdued/wp-content/uploads/sites/66/2022/11/Bergmann-y-Sams-Dale-la-vuelta-a-tu-clase.pdf)    \n",
    "  \n",
    "* [CALCULO I DE UNA VARIABLE Ron Larson-Bruce Edwards. Mc Graw Hill. 9º Edición](https://www.academia.edu/42139251/CALCULO_I_DE_UNA_VARIABLE_Ron_Larson_Bruce_Edwards_Mc_Graw_Hill_9o_Edici%C3%B3n)   \n",
    "  \n",
    "* [Métodos numéricos usando python](chrome-extension://efaidnbmnnnibpcajpcglclefindmkaj/https://librosoa.unam.mx/bitstream/handle/123456789/3416/MNPython.pdf?sequence=1&isAllowed=y)  \n",
    "  \n",
    "* [Métodos numéricos usando python. Código fuente de todo el libro](https://github.com/jcjimenezb123/MNPython-Libro?tab=readme-ov-file#readme)\n",
    "\n",
    "* [Grajales Vanegas, L. M., Restrepo Estrada, C. E., Restrepo Ochoa, S. I., & Ruíz De Villalba, F. (2015). Matemáticas I para las ciencias económicas.](https://bibliotecadigital.udea.edu.co/handle/10495/3010)\n",
    "  \n",
    "* R. Duval y Semiosis y pensamiento humano, 2.ª ed. Cali, Colombia: Programa Editorial Universidad del Valle, 2017. [En línea]. Disponible en: https://programaeditorial.univalle.edu.co/gpd-semiosis-y-pensamiento-humano-9789587655278-63324cdb0f6b3.html\n",
    "\n",
    "* [Aylwin, C. U. (2011). Lógica, conjuntos y números. Universidad de los Andes, Consejo de Publicaciones, Colección: Ciencias Básicas, Serie: Matemáticas.](chrome-extension://efaidnbmnnnibpcajpcglclefindmkaj/https://www.u-cursos.cl/ciencias/2011/1/MC110/1/material_docente/bajar?id_material=574722)\n",
    "  \n",
    "* [Chollet, F. (2021). Deep learning with Python. Simon and Schuster.](chrome-extension://efaidnbmnnnibpcajpcglclefindmkaj/https://tanthiamhuat.wordpress.com/wp-content/uploads/2018/03/deeplearningwithpython.pdf)  \n",
    "  \n",
    "* [Watson, S., Stewart, J., & Redlin, L. (2009). Precálculo. Matemáticas para el cálculo.](https://github.com/marco-canas/calculo/blob/main/referents/1_precalculo_stewart/stewart_precalculo.pdf)  \n",
    "\n",
    "* [Purcell, E. J., Varberg, D., & Rigdon, S. E. (2007). Cálculo diferencial e integral. Pearson Educación.](https://github.com/marco-canas/calculo/blob/main/referents/purcell/purcell_calculo.pdf)\n",
    "\n",
    "  \n",
    "\n",
    "* [stewart cálculo](https://udeaeduco-my.sharepoint.com/:b:/g/personal/marco_canas_udea_edu_co/EZgXZjAp8QxPqOAim2hs6LcBNPLGjSHf-xwYnUVYkwa04w?e=RZdTCy)  \n",
    "\n",
    "\n",
    "\n",
    "\n",
    "\n",
    "* [Recomendación de la UNESCO sobre ciencia abierta](https://unesdoc.unesco.org/ark:/48223/pf0000379949_spa)\n",
    "\n",
    "* [chatGPT](https://openai.com/blog/chatgpt)  \n",
    "\n",
    "* [Géron, A. (2017). Hands-on machine learning with scikit-learn and tensorflow: Concepts. Tools, and Techniques to build intelligent systems.](chrome-extension://efaidnbmnnnibpcajpcglclefindmkaj/http://14.139.161.31/OddSem-0822-1122/Hands-On_Machine_Learning_with_Scikit-Learn-Keras-and-TensorFlow-2nd-Edition-Aurelien-Geron.pdf)   \n"
   ]
  },
  {
   "cell_type": "markdown",
   "id": "df925560",
   "metadata": {},
   "source": [
    "\n",
    "* [McKinney, W. (2012). Python for data analysis: Data wrangling with Pandas, NumPy, and IPython. \" O'Reilly Media, Inc.\".](https://wesmckinney.com/book/) "
   ]
  },
  {
   "cell_type": "markdown",
   "id": "8e65d6f9",
   "metadata": {},
   "source": [
    "# Como estudiante, encuentro que...   \n",
    "\n",
    "F: Mis Fortalezas son:     \n",
    "O: Mis Oportunidades son:    \n",
    "D: Mis Debilidades son:    \n",
    "A: Lo que Amenazas mi aprendizaje es:  "
   ]
  },
  {
   "cell_type": "markdown",
   "id": "6b9e56a8",
   "metadata": {
    "slideshow": {
     "slide_type": "slide"
    }
   },
   "source": [
    "### [Evaluamos al profesor Marco Cañas Aquí](https://forms.office.com/Pages/ResponsePage.aspx?id=IefhmYRxjkmK_7KtTlPBwkanXIs1i1FEujpsZgO6dXpUREJPV1kxUk1JV1ozTFJIQVNIQjY5WEY3US4u)"
   ]
  },
  {
   "cell_type": "markdown",
   "id": "10f43536",
   "metadata": {
    "slideshow": {
     "slide_type": "slide"
    }
   },
   "source": [
    "### Continue su aprendizaje en la siguiente clase a través del siguiente [vínculo]()"
   ]
  },
  {
   "cell_type": "markdown",
   "id": "53cc9115",
   "metadata": {
    "slideshow": {
     "slide_type": "slide"
    }
   },
   "source": [
    "## Agradecimientos  \n",
    "\n",
    "Doy gracias a Dios por la vida de mi Hijo Joseph Cañas Osorio y la madurez que ha alcanzado. Este hijo me enorgullece y me hace falta abrazarlo cada día. \n",
    "\n",
    "Y a mi esposa Yasmira Emperatriz Barboza Mogollón por su apoyo, orientación y acompañamiento. "
   ]
  },
  {
   "cell_type": "markdown",
   "id": "0e66cd7c",
   "metadata": {},
   "source": [
    "# Clase de análisis numérico los Viernes de 8 a 12 del medio día. "
   ]
  },
  {
   "cell_type": "markdown",
   "id": "c5ff61b1",
   "metadata": {},
   "source": []
  }
 ],
 "metadata": {
  "celltoolbar": "Slideshow",
  "kernelspec": {
   "display_name": ".venv",
   "language": "python",
   "name": "python3"
  },
  "language_info": {
   "codemirror_mode": {
    "name": "ipython",
    "version": 3
   },
   "file_extension": ".py",
   "mimetype": "text/x-python",
   "name": "python",
   "nbconvert_exporter": "python",
   "pygments_lexer": "ipython3",
   "version": "3.11.9"
  },
  "rise": {
   "enable_chalkboard": true,
   "theme": "sky",
   "transition": "zoom"
  }
 },
 "nbformat": 4,
 "nbformat_minor": 5
}
