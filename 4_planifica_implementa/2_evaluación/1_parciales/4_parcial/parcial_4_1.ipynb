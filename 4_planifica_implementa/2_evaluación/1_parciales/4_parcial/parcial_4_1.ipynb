{
 "cells": [
  {
   "cell_type": "markdown",
   "id": "7b17f793",
   "metadata": {},
   "source": []
  },
  {
   "cell_type": "markdown",
   "id": "64b7d3ea",
   "metadata": {},
   "source": []
  }
 ],
 "metadata": {
  "language_info": {
   "name": "python"
  }
 },
 "nbformat": 4,
 "nbformat_minor": 5
}
