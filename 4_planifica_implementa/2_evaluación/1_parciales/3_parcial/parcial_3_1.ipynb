{
 "cells": [
  {
   "cell_type": "markdown",
   "id": "cf88c549",
   "metadata": {},
   "source": []
  },
  {
   "cell_type": "markdown",
   "id": "59f498d2",
   "metadata": {},
   "source": [
    "# Prompt para el diseño del parcial 3 de Análisis Numérico \n",
    "Dame un diseño de parcial que evalue los siguientes temas:  \n",
    "Temas a evaluar:  \n",
    "1. Interpolación lineal y cuadrática.\n",
    "2. Regresión lineal y cuadrática. \n",
    "3. Derivación numérica: Conceptos y métodos básicos.\n",
    "\n",
    "Tenga cinco puntos.\n",
    "\n",
    "* El primer punto sea teórico con 5 preguntas de falso verdadero con justificación corta. \n",
    "* El segundo punto sea un ejercicio de interpolación lineal y cuadrática con  datos dados.\n",
    "* El tercer punto sea un ejercicio de regresión lineal y cuadrática con datos dados.\n",
    "* El cuarto punto sea un ejercicio de derivación numérica con datos dados.\n",
    "* El quinto punto sea un ejercicio de aplicación que combine los tres temas anteriores."
   ]
  },
  {
   "cell_type": "markdown",
   "id": "37113505",
   "metadata": {
    "vscode": {
     "languageId": "plaintext"
    }
   },
   "source": [
    "# Primer ejemplo de parcial 3  \n",
    "\n",
    "Aquí tienes un **diseño completo de parcial** de 5 puntos, con estructura clara, instrucciones, formato y equilibrio entre teoría y práctica.\n",
    "\n",
    "---\n"
   ]
  },
  {
   "cell_type": "markdown",
   "id": "10222d83",
   "metadata": {},
   "source": [
    "\n",
    "## **Universidad de Antioquia – Seccional Bajo Cauca**\n",
    "\n",
    "**Programa:** Ingeniería Agropecuaria\n",
    "**Curso:** Matemáticas Aplicadas al Procesamiento de Datos\n",
    "**Docente:** Marco Julio Cañas\n",
    "**Parcial 2: Interpolación, Regresión y Derivación Numérica**\n",
    "**Duración:** 120 minutos\n",
    "**Nombre del estudiante:** ___________________________________________\n",
    "**Fecha:** ______________________\n",
    "\n",
    "---\n"
   ]
  },
  {
   "cell_type": "markdown",
   "id": "2b4854b9",
   "metadata": {},
   "source": [
    "\n",
    "### **Temas evaluados**\n",
    "\n",
    "1. Interpolación lineal y cuadrática\n",
    "2. Regresión lineal y cuadrática\n",
    "3. Derivación numérica: conceptos y métodos básicos\n",
    "\n",
    "---\n",
    "\n",
    "## **Punto 1. Teórico (20%) — Falso o verdadero con justificación corta**\n",
    "\n",
    "Marque **V** si la afirmación es verdadera o **F** si es falsa, y **justifique brevemente** su respuesta (1 o 2 líneas).\n",
    "\n",
    "1. (   ) La interpolación busca ajustar un modelo que **minimiza los errores** entre los datos y la curva ajustada.\n",
    "2. (   ) En la interpolación cuadrática se requiere **al menos tres puntos** distintos para definir el polinomio.\n",
    "3. (   ) En una regresión lineal, el objetivo principal es que el modelo **pase exactamente por los datos observados**.\n",
    "4. (   ) La derivada numérica por diferencias hacia adelante se basa en el valor de la función **en el punto y en un punto posterior**.\n",
    "5. (   ) Si una función es suave, las derivadas numéricas calculadas por diferencias centradas son **más precisas** que las hacia adelante o hacia atrás.\n",
    "\n",
    "---\n"
   ]
  },
  {
   "cell_type": "markdown",
   "id": "3446c64b",
   "metadata": {},
   "source": [
    "\n",
    "## **Punto 2. Interpolación lineal y cuadrática (20%)**\n",
    "\n",
    "Los siguientes datos representan la producción mensual de un cultivo (en toneladas) en función del mes:\n",
    "\n",
    "| Mes (x) | Producción (y) |\n",
    "| ------- | -------------- |\n",
    "| 1       | 22             |\n",
    "| 4       | 35             |\n",
    "| 6       | 47             |\n",
    "\n",
    "1. Calcule la **interpolación lineal** entre los meses 1 y 4 para estimar la producción en el mes 3.\n",
    "2. Calcule la **interpolación cuadrática** utilizando los tres puntos dados para estimar la producción en el mes 5.\n",
    "3. Compare ambos resultados e indique cuál parece más realista y por qué.\n",
    "\n",
    "*(Puede usar métodos manuales o simbólicos de Python, indicando el procedimiento.)*\n",
    "\n",
    "---\n"
   ]
  },
  {
   "cell_type": "markdown",
   "id": "f1ad097a",
   "metadata": {},
   "source": [
    "\n",
    "## **Punto 3. Regresión lineal y cuadrática (20%)**\n",
    "\n",
    "Un investigador midió la relación entre la cantidad de fertilizante aplicado (kg) y el rendimiento del cultivo (t/ha):\n",
    "\n",
    "| Fertilizante (x) | Rendimiento (y) |\n",
    "| ---------------- | --------------- |\n",
    "| 10               | 3.1             |\n",
    "| 20               | 3.6             |\n",
    "| 30               | 4.0             |\n",
    "| 40               | 4.5             |\n",
    "| 50               | 4.8             |\n",
    "\n",
    "1. Encuentre el modelo de **regresión lineal** $y = a + bx$.\n",
    "2. Encuentre el modelo de **regresión cuadrática** $y = a + bx + cx^2$.\n",
    "3. Determine cuál modelo explica mejor los datos, justificando con el **coeficiente de determinación $R^2$** o una observación razonada sobre el ajuste.\n",
    "\n",
    "---\n"
   ]
  },
  {
   "cell_type": "markdown",
   "id": "ed9d7216",
   "metadata": {},
   "source": [
    "\n",
    "## **Punto 4. Derivación numérica (20%)**\n",
    "\n",
    "Dada la siguiente tabla de valores de una función $f(x)$:\n",
    "\n",
    "| x   | f(x) |\n",
    "| --- | ---- |\n",
    "| 0   | 1.0  |\n",
    "| 0.5 | 1.65 |\n",
    "| 1.0 | 2.72 |\n",
    "| 1.5 | 4.48 |\n",
    "\n",
    "1. Calcule la **derivada hacia adelante** en $x = 0.5$.\n",
    "2. Calcule la **derivada centrada** en $x = 1.0$.\n",
    "3. Interprete brevemente el significado físico de la derivada en este contexto (puede suponer que $f(x)$ representa el crecimiento de una población o una variable física).\n",
    "\n",
    "---\n"
   ]
  },
  {
   "cell_type": "markdown",
   "id": "7bdb2570",
   "metadata": {},
   "source": [
    "\n",
    "## **Punto 5. Ejercicio de aplicación integrada (20%)**\n",
    "\n",
    "Un estudiante registró la temperatura diaria promedio (°C) en una semana y la tasa de crecimiento de una planta (cm/día):\n",
    "\n",
    "| Día (x) | Temperatura (°C) | Crecimiento (cm/día) |\n",
    "| ------- | ---------------- | -------------------- |\n",
    "| 1       | 25               | 2.1                  |\n",
    "| 2       | 27               | 2.6                  |\n",
    "| 3       | 30               | 3.0                  |\n",
    "| 4       | 33               | 3.4                  |\n",
    "| 5       | 35               | 3.8                  |\n",
    "\n",
    "1. Utilice **interpolación cuadrática** para estimar el crecimiento en un día con temperatura de 31 °C.\n",
    "2. Ajuste una **regresión lineal** entre temperatura y crecimiento, e interprete el coeficiente de pendiente.\n",
    "3. Calcule la **derivada numérica centrada** del crecimiento respecto a la temperatura para estimar la sensibilidad del crecimiento a cambios en la temperatura alrededor de 30 °C.\n",
    "4. Explique brevemente cómo los tres métodos (interpolación, regresión y derivación) se complementan para modelar fenómenos agropecuarios.\n",
    "\n",
    "---\n"
   ]
  },
  {
   "cell_type": "markdown",
   "id": "d15dcf79",
   "metadata": {},
   "source": [
    "\n",
    "## **Autoevaluación del estudiante**\n",
    "\n",
    "* ¿Qué tema dominé mejor y por qué?\n",
    "\n",
    "  ---\n",
    "* ¿Qué tema debo reforzar?\n",
    "\n",
    "  ---\n",
    "\n",
    "\n"
   ]
  }
 ],
 "metadata": {
  "language_info": {
   "name": "python"
  }
 },
 "nbformat": 4,
 "nbformat_minor": 5
}
