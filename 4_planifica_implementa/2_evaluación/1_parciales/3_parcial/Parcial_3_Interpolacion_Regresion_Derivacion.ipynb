{
 "cells": [
  {
   "cell_type": "markdown",
   "id": "bdd67141",
   "metadata": {},
   "source": [
    "# Universidad de Antioquia – Seccional Bajo Cauca  \n",
    "### Programa: Ingeniería Agropecuaria  \n",
    "### Curso: Matemáticas Aplicadas al Procesamiento de Datos  \n",
    "### Docente: Marco Julio Cañas  \n",
    "### Parcial 3 - Interpolación, Regresión y Derivación Numérica  \n",
    "**Duración:** 120 minutos  \n",
    "**Nombre del estudiante:** ___________________________  \n",
    "**Fecha:** ______________________\n",
    "\n",
    "---\n",
    "\n",
    "### **Temas evaluados**\n",
    "1. Interpolación lineal y cuadrática  \n",
    "2. Regresión lineal y cuadrática  \n",
    "3. Derivación numérica: conceptos y métodos básicos  \n"
   ]
  },
  {
   "cell_type": "markdown",
   "id": "62477401",
   "metadata": {},
   "source": [
    "## **Punto 1. Teórico (20%) — Falso o Verdadero con justificación corta**\n",
    "\n",
    "Marque **V** si la afirmación es verdadera o **F** si es falsa, y **justifique brevemente** su respuesta (1 o 2 líneas).\n",
    "\n",
    "1. (   ) La interpolación busca ajustar un modelo que **minimiza los errores** entre los datos y la curva ajustada.  \n",
    "2. (   ) En la interpolación cuadrática se requiere **al menos tres puntos** distintos para definir el polinomio.  \n",
    "3. (   ) En una regresión lineal, el objetivo principal es que el modelo **pase exactamente por los datos observados**.  \n",
    "4. (   ) La derivada numérica por diferencias hacia adelante se basa en el valor de la función **en el punto y en un punto posterior**.  \n",
    "5. (   ) Si una función es suave, las derivadas numéricas calculadas por diferencias centradas son **más precisas** que las hacia adelante o hacia atrás.  \n",
    "\n",
    "_Responda aquí:_  \n"
   ]
  },
  {
   "cell_type": "markdown",
   "id": "7c490280",
   "metadata": {},
   "source": [
    "## **Punto 2. Interpolación lineal y cuadrática (20%)**\n",
    "\n",
    "| Mes (x) | Producción (y) |\n",
    "|----------|----------------|\n",
    "| 1 | 22 |\n",
    "| 4 | 35 |\n",
    "| 6 | 47 |\n"
   ]
  },
  {
   "cell_type": "code",
   "execution_count": null,
   "id": "c0ffb421",
   "metadata": {},
   "outputs": [],
   "source": [
    "import numpy as np\n",
    "from scipy.interpolate import interp1d\n",
    "\n",
    "x = np.array([1, 4, 6])\n",
    "y = np.array([22, 35, 47])\n",
    "\n",
    "interp_lin = interp1d(x, y, kind='linear')\n",
    "interp_quad = interp1d(x, y, kind='quadratic')\n",
    "\n",
    "y3_lin = interp_lin(3)\n",
    "y5_quad = interp_quad(5)\n",
    "\n",
    "print(f\"Interpolación lineal en x=3: {y3_lin:.2f}\")\n",
    "print(f\"Interpolación cuadrática en x=5: {y5_quad:.2f}\")"
   ]
  },
  {
   "cell_type": "markdown",
   "id": "8e17c25e",
   "metadata": {},
   "source": [
    "## **Punto 3. Regresión lineal y cuadrática (20%)**\n",
    "\n",
    "| Fertilizante (x) | Rendimiento (y) |\n",
    "|------------------|-----------------|\n",
    "| 10 | 3.1 |\n",
    "| 20 | 3.6 |\n",
    "| 30 | 4.0 |\n",
    "| 40 | 4.5 |\n",
    "| 50 | 4.8 |\n"
   ]
  },
  {
   "cell_type": "code",
   "execution_count": null,
   "id": "fab6dd53",
   "metadata": {},
   "outputs": [],
   "source": [
    "import matplotlib.pyplot as plt\n",
    "\n",
    "x = np.array([10, 20, 30, 40, 50])\n",
    "y = np.array([3.1, 3.6, 4.0, 4.5, 4.8])\n",
    "\n",
    "coef_lin = np.polyfit(x, y, 1)\n",
    "coef_quad = np.polyfit(x, y, 2)\n",
    "\n",
    "p_lin = np.poly1d(coef_lin)\n",
    "p_quad = np.poly1d(coef_quad)\n",
    "\n",
    "plt.scatter(x, y, label=\"Datos\", color='black')\n",
    "plt.plot(x, p_lin(x), label=\"Lineal\")\n",
    "plt.plot(x, p_quad(x), label=\"Cuadrática\")\n",
    "plt.legend()\n",
    "plt.title(\"Regresión lineal y cuadrática\")\n",
    "plt.xlabel(\"Fertilizante (kg)\")\n",
    "plt.ylabel(\"Rendimiento (t/ha)\")\n",
    "plt.show()\n",
    "\n",
    "print(\"Modelo lineal:\", p_lin)\n",
    "print(\"Modelo cuadrático:\", p_quad)"
   ]
  },
  {
   "cell_type": "markdown",
   "id": "32e1fc5a",
   "metadata": {},
   "source": [
    "## **Punto 4. Derivación numérica (20%)**\n",
    "\n",
    "| x | f(x) |\n",
    "|---|------|\n",
    "| 0 | 1.0 |\n",
    "| 0.5 | 1.65 |\n",
    "| 1.0 | 2.72 |\n",
    "| 1.5 | 4.48 |\n"
   ]
  },
  {
   "cell_type": "code",
   "execution_count": null,
   "id": "454bf322",
   "metadata": {},
   "outputs": [],
   "source": [
    "x = np.array([0, 0.5, 1.0, 1.5])\n",
    "f = np.array([1.0, 1.65, 2.72, 4.48])\n",
    "h = x[1] - x[0]\n",
    "\n",
    "fwd = (f[2] - f[1]) / h\n",
    "ctr = (f[3] - f[1]) / (2*h)\n",
    "\n",
    "print(f\"Derivada hacia adelante en x=0.5: {fwd:.3f}\")\n",
    "print(f\"Derivada centrada en x=1.0: {ctr:.3f}\")"
   ]
  },
  {
   "cell_type": "markdown",
   "id": "45e2de18",
   "metadata": {},
   "source": [
    "## **Punto 5. Ejercicio de aplicación integrada (20%)**\n",
    "\n",
    "| Día (x) | Temperatura (°C) | Crecimiento (cm/día) |\n",
    "|----------|------------------|----------------------|\n",
    "| 1 | 25 | 2.1 |\n",
    "| 2 | 27 | 2.6 |\n",
    "| 3 | 30 | 3.0 |\n",
    "| 4 | 33 | 3.4 |\n",
    "| 5 | 35 | 3.8 |\n"
   ]
  },
  {
   "cell_type": "code",
   "execution_count": null,
   "id": "bf51d20c",
   "metadata": {},
   "outputs": [],
   "source": [
    "x = np.array([25, 27, 30, 33, 35])\n",
    "y = np.array([2.1, 2.6, 3.0, 3.4, 3.8])\n",
    "\n",
    "interp_quad = interp1d(x, y, kind='quadratic')\n",
    "y31 = interp_quad(31)\n",
    "\n",
    "coef_lin = np.polyfit(x, y, 1)\n",
    "p_lin = np.poly1d(coef_lin)\n",
    "\n",
    "dy_dx = (y[3] - y[1]) / (x[3] - x[1])\n",
    "\n",
    "print(f\"Crecimiento interpolado a 31°C: {y31:.2f} cm/día\")\n",
    "print(f\"Modelo lineal: {p_lin}\")\n",
    "print(f\"Derivada centrada ≈ {dy_dx:.3f} cm/día/°C\")"
   ]
  },
  {
   "cell_type": "markdown",
   "id": "3112fee8",
   "metadata": {},
   "source": [
    "## **Autoevaluación computacional**"
   ]
  },
  {
   "cell_type": "code",
   "execution_count": null,
   "id": "13a73724",
   "metadata": {},
   "outputs": [],
   "source": [
    "assert abs(y3_lin - 29.0) < 1.0, \"Verifique la interpolación lineal.\"\n",
    "assert abs(y5_quad - 44.0) < 1.5, \"Verifique la interpolación cuadrática.\"\n",
    "assert abs(fwd - 2.14) < 0.3, \"Verifique la derivada hacia adelante.\"\n",
    "assert abs(ctr - 2.83) < 0.3, \"Verifique la derivada centrada.\"\n",
    "print(\"✅ Autoevaluación superada: los resultados son coherentes.\")"
   ]
  }
 ],
 "metadata": {},
 "nbformat": 4,
 "nbformat_minor": 5
}
