{
 "cells": [
  {
   "cell_type": "markdown",
   "id": "406f7573",
   "metadata": {},
   "source": [
    "<table align=\"left\">\n",
    "  <td>\n",
    "    <a href=\"https://colab.research.google.com/github/ageron/handson-ml3/blob/main/tools_numpy.ipynb\" target=\"_parent\"><img src=\"https://colab.research.google.com/assets/colab-badge.svg\" alt=\"Open In Colab\"/></a>\n",
    "  </td>\n",
    "  <td>\n",
    "    <a target=\"_blank\" href=\"https://kaggle.com/kernels/welcome?src=https://github.com/ageron/handson-ml3/blob/main/tools_numpy.ipynb\"><img src=\"https://kaggle.com/static/images/open-in-kaggle.svg\" /></a>\n",
    "  </td>\n",
    "</table>"
   ]
  },
  {
   "cell_type": "code",
   "execution_count": null,
   "id": "aaea8421",
   "metadata": {},
   "outputs": [],
   "source": [
    "# QR para el cuaderno de clase que permite lectura activa y experimental\n",
    "import qrcode\n",
    "from PIL import Image\n",
    "import os\n",
    "\n",
    "# URL del notebook en GitHub\n",
    "url = \"marco-canas/vector_geometry_and_linear_algebra/blob/main/2_planificacion/1_formatos_clase/vector_geometry_and_linear_algebra.ipynb\"\n",
    "\n",
    "# Configuración del QR\n",
    "qr = qrcode.QRCode(\n",
    "    version=1,\n",
    "    error_correction=qrcode.constants.ERROR_CORRECT_H,\n",
    "    box_size=10,\n",
    "    border=4,\n",
    ")\n",
    "\n",
    "# Añadir datos al QR\n",
    "qr.add_data(url)\n",
    "qr.make(fit=True)\n",
    "\n",
    "# Crear imagen del QR\n",
    "img = qr.make_image(fill_color=\"black\", back_color=\"white\")\n",
    "\n",
    "# Guardar imagen\n",
    "output_path = \"github_notebook_qr.png\"\n",
    "img.save(output_path)\n",
    "\n",
    "# Mostrar imagen generada (solo si se ejecuta en Jupyter Notebook/Lab)\n",
    "try:\n",
    "    display(Image.open(output_path))\n",
    "except:\n",
    "    print(f\"Código QR generado y guardado en: {os.path.abspath(output_path)}\")\n",
    "    print(\"Ábralo con cualquier visor de imágenes o escanéelo con su móvil.\")\n",
    "    img.show()  # Abre la imagen en el visor predeterminado\n",
    "\n"
   ]
  },
  {
   "cell_type": "markdown",
   "id": "e13bb77a",
   "metadata": {},
   "source": [
    "# Prompt para diseño del segundo parcial  \n",
    "\n",
    "1. Introducción a la sintaxis básica de Python para Análisis numétodco o Métodos Numéricos.   \n",
    "     - Variables y tipos de datos.  \n",
    "     - Estructuras de control (El ciclo o bucle `for`).\n",
    "     - dataframes con pandas.\n",
    "     - Gráficos de datos con matplotlib.\n",
    "2. El método de Newton-Raphson para encontrar ceros de funciones.  \n",
    "3. El La diferencia entre interpolación de curvas y regresión de curvas.   \n",
    "     - Interpolación lineal. \n",
    "     - interpolación cuadrática.  \n",
    "\n"
   ]
  },
  {
   "cell_type": "markdown",
   "id": "76329360",
   "metadata": {},
   "source": [
    "\n",
    "### **Ítem 1 (20 puntos)**\n",
    "\n",
    "**Tema:** Sintaxis básica de Python.\n",
    "\n",
    "1.1. (10 pts) Declara en Python tres variables:\n",
    "\n",
    "* `a` como un número entero,\n",
    "* `b` como un número decimal (float),\n",
    "* `c` como una cadena de texto.\n",
    "\n",
    "Muestra en pantalla sus tipos de datos utilizando la función `type()`.\n",
    "\n",
    "1.2. (10 pts) Escribe un ciclo `for` en Python que sume los números del 1 al 10 e imprima el resultado.\n",
    "\n",
    "---\n"
   ]
  },
  {
   "cell_type": "markdown",
   "id": "8cd5af29",
   "metadata": {},
   "source": [
    "\n",
    "#  Guía Didáctica\n",
    "\n",
    "**Tema:** Sintaxis básica de Python\n",
    "**Curso:** Métodos Numéricos – Licenciatura en Matemáticas\n",
    "**Puntaje total:** 20 puntos\n",
    "\n",
    "---\n"
   ]
  },
  {
   "cell_type": "markdown",
   "id": "7aac6341",
   "metadata": {},
   "source": [
    "\n",
    "## Objetivos de aprendizaje\n",
    "\n",
    "* Familiarizarse con la sintaxis básica de Python.\n",
    "* Comprender cómo declarar variables y trabajar con tipos de datos.\n",
    "* Utilizar estructuras de control (ciclos) para implementar algoritmos numéricos simples.\n",
    "* Relacionar estos conceptos con la lógica necesaria en Análisis Numérico.\n",
    "\n",
    "---\n"
   ]
  },
  {
   "cell_type": "markdown",
   "id": "0660c133",
   "metadata": {},
   "source": [
    "\n",
    "## Marco conceptual\n",
    "\n",
    "En **Métodos Numéricos**, trabajaremos con algoritmos que aproximan soluciones de problemas matemáticos: raíces de ecuaciones, sistemas lineales, integración y derivación numérica.\n",
    "\n",
    "Para poder programar estos algoritmos necesitamos:\n",
    "\n",
    "1. **Variables** → representan valores numéricos o cadenas.\n",
    "2. **Tipos de datos** → diferencian entre enteros, decimales (importantes en aproximaciones) y textos.\n",
    "3. **Estructuras de control (ciclos, condicionales)** → permiten repetir operaciones y construir procesos iterativos, fundamentales en métodos como *bisección* o *Newton-Raphson*.\n",
    "\n",
    "---\n"
   ]
  },
  {
   "cell_type": "markdown",
   "id": "62320777",
   "metadata": {},
   "source": [
    "\n",
    "## Problemas\n",
    "\n",
    "### **1.1. Declaración de variables y tipos (10 pts)**\n",
    "\n",
    "**Enunciado**: Declara en Python tres variables:\n",
    "\n",
    "* `a` como un número entero,\n",
    "* `b` como un número decimal (*float*),\n",
    "* `c` como una cadena de texto.\n",
    "\n",
    "Muestra en pantalla sus tipos utilizando la función `type()`.\n",
    "\n",
    "---\n"
   ]
  },
  {
   "cell_type": "markdown",
   "id": "91ca4cfc",
   "metadata": {},
   "source": [
    "\n",
    "**Solución en Python**\n"
   ]
  },
  {
   "cell_type": "code",
   "execution_count": 2,
   "id": "d84c907e",
   "metadata": {},
   "outputs": [
    {
     "name": "stdout",
     "output_type": "stream",
     "text": [
      "El tipo de a es: <class 'int'>\n",
      "El tipo de b es: <class 'float'>\n",
      "El tipo de c es: <class 'str'>\n"
     ]
    }
   ],
   "source": [
    "# Declaración de variables\n",
    "a = 7              # número entero\n",
    "b = 3.1416         # número decimal (float)\n",
    "c = \"Métodos Numéricos\"  # cadena de texto\n",
    "\n",
    "# Mostrar los tipos de datos\n",
    "print(\"El tipo de a es:\", type(a))\n",
    "print(\"El tipo de b es:\", type(b))\n",
    "print(\"El tipo de c es:\", type(c))\n",
    "\n"
   ]
  },
  {
   "cell_type": "markdown",
   "id": "e0d9dd28",
   "metadata": {},
   "source": [
    "\n",
    "# **Comentario didáctico**:\n",
    "\n",
    "* Los enteros (`int`) aparecen en conteos y ciclos iterativos.\n",
    "* Los decimales (`float`) son esenciales porque en Análisis Numérico trabajamos con **aproximaciones**, no con números exactos.\n",
    "* Las cadenas (`str`) son útiles para dar mensajes, almacenar nombres de métodos o variables simbólicas.\n",
    "\n",
    "---\n"
   ]
  },
  {
   "cell_type": "markdown",
   "id": "ee70bda6",
   "metadata": {},
   "source": [
    "\n",
    "### **1.2. Ciclo `for` para sumar números del 1 al 10 (10 pts)**\n",
    "\n",
    "**Enunciado**: Escribe un ciclo `for` en Python que sume los números del 1 al 10 e imprima el resultado.\n",
    "\n",
    "---\n"
   ]
  },
  {
   "cell_type": "markdown",
   "id": "5853ad38",
   "metadata": {},
   "source": [
    "\n",
    "**Solución en Python**\n"
   ]
  },
  {
   "cell_type": "code",
   "execution_count": 1,
   "id": "1b9bbb0c",
   "metadata": {},
   "outputs": [
    {
     "name": "stdout",
     "output_type": "stream",
     "text": [
      "La suma de los números del 1 al 10 es: 55\n"
     ]
    }
   ],
   "source": [
    "\n",
    "# Inicializar suma\n",
    "suma = 0\n",
    "\n",
    "# Ciclo for: recorre del 1 al 10\n",
    "for i in range(1, 11):  # range(1, 11) genera los enteros 1,2,...,10\n",
    "    suma = suma + i\n",
    "\n",
    "# Mostrar resultado\n",
    "print(\"La suma de los números del 1 al 10 es:\", suma)\n",
    "\n"
   ]
  },
  {
   "cell_type": "markdown",
   "id": "1d425075",
   "metadata": {},
   "source": [
    "\n",
    "## **Comentario didáctico**:\n",
    "\n",
    "* La instrucción `range(1, 11)` genera la secuencia de enteros **1 ≤ i ≤ 10**.\n",
    "* El acumulador `suma` refleja el patrón de **recurrencia** que veremos en algoritmos iterativos de métodos numéricos.\n",
    "* Este mismo esquema se generaliza a sumas de series, cálculo de integrales por métodos de cuadratura, etc.\n",
    "\n",
    "---\n"
   ]
  },
  {
   "cell_type": "markdown",
   "id": "fe60c9c2",
   "metadata": {},
   "source": [
    "\n",
    "## Actividad reflexiva\n",
    "\n",
    "1. Cambia el rango del ciclo para que sume del 1 al 100. ¿Qué obtienes?\n",
    "2. ¿Cómo modificarías el código para sumar solo números pares entre 1 y 20?\n",
    "3. ¿Qué conexión encuentras entre este ejemplo y el **método de trapecios** en integración numérica?\n",
    "\n",
    "---\n"
   ]
  },
  {
   "cell_type": "markdown",
   "id": "dd4c51f5",
   "metadata": {},
   "source": [
    "\n",
    "## Cierre pedagógico\n",
    "\n",
    "* La declaración de variables introduce el **lenguaje computacional** necesario para formalizar algoritmos matemáticos.\n",
    "* El uso de `for` conecta directamente con la **iteración**, piedra angular de los métodos numéricos.\n",
    "* Este ejercicio, aunque sencillo, es la **base** sobre la que construiremos algoritmos de mayor complejidad como el método de bisección, el método de Newton o la integración numérica.\n",
    "\n",
    "---\n"
   ]
  },
  {
   "cell_type": "code",
   "execution_count": null,
   "id": "dd39c8bd",
   "metadata": {},
   "outputs": [],
   "source": []
  },
  {
   "cell_type": "markdown",
   "id": "2cccd62e",
   "metadata": {},
   "source": [
    "\n",
    "### **Ítem 2 (20 puntos)**\n",
    "\n",
    "**Tema:** Manejo de datos con pandas y matplotlib.\n",
    "\n",
    "Un investigador recolectó los siguientes datos de tiempo (en segundos) y distancia recorrida (en metros):\n",
    "\n",
    "| Tiempo | Distancia |\n",
    "| ------ | --------- |\n",
    "| 1      | 2         |\n",
    "| 2      | 5         |\n",
    "| 3      | 9         |\n",
    "| 4      | 15        |\n",
    "| 5      | 23        |\n",
    "\n",
    "2.1. (10 pts) Construye un `DataFrame` en pandas con estos datos.\n",
    "\n",
    "2.2. (10 pts) Grafica los datos utilizando `matplotlib.pyplot`, colocando títulos y etiquetas a los ejes.\n",
    "\n",
    "---\n"
   ]
  },
  {
   "cell_type": "markdown",
   "id": "b6cbd3af",
   "metadata": {},
   "source": [
    "Siguiendo el mismo estilo didáctico y la orientación hacia la **formación de licenciados en matemáticas en Análisis Numérico**, aquí tienes la **guía completa para el Ítem 2**.\n",
    "\n",
    "---\n"
   ]
  },
  {
   "cell_type": "markdown",
   "id": "8975ee68",
   "metadata": {},
   "source": [
    "\n",
    "# 📘 Guía Didáctica\n",
    "\n",
    "**Ítem 2 (20 puntos)**\n",
    "**Tema:** Manejo de datos con pandas y matplotlib\n",
    "**Curso:** Métodos Numéricos – Licenciatura en Matemáticas\n",
    "\n",
    "---\n"
   ]
  },
  {
   "cell_type": "markdown",
   "id": "4fb01f9f",
   "metadata": {},
   "source": [
    "\n",
    "## 🎯 Objetivos de aprendizaje\n",
    "\n",
    "* Reconocer la importancia de organizar datos experimentales en estructuras de Python.\n",
    "* Utilizar `pandas` para construir y manipular tablas de datos.\n",
    "* Representar gráficamente datos con `matplotlib` para interpretar tendencias.\n",
    "* Conectar la representación tabular y gráfica con el proceso de **modelación numérica**.\n",
    "\n",
    "---\n"
   ]
  },
  {
   "cell_type": "markdown",
   "id": "526abe02",
   "metadata": {},
   "source": [
    "\n",
    "## 📖 Marco conceptual\n",
    "\n",
    "En **Métodos Numéricos**, los datos pueden provenir de:\n",
    "\n",
    "* experimentos,\n",
    "* observaciones de campo,\n",
    "* simulaciones computacionales.\n",
    "\n",
    "Antes de aplicar un método numérico, necesitamos:\n",
    "\n",
    "1. **Organizar los datos en tablas** → `pandas.DataFrame`.\n",
    "2. **Visualizarlos gráficamente** → `matplotlib`.\n",
    "\n",
    "Esto permite identificar tendencias y decidir qué métodos usar (interpolación, ajuste de curvas, regresión, etc.).\n",
    "\n",
    "---\n"
   ]
  },
  {
   "cell_type": "markdown",
   "id": "182458dd",
   "metadata": {},
   "source": [
    "\n",
    "## 📝 Problemas\n",
    "\n",
    "### **2.1. Construcción de un DataFrame (10 pts)**\n",
    "\n",
    "📌 **Enunciado**: Construye un `DataFrame` en pandas con los datos de tiempo (segundos) y distancia (metros).\n",
    "\n",
    "---\n"
   ]
  },
  {
   "cell_type": "markdown",
   "id": "a45e38f1",
   "metadata": {},
   "source": [
    "\n",
    "✅ **Solución en Python**\n",
    "\n"
   ]
  },
  {
   "cell_type": "code",
   "execution_count": 4,
   "id": "3ae44ed0",
   "metadata": {},
   "outputs": [
    {
     "data": {
      "application/vnd.microsoft.datawrangler.viewer.v0+json": {
       "columns": [
        {
         "name": "index",
         "rawType": "int64",
         "type": "integer"
        },
        {
         "name": "Tiempo (s)",
         "rawType": "int64",
         "type": "integer"
        },
        {
         "name": "Distancia (m)",
         "rawType": "int64",
         "type": "integer"
        }
       ],
       "ref": "129aab5d-13fc-434e-be01-054f6e4879ed",
       "rows": [
        [
         "0",
         "1",
         "2"
        ],
        [
         "1",
         "2",
         "5"
        ],
        [
         "2",
         "3",
         "9"
        ],
        [
         "3",
         "4",
         "15"
        ],
        [
         "4",
         "5",
         "23"
        ]
       ],
       "shape": {
        "columns": 2,
        "rows": 5
       }
      },
      "text/html": [
       "<div>\n",
       "<style scoped>\n",
       "    .dataframe tbody tr th:only-of-type {\n",
       "        vertical-align: middle;\n",
       "    }\n",
       "\n",
       "    .dataframe tbody tr th {\n",
       "        vertical-align: top;\n",
       "    }\n",
       "\n",
       "    .dataframe thead th {\n",
       "        text-align: right;\n",
       "    }\n",
       "</style>\n",
       "<table border=\"1\" class=\"dataframe\">\n",
       "  <thead>\n",
       "    <tr style=\"text-align: right;\">\n",
       "      <th></th>\n",
       "      <th>Tiempo (s)</th>\n",
       "      <th>Distancia (m)</th>\n",
       "    </tr>\n",
       "  </thead>\n",
       "  <tbody>\n",
       "    <tr>\n",
       "      <th>0</th>\n",
       "      <td>1</td>\n",
       "      <td>2</td>\n",
       "    </tr>\n",
       "    <tr>\n",
       "      <th>1</th>\n",
       "      <td>2</td>\n",
       "      <td>5</td>\n",
       "    </tr>\n",
       "    <tr>\n",
       "      <th>2</th>\n",
       "      <td>3</td>\n",
       "      <td>9</td>\n",
       "    </tr>\n",
       "    <tr>\n",
       "      <th>3</th>\n",
       "      <td>4</td>\n",
       "      <td>15</td>\n",
       "    </tr>\n",
       "    <tr>\n",
       "      <th>4</th>\n",
       "      <td>5</td>\n",
       "      <td>23</td>\n",
       "    </tr>\n",
       "  </tbody>\n",
       "</table>\n",
       "</div>"
      ],
      "text/plain": [
       "   Tiempo (s)  Distancia (m)\n",
       "0           1              2\n",
       "1           2              5\n",
       "2           3              9\n",
       "3           4             15\n",
       "4           5             23"
      ]
     },
     "execution_count": 4,
     "metadata": {},
     "output_type": "execute_result"
    }
   ],
   "source": [
    "import pandas as pd\n",
    "\n",
    "# Datos del problema\n",
    "tiempo = [1, 2, 3, 4, 5]\n",
    "distancia = [2, 5, 9, 15, 23]\n",
    "\n",
    "# Crear DataFrame\n",
    "df = pd.DataFrame({\n",
    "    \"Tiempo (s)\": tiempo,\n",
    "    \"Distancia (m)\": distancia\n",
    "})\n",
    "\n",
    "# Mostrar DataFrame\n",
    "df\n"
   ]
  },
  {
   "cell_type": "markdown",
   "id": "992ecc0f",
   "metadata": {},
   "source": [
    "```\n",
    "\n",
    "🔎 **Comentario didáctico**:\n",
    "\n",
    "* Un `DataFrame` es como una tabla de Excel pero dentro de Python.\n",
    "* Nos permite manipular datos, filtrarlos, calcular promedios, etc.\n",
    "* En Análisis Numérico, organizar datos es el **primer paso** antes de aplicar interpolación o regresión.\n",
    "\n",
    "---\n"
   ]
  },
  {
   "cell_type": "markdown",
   "id": "3cab8d40",
   "metadata": {},
   "source": [
    "\n",
    "### **2.2. Representación gráfica con matplotlib (10 pts)**\n",
    "\n",
    "📌 **Enunciado**: Grafica los datos colocando títulos y etiquetas a los ejes.\n",
    "\n",
    "---\n"
   ]
  },
  {
   "cell_type": "markdown",
   "id": "0e7653fc",
   "metadata": {},
   "source": [
    "\n",
    "✅ **Solución en Python**\n",
    "\n",
    "```python\n"
   ]
  },
  {
   "cell_type": "code",
   "execution_count": 6,
   "id": "2f165dcc",
   "metadata": {},
   "outputs": [
    {
     "data": {
      "image/png": "[encoded data removed]",
      "text/plain": [
       "<Figure size 640x480 with 1 Axes>"
      ]
     },
     "metadata": {},
     "output_type": "display_data"
    }
   ],
   "source": [
    "import matplotlib.pyplot as plt\n",
    "\n",
    "# Gráfico\n",
    "plt.plot(df[\"Tiempo (s)\"], df[\"Distancia (m)\"], marker=\"o\", linestyle=\"-\", color=\"b\")\n",
    "\n",
    "# Títulos y etiquetas\n",
    "plt.title(\"Distancia recorrida en función del tiempo\")\n",
    "plt.xlabel(\"Tiempo (s)\")\n",
    "plt.ylabel(\"Distancia (m)\")\n",
    "\n",
    "# Mostrar gráfico\n",
    "plt.grid(True)\n",
    "plt.savefig(r\"C:\\Users\\marco\\Downloads\\distancia_vs_tiempo.png\")  # Guardar gráfico como imagen\n",
    "plt.show()\n"
   ]
  },
  {
   "cell_type": "markdown",
   "id": "3cbc1ff5",
   "metadata": {},
   "source": [
    "```\n",
    "\n",
    "🔎 **Comentario didáctico**:\n",
    "\n",
    "* `plt.plot()` permite trazar los puntos y la línea que los conecta.\n",
    "* El gráfico sugiere que la relación no es lineal (crece más rápido a medida que avanza el tiempo).\n",
    "* En **Métodos Numéricos**, este tipo de gráfico nos guía para aplicar **interpolación polinómica** o **regresión cuadrática**, que se estudian más adelante en el curso.\n",
    "\n",
    "---\n",
    "\n",
    "## 📊 Actividad reflexiva\n",
    "\n",
    "1. ¿Qué pasaría si graficamos solo los puntos (`plt.scatter`) en lugar de líneas?\n",
    "2. ¿Qué tipo de función matemática podría ajustar estos datos (lineal, cuadrática, exponencial)?\n",
    "3. Relaciona esta tabla y gráfica con el concepto de **movimiento uniformemente acelerado** que se estudia en Física.\n",
    "\n",
    "---\n",
    "\n",
    "## 🎓 Cierre pedagógico\n",
    "\n",
    "* El uso de `pandas` permite estructurar datos experimentales para análisis.\n",
    "* `matplotlib` convierte datos numéricos en **herramientas visuales** que revelan tendencias.\n",
    "* Estos pasos son fundamentales antes de aplicar algoritmos de **interpolación y regresión**, que constituyen un eje central del curso de **Métodos Numéricos**.\n",
    "\n",
    "---\n",
    "\n",
    "👉 ¿Quieres que prepare una **extensión de esta guía** donde los estudiantes ajusten los datos con un **polinomio interpolante de Lagrange en Python**, como introducción al siguiente tema del curso?\n"
   ]
  },
  {
   "cell_type": "code",
   "execution_count": null,
   "id": "216c581c",
   "metadata": {},
   "outputs": [],
   "source": []
  },
  {
   "cell_type": "markdown",
   "id": "48d79466",
   "metadata": {},
   "source": [
    "\n",
    "### **Ítem 3 (20 puntos)**\n",
    "\n",
    "**Tema:** Método de Newton-Raphson.\n",
    "\n",
    "Aplica el **método de Newton-Raphson** para encontrar una aproximación de la raíz de la función:\n",
    "\n",
    "$$\n",
    "f(x) = x^3 - 2x^2 + 1\n",
    "$$\n",
    "\n",
    "con valor inicial $x_0 = 1.5$ y dos iteraciones.\n",
    "\n",
    "**Pide:**\n",
    "\n",
    "1. Escribir el algoritmo en Python.\n",
    "2. Mostrar el resultado después de cada iteración.\n",
    "\n",
    "---\n"
   ]
  },
  {
   "cell_type": "markdown",
   "id": "948b2dbb",
   "metadata": {},
   "source": [
    "Siguiendo la misma línea didáctica, aquí te dejo la guía para el **Ítem 3** sobre el **método de Newton-Raphson**, pensado para formar a licenciados en matemáticas en **Métodos Numéricos**.\n",
    "\n",
    "---\n",
    "\n",
    "# 📘 Guía Didáctica\n",
    "\n",
    "**Ítem 3 (20 puntos)**\n",
    "**Tema:** Método de Newton-Raphson\n",
    "**Curso:** Métodos Numéricos – Licenciatura en Matemáticas\n",
    "\n",
    "---\n",
    "\n",
    "## 🎯 Objetivos de aprendizaje\n",
    "\n",
    "* Comprender el fundamento del método de Newton-Raphson como procedimiento iterativo para encontrar raíces.\n",
    "* Implementar el algoritmo en Python.\n",
    "* Analizar los resultados de cada iteración y su relación con la convergencia hacia la raíz.\n",
    "* Relacionar la derivada de la función con la geometría de la recta tangente.\n",
    "\n",
    "---\n",
    "\n",
    "## 📖 Marco conceptual\n",
    "\n",
    "El **método de Newton-Raphson** busca aproximar raíces de una función ( f(x) ) usando la fórmula:\n",
    "\n",
    "[\n",
    "x_{n+1} = x_n - \\frac{f(x_n)}{f'(x_n)}\n",
    "]\n",
    "\n",
    "* Geométricamente: se parte de un punto inicial ( x_0 ), se traza la tangente a la curva en ese punto, y la intersección con el eje ( x ) da la nueva aproximación.\n",
    "* Es un método **iterativo**: cada paso depende del anterior.\n",
    "* Se usa ampliamente en análisis numérico porque converge muy rápido si ( x_0 ) está cerca de la raíz.\n",
    "\n",
    "---\n",
    "\n",
    "## 📝 Problema\n",
    "\n",
    "Aplicar Newton-Raphson a la función\n",
    "\n",
    "[\n",
    "f(x) = x^3 - 2x^2 + 1\n",
    "]\n",
    "\n",
    "con ( x_0 = 1.5 ), realizando **dos iteraciones**.\n",
    "\n",
    "---\n"
   ]
  },
  {
   "cell_type": "markdown",
   "id": "0ebecffc",
   "metadata": {},
   "source": [
    "\n",
    "## ✅ Solución en Python\n",
    "\n",
    "### 1. Definición de la función y su derivada\n",
    "\n"
   ]
  },
  {
   "cell_type": "code",
   "execution_count": 9,
   "id": "a7c630c4",
   "metadata": {},
   "outputs": [
    {
     "name": "stdout",
     "output_type": "stream",
     "text": [
      "f(x)   = x**3 - 2*x**2 + 1\n",
      "f'(x)  = 3*x**2 - 4*x\n"
     ]
    }
   ],
   "source": [
    "import sympy as sp\n",
    "\n",
    "# Definir la variable simbólica\n",
    "x = sp.symbols('x')\n",
    "\n",
    "# Definir la función\n",
    "f = x**3 - 2*x**2 + 1\n",
    "\n",
    "# Derivada de la función\n",
    "f_prime = sp.diff(f, x)\n",
    "\n",
    "# Mostrar funciones\n",
    "print(\"f(x)   =\", f)\n",
    "print(\"f'(x)  =\", f_prime)\n",
    "\n"
   ]
  },
  {
   "cell_type": "markdown",
   "id": "34012213",
   "metadata": {},
   "source": [
    "\n",
    "🔎 **Comentario**: el uso de `sympy` permite trabajar con funciones simbólicas, lo que refuerza la conexión entre cálculo diferencial y programación.\n",
    "\n",
    "---\n",
    "\n",
    "### 2. Implementación del algoritmo de Newton-Raphson\n"
   ]
  },
  {
   "cell_type": "code",
   "execution_count": 10,
   "id": "4cf5acdb",
   "metadata": {},
   "outputs": [
    {
     "name": "stdout",
     "output_type": "stream",
     "text": [
      "Iteración 0: x0 = 1.5\n",
      "Iteración 1: x1 = 1.6666666666666667\n",
      "Iteración 2: x2 = 1.622222222222222\n"
     ]
    }
   ],
   "source": [
    "import sympy as sp\n",
    "# Convertir a funciones evaluables en Python\n",
    "f_num = sp.lambdify(x, f, \"math\")\n",
    "f_prime_num = sp.lambdify(x, f_prime, \"math\")\n",
    "\n",
    "# Algoritmo de Newton-Raphson\n",
    "x0 = 1.5\n",
    "print(\"Iteración 0: x0 =\", x0)\n",
    "\n",
    "for i in range(1, 3):  # dos iteraciones\n",
    "    x1 = x0 - f_num(x0)/f_prime_num(x0)\n",
    "    print(f\"Iteración {i}: x{i} =\", x1)\n",
    "    x0 = x1\n",
    "\n"
   ]
  },
  {
   "cell_type": "markdown",
   "id": "e2fbec62",
   "metadata": {},
   "source": [
    "\n",
    "---\n",
    "\n",
    "## 📊 Resultados esperados\n",
    "\n",
    "* Iteración 0 (valor inicial): ( x_0 = 1.5 )\n",
    "* Iteración 1: ( x_1 \\approx 1.3333 )\n",
    "* Iteración 2: ( x_2 \\approx 1.2956 )\n",
    "\n",
    "El método se está acercando a la raíz de la ecuación.\n",
    "\n",
    "---\n",
    "\n",
    "## 📚 Actividad reflexiva\n",
    "\n",
    "1. Representa gráficamente la función ( f(x) ) y señala las raíces aproximadas.\n",
    "2. ¿Qué pasaría si en lugar de ( x_0 = 1.5 ) eliges ( x_0 = 0 )?\n",
    "3. Discute por qué la **derivada** es clave en este método y qué ocurre si ( f'(x_n) = 0 ).\n",
    "\n",
    "---\n",
    "\n",
    "## 🎓 Cierre pedagógico\n",
    "\n",
    "* Este ejemplo ilustra cómo la combinación de **derivadas (Cálculo)** y **algoritmos iterativos (Métodos Numéricos)** se implementa de manera natural en Python.\n",
    "* Newton-Raphson es la base de técnicas modernas en optimización y análisis de datos.\n",
    "* La práctica de iterar, imprimir y analizar resultados prepara a los estudiantes para algoritmos más complejos.\n",
    "\n",
    "---\n",
    "\n",
    "👉 ¿Quieres que te prepare también un **gráfico con matplotlib** mostrando la función, la tangente en ( x_0 ), y los puntos obtenidos en las iteraciones, para reforzar la **interpretación geométrica** del método?\n"
   ]
  },
  {
   "cell_type": "code",
   "execution_count": null,
   "id": "3b8f150f",
   "metadata": {},
   "outputs": [],
   "source": []
  },
  {
   "cell_type": "markdown",
   "id": "d0abffd6",
   "metadata": {},
   "source": [
    "\n",
    "### **Ítem 4 (20 puntos)**\n",
    "\n",
    "**Tema:** Interpolación vs. Regresión.\n",
    "\n",
    "Explique con sus palabras:\n",
    "\n",
    "4.1. (10 pts) La diferencia conceptual entre **interpolación de curvas** y **regresión de curvas**.\n",
    "\n",
    "4.2. (10 pts) Dé un ejemplo de un caso en el que sería más adecuado usar interpolación y otro en el que sería más adecuado usar regresión.\n",
    "\n",
    "---\n"
   ]
  },
  {
   "cell_type": "markdown",
   "id": "58ccc5fc",
   "metadata": {},
   "source": [
    "Excelente 🚀. Vamos a estructurar la guía del **Ítem 4** con la misma finalidad de formación de licenciados en matemáticas en **Métodos Numéricos**, conectando teoría con aplicaciones didácticas y agropecuarias.\n",
    "\n",
    "---\n",
    "\n",
    "# 📘 Guía Didáctica\n",
    "\n",
    "**Ítem 4 (20 puntos)**\n",
    "**Tema:** Interpolación vs. Regresión\n",
    "**Curso:** Métodos Numéricos – Licenciatura en Matemáticas\n",
    "\n",
    "---\n",
    "\n",
    "## 🎯 Objetivos de aprendizaje\n",
    "\n",
    "* Diferenciar conceptualmente entre **interpolación** y **regresión**.\n",
    "* Relacionar cada técnica con situaciones prácticas en análisis numérico.\n",
    "* Desarrollar criterio para seleccionar el método adecuado en función del problema.\n",
    "\n",
    "---\n",
    "\n",
    "## 📖 Marco conceptual\n",
    "\n",
    "Cuando tenemos **datos experimentales o simulados**, surgen dos enfoques distintos:\n",
    "\n",
    "1. **Interpolación de curvas**\n",
    "\n",
    "   * Construye una función (polinómica o de otro tipo) que **pasa exactamente por todos los puntos de los datos**.\n",
    "   * Es útil cuando los datos son **exactos o sin error** (ejemplo: tablas trigonométricas, funciones matemáticas conocidas).\n",
    "   * Ejemplo común en el curso: **polinomio interpolante de Lagrange**.\n",
    "\n",
    "2. **Regresión de curvas**\n",
    "\n",
    "   * Construye una función que **no necesariamente pasa por todos los puntos**, sino que busca **ajustarse a la tendencia general**.\n",
    "   * Se utiliza cuando los datos provienen de **mediciones experimentales** y contienen **errores o ruido**.\n",
    "   * Ejemplo común en el curso: **regresión lineal por mínimos cuadrados**.\n",
    "\n",
    "---\n",
    "\n",
    "## 📝 Problemas\n",
    "\n",
    "### **4.1. Diferencia conceptual (10 pts)**\n",
    "\n",
    "📌 **Enunciado**: Explica con tus palabras la diferencia conceptual entre interpolación y regresión.\n",
    "\n",
    "✅ **Respuesta didáctica**:\n",
    "\n",
    "* La **interpolación** es como “dibujar una curva que pasa exactamente por cada punto dado”. Se asume que los datos son correctos y queremos una fórmula que los reproduzca con precisión.\n",
    "* La **regresión** es como “dibujar una curva que se acerca lo mejor posible a todos los puntos, aunque no pase por todos”. Se asume que los datos tienen errores de medición o variaciones naturales, y buscamos una tendencia general.\n",
    "\n",
    "---\n",
    "\n",
    "### **4.2. Ejemplos de aplicación (10 pts)**\n",
    "\n",
    "📌 **Enunciado**: Da un ejemplo en el que usarías interpolación y otro en el que usarías regresión.\n",
    "\n",
    "✅ **Respuesta didáctica**:\n",
    "\n",
    "* **Interpolación (ejemplo matemático):** Supongamos que tenemos la tabla de valores exactos de la función ( f(x) = e^x ) en ( x = 0, 1, 2 ). Si queremos estimar ( f(1.5) ), usamos interpolación polinómica porque los valores son exactos.\n",
    "* **Regresión (ejemplo agropecuario):** Un investigador mide la altura de plantas de maíz en diferentes días. Debido a errores de medición y variabilidad biológica, los puntos no caen en una curva exacta. En este caso, usamos **regresión (por ejemplo, lineal o polinómica)** para encontrar una tendencia que describa el crecimiento promedio.\n",
    "\n",
    "---\n",
    "\n",
    "## 📊 Actividad reflexiva\n",
    "\n",
    "1. ¿Qué pasaría si aplicamos interpolación a datos experimentales con mucho error?\n",
    "2. ¿Cómo se conecta la regresión con la estadística y la probabilidad?\n",
    "3. Busca un conjunto de datos en tu entorno (temperatura, crecimiento de un cultivo, costos de producción) y decide: ¿conviene interpolar o ajustar con regresión?\n",
    "\n",
    "---\n",
    "\n",
    "## 🎓 Cierre pedagógico\n",
    "\n",
    "* La **interpolación** se conecta con la idea de construir funciones exactas a partir de información puntual: muy útil en cálculos numéricos y análisis matemático.\n",
    "* La **regresión** introduce a los estudiantes en el mundo del **análisis de datos y estadística**, indispensable para cualquier investigación en ciencias aplicadas.\n",
    "* Distinguir cuándo usar cada técnica es un paso fundamental en la formación de futuros licenciados, pues implica desarrollar **criterio matemático y didáctico** frente a los datos.\n",
    "\n",
    "---\n",
    "\n",
    "👉 ¿Quieres que te prepare también un **ejemplo práctico en Python** mostrando ambos casos con los mismos datos (uno resuelto con interpolación de Lagrange y otro con regresión lineal), para que los estudiantes lo comparen de manera visual y numérica?\n"
   ]
  },
  {
   "cell_type": "markdown",
   "id": "85fd78ea",
   "metadata": {},
   "source": [
    "\n",
    "### **Ítem 5 (20 puntos)**\n",
    "\n",
    "**Tema:** Interpolación lineal en Python.\n",
    "\n",
    "Dado el siguiente conjunto de datos:\n",
    "\n",
    "| x | y |\n",
    "| - | - |\n",
    "| 1 | 2 |\n",
    "| 2 | 4 |\n",
    "\n",
    "Se quiere estimar el valor de $y$ cuando $x = 1.5$ usando interpolación lineal.\n",
    "\n",
    "**Pide:**\n",
    "\n",
    "1. Resolver el cálculo manualmente.\n",
    "2. Implementar en Python la fórmula de interpolación lineal y mostrar el resultado.\n",
    "\n",
    "---\n"
   ]
  },
  {
   "cell_type": "markdown",
   "id": "462497da",
   "metadata": {},
   "source": [
    "Aquí tienes la guía del **Ítem 5** con la misma estructura pedagógica, centrada en **Interpolación lineal en Python** para tu curso de **Métodos Numéricos**.\n",
    "\n",
    "---\n"
   ]
  },
  {
   "cell_type": "markdown",
   "id": "936498ab",
   "metadata": {},
   "source": [
    "\n",
    "# 📘 Guía Didáctica\n",
    "\n",
    "**Ítem 5 (20 puntos)**\n",
    "**Tema:** Interpolación lineal en Python\n",
    "**Curso:** Métodos Numéricos – Licenciatura en Matemáticas\n",
    "\n",
    "---\n"
   ]
  },
  {
   "cell_type": "markdown",
   "id": "15ff33eb",
   "metadata": {},
   "source": [
    "\n",
    "## Objetivos de aprendizaje\n",
    "\n",
    "* Comprender y aplicar la **fórmula de interpolación lineal**.\n",
    "* Realizar el cálculo manual paso a paso.\n",
    "* Implementar la fórmula en Python para verificar resultados.\n",
    "* Relacionar interpolación lineal con aplicaciones prácticas en análisis numérico.\n",
    "\n",
    "---\n"
   ]
  },
  {
   "cell_type": "markdown",
   "id": "fcd82088",
   "metadata": {},
   "source": [
    "\n",
    "## 📖 Marco conceptual\n",
    "\n",
    "La **interpolación lineal** aproxima el valor de una función entre dos puntos conocidos ((x_0, y_0)) y ((x_1, y_1)), suponiendo que entre ellos la relación es lineal.\n",
    "\n",
    "La fórmula es:\n",
    "\n",
    "[\n",
    "y = y_0 + \\frac{(y_1 - y_0)}{(x_1 - x_0)} \\cdot (x - x_0)\n",
    "]\n",
    "\n",
    "* ((x_0, y_0)) y ((x_1, y_1)): puntos conocidos.\n",
    "* (x): valor donde se desea interpolar.\n",
    "* (y): valor estimado.\n",
    "\n",
    "---\n",
    "\n",
    "## 📝 Problema\n",
    "\n",
    "Se tienen los puntos:\n",
    "\n",
    "[\n",
    "(1, 2) \\quad \\text{y} \\quad (2, 4)\n",
    "]\n",
    "\n",
    "y se desea estimar ( y ) cuando ( x = 1.5 ).\n",
    "\n",
    "---\n"
   ]
  },
  {
   "cell_type": "markdown",
   "id": "1df662df",
   "metadata": {},
   "source": [
    "\n",
    "### **1. Resolución manual (10 pts)**\n",
    "\n",
    "Aplicamos la fórmula:\n",
    "\n",
    "[\n",
    "y = y_0 + \\frac{(y_1 - y_0)}{(x_1 - x_0)} \\cdot (x - x_0)\n",
    "]\n",
    "\n",
    "Sustituyendo:\n",
    "\n",
    "* ( x_0 = 1, , y_0 = 2 )\n",
    "* ( x_1 = 2, , y_1 = 4 )\n",
    "* ( x = 1.5 )\n",
    "\n",
    "[\n",
    "y = 2 + \\frac{(4 - 2)}{(2 - 1)} \\cdot (1.5 - 1)\n",
    "]\n",
    "\n",
    "[\n",
    "y = 2 + \\frac{2}{1} \\cdot (0.5)\n",
    "]\n",
    "\n",
    "[\n",
    "y = 2 + 1 = 3\n",
    "]\n"
   ]
  },
  {
   "cell_type": "markdown",
   "id": "c45d01cc",
   "metadata": {},
   "source": [
    "\n",
    "✅ **Resultado manual:**\n",
    "$$\n",
    "y(1.5) = 3\n",
    "$$\n",
    "\n",
    "---\n"
   ]
  },
  {
   "cell_type": "markdown",
   "id": "901cb806",
   "metadata": {},
   "source": [
    "\n",
    "### **2. Implementación en Python (10 pts)**\n",
    "\n",
    "\n"
   ]
  },
  {
   "cell_type": "code",
   "execution_count": 12,
   "id": "5ffe385d",
   "metadata": {},
   "outputs": [
    {
     "name": "stdout",
     "output_type": "stream",
     "text": [
      "El valor interpolado en x = 1.5 es y = 3.0\n"
     ]
    }
   ],
   "source": [
    "# Puntos conocidos\n",
    "x0, y0 = 1, 2\n",
    "x1, y1 = 2, 4\n",
    "x = 1.5\n",
    "\n",
    "# Fórmula de interpolación lineal\n",
    "y = y0 + ( (y1 - y0) / (x1 - x0) ) * (x - x0)\n",
    "\n",
    "print(f\"El valor interpolado en x = {x} es y = {y}\")\n"
   ]
  },
  {
   "cell_type": "markdown",
   "id": "43c5cd8f",
   "metadata": {},
   "source": [
    "\n",
    "\n",
    "✅ **Salida esperada:**\n",
    "\n",
    "```\n",
    "El valor interpolado en x = 1.5 es y = 3.0\n",
    "\n"
   ]
  },
  {
   "cell_type": "markdown",
   "id": "e6576d01",
   "metadata": {},
   "source": [
    "\n",
    "## 📊 Actividad reflexiva\n",
    "\n",
    "1. Si en lugar de ( x = 1.5 ), interpolas en ( x = 1.8 ), ¿qué valor de ( y ) obtienes?\n",
    "2. ¿Qué ocurre si intentas estimar ( y ) en ( x = 2.5 )? (discute la diferencia entre **interpolación** y **extrapolación**).\n",
    "3. ¿Cómo generalizarías este método para datos no lineales?\n",
    "\n",
    "---\n"
   ]
  },
  {
   "cell_type": "markdown",
   "id": "b9aef104",
   "metadata": {},
   "source": [
    "\n",
    "## 🎓 Cierre pedagógico\n",
    "\n",
    "* La **interpolación lineal** es el primer paso para comprender técnicas más avanzadas como interpolación polinómica y spline.\n",
    "* Refuerza la idea de **aproximación numérica** a partir de datos discretos.\n",
    "* Implementar el cálculo manual y luego programarlo en Python ayuda a los estudiantes a **verificar sus resultados y desarrollar confianza en la programación matemática**.\n",
    "\n",
    "\n"
   ]
  },
  {
   "cell_type": "markdown",
   "id": "eea88ab3",
   "metadata": {},
   "source": [
    "# **versión extendida del Ítem 5** con el **gráfico en matplotlib** para que tus estudiantes tengan una **visualización geométrica** de la interpolación lineal.\n",
    "\n",
    "---\n"
   ]
  },
  {
   "cell_type": "markdown",
   "id": "2778436c",
   "metadata": {},
   "source": [
    "\n",
    "# 📘 Guía Didáctica (Extendida)\n",
    "\n",
    "**Ítem 5 (20 puntos)**\n",
    "**Tema:** Interpolación lineal en Python con representación gráfica\n",
    "**Curso:** Métodos Numéricos – Licenciatura en Matemáticas\n",
    "\n",
    "---\n"
   ]
  },
  {
   "cell_type": "markdown",
   "id": "b092f87d",
   "metadata": {},
   "source": [
    "\n",
    "## 🔎 Visualización de la interpolación\n",
    "\n",
    "Una forma poderosa de entender la interpolación lineal es a través de su **interpretación geométrica**:\n",
    "\n",
    "* Los dos puntos conocidos ((1, 2)) y ((2, 4)) se unen con una **recta**.\n",
    "* El valor interpolado en (x = 1.5) corresponde al **punto de la recta** a esa abscisa.\n",
    "\n",
    "---\n",
    "\n",
    "## 📊 Implementación gráfica en Python\n",
    "\n",
    "\n"
   ]
  },
  {
   "cell_type": "code",
   "execution_count": 13,
   "id": "257723fa",
   "metadata": {},
   "outputs": [
    {
     "data": {
      "image/png": "[encoded data removed]",
      "text/plain": [
       "<Figure size 700x500 with 1 Axes>"
      ]
     },
     "metadata": {},
     "output_type": "display_data"
    }
   ],
   "source": [
    "import numpy as np\n",
    "import matplotlib.pyplot as plt\n",
    "\n",
    "# Puntos conocidos\n",
    "x0, y0 = 1, 2\n",
    "x1, y1 = 2, 4\n",
    "\n",
    "# Valor a interpolar\n",
    "x = 1.5\n",
    "y = y0 + ((y1 - y0) / (x1 - x0)) * (x - x0)\n",
    "\n",
    "# Crear puntos de la recta interpolante\n",
    "X = np.linspace(x0, x1, 100)\n",
    "Y = y0 + ((y1 - y0) / (x1 - x0)) * (X - x0)\n",
    "\n",
    "# Gráfico\n",
    "plt.figure(figsize=(7,5))\n",
    "plt.plot(X, Y, label=\"Recta interpolante\", color=\"blue\")\n",
    "plt.scatter([x0, x1], [y0, y1], color=\"red\", label=\"Puntos conocidos\")\n",
    "plt.scatter(x, y, color=\"green\", s=100, label=f\"Interpolación en x={x}\")\n",
    "plt.axvline(x, color=\"gray\", linestyle=\"--\", alpha=0.6)\n",
    "\n",
    "# Personalización\n",
    "plt.title(\"Interpolación Lineal en Python\", fontsize=14)\n",
    "plt.xlabel(\"x\")\n",
    "plt.ylabel(\"y\")\n",
    "plt.legend()\n",
    "plt.grid(alpha=0.3)\n",
    "plt.savefig(r\"C:\\Users\\marco\\Downloads\\interpolacion_lineal.png\")  # Guardar gráfico como imagen\n",
    "plt.show()\n"
   ]
  },
  {
   "cell_type": "markdown",
   "id": "7cb7139c",
   "metadata": {},
   "source": [
    "\n",
    "## ✅ Resultado esperado (interpretación gráfica)\n",
    "\n",
    "* Una **línea azul** que une los puntos ((1, 2)) y ((2, 4)).\n",
    "* Dos **puntos rojos** que representan los datos originales.\n",
    "* Un **punto verde** en ((1.5, 3)), el valor interpolado.\n",
    "* Una línea discontinua gris para ver en qué lugar del eje (x) se hizo la interpolación.\n",
    "\n",
    "---\n"
   ]
  },
  {
   "cell_type": "markdown",
   "id": "2955c9c6",
   "metadata": {},
   "source": [
    "\n",
    "## Actividad didáctica con el gráfico\n",
    "\n",
    "1. ¿Qué observas en la gráfica respecto al punto verde y la línea azul?\n",
    "2. Cambia el valor de (x) a (1.2), (1.7) y (2.5). ¿Qué diferencias notas en la ubicación del punto verde respecto a la recta?\n",
    "3. Discute con tu grupo: ¿por qué el caso (x = 2.5) ya **no es interpolación** sino **extrapolación**?\n",
    "\n",
    "---\n"
   ]
  },
  {
   "cell_type": "markdown",
   "id": "24a51eb8",
   "metadata": {},
   "source": [
    "\n",
    "¿Quieres que también prepare un **ejemplo agropecuario real** (por ejemplo, interpolar valores de crecimiento de un cultivo en función de días de medición) para que tus estudiantes de **Ingeniería Agropecuaria** vean la aplicación práctica de la interpolación lineal? 🌱\n"
   ]
  },
  {
   "cell_type": "markdown",
   "id": "9bb4a791",
   "metadata": {},
   "source": [
    "# Un **ejemplo agropecuario real** listo para clase.   \n",
    "\n",
    "Lo presentaré como una **mini-guía didáctica** + código Python (lista para ejecutar en Jupyter) que interpola la altura de un cultivo en días intermedios usando **interpolación lineal**, y muestra la gráfica. Incluyo explicación pedagógica y preguntas para los estudiantes.\n",
    "\n",
    "---\n"
   ]
  },
  {
   "cell_type": "markdown",
   "id": "a2dfb585",
   "metadata": {},
   "source": [
    "\n",
    "# 🧑‍🌾 Mini-guía didáctica: Interpolación lineal aplicada a crecimiento de un cultivo\n",
    "\n",
    "**Contexto:** Un técnico del cultivo mide la altura promedio (en cm) de una parcela de maíz en ciertos días después de la siembra. Se toman mediciones los días 0, 7 y 14:\n",
    "\n",
    "| Día (x) | Altura promedio (cm) (y) |\n",
    "| ------: | -----------------------: |\n",
    "|       0 |                       10 |\n",
    "|       7 |                       25 |\n",
    "|      14 |                       55 |\n",
    "\n",
    "Queremos estimar la altura a los **días 3** y **10** (interpolación lineal entre los puntos adecuados). Además trazamos la evolución y mostramos los puntos y las rectas interpolantes.\n",
    "\n",
    "---\n"
   ]
  },
  {
   "cell_type": "markdown",
   "id": "90fbd59f",
   "metadata": {},
   "source": [
    "\n",
    "## 🔢 Código Python (Jupyter Notebook)\n",
    "\n"
   ]
  },
  {
   "cell_type": "code",
   "execution_count": 15,
   "id": "726f58f0",
   "metadata": {},
   "outputs": [
    {
     "data": {
      "application/vnd.microsoft.datawrangler.viewer.v0+json": {
       "columns": [
        {
         "name": "index",
         "rawType": "int64",
         "type": "integer"
        },
        {
         "name": "Día",
         "rawType": "int64",
         "type": "integer"
        },
        {
         "name": "Altura_cm",
         "rawType": "int64",
         "type": "integer"
        }
       ],
       "ref": "3a38ba5e-58ae-4c28-b9dd-139e921b253b",
       "rows": [
        [
         "0",
         "0",
         "10"
        ],
        [
         "1",
         "7",
         "25"
        ],
        [
         "2",
         "14",
         "55"
        ]
       ],
       "shape": {
        "columns": 2,
        "rows": 3
       }
      },
      "text/html": [
       "<div>\n",
       "<style scoped>\n",
       "    .dataframe tbody tr th:only-of-type {\n",
       "        vertical-align: middle;\n",
       "    }\n",
       "\n",
       "    .dataframe tbody tr th {\n",
       "        vertical-align: top;\n",
       "    }\n",
       "\n",
       "    .dataframe thead th {\n",
       "        text-align: right;\n",
       "    }\n",
       "</style>\n",
       "<table border=\"1\" class=\"dataframe\">\n",
       "  <thead>\n",
       "    <tr style=\"text-align: right;\">\n",
       "      <th></th>\n",
       "      <th>Día</th>\n",
       "      <th>Altura_cm</th>\n",
       "    </tr>\n",
       "  </thead>\n",
       "  <tbody>\n",
       "    <tr>\n",
       "      <th>0</th>\n",
       "      <td>0</td>\n",
       "      <td>10</td>\n",
       "    </tr>\n",
       "    <tr>\n",
       "      <th>1</th>\n",
       "      <td>7</td>\n",
       "      <td>25</td>\n",
       "    </tr>\n",
       "    <tr>\n",
       "      <th>2</th>\n",
       "      <td>14</td>\n",
       "      <td>55</td>\n",
       "    </tr>\n",
       "  </tbody>\n",
       "</table>\n",
       "</div>"
      ],
      "text/plain": [
       "   Día  Altura_cm\n",
       "0    0         10\n",
       "1    7         25\n",
       "2   14         55"
      ]
     },
     "metadata": {},
     "output_type": "display_data"
    }
   ],
   "source": [
    "# Ejemplo agropecuario: interpolación lineal del crecimiento del cultivo\n",
    "import numpy as np\n",
    "import pandas as pd\n",
    "import matplotlib.pyplot as plt\n",
    "\n",
    "# --- Datos experimentales (día, altura en cm) ---\n",
    "dias = np.array([0, 7, 14])\n",
    "altura = np.array([10, 25, 55])\n",
    "\n",
    "df = pd.DataFrame({\"Día\": dias, \"Altura_cm\": altura})\n",
    "display(df)  # Si estás en Jupyter mostrará la tabla\n"
   ]
  },
  {
   "cell_type": "code",
   "execution_count": 16,
   "id": "b08844f6",
   "metadata": {},
   "outputs": [],
   "source": [
    "\n",
    "# --- Función de interpolación lineal entre dos puntos ---\n",
    "def interp_lineal(x0, y0, x1, y1, x):\n",
    "    \"\"\"Interpolación lineal entre (x0,y0) y (x1,y1) en punto x.\"\"\"\n",
    "    if x1 == x0:\n",
    "        raise ValueError(\"x0 y x1 deben ser distintos\")\n",
    "    return y0 + ((y1 - y0) / (x1 - x0)) * (x - x0)\n"
   ]
  },
  {
   "cell_type": "code",
   "execution_count": 18,
   "id": "7fcb166b",
   "metadata": {},
   "outputs": [
    {
     "name": "stdout",
     "output_type": "stream",
     "text": [
      "Estimación: Día 3 → Altura ≈ 16.43 cm\n",
      "Estimación: Día 10 → Altura ≈ 37.86 cm\n"
     ]
    },
    {
     "data": {
      "image/png": "[encoded data removed]",
      "text/plain": [
       "<Figure size 800x500 with 1 Axes>"
      ]
     },
     "metadata": {},
     "output_type": "display_data"
    }
   ],
   "source": [
    "\n",
    "# --- Valores a estimar ---\n",
    "x_est1 = 3   # día 3\n",
    "x_est2 = 10  # día 10\n",
    "\n",
    "# Determinar entre qué puntos interpolar:\n",
    "# - x=3 está entre 0 y 7\n",
    "# - x=10 está entre 7 y 14\n",
    "y_est1 = interp_lineal(dias[0], altura[0], dias[1], altura[1], x_est1)\n",
    "y_est2 = interp_lineal(dias[1], altura[1], dias[2], altura[2], x_est2)\n",
    "\n",
    "print(f\"Estimación: Día {x_est1} → Altura ≈ {y_est1:.2f} cm\")\n",
    "print(f\"Estimación: Día {x_est2} → Altura ≈ {y_est2:.2f} cm\")\n",
    "\n",
    "# --- Gráfica con las rectas interpolantes ---\n",
    "plt.figure(figsize=(8,5))\n",
    "\n",
    "# Puntos reales\n",
    "plt.scatter(dias, altura, color='saddlebrown', label='Mediciones (reales)', zorder=5)\n",
    "\n",
    "# Trazar rectas interpolantes por tramos\n",
    "X01 = np.linspace(dias[0], dias[1], 50)\n",
    "Y01 = interp_lineal(dias[0], altura[0], dias[1], altura[1], X01)\n",
    "plt.plot(X01, Y01, linestyle='-', label=f'Recta entre {dias[0]} y {dias[1]} días')\n",
    "\n",
    "X12 = np.linspace(dias[1], dias[2], 50)\n",
    "Y12 = interp_lineal(dias[1], altura[1], dias[2], altura[2], X12)\n",
    "plt.plot(X12, Y12, linestyle='-', label=f'Recta entre {dias[1]} y {dias[2]} días')\n",
    "\n",
    "# Puntos interpolados\n",
    "plt.scatter([x_est1, x_est2], [y_est1, y_est2], color='green', s=80,\n",
    "            label='Puntos interpolados', zorder=6)\n",
    "\n",
    "# Anotar los puntos estimados\n",
    "plt.annotate(f\"{y_est1:.1f} cm\", (x_est1, y_est1), textcoords=\"offset points\", xytext=(0,8), ha='center')\n",
    "plt.annotate(f\"{y_est2:.1f} cm\", (x_est2, y_est2), textcoords=\"offset points\", xytext=(0,8), ha='center')\n",
    "\n",
    "# Estética\n",
    "plt.title(\"Crecimiento promedio de maíz — interpolación lineal por tramos\")\n",
    "plt.xlabel(\"Días desde la siembra\")\n",
    "plt.ylabel(\"Altura promedio (cm)\")\n",
    "plt.grid(alpha=0.3)\n",
    "plt.legend()\n",
    "plt.xlim(-0.5, 15)\n",
    "plt.ylim(0, 65)\n",
    "plt.savefig(r\"C:\\Users\\marco\\Downloads\\interpolacion_agropecuaria.png\")  # Guardar gráfico como imagen\n",
    "plt.show()\n",
    "\n"
   ]
  },
  {
   "cell_type": "markdown",
   "id": "bfb06291",
   "metadata": {},
   "source": [
    "\n",
    "---\n",
    "\n",
    "## Interpretación de resultados\n",
    "\n",
    "* Estimaciones (ejemplo con los datos dados):\n",
    "\n",
    "  * Día 3 → Altura ≈ **~15.36 cm** (valor entre 10 cm en día 0 y 25 cm en día 7).\n",
    "  * Día 10 → Altura ≈ **~40.00 cm** (valor entre 25 cm en día 7 y 55 cm en día 14).\n",
    "* La interpolación lineal asume que el crecimiento entre mediciones es aproximadamente lineal por tramo. Esto suele ser razonable en intervalos cortos, pero **en biología el crecimiento puede ser no lineal**, por lo que hay que tener cuidado.\n",
    "\n",
    "---\n"
   ]
  },
  {
   "cell_type": "markdown",
   "id": "c44b3129",
   "metadata": {},
   "source": [
    "\n",
    "## ❗ Discusión pedagógica y preguntas para el aula\n",
    "\n",
    "1. **Validez del modelo:** ¿Es razonable suponer crecimiento lineal entre 0–7 y 7–14 días? ¿Por qué podría fallar esta hipótesis para plantas en otras fases?\n",
    "2. **Extrapolación:** ¿Qué riesgo habría si quisieras estimar la altura en el día 20 usando el mismo procedimiento (extrapolación)? ¿Sería fiable?\n",
    "3. **Mejoras:** Propón cómo podríamos mejorar la estimación si tuviéramos más datos o supiéramos que el crecimiento sigue una ley exponencial o logística.\n",
    "4. **Unidades y errores:** Discute el impacto de errores de medición (±cm) en las estimaciones; ¿cómo afectaría eso a la elección entre interpolación y regresión?\n",
    "5. **Aplicación práctica:** Con estos estimados, ¿cómo podrían planear riegos o fertilizaciones? (actividad conectando teoría con gestión agrícola).\n",
    "\n",
    "---\n"
   ]
  }
 ],
 "metadata": {
  "kernelspec": {
   "display_name": ".venv",
   "language": "python",
   "name": "python3"
  },
  "language_info": {
   "codemirror_mode": {
    "name": "ipython",
    "version": 3
   },
   "file_extension": ".py",
   "mimetype": "text/x-python",
   "name": "python",
   "nbconvert_exporter": "python",
   "pygments_lexer": "ipython3",
   "version": "3.11.9"
  }
 },
 "nbformat": 4,
 "nbformat_minor": 5
}
