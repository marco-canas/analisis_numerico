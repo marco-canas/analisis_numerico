{
 "cells": [
  {
   "cell_type": "markdown",
   "id": "406f7573",
   "metadata": {},
   "source": [
    "<table align=\"left\">\n",
    "  <td>\n",
    "    <a href=\"https://colab.research.google.com/github/ageron/handson-ml3/blob/main/tools_numpy.ipynb\" target=\"_parent\"><img src=\"https://colab.research.google.com/assets/colab-badge.svg\" alt=\"Open In Colab\"/></a>\n",
    "  </td>\n",
    "  <td>\n",
    "    <a target=\"_blank\" href=\"https://kaggle.com/kernels/welcome?src=https://github.com/ageron/handson-ml3/blob/main/tools_numpy.ipynb\"><img src=\"https://kaggle.com/static/images/open-in-kaggle.svg\" /></a>\n",
    "  </td>\n",
    "</table>"
   ]
  },
  {
   "cell_type": "markdown",
   "id": "e13bb77a",
   "metadata": {},
   "source": [
    "# Prompt para diseño del segundo parcial  \n",
    "\n",
    "1. Introducción a la sintaxis básica de Python para Análisis numétodco o Métodos Numéricos.   \n",
    "     - Variables y tipos de datos.  \n",
    "     - Estructuras de control (El ciclo o bucle `for`).\n",
    "     - dataframes con pandas.\n",
    "     - Gráficos de datos con matplotlib.\n",
    "2. El método de Newton-Raphson para encontrar ceros de funciones.  \n",
    "3. El La duferencia entre interpolación de curvas y regresión de curvas.   \n",
    "     - Interpolación lineal.  \n",
    "\n"
   ]
  },
  {
   "cell_type": "markdown",
   "id": "76329360",
   "metadata": {},
   "source": [
    "\n",
    "### **Ítem 1 (20 puntos)**\n",
    "\n",
    "**Tema:** Sintaxis básica de Python.\n",
    "\n",
    "1.1. (10 pts) Declara en Python tres variables:\n",
    "\n",
    "* `a` como un número entero,\n",
    "* `b` como un número decimal (float),\n",
    "* `c` como una cadena de texto.\n",
    "\n",
    "Muestra en pantalla sus tipos de datos utilizando la función `type()`.\n",
    "\n",
    "1.2. (10 pts) Escribe un ciclo `for` en Python que sume los números del 1 al 10 e imprima el resultado.\n",
    "\n",
    "---\n"
   ]
  },
  {
   "cell_type": "code",
   "execution_count": null,
   "id": "63de2cdc",
   "metadata": {},
   "outputs": [],
   "source": []
  },
  {
   "cell_type": "code",
   "execution_count": null,
   "id": "dd39c8bd",
   "metadata": {},
   "outputs": [],
   "source": []
  },
  {
   "cell_type": "code",
   "execution_count": null,
   "id": "79f458ed",
   "metadata": {},
   "outputs": [],
   "source": []
  },
  {
   "cell_type": "code",
   "execution_count": null,
   "id": "a8f8f5d2",
   "metadata": {},
   "outputs": [],
   "source": []
  },
  {
   "cell_type": "code",
   "execution_count": null,
   "id": "f4bd75f3",
   "metadata": {},
   "outputs": [],
   "source": []
  },
  {
   "cell_type": "code",
   "execution_count": null,
   "id": "dbb76c6d",
   "metadata": {},
   "outputs": [],
   "source": []
  },
  {
   "cell_type": "markdown",
   "id": "2cccd62e",
   "metadata": {},
   "source": [
    "\n",
    "### **Ítem 2 (20 puntos)**\n",
    "\n",
    "**Tema:** Manejo de datos con pandas y matplotlib.\n",
    "\n",
    "Un investigador recolectó los siguientes datos de tiempo (en segundos) y distancia recorrida (en metros):\n",
    "\n",
    "| Tiempo | Distancia |\n",
    "| ------ | --------- |\n",
    "| 1      | 2         |\n",
    "| 2      | 5         |\n",
    "| 3      | 9         |\n",
    "| 4      | 15        |\n",
    "| 5      | 23        |\n",
    "\n",
    "2.1. (10 pts) Construye un `DataFrame` en pandas con estos datos.\n",
    "\n",
    "2.2. (10 pts) Grafica los datos utilizando `matplotlib.pyplot`, colocando títulos y etiquetas a los ejes.\n",
    "\n",
    "---\n"
   ]
  },
  {
   "cell_type": "code",
   "execution_count": null,
   "id": "b6cbd3af",
   "metadata": {},
   "outputs": [],
   "source": []
  },
  {
   "cell_type": "code",
   "execution_count": null,
   "id": "216c581c",
   "metadata": {},
   "outputs": [],
   "source": []
  },
  {
   "cell_type": "markdown",
   "id": "48d79466",
   "metadata": {},
   "source": [
    "\n",
    "### **Ítem 3 (20 puntos)**\n",
    "\n",
    "**Tema:** Método de Newton-Raphson.\n",
    "\n",
    "Aplica el **método de Newton-Raphson** para encontrar una aproximación de la raíz de la función:\n",
    "\n",
    "$$\n",
    "f(x) = x^3 - 2x^2 + 1\n",
    "$$\n",
    "\n",
    "con valor inicial $x_0 = 1.5$ y dos iteraciones.\n",
    "\n",
    "**Pide:**\n",
    "\n",
    "1. Escribir el algoritmo en Python.\n",
    "2. Mostrar el resultado después de cada iteración.\n",
    "\n",
    "---\n"
   ]
  },
  {
   "cell_type": "code",
   "execution_count": null,
   "id": "948b2dbb",
   "metadata": {},
   "outputs": [],
   "source": []
  },
  {
   "cell_type": "code",
   "execution_count": null,
   "id": "cebbd5fe",
   "metadata": {},
   "outputs": [],
   "source": []
  },
  {
   "cell_type": "code",
   "execution_count": null,
   "id": "3b8f150f",
   "metadata": {},
   "outputs": [],
   "source": []
  },
  {
   "cell_type": "markdown",
   "id": "d0abffd6",
   "metadata": {},
   "source": [
    "\n",
    "### **Ítem 4 (20 puntos)**\n",
    "\n",
    "**Tema:** Interpolación vs. Regresión.\n",
    "\n",
    "Explique con sus palabras:\n",
    "\n",
    "4.1. (10 pts) La diferencia conceptual entre **interpolación de curvas** y **regresión de curvas**.\n",
    "\n",
    "4.2. (10 pts) Dé un ejemplo de un caso en el que sería más adecuado usar interpolación y otro en el que sería más adecuado usar regresión.\n",
    "\n",
    "---\n"
   ]
  },
  {
   "cell_type": "markdown",
   "id": "85fd78ea",
   "metadata": {},
   "source": [
    "\n",
    "### **Ítem 5 (20 puntos)**\n",
    "\n",
    "**Tema:** Interpolación lineal en Python.\n",
    "\n",
    "Dado el siguiente conjunto de datos:\n",
    "\n",
    "| x | y |\n",
    "| - | - |\n",
    "| 1 | 2 |\n",
    "| 2 | 4 |\n",
    "\n",
    "Se quiere estimar el valor de $y$ cuando $x = 1.5$ usando interpolación lineal.\n",
    "\n",
    "**Pide:**\n",
    "\n",
    "1. Resolver el cálculo manualmente.\n",
    "2. Implementar en Python la fórmula de interpolación lineal y mostrar el resultado.\n",
    "\n",
    "---\n"
   ]
  },
  {
   "cell_type": "code",
   "execution_count": null,
   "id": "462497da",
   "metadata": {},
   "outputs": [],
   "source": []
  }
 ],
 "metadata": {
  "kernelspec": {
   "display_name": ".venv",
   "language": "python",
   "name": "python3"
  },
  "language_info": {
   "codemirror_mode": {
    "name": "ipython",
    "version": 3
   },
   "file_extension": ".py",
   "mimetype": "text/x-python",
   "name": "python",
   "nbconvert_exporter": "python",
   "pygments_lexer": "ipython3",
   "version": "3.11.9"
  }
 },
 "nbformat": 4,
 "nbformat_minor": 5
}
