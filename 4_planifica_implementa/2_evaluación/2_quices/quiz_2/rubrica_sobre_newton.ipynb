{
 "cells": [
  {
   "cell_type": "markdown",
   "id": "9a659f2a",
   "metadata": {},
   "source": []
  },
  {
   "cell_type": "markdown",
   "id": "20c48c25",
   "metadata": {},
   "source": [
    "# Prompt para el diseño de la rúbrica para los videos  \n",
    "\n",
    "Dame una rúbrica para la elaboración de un video, sobre la implementación del método de Newton - Raphson, de manera individual; que debe hacer cada estudiante de Licenciatura en matemáticas, en donde desde VSCode o desde la terminal PowerShell (Como administrador), de windows muestre cómo: 1. Graficar con matplotlib la función en una región cercada al cero de ella, 2. escribir el script de Python para implementar el método de Newton y visualizar en una dataframe a: x_n, f(x_n), f'(x_n), x_{n+1}, error |x_{n+1} - x_n|"
   ]
  },
  {
   "cell_type": "markdown",
   "id": "204f8348",
   "metadata": {},
   "source": [
    "\n",
    "## 🎥 **Rúbrica para el video: Implementación del método de Newton-Raphson en Python**\n",
    "\n",
    "**Propósito:**\n",
    "Evaluar la comprensión conceptual, la capacidad de implementación computacional y la comunicación matemática del estudiante al resolver un problema de cálculo numérico mediante el método de Newton-Raphson utilizando Python y visualización con Matplotlib y Pandas.\n",
    "\n",
    "---\n"
   ]
  },
  {
   "cell_type": "markdown",
   "id": "721c7ce7",
   "metadata": {},
   "source": [
    "\n",
    "### 📊 **Criterios de evaluación (Total: 100 puntos)**\n",
    "\n",
    "| Criterio                                                                       | Descripción del desempeño esperado                                                                                                                                            | Ponderación | Niveles de logro                                                                                                                                                                                                                                                                                                         |\n",
    "| ------------------------------------------------------------------------------ | ----------------------------------------------------------------------------------------------------------------------------------------------------------------------------- | ----------- | ------------------------------------------------------------------------------------------------------------------------------------------------------------------------------------------------------------------------------------------------------------------------------------------------------------------------ |\n",
    "| **1. Presentación inicial del problema y propósito del video**                 | El estudiante explica claramente qué es el método de Newton-Raphson, su propósito y en qué contexto se aplica. Menciona la función elegida y el objetivo (encontrar un cero). | **10 pts**  | 🔹 **Excelente (10):** Explica con precisión teórica y contextualiza el método.<br>🔹 **Bueno (7):** Explica parcialmente el método, sin justificar su utilidad.<br>🔹 **Básico (4):** Solo menciona la fórmula, sin contexto.<br>🔹 **Insuficiente (1):** No explica el método ni su propósito.                         |\n",
    "| **2. Uso del entorno (VSCode o PowerShell)**                                   | Muestra correctamente la ejecución del programa desde VSCode o PowerShell como administrador. Explica brevemente cómo se ejecuta el script.                                   | **10 pts**  | 🔹 **Excelente (10):** Muestra y explica paso a paso cómo ejecutar el código.<br>🔹 **Bueno (7):** Muestra la ejecución, pero sin explicación.<br>🔹 **Básico (4):** Ejecuta parcialmente o con errores.<br>🔹 **Insuficiente (1):** No muestra la ejecución en el entorno solicitado.                                   |\n",
    "| **3. Gráfica de la función con Matplotlib**                                    | Presenta la gráfica de la función en una región cercana al cero y señala visualmente el punto aproximado donde se ubica la raíz.                                              | **15 pts**  | 🔹 **Excelente (15):** Gráfica clara, con etiquetas, título, cuadrícula y anotación del cero aproximado.<br>🔹 **Bueno (10):** Gráfica visible pero sin etiquetas o sin interpretar el cero.<br>🔹 **Básico (6):** Gráfica poco clara o mal escalada.<br>🔹 **Insuficiente (2):** No muestra la gráfica o es incorrecta. |\n",
    "| **4. Implementación del método de Newton-Raphson en Python**                   | Escribe correctamente el script con las variables simbólicas, la derivada y el algoritmo iterativo. Explica cada paso en voz o texto.  Sin leer y con la cara del estudiante en el video.                                 | **25 pts**  | 🔹 **Excelente (25):** Código funcional, bien comentado, explica fórmula y proceso.<br>🔹 **Bueno (18):** Código funcional, pero con escasa explicación.<br>🔹 **Básico (12):** Código con errores menores o sin comentarios.<br>🔹 **Insuficiente (5):** Código incorrecto o copiado sin comprensión.                   |\n",
    "| **5. Creación y visualización del DataFrame (xₙ, f(xₙ), f’(xₙ), xₙ₊₁, error)** | Muestra en pantalla el DataFrame con los valores iterativos generados por el método, usando pandas.                                                                           | **20 pts**  | 🔹 **Excelente (20):** DataFrame bien estructurado con todas las columnas solicitadas.<br>🔹 **Bueno (15):** DataFrame incompleto o sin nombres claros.<br>🔹 **Básico (10):** Muestra listas o salidas parciales, sin DataFrame.<br>🔹 **Insuficiente (5):** No muestra resultados organizados.                         |\n",
    "| **6. Interpretación y reflexión final**                                        | Interpreta los resultados obtenidos (número de iteraciones, precisión, error) y comenta sobre la convergencia del método.                                                     | **10 pts**  | 🔹 **Excelente (10):** Explica la convergencia y analiza el error.<br>🔹 **Bueno (7):** Menciona los resultados sin análisis.<br>🔹 **Básico (4):** Describe resultados sin interpretación.<br>🔹 **Insuficiente (1):** No analiza los resultados.                                                                       |\n",
    "| **7. Claridad, expresión oral y edición del video**                            | El video tiene buena calidad de imagen, voz clara, lenguaje matemático correcto, orden lógico y duración adecuada (5-8 minutos).                                              | **10 pts**  | 🔹 **Excelente (10):** Presentación fluida, bien organizada y con lenguaje matemático preciso.<br>🔹 **Bueno (7):** Presentación comprensible con algunos errores menores.<br>🔹 **Básico (4):** Presentación desordenada o con poca claridad.<br>🔹 **Insuficiente (1):** Difícil de entender o incompleto.             |\n",
    "\n",
    "---\n"
   ]
  },
  {
   "cell_type": "markdown",
   "id": "4050939b",
   "metadata": {},
   "source": [
    "\n",
    "### **Sugerencias técnicas para el estudiante**\n",
    "\n",
    "* Usar **SymPy** para calcular derivadas simbólicas.\n",
    "* Usar **Matplotlib** para graficar la función cerca del cero.\n",
    "* Usar **pandas** para construir el DataFrame de iteraciones.\n",
    "* Incluir el comando de ejecución:\n",
    "\n",
    "  ```bash\n",
    "  python newton.py\n",
    "  ```\n"
   ]
  },
  {
   "cell_type": "markdown",
   "id": "945161b0",
   "metadata": {},
   "source": [
    "\n",
    "  o bien mostrar la ejecución dentro de **VSCode (Run Python File)**.\n",
    "* Grabar con OBS, Loom o el grabador de pantalla de Windows.\n",
    "\n",
    "---\n"
   ]
  },
  {
   "cell_type": "markdown",
   "id": "fc6a7e32",
   "metadata": {},
   "source": [
    "\n",
    "### 🧠 **Nivel esperado de aprendizaje (Taxonomía de Bloom)**\n",
    "\n",
    "* **Comprender**: explicar el método y su lógica.\n",
    "* **Aplicar**: implementar el método con Python.\n",
    "* **Analizar**: observar la convergencia y el error.\n",
    "* **Crear**: producir un video didáctico propio.\n",
    "\n",
    "---\n"
   ]
  },
  {
   "cell_type": "markdown",
   "id": "b425b95f",
   "metadata": {},
   "source": [
    "## **Ejemplo de argumento de solución: Implementación del método de Newton-Raphson en Python**\n"
   ]
  },
  {
   "cell_type": "markdown",
   "id": "ac8b3f08",
   "metadata": {},
   "source": [
    "\n",
    "### 🧩 **1. Introducción y propósito del video (explicación oral)**\n",
    "\n",
    "“Hola, soy el profesor Marco Julio, y en este video voy a mostrarles cómo implementar el método de Newton-Raphson en Python para encontrar una raíz de una función.\n",
    ">\n",
    "> El método de Newton es un procedimiento iterativo que nos permite aproximar los ceros de una función $f(x)$ usando la fórmula:\n",
    "> $$\n",
    "> x_{n+1} = x_n - \\frac{f(x_n)}{f'(x_n)}\n",
    "> $$\n",
    ">\n"
   ]
  },
  {
   "cell_type": "markdown",
   "id": "db57b32f",
   "metadata": {},
   "source": [
    "> Lo aplicaremos a una función sencilla, por ejemplo:\n",
    "> $$\n",
    "> f(x) = x^3 - x - 2\n",
    "> $$\n",
    "> Esta función tiene un cero real cerca de $x = 1.5$.\n"
   ]
  },
  {
   "cell_type": "markdown",
   "id": "50b245cd",
   "metadata": {},
   "source": [
    "> Nuestro objetivo será:\n",
    ">\n",
    "> 1. Graficar la función cerca del cero, para aproximar el cero de manera visual (x0). \n",
    "> 2. Implementar el método, y\n",
    "> 3. Mostrar los resultados iterativos en un DataFrame.”\n",
    "\n",
    "---\n"
   ]
  },
  {
   "cell_type": "markdown",
   "id": "4468b810",
   "metadata": {},
   "source": [
    "\n",
    "### ⚙️ **2. Ejecución desde VSCode o PowerShell**\n",
    "\n",
    "> “Estoy trabajando en Windows, y abrí VSCode como administrador.\n",
    "> Tengo mi archivo `newton.py` guardado en el escritorio.\n",
    "> Puedo ejecutar el código desde la terminal integrada o desde PowerShell escribiendo:\n",
    ">\n",
    "> ```bash\n",
    "> python newton.py\n",
    "> ```\n",
    ">\n",
    "> Veamos el código paso a paso…”\n",
    "\n",
    "---\n"
   ]
  },
  {
   "cell_type": "markdown",
   "id": "2dc91607",
   "metadata": {},
   "source": [
    "\n",
    "### 💻 **3. Explicación y desarrollo del código en Python**\n",
    "\n",
    "(El profesor puede mostrar la pantalla de VSCode con este código y explicar línea por línea)\n",
    "\n",
    "\n"
   ]
  },
  {
   "cell_type": "code",
   "execution_count": 15,
   "id": "be829cf3",
   "metadata": {},
   "outputs": [],
   "source": [
    "import sympy as sp                # librería del cálculo simbólico \n",
    "import pandas as pd               # tabla de datos de las aproximaciones al cero \n",
    "import matplotlib.pyplot as plt   # graficar la función para obtener la primera aproximación al cero. \n"
   ]
  },
  {
   "cell_type": "code",
   "execution_count": 19,
   "id": "9a584b15",
   "metadata": {},
   "outputs": [
    {
     "data": {
      "application/vnd.microsoft.datawrangler.viewer.v0+json": {
       "columns": [
        {
         "name": "index",
         "rawType": "int64",
         "type": "integer"
        },
        {
         "name": "Iteración",
         "rawType": "int64",
         "type": "integer"
        },
        {
         "name": "x_n",
         "rawType": "float64",
         "type": "float"
        },
        {
         "name": "f(x_n)",
         "rawType": "float64",
         "type": "float"
        },
        {
         "name": "f'(x_n)",
         "rawType": "float64",
         "type": "float"
        },
        {
         "name": "x_{n+1}",
         "rawType": "float64",
         "type": "float"
        },
        {
         "name": "Error |x_{n+1}-x_n|",
         "rawType": "float64",
         "type": "float"
        }
       ],
       "ref": "03bb2972-b61d-4f13-8680-531faf117d7b",
       "rows": [
        [
         "0",
         "1",
         "0.0",
         "1.0",
         "2.0",
         "-0.5",
         "0.5"
        ],
        [
         "1",
         "2",
         "-0.5",
         "0.10653065971263342",
         "1.6065306597126334",
         "-0.5663110031972182",
         "0.06631100319721817"
        ],
        [
         "2",
         "3",
         "-0.5663110031972182",
         "0.0013045098060200377",
         "1.567615513003238",
         "-0.5671431650348622",
         "0.0008321618376440076"
        ],
        [
         "3",
         "4",
         "-0.5671431650348622",
         "1.964804717813351e-07",
         "1.5671433615153338",
         "-0.5671432904097811",
         "1.2537491889119678e-07"
        ],
        [
         "4",
         "5",
         "-0.5671432904097811",
         "4.440892098500626e-15",
         "1.5671432904097855",
         "-0.567143290409784",
         "2.886579864025407e-15"
        ],
        [
         "5",
         "6",
         "-0.567143290409784",
         "-1.1102230246251565e-16",
         "1.567143290409784",
         "-0.5671432904097838",
         "1.1102230246251565e-16"
        ],
        [
         "6",
         "7",
         "-0.5671432904097838",
         "0.0",
         "1.567143290409784",
         "-0.5671432904097838",
         "0.0"
        ]
       ],
       "shape": {
        "columns": 6,
        "rows": 7
       }
      },
      "text/html": [
       "<div>\n",
       "<style scoped>\n",
       "    .dataframe tbody tr th:only-of-type {\n",
       "        vertical-align: middle;\n",
       "    }\n",
       "\n",
       "    .dataframe tbody tr th {\n",
       "        vertical-align: top;\n",
       "    }\n",
       "\n",
       "    .dataframe thead th {\n",
       "        text-align: right;\n",
       "    }\n",
       "</style>\n",
       "<table border=\"1\" class=\"dataframe\">\n",
       "  <thead>\n",
       "    <tr style=\"text-align: right;\">\n",
       "      <th></th>\n",
       "      <th>Iteración</th>\n",
       "      <th>x_n</th>\n",
       "      <th>f(x_n)</th>\n",
       "      <th>f'(x_n)</th>\n",
       "      <th>x_{n+1}</th>\n",
       "      <th>Error |x_{n+1}-x_n|</th>\n",
       "    </tr>\n",
       "  </thead>\n",
       "  <tbody>\n",
       "    <tr>\n",
       "      <th>0</th>\n",
       "      <td>1</td>\n",
       "      <td>0.000000</td>\n",
       "      <td>1.000000e+00</td>\n",
       "      <td>2.000000</td>\n",
       "      <td>-0.500000</td>\n",
       "      <td>5.000000e-01</td>\n",
       "    </tr>\n",
       "    <tr>\n",
       "      <th>1</th>\n",
       "      <td>2</td>\n",
       "      <td>-0.500000</td>\n",
       "      <td>1.065307e-01</td>\n",
       "      <td>1.606531</td>\n",
       "      <td>-0.566311</td>\n",
       "      <td>6.631100e-02</td>\n",
       "    </tr>\n",
       "    <tr>\n",
       "      <th>2</th>\n",
       "      <td>3</td>\n",
       "      <td>-0.566311</td>\n",
       "      <td>1.304510e-03</td>\n",
       "      <td>1.567616</td>\n",
       "      <td>-0.567143</td>\n",
       "      <td>8.321618e-04</td>\n",
       "    </tr>\n",
       "    <tr>\n",
       "      <th>3</th>\n",
       "      <td>4</td>\n",
       "      <td>-0.567143</td>\n",
       "      <td>1.964805e-07</td>\n",
       "      <td>1.567143</td>\n",
       "      <td>-0.567143</td>\n",
       "      <td>1.253749e-07</td>\n",
       "    </tr>\n",
       "    <tr>\n",
       "      <th>4</th>\n",
       "      <td>5</td>\n",
       "      <td>-0.567143</td>\n",
       "      <td>4.440892e-15</td>\n",
       "      <td>1.567143</td>\n",
       "      <td>-0.567143</td>\n",
       "      <td>2.886580e-15</td>\n",
       "    </tr>\n",
       "    <tr>\n",
       "      <th>5</th>\n",
       "      <td>6</td>\n",
       "      <td>-0.567143</td>\n",
       "      <td>-1.110223e-16</td>\n",
       "      <td>1.567143</td>\n",
       "      <td>-0.567143</td>\n",
       "      <td>1.110223e-16</td>\n",
       "    </tr>\n",
       "    <tr>\n",
       "      <th>6</th>\n",
       "      <td>7</td>\n",
       "      <td>-0.567143</td>\n",
       "      <td>0.000000e+00</td>\n",
       "      <td>1.567143</td>\n",
       "      <td>-0.567143</td>\n",
       "      <td>0.000000e+00</td>\n",
       "    </tr>\n",
       "  </tbody>\n",
       "</table>\n",
       "</div>"
      ],
      "text/plain": [
       "   Iteración       x_n        f(x_n)   f'(x_n)   x_{n+1}  Error |x_{n+1}-x_n|\n",
       "0          1  0.000000  1.000000e+00  2.000000 -0.500000         5.000000e-01\n",
       "1          2 -0.500000  1.065307e-01  1.606531 -0.566311         6.631100e-02\n",
       "2          3 -0.566311  1.304510e-03  1.567616 -0.567143         8.321618e-04\n",
       "3          4 -0.567143  1.964805e-07  1.567143 -0.567143         1.253749e-07\n",
       "4          5 -0.567143  4.440892e-15  1.567143 -0.567143         2.886580e-15\n",
       "5          6 -0.567143 -1.110223e-16  1.567143 -0.567143         1.110223e-16\n",
       "6          7 -0.567143  0.000000e+00  1.567143 -0.567143         0.000000e+00"
      ]
     },
     "execution_count": 19,
     "metadata": {},
     "output_type": "execute_result"
    }
   ],
   "source": [
    "\n",
    "# Definición de la variable simbólica y la función\n",
    "x = sp.Symbol('x')\n",
    "f = sp.exp(x) + x    # definimos la función a la que le vamos a aproximar el cero \n",
    "\n",
    "# Derivada simbólica de la función\n",
    "f_prime = sp.diff(f, x)\n",
    "\n",
    "# Conversión a funciones numéricas\n",
    "f_num = sp.lambdify(x, f)\n",
    "f_prime_num = sp.lambdify(x, f_prime)\n",
    "\n",
    "# Parámetros iniciales\n",
    "x0 = 0              # aproximación inicial al cero que burcamos \n",
    "tolerancia = 1e-18\n",
    "max_iter = 20\n",
    "\n",
    "# Listas para almacenar resultados\n",
    "iteraciones = []\n",
    "x_n = []\n",
    "f_xn = []\n",
    "fpxn = []\n",
    "x_n1 = []\n",
    "errores = []\n",
    "\n",
    "for i in range(0, max_iter):\n",
    "    fx = f_num(x0)\n",
    "    fpx = f_prime_num(x0)\n",
    "    x1 = x0 - fx/fpx\n",
    "    error = abs(x1 - x0)\n",
    "    \n",
    "    iteraciones.append(i+1)\n",
    "    x_n.append(x0)\n",
    "    f_xn.append(fx)\n",
    "    fpxn.append(fpx)\n",
    "    x_n1.append(x1)\n",
    "    errores.append(error)\n",
    "    \n",
    "    if error < tolerancia:\n",
    "        break\n",
    "    x0 = x1\n",
    "\n",
    "# Crear un DataFrame con los resultados\n",
    "df = pd.DataFrame({\n",
    "    'Iteración': iteraciones,\n",
    "    'x_n': x_n,\n",
    "    'f(x_n)': f_xn,\n",
    "    \"f'(x_n)\": fpxn,\n",
    "    'x_{n+1}': x_n1,\n",
    "    'Error |x_{n+1}-x_n|': errores\n",
    "})\n",
    "\n",
    "# Mostrar la tabla\n",
    "df\n",
    "\n"
   ]
  },
  {
   "cell_type": "code",
   "execution_count": null,
   "id": "df78f1a7",
   "metadata": {},
   "outputs": [],
   "source": [
    "\n",
    "# Gráfica de la función\n",
    "import numpy as np\n",
    "X = np.arange(x0-3, x0+3, step = 0.01)\n",
    "Y = f_num(X)\n",
    "\n",
    "plt.plot(X, Y, label='f(x) = e^x + x')\n",
    "plt.axhline(0, color='gray', linestyle='--')\n",
    "plt.axvline(x1, color='red', linestyle='--', label=f'Raíz ≈ {x1:.4f}')\n",
    "plt.title('Método de Newton-Raphson')\n",
    "plt.xlabel('x')\n",
    "plt.xticks(np.arange(x0-3, x0+3, step = 0.5), rotation = 'vertical') # metrizar el eje horizontal \n",
    "plt.ylabel('f(x)')\n",
    "plt.legend()\n",
    "plt.grid(True)\n",
    "plt.savefig(r\"C:\\Users\\marco\\Downloads\\grafica_funcion_newton.jpg\")\n",
    "plt.show()\n"
   ]
  },
  {
   "cell_type": "markdown",
   "id": "465c080b",
   "metadata": {},
   "source": [
    "\n",
    "### 📈 **4. Visualización e interpretación**\n",
    "\n",
    "> “Aquí podemos observar que la función corta el eje x cerca de $x = 1.52$.\n",
    ">\n",
    "> En el DataFrame se muestra, para cada iteración, el valor de $x_n$, la evaluación de $f(x_n)$, la derivada, el nuevo valor $x_{n+1}$ y el error entre iteraciones.\n",
    ">\n",
    "> Vemos que el error disminuye rápidamente, lo que indica que el método converge.\n",
    ">\n",
    "> Por ejemplo, en la quinta iteración el error ya es menor que $10^{-6}$.”\n",
    "\n",
    "---\n"
   ]
  },
  {
   "cell_type": "markdown",
   "id": "1c9ebb0e",
   "metadata": {},
   "source": [
    "\n",
    "### 🧠 **5. Conclusión**\n",
    "\n",
    "> “Con este ejercicio hemos visto cómo el método de Newton-Raphson permite aproximar raíces de manera eficiente usando Python.\n",
    ">\n",
    "> En el video de ustedes, espero que:\n",
    ">\n",
    "> * Elijan una función diferente,\n",
    "> * Expliquen brevemente la teoría,\n",
    "> * Muestren la ejecución desde VSCode o PowerShell, y\n",
    "> * Presenten el DataFrame y la gráfica interpretando los resultados.\n",
    ">\n",
    "> Recuerden que la claridad y la comprensión del proceso son más importantes que la velocidad de ejecución.\n",
    ">\n",
    "> ¡Gracias por ver este ejemplo!”\n",
    "\n",
    "---\n"
   ]
  },
  {
   "cell_type": "markdown",
   "id": "47a83ec4",
   "metadata": {},
   "source": [
    "\n",
    "### 💬 **Duración sugerida del video del profesor**\n",
    "\n",
    "5 a 7 minutos, con estructura:\n",
    "\n",
    "* 1 min → Introducción teórica\n",
    "* 3 min → Explicación del código\n",
    "* 1 min → Resultados y análisis\n",
    "* 1 min → Cierre y recomendaciones\n",
    "\n",
    "---\n"
   ]
  },
  {
   "cell_type": "markdown",
   "id": "81609cd1",
   "metadata": {},
   "source": [
    "\n"
   ]
  }
 ],
 "metadata": {
  "kernelspec": {
   "display_name": ".venv",
   "language": "python",
   "name": "python3"
  },
  "language_info": {
   "codemirror_mode": {
    "name": "ipython",
    "version": 3
   },
   "file_extension": ".py",
   "mimetype": "text/x-python",
   "name": "python",
   "nbconvert_exporter": "python",
   "pygments_lexer": "ipython3",
   "version": "3.11.9"
  }
 },
 "nbformat": 4,
 "nbformat_minor": 5
}
