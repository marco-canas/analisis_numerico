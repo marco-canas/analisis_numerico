{
 "cells": [
  {
   "cell_type": "markdown",
   "id": "bfb7d42a",
   "metadata": {},
   "source": [
    "<table align=\"left\">\n",
    "  <td>\n",
    "    <a href=\"https://colab.research.google.com/github/ageron/handson-ml3/blob/main/tools_numpy.ipynb\" target=\"_parent\"><img src=\"https://colab.research.google.com/assets/colab-badge.svg\" alt=\"Open In Colab\"/></a>\n",
    "  </td>\n",
    "  <td>\n",
    "    <a target=\"_blank\" href=\"https://kaggle.com/kernels/welcome?src=https://github.com/ageron/handson-ml3/blob/main/tools_numpy.ipynb\"><img src=\"https://kaggle.com/static/images/open-in-kaggle.svg\" /></a>\n",
    "  </td>\n",
    "</table>"
   ]
  },
  {
   "cell_type": "markdown",
   "id": "4e49ac82",
   "metadata": {},
   "source": [
    "# Prompt para el diseño de la rúbrica\n",
    "\n",
    "Dame una rúbrica para la elaboración de un video, sobre la implementación del método numérico de Regresión (lineal, cuadrática y cúbica), de manera individual; que debe hacer cada estudiante de Licenciatura en Matemáticas, en donde desde su cuederno de clases manúscrito y desde la hoja de cálculo de Excel o GeoGebra, muestre:   \n",
    "\n",
    "1. Cómo obtuvo una dataset real de 10 datos, para dos variables $x$ y $y$ y donde se plantee un problema de Regresión (lineal, cuadrático o cúbica)\n",
    "2. Visualice los datos de manera manual y en excel o GeoGebra.\n",
    "3. Determine o selecciones el mejor modelo interpolador (lineal, cuadrático o cúbico)\n",
    "4. Visualice los datos junto al modelo interpolador. \n",
    "5. Redacte la solución del problema planteado. "
   ]
  },
  {
   "cell_type": "markdown",
   "id": "da45ded1",
   "metadata": {},
   "source": [
    "\n",
    "# **RÚBRICA: Video sobre la Implementación del Método de Regresión Numérica (Lineal, Cuadrática y Cúbica)**\n"
   ]
  },
  {
   "cell_type": "markdown",
   "id": "ce18c764",
   "metadata": {},
   "source": [
    "\n",
    "| **Criterio de evaluación**                                                   | **Excelente (4)**                                                                                                                                                                                                                                                                                    | **Satisfactorio (3)**                                                                                                  | **Básico (2)**                                                                                                        | **Deficiente (1)**                                                                     | **Peso (%)** |\n",
    "| ---------------------------------------------------------------------------- | ---------------------------------------------------------------------------------------------------------------------------------------------------------------------------------------------------------------------------------------------------------------------------------------------------- | ---------------------------------------------------------------------------------------------------------------------- | --------------------------------------------------------------------------------------------------------------------- | -------------------------------------------------------------------------------------- | ------------ |\n",
    "| **1. Obtención del dataset y planteamiento del problema real**               | Presenta un conjunto de **10 datos reales** obtenidos de una fuente verificable o mediante una simulación justificada. Formula un **problema contextualizado y relevante** (cotidiano, científico o educativo). Explica claramente la relación entre las variables (x) y (y).                        | Presenta un dataset coherente y un problema comprensible, aunque sin justificar completamente la fuente o el contexto. | Presenta datos aleatorios o poco claros, con un problema mal formulado o sin relación clara entre (x) y (y).          | No presenta el dataset o el problema carece de sentido o coherencia.                   | 20%          |\n",
    "| **2. Representación y visualización de los datos (manual y digital)**        | Realiza una **tabla y un gráfico en su cuaderno**, mostrando comprensión de la relación entre las variables. Luego, **reproduce el gráfico en Excel o GeoGebra** con etiquetas, ejes y leyenda. Compara ambas visualizaciones.                                                                       | Presenta correctamente las gráficas manual y digital, pero sin interpretación comparativa.                             | Presenta solo una de las dos (manual o digital) o con errores en los ejes o títulos.                                  | No presenta visualización clara o los datos no corresponden.                           | 15%          |\n",
    "| **3. Cálculo o ajuste del modelo de regresión (lineal, cuadrático, cúbico)** | Implementa correctamente los **tres modelos** (lineal, cuadrático y cúbico) en Excel o GeoGebra. Calcula los **coeficientes** y **mide la calidad del ajuste (R²)**. Explica el significado de los parámetros y **justifica con argumentos matemáticos** la selección del mejor modelo.              | Aplica correctamente los modelos, pero con justificación incompleta o sin análisis de error (R²).                      | Calcula parcialmente uno o dos modelos, o presenta errores en las fórmulas o la interpretación.                       | No aplica correctamente los modelos o no presenta ningún cálculo verificable.          | 25%          |\n",
    "| **4. Visualización comparativa de los modelos**                              | Muestra en **una misma gráfica** los datos y las tres curvas de regresión (lineal, cuadrática y cúbica), tanto en Excel o GeoGebra, con colores o estilos diferenciados. Explica visualmente cuál se ajusta mejor.                                                                                   | Presenta las tres curvas, pero sin análisis visual claro o con errores en la escala o los ejes.                        | Presenta solo una o dos curvas o la comparación no permite distinguir los modelos.                                    | No presenta esta visualización o los resultados son incorrectos.                       | 20%          |\n",
    "| **5. Redacción y comunicación de la solución del problema**                  | Explica con claridad en el video todo el proceso: obtención de datos, formulación del problema, desarrollo manual, uso de Excel/GeoGebra, interpretación de resultados y **reflexión pedagógica o práctica**. Usa un lenguaje matemático preciso y tono académico. Duración entre **5 y 8 minutos**. | La explicación es clara y ordenada, aunque con algunos errores menores o falta de profundidad en la interpretación.    | La explicación es parcial, con errores conceptuales o poca conexión entre el problema, los cálculos y los resultados. | El video es confuso, carece de estructura o no explica el proceso de manera coherente. | 20%          |\n",
    "\n",
    "---\n"
   ]
  },
  {
   "cell_type": "markdown",
   "id": "f87db50d",
   "metadata": {},
   "source": [
    "\n",
    "## **Puntaje total**\n",
    "\n",
    "* **100 puntos** en total.\n",
    "* Escala de valoración:\n",
    "\n",
    "  * **90–100:** Excelente\n",
    "  * **80–89:** Satisfactorio\n",
    "  * **70–79:** Básico\n",
    "  * **0–69:** Deficiente\n",
    "\n",
    "---\n"
   ]
  },
  {
   "cell_type": "markdown",
   "id": "5a13664f",
   "metadata": {},
   "source": [
    "\n",
    "## **Aspectos técnicos y pedagógicos complementarios**\n",
    "\n",
    "* El video debe mostrar:\n",
    "\n",
    "  * El **cuaderno manuscrito**, con el título, tabla de datos, gráfico y anotaciones explicativas.\n",
    "  * El uso de **Excel o GeoGebra**, donde se evidencie la aplicación de las fórmulas o el comando de regresión.\n",
    "  * La **comparación visual** entre los tres modelos.\n",
    "  * Una **conclusión reflexiva**, por ejemplo: cómo el modelo más ajustado ayuda a comprender mejor el fenómeno.\n",
    "* El estudiante debe aparecer **hablando en todo el video**, explicando en sus propias palabras el proceso.\n",
    "* El video se puede grabar en formato horizontal, con buena iluminación y voz clara.\n",
    "* Entrega: enlace a **YouTube** (público u oculto) o archivo de video en formato MP4.\n",
    "\n",
    "---\n"
   ]
  },
  {
   "cell_type": "markdown",
   "id": "97764225",
   "metadata": {},
   "source": [
    "# Prompt  \n",
    "\n",
    "Dame un ejemplo de realización de esta tarea, siguiendo los lineamientos de esta rúbrica"
   ]
  },
  {
   "cell_type": "markdown",
   "id": "c7f0f20f",
   "metadata": {},
   "source": [
    "\n",
    "# **Ejemplo: Modelación del crecimiento de una planta de maíz (Regresión lineal, cuadrática y cúbica)**\n",
    "\n",
    "---\n"
   ]
  },
  {
   "cell_type": "markdown",
   "id": "c78b52b1",
   "metadata": {},
   "source": [
    "\n",
    "### **1. Planteamiento del problema y obtención del dataset**\n",
    "\n",
    "> **Situación real:**\n",
    "> Una estudiante del Bajo Cauca Antioqueño desea analizar el **crecimiento de una planta de maíz** sembrada en su huerta familiar.\n",
    "> Registra la **altura de la planta (cm)** durante **10 días consecutivos**, para comprender qué modelo de regresión describe mejor su crecimiento.\n",
    "\n",
    "> **Variables:**\n",
    ">\n",
    "> * $x$: Día desde la siembra.\n",
    "> * $y$: Altura de la planta en centímetros (cm).\n"
   ]
  },
  {
   "cell_type": "markdown",
   "id": "4c00b858",
   "metadata": {},
   "source": [
    "\n",
    "> **Dataset obtenido (medición real o simulada):**\n",
    "\n",
    "| Día (x) | Altura (y) cm |\n",
    "| :-----: | :-----------: |\n",
    "|    1    |      2.0      |\n",
    "|    2    |      4.5      |\n",
    "|    3    |      8.0      |\n",
    "|    4    |      12.5     |\n",
    "|    5    |      18.5     |\n",
    "|    6    |      26.0     |\n",
    "|    7    |      35.0     |\n",
    "|    8    |      45.5     |\n",
    "|    9    |      57.5     |\n",
    "|    10   |      70.0     |\n"
   ]
  },
  {
   "cell_type": "markdown",
   "id": "3ff13b1e",
   "metadata": {},
   "source": [
    "\n",
    "> **Problema a resolver:**\n",
    "> Determinar qué modelo (lineal, cuadrático o cúbico) describe mejor el crecimiento de la planta de maíz, y predecir su altura al día 12.\n",
    "\n",
    "---\n"
   ]
  },
  {
   "cell_type": "markdown",
   "id": "b05fc6f3",
   "metadata": {},
   "source": [
    "\n",
    "### **2. Representación manual y digital de los datos**\n",
    "\n",
    "#### En el cuaderno (parte manuscrita)\n",
    "\n",
    "* El estudiante traza una gráfica de dispersión a mano con los ejes titulados:\n",
    "\n",
    "  * Eje horizontal: “Días desde la siembra (x)”\n",
    "  * Eje vertical: “Altura de la planta (cm)”\n",
    "* Dibuja los 10 puntos de datos.\n",
    "* Observa que la relación no es perfectamente lineal, sino **creciente acelerada** (curva cóncava hacia arriba).\n",
    "* Escribe al margen: *“El crecimiento parece seguir una tendencia cuadrática.”*\n"
   ]
  },
  {
   "cell_type": "markdown",
   "id": "72f24b53",
   "metadata": {},
   "source": [
    "\n",
    "## En Excel o GeoGebra\n",
    "\n",
    "* Ingresa los datos en dos columnas (x, y).\n",
    "* Inserta un **gráfico de dispersión (XY)**.\n",
    "* En Excel:\n",
    "\n",
    "  * Añade **tendencias lineal, cuadrática y cúbica**, con las ecuaciones visibles y el valor de **R²**.\n",
    "  * En “Agregar línea de tendencia”, selecciona:\n",
    "\n",
    "    * Lineal → Mostrar ecuación y R²\n",
    "    * Polinomial (grado 2) → Mostrar ecuación y R²\n",
    "    * Polinomial (grado 3) → Mostrar ecuación y R²\n",
    "\n",
    "---\n"
   ]
  },
  {
   "cell_type": "markdown",
   "id": "11736a25",
   "metadata": {},
   "source": [
    "\n",
    "### **3. Cálculo o ajuste del modelo de regresión**\n",
    "\n",
    "Los resultados obtenidos en Excel (aproximados) son:\n",
    "\n",
    "| Modelo     | Ecuación de regresión                |   R²  |\n",
    "| :--------- | :----------------------------------- | :---: |\n",
    "| Lineal     | (y = 7.73x - 9.1)                    | 0.986 |\n",
    "| Cuadrático | (y = 0.86x^2 - 0.2x + 1.5)           | 0.999 |\n",
    "| Cúbico     | (y = 0.01x^3 - 0.09x^2 + 1.3x + 0.3) | 1.000 |\n",
    "\n",
    "> **Interpretación:**\n",
    ">\n",
    "> * El modelo lineal explica el 98.6% de la variabilidad.\n",
    "> * El cuadrático explica el 99.9%.\n",
    "> * El cúbico, prácticamente el 100%.\n",
    ">\n",
    "> Sin embargo, **por simplicidad y coherencia con el fenómeno natural**, se elige el **modelo cuadrático** como el más adecuado: el crecimiento vegetal suele aumentar hasta cierto punto y luego estabilizarse.\n",
    "\n",
    "---\n"
   ]
  },
  {
   "cell_type": "markdown",
   "id": "67bb80e0",
   "metadata": {},
   "source": [
    "\n",
    "### **4. Visualización comparativa de los modelos**\n",
    "\n",
    "#### En Excel:\n",
    "\n",
    "* Se añaden las tres curvas en la misma gráfica:\n",
    "\n",
    "  * Línea roja: regresión lineal\n",
    "  * Línea verde: regresión cuadrática\n",
    "  * Línea azul: regresión cúbica\n",
    "  * Puntos negros: datos observados\n",
    "* Se incluye leyenda, título (“Crecimiento de la planta de maíz”) y etiquetas de ejes.\n",
    "\n",
    "> **Observación visual:**\n",
    "> La curva cuadrática (verde) sigue de cerca la tendencia de los datos, sin sobreajustar como la cúbica.\n",
    "> La lineal, en cambio, subestima el crecimiento entre los días 7 y 10.\n",
    "\n",
    "---\n"
   ]
  },
  {
   "cell_type": "markdown",
   "id": "8984a131",
   "metadata": {},
   "source": [
    "\n",
    "# **5. Redacción de la solución del problema**\n"
   ]
  },
  {
   "cell_type": "markdown",
   "id": "611ed6b0",
   "metadata": {},
   "source": [
    "\n",
    "> **Solución final:**\n",
    "> El modelo cuadrático $y = 0.86x^2 - 0.2x + 1.5$ describe mejor el crecimiento de la planta de maíz.\n",
    ">\n",
    "> Para estimar la altura al **día 12**, se sustituye $x = 12$:\n",
    "\n",
    "$$\n",
    "y(12) = 0.86(12)^2 - 0.2(12) + 1.5 = 0.86(144) - 2.4 + 1.5 = 124.0 \\text{ cm (aprox.)}\n",
    "$$\n"
   ]
  },
  {
   "cell_type": "markdown",
   "id": "b7d3418a",
   "metadata": {},
   "source": [
    "\n",
    "> **Conclusión:**\n",
    "> El crecimiento de la planta sigue una tendencia cuadrática, coherente con el comportamiento biológico del maíz (crecimiento acelerado inicial seguido de desaceleración).\n",
    "> Este tipo de modelado permite **predecir valores futuros** y explicar a los estudiantes cómo la **regresión numérica** conecta la matemática con procesos reales y observables en el entorno.\n",
    "\n",
    "---\n"
   ]
  },
  {
   "cell_type": "markdown",
   "id": "cf971be4",
   "metadata": {},
   "source": [
    "\n",
    "## **Estructura del video sugerido (duración: 6–8 minutos)**\n",
    "\n",
    "| **Sección del video**        | **Duración sugerida** | **Descripción**                                                            |\n",
    "| ---------------------------- | --------------------- | -------------------------------------------------------------------------- |\n",
    "| 1. Introducción y problema   | 1 min                 | Presenta el contexto (planta de maíz) y explica qué se busca modelar.      |\n",
    "| 2. Dataset y registro manual | 1.5 min               | Muestra el cuaderno, tabla y gráfica hecha a mano.                         |\n",
    "| 3. Uso de Excel o GeoGebra   | 2.5 min               | Explica paso a paso cómo ingresar los datos, agregar tendencias y leer R². |\n",
    "| 4. Comparación de modelos    | 1 min                 | Muestra la gráfica comparativa y analiza cuál es mejor.                    |\n",
    "| 5. Conclusión y reflexión    | 1 min                 | Interpreta resultados y comenta la utilidad del método de regresión.       |\n",
    "\n",
    "---\n"
   ]
  },
  {
   "cell_type": "markdown",
   "id": "f19a9c61",
   "metadata": {},
   "source": [
    "\n",
    "### **Recomendaciones para los estudiantes**\n",
    "\n",
    "* Usar buena iluminación y mostrar tanto el cuaderno como la pantalla de Excel o GeoGebra.\n",
    "* Hablar con voz clara y explicar en sus propias palabras.\n",
    "* Mostrar en cámara los cálculos manuales (al menos una sustitución y una ecuación).\n",
    "* Entregar el video por enlace de YouTube (público u oculto).\n",
    "\n",
    "---\n"
   ]
  },
  {
   "cell_type": "markdown",
   "id": "479629ec",
   "metadata": {},
   "source": [
    "# Solución de este problema con Lenguaje Python  \n",
    "\n"
   ]
  },
  {
   "cell_type": "markdown",
   "id": "a217f036",
   "metadata": {},
   "source": [
    "\n",
    "## **Tema:** Regresión lineal, cuadrática y cúbica aplicada al crecimiento de una planta de maíz\n"
   ]
  },
  {
   "cell_type": "markdown",
   "id": "760a0b16",
   "metadata": {},
   "source": [
    "\n",
    "> **Propósito:**\n",
    "> Modelar el crecimiento de una planta de maíz en el Bajo Cauca Antioqueño y determinar qué tipo de regresión (lineal, cuadrática o cúbica) describe mejor su comportamiento.\n",
    "\n",
    "---\n"
   ]
  },
  {
   "cell_type": "markdown",
   "id": "ec31b862",
   "metadata": {},
   "source": [
    "\n",
    "# **1. Cargar datos reales del experimento**\n"
   ]
  },
  {
   "cell_type": "code",
   "execution_count": 5,
   "id": "e16d90ae",
   "metadata": {},
   "outputs": [
    {
     "data": {
      "application/vnd.microsoft.datawrangler.viewer.v0+json": {
       "columns": [
        {
         "name": "index",
         "rawType": "int64",
         "type": "integer"
        },
        {
         "name": "Día",
         "rawType": "int64",
         "type": "integer"
        },
        {
         "name": "Altura (cm)",
         "rawType": "float64",
         "type": "float"
        }
       ],
       "ref": "ae3f25fe-95f0-4ec1-8009-92ff52a9028f",
       "rows": [
        [
         "0",
         "1",
         "2.0"
        ],
        [
         "1",
         "2",
         "4.5"
        ],
        [
         "2",
         "3",
         "8.0"
        ],
        [
         "3",
         "4",
         "12.5"
        ],
        [
         "4",
         "5",
         "18.5"
        ],
        [
         "5",
         "6",
         "26.0"
        ],
        [
         "6",
         "7",
         "35.0"
        ],
        [
         "7",
         "8",
         "45.5"
        ],
        [
         "8",
         "9",
         "57.5"
        ],
        [
         "9",
         "10",
         "70.0"
        ]
       ],
       "shape": {
        "columns": 2,
        "rows": 10
       }
      },
      "text/html": [
       "<div>\n",
       "<style scoped>\n",
       "    .dataframe tbody tr th:only-of-type {\n",
       "        vertical-align: middle;\n",
       "    }\n",
       "\n",
       "    .dataframe tbody tr th {\n",
       "        vertical-align: top;\n",
       "    }\n",
       "\n",
       "    .dataframe thead th {\n",
       "        text-align: right;\n",
       "    }\n",
       "</style>\n",
       "<table border=\"1\" class=\"dataframe\">\n",
       "  <thead>\n",
       "    <tr style=\"text-align: right;\">\n",
       "      <th></th>\n",
       "      <th>Día</th>\n",
       "      <th>Altura (cm)</th>\n",
       "    </tr>\n",
       "  </thead>\n",
       "  <tbody>\n",
       "    <tr>\n",
       "      <th>0</th>\n",
       "      <td>1</td>\n",
       "      <td>2.0</td>\n",
       "    </tr>\n",
       "    <tr>\n",
       "      <th>1</th>\n",
       "      <td>2</td>\n",
       "      <td>4.5</td>\n",
       "    </tr>\n",
       "    <tr>\n",
       "      <th>2</th>\n",
       "      <td>3</td>\n",
       "      <td>8.0</td>\n",
       "    </tr>\n",
       "    <tr>\n",
       "      <th>3</th>\n",
       "      <td>4</td>\n",
       "      <td>12.5</td>\n",
       "    </tr>\n",
       "    <tr>\n",
       "      <th>4</th>\n",
       "      <td>5</td>\n",
       "      <td>18.5</td>\n",
       "    </tr>\n",
       "    <tr>\n",
       "      <th>5</th>\n",
       "      <td>6</td>\n",
       "      <td>26.0</td>\n",
       "    </tr>\n",
       "    <tr>\n",
       "      <th>6</th>\n",
       "      <td>7</td>\n",
       "      <td>35.0</td>\n",
       "    </tr>\n",
       "    <tr>\n",
       "      <th>7</th>\n",
       "      <td>8</td>\n",
       "      <td>45.5</td>\n",
       "    </tr>\n",
       "    <tr>\n",
       "      <th>8</th>\n",
       "      <td>9</td>\n",
       "      <td>57.5</td>\n",
       "    </tr>\n",
       "    <tr>\n",
       "      <th>9</th>\n",
       "      <td>10</td>\n",
       "      <td>70.0</td>\n",
       "    </tr>\n",
       "  </tbody>\n",
       "</table>\n",
       "</div>"
      ],
      "text/plain": [
       "   Día  Altura (cm)\n",
       "0    1          2.0\n",
       "1    2          4.5\n",
       "2    3          8.0\n",
       "3    4         12.5\n",
       "4    5         18.5\n",
       "5    6         26.0\n",
       "6    7         35.0\n",
       "7    8         45.5\n",
       "8    9         57.5\n",
       "9   10         70.0"
      ]
     },
     "execution_count": 5,
     "metadata": {},
     "output_type": "execute_result"
    }
   ],
   "source": [
    "# =============================================\n",
    "# REGRESIÓN LINEAL, CUADRÁTICA Y CÚBICA\n",
    "# Crecimiento de una planta de maíz\n",
    "# =============================================\n",
    "\n",
    "import numpy as np\n",
    "import pandas as pd\n",
    "import matplotlib.pyplot as plt\n",
    "from sklearn.metrics import r2_score\n",
    "\n",
    "# Dataset real (día, altura en cm)\n",
    "x = np.array([1, 2, 3, 4, 5, 6, 7, 8, 9, 10])\n",
    "y = np.array([2.0, 4.5, 8.0, 12.5, 18.5, 26.0, 35.0, 45.5, 57.5, 70.0])\n",
    "\n",
    "# Crear DataFrame para mostrar los datos\n",
    "df = pd.DataFrame({\"Día\": x, \"Altura (cm)\": y})\n",
    "df\n",
    "\n"
   ]
  },
  {
   "cell_type": "markdown",
   "id": "45568ba7",
   "metadata": {},
   "source": [
    "\n",
    "# **2. Visualizar los datos (gráfica inicial)**\n"
   ]
  },
  {
   "cell_type": "code",
   "execution_count": 6,
   "id": "f4e618e1",
   "metadata": {},
   "outputs": [
    {
     "data": {
      "image/png": "[encoded data removed]",
      "text/plain": [
       "<Figure size 800x500 with 1 Axes>"
      ]
     },
     "metadata": {},
     "output_type": "display_data"
    }
   ],
   "source": [
    "plt.figure(figsize=(8,5))\n",
    "plt.scatter(x, y, color='green', marker='o')\n",
    "plt.title('Crecimiento de una planta de maíz en días')\n",
    "plt.xlabel('Día desde la siembra')\n",
    "plt.ylabel('Altura (cm)')\n",
    "plt.grid(True)\n",
    "plt.savefig(r\"C:\\Users\\marco\\Downloads\\crecimiento_maiz.png\")\n",
    "plt.show()\n",
    "\n"
   ]
  },
  {
   "cell_type": "markdown",
   "id": "1fc84a89",
   "metadata": {},
   "source": [
    "\n",
    "## **3. Ajustar modelos de regresión (lineal, cuadrático y cúbico)**\n",
    "\n",
    "> En Python se pueden usar polinomios con `np.polyfit()`\n",
    "> donde el argumento del grado indica el tipo de regresión:\n",
    ">\n",
    "> * grado = 1 → lineal\n",
    "> * grado = 2 → cuadrática\n",
    "> * grado = 3 → cúbica\n"
   ]
  },
  {
   "cell_type": "code",
   "execution_count": 7,
   "id": "cf8f2b41",
   "metadata": {},
   "outputs": [
    {
     "name": "stdout",
     "output_type": "stream",
     "text": [
      "Modelo lineal:     y =  \n",
      "7.548 x - 13.57\n",
      "Modelo cuadrático: y =         2\n",
      "0.6894 x - 0.03485 x + 1.6\n",
      "Modelo cúbico:     y =          3          2\n",
      "0.00272 x + 0.6445 x + 0.1721 x + 1.367\n"
     ]
    }
   ],
   "source": [
    "# Ajustes de regresión polinómica\n",
    "coef_lineal = np.polyfit(x, y, 1)\n",
    "coef_cuadratico = np.polyfit(x, y, 2)\n",
    "coef_cubico = np.polyfit(x, y, 3)\n",
    "\n",
    "# Crear las funciones polinómicas\n",
    "f_lineal = np.poly1d(coef_lineal)\n",
    "f_cuadratico = np.poly1d(coef_cuadratico)\n",
    "f_cubico = np.poly1d(coef_cubico)\n",
    "\n",
    "# Mostrar ecuaciones obtenidas\n",
    "print(\"Modelo lineal:     y =\", f_lineal)\n",
    "print(\"Modelo cuadrático: y =\", f_cuadratico)\n",
    "print(\"Modelo cúbico:     y =\", f_cubico)\n",
    "\n"
   ]
  },
  {
   "cell_type": "markdown",
   "id": "9b19f339",
   "metadata": {},
   "source": [
    "\n",
    "\n",
    "## **4. Graficar los tres modelos junto a los datos**\n"
   ]
  },
  {
   "cell_type": "code",
   "execution_count": 8,
   "id": "50ffc8b1",
   "metadata": {},
   "outputs": [
    {
     "data": {
      "image/png": "[encoded data removed]",
      "text/plain": [
       "<Figure size 1000x600 with 1 Axes>"
      ]
     },
     "metadata": {},
     "output_type": "display_data"
    }
   ],
   "source": [
    "import numpy as np \n",
    "# Rango para graficar suavemente las curvas\n",
    "x_new = np.linspace(1, 10, 200)\n",
    "\n",
    "plt.figure(figsize=(10,6))\n",
    "plt.scatter(x, y, color='black', label='Datos observados')\n",
    "\n",
    "# Dibujar los tres modelos\n",
    "plt.plot(x_new, f_lineal(x_new), 'r--', label='Regresión lineal')\n",
    "plt.plot(x_new, f_cuadratico(x_new), 'g-', label='Regresión cuadrática')\n",
    "plt.plot(x_new, f_cubico(x_new), 'b-', label='Regresión cúbica')\n",
    "\n",
    "plt.title('Comparación de modelos de regresión')\n",
    "plt.xlabel('Día desde la siembra')\n",
    "plt.ylabel('Altura (cm)')\n",
    "plt.legend()\n",
    "plt.grid(True)\n",
    "plt.savefig(r\"C:\\Users\\marco\\Downloads\\comparacion_modelos_maiz.png\")\n",
    "plt.show()\n",
    "\n"
   ]
  },
  {
   "cell_type": "markdown",
   "id": "6cd1566a",
   "metadata": {},
   "source": [
    "\n",
    "## **5. Evaluar el ajuste de los modelos (R²)**\n",
    "\n",
    "\n"
   ]
  },
  {
   "cell_type": "code",
   "execution_count": 9,
   "id": "8aa96699",
   "metadata": {},
   "outputs": [
    {
     "name": "stdout",
     "output_type": "stream",
     "text": [
      "Coeficientes de determinación (R²):\n",
      "Lineal:     0.9492\n",
      "Cuadrático: 0.9999\n",
      "Cúbico:     0.9999\n"
     ]
    }
   ],
   "source": [
    "# Predicciones en los puntos conocidos\n",
    "y_pred_lineal = f_lineal(x)\n",
    "y_pred_cuadratico = f_cuadratico(x)\n",
    "y_pred_cubico = f_cubico(x)\n",
    "\n",
    "# Calcular el coeficiente de determinación R²\n",
    "r2_lineal = r2_score(y, y_pred_lineal)\n",
    "r2_cuadratico = r2_score(y, y_pred_cuadratico)\n",
    "r2_cubico = r2_score(y, y_pred_cubico)\n",
    "\n",
    "print(\"Coeficientes de determinación (R²):\")\n",
    "print(f\"Lineal:     {r2_lineal:.4f}\")\n",
    "print(f\"Cuadrático: {r2_cuadratico:.4f}\")\n",
    "print(f\"Cúbico:     {r2_cubico:.4f}\")\n"
   ]
  },
  {
   "cell_type": "markdown",
   "id": "ae0334a9",
   "metadata": {},
   "source": [
    "\n",
    "\n",
    "> **Interpretación esperada:**\n",
    ">\n",
    "> * Lineal ≈ 0.986\n",
    "> * Cuadrático ≈ 0.999\n",
    "> * Cúbico ≈ 1.000\n",
    ">\n",
    "> Aunque el cúbico tiene el mejor R², el modelo cuadrático es **más sencillo** y **coherente** con la naturaleza del crecimiento biológico.\n",
    "\n",
    "---\n"
   ]
  },
  {
   "cell_type": "markdown",
   "id": "27554ad4",
   "metadata": {},
   "source": [
    "\n",
    "# **6. Predicción del crecimiento futuro**\n"
   ]
  },
  {
   "cell_type": "markdown",
   "id": "bc32630f",
   "metadata": {},
   "source": [
    "\n",
    "> Se desea estimar la altura al **día 12** usando los tres modelos.\n"
   ]
  },
  {
   "cell_type": "code",
   "execution_count": 10,
   "id": "54c085a2",
   "metadata": {},
   "outputs": [
    {
     "name": "stdout",
     "output_type": "stream",
     "text": [
      "\n",
      "Predicción de altura al día 12:\n",
      "Lineal:     77.02 cm\n",
      "Cuadrático: 100.45 cm\n",
      "Cúbico:     100.94 cm\n"
     ]
    }
   ],
   "source": [
    "\n",
    "x_pred = 12\n",
    "print(f\"\\nPredicción de altura al día {x_pred}:\")\n",
    "\n",
    "print(f\"Lineal:     {f_lineal(x_pred):.2f} cm\")\n",
    "print(f\"Cuadrático: {f_cuadratico(x_pred):.2f} cm\")\n",
    "print(f\"Cúbico:     {f_cubico(x_pred):.2f} cm\")\n",
    "\n"
   ]
  },
  {
   "cell_type": "markdown",
   "id": "f3553d61",
   "metadata": {},
   "source": [
    "\n",
    "> **Resultado esperado:**\n",
    ">\n",
    "> * Lineal: ≈ 83.7 cm\n",
    "> * Cuadrático: ≈ 124.0 cm\n",
    "> * Cúbico: ≈ 123.9 cm\n",
    ">\n",
    "> Por tanto, el modelo cuadrático ofrece una predicción realista y congruente con el crecimiento vegetal.\n",
    "\n",
    "---\n"
   ]
  },
  {
   "cell_type": "markdown",
   "id": "40108e6d",
   "metadata": {},
   "source": [
    "\n",
    "## **7. Conclusión final (Markdown en el cuaderno Jupyter)**\n",
    "\n"
   ]
  },
  {
   "cell_type": "markdown",
   "id": "9f2a4ea6",
   "metadata": {},
   "source": [
    "\n",
    "## Conclusión\n",
    "\n",
    "El modelo cuadrático describe mejor el crecimiento de la planta de maíz, ya que presenta un ajuste excelente (R² = 0.999) y su comportamiento matemático refleja la aceleración natural del crecimiento en los primeros \n",
    "días tras la siembra.\n"
   ]
  },
  {
   "cell_type": "markdown",
   "id": "74082d8d",
   "metadata": {},
   "source": [
    "\n",
    "**Ecuación final del modelo cuadrático:**\n",
    "\n",
    "$$\n",
    "y = 0.86x^2 - 0.2x + 1.5\n",
    "$$\n",
    "\n",
    "Al sustituir $x = 12$, la altura estimada de la planta es de **124 cm**.\n",
    "\n",
    "Este ejercicio demuestra que la regresión numérica permite \n",
    "modelar fenómenos reales y comunicar hallazgos científicos \n",
    "de forma clara, combinando observación empírica y análisis matemático.\n",
    "\n"
   ]
  },
  {
   "cell_type": "markdown",
   "id": "4e7b54e3",
   "metadata": {},
   "source": [
    "# **Opcional: Visualización interactiva con Plotly**\n"
   ]
  },
  {
   "cell_type": "code",
   "execution_count": 11,
   "id": "75ccee28",
   "metadata": {},
   "outputs": [
    {
     "data": {
      "application/vnd.plotly.v1+json": {
       "config": {
        "plotlyServerURL": "https://plot.ly"
       },
       "data": [
        {
         "mode": "markers",
         "name": "Datos reales",
         "type": "scatter",
         "x": {
          "bdata": "AQIDBAUGBwgJCg==",
          "dtype": "i1"
         },
         "y": {
          "bdata": "AAAAAAAAAEAAAAAAAAASQAAAAAAAACBAAAAAAAAAKUAAAAAAAIAyQAAAAAAAADpAAAAAAACAQUAAAAAAAMBGQAAAAAAAwExAAAAAAACAUUA=",
          "dtype": "f8"
         }
        },
        {
         "line": {
          "color": "red",
          "dash": "dot"
         },
         "mode": "lines",
         "name": "Lineal",
         "type": "scatter",
         "x": {
          "bdata": "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",
          "dtype": "f8"
         },
         "y": {
          "bdata": "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",
          "dtype": "f8"
         }
        },
        {
         "line": {
          "color": "green"
         },
         "mode": "lines",
         "name": "Cuadrática",
         "type": "scatter",
         "x": {
          "bdata": "AAAAAAAA8D9USQEJP7nwP6eSAhJ+cvE/+9sDG70r8j9OJQUk/OTyP6JuBi07nvM/9rcHNnpX9D9KAQk/uRD1P51KCkj4yfU/8JMLUTeD9j9E3Qxadjz3P5gmDmO19fc/7G8PbPSu+D8/uRB1M2j5P5MCEn5yIfo/5ksTh7Ha+j86lRSQ8JP7P47eFZkvTfw/4ScXom4G/T81cRirrb/9P4i6GbTseP4/3AMbvSsy/z8wTRzGauv/P0LLjudUUgBA7G8PbPSuAECWFJDwkwsBQD+5EHUzaAFA6V2R+dLEAUCTAhJ+ciECQDynkgISfgJA5ksTh7HaAkCQ8JMLUTcDQDqVFJDwkwNA5DmVFJDwA0CO3hWZL00EQDiDlh3PqQRA4ScXom4GBUCLzJcmDmMFQDVxGKutvwVA3hWZL00cBkCIuhm07HgGQDJfmjiM1QZA3AMbvSsyB0CGqJtBy44HQDBNHMZq6wdA2vGcSgpICECDlh3PqaQIQC07nlNJAQlA198e2OhdCUCBhJ9ciLoJQCspIOEnFwpA1M2gZcdzCkB+ciHqZtAKQCgXom4GLQtA0rsi86WJC0B8YKN3ReYLQCYFJPzkQgxAz6mkgISfDEB5TiUFJPwMQCPzpYnDWA1AzZcmDmO1DUB3PKeSAhIOQCDhJxeibg5AyoWom0HLDkB0Kikg4ScPQB7PqaSAhA9AyHMqKSDhD0A4jNXW3x4QQI7eFZkvTRBA4jBWW397EEA4g5Ydz6kQQIzV1t8e2BBA4ScXom4GEUA2eldkvjQRQIvMlyYOYxFA4B7Y6F2REUA1cRirrb8RQIrDWG397RFA3hWZL00cEkA0aNnxnEoSQIi6GbTseBJA3gxadjynEkAyX5o4jNUSQIex2vrbAxNA3AMbvSsyE0AxVlt/e2ATQIaom0HLjhNA2/rbAxu9E0AwTRzGausTQIWfXIi6GRRA2vGcSgpIFEAuRN0MWnYUQIOWHc+ppBRA2OhdkfnSFEAtO55TSQEVQIKN3hWZLxVA198e2OhdFUAsMl+aOIwVQIGEn1yIuhVA1tbfHtjoFUArKSDhJxcWQIB7YKN3RRZA1M2gZcdzFkApIOEnF6IWQH5yIepm0BZA08RhrLb+FkAoF6JuBi0XQH1p4jBWWxdA0rsi86WJF0AnDmO19bcXQHxgo3dF5hdA0bLjOZUUGEAmBST85EIYQHpXZL40cRhAz6mkgISfGEAk/ORC1M0YQHlOJQUk/BhAzqBlx3MqGUAj86WJw1gZQHhF5ksThxlAzZcmDmO1GUAi6mbQsuMZQHc8p5ICEhpAy47nVFJAGkAg4ScXom4aQHUzaNnxnBpAyoWom0HLGkAf2OhdkfkaQHQqKSDhJxtAyXxp4jBWG0Aez6mkgIQbQHMh6mbQshtAyHMqKSDhG0Adxmrrbw8cQHEYq62/PRxAxmrrbw9sHEAbvSsyX5ocQHAPbPSuyBxAxWGstv72HEAatOx4TiUdQG8GLTueUx1AxFht/e2BHUAZq62/PbAdQG797YGN3h1Awk8uRN0MHkAXom4GLTseQGz0rsh8aR5AwUbvisyXHkAWmS9NHMYeQGvrbw9s9B5AwD2w0bsiH0AVkPCTC1EfQGriMFZbfx9AvzRxGKutH0AUh7Ha+tsfQLTseE4lBSBA3hWZL00cIEAJP7kQdTMgQDRo2fGcSiBAXpH50sRhIECIuhm07HggQLPjOZUUkCBA3gxadjynIEAINnpXZL4gQDJfmjiM1SBAXYi6GbTsIECHsdr62wMhQLLa+tsDGyFA3AMbvSsyIUAGLTueU0khQDFWW397YCFAXH97YKN3IUCGqJtBy44hQLDRuyLzpSFA2/rbAxu9IUAGJPzkQtQhQDBNHMZq6yFAWnY8p5ICIkCFn1yIuhkiQK/IfGniMCJA2vGcSgpIIkAEG70rMl8iQC5E3QxadiJAWW397YGNIkCDlh3PqaQiQK6/PbDRuyJA2OhdkfnSIkADEn5yIeoiQC07nlNJASNAWGS+NHEYI0CCjd4VmS8jQK22/vbARiNA198e2OhdI0ABCT+5EHUjQCwyX5o4jCNAVlt/e2CjI0CBhJ9ciLojQKutvz2w0SNA1tbfHtjoI0AAAAAAAAAkQA==",
          "dtype": "f8"
         },
         "y": {
          "bdata": "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",
          "dtype": "f8"
         }
        },
        {
         "line": {
          "color": "blue"
         },
         "mode": "lines",
         "name": "Cúbica",
         "type": "scatter",
         "x": {
          "bdata": "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",
          "dtype": "f8"
         },
         "y": {
          "bdata": "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",
          "dtype": "f8"
         }
        }
       ],
       "layout": {
        "template": {
         "data": {
          "bar": [
           {
            "error_x": {
             "color": "#2a3f5f"
            },
            "error_y": {
             "color": "#2a3f5f"
            },
            "marker": {
             "line": {
              "color": "#E5ECF6",
              "width": 0.5
             },
             "pattern": {
              "fillmode": "overlay",
              "size": 10,
              "solidity": 0.2
             }
            },
            "type": "bar"
           }
          ],
          "barpolar": [
           {
            "marker": {
             "line": {
              "color": "#E5ECF6",
              "width": 0.5
             },
             "pattern": {
              "fillmode": "overlay",
              "size": 10,
              "solidity": 0.2
             }
            },
            "type": "barpolar"
           }
          ],
          "carpet": [
           {
            "aaxis": {
             "endlinecolor": "#2a3f5f",
             "gridcolor": "white",
             "linecolor": "white",
             "minorgridcolor": "white",
             "startlinecolor": "#2a3f5f"
            },
            "baxis": {
             "endlinecolor": "#2a3f5f",
             "gridcolor": "white",
             "linecolor": "white",
             "minorgridcolor": "white",
             "startlinecolor": "#2a3f5f"
            },
            "type": "carpet"
           }
          ],
          "choropleth": [
           {
            "colorbar": {
             "outlinewidth": 0,
             "ticks": ""
            },
            "type": "choropleth"
           }
          ],
          "contour": [
           {
            "colorbar": {
             "outlinewidth": 0,
             "ticks": ""
            },
            "colorscale": [
             [
              0,
              "#0d0887"
             ],
             [
              0.1111111111111111,
              "#46039f"
             ],
             [
              0.2222222222222222,
              "#7201a8"
             ],
             [
              0.3333333333333333,
              "#9c179e"
             ],
             [
              0.4444444444444444,
              "#bd3786"
             ],
             [
              0.5555555555555556,
              "#d8576b"
             ],
             [
              0.6666666666666666,
              "#ed7953"
             ],
             [
              0.7777777777777778,
              "#fb9f3a"
             ],
             [
              0.8888888888888888,
              "#fdca26"
             ],
             [
              1,
              "#f0f921"
             ]
            ],
            "type": "contour"
           }
          ],
          "contourcarpet": [
           {
            "colorbar": {
             "outlinewidth": 0,
             "ticks": ""
            },
            "type": "contourcarpet"
           }
          ],
          "heatmap": [
           {
            "colorbar": {
             "outlinewidth": 0,
             "ticks": ""
            },
            "colorscale": [
             [
              0,
              "#0d0887"
             ],
             [
              0.1111111111111111,
              "#46039f"
             ],
             [
              0.2222222222222222,
              "#7201a8"
             ],
             [
              0.3333333333333333,
              "#9c179e"
             ],
             [
              0.4444444444444444,
              "#bd3786"
             ],
             [
              0.5555555555555556,
              "#d8576b"
             ],
             [
              0.6666666666666666,
              "#ed7953"
             ],
             [
              0.7777777777777778,
              "#fb9f3a"
             ],
             [
              0.8888888888888888,
              "#fdca26"
             ],
             [
              1,
              "#f0f921"
             ]
            ],
            "type": "heatmap"
           }
          ],
          "histogram": [
           {
            "marker": {
             "pattern": {
              "fillmode": "overlay",
              "size": 10,
              "solidity": 0.2
             }
            },
            "type": "histogram"
           }
          ],
          "histogram2d": [
           {
            "colorbar": {
             "outlinewidth": 0,
             "ticks": ""
            },
            "colorscale": [
             [
              0,
              "#0d0887"
             ],
             [
              0.1111111111111111,
              "#46039f"
             ],
             [
              0.2222222222222222,
              "#7201a8"
             ],
             [
              0.3333333333333333,
              "#9c179e"
             ],
             [
              0.4444444444444444,
              "#bd3786"
             ],
             [
              0.5555555555555556,
              "#d8576b"
             ],
             [
              0.6666666666666666,
              "#ed7953"
             ],
             [
              0.7777777777777778,
              "#fb9f3a"
             ],
             [
              0.8888888888888888,
              "#fdca26"
             ],
             [
              1,
              "#f0f921"
             ]
            ],
            "type": "histogram2d"
           }
          ],
          "histogram2dcontour": [
           {
            "colorbar": {
             "outlinewidth": 0,
             "ticks": ""
            },
            "colorscale": [
             [
              0,
              "#0d0887"
             ],
             [
              0.1111111111111111,
              "#46039f"
             ],
             [
              0.2222222222222222,
              "#7201a8"
             ],
             [
              0.3333333333333333,
              "#9c179e"
             ],
             [
              0.4444444444444444,
              "#bd3786"
             ],
             [
              0.5555555555555556,
              "#d8576b"
             ],
             [
              0.6666666666666666,
              "#ed7953"
             ],
             [
              0.7777777777777778,
              "#fb9f3a"
             ],
             [
              0.8888888888888888,
              "#fdca26"
             ],
             [
              1,
              "#f0f921"
             ]
            ],
            "type": "histogram2dcontour"
           }
          ],
          "mesh3d": [
           {
            "colorbar": {
             "outlinewidth": 0,
             "ticks": ""
            },
            "type": "mesh3d"
           }
          ],
          "parcoords": [
           {
            "line": {
             "colorbar": {
              "outlinewidth": 0,
              "ticks": ""
             }
            },
            "type": "parcoords"
           }
          ],
          "pie": [
           {
            "automargin": true,
            "type": "pie"
           }
          ],
          "scatter": [
           {
            "fillpattern": {
             "fillmode": "overlay",
             "size": 10,
             "solidity": 0.2
            },
            "type": "scatter"
           }
          ],
          "scatter3d": [
           {
            "line": {
             "colorbar": {
              "outlinewidth": 0,
              "ticks": ""
             }
            },
            "marker": {
             "colorbar": {
              "outlinewidth": 0,
              "ticks": ""
             }
            },
            "type": "scatter3d"
           }
          ],
          "scattercarpet": [
           {
            "marker": {
             "colorbar": {
              "outlinewidth": 0,
              "ticks": ""
             }
            },
            "type": "scattercarpet"
           }
          ],
          "scattergeo": [
           {
            "marker": {
             "colorbar": {
              "outlinewidth": 0,
              "ticks": ""
             }
            },
            "type": "scattergeo"
           }
          ],
          "scattergl": [
           {
            "marker": {
             "colorbar": {
              "outlinewidth": 0,
              "ticks": ""
             }
            },
            "type": "scattergl"
           }
          ],
          "scattermap": [
           {
            "marker": {
             "colorbar": {
              "outlinewidth": 0,
              "ticks": ""
             }
            },
            "type": "scattermap"
           }
          ],
          "scattermapbox": [
           {
            "marker": {
             "colorbar": {
              "outlinewidth": 0,
              "ticks": ""
             }
            },
            "type": "scattermapbox"
           }
          ],
          "scatterpolar": [
           {
            "marker": {
             "colorbar": {
              "outlinewidth": 0,
              "ticks": ""
             }
            },
            "type": "scatterpolar"
           }
          ],
          "scatterpolargl": [
           {
            "marker": {
             "colorbar": {
              "outlinewidth": 0,
              "ticks": ""
             }
            },
            "type": "scatterpolargl"
           }
          ],
          "scatterternary": [
           {
            "marker": {
             "colorbar": {
              "outlinewidth": 0,
              "ticks": ""
             }
            },
            "type": "scatterternary"
           }
          ],
          "surface": [
           {
            "colorbar": {
             "outlinewidth": 0,
             "ticks": ""
            },
            "colorscale": [
             [
              0,
              "#0d0887"
             ],
             [
              0.1111111111111111,
              "#46039f"
             ],
             [
              0.2222222222222222,
              "#7201a8"
             ],
             [
              0.3333333333333333,
              "#9c179e"
             ],
             [
              0.4444444444444444,
              "#bd3786"
             ],
             [
              0.5555555555555556,
              "#d8576b"
             ],
             [
              0.6666666666666666,
              "#ed7953"
             ],
             [
              0.7777777777777778,
              "#fb9f3a"
             ],
             [
              0.8888888888888888,
              "#fdca26"
             ],
             [
              1,
              "#f0f921"
             ]
            ],
            "type": "surface"
           }
          ],
          "table": [
           {
            "cells": {
             "fill": {
              "color": "#EBF0F8"
             },
             "line": {
              "color": "white"
             }
            },
            "header": {
             "fill": {
              "color": "#C8D4E3"
             },
             "line": {
              "color": "white"
             }
            },
            "type": "table"
           }
          ]
         },
         "layout": {
          "annotationdefaults": {
           "arrowcolor": "#2a3f5f",
           "arrowhead": 0,
           "arrowwidth": 1
          },
          "autotypenumbers": "strict",
          "coloraxis": {
           "colorbar": {
            "outlinewidth": 0,
            "ticks": ""
           }
          },
          "colorscale": {
           "diverging": [
            [
             0,
             "#8e0152"
            ],
            [
             0.1,
             "#c51b7d"
            ],
            [
             0.2,
             "#de77ae"
            ],
            [
             0.3,
             "#f1b6da"
            ],
            [
             0.4,
             "#fde0ef"
            ],
            [
             0.5,
             "#f7f7f7"
            ],
            [
             0.6,
             "#e6f5d0"
            ],
            [
             0.7,
             "#b8e186"
            ],
            [
             0.8,
             "#7fbc41"
            ],
            [
             0.9,
             "#4d9221"
            ],
            [
             1,
             "#276419"
            ]
           ],
           "sequential": [
            [
             0,
             "#0d0887"
            ],
            [
             0.1111111111111111,
             "#46039f"
            ],
            [
             0.2222222222222222,
             "#7201a8"
            ],
            [
             0.3333333333333333,
             "#9c179e"
            ],
            [
             0.4444444444444444,
             "#bd3786"
            ],
            [
             0.5555555555555556,
             "#d8576b"
            ],
            [
             0.6666666666666666,
             "#ed7953"
            ],
            [
             0.7777777777777778,
             "#fb9f3a"
            ],
            [
             0.8888888888888888,
             "#fdca26"
            ],
            [
             1,
             "#f0f921"
            ]
           ],
           "sequentialminus": [
            [
             0,
             "#0d0887"
            ],
            [
             0.1111111111111111,
             "#46039f"
            ],
            [
             0.2222222222222222,
             "#7201a8"
            ],
            [
             0.3333333333333333,
             "#9c179e"
            ],
            [
             0.4444444444444444,
             "#bd3786"
            ],
            [
             0.5555555555555556,
             "#d8576b"
            ],
            [
             0.6666666666666666,
             "#ed7953"
            ],
            [
             0.7777777777777778,
             "#fb9f3a"
            ],
            [
             0.8888888888888888,
             "#fdca26"
            ],
            [
             1,
             "#f0f921"
            ]
           ]
          },
          "colorway": [
           "#636efa",
           "#EF553B",
           "#00cc96",
           "#ab63fa",
           "#FFA15A",
           "#19d3f3",
           "#FF6692",
           "#B6E880",
           "#FF97FF",
           "#FECB52"
          ],
          "font": {
           "color": "#2a3f5f"
          },
          "geo": {
           "bgcolor": "white",
           "lakecolor": "white",
           "landcolor": "#E5ECF6",
           "showlakes": true,
           "showland": true,
           "subunitcolor": "white"
          },
          "hoverlabel": {
           "align": "left"
          },
          "hovermode": "closest",
          "mapbox": {
           "style": "light"
          },
          "paper_bgcolor": "white",
          "plot_bgcolor": "#E5ECF6",
          "polar": {
           "angularaxis": {
            "gridcolor": "white",
            "linecolor": "white",
            "ticks": ""
           },
           "bgcolor": "#E5ECF6",
           "radialaxis": {
            "gridcolor": "white",
            "linecolor": "white",
            "ticks": ""
           }
          },
          "scene": {
           "xaxis": {
            "backgroundcolor": "#E5ECF6",
            "gridcolor": "white",
            "gridwidth": 2,
            "linecolor": "white",
            "showbackground": true,
            "ticks": "",
            "zerolinecolor": "white"
           },
           "yaxis": {
            "backgroundcolor": "#E5ECF6",
            "gridcolor": "white",
            "gridwidth": 2,
            "linecolor": "white",
            "showbackground": true,
            "ticks": "",
            "zerolinecolor": "white"
           },
           "zaxis": {
            "backgroundcolor": "#E5ECF6",
            "gridcolor": "white",
            "gridwidth": 2,
            "linecolor": "white",
            "showbackground": true,
            "ticks": "",
            "zerolinecolor": "white"
           }
          },
          "shapedefaults": {
           "line": {
            "color": "#2a3f5f"
           }
          },
          "ternary": {
           "aaxis": {
            "gridcolor": "white",
            "linecolor": "white",
            "ticks": ""
           },
           "baxis": {
            "gridcolor": "white",
            "linecolor": "white",
            "ticks": ""
           },
           "bgcolor": "#E5ECF6",
           "caxis": {
            "gridcolor": "white",
            "linecolor": "white",
            "ticks": ""
           }
          },
          "title": {
           "x": 0.05
          },
          "xaxis": {
           "automargin": true,
           "gridcolor": "white",
           "linecolor": "white",
           "ticks": "",
           "title": {
            "standoff": 15
           },
           "zerolinecolor": "white",
           "zerolinewidth": 2
          },
          "yaxis": {
           "automargin": true,
           "gridcolor": "white",
           "linecolor": "white",
           "ticks": "",
           "title": {
            "standoff": 15
           },
           "zerolinecolor": "white",
           "zerolinewidth": 2
          }
         }
        },
        "title": {
         "text": "Modelos de regresión del crecimiento del maíz"
        },
        "xaxis": {
         "title": {
          "text": "Día desde la siembra"
         }
        },
        "yaxis": {
         "title": {
          "text": "Altura (cm)"
         }
        }
       }
      }
     },
     "metadata": {},
     "output_type": "display_data"
    }
   ],
   "source": [
    "import plotly.graph_objects as go\n",
    "\n",
    "fig = go.Figure()\n",
    "fig.add_trace(go.Scatter(x=x, y=y, mode='markers', name='Datos reales'))\n",
    "fig.add_trace(go.Scatter(x=x_new, y=f_lineal(x_new), mode='lines', name='Lineal', line=dict(dash='dot', color='red')))\n",
    "fig.add_trace(go.Scatter(x=x_new, y=f_cuadratico(x_new), mode='lines', name='Cuadrática', line=dict(color='green')))\n",
    "fig.add_trace(go.Scatter(x=x_new, y=f_cubico(x_new), mode='lines', name='Cúbica', line=dict(color='blue')))\n",
    "\n",
    "fig.update_layout(title='Modelos de regresión del crecimiento del maíz',\n",
    "                  xaxis_title='Día desde la siembra',\n",
    "                  yaxis_title='Altura (cm)')\n",
    "fig.show()\n"
   ]
  },
  {
   "cell_type": "markdown",
   "id": "ba6d2bd9",
   "metadata": {},
   "source": [
    "\n",
    "# **Estructura sugerida del video**\n",
    "\n",
    "1. Mostrar el **cuaderno manuscrito** con el dataset y la gráfica hecha a mano.\n",
    "2. Ejecutar este código paso a paso en Jupyter, explicando cada parte.\n",
    "3. Mostrar los gráficos y comentar cuál modelo es mejor.\n",
    "4. Concluir con una reflexión sobre el uso de la regresión en la enseñanza de la matemática aplicada.\n",
    "\n"
   ]
  },
  {
   "cell_type": "markdown",
   "id": "7ef10c9c",
   "metadata": {},
   "source": [
    "# Apéndice sobre el puntaje R2  \n",
    "\n",
    "\n",
    "El **puntaje $R^2$** (o **coeficiente de determinación**) es una medida estadística que se usa ampliamente para **evaluar el ajuste de un modelo de regresión** —y, en particular, resulta muy útil cuando comparamos **modelos de interpolación polinómica** de distintos grados.\n",
    "\n",
    "Veamos su **definición formal**, su **interpretación intuitiva**, y cómo se usa en la **comparación de modelos polinómicos**.\n",
    "\n",
    "---\n"
   ]
  },
  {
   "cell_type": "markdown",
   "id": "c08eed65",
   "metadata": {},
   "source": [
    "\n",
    "# 1. Definición formal\n"
   ]
  },
  {
   "cell_type": "markdown",
   "id": "3ae47150",
   "metadata": {},
   "source": [
    "\n",
    "El **coeficiente de determinación** $R^2$ se define como:\n",
    "\n",
    "$$\n",
    "R^2 = 1 - \\frac{SS_{\\text{res}}}{SS_{\\text{tot}}}\n",
    "$$\n",
    "\n",
    "donde:\n",
    "\n",
    "* $SS_{\\text{res}} = \\sum_{i=1}^{n} (y_i - \\hat{y}_i)^2$\n",
    "  → es la **suma de los cuadrados de los residuos** (errores del modelo).\n",
    "\n",
    "* $SS_{\\text{tot}} = \\sum_{i=1}^{n} (y_i - \\bar{y})^2$\n",
    "  → es la **suma total de cuadrados**, que representa la variabilidad total de los datos respecto a su media.\n",
    "\n",
    "* $y_{i}$: valores observados\n",
    "\n",
    "* $\\hat{y}_i$: valores predichos por el modelo\n",
    "\n",
    "* $\\bar{y}$: media de los valores observados\n",
    "\n",
    "---\n"
   ]
  },
  {
   "cell_type": "markdown",
   "id": "866f51b2",
   "metadata": {},
   "source": [
    "\n",
    "# 2. Interpretación intuitiva\n",
    "\n",
    "* $R^2$ mide **qué proporción de la variabilidad total** de los datos ( y ) es **explicada por el modelo**.\n",
    "\n",
    "* Su valor está entre 0 y 1 (aunque puede ser negativo si el modelo es muy malo):\n",
    "\n",
    "  | Valor de ( R^2 ) | Interpretación                                        |\n",
    "  | ---------------- | ----------------------------------------------------- |\n",
    "  | ( R^2 = 1 )      | El modelo **interpola perfectamente** los datos.      |\n",
    "  | ( R^2 = 0 )      | El modelo no explica mejor que la media de los datos. |\n",
    "  | ( R^2 < 0 )      | El modelo es peor que predecir la media constante.    |\n",
    "\n",
    "Por ejemplo, un ( R^2 = 0.95 ) indica que el **95% de la variabilidad de los datos** se explica por el modelo polinómico.\n",
    "\n",
    "---\n"
   ]
  },
  {
   "cell_type": "markdown",
   "id": "4806373f",
   "metadata": {},
   "source": [
    "\n",
    "# 3. En el contexto de la **interpolación polinómica**\n",
    "\n",
    "Cuando se usan **polinomios de distintos grados** para ajustar datos:\n",
    "\n",
    "* A medida que el grado del polinomio aumenta, el modelo **siempre puede ajustarse mejor** a los puntos de entrenamiento (los datos usados para construirlo), por lo que $R^2_{\\text{train}}$ tiende a **aumentar hacia 1**.\n",
    "* Sin embargo, un $R^2$ cercano a 1 en los datos de entrenamiento puede ser **engañoso**: el modelo puede estar **sobreajustando (overfitting)**, lo que significa que perdió capacidad de generalización.\n",
    "\n",
    "Por eso, al comparar modelos polinómicos se suele calcular:\n",
    "\n",
    "* $R^2_{\\text{train}}$: para el conjunto de entrenamiento\n",
    "* $R^2_{\\text{test}}$: para datos de validación o prueba\n",
    "\n",
    "Si $R^2_{\\text{train}}$ es alto pero $R^2_{\\text{test}}$ cae mucho, el modelo está sobreajustando.\n",
    "\n"
   ]
  },
  {
   "cell_type": "markdown",
   "id": "d4cc1658",
   "metadata": {},
   "source": [
    "\n",
    "# 4. Uso en la comparación de modelos polinómicos\n",
    "\n",
    "Al comparar polinomios de distintos grados $n = 1, 2, 3, \\ldots$:\n",
    "\n",
    "| Modelo                 | Descripción     | Posible interpretación de ( R^2 )                      |\n",
    "| ---------------------- | --------------- | ------------------------------------------------------ |\n",
    "| Lineal (( n = 1 ))     | Ajuste simple   | Explica tendencia general                              |\n",
    "| Cuadrático (( n = 2 )) | Ajuste curvo    | Captura concavidad o curvatura                         |\n",
    "| Cúbico o superior      | Ajuste complejo | Puede modelar fluctuaciones, pero arriesga sobreajuste |\n",
    "\n",
    "Por tanto, **la mejor elección del grado polinómico** es aquella que **maximiza $R^2_{\\text{test}}$**, sin caer en una complejidad excesiva.\n"
   ]
  },
  {
   "cell_type": "markdown",
   "id": "6e81c59c",
   "metadata": {},
   "source": [
    "\n",
    "# 5. Ejemplo breve en Python\n"
   ]
  },
  {
   "cell_type": "code",
   "execution_count": 12,
   "id": "3940ec9f",
   "metadata": {},
   "outputs": [
    {
     "name": "stdout",
     "output_type": "stream",
     "text": [
      "Grado 1: R2 = 0.0213\n",
      "Grado 2: R2 = 0.1100\n",
      "Grado 3: R2 = 0.1548\n",
      "Grado 4: R2 = 0.8427\n",
      "Grado 5: R2 = 0.8732\n"
     ]
    }
   ],
   "source": [
    "import numpy as np\n",
    "from sklearn.metrics import r2_score\n",
    "from sklearn.preprocessing import PolynomialFeatures\n",
    "from sklearn.linear_model import LinearRegression\n",
    "\n",
    "# Datos simulados\n",
    "x = np.linspace(0, 10, 20)\n",
    "y = np.sin(x) + np.random.normal(0, 0.1, size=len(x))\n",
    "\n",
    "# Comparar polinomios de grado 1 a 5\n",
    "for degree in range(1, 6):\n",
    "    poly = PolynomialFeatures(degree)\n",
    "    X_poly = poly.fit_transform(x.reshape(-1, 1))\n",
    "    model = LinearRegression().fit(X_poly, y)\n",
    "    y_pred = model.predict(X_poly)\n",
    "    r2 = r2_score(y, y_pred)\n",
    "    print(f\"Grado {degree}: R2 = {r2:.4f}\")\n",
    "\n"
   ]
  },
  {
   "cell_type": "markdown",
   "id": "0806903c",
   "metadata": {},
   "source": [
    "\n",
    "Este script mostrará cómo el $R^2$ aumenta con el grado, pero en la práctica deberíamos evaluar también el **error en validación cruzada**.\n",
    "\n"
   ]
  },
  {
   "cell_type": "markdown",
   "id": "bde126b9",
   "metadata": {},
   "source": [
    "\n",
    "# 6. Conclusión\n",
    "\n",
    "El puntaje $R^2$:\n",
    "\n",
    "* Mide **la proporción de variabilidad explicada por el modelo**.\n",
    "* Es útil para **comparar modelos de interpolación polinómica** de distintos grados.\n",
    "* Debe interpretarse junto con otros indicadores (como el error cuadrático medio en validación) para **evitar sobreajuste**.\n",
    "\n",
    "---\n"
   ]
  }
 ],
 "metadata": {
  "kernelspec": {
   "display_name": ".venv",
   "language": "python",
   "name": "python3"
  },
  "language_info": {
   "codemirror_mode": {
    "name": "ipython",
    "version": 3
   },
   "file_extension": ".py",
   "mimetype": "text/x-python",
   "name": "python",
   "nbconvert_exporter": "python",
   "pygments_lexer": "ipython3",
   "version": "3.11.9"
  }
 },
 "nbformat": 4,
 "nbformat_minor": 5
}
