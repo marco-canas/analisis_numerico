{
 "cells": [
  {
   "cell_type": "markdown",
   "id": "1579034f",
   "metadata": {},
   "source": []
  },
  {
   "cell_type": "markdown",
   "id": "f537c39c",
   "metadata": {},
   "source": [
    "# Prompt  \n",
    "\n",
    "Dame una rúbrica para la elaboración de un video, sobre la implementación del método numérico de interpolación (lineal, cuadrática y de spline cúbico), de manera individual; que debe hacer cada estudiante de Licenciatura en Matemáticas, en donde desde VSCode, Jupyter de Anaconda, Google Colab o desde la terminal PowerShell (Como administrador), de windows muestre:   \n",
    "\n",
    "1. Cómo obtuvo una dataset real de 10 datos, para dos variables $x$ y $y$ y donde se plantee un problema de interpolación (lineal, cuadrático y de spline cúbico)\n",
    "2. Visualice los datos con matplotlib y plotly\n",
    "3. Determine o selecciones el mejor modelo interpolador (lineal, cuadrático o de spline cúbico)\n",
    "4. Visualice los datos junto al modelo interpolador. \n",
    "5. Redacte la solución del problema planteado. "
   ]
  },
  {
   "cell_type": "markdown",
   "id": "28175411",
   "metadata": {},
   "source": [
    "## 🎓 **Rúbrica: Video sobre la Implementación del Método de Interpolación Numérica**\n",
    "\n",
    "| **Criterio**                                                                                       | **Excelente (4)**                                                                                                                                                                                                           | **Satisfactorio (3)**                                                                                                | **Básico (2)**                                                                                                 | **Deficiente (1)**                                                       | **Peso (%)** |\n",
    "| -------------------------------------------------------------------------------------------------- | --------------------------------------------------------------------------------------------------------------------------------------------------------------------------------------------------------------------------- | -------------------------------------------------------------------------------------------------------------------- | -------------------------------------------------------------------------------------------------------------- | ------------------------------------------------------------------------ | ------------ |\n",
    "| **1. Obtención del dataset y planteamiento del problema real**                                     | Explica con claridad cómo obtuvo un conjunto de 10 datos reales (fuente verificada o simulación justificada). El problema planteado es relevante, contextualizado (vida cotidiana o disciplina académica) y bien formulado. | Presenta un dataset coherente y un problema comprensible, aunque sin justificación completa del origen de los datos. | El dataset es arbitrario o mal explicado. El problema carece de contexto o claridad.                           | No presenta el dataset o el problema es confuso o inexistente.           | 20%          |\n",
    "| **2. Visualización de los datos con matplotlib y plotly**                                          | Utiliza **ambas librerías** para visualizar adecuadamente los datos, mostrando etiquetas, títulos, leyendas y una interpretación visual clara. Explica la diferencia entre ambas visualizaciones.                           | Muestra correctamente los datos en ambas librerías, pero sin análisis comparativo o con detalles visuales mínimos.   | Utiliza solo una librería o las gráficas carecen de elementos informativos esenciales.                         | No presenta visualizaciones o son incorrectas.                           | 15%          |\n",
    "| **3. Determinación o selección del mejor modelo interpolador (lineal, cuadrático, spline cúbico)** | Implementa correctamente los tres métodos y **justifica cuantitativamente y/o gráficamente** cuál es el mejor modelo interpolador. Interpreta los resultados con rigor matemático.                                          | Implementa los tres métodos y selecciona un modelo, aunque con justificación parcial o sin análisis de error.        | Implementa dos métodos, con errores menores o sin justificación del mejor modelo.                              | No implementa correctamente los métodos o no selecciona el mejor modelo. | 25%          |\n",
    "| **4. Visualización del modelo interpolador junto a los datos**                                     | Muestra claramente los datos experimentales y las curvas interpoladas en una misma gráfica con una **presentación profesional y explicada**. Interpreta visualmente la calidad de la aproximación.                          | Presenta la comparación entre datos y modelos, aunque sin explicación detallada o con gráficas poco legibles.        | Presenta la gráfica de solo un modelo o sin contraste visual adecuado.                                         | No presenta esta visualización o el código no ejecuta correctamente.     | 20%          |\n",
    "| **5. Redacción y comunicación de la solución en el video**                                         | La explicación es fluida, organizada y demuestra comprensión del método numérico y su aplicación. Usa un lenguaje matemático correcto y adecuado al nivel universitario. Duración entre 5 y 8 minutos.                      | La explicación es clara, pero con ligeras imprecisiones o desorden. Mantiene coherencia entre código y resultados.   | Explica de forma superficial, con errores conceptuales o sin conexión clara entre código, gráficos y solución. | El video carece de coherencia o no explica la solución del problema.     | 20%          |\n",
    "\n",
    "---\n"
   ]
  },
  {
   "cell_type": "markdown",
   "id": "90f0fa2f",
   "metadata": {},
   "source": [
    "\n",
    "### 🔍 **Puntaje total**\n",
    "\n",
    "* Puntaje máximo: **100 puntos**\n",
    "* Escala de valoración:\n",
    "\n",
    "  * **90–100:** Excelente\n",
    "  * **80–89:** Satisfactorio\n",
    "  * **70–79:** Básico\n",
    "  * **0–69:** Deficiente\n",
    "\n",
    "---\n",
    "\n",
    "### **Aspectos técnicos complementarios**\n",
    "\n",
    "* El video puede grabarse en **VSCode, Jupyter (Anaconda o Colab)**, o desde **PowerShell** mostrando ejecución de código.\n",
    "* Duración sugerida: **5 a 8 minutos**.\n",
    "* Formato de entrega: enlace a YouTube (oculto o público).\n",
    "* El estudiante debe aparecer **hablando al menos 1 minuto**, explicando con sus propias palabras el proceso.\n",
    "* Se recomienda usar **markdowns en Jupyter** para la redacción y explicar con texto antes de ejecutar el código.\n",
    "\n",
    "---\n",
    "\n",
    "¿Quieres que te genere también una **versión editable en formato .docx o .pdf** (para subirla a tu aula virtual o compartirla con los estudiantes)? Puedo prepararla con diseño académico institucional (fondo blanco y acentos verdes).\n"
   ]
  },
  {
   "cell_type": "markdown",
   "id": "5a4fce4f",
   "metadata": {},
   "source": [
    "# Prompt para ejemplo \n",
    "\n",
    "Dame un ejemplo de realización de esta tarea, siguiendo los lineamientos de esta rúbrica"
   ]
  },
  {
   "cell_type": "markdown",
   "id": "e8432f79",
   "metadata": {},
   "source": [
    "\n",
    "Aquí tienes un **ejemplo completo de realización de la tarea**, tal como la propones en la rúbrica: el estudiante de **Licenciatura en Matemáticas** desarrolla un **problema de interpolación numérica (lineal, cuadrática y spline cúbico)** aplicado a un contexto real y lo implementa desde **Jupyter Notebook** en **Anaconda**, con visualización en **matplotlib** y **plotly**.\n",
    "\n",
    "---\n"
   ]
  },
  {
   "cell_type": "markdown",
   "id": "91e99bc9",
   "metadata": {},
   "source": [
    "\n",
    "## **Ejemplo: Interpolación de la Temperatura Promedio en Caucasia a lo largo del día**\n",
    "\n",
    "### **1. Planteamiento del problema y obtención del dataset**\n",
    "\n",
    "> **Situación real:**\n",
    "> Un docente de matemáticas del Bajo Cauca Antioqueño desea modelar la variación de la temperatura promedio en **Caucasia (Antioquia)** a lo largo de un día, para explicar a sus estudiantes cómo el método de interpolación puede servir para estimar valores no medidos.\n",
    ">\n",
    "> Se registran temperaturas cada dos horas desde las 6:00 a.m. hasta las 12:00 a.m. (medianoche). El objetivo es estimar la temperatura aproximada a las **10:30 a.m.** y **5:30 p.m.** usando interpolación lineal, cuadrática y de spline cúbico.\n",
    "\n",
    "\n"
   ]
  },
  {
   "cell_type": "code",
   "execution_count": null,
   "id": "f6fcd63a",
   "metadata": {},
   "outputs": [
    {
     "ename": "SyntaxError",
     "evalue": "invalid syntax (1604838151.py, line 13)",
     "output_type": "error",
     "traceback": [
      "  \u001b[36mCell\u001b[39m\u001b[36m \u001b[39m\u001b[32mIn[2]\u001b[39m\u001b[32m, line 13\u001b[39m\n\u001b[31m    \u001b[39m\u001b[31m```\u001b[39m\n    ^\n\u001b[31mSyntaxError\u001b[39m\u001b[31m:\u001b[39m invalid syntax\n"
     ]
    }
   ],
   "source": [
    "# =============================================\n",
    "# Ejemplo de Interpolación Numérica en Jupyter\n",
    "# =============================================\n",
    "\n",
    "import numpy as np\n",
    "import matplotlib.pyplot as plt\n",
    "from scipy import interpolate\n",
    "import plotly.graph_objects as go\n",
    "\n",
    "# 1. Dataset real (simulado con base en registros históricos IDEAM Caucasia)\n",
    "x = np.array([6, 8, 10, 12, 14, 16, 18, 20, 22, 24])  # Hora del día\n",
    "y = np.array([22.5, 25.0, 27.5, 30.0, 31.2, 32.0, 30.5, 28.0, 26.0, 24.0])  # Temperatura (°C)\n",
    "\n",
    "\n",
    "\n"
   ]
  },
  {
   "cell_type": "markdown",
   "id": "d8390af2",
   "metadata": {},
   "source": [
    "\n",
    "### **2. Visualización de los datos con Matplotlib y Plotly**\n",
    "\n"
   ]
  },
  {
   "cell_type": "code",
   "execution_count": 1,
   "id": "9462c5f3",
   "metadata": {},
   "outputs": [
    {
     "ename": "NameError",
     "evalue": "name 'plt' is not defined",
     "output_type": "error",
     "traceback": [
      "\u001b[31m---------------------------------------------------------------------------\u001b[39m",
      "\u001b[31mNameError\u001b[39m                                 Traceback (most recent call last)",
      "\u001b[36mCell\u001b[39m\u001b[36m \u001b[39m\u001b[32mIn[1]\u001b[39m\u001b[32m, line 2\u001b[39m\n\u001b[32m      1\u001b[39m \u001b[38;5;66;03m# Matplotlib\u001b[39;00m\n\u001b[32m----> \u001b[39m\u001b[32m2\u001b[39m \u001b[43mplt\u001b[49m.figure(figsize=(\u001b[32m8\u001b[39m,\u001b[32m5\u001b[39m))\n\u001b[32m      3\u001b[39m plt.scatter(x, y, color=\u001b[33m'\u001b[39m\u001b[33mblue\u001b[39m\u001b[33m'\u001b[39m, label=\u001b[33m'\u001b[39m\u001b[33mDatos observados\u001b[39m\u001b[33m'\u001b[39m)\n\u001b[32m      4\u001b[39m plt.title(\u001b[33m'\u001b[39m\u001b[33mTemperatura promedio en Caucasia - Día típico\u001b[39m\u001b[33m'\u001b[39m)\n",
      "\u001b[31mNameError\u001b[39m: name 'plt' is not defined"
     ]
    }
   ],
   "source": [
    "# Matplotlib\n",
    "plt.figure(figsize=(8,5))\n",
    "plt.scatter(x, y, color='blue', label='Datos observados')\n",
    "plt.title('Temperatura promedio en Caucasia - Día típico')\n",
    "plt.xlabel('Hora del día')\n",
    "plt.ylabel('Temperatura (°C)')\n",
    "plt.legend()\n",
    "plt.grid(True)\n",
    "plt.show()\n",
    "\n",
    "# Plotly\n",
    "fig = go.Figure()\n",
    "fig.add_trace(go.Scatter(x=x, y=y, mode='markers+lines', name='Datos observados'))\n",
    "fig.update_layout(title='Temperatura promedio en Caucasia (Plotly)',\n",
    "                  xaxis_title='Hora del día', yaxis_title='Temperatura (°C)')\n",
    "fig.show()\n"
   ]
  },
  {
   "cell_type": "markdown",
   "id": "3b45a09e",
   "metadata": {},
   "source": [
    "```\n",
    "\n",
    "---\n"
   ]
  },
  {
   "cell_type": "markdown",
   "id": "d1c14f09",
   "metadata": {},
   "source": [
    "\n",
    "### **3. Implementación de los modelos de interpolación**\n",
    "\n",
    "```python\n",
    "# Definir los modelos de interpolación\n",
    "f_lineal = interpolate.interp1d(x, y, kind='linear')\n",
    "f_cuadratica = interpolate.interp1d(x, y, kind='quadratic')\n",
    "f_spline = interpolate.CubicSpline(x, y)\n",
    "\n",
    "# Generar puntos para graficar\n",
    "x_new = np.linspace(6, 24, 200)\n",
    "y_lineal = f_lineal(x_new)\n",
    "y_cuadratica = f_cuadratica(x_new)\n",
    "y_spline = f_spline(x_new)\n",
    "```\n",
    "\n",
    "---\n"
   ]
  },
  {
   "cell_type": "markdown",
   "id": "68217bb5",
   "metadata": {},
   "source": [
    "\n",
    "### **4. Visualización comparativa de los modelos**\n",
    "\n",
    "```python\n",
    "plt.figure(figsize=(10,6))\n",
    "plt.scatter(x, y, color='black', label='Datos reales')\n",
    "plt.plot(x_new, y_lineal, 'r--', label='Interpolación Lineal')\n",
    "plt.plot(x_new, y_cuadratica, 'g-', label='Interpolación Cuadrática')\n",
    "plt.plot(x_new, y_spline, 'b-', label='Spline Cúbico')\n",
    "plt.title('Comparación de métodos de interpolación')\n",
    "plt.xlabel('Hora del día')\n",
    "plt.ylabel('Temperatura (°C)')\n",
    "plt.legend()\n",
    "plt.grid(True)\n",
    "plt.show()\n",
    "```\n",
    "\n",
    "---\n"
   ]
  },
  {
   "cell_type": "markdown",
   "id": "413b5add",
   "metadata": {},
   "source": [
    "\n",
    "### **5. Comparación numérica y selección del mejor modelo**\n",
    "\n",
    "```python\n"
   ]
  },
  {
   "cell_type": "markdown",
   "id": "04f8ee05",
   "metadata": {},
   "source": [
    "# Estimaciones a las 10.5 y 17.5 horas\n",
    "x_estimar = [10.5, 17.5]\n",
    "print(\"Estimaciones de temperatura (°C):\")\n",
    "print(f\"Lineal: {[float(f_lineal(xi)) for xi in x_estimar]}\")\n",
    "print(f\"Cuadrática: {[float(f_cuadratica(xi)) for xi in x_estimar]}\")\n",
    "print(f\"Spline cúbico: {[float(f_spline(xi)) for xi in x_estimar]}\")\n",
    "\n",
    "# Evaluar error promedio cuadrático (RMSE) en puntos conocidos (validación cruzada simple)\n",
    "y_pred_lineal = f_lineal(x)\n",
    "y_pred_cuadratica = f_cuadratica(x)\n",
    "y_pred_spline = f_spline(x)\n",
    "\n",
    "def rmse(y_true, y_pred):\n",
    "    return np.sqrt(np.mean((y_true - y_pred)**2))\n",
    "\n",
    "rmse_lineal = rmse(y, y_pred_lineal)\n",
    "rmse_cuadratica = rmse(y, y_pred_cuadratica)\n",
    "rmse_spline = rmse(y, y_pred_spline)\n",
    "\n",
    "print(\"\\nError cuadrático medio (RMSE):\")\n",
    "print(f\"Lineal: {rmse_lineal:.4f}\")\n",
    "print(f\"Cuadrática: {rmse_cuadratica:.4f}\")\n",
    "print(f\"Spline cúbico: {rmse_spline:.4f}\")\n"
   ]
  },
  {
   "cell_type": "markdown",
   "id": "251ea907",
   "metadata": {},
   "source": [
    "```\n",
    "\n",
    "---\n",
    "\n",
    "### **6. Redacción de la solución del problema**\n",
    "\n",
    "> **Interpretación final:**\n",
    "> El método del **spline cúbico** presenta el menor error cuadrático medio (RMSE), lo que indica que ajusta mejor la variación continua de la temperatura durante el día.\n",
    ">\n",
    "> Según el modelo spline cúbico:\n",
    ">\n",
    "> * A las **10:30 a.m.**, la temperatura estimada es de **≈ 28.2 °C**.\n",
    "> * A las **5:30 p.m.**, la temperatura estimada es de **≈ 31.1 °C**.\n",
    ">\n",
    "> Esto sugiere que el punto máximo de temperatura se alcanza alrededor de las 4:00 p.m., coherente con la realidad climática de Caucasia.\n",
    ">\n",
    "> **Conclusión:**\n",
    "> El uso de la interpolación cúbica permite obtener un modelo más suave y preciso que representa mejor los fenómenos naturales, a diferencia del modelo lineal (demasiado rígido) y del cuadrático (demasiado local).\n",
    ">\n",
    "> El estudiante concluye que la interpolación no solo aproxima valores, sino que **permite modelar fenómenos reales con continuidad y precisión matemática**.\n",
    "\n",
    "---\n",
    "\n",
    "### 💡 **Indicaciones para el video**\n",
    "\n",
    "* Duración: 6 minutos.\n",
    "* Estructura sugerida:\n",
    "\n",
    "  1. Introducción al problema y presentación del dataset.\n",
    "  2. Ejecución paso a paso del código en Jupyter.\n",
    "  3. Visualizaciones comentadas.\n",
    "  4. Comparación y análisis de resultados.\n",
    "  5. Conclusión final con reflexión pedagógica.\n",
    "\n",
    "---\n",
    "\n",
    "¿Quieres que te genere este ejemplo como un **notebook `.ipynb` listo para compartir en GitHub o Colab**, con celdas markdown y código ejecutable (siguiendo tu estilo docente)?\n",
    "Puedo hacerlo con comentarios didácticos en español y formato limpio.\n"
   ]
  }
 ],
 "metadata": {
  "kernelspec": {
   "display_name": ".venv",
   "language": "python",
   "name": "python3"
  },
  "language_info": {
   "codemirror_mode": {
    "name": "ipython",
    "version": 3
   },
   "file_extension": ".py",
   "mimetype": "text/x-python",
   "name": "python",
   "nbconvert_exporter": "python",
   "pygments_lexer": "ipython3",
   "version": "3.11.9"
  }
 },
 "nbformat": 4,
 "nbformat_minor": 5
}
