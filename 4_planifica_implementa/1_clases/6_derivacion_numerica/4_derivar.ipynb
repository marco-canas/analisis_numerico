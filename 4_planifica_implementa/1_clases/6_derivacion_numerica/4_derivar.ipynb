{
 "cells": [
  {
   "cell_type": "markdown",
   "id": "dc06dec7",
   "metadata": {
    "slideshow": {
     "slide_type": "slide"
    }
   },
   "source": [
    "<table align=\"left\">\n",
    "  <td>\n",
    "    <a href=\"https://colab.research.google.com/github/ageron/handson-ml3/blob/main/tools_numpy.ipynb\" target=\"_parent\"><img src=\"https://colab.research.google.com/assets/colab-badge.svg\" alt=\"Open In Colab\"/></a>\n",
    "  </td>\n",
    "  <td>\n",
    "    <a target=\"_blank\" href=\"https://kaggle.com/kernels/welcome?src=https://github.com/ageron/handson-ml3/blob/main/tools_numpy.ipynb\"><img src=\"https://kaggle.com/static/images/open-in-kaggle.svg\" /></a>\n",
    "  </td>\n",
    "</table>"
   ]
  },
  {
   "cell_type": "markdown",
   "id": "e0c5b198",
   "metadata": {
    "slideshow": {
     "slide_type": "slide"
    }
   },
   "source": [
    "### [Video de apoyo a la lectura interactiva y experimental de este cuaderno]()"
   ]
  },
  {
   "cell_type": "markdown",
   "id": "41e82203",
   "metadata": {
    "slideshow": {
     "slide_type": "slide"
    }
   },
   "source": [
    "### [Vínculo al programa del curso:  ]()\n",
    "\n"
   ]
  },
  {
   "cell_type": "markdown",
   "id": "d11ab06d",
   "metadata": {
    "slideshow": {
     "slide_type": "slide"
    }
   },
   "source": [
    "Un reconocimiento a mis estudiantes que han construido conmigo este saber pedagógico:\n",
    "\n",
    "<img src = ''> \n",
    "\n"
   ]
  },
  {
   "cell_type": "markdown",
   "id": "8a74a56c-0ce6-4ad6-b985-553fd7fb68bb",
   "metadata": {},
   "source": [
    "Reconocimiento a las profesoras destacadas en enseñanza de la matemática en Colombia\n"
   ]
  },
  {
   "cell_type": "code",
   "execution_count": 3,
   "id": "7604880f",
   "metadata": {
    "slideshow": {
     "slide_type": "slide"
    }
   },
   "outputs": [
    {
     "data": {
      "application/vnd.microsoft.datawrangler.viewer.v0+json": {
       "columns": [
        {
         "name": "index",
         "rawType": "int64",
         "type": "integer"
        },
        {
         "name": "Cedula",
         "rawType": "int64",
         "type": "integer"
        },
        {
         "name": "Nombre",
         "rawType": "object",
         "type": "string"
        },
        {
         "name": "Email",
         "rawType": "object",
         "type": "string"
        },
        {
         "name": "p1",
         "rawType": "float64",
         "type": "float"
        },
        {
         "name": "q2",
         "rawType": "float64",
         "type": "float"
        },
        {
         "name": "p2",
         "rawType": "float64",
         "type": "float"
        }
       ],
       "ref": "f30ab436-1991-426c-9282-79008a9574a9",
       "rows": [
        [
         "0",
         "1067281024",
         "ALVAREZ GOEZ DAIRO ESTEBAN",
         "dairo.alvarez1@udea.edu.co",
         "2.8",
         null,
         "3.5"
        ],
        [
         "1",
         "1041086439",
         "CASTILLO SIERRA SHIRLIS SARAY",
         "shirlis.castillo@udea.edu.co",
         "1.7",
         null,
         "5.0"
        ],
        [
         "2",
         "1045419649",
         "ESPINOSA ESPINOSA LILIANA ANDREA",
         "lilianaa.espinosa@udea.edu.co",
         "1.7",
         null,
         "4.0"
        ],
        [
         "3",
         "1040494191",
         "GARCIA PADILLA JHONATAN",
         "jhonatan.garcia1@udea.edu.co",
         "3.0",
         null,
         "4.0"
        ],
        [
         "4",
         "1038131529",
         "HOYOS ARRIETA ELIECER JOSE",
         "jose.hoyos2@udea.edu.co",
         "5.0",
         "3.5",
         "5.0"
        ],
        [
         "5",
         "1038116007",
         "MARIAGA BALLESTEROS KEILA MELIZA",
         "keila.mariaga@udea.edu.co",
         "0.0",
         null,
         "0.0"
        ],
        [
         "6",
         "3667402",
         "MARIN MARTINEZ FRANCISCO JAVIER",
         "fjavier.marin@udea.edu.co",
         "0.1",
         null,
         "0.4"
        ],
        [
         "7",
         "1038092575",
         "OSORIO ACEVEDO LUIS MARIO",
         "luismario.osorio@udea.edu.co",
         "0.0",
         null,
         "3.5"
        ],
        [
         "8",
         "1038130817",
         "PENATE PENA JHON SEBASTIAN",
         "jhon.penate@udea.edu.co",
         "1.7",
         null,
         "5.0"
        ],
        [
         "9",
         "1040494087",
         "POLANCO LUCAS FABIER GABRIEL",
         "fabier.polanco@udea.edu.co",
         "0.7",
         null,
         "0.0"
        ],
        [
         "10",
         "1019842256",
         "RODELO ZABALA ARIANA",
         "a.rodelo@udea.edu.co",
         "0.7",
         null,
         "4.4"
        ],
        [
         "11",
         "1042822239",
         "RODRIGUEZ MOSQUERA ANGELA MARIA",
         "maria.rodriguez8@udea.edu.co",
         "1.9",
         null,
         "5.0"
        ],
        [
         "12",
         "1038436130",
         "ROHENES DE ARCO CAMILO ANDRES",
         "camilo.rohenes@udea.edu.co",
         "4.0",
         null,
         "2.8"
        ],
        [
         "13",
         "1038436131",
         "ROHENES DE ARCO DIEGO ANDRES",
         "diego.rohenes@udea.edu.co",
         "0.0",
         "3.5",
         "0.0"
        ],
        [
         "14",
         "1038646944",
         "SILVA URDA FABIAN",
         "fabian.silva1@udea.edu.co",
         "4.3",
         "4.5",
         "4.2"
        ],
        [
         "15",
         "1007429411",
         "VILLA CABARCA SANDY JANETH",
         "sandy.villac@udea.edu.co",
         "3.7",
         "4.5",
         "3.1"
        ]
       ],
       "shape": {
        "columns": 6,
        "rows": 16
       }
      },
      "text/html": [
       "<div>\n",
       "<style scoped>\n",
       "    .dataframe tbody tr th:only-of-type {\n",
       "        vertical-align: middle;\n",
       "    }\n",
       "\n",
       "    .dataframe tbody tr th {\n",
       "        vertical-align: top;\n",
       "    }\n",
       "\n",
       "    .dataframe thead th {\n",
       "        text-align: right;\n",
       "    }\n",
       "</style>\n",
       "<table border=\"1\" class=\"dataframe\">\n",
       "  <thead>\n",
       "    <tr style=\"text-align: right;\">\n",
       "      <th></th>\n",
       "      <th>Cedula</th>\n",
       "      <th>Nombre</th>\n",
       "      <th>Email</th>\n",
       "      <th>p1</th>\n",
       "      <th>q2</th>\n",
       "      <th>p2</th>\n",
       "    </tr>\n",
       "  </thead>\n",
       "  <tbody>\n",
       "    <tr>\n",
       "      <th>0</th>\n",
       "      <td>1067281024</td>\n",
       "      <td>ALVAREZ GOEZ DAIRO ESTEBAN</td>\n",
       "      <td>dairo.alvarez1@udea.edu.co</td>\n",
       "      <td>2.8</td>\n",
       "      <td>NaN</td>\n",
       "      <td>3.5</td>\n",
       "    </tr>\n",
       "    <tr>\n",
       "      <th>1</th>\n",
       "      <td>1041086439</td>\n",
       "      <td>CASTILLO SIERRA SHIRLIS SARAY</td>\n",
       "      <td>shirlis.castillo@udea.edu.co</td>\n",
       "      <td>1.7</td>\n",
       "      <td>NaN</td>\n",
       "      <td>5.0</td>\n",
       "    </tr>\n",
       "    <tr>\n",
       "      <th>2</th>\n",
       "      <td>1045419649</td>\n",
       "      <td>ESPINOSA ESPINOSA LILIANA ANDREA</td>\n",
       "      <td>lilianaa.espinosa@udea.edu.co</td>\n",
       "      <td>1.7</td>\n",
       "      <td>NaN</td>\n",
       "      <td>4.0</td>\n",
       "    </tr>\n",
       "    <tr>\n",
       "      <th>3</th>\n",
       "      <td>1040494191</td>\n",
       "      <td>GARCIA PADILLA JHONATAN</td>\n",
       "      <td>jhonatan.garcia1@udea.edu.co</td>\n",
       "      <td>3.0</td>\n",
       "      <td>NaN</td>\n",
       "      <td>4.0</td>\n",
       "    </tr>\n",
       "    <tr>\n",
       "      <th>4</th>\n",
       "      <td>1038131529</td>\n",
       "      <td>HOYOS ARRIETA ELIECER JOSE</td>\n",
       "      <td>jose.hoyos2@udea.edu.co</td>\n",
       "      <td>5.0</td>\n",
       "      <td>3.5</td>\n",
       "      <td>5.0</td>\n",
       "    </tr>\n",
       "    <tr>\n",
       "      <th>5</th>\n",
       "      <td>1038116007</td>\n",
       "      <td>MARIAGA BALLESTEROS KEILA MELIZA</td>\n",
       "      <td>keila.mariaga@udea.edu.co</td>\n",
       "      <td>0.0</td>\n",
       "      <td>NaN</td>\n",
       "      <td>0.0</td>\n",
       "    </tr>\n",
       "    <tr>\n",
       "      <th>6</th>\n",
       "      <td>3667402</td>\n",
       "      <td>MARIN MARTINEZ FRANCISCO JAVIER</td>\n",
       "      <td>fjavier.marin@udea.edu.co</td>\n",
       "      <td>0.1</td>\n",
       "      <td>NaN</td>\n",
       "      <td>0.4</td>\n",
       "    </tr>\n",
       "    <tr>\n",
       "      <th>7</th>\n",
       "      <td>1038092575</td>\n",
       "      <td>OSORIO ACEVEDO LUIS MARIO</td>\n",
       "      <td>luismario.osorio@udea.edu.co</td>\n",
       "      <td>0.0</td>\n",
       "      <td>NaN</td>\n",
       "      <td>3.5</td>\n",
       "    </tr>\n",
       "    <tr>\n",
       "      <th>8</th>\n",
       "      <td>1038130817</td>\n",
       "      <td>PENATE PENA JHON SEBASTIAN</td>\n",
       "      <td>jhon.penate@udea.edu.co</td>\n",
       "      <td>1.7</td>\n",
       "      <td>NaN</td>\n",
       "      <td>5.0</td>\n",
       "    </tr>\n",
       "    <tr>\n",
       "      <th>9</th>\n",
       "      <td>1040494087</td>\n",
       "      <td>POLANCO LUCAS FABIER GABRIEL</td>\n",
       "      <td>fabier.polanco@udea.edu.co</td>\n",
       "      <td>0.7</td>\n",
       "      <td>NaN</td>\n",
       "      <td>0.0</td>\n",
       "    </tr>\n",
       "    <tr>\n",
       "      <th>10</th>\n",
       "      <td>1019842256</td>\n",
       "      <td>RODELO ZABALA ARIANA</td>\n",
       "      <td>a.rodelo@udea.edu.co</td>\n",
       "      <td>0.7</td>\n",
       "      <td>NaN</td>\n",
       "      <td>4.4</td>\n",
       "    </tr>\n",
       "    <tr>\n",
       "      <th>11</th>\n",
       "      <td>1042822239</td>\n",
       "      <td>RODRIGUEZ MOSQUERA ANGELA MARIA</td>\n",
       "      <td>maria.rodriguez8@udea.edu.co</td>\n",
       "      <td>1.9</td>\n",
       "      <td>NaN</td>\n",
       "      <td>5.0</td>\n",
       "    </tr>\n",
       "    <tr>\n",
       "      <th>12</th>\n",
       "      <td>1038436130</td>\n",
       "      <td>ROHENES DE ARCO CAMILO ANDRES</td>\n",
       "      <td>camilo.rohenes@udea.edu.co</td>\n",
       "      <td>4.0</td>\n",
       "      <td>NaN</td>\n",
       "      <td>2.8</td>\n",
       "    </tr>\n",
       "    <tr>\n",
       "      <th>13</th>\n",
       "      <td>1038436131</td>\n",
       "      <td>ROHENES DE ARCO DIEGO ANDRES</td>\n",
       "      <td>diego.rohenes@udea.edu.co</td>\n",
       "      <td>0.0</td>\n",
       "      <td>3.5</td>\n",
       "      <td>0.0</td>\n",
       "    </tr>\n",
       "    <tr>\n",
       "      <th>14</th>\n",
       "      <td>1038646944</td>\n",
       "      <td>SILVA URDA FABIAN</td>\n",
       "      <td>fabian.silva1@udea.edu.co</td>\n",
       "      <td>4.3</td>\n",
       "      <td>4.5</td>\n",
       "      <td>4.2</td>\n",
       "    </tr>\n",
       "    <tr>\n",
       "      <th>15</th>\n",
       "      <td>1007429411</td>\n",
       "      <td>VILLA CABARCA SANDY JANETH</td>\n",
       "      <td>sandy.villac@udea.edu.co</td>\n",
       "      <td>3.7</td>\n",
       "      <td>4.5</td>\n",
       "      <td>3.1</td>\n",
       "    </tr>\n",
       "  </tbody>\n",
       "</table>\n",
       "</div>"
      ],
      "text/plain": [
       "        Cedula                            Nombre  \\\n",
       "0   1067281024        ALVAREZ GOEZ DAIRO ESTEBAN   \n",
       "1   1041086439     CASTILLO SIERRA SHIRLIS SARAY   \n",
       "2   1045419649  ESPINOSA ESPINOSA LILIANA ANDREA   \n",
       "3   1040494191           GARCIA PADILLA JHONATAN   \n",
       "4   1038131529        HOYOS ARRIETA ELIECER JOSE   \n",
       "5   1038116007  MARIAGA BALLESTEROS KEILA MELIZA   \n",
       "6      3667402   MARIN MARTINEZ FRANCISCO JAVIER   \n",
       "7   1038092575         OSORIO ACEVEDO LUIS MARIO   \n",
       "8   1038130817        PENATE PENA JHON SEBASTIAN   \n",
       "9   1040494087      POLANCO LUCAS FABIER GABRIEL   \n",
       "10  1019842256              RODELO ZABALA ARIANA   \n",
       "11  1042822239   RODRIGUEZ MOSQUERA ANGELA MARIA   \n",
       "12  1038436130     ROHENES DE ARCO CAMILO ANDRES   \n",
       "13  1038436131      ROHENES DE ARCO DIEGO ANDRES   \n",
       "14  1038646944                 SILVA URDA FABIAN   \n",
       "15  1007429411        VILLA CABARCA SANDY JANETH   \n",
       "\n",
       "                            Email   p1   q2   p2  \n",
       "0      dairo.alvarez1@udea.edu.co  2.8  NaN  3.5  \n",
       "1    shirlis.castillo@udea.edu.co  1.7  NaN  5.0  \n",
       "2   lilianaa.espinosa@udea.edu.co  1.7  NaN  4.0  \n",
       "3    jhonatan.garcia1@udea.edu.co  3.0  NaN  4.0  \n",
       "4         jose.hoyos2@udea.edu.co  5.0  3.5  5.0  \n",
       "5       keila.mariaga@udea.edu.co  0.0  NaN  0.0  \n",
       "6       fjavier.marin@udea.edu.co  0.1  NaN  0.4  \n",
       "7    luismario.osorio@udea.edu.co  0.0  NaN  3.5  \n",
       "8         jhon.penate@udea.edu.co  1.7  NaN  5.0  \n",
       "9      fabier.polanco@udea.edu.co  0.7  NaN  0.0  \n",
       "10           a.rodelo@udea.edu.co  0.7  NaN  4.4  \n",
       "11   maria.rodriguez8@udea.edu.co  1.9  NaN  5.0  \n",
       "12     camilo.rohenes@udea.edu.co  4.0  NaN  2.8  \n",
       "13      diego.rohenes@udea.edu.co  0.0  3.5  0.0  \n",
       "14      fabian.silva1@udea.edu.co  4.3  4.5  4.2  \n",
       "15       sandy.villac@udea.edu.co  3.7  4.5  3.1  "
      ]
     },
     "execution_count": 3,
     "metadata": {},
     "output_type": "execute_result"
    }
   ],
   "source": [
    "import pandas as pd\n",
    "import numpy as np\n",
    "\n",
    "# Cargar la lista de estudiantes desde el archivo CSV\n",
    "path = 'C:/Users/marco/Documentos/docencia/groups_list/analisis_numerico.xlsx'\n",
    "df = pd.read_excel(path)\n",
    "df \n"
   ]
  },
  {
   "cell_type": "markdown",
   "id": "d7598d0a-d9b7-4ae0-b029-a0ed6ed1130b",
   "metadata": {},
   "source": [
    "\n",
    "# Principios de mi labor docente"
   ]
  },
  {
   "cell_type": "markdown",
   "id": "4f9d8cf9",
   "metadata": {
    "slideshow": {
     "slide_type": "slide"
    }
   },
   "source": [
    "## Modelo general de clase: [aula invertida](https://www3.gobiernodecanarias.org/medusa/ecoescuela/pedagotic/aprendizaje-invertido-flipped-classroom/)"
   ]
  },
  {
   "cell_type": "markdown",
   "id": "eb6ed03a",
   "metadata": {},
   "source": [
    "<img src = 'https://resources.maneuveringthemiddle.com/wp-content/uploads/2020/07/04212706/1-5.png' width = 200>  \n",
    "\n"
   ]
  },
  {
   "cell_type": "markdown",
   "id": "34319cce-a71b-4f64-aab8-b53e521efa40",
   "metadata": {},
   "source": [
    "# Metodología de Aprendizaje Basado en Problemas y Proyectos (ABPP) \n"
   ]
  },
  {
   "cell_type": "markdown",
   "id": "c4f73d81",
   "metadata": {},
   "source": [
    "\n",
    "<img src = 'https://www.unir.net/wp-content/uploads/2020/07/aprendizaje-problemas2-1-1-1-1.jpeg' width = 200>"
   ]
  },
  {
   "cell_type": "markdown",
   "id": "841a985c-bd9b-4dd3-8e4c-893983980af2",
   "metadata": {},
   "source": [
    "# Desarrollo del pensamiento computacional con Lenguajes Python, R; y con archivos Markdown y R-Markdown orientado a la formación en ciencia de datos \n",
    "\n"
   ]
  },
  {
   "cell_type": "markdown",
   "id": "3d0eba94",
   "metadata": {},
   "source": [
    "\n",
    "<img src = 'https://i.ytimg.com/vi/mcG_wcR4e6M/maxresdefault.jpg' width = 200>"
   ]
  },
  {
   "cell_type": "markdown",
   "id": "65aa0404-f7ae-495e-864c-1aec01b4255e",
   "metadata": {},
   "source": [
    "# Principio de fomento a la ciencia abierta, enseñar en el acceso a los datos públicos y el uso de software de código abierto  \n"
   ]
  },
  {
   "cell_type": "markdown",
   "id": "18ae9b87",
   "metadata": {},
   "source": [
    "\n",
    "<img src = 'https://unesdoc.unesco.org/in/rest/Thumb/image?id=p%3A%3Ausmarcdef_0000379949_spa&author=UNESCO&title=Recomendaci%C3%B3n+de+la+UNESCO+sobre+la+Ciencia+Abierta&year=2021&publisher=UNESCO&TypeOfDocument=UnescoPhysicalDocument&mat=PGD&ct=true&size=512&isPhysical=1' width = 200>"
   ]
  },
  {
   "cell_type": "markdown",
   "id": "d9559f85",
   "metadata": {},
   "source": [
    "El enfoque STEAMS en educación preescolar, primaria y secundaria es una extensión del enfoque STEM (Ciencia, Tecnología, Ingeniería y Matemáticas) y su variante STEAM, que incorpora el Arte. "
   ]
  },
  {
   "cell_type": "markdown",
   "id": "72e1cfd2",
   "metadata": {},
   "source": [
    "El acrónimo STEAMS incluye:\n"
   ]
  },
  {
   "cell_type": "markdown",
   "id": "03182fd1",
   "metadata": {},
   "source": [
    "\n",
    "1. **Science (Ciencia):** Fomenta la curiosidad por el mundo natural y el desarrollo de habilidades científicas, como la observación, experimentación y análisis.\n"
   ]
  },
  {
   "cell_type": "markdown",
   "id": "1306d0fa",
   "metadata": {},
   "source": [
    "\n",
    "2. **Technology (Tecnología):** Integra herramientas tecnológicas para potenciar el aprendizaje y la resolución de problemas, promoviendo la alfabetización digital desde edades tempranas.\n"
   ]
  },
  {
   "cell_type": "markdown",
   "id": "3b1a53e8",
   "metadata": {},
   "source": [
    "\n",
    "3. **Engineering (Ingeniería):** Introduce el pensamiento lógico y la resolución de problemas estructurados, fomentando habilidades como el diseño y la construcción de soluciones.\n"
   ]
  },
  {
   "cell_type": "markdown",
   "id": "0196de87",
   "metadata": {},
   "source": [
    "\n",
    "4. **Arts (Arte):** Añade creatividad y pensamiento crítico, permitiendo a los estudiantes expresarse y explorar el aprendizaje a través de formas artísticas (plásticas, música, teatro).\n"
   ]
  },
  {
   "cell_type": "markdown",
   "id": "8bcc485a",
   "metadata": {},
   "source": [
    "\n",
    "5. **Mathematics (Matemáticas):** Refuerza las habilidades numéricas y el razonamiento lógico, fundamentales en la resolución de problemas y comprensión de conceptos abstractos.\n"
   ]
  },
  {
   "cell_type": "markdown",
   "id": "907935f4",
   "metadata": {},
   "source": [
    "\n",
    "6. **Social Sciences (Ciencias Sociales):** Incorpora la comprensión del entorno social, político, cultural y económico, promoviendo el desarrollo de la conciencia crítica sobre el mundo y su historia, además de habilidades de empatía y ciudadanía.\n"
   ]
  },
  {
   "cell_type": "markdown",
   "id": "39967d63",
   "metadata": {},
   "source": [
    "\n",
    "El enfoque STEAMS pretende desarrollar un aprendizaje **interdisciplinario** que integre estas áreas para fomentar un pensamiento más holístico y práctico. "
   ]
  },
  {
   "cell_type": "markdown",
   "id": "5145f077",
   "metadata": {},
   "source": [
    "Se busca que los estudiantes no solo aprendan conocimientos técnicos, sino también cómo aplicarlos creativa y críticamente en situaciones reales, promoviendo habilidades como el trabajo en equipo, la comunicación y la innovación. "
   ]
  },
  {
   "cell_type": "markdown",
   "id": "9d556584",
   "metadata": {},
   "source": [
    "En educación preescolar, primaria, secundaria y superior, se adapta a las diferentes etapas de desarrollo cognitivo y emocional de los estudiantes, promoviendo el aprendizaje activo y contextualizado.  \n"
   ]
  },
  {
   "cell_type": "markdown",
   "id": "0130ec1b",
   "metadata": {},
   "source": [
    "\n",
    "<img src = 'https://www.campuseducacion.com/blog/wp-content/uploads/2023/03/foto01-1.jpg' width = 200>"
   ]
  },
  {
   "cell_type": "markdown",
   "id": "9d15c10d-2c02-4158-9419-b1ed79b4c1ee",
   "metadata": {},
   "source": [
    "# Qué estamos haciendo por la internalización en esta clase y este curso  \n"
   ]
  },
  {
   "cell_type": "markdown",
   "id": "6e4feef2",
   "metadata": {},
   "source": [
    "Estas son mis acciones como docente de matemáticas en la Universidad de Antioquia con miras a la **internacionalización** de mi práctica docente y el desarrollo de competencias internacionales para mis estudiantes, ls cuales he estructurado con el siguiente enfoque:\n"
   ]
  },
  {
   "cell_type": "markdown",
   "id": "964d9de7-53ee-4255-9bcd-d8e6454f2993",
   "metadata": {},
   "source": [
    "### 1. **Visión Global en la Formación Académica**\n"
   ]
  },
  {
   "cell_type": "markdown",
   "id": "d9bdd3e2",
   "metadata": {},
   "source": [
    "   - **Competencias Internacionales**: Asegúrate de que el contenido de tus cursos fomente habilidades que sean reconocidas globalmente. "
   ]
  },
  {
   "cell_type": "markdown",
   "id": "02eefcc4",
   "metadata": {},
   "source": [
    "Al educar a los estudiantes en **Python, LaTeX, Markdown y Jupyter Notebooks** y en la **introducción a la ciencia de datos y técnicas de Machine Learning**, estás proporcionando competencias altamente demandadas en los sectores tecnológicos y académicos a nivel internacional.\n"
   ]
  },
  {
   "cell_type": "markdown",
   "id": "39b55206",
   "metadata": {},
   "source": [
    "   - **Relevancia de los Contenidos**: Destaca cómo los temas que enseñas, como el **desarrollo del pensamiento computacional** y la **ciencia de datos**, están alineados con las necesidades globales actuales en diversas industrias, desde la tecnología hasta las ciencias naturales y sociales.\n"
   ]
  },
  {
   "cell_type": "markdown",
   "id": "a054599e",
   "metadata": {},
   "source": [
    "   - **Referencias a Estándares Internacionales**: Puedes vincular tu enseñanza a estándares internacionales de competencias en programación y ciencia de datos (por ejemplo, frameworks del **IEEE, ACM**, y estándares de la **data science** o la **computación en la nube**)."
   ]
  },
  {
   "cell_type": "markdown",
   "id": "0f1d110c-3142-48fe-9e7d-5fbd9e8bb931",
   "metadata": {},
   "source": [
    "### 2. **Innovación Pedagógica con Enfoque Internacional**\n"
   ]
  },
  {
   "cell_type": "markdown",
   "id": "fae6ae34",
   "metadata": {},
   "source": [
    "   - **Aula Invertida y ABP**: Presenta cómo tu enfoque de **aula invertida** y **aprendizaje basado en problemas (ABP)** permite a los estudiantes trabajar de manera autónoma y colaborativa, lo que los prepara para escenarios laborales internacionales que requieren autoaprendizaje y habilidades de resolución de problemas en equipo.\n"
   ]
  },
  {
   "cell_type": "markdown",
   "id": "c83062d9",
   "metadata": {},
   "source": [
    "   - **Uso de Jupyter Notebooks**: El uso de **Jupyter Notebooks** en tus clases no solo facilita la **integración de código, matemáticas y texto**, sino que también es una plataforma utilizada globalmente en ambientes académicos y profesionales, lo que hace a tus estudiantes más competitivos internacionalmente."
   ]
  },
  {
   "cell_type": "markdown",
   "id": "960d52b7-03cd-4eb3-965e-5cdfeb7d9f8e",
   "metadata": {},
   "source": [
    "### 3. **Tecnología y Herramientas de Uso Global**\n"
   ]
  },
  {
   "cell_type": "markdown",
   "id": "4be7269f",
   "metadata": {},
   "source": [
    "   - **Lenguaje Python**: Python es uno de los lenguajes de programación más usados a nivel mundial, tanto en la academia como en la industria. "
   ]
  },
  {
   "cell_type": "markdown",
   "id": "5abb1c38",
   "metadata": {},
   "source": [
    "Al formar a tus estudiantes en Python para ciencia de datos y machine learning, los preparas para operar en entornos tecnológicos globales.\n"
   ]
  },
  {
   "cell_type": "markdown",
   "id": "102655af",
   "metadata": {},
   "source": [
    "   - **Herramientas de Ciencia Abierta**: Resalta cómo herramientas como **GitHub**, **Google Colab** y otras plataformas de código abierto están alineadas con el movimiento de **ciencia abierta**, el cual es internacionalmente reconocido y permite que los estudiantes colaboren y compartan proyectos a nivel global."
   ]
  },
  {
   "cell_type": "markdown",
   "id": "3b2ffa32-7a6f-4545-ba7b-c6a69f51109f",
   "metadata": {},
   "source": [
    "### 4. **Investigación y Publicaciones Internacionales**\n"
   ]
  },
  {
   "cell_type": "markdown",
   "id": "10e55ccf",
   "metadata": {},
   "source": [
    "# Estructura general para todas las clases\n",
    "\n",
    "Dame, por favor, un diseño de clase, con el enfoque: \"Aula Invertida, STEAMS y De aprendizaje basado en problemas y proyectos(ABPP)\" sobre: \"Derivación numérica y su utilidad en análisis de datos con redes neuronales o deep learning\", siguiendo la estructura:  \n",
    "\n",
    "1. Título de la clase   \n",
    "   \n",
    "2. Objetivos de aprendizaje que incluyan los indicadores del logro de estos objetivos.\n",
    "   \n",
    "3. Un mapa conceptual que resuma la clase elaborado en Graphviz de Python con nodos y edges de diferentes formas, colores y rellenos y renderizado en la siguiente ubicación: `\"C:/Users/marco/Downloads\"`. No olvides el parámetro `view = True` para el método `render()` de Graphviz. Para este mapa controla las superposiciones de los nodos con: graph [overlap=false]; // Elimina superposiciones (puede aumentar el espacio) \n",
    "graph [overlap=\"scalexy\"]; // Escala el gráfico para evitar overlaps\n",
    "graph [overlap=\"compress\"]; // Comprime el grafo sin overlaps  \n",
    "   \n",
    "4. Dame elementos históricos y epistemológicos asociados a esta clase, pero contados como un cuento al estilo de un cuentero antioqueño en Colombia. Incluye imágenes de los protagonistas históricos de esta clase.   \n",
    "   \n",
    "5. Contenido de la clase. Que el contenido parta de una situación real para llegar a una constitución del modelo matemático que represente tal situación real.    \n",
    "     \n",
    "6. Actividades de aprendizaje: que incluya pruebas de escritorio para los algoritmos en forma verbal y seudo código, diagrama de flujo, y la implementación del algoritmo en lenguaje Python.   \n",
    "   \n",
    "7. Incluye una canción o un poema que ayude a interiorizar y fijar los conceptos asociados a esta clase.   \n",
    "   \n",
    "8.  Tarea o actividades de ejercitación y fijación.  \n",
    "    \n",
    "9. Evaluación incluyendo diez proyectos, un ejemplo de quiz y un ejemplo de parcial.  \n",
    "    \n",
    "10. Diseño de actividad de retroalimentación.   \n",
    "    \n",
    "11. Dame un vocabulario y frases del idioma inglés asociadas a esta clase.  \n",
    "\n",
    "12.  Incluye apéndice para la clase sobre desarrollo de habilidades para trabajar en equipo y de asertividad y empatía para relacionarnos. También elementos de la inteligencia emocional para presentar pruebas sin temor y sin realizar fraude en ellas. Y Actividades para desarrollar la habilidad de la Tolerancia    \n",
    "     \n",
    "13. Incluye 5 referentes en didáctica de la matemática que estén de acuerdo a la propuesta didáctica de esta clase. Adiciona a estos referentes a Raymond Duval (Representaciones y cambios de representación para la adquisición de conceptos matemáticos) y a Jeannette Wing (Desarrollo del pensamiento computacional). Dejame todos estos referentes ordenados de acuerdo a las normas APA. Incluye un referente en didáctica de la matemática que fundamente el uso del Enfoque de Aula Invertida, uno que fundamente el enfoque STEAMS y finalmente otro que fundamente el enfoque de Aprendizaje Basado en Problemas y Proyectos (ABPP)\n",
    "  \n",
    "\n",
    "Pero  que este diseño sea para que el estudiante pueda aprender experimentando en cuadernos Jupyter con funciones de usuario y animaciones y visualizaciones en Python.    \n",
    "\n",
    "En particular utiliza para el diseño de clase a Numpy, Pandas, SymPy, Matplotlib.pyplot, Seaborn, Plotly, ipywidgets, matplotlib.animation y Jupyter Notebook.    \n",
    "\n",
    "Cada vez que utilices `matplotlib.animacion` no olvides incluir el uso de `IPython. display` para la renderización de estas animaciones a través de Jupyter Notebook.    \n",
    "\n",
    "No olvides darme los diseños de clase con las ecuaciones matemáticas delimitadas con signo de dólar $ para que VS Code si me renderice estas expresiones del lenguaje latex. Cuando vallas a utilizar ipywidgets ten en cuenta la siguiente importación inicial para garantizar que la visualización interactiva si se renderice en VS Code:    \n",
    " \n",
    "import numpy as np  \n",
    "import matplotlib.pyplot as plt  \n",
    "import ipywidgets as widgets  \n"
   ]
  },
  {
   "cell_type": "markdown",
   "id": "6390f8a5",
   "metadata": {},
   "source": [
    "[![Isaac Newton - Wikipedia](https://images.openai.com/thumbnails/url/4YhPqnicu5meUVJSUGylr5-al1xUWVCSmqJbkpRnoJdeXJJYkpmsl5yfq5-Zm5ieWmxfaAuUsXL0S7F0Tw7JNjYzSkvMjPAzyDaMiA9NCQnK8Ak1rvDysDROLzGpyikvSqyKSjP09LYIVCu2NTQAAP88JK0)](https://en.wikipedia.org/wiki/Isaac_Newton?utm_source=chatgpt.com)\n"
   ]
  },
  {
   "cell_type": "markdown",
   "id": "c299678b",
   "metadata": {},
   "source": [
    "\n",
    "# **Derivación numérica y su utilidad en análisis de datos con redes neuronales / Deep Learning — Experimentando en Jupyter**\n"
   ]
  },
  {
   "cell_type": "markdown",
   "id": "2c6aae57",
   "metadata": {},
   "source": [
    "\n",
    "# 2. Objetivos de aprendizaje (con indicadores de logro)\n",
    "\n",
    "1. Objetivo 1 — Comprender la idea matemática de derivada y su aproximación numérica.\n",
    "\n",
    "   * Indicador A: El estudiante define $f'(x)$ y escribe la fórmula de diferencias finitas hacia adelante, centrada y hacia atrás.\n",
    "   * Indicador B: El estudiante calcula a mano y con Python la derivada aproximada de funciones simples y compara con la derivada analítica con error relativo < 5% en ejemplos dados.\n",
    "\n",
    "2. Objetivo 2 — Implementar en Python métodos de derivación numérica y evaluar su orden de error.\n",
    "\n",
    "   * Indicador A: El estudiante implementa diferencias finitas de orden 1 y 2, y una fórmula centrada de orden 2.\n",
    "   * Indicador B: El estudiante genera tablas de convergencia (error vs. $h$) y obtiene la pendiente esperada en la gráfica log-log.\n",
    "\n",
    "3. Objetivo 3 — Relacionar la derivación numérica con el cálculo de gradientes en redes neuronales y aplicar comprobación de gradientes (gradient checking).\n",
    "\n",
    "   * Indicador A: El estudiante implementa gradient checking para una red neuronal simple con una función de pérdida $J(\\theta)$.\n",
    "   * Indicador B: La discrepancia entre gradientes analíticos y numéricos es menor que $10^{-6}$ en un ejemplo de toy network.\n",
    "\n",
    "4. Objetivo 4 — Interpretar usos prácticos: optimización, sensibilidad, detección de ruido y regularización numérica.\n",
    "\n",
    "   * Indicador A: El estudiante identifica casos reales (datos ruidosos) donde diferencias centradas son preferibles.\n",
    "   * Indicador B: Propone estrategias numéricas para estabilizar gradientes (regularización, step-size).\n"
   ]
  },
  {
   "cell_type": "markdown",
   "id": "19ea4522",
   "metadata": {},
   "source": [
    "\n",
    "# 3. Mapa conceptual (Graphviz en Python)\n"
   ]
  },
  {
   "cell_type": "markdown",
   "id": "44d9675e",
   "metadata": {},
   "source": [
    "\n",
    "A continuación el código para generar el mapa conceptual con Graphviz. Guarda y ejecuta en Jupyter/VS Code (asegúrate de tener `graphviz` instalado y el paquete `graphviz` de Python).\n"
   ]
  },
  {
   "cell_type": "code",
   "execution_count": 19,
   "id": "cab14d19",
   "metadata": {},
   "outputs": [
    {
     "data": {
      "text/plain": [
       "'C:\\\\Users\\\\marco\\\\Downloads\\\\derivacion_mapa.pdf'"
      ]
     },
     "execution_count": 19,
     "metadata": {},
     "output_type": "execute_result"
    }
   ],
   "source": [
    "# Mapa conceptual en Graphviz (pygraphviz/graphviz)\n",
    "from graphviz import Digraph\n",
    "\n",
    "g = Digraph('DerivacionNumerica', format='pdf')\n",
    "# Configuración global para controlar superposiciones\n",
    "g.attr(overlap='false')          # o \"scalexy\" o \"compress\" según prefieras\n",
    "# nodos: diferentes formas, colores y relleno\n",
    "g.node('A', \"Derivada (f'(x))\", shape='oval', style='filled', fillcolor='#ffefc4')\n",
    "g.node('B', 'Diferencias finitas', shape='box', style='filled', fillcolor='#c4e3ff')\n",
    "g.node('C', 'Errores y orden', shape='diamond', style='filled', fillcolor='#ffd6e0')\n",
    "g.node('D', 'Gradient Checking', shape='ellipse', style='filled', fillcolor='#d4ffd6')\n",
    "g.node('E', 'Redes Neuronales', shape='box3d', style='filled', fillcolor='#e6d4ff')\n",
    "g.node('F', 'Aplicaciones (optimización, sensibilidad)', shape='note', style='filled', fillcolor='#fff2c4')\n",
    "g.node('G', 'Visualización y Animación', shape='oval', style='filled', fillcolor='#cfe8ff')\n",
    "\n",
    "# edges con estilos\n",
    "g.edge('A','B', label='Aproximación', color='black')\n",
    "g.edge('B','C', label='Convergencia', style='dashed')\n",
    "g.edge('B','D', label='Usado en', color='blue')\n",
    "g.edge('D','E', label='Comprueba gradientes', style='bold')\n",
    "g.edge('E','F', label='Optimización y regularización', color='purple')\n",
    "g.edge('G','B', label='Animaciones de h -> 0', style='dotted')\n",
    "g.edge('G','E', label='Visualizar gradientes', style='dotted')\n",
    "\n",
    "# render en la ruta solicitada (Windows)\n",
    "# ruta: \"C:/Users/marco/Downloads/derivacion_mapa\"\n",
    "g.render(filename=r\"C:/Users/marco/Downloads/derivacion_mapa\", view=True)\n",
    "\n"
   ]
  },
  {
   "cell_type": "markdown",
   "id": "0c43a406",
   "metadata": {},
   "source": [
    "\n",
    "Sugerencias de overlap: prueba `overlap='false'`, `overlap='scalexy'` o `overlap='compress'` para mejorar presentación.\n"
   ]
  },
  {
   "cell_type": "markdown",
   "id": "a635e161",
   "metadata": {},
   "source": [
    "\n",
    "# 4. Elementos históricos y epistemológicos — cuento al estilo antioqueño\n"
   ]
  },
  {
   "cell_type": "markdown",
   "id": "c87b0a2f",
   "metadata": {},
   "source": [
    "\n",
    "\n",
    "Hace muchos años, en una vereda donde los cafetales se inclinaban como olas, vivía un cuentero que decía: “¿Qué es eso de la derivada? —es la manera que tiene la vida de medir cómo cambia la panela cuando la subes o la deces cuando la dejas caer.”    \n",
    "\n",
    "Y entonces contó la historia de don Isaac y el señor Leibniz, dos hacedores de cuentas que, como dos vecinos que discutían por el mejor paseo del pueblo, afinaron las ideas del cambio. Don Isaac —según contaba el cuentero— veía el mundo como manzanas que caían y curvas que doblaban; el señor Leibniz lo veía como signos y reglas para transformar esas curvas en números.   \n",
    "\n",
    "Más tarde, los jóvenes sabios que trabajaban con reglas y máquinas de cuentas (los matemáticos y los ingenieros) inventaron trucos —diferencias finitas— para cuando la manzana no viene con fórmula por escrito. Y después, con la llegada de las máquinas pensantes, aparecieron redes que necesitaban saber “hacia qué lado empujar” los parámetros: ahí nació el rumor del backpropagation.   \n",
    "\n",
    "El cuentero cerró: “Y así, del campo a la máquina, la derivada fue siempre la brújula que dice hacia dónde mover la yegua si quieres llegar más rápido al potrero”.\n",
    "\n",
    "\n"
   ]
  },
  {
   "cell_type": "markdown",
   "id": "82e3a8b8",
   "metadata": {},
   "source": [
    "\n",
    "# 5. Contenido de la clase (de una situación real al modelo matemático)\n"
   ]
  },
  {
   "cell_type": "markdown",
   "id": "3dcecb1c",
   "metadata": {},
   "source": [
    "\n",
    "# Situación real (problema impulsor):   \n",
    "\n",
    "un sensor en una plantación mide humedad $m(t)$ cada segundo con ruido. Queremos estimar la tasa de cambio de humedad para activar un riego predictivo antes de que la planta sufra estrés. No tenemos un modelo analítico, sólo datos discretos.\n"
   ]
  },
  {
   "cell_type": "markdown",
   "id": "f54e3de5",
   "metadata": {},
   "source": [
    "\n",
    "* Modelado: dada una serie temporal ruidosa $m_i = m(t_i)$ con $t_{i+1}-t_i = h$, aproximamos $m'(t_i)$ por:\n",
    "\n",
    "  * diferencia hacia adelante: $\\displaystyle f'(t_i) \\approx \\frac{m_{i+1}-m_i}{h}$\n",
    "  * diferencia hacia atrás: $\\displaystyle f'(t_i) \\approx \\frac{m_i - m_{i-1}}{h}$\n",
    "  * centrada (orden 2): $\\displaystyle f'(t_i) \\approx \\frac{m_{i+1}-m_{i-1}}{2h}$\n",
    "* Analizar error: para $f\\in C^3$ la fórmula centrada tiene error $\\mathcal{O}(h^2)$.\n",
    "* Extensión al deep learning: en redes neuronales, los gradientes (derivadas parciales) guían la actualización $\\theta \\leftarrow \\theta - \\eta \\nabla_\\theta J(\\theta)$. Si no podemos calcular gradiente exacto, usamos aproximación numérica para comprobar la implementación (gradient checking).\n"
   ]
  },
  {
   "cell_type": "markdown",
   "id": "b60b95e6",
   "metadata": {},
   "source": [
    "\n",
    "# 6. Actividades de aprendizaje (con pruebas de escritorio, pseudocódigo, diagrama de flujo e implementación en Python)\n",
    "\n",
    "## Actividad A — Prueba de escritorio (verbal + paso a paso)\n",
    "\n",
    "Función $f(x)=\\sin(x)$, $x_0=\\pi/3$, $h=0.1$:\n",
    "\n",
    "* Calcula $f'(x_0)$ analítico: $f'(x)=\\cos(x)$ → $\\cos(\\pi/3)=0.5$.\n",
    "* Diferencia centrada: $(\\sin(x_0+h)-\\sin(x_0-h))/(2h)$. Evalúa numéricamente y calcula error absoluto.\n",
    "\n",
    "## Pseudocódigo — diferencias centradas\n",
    "\n",
    "```\n",
    "input: vector x[0..n], vector f[0..n], paso h\n",
    "for i in 1..n-1:\n",
    "    dfdx[i] = (f[i+1] - f[i-1]) / (2*h)\n",
    "handle boundaries with forward/backward\n",
    "output: dfdx\n",
    "```\n"
   ]
  },
  {
   "cell_type": "markdown",
   "id": "35b19644",
   "metadata": {},
   "source": [
    "\n",
    "## Diagrama de flujo (breve)\n",
    "\n",
    "1. Leer datos (t, f)\n",
    "2. Elegir h y esquema (centrado/adelante/atrás)\n",
    "3. Calcular aproximaciones para cada t_i\n",
    "4. Calcular error (si f' analítica conocida)\n",
    "5. Visualizar y guardar resultados\n"
   ]
  },
  {
   "cell_type": "markdown",
   "id": "205de428",
   "metadata": {},
   "source": [
    "\n",
    "# Implementación en Python\n",
    "\n",
    "Asegúrate de las importaciones iniciales que pediste:\n"
   ]
  },
  {
   "cell_type": "markdown",
   "id": "5d27184a",
   "metadata": {},
   "source": [
    "# Recordemos el concepto de derivada de una función $f$ en una punto de su gráfico"
   ]
  },
  {
   "cell_type": "markdown",
   "id": "f40d64ec",
   "metadata": {},
   "source": [
    "## La pendiente de una función lineal como derivada \n",
    "\n",
    "$$m = \\frac{y_{2} - y_{1}}{x_{2} - x_{1}} \\quad : \\text{Cociente de diferencias}$$\n",
    "\n",
    "o razón de cambio promedio entre dos puntos."
   ]
  },
  {
   "cell_type": "markdown",
   "id": "a5d2cc98",
   "metadata": {},
   "source": [
    "# Pendiente de una función no lineal: Derivada general \n",
    "\n",
    "$$f'(x) = \\lim_{h \\to 0} \\frac{f(x+h) - f(x)}{h}$$"
   ]
  },
  {
   "cell_type": "code",
   "execution_count": null,
   "id": "69df8cef",
   "metadata": {},
   "outputs": [],
   "source": []
  },
  {
   "cell_type": "code",
   "execution_count": 2,
   "id": "457f16f6",
   "metadata": {},
   "outputs": [],
   "source": [
    "import numpy as np\n",
    "import pandas as pd\n",
    "import sympy as sp\n",
    "import matplotlib.pyplot as plt\n",
    "import seaborn as sns\n",
    "import plotly.express as px\n",
    "import ipywidgets as widgets\n",
    "from IPython.display import HTML, display\n",
    "import matplotlib.animation as animation\n",
    "\n"
   ]
  },
  {
   "cell_type": "markdown",
   "id": "2a222dce",
   "metadata": {},
   "source": [
    "\n",
    "# Código: diferencias finitas y tabla de convergencia\n"
   ]
  },
  {
   "cell_type": "code",
   "execution_count": 3,
   "id": "b4822ce2",
   "metadata": {},
   "outputs": [
    {
     "data": {
      "application/vnd.microsoft.datawrangler.viewer.v0+json": {
       "columns": [
        {
         "name": "index",
         "rawType": "int64",
         "type": "integer"
        },
        {
         "name": "h",
         "rawType": "float64",
         "type": "float"
        },
        {
         "name": "error",
         "rawType": "float64",
         "type": "float"
        }
       ],
       "ref": "66fb705b-d879-4d5f-84ee-622f8a312c91",
       "rows": [
        [
         "0",
         "0.1",
         "0.0008329167658590597"
        ],
        [
         "1",
         "0.01",
         "8.333291661943854e-06"
        ],
        [
         "2",
         "0.001",
         "8.333339540644857e-08"
        ],
        [
         "3",
         "0.0001",
         "8.338326695778164e-10"
        ],
        [
         "4",
         "1e-05",
         "7.826794767851197e-12"
        ],
        [
         "5",
         "1e-06",
         "4.113342999545466e-11"
        ],
        [
         "6",
         "1e-07",
         "2.919334773920923e-10"
        ],
        [
         "7",
         "1e-08",
         "3.0387355964833773e-09"
        ]
       ],
       "shape": {
        "columns": 2,
        "rows": 8
       }
      },
      "text/html": [
       "<div>\n",
       "<style scoped>\n",
       "    .dataframe tbody tr th:only-of-type {\n",
       "        vertical-align: middle;\n",
       "    }\n",
       "\n",
       "    .dataframe tbody tr th {\n",
       "        vertical-align: top;\n",
       "    }\n",
       "\n",
       "    .dataframe thead th {\n",
       "        text-align: right;\n",
       "    }\n",
       "</style>\n",
       "<table border=\"1\" class=\"dataframe\">\n",
       "  <thead>\n",
       "    <tr style=\"text-align: right;\">\n",
       "      <th></th>\n",
       "      <th>h</th>\n",
       "      <th>error</th>\n",
       "    </tr>\n",
       "  </thead>\n",
       "  <tbody>\n",
       "    <tr>\n",
       "      <th>0</th>\n",
       "      <td>1.000000e-01</td>\n",
       "      <td>8.329168e-04</td>\n",
       "    </tr>\n",
       "    <tr>\n",
       "      <th>1</th>\n",
       "      <td>1.000000e-02</td>\n",
       "      <td>8.333292e-06</td>\n",
       "    </tr>\n",
       "    <tr>\n",
       "      <th>2</th>\n",
       "      <td>1.000000e-03</td>\n",
       "      <td>8.333340e-08</td>\n",
       "    </tr>\n",
       "    <tr>\n",
       "      <th>3</th>\n",
       "      <td>1.000000e-04</td>\n",
       "      <td>8.338327e-10</td>\n",
       "    </tr>\n",
       "    <tr>\n",
       "      <th>4</th>\n",
       "      <td>1.000000e-05</td>\n",
       "      <td>7.826795e-12</td>\n",
       "    </tr>\n",
       "    <tr>\n",
       "      <th>5</th>\n",
       "      <td>1.000000e-06</td>\n",
       "      <td>4.113343e-11</td>\n",
       "    </tr>\n",
       "    <tr>\n",
       "      <th>6</th>\n",
       "      <td>1.000000e-07</td>\n",
       "      <td>2.919335e-10</td>\n",
       "    </tr>\n",
       "    <tr>\n",
       "      <th>7</th>\n",
       "      <td>1.000000e-08</td>\n",
       "      <td>3.038736e-09</td>\n",
       "    </tr>\n",
       "  </tbody>\n",
       "</table>\n",
       "</div>"
      ],
      "text/plain": [
       "              h         error\n",
       "0  1.000000e-01  8.329168e-04\n",
       "1  1.000000e-02  8.333292e-06\n",
       "2  1.000000e-03  8.333340e-08\n",
       "3  1.000000e-04  8.338327e-10\n",
       "4  1.000000e-05  7.826795e-12\n",
       "5  1.000000e-06  4.113343e-11\n",
       "6  1.000000e-07  2.919335e-10\n",
       "7  1.000000e-08  3.038736e-09"
      ]
     },
     "execution_count": 3,
     "metadata": {},
     "output_type": "execute_result"
    }
   ],
   "source": [
    "def forward_diff(f, x, h):\n",
    "    return (f(x + h) - f(x)) / h\n",
    "\n",
    "def centered_diff(f, x, h):\n",
    "    return (f(x + h) - f(x - h)) / (2*h)\n",
    "\n",
    "def backward_diff(f, x, h):\n",
    "    return (f(x)- f(x-h)) / h\n",
    "\n",
    "\n",
    "# ejemplo: f = np.sin\n",
    "x0 = np.pi/3\n",
    "hs = 10.0**(-np.arange(1,9))\n",
    "errors = []\n",
    "for h in hs:\n",
    "    approx = centered_diff(np.sin, x0, h)\n",
    "    exact = np.cos(x0)\n",
    "    errors.append(abs(approx - exact))\n",
    "\n",
    "# tabla con pandas\n",
    "df = pd.DataFrame({'h': hs, 'error': errors})\n",
    "df\n"
   ]
  },
  {
   "cell_type": "code",
   "execution_count": 4,
   "id": "ed91dcd3",
   "metadata": {},
   "outputs": [
    {
     "data": {
      "image/png": "[encoded data removed]",
      "text/plain": [
       "<Figure size 640x480 with 1 Axes>"
      ]
     },
     "metadata": {},
     "output_type": "display_data"
    }
   ],
   "source": [
    "\n",
    "# gráfica log-log\n",
    "plt.loglog(df['h'], df['error'], marker='o')\n",
    "plt.xlabel('h'); plt.ylabel('error absoluto'); plt.title('Convergencia diferencias centradas')\n",
    "plt.grid(True)\n",
    "plt.savefig(r\"C:\\Users\\marco\\Downloads\\convergencia_diferencias_centradas.png\")\n",
    "plt.show()\n",
    "\n"
   ]
  },
  {
   "cell_type": "markdown",
   "id": "ceb8c14a",
   "metadata": {},
   "source": [
    "\n",
    "# Código: gradient checking para una red neuronal simple (sin librerías deep)\n"
   ]
  },
  {
   "cell_type": "code",
   "execution_count": 17,
   "id": "8e8709d9",
   "metadata": {},
   "outputs": [],
   "source": [
    "# red simple: una capa fully connected con sigmoide; pérdida MSE\n",
    "def sigmoid(z): return 1/(1+np.exp(-z))\n",
    "\n",
    "def forward(X, W, b):\n",
    "    Z = X.dot(W) + b\n",
    "    A = sigmoid(Z)\n",
    "    return A\n",
    "\n",
    "def cost(A, Y):\n",
    "    return 0.5 * np.mean((A-Y)**2)\n",
    "\n",
    "# analytic grads (backprop)\n",
    "def grads(X, Y, W, b):\n",
    "    A = forward(X, W, b)\n",
    "    dA = (A - Y) / X.shape[0]\n",
    "    dZ = dA * A * (1-A)\n",
    "    dW = X.T.dot(dZ)\n",
    "    db = np.sum(dZ, axis=0)\n",
    "    return dW, db\n",
    "\n",
    "# numeric gradient checking\n",
    "def numeric_grad(X, Y, W, b, epsilon=1e-6):\n",
    "    numeric_dW = np.zeros_like(W)\n",
    "    it = np.nditer(W, flags=['multi_index'], op_flags=['readwrite'])\n",
    "    base_cost = cost(forward(X, W, b), Y)\n",
    "    while not it.finished:\n",
    "        idx = it.multi_index\n",
    "        Wp = W.copy(); Wm = W.copy()\n",
    "        Wp[idx] += epsilon\n",
    "        Wm[idx] -= epsilon\n",
    "        cplus = cost(forward(X, Wp, b), Y)\n",
    "        cminus = cost(forward(X, Wm, b), Y)\n",
    "        numeric_dW[idx] = (cplus - cminus) / (2*epsilon)\n",
    "        it.iternext()\n",
    "    # numeric db\n",
    "    b_plus = b + epsilon\n",
    "    b_minus = b - epsilon\n",
    "    cplus = cost(forward(X, W, b_plus), Y)\n",
    "    cminus = cost(forward(X, W, b_minus), Y)\n",
    "    numeric_db = (cplus - cminus) / (2*epsilon)\n",
    "    return numeric_dW, numeric_db\n",
    "\n"
   ]
  },
  {
   "cell_type": "markdown",
   "id": "55762174",
   "metadata": {},
   "source": [
    "\n",
    "# 7. Canción / poema para interiorizar conceptos\n",
    "\n",
    "**Poema (breve, cantable)**\n",
    "\n",
    "Deriva, deriva, pequeña curva al andar,\n",
    "si tu ritmo yo persigo te puedo explicar.\n",
    "Con h muy chiquito, centrada en el compás,\n",
    "sale el número exacto que al cambio le da paz.\n",
    "\n",
    "(Canción de 4 compases sencilla — pídeles crear una versión con ritmo de bambuco para memorización.)\n"
   ]
  },
  {
   "cell_type": "markdown",
   "id": "0082de48",
   "metadata": {},
   "source": [
    "\n",
    "# 8. Tareas y ejercicios de fijación\n",
    "\n",
    "1. (Notebook) Implementar diferencias forward/center/backward y comparar con derivada simbólica de SymPy para $f(x)=e^{-x}\\sin(2x)$ en $x=0.7$ para $h=10^{-k}, k=1..8$; graficar convergencia.\n",
    "2. Implementar una función que, dada una serie temporal ruidosa, estime la derivada usando smoothing previo (filtro de Savitzky-Golay con `scipy.signal.savgol_filter`) y comparar con derivadas sin suavizar.\n",
    "3. Implementar gradient checking para una red de 2 capas y justificar discrepancias.\n",
    "4. (Proyecto corto) Usar datos reales (por ejemplo, una serie de temperatura) y construir un predictor simple que use la derivada estimada como característica; comparar rendimiento con/ sin característica.\n",
    "5. Crear una animación que muestre cómo cambia la aproximación conforme disminuye $h$ y subirla como entregable.\n"
   ]
  },
  {
   "cell_type": "markdown",
   "id": "d39a9395",
   "metadata": {},
   "source": [
    "\n",
    "# 9. Evaluación\n",
    "\n",
    "## 10 proyectos sugeridos (breves descripciones)\n",
    "\n",
    "1. Detección temprana de sequía: derivada de humedad en sensores.\n",
    "2. Estimación de velocidad y aceleración en datos GPS con ruido.\n",
    "3. Implementar y comparar esquemas de derivación de orden 4 en funciones polinómicas y trigonométricas.\n",
    "4. Gradient checking extensivo en una red para clasificación de dígitos (subset de MNIST).\n",
    "5. Visualización interactiva (ipywidgets) de error vs. h para varias funciones.\n",
    "6. Estudio sobre estabilidad numérica del método de Newton-Raphson usando derivadas numéricas.\n",
    "7. Uso de derivadas numéricas para estimar sensibilidad de predictores en un modelo de regresión.\n",
    "8. Implementar backprop de una red con ReLU y estudiar problemas de gradientes vanishing/exploding.\n",
    "9. Creación de una librería pequeña (Python) con funciones de derivación numérica y tests unitarios.\n",
    "10. Comparación entre autodiferenciación (p.ej. JAX/PyTorch) y derivadas numéricas: ventajas y tiempos.\n"
   ]
  },
  {
   "cell_type": "markdown",
   "id": "882a3369",
   "metadata": {},
   "source": [
    "\n",
    "## Ejemplo de quiz (10 min, opción múltiple)\n",
    "\n",
    "1. La aproximación centrada de la derivada tiene error de orden:\n",
    "   a) $\\mathcal{O}(h)$  \n",
    "   b) $\\mathcal{O}(h^2)$  c) $\\mathcal{O}(h^3)$  d) $\\mathcal{O}(1)$\n",
    "   (Respuesta: b)\n",
    "\n",
    "2. En gradient checking, se recomienda usar $\\epsilon$ aproximadamente:  \n",
    "   \n",
    "   a) 1  \n",
    "   b) $10^{-1}$   \n",
    "   c) $10^{-6}$   \n",
    "   d) $10^{-12}$  \n",
    "\n",
    "   (Respuesta: c)\n"
   ]
  },
  {
   "cell_type": "markdown",
   "id": "b1d685f2",
   "metadata": {},
   "source": [
    "\n",
    "## Ejemplo de parcial (práctico, 90 minutos)\n",
    "\n",
    "* Parte A (30 min): Dada $f(x)=\\ln(1+x^2)$, derive analíticamente $f'(x)$ y calcule $f'(0.5)$.\n",
    "* Parte B (30 min): Implementa en Python la fórmula centrada y un test de convergencia; adjunta la gráfica log-log de error vs $h$.\n",
    "\n"
   ]
  },
  {
   "cell_type": "markdown",
   "id": "10e61a61",
   "metadata": {},
   "source": [
    "# Actividad de clase  \n",
    "\n",
    "Estimar la derivada en un punto con los tres cocientes vistos:   \n",
    "\n",
    "Sea $y = f(x) = \\ln(1+x^{2})$: \n",
    "\n",
    "1. Calcule $f'(2)$ analíticamente. \n",
    "2. Calcula $f'(2)$ numéricamente.  \n",
    "   "
   ]
  },
  {
   "cell_type": "code",
   "execution_count": 3,
   "id": "eaae9091",
   "metadata": {},
   "outputs": [
    {
     "data": {
      "text/latex": [
       "$\\displaystyle \\log{\\left(x^{2} + 1 \\right)}$"
      ],
      "text/plain": [
       "log(x**2 + 1)"
      ]
     },
     "execution_count": 3,
     "metadata": {},
     "output_type": "execute_result"
    }
   ],
   "source": [
    "from sympy import * \n",
    "\n",
    "x = var('x')\n",
    "\n",
    "f = ln(1+x**2)\n",
    "f "
   ]
  },
  {
   "cell_type": "code",
   "execution_count": 5,
   "id": "9a79026b",
   "metadata": {},
   "outputs": [
    {
     "data": {
      "text/latex": [
       "$\\displaystyle \\frac{2 x}{x^{2} + 1}$"
      ],
      "text/plain": [
       "2*x/(x**2 + 1)"
      ]
     },
     "execution_count": 5,
     "metadata": {},
     "output_type": "execute_result"
    }
   ],
   "source": [
    "f_prima = diff(f,x)\n",
    "f_prima "
   ]
  },
  {
   "cell_type": "code",
   "execution_count": 6,
   "id": "3c353d2e",
   "metadata": {},
   "outputs": [
    {
     "data": {
      "text/latex": [
       "$\\displaystyle \\frac{4}{5}$"
      ],
      "text/plain": [
       "4/5"
      ]
     },
     "execution_count": 6,
     "metadata": {},
     "output_type": "execute_result"
    }
   ],
   "source": [
    "f_prima_en_2 = f_prima.subs(x,2)\n",
    "f_prima_en_2"
   ]
  },
  {
   "cell_type": "markdown",
   "id": "f4fabff0",
   "metadata": {},
   "source": [
    "# Estimación de la derivada en 2 con el primer cociente de diferencias  \n",
    "\n"
   ]
  },
  {
   "cell_type": "code",
   "execution_count": 9,
   "id": "0612f232",
   "metadata": {},
   "outputs": [],
   "source": [
    "import numpy as np \n",
    "h = np.array([0.1, 0.01, 0.001, 0.000001])\n",
    "def f(x):\n",
    "    return np.log(1+x**2)\n",
    "diccionario_1 = {'h':h, 'f(2+h)': f(2+h) }"
   ]
  },
  {
   "cell_type": "code",
   "execution_count": 11,
   "id": "f9081c6f",
   "metadata": {},
   "outputs": [
    {
     "data": {
      "text/plain": [
       "np.float64(1.0)"
      ]
     },
     "execution_count": 11,
     "metadata": {},
     "output_type": "execute_result"
    }
   ],
   "source": [
    "np.log(np.e)"
   ]
  },
  {
   "cell_type": "code",
   "execution_count": null,
   "id": "67b5dc4d",
   "metadata": {},
   "outputs": [],
   "source": []
  },
  {
   "cell_type": "markdown",
   "id": "bdebb6e8",
   "metadata": {},
   "source": [
    "\n",
    "# 10. Diseño de actividad de retroalimentación\n",
    "\n",
    "* Modalidad: Peer review + retroalimentación docente.\n",
    "* Proceso: cada estudiante entrega notebook; dos pares revisan (rúbrica) y el docente cierra con comentario global.\n",
    "* Rúbrica breve: claridad del notebook (20%), corrección matemática (30%), código funcional y documentado (30%), visualizaciones/animaciones (20%).\n",
    "* Feedback: usar comentarios inline en el notebook (GitHub/Gist) y grabar un breve video (3-5 min) con retroalimentación personalizada.\n"
   ]
  },
  {
   "cell_type": "markdown",
   "id": "32a6cb9f",
   "metadata": {},
   "source": [
    "\n",
    "# 11. Vocabulario y frases en inglés relacionadas\n",
    "\n",
    "* derivative — derivada\n",
    "* finite difference — diferencia finita\n",
    "* forward difference — diferencia hacia adelante\n",
    "* backward difference — diferencia hacia atrás\n",
    "* centered difference — diferencia centrada\n",
    "* numerical differentiation — derivación numérica\n",
    "* gradient — gradiente\n",
    "* gradient checking — comprobación de gradientes\n",
    "* loss function — función de pérdida\n",
    "* learning rate — tasa de aprendizaje\n",
    "* regularization — regularización\n",
    "* vanishing gradients — gradientes que se anulan\n",
    "* exploding gradients — gradientes que explotan\n",
    "  Frases útiles:\n",
    "* \"Compute the numerical derivative using a centered difference.\"\n",
    "* \"Perform gradient checking to verify the backpropagation implementation.\"\n",
    "* \"Plot the error as a function of step size in a log-log plot.\"\n"
   ]
  },
  {
   "cell_type": "markdown",
   "id": "f267b737",
   "metadata": {},
   "source": [
    "\n",
    "# 12. Apéndice — desarrollo de habilidades socioemocionales y trabajo en equipo\n",
    "\n",
    "## Habilidades para el trabajo en equipo\n",
    "\n",
    "* Actividad: roles rotativos (facilitador, programador, revisor de pruebas, presentador).\n",
    "* Dinámica: sprint de 2 horas para implementar una parte del notebook; al final se hace demo de 5 minutos.\n",
    "\n",
    "## Asertividad y empatía en presentaciones y pruebas\n",
    "\n",
    "* Mini-taller de 30 min sobre comunicación: \"Cómo pedir ayuda y cómo dar feedback respetuoso\".\n",
    "* Normas: hablar en primera persona, evitar juicios de valor, centrarse en la mejora.\n",
    "\n",
    "## Inteligencia emocional para presentar sin temor y sin fraude\n",
    "\n",
    "* Técnicas breves: respiración 4-4-4 antes de exponer; checklist ético (no usar código de otros sin citar; documentar fuentes).\n",
    "* Actividad: role-play donde un estudiante pregunta y otro practica respuestas objetivas y empáticas.\n",
    "\n",
    "## Actividades para tolerancia\n",
    "\n",
    "* Ejercicio: recibir retroalimentación de 2 pares y resumir en una frase qué se va a mejorar (no defenderse).\n",
    "* Reflexión escrita: qué aprendí del feedback y qué voy a cambiar en el siguiente sprint.\n"
   ]
  },
  {
   "cell_type": "markdown",
   "id": "c47b7bd5",
   "metadata": {},
   "source": [
    "\n",
    "# 13. Referentes en didáctica de la matemática (ordenados en APA; incluyen los pedidos)\n",
    "\n",
    "A continuación 5 referentes afines a la propuesta didáctica (Aula invertida, STEAMS y ABPP) más Duval y Wing incluidas:\n",
    "\n",
    "1. Bergmann, J., Sams, A., & Overmyer, J. (2012). *Flip Your Classroom: Reach Every Student in Every Class Every Day*. International Society for Technology in Education.\n",
    "\n",
    "   * (Referencia que fundamenta Aula invertida).\n",
    "\n",
    "2. Beane, J. A. (1997). *Curriculum Integration: Designing the Core of Democratic Education*. Teachers College Press.\n",
    "\n",
    "   * (Apoya integración STEAM/Interdisciplinaridad).\n",
    "\n",
    "3. Savery, J. R. (2006). *Overview of Problem-based Learning: Definitions and Distinctions*. Interdisciplinary Journal of Problem-based Learning, 1(1), 9–20.\n",
    "\n",
    "   * (Fundamenta ABPP / PBL).\n",
    "\n",
    "4. Duval, R. (1995). *Representation, Vision and Visualization: Cognitive Functioning and Mathematical Activity*. In *Proceedings of the International Conference on Mathematics Education*.\n",
    "\n",
    "   * (Representaciones y cambios de representación).\n",
    "\n",
    "5. Wing, J. M. (2006). *Computational Thinking*. Communications of the ACM, 49(3), 33–35.\n",
    "\n",
    "   * (Desarrollo del pensamiento computacional).\n",
    "\n",
    "(+) Otros referentes relevantes en didáctica matemática que apoyan metodologías activas:\n",
    "\n",
    "6. Hiebert, J., & Grouws, D. A. (2007). *The Effects of Classroom Mathematics Teaching on Students' Learning*. In F. K. Lester Jr. (Ed.), Second Handbook of Research on Mathematics Teaching and Learning (pp. 371–404). Information Age Publishing.\n",
    "\n",
    "7. Papert, S. (1980). *Mindstorms: Children, Computers, and Powerful Ideas*. Basic Books.\n",
    "\n",
    "   * (Apoya el trabajo experimental con computación).\n",
    "\n",
    "---\n"
   ]
  },
  {
   "cell_type": "code",
   "execution_count": null,
   "id": "9f08665d",
   "metadata": {},
   "outputs": [],
   "source": []
  },
  {
   "cell_type": "markdown",
   "id": "8ba64aed",
   "metadata": {},
   "source": [
    "# Cursos que orienta el profesor Marco Julio Cañas Campillo en 2025  \n",
    "\n",
    "4. Cálculo Vectorial para Ingeniería Agropecuaria\n",
    "3. Análisis Numérico para Licenciatura en Matemáticas. \n",
    "5. Práctica Pedagógica V para Licenciatura en Educación Infantil\n",
    "6. Fundamentos de Lógica para Licenciatura en Matemáticas \n",
    "\n"
   ]
  },
  {
   "cell_type": "markdown",
   "id": "8d41fe58",
   "metadata": {
    "slideshow": {
     "slide_type": "slide"
    }
   },
   "source": [
    "# Horario de clases del profesor Marco\n",
    "\n",
    "* Lunes 8-12: Cálculo Vectorial\n",
    "* Martes 8-12 M: Fundamentos de Aritmética. \n",
    "* Miércoles 8 a 12 M: Fundamentos de la Lógica\n",
    "* Jueves 2 a 6 PM: Desarrollo del pensamiento matemático en la infancia. \n",
    "* Viernes 8 - 12 M: Desarrollo del pensamiento matemático en la infancia. \n",
    "* Sábados 8-12 Asesorías y espacio para retroalimentación y apoyo al trabajo independiente. "
   ]
  },
  {
   "cell_type": "markdown",
   "id": "31054233",
   "metadata": {},
   "source": [
    "\n",
    "# Coordinador de los cursos de la Facultad de Educación para regiones:    \n",
    "\n",
    "Andrés Vélez: regioneducacion.fedu@udea.edu.co  \n",
    "Coordinador Regiones  \n",
    "Facultad de Educación  \n",
    "Universidad de Antioquia  "
   ]
  },
  {
   "cell_type": "markdown",
   "id": "b1db4b6c",
   "metadata": {
    "slideshow": {
     "slide_type": "slide"
    }
   },
   "source": [
    "## Monitor Manuel San Juan Serrano\n",
    "\n",
    "Contactar escribiendo al correo: manuel.serrano1@udea.edu.co"
   ]
  },
  {
   "cell_type": "markdown",
   "id": "39559692",
   "metadata": {
    "slideshow": {
     "slide_type": "slide"
    }
   },
   "source": [
    "Martes y jueves de 8 - 12  \n",
    "Miércoles 10 - 12 y de 2 a 4 PM  \n",
    "Sábado: 8 - 12"
   ]
  },
  {
   "cell_type": "markdown",
   "id": "8e65d6f9",
   "metadata": {},
   "source": [
    "# Como estudiante, encuentro que...   \n",
    "\n",
    "F: Mis Fortalezas son:     \n",
    "O: Mis Oportunidades son:    \n",
    "D: Mis Debilidades son:    \n",
    "A: Lo que Amenazas mi aprendizaje es:  "
   ]
  },
  {
   "cell_type": "markdown",
   "id": "6b9e56a8",
   "metadata": {
    "slideshow": {
     "slide_type": "slide"
    }
   },
   "source": [
    "### [Evaluamos al profesor Marco Cañas Aquí](https://forms.office.com/Pages/ResponsePage.aspx?id=IefhmYRxjkmK_7KtTlPBwkanXIs1i1FEujpsZgO6dXpUREJPV1kxUk1JV1ozTFJIQVNIQjY5WEY3US4u)"
   ]
  },
  {
   "cell_type": "markdown",
   "id": "10f43536",
   "metadata": {
    "slideshow": {
     "slide_type": "slide"
    }
   },
   "source": [
    "### Continue su aprendizaje en la siguiente clase a través del siguiente [vínculo]()"
   ]
  },
  {
   "cell_type": "markdown",
   "id": "53cc9115",
   "metadata": {
    "slideshow": {
     "slide_type": "slide"
    }
   },
   "source": [
    "## Agradecimientos  \n",
    "\n",
    "Doy gracias a Dios por la vida de mi Hijo Joseph Cañas Osorio y la madurez que ha alcanzado. Este hijo me enorgullece y me hace falta abrazarlo cada día. \n",
    "\n",
    "Y a mi esposa Yasmira Emperatriz Barboza Mogollón por su apoyo, orientación y acompañamiento. "
   ]
  }
 ],
 "metadata": {
  "celltoolbar": "Slideshow",
  "kernelspec": {
   "display_name": ".venv",
   "language": "python",
   "name": "python3"
  },
  "language_info": {
   "codemirror_mode": {
    "name": "ipython",
    "version": 3
   },
   "file_extension": ".py",
   "mimetype": "text/x-python",
   "name": "python",
   "nbconvert_exporter": "python",
   "pygments_lexer": "ipython3",
   "version": "3.11.9"
  },
  "rise": {
   "enable_chalkboard": true,
   "theme": "sky",
   "transition": "zoom"
  }
 },
 "nbformat": 4,
 "nbformat_minor": 5
}
