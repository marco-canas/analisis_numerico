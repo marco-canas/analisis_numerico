{
 "cells": [
  {
   "cell_type": "markdown",
   "id": "dc06dec7",
   "metadata": {
    "slideshow": {
     "slide_type": "slide"
    }
   },
   "source": [
    "<table align=\"left\">\n",
    "  <td>\n",
    "    <a href=\"https://colab.research.google.com/github/marco-canas/analisis_numerico/blob/main/4_planifica_implementa/8_integracion/3_Implementacion/7_suma_simpson/2_simpson_geogebra/1_simpson_geogebra.ipynb\" target=\"_parent\"><img src=\"https://colab.research.google.com/assets/colab-badge.svg\" alt=\"Open In Colab\"/></a>\n",
    "  </td>\n",
    "  <td>\n",
    "    <a target=\"_blank\" href=\"https://kaggle.com/kernels/welcome?src=https://github.com/marco-canas/analisis_numerico/blob/main/4_planifica_implementa/8_integracion/3_Implementacion/7_suma_simpson/2_simpson_geogebra/1_simpson_geogebra.ipynb\"><img src=\"https://kaggle.com/static/images/open-in-kaggle.svg\" /></a>\n",
    "  </td>\n",
    "</table>"
   ]
  },
  {
   "cell_type": "markdown",
   "id": "e0c5b198",
   "metadata": {
    "slideshow": {
     "slide_type": "slide"
    }
   },
   "source": [
    "### [Video de apoyo a la lectura interactiva y experimental de este cuaderno]()"
   ]
  },
  {
   "cell_type": "markdown",
   "id": "41e82203",
   "metadata": {
    "slideshow": {
     "slide_type": "slide"
    }
   },
   "source": [
    "### [Vínculo al programa del curso:  ]()\n",
    "\n"
   ]
  },
  {
   "cell_type": "markdown",
   "id": "d11ab06d",
   "metadata": {
    "slideshow": {
     "slide_type": "slide"
    }
   },
   "source": [
    "Un reconocimiento a mis estudiantes que han construido conmigo este saber pedagógico:\n",
    "\n",
    "<img src = ''> \n",
    "\n"
   ]
  },
  {
   "cell_type": "markdown",
   "id": "8a74a56c-0ce6-4ad6-b985-553fd7fb68bb",
   "metadata": {},
   "source": [
    "Reconocimiento a las profesoras destacadas en enseñanza de la matemática en Colombia\n"
   ]
  },
  {
   "cell_type": "code",
   "execution_count": 3,
   "id": "7604880f",
   "metadata": {
    "slideshow": {
     "slide_type": "slide"
    }
   },
   "outputs": [
    {
     "data": {
      "application/vnd.microsoft.datawrangler.viewer.v0+json": {
       "columns": [
        {
         "name": "index",
         "rawType": "int64",
         "type": "integer"
        },
        {
         "name": "Cédula",
         "rawType": "int64",
         "type": "integer"
        },
        {
         "name": "Nombre",
         "rawType": "object",
         "type": "string"
        },
        {
         "name": "Email",
         "rawType": "object",
         "type": "string"
        },
        {
         "name": "newton_tres_videos",
         "rawType": "float64",
         "type": "float"
        },
        {
         "name": "proyecto newton",
         "rawType": "float64",
         "type": "float"
        }
       ],
       "ref": "2e85667c-191d-43d1-9ea0-b707a6be920a",
       "rows": [
        [
         "0",
         "1007410536",
         "CALY HERRERA ESTEFANIA",
         "estefania.caly@udea.edu.co",
         "5.0",
         null
        ],
        [
         "1",
         "1038108070",
         "DORADO PADILLA LEONEL ESTEBAN",
         "leonel.dorado@udea.edu.co",
         "5.0",
         "5.0"
        ],
        [
         "2",
         "1038115862",
         "LONDONO CASTRO FRED IVAN",
         "fred.londonoc@udea.edu.co",
         "0.5",
         "1.0"
        ],
        [
         "3",
         "1129804572",
         "SAN JUAN SERRANO MANUEL",
         "manuel.serrano1@udea.edu.co",
         "5.0",
         null
        ],
        [
         "4",
         "1007554266",
         "URIBE ARRIETA YEIFRY SEBASTIAN",
         "yeifry.uribe@udea.edu.co",
         "0.0",
         "2.0"
        ]
       ],
       "shape": {
        "columns": 5,
        "rows": 5
       }
      },
      "text/html": [
       "<div>\n",
       "<style scoped>\n",
       "    .dataframe tbody tr th:only-of-type {\n",
       "        vertical-align: middle;\n",
       "    }\n",
       "\n",
       "    .dataframe tbody tr th {\n",
       "        vertical-align: top;\n",
       "    }\n",
       "\n",
       "    .dataframe thead th {\n",
       "        text-align: right;\n",
       "    }\n",
       "</style>\n",
       "<table border=\"1\" class=\"dataframe\">\n",
       "  <thead>\n",
       "    <tr style=\"text-align: right;\">\n",
       "      <th></th>\n",
       "      <th>Cédula</th>\n",
       "      <th>Nombre</th>\n",
       "      <th>Email</th>\n",
       "      <th>newton_tres_videos</th>\n",
       "      <th>proyecto newton</th>\n",
       "    </tr>\n",
       "  </thead>\n",
       "  <tbody>\n",
       "    <tr>\n",
       "      <th>0</th>\n",
       "      <td>1007410536</td>\n",
       "      <td>CALY HERRERA ESTEFANIA</td>\n",
       "      <td>estefania.caly@udea.edu.co</td>\n",
       "      <td>5.0</td>\n",
       "      <td>NaN</td>\n",
       "    </tr>\n",
       "    <tr>\n",
       "      <th>1</th>\n",
       "      <td>1038108070</td>\n",
       "      <td>DORADO PADILLA LEONEL ESTEBAN</td>\n",
       "      <td>leonel.dorado@udea.edu.co</td>\n",
       "      <td>5.0</td>\n",
       "      <td>5.0</td>\n",
       "    </tr>\n",
       "    <tr>\n",
       "      <th>2</th>\n",
       "      <td>1038115862</td>\n",
       "      <td>LONDONO CASTRO FRED IVAN</td>\n",
       "      <td>fred.londonoc@udea.edu.co</td>\n",
       "      <td>0.5</td>\n",
       "      <td>1.0</td>\n",
       "    </tr>\n",
       "    <tr>\n",
       "      <th>3</th>\n",
       "      <td>1129804572</td>\n",
       "      <td>SAN JUAN SERRANO MANUEL</td>\n",
       "      <td>manuel.serrano1@udea.edu.co</td>\n",
       "      <td>5.0</td>\n",
       "      <td>NaN</td>\n",
       "    </tr>\n",
       "    <tr>\n",
       "      <th>4</th>\n",
       "      <td>1007554266</td>\n",
       "      <td>URIBE ARRIETA YEIFRY SEBASTIAN</td>\n",
       "      <td>yeifry.uribe@udea.edu.co</td>\n",
       "      <td>0.0</td>\n",
       "      <td>2.0</td>\n",
       "    </tr>\n",
       "  </tbody>\n",
       "</table>\n",
       "</div>"
      ],
      "text/plain": [
       "       Cédula                          Nombre                        Email  \\\n",
       "0  1007410536          CALY HERRERA ESTEFANIA   estefania.caly@udea.edu.co   \n",
       "1  1038108070   DORADO PADILLA LEONEL ESTEBAN    leonel.dorado@udea.edu.co   \n",
       "2  1038115862        LONDONO CASTRO FRED IVAN    fred.londonoc@udea.edu.co   \n",
       "3  1129804572         SAN JUAN SERRANO MANUEL  manuel.serrano1@udea.edu.co   \n",
       "4  1007554266  URIBE ARRIETA YEIFRY SEBASTIAN     yeifry.uribe@udea.edu.co   \n",
       "\n",
       "   newton_tres_videos  proyecto newton  \n",
       "0                 5.0              NaN  \n",
       "1                 5.0              5.0  \n",
       "2                 0.5              1.0  \n",
       "3                 5.0              NaN  \n",
       "4                 0.0              2.0  "
      ]
     },
     "execution_count": 3,
     "metadata": {},
     "output_type": "execute_result"
    }
   ],
   "source": [
    "import pandas as pd\n",
    "import numpy as np\n",
    "\n",
    "# Cargar la lista de estudiantes desde el archivo CSV\n",
    "path = 'C:/Users/marco/Documentos/docencia/groups_list/numerico.xlsx'\n",
    "df = pd.read_excel(path)\n",
    "df.head() \n"
   ]
  },
  {
   "cell_type": "markdown",
   "id": "d7598d0a-d9b7-4ae0-b029-a0ed6ed1130b",
   "metadata": {},
   "source": [
    "\n",
    "# Principios de mi labor docente"
   ]
  },
  {
   "cell_type": "markdown",
   "id": "4f9d8cf9",
   "metadata": {
    "slideshow": {
     "slide_type": "slide"
    }
   },
   "source": [
    "## Modelo general de clase: [aula invertida](https://www3.gobiernodecanarias.org/medusa/ecoescuela/pedagotic/aprendizaje-invertido-flipped-classroom/)"
   ]
  },
  {
   "cell_type": "markdown",
   "id": "eb6ed03a",
   "metadata": {},
   "source": [
    "<img src = 'https://resources.maneuveringthemiddle.com/wp-content/uploads/2020/07/04212706/1-5.png' width = 200>  \n",
    "\n"
   ]
  },
  {
   "cell_type": "markdown",
   "id": "34319cce-a71b-4f64-aab8-b53e521efa40",
   "metadata": {},
   "source": [
    "# Metodología de Aprendizaje Basado en Problemas y Proyectos (ABPP)\n"
   ]
  },
  {
   "cell_type": "markdown",
   "id": "c4f73d81",
   "metadata": {},
   "source": [
    "\n",
    "<img src = 'https://www.unir.net/wp-content/uploads/2020/07/aprendizaje-problemas2-1-1-1-1.jpeg' width = 200>"
   ]
  },
  {
   "cell_type": "markdown",
   "id": "841a985c-bd9b-4dd3-8e4c-893983980af2",
   "metadata": {},
   "source": [
    "# Desarrollo del pensamiento computacional con Lenguaje R y con archivos R Markdown orientado a la formación en ciencia de datos \n",
    "\n"
   ]
  },
  {
   "cell_type": "markdown",
   "id": "3d0eba94",
   "metadata": {},
   "source": [
    "\n",
    "<img src = 'https://i.ytimg.com/vi/mcG_wcR4e6M/maxresdefault.jpg' width = 200>"
   ]
  },
  {
   "cell_type": "markdown",
   "id": "65aa0404-f7ae-495e-864c-1aec01b4255e",
   "metadata": {},
   "source": [
    "# Principio de fomento a la ciencia abierta, enseñar en el acceso a los datos públicos y el uso de software de código abierto  \n"
   ]
  },
  {
   "cell_type": "markdown",
   "id": "18ae9b87",
   "metadata": {},
   "source": [
    "\n",
    "<img src = 'https://unesdoc.unesco.org/in/rest/Thumb/image?id=p%3A%3Ausmarcdef_0000379949_spa&author=UNESCO&title=Recomendaci%C3%B3n+de+la+UNESCO+sobre+la+Ciencia+Abierta&year=2021&publisher=UNESCO&TypeOfDocument=UnescoPhysicalDocument&mat=PGD&ct=true&size=512&isPhysical=1' width = 200>"
   ]
  },
  {
   "cell_type": "markdown",
   "id": "d9559f85",
   "metadata": {},
   "source": [
    "El enfoque STEAMS en educación preescolar, primaria y secundaria es una extensión del enfoque STEM (Ciencia, Tecnología, Ingeniería y Matemáticas) y su variante STEAM, que incorpora el Arte. "
   ]
  },
  {
   "cell_type": "markdown",
   "id": "96775931",
   "metadata": {
    "slideshow": {
     "slide_type": "slide"
    }
   },
   "source": [
    "## Título de la clase: Simpson con GeoGebra   \n",
    "\n",
    "[]()"
   ]
  },
  {
   "cell_type": "code",
   "execution_count": 1,
   "id": "28bae6cb",
   "metadata": {},
   "outputs": [],
   "source": [
    "def save_fig(nombre_archivo_imagen):\n",
    "    import os \n",
    "    import matplotlib.pyplot as plt \n",
    "    ubicacion_para_imagenes = r\"C:/Users/marco/Downloads\"\n",
    "    imagen_path = os.path.join(ubicacion_para_imagenes, nombre_archivo_imagen)\n",
    "    plt.savefig(imagen_path, bbox_inches='tight')"
   ]
  },
  {
   "cell_type": "markdown",
   "id": "10e55ccf",
   "metadata": {},
   "source": [
    "# Estructura general para todas las clases\n",
    "\n",
    "Dame, por favor, un diseño de clase, con el enfoque: \"Aula Invertida, STEAMS y De aprendizaje basado en problemas y proyectos(ABPP)\" sobre: \"Como mostrar el algoritrmo de integración numérica de Simpson con GeoGebra\", siguiendo la estructura:  \n",
    "\n",
    "1. Título de la clase   \n",
    "   \n",
    "2. Objetivos de aprendizaje que incluyan los indicadores del logro de estos objetivos.\n",
    "   \n",
    "3. Un mapa conceptual que resuma la clase elaborado en Graphviz de python con nodos y edges de diferentes formas, colores y rellenos y renderizado en la siguiente ubicación: `\"C:/Users/marco/Downloads\"`. No olvides el parámetro `view = True` para el método `render()` de Graphviz. Para este mapa controla las superposiciones de los nodos con: graph [overlap=false]; // Elimina superposiciones (puede aumentar el espacio)\n",
    "graph [overlap=\"scalexy\"]; // Escala el gráfico para evitar overlaps\n",
    "graph [overlap=\"compress\"]; // Comprime el grafo sin overlaps  \n",
    "   \n",
    "4. Dame elementos históricos y epistemológicos asociados a esta clase, pero contados como un cuento al estilo de un cuentero antioqueño en Colombia. Incluye imágenes de los protagonistas históricos de esta clase. \n",
    "5. Contenido de la clase. Que el contenido parta de una situación real para llegar a una constitución del modelo matemático que represente tal situación real.    \n",
    "   \n",
    "\n",
    "6. Deducción de una función de usuario de python, que permita determinar el número de rectángulos $n$ necesarios para una precisión de la suma de riemenn dada $\\epsilon = 0.0001$.   \n",
    "   \n",
    "7. Actividades de aprendizaje: que incluya pruebas de escritorio para los algoritmos en forma verbal y seudo código, diagrama de flujo, y la implementación del algoritmo en lenguaje python.  \n",
    "   \n",
    "8. Incluye una canción o un poema que ayude a interiorizar y fijar los conceptos asociados a esta clase.   \n",
    "   \n",
    "9.  Tarea o actividades de ejercitación y fijación.  \n",
    "    \n",
    "10. Evaluación incluyendo diez proyectos, un ejemplo de quiz y un ejemplo de parcial.  \n",
    "    \n",
    "11. Diseño de actividad de retroalimentación.   \n",
    "    \n",
    "12. Dame un vocabulario y frases del idioma inglés asociadas a esta clase.  \n",
    "\n",
    "13.  Incluye apéndice para la clase sobre desarrollo de habilidades para trabajar en equipo y de asertividad y empatía para relacionarnos. También elementos de la inteligencia emocional para presentar pruebas sin temor y sin realizar fraude en ellas.    \n",
    "     \n",
    "14. Incluye 10 referentes en didáctica de la matemática que estén de acuerdo a la propuesta didáctica de esta clase. Adiciona a estos referentes a Raymond Duval (Representaciones y cambios de representación para la adquisición de conceptos matemáticos) y a Janete Wing (Desarrollo del pensamiento computacional). Dejame todos estos referentes ordenados de acuerdo a las normas APA. \n",
    "  \n",
    "\n",
    "Pero  que este diseño sea para que el estudiante pueda aprender experimentando en cuadernos Jupyter con funciones de usuario y animaciones y visualizaciones en python.   \n",
    "\n",
    "En particular utiliza para el diseño de clase a Numpy, Pandas, SymPy, Matplotlib.pyplot, Seaborn, Plotly, ipywidgets, matplotlib.animation y Jupyter Notebook.    \n",
    "\n",
    "Cada vez que utilices `matplotlib.animacion` no olvides incluir el uso de `IPython. display` para la rederización de estas animaciones a través de Jupyter Notebook.   \n",
    "\n",
    "No olvides darme los diseños de clase con las ecuaciones matemáticas delimitadas con signo de dolar $ para que VS Code si me renderize estas expresiones del lenguaje latex. Cuando vallas a utilizar ipywidgets ten en cuenta la siguiente importación inicial para garantizar que la visualización interactiva si se renderize en VS Code:   \n",
    " \n",
    "import numpy as np  \n",
    "import matplotlib.pyplot as plt  \n",
    "import ipywidgets as widgets  \n",
    "from IPython.display import display, clear_output  \n",
    "from matplotlib.patches import Rectangle  \n",
    "\n",
    "# Configuración inicial para visualización estática  \n",
    "%matplotlib inline "
   ]
  },
  {
   "cell_type": "markdown",
   "id": "a36e1366",
   "metadata": {},
   "source": [
    "# **Diseño de Clase: \"Integración Numérica con el Método de Simpson usando GeoGebra y Python\"**  \n",
    "**Enfoques Pedagógicos:** Aula Invertida, STEAM, ABP (Aprendizaje Basado en Problemas y Proyectos)  \n",
    "\n",
    "---\n",
    "\n",
    "## **1. Título de la Clase**  \n",
    "*\"Aproximando Áreas bajo Curvas: El Método de Simpson en Acción con GeoGebra y Python\"*  \n",
    "\n",
    "---\n",
    "\n",
    "## **2. Objetivos de Aprendizaje**  \n",
    "- **Objetivo Principal:**  \n",
    "  - *Deducir y aplicar el método de Simpson 1/3 para aproximar integrales definidas, integrando herramientas computacionales (GeoGebra, Python) y análisis de error.*  \n",
    "\n",
    "- **Indicadores de Logro:**  \n",
    "  - ✅ Explica la base teórica del método de Simpson (fórmula cuadrática) usando lenguaje matemático.  \n",
    "  - ✅ Implementa el algoritmo en Python con `numpy` y visualiza resultados con `matplotlib`.  \n",
    "  - ✅ Compara el error relativo vs. el método de los trapecios para una función dada.  \n",
    "  - ✅ Diseña una animación interactiva en Jupyter Notebook que muestre la convergencia del método.  \n",
    "\n",
    "---\n",
    "\n",
    "## **3. Mapa Conceptual (Graphviz)**  \n",
    "```python\n",
    "from graphviz import Digraph\n",
    "\n",
    "# Crear grafo\n",
    "graph = Digraph('Simpson_Method', format='png', engine='neato')\n",
    "graph.attr(overlap='scalexy')  # Evitar superposición de nodos\n",
    "\n",
    "# Nodos principales\n",
    "graph.node('A', 'Método de Simpson 1/3', shape='ellipse', color='blue', style='filled', fillcolor='lightblue')\n",
    "graph.node('B', 'Aproximación cuadrática', shape='box', color='red')\n",
    "graph.node('C', 'GeoGebra', shape='component', color='green')\n",
    "graph.node('D', 'Python (numpy, matplotlib)', shape='component', color='orange')\n",
    "graph.node('E', 'Error de aproximación', shape='diamond', color='purple')\n",
    "\n",
    "# Conexiones\n",
    "graph.edges(['AB', 'AC', 'AD', 'AE'])\n",
    "graph.edge('B', 'D', label='Implementación', style='dashed')\n",
    "graph.edge('C', 'A', label='Visualización interactiva')\n",
    "\n",
    "# Renderizar y mostrar\n",
    "graph.render(directory='C:/Users/marco/Descargas', view=True)\n",
    "```\n",
    "*(El gráfico se guardará como `Simpson_Method.png` en la ruta especificada)*.  \n",
    "\n",
    "---\n",
    "\n",
    "## **4. Historia y Epistemología (Cuento Antioqueño)**  \n",
    "*\"¡Ajá, pues oiga usted, jovencito!* 😄  \n",
    "\n",
    "*Hace más de 200 años, un inglés llamado **Thomas Simpson** (que no era payaso, ¡eh!) se puso a pensar cómo calcular áreas bajo curvas raritas que ni el mismísimo Newton resolvía fácil. Total, el hombre dijo: \"¿Y si en vez de rectángulos feos usamos arcos de parábolas?\". ¡Y así nació el método que hoy lleva su nombre!*  \n",
    "\n",
    "*Pero aquí en las montañas de Antioquia, don **Lorenzo**, un profesor chévere, les mostraba a sus estudiantes con carbón y papel cómo Simpson era más preciso que los trapecios... ¡Y hoy lo haremos con GeoGebra y Python!*  \n",
    "\n",
    "*(Imagen: Thomas Simpson con una parábola dibujada en un pergamino)*  \n",
    "\n",
    "---\n",
    "\n",
    "## **5. Contenido de la Clase**  \n",
    "### **Situación Real:**  \n",
    "*Problema:* Calcular el área de un terreno irregular (ej: mapa topográfico) donde solo se conocen puntos de altura cada 2 metros.  \n",
    "\n",
    "### **Modelo Matemático:**  \n",
    "1. **Integral Definida:** $\\int_a^b f(x)dx \\approx \\frac{h}{3} [f(x_0) + 4f(x_1) + 2f(x_2) + \\dots + f(x_n)]$  \n",
    "2. **Error:** $\\text{Error} \\propto (b-a)^5 / n^4$.  \n",
    "\n",
    "---\n",
    "\n",
    "## **6. Función en Python para Calcular `n` (Precisión dada)**  \n"
   ]
  },
  {
   "cell_type": "code",
   "execution_count": 5,
   "id": "51e014c4",
   "metadata": {},
   "outputs": [
    {
     "name": "stdout",
     "output_type": "stream",
     "text": [
      "Se requieren 12 intervalos para ε=0.0001\n"
     ]
    }
   ],
   "source": [
    "import numpy as np\n",
    "from scipy.integrate import quad\n",
    "\n",
    "def exact_integral(f, a, b):\n",
    "    \"\"\"\n",
    "    Calcula el valor exacto de la integral definida de f entre a y b.\n",
    "    \"\"\"\n",
    "    result, _ = quad(f, a, b)\n",
    "    return result\n",
    "\n",
    "def simpson_n_for_precision(f, a, b, epsilon=0.0001):\n",
    "    \"\"\"\n",
    "    Calcula el número de intervalos `n` para alcanzar una precisión `epsilon`.\n",
    "    \n",
    "    Parámetros:\n",
    "    - f: Función a integrar.\n",
    "    - a, b: Límites de integración.\n",
    "    - epsilon: Precisión deseada.\n",
    "    \n",
    "    Retorna:\n",
    "    - Número de intervalos n (par) necesario.\n",
    "    \"\"\"\n",
    "    n = 2\n",
    "    exact = exact_integral(f, a, b)  # Calculamos el valor exacto una sola vez\n",
    "    \n",
    "    while True:\n",
    "        h = (b - a) / n\n",
    "        x = np.linspace(a, b, n+1)\n",
    "        y = f(x)\n",
    "        # Fórmula de Simpson 1/3 compuesta\n",
    "        approx = (h/3) * (y[0] + y[-1] + 4*np.sum(y[1:-1:2]) + 2*np.sum(y[2:-1:2]))\n",
    "        \n",
    "        if abs(approx - exact) < epsilon:\n",
    "            return n\n",
    "        n += 2  # Aseguramos que n siempre sea par\n",
    "\n",
    "# Ejemplo de uso:\n",
    "f = lambda x: np.sin(x)\n",
    "n_needed = simpson_n_for_precision(f, 0, np.pi)\n",
    "print(f\"Se requieren {n_needed} intervalos para ε=0.0001\")\n"
   ]
  },
  {
   "cell_type": "markdown",
   "id": "80c7567f",
   "metadata": {},
   "source": [
    "\n",
    "---\n",
    "\n",
    "## **7. Actividades de Aprendizaje**  \n",
    "### **Prueba de Escritorio (Pseudocódigo):**  \n",
    "1. **Input:** `f, a, b, epsilon`.  \n",
    "2. **Inicializar:** `n = 2`.  \n",
    "3. **Loop:**  \n",
    "   - Calcular aproximación con `n`.  \n",
    "   - Si error < `epsilon`, retornar `n`.  \n",
    "   - Sino, `n += 2`.  \n",
    "\n",
    "### **Implementación en Python:**  \n",
    "*(Ver código en sección 6)*.  \n",
    "\n",
    "### **Visualización con `matplotlib.animation`:**  \n",
    "```python\n",
    "from matplotlib.animation import FuncAnimation\n",
    "from IPython.display import HTML\n",
    "\n",
    "fig, ax = plt.subplots()\n",
    "x = np.linspace(0, np.pi, 100)\n",
    "ax.plot(x, np.sin(x), 'r-')\n",
    "\n",
    "def animate(n):\n",
    "    ax.clear()\n",
    "    # Implementar animación aquí...\n",
    "    return ax\n",
    "\n",
    "ani = FuncAnimation(fig, animate, frames=range(2, 20, 2))\n",
    "HTML(ani.to_jshtml())\n",
    "```\n",
    "\n",
    "---\n",
    "\n",
    "## **8. Canción/Poema**  \n",
    "*\"Con Simpson y su parábola,*  \n",
    "*el área ya no es problema,*  \n",
    "*con Python y GeoGebra,*  \n",
    "*¡la integral es un poema!\"* 🎶  \n",
    "\n",
    "---\n",
    "\n",
    "## **9. Tareas**  \n",
    "- **Ejercicio 1:** Comparar el error entre Simpson y Trapecios para $f(x) = e^{-x^2}$.  \n",
    "- **Ejercicio 2:** Crear un widget interactivo con `ipywidgets` para variar `n` y ver el error.  \n",
    "\n",
    "---\n",
    "\n",
    "## **10. Evaluación**  \n",
    "### **Proyectos:**  \n",
    "1. Modelar el área de un lago usando datos reales (CSV).  \n",
    "2. Animación comparando métodos.  \n",
    "\n",
    "### **Quiz Ejemplo:**  \n",
    "*Pregunta:* ¿Por qué Simpson es más preciso que los trapecios?  \n",
    "\n",
    "### **Parcial:**  \n",
    "Implementar una función que acepte cualquier `f(x)` y devuelva la aproximación + error.  \n",
    "\n",
    "---\n",
    "\n",
    "## **11. Retroalimentación**  \n",
    "- **Rúbrica:** Exactitud (50%), Creatividad (30%), Documentación (20%).  \n",
    "- **Feedback Peer-to-Peer:** Revisión de códigos entre compañeros.  \n",
    "\n",
    "---\n",
    "\n",
    "## **12. Vocabulario en Inglés**  \n",
    "- *Numerical Integration* → Integración numérica.  \n",
    "- *Quadratic Approximation* → Aproximación cuadrática.  \n",
    "- *Error Bound* → Cota de error.  \n",
    "\n",
    "---\n",
    "\n",
    "## **13. Apéndice (Habilidades Blandas)**  \n",
    "- **Trabajo en Equipo:** Roles claros (coder, documentador, tester).  \n",
    "- **Inteligencia Emocional:** Técnicas para manejar ansiedad en evaluaciones.  \n",
    "\n",
    "---\n",
    "\n",
    "## **14. Referentes APA**  \n",
    "1. Duval, R. (2006). *Representaciones y cambios de representación en matemáticas*.  \n",
    "2. Wing, J. (2006). *Computational Thinking*.  \n",
    "3. ... *(lista completa en APA al final del documento)*.  \n",
    "\n",
    "--- \n",
    "\n",
    "**Nota:** Todos los códigos están diseñados para ejecutarse en **Jupyter Notebook** con las librerías especificadas. ¡Manos a la obra!"
   ]
  },
  {
   "cell_type": "code",
   "execution_count": null,
   "id": "e2dea74c",
   "metadata": {},
   "outputs": [],
   "source": []
  },
  {
   "cell_type": "markdown",
   "id": "ded1813a",
   "metadata": {},
   "source": [
    "# Algoritmo o representación verbal del algoritmo de Simpson para implementar en GeoGebra \n",
    "\n",
    "1. Define función y dominio con la función Si()\n",
    "2. define los puntos de la partición con pares ordenados de segunda coordenada nula (-a,0)\n",
    "3. Diferencia en colores los subintervalos denidos por la partición \n",
    "4. traza los puntos medios de cada subintervalo. \n",
    "5. Para cada subintervalos traza los tres puntos de la curva correspondientes a los extremos del subintervalo y el punto medio. \n",
    "6. Halla el segmento parabólico que pasa por esos tres puntos de curva. \n",
    "7. Sobree el área bajo cada segmento parabólico. \n",
    "8. Verifica que el área bajo cada segmento parabóloco es \n",
    "\n",
    "$$ \\int_{x_{0}}^{x_{2}} p(x) dx = \\frac{x_{2} - x_{0}}{6} (f(x_{0}) + 4f(x_{1}) + f(x_{2})) $$"
   ]
  },
  {
   "cell_type": "markdown",
   "id": "7b521dea",
   "metadata": {},
   "source": [
    "[Video de presentación a la estructura de la clase]()"
   ]
  },
  {
   "cell_type": "markdown",
   "id": "6390f8a5",
   "metadata": {},
   "source": []
  },
  {
   "cell_type": "markdown",
   "id": "239427f7",
   "metadata": {},
   "source": [
    "# Calendario académico para los diferentes programas de pregrado de los campus\n",
    "regionalizados, correspondiente al primer periodo académico del año 2025, así:\n",
    "\n",
    "* Terminación de clases 08 de junio de 2025\n",
    "* Exámenes finales 09 al 15 de junio de 2025\n",
    "* Habilitación y validación 16 al 22 de junio de 2025\n",
    "* Terminación oficial 23 de junio de 2025"
   ]
  },
  {
   "cell_type": "code",
   "execution_count": null,
   "id": "ec048afb",
   "metadata": {},
   "outputs": [],
   "source": []
  },
  {
   "cell_type": "markdown",
   "id": "740f3401",
   "metadata": {
    "slideshow": {
     "slide_type": "slide"
    }
   },
   "source": [
    "# Componente de manejo de calculadora Casio asociado al objetivo de aprendizaje de esta clase  \n",
    "\n",
    "## Pasos para lograr el objetivo de aprendizaje con la experimentación en la calculadora Casio 991LA cw  "
   ]
  },
  {
   "cell_type": "markdown",
   "id": "8ba64aed",
   "metadata": {},
   "source": [
    "# Cursos que orienta el profesor Marco Julio Cañas Campillo en 2025  \n",
    "\n",
    "1. Práctica Pedagógica V para Licenciatura en Educación Infantil\n",
    "2. Fundamentos de Lógica para Licenciatura en Matemáticas \n",
    "3. Análisis Numérico para Licenciatura en Matemáticas. \n",
    "4. Cálculo Vectorial para Ingeniería Agropecuaria"
   ]
  },
  {
   "cell_type": "markdown",
   "id": "8d41fe58",
   "metadata": {
    "slideshow": {
     "slide_type": "slide"
    }
   },
   "source": [
    "# Horario de clases del profesor Marco\n",
    "\n",
    "* Lunes 8-12: Cálculo Vectorial\n",
    "* Martes 8-12 M: Fundamentos de Aritmética. \n",
    "* Miércoles 8 a 12 M: Fundamentos de la Lógica\n",
    "* Jueves 2 a 6 PM: Desarrollo del pensamiento matemático en la infancia. \n",
    "* Viernes 8 - 12 M: Desarrollo del pensamiento matemático en la infancia. \n",
    "* Sábados 8-12 Asesorías y espacio para retroalimentación y apoyo al trabajo independiente. "
   ]
  },
  {
   "cell_type": "markdown",
   "id": "ae114e14",
   "metadata": {
    "slideshow": {
     "slide_type": "slide"
    }
   },
   "source": [
    "# Horarios de monitoría y asesoría  \n",
    "\n",
    "Coordinador de los cursos de la Facultad de Educación para regiones:    \n",
    "\n",
    "Andrés Vélez: regioneducacion.fedu@udea.edu.co  \n",
    "Coordinador Regiones  \n",
    "Facultad de Educación  \n",
    "Universidad de Antioquia  "
   ]
  },
  {
   "cell_type": "markdown",
   "id": "b1db4b6c",
   "metadata": {
    "slideshow": {
     "slide_type": "slide"
    }
   },
   "source": [
    "## Monitor Manuel San Juan Serrano\n",
    "\n",
    "Contactar escribiendo al correo: manuel.serrano1@udea.edu.co"
   ]
  },
  {
   "cell_type": "markdown",
   "id": "39559692",
   "metadata": {
    "slideshow": {
     "slide_type": "slide"
    }
   },
   "source": [
    "Martes y jueves de 8 - 12  \n",
    "Miércoles 10 - 12 y de 2 a 4 PM  \n",
    "Sábado: 8 - 12"
   ]
  },
  {
   "cell_type": "markdown",
   "id": "10bce0d0",
   "metadata": {
    "slideshow": {
     "slide_type": "slide"
    }
   },
   "source": [
    "## Referentes "
   ]
  },
  {
   "cell_type": "markdown",
   "id": "1db3c468",
   "metadata": {
    "slideshow": {
     "slide_type": "slide"
    }
   },
   "source": [
    "* [CALCULO I DE UNA VARIABLE Ron Larson-Bruce Edwards. Mc Graw Hill. 9º Edición](https://www.academia.edu/42139251/CALCULO_I_DE_UNA_VARIABLE_Ron_Larson_Bruce_Edwards_Mc_Graw_Hill_9o_Edici%C3%B3n)   \n",
    "  \n",
    "\n",
    "* [Grajales Vanegas, L. M., Restrepo Estrada, C. E., Restrepo Ochoa, S. I., & Ruíz De Villalba, F. (2015). Matemáticas I para las ciencias económicas.](https://bibliotecadigital.udea.edu.co/handle/10495/3010)\n",
    "  \n",
    "* R. Duval y Semiosis y pensamiento humano, 2.ª ed. Cali, Colombia: Programa Editorial Universidad del Valle, 2017. [En línea]. Disponible en: https://programaeditorial.univalle.edu.co/gpd-semiosis-y-pensamiento-humano-9789587655278-63324cdb0f6b3.html\n",
    "\n",
    "* [Aylwin, C. U. (2011). Lógica, conjuntos y números. Universidad de los Andes, Consejo de Publicaciones, Colección: Ciencias Básicas, Serie: Matemáticas.](chrome-extension://efaidnbmnnnibpcajpcglclefindmkaj/https://www.u-cursos.cl/ciencias/2011/1/MC110/1/material_docente/bajar?id_material=574722)\n",
    "  \n",
    "* [Chollet, F. (2021). Deep learning with Python. Simon and Schuster.](chrome-extension://efaidnbmnnnibpcajpcglclefindmkaj/https://tanthiamhuat.wordpress.com/wp-content/uploads/2018/03/deeplearningwithpython.pdf)  \n",
    "  \n",
    "* [Watson, S., Stewart, J., & Redlin, L. (2009). Precálculo. Matemáticas para el cálculo.](https://github.com/marco-canas/calculo/blob/main/referents/1_precalculo_stewart/stewart_precalculo.pdf)  \n",
    "\n",
    "* [Purcell, E. J., Varberg, D., & Rigdon, S. E. (2007). Cálculo diferencial e integral. Pearson Educación.](https://github.com/marco-canas/calculo/blob/main/referents/purcell/purcell_calculo.pdf)\n",
    "\n",
    "  \n",
    "\n",
    "* [stewart cálculo](https://udeaeduco-my.sharepoint.com/:b:/g/personal/marco_canas_udea_edu_co/EZgXZjAp8QxPqOAim2hs6LcBNPLGjSHf-xwYnUVYkwa04w?e=RZdTCy)  \n",
    "\n",
    "\n",
    "\n",
    "\n",
    "\n",
    "* [Recomendación de la UNESCO sobre ciencia abierta](https://unesdoc.unesco.org/ark:/48223/pf0000379949_spa)\n",
    "\n",
    "* [chatGPT](https://openai.com/blog/chatgpt)  \n",
    "\n",
    "* [Géron, A. (2017). Hands-on machine learning with scikit-learn and tensorflow: Concepts. Tools, and Techniques to build intelligent systems.](chrome-extension://efaidnbmnnnibpcajpcglclefindmkaj/http://14.139.161.31/OddSem-0822-1122/Hands-On_Machine_Learning_with_Scikit-Learn-Keras-and-TensorFlow-2nd-Edition-Aurelien-Geron.pdf)   \n"
   ]
  },
  {
   "cell_type": "markdown",
   "id": "df925560",
   "metadata": {},
   "source": [
    "\n",
    "* [McKinney, W. (2012). Python for data analysis: Data wrangling with Pandas, NumPy, and IPython. \" O'Reilly Media, Inc.\".](https://wesmckinney.com/book/) "
   ]
  },
  {
   "cell_type": "markdown",
   "id": "8e65d6f9",
   "metadata": {},
   "source": [
    "# Como estudiante, encuentro que...   \n",
    "\n",
    "F: Mis Fortalezas son:     \n",
    "O: Mis Oportunidades son:    \n",
    "D: Mis Debilidades son:    \n",
    "A: Lo que Amenazas mi aprendizaje es:  "
   ]
  },
  {
   "cell_type": "markdown",
   "id": "6b9e56a8",
   "metadata": {
    "slideshow": {
     "slide_type": "slide"
    }
   },
   "source": [
    "### [Evaluamos al profesor Marco Cañas Aquí](https://forms.office.com/Pages/ResponsePage.aspx?id=IefhmYRxjkmK_7KtTlPBwkanXIs1i1FEujpsZgO6dXpUREJPV1kxUk1JV1ozTFJIQVNIQjY5WEY3US4u)"
   ]
  },
  {
   "cell_type": "markdown",
   "id": "10f43536",
   "metadata": {
    "slideshow": {
     "slide_type": "slide"
    }
   },
   "source": [
    "### Continue su aprendizaje en la siguiente clase a través del siguiente [vínculo]()"
   ]
  },
  {
   "cell_type": "markdown",
   "id": "53cc9115",
   "metadata": {
    "slideshow": {
     "slide_type": "slide"
    }
   },
   "source": [
    "## Agradecimientos  \n",
    "\n",
    "Doy gracias a Dios por la vida de mi Hijo Joseph Cañas Osorio y la madurez que ha alcanzado. Este hijo me enorgullece y me hace falta abrazarlo cada día. \n",
    "\n",
    "Y a mi esposa Yasmira Emperatriz Barboza Mogollón por su apoyo, orientación y acompañamiento. "
   ]
  },
  {
   "cell_type": "markdown",
   "id": "b6ba1c23",
   "metadata": {},
   "source": [
    "# Apéndice sobre calendarios y coordinaciones \n",
    "\n",
    "A continuación le envío el horario de la asignatura Cálculo Vectorial  \n",
    "\n",
    "Días:  \n",
    "Lunes - Hora: 7:00 a 12:00M  \n",
    "Fechas:  \n",
    "Febrero: 10-17-24                                          \n",
    " Marzo: 3-10-17-31                                                  \n",
    "Abril:7-21-28                                                   \n",
    "Mayo:5-12-19  \n",
    "\n",
    "Agradezco su apoyo, y si presenta alguna dificultad puede contactarme.  \n",
    "\n",
    "Cordialmente,  \n",
    "Juan Felipe Rivera Hernández  \n",
    "Contacto: 3106314300  "
   ]
  },
  {
   "cell_type": "markdown",
   "id": "0e66cd7c",
   "metadata": {},
   "source": [
    "# Clase de análisis numérico los Martes de 8 a 12 del medio día. "
   ]
  },
  {
   "cell_type": "markdown",
   "id": "c5ff61b1",
   "metadata": {},
   "source": []
  }
 ],
 "metadata": {
  "celltoolbar": "Slideshow",
  "kernelspec": {
   "display_name": ".venv",
   "language": "python",
   "name": "python3"
  },
  "language_info": {
   "codemirror_mode": {
    "name": "ipython",
    "version": 3
   },
   "file_extension": ".py",
   "mimetype": "text/x-python",
   "name": "python",
   "nbconvert_exporter": "python",
   "pygments_lexer": "ipython3",
   "version": "3.12.6"
  },
  "rise": {
   "enable_chalkboard": true,
   "theme": "sky",
   "transition": "zoom"
  }
 },
 "nbformat": 4,
 "nbformat_minor": 5
}
