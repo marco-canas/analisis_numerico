{
 "cells": [
  {
   "cell_type": "markdown",
   "id": "dc06dec7",
   "metadata": {
    "slideshow": {
     "slide_type": "slide"
    }
   },
   "source": [
    "<table align=\"left\">\n",
    "  <td>\n",
    "    <a href=\"https://colab.research.google.com/github/ageron/handson-ml3/blob/main/tools_numpy.ipynb\" target=\"_parent\"><img src=\"https://colab.research.google.com/assets/colab-badge.svg\" alt=\"Open In Colab\"/></a>\n",
    "  </td>\n",
    "  <td>\n",
    "    <a target=\"_blank\" href=\"https://kaggle.com/kernels/welcome?src=https://github.com/ageron/handson-ml3/blob/main/tools_numpy.ipynb\"><img src=\"https://kaggle.com/static/images/open-in-kaggle.svg\" /></a>\n",
    "  </td>\n",
    "</table>"
   ]
  },
  {
   "cell_type": "code",
   "execution_count": null,
   "id": "b084cf3d",
   "metadata": {},
   "outputs": [],
   "source": [
    "import qrcode\n",
    "from IPython.display import display\n",
    "from PIL import Image\n",
    "\n",
    "def generar_qr(url, version=1, box_size=10, border=4, fill_color=\"black\", back_color=\"white\"):\n",
    "    \"\"\"\n",
    "    Genera y muestra un código QR para una URL dada en un Jupyter Notebook.\n",
    "    \n",
    "    Parámetros:\n",
    "    - url: La URL para la cual generar el código QR\n",
    "    - version: Tamaño del QR (1-40, donde 1 es el más pequeño)\n",
    "    - box_size: Número de píxeles por cada \"caja\" del QR\n",
    "    - border: Grosor del borde blanco alrededor del QR (en cajas)\n",
    "    - fill_color: Color del código QR\n",
    "    - back_color: Color de fondo del código QR\n",
    "    \n",
    "    Retorna:\n",
    "    - Muestra el código QR directamente en el notebook\n",
    "    - Retorna el objeto QR generado\n",
    "    \"\"\"\n",
    "    # Configurar el generador de QR\n",
    "    qr = qrcode.QRCode(\n",
    "        version=version,\n",
    "        error_correction=qrcode.constants.ERROR_CORRECT_L,\n",
    "        box_size=box_size,\n",
    "        border=border,\n",
    "    )\n",
    "    \n",
    "    # Añadir la URL al QR\n",
    "    qr.add_data(url)\n",
    "    qr.make(fit=True)\n",
    "    \n",
    "    # Crear la imagen del QR\n",
    "    img = qr.make_image(fill_color=fill_color, back_color=back_color)\n",
    "    \n",
    "    # Mostrar la imagen en el notebook\n",
    "    display(img)\n",
    "    \n",
    "    return img\n",
    "\n",
    "# Ejemplo de uso:\n",
    "# generar_qr(\"https://www.ejemplo.com\")\n",
    "\n"
   ]
  },
  {
   "cell_type": "code",
   "execution_count": null,
   "id": "f6526c82",
   "metadata": {},
   "outputs": [],
   "source": [
    "generar_qr(\"\")"
   ]
  },
  {
   "cell_type": "markdown",
   "id": "e0c5b198",
   "metadata": {
    "slideshow": {
     "slide_type": "slide"
    }
   },
   "source": [
    "### [Video de apoyo a la lectura interactiva y experimental de este cuaderno]()"
   ]
  },
  {
   "cell_type": "markdown",
   "id": "41e82203",
   "metadata": {
    "slideshow": {
     "slide_type": "slide"
    }
   },
   "source": [
    "### [Vínculo al programa del curso de Análisis Numérico:](https://github.com/marco-canas/analisis_numerico/blob/main/2_programa_curso/2_programa_curso_analisis_numerico.md)\n",
    "\n"
   ]
  },
  {
   "cell_type": "markdown",
   "id": "d11ab06d",
   "metadata": {
    "slideshow": {
     "slide_type": "slide"
    }
   },
   "source": [
    "Un reconocimiento a mis estudiantes que han construido conmigo este saber pedagógico:\n",
    "\n",
    "<img src = ''> \n",
    "\n"
   ]
  },
  {
   "cell_type": "markdown",
   "id": "8a74a56c-0ce6-4ad6-b985-553fd7fb68bb",
   "metadata": {},
   "source": [
    "Reconocimiento a las profesoras destacadas en enseñanza de la matemática en Colombia\n"
   ]
  },
  {
   "cell_type": "code",
   "execution_count": 2,
   "id": "7604880f",
   "metadata": {
    "slideshow": {
     "slide_type": "slide"
    }
   },
   "outputs": [
    {
     "data": {
      "application/vnd.microsoft.datawrangler.viewer.v0+json": {
       "columns": [
        {
         "name": "index",
         "rawType": "int64",
         "type": "integer"
        },
        {
         "name": "Cédula",
         "rawType": "int64",
         "type": "integer"
        },
        {
         "name": "Nombre",
         "rawType": "object",
         "type": "string"
        },
        {
         "name": "Email",
         "rawType": "object",
         "type": "string"
        },
        {
         "name": "trapecio_descrpcion_grafica",
         "rawType": "float64",
         "type": "float"
        },
        {
         "name": "trapecio_geogebra",
         "rawType": "float64",
         "type": "float"
        },
        {
         "name": "videos_geo_metodo_integración_numerica",
         "rawType": "float64",
         "type": "float"
        }
       ],
       "conversionMethod": "pd.DataFrame",
       "ref": "73a98407-c9ff-47f6-a671-1e6ba00c55a4",
       "rows": [
        [
         "0",
         "1007410536",
         "CALY HERRERA ESTEFANIA",
         "estefania.caly@udea.edu.co",
         null,
         "5.0",
         "3.5"
        ],
        [
         "1",
         "1038108070",
         "DORADO PADILLA LEONEL ESTEBAN",
         "leonel.dorado@udea.edu.co",
         null,
         null,
         null
        ],
        [
         "2",
         "1038115862",
         "LONDONO CASTRO FRED IVAN",
         "fred.londonoc@udea.edu.co",
         null,
         null,
         null
        ],
        [
         "3",
         "1129804572",
         "SAN JUAN SERRANO MANUEL",
         "manuel.serrano1@udea.edu.co",
         null,
         null,
         null
        ],
        [
         "4",
         "1007554266",
         "URIBE ARRIETA YEIFRY SEBASTIAN",
         "yeifry.uribe@udea.edu.co",
         null,
         null,
         null
        ]
       ],
       "shape": {
        "columns": 6,
        "rows": 5
       }
      },
      "text/html": [
       "<div>\n",
       "<style scoped>\n",
       "    .dataframe tbody tr th:only-of-type {\n",
       "        vertical-align: middle;\n",
       "    }\n",
       "\n",
       "    .dataframe tbody tr th {\n",
       "        vertical-align: top;\n",
       "    }\n",
       "\n",
       "    .dataframe thead th {\n",
       "        text-align: right;\n",
       "    }\n",
       "</style>\n",
       "<table border=\"1\" class=\"dataframe\">\n",
       "  <thead>\n",
       "    <tr style=\"text-align: right;\">\n",
       "      <th></th>\n",
       "      <th>Cédula</th>\n",
       "      <th>Nombre</th>\n",
       "      <th>Email</th>\n",
       "      <th>trapecio_descrpcion_grafica</th>\n",
       "      <th>trapecio_geogebra</th>\n",
       "      <th>videos_geo_metodo_integración_numerica</th>\n",
       "    </tr>\n",
       "  </thead>\n",
       "  <tbody>\n",
       "    <tr>\n",
       "      <th>0</th>\n",
       "      <td>1007410536</td>\n",
       "      <td>CALY HERRERA ESTEFANIA</td>\n",
       "      <td>estefania.caly@udea.edu.co</td>\n",
       "      <td>NaN</td>\n",
       "      <td>5.0</td>\n",
       "      <td>3.5</td>\n",
       "    </tr>\n",
       "    <tr>\n",
       "      <th>1</th>\n",
       "      <td>1038108070</td>\n",
       "      <td>DORADO PADILLA LEONEL ESTEBAN</td>\n",
       "      <td>leonel.dorado@udea.edu.co</td>\n",
       "      <td>NaN</td>\n",
       "      <td>NaN</td>\n",
       "      <td>NaN</td>\n",
       "    </tr>\n",
       "    <tr>\n",
       "      <th>2</th>\n",
       "      <td>1038115862</td>\n",
       "      <td>LONDONO CASTRO FRED IVAN</td>\n",
       "      <td>fred.londonoc@udea.edu.co</td>\n",
       "      <td>NaN</td>\n",
       "      <td>NaN</td>\n",
       "      <td>NaN</td>\n",
       "    </tr>\n",
       "    <tr>\n",
       "      <th>3</th>\n",
       "      <td>1129804572</td>\n",
       "      <td>SAN JUAN SERRANO MANUEL</td>\n",
       "      <td>manuel.serrano1@udea.edu.co</td>\n",
       "      <td>NaN</td>\n",
       "      <td>NaN</td>\n",
       "      <td>NaN</td>\n",
       "    </tr>\n",
       "    <tr>\n",
       "      <th>4</th>\n",
       "      <td>1007554266</td>\n",
       "      <td>URIBE ARRIETA YEIFRY SEBASTIAN</td>\n",
       "      <td>yeifry.uribe@udea.edu.co</td>\n",
       "      <td>NaN</td>\n",
       "      <td>NaN</td>\n",
       "      <td>NaN</td>\n",
       "    </tr>\n",
       "  </tbody>\n",
       "</table>\n",
       "</div>"
      ],
      "text/plain": [
       "       Cédula                          Nombre                        Email  \\\n",
       "0  1007410536          CALY HERRERA ESTEFANIA   estefania.caly@udea.edu.co   \n",
       "1  1038108070   DORADO PADILLA LEONEL ESTEBAN    leonel.dorado@udea.edu.co   \n",
       "2  1038115862        LONDONO CASTRO FRED IVAN    fred.londonoc@udea.edu.co   \n",
       "3  1129804572         SAN JUAN SERRANO MANUEL  manuel.serrano1@udea.edu.co   \n",
       "4  1007554266  URIBE ARRIETA YEIFRY SEBASTIAN     yeifry.uribe@udea.edu.co   \n",
       "\n",
       "   trapecio_descrpcion_grafica  trapecio_geogebra  \\\n",
       "0                          NaN                5.0   \n",
       "1                          NaN                NaN   \n",
       "2                          NaN                NaN   \n",
       "3                          NaN                NaN   \n",
       "4                          NaN                NaN   \n",
       "\n",
       "   videos_geo_metodo_integración_numerica  \n",
       "0                                     3.5  \n",
       "1                                     NaN  \n",
       "2                                     NaN  \n",
       "3                                     NaN  \n",
       "4                                     NaN  "
      ]
     },
     "execution_count": 2,
     "metadata": {},
     "output_type": "execute_result"
    }
   ],
   "source": [
    "import pandas as pd\n",
    "import numpy as np\n",
    "\n",
    "# Cargar la lista de estudiantes desde el archivo CSV\n",
    "path = 'C:/Users/marco/Documentos/docencia/groups_list/numerico.xlsx'\n",
    "df = pd.read_excel(path)\n",
    "df.head()\n"
   ]
  },
  {
   "cell_type": "markdown",
   "id": "d7598d0a-d9b7-4ae0-b029-a0ed6ed1130b",
   "metadata": {},
   "source": [
    "\n",
    "# Principios de mi labor docente"
   ]
  },
  {
   "cell_type": "markdown",
   "id": "4f9d8cf9",
   "metadata": {
    "slideshow": {
     "slide_type": "slide"
    }
   },
   "source": [
    "## Modelo general de clase: [aula invertida](https://www3.gobiernodecanarias.org/medusa/ecoescuela/pedagotic/aprendizaje-invertido-flipped-classroom/)"
   ]
  },
  {
   "cell_type": "markdown",
   "id": "eb6ed03a",
   "metadata": {},
   "source": [
    "<img src = 'https://resources.maneuveringthemiddle.com/wp-content/uploads/2020/07/04212706/1-5.png' width = 200>  \n",
    "\n"
   ]
  },
  {
   "cell_type": "markdown",
   "id": "34319cce-a71b-4f64-aab8-b53e521efa40",
   "metadata": {},
   "source": [
    "# Metodología de Aprendizaje Basado en Problemas y Proyectos (ABPP) \n"
   ]
  },
  {
   "cell_type": "markdown",
   "id": "c4f73d81",
   "metadata": {},
   "source": [
    "\n",
    "<img src = 'https://www.unir.net/wp-content/uploads/2020/07/aprendizaje-problemas2-1-1-1-1.jpeg' width = 200>"
   ]
  },
  {
   "cell_type": "markdown",
   "id": "841a985c-bd9b-4dd3-8e4c-893983980af2",
   "metadata": {},
   "source": [
    "# Desarrollo del pensamiento computacional con Lenguajes Python, R; y con archivos Markdown y R-Markdown orientado a la formación en ciencia de datos \n",
    "\n"
   ]
  },
  {
   "cell_type": "markdown",
   "id": "3d0eba94",
   "metadata": {},
   "source": [
    "\n",
    "<img src = 'https://i.ytimg.com/vi/mcG_wcR4e6M/maxresdefault.jpg' width = 200>"
   ]
  },
  {
   "cell_type": "markdown",
   "id": "65aa0404-f7ae-495e-864c-1aec01b4255e",
   "metadata": {},
   "source": [
    "# Principio de fomento a la ciencia abierta, enseñar en el acceso a los datos públicos y el uso de software de código abierto  \n"
   ]
  },
  {
   "cell_type": "markdown",
   "id": "18ae9b87",
   "metadata": {},
   "source": [
    "\n",
    "<img src = 'https://unesdoc.unesco.org/in/rest/Thumb/image?id=p%3A%3Ausmarcdef_0000379949_spa&author=UNESCO&title=Recomendaci%C3%B3n+de+la+UNESCO+sobre+la+Ciencia+Abierta&year=2021&publisher=UNESCO&TypeOfDocument=UnescoPhysicalDocument&mat=PGD&ct=true&size=512&isPhysical=1' width = 200>"
   ]
  },
  {
   "cell_type": "markdown",
   "id": "d9559f85",
   "metadata": {},
   "source": [
    "El enfoque STEAMS en educación preescolar, primaria y secundaria es una extensión del enfoque STEM (Ciencia, Tecnología, Ingeniería y Matemáticas) y su variante STEAM, que incorpora el Arte. "
   ]
  },
  {
   "cell_type": "markdown",
   "id": "d545bfc1",
   "metadata": {},
   "source": [
    "# Y el enfoque de TRRS de Duval "
   ]
  },
  {
   "cell_type": "code",
   "execution_count": 1,
   "id": "28bae6cb",
   "metadata": {},
   "outputs": [],
   "source": [
    "def save_fig(nombre_archivo_imagen):\n",
    "    import os \n",
    "    import matplotlib.pyplot as plt \n",
    "    ubicacion_para_imagenes = r\"C:/Users/marco/Downloads\"\n",
    "    imagen_path = os.path.join(ubicacion_para_imagenes, nombre_archivo_imagen)\n",
    "    plt.savefig(imagen_path, bbox_inches='tight')"
   ]
  },
  {
   "cell_type": "markdown",
   "id": "10e55ccf",
   "metadata": {},
   "source": [
    "# Estructura general para todas las clases\n",
    "\n",
    "Dame, por favor, un diseño de clase, con el enfoque: \"Aula Invertida, STEAMS y De aprendizaje basado en problemas y proyectos(ABPP)\" sobre: \"El método de integración numérica llamado Sumas Izquierdas de Riemann \", siguiendo la estructura:  \n",
    "\n",
    "1. Título de la clase   \n",
    "   \n",
    "2. Objetivos de aprendizaje que incluyan los indicadores del logro de estos objetivos.\n",
    "   \n",
    "3. Un mapa conceptual que resuma la clase elaborado en Graphviz de Python con nodos y edges de diferentes formas, colores y rellenos y renderizado en la siguiente ubicación: `\"C:/Users/marco/Downloads\"`. No olvides el parámetro `view = True` para el método `render()` de Graphviz. Para este mapa controla las superposiciones de los nodos con: graph [overlap=false]; // Elimina superposiciones (puede aumentar el espacio) \n",
    "graph [overlap=\"scalexy\"]; // Escala el gráfico para evitar overlaps\n",
    "graph [overlap=\"compress\"]; // Comprime el grafo sin overlaps  \n",
    "   \n",
    "4. Dame elementos históricos y epistemológicos asociados a esta clase, pero contados como un cuento al estilo de un cuentero antioqueño en Colombia. Incluye imágenes de los protagonistas históricos de esta clase.   \n",
    "   \n",
    "5. Contenido de la clase. Que el contenido parta de una situación real para llegar a una constitución del modelo matemático que represente tal situación real.    \n",
    "       \n",
    "   \n",
    "7. Actividades de aprendizaje: que incluya pruebas de escritorio para los algoritmos en forma verbal y seudo código, diagrama de flujo, y la implementación del algoritmo en lenguaje Python.   \n",
    "   \n",
    "8. Incluye una canción o un poema que ayude a interiorizar y fijar los conceptos asociados a esta clase.   \n",
    "   \n",
    "9.  Tarea o actividades de ejercitación y fijación.  \n",
    "    \n",
    "10. Evaluación incluyendo diez proyectos, un ejemplo de quiz y un ejemplo de parcial.  \n",
    "    \n",
    "11. Diseño de actividad de retroalimentación.   \n",
    "    \n",
    "12. Dame un vocabulario y frases del idioma inglés asociadas a esta clase.  \n",
    "\n",
    "13.  Incluye apéndice para la clase sobre desarrollo de habilidades para trabajar en equipo y de asertividad y empatía para relacionarnos. También elementos de la inteligencia emocional para presentar pruebas sin temor y sin realizar fraude en ellas. Y Actividades para desarrollar la habilidad de la Tolerancia    \n",
    "     \n",
    "14. Incluye 5 referentes en didáctica de la matemática que estén de acuerdo a la propuesta didáctica de esta clase. Adiciona a estos referentes a Raymond Duval (Representaciones y cambios de representación para la adquisición de conceptos matemáticos) y a Jeannette Wing (Desarrollo del pensamiento computacional). Dejame todos estos referentes ordenados de acuerdo a las normas APA. Incluye un referente en didáctica de la matemática que fundamente el uso del Enfoque de Aula Invertida, uno que fundamente el enfoque STEAMS y finalmente otro que fundamente el enfoque de Aprendizaje Basado en Problemas y Proyectos (ABPP)\n",
    "  \n",
    "\n",
    "Pero  que este diseño sea para que el estudiante pueda aprender experimentando en cuadernos Jupyter con funciones de usuario y animaciones y visualizaciones en Python.    \n",
    "\n",
    "En particular utiliza para el diseño de clase a Numpy, Pandas, SymPy, Matplotlib.pyplot, Seaborn, Plotly, ipywidgets, matplotlib.animation y Jupyter Notebook.    \n",
    "\n",
    "Cada vez que utilices `matplotlib.animacion` no olvides incluir el uso de `IPython. display` para la renderización de estas animaciones a través de Jupyter Notebook.    \n",
    "\n",
    "No olvides darme los diseños de clase con las ecuaciones matemáticas delimitadas con signo de dólar $ para que VS Code si me renderice estas expresiones del lenguaje latex. Cuando vallas a utilizar ipywidgets ten en cuenta la siguiente importación inicial para garantizar que la visualización interactiva si se renderice en VS Code:    \n",
    " \n",
    "import numpy as np  \n",
    "import matplotlib.pyplot as plt  \n",
    "import ipywidgets as widgets  \n",
    "from IPython.display import display, clear_output  \n",
    "from matplotlib.patches import Rectangle  \n",
    "\n",
    "* Obtenga el libro guía: Métodos Numéricos Usando Python, [aquí:](chrome-extension://efaidnbmnnnibpcajpcglclefindmkaj/https://librosoa.unam.mx/bitstream/handle/123456789/3416/MNPython.pdf?sequence=1&isAllowed=y)  \n",
    "* Obtenga el programa del curso [aquí](https://github.com/marco-canas/analisis_numerico/blob/main/2_programa_curso/2_programa_curso_analisis_numerico.md)  \n",
    "* El cronograma o clase  a clase de este curso lo puede obtener [aquí](https://github.com/marco-canas/analisis_numerico/blob/main/2_programa_curso/3_cronograma_o_clase_a_clase.md)"
   ]
  },
  {
   "cell_type": "markdown",
   "id": "05f5b58c",
   "metadata": {},
   "source": [
    "# Ceros de funciones lineales $f(x) = ax + b$  \n",
    "\n"
   ]
  },
  {
   "cell_type": "markdown",
   "id": "ded1813a",
   "metadata": {},
   "source": [
    "\n",
    "## Situación real: **Lanzamiento de un proyectil** \n"
   ]
  },
  {
   "cell_type": "markdown",
   "id": "ffdff871",
   "metadata": {},
   "source": [
    "\n",
    "Un estudiante lanza una pelota desde el suelo con una velocidad inicial $v_0$ y un ángulo $\\theta$.\n",
    "La función de **altura** en función del tiempo $t$ es:\n",
    "\n",
    "$$\n",
    "h(t) = v_0 \\sin(\\theta) \\, t - \\tfrac{1}{2} g t^2\n",
    "$$\n",
    "\n",
    "donde $g = 9.8 \\, \\text{m/s}^2$.\n",
    "\n",
    "El **cero de esta función** $h(t) = 0$ (después de $t=0$) corresponde al **tiempo en que la pelota vuelve a tocar el suelo**.\n",
    "\n",
    "---\n"
   ]
  },
  {
   "cell_type": "markdown",
   "id": "06c3b5aa",
   "metadata": {},
   "source": [
    "\n",
    "## Función modelo\n",
    "\n",
    "Si tomamos, por ejemplo:\n",
    "\n",
    "* $v_0 = 20 \\, \\text{m/s}$\n",
    "* $\\theta = 45^\\circ$\n",
    "\n",
    "la función queda:\n",
    "\n",
    "$$\n",
    "f(t) = 20 \\cdot \\tfrac{\\sqrt{2}}{2} \\, t - 4.9 t^2 = 14.14 t - 4.9 t^2\n",
    "$$\n",
    "\n",
    "---\n"
   ]
  },
  {
   "cell_type": "markdown",
   "id": "6accd156",
   "metadata": {},
   "source": [
    "\n",
    "## Interpretación del cero\n",
    "\n",
    "Resolver $f(t) = 0$ significa **encontrar el tiempo en que la pelota vuelve al suelo**.\n",
    "\n",
    "Ese tiempo se obtiene analíticamente como:\n",
    "\n",
    "$$\n",
    "t = \\frac{2 v_0 \\sin(\\theta)}{g} = \\frac{2 \\cdot 20 \\cdot 0.707}{9.8} \\approx 2.88 \\, \\text{segundos}\n",
    "$$\n"
   ]
  },
  {
   "cell_type": "markdown",
   "id": "06d4fc1c",
   "metadata": {},
   "source": [
    "\n",
    "Pero **si no tuviéramos la fórmula explícita** (por ejemplo, en un modelo más complejo con resistencia del aire, terreno inclinado, etc.), sería necesario aplicar **métodos numéricos** como Newton-Raphson para aproximar el valor del cero.\n",
    "\n",
    "---\n"
   ]
  },
  {
   "cell_type": "code",
   "execution_count": null,
   "id": "b903f8d8",
   "metadata": {},
   "outputs": [],
   "source": []
  },
  {
   "cell_type": "code",
   "execution_count": null,
   "id": "ebd04408",
   "metadata": {},
   "outputs": [],
   "source": []
  },
  {
   "cell_type": "markdown",
   "id": "239427f7",
   "metadata": {},
   "source": [
    "# Calendario Académico     \n",
    "\n",
    "* Clase de Análisis Numérico: Viernes de 8 a 12 AM.  \n",
    "\n",
    "* Límite evaluación del 40%: 27 de septiembre de 2025  \n",
    "* Terminación de clases: 22 de noviembre de 2025  \n",
    "* Exámenes finales: 24 al 29 de noviembre de 2025  \n",
    "* Habilitación y validación: 01 al 06 de diciembre 2025  \n",
    "* Terminación oficial del semestre: 09 de diciembre de 2025.  \n",
    "  \n",
    "\n"
   ]
  },
  {
   "cell_type": "markdown",
   "id": "8ba64aed",
   "metadata": {},
   "source": [
    "# Cursos que orienta el profesor Marco Julio Cañas Campillo en 2025  \n",
    "\n",
    "4. Cálculo Vectorial para Ingeniería Agropecuaria\n",
    "5. Práctica Pedagógica V para Licenciatura en Educación Infantil\n",
    "6. Fundamentos de Lógica para Licenciatura en Matemáticas \n",
    "7. Análisis Numérico para Licenciatura en Matemáticas: Viernes de 8 a 12.  \n",
    "\n"
   ]
  },
  {
   "cell_type": "markdown",
   "id": "8d41fe58",
   "metadata": {
    "slideshow": {
     "slide_type": "slide"
    }
   },
   "source": [
    "# Horario de clases del profesor Marco\n",
    "\n",
    "* Lunes 8-12: Cálculo Vectorial\n",
    "* Martes 8-12 M: Fundamentos de Aritmética. \n",
    "* Miércoles 8 a 12 M: Fundamentos de la Lógica\n",
    "* Jueves 2 a 6 PM: Desarrollo del pensamiento matemático en la infancia. \n",
    "* Viernes 8 - 12 M: Análisis Numérico. \n",
    "* Sábados 8-12 Asesorías y espacio para retroalimentación y apoyo al trabajo independiente. "
   ]
  },
  {
   "cell_type": "markdown",
   "id": "ae114e14",
   "metadata": {
    "slideshow": {
     "slide_type": "slide"
    }
   },
   "source": [
    "# Horarios de monitoría y asesoría   \n",
    "\n",
    "* Asesoría: Sábados de 8 a 12 en el aula que nos asigne la sección de medios y logística. \n"
   ]
  },
  {
   "cell_type": "markdown",
   "id": "8cf679e7",
   "metadata": {},
   "source": [
    "\n",
    "# Coordinador de los cursos de la Facultad de Educación para regiones:    \n",
    "\n",
    "Andrés Vélez: regioneducacion.fedu@udea.edu.co  \n",
    "Coordinador Regiones  \n",
    "Facultad de Educación  \n",
    "Universidad de Antioquia  "
   ]
  },
  {
   "cell_type": "markdown",
   "id": "b1db4b6c",
   "metadata": {
    "slideshow": {
     "slide_type": "slide"
    }
   },
   "source": [
    "## Monitores  \n",
    "* Yeifry Sebastián Uribe: yeifry.uribe@udea.edu.co. \n",
    "* Manuel San Juan Serrano: Contactar escribiendo al correo: manuel.serrano1@udea.edu.co"
   ]
  },
  {
   "cell_type": "markdown",
   "id": "39559692",
   "metadata": {
    "slideshow": {
     "slide_type": "slide"
    }
   },
   "source": [
    "Martes y jueves de 8 - 12  \n",
    "Miércoles 10 - 12 y de 2 a 4 PM  \n",
    "Sábado: 8 - 12"
   ]
  },
  {
   "cell_type": "markdown",
   "id": "10bce0d0",
   "metadata": {
    "slideshow": {
     "slide_type": "slide"
    }
   },
   "source": [
    "## Referentes "
   ]
  },
  {
   "cell_type": "markdown",
   "id": "1db3c468",
   "metadata": {
    "slideshow": {
     "slide_type": "slide"
    }
   },
   "source": [
    "* [Bergmann, J. (2012). *Flip Your Classroom.* (Aula Invertida).](chrome-extension://efaidnbmnnnibpcajpcglclefindmkaj/https://blogs.ugto.mx/mdued/wp-content/uploads/sites/66/2022/11/Bergmann-y-Sams-Dale-la-vuelta-a-tu-clase.pdf)    \n",
    "  \n",
    "* [CALCULO I DE UNA VARIABLE Ron Larson-Bruce Edwards. Mc Graw Hill. 9º Edición](https://www.academia.edu/42139251/CALCULO_I_DE_UNA_VARIABLE_Ron_Larson_Bruce_Edwards_Mc_Graw_Hill_9o_Edici%C3%B3n)   \n",
    "  \n",
    "* [Métodos numéricos usando python](chrome-extension://efaidnbmnnnibpcajpcglclefindmkaj/https://librosoa.unam.mx/bitstream/handle/123456789/3416/MNPython.pdf?sequence=1&isAllowed=y)  \n",
    "  \n",
    "* [Métodos numéricos usando python. Código fuente de todo el libro](https://github.com/jcjimenezb123/MNPython-Libro?tab=readme-ov-file#readme)\n",
    "\n",
    "* [Grajales Vanegas, L. M., Restrepo Estrada, C. E., Restrepo Ochoa, S. I., & Ruíz De Villalba, F. (2015). Matemáticas I para las ciencias económicas.](https://bibliotecadigital.udea.edu.co/handle/10495/3010)\n",
    "  \n",
    "* R. Duval y Semiosis y pensamiento humano, 2.ª ed. Cali, Colombia: Programa Editorial Universidad del Valle, 2017. [En línea]. Disponible en: https://programaeditorial.univalle.edu.co/gpd-semiosis-y-pensamiento-humano-9789587655278-63324cdb0f6b3.html\n",
    "\n",
    "* [Aylwin, C. U. (2011). Lógica, conjuntos y números. Universidad de los Andes, Consejo de Publicaciones, Colección: Ciencias Básicas, Serie: Matemáticas.](chrome-extension://efaidnbmnnnibpcajpcglclefindmkaj/https://www.u-cursos.cl/ciencias/2011/1/MC110/1/material_docente/bajar?id_material=574722)\n",
    "  \n",
    "* [Chollet, F. (2021). Deep learning with Python. Simon and Schuster.](chrome-extension://efaidnbmnnnibpcajpcglclefindmkaj/https://tanthiamhuat.wordpress.com/wp-content/uploads/2018/03/deeplearningwithpython.pdf)  \n",
    "  \n",
    "* [Watson, S., Stewart, J., & Redlin, L. (2009). Precálculo. Matemáticas para el cálculo.](https://github.com/marco-canas/calculo/blob/main/referents/1_precalculo_stewart/stewart_precalculo.pdf)  \n",
    "\n",
    "* [Purcell, E. J., Varberg, D., & Rigdon, S. E. (2007). Cálculo diferencial e integral. Pearson Educación.](https://github.com/marco-canas/calculo/blob/main/referents/purcell/purcell_calculo.pdf)\n",
    "\n",
    "  \n",
    "\n",
    "* [stewart cálculo](https://udeaeduco-my.sharepoint.com/:b:/g/personal/marco_canas_udea_edu_co/EZgXZjAp8QxPqOAim2hs6LcBNPLGjSHf-xwYnUVYkwa04w?e=RZdTCy)  \n",
    "\n",
    "\n",
    "\n",
    "\n",
    "\n",
    "* [Recomendación de la UNESCO sobre ciencia abierta](https://unesdoc.unesco.org/ark:/48223/pf0000379949_spa)\n",
    "\n",
    "* [chatGPT](https://openai.com/blog/chatgpt)  \n",
    "\n",
    "* [Géron, A. (2017). Hands-on machine learning with scikit-learn and tensorflow: Concepts. Tools, and Techniques to build intelligent systems.](chrome-extension://efaidnbmnnnibpcajpcglclefindmkaj/http://14.139.161.31/OddSem-0822-1122/Hands-On_Machine_Learning_with_Scikit-Learn-Keras-and-TensorFlow-2nd-Edition-Aurelien-Geron.pdf)   \n"
   ]
  },
  {
   "cell_type": "markdown",
   "id": "df925560",
   "metadata": {},
   "source": [
    "\n",
    "* [McKinney, W. (2012). Python for data analysis: Data wrangling with Pandas, NumPy, and IPython. \" O'Reilly Media, Inc.\".](https://wesmckinney.com/book/) "
   ]
  },
  {
   "cell_type": "markdown",
   "id": "8e65d6f9",
   "metadata": {},
   "source": [
    "# Como estudiante, encuentro que...   \n",
    "\n",
    "F: Mis Fortalezas son:     \n",
    "O: Mis Oportunidades son:    \n",
    "D: Mis Debilidades son:    \n",
    "A: Lo que Amenazas mi aprendizaje es:  "
   ]
  },
  {
   "cell_type": "markdown",
   "id": "6b9e56a8",
   "metadata": {
    "slideshow": {
     "slide_type": "slide"
    }
   },
   "source": [
    "### [Evaluamos al profesor Marco Cañas Aquí](https://forms.office.com/Pages/ResponsePage.aspx?id=IefhmYRxjkmK_7KtTlPBwkanXIs1i1FEujpsZgO6dXpUREJPV1kxUk1JV1ozTFJIQVNIQjY5WEY3US4u)"
   ]
  },
  {
   "cell_type": "markdown",
   "id": "10f43536",
   "metadata": {
    "slideshow": {
     "slide_type": "slide"
    }
   },
   "source": [
    "### Continue su aprendizaje en la siguiente clase a través del siguiente [vínculo]()"
   ]
  },
  {
   "cell_type": "markdown",
   "id": "53cc9115",
   "metadata": {
    "slideshow": {
     "slide_type": "slide"
    }
   },
   "source": [
    "## Agradecimientos  \n",
    "\n",
    "Doy gracias a Dios por la vida de mi Hijo Joseph Cañas Osorio y la madurez que ha alcanzado. Este hijo me enorgullece y me hace falta abrazarlo cada día. \n",
    "\n",
    "Y a mi esposa Yasmira Emperatriz Barboza Mogollón por su apoyo, orientación y acompañamiento. "
   ]
  },
  {
   "cell_type": "markdown",
   "id": "0e66cd7c",
   "metadata": {},
   "source": [
    "# Clase de análisis numérico los Viernes de 8 a 12 del medio día. "
   ]
  },
  {
   "cell_type": "markdown",
   "id": "c5ff61b1",
   "metadata": {},
   "source": []
  }
 ],
 "metadata": {
  "celltoolbar": "Slideshow",
  "kernelspec": {
   "display_name": ".venv",
   "language": "python",
   "name": "python3"
  },
  "language_info": {
   "codemirror_mode": {
    "name": "ipython",
    "version": 3
   },
   "file_extension": ".py",
   "mimetype": "text/x-python",
   "name": "python",
   "nbconvert_exporter": "python",
   "pygments_lexer": "ipython3",
   "version": "3.11.9"
  },
  "rise": {
   "enable_chalkboard": true,
   "theme": "sky",
   "transition": "zoom"
  }
 },
 "nbformat": 4,
 "nbformat_minor": 5
}
