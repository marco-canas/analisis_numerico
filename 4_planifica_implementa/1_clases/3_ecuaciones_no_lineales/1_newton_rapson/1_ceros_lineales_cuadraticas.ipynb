{
 "cells": [
  {
   "cell_type": "markdown",
   "id": "dc06dec7",
   "metadata": {
    "slideshow": {
     "slide_type": "slide"
    }
   },
   "source": [
    "<table align=\"left\">\n",
    "  <td>\n",
    "    <a href=\"https://colab.research.google.com/github/ageron/handson-ml3/blob/main/tools_numpy.ipynb\" target=\"_parent\"><img src=\"https://colab.research.google.com/assets/colab-badge.svg\" alt=\"Open In Colab\"/></a>\n",
    "  </td>\n",
    "  <td>\n",
    "    <a target=\"_blank\" href=\"https://kaggle.com/kernels/welcome?src=https://github.com/ageron/handson-ml3/blob/main/tools_numpy.ipynb\"><img src=\"https://kaggle.com/static/images/open-in-kaggle.svg\" /></a>\n",
    "  </td>\n",
    "</table>"
   ]
  },
  {
   "cell_type": "markdown",
   "id": "e0c5b198",
   "metadata": {
    "slideshow": {
     "slide_type": "slide"
    }
   },
   "source": [
    "### [Video de apoyo a la lectura interactiva y experimental de este cuaderno]()"
   ]
  },
  {
   "cell_type": "markdown",
   "id": "41e82203",
   "metadata": {
    "slideshow": {
     "slide_type": "slide"
    }
   },
   "source": [
    "### [Vínculo al programa del curso de Análisis Numérico:](https://github.com/marco-canas/analisis_numerico/blob/main/2_programa_curso/2_programa_curso_analisis_numerico.md)\n",
    "\n"
   ]
  },
  {
   "cell_type": "code",
   "execution_count": 2,
   "id": "7604880f",
   "metadata": {
    "slideshow": {
     "slide_type": "slide"
    }
   },
   "outputs": [
    {
     "data": {
      "application/vnd.microsoft.datawrangler.viewer.v0+json": {
       "columns": [
        {
         "name": "index",
         "rawType": "int64",
         "type": "integer"
        },
        {
         "name": "Cedula",
         "rawType": "int64",
         "type": "integer"
        },
        {
         "name": "Nombre",
         "rawType": "object",
         "type": "string"
        },
        {
         "name": "Email",
         "rawType": "object",
         "type": "string"
        },
        {
         "name": "p1",
         "rawType": "float64",
         "type": "float"
        }
       ],
       "ref": "e6e6c499-7e01-43e7-a735-a501b4b6e2b2",
       "rows": [
        [
         "1",
         "1067281024",
         "ALVAREZ GOEZ DAIRO ESTEBAN",
         "dairo.alvarez1@udea.edu.co",
         null
        ],
        [
         "2",
         "1041086439",
         "CASTILLO SIERRA SHIRLIS SARAY",
         "shirlis.castillo@udea.edu.co",
         null
        ],
        [
         "3",
         "1045419649",
         "ESPINOSA ESPINOSA LILIANA ANDREA",
         "lilianaa.espinosa@udea.edu.co",
         null
        ],
        [
         "4",
         "1040494191",
         "GARCIA PADILLA JHONATAN",
         "jhonatan.garcia1@udea.edu.co",
         "3.0"
        ],
        [
         "5",
         "1038131529",
         "HOYOS ARRIETA ELIECER JOSE",
         "jose.hoyos2@udea.edu.co",
         null
        ]
       ],
       "shape": {
        "columns": 4,
        "rows": 5
       }
      },
      "text/html": [
       "<div>\n",
       "<style scoped>\n",
       "    .dataframe tbody tr th:only-of-type {\n",
       "        vertical-align: middle;\n",
       "    }\n",
       "\n",
       "    .dataframe tbody tr th {\n",
       "        vertical-align: top;\n",
       "    }\n",
       "\n",
       "    .dataframe thead th {\n",
       "        text-align: right;\n",
       "    }\n",
       "</style>\n",
       "<table border=\"1\" class=\"dataframe\">\n",
       "  <thead>\n",
       "    <tr style=\"text-align: right;\">\n",
       "      <th></th>\n",
       "      <th>Cedula</th>\n",
       "      <th>Nombre</th>\n",
       "      <th>Email</th>\n",
       "      <th>p1</th>\n",
       "    </tr>\n",
       "  </thead>\n",
       "  <tbody>\n",
       "    <tr>\n",
       "      <th>1</th>\n",
       "      <td>1067281024</td>\n",
       "      <td>ALVAREZ GOEZ DAIRO ESTEBAN</td>\n",
       "      <td>dairo.alvarez1@udea.edu.co</td>\n",
       "      <td>NaN</td>\n",
       "    </tr>\n",
       "    <tr>\n",
       "      <th>2</th>\n",
       "      <td>1041086439</td>\n",
       "      <td>CASTILLO SIERRA SHIRLIS SARAY</td>\n",
       "      <td>shirlis.castillo@udea.edu.co</td>\n",
       "      <td>NaN</td>\n",
       "    </tr>\n",
       "    <tr>\n",
       "      <th>3</th>\n",
       "      <td>1045419649</td>\n",
       "      <td>ESPINOSA ESPINOSA LILIANA ANDREA</td>\n",
       "      <td>lilianaa.espinosa@udea.edu.co</td>\n",
       "      <td>NaN</td>\n",
       "    </tr>\n",
       "    <tr>\n",
       "      <th>4</th>\n",
       "      <td>1040494191</td>\n",
       "      <td>GARCIA PADILLA JHONATAN</td>\n",
       "      <td>jhonatan.garcia1@udea.edu.co</td>\n",
       "      <td>3.0</td>\n",
       "    </tr>\n",
       "    <tr>\n",
       "      <th>5</th>\n",
       "      <td>1038131529</td>\n",
       "      <td>HOYOS ARRIETA ELIECER JOSE</td>\n",
       "      <td>jose.hoyos2@udea.edu.co</td>\n",
       "      <td>NaN</td>\n",
       "    </tr>\n",
       "  </tbody>\n",
       "</table>\n",
       "</div>"
      ],
      "text/plain": [
       "       Cedula                            Nombre  \\\n",
       "1  1067281024        ALVAREZ GOEZ DAIRO ESTEBAN   \n",
       "2  1041086439     CASTILLO SIERRA SHIRLIS SARAY   \n",
       "3  1045419649  ESPINOSA ESPINOSA LILIANA ANDREA   \n",
       "4  1040494191           GARCIA PADILLA JHONATAN   \n",
       "5  1038131529        HOYOS ARRIETA ELIECER JOSE   \n",
       "\n",
       "                           Email   p1  \n",
       "1     dairo.alvarez1@udea.edu.co  NaN  \n",
       "2   shirlis.castillo@udea.edu.co  NaN  \n",
       "3  lilianaa.espinosa@udea.edu.co  NaN  \n",
       "4   jhonatan.garcia1@udea.edu.co  3.0  \n",
       "5        jose.hoyos2@udea.edu.co  NaN  "
      ]
     },
     "execution_count": 2,
     "metadata": {},
     "output_type": "execute_result"
    }
   ],
   "source": [
    "import pandas as pd\n",
    "import numpy as np\n",
    "\n",
    "# Cargar la lista de estudiantes desde el archivo CSV\n",
    "path = 'C:/Users/marco/Documentos/docencia/groups_list/analisis_numerico.xlsx'\n",
    "df = pd.read_excel(path)\n",
    "df.index = np.arange(1, len(df) + 1)\n",
    "df.head()\n"
   ]
  },
  {
   "cell_type": "markdown",
   "id": "10e55ccf",
   "metadata": {},
   "source": [
    "# Estructura general para todas las clases\n",
    "\n",
    "Dame, por favor, un diseño de clase, con el enfoque: \"Aula Invertida, STEAMS y De aprendizaje basado en problemas y proyectos(ABPP)\" sobre: \"El método de integración numérica llamado Sumas Izquierdas de Riemann \", siguiendo la estructura:  \n",
    "\n",
    "1. Título de la clase   \n",
    "   \n",
    "2. Objetivos de aprendizaje que incluyan los indicadores del logro de estos objetivos.\n",
    "   \n",
    "3. Un mapa conceptual que resuma la clase elaborado en Graphviz de Python con nodos y edges de diferentes formas, colores y rellenos y renderizado en la siguiente ubicación: `\"C:/Users/marco/Downloads\"`. No olvides el parámetro `view = True` para el método `render()` de Graphviz. Para este mapa controla las superposiciones de los nodos con: graph [overlap=false]; // Elimina superposiciones (puede aumentar el espacio) \n",
    "graph [overlap=\"scalexy\"]; // Escala el gráfico para evitar overlaps\n",
    "graph [overlap=\"compress\"]; // Comprime el grafo sin overlaps  \n",
    "   \n",
    "4. Dame elementos históricos y epistemológicos asociados a esta clase, pero contados como un cuento al estilo de un cuentero antioqueño en Colombia. Incluye imágenes de los protagonistas históricos de esta clase.   \n",
    "   \n",
    "5. Contenido de la clase. Que el contenido parta de una situación real para llegar a una constitución del modelo matemático que represente tal situación real.    \n",
    "       \n",
    "   \n",
    "7. Actividades de aprendizaje: que incluya pruebas de escritorio para los algoritmos en forma verbal y seudo código, diagrama de flujo, y la implementación del algoritmo en lenguaje Python.   \n",
    "   \n",
    "8. Incluye una canción o un poema que ayude a interiorizar y fijar los conceptos asociados a esta clase.   \n",
    "   \n",
    "9.  Tarea o actividades de ejercitación y fijación.  \n",
    "    \n",
    "10. Evaluación incluyendo diez proyectos, un ejemplo de quiz y un ejemplo de parcial.  \n",
    "    \n",
    "11. Diseño de actividad de retroalimentación.   \n",
    "    \n",
    "12. Dame un vocabulario y frases del idioma inglés asociadas a esta clase.  \n",
    "\n",
    "13.  Incluye apéndice para la clase sobre desarrollo de habilidades para trabajar en equipo y de asertividad y empatía para relacionarnos. También elementos de la inteligencia emocional para presentar pruebas sin temor y sin realizar fraude en ellas. Y Actividades para desarrollar la habilidad de la Tolerancia    \n",
    "     \n",
    "14. Incluye 5 referentes en didáctica de la matemática que estén de acuerdo a la propuesta didáctica de esta clase. Adiciona a estos referentes a Raymond Duval (Representaciones y cambios de representación para la adquisición de conceptos matemáticos) y a Jeannette Wing (Desarrollo del pensamiento computacional). Dejame todos estos referentes ordenados de acuerdo a las normas APA. Incluye un referente en didáctica de la matemática que fundamente el uso del Enfoque de Aula Invertida, uno que fundamente el enfoque STEAMS y finalmente otro que fundamente el enfoque de Aprendizaje Basado en Problemas y Proyectos (ABPP)\n",
    "  \n",
    "\n",
    "Pero  que este diseño sea para que el estudiante pueda aprender experimentando en cuadernos Jupyter con funciones de usuario y animaciones y visualizaciones en Python.    \n",
    "\n",
    "En particular utiliza para el diseño de clase a Numpy, Pandas, SymPy, Matplotlib.pyplot, Seaborn, Plotly, ipywidgets, matplotlib.animation y Jupyter Notebook.    \n",
    "\n",
    "Cada vez que utilices `matplotlib.animacion` no olvides incluir el uso de `IPython. display` para la renderización de estas animaciones a través de Jupyter Notebook.    \n",
    "\n",
    "No olvides darme los diseños de clase con las ecuaciones matemáticas delimitadas con signo de dólar $ para que VS Code si me renderice estas expresiones del lenguaje latex. Cuando vallas a utilizar ipywidgets ten en cuenta la siguiente importación inicial para garantizar que la visualización interactiva si se renderice en VS Code:    \n",
    " \n",
    "import numpy as np  \n",
    "import matplotlib.pyplot as plt  \n",
    "import ipywidgets as widgets  \n",
    "from IPython.display import display, clear_output  \n",
    "from matplotlib.patches import Rectangle  \n",
    "\n",
    "* Obtenga el libro guía: Métodos Numéricos Usando Python, [aquí:](chrome-extension://efaidnbmnnnibpcajpcglclefindmkaj/https://librosoa.unam.mx/bitstream/handle/123456789/3416/MNPython.pdf?sequence=1&isAllowed=y)  \n",
    "* Obtenga el programa del curso [aquí](https://github.com/marco-canas/analisis_numerico/blob/main/2_programa_curso/2_programa_curso_analisis_numerico.md)  \n",
    "* El cronograma o clase  a clase de este curso lo puede obtener [aquí](https://github.com/marco-canas/analisis_numerico/blob/main/2_programa_curso/3_cronograma_o_clase_a_clase.md)"
   ]
  },
  {
   "cell_type": "markdown",
   "id": "7878d6d3",
   "metadata": {},
   "source": [
    "# Objetivo de aprendizaje en cuanto al concepto de ceros de funciones lineales y cuadráticas\n",
    "\n"
   ]
  },
  {
   "cell_type": "markdown",
   "id": "05f5b58c",
   "metadata": {},
   "source": [
    "# Ceros de funciones lineales $f(x) = ax + b$  \n",
    "\n"
   ]
  },
  {
   "cell_type": "markdown",
   "id": "8386e745",
   "metadata": {},
   "source": [
    "# Ejemplo que da sentido al concepto de ceros de funciones lineales  \n",
    "\n",
    "Consideremos una particula que es lanzada verticalmente hacia arriba (sobre la superficie de la Tierra) con una velocidad inicial $v_{0}$. Determine el tiempo que tarda dicha particula en alcanzar la altura máxima. \n",
    "\n",
    "Solución: \n",
    "\n"
   ]
  },
  {
   "cell_type": "markdown",
   "id": "977dbee4",
   "metadata": {},
   "source": [
    "Esta es una **guía didáctica** que une la situación física (el lanzamiento vertical) con el **cero de una función lineal**, resaltando cómo la transposición de términos permite encontrarlo. Esto hará que tus estudiantes comprendan que el concepto de **cero de la función** no es solo algebraico, sino que tiene sentido en contextos aplicados.\n",
    "\n",
    "---\n"
   ]
  },
  {
   "cell_type": "markdown",
   "id": "c26d7fbf",
   "metadata": {},
   "source": [
    "\n",
    "# Guía didáctica: El cero de una función lineal a través del lanzamiento vertical de una partícula\n",
    "\n",
    "## 1. Propósito de la actividad\n",
    "\n",
    "* Comprender el concepto de **cero de una función lineal**.\n",
    "* Relacionar el **cero** con el tiempo en el cual un fenómeno físico alcanza un estado particular (altura máxima en este caso).\n",
    "* Mostrar cómo la **transposición de términos** permite encontrar el valor del cero.\n",
    "\n",
    "---\n"
   ]
  },
  {
   "cell_type": "markdown",
   "id": "57f67fe3",
   "metadata": {},
   "source": [
    "\n",
    "## 2. Situación inicial\n",
    "\n",
    "Consideremos una partícula que se lanza verticalmente hacia arriba (en la superficie de la Tierra) con una **velocidad inicial** \\$v\\_{0}\\$.\n",
    "Sabemos que sobre la partícula actúa la **aceleración de la gravedad** \\$g = 9.8 , m/s^{2}\\$ hacia abajo.\n",
    "\n",
    "**Pregunta didáctica:**\n",
    "👉 ¿En qué momento la partícula alcanza la **altura máxima**?\n",
    "\n",
    "---\n"
   ]
  },
  {
   "cell_type": "markdown",
   "id": "bd02dfff",
   "metadata": {},
   "source": [
    "\n",
    "## 3. Modelo matemático\n",
    "\n",
    "La velocidad de la partícula en cualquier instante \\$t\\$ está dada por la función lineal:\n",
    "\n",
    "$$\n",
    "v(t) = v_{0} - g t\n",
    "$$\n",
    "\n",
    "donde:\n",
    "\n",
    "* \\$v(t)\\$ = velocidad en el instante \\$t\\$,\n",
    "* \\$v\\_{0}\\$ = velocidad inicial (positiva, hacia arriba),\n",
    "* \\$g\\$ = aceleración de la gravedad,\n",
    "* \\$t\\$ = tiempo transcurrido desde el lanzamiento.\n",
    "\n",
    "---\n"
   ]
  },
  {
   "cell_type": "markdown",
   "id": "80740e7a",
   "metadata": {},
   "source": [
    "\n",
    "## 4. Idea clave\n",
    "\n",
    "La **altura máxima** ocurre cuando la velocidad se hace **cero**:\n",
    "\n",
    "$$\n",
    "v(t) = 0\n",
    "$$\n",
    "\n",
    "Es decir, encontrar la altura máxima equivale a **encontrar el cero de una función lineal**.\n",
    "\n",
    "---\n"
   ]
  },
  {
   "cell_type": "markdown",
   "id": "c5c6c32f",
   "metadata": {},
   "source": [
    "\n",
    "## 5. Resolución paso a paso (con transposición de términos)\n",
    "\n",
    "1. Partimos de la condición:\n",
    "\n",
    "   $$\n",
    "   v_{0} - g t = 0\n",
    "   $$\n",
    "\n",
    "2. Transponemos términos:\n",
    "\n",
    "   $$\n",
    "   - g t = - v_{0}\n",
    "   $$\n",
    "\n",
    "3. Simplificamos (multiplicamos por \\$-1\\$):\n",
    "\n",
    "   $$\n",
    "   g t = v_{0}\n",
    "   $$\n",
    "\n",
    "4. Despejamos \\$t\\$:\n",
    "\n",
    "   $$\n",
    "   t = \\frac{v_{0}}{g}\n",
    "   $$\n",
    "\n",
    "---\n"
   ]
  },
  {
   "cell_type": "markdown",
   "id": "1094bce1",
   "metadata": {},
   "source": [
    "\n",
    "## 6. Interpretación del resultado\n",
    "\n",
    "* El tiempo en que la partícula alcanza la altura máxima es el **cero de la función lineal \\$v(t)\\$**.\n",
    "* Matemáticamente, este cero se obtiene con la transposición de términos.\n",
    "* Físicamente, corresponde al instante en el cual la partícula deja de subir (velocidad cero) y comienza a descender.\n",
    "\n",
    "---\n"
   ]
  },
  {
   "cell_type": "markdown",
   "id": "2905eb52",
   "metadata": {},
   "source": [
    "\n",
    "## 7. Actividad para los estudiantes\n",
    "\n",
    "1. **Discusión en grupo:** ¿Por qué la altura máxima corresponde a la condición \\$v(t) = 0\\$ y no a otra?\n",
    "2. **Ejercicio numérico:**\n",
    "   Si \\$v\\_{0} = 19.6 , m/s\\$, determinar el tiempo en que la partícula alcanza la altura máxima.\n",
    "3. **Extensión:** Representar gráficamente la función \\$v(t) = v\\_{0} - g t\\$ y marcar el punto donde corta al eje \\$t\\$.\n",
    "\n",
    "---\n",
    "\n",
    "## 8. Conexión con el concepto de función lineal\n",
    "\n",
    "* La recta \\$v(t) = v\\_{0} - g t\\$ tiene pendiente negativa (\\$-g\\$).\n",
    "* Su **corte con el eje \\$t\\$** es el cero de la función:\n",
    "\n",
    "  $$\n",
    "  t = \\frac{v_{0}}{g}\n",
    "  $$\n",
    "* Este cero se interpreta en el contexto del fenómeno físico como el **tiempo de altura máxima**.\n",
    "\n",
    "---\n"
   ]
  },
  {
   "cell_type": "markdown",
   "id": "72ac29b5",
   "metadata": {},
   "source": [
    "\n",
    "📌 **Cierre didáctico:**\n",
    "Con este ejemplo, los estudiantes comprenden que los ceros de funciones lineales no son simples valores algebraicos abstractos, sino momentos o situaciones críticas en fenómenos reales.\n",
    "\n",
    "---\n"
   ]
  },
  {
   "cell_type": "markdown",
   "id": "3a14390d",
   "metadata": {},
   "source": [
    "\n",
    "¿Quieres que te lo organice también en **formato presentación tipo Canva-like** (diapositivas con títulos, imágenes y pasos resumidos) para que lo uses directamente en clase?\n"
   ]
  },
  {
   "cell_type": "markdown",
   "id": "426f98ac",
   "metadata": {},
   "source": []
  },
  {
   "cell_type": "markdown",
   "id": "f0c6ff31",
   "metadata": {},
   "source": [
    "# Ahora, el cero de ceros para funciones cuadráticas"
   ]
  },
  {
   "cell_type": "markdown",
   "id": "ded1813a",
   "metadata": {},
   "source": [
    "\n",
    "## Situación real: **Lanzamiento de un proyectil** \n"
   ]
  },
  {
   "cell_type": "markdown",
   "id": "ffdff871",
   "metadata": {},
   "source": [
    "\n",
    "Un estudiante lanza una pelota desde el suelo con una velocidad inicial $v_0$ y un ángulo $\\theta$.\n",
    "La función de **altura** en función del tiempo $t$ es:\n",
    "\n",
    "$$\n",
    "h(t) = v_0 \\sin(\\theta) \\, t - \\tfrac{1}{2} g t^2\n",
    "$$\n",
    "\n",
    "donde $g = 9.8 \\, \\text{m/s}^2$.\n",
    "\n",
    "El **cero de esta función** $h(t) = 0$ (después de $t=0$) corresponde al **tiempo en que la pelota vuelve a tocar el suelo**.\n",
    "\n",
    "---\n"
   ]
  },
  {
   "cell_type": "markdown",
   "id": "06c3b5aa",
   "metadata": {},
   "source": [
    "\n",
    "## Función modelo\n",
    "\n",
    "Si tomamos, por ejemplo:\n",
    "\n",
    "* $v_0 = 20 \\, \\text{m/s}$\n",
    "* $\\theta = 45^\\circ$\n",
    "\n",
    "la función queda:\n",
    "\n",
    "$$\n",
    "f(t) = 20 \\cdot \\tfrac{\\sqrt{2}}{2} \\, t - 4.9 t^2 = 14.14 t - 4.9 t^2\n",
    "$$\n",
    "\n",
    "---\n"
   ]
  },
  {
   "cell_type": "markdown",
   "id": "6accd156",
   "metadata": {},
   "source": [
    "\n",
    "## Interpretación del cero\n",
    "\n",
    "Resolver $f(t) = 0$ significa **encontrar el tiempo en que la pelota vuelve al suelo**.\n",
    "\n",
    "Ese tiempo se obtiene analíticamente como:\n",
    "\n",
    "$$\n",
    "t = \\frac{2 v_0 \\sin(\\theta)}{g} = \\frac{2 \\cdot 20 \\cdot 0.707}{9.8} \\approx 2.88 \\, \\text{segundos}\n",
    "$$\n"
   ]
  },
  {
   "cell_type": "markdown",
   "id": "06d4fc1c",
   "metadata": {},
   "source": [
    "\n",
    "Pero **si no tuviéramos la fórmula explícita** (por ejemplo, en un modelo más complejo con resistencia del aire, terreno inclinado, etc.), sería necesario aplicar **métodos numéricos** como Newton-Raphson para aproximar el valor del cero.\n",
    "\n",
    "---\n"
   ]
  },
  {
   "cell_type": "code",
   "execution_count": null,
   "id": "b903f8d8",
   "metadata": {},
   "outputs": [],
   "source": []
  },
  {
   "cell_type": "code",
   "execution_count": null,
   "id": "ebd04408",
   "metadata": {},
   "outputs": [],
   "source": []
  },
  {
   "cell_type": "markdown",
   "id": "239427f7",
   "metadata": {},
   "source": [
    "# Calendario Académico     \n",
    "\n",
    "* Clase de Análisis Numérico: Viernes de 8 a 12 AM.  \n",
    "\n",
    "* Límite evaluación del 40%: 27 de septiembre de 2025  \n",
    "* Terminación de clases: 22 de noviembre de 2025  \n",
    "* Exámenes finales: 24 al 29 de noviembre de 2025  \n",
    "* Habilitación y validación: 01 al 06 de diciembre 2025  \n",
    "* Terminación oficial del semestre: 09 de diciembre de 2025.  \n",
    "  \n",
    "\n"
   ]
  },
  {
   "cell_type": "markdown",
   "id": "8ba64aed",
   "metadata": {},
   "source": [
    "# Cursos que orienta el profesor Marco Julio Cañas Campillo en 2025  \n",
    "\n",
    "4. Cálculo Vectorial para Ingeniería Agropecuaria\n",
    "5. Práctica Pedagógica V para Licenciatura en Educación Infantil\n",
    "6. Fundamentos de Lógica para Licenciatura en Matemáticas \n",
    "7. Análisis Numérico para Licenciatura en Matemáticas: Viernes de 8 a 12.  \n",
    "\n"
   ]
  },
  {
   "cell_type": "markdown",
   "id": "8d41fe58",
   "metadata": {
    "slideshow": {
     "slide_type": "slide"
    }
   },
   "source": [
    "# Horario de clases del profesor Marco\n",
    "\n",
    "* Lunes 8-12: Cálculo Vectorial\n",
    "* Martes 8-12 M: Fundamentos de Aritmética. \n",
    "* Miércoles 8 a 12 M: Fundamentos de la Lógica\n",
    "* Jueves 2 a 6 PM: Desarrollo del pensamiento matemático en la infancia. \n",
    "* Viernes 8 - 12 M: Análisis Numérico. \n",
    "* Sábados 8-12 Asesorías y espacio para retroalimentación y apoyo al trabajo independiente. "
   ]
  },
  {
   "cell_type": "markdown",
   "id": "ae114e14",
   "metadata": {
    "slideshow": {
     "slide_type": "slide"
    }
   },
   "source": [
    "# Horarios de monitoría y asesoría   \n",
    "\n",
    "* Asesoría: Sábados de 8 a 12 en el aula que nos asigne la sección de medios y logística. \n"
   ]
  },
  {
   "cell_type": "markdown",
   "id": "8cf679e7",
   "metadata": {},
   "source": [
    "\n",
    "# Coordinador de los cursos de la Facultad de Educación para regiones:    \n",
    "\n",
    "Andrés Vélez: regioneducacion.fedu@udea.edu.co  \n",
    "Coordinador Regiones  \n",
    "Facultad de Educación  \n",
    "Universidad de Antioquia  "
   ]
  },
  {
   "cell_type": "markdown",
   "id": "b1db4b6c",
   "metadata": {
    "slideshow": {
     "slide_type": "slide"
    }
   },
   "source": [
    "## Monitores  \n",
    "* Yeifry Sebastián Uribe: yeifry.uribe@udea.edu.co. \n",
    "* Manuel San Juan Serrano: Contactar escribiendo al correo: manuel.serrano1@udea.edu.co"
   ]
  },
  {
   "cell_type": "markdown",
   "id": "39559692",
   "metadata": {
    "slideshow": {
     "slide_type": "slide"
    }
   },
   "source": [
    "Martes y jueves de 8 - 12  \n",
    "Miércoles 10 - 12 y de 2 a 4 PM  \n",
    "Sábado: 8 - 12"
   ]
  },
  {
   "cell_type": "markdown",
   "id": "10bce0d0",
   "metadata": {
    "slideshow": {
     "slide_type": "slide"
    }
   },
   "source": [
    "## Referentes "
   ]
  },
  {
   "cell_type": "markdown",
   "id": "1db3c468",
   "metadata": {
    "slideshow": {
     "slide_type": "slide"
    }
   },
   "source": [
    "* [Bergmann, J. (2012). *Flip Your Classroom.* (Aula Invertida).](chrome-extension://efaidnbmnnnibpcajpcglclefindmkaj/https://blogs.ugto.mx/mdued/wp-content/uploads/sites/66/2022/11/Bergmann-y-Sams-Dale-la-vuelta-a-tu-clase.pdf)    \n",
    "  \n",
    "* [CALCULO I DE UNA VARIABLE Ron Larson-Bruce Edwards. Mc Graw Hill. 9º Edición](https://www.academia.edu/42139251/CALCULO_I_DE_UNA_VARIABLE_Ron_Larson_Bruce_Edwards_Mc_Graw_Hill_9o_Edici%C3%B3n)   \n",
    "  \n",
    "* [Métodos numéricos usando python](chrome-extension://efaidnbmnnnibpcajpcglclefindmkaj/https://librosoa.unam.mx/bitstream/handle/123456789/3416/MNPython.pdf?sequence=1&isAllowed=y)  \n",
    "  \n",
    "* [Métodos numéricos usando python. Código fuente de todo el libro](https://github.com/jcjimenezb123/MNPython-Libro?tab=readme-ov-file#readme)\n",
    "\n",
    "* [Grajales Vanegas, L. M., Restrepo Estrada, C. E., Restrepo Ochoa, S. I., & Ruíz De Villalba, F. (2015). Matemáticas I para las ciencias económicas.](https://bibliotecadigital.udea.edu.co/handle/10495/3010)\n",
    "  \n",
    "* R. Duval y Semiosis y pensamiento humano, 2.ª ed. Cali, Colombia: Programa Editorial Universidad del Valle, 2017. [En línea]. Disponible en: https://programaeditorial.univalle.edu.co/gpd-semiosis-y-pensamiento-humano-9789587655278-63324cdb0f6b3.html\n",
    "\n",
    "* [Aylwin, C. U. (2011). Lógica, conjuntos y números. Universidad de los Andes, Consejo de Publicaciones, Colección: Ciencias Básicas, Serie: Matemáticas.](chrome-extension://efaidnbmnnnibpcajpcglclefindmkaj/https://www.u-cursos.cl/ciencias/2011/1/MC110/1/material_docente/bajar?id_material=574722)\n",
    "  \n",
    "* [Chollet, F. (2021). Deep learning with Python. Simon and Schuster.](chrome-extension://efaidnbmnnnibpcajpcglclefindmkaj/https://tanthiamhuat.wordpress.com/wp-content/uploads/2018/03/deeplearningwithpython.pdf)  \n",
    "  \n",
    "* [Watson, S., Stewart, J., & Redlin, L. (2009). Precálculo. Matemáticas para el cálculo.](https://github.com/marco-canas/calculo/blob/main/referents/1_precalculo_stewart/stewart_precalculo.pdf)  \n",
    "\n",
    "* [Purcell, E. J., Varberg, D., & Rigdon, S. E. (2007). Cálculo diferencial e integral. Pearson Educación.](https://github.com/marco-canas/calculo/blob/main/referents/purcell/purcell_calculo.pdf)\n",
    "\n",
    "  \n",
    "\n",
    "* [stewart cálculo](https://udeaeduco-my.sharepoint.com/:b:/g/personal/marco_canas_udea_edu_co/EZgXZjAp8QxPqOAim2hs6LcBNPLGjSHf-xwYnUVYkwa04w?e=RZdTCy)  \n",
    "\n",
    "\n",
    "\n",
    "\n",
    "\n",
    "* [Recomendación de la UNESCO sobre ciencia abierta](https://unesdoc.unesco.org/ark:/48223/pf0000379949_spa)\n",
    "\n",
    "* [chatGPT](https://openai.com/blog/chatgpt)  \n",
    "\n",
    "* [Géron, A. (2017). Hands-on machine learning with scikit-learn and tensorflow: Concepts. Tools, and Techniques to build intelligent systems.](chrome-extension://efaidnbmnnnibpcajpcglclefindmkaj/http://14.139.161.31/OddSem-0822-1122/Hands-On_Machine_Learning_with_Scikit-Learn-Keras-and-TensorFlow-2nd-Edition-Aurelien-Geron.pdf)   \n"
   ]
  },
  {
   "cell_type": "markdown",
   "id": "df925560",
   "metadata": {},
   "source": [
    "\n",
    "* [McKinney, W. (2012). Python for data analysis: Data wrangling with Pandas, NumPy, and IPython. \" O'Reilly Media, Inc.\".](https://wesmckinney.com/book/) "
   ]
  },
  {
   "cell_type": "markdown",
   "id": "8e65d6f9",
   "metadata": {},
   "source": [
    "# Como estudiante, encuentro que...   \n",
    "\n",
    "F: Mis Fortalezas son:     \n",
    "O: Mis Oportunidades son:    \n",
    "D: Mis Debilidades son:    \n",
    "A: Lo que Amenazas mi aprendizaje es:  "
   ]
  },
  {
   "cell_type": "markdown",
   "id": "6b9e56a8",
   "metadata": {
    "slideshow": {
     "slide_type": "slide"
    }
   },
   "source": [
    "### [Evaluamos al profesor Marco Cañas Aquí](https://forms.office.com/Pages/ResponsePage.aspx?id=IefhmYRxjkmK_7KtTlPBwkanXIs1i1FEujpsZgO6dXpUREJPV1kxUk1JV1ozTFJIQVNIQjY5WEY3US4u)"
   ]
  },
  {
   "cell_type": "markdown",
   "id": "10f43536",
   "metadata": {
    "slideshow": {
     "slide_type": "slide"
    }
   },
   "source": [
    "### Continue su aprendizaje en la siguiente clase a través del siguiente [vínculo]()"
   ]
  },
  {
   "cell_type": "markdown",
   "id": "53cc9115",
   "metadata": {
    "slideshow": {
     "slide_type": "slide"
    }
   },
   "source": [
    "## Agradecimientos  \n",
    "\n",
    "Doy gracias a Dios por la vida de mi Hijo Joseph Cañas Osorio y la madurez que ha alcanzado. Este hijo me enorgullece y me hace falta abrazarlo cada día. \n",
    "\n",
    "Y a mi esposa Yasmira Emperatriz Barboza Mogollón por su apoyo, orientación y acompañamiento. "
   ]
  },
  {
   "cell_type": "markdown",
   "id": "0e66cd7c",
   "metadata": {},
   "source": [
    "# Clase de análisis numérico los Viernes de 8 a 12 del medio día. "
   ]
  },
  {
   "cell_type": "markdown",
   "id": "c5ff61b1",
   "metadata": {},
   "source": []
  }
 ],
 "metadata": {
  "celltoolbar": "Slideshow",
  "kernelspec": {
   "display_name": ".venv",
   "language": "python",
   "name": "python3"
  },
  "language_info": {
   "codemirror_mode": {
    "name": "ipython",
    "version": 3
   },
   "file_extension": ".py",
   "mimetype": "text/x-python",
   "name": "python",
   "nbconvert_exporter": "python",
   "pygments_lexer": "ipython3",
   "version": "3.11.9"
  },
  "rise": {
   "enable_chalkboard": true,
   "theme": "sky",
   "transition": "zoom"
  }
 },
 "nbformat": 4,
 "nbformat_minor": 5
}
