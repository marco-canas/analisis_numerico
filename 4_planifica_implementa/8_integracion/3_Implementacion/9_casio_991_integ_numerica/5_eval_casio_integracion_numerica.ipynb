{
 "cells": [
  {
   "cell_type": "markdown",
   "id": "dc06dec7",
   "metadata": {
    "slideshow": {
     "slide_type": "slide"
    }
   },
   "source": [
    "<table align=\"left\">\n",
    "  <td>\n",
    "    <a href=\"https://colab.research.google.com/github/marco-canas/didactica_ciencia_datos/blob/main/1_curso_machine_learning/1_evaluacion_oral_tarea_quiz_parcial.ipynb\" target=\"_parent\"><img src=\"https://colab.research.google.com/assets/colab-badge.svg\" alt=\"Open In Colab\"/></a>\n",
    "  </td>\n",
    "  <td>\n",
    "    <a target=\"_blank\" href=\"https://kaggle.com/kernels/welcome?src=https://github.com/marco-canas/didactica_ciencia_datos/blob/main/1_curso_machine_learning/1_evaluacion_oral_tarea_quiz_parcial.ipynb\"><img src=\"https://kaggle.com/static/images/open-in-kaggle.svg\" /></a>\n",
    "  </td>\n",
    "</table>"
   ]
  },
  {
   "cell_type": "markdown",
   "id": "e0c5b198",
   "metadata": {
    "slideshow": {
     "slide_type": "slide"
    }
   },
   "source": [
    "### [Video de apoyo a la lectura interactiva y experimental de este cuaderno]()"
   ]
  },
  {
   "cell_type": "markdown",
   "id": "41e82203",
   "metadata": {
    "slideshow": {
     "slide_type": "slide"
    }
   },
   "source": [
    "## [Vínculo al programa del curso:  ]()"
   ]
  },
  {
   "cell_type": "markdown",
   "id": "ca46c23b",
   "metadata": {
    "slideshow": {
     "slide_type": "slide"
    }
   },
   "source": [
    "# Modelo general de clase: [aula invertida](https://www3.gobiernodecanarias.org/medusa/ecoescuela/pedagotic/aprendizaje-invertido-flipped-classroom/)\n"
   ]
  },
  {
   "cell_type": "markdown",
   "id": "7f9be90f",
   "metadata": {
    "slideshow": {
     "slide_type": "slide"
    }
   },
   "source": [
    "# Fomento de la lectura literaria asociada a Ingeniería agropecuaria y licenciatura en Matemáticas y administración de empresas\n",
    "\n",
    "[Hábitos atómicos](https://github.com/marco-canas/habitos_atomicos/blob/main/13_como_dejar_de_postergar_usando_la_regla_de_los_dos_minutos/1_13_como_dejar_de_postergar_usando_la_regla_de_los_dos_minutos.ipynb)"
   ]
  },
  {
   "cell_type": "markdown",
   "id": "96775931",
   "metadata": {
    "slideshow": {
     "slide_type": "slide"
    }
   },
   "source": [
    "# Título de la clase: Realización evaluación oral, de Tareas en cuadernos Jupyter, Quiz o Parcial de selección múltiple o de preguntas cerradas.  \n",
    "\n"
   ]
  },
  {
   "cell_type": "markdown",
   "id": "1d38dd4e",
   "metadata": {
    "slideshow": {
     "slide_type": "slide"
    }
   },
   "source": [
    "### Objetivo de aprendizaje (Enunciar, de manera corta sencilla y clara para todos los asistentes)\n",
    "\n",
    "* [Hipervínculo para el cuaderno de enseñanza]()\n",
    "1. Evaluar las tareas realizadas de manera manúscrita\n",
    "2. Evaluar las tareas realizadas en los cuadernos Jupyter. (Solo realizar la tercera parte de las tareas asignadas de manera manuscrita)\n",
    "3. Evaluar con un quiz escrito\n",
    "4. Evaluar con un parcial escrito.\n",
    "5. Evaluar la capacidad de describir un problema y su solución de manera oral. "
   ]
  },
  {
   "cell_type": "markdown",
   "id": "ca7261b1",
   "metadata": {
    "slideshow": {
     "slide_type": "slide"
    }
   },
   "source": [
    "## Establecimiento de prerrequisitos conceptuales para alcanzar el objetivo de aprendizaje trazado.   \n",
    "\n",
    "(Elabore una lista de preguntas al rededor de los conceptos que consideres necesarios para empezar la clase).  \n",
    "\n",
    "1. \n",
    "2. \n",
    "3. "
   ]
  },
  {
   "cell_type": "markdown",
   "id": "2298e976",
   "metadata": {
    "slideshow": {
     "slide_type": "slide"
    }
   },
   "source": [
    "# Para el diseño de la clase tenga en cuenta algunos problemas de aprendizaje"
   ]
  },
  {
   "cell_type": "markdown",
   "id": "2d46be3a",
   "metadata": {},
   "source": [
    "# Diseño de evaluación oral de si se alcanzaron los objetivos de aprendizaje planteados\n",
    "\n",
    "* Describa verbalmente el objetivo de aprendizaje y evidencie de forma oral si lo logró o no. "
   ]
  },
  {
   "cell_type": "markdown",
   "id": "4566108f",
   "metadata": {},
   "source": [
    "## Cuestionario para realizar labores de memorización, observación y síntesis de la información (Además de diagnóstico)\n",
    "\n",
    "1. ¿?\n",
    "2. ¿?\n",
    "3. ¿?\n",
    "4. ¿?\n",
    "5. ¿?"
   ]
  },
  {
   "cell_type": "markdown",
   "id": "7ee3abc5",
   "metadata": {},
   "source": [
    "# Vocabulary \n",
    "\n",
    "1. length: longitud\n",
    "2. width: ancho. \n",
    "\n",
    "[length, width](https://voca.ro/1of14ffdXnZI)"
   ]
  },
  {
   "cell_type": "code",
   "execution_count": 5,
   "id": "ad098f40",
   "metadata": {},
   "outputs": [],
   "source": [
    "# algoritmo para llamar a evaluación oral individual\n",
    "import pandas as pd\n",
    "import numpy as np\n",
    "\n",
    "# Cargar la lista de estudiantes desde la URL\n",
    "path = '/home/marco/Documentos/docencia/groups_list/calculo_vectorial.csv'\n",
    "estudiantes = pd.read_csv(path)\n",
    "estudiantes['Parcial'] = estudiantes['Parcial'].astype(float) \n",
    "\n",
    "# Convertir la columna 'Nombre' a una lista de Python\n",
    "lista_estudiantes = estudiantes['Nombre'].tolist()\n",
    "\n",
    "# Función para llamar a un estudiante aleatoriamente y registrar su nota de seguimiento\n",
    "def eval_oral():\n",
    "    if lista_estudiantes:\n",
    "        estudiante_aleatorio = np.random.choice(lista_estudiantes)\n",
    "        print(f\"Llamando a {estudiante_aleatorio}...\")\n",
    "        asistencia = input(f\"¿Se expresó bien y correco {estudiante_aleatorio}? (s/n): \").strip().lower()\n",
    "        \n",
    "        if asistencia == 's':\n",
    "            # Obtener el índice del estudiante en el DataFrame\n",
    "            indice = estudiantes[estudiantes['Nombre'] == estudiante_aleatorio].index[0]\n",
    "            # Incrementar su valor en la columna 'Parcial'\n",
    "            estudiantes.at[indice, 'Parcial'] += 0.1\n",
    "            print(f\"Actualizado: {estudiante_aleatorio} ahora tiene {estudiantes.at[indice, 'Parcial']} en la columna 'Parcial'.\")\n",
    "        \n",
    "        lista_estudiantes.remove(estudiante_aleatorio)\n",
    "    else:\n",
    "        print(\"Se han llamado a todos los estudiantes del grupo completo.\")\n",
    "\n",
    "# Guardar los cambios en el archivo CSV\n",
    "def guardar_cambios():\n",
    "    estudiantes.to_csv(path, index=False)\n",
    "    print(\"Cambios guardados en el archivo CSV.\")\n",
    "\n",
    "# Ejemplo de uso\n",
    "#while lista_estudiantes:\n",
    "#    eval_oral()\n",
    "#    guardar_cambios()\n",
    "\n",
    "\n"
   ]
  },
  {
   "cell_type": "markdown",
   "id": "cf101603",
   "metadata": {},
   "source": [
    "# Prompt para pedir el diseño de evaluación de acuerdo a la metodología de \"Enseñanza basada en proyectos\" "
   ]
  },
  {
   "cell_type": "markdown",
   "id": "8062d3c6",
   "metadata": {},
   "source": [
    " \n",
    "\n",
    "Dame, por favor, un diseño de clase, con el enfoque: \"Aula Invertida, STEAMS y De aprendizaje basado en problemas y proyectos(ABPP)\" sobre: \"Taller sobre integración numérica con la Calculadora Casio fx 991 LA cw ppara firmación de Licenciados en Matemáticas  e Ingenieros agropecuarios\", siguiendo la estructura:  \n",
    "\n",
    "1. Título de la clase   \n",
    "   \n",
    "2. Objetivos de aprendizaje que incluyan los indicadores del logro de estos objetivos.\n",
    "   \n",
    "3. Un mapa conceptual que resuma la clase elaborado en Graphviz de python con nodos y edges de diferentes formas, colores y rellenos y renderizado en la siguiente ubicación: `\"C:/Users/marco/Descargas\"`. No olvides el parámetro `view = True` para el método `render()` de Graphviz. Para este mapa controla las superposiciones de los nodos con: graph [overlap=false]; // Elimina superposiciones (puede aumentar el espacio)\n",
    "graph [overlap=\"scalexy\"]; // Escala el gráfico para evitar overlaps\n",
    "graph [overlap=\"compress\"]; // Comprime el grafo sin overlaps  \n",
    "   \n",
    "4. Dame elementos históricos y epistemológicos asociados a esta clase, pero contados como un cuento al estilo de un cuentero antioqueño en Colombia. Incluye imágenes de los protagonistas históricos de esta clase. \n",
    "5. Contenido de la clase. Que el contenido parta de una situación real para llegar a una constitución del modelo matemático que represente tal situación real.    \n",
    "   \n",
    "     * Incluye una visualización con matplotlib y ipywidgets de python de la formación de los puntos $x_{i-1}$ de una partición regular del dominio $[a, b]$ de una función $f$ y la interpretación de $f(x_{i-1})$ como alturas o longitudes de la función en los puntos $x_{i-1}$, resaltando en color rojo a estos segmentos. Pero donde el deslizador representa la variable $i$ de los extremos izquierdos de los subintervalos. Para $n = 5$ fijo. Y que los rectángulos sean visibles. \n",
    "     * Incluye una visualización con matplotlib y ipywidgets de python de la formación de los puntos $x_{i-1}$ de una partición regular del dominio $[a, b]$ de una función $f$ y la interpretación de $f(x_{i-1})$ como alturas o longitudes de la función en los puntos $x_{i-1}$, resaltando en color rojo a estos segmentos. Donde el deslizador represente la variable $n$ de la partición regular.  Y que los rectángulos sean visibles.  \n",
    "     * Incluye en este contenido una visualización con matplotlib de python de la interpretación geométrica de los puntos distinguidos ($x_{i-1}$) de una partición regular del dominio $[a,b]$ de una función $f$ y la interpretación de $f(x_{i-1})$ (Coloreando en rojo estos segmentos verticales) como alturas o longitudes de la función en los puntos $x_{i-1}$.  \n",
    "\n",
    "\n",
    "6. Deducción de una función de usuario de python, que permita determinar el número de rectángulos $n$ necesarios para una precisión de la suma de riemenn dada $\\epsilon = 0.0001$.   \n",
    "   \n",
    "7. Actividades de aprendizaje: que incluya pruebas de escritorio para los algoritmos en forma verbal y seudo código, diagrama de flujo, y la implementación del algoritmo en lenguaje python.  \n",
    "   \n",
    "8. Incluye una canción o un poema que ayude a interiorizar y fijar los conceptos asociados a esta clase.   \n",
    "   \n",
    "9.  Tarea o actividades de ejercitación y fijación.  \n",
    "    \n",
    "10. Evaluación incluyendo diez proyectos, un ejemplo de quiz y un ejemplo de parcial.  \n",
    "    \n",
    "11. Diseño de actividad de retroalimentación.   \n",
    "    \n",
    "12. Dame un vocabulario y frases del idioma inglés asociadas a esta clase.  \n",
    "\n",
    "13.  Incluye apéndice para la clase sobre desarrollo de habilidades para trabajar en equipo y de asertividad y empatía para relacionarnos. También elementos de la inteligencia emocional para presentar pruebas sin temor y sin realizar fraude en ellas.    \n",
    "     \n",
    "14. Incluye 5 referentes en didáctica de la matemática que estén de acuerdo a la propuesta didáctica de esta clase. Adiciona a estos referentes a Raymond Duval (Representaciones y cambios de representación para la adquisición de conceptos matemáticos) y a Janete Wing (Desarrollo del pensamiento computacional). Dejame todos estos referentes ordenados de acuerdo a las normas APA. \n",
    "  \n",
    "\n",
    "Pero  que este diseño sea para que el estudiante pueda aprender experimentando en cuadernos Jupyter con funciones de usuario y animaciones y visualizaciones en python.   \n",
    "\n",
    "En particular utiliza para el diseño de clase a Numpy, Pandas, SymPy, Matplotlib.pyplot, Seaborn, Plotly, ipywidgets, matplotlib.animation y Jupyter Notebook.    \n",
    "\n",
    "Cada vez que utilices `matplotlib.animacion` no olvides incluir el uso de `IPython. display` para la rederización de estas animaciones a través de Jupyter Notebook.   \n",
    "\n",
    "No olvides darme los diseños de clase con las ecuaciones matemáticas delimitadas con signo de dolar $ para que VS Code si me renderize estas expresiones del lenguaje latex. Cuando vallas a utilizar ipywidgets ten en cuenta la siguiente importación inicial para garantizar que la visualización interactiva si se renderize en VS Code:   \n",
    " \n",
    "import numpy as np  \n",
    "import matplotlib.pyplot as plt  \n",
    "import ipywidgets as widgets  \n",
    "from IPython.display import display, clear_output  \n",
    "from matplotlib.patches import Rectangle  \n",
    "\n",
    "# Configuración inicial para visualización estática  \n",
    "%matplotlib inline "
   ]
  },
  {
   "cell_type": "markdown",
   "id": "42797498",
   "metadata": {},
   "source": [
    "### Diseño de Clase: **Taller sobre Integración Numérica con la Calculadora Casio fx-991 LA X**\n",
    "\n",
    "---\n"
   ]
  },
  {
   "cell_type": "markdown",
   "id": "b7220ae6",
   "metadata": {},
   "source": [
    "\n",
    "#### **1. Título de la Clase**\n",
    "**\"Integración Numérica: De la teoría a la práctica con la Calculadora Casio fx-991 LA X y Python\"**\n",
    "\n",
    "---\n",
    "\n",
    "#### **2. Objetivos de Aprendizaje**\n",
    "- **Objetivo General**: \n",
    "  - Comprender y aplicar métodos numéricos para la integración definida utilizando la Calculadora Casio fx-991 LA X y Python, integrando enfoques STEAMS (Ciencia, Tecnología, Ingeniería, Arte, Matemáticas y Sociedad) y ABPP (Aprendizaje Basado en Problemas y Proyectos).\n",
    "\n",
    "- **Objetivos Específicos**:\n",
    "  1. Identificar los métodos numéricos utilizados por la Calculadora Casio fx-991 LA X para calcular integrales definidas.\n",
    "  2. Implementar en Python métodos numéricos como la regla del trapecio, regla de Simpson y suma de Riemann.\n",
    "  3. Visualizar y analizar geométricamente la integración numérica mediante gráficos interactivos.\n",
    "  4. Resolver problemas reales de ingeniería y matemáticas aplicando integración numérica.\n",
    "\n",
    "- **Indicadores de Logro**:\n",
    "  - El estudiante implementa correctamente métodos numéricos en Python.\n",
    "  - El estudiante explica el proceso de integración numérica utilizando gráficos interactivos.\n",
    "  - El estudiante resuelve problemas prácticos utilizando la Calculadora Casio fx-991 LA X y Python.\n",
    "\n",
    "---\n",
    "\n",
    "#### **3. Mapa Conceptual**\n",
    "El mapa conceptual se genera utilizando `Graphviz` en Python. Aquí está el código para crearlo:\n",
    "\n",
    "```python\n",
    "from graphviz import Digraph\n",
    "\n",
    "# Crear el grafo\n",
    "graph = Digraph('G', filename='C:/Users/marco/Descargas/integracion_numerica', format='png')\n",
    "graph.attr(overlap='scalexy')  # Evitar superposiciones\n",
    "\n",
    "# Nodos\n",
    "graph.node('A', 'Integración Numérica', shape='ellipse', color='blue', style='filled', fillcolor='lightblue')\n",
    "graph.node('B', 'Métodos Numéricos', shape='box', color='red', style='filled', fillcolor='pink')\n",
    "graph.node('C', 'Suma de Riemann', shape='box', color='green', style='filled', fillcolor='lightgreen')\n",
    "graph.node('D', 'Regla del Trapecio', shape='box', color='green', style='filled', fillcolor='lightgreen')\n",
    "graph.node('E', 'Regla de Simpson', shape='box', color='green', style='filled', fillcolor='lightgreen')\n",
    "graph.node('F', 'Aplicaciones', shape='ellipse', color='orange', style='filled', fillcolor='yellow')\n",
    "graph.node('G', 'Cálculo de Áreas', shape='box', color='purple', style='filled', fillcolor='lavender')\n",
    "graph.node('H', 'Ingeniería Agrícola', shape='box', color='purple', style='filled', fillcolor='lavender')\n",
    "\n",
    "# Edges\n",
    "graph.edge('A', 'B')\n",
    "graph.edge('B', 'C')\n",
    "graph.edge('B', 'D')\n",
    "graph.edge('B', 'E')\n",
    "graph.edge('A', 'F')\n",
    "graph.edge('F', 'G')\n",
    "graph.edge('F', 'H')\n",
    "\n",
    "# Renderizar y mostrar\n",
    "graph.render(view=True)\n",
    "```\n",
    "\n",
    "---\n",
    "\n",
    "#### **4. Elementos Históricos y Epistemológicos**\n",
    "**Cuento al estilo de un cuentero antioqueño**:\n",
    "\"Había una vez, en la antigua Grecia, un sabio llamado Arquímedes, que soñaba con medir lo imposible. Un día, mientras se bañaba, gritó '¡Eureka!' al descubrir cómo calcular el área bajo una curva usando rectángulos. Siglos después, Isaac Newton y Gottfried Leibniz, dos genios rivales, desarrollaron el cálculo integral, permitiéndonos calcular áreas, volúmenes y mucho más. Hoy, con la Calculadora Casio fx-991 LA X y Python, seguimos sus pasos, resolviendo problemas que antes parecían imposibles.\"\n",
    "\n",
    "**Imágenes**:\n",
    "- Arquímedes: ![Arquímedes](https://upload.wikimedia.org/wikipedia/commons/thumb/e/e7/Archimedes_%28Idealportrait%29.jpg/220px-Archimedes_%28Idealportrait%29.jpg)\n",
    "- Newton: ![Newton](https://upload.wikimedia.org/wikipedia/commons/thumb/3/39/GodfreyKneller-IsaacNewton-1689.jpg/220px-GodfreyKneller-IsaacNewton-1689.jpg)\n",
    "- Leibniz: ![Leibniz](https://upload.wikimedia.org/wikipedia/commons/thumb/6/6a/Gottfried_Wilhelm_Leibniz.jpg/220px-Gottfried_Wilhelm_Leibniz.jpg)\n",
    "\n",
    "---\n",
    "\n",
    "#### **5. Contenido de la Clase**\n",
    "**Situación Real**: Calcular el área de un terreno irregular para un proyecto agrícola.\n",
    "\n",
    "**Modelo Matemático**: \n",
    "- Partición regular del intervalo $[a, b]$ en $n$ subintervalos.\n",
    "- Suma de Riemann: $\\sum_{i=1}^n f(x_{i-1}) \\Delta x$.\n",
    "\n",
    "**Visualización con `matplotlib` y `ipywidgets`**:\n",
    "```python\n",
    "import numpy as np\n",
    "import matplotlib.pyplot as plt\n",
    "import ipywidgets as widgets\n",
    "from IPython.display import display, clear_output\n",
    "from matplotlib.patches import Rectangle\n",
    "\n",
    "# Función para visualizar la suma de Riemann\n",
    "def riemann_sum(n, i):\n",
    "    a, b = 0, 5\n",
    "    x = np.linspace(a, b, n+1)\n",
    "    y = np.sin(x)\n",
    "    dx = (b - a) / n\n",
    "    \n",
    "    plt.figure(figsize=(10, 5))\n",
    "    plt.plot(x, y, 'b-', label='$f(x) = \\sin(x)$')\n",
    "    plt.bar(x[i], y[i], width=dx, color='red', alpha=0.5, label='Rectángulo')\n",
    "    plt.title(f'Suma de Riemann para $n = {n}$, $i = {i}$')\n",
    "    plt.legend()\n",
    "    plt.show()\n",
    "\n",
    "# Widget interactivo\n",
    "widgets.interact(riemann_sum, n=widgets.IntSlider(min=1, max=20, step=1, value=5), \n",
    "                 i=widgets.IntSlider(min=0, max=4, step=1, value=0));\n",
    "```\n",
    "\n",
    "---\n",
    "\n",
    "#### **6. Deducción de una Función de Usuario**\n",
    "```python\n",
    "def riemann_precision(f, a, b, epsilon=0.0001):\n",
    "    n = 1\n",
    "    while True:\n",
    "        dx = (b - a) / n\n",
    "        sum_prev = sum(f(a + i * dx) * dx for i in range(n))\n",
    "        sum_next = sum(f(a + i * dx) * dx for i in range(n+1)))\n",
    "        if abs(sum_next - sum_prev) < epsilon:\n",
    "            return n\n",
    "        n += 1\n",
    "```\n",
    "\n",
    "---\n"
   ]
  },
  {
   "cell_type": "markdown",
   "id": "21a2a7b4",
   "metadata": {},
   "source": [
    "\n",
    "#### **7. Actividades de Aprendizaje**\n",
    "- **Pruebas de Escritorio**: Verificar el algoritmo para $f(x) = x^2$, $a = 0$, $b = 1$.\n",
    "- **Diagrama de Flujo**: Representar el proceso de la suma de Riemann.\n",
    "- **Implementación en Python**: Ejecutar el código en Jupyter Notebook.\n",
    "\n",
    "---\n",
    "\n",
    "#### **8. Canción o Poema**\n",
    "**Poema**:\n",
    "\"Integrar es sumar, paso a paso,  \n",
    "Rectángulos que el área abrazan.  \n",
    "Con Python y Casio, vamos avanzando,  \n",
    "Problemas reales resolviendo.\"\n",
    "\n",
    "---\n",
    "\n",
    "#### **9. Tarea**\n",
    "- Calcular el área bajo $f(x) = e^{-x}$ desde $0$ hasta $10$ usando la Calculadora Casio fx-991 LA X y Python.\n",
    "\n",
    "---\n",
    "\n",
    "#### **10. Evaluación**\n",
    "- **Proyectos**: Implementar métodos numéricos en Python.\n",
    "- **Quiz**: Preguntas teóricas sobre integración numérica.\n",
    "- **Parcial**: Resolver un problema real usando integración numérica.\n",
    "\n",
    "---\n",
    "\n",
    "#### **11. Retroalimentación**\n",
    "- Revisión de códigos y gráficos en clase.\n",
    "- Discusión grupal sobre los resultados obtenidos.\n",
    "\n",
    "---\n",
    "\n",
    "#### **12. Vocabulario en Inglés**\n",
    "- **Integration**: Integración.\n",
    "- **Numerical Methods**: Métodos numéricos.\n",
    "- **Riemann Sum**: Suma de Riemann.\n",
    "- **Trapezoidal Rule**: Regla del trapecio.\n",
    "- **Simpson's Rule**: Regla de Simpson.\n",
    "\n",
    "---\n",
    "\n",
    "#### **13. Apéndice**\n",
    "- **Trabajo en Equipo**: Roles claros y comunicación efectiva.\n",
    "- **Inteligencia Emocional**: Manejo del estrés durante las pruebas.\n",
    "\n",
    "---\n",
    "\n",
    "#### **14. Referentes en Didáctica de la Matemática**\n",
    "1. Duval, R. (2006). *Representaciones y cambios de representación para la adquisición de conceptos matemáticos*.\n",
    "2. Wing, J. (2006). *Computational Thinking*.\n",
    "3. Polya, G. (1945). *How to Solve It*.\n",
    "4. Schoenfeld, A. H. (1985). *Mathematical Problem Solving*.\n",
    "5. Skemp, R. R. (1976). *Relational Understanding and Instrumental Understanding*.\n",
    "\n",
    "---\n",
    "\n",
    "Este diseño de clase integra tecnología, matemáticas y pedagogía para un aprendizaje activo y significativo. ¡Espero que sea útil! 😊"
   ]
  },
  {
   "cell_type": "markdown",
   "id": "fb9402bb",
   "metadata": {
    "slideshow": {
     "slide_type": "slide"
    }
   },
   "source": [
    "## Estrategias propuestas para la solución de las dificultades de aprendizaje detectadas"
   ]
  },
  {
   "cell_type": "markdown",
   "id": "2dd3bd5c",
   "metadata": {
    "slideshow": {
     "slide_type": "slide"
    }
   },
   "source": []
  },
  {
   "cell_type": "markdown",
   "id": "c6236d5d",
   "metadata": {},
   "source": [
    "# FODA del grupo y del profesor  \n",
    "\n",
    "* F: Fortalezas\n",
    "* O: Oportunidades\n",
    "* D: Dificultades\n",
    "* A: Amenazas."
   ]
  },
  {
   "cell_type": "markdown",
   "id": "b48f9542",
   "metadata": {},
   "source": [
    "## ¿Cómo se sintió en este espacio de enseñanza y aprendizaje?\n",
    "\n",
    "!Dios te bendiga¡"
   ]
  },
  {
   "cell_type": "markdown",
   "id": "10bce0d0",
   "metadata": {
    "slideshow": {
     "slide_type": "slide"
    }
   },
   "source": [
    "## Referentes "
   ]
  },
  {
   "cell_type": "markdown",
   "id": "d204c917",
   "metadata": {},
   "source": [
    "* [Grajales Vanegas, L. M., Restrepo Estrada, C. E., Restrepo Ochoa, S. I., & Ruíz De Villalba, F. (2015). Matemáticas I para las ciencias económicas.](https://github.com/marco-canas/fundamentos_de_la_aritmetica/blob/main/referentes/2_grajales_logica/grajales_lina_matemticas.pdf)\n",
    "  \n",
    "* Duval, R. (2004). Semiosis y pensamiento humano: registros semióticos y aprendizajes intelectuales. Universidad del Valle.\n",
    "\n",
    "* [Aylwin, C. U. (2011). Lógica, conjuntos y números. Universidad de los Andes, Consejo de Publicaciones, Colección: Ciencias Básicas, Serie: Matemáticas.](https://github.com/marco-canas/fundamentos_logica/blob/main/referentes/2_uzcategui/uscategui.pdf)\n",
    "  \n",
    "* [Chollet, F. (2021). Deep learning with Python. Simon and Schuster.](https://github.com/marco-canas/didactica_ciencia_datos/blob/main/2_referentes/chollet/Fran%C3%A7ois%20Chollet%20-%20Deep%20Learning%20with%20Python-Manning%20(2018).pdf)  \n",
    "  \n",
    "* [Watson, S., Stewart, J., & Redlin, L. (2009). Precálculo. Matemáticas para el cálculo.](https://github.com/marco-canas/calculo/blob/main/referents/1_precalculo_stewart/stewart_precalculo.pdf)  \n",
    "\n",
    "* [Purcell, E. J., Varberg, D., & Rigdon, S. E. (2007). Cálculo diferencial e integral. Pearson Educación.](https://github.com/marco-canas/calculo/blob/main/referents/purcell/purcell_calculo.pdf)\n",
    "\n",
    "  \n",
    "\n",
    "* [stewart cálculo](https://udeaeduco-my.sharepoint.com/:b:/g/personal/marco_canas_udea_edu_co/EZgXZjAp8QxPqOAim2hs6LcBNPLGjSHf-xwYnUVYkwa04w?e=RZdTCy)  \n",
    "\n",
    "* [larson](https://udeaeduco-my.sharepoint.com/:b:/g/personal/marco_canas_udea_edu_co/ES71ChFeO9ZDhW3TwC5Ijk8BjxUK3Pdqz_fjHxTTFAfIAg?e=VDEjfu)\n",
    "\n",
    "\n",
    "\n",
    "* [Recomendación de la UNESCO sobre ciencia abierta](https://unesdoc.unesco.org/ark:/48223/pf0000379949_spa)\n",
    "\n",
    "* [chatGPT](https://openai.com/blog/chatgpt)  \n",
    "\n",
    "* [Géron, A. (2017). Hands-on machine learning with scikit-learn and tensorflow: Concepts. Tools, and Techniques to build intelligent systems.](chrome-extension://efaidnbmnnnibpcajpcglclefindmkaj/http://14.139.161.31/OddSem-0822-1122/Hands-On_Machine_Learning_with_Scikit-Learn-Keras-and-TensorFlow-2nd-Edition-Aurelien-Geron.pdf)   \n"
   ]
  },
  {
   "cell_type": "markdown",
   "id": "6b9e56a8",
   "metadata": {
    "slideshow": {
     "slide_type": "slide"
    }
   },
   "source": [
    "### [Evaluamos al profesor Marco Cañas Aquí](https://forms.office.com/Pages/ResponsePage.aspx?id=IefhmYRxjkmK_7KtTlPBwkanXIs1i1FEujpsZgO6dXpUREJPV1kxUk1JV1ozTFJIQVNIQjY5WEY3US4u)"
   ]
  },
  {
   "cell_type": "markdown",
   "id": "071afa04",
   "metadata": {
    "slideshow": {
     "slide_type": "slide"
    }
   },
   "source": [
    "## [Evaluación luego de alcanzar estos objetivos de aprendizaje]()"
   ]
  },
  {
   "cell_type": "markdown",
   "id": "10f43536",
   "metadata": {
    "slideshow": {
     "slide_type": "slide"
    }
   },
   "source": [
    "### Continue su aprendizaje en la siguiente clase a través del siguiente [vínculo]()"
   ]
  },
  {
   "cell_type": "markdown",
   "id": "af751e30",
   "metadata": {
    "slideshow": {
     "slide_type": "slide"
    }
   },
   "source": [
    "# Conjeturas pedagógicas fruto de la aplicación del modelo de aprendizaje invertido y del enfoque hacia la ciencia de datos con python\n",
    "\n",
    "1. Todo cálculo o resultado debe ser interpretado en una línea markdown del cuaderno Jupyter, inmediatamente después de la enunciación del resultado y después de la presentación de una tabla o gráfico bidimensional, de tal menera que el estudiante explicite la comprensión verbal del resultado y las inferencias o estrategias que este resultado le sugieren.   "
   ]
  }
 ],
 "metadata": {
  "celltoolbar": "Slideshow",
  "kernelspec": {
   "display_name": "Python 3 (ipykernel)",
   "language": "python",
   "name": "python3"
  },
  "language_info": {
   "codemirror_mode": {
    "name": "ipython",
    "version": 3
   },
   "file_extension": ".py",
   "mimetype": "text/x-python",
   "name": "python",
   "nbconvert_exporter": "python",
   "pygments_lexer": "ipython3",
   "version": "3.10.12"
  },
  "rise": {
   "enable_chalkboard": true,
   "theme": "sky",
   "transition": "zoom"
  }
 },
 "nbformat": 4,
 "nbformat_minor": 5
}
