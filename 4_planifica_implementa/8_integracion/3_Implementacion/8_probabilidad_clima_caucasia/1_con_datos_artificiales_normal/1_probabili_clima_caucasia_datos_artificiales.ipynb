{
 "cells": [
  {
   "cell_type": "markdown",
   "id": "dc06dec7",
   "metadata": {
    "slideshow": {
     "slide_type": "slide"
    }
   },
   "source": [
    "<table align=\"left\">\n",
    "  <td>\n",
    "    <a href=\"https://colab.research.google.com/github/marco-canas/analisis_numerico/blob/main/4_planifica_implementa/8_integracion/3_Implementacion/8_probabilidad_clima_caucasia/1_con_datos_artificiales_normal/1_probabili_clima_caucasia_datos_artificiales.ipynb\" target=\"_parent\"><img src=\"https://colab.research.google.com/assets/colab-badge.svg\" alt=\"Open In Colab\"/></a>\n",
    "  </td>\n",
    "  <td>\n",
    "    <a target=\"_blank\" href=\"https://kaggle.com/kernels/welcome?src=https://github.com/marco-canas/analisis_numerico/blob/main/4_planifica_implementa/8_integracion/3_Implementacion/8_probabilidad_clima_caucasia/1_con_datos_artificiales_normal/1_probabili_clima_caucasia_datos_artificiales.ipynb\"><img src=\"https://kaggle.com/static/images/open-in-kaggle.svg\" /></a>\n",
    "  </td>\n",
    "</table>"
   ]
  },
  {
   "cell_type": "markdown",
   "id": "41e82203",
   "metadata": {
    "slideshow": {
     "slide_type": "slide"
    }
   },
   "source": [
    "### [Vínculo al programa del curso: Análisis Numérico](https://github.com/marco-canas/analisis_numerico/blob/main/2_programa_curso/3_program_numeric_methods_marco_canas_caucasia.docx)\n",
    "\n"
   ]
  },
  {
   "cell_type": "code",
   "execution_count": 5,
   "id": "7604880f",
   "metadata": {
    "slideshow": {
     "slide_type": "slide"
    }
   },
   "outputs": [
    {
     "data": {
      "application/vnd.microsoft.datawrangler.viewer.v0+json": {
       "columns": [
        {
         "name": "index",
         "rawType": "int64",
         "type": "integer"
        },
        {
         "name": "Cédula",
         "rawType": "int64",
         "type": "integer"
        },
        {
         "name": "Nombre",
         "rawType": "object",
         "type": "string"
        },
        {
         "name": "Email",
         "rawType": "object",
         "type": "string"
        }
       ],
       "conversionMethod": "pd.DataFrame",
       "ref": "4447b3c6-e3ec-4993-910b-b47cf3c5c70b",
       "rows": [
        [
         "0",
         "1007410536",
         "CALY HERRERA ESTEFANIA",
         "estefania.caly@udea.edu.co"
        ],
        [
         "1",
         "1038108070",
         "DORADO PADILLA LEONEL ESTEBAN",
         "leonel.dorado@udea.edu.co"
        ],
        [
         "2",
         "1038115862",
         "LONDONO CASTRO FRED IVAN",
         "fred.londonoc@udea.edu.co"
        ],
        [
         "3",
         "1129804572",
         "SAN JUAN SERRANO MANUEL",
         "manuel.serrano1@udea.edu.co"
        ],
        [
         "4",
         "1007554266",
         "URIBE ARRIETA YEIFRY SEBASTIAN",
         "yeifry.uribe@udea.edu.co"
        ]
       ],
       "shape": {
        "columns": 3,
        "rows": 5
       }
      },
      "text/html": [
       "<div>\n",
       "<style scoped>\n",
       "    .dataframe tbody tr th:only-of-type {\n",
       "        vertical-align: middle;\n",
       "    }\n",
       "\n",
       "    .dataframe tbody tr th {\n",
       "        vertical-align: top;\n",
       "    }\n",
       "\n",
       "    .dataframe thead th {\n",
       "        text-align: right;\n",
       "    }\n",
       "</style>\n",
       "<table border=\"1\" class=\"dataframe\">\n",
       "  <thead>\n",
       "    <tr style=\"text-align: right;\">\n",
       "      <th></th>\n",
       "      <th>Cédula</th>\n",
       "      <th>Nombre</th>\n",
       "      <th>Email</th>\n",
       "    </tr>\n",
       "  </thead>\n",
       "  <tbody>\n",
       "    <tr>\n",
       "      <th>0</th>\n",
       "      <td>1007410536</td>\n",
       "      <td>CALY HERRERA ESTEFANIA</td>\n",
       "      <td>estefania.caly@udea.edu.co</td>\n",
       "    </tr>\n",
       "    <tr>\n",
       "      <th>1</th>\n",
       "      <td>1038108070</td>\n",
       "      <td>DORADO PADILLA LEONEL ESTEBAN</td>\n",
       "      <td>leonel.dorado@udea.edu.co</td>\n",
       "    </tr>\n",
       "    <tr>\n",
       "      <th>2</th>\n",
       "      <td>1038115862</td>\n",
       "      <td>LONDONO CASTRO FRED IVAN</td>\n",
       "      <td>fred.londonoc@udea.edu.co</td>\n",
       "    </tr>\n",
       "    <tr>\n",
       "      <th>3</th>\n",
       "      <td>1129804572</td>\n",
       "      <td>SAN JUAN SERRANO MANUEL</td>\n",
       "      <td>manuel.serrano1@udea.edu.co</td>\n",
       "    </tr>\n",
       "    <tr>\n",
       "      <th>4</th>\n",
       "      <td>1007554266</td>\n",
       "      <td>URIBE ARRIETA YEIFRY SEBASTIAN</td>\n",
       "      <td>yeifry.uribe@udea.edu.co</td>\n",
       "    </tr>\n",
       "  </tbody>\n",
       "</table>\n",
       "</div>"
      ],
      "text/plain": [
       "       Cédula                          Nombre                        Email\n",
       "0  1007410536          CALY HERRERA ESTEFANIA   estefania.caly@udea.edu.co\n",
       "1  1038108070   DORADO PADILLA LEONEL ESTEBAN    leonel.dorado@udea.edu.co\n",
       "2  1038115862        LONDONO CASTRO FRED IVAN    fred.londonoc@udea.edu.co\n",
       "3  1129804572         SAN JUAN SERRANO MANUEL  manuel.serrano1@udea.edu.co\n",
       "4  1007554266  URIBE ARRIETA YEIFRY SEBASTIAN     yeifry.uribe@udea.edu.co"
      ]
     },
     "execution_count": 5,
     "metadata": {},
     "output_type": "execute_result"
    }
   ],
   "source": [
    "import pandas as pd\n",
    "import numpy as np\n",
    "\n",
    "# Cargar la lista de estudiantes desde el archivo CSV\n",
    "path = 'C:/Users/marco/Documentos/docencia/groups_list/numerico.xlsx'\n",
    "estudiantes = pd.read_excel(path)\n",
    "estudiantes.head() \n"
   ]
  },
  {
   "cell_type": "markdown",
   "id": "d7598d0a-d9b7-4ae0-b029-a0ed6ed1130b",
   "metadata": {},
   "source": [
    "\n",
    "# Principios de mi labor docente"
   ]
  },
  {
   "cell_type": "markdown",
   "id": "4f9d8cf9",
   "metadata": {
    "slideshow": {
     "slide_type": "slide"
    }
   },
   "source": [
    "## Modelo general de clase: [aula invertida](https://www3.gobiernodecanarias.org/medusa/ecoescuela/pedagotic/aprendizaje-invertido-flipped-classroom/)"
   ]
  },
  {
   "cell_type": "markdown",
   "id": "eb6ed03a",
   "metadata": {},
   "source": [
    "<img src = 'https://resources.maneuveringthemiddle.com/wp-content/uploads/2020/07/04212706/1-5.png' width = 200>  \n",
    "\n"
   ]
  },
  {
   "cell_type": "markdown",
   "id": "34319cce-a71b-4f64-aab8-b53e521efa40",
   "metadata": {},
   "source": [
    "# Metodología de Aprendizaje Basado en Problemas y Proyectos (ABPP)\n"
   ]
  },
  {
   "cell_type": "markdown",
   "id": "c4f73d81",
   "metadata": {},
   "source": [
    "\n",
    "<img src = 'https://www.unir.net/wp-content/uploads/2020/07/aprendizaje-problemas2-1-1-1-1.jpeg' width = 200>"
   ]
  },
  {
   "cell_type": "markdown",
   "id": "841a985c-bd9b-4dd3-8e4c-893983980af2",
   "metadata": {},
   "source": [
    "# Desarrollo del pensamiento computacional con Lenguajes Python y R, y con archivos Markdown; orientado a la formación en ciencia de datos.\n",
    "\n"
   ]
  },
  {
   "cell_type": "markdown",
   "id": "3d0eba94",
   "metadata": {},
   "source": [
    "\n",
    "<img src = 'https://i.ytimg.com/vi/mcG_wcR4e6M/maxresdefault.jpg' width = 200>"
   ]
  },
  {
   "cell_type": "markdown",
   "id": "65aa0404-f7ae-495e-864c-1aec01b4255e",
   "metadata": {},
   "source": [
    "# Principio de fomento a la ciencia abierta, enseñar en el acceso a los datos públicos y el uso de software de código abierto  \n"
   ]
  },
  {
   "cell_type": "markdown",
   "id": "18ae9b87",
   "metadata": {},
   "source": [
    "\n",
    "<img src = 'https://unesdoc.unesco.org/in/rest/Thumb/image?id=p%3A%3Ausmarcdef_0000379949_spa&author=UNESCO&title=Recomendaci%C3%B3n+de+la+UNESCO+sobre+la+Ciencia+Abierta&year=2021&publisher=UNESCO&TypeOfDocument=UnescoPhysicalDocument&mat=PGD&ct=true&size=512&isPhysical=1' width = 200>"
   ]
  },
  {
   "cell_type": "markdown",
   "id": "d9559f85",
   "metadata": {},
   "source": [
    "El enfoque STEAMS en educación preescolar, primaria y secundaria es una extensión del enfoque STEM (Ciencia, Tecnología, Ingeniería y Matemáticas) y su variante STEAM, que incorpora el Arte. "
   ]
  },
  {
   "cell_type": "markdown",
   "id": "72e1cfd2",
   "metadata": {},
   "source": [
    "El acrónimo STEAMS incluye:\n"
   ]
  },
  {
   "cell_type": "markdown",
   "id": "03182fd1",
   "metadata": {},
   "source": [
    "\n",
    "1. **Science (Ciencia):** Fomenta la curiosidad por el mundo natural y el desarrollo de habilidades científicas, como la observación, experimentación y análisis.\n"
   ]
  },
  {
   "cell_type": "markdown",
   "id": "1306d0fa",
   "metadata": {},
   "source": [
    "\n",
    "2. **Technology (Tecnología):** Integra herramientas tecnológicas para potenciar el aprendizaje y la resolución de problemas, promoviendo la alfabetización digital desde edades tempranas.\n"
   ]
  },
  {
   "cell_type": "markdown",
   "id": "3b1a53e8",
   "metadata": {},
   "source": [
    "\n",
    "3. **Engineering (Ingeniería):** Introduce el pensamiento lógico y la resolución de problemas estructurados, fomentando habilidades como el diseño y la construcción de soluciones.\n"
   ]
  },
  {
   "cell_type": "markdown",
   "id": "0196de87",
   "metadata": {},
   "source": [
    "\n",
    "4. **Arts (Arte):** Añade creatividad y pensamiento crítico, permitiendo a los estudiantes expresarse y explorar el aprendizaje a través de formas artísticas (plásticas, música, teatro).\n"
   ]
  },
  {
   "cell_type": "markdown",
   "id": "8bcc485a",
   "metadata": {},
   "source": [
    "\n",
    "5. **Mathematics (Matemáticas):** Refuerza las habilidades numéricas y el razonamiento lógico, fundamentales en la resolución de problemas y comprensión de conceptos abstractos.\n"
   ]
  },
  {
   "cell_type": "markdown",
   "id": "907935f4",
   "metadata": {},
   "source": [
    "\n",
    "6. **Social Sciences (Ciencias Sociales):** Incorpora la comprensión del entorno social, político, cultural y económico, promoviendo el desarrollo de la conciencia crítica sobre el mundo y su historia, además de habilidades de empatía y ciudadanía.\n"
   ]
  },
  {
   "cell_type": "markdown",
   "id": "39967d63",
   "metadata": {},
   "source": [
    "\n",
    "El enfoque STEAMS pretende desarrollar un aprendizaje **interdisciplinario** que integre estas áreas para fomentar un pensamiento más holístico y práctico. "
   ]
  },
  {
   "cell_type": "markdown",
   "id": "5145f077",
   "metadata": {},
   "source": [
    "Se busca que los estudiantes no solo aprendan conocimientos técnicos, sino también cómo aplicarlos creativa y críticamente en situaciones reales, promoviendo habilidades como el trabajo en equipo, la comunicación y la innovación. "
   ]
  },
  {
   "cell_type": "markdown",
   "id": "9d556584",
   "metadata": {},
   "source": [
    "En educación preescolar, primaria, secundaria y superior, se adapta a las diferentes etapas de desarrollo cognitivo y emocional de los estudiantes, promoviendo el aprendizaje activo y contextualizado.  \n"
   ]
  },
  {
   "cell_type": "markdown",
   "id": "0130ec1b",
   "metadata": {},
   "source": [
    "\n",
    "<img src = 'https://www.campuseducacion.com/blog/wp-content/uploads/2023/03/foto01-1.jpg' width = 200>"
   ]
  },
  {
   "cell_type": "markdown",
   "id": "80a923e4",
   "metadata": {},
   "source": [
    "# Enfoque TRRS de Duval"
   ]
  },
  {
   "cell_type": "markdown",
   "id": "96775931",
   "metadata": {
    "slideshow": {
     "slide_type": "slide"
    }
   },
   "source": [
    "## Título de la clase: Modelación de la precipitación en Caucasia Antioquia en el periodo de 2008 a 2025 pero con datos artificiales   \n",
    "\n",
    "[]()"
   ]
  },
  {
   "cell_type": "code",
   "execution_count": 1,
   "id": "28bae6cb",
   "metadata": {},
   "outputs": [],
   "source": [
    "def save_fig(nombre_archivo_imagen):\n",
    "    import os \n",
    "    import matplotlib.pyplot as plt\n",
    "    ubicacion_para_imagenes = r\"C:/Users/marco/Downloads\"\n",
    "    imagen_path = os.path.join(ubicacion_para_imagenes, nombre_archivo_imagen)\n",
    "    plt.savefig(imagen_path, format = 'pdf')"
   ]
  },
  {
   "cell_type": "markdown",
   "id": "10e55ccf",
   "metadata": {},
   "source": [
    "# Estructura general para todas las clases\n"
   ]
  },
  {
   "cell_type": "markdown",
   "id": "ddd73417",
   "metadata": {},
   "source": [
    "\n",
    "Dame, por favor, un diseño de clase, con el enfoque: \"Aula Invertida, STEAMS y de Aprendizaje Basado en Problemas y Proyectos (ABPP)\" sobre: **\"Modelación de la precipitación en Caucasia Antioquia y determinación de la probabilidad de precipitación extrema, pero con datos artificiales\"**, siguiendo la estructura:  \n",
    "\n",
    "1. Título de la clase   \n",
    "   \n",
    "2. Objetivo de aprendizaje que incluyan los indicadores del logro de estos objetivos. \n",
    "   \n",
    "3. Un mapa conceptual que resuma la clase elaborado en Graphviz de python con nodos y edges de diferentes formas, colores y rellenos y renderizado en la siguiente ubicación: `\"C:\\Users\\marco\\Descargas\"`.  No olvides el parámetro `view = True` para el método `render()` de Graphviz. Para este mapa controla las superposiciones de los nodos con: graph [overlap=false]; // Elimina superposiciones (puede aumentar el espacio)\n",
    "graph [overlap=\"scalexy\"]; // Escala el gráfico para evitar overlaps\n",
    "graph [overlap=\"compress\"]; // Comprime el grafo sin overlaps  \n",
    "   \n",
    "4. Elementos históricos y epistemológicos relevantes para la clase, pero narrados como una historieta al estilo de un cuentero antioqueño en Colombia. Incluye imágenes de los protagonistas históricos de esta clase.  \n",
    "   \n",
    "5. Contenido de la clase:  \n",
    "        \n",
    "6. Actividades de aprendizaje: que incluya pruebas de escritorio para los algoritmos en forma verbal y seudo código, diagrama de flujo, y la implementación del algoritmo en lenguaje python.  \n",
    "   \n",
    "7. Incluye una canción o un poema que ayude a interiorizar y fijar los conceptos asociados a esta clase.   \n",
    "   \n",
    "8.  Tarea o actividades de ejercitación y fijación. Incluye tareas en las que los estudiantes empiecen con la descripción geométrica del algoritmo, luego la descripción verbal y secuencial del algoritmo, después la implementación en lenguaje python editado a través de la terminal powershell de su computador y finalmente con el cálculo a mano y en su cuaderno para $n = 4$.  \n",
    "    \n",
    "9.  Evaluación incluyendo diez proyectos, un ejemplo de quiz y un ejemplo de parcial. Incluye evaluaciones en las que los estudiantes empiecen con la descripción geométrica del algoritmo, luego la descripción verbal y secuencial del algoritmo, después la implementación en lenguaje python editado a través de la terminal powershell de su computador, y finalmente con el cálculo algebraico y numérico a mano y en su cuaderno para $n = 4$. \n",
    "    \n",
    "10. Diseño de actividad de retroalimentación.   \n",
    "    \n",
    "11. Dame un vocabulario y frases del idioma inglés asociadas a esta clase.    \n",
    "     \n",
    "12. Incluye apéndice para la clase sobre desarrollo de habilidades para trabajar en equipo y de asertividad y empatía para relacionarnos. También elementos de la inteligencia emocional para presentar pruebas sin temor y sin realizar fraude en ellas.    \n",
    "     \n",
    "13. Incluye 5 referentes en didáctica de la matemática que estén de acuerdo a la propuesta didáctica de esta clase. Adiciona a estos referentes a Raymond Duval (Representaciones y cambios de representación para la adquisición de conceptos matemáticos) y a Janete Wing (Desarrollo del pensamiento computacional). Dejame todos estos referentes ordenados de acuerdo a las normas APA. Al crear la clase, introduce las citas de estos autores en el texto de la clase.\n",
    "\n",
    "\n",
    "Pero  que este diseño sea para que el estudiante pueda aprender experimentando en cuadernos Jupyter con funciones de usuario y animaciones y visualizaciones en python.   \n",
    "\n",
    "En particular utiliza para el diseño de clase a Numpy, Pandas, SymPy, Matplotlib.pyplot, Seaborn, Plotly, ipywidgets, matplotlib.animation y Jupyter Notebook.    \n",
    "\n",
    "Cada vez que utilices `matplotlib.animacion` no olvides incluir el uso de `IPython. display` para la rederización de estas animaciones a través de Jupyter Notebook. No olvides darme los diseños de clase con las ecuaciones matemáticas delimitadas con signo de dolar $ para que VS Code si me renderize estas expresiones del lenguaje latex. Cuando vallas a utilizar ipywidgets ten en cuenta la siguiente importación inicial para garantizar que la visualización interactiva si se renderize en VS Code:   \n",
    "\n",
    "import numpy as np  \n",
    "import matplotlib.pyplot as plt  \n",
    "import ipywidgets as widgets  \n",
    "from IPython.display import display, clear_output  \n",
    "from matplotlib.patches import Rectangle  \n",
    "\n",
    "# Configuración inicial para visualización estática  \n",
    "%matplotlib inline "
   ]
  },
  {
   "cell_type": "markdown",
   "id": "bdbd8f1c",
   "metadata": {},
   "source": [
    "\n",
    "## La campana de Gauss y su relación con la modelación estadística de la variable de precipitación medida en milímetros, en Caucasia - Antioquia. \n"
   ]
  },
  {
   "cell_type": "markdown",
   "id": "2a1375a9",
   "metadata": {},
   "source": [
    "\n",
    "La **campana de Gauss**, también conocida como la **distribución normal**, es una de las funciones más importantes en estadística y modelación de datos. Su ecuación general es:  \n",
    "\n",
    "$$\n",
    "f(x) = \\frac{1}{\\sigma \\sqrt{2\\pi}} e^{-\\frac{(x - \\mu)^2}{2\\sigma^2}}\n",
    "$$\n",
    "\n",
    "donde:  \n",
    "- $ \\mu $ es la media (el valor central de la distribución).  \n",
    "- $\\sigma$ es la desviación estándar (mide la dispersión de los datos).  \n",
    "- $ x $ representa la variable aleatoria.  \n",
    "\n",
    "---\n"
   ]
  },
  {
   "cell_type": "markdown",
   "id": "82a0f462",
   "metadata": {},
   "source": [
    "\n",
    "### **Relación con la Precipitación en Caucasia, Antioquia**  \n"
   ]
  },
  {
   "cell_type": "markdown",
   "id": "06123690",
   "metadata": {},
   "source": [
    "\n",
    "En **Caucasia, Antioquia**, la precipitación medida en milímetros varía estacionalmente y depende de factores como el ciclo del agua, los vientos alisios y los efectos de La Niña o El Niño. "
   ]
  },
  {
   "cell_type": "markdown",
   "id": "d7839251",
   "metadata": {},
   "source": [
    "En muchos estudios climatológicos, se ha encontrado que la **distribución de la precipitación en periodos específicos (mensuales o anuales)** se puede aproximar a una **distribución normal** después de aplicar transformaciones o segmentar los datos según condiciones meteorológicas.  \n"
   ]
  },
  {
   "cell_type": "markdown",
   "id": "ceecdb9b",
   "metadata": {},
   "source": [
    "\n",
    "### **Justificación de su uso en la modelación estadística:**  \n"
   ]
  },
  {
   "cell_type": "markdown",
   "id": "aa870f35",
   "metadata": {},
   "source": [
    "1. **Variabilidad Natural**: La precipitación es un fenómeno que puede presentar una distribución aproximadamente normal si se analiza en periodos específicos (por ejemplo, la lluvia mensual en un año sin eventos extremos).  \n"
   ]
  },
  {
   "cell_type": "markdown",
   "id": "ea8488a3",
   "metadata": {},
   "source": [
    "2. **Predicción y Probabilidades**: Con una distribución normal ajustada, se pueden calcular probabilidades de eventos como \"¿Cuál es la probabilidad de que en abril llueva más de 100 mm?\"  \n"
   ]
  },
  {
   "cell_type": "markdown",
   "id": "f4fc3ade",
   "metadata": {},
   "source": [
    "3. **Modelos Climatológicos**: Al analizar registros históricos de precipitación en Caucasia, se puede estimar la media ($\\mu$) y la desviación estándar ($\\sigma$), lo que ayuda a modelar tendencias y evaluar riesgos de sequías o lluvias intensas.  \n"
   ]
  },
  {
   "cell_type": "markdown",
   "id": "96df025f",
   "metadata": {},
   "source": [
    "4. **Comparación con otras distribuciones**: Si los datos presentan asimetrías, pueden requerir ajustes con distribuciones más flexibles como **Weibull**, **Gamma** o **Log-normal**, que son comunes en modelación hidrológica.  \n"
   ]
  },
  {
   "cell_type": "markdown",
   "id": "614c017c",
   "metadata": {},
   "source": [
    "# Generación de datos artificiales de precipitación"
   ]
  },
  {
   "cell_type": "markdown",
   "id": "5c94d961",
   "metadata": {},
   "source": [
    "Para generar datos de precipitación que se asemejen a los registros históricos de **Caucasia, Antioquia (Colombia)** en los últimos 20 años, debemos ajustar los parámetros estadísticos basados en información climática real de la región.  \n"
   ]
  },
  {
   "cell_type": "markdown",
   "id": "474c3b51",
   "metadata": {},
   "source": [
    "\n",
    "### **Código mejorado con datos realistas para Caucasia**  \n",
    "Según registros del **IDEAM** (Instituto de Hidrología, Meteorología y Estudios Ambientales de Colombia), Caucasia tiene un régimen de lluvias con:  \n",
    "- **Media anual**: ~1800 mm (distribuidos mensualmente).  \n",
    "- **Estacionalidad**: Dos temporadas de lluvias (abril-mayo y octubre-noviembre) y dos secas (enero-febrero y julio-agosto).  \n",
    "- **Variabilidad**: Alta dispersión en meses lluviosos (hasta 300 mm en abril) y baja en secos (<50 mm en enero). "
   ]
  },
  {
   "cell_type": "code",
   "execution_count": 3,
   "id": "76b7ced8",
   "metadata": {},
   "outputs": [
    {
     "name": "stdout",
     "output_type": "stream",
     "text": [
      "    Año  Mes  Precipitacion_mm\n",
      "0  2003    1         34.967142\n",
      "1  2003    2         28.617357\n",
      "2  2003    3        145.907542\n",
      "3  2003    4        157.637506\n",
      "4  2003    5        217.642043\n",
      "5  2003    6        150.697389\n",
      "6  2003    7         25.305256\n",
      "7  2003    8         35.425600\n",
      "8  2003    9        101.463292\n",
      "9  2003   10        219.751702\n"
     ]
    },
    {
     "name": "stderr",
     "output_type": "stream",
     "text": [
      "C:\\Users\\marco\\AppData\\Local\\Temp\\ipykernel_18160\\847667245.py:39: FutureWarning: \n",
      "\n",
      "The `ci` parameter is deprecated. Use `errorbar=None` for the same effect.\n",
      "\n",
      "  sns.lineplot(data=df, x='Mes', y='Precipitacion_mm', ci=None, color='blue')\n"
     ]
    },
    {
     "data": {
      "image/png": "[encoded data removed]",
      "text/plain": [
       "<Figure size 1200x600 with 1 Axes>"
      ]
     },
     "metadata": {},
     "output_type": "display_data"
    }
   ],
   "source": [
    " \n",
    "import numpy as np\n",
    "import pandas as pd\n",
    "import matplotlib.pyplot as plt\n",
    "import seaborn as sns\n",
    "from scipy.stats import skewnorm\n",
    "\n",
    "# --- Configuración de parámetros realistas para Caucasia ---\n",
    "np.random.seed(42)  # Para reproducibilidad\n",
    "n_meses = 20 * 12   # 20 años de datos mensuales\n",
    "\n",
    "# 1. Generar meses (1 a 12) y años (2003 a 2023)\n",
    "meses = np.tile(np.arange(1, 13), 20)\n",
    "anos = np.repeat(np.arange(2003, 2023), 12)\n",
    "\n",
    "# 2. Simular precipitación con estacionalidad y asimetría (distribución skewnorm)\n",
    "# Parámetros: media alta en abril-mayo y octubre-noviembre, baja en enero-febrero\n",
    "def generar_precipitacion(mes):\n",
    "    if mes in [4, 5, 10, 11]:  # Temporadas lluviosas\n",
    "        return skewnorm.rvs(a=-5, loc=250, scale=60, size=1)[0]  # Sesgo negativo (valores altos)\n",
    "    elif mes in [1, 2, 7, 8]:  # Temporadas secas\n",
    "        return max(0, np.random.normal(loc=30, scale=10))  # Evitar valores negativos\n",
    "    else:  # Meses intermedios\n",
    "        return np.random.normal(loc=120, scale=40)\n",
    "\n",
    "precipitacion = np.array([generar_precipitacion(mes) for mes in meses])\n",
    "\n",
    "# 3. Crear DataFrame\n",
    "df = pd.DataFrame({\n",
    "    'Año': anos,\n",
    "    'Mes': meses,\n",
    "    'Precipitacion_mm': precipitacion\n",
    "})\n",
    "\n",
    "# Mostrar primeros registros\n",
    "print(df.head(10))\n",
    "\n",
    "# --- Visualización ---\n",
    "plt.figure(figsize=(12, 6))\n",
    "sns.lineplot(data=df, x='Mes', y='Precipitacion_mm', ci=None, color='blue')\n",
    "plt.title('Precipitación mensual simulada para Caucasia (2003-2023)')\n",
    "plt.xlabel('Mes')\n",
    "plt.ylabel('Precipitación (mm)')\n",
    "plt.xticks(range(1, 13), ['Ene', 'Feb', 'Mar', 'Abr', 'May', 'Jun', 'Jul', 'Ago', 'Sep', 'Oct', 'Nov', 'Dic'])\n",
    "plt.grid(True)\n",
    "plt.show()\n",
    "\n"
   ]
  },
  {
   "cell_type": "markdown",
   "id": "ed38ca16",
   "metadata": {},
   "source": [
    "\n",
    "### **Explicación de los ajustes clave**  \n",
    "1. **Estacionalidad**:  \n",
    "   - Abril-mayo y octubre-noviembre tienen lluvias intensas (media ~250 mm, asimetría negativa para valores extremos).  \n",
    "   - Enero-febrero y julio-agosto son secos (media ~30 mm).  \n",
    "\n",
    "2. **Distribución no normal**:  \n",
    "   - Usamos `skewnorm` para capturar la asimetría en meses lluviosos (ej. chubascos extremos).  \n",
    "\n",
    "3. **Evitar negativos**:  \n",
    "   - `max(0, ...)` asegura que no haya precipitación negativa.  \n",
    "\n",
    "### **Resultado esperado**  \n",
    "- Gráfico con picos en abril-mayo y octubre-noviembre.  \n",
    "- Valles en enero-febrero y julio-agosto.  \n",
    "- Variabilidad similar a datos reales del IDEAM.  \n",
    "\n",
    "¿Quieres añadir más detalles como tendencias por año o efectos de El Niño/La Niña?"
   ]
  },
  {
   "cell_type": "markdown",
   "id": "94531684",
   "metadata": {},
   "source": [
    "# Visualización de la distribución de precipitación en Caucasia\n"
   ]
  },
  {
   "cell_type": "markdown",
   "id": "ef168490",
   "metadata": {},
   "source": [
    "Para mejorar el gráfico y que la métrica del eje horizontal coincida con los extremos de las barras del histograma, puedes usar el parámetro `binrange` en `sns.histplot()` para definir explícitamente el rango de los bins. "
   ]
  },
  {
   "cell_type": "markdown",
   "id": "7ef257ee",
   "metadata": {},
   "source": [
    "Además, ajustaremos los límites del eje x con `plt.xlim()` para que coincidan con los extremos de las barras. Aquí está el código mejorado:\n"
   ]
  },
  {
   "cell_type": "code",
   "execution_count": 18,
   "id": "f9a9e777",
   "metadata": {},
   "outputs": [
    {
     "data": {
      "image/png": "[encoded data removed]",
      "text/plain": [
       "<Figure size 1000x600 with 1 Axes>"
      ]
     },
     "metadata": {},
     "output_type": "display_data"
    }
   ],
   "source": [
    "\n",
    "import seaborn as sns\n",
    "import matplotlib.pyplot as plt\n",
    "import numpy as np\n",
    "plt.figure(figsize=(10, 6))\n",
    "# Asumiendo que 'precipitacion' es tu serie de datos\n",
    "# Calculamos el rango de los datos para definir los bins\n",
    "min_val = np.min(precipitacion)\n",
    "max_val = np.max(precipitacion)\n",
    "n_bins = 20 \n",
    "bin_width = (max_val - min_val) / n_bins  #  bins\n",
    "\n",
    "# Creamos el histograma con bins explícitos\n",
    "sns.histplot(precipitacion, bins=n_bins, kde=False, stat=\"density\", \n",
    "             color=\"blue\", label=\"Datos Observados\",\n",
    "             binrange=(min_val, max_val))\n",
    "\n",
    "# Ajustamos los límites del eje x para que coincidan con los extremos de las barras\n",
    "plt.xticks(np.arange(start = min_val, stop = max_val, step = bin_width), \\\n",
    "    rotation=90)\n",
    "plt.xlim(min_val, max_val)\n",
    "\n",
    "# Añadimos título y etiquetas (opcional)\n",
    "plt.title(\"Histograma de Precipitación Datos Artificiales\")\n",
    "plt.xlabel(\"Precipitación\")\n",
    "plt.ylabel(\"Densidad\")\n",
    "\n",
    "# Mostramos la leyenda\n",
    "plt.legend()\n",
    "plt.grid(alpha = 0.3)\n",
    "plt.show()\n",
    "\n"
   ]
  },
  {
   "cell_type": "markdown",
   "id": "949390e0",
   "metadata": {},
   "source": [
    "\n",
    "### Mejoras realizadas:\n",
    "1. **`binrange`**: Define explícitamente el rango de los bins para que empiece y termine en los valores mínimo y máximo de tus datos.\n",
    "2. **Ajuste de límites**: Con `plt.xlim()` extendemos ligeramente los límites para que las barras de los extremos sean visibles completamente.\n",
    "3. **Ajuste de ticks**: Usamos `plt.xticks()` para establecer los ticks en los extremos de los bins, asegurando que estén alineados con las barras del histograma.\n",
    "4. **Cálculo de ancho de bin**: Usamos el ancho de bin (`bin_width`) para ajustar los límites del eje x de manera proporcional.\n",
    "\n",
    "Si prefieres que los bins estén centrados en los ticks del eje x, puedes usar `binedges` explícitamente:\n"
   ]
  },
  {
   "cell_type": "markdown",
   "id": "49daf713",
   "metadata": {},
   "source": [
    "# Otra manera de hacer el histograma"
   ]
  },
  {
   "cell_type": "code",
   "execution_count": 20,
   "id": "3b424d38",
   "metadata": {},
   "outputs": [
    {
     "data": {
      "image/png": "[encoded data removed]",
      "text/plain": [
       "<Figure size 1200x700 with 1 Axes>"
      ]
     },
     "metadata": {},
     "output_type": "display_data"
    }
   ],
   "source": [
    "\n",
    "plt.figure(figsize=(12, 7))\n",
    "n_bins = 20  # Número de bins\n",
    "bins = np.linspace(min_val, max_val, n_bins + 1)  # 30 bins → 31 bordes\n",
    "sns.histplot(precipitacion, bins=bins, kde=False, stat=\"density\", \n",
    "             color=\"blue\", label=\"Datos Observados\")\n",
    "plt.xticks(bins, rotation = 45)  # Opcional: mostrar todos los bordes como ticks\n",
    "\n",
    "plt.show() \n"
   ]
  },
  {
   "cell_type": "markdown",
   "id": "13dc8217",
   "metadata": {},
   "source": [
    "\n",
    "Esto asegurará una correspondencia exacta entre los bordes de las barras y las marcas del eje x."
   ]
  },
  {
   "cell_type": "markdown",
   "id": "eaf91e12",
   "metadata": {},
   "source": [
    "# Ahora si, Encontramos el modelo normal que represente la precipitación "
   ]
  },
  {
   "cell_type": "code",
   "execution_count": 25,
   "id": "03fe2cea",
   "metadata": {},
   "outputs": [
    {
     "data": {
      "image/png": "[encoded data removed]",
      "text/plain": [
       "<Figure size 1200x700 with 1 Axes>"
      ]
     },
     "metadata": {},
     "output_type": "display_data"
    }
   ],
   "source": [
    "\n",
    "# Curva de la distribución normal\n",
    "plt.figure(figsize=(12, 7))\n",
    "x = np.sort(precipitacion)\n",
    "#x = np.linspace(min(precipitacion), max(precipitacion), 100)\n",
    "pdf = norm.pdf(x, np.mean(precipitacion), np.std(precipitacion))\n",
    "plt.plot(x, pdf, 'r-', label=\"Distribución Normal Ajustada\")\n",
    "plt.grid(alpha = 0.3)\n",
    "plt.legend()\n",
    "plt.show()\n"
   ]
  },
  {
   "cell_type": "code",
   "execution_count": null,
   "id": "530668ae",
   "metadata": {},
   "outputs": [],
   "source": []
  },
  {
   "cell_type": "code",
   "execution_count": null,
   "id": "3aea61be",
   "metadata": {},
   "outputs": [],
   "source": [
    "\n",
    "plt.xlabel(\"Precipitación (mm)\")\n",
    "plt.ylabel(\"Densidad\")\n",
    "plt.title(\"Ajuste de Distribución Normal a la Precipitación en Caucasia\")\n",
    "plt.legend()\n",
    "plt.grid(alpha = 0.3)\n",
    "save_fig('Ajuste_precipitacion_normal_caucasia')\n",
    "plt.show()\n",
    "\n"
   ]
  },
  {
   "cell_type": "markdown",
   "id": "33f6b035",
   "metadata": {},
   "source": [
    "\n",
    "---\n",
    "\n",
    "### **Conclusión**  \n",
    "Si bien la campana de Gauss es útil para modelar la precipitación en **Caucasia, Antioquia**, hay que considerar posibles **asimetrías** y eventos extremos (lluvias torrenciales o sequías). Un buen análisis incluiría pruebas estadísticas (Shapiro-Wilk, Kolmogorov-Smirnov) para verificar la normalidad y, si es necesario, emplear modelos más adecuados.  \n"
   ]
  },
  {
   "cell_type": "code",
   "execution_count": null,
   "id": "25405297",
   "metadata": {},
   "outputs": [],
   "source": []
  },
  {
   "cell_type": "markdown",
   "id": "239427f7",
   "metadata": {},
   "source": [
    "# Calendario académico para los diferentes programas de pregrado de los campus regionalizados, correspondiente al primer periodo académico del año 2025, así:\n",
    "\n",
    "* Límite evaluación del 40% 06 de abril de 2025\n",
    "* Terminación de clases 08 de junio de 2025\n",
    "* Exámenes finales 09 al 15 de junio de 2025\n",
    "* Habilitación y validación 16 al 22 de junio de 2025\n",
    "* Terminación oficial 23 de junio de 2025"
   ]
  },
  {
   "cell_type": "markdown",
   "id": "8d41fe58",
   "metadata": {
    "slideshow": {
     "slide_type": "slide"
    }
   },
   "source": [
    "# Horario de clases del profesor Marco\n",
    "\n",
    "* Lunes 8-12: Cálculo Vectorial\n",
    "* Martes 8-12 M: Análisis Numérico. \n",
    "* Miércoles 10 a 11 M: Machine Learning.\n",
    "* Miércoles 3 a 4 PM: Coasesoría a proyecto de grado: Arima (Janis).\n",
    "* Jueves 2 a 6 PM: Práctica V: Desarrollo del pensamiento matemático en la infancia. \n",
    "* Viernes 8 - 12 M: Fundamentos de la Lógica. \n",
    "* Sábados 8-12 Asesorías y espacio para retroalimentación y apoyo al trabajo independiente. "
   ]
  },
  {
   "cell_type": "markdown",
   "id": "ae114e14",
   "metadata": {
    "slideshow": {
     "slide_type": "slide"
    }
   },
   "source": [
    "\n",
    "\n",
    "# Coordinador de los cursos de la Facultad de Educación para regiones:    \n",
    "\n",
    "Andrés Vélez: regioneducacion.fedu@udea.edu.co  \n",
    "Coordinador Regiones  \n",
    "Facultad de Educación  \n",
    "Universidad de Antioquia  "
   ]
  },
  {
   "cell_type": "markdown",
   "id": "b1db4b6c",
   "metadata": {
    "slideshow": {
     "slide_type": "slide"
    }
   },
   "source": [
    "## Monitor Manuel San Juan Serrano\n",
    "\n",
    "Contactar escribiendo al correo: manuel.serrano1@udea.edu.co"
   ]
  },
  {
   "cell_type": "markdown",
   "id": "39559692",
   "metadata": {
    "slideshow": {
     "slide_type": "slide"
    }
   },
   "source": [
    "Martes y jueves de 8 - 12  \n",
    "Miércoles 10 - 12 y de 2 a 4 PM  \n",
    "Sábado: 8 - 12"
   ]
  },
  {
   "cell_type": "markdown",
   "id": "10bce0d0",
   "metadata": {
    "slideshow": {
     "slide_type": "slide"
    }
   },
   "source": [
    "## Referentes "
   ]
  },
  {
   "cell_type": "markdown",
   "id": "1db3c468",
   "metadata": {
    "slideshow": {
     "slide_type": "slide"
    }
   },
   "source": [
    "* [CALCULO I DE UNA VARIABLE Ron Larson-Bruce Edwards. Mc Graw Hill. 9º Edición](https://www.academia.edu/42139251/CALCULO_I_DE_UNA_VARIABLE_Ron_Larson_Bruce_Edwards_Mc_Graw_Hill_9o_Edici%C3%B3n)   \n",
    "  \n",
    "\n",
    "* [Grajales Vanegas, L. M., Restrepo Estrada, C. E., Restrepo Ochoa, S. I., & Ruíz De Villalba, F. (2015). Matemáticas I para las ciencias económicas.](https://bibliotecadigital.udea.edu.co/handle/10495/3010)\n",
    "  \n",
    "* R. Duval y Semiosis y pensamiento humano, 2.ª ed. Cali, Colombia: Programa Editorial Universidad del Valle, 2017. [En línea]. Disponible en: https://programaeditorial.univalle.edu.co/gpd-semiosis-y-pensamiento-humano-9789587655278-63324cdb0f6b3.html\n",
    "\n",
    "* [Aylwin, C. U. (2011). Lógica, conjuntos y números. Universidad de los Andes, Consejo de Publicaciones, Colección: Ciencias Básicas, Serie: Matemáticas.](chrome-extension://efaidnbmnnnibpcajpcglclefindmkaj/https://www.u-cursos.cl/ciencias/2011/1/MC110/1/material_docente/bajar?id_material=574722)\n",
    "  \n",
    "* [Chollet, F. (2021). Deep learning with Python. Simon and Schuster.](chrome-extension://efaidnbmnnnibpcajpcglclefindmkaj/https://tanthiamhuat.wordpress.com/wp-content/uploads/2018/03/deeplearningwithpython.pdf)  \n",
    "  \n",
    "* [Watson, S., Stewart, J., & Redlin, L. (2009). Precálculo. Matemáticas para el cálculo.](https://github.com/marco-canas/calculo/blob/main/referents/1_precalculo_stewart/stewart_precalculo.pdf)  \n",
    "\n",
    "* [Purcell, E. J., Varberg, D., & Rigdon, S. E. (2007). Cálculo diferencial e integral. Pearson Educación.](https://github.com/marco-canas/calculo/blob/main/referents/purcell/purcell_calculo.pdf)\n",
    "\n",
    "  \n",
    "\n",
    "* [stewart cálculo](https://udeaeduco-my.sharepoint.com/:b:/g/personal/marco_canas_udea_edu_co/EZgXZjAp8QxPqOAim2hs6LcBNPLGjSHf-xwYnUVYkwa04w?e=RZdTCy)  \n",
    "\n",
    "\n",
    "\n",
    "\n",
    "\n",
    "* [Recomendación de la UNESCO sobre ciencia abierta](https://unesdoc.unesco.org/ark:/48223/pf0000379949_spa)\n",
    "\n",
    "* [chatGPT](https://openai.com/blog/chatgpt)  \n",
    "\n",
    "* [Géron, A. (2017). Hands-on machine learning with scikit-learn and tensorflow: Concepts. Tools, and Techniques to build intelligent systems.](chrome-extension://efaidnbmnnnibpcajpcglclefindmkaj/http://14.139.161.31/OddSem-0822-1122/Hands-On_Machine_Learning_with_Scikit-Learn-Keras-and-TensorFlow-2nd-Edition-Aurelien-Geron.pdf)   \n"
   ]
  },
  {
   "cell_type": "markdown",
   "id": "df925560",
   "metadata": {},
   "source": [
    "\n",
    "* [McKinney, W. (2012). Python for data analysis: Data wrangling with Pandas, NumPy, and IPython. \" O'Reilly Media, Inc.\".](https://wesmckinney.com/book/) "
   ]
  },
  {
   "cell_type": "markdown",
   "id": "8e65d6f9",
   "metadata": {},
   "source": [
    "# Como estudiante, encuentro que...   \n",
    "\n",
    "F: Mis Fortalezas son:     \n",
    "O: Mis Oportunidades son:    \n",
    "D: Mis Debilidades son:    \n",
    "A: Lo que Amenazas mi aprendizaje es:  "
   ]
  },
  {
   "cell_type": "markdown",
   "id": "6b9e56a8",
   "metadata": {
    "slideshow": {
     "slide_type": "slide"
    }
   },
   "source": [
    "### [Evaluamos al profesor Marco Cañas Aquí](https://forms.office.com/Pages/ResponsePage.aspx?id=IefhmYRxjkmK_7KtTlPBwkanXIs1i1FEujpsZgO6dXpUREJPV1kxUk1JV1ozTFJIQVNIQjY5WEY3US4u)"
   ]
  },
  {
   "cell_type": "markdown",
   "id": "10f43536",
   "metadata": {
    "slideshow": {
     "slide_type": "slide"
    }
   },
   "source": [
    "### Continue su aprendizaje en la siguiente clase a través del siguiente [vínculo]()"
   ]
  },
  {
   "cell_type": "markdown",
   "id": "53cc9115",
   "metadata": {
    "slideshow": {
     "slide_type": "slide"
    }
   },
   "source": [
    "## Agradecimientos  \n",
    "\n",
    "Doy gracias a Dios por la vida de mi Hijo Joseph Cañas Osorio y la madurez que ha alcanzado. Este hijo me enorgullece y me hace falta abrazarlo cada día. \n",
    "\n",
    "Y a mi esposa Yasmira Emperatriz Barboza Mogollón por su apoyo, orientación y acompañamiento. "
   ]
  }
 ],
 "metadata": {
  "celltoolbar": "Slideshow",
  "kernelspec": {
   "display_name": ".venv",
   "language": "python",
   "name": "python3"
  },
  "language_info": {
   "codemirror_mode": {
    "name": "ipython",
    "version": 3
   },
   "file_extension": ".py",
   "mimetype": "text/x-python",
   "name": "python",
   "nbconvert_exporter": "python",
   "pygments_lexer": "ipython3",
   "version": "3.12.6"
  },
  "rise": {
   "enable_chalkboard": true,
   "theme": "sky",
   "transition": "zoom"
  }
 },
 "nbformat": 4,
 "nbformat_minor": 5
}
