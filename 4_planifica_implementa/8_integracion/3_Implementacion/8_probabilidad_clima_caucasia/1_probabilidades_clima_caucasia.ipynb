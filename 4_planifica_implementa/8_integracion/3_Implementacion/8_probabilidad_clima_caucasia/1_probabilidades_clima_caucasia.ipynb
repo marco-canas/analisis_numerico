{
 "cells": [
  {
   "cell_type": "markdown",
   "id": "dc06dec7",
   "metadata": {
    "slideshow": {
     "slide_type": "slide"
    }
   },
   "source": [
    "<table align=\"left\">\n",
    "  <td>\n",
    "    <a href=\"https://colab.research.google.com/github/marco-canas/analisis_numerico/blob/main/5_planifica_implementa/8_integracion/3_Implementacion/8_probabilidad_clima_caucasia/1_probabilidades_clima_caucasia.ipynb\" target=\"_parent\"><img src=\"https://colab.research.google.com/assets/colab-badge.svg\" alt=\"Open In Colab\"/></a>\n",
    "  </td>\n",
    "  <td>\n",
    "    <a target=\"_blank\" href=\"https://kaggle.com/kernels/welcome?src=https://github.com/marco-canas/analisis_numerico/blob/main/5_planifica_implementa/8_integracion/3_Implementacion/8_probabilidad_clima_caucasia/1_probabilidades_clima_caucasia.ipynb\"><img src=\"https://kaggle.com/static/images/open-in-kaggle.svg\" /></a>\n",
    "  </td>\n",
    "</table>"
   ]
  },
  {
   "cell_type": "markdown",
   "id": "e0c5b198",
   "metadata": {
    "slideshow": {
     "slide_type": "slide"
    }
   },
   "source": [
    "### [Video de apoyo a la lectura interactiva y experimental de este cuaderno]()"
   ]
  },
  {
   "cell_type": "markdown",
   "id": "41e82203",
   "metadata": {
    "slideshow": {
     "slide_type": "slide"
    }
   },
   "source": [
    "### [Vínculo al programa del curso: Análisis Numérico](https://github.com/marco-canas/analisis_numerico/blob/main/2_programa_curso/3_program_numeric_methods_marco_canas_caucasia.docx)\n",
    "\n"
   ]
  },
  {
   "cell_type": "markdown",
   "id": "d11ab06d",
   "metadata": {
    "slideshow": {
     "slide_type": "slide"
    }
   },
   "source": [
    "Un reconocimiento a mis estudiantes que han construido conmigo este saber pedagógico:\n",
    "\n",
    "<img src = ''> \n",
    "\n"
   ]
  },
  {
   "cell_type": "markdown",
   "id": "8a74a56c-0ce6-4ad6-b985-553fd7fb68bb",
   "metadata": {},
   "source": [
    "Reconocimiento a las profesoras destacadas en enseñanza de la matemática en Colombia\n"
   ]
  },
  {
   "cell_type": "code",
   "execution_count": 5,
   "id": "7604880f",
   "metadata": {
    "slideshow": {
     "slide_type": "slide"
    }
   },
   "outputs": [
    {
     "data": {
      "application/vnd.microsoft.datawrangler.viewer.v0+json": {
       "columns": [
        {
         "name": "index",
         "rawType": "int64",
         "type": "integer"
        },
        {
         "name": "Cédula",
         "rawType": "int64",
         "type": "integer"
        },
        {
         "name": "Nombre",
         "rawType": "object",
         "type": "string"
        },
        {
         "name": "Email",
         "rawType": "object",
         "type": "string"
        }
       ],
       "conversionMethod": "pd.DataFrame",
       "ref": "4447b3c6-e3ec-4993-910b-b47cf3c5c70b",
       "rows": [
        [
         "0",
         "1007410536",
         "CALY HERRERA ESTEFANIA",
         "estefania.caly@udea.edu.co"
        ],
        [
         "1",
         "1038108070",
         "DORADO PADILLA LEONEL ESTEBAN",
         "leonel.dorado@udea.edu.co"
        ],
        [
         "2",
         "1038115862",
         "LONDONO CASTRO FRED IVAN",
         "fred.londonoc@udea.edu.co"
        ],
        [
         "3",
         "1129804572",
         "SAN JUAN SERRANO MANUEL",
         "manuel.serrano1@udea.edu.co"
        ],
        [
         "4",
         "1007554266",
         "URIBE ARRIETA YEIFRY SEBASTIAN",
         "yeifry.uribe@udea.edu.co"
        ]
       ],
       "shape": {
        "columns": 3,
        "rows": 5
       }
      },
      "text/html": [
       "<div>\n",
       "<style scoped>\n",
       "    .dataframe tbody tr th:only-of-type {\n",
       "        vertical-align: middle;\n",
       "    }\n",
       "\n",
       "    .dataframe tbody tr th {\n",
       "        vertical-align: top;\n",
       "    }\n",
       "\n",
       "    .dataframe thead th {\n",
       "        text-align: right;\n",
       "    }\n",
       "</style>\n",
       "<table border=\"1\" class=\"dataframe\">\n",
       "  <thead>\n",
       "    <tr style=\"text-align: right;\">\n",
       "      <th></th>\n",
       "      <th>Cédula</th>\n",
       "      <th>Nombre</th>\n",
       "      <th>Email</th>\n",
       "    </tr>\n",
       "  </thead>\n",
       "  <tbody>\n",
       "    <tr>\n",
       "      <th>0</th>\n",
       "      <td>1007410536</td>\n",
       "      <td>CALY HERRERA ESTEFANIA</td>\n",
       "      <td>estefania.caly@udea.edu.co</td>\n",
       "    </tr>\n",
       "    <tr>\n",
       "      <th>1</th>\n",
       "      <td>1038108070</td>\n",
       "      <td>DORADO PADILLA LEONEL ESTEBAN</td>\n",
       "      <td>leonel.dorado@udea.edu.co</td>\n",
       "    </tr>\n",
       "    <tr>\n",
       "      <th>2</th>\n",
       "      <td>1038115862</td>\n",
       "      <td>LONDONO CASTRO FRED IVAN</td>\n",
       "      <td>fred.londonoc@udea.edu.co</td>\n",
       "    </tr>\n",
       "    <tr>\n",
       "      <th>3</th>\n",
       "      <td>1129804572</td>\n",
       "      <td>SAN JUAN SERRANO MANUEL</td>\n",
       "      <td>manuel.serrano1@udea.edu.co</td>\n",
       "    </tr>\n",
       "    <tr>\n",
       "      <th>4</th>\n",
       "      <td>1007554266</td>\n",
       "      <td>URIBE ARRIETA YEIFRY SEBASTIAN</td>\n",
       "      <td>yeifry.uribe@udea.edu.co</td>\n",
       "    </tr>\n",
       "  </tbody>\n",
       "</table>\n",
       "</div>"
      ],
      "text/plain": [
       "       Cédula                          Nombre                        Email\n",
       "0  1007410536          CALY HERRERA ESTEFANIA   estefania.caly@udea.edu.co\n",
       "1  1038108070   DORADO PADILLA LEONEL ESTEBAN    leonel.dorado@udea.edu.co\n",
       "2  1038115862        LONDONO CASTRO FRED IVAN    fred.londonoc@udea.edu.co\n",
       "3  1129804572         SAN JUAN SERRANO MANUEL  manuel.serrano1@udea.edu.co\n",
       "4  1007554266  URIBE ARRIETA YEIFRY SEBASTIAN     yeifry.uribe@udea.edu.co"
      ]
     },
     "execution_count": 5,
     "metadata": {},
     "output_type": "execute_result"
    }
   ],
   "source": [
    "import pandas as pd\n",
    "import numpy as np\n",
    "\n",
    "# Cargar la lista de estudiantes desde el archivo CSV\n",
    "path = 'C:/Users/marco/Documentos/docencia/groups_list/numerico.xlsx'\n",
    "estudiantes = pd.read_excel(path)\n",
    "estudiantes.head() \n"
   ]
  },
  {
   "cell_type": "markdown",
   "id": "d7598d0a-d9b7-4ae0-b029-a0ed6ed1130b",
   "metadata": {},
   "source": [
    "\n",
    "# Principios de mi labor docente"
   ]
  },
  {
   "cell_type": "markdown",
   "id": "4f9d8cf9",
   "metadata": {
    "slideshow": {
     "slide_type": "slide"
    }
   },
   "source": [
    "## Modelo general de clase: [aula invertida](https://www3.gobiernodecanarias.org/medusa/ecoescuela/pedagotic/aprendizaje-invertido-flipped-classroom/)"
   ]
  },
  {
   "cell_type": "markdown",
   "id": "eb6ed03a",
   "metadata": {},
   "source": [
    "<img src = 'https://resources.maneuveringthemiddle.com/wp-content/uploads/2020/07/04212706/1-5.png' width = 200>  \n",
    "\n"
   ]
  },
  {
   "cell_type": "markdown",
   "id": "34319cce-a71b-4f64-aab8-b53e521efa40",
   "metadata": {},
   "source": [
    "# Metodología de Aprendizaje Basado en Problemas y Proyectos (ABPP)\n"
   ]
  },
  {
   "cell_type": "markdown",
   "id": "c4f73d81",
   "metadata": {},
   "source": [
    "\n",
    "<img src = 'https://www.unir.net/wp-content/uploads/2020/07/aprendizaje-problemas2-1-1-1-1.jpeg' width = 200>"
   ]
  },
  {
   "cell_type": "markdown",
   "id": "841a985c-bd9b-4dd3-8e4c-893983980af2",
   "metadata": {},
   "source": [
    "# Desarrollo del pensamiento computacional con Lenguajes Python y R, y con archivos Markdown; orientado a la formación en ciencia de datos.\n",
    "\n"
   ]
  },
  {
   "cell_type": "markdown",
   "id": "3d0eba94",
   "metadata": {},
   "source": [
    "\n",
    "<img src = 'https://i.ytimg.com/vi/mcG_wcR4e6M/maxresdefault.jpg' width = 200>"
   ]
  },
  {
   "cell_type": "markdown",
   "id": "65aa0404-f7ae-495e-864c-1aec01b4255e",
   "metadata": {},
   "source": [
    "# Principio de fomento a la ciencia abierta, enseñar en el acceso a los datos públicos y el uso de software de código abierto  \n"
   ]
  },
  {
   "cell_type": "markdown",
   "id": "18ae9b87",
   "metadata": {},
   "source": [
    "\n",
    "<img src = 'https://unesdoc.unesco.org/in/rest/Thumb/image?id=p%3A%3Ausmarcdef_0000379949_spa&author=UNESCO&title=Recomendaci%C3%B3n+de+la+UNESCO+sobre+la+Ciencia+Abierta&year=2021&publisher=UNESCO&TypeOfDocument=UnescoPhysicalDocument&mat=PGD&ct=true&size=512&isPhysical=1' width = 200>"
   ]
  },
  {
   "cell_type": "markdown",
   "id": "d9559f85",
   "metadata": {},
   "source": [
    "El enfoque STEAMS en educación preescolar, primaria y secundaria es una extensión del enfoque STEM (Ciencia, Tecnología, Ingeniería y Matemáticas) y su variante STEAM, que incorpora el Arte. "
   ]
  },
  {
   "cell_type": "markdown",
   "id": "72e1cfd2",
   "metadata": {},
   "source": [
    "El acrónimo STEAMS incluye:\n"
   ]
  },
  {
   "cell_type": "markdown",
   "id": "03182fd1",
   "metadata": {},
   "source": [
    "\n",
    "1. **Science (Ciencia):** Fomenta la curiosidad por el mundo natural y el desarrollo de habilidades científicas, como la observación, experimentación y análisis.\n"
   ]
  },
  {
   "cell_type": "markdown",
   "id": "1306d0fa",
   "metadata": {},
   "source": [
    "\n",
    "2. **Technology (Tecnología):** Integra herramientas tecnológicas para potenciar el aprendizaje y la resolución de problemas, promoviendo la alfabetización digital desde edades tempranas.\n"
   ]
  },
  {
   "cell_type": "markdown",
   "id": "3b1a53e8",
   "metadata": {},
   "source": [
    "\n",
    "3. **Engineering (Ingeniería):** Introduce el pensamiento lógico y la resolución de problemas estructurados, fomentando habilidades como el diseño y la construcción de soluciones.\n"
   ]
  },
  {
   "cell_type": "markdown",
   "id": "0196de87",
   "metadata": {},
   "source": [
    "\n",
    "4. **Arts (Arte):** Añade creatividad y pensamiento crítico, permitiendo a los estudiantes expresarse y explorar el aprendizaje a través de formas artísticas (plásticas, música, teatro).\n"
   ]
  },
  {
   "cell_type": "markdown",
   "id": "8bcc485a",
   "metadata": {},
   "source": [
    "\n",
    "5. **Mathematics (Matemáticas):** Refuerza las habilidades numéricas y el razonamiento lógico, fundamentales en la resolución de problemas y comprensión de conceptos abstractos.\n"
   ]
  },
  {
   "cell_type": "markdown",
   "id": "907935f4",
   "metadata": {},
   "source": [
    "\n",
    "6. **Social Sciences (Ciencias Sociales):** Incorpora la comprensión del entorno social, político, cultural y económico, promoviendo el desarrollo de la conciencia crítica sobre el mundo y su historia, además de habilidades de empatía y ciudadanía.\n"
   ]
  },
  {
   "cell_type": "markdown",
   "id": "39967d63",
   "metadata": {},
   "source": [
    "\n",
    "El enfoque STEAMS pretende desarrollar un aprendizaje **interdisciplinario** que integre estas áreas para fomentar un pensamiento más holístico y práctico. "
   ]
  },
  {
   "cell_type": "markdown",
   "id": "5145f077",
   "metadata": {},
   "source": [
    "Se busca que los estudiantes no solo aprendan conocimientos técnicos, sino también cómo aplicarlos creativa y críticamente en situaciones reales, promoviendo habilidades como el trabajo en equipo, la comunicación y la innovación. "
   ]
  },
  {
   "cell_type": "markdown",
   "id": "9d556584",
   "metadata": {},
   "source": [
    "En educación preescolar, primaria, secundaria y superior, se adapta a las diferentes etapas de desarrollo cognitivo y emocional de los estudiantes, promoviendo el aprendizaje activo y contextualizado.  \n"
   ]
  },
  {
   "cell_type": "markdown",
   "id": "0130ec1b",
   "metadata": {},
   "source": [
    "\n",
    "<img src = 'https://www.campuseducacion.com/blog/wp-content/uploads/2023/03/foto01-1.jpg' width = 200>"
   ]
  },
  {
   "cell_type": "markdown",
   "id": "9d15c10d-2c02-4158-9419-b1ed79b4c1ee",
   "metadata": {},
   "source": [
    "# Qué estamos haciendo por la internalización en esta clase y este curso  \n"
   ]
  },
  {
   "cell_type": "markdown",
   "id": "6e4feef2",
   "metadata": {},
   "source": [
    "Estas son mis acciones como docente de matemáticas en la Universidad de Antioquia con miras a la **internacionalización** de mi práctica docente y el desarrollo de competencias internacionales para mis estudiantes, ls cuales he estructurado con el siguiente enfoque:\n"
   ]
  },
  {
   "cell_type": "markdown",
   "id": "964d9de7-53ee-4255-9bcd-d8e6454f2993",
   "metadata": {},
   "source": [
    "### 1. **Visión Global en la Formación Académica**\n"
   ]
  },
  {
   "cell_type": "markdown",
   "id": "d9bdd3e2",
   "metadata": {},
   "source": [
    "   - **Competencias Internacionales**: Asegúrate de que el contenido de tus cursos fomente habilidades que sean reconocidas globalmente. "
   ]
  },
  {
   "cell_type": "markdown",
   "id": "682d5bd5",
   "metadata": {},
   "source": [
    "Al educar a los estudiantes en **Python, LaTeX, Markdown y Jupyter Notebooks** y en la **introducción a la ciencia de datos y técnicas de Machine Learning**, estás proporcionando competencias altamente demandadas en los sectores tecnológicos y académicos a nivel internacional.\n"
   ]
  },
  {
   "cell_type": "markdown",
   "id": "39b55206",
   "metadata": {},
   "source": [
    "   - **Relevancia de los Contenidos**: Destaca cómo los temas que enseñas, como el **desarrollo del pensamiento computacional** y la **ciencia de datos**, están alineados con las necesidades globales actuales en diversas industrias, desde la tecnología hasta las ciencias naturales y sociales.\n"
   ]
  },
  {
   "cell_type": "markdown",
   "id": "a054599e",
   "metadata": {},
   "source": [
    "   - **Referencias a Estándares Internacionales**: Puedes vincular tu enseñanza a estándares internacionales de competencias en programación y ciencia de datos (por ejemplo, frameworks del **IEEE, ACM**, y estándares de la **data science** o la **computación en la nube**)."
   ]
  },
  {
   "cell_type": "markdown",
   "id": "0f1d110c-3142-48fe-9e7d-5fbd9e8bb931",
   "metadata": {},
   "source": [
    "### 2. **Innovación Pedagógica con Enfoque Internacional**\n"
   ]
  },
  {
   "cell_type": "markdown",
   "id": "fae6ae34",
   "metadata": {},
   "source": [
    "   - **Aula Invertida y ABP**: Presenta cómo tu enfoque de **aula invertida** y **aprendizaje basado en problemas (ABP)** permite a los estudiantes trabajar de manera autónoma y colaborativa, lo que los prepara para escenarios laborales internacionales que requieren autoaprendizaje y habilidades de resolución de problemas en equipo.\n"
   ]
  },
  {
   "cell_type": "markdown",
   "id": "c83062d9",
   "metadata": {},
   "source": [
    "   - **Uso de Jupyter Notebooks**: El uso de **Jupyter Notebooks** en tus clases no solo facilita la **integración de código, matemáticas y texto**, sino que también es una plataforma utilizada globalmente en ambientes académicos y profesionales, lo que hace a tus estudiantes más competitivos internacionalmente."
   ]
  },
  {
   "cell_type": "markdown",
   "id": "960d52b7-03cd-4eb3-965e-5cdfeb7d9f8e",
   "metadata": {},
   "source": [
    "### 3. **Tecnología y Herramientas de Uso Global**\n"
   ]
  },
  {
   "cell_type": "markdown",
   "id": "4be7269f",
   "metadata": {},
   "source": [
    "   - **Lenguaje Python**: Python es uno de los lenguajes de programación más usados a nivel mundial, tanto en la academia como en la industria. "
   ]
  },
  {
   "cell_type": "markdown",
   "id": "5abb1c38",
   "metadata": {},
   "source": [
    "Al formar a tus estudiantes en Python para ciencia de datos y machine learning, los preparas para operar en entornos tecnológicos globales.\n"
   ]
  },
  {
   "cell_type": "markdown",
   "id": "102655af",
   "metadata": {},
   "source": [
    "   - **Herramientas de Ciencia Abierta**: Resalta cómo herramientas como **GitHub**, **Google Colab** y otras plataformas de código abierto están alineadas con el movimiento de **ciencia abierta**, el cual es internacionalmente reconocido y permite que los estudiantes colaboren y compartan proyectos a nivel global."
   ]
  },
  {
   "cell_type": "markdown",
   "id": "3b2ffa32-7a6f-4545-ba7b-c6a69f51109f",
   "metadata": {},
   "source": [
    "### 4. **Investigación y Publicaciones Internacionales**\n"
   ]
  },
  {
   "cell_type": "markdown",
   "id": "bdbf52a5",
   "metadata": {},
   "source": [
    "   - **Promoción de la Investigación**: Detalla cómo promueves que tus estudiantes participen en proyectos de **investigación aplicada**, con posibilidad de publicación en revistas internacionales. "
   ]
  },
  {
   "cell_type": "markdown",
   "id": "f2a66365",
   "metadata": {},
   "source": [
    "Esto contribuye a la reputación internacional de la Universidad de Antioquia.\n"
   ]
  },
  {
   "cell_type": "markdown",
   "id": "ea01fcbc",
   "metadata": {},
   "source": [
    "   - **Colaboraciones Internacionales**: Si has colaborado con investigadores de otras instituciones o universidades en el extranjero, menciona estos proyectos y cómo han enriquecido tu enseñanza y proporcionado a los estudiantes una visión más globalizada."
   ]
  },
  {
   "cell_type": "markdown",
   "id": "5d1e396e-aece-4bf7-9421-32fa7809eaf4",
   "metadata": {},
   "source": [
    "## 5. **Uso del Inglés para la Internacionalización**\n"
   ]
  },
  {
   "cell_type": "markdown",
   "id": "29cabf26",
   "metadata": {},
   "source": [
    "   - **Comunicación Científica en Inglés**: "
   ]
  },
  {
   "cell_type": "markdown",
   "id": "8ec53ff3",
   "metadata": {},
   "source": [
    "Fomentar el aprendizaje del inglés como lengua científica es clave para que tus estudiantes puedan acceder a publicaciones internacionales, conferencias, y material académico que no está disponible en español. "
   ]
  },
  {
   "cell_type": "markdown",
   "id": "3afdef3a",
   "metadata": {},
   "source": [
    "Esto es esencial para que adquieran competencias que les permitan desempeñarse en cualquier contexto internacional.\n"
   ]
  },
  {
   "cell_type": "markdown",
   "id": "b831224f",
   "metadata": {},
   "source": [
    "   - **Material Bilingüe**: Al generar material educativo en Python, LaTeX y Markdown, considera ofrecer algunos de estos recursos en inglés, para que los estudiantes se familiaricen con el vocabulario técnico y científico internacional."
   ]
  },
  {
   "cell_type": "markdown",
   "id": "c6a8c3b0-426a-4692-a384-3065aea81c9a",
   "metadata": {},
   "source": [
    "### 6. **Certificaciones y Estándares Internacionales**\n"
   ]
  },
  {
   "cell_type": "markdown",
   "id": "b1f41da5",
   "metadata": {},
   "source": [
    "   - **Participación en Certificaciones Internacionales**: Impulsa que los estudiantes busquen certificaciones internacionales en Python o ciencia de datos (como las ofrecidas por **Coursera, edX,** o **Google**). "
   ]
  },
  {
   "cell_type": "markdown",
   "id": "18782427",
   "metadata": {},
   "source": [
    "Estas certificaciones no solo validan sus competencias, sino que también incrementan el reconocimiento de la Universidad de Antioquia en el contexto internacional.\n"
   ]
  },
  {
   "cell_type": "markdown",
   "id": "7cc66317",
   "metadata": {},
   "source": [
    "   - **Alineación con Acreditaciones Internacionales**: Vincula tu trabajo docente con los estándares de acreditación y certificación que garantizan que la universidad siga siendo reconocida internacionalmente."
   ]
  },
  {
   "cell_type": "markdown",
   "id": "45b41439",
   "metadata": {},
   "source": [
    " Puedes vincularte con organizaciones internacionales que promuevan la excelencia en la educación y tecnología, como **ABET** para la acreditación en ingeniería y ciencias computacionales."
   ]
  },
  {
   "cell_type": "markdown",
   "id": "65d3d9e1-ea84-43e0-8197-a2a9c9e21594",
   "metadata": {},
   "source": [
    "### 7. **Proyectos Abiertos y Ciencia Reproducible**\n"
   ]
  },
  {
   "cell_type": "markdown",
   "id": "f03f7b20",
   "metadata": {},
   "source": [
    "   - **GitHub y Open Science**: La utilización de **GitHub** para almacenar los proyectos y materiales de enseñanza en repositorios públicos permite que otros investigadores y educadores internacionales puedan revisar y replicar tu trabajo. Esto contribuye a la creación de una red de colaboración científica abierta.\n"
   ]
  },
  {
   "cell_type": "markdown",
   "id": "ea9af834",
   "metadata": {},
   "source": [
    "   - **Transparencia y Reproducibilidad**: La ciencia de datos y machine learning están profundamente ligados a la reproducibilidad. "
   ]
  },
  {
   "cell_type": "markdown",
   "id": "619741e1",
   "metadata": {},
   "source": [
    "Asegura que tus estudiantes desarrollen prácticas de transparencia y documentación en la investigación, que son pilares en la comunidad científica global.\n"
   ]
  },
  {
   "cell_type": "markdown",
   "id": "215cb551",
   "metadata": {},
   "source": [
    "\n",
    "### 8. **Participación en Redes y Conferencias Internacionales**\n"
   ]
  },
  {
   "cell_type": "markdown",
   "id": "1bb81940",
   "metadata": {},
   "source": [
    "   - **Presentación en Conferencias Internacionales**: Destaca cómo tu participación en conferencias internacionales (como la **ASCOLFA** o eventos sobre educación en matemáticas) contribuye al prestigio de la universidad y permite que tus prácticas sean evaluadas y reconocidas a nivel global.\n"
   ]
  },
  {
   "cell_type": "markdown",
   "id": "cdf46e29",
   "metadata": {},
   "source": [
    "   - **Promoción de Estudiantes en Eventos Internacionales**: Impulsa la participación de tus estudiantes en competiciones internacionales de programación o hackathons, como los organizados por **Google**, **ACM** o **Kaggle**. "
   ]
  },
  {
   "cell_type": "markdown",
   "id": "7decea14",
   "metadata": {},
   "source": [
    "Esto no solo desarrolla sus habilidades, sino que también visibiliza el talento de la Universidad de Antioquia a nivel global.\n",
    "\n"
   ]
  },
  {
   "cell_type": "markdown",
   "id": "233294a4-1983-4641-a7ad-866825e02315",
   "metadata": {},
   "source": [
    "Con esta estrategia, presento mis acciones docentes en términos de competencias internacionales, innovación pedagógica, tecnología, investigación y participación en redes globales, asegurando que mi práctica esté alineada con los estándares internacionales y que tus estudiantes estén preparados para competir en contextos internacionales."
   ]
  },
  {
   "cell_type": "markdown",
   "id": "77da458b",
   "metadata": {},
   "source": [
    "### **Metodología de Enseñanza: Aprendizaje Basado en Problemas y Proyectos (ABPP)**\n"
   ]
  },
  {
   "cell_type": "markdown",
   "id": "c943d273",
   "metadata": {},
   "source": [
    "\n",
    "El **Aprendizaje Basado en Problemas y Proyectos (ABPP)** es una metodología educativa que integra los enfoques del **Aprendizaje Basado en Problemas (ABP)** y el **Aprendizaje Basado en Proyectos (PBL, por sus siglas en inglés)**. "
   ]
  },
  {
   "cell_type": "markdown",
   "id": "ad0e0bf3",
   "metadata": {},
   "source": [
    "Es especialmente útil para la formación de futuros docentes, ingenieros y administradores, ya que combina el desarrollo de habilidades prácticas con el pensamiento crítico y reflexivo. "
   ]
  },
  {
   "cell_type": "markdown",
   "id": "137b18e2",
   "metadata": {},
   "source": [
    "A continuación, se presenta una descripción adaptada a la enseñanza de las matemáticas en educación infantil, Licenciatura en Matemáticas, Ingeniería Agropecuaria y Administración de Empresas:\n",
    "\n",
    "---\n"
   ]
  },
  {
   "cell_type": "markdown",
   "id": "0eeba3f5",
   "metadata": {},
   "source": [
    "\n",
    "### **1. Fundamentos del ABPP**\n"
   ]
  },
  {
   "cell_type": "markdown",
   "id": "e127d644",
   "metadata": {},
   "source": [
    "El ABPP se basa en:\n",
    "- **Resolución de Problemas Reales:** Los estudiantes analizan y resuelven problemas auténticos relacionados con su área de formación, fomentando la aplicación práctica del conocimiento.\n"
   ]
  },
  {
   "cell_type": "markdown",
   "id": "5ac6ef4a",
   "metadata": {},
   "source": [
    "- **Proyectos como Herramientas Integradoras:** Los proyectos permiten desarrollar habilidades interdisciplinarias y ofrecer soluciones concretas a los problemas planteados.\n"
   ]
  },
  {
   "cell_type": "markdown",
   "id": "d343a03f",
   "metadata": {},
   "source": [
    "- **Aprendizaje Activo:** Los estudiantes son responsables de su aprendizaje y participan activamente en el proceso de investigación, diseño y solución.\n",
    "\n",
    "---\n"
   ]
  },
  {
   "cell_type": "markdown",
   "id": "3728d010",
   "metadata": {},
   "source": [
    "\n",
    "### **2. Aplicación del ABPP en Áreas Específicas**\n"
   ]
  },
  {
   "cell_type": "markdown",
   "id": "60ce4e69",
   "metadata": {},
   "source": [
    "\n",
    "#### **Educación Infantil (Licenciatura en Educación Infantil)**\n",
    "- **Enfoque:** Desarrollo del pensamiento matemático en la infancia desde contextos lúdicos, familiares y culturales.\n"
   ]
  },
  {
   "cell_type": "markdown",
   "id": "efe11bf2",
   "metadata": {},
   "source": [
    "- **Problemas típicos:** \n",
    "  - ¿Cómo enseñar los números naturales mediante actividades prácticas y juegos?\n",
    "  - ¿Qué estrategias pueden emplearse para abordar el concepto de cantidad en edades tempranas?\n"
   ]
  },
  {
   "cell_type": "markdown",
   "id": "713d8174",
   "metadata": {},
   "source": [
    "- **Proyectos:** Diseño de secuencias didácticas que usen Python, Jupyter Notebooks y materiales manipulativos para enseñar matemáticas de forma interactiva.\n"
   ]
  },
  {
   "cell_type": "markdown",
   "id": "9c58539c",
   "metadata": {},
   "source": [
    "- **Competencias desarrolladas:** \n",
    "  - Uso de herramientas tecnológicas para diseñar actividades educativas.\n",
    "  - Comprensión del desarrollo cognitivo infantil y su relación con las matemáticas.\n"
   ]
  },
  {
   "cell_type": "markdown",
   "id": "481f614a",
   "metadata": {},
   "source": [
    "\n",
    "#### **Licenciatura en Matemáticas**\n"
   ]
  },
  {
   "cell_type": "markdown",
   "id": "e3cb0c97",
   "metadata": {},
   "source": [
    "- **Enfoque:** Resolución de problemas matemáticos aplicados y profundización teórica en áreas como análisis matemático y modelado.\n",
    "- **Problemas típicos:**\n",
    "  - ¿Cómo se pueden resolver ecuaciones diferenciales aplicadas a modelos físicos o económicos?\n",
    "  - ¿Cómo modelar fenómenos naturales mediante funciones matemáticas?\n"
   ]
  },
  {
   "cell_type": "markdown",
   "id": "1e4ab50a",
   "metadata": {},
   "source": [
    "- **Proyectos:** \n",
    "  - Desarrollo de software educativo para explorar conceptos matemáticos.\n",
    "  - Aplicación de modelado matemático para resolver problemas reales en otras disciplinas.\n"
   ]
  },
  {
   "cell_type": "markdown",
   "id": "d93c7c20",
   "metadata": {},
   "source": [
    "- **Competencias desarrolladas:**\n",
    "  - Dominio de la matemática teórica y aplicada.\n",
    "  - Uso de tecnología para la enseñanza y la investigación.\n"
   ]
  },
  {
   "cell_type": "markdown",
   "id": "83ab236f",
   "metadata": {},
   "source": [
    "\n",
    "#### **Ingeniería Agropecuaria**\n",
    "- **Enfoque:** Modelado matemático y análisis de datos para mejorar la producción agrícola y la gestión de recursos.\n"
   ]
  },
  {
   "cell_type": "markdown",
   "id": "60380559",
   "metadata": {},
   "source": [
    "- **Problemas típicos:**\n",
    "  - ¿Cómo modelar el crecimiento de cultivos considerando variables climáticas?\n",
    "  - ¿Cómo optimizar el uso del agua en sistemas de riego mediante análisis matemático?\n"
   ]
  },
  {
   "cell_type": "markdown",
   "id": "df09c94c",
   "metadata": {},
   "source": [
    "- **Proyectos:** \n",
    "  - Desarrollo de modelos predictivos con Python y bibliotecas de aprendizaje automático.\n",
    "  - Implementación de proyectos que combinen matemáticas y ciencias de datos para resolver problemas agrícolas.\n"
   ]
  },
  {
   "cell_type": "markdown",
   "id": "83fd657c",
   "metadata": {},
   "source": [
    "- **Competencias desarrolladas:**\n",
    "  - Integración de matemáticas con tecnologías avanzadas.\n",
    "  - Resolución de problemas agropecuarios mediante análisis y modelado.\n"
   ]
  },
  {
   "cell_type": "markdown",
   "id": "c4519bb3",
   "metadata": {},
   "source": [
    "\n",
    "#### **Administración de Empresas**\n"
   ]
  },
  {
   "cell_type": "markdown",
   "id": "2cbf6967",
   "metadata": {},
   "source": [
    "- **Enfoque:** Uso de las matemáticas y la ciencia de datos para la toma de decisiones estratégicas.\n"
   ]
  },
  {
   "cell_type": "markdown",
   "id": "69c4438a",
   "metadata": {},
   "source": [
    "- **Problemas típicos:**\n",
    "  - ¿Cómo identificar patrones de comportamiento del consumidor usando series de tiempo?\n",
    "  - ¿Qué estrategias matemáticas pueden optimizar la asignación de recursos en una empresa?\n"
   ]
  },
  {
   "cell_type": "markdown",
   "id": "a7d60037",
   "metadata": {},
   "source": [
    "- **Proyectos:** \n",
    "  - Implementación de modelos de análisis financiero y simulaciones.\n",
    "  - Desarrollo de dashboards interactivos para la gestión de datos empresariales.\n"
   ]
  },
  {
   "cell_type": "markdown",
   "id": "e706ea5b",
   "metadata": {},
   "source": [
    "- **Competencias desarrolladas:**\n",
    "  - Habilidad para interpretar datos matemáticos en contextos de negocio.\n",
    "  - Capacidad para diseñar soluciones basadas en datos.\n",
    "\n",
    "---\n"
   ]
  },
  {
   "cell_type": "markdown",
   "id": "19be58d4",
   "metadata": {},
   "source": [
    "\n",
    "### **3. Beneficios del ABPP**\n",
    "- **Desarrollo de competencias clave:**\n",
    "  - Pensamiento crítico y creativo.\n",
    "  - Trabajo colaborativo.\n",
    "  - Comunicación efectiva.\n",
    "  - Uso de herramientas tecnológicas avanzadas.\n"
   ]
  },
  {
   "cell_type": "markdown",
   "id": "8de037b0",
   "metadata": {},
   "source": [
    "- **Adaptación al contexto laboral:** Los estudiantes aprenden a enfrentar desafíos del mundo real y a diseñar soluciones prácticas y aplicables.\n"
   ]
  },
  {
   "cell_type": "markdown",
   "id": "6a3fa7f7",
   "metadata": {},
   "source": [
    "- **Flexibilidad e interdisciplinariedad:** La metodología se adapta a diversas áreas, fomentando el aprendizaje integrado.\n",
    "\n",
    "---\n"
   ]
  },
  {
   "cell_type": "markdown",
   "id": "e36034c3",
   "metadata": {},
   "source": [
    "\n",
    "### **4. Ejemplo General de Implementación**\n"
   ]
  },
  {
   "cell_type": "markdown",
   "id": "635464dd",
   "metadata": {},
   "source": [
    "1. **Identificación del problema:** Se plantea un desafío concreto, como modelar el crecimiento poblacional de una comunidad rural (Ingeniería Agropecuaria) o diseñar una estrategia para enseñar fracciones a niños de 8 años (Educación Infantil).\n"
   ]
  },
  {
   "cell_type": "markdown",
   "id": "46042a3b",
   "metadata": {},
   "source": [
    "2. **Formación de equipos:** Los estudiantes trabajan en grupos, distribuyendo roles y tareas.\n",
    "3. **Investigación y diseño:** Los estudiantes investigan el problema, proponen soluciones y diseñan un proyecto.\n"
   ]
  },
  {
   "cell_type": "markdown",
   "id": "3240b06c",
   "metadata": {},
   "source": [
    "4. **Implementación:** Se desarrolla el proyecto, como una herramienta tecnológica o una propuesta pedagógica.\n"
   ]
  },
  {
   "cell_type": "markdown",
   "id": "eea6d837",
   "metadata": {},
   "source": [
    "5. **Evaluación:** Los estudiantes presentan sus resultados en un informe o una exposición, recibiendo retroalimentación de sus compañeros y docentes.\n",
    "\n",
    "---\n"
   ]
  },
  {
   "cell_type": "markdown",
   "id": "a5708c4e",
   "metadata": {},
   "source": [
    "\n",
    "El ABPP es una metodología versátil que conecta el conocimiento teórico con la práctica, preparando a los estudiantes para los retos de sus profesiones en la enseñanza de la matemática, la ingeniería y la administración."
   ]
  },
  {
   "cell_type": "markdown",
   "id": "ff756d47",
   "metadata": {},
   "source": [
    "# Enfoque de Teoría de Registro de Representación Semiótica (TRRS) de Raymond Duval  \n",
    "\n",
    "El enfoque de TRRS se centra en cómo los estudiantes representan y comprenden conceptos matemáticos y científicos a través de diferentes modalidades, como gráficos, símbolos y lenguaje natural. Este enfoque es útil para la enseñanza de las matemáticas en educación infantil, ingeniería agropecuaria y administración de empresas, ya que permite a los estudiantes desarrollar una comprensión más profunda y flexible de los conceptos matemáticos. Además, fomenta la capacidad de los alumnos para traducir entre diferentes representaciones, lo que es esencial para resolver problemas complejos y aplicar el conocimiento matemático en situaciones del mundo real. Esto es especialmente relevante en el contexto de la modelización de fenómenos climáticos, donde las representaciones gráficas y simbólicas pueden ayudar a los estudiantes a interpretar datos y hacer predicciones informadas. El enfoque de TRRS también puede ser implementado en el desarrollo de herramientas educativas que integren simulaciones y visualizaciones interactivas, permitiendo a los estudiantes experimentar con variables y observar resultados en tiempo real.  Esto no solo mejora la comprensión conceptual, sino que también prepara a los estudiantes para enfrentar desafíos en campos como la investigación climática y la toma de decisiones informadas en políticas ambientales."
   ]
  },
  {
   "cell_type": "markdown",
   "id": "96775931",
   "metadata": {
    "slideshow": {
     "slide_type": "slide"
    }
   },
   "source": [
    "## Título de la clase: Modelación de la precipitación en Caucasia Antioquia en el periodo de 2008 a 2025  \n",
    "\n",
    "[]()"
   ]
  },
  {
   "cell_type": "code",
   "execution_count": 3,
   "id": "28bae6cb",
   "metadata": {},
   "outputs": [],
   "source": [
    "def save_fig(nombre_archivo_imagen):\n",
    "    import os \n",
    "    import matplotlib.pyplot as plt\n",
    "    ubicacion_para_imagenes = r\"C:/Users/marco/Downloads\"\n",
    "    imagen_path = os.path.join(ubicacion_para_imagenes, nombre_archivo_imagen)\n",
    "    plt.savefig(imagen_path, bbox_inches='tight')"
   ]
  },
  {
   "cell_type": "markdown",
   "id": "10e55ccf",
   "metadata": {},
   "source": [
    "# Estructura general para todas las clases\n"
   ]
  },
  {
   "cell_type": "markdown",
   "id": "ddd73417",
   "metadata": {},
   "source": [
    "\n",
    "Dame, por favor, un diseño de clase, con el enfoque: \"Aula Invertida, STEAMS y de Aprendizaje Basado en Problemas y Proyectos (ABPP)\" sobre: **\"Modelación de la precipitación en Caucasia Antioquia y determinación de la probabilidad de precipitación extrema\"**, siguiendo la estructura:  \n",
    "\n",
    "1. Título de la clase   \n",
    "   \n",
    "2. Objetivo de aprendizaje que incluyan los indicadores del logro de estos objetivos. \n",
    "   \n",
    "3. Un mapa conceptual que resuma la clase elaborado en Graphviz de python con nodos y edges de diferentes formas, colores y rellenos y renderizado en la siguiente ubicación: `\"C:\\Users\\marco\\Descargas\"`.  No olvides el parámetro `view = True` para el método `render()` de Graphviz. Para este mapa controla las superposiciones de los nodos con: graph [overlap=false]; // Elimina superposiciones (puede aumentar el espacio)\n",
    "graph [overlap=\"scalexy\"]; // Escala el gráfico para evitar overlaps\n",
    "graph [overlap=\"compress\"]; // Comprime el grafo sin overlaps  \n",
    "   \n",
    "4. Elementos históricos y epistemológicos relevantes para la clase, pero narrados como una historieta al estilo de un cuentero antioqueño en Colombia. Incluye imágenes de los protagonistas históricos de esta clase.  \n",
    "   \n",
    "5. Contenido de la clase:  \n",
    "        \n",
    "6. Actividades de aprendizaje: que incluya pruebas de escritorio para los algoritmos en forma verbal y seudo código, diagrama de flujo, y la implementación del algoritmo en lenguaje python.  \n",
    "   \n",
    "7. Incluye una canción o un poema que ayude a interiorizar y fijar los conceptos asociados a esta clase.   \n",
    "   \n",
    "8.  Tarea o actividades de ejercitación y fijación. Incluye tareas en las que los estudiantes empiecen con la descripción geométrica del algoritmo, luego la descripción verbal y secuencial del algoritmo, después la implementación en lenguaje python editado a través de la terminal powershell de su computador y finalmente con el cálculo a mano y en su cuaderno para $n = 4$.  \n",
    "    \n",
    "9.  Evaluación incluyendo diez proyectos, un ejemplo de quiz y un ejemplo de parcial. Incluye evaluaciones en las que los estudiantes empiecen con la descripción geométrica del algoritmo, luego la descripción verbal y secuencial del algoritmo, después la implementación en lenguaje python editado a través de la terminal powershell de su computador, y finalmente con el cálculo algebraico y numérico a mano y en su cuaderno para $n = 4$. \n",
    "    \n",
    "10. Diseño de actividad de retroalimentación.   \n",
    "    \n",
    "11. Dame un vocabulario y frases del idioma inglés asociadas a esta clase.    \n",
    "     \n",
    "12. Incluye apéndice para la clase sobre desarrollo de habilidades para trabajar en equipo y de asertividad y empatía para relacionarnos. También elementos de la inteligencia emocional para presentar pruebas sin temor y sin realizar fraude en ellas.    \n",
    "     \n",
    "13. Incluye 5 referentes en didáctica de la matemática que estén de acuerdo a la propuesta didáctica de esta clase. Adiciona a estos referentes a Raymond Duval (Representaciones y cambios de representación para la adquisición de conceptos matemáticos) y a Janete Wing (Desarrollo del pensamiento computacional). Dejame todos estos referentes ordenados de acuerdo a las normas APA. Al crear la clase, introduce las citas de estos autores en el texto de la clase.\n",
    "\n",
    "\n",
    "Pero  que este diseño sea para que el estudiante pueda aprender experimentando en cuadernos Jupyter con funciones de usuario y animaciones y visualizaciones en python.   \n",
    "\n",
    "En particular utiliza para el diseño de clase a Numpy, Pandas, SymPy, Matplotlib.pyplot, Seaborn, Plotly, ipywidgets, matplotlib.animation y Jupyter Notebook.    \n",
    "\n",
    "Cada vez que utilices `matplotlib.animacion` no olvides incluir el uso de `IPython. display` para la rederización de estas animaciones a través de Jupyter Notebook. No olvides darme los diseños de clase con las ecuaciones matemáticas delimitadas con signo de dolar $ para que VS Code si me renderize estas expresiones del lenguaje latex. Cuando vallas a utilizar ipywidgets ten en cuenta la siguiente importación inicial para garantizar que la visualización interactiva si se renderize en VS Code:   \n",
    "\n",
    "import numpy as np  \n",
    "import matplotlib.pyplot as plt  \n",
    "import ipywidgets as widgets  \n",
    "from IPython.display import display, clear_output  \n",
    "from matplotlib.patches import Rectangle  \n",
    "\n",
    "# Configuración inicial para visualización estática  \n",
    "%matplotlib inline "
   ]
  },
  {
   "cell_type": "markdown",
   "id": "02c72d2e",
   "metadata": {},
   "source": [
    "# Obtención de los datos meteorológicos de Caucasia Antioquia en el periodo de 2008 a 2025."
   ]
  },
  {
   "cell_type": "markdown",
   "id": "be263d35",
   "metadata": {},
   "source": [
    "### **Claves de Datos Meteorológicos del POWER-NASA**  \n"
   ]
  },
  {
   "cell_type": "markdown",
   "id": "74fad30a",
   "metadata": {},
   "source": [
    "El **POWER (Prediction Of Worldwide Energy Resource) Data Access Viewer** de la NASA proporciona datos meteorológicos y solares clave para aplicaciones agrícolas. "
   ]
  },
  {
   "cell_type": "markdown",
   "id": "8392a132",
   "metadata": {},
   "source": [
    "\n",
    "### **1. [Datos Climáticos Esenciales** NASA POWER | DAV](https://power.larc.nasa.gov/data-access-viewer/)  \n"
   ]
  },
  {
   "cell_type": "markdown",
   "id": "0b6c7093",
   "metadata": {},
   "source": [
    "#### **Temperatura** "
   ]
  },
  {
   "cell_type": "markdown",
   "id": "900b600e",
   "metadata": {},
   "source": [
    " \n",
    "- **T2M**: Temperatura del aire a 2 metros de altura (°C).  \n",
    "  - *Aplicación:* Modelar estrés térmico en cultivos usando vectores 3D (ej: gradientes de temperatura en el suelo, aire y follaje).  \n",
    "- **T2M_MIN/T2M_MAX**: Temperaturas mínimas/máximas diarias.  \n",
    "  - *Uso:* Calcular gradientes térmicos para invernaderos elípticos.  \n"
   ]
  },
  {
   "cell_type": "markdown",
   "id": "63fd0dd4",
   "metadata": {},
   "source": [
    "\n",
    "#### **Precipitación**  \n",
    "- **PRECTOTCORR**: Precipitación corregida (mm/día).  \n",
    "  - *Aplicación:* Simular vectores de escorrentía del agua en terrenos 3D.  \n"
   ]
  },
  {
   "cell_type": "markdown",
   "id": "5ca32fa2",
   "metadata": {},
   "source": [
    "\n",
    "#### **Humedad**  \n",
    "- **RH2M**: Humedad relativa a 2 metros (%).  \n",
    "  - *Uso:* Optimizar riego en cultivos mediante modelos de evapotranspiración.  \n",
    "\n",
    "---\n"
   ]
  },
  {
   "cell_type": "markdown",
   "id": "cfae8214",
   "metadata": {},
   "source": [
    "\n",
    "### **2. Datos de Radiación Solar**  \n",
    "- **ALLSKY_SFC_SW_DWN**: Radiación solar de onda corta en superficie (MJ/m²/día).  \n",
    "  - *Aplicación:*  \n",
    "    - Diseñar estructuras elípticas para maximizar captación solar.  \n",
    "    - Calcular ángulos de incidencia solar con vectores 3D.  \n",
    "- **CLRSKY_SFC_SW_DWN**: Radiación en condiciones de cielo despejado.  \n",
    "  - *Uso:* Comparar con datos reales para predecir sombreado en terrenos.  \n",
    "\n",
    "---\n"
   ]
  },
  {
   "cell_type": "markdown",
   "id": "e5e9dae0",
   "metadata": {},
   "source": [
    "\n",
    "### **3. Viento**  \n",
    "- **WS2M**: Velocidad del viento a 2 metros (m/s).  \n",
    "  - *Aplicación:*  \n",
    "    - Modelar vectores de viento para dispersión de pesticidas o polen.  \n",
    "    - Optimizar orientación de cultivos usando campos vectoriales 3D.  \n",
    "- **WD2M**: Dirección del viento en grados (°).  \n",
    "  - *Uso:* Crear gráficos polares interactivos en Python.  \n",
    "\n",
    "---\n"
   ]
  },
  {
   "cell_type": "markdown",
   "id": "636e8e3c",
   "metadata": {},
   "source": [
    "\n",
    "### **4. Presión Atmosférica**  \n",
    "- **PS**: Presión superficial (kPa).  \n",
    "  - *Aplicación:* Estimar altitud/pendientes en modelos topográficos.  \n",
    "\n",
    "---\n"
   ]
  },
  {
   "cell_type": "markdown",
   "id": "15a91e04",
   "metadata": {},
   "source": [
    "\n",
    "# **Cómo Acceder a los Datos**  \n"
   ]
  },
  {
   "cell_type": "markdown",
   "id": "398585b6",
   "metadata": {},
   "source": [
    "1. Entra a [POWER Data Access Viewer](https://power.larc.nasa.gov/data-access-viewer/).  \n",
    "2. Selecciona:  \n",
    "   - **Parámetros:** Temperatura, radiación, etc.  \n",
    "   - **Ubicación:** Coordenadas del Bajo Cauca (ej: 7.5°N, 75.2°W).  \n",
    "   - **Fechas:** Rango deseado.  \n",
    "3. Descarga en formato CSV y procesa en Python.  \n",
    "\n",
    "---\n"
   ]
  },
  {
   "cell_type": "markdown",
   "id": "1b2d4f24",
   "metadata": {},
   "source": [
    "\n",
    "### **Conclusión**  \n",
    "Estos datos son **vectores climáticos** que, al integrarse con modelos 3D, permiten:  \n",
    "- Tomar decisiones basadas en ciencia.  \n",
    "- Diseñar sistemas agrícolas resilientes.  \n",
    "- Vincular matemáticas avanzadas con problemas reales del agro.  \n",
    "\n",
    "¿Necesitas ayuda para cruzar estos datos con tus modelos de vectores 3D? dd"
   ]
  },
  {
   "cell_type": "markdown",
   "id": "df49db72",
   "metadata": {},
   "source": [
    "# Modelación de la precipitación en Caucasia Antioquia en el periodo de 2004 a 2025"
   ]
  },
  {
   "cell_type": "code",
   "execution_count": 9,
   "id": "c2d3fdb4",
   "metadata": {},
   "outputs": [],
   "source": [
    "# Fuente de datos: https://power.larc.nasa.gov/data-access-viewer/\n",
    "import pandas as pd  \n",
    "ubicacion = \"C:/Users/marco/OneDrive - Universidad de Antioquia/Documentos/2_recursos_ensenanza/4_numerico/caucasia_20040101_20250409.csv\"\n",
    "df = pd.read_csv(ubicacion, sep=\";\", decimal=\",\")"
   ]
  },
  {
   "cell_type": "code",
   "execution_count": 10,
   "id": "412f1ace",
   "metadata": {},
   "outputs": [
    {
     "data": {
      "application/vnd.microsoft.datawrangler.viewer.v0+json": {
       "columns": [
        {
         "name": "index",
         "rawType": "int64",
         "type": "integer"
        },
        {
         "name": "YEAR",
         "rawType": "int64",
         "type": "integer"
        },
        {
         "name": "DOY",
         "rawType": "int64",
         "type": "integer"
        },
        {
         "name": "T2M",
         "rawType": "object",
         "type": "string"
        },
        {
         "name": "PRECTOTCORR",
         "rawType": "object",
         "type": "string"
        },
        {
         "name": "RH2M",
         "rawType": "object",
         "type": "string"
        },
        {
         "name": "WD2M",
         "rawType": "object",
         "type": "string"
        },
        {
         "name": "WS2M_MAX",
         "rawType": "object",
         "type": "string"
        },
        {
         "name": "GWETTOP",
         "rawType": "object",
         "type": "string"
        }
       ],
       "conversionMethod": "pd.DataFrame",
       "ref": "1f10c524-cdca-45f1-93b3-23f369e01d7c",
       "rows": [
        [
         "0",
         "2004",
         "1",
         "25.45",
         "0.0",
         "85.78",
         "324.8",
         "0.3",
         "0.79"
        ],
        [
         "1",
         "2004",
         "2",
         "26.78",
         "0.0",
         "85.16",
         "346.5",
         "0.24",
         "0.78"
        ],
        [
         "2",
         "2004",
         "3",
         "26.53",
         "0.02",
         "85.04",
         "344.5",
         "0.28",
         "0.78"
        ],
        [
         "3",
         "2004",
         "4",
         "25.3",
         "0.1",
         "87.25",
         "312.8",
         "0.38",
         "0.78"
        ],
        [
         "4",
         "2004",
         "5",
         "25.39",
         "2.34",
         "90.22",
         "251.9",
         "0.15",
         "0.79"
        ]
       ],
       "shape": {
        "columns": 8,
        "rows": 5
       }
      },
      "text/html": [
       "<div>\n",
       "<style scoped>\n",
       "    .dataframe tbody tr th:only-of-type {\n",
       "        vertical-align: middle;\n",
       "    }\n",
       "\n",
       "    .dataframe tbody tr th {\n",
       "        vertical-align: top;\n",
       "    }\n",
       "\n",
       "    .dataframe thead th {\n",
       "        text-align: right;\n",
       "    }\n",
       "</style>\n",
       "<table border=\"1\" class=\"dataframe\">\n",
       "  <thead>\n",
       "    <tr style=\"text-align: right;\">\n",
       "      <th></th>\n",
       "      <th>YEAR</th>\n",
       "      <th>DOY</th>\n",
       "      <th>T2M</th>\n",
       "      <th>PRECTOTCORR</th>\n",
       "      <th>RH2M</th>\n",
       "      <th>WD2M</th>\n",
       "      <th>WS2M_MAX</th>\n",
       "      <th>GWETTOP</th>\n",
       "    </tr>\n",
       "  </thead>\n",
       "  <tbody>\n",
       "    <tr>\n",
       "      <th>0</th>\n",
       "      <td>2004</td>\n",
       "      <td>1</td>\n",
       "      <td>25.45</td>\n",
       "      <td>0.0</td>\n",
       "      <td>85.78</td>\n",
       "      <td>324.8</td>\n",
       "      <td>0.3</td>\n",
       "      <td>0.79</td>\n",
       "    </tr>\n",
       "    <tr>\n",
       "      <th>1</th>\n",
       "      <td>2004</td>\n",
       "      <td>2</td>\n",
       "      <td>26.78</td>\n",
       "      <td>0.0</td>\n",
       "      <td>85.16</td>\n",
       "      <td>346.5</td>\n",
       "      <td>0.24</td>\n",
       "      <td>0.78</td>\n",
       "    </tr>\n",
       "    <tr>\n",
       "      <th>2</th>\n",
       "      <td>2004</td>\n",
       "      <td>3</td>\n",
       "      <td>26.53</td>\n",
       "      <td>0.02</td>\n",
       "      <td>85.04</td>\n",
       "      <td>344.5</td>\n",
       "      <td>0.28</td>\n",
       "      <td>0.78</td>\n",
       "    </tr>\n",
       "    <tr>\n",
       "      <th>3</th>\n",
       "      <td>2004</td>\n",
       "      <td>4</td>\n",
       "      <td>25.3</td>\n",
       "      <td>0.1</td>\n",
       "      <td>87.25</td>\n",
       "      <td>312.8</td>\n",
       "      <td>0.38</td>\n",
       "      <td>0.78</td>\n",
       "    </tr>\n",
       "    <tr>\n",
       "      <th>4</th>\n",
       "      <td>2004</td>\n",
       "      <td>5</td>\n",
       "      <td>25.39</td>\n",
       "      <td>2.34</td>\n",
       "      <td>90.22</td>\n",
       "      <td>251.9</td>\n",
       "      <td>0.15</td>\n",
       "      <td>0.79</td>\n",
       "    </tr>\n",
       "  </tbody>\n",
       "</table>\n",
       "</div>"
      ],
      "text/plain": [
       "   YEAR  DOY    T2M PRECTOTCORR   RH2M   WD2M WS2M_MAX GWETTOP\n",
       "0  2004    1  25.45         0.0  85.78  324.8      0.3    0.79\n",
       "1  2004    2  26.78         0.0  85.16  346.5     0.24    0.78\n",
       "2  2004    3  26.53        0.02  85.04  344.5     0.28    0.78\n",
       "3  2004    4   25.3         0.1  87.25  312.8     0.38    0.78\n",
       "4  2004    5  25.39        2.34  90.22  251.9     0.15    0.79"
      ]
     },
     "execution_count": 10,
     "metadata": {},
     "output_type": "execute_result"
    }
   ],
   "source": [
    "df.head() "
   ]
  },
  {
   "cell_type": "code",
   "execution_count": null,
   "id": "21bbbdfb",
   "metadata": {},
   "outputs": [
    {
     "data": {
      "text/plain": [
       "0          0.0\n",
       "1          0.0\n",
       "2         0.02\n",
       "3          0.1\n",
       "4         2.34\n",
       "         ...  \n",
       "7765    -999.0\n",
       "7766    -999.0\n",
       "7767    -999.0\n",
       "7768    -999.0\n",
       "7769    -999.0\n",
       "Name: PRECTOTCORR, Length: 7770, dtype: object"
      ]
     },
     "execution_count": 11,
     "metadata": {},
     "output_type": "execute_result"
    }
   ],
   "source": [
    "df.PRECTOTCORR # solo para ver la columna de precipitacion  "
   ]
  },
  {
   "cell_type": "markdown",
   "id": "c3cd65ee",
   "metadata": {},
   "source": [
    "El valor **-999.0** en los datos de precipitación diaria (u otros atributos meteorológicos) del **POWER-NASA** es un **valor de relleno estándar** (*fill value* o *missing value*) que indica **dato faltante o no disponible**.  \n",
    "\n",
    "### **Explicación detallada:**\n",
    "1. **Razón de uso**:  \n",
    "   - La NASA y otras instituciones científicas utilizan convenciones para marcar datos que no pudieron ser medidos, son inválidos o están fuera del rango de detección (ej: fallas en sensores satelitales, días sin mediciones).  \n",
    "   - **-999.0** es un valor arbitrario pero reconocido internacionalmente para este fin (no es un valor real de precipitación).\n",
    "\n",
    "2. **Contexto en precipitación (`PRECTOTCORR`)**:  \n",
    "   - La precipitación **nunca** puede ser negativa en la realidad.  \n",
    "   - Si el archivo muestra `-999.0`, significa que **no hubo registro válido** para ese día/locación.  \n",
    "\n",
    "3. **Cómo manejarlo en Python**:  \n",
    "   Debes filtrar o reemplazar estos valores antes de analizar los datos. Ejemplo:"
   ]
  },
  {
   "cell_type": "code",
   "execution_count": 10,
   "id": "0f222500",
   "metadata": {},
   "outputs": [
    {
     "name": "stdout",
     "output_type": "stream",
     "text": [
      "Precipitación promedio válida: 2.80 mm\n"
     ]
    }
   ],
   "source": [
    "import pandas as pd\n",
    "import numpy as np\n",
    "\n",
    "# Paso 1: Reemplazar -999.0 por NaN (y otros valores inválidos)\n",
    "df['PRECTOTCORR'] = df['PRECTOTCORR'].replace(-999.0, np.nan)\n",
    "\n",
    "# Paso 2: Limpiar valores corruptos (ej: \"0.00.00.020.12...\" se convierte en el primer valor válido)\n",
    "def clean_precip(value):\n",
    "    if isinstance(value, str):\n",
    "        # Separar por puntos y tomar el primer segmento numérico válido\n",
    "        parts = value.split('.')\n",
    "        for part in parts:\n",
    "            if part.replace('-', '').isdigit():  # Verificar si es número\n",
    "                return float(part)\n",
    "        return np.nan\n",
    "    return value\n",
    "\n",
    "df['PRECTOTCORR'] = df['PRECTOTCORR'].apply(clean_precip)\n",
    "\n",
    "# Paso 3: Calcular el promedio (ignorando NaN)\n",
    "promedio_lluvia = df['PRECTOTCORR'].mean(skipna=True)\n",
    "print(f\"Precipitación promedio válida: {promedio_lluvia:.2f} mm\")\n",
    "\n",
    "# Opcional: Guardar datos limpios\n",
    "df.to_csv('datos_nasa_limpios.csv', index=False)"
   ]
  },
  {
   "cell_type": "markdown",
   "id": "2142ebe9",
   "metadata": {},
   "source": [
    "\n",
    "### **Casos comunes donde aparece -999.0**:  \n",
    "- Días con **fallas en satélites** o estaciones terrestres.  \n",
    "- Zonas con **cobertura espacial limitada** (ej: océanos o áreas remotas).  \n",
    "- Variables **derivadas** (ej: modelos climáticos con incertidumbre alta).  \n"
   ]
  },
  {
   "cell_type": "markdown",
   "id": "007a641f",
   "metadata": {},
   "source": [
    "\n",
    "### **Importante**:  \n",
    "- **No confundir** con `0.0` (que sí indica ausencia de lluvia medible).  \n",
    "- Verifica siempre la **documentación oficial** del dataset. En POWER-NASA, estos detalles suelen estar en el archivo `README` o metadatos.  \n",
    "\n",
    "### **Ejemplo práctico para tu clase**:  \n",
    "Si estás modelando riego en el Bajo Cauca con vectores 3D:  \n",
    "1. Filtra los días con `-999.0`.  \n",
    "2. Usa solo datos válidos para calcular promedios mensuales o simular escorrentía.  \n",
    "\n"
   ]
  },
  {
   "cell_type": "code",
   "execution_count": 17,
   "id": "4eb8558e",
   "metadata": {},
   "outputs": [],
   "source": [
    "import pandas as pd \n",
    "import matplotlib.pyplot as plt\n",
    "\n",
    "df = pd.read_csv('datos_nasa_limpios.csv', sep=\",\", decimal=\",\")\n"
   ]
  },
  {
   "cell_type": "code",
   "execution_count": 18,
   "id": "77ea4c9a",
   "metadata": {},
   "outputs": [
    {
     "data": {
      "application/vnd.microsoft.datawrangler.viewer.v0+json": {
       "columns": [
        {
         "name": "index",
         "rawType": "int64",
         "type": "integer"
        },
        {
         "name": "YEAR",
         "rawType": "int64",
         "type": "integer"
        },
        {
         "name": "DOY",
         "rawType": "int64",
         "type": "integer"
        },
        {
         "name": "T2M",
         "rawType": "object",
         "type": "string"
        },
        {
         "name": "PRECTOTCORR",
         "rawType": "object",
         "type": "string"
        },
        {
         "name": "RH2M",
         "rawType": "object",
         "type": "string"
        },
        {
         "name": "WD2M",
         "rawType": "object",
         "type": "string"
        },
        {
         "name": "WS2M_MAX",
         "rawType": "object",
         "type": "string"
        },
        {
         "name": "GWETTOP",
         "rawType": "object",
         "type": "string"
        }
       ],
       "conversionMethod": "pd.DataFrame",
       "ref": "8f724004-7453-46df-8681-10711de30636",
       "rows": [
        [
         "0",
         "2004",
         "1",
         "25.45",
         "0.0",
         "85.78",
         "324.8",
         "0.3",
         "0.79"
        ],
        [
         "1",
         "2004",
         "2",
         "26.78",
         "0.0",
         "85.16",
         "346.5",
         "0.24",
         "0.78"
        ],
        [
         "2",
         "2004",
         "3",
         "26.53",
         "0.0",
         "85.04",
         "344.5",
         "0.28",
         "0.78"
        ],
        [
         "3",
         "2004",
         "4",
         "25.3",
         "0.0",
         "87.25",
         "312.8",
         "0.38",
         "0.78"
        ],
        [
         "4",
         "2004",
         "5",
         "25.39",
         "2.0",
         "90.22",
         "251.9",
         "0.15",
         "0.79"
        ]
       ],
       "shape": {
        "columns": 8,
        "rows": 5
       }
      },
      "text/html": [
       "<div>\n",
       "<style scoped>\n",
       "    .dataframe tbody tr th:only-of-type {\n",
       "        vertical-align: middle;\n",
       "    }\n",
       "\n",
       "    .dataframe tbody tr th {\n",
       "        vertical-align: top;\n",
       "    }\n",
       "\n",
       "    .dataframe thead th {\n",
       "        text-align: right;\n",
       "    }\n",
       "</style>\n",
       "<table border=\"1\" class=\"dataframe\">\n",
       "  <thead>\n",
       "    <tr style=\"text-align: right;\">\n",
       "      <th></th>\n",
       "      <th>YEAR</th>\n",
       "      <th>DOY</th>\n",
       "      <th>T2M</th>\n",
       "      <th>PRECTOTCORR</th>\n",
       "      <th>RH2M</th>\n",
       "      <th>WD2M</th>\n",
       "      <th>WS2M_MAX</th>\n",
       "      <th>GWETTOP</th>\n",
       "    </tr>\n",
       "  </thead>\n",
       "  <tbody>\n",
       "    <tr>\n",
       "      <th>0</th>\n",
       "      <td>2004</td>\n",
       "      <td>1</td>\n",
       "      <td>25.45</td>\n",
       "      <td>0.0</td>\n",
       "      <td>85.78</td>\n",
       "      <td>324.8</td>\n",
       "      <td>0.3</td>\n",
       "      <td>0.79</td>\n",
       "    </tr>\n",
       "    <tr>\n",
       "      <th>1</th>\n",
       "      <td>2004</td>\n",
       "      <td>2</td>\n",
       "      <td>26.78</td>\n",
       "      <td>0.0</td>\n",
       "      <td>85.16</td>\n",
       "      <td>346.5</td>\n",
       "      <td>0.24</td>\n",
       "      <td>0.78</td>\n",
       "    </tr>\n",
       "    <tr>\n",
       "      <th>2</th>\n",
       "      <td>2004</td>\n",
       "      <td>3</td>\n",
       "      <td>26.53</td>\n",
       "      <td>0.0</td>\n",
       "      <td>85.04</td>\n",
       "      <td>344.5</td>\n",
       "      <td>0.28</td>\n",
       "      <td>0.78</td>\n",
       "    </tr>\n",
       "    <tr>\n",
       "      <th>3</th>\n",
       "      <td>2004</td>\n",
       "      <td>4</td>\n",
       "      <td>25.3</td>\n",
       "      <td>0.0</td>\n",
       "      <td>87.25</td>\n",
       "      <td>312.8</td>\n",
       "      <td>0.38</td>\n",
       "      <td>0.78</td>\n",
       "    </tr>\n",
       "    <tr>\n",
       "      <th>4</th>\n",
       "      <td>2004</td>\n",
       "      <td>5</td>\n",
       "      <td>25.39</td>\n",
       "      <td>2.0</td>\n",
       "      <td>90.22</td>\n",
       "      <td>251.9</td>\n",
       "      <td>0.15</td>\n",
       "      <td>0.79</td>\n",
       "    </tr>\n",
       "  </tbody>\n",
       "</table>\n",
       "</div>"
      ],
      "text/plain": [
       "   YEAR  DOY    T2M PRECTOTCORR   RH2M   WD2M WS2M_MAX GWETTOP\n",
       "0  2004    1  25.45         0.0  85.78  324.8      0.3    0.79\n",
       "1  2004    2  26.78         0.0  85.16  346.5     0.24    0.78\n",
       "2  2004    3  26.53         0.0  85.04  344.5     0.28    0.78\n",
       "3  2004    4   25.3         0.0  87.25  312.8     0.38    0.78\n",
       "4  2004    5  25.39         2.0  90.22  251.9     0.15    0.79"
      ]
     },
     "execution_count": 18,
     "metadata": {},
     "output_type": "execute_result"
    }
   ],
   "source": [
    "df.head(5) # Muestra las primeras 5 filas del DataFrame"
   ]
  },
  {
   "cell_type": "code",
   "execution_count": 16,
   "id": "94fd83fa",
   "metadata": {},
   "outputs": [],
   "source": [
    "import matplotlib.pyplot as plt\n",
    "import numpy as np\n",
    "import pandas as pd\n",
    "\n",
    "def clean_precipitation_data(series):\n",
    "    \"\"\"Limpia los datos de precipitación convirtiendo a numérico y manejando valores inválidos\"\"\"\n",
    "    # Primero intentamos convertir directamente a numérico\n",
    "    cleaned = pd.to_numeric(series, errors='coerce')\n",
    "    \n",
    "    # Para los valores que no pudieron convertirse, intentamos separar posibles múltiples valores\n",
    "    def split_and_convert(x):\n",
    "        if pd.isna(x):\n",
    "            return np.nan\n",
    "        try:\n",
    "            # Si es convertible directamente, lo devolvemos\n",
    "            return float(x)\n",
    "        except ValueError:\n",
    "            # Si falla, intentamos separar por puntos y tomar el primer valor\n",
    "            parts = str(x).split('.')\n",
    "            if len(parts) > 0:\n",
    "                try:\n",
    "                    return float(parts[0] + '.' + parts[1]) if len(parts) > 1 else float(parts[0])\n",
    "                except:\n",
    "                    return np.nan\n",
    "            return np.nan\n",
    "    \n",
    "    # Aplicamos la conversión especial a los valores que no pudieron convertirse inicialmente\n",
    "    needs_special_convert = series[cleaned.isna() & series.notna()]\n",
    "    cleaned[needs_special_convert.index] = needs_special_convert.apply(split_and_convert)\n",
    "    \n",
    "    return cleaned\n",
    "\n",
    "def plot_precipitation_histogram(df, column='PRECTOTCORR'):\n",
    "    \"\"\"Genera un histograma mejorado para datos de precipitación\"\"\"\n",
    "    # Limpiamos los datos\n",
    "    clean_data = clean_precipitation_data(df[column])\n",
    "    \n",
    "    # Filtramos valores extremos (opcional)\n",
    "    q_low = clean_data.quantile(0.01)\n",
    "    q_high = clean_data.quantile(0.99)\n",
    "    filtered_data = clean_data[(clean_data >= q_low) & (clean_data <= q_high)]\n",
    "    \n",
    "    plt.figure(figsize=(12, 7))\n",
    "    \n",
    "    # Calculamos bins inteligentes\n",
    "    data_range = filtered_data.max() - filtered_data.min()\n",
    "    bin_width = data_range / 30  # 30 bins\n",
    "    bins = np.arange(filtered_data.min(), filtered_data.max() + bin_width, bin_width)\n",
    "    \n",
    "    # Histograma con bordes claros\n",
    "    plt.hist(filtered_data.dropna(), \n",
    "             bins=bins, \n",
    "             color='skyblue', \n",
    "             alpha=0.8, \n",
    "             edgecolor='white', \n",
    "             linewidth=0.5)\n",
    "    \n",
    "    # Configuración de ticks en el eje X\n",
    "    xticks = np.linspace(filtered_data.min(), filtered_data.max(), num=10)\n",
    "    plt.xticks(xticks, rotation=45, ha='right')\n",
    "    plt.gca().xaxis.set_major_formatter(plt.FormatStrFormatter('%.1f'))\n",
    "    \n",
    "    # Títulos y etiquetas\n",
    "    plt.title('Distribución de Precipitación Total Corregida\\n(Datos limpiados y filtrados)', \n",
    "              fontsize=14, pad=20, fontweight='bold')\n",
    "    plt.xlabel('Precipitación (mm)', fontsize=12, labelpad=10)\n",
    "    plt.ylabel('Frecuencia', fontsize=12, labelpad=10)\n",
    "    \n",
    "    # Grid y estilo\n",
    "    plt.grid(axis='y', linestyle='--', alpha=0.4)\n",
    "    plt.gca().spines['top'].set_visible(False)\n",
    "    plt.gca().spines['right'].set_visible(False)\n",
    "    \n",
    "    # Estadísticas descriptivas\n",
    "    mean_val = filtered_data.mean()\n",
    "    median_val = filtered_data.median()\n",
    "    \n",
    "    plt.axvline(mean_val, color='red', linestyle='--', linewidth=1, alpha=0.7)\n",
    "    plt.axvline(median_val, color='green', linestyle='--', linewidth=1, alpha=0.7)\n",
    "    \n",
    "    plt.text(mean_val + (filtered_data.max()-filtered_data.min())*0.02, \n",
    "             plt.ylim()[1]*0.9, \n",
    "             f'Media: {mean_val:.1f} mm', \n",
    "             color='red')\n",
    "    \n",
    "    plt.text(median_val + (filtered_data.max()-filtered_data.min())*0.02, \n",
    "             plt.ylim()[1]*0.85, \n",
    "             f'Mediana: {median_val:.1f} mm', \n",
    "             color='green')\n",
    "    \n",
    "    # Leyenda de limpieza de datos\n",
    "    original_count = len(df[column])\n",
    "    cleaned_count = len(filtered_data)\n",
    "    plt.text(0.02, 0.95, \n",
    "             f'Datos originales: {original_count}\\nDatos válidos: {cleaned_count} ({cleaned_count/original_count:.1%})',\n",
    "             transform=plt.gca().transAxes,\n",
    "             bbox=dict(facecolor='white', alpha=0.8))\n",
    "    \n",
    "    plt.tight_layout()\n",
    "    plt.show()\n",
    "\n",
    "# Ejemplo de uso:\n",
    "# plot_precipitation_histogram(df)"
   ]
  },
  {
   "cell_type": "code",
   "execution_count": 17,
   "id": "cc82da06",
   "metadata": {},
   "outputs": [
    {
     "name": "stderr",
     "output_type": "stream",
     "text": [
      "C:\\Users\\marco\\AppData\\Local\\Temp\\ipykernel_12428\\1391027245.py:29: FutureWarning: Setting an item of incompatible dtype is deprecated and will raise an error in a future version of pandas. Value '[]' has dtype incompatible with float64, please explicitly cast to a compatible dtype first.\n",
      "  cleaned[needs_special_convert.index] = needs_special_convert.apply(split_and_convert)\n"
     ]
    },
    {
     "data": {
      "image/png": "[encoded data removed]",
      "text/plain": [
       "<Figure size 1200x700 with 1 Axes>"
      ]
     },
     "metadata": {},
     "output_type": "display_data"
    }
   ],
   "source": [
    "plot_precipitation_histogram(df)"
   ]
  },
  {
   "cell_type": "markdown",
   "id": "b73a0920",
   "metadata": {},
   "source": [
    "Basado en el nuevo histograma (**histograma_precipitacion_profesional.png**), podemos analizar la normalidad del comportamiento de la precipitación en el Bajo Cauca:\n",
    "\n",
    "---\n"
   ]
  },
  {
   "cell_type": "markdown",
   "id": "2f15a91e",
   "metadata": {},
   "source": [
    "\n",
    "### **Análisis de la Distribución**\n",
    "1. **Forma de la distribución**:  \n",
    "   - El gráfico muestra una **distribución sesgada a la derecha** (cola larga hacia valores altos), lo cual es **normal en datos de precipitación**.  \n",
    "   - **Razón**: La precipitación diaria suele tener:  \n",
    "     - Muchos días con valores bajos (0–5 mm).  \n",
    "     - Pocos días con lluvias intensas (picos > 10 mm), lo que causa el sesgo.  \n"
   ]
  },
  {
   "cell_type": "markdown",
   "id": "d955dfe1",
   "metadata": {},
   "source": [
    "\n",
    "2. **Media (3.66 mm/día)**:  \n",
    "   - Valores típicos para regiones tropicales como el Bajo Cauca, donde la precipitación es frecuente pero moderada.  \n"
   ]
  },
  {
   "cell_type": "markdown",
   "id": "86913e55",
   "metadata": {},
   "source": [
    "\n",
    "3. **¿Es \"normal\" estadísticamente?**  \n",
    "   - **No es una distribución normal perfecta** (como la campana de Gauss), pero **sí es el comportamiento esperado** para datos climáticos de precipitación.  \n",
    "   - Para confirmar, puedes usar: "
   ]
  },
  {
   "cell_type": "code",
   "execution_count": 19,
   "id": "dff84602",
   "metadata": {},
   "outputs": [
    {
     "name": "stdout",
     "output_type": "stream",
     "text": [
      "Test de normalidad Shapiro-Wilk: p-value = 0.0000\n"
     ]
    },
    {
     "name": "stderr",
     "output_type": "stream",
     "text": [
      "C:\\Users\\marco\\AppData\\Local\\Temp\\ipykernel_12428\\1391027245.py:29: FutureWarning: Setting an item of incompatible dtype is deprecated and will raise an error in a future version of pandas. Value '[]' has dtype incompatible with float64, please explicitly cast to a compatible dtype first.\n",
      "  cleaned[needs_special_convert.index] = needs_special_convert.apply(split_and_convert)\n",
      "c:\\Users\\marco\\Documentos\\docencia\\analisis_numerico\\.venv\\Lib\\site-packages\\scipy\\stats\\_axis_nan_policy.py:586: UserWarning: scipy.stats.shapiro: For N > 5000, computed p-value may not be accurate. Current N is 7770.\n",
      "  res = hypotest_fun_out(*samples, **kwds)\n"
     ]
    }
   ],
   "source": [
    " \n",
    "from scipy import stats\n",
    "stat, p = stats.shapiro(clean_precipitation_data(df['PRECTOTCORR']))\n",
    "print(f\"Test de normalidad Shapiro-Wilk: p-value = {p:.4f}\")\n",
    "\n"
   ]
  },
  {
   "cell_type": "markdown",
   "id": "85ff085b",
   "metadata": {},
   "source": [
    "     - Si `p-value < 0.05`, se rechaza la normalidad (lo más probable en este caso).\n",
    "\n",
    "---\n"
   ]
  },
  {
   "cell_type": "markdown",
   "id": "08391636",
   "metadata": {},
   "source": [
    "\n",
    "### **Recomendaciones para Mejorar el Análisis**\n",
    "1. **Transformar datos** para modelos estadísticos:  \n",
    "   - Aplicar logaritmo a los valores para reducir el sesgo: "
   ]
  },
  {
   "cell_type": "code",
   "execution_count": 25,
   "id": "e9b840df",
   "metadata": {},
   "outputs": [
    {
     "name": "stderr",
     "output_type": "stream",
     "text": [
      "C:\\Users\\marco\\AppData\\Local\\Temp\\ipykernel_12428\\1391027245.py:29: FutureWarning: Setting an item of incompatible dtype is deprecated and will raise an error in a future version of pandas. Value '[]' has dtype incompatible with float64, please explicitly cast to a compatible dtype first.\n",
      "  cleaned[needs_special_convert.index] = needs_special_convert.apply(split_and_convert)\n"
     ]
    },
    {
     "data": {
      "application/vnd.microsoft.datawrangler.viewer.v0+json": {
       "columns": [
        {
         "name": "index",
         "rawType": "int64",
         "type": "integer"
        },
        {
         "name": "PRECTOTCORR",
         "rawType": "object",
         "type": "unknown"
        }
       ],
       "conversionMethod": "pd.DataFrame",
       "ref": "462c4187-bc45-4702-9c78-ddf60079fd66",
       "rows": [
        [
         "0",
         "0.0"
        ],
        [
         "1",
         "0.0"
        ],
        [
         "2",
         "0.02"
        ],
        [
         "3",
         "0.1"
        ],
        [
         "4",
         "2.34"
        ]
       ],
       "shape": {
        "columns": 1,
        "rows": 5
       }
      },
      "text/html": [
       "<div>\n",
       "<style scoped>\n",
       "    .dataframe tbody tr th:only-of-type {\n",
       "        vertical-align: middle;\n",
       "    }\n",
       "\n",
       "    .dataframe tbody tr th {\n",
       "        vertical-align: top;\n",
       "    }\n",
       "\n",
       "    .dataframe thead th {\n",
       "        text-align: right;\n",
       "    }\n",
       "</style>\n",
       "<table border=\"1\" class=\"dataframe\">\n",
       "  <thead>\n",
       "    <tr style=\"text-align: right;\">\n",
       "      <th></th>\n",
       "      <th>PRECTOTCORR</th>\n",
       "    </tr>\n",
       "  </thead>\n",
       "  <tbody>\n",
       "    <tr>\n",
       "      <th>0</th>\n",
       "      <td>0.0</td>\n",
       "    </tr>\n",
       "    <tr>\n",
       "      <th>1</th>\n",
       "      <td>0.0</td>\n",
       "    </tr>\n",
       "    <tr>\n",
       "      <th>2</th>\n",
       "      <td>0.02</td>\n",
       "    </tr>\n",
       "    <tr>\n",
       "      <th>3</th>\n",
       "      <td>0.1</td>\n",
       "    </tr>\n",
       "    <tr>\n",
       "      <th>4</th>\n",
       "      <td>2.34</td>\n",
       "    </tr>\n",
       "  </tbody>\n",
       "</table>\n",
       "</div>"
      ],
      "text/plain": [
       "  PRECTOTCORR\n",
       "0         0.0\n",
       "1         0.0\n",
       "2        0.02\n",
       "3         0.1\n",
       "4        2.34"
      ]
     },
     "execution_count": 25,
     "metadata": {},
     "output_type": "execute_result"
    }
   ],
   "source": [
    "df_clean = pd.DataFrame(clean_precipitation_data(df['PRECTOTCORR']), columns=['PRECTOTCORR'])\n",
    "df_clean.head() "
   ]
  },
  {
   "cell_type": "code",
   "execution_count": 26,
   "id": "1d5288d3",
   "metadata": {},
   "outputs": [
    {
     "data": {
      "text/plain": [
       "Index(['PRECTOTCORR'], dtype='object')"
      ]
     },
     "execution_count": 26,
     "metadata": {},
     "output_type": "execute_result"
    }
   ],
   "source": [
    "df_clean.keys() "
   ]
  },
  {
   "cell_type": "code",
   "execution_count": 28,
   "id": "4d7ea7dc",
   "metadata": {},
   "outputs": [
    {
     "data": {
      "image/png": "[encoded data removed]",
      "text/plain": [
       "<Figure size 1000x600 with 1 Axes>"
      ]
     },
     "metadata": {},
     "output_type": "display_data"
    }
   ],
   "source": [
    "\n",
    "import numpy as np\n",
    "import matplotlib.pyplot as plt\n",
    "\n",
    "# Versión corregida y mejorada\n",
    "def safe_log_transform(df, column):\n",
    "    \"\"\"\n",
    "    Aplica una transformación logarítmica segura (log1p) a una columna,\n",
    "    manejando ceros y valores no positivos.\n",
    "    \n",
    "    Args:\n",
    "        df: DataFrame de pandas\n",
    "        column: Nombre de la columna a transformar\n",
    "        \n",
    "    Returns:\n",
    "        Serie con los valores transformados\n",
    "    \"\"\"\n",
    "    # Asegurarnos de que los datos sean numéricos\n",
    "    data = pd.to_numeric(df[column], errors='coerce')\n",
    "    \n",
    "    # Reemplazar ceros o negativos con un valor pequeño (para evitar -inf)\n",
    "    # Usamos np.nextafter(0, 1) que es el número más pequeño mayor que 0\n",
    "    min_positive = np.nextafter(0, 1)\n",
    "    data = np.where(data <= 0, min_positive, data)\n",
    "    \n",
    "    # Aplicar log1p (log(1+x)) que es seguro para valores cercanos a 0\n",
    "    return np.log1p(data)\n",
    "\n",
    "# Uso correcto:\n",
    "df_clean['PRECTOTCORR_log'] = safe_log_transform(df_clean, 'PRECTOTCORR')\n",
    "\n",
    "# Crear el histograma con mejoras visuales\n",
    "plt.figure(figsize=(10, 6))\n",
    "plt.hist(df_clean['PRECTOTCORR_log'].dropna(), \n",
    "         bins=30, \n",
    "         color='teal', \n",
    "         alpha=0.7,\n",
    "         edgecolor='white')\n",
    "\n",
    "# Añadir títulos y etiquetas\n",
    "plt.title('Distribución de Precipitación (Transformación logarítmica)')\n",
    "plt.xlabel('log(1 + Precipitación [mm])')\n",
    "plt.ylabel('Frecuencia')\n",
    "\n",
    "# Mostrar estadísticas en el gráfico\n",
    "mean_log = df_clean['PRECTOTCORR_log'].mean()\n",
    "plt.axvline(mean_log, color='red', linestyle='--', linewidth=1)\n",
    "plt.text(mean_log + 0.1, plt.ylim()[1]*0.9, \n",
    "         f'Media: {mean_log:.2f}', \n",
    "         color='red')\n",
    "\n",
    "plt.grid(axis='y', alpha=0.3)\n",
    "plt.tight_layout()\n",
    "plt.show()\n",
    "\n"
   ]
  },
  {
   "cell_type": "markdown",
   "id": "ce65fbc7",
   "metadata": {},
   "source": [
    "\n",
    "### Explicación de las mejoras:\n",
    "\n",
    "1. **Función segura para transformación logarítmica**:\n",
    "   - `safe_log_transform` maneja correctamente la conversión a numérico\n",
    "   - Usa `np.nextafter(0, 1)` para evitar log(0) que sería -∞\n",
    "   - Aplica `log1p` que es más estable numéricamente para valores cercanos a 0\n",
    "\n",
    "2. **Manejo de errores**:\n",
    "   - `pd.to_numeric` con `errors='coerce'` convierte valores no numéricos a NaN\n",
    "   - `np.where` reemplaza ceros y negativos antes de aplicar el logaritmo\n",
    "\n",
    "3. **Visualización mejorada**:\n",
    "   - Tamaño de figura adecuado\n",
    "   - Color y transparencia para mejor visualización\n",
    "   - Bordes blancos en las barras del histograma\n",
    "   - Línea vertical para la media\n",
    "   - Grid sutil para mejor lectura\n",
    "\n",
    "4. **Etiquetas claras**:\n",
    "   - Títulos descriptivos\n",
    "   - Unidades claramente especificadas\n",
    "   - Notación matemática correcta para la transformación\n",
    "\n",
    "Si aún encuentras problemas, verifica que `df_clean['PRECTOTCORR']` sea realmente una columna de pandas y no un valor individual. El error original sugiere que podrías estar trabajando con un valor float en lugar de una serie.\n"
   ]
  },
  {
   "cell_type": "markdown",
   "id": "560c153a",
   "metadata": {},
   "source": [
    "\n",
    "2. **Segmentar por temporadas**:  \n",
    "   - La precipitación en el Bajo Cauca varía entre secas y lluviosas. Filtra por meses:  \n",
    "     ```python\n",
    "     df_clean['DATE'] = pd.to_datetime(df_clean['DATE'])  # Si hay columna de fecha\n",
    "     df_rainy_season = df_clean[df_clean['DATE'].dt.month.isin([4, 5, 6, 7, 8, 9, 10, 11])]\n",
    "     ```\n"
   ]
  },
  {
   "cell_type": "markdown",
   "id": "4cc22713",
   "metadata": {},
   "source": [
    "\n",
    "3. **Comparar con distribuciones teóricas**:  \n",
    "   - Usar una **distribución gamma** (común en climatología):  \n"
   ]
  },
  {
   "cell_type": "code",
   "execution_count": null,
   "id": "3721ac85",
   "metadata": {},
   "outputs": [],
   "source": []
  },
  {
   "cell_type": "code",
   "execution_count": null,
   "id": "0c3534fb",
   "metadata": {},
   "outputs": [],
   "source": []
  },
  {
   "cell_type": "markdown",
   "id": "54d8b73b",
   "metadata": {},
   "source": [
    "# Una actividad de aprendizaje más \n"
   ]
  },
  {
   "cell_type": "markdown",
   "id": "bdbd8f1c",
   "metadata": {},
   "source": [
    "\n",
    "## La campana de Gauss y su relación con la modelación estadística de la variable de precipitación medida en milímetros, en Caucasia - Antioquia. \n"
   ]
  },
  {
   "cell_type": "markdown",
   "id": "2a1375a9",
   "metadata": {},
   "source": [
    "\n",
    "La **campana de Gauss**, también conocida como la **distribución normal**, es una de las funciones más importantes en estadística y modelación de datos. Su ecuación general es:  \n",
    "\n",
    "$$\n",
    "f(x) = \\frac{1}{\\sigma \\sqrt{2\\pi}} e^{-\\frac{(x - \\mu)^2}{2\\sigma^2}}\n",
    "$$\n",
    "\n",
    "donde:  \n",
    "- $ \\mu $ es la media (el valor central de la distribución).  \n",
    "- $\\sigma$ es la desviación estándar (mide la dispersión de los datos).  \n",
    "- $ x $ representa la variable aleatoria.  \n",
    "\n",
    "---\n"
   ]
  },
  {
   "cell_type": "markdown",
   "id": "82a0f462",
   "metadata": {},
   "source": [
    "\n",
    "### **Relación con la Precipitación en Caucasia, Antioquia**  \n",
    "\n",
    "En **Caucasia, Antioquia**, la precipitación medida en milímetros varía estacionalmente y depende de factores como el ciclo del agua, los vientos alisios y los efectos de La Niña o El Niño. En muchos estudios climatológicos, se ha encontrado que la **distribución de la precipitación en periodos específicos (mensuales o anuales)** se puede aproximar a una **distribución normal** después de aplicar transformaciones o segmentar los datos según condiciones meteorológicas.  \n"
   ]
  },
  {
   "cell_type": "markdown",
   "id": "ceecdb9b",
   "metadata": {},
   "source": [
    "\n",
    "### **Justificación de su uso en la modelación estadística:**  \n",
    "1. **Variabilidad Natural**: La precipitación es un fenómeno que puede presentar una distribución aproximadamente normal si se analiza en periodos específicos (por ejemplo, la lluvia mensual en un año sin eventos extremos).  \n",
    "2. **Predicción y Probabilidades**: Con una distribución normal ajustada, se pueden calcular probabilidades de eventos como \"¿Cuál es la probabilidad de que en abril llueva más de 100 mm?\"  \n",
    "3. **Modelos Climatológicos**: Al analizar registros históricos de precipitación en Caucasia, se puede estimar la media ($\\mu$) y la desviación estándar ($\\sigma$), lo que ayuda a modelar tendencias y evaluar riesgos de sequías o lluvias intensas.  \n",
    "4. **Comparación con otras distribuciones**: Si los datos presentan asimetrías, pueden requerir ajustes con distribuciones más flexibles como **Weibull**, **Gamma** o **Log-normal**, que son comunes en modelación hidrológica.  \n"
   ]
  },
  {
   "cell_type": "markdown",
   "id": "f5c055d0",
   "metadata": {},
   "source": [
    "\n",
    "### **Ejemplo de análisis en Python**  \n",
    "Si se cuenta con datos históricos de precipitación de Caucasia, se pueden visualizar y ajustar a una distribución normal con `NumPy`, `Matplotlib` y `Scipy`:  \n"
   ]
  },
  {
   "cell_type": "code",
   "execution_count": 12,
   "id": "a432bab0",
   "metadata": {},
   "outputs": [
    {
     "data": {
      "text/plain": [
       "array([203.92175361, 173.34119126, 211.19267999, 253.34911788,\n",
       "       168.72317347, 168.72396415, 256.05488919, 216.95965656,\n",
       "       157.39011357, 206.1296917 , 157.68180391, 157.57045507,\n",
       "       191.652903  ,  87.85642342,  96.92795719, 152.92023259,\n",
       "       131.22205324, 195.13415154, 136.26956052, 111.98345374,\n",
       "       250.58564471, 169.12661337, 183.25215834, 111.38412735,\n",
       "       153.78252799, 185.34203192, 124.56814931, 198.09361656,\n",
       "       151.07324069, 165.95202901, 151.02180956, 269.20571737,\n",
       "       179.34997366, 129.06064166, 219.61376297, 121.20416982,\n",
       "       190.05887074,  85.62228683, 116.03455989, 189.48083712,\n",
       "       215.56455049, 188.25309642, 174.43037872, 165.49884602,\n",
       "       108.79438094, 145.33230292, 157.81563679, 230.91100641,\n",
       "       196.54865683,  95.09198612, 195.60788397, 161.45443738,\n",
       "       147.39943647, 209.45833007, 229.652937  , 224.85045054,\n",
       "       139.58328408, 165.10833198, 195.95364686, 226.98225332,\n",
       "       156.92296871, 171.05866368, 126.71890765, 122.39068898,\n",
       "       219.13124361, 245.31651978, 176.53199254, 228.33014436,\n",
       "       197.41639097, 148.93103262, 197.40481236, 254.07184104,\n",
       "       178.27461796, 255.35323846,  53.83307579, 219.58282461,\n",
       "       184.19218681, 165.599806  , 184.419199  ,  84.27868107,\n",
       "       169.42060188, 197.19854144, 251.17537719, 155.04010629,\n",
       "       141.06294808, 155.83538078, 224.08576599, 195.83265344,\n",
       "       154.48674859, 204.71895958, 184.67525478, 226.64994274,\n",
       "       146.189123  , 164.21979102, 161.11607135, 109.5171201 ,\n",
       "       194.26115254, 192.57242191, 180.24626407, 168.70228366,\n",
       "       111.83574506, 159.74172126, 163.49486888, 141.36232671,\n",
       "       172.23248013, 199.45908926, 270.838713  , 188.40766747,\n",
       "       192.40362682, 176.4146847 ,  87.59197827, 178.72309176,\n",
       "       182.90068691, 298.62974014, 170.73589594, 194.52252001,\n",
       "       178.32828117, 123.71646571, 235.03834675, 216.21309485,\n",
       "       218.09609857, 136.20390018, 247.55857401, 112.48685282,\n",
       "       208.26303764, 285.49234294, 132.29577058, 152.72710134,\n",
       "       184.79920974, 155.7526125 , 105.32004916, 183.30199287,\n",
       "       128.83945315, 202.80821146, 135.72052888, 254.64484095,\n",
       "       142.27852144, 164.48951738, 219.17898919, 120.72157452,\n",
       "       190.95447045, 242.95199505, 102.58360742, 188.89196663,\n",
       "       192.51595537, 217.6525895 , 120.42845376, 116.40680951,\n",
       "       205.1367058 , 194.30278186, 192.06373567, 196.68494577,\n",
       "       147.25000941, 191.18533806, 194.11437031, 145.59683571,\n",
       "       269.85570046, 202.81979347, 122.62682357, 211.61962179,\n",
       "       133.05933076, 217.90599452, 235.79796308, 140.47593955,\n",
       "       226.39619438, 199.87952944, 219.59041731, 271.34955004,\n",
       "       168.18210833, 143.70006632, 137.16098507, 140.71057668,\n",
       "       176.28678167, 196.42987911, 193.3254289 , 219.83714527,\n",
       "       180.62617111, 250.00220116, 167.25412691, 311.00334706,\n",
       "       210.13213947, 138.71929208, 128.42581729, 203.23587152,\n",
       "       169.23803226, 214.3862638 , 202.791124  , 176.49255957,\n",
       "       139.21841454, 107.04495766, 158.49583991, 221.24416593,\n",
       "       190.31075472, 120.00522042, 188.34039339, 198.55688501,\n",
       "       137.43342587, 187.4034011 , 182.80333188, 124.95455046,\n",
       "       197.23103927, 207.00738279, 232.15974787, 230.75110683,\n",
       "       113.65144324, 134.83434608, 204.80409847, 204.7439314 ,\n",
       "       204.80469657, 365.54754859, 207.49408699, 234.68884123,\n",
       "       225.94472493, 211.37100266, 164.81663318, 216.55195766,\n",
       "       142.78073767, 168.5948159 , 156.62489154, 183.94305855,\n",
       "       291.47395657,  90.07250832, 213.05029077, 102.33160364,\n",
       "       157.27176134, 232.44386075, 183.09572572, 128.09581149,\n",
       "       145.55097336, 212.72942759, 144.82554302, 190.42464567,\n",
       "       182.19473981, 148.61892726, 283.25234734, 210.52954011,\n",
       "        82.46913303, 188.9796398 , 148.12836386, 221.0531894 ,\n",
       "       141.83220124, 174.47429298, 204.32018736, 221.69477015,\n",
       "       122.19372504, 163.89042048, 157.12663381, 148.53566416,\n",
       "       265.02427621, 199.5039192 , 119.27582876, 224.20423137,\n",
       "       282.20304245, 229.72352695, 106.82714244, 156.67928705,\n",
       "       241.01444094, 145.91863854, 201.37434366, 217.30637601,\n",
       "       135.35902849, 177.13325885,  23.9005649 , 130.66549119,\n",
       "       167.83631783, 119.90676196, 258.6169284 , 111.12439124,\n",
       "       158.80745752, 186.2964662 , 249.4117216 , 110.8488788 ,\n",
       "       236.0179663 , 180.49282422, 132.73054337, 202.25490332,\n",
       "       189.58671494, 151.0935552 , 183.36166841, 161.44329718,\n",
       "       185.46699535, 211.88821328, 256.38256987, 120.38680558,\n",
       "       282.72688732,  85.98745157, 172.69002982, 208.33335666,\n",
       "       193.53256835, 150.01079113, 169.97683242, 156.25707499,\n",
       "       151.61619331, 220.91683699, 197.1938658 , 146.62947389,\n",
       "       223.32473   , 194.79954493, 219.14743964, 210.32292503,\n",
       "       140.07560027, 153.0216811 , 215.98966002, 209.39543198,\n",
       "       178.99337923, 185.65048678, 241.53234138, 151.50992191,\n",
       "       206.34820988, 170.26240186, 169.51647325, 232.91709319,\n",
       "       219.75205137, 219.17862407, 242.87185935, 181.01154501,\n",
       "       212.8428551 , 165.057553  , 195.61185154, 173.7323105 ,\n",
       "       184.67132567, 208.66276235, 140.5944919 , 280.7693712 ,\n",
       "       131.55020291, 121.52467641, 235.77461967, 218.12647534,\n",
       "       210.05761039, 210.26111973, 179.41019542, 136.78822947,\n",
       "       183.65074752, 147.38789197, 226.96176636, 172.91771651,\n",
       "       140.244055  , 164.52205787, 199.88677884, 152.85102554,\n",
       "       140.40186575, 191.73597611, 191.79759006, 155.58561667,\n",
       "       157.3147952 , 191.17552498, 110.26025811, 112.21654463,\n",
       "       145.3997263 , 169.72038517, 194.97330836, 251.05315541,\n",
       "       221.30488745, 172.2973604 , 179.08417943, 131.7181858 ,\n",
       "       179.10840737, 166.09819995, 195.54212587, 140.16055776,\n",
       "       205.01172813, 253.81670605, 174.76211125, 199.34643654,\n",
       "       213.23733464, 160.67722207, 190.79229392, 180.60645002,\n",
       "       184.70408091, 142.77184881, 181.18040999, 203.98359771,\n",
       "       249.88707615, 226.19848298, 283.69726715, 143.04454137,\n",
       "       222.01096186, 188.829751  , 285.46090926, 141.07235458,\n",
       "       139.55899608, 151.1332502 ,  77.71318192, 154.67963816,\n",
       "       143.44017102, 187.24296476, 196.45896779, 270.35638762,\n",
       "       225.77241205, 152.21631994, 136.73234943, 203.6908273 ,\n",
       "       116.41756875, 268.20305416, 236.80183621, 157.40450059,\n",
       "        97.49544108, 245.20249354, 174.48376105, 239.61323358,\n",
       "       103.21236395, 151.13409889, 180.25253658, 182.2625854 ,\n",
       "       158.32484689, 209.99645274, 128.58340012, 173.143004  ,\n",
       "       185.79343762, 204.77537425, 214.27137253, 125.83723686,\n",
       "       106.11706154, 241.53291574, 196.00424282, 143.9528884 ,\n",
       "       254.70347914, 185.57089039, 236.79495238, 183.25169006,\n",
       "       279.24562006, 264.53721497, 168.00988661, 226.790857  ,\n",
       "       211.08130573, 245.91329581, 133.52928614, 213.04023831,\n",
       "       230.97372329,  95.29910633, 123.01427003,  81.79057832,\n",
       "       167.02536685, 214.55683504, 252.35351563, 183.56840463,\n",
       "       258.43412467, 113.53431377,  97.96510172, 177.32482282,\n",
       "       198.49659202, 178.42542093,  80.43198846, 175.7079789 ,\n",
       "       117.17674886, 212.25142995, 197.65537153, 134.73538949,\n",
       "       155.25216926, 128.98827679, 176.98137468, 225.99965416,\n",
       "       132.52743361, 204.27488019, 154.4627931 , 141.8152444 ,\n",
       "       174.84541786, 130.14272975, 153.33624945, 122.31020069,\n",
       "       274.6211624 , 181.69829266, 146.30121954, 190.3052725 ,\n",
       "       174.59028113, 169.35810409, 209.57826827, 216.48157132,\n",
       "       154.45106473, 152.26859353, 166.75351027,  69.13947671,\n",
       "       107.02839844, 245.82866472, 259.22164508, 168.00642433,\n",
       "       207.76698334, 194.98980744, 328.27889974, 233.91872773,\n",
       "       173.83948879, 133.98117238, 102.63354522, 189.7988087 ,\n",
       "       143.57414811, 111.50426135, 148.86104989, 127.91264815,\n",
       "       261.25274115, 222.45977069, 179.61603759, 251.27410973,\n",
       "       183.7260577 , 138.52055286, 253.35365556, 205.9539077 ,\n",
       "       130.04622521, 170.83328926, 137.83022492, 113.40436496,\n",
       "       224.60471069, 271.95750541, 112.64498564, 207.11259844,\n",
       "       148.66505387, 156.54004152, 151.47030861, 138.39020453,\n",
       "       182.3368016 , 139.98144239, 193.02520073, 177.58053265,\n",
       "       168.49226206, 136.29173404, 152.22269272, 216.37964144,\n",
       "       204.12417176, 132.92093941, 184.78384383, 216.18680386,\n",
       "        99.60144166, 206.16822687, 148.08803977, 207.48003188,\n",
       "       143.24143902,  93.07687803, 101.61755619, 182.31577103,\n",
       "       192.50823568, 136.44811133, 210.75461281,  99.9811938 ,\n",
       "       176.8175969 , 121.67745982, 148.60757305, 182.28272001,\n",
       "       138.56249233, 161.47980499, 228.46306169, 152.21688756,\n",
       "       220.24693212, 125.59331788, 205.51536921, 249.42594477,\n",
       "        60.96560087, 141.6215245 , 207.79179365, 170.22133421,\n",
       "       197.87438526, 150.91207341, 184.17016416, 172.50258434,\n",
       "       236.24038409, 192.25290781, 196.25894421, 160.16400531,\n",
       "       156.51688425, 159.16799767, 198.99681518, 159.7253874 ,\n",
       "       193.95555711, 279.95130246, 221.95336572, 164.29870669,\n",
       "       237.85046249, 160.34709004,  81.84392239, 131.45056327,\n",
       "        89.90266108, 163.07111061, 180.88702914, 260.73722096,\n",
       "       195.74482232, 169.44811853, 219.94417279,  73.51172352,\n",
       "       191.34719712, 217.12486774, 108.7912864 , 235.08319472,\n",
       "       196.30198698, 159.99973407, 210.47477467, 289.35656803,\n",
       "       188.75867884, 191.95430344, 157.87717908, 139.07149517,\n",
       "       219.98897292, 138.77100294, 183.44662998, 156.99601736,\n",
       "       203.06766841, 196.06916699, 229.96792372, 155.43761023,\n",
       "       167.00282312, 132.86273945, 158.60283659, 198.17079175,\n",
       "       216.45657178, 135.58851799, 221.88022111, 245.28751928,\n",
       "       199.91102494, 270.38648633, 142.73431217, 120.05742949,\n",
       "        94.33683281, 252.04949404, 211.51425001, 177.32304225,\n",
       "       193.48328904, 125.79644748, 297.78741534, 186.22329212,\n",
       "       185.26845331, 214.95292061, 203.1654046 , 190.78225461,\n",
       "       141.93075023, 202.70591608, 270.63829975, 244.79542942,\n",
       "       256.72786794, 155.37985302, 132.34063186, 173.94210193,\n",
       "       182.68371178, 232.69626353,  98.49090343, 253.66314339,\n",
       "       172.3903396 , 159.44140767, 131.25705329, 100.30210268,\n",
       "       219.64389532, 183.5309933 , 117.87548307, 117.62900634,\n",
       "       163.82860888, 260.38007666, 167.49808052, 107.60863538,\n",
       "       168.16501403, 166.86563288,  50.11793928, 177.38515923,\n",
       "       168.87819303, 213.52929853, 269.04572553, 234.25537182,\n",
       "       167.05032066, 126.70971224, 303.93300812, 182.85195978,\n",
       "       180.6708347 , 178.8381358 , 189.53976208, 173.04760256,\n",
       "       152.37243775, 153.66327339, 178.42260251, 153.82866302,\n",
       "       145.66934711, 185.12567977, 167.72029721, 252.43230233,\n",
       "        52.32929403, 232.56696999, 240.01146287,  80.14552641,\n",
       "       163.49616547, 162.11140789, 112.21423678, 142.54034833,\n",
       "       126.51466728, 264.38934456, 225.06227141, 241.23809337,\n",
       "       214.7557266 , 125.6248667 , 154.73910398, 203.56827887,\n",
       "       121.14232472, 214.3380044 , 168.42592882, 161.94862991,\n",
       "       214.23983207, 201.39572108, 162.61586945, 235.83332333,\n",
       "       127.93599014, 209.66345883, 208.56375658, 165.09224348,\n",
       "       195.70656635, 119.74637016, 224.50114125, 171.09511311,\n",
       "       154.82565933, 230.52028432, 146.07880786, 112.16850397,\n",
       "       105.032739  , 209.18543926, 118.33452238, 264.5108878 ,\n",
       "        79.73427972, 261.7013387 , 190.16260122, 175.34229653,\n",
       "       153.75669678, 199.22239527, 178.18751273, 233.13501864,\n",
       "       185.50120356, 187.23853283, 162.48843586, 177.25749876,\n",
       "       194.82373319,  97.63829021, 115.07139007, 215.79559877,\n",
       "       188.2288795 , 171.13936252, 180.88777822, 196.73953493,\n",
       "       154.0051738 , 142.51684442, 189.43190749, 132.88156703,\n",
       "       199.66145272,  98.00357362, 229.56413549, 202.76029475,\n",
       "       192.330392  , 227.32639779, 260.20924925, 228.85206233,\n",
       "        91.34349702, 118.37557328, 149.9087373 , 181.25654498,\n",
       "       204.93045843, 145.04817796, 188.99468738, 143.62075798,\n",
       "       150.54930261, 112.25520158, 135.53708687, 114.90286939,\n",
       "       133.00194414, 230.74338892, 134.27694951, 306.77552024,\n",
       "       203.75819011, 188.90170772, 138.66148931, 213.72692379,\n",
       "       152.27728229, 185.87599267, 303.29367136, 175.37375523,\n",
       "       235.34900339, 146.13502337, 178.3149543 , 265.28175861,\n",
       "       149.8052665 , 267.28752255, 214.08533321, 152.91160007,\n",
       "       210.45675671, 226.83822229, 209.94636778, 104.37797749,\n",
       "       144.98107361, 168.07950251, 176.41528605, 209.89156822,\n",
       "       188.5580802 , 115.68981568, 198.3103285 , 209.40580949,\n",
       "       206.95950797, 232.05039974, 220.16169096, 202.11411262,\n",
       "       176.62081934, 100.00812144, 200.69041343, 190.00223901,\n",
       "       193.0792368 , 118.51178859, 127.93631701, 230.71984142,\n",
       "       178.09502379, 212.82107359, 181.36381299, 181.43305568,\n",
       "       225.1877481 , 155.14728589, 184.62917662, 157.7368221 ,\n",
       "       159.07466169, 165.11027053, 190.69796244, 156.94346638,\n",
       "       240.47721501, 136.91571233, 171.00026162, 158.82255223,\n",
       "       249.68645491, 189.46607804, 229.69363302, 108.45541243,\n",
       "       192.8611408 , 222.84461912, 183.96279692, 231.31353486,\n",
       "       155.08738824, 247.87417272, 290.71493363, 162.52569493,\n",
       "       158.54459857, 249.99499642, 256.07219454, 154.81906109,\n",
       "       159.76380289, 166.42925324, 115.25126339, 135.75772226,\n",
       "       131.64058067, 143.02286926, 178.32957582, 191.27978152,\n",
       "       254.67210373, 131.9192694 , 227.40496671, 169.69429726,\n",
       "       177.61782774, 212.49930674, 125.92970744, 198.41685338,\n",
       "       188.01633835, 203.71645287, 193.92636189, 298.24725474,\n",
       "       149.28644236, 154.42718665, 149.98955225, 153.24822194,\n",
       "       149.30343595, 237.26303614, 248.41148458, 152.51285849,\n",
       "       139.9137556 , 202.7033732 , 153.40493819, 210.48199634,\n",
       "       189.77277268, 107.00176342, 254.5278505 , 266.48946874,\n",
       "       150.48809667, 161.32829287, 193.76727722, 196.10743901,\n",
       "       211.71549217, 276.81145059, 171.47822152, 141.5540047 ,\n",
       "       113.57198598, 144.79840928, 178.40460499, 266.42590671,\n",
       "       155.07183984, 190.77762775, 179.20907333, 237.23302005,\n",
       "       301.69706563, 154.4333599 , 156.42859645, 230.28678784,\n",
       "       212.83989414, 268.93742481, 208.12198141, 162.69649291,\n",
       "       208.44593665, 233.39516444, 219.51442185, 204.43031734,\n",
       "       231.37105305, 236.31327564, 246.56477701, 211.24186819,\n",
       "       171.95159325, 187.06573114, 238.10547183, 140.65637809,\n",
       "       197.75530656, 161.0568028 , 181.38435067, 241.5702417 ,\n",
       "       189.20333112, 182.23638416, 114.50932825, 215.93957174,\n",
       "       211.08651816, 284.18234747, 165.1774002 , 190.55427978,\n",
       "       192.01031821, 255.97014995, 175.41056716, 193.43767668,\n",
       "       209.27629591, 188.98709537, 158.49975712, 189.34737406,\n",
       "       231.70610507, 130.56302318, 186.40381951, 146.28218155,\n",
       "       237.55344565, 106.64331867, 153.08232384, 198.1665239 ,\n",
       "       255.39563725, 176.83346743, 153.26159079, 270.59652446,\n",
       "       110.26365056,  74.10550513, 201.19109591, 155.82106856,\n",
       "       130.81742753, 214.1144465 , 191.74144238, 152.83397314,\n",
       "       118.34054016, 222.01754493, 211.31368873, 175.2236904 ,\n",
       "       268.93403773, 128.46471765, 106.53070777, 146.67770735,\n",
       "       177.80457745, 191.71922788, 168.38207145, 196.9549879 ,\n",
       "       119.72586133, 249.53170333, 176.04359925, 233.80896725,\n",
       "       196.50565268, 201.99723503, 207.43999222, 201.56164425,\n",
       "       210.95352812, 244.01198585, 189.46445953, 214.14562097,\n",
       "       175.67832896, 249.3560451 , 147.42494673, 266.73329125,\n",
       "       178.0659931 , 111.09387108, 186.16950862, 147.20055218,\n",
       "       220.48539332, 148.56962916, 158.51180586,  88.9997184 ,\n",
       "       158.21692766,  63.26597163, 103.71924002, 216.62156984,\n",
       "       217.84413564, 200.49003618, 133.43042895, 177.70222109,\n",
       "       179.82650172, 124.21315657, 252.40366221, 222.25376791,\n",
       "       169.35836539, 181.29482201, 190.03571603,  81.67004874,\n",
       "       168.09593726, 147.15563862, 131.76198032, 166.46220989,\n",
       "       266.57658313, 210.8629922 , 152.49201985, 207.57558675])"
      ]
     },
     "execution_count": 12,
     "metadata": {},
     "output_type": "execute_result"
    }
   ],
   "source": [
    "# 1. Empezamos generando los datos\n",
    "import numpy as np\n",
    "import matplotlib.pyplot as plt\n",
    "import seaborn as sns\n",
    "from scipy.stats import norm\n",
    "\n",
    "# Simulación de datos de precipitación (en mm)\n",
    "np.random.seed(42)\n",
    "precipitacion = np.random.normal(loc=180, scale=48.16, size=1000)  # Media 120 mm, desviación estándar 30 mm\n",
    "precipitacion "
   ]
  },
  {
   "cell_type": "code",
   "execution_count": 13,
   "id": "ff85e156",
   "metadata": {},
   "outputs": [
    {
     "data": {
      "application/vnd.microsoft.datawrangler.viewer.v0+json": {
       "columns": [
        {
         "name": "index",
         "rawType": "int64",
         "type": "integer"
        },
        {
         "name": "precipitacion",
         "rawType": "float64",
         "type": "float"
        }
       ],
       "conversionMethod": "pd.DataFrame",
       "ref": "1ffeb77d-ff5a-4ac6-ac72-01c82cd276b1",
       "rows": [
        [
         "0",
         "203.92175360902095"
        ],
        [
         "1",
         "173.34119125559576"
        ],
        [
         "2",
         "211.19267999492934"
        ],
        [
         "3",
         "253.3491178846105"
        ],
        [
         "4",
         "168.72317347332415"
        ]
       ],
       "shape": {
        "columns": 1,
        "rows": 5
       }
      },
      "text/html": [
       "<div>\n",
       "<style scoped>\n",
       "    .dataframe tbody tr th:only-of-type {\n",
       "        vertical-align: middle;\n",
       "    }\n",
       "\n",
       "    .dataframe tbody tr th {\n",
       "        vertical-align: top;\n",
       "    }\n",
       "\n",
       "    .dataframe thead th {\n",
       "        text-align: right;\n",
       "    }\n",
       "</style>\n",
       "<table border=\"1\" class=\"dataframe\">\n",
       "  <thead>\n",
       "    <tr style=\"text-align: right;\">\n",
       "      <th></th>\n",
       "      <th>precipitacion</th>\n",
       "    </tr>\n",
       "  </thead>\n",
       "  <tbody>\n",
       "    <tr>\n",
       "      <th>0</th>\n",
       "      <td>203.921754</td>\n",
       "    </tr>\n",
       "    <tr>\n",
       "      <th>1</th>\n",
       "      <td>173.341191</td>\n",
       "    </tr>\n",
       "    <tr>\n",
       "      <th>2</th>\n",
       "      <td>211.192680</td>\n",
       "    </tr>\n",
       "    <tr>\n",
       "      <th>3</th>\n",
       "      <td>253.349118</td>\n",
       "    </tr>\n",
       "    <tr>\n",
       "      <th>4</th>\n",
       "      <td>168.723173</td>\n",
       "    </tr>\n",
       "  </tbody>\n",
       "</table>\n",
       "</div>"
      ],
      "text/plain": [
       "   precipitacion\n",
       "0     203.921754\n",
       "1     173.341191\n",
       "2     211.192680\n",
       "3     253.349118\n",
       "4     168.723173"
      ]
     },
     "execution_count": 13,
     "metadata": {},
     "output_type": "execute_result"
    }
   ],
   "source": [
    "import pandas as pd \n",
    "precipitacion_df = pd.DataFrame(precipitacion, columns=['precipitacion'])\n",
    "precipitacion_df.head()  # Muestra las primeras filas del DataFrame"
   ]
  },
  {
   "cell_type": "markdown",
   "id": "ef168490",
   "metadata": {},
   "source": [
    "Para mejorar el gráfico y que la métrica del eje horizontal coincida con los extremos de las barras del histograma, puedes usar el parámetro `binrange` en `sns.histplot()` para definir explícitamente el rango de los bins. Además, ajustaremos los límites del eje x con `plt.xlim()` para que coincidan con los extremos de las barras. Aquí está el código mejorado:\n"
   ]
  },
  {
   "cell_type": "code",
   "execution_count": 14,
   "id": "f9a9e777",
   "metadata": {},
   "outputs": [
    {
     "data": {
      "image/png": "[encoded data removed]",
      "text/plain": [
       "<Figure size 640x480 with 1 Axes>"
      ]
     },
     "metadata": {},
     "output_type": "display_data"
    }
   ],
   "source": [
    "\n",
    "import seaborn as sns\n",
    "import matplotlib.pyplot as plt\n",
    "import numpy as np\n",
    "\n",
    "# Asumiendo que 'precipitacion' es tu serie de datos\n",
    "# Calculamos el rango de los datos para definir los bins\n",
    "min_val = np.min(precipitacion)\n",
    "max_val = np.max(precipitacion)\n",
    "bin_width = (max_val - min_val) / 30  # 30 bins\n",
    "\n",
    "# Creamos el histograma con bins explícitos\n",
    "sns.histplot(precipitacion, bins=30, kde=False, stat=\"density\", \n",
    "             color=\"blue\", label=\"Datos Observados\",\n",
    "             binrange=(min_val, max_val))\n",
    "\n",
    "# Ajustamos los límites del eje x para que coincidan con los extremos de las barras\n",
    "plt.xlim(min_val - bin_width/2, max_val + bin_width/2)\n",
    "\n",
    "# Añadimos título y etiquetas (opcional)\n",
    "plt.title(\"Histograma de Precipitación\")\n",
    "plt.xlabel(\"Precipitación\")\n",
    "plt.ylabel(\"Densidad\")\n",
    "\n",
    "# Mostramos la leyenda\n",
    "plt.legend()\n",
    "plt.show()\n",
    "\n"
   ]
  },
  {
   "cell_type": "markdown",
   "id": "949390e0",
   "metadata": {},
   "source": [
    "\n",
    "### Mejoras realizadas:\n",
    "1. **`binrange`**: Define explícitamente el rango de los bins para que empiece y termine en los valores mínimo y máximo de tus datos.\n",
    "2. **Ajuste de límites**: Con `plt.xlim()` extendemos ligeramente los límites para que las barras de los extremos sean visibles completamente.\n",
    "3. **Cálculo de ancho de bin**: Usamos el ancho de bin (`bin_width`) para ajustar los límites del eje x de manera proporcional.\n",
    "\n",
    "Si prefieres que los bins estén centrados en los ticks del eje x, puedes usar `binedges` explícitamente:\n"
   ]
  },
  {
   "cell_type": "code",
   "execution_count": 11,
   "id": "3b424d38",
   "metadata": {},
   "outputs": [
    {
     "data": {
      "image/png": "[encoded data removed]",
      "text/plain": [
       "<Figure size 1200x700 with 1 Axes>"
      ]
     },
     "metadata": {},
     "output_type": "display_data"
    }
   ],
   "source": [
    "\n",
    "plt.figure(figsize=(12, 7))\n",
    "bins = np.linspace(min_val, max_val, 31)  # 30 bins → 31 bordes\n",
    "sns.histplot(precipitacion, bins=bins, kde=False, stat=\"density\", \n",
    "             color=\"blue\", label=\"Datos Observados\")\n",
    "plt.xticks(bins, rotation = 45)  # Opcional: mostrar todos los bordes como ticks\n",
    "\n",
    "plt.show() \n"
   ]
  },
  {
   "cell_type": "markdown",
   "id": "13dc8217",
   "metadata": {},
   "source": [
    "\n",
    "Esto asegurará una correspondencia exacta entre los bordes de las barras y las marcas del eje x."
   ]
  },
  {
   "cell_type": "code",
   "execution_count": null,
   "id": "03fe2cea",
   "metadata": {},
   "outputs": [],
   "source": [
    "\n",
    "# Curva de la distribución normal\n",
    "x = np.linspace(min(precipitacion), max(precipitacion), 100)\n",
    "pdf = norm.pdf(x, np.mean(precipitacion), np.std(precipitacion))\n",
    "plt.plot(x, pdf, 'r-', label=\"Distribución Normal Ajustada\")\n"
   ]
  },
  {
   "cell_type": "code",
   "execution_count": null,
   "id": "3aea61be",
   "metadata": {},
   "outputs": [],
   "source": [
    "\n",
    "plt.xlabel(\"Precipitación (mm)\")\n",
    "plt.ylabel(\"Densidad\")\n",
    "plt.title(\"Ajuste de Distribución Normal a la Precipitación en Caucasia\")\n",
    "plt.legend()\n",
    "plt.grid(alpha = 0.3)\n",
    "save_fig('Ajuste_precipitacion_normal_caucasia')\n",
    "plt.show()\n",
    "\n"
   ]
  },
  {
   "cell_type": "markdown",
   "id": "33f6b035",
   "metadata": {},
   "source": [
    "\n",
    "---\n",
    "\n",
    "### **Conclusión**  \n",
    "Si bien la campana de Gauss es útil para modelar la precipitación en **Caucasia, Antioquia**, hay que considerar posibles **asimetrías** y eventos extremos (lluvias torrenciales o sequías). Un buen análisis incluiría pruebas estadísticas (Shapiro-Wilk, Kolmogorov-Smirnov) para verificar la normalidad y, si es necesario, emplear modelos más adecuados.  \n"
   ]
  },
  {
   "cell_type": "code",
   "execution_count": null,
   "id": "25405297",
   "metadata": {},
   "outputs": [],
   "source": []
  },
  {
   "cell_type": "markdown",
   "id": "239427f7",
   "metadata": {},
   "source": [
    "# Calendario académico para los diferentes programas de pregrado de los campus regionalizados, correspondiente al primer periodo académico del año 2025, así:\n",
    "\n",
    "* Límite evaluación del 40% 06 de abril de 2025\n",
    "* Terminación de clases 08 de junio de 2025\n",
    "* Exámenes finales 09 al 15 de junio de 2025\n",
    "* Habilitación y validación 16 al 22 de junio de 2025\n",
    "* Terminación oficial 23 de junio de 2025"
   ]
  },
  {
   "cell_type": "markdown",
   "id": "8d41fe58",
   "metadata": {
    "slideshow": {
     "slide_type": "slide"
    }
   },
   "source": [
    "# Horario de clases del profesor Marco\n",
    "\n",
    "* Lunes 8-12: Cálculo Vectorial\n",
    "* Martes 8-12 M: Análisis Numérico. \n",
    "* Miércoles 10 a 11 M: Machine Learning.\n",
    "* Miércoles 3 a 4 PM: Coasesoría a proyecto de grado: Arima (Janis).\n",
    "* Jueves 2 a 6 PM: Práctica V: Desarrollo del pensamiento matemático en la infancia. \n",
    "* Viernes 8 - 12 M: Fundamentos de la Lógica. \n",
    "* Sábados 8-12 Asesorías y espacio para retroalimentación y apoyo al trabajo independiente. "
   ]
  },
  {
   "cell_type": "markdown",
   "id": "ae114e14",
   "metadata": {
    "slideshow": {
     "slide_type": "slide"
    }
   },
   "source": [
    "\n",
    "\n",
    "# Coordinador de los cursos de la Facultad de Educación para regiones:    \n",
    "\n",
    "Andrés Vélez: regioneducacion.fedu@udea.edu.co  \n",
    "Coordinador Regiones  \n",
    "Facultad de Educación  \n",
    "Universidad de Antioquia  "
   ]
  },
  {
   "cell_type": "markdown",
   "id": "b1db4b6c",
   "metadata": {
    "slideshow": {
     "slide_type": "slide"
    }
   },
   "source": [
    "## Monitor Manuel San Juan Serrano\n",
    "\n",
    "Contactar escribiendo al correo: manuel.serrano1@udea.edu.co"
   ]
  },
  {
   "cell_type": "markdown",
   "id": "39559692",
   "metadata": {
    "slideshow": {
     "slide_type": "slide"
    }
   },
   "source": [
    "Martes y jueves de 8 - 12  \n",
    "Miércoles 10 - 12 y de 2 a 4 PM  \n",
    "Sábado: 8 - 12"
   ]
  },
  {
   "cell_type": "markdown",
   "id": "10bce0d0",
   "metadata": {
    "slideshow": {
     "slide_type": "slide"
    }
   },
   "source": [
    "## Referentes "
   ]
  },
  {
   "cell_type": "markdown",
   "id": "1db3c468",
   "metadata": {
    "slideshow": {
     "slide_type": "slide"
    }
   },
   "source": [
    "* [CALCULO I DE UNA VARIABLE Ron Larson-Bruce Edwards. Mc Graw Hill. 9º Edición](https://www.academia.edu/42139251/CALCULO_I_DE_UNA_VARIABLE_Ron_Larson_Bruce_Edwards_Mc_Graw_Hill_9o_Edici%C3%B3n)   \n",
    "  \n",
    "\n",
    "* [Grajales Vanegas, L. M., Restrepo Estrada, C. E., Restrepo Ochoa, S. I., & Ruíz De Villalba, F. (2015). Matemáticas I para las ciencias económicas.](https://bibliotecadigital.udea.edu.co/handle/10495/3010)\n",
    "  \n",
    "* R. Duval y Semiosis y pensamiento humano, 2.ª ed. Cali, Colombia: Programa Editorial Universidad del Valle, 2017. [En línea]. Disponible en: https://programaeditorial.univalle.edu.co/gpd-semiosis-y-pensamiento-humano-9789587655278-63324cdb0f6b3.html\n",
    "\n",
    "* [Aylwin, C. U. (2011). Lógica, conjuntos y números. Universidad de los Andes, Consejo de Publicaciones, Colección: Ciencias Básicas, Serie: Matemáticas.](chrome-extension://efaidnbmnnnibpcajpcglclefindmkaj/https://www.u-cursos.cl/ciencias/2011/1/MC110/1/material_docente/bajar?id_material=574722)\n",
    "  \n",
    "* [Chollet, F. (2021). Deep learning with Python. Simon and Schuster.](chrome-extension://efaidnbmnnnibpcajpcglclefindmkaj/https://tanthiamhuat.wordpress.com/wp-content/uploads/2018/03/deeplearningwithpython.pdf)  \n",
    "  \n",
    "* [Watson, S., Stewart, J., & Redlin, L. (2009). Precálculo. Matemáticas para el cálculo.](https://github.com/marco-canas/calculo/blob/main/referents/1_precalculo_stewart/stewart_precalculo.pdf)  \n",
    "\n",
    "* [Purcell, E. J., Varberg, D., & Rigdon, S. E. (2007). Cálculo diferencial e integral. Pearson Educación.](https://github.com/marco-canas/calculo/blob/main/referents/purcell/purcell_calculo.pdf)\n",
    "\n",
    "  \n",
    "\n",
    "* [stewart cálculo](https://udeaeduco-my.sharepoint.com/:b:/g/personal/marco_canas_udea_edu_co/EZgXZjAp8QxPqOAim2hs6LcBNPLGjSHf-xwYnUVYkwa04w?e=RZdTCy)  \n",
    "\n",
    "\n",
    "\n",
    "\n",
    "\n",
    "* [Recomendación de la UNESCO sobre ciencia abierta](https://unesdoc.unesco.org/ark:/48223/pf0000379949_spa)\n",
    "\n",
    "* [chatGPT](https://openai.com/blog/chatgpt)  \n",
    "\n",
    "* [Géron, A. (2017). Hands-on machine learning with scikit-learn and tensorflow: Concepts. Tools, and Techniques to build intelligent systems.](chrome-extension://efaidnbmnnnibpcajpcglclefindmkaj/http://14.139.161.31/OddSem-0822-1122/Hands-On_Machine_Learning_with_Scikit-Learn-Keras-and-TensorFlow-2nd-Edition-Aurelien-Geron.pdf)   \n"
   ]
  },
  {
   "cell_type": "markdown",
   "id": "df925560",
   "metadata": {},
   "source": [
    "\n",
    "* [McKinney, W. (2012). Python for data analysis: Data wrangling with Pandas, NumPy, and IPython. \" O'Reilly Media, Inc.\".](https://wesmckinney.com/book/) "
   ]
  },
  {
   "cell_type": "markdown",
   "id": "8e65d6f9",
   "metadata": {},
   "source": [
    "# Como estudiante, encuentro que...   \n",
    "\n",
    "F: Mis Fortalezas son:     \n",
    "O: Mis Oportunidades son:    \n",
    "D: Mis Debilidades son:    \n",
    "A: Lo que Amenazas mi aprendizaje es:  "
   ]
  },
  {
   "cell_type": "markdown",
   "id": "6b9e56a8",
   "metadata": {
    "slideshow": {
     "slide_type": "slide"
    }
   },
   "source": [
    "### [Evaluamos al profesor Marco Cañas Aquí](https://forms.office.com/Pages/ResponsePage.aspx?id=IefhmYRxjkmK_7KtTlPBwkanXIs1i1FEujpsZgO6dXpUREJPV1kxUk1JV1ozTFJIQVNIQjY5WEY3US4u)"
   ]
  },
  {
   "cell_type": "markdown",
   "id": "10f43536",
   "metadata": {
    "slideshow": {
     "slide_type": "slide"
    }
   },
   "source": [
    "### Continue su aprendizaje en la siguiente clase a través del siguiente [vínculo]()"
   ]
  },
  {
   "cell_type": "markdown",
   "id": "53cc9115",
   "metadata": {
    "slideshow": {
     "slide_type": "slide"
    }
   },
   "source": [
    "## Agradecimientos  \n",
    "\n",
    "Doy gracias a Dios por la vida de mi Hijo Joseph Cañas Osorio y la madurez que ha alcanzado. Este hijo me enorgullece y me hace falta abrazarlo cada día. \n",
    "\n",
    "Y a mi esposa Yasmira Emperatriz Barboza Mogollón por su apoyo, orientación y acompañamiento. "
   ]
  }
 ],
 "metadata": {
  "celltoolbar": "Slideshow",
  "kernelspec": {
   "display_name": ".venv",
   "language": "python",
   "name": "python3"
  },
  "language_info": {
   "codemirror_mode": {
    "name": "ipython",
    "version": 3
   },
   "file_extension": ".py",
   "mimetype": "text/x-python",
   "name": "python",
   "nbconvert_exporter": "python",
   "pygments_lexer": "ipython3",
   "version": "3.13.3"
  },
  "rise": {
   "enable_chalkboard": true,
   "theme": "sky",
   "transition": "zoom"
  }
 },
 "nbformat": 4,
 "nbformat_minor": 5
}
