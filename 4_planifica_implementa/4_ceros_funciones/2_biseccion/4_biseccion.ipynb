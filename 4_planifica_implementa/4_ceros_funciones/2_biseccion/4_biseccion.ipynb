{
 "cells": [
  {
   "cell_type": "markdown",
   "id": "dc06dec7",
   "metadata": {
    "slideshow": {
     "slide_type": "slide"
    }
   },
   "source": [
    "<table align=\"left\">\n",
    "  <td>\n",
    "    <a href=\"https://colab.research.google.com/github/marco-canas/analisis_numerico/blob/main/4_planifica_implementa/4_ceros_funciones/2_biseccion/4_biseccion.ipynb\" target=\"_parent\"><img src=\"https://colab.research.google.com/assets/colab-badge.svg\" alt=\"Open In Colab\"/></a>\n",
    "  </td>\n",
    "  <td>\n",
    "    <a target=\"_blank\" href=\"https://kaggle.com/kernels/welcome?src=https://github.com/marco-canas/analisis_numerico/blob/main/4_planifica_implementa/4_ceros_funciones/2_biseccion/4_biseccion.ipynb\"><img src=\"https://kaggle.com/static/images/open-in-kaggle.svg\" /></a>\n",
    "  </td>\n",
    "</table>"
   ]
  },
  {
   "cell_type": "markdown",
   "id": "e0c5b198",
   "metadata": {
    "slideshow": {
     "slide_type": "slide"
    }
   },
   "source": [
    "<img src = ''>"
   ]
  },
  {
   "cell_type": "markdown",
   "id": "41e82203",
   "metadata": {
    "slideshow": {
     "slide_type": "slide"
    }
   },
   "source": [
    "### [Vínculo al programa del curso:  ]()\n",
    "\n"
   ]
  },
  {
   "cell_type": "code",
   "execution_count": 2,
   "id": "7604880f",
   "metadata": {
    "slideshow": {
     "slide_type": "slide"
    }
   },
   "outputs": [],
   "source": [
    "import pandas as pd\n",
    "import numpy as np\n",
    "\n",
    "# Cargar la lista de estudiantes desde el archivo CSV\n",
    "path = 'C:/Users/marco/Documentos/docencia/groups_list/numerico.xlsx'\n",
    "df = pd.read_excel(path)\n"
   ]
  },
  {
   "cell_type": "markdown",
   "id": "d7598d0a-d9b7-4ae0-b029-a0ed6ed1130b",
   "metadata": {},
   "source": [
    "\n",
    "# Principios de mi labor docente"
   ]
  },
  {
   "cell_type": "markdown",
   "id": "4f9d8cf9",
   "metadata": {
    "slideshow": {
     "slide_type": "slide"
    }
   },
   "source": [
    "## Modelo general de clase: [aula invertida](https://www3.gobiernodecanarias.org/medusa/ecoescuela/pedagotic/aprendizaje-invertido-flipped-classroom/)"
   ]
  },
  {
   "cell_type": "markdown",
   "id": "eb6ed03a",
   "metadata": {},
   "source": [
    "<img src = 'https://resources.maneuveringthemiddle.com/wp-content/uploads/2020/07/04212706/1-5.png' width = 200>  \n",
    "\n"
   ]
  },
  {
   "cell_type": "markdown",
   "id": "34319cce-a71b-4f64-aab8-b53e521efa40",
   "metadata": {},
   "source": [
    "# Metodología de Aprendizaje Basado en Problemas y Proyectos (ABPP) \n"
   ]
  },
  {
   "cell_type": "markdown",
   "id": "c4f73d81",
   "metadata": {},
   "source": [
    "\n",
    "<img src = 'https://www.unir.net/wp-content/uploads/2020/07/aprendizaje-problemas2-1-1-1-1.jpeg' width = 200>"
   ]
  },
  {
   "cell_type": "markdown",
   "id": "841a985c-bd9b-4dd3-8e4c-893983980af2",
   "metadata": {},
   "source": [
    "# Desarrollo del pensamiento computacional con Lenguajes Python, R; y con archivos Markdown y R-Markdown orientado a la formación en ciencia de datos \n",
    "\n"
   ]
  },
  {
   "cell_type": "markdown",
   "id": "3d0eba94",
   "metadata": {},
   "source": [
    "\n",
    "<img src = 'https://i.ytimg.com/vi/mcG_wcR4e6M/maxresdefault.jpg' width = 200>"
   ]
  },
  {
   "cell_type": "markdown",
   "id": "65aa0404-f7ae-495e-864c-1aec01b4255e",
   "metadata": {},
   "source": [
    "# Principio de fomento a la ciencia abierta, enseñar en el acceso a los datos públicos y el uso de software de código abierto  \n"
   ]
  },
  {
   "cell_type": "markdown",
   "id": "18ae9b87",
   "metadata": {},
   "source": [
    "\n",
    "<img src = 'https://unesdoc.unesco.org/in/rest/Thumb/image?id=p%3A%3Ausmarcdef_0000379949_spa&author=UNESCO&title=Recomendaci%C3%B3n+de+la+UNESCO+sobre+la+Ciencia+Abierta&year=2021&publisher=UNESCO&TypeOfDocument=UnescoPhysicalDocument&mat=PGD&ct=true&size=512&isPhysical=1' width = 200>"
   ]
  },
  {
   "cell_type": "markdown",
   "id": "d9559f85",
   "metadata": {},
   "source": [
    "El enfoque STEAMS en educación preescolar, primaria y secundaria es una extensión del enfoque STEM (Ciencia, Tecnología, Ingeniería y Matemáticas) y su variante STEAM, que incorpora el Arte. "
   ]
  },
  {
   "cell_type": "markdown",
   "id": "72e1cfd2",
   "metadata": {},
   "source": [
    "El acrónimo STEAMS incluye:\n"
   ]
  },
  {
   "cell_type": "markdown",
   "id": "03182fd1",
   "metadata": {},
   "source": [
    "\n",
    "1. **Science (Ciencia):** Fomenta la curiosidad por el mundo natural y el desarrollo de habilidades científicas, como la observación, experimentación y análisis.\n"
   ]
  },
  {
   "cell_type": "markdown",
   "id": "1306d0fa",
   "metadata": {},
   "source": [
    "\n",
    "2. **Technology (Tecnología):** Integra herramientas tecnológicas para potenciar el aprendizaje y la resolución de problemas, promoviendo la alfabetización digital desde edades tempranas.\n"
   ]
  },
  {
   "cell_type": "markdown",
   "id": "3b1a53e8",
   "metadata": {},
   "source": [
    "\n",
    "3. **Engineering (Ingeniería):** Introduce el pensamiento lógico y la resolución de problemas estructurados, fomentando habilidades como el diseño y la construcción de soluciones.\n"
   ]
  },
  {
   "cell_type": "markdown",
   "id": "0196de87",
   "metadata": {},
   "source": [
    "\n",
    "4. **Arts (Arte):** Añade creatividad y pensamiento crítico, permitiendo a los estudiantes expresarse y explorar el aprendizaje a través de formas artísticas (plásticas, música, teatro).\n"
   ]
  },
  {
   "cell_type": "markdown",
   "id": "8bcc485a",
   "metadata": {},
   "source": [
    "\n",
    "5. **Mathematics (Matemáticas):** Refuerza las habilidades numéricas y el razonamiento lógico, fundamentales en la resolución de problemas y comprensión de conceptos abstractos.\n"
   ]
  },
  {
   "cell_type": "markdown",
   "id": "907935f4",
   "metadata": {},
   "source": [
    "\n",
    "6. **Social Sciences (Ciencias Sociales):** Incorpora la comprensión del entorno social, político, cultural y económico, promoviendo el desarrollo de la conciencia crítica sobre el mundo y su historia, además de habilidades de empatía y ciudadanía.\n"
   ]
  },
  {
   "cell_type": "markdown",
   "id": "39967d63",
   "metadata": {},
   "source": [
    "\n",
    "El enfoque STEAMS pretende desarrollar un aprendizaje **interdisciplinario** que integre estas áreas para fomentar un pensamiento más holístico y práctico. "
   ]
  },
  {
   "cell_type": "markdown",
   "id": "5145f077",
   "metadata": {},
   "source": [
    "Se busca que los estudiantes no solo aprendan conocimientos técnicos, sino también cómo aplicarlos creativa y críticamente en situaciones reales, promoviendo habilidades como el trabajo en equipo, la comunicación y la innovación. "
   ]
  },
  {
   "cell_type": "markdown",
   "id": "9d556584",
   "metadata": {},
   "source": [
    "En educación preescolar, primaria, secundaria y superior, se adapta a las diferentes etapas de desarrollo cognitivo y emocional de los estudiantes, promoviendo el aprendizaje activo y contextualizado.  \n"
   ]
  },
  {
   "cell_type": "markdown",
   "id": "0130ec1b",
   "metadata": {},
   "source": [
    "\n",
    "<img src = 'https://www.campuseducacion.com/blog/wp-content/uploads/2023/03/foto01-1.jpg' width = 200>"
   ]
  },
  {
   "cell_type": "markdown",
   "id": "84ec2fa0",
   "metadata": {},
   "source": [
    "# Y el enfoque de TRRS de Duval "
   ]
  },
  {
   "cell_type": "markdown",
   "id": "96775931",
   "metadata": {
    "slideshow": {
     "slide_type": "slide"
    }
   },
   "source": [
    "## Título de la clase: El método de bisección  \n",
    "\n",
    "[]()"
   ]
  },
  {
   "cell_type": "code",
   "execution_count": 1,
   "id": "28bae6cb",
   "metadata": {},
   "outputs": [],
   "source": [
    "def save_fig(nombre_archivo_imagen):\n",
    "    import os \n",
    "    import matplotlib.pyplot as plt \n",
    "    ubicacion_para_imagenes = r\"C:/Users/marco/Downloads\"\n",
    "    imagen_path = os.path.join(ubicacion_para_imagenes, nombre_archivo_imagen)\n",
    "    plt.savefig(imagen_path, bbox_inches='tight')"
   ]
  },
  {
   "cell_type": "markdown",
   "id": "10e55ccf",
   "metadata": {},
   "source": [
    "# Estructura general para todas las clases\n",
    "\n",
    "Dame, por favor, un diseño de clase, con el enfoque: \"Aula Invertida, STEAMS y De aprendizaje basado en problemas y proyectos(ABPP)\" sobre: \"El método de de la bisección para solución de ecuaciones no lineales para ingeniería agropecuaria\", siguiendo la estructura:  \n",
    "\n",
    "1. Título de la clase   \n",
    "   \n",
    "2. Objetivos de aprendizaje que incluyan los indicadores del logro de estos objetivos.\n",
    "   \n",
    "3. Un mapa conceptual que resuma la clase elaborado en Graphviz de Python con nodos y edges de diferentes formas, colores y rellenos y renderizado en la siguiente ubicación: `\"C:/Users/marco/Downloads\"`. No olvides el parámetro `view = True` para el método `render()` de Graphviz. Para este mapa controla las superposiciones de los nodos con: graph [overlap=false]; // Elimina superposiciones (puede aumentar el espacio) \n",
    "graph [overlap=\"scalexy\"]; // Escala el gráfico para evitar overlaps\n",
    "graph [overlap=\"compress\"]; // Comprime el grafo sin overlaps  \n",
    "   \n",
    "4. Dame elementos históricos y epistemológicos asociados a esta clase, pero contados como un cuento al estilo de un cuentero antioqueño en Colombia. Incluye imágenes de los protagonistas históricos de esta clase.   \n",
    "   \n",
    "5. Contenido de la clase. Que el contenido parta de una situación real para llegar a una constitución del modelo matemático que represente tal situación real.    \n",
    "   \n",
    "\n",
    "6. Deducción de una función de usuario de Python, que permita determinar el número de rectángulos $n$ necesarios para una precisión de la suma de Riemann dada $\\epsilon = 0.0001$.    \n",
    "   \n",
    "7. Actividades de aprendizaje: que incluya pruebas de escritorio para los algoritmos en forma verbal y seudo código, diagrama de flujo, y la implementación del algoritmo en lenguaje Python.   \n",
    "   \n",
    "8. Incluye una canción o un poema que ayude a interiorizar y fijar los conceptos asociados a esta clase.   \n",
    "   \n",
    "9.  Tarea o actividades de ejercitación y fijación.  \n",
    "    \n",
    "10. Evaluación incluyendo diez proyectos, un ejemplo de quiz y un ejemplo de parcial.  \n",
    "    \n",
    "11. Diseño de actividad de retroalimentación.   \n",
    "    \n",
    "12. Dame un vocabulario y frases del idioma inglés asociadas a esta clase.  \n",
    "\n",
    "13.  Incluye apéndice para la clase sobre desarrollo de habilidades para trabajar en equipo y de asertividad y empatía para relacionarnos. También elementos de la inteligencia emocional para presentar pruebas sin temor y sin realizar fraude en ellas. Y Actividades para desarrollar la habilidad de la Tolerancia    \n",
    "     \n",
    "14. Incluye 5 referentes en didáctica de la matemática que estén de acuerdo a la propuesta didáctica de esta clase. Adiciona a estos referentes a Raymond Duval (Representaciones y cambios de representación para la adquisición de conceptos matemáticos) y a Jeannette Wing (Desarrollo del pensamiento computacional). Déjame todos estos referentes ordenados de acuerdo a las normas APA. Incluye un referente en didáctica de la matemática que fundamente el uso del Enfoque de Aula Invertida, uno que fundamente el enfoque STEAMS y finalmente otro que fundamente el enfoque de Aprendizaje Basado en Problemas y Proyectos (ABPP)\n",
    "  \n",
    "\n",
    "Pero  que este diseño sea para que el estudiante pueda aprender experimentando en cuadernos Jupyter con funciones de usuario y animaciones y visualizaciones en Python.    \n",
    "\n",
    "En particular utiliza para el diseño de clase a Numpy, Pandas, SymPy, Matplotlib.pyplot, Seaborn, Plotly, ipywidgets, matplotlib.animation y Jupyter Notebook.    \n",
    "\n",
    "Cada vez que utilices `matplotlib.animacion` no olvides incluir el uso de `IPython. display` para la renderización de estas animaciones a través de Jupyter Notebook.    \n",
    "\n",
    "No olvides darme los diseños de clase con las ecuaciones matemáticas delimitadas con signo de dólar $ para que VS Code si me renderice estas expresiones del lenguaje latex. Cuando vallas a utilizar ipywidgets ten en cuenta la siguiente importación inicial para garantizar que la visualización interactiva si se renderice en VS Code:    \n",
    " \n",
    "import numpy as np  \n",
    "import matplotlib.pyplot as plt  \n",
    "import ipywidgets as widgets  \n",
    "from IPython.display import display, clear_output  \n",
    "from matplotlib.patches import Rectangle  \n",
    "\n",
    "# Configuración inicial para visualización estática  \n",
    "%matplotlib inline "
   ]
  },
  {
   "cell_type": "markdown",
   "id": "97d660ad",
   "metadata": {},
   "source": [
    "# Diseño de Clase: \"El Método de la Bisección para Solución de Ecuaciones No Lineales en Ingeniería Agropecuaria\"\n",
    "\n",
    "## 1. Título de la Clase\n",
    "**\"Aplicando el Método de la Bisección: Solución de Problemas Agropecuarios con Python\"**\n",
    "\n",
    "## 2. Objetivos de Aprendizaje e Indicadores\n",
    "\n",
    "**Objetivos:**\n",
    "- Comprender el fundamento matemático del método de bisección para resolver ecuaciones no lineales\n",
    "- Aplicar el método a problemas reales en ingeniería agropecuaria\n",
    "- Implementar algoritmos computacionales para automatizar el proceso de solución\n",
    "- Analizar resultados y validar su precisión\n",
    "\n",
    "**Indicadores:**\n",
    "- El estudiante formula correctamente problemas agropecuarios como ecuaciones no lineales (90% precisión)\n",
    "- Implementa en Python el método de bisección con interfaz interactiva (80% funcionalidad)\n",
    "- Interpreta gráficamente el proceso de convergencia del método (85% precisión)\n",
    "- Evalúa críticamente resultados aplicados a casos reales (75% correlación con datos reales)\n"
   ]
  },
  {
   "cell_type": "markdown",
   "id": "d53e13c1",
   "metadata": {},
   "source": [
    "\n",
    "## 3. Mapa Conceptual (Graphviz)\n"
   ]
  },
  {
   "cell_type": "code",
   "execution_count": 4,
   "id": "ba9888e2",
   "metadata": {},
   "outputs": [
    {
     "data": {
      "text/plain": [
       "'C:\\\\Users\\\\marco\\\\Downloads\\\\biseccion_map.png'"
      ]
     },
     "execution_count": 4,
     "metadata": {},
     "output_type": "execute_result"
    }
   ],
   "source": [
    "\n",
    "from graphviz import Digraph\n",
    "\n",
    "# Crear el gráfico\n",
    "graph = Digraph('Biseccion', \n",
    "                filename='C:/Users/marco/Downloads/biseccion_map', \n",
    "                format='png',\n",
    "                engine='neato')\n",
    "\n",
    "# Configuración para evitar overlaps\n",
    "graph.attr('graph', overlap='false')\n",
    "graph.attr('graph', splines='true')\n",
    "graph.attr('graph', pad='0.5')\n",
    "graph.attr('node', shape='box', style='filled', fillcolor='lightblue')\n",
    "graph.attr('edge', color='gray50')\n",
    "\n",
    "# Nodos principales\n",
    "graph.node('A', 'Método de Bisección', shape='ellipse', fillcolor='lightcoral')\n",
    "graph.node('B', 'Fundamento Matemático', shape='note', fillcolor='lightyellow')\n",
    "graph.node('C', 'Aplicaciones Agropecuarias', shape='folder', fillcolor='lightgreen')\n",
    "graph.node('D', 'Implementación Python', shape='component', fillcolor='plum')\n",
    "\n",
    "# Subnodos - Fundamentos Matemáticos\n",
    "graph.node('B1', 'Teorema del Valor Intermedio')\n",
    "graph.node('B2', 'Convergencia Lineal')\n",
    "graph.node('B3', 'Error Absoluto: $|x_n - r| ≤ (b-a)/2^{n+1}$')\n",
    "\n",
    "# Subnodos - Aplicaciones\n",
    "graph.node('C1', 'Cálculo de pH óptimo')\n",
    "graph.node('C2', 'Balance de nutrientes')\n",
    "graph.node('C3', 'Modelos de crecimiento')\n",
    "\n",
    "# Subnodos - Implementación\n",
    "graph.node('D1', 'Algoritmo iterativo')\n",
    "graph.node('D2', 'Visualización')\n",
    "graph.node('D3', 'Widgets interactivos')\n",
    "\n",
    "# Conexiones principales\n",
    "graph.edges(['AB', 'AC', 'AD'])\n",
    "\n",
    "# Conexiones secundarias\n",
    "graph.edges([('B','B1'), ('B','B2'), ('B','B3')])\n",
    "graph.edges([('C','C1'), ('C','C2'), ('C','C3')])\n",
    "graph.edges([('D','D1'), ('D', 'D2'), ('D','D3')])\n",
    "\n",
    "# Conexiones transversales\n",
    "graph.edge('B1', 'C1', style='dashed')\n",
    "graph.edge('B3', 'D1', style='dashed')\n",
    "graph.edge('C3', 'D2', style='dashed')\n",
    "\n",
    "# Renderizar y mostrar\n",
    "graph.render(view=True)\n",
    "\n"
   ]
  },
  {
   "cell_type": "markdown",
   "id": "656c87a0",
   "metadata": {},
   "source": [
    "\n",
    "## 4. Historia y Epistemología (Cuento Antioqueño)\n",
    "\n",
    "*\"¡Ay hombe!, pues les voy a contar la historia de cómo los viejos matemáticos le metieron el hombro al problema de las ecuaciones...*\n",
    "\n",
    "*Hace muchos añitos, cuando los árabes andaban repartiendo conocimiento por ahí, al-Juarismi (que pa' los cuentos es como decir 'el Jorge') se puso a jugar con las ecuaciones. Pero ese man sólo sabía de las lineales, las que van derechitas como camino de herradura...*\n",
    "\n",
    "*Pasaron los siglos y llegó el francés François Viète (mírenlo ahí con su peluca de estopa), que empezó a usar letras pa' las incógnitas. ¡Eso sí fue un avance! Pero las ecuaciones no lineales seguían duras como ñame cociná...*\n",
    "\n",
    "*Hasta que llegó Bolzano, un checo terco como mula cargada de leña, que en 1817 dijo: 'Si una función cambia de signo, por ahí debe pasar por cero'. ¡Eso era el Teorema del Valor Intermedio! Pero como no tenía computadores, tocaba hacerlo a pura paciencia, como desgranando mazorca...*\n",
    "\n",
    "*Y así nació el método de la bisección: cortar por la mitad, ver dónde está el cambio, y seguir cortando... como cuando uno parte una sandía pa' ver si está dulce. ¡Simple pero efectivo!*\n",
    "\n",
    "*Hoy nosotros, con estos computadores tan bravos, podemos hacer en segundos lo que a esos viejos les tomaba días. Pero el principio es el mismo: paciencia, método y cortar por la mitad...\"*\n",
    "\n",
    "**Imágenes sugeridas:**\n",
    "1. Muhammad ibn Musa al-Khwarizmi (al-Juarismi)\n",
    "2. François Viète\n",
    "3. Bernard Bolzano\n",
    "4. Gráfico histórico del método de bisección\n"
   ]
  },
  {
   "cell_type": "markdown",
   "id": "e0c45066",
   "metadata": {},
   "source": [
    "\n",
    "## 5. Contenido de la Clase (Situación Real)\n",
    "\n",
    "**Problema Agropecuario Real:**  \n",
    "*\"Determinar el pH óptimo para el cultivo de arándanos en suelos volcánicos, donde la relación entre pH y disponibilidad de nutrientes sigue la función:*\n",
    "\n",
    "$f(pH) = e^{-0.5(pH-4.5)^2} - 0.5(pH-4.5) + 0.1\\sin(2πpH) - 0.4$\n",
    "\n",
    "*Queremos encontrar el pH donde $f(pH) = 0$ (equilibrio nutricional máximo).\"*\n",
    "\n",
    "**Construcción del Modelo:**\n",
    "1. **Recolección de datos:** Mediciones experimentales de disponibilidad de nutrientes vs pH\n",
    "2. **Ajuste de curva:** Uso de funciones exponenciales, polinomiales y trigonométricas\n",
    "3. **Formulación matemática:** $f(pH) = 0$ como ecuación no lineal\n",
    "4. **Análisis gráfico:** Visualización de la función en el intervalo [3, 6]\n"
   ]
  },
  {
   "cell_type": "code",
   "execution_count": null,
   "id": "826de7fc",
   "metadata": {},
   "outputs": [],
   "source": [
    "\n",
    "\n",
    "import numpy as np\n",
    "import matplotlib.pyplot as plt\n",
    "from ipywidgets import interact\n",
    "\n",
    "def f(pH):\n",
    "    return np.exp(-0.5*(pH-4.5)**2) - 0.5*(pH-4.5) + 0.1*np.sin(2*np.pi*pH) - 0.4\n",
    "\n",
    "pH_values = np.linspace(3, 6, 500)\n",
    "plt.figure(figsize=(10, 6))\n",
    "plt.plot(pH_values, f(pH_values), label='Disponibilidad de nutrientes')\n",
    "plt.axhline(0, color='red', linestyle='--')\n",
    "plt.xlabel('pH')\n",
    "plt.ylabel('f(pH)')\n",
    "plt.title('Relación pH - Disponibilidad Nutrientes')\n",
    "plt.grid(True)\n",
    "plt.legend()\n",
    "plt.show()\n",
    "\n"
   ]
  },
  {
   "cell_type": "markdown",
   "id": "7cae55ad",
   "metadata": {},
   "source": [
    "\n",
    "## 6. Función Python para Método de Bisección\n"
   ]
  },
  {
   "cell_type": "code",
   "execution_count": 4,
   "id": "08a31186",
   "metadata": {},
   "outputs": [],
   "source": [
    "\n",
    "\n",
    "def metodo_biseccion(f, a, b, tol=1e-6, max_iter=100):\n",
    "    import numpy as np \n",
    "    \"\"\"\n",
    "    Implementación del método de bisección para encontrar raíces de f(x) = 0\n",
    "    \n",
    "    Parámetros:\n",
    "    f : función a evaluar\n",
    "    a, b : extremos del intervalo [a, b] donde f cambia de signo\n",
    "    tol : tolerancia (precisión deseada)\n",
    "    max_iter : número máximo de iteraciones\n",
    "    \n",
    "    Retorna:\n",
    "    (raíz_aproximada, num_iteraciones, historia)\n",
    "    \"\"\"\n",
    "    if f(a) * f(b) >= 0:\n",
    "        raise ValueError(\"La función debe cambiar de signo en el intervalo [a, b]\")\n",
    "    \n",
    "    historia = []\n",
    "    for n in range(max_iter):\n",
    "        c = (a + b) / 2\n",
    "        historia.append((n, a, b, c, f(c), abs(b - a)))\n",
    "        \n",
    "        if f(c) == 0 or (b - a)/2 < tol:\n",
    "            return c, n+1, historia\n",
    "        \n",
    "        if f(c) * f(a) < 0:\n",
    "            b = c\n",
    "        else:\n",
    "            a = c\n",
    "    \n",
    "    return (a + b)/2, max_iter, historia\n"
   ]
  },
  {
   "cell_type": "code",
   "execution_count": 11,
   "id": "5cc4a9f6",
   "metadata": {},
   "outputs": [
    {
     "name": "stdout",
     "output_type": "stream",
     "text": [
      "Raíz encontrada en pH = 0.418879 después de 20 iteraciones\n"
     ]
    }
   ],
   "source": [
    "\n",
    "import numpy as np \n",
    "# Ejemplo de uso:\n",
    "raiz, iteraciones, historia = metodo_biseccion(f = lambda x:2*np.pi*x*2 - 30*x**2, a = 0.1, \\\n",
    "    b = 0.7)\n",
    "print(f\"Raíz encontrada en pH = {raiz:.6f} después de {iteraciones} iteraciones\")\n",
    "\n"
   ]
  },
  {
   "cell_type": "code",
   "execution_count": 2,
   "id": "fb74dae2",
   "metadata": {},
   "outputs": [
    {
     "data": {
      "image/png": "[encoded data removed]",
      "text/plain": [
       "<Figure size 800x500 with 1 Axes>"
      ]
     },
     "metadata": {},
     "output_type": "display_data"
    }
   ],
   "source": [
    "import numpy as np\n",
    "\n",
    "import matplotlib.pyplot as plt\n",
    "a,b = -0.5, 1.0\n",
    "x = np.linspace(a, b, 400)\n",
    "y = 2 * np.pi * x * 2 - 30 * x**2\n",
    "\n",
    "plt.figure(figsize=(8, 5))\n",
    "plt.plot(x, y, label='2πx2 - 30x²')\n",
    "plt.axhline(0, color='red', linestyle='--')\n",
    "plt.xlabel('x')\n",
    "plt.ylabel('f(x)')\n",
    "plt.title(r'Gráfica de $f(x) = 4\\pi x - 30x^2$')\n",
    "plt.legend()\n",
    "plt.grid(True)\n",
    "plt.show()"
   ]
  },
  {
   "cell_type": "markdown",
   "id": "a6eca64b",
   "metadata": {},
   "source": [
    "# Sobre la convergencia "
   ]
  },
  {
   "cell_type": "markdown",
   "id": "bbf2377d",
   "metadata": {},
   "source": [
    "En los métodos numéricos para encontrar **ceros de funciones** (raíces), la **convergencia** se refiere a cómo de rápido y bajo qué condiciones una sucesión de aproximaciones $\\{x_n\\}$ se acerca a la solución exacta $x^*$. Los tipos de convergencia más importantes son:\n",
    "\n"
   ]
  },
  {
   "cell_type": "markdown",
   "id": "4fd8c200",
   "metadata": {},
   "source": [
    "\n",
    "\n",
    "### **1. Convergencia Lineal**\n",
    "- **Definición:** Un método converge linealmente si existe una constante $C \\in (0, 1)$ tal que:  \n",
    "  $$\n",
    "  |x_{n+1} - x^*| \\leq C |x_n - x^*|.\n",
    "  $$\n",
    "- **Interpretación:** El error se reduce en un factor constante en cada iteración (ej: $C = 0.5$ implica que el error se divide por 2 en cada paso).  \n",
    "- **Ejemplos:**  \n",
    "  - **Método de Bisección:** Converge linealmente con $C = \\frac{1}{2}$.  \n",
    "  - **Iteración de Punto Fijo** (cuando $|g'(x^*)| < 1$).\n",
    "\n"
   ]
  },
  {
   "cell_type": "markdown",
   "id": "9998a3b4",
   "metadata": {},
   "source": [
    "\n",
    "\n",
    "### **2. Convergencia Cuadrática**\n",
    "- **Definición:** Un método converge cuadráticamente si existe una constante $M > 0$ tal que:  \n",
    "  $$\n",
    "  |x_{n+1} - x^*| \\leq M |x_n - x^*|^2.\n",
    "  $$\n",
    "- **Interpretación:** El error se eleva al cuadrado en cada paso (el número de dígitos correctos se duplica aproximadamente por iteración).  \n",
    "- **Ejemplo:**  \n",
    "  - **Método de Newton-Raphson:** Converge cuadráticamente **si**:\n",
    "    - $f'(x^*) \\neq 0$ (la derivada en la raíz no es cero).  \n",
    "    - $x_0$ está suficientemente cerca de $x^*$.  \n"
   ]
  },
  {
   "cell_type": "markdown",
   "id": "f69fe094",
   "metadata": {},
   "source": [
    "\n",
    "\n",
    "### **3. Convergencia Superlineal**\n",
    "- **Definición:** Más rápida que la lineal pero no necesariamente cuadrática. Formalmente:  \n",
    "  $$\n",
    "  \\lim_{n \\to \\infty} \\frac{|x_{n+1} - x^*|}{|x_n - x^*|} = 0.\n",
    "  $$\n",
    "- **Ejemplo:**  \n",
    "  - **Método de la Secante:** Tiene orden de convergencia $\\approx 1.618$ (razón áurea).  \n",
    "\n"
   ]
  },
  {
   "cell_type": "markdown",
   "id": "59563eea",
   "metadata": {},
   "source": [
    "\n",
    "\n",
    "### **4. Convergencia de Orden $p$ (General)**\n",
    "- **Definición:** Se dice que un método tiene orden de convergencia \\(p \\geq 1\\) si existe \\(M > 0\\) tal que:  \n",
    "  $$\n",
    "  |x_{n+1} - x^*| \\leq M |x_n - x^*|^p.\n",
    "  $$\n",
    "  - \\(p = 1\\): Lineal.  \n",
    "  - \\(p = 2\\): Cuadrática.  \n",
    "  - $p > 1$: Superlineal.  \n",
    "\n"
   ]
  },
  {
   "cell_type": "markdown",
   "id": "e6d437c0",
   "metadata": {},
   "source": [
    "\n",
    "\n",
    "### **Factores que Afectan la Convergencia**\n",
    "1. **Elección del punto inicial \\(x_0\\):**  \n",
    "   - En Newton, si \\(x_0\\) está lejos de \\(x^*\\), puede divergir.  \n",
    "   - En bisección, se requiere un intervalo $[a, b]$ con cambio de signo.  \n",
    "\n",
    "2. **Derivadas de la función:**  \n",
    "   - Newton exige \\(f'(x) \\neq 0\\) cerca de \\(x^*\\).  \n",
    "   - Si \\(f'(x^*) = 0\\), Newton puede perder convergencia cuadrática (pasa a lineal).  \n",
    "\n",
    "3. **Multiplicidad de la raíz:**  \n",
    "   - Raíces múltiples (ej: \\(x^*\\) con \\(f(x^*) = f'(x^*) = 0\\)) ralentizan la convergencia de Newton. Se usan modificaciones (ej: método de Newton modificado).  \n",
    "\n"
   ]
  },
  {
   "cell_type": "markdown",
   "id": "bedb964f",
   "metadata": {},
   "source": [
    "\n",
    "\n",
    "### **Ejemplo Comparativo**\n",
    "| **Método**       | **Orden**  | **Ventajas**                          | **Desventajas**               |  \n",
    "|------------------|------------|---------------------------------------|--------------------------------|  \n",
    "| Bisección        | Lineal (\\(p=1\\)) | Robustez (siempre converge)           | Lento (requiere muchas iteraciones) |  \n",
    "| Newton-Raphson   | Cuadrático (\\(p=2\\)) | Rápido cerca de \\(x^*\\)               | Necesita derivada; sensible a $x_0$ |  \n",
    "| Secante          | $p \\approx 1.618$  | No requiere derivada                  | Menos estable que Newton       |  \n",
    "\n"
   ]
  },
  {
   "cell_type": "markdown",
   "id": "c8ca1069",
   "metadata": {},
   "source": [
    "\n",
    "\n",
    "### **Conclusión**  \n",
    "La elección del método depende del problema:  \n",
    "- **Bisección:** Seguro pero lento (útil para \"refinar\" intervalos).  \n",
    "- **Newton:** Ideal cuando se dispone de $f'$ y $x_0$ es cercano a $x^*$.  \n",
    "- **Secante:** Alternativa cuando $f'$ es difícil de calcular.  \n",
    "\n"
   ]
  },
  {
   "cell_type": "markdown",
   "id": "44484cfa",
   "metadata": {},
   "source": [
    "\n",
    "## 7. Actividades de Aprendizaje\n",
    "\n",
    "**1. Prueba de Escritorio (Caso pH):**\n",
    "- Iteración 1: a=4.0, b=5.0 → c=4.5, f(c)=-0.1756 → nuevo intervalo [4.0, 4.5]\n",
    "- Iteración 2: a=4.0, b=4.5 → c=4.25, f(c)=0.1328 → nuevo intervalo [4.25, 4.5]\n",
    "- Iteración 3: a=4.25, b=4.5 → c=4.375, f(c)=-0.0346 → nuevo intervalo [4.25, 4.375]\n"
   ]
  },
  {
   "cell_type": "markdown",
   "id": "5ed50812",
   "metadata": {},
   "source": [
    "\n",
    "**2. Pseudocódigo:**\n",
    "```\n",
    "FUNCIÓN biseccion(f, a, b, tol, max_iter):\n",
    "    SI f(a)*f(b) ≥ 0 ENTONCES\n",
    "        ERROR \"La función no cambia de signo\"\n",
    "    \n",
    "    PARA iter DE 1 A max_iter HACER:\n",
    "        c ← (a + b)/2\n",
    "        SI f(c) = 0 O (b-a)/2 < tol ENTONCES\n",
    "            RETORNAR c\n",
    "        FIN SI\n",
    "        \n",
    "        SI f(c)*f(a) < 0 ENTONCES\n",
    "            b ← c\n",
    "        SINO\n",
    "            a ← c\n",
    "        FIN SI\n",
    "    FIN PARA\n",
    "    \n",
    "    RETORNAR (a + b)/2\n",
    "FIN FUNCIÓN\n",
    "```\n"
   ]
  },
  {
   "cell_type": "markdown",
   "id": "c924f1ff",
   "metadata": {},
   "source": [
    "\n",
    "**3. Diagrama de Flujo:**\n",
    "(Representación gráfica del proceso de decisión del algoritmo)\n"
   ]
  },
  {
   "cell_type": "markdown",
   "id": "ca25bdd8",
   "metadata": {},
   "source": [
    "\n",
    "**4. Implementación Interactiva:**\n",
    "\n"
   ]
  },
  {
   "cell_type": "code",
   "execution_count": 2,
   "id": "cb9618b8",
   "metadata": {},
   "outputs": [
    {
     "data": {
      "application/vnd.jupyter.widget-view+json": {
       "model_id": "166920313f3245b9aad911b85681ef7f",
       "version_major": 2,
       "version_minor": 0
      },
      "text/plain": [
       "interactive(children=(FloatSlider(value=1.0, description='a:', max=3.0), FloatSlider(value=2.0, description='b…"
      ]
     },
     "metadata": {},
     "output_type": "display_data"
    },
    {
     "data": {
      "text/plain": [
       "<function __main__.biseccion_interactiva(a=1.0, b=2.0, max_iter=10)>"
      ]
     },
     "execution_count": 2,
     "metadata": {},
     "output_type": "execute_result"
    }
   ],
   "source": [
    "import numpy as np \n",
    "import matplotlib.pyplot as plt \n",
    "from ipywidgets import interact, FloatSlider, IntSlider\n",
    "\n",
    "def biseccion_interactiva(a=1.0, b=2.0, max_iter=10):\n",
    "    plt.figure(figsize=(10, 6))\n",
    "    f = lambda x: x**2 - 2  # Función a encontrar la raíz (puedes cambiarla)\n",
    "    \n",
    "    # Graficar función\n",
    "    x_vals = np.linspace(a, b, 500)\n",
    "    plt.plot(x_vals, f(x_vals), label='f(x) = x² - 2', linewidth=2)\n",
    "    plt.axhline(0, color='red', linestyle='--', linewidth=0.5)\n",
    "    \n",
    "    # Verificar condición inicial (Teorema de Bolzano)\n",
    "    if f(a) * f(b) >= 0:\n",
    "        plt.title(f'Error: f(a) y f(b) deben tener signos opuestos (f({a:.2f})={f(a):.2f}, f({b:.2f})={f(b):.2f})')\n",
    "        plt.xlabel('x')\n",
    "        plt.ylabel('f(x)')\n",
    "        plt.legend()\n",
    "        plt.grid(True)\n",
    "        plt.show()\n",
    "        return []\n",
    "    \n",
    "    # Aplicar método de bisección\n",
    "    historia = []\n",
    "    current_a, current_b = a, b\n",
    "    \n",
    "    for n in range(max_iter):\n",
    "        c = (current_a + current_b) / 2\n",
    "        historia.append((current_a, current_b, c))\n",
    "        \n",
    "        # Dibujar intervalo actual con color que cambia en cada iteración\n",
    "        color = plt.cm.viridis(n/max_iter)\n",
    "        plt.plot([current_a, current_b], [0, 0], 'o-', \n",
    "                color=color, linewidth=3, alpha=0.5, \n",
    "                label=f'Iter {n+1}' if n < 5 else \"\")\n",
    "        plt.plot(c, 0, 'ro', markersize=8, alpha=0.7)  # Punto medio\n",
    "        \n",
    "        # Actualizar intervalo\n",
    "        if f(c) * f(current_a) < 0:\n",
    "            current_b = c\n",
    "        else:\n",
    "            current_a = c\n",
    "    \n",
    "    plt.title(f'Método de Bisección (Iteraciones: {max_iter}, Último intervalo: [{current_a:.6f}, {current_b:.6f}])')\n",
    "    plt.xlabel('x')\n",
    "    plt.ylabel('f(x)')\n",
    "    plt.legend(bbox_to_anchor=(1.05, 1), loc='upper left')\n",
    "    plt.grid(True)\n",
    "    plt.tight_layout()\n",
    "    plt.show()\n",
    "    \n",
    "    # Mostrar historia de iteraciones\n",
    "    print(\"\\nHistorial de iteraciones:\")\n",
    "    print(\"Iter |    a    |    b    |   c=(a+b)/2  |  f(c)  \")\n",
    "    print(\"-----|---------|---------|--------------|--------\")\n",
    "    for i, (a_i, b_i, c_i) in enumerate(historia):\n",
    "        print(f\"{i+1:4d} | {a_i:.5f} | {b_i:.5f} | {c_i:.5f} | {f(c_i):.2e}\")\n",
    "    \n",
    "    return historia\n",
    "\n",
    "interact(biseccion_interactiva, \n",
    "         a=FloatSlider(value=1.0, min=0.0, max=3.0, step=0.1, description='a:'),\n",
    "         b=FloatSlider(value=2.0, min=0.1, max=3.0, step=0.1, description='b:'),\n",
    "         max_iter=IntSlider(value=5, min=1, max=20, step=1, description='Iteraciones:'))"
   ]
  },
  {
   "cell_type": "markdown",
   "id": "47a5fc8d",
   "metadata": {},
   "source": [
    "\n",
    "## 8. Canción/Poema de Aprendizaje\n",
    "\n",
    "**\"La Cumbia de la Bisección\"**  \n",
    "*(Para cantar con ritmo de cumbia colombiana)*\n",
    "\n",
    "*Cuando la función cambia de signo,  \n",
    "entre a y b hay un camino,  \n",
    "divido en dos el intervalo,  \n",
    "y repito el mismo ensayo...  \n",
    "\n",
    "¡Bisección! ¡Qué buena opción!  \n",
    "Con paciencia y dedicación,  \n",
    "la raíz voy a encontrar,  \n",
    "iterando sin parar...  \n",
    "\n",
    "Cada paso más preciso,  \n",
    "el error se hace chiquito,  \n",
    "lineal la convergencia,  \n",
    "pero segura es su esencia...*\n"
   ]
  },
  {
   "cell_type": "markdown",
   "id": "ecc90f54",
   "metadata": {},
   "source": [
    "\n",
    "## 9. Tareas y Ejercicios\n"
   ]
  },
  {
   "cell_type": "markdown",
   "id": "fce50cab",
   "metadata": {},
   "source": [
    "\n",
    "**1. Ejercicios Básicos:**\n",
    "- Aplicar el método manualmente a $f(x) = x^3 - x - 2$ en [1, 2] hasta 3 iteraciones\n",
    "- Determinar cuántas iteraciones se necesitan para alcanzar $\\epsilon < 0.001$ en $cos(x) = x$ en [0, 1]\n"
   ]
  },
  {
   "cell_type": "markdown",
   "id": "3b44c059",
   "metadata": {},
   "source": [
    "\n",
    "**2. Problemas Agropecuarios:**\n",
    "- El balance hídrico de un cultivo sigue $W(t) = e^{-t} - 0.2t$. Encontrar cuando $W(t) = 0$\n",
    "- Modelo de crecimiento bacteriano: $B(t) = 100/(1 + e^{2-t}) - 50$. Hallar $t$ cuando $B(t) = 25$\n"
   ]
  },
  {
   "cell_type": "markdown",
   "id": "a763e7c4",
   "metadata": {},
   "source": [
    "\n",
    "**3. Implementación Avanzada:**\n",
    "- Modificar la función para que devuelva una animación del proceso\n",
    "- Crear una tabla pandas con el historial de iteraciones\n"
   ]
  },
  {
   "cell_type": "markdown",
   "id": "c2373e40",
   "metadata": {},
   "source": [
    "\n",
    "## 10. Evaluación\n",
    "\n",
    "**Proyectos:**\n",
    "1. Optimización de pH para diferentes cultivos\n",
    "2. Modelación de dosis de fertilizantes\n",
    "3. Punto de equilibrio en costos de producción\n",
    "4. Cálculo de tasa de interés efectiva en créditos agrícolas\n",
    "5. Determinación de momento óptimo de cosecha\n"
   ]
  },
  {
   "cell_type": "markdown",
   "id": "39ec0d8b",
   "metadata": {},
   "source": [
    "\n",
    "**Ejemplo de Quiz:**\n",
    "1. ¿Por qué es esencial que $f(a)*f(b) < 0$ al iniciar el método?\n",
    "2. Calcular manualmente 2 iteraciones para $f(x) = x^2 - 2$ en [1, 2]\n",
    "3. ¿Cómo se relaciona el error con el número de iteraciones?\n"
   ]
  },
  {
   "cell_type": "markdown",
   "id": "6c21c9ce",
   "metadata": {},
   "source": [
    "\n",
    "**Ejemplo de Parcial:**\n",
    "1. Implementar en Python una versión mejorada que detecte convergencia lenta\n",
    "2. Aplicar el método a un problema real de su región\n",
    "3. Comparar eficiencia con otros métodos numéricos\n"
   ]
  },
  {
   "cell_type": "markdown",
   "id": "970e0ec3",
   "metadata": {},
   "source": [
    "### **Examen Parcial: Métodos Numéricos (Newton y Bisección)**  \n",
    "**Instrucciones:**   \n",
    "- Duración: 45 minutos.  \n",
    "- Marca la opción correcta en cada pregunta.  \n",
    "- Cada pregunta vale 2 puntos (total: 20 puntos).  \n",
    "\n"
   ]
  },
  {
   "cell_type": "markdown",
   "id": "0bdf7507",
   "metadata": {},
   "source": [
    "\n",
    "\n",
    "#### **Sección 1: Preguntas teóricas**  \n",
    "1. **El método de bisección:**  \n",
    "   a) Requiere calcular la derivada de la función.  \n",
    "   b) Garantiza convergencia si la función es continua y cambia de signo en el intervalo.  \n",
    "   c) Es más rápido que el método de Newton en todos los casos.  \n",
    "   d) Solo funciona para funciones polinómicas.  \n",
    "\n",
    "2. **El método de Newton-Raphson:**  \n",
    "   a) Siempre converge cuadráticamente.  \n",
    "   b) Puede divergir si la derivada es cercana a cero.  \n",
    "   c) No requiere un intervalo inicial.  \n",
    "   d) Solo se aplica a funciones lineales.  \n",
    "\n",
    "3. **Ventaja del método de bisección frente a Newton:**  \n",
    "   a) Mayor velocidad de convergencia.  \n",
    "   b) No necesita evaluar derivadas.  \n",
    "   c) Siempre encuentra la raíz exacta.  \n",
    "   d) Solo requiere un punto inicial.  \n",
    "\n"
   ]
  },
  {
   "cell_type": "markdown",
   "id": "279141e4",
   "metadata": {},
   "source": [
    "\n",
    "\n",
    "#### **Sección 2: Problemas prácticos**  \n",
    "4. **Dada $ f(x) = x^2 - 4$ en $[1, 3]$, ¿cuál es el valor aproximado de la raíz tras 2 iteraciones de bisección?**  \n",
    "   a) 1.25  \n",
    "   b) 1.75  \n",
    "   c) 2.5  \n",
    "   d) 3.0  \n",
    "\n",
    "5. **Para $f(x) = e^x - 2$, con $x_0 = 1$, ¿cuál es $x_1$ aplicando Newton-Raphson?**  \n",
    "   a) 0.7358  \n",
    "   b) 0.5000  \n",
    "   c) 0.6931  \n",
    "   d) 1.0000  \n",
    "\n"
   ]
  },
  {
   "cell_type": "markdown",
   "id": "ddb94ff3",
   "metadata": {},
   "source": [
    "\n",
    "\n",
    "#### **Sección 3: Análisis de convergencia**  \n",
    "6. **Si en el método de Newton la derivada $f'(x)$ es cero en la raíz:**  \n",
    "   a) El método falla.  \n",
    "   b) La convergencia es lineal.  \n",
    "   c) Se debe usar bisección.  \n",
    "   d) La raíz no existe.  \n"
   ]
  },
  {
   "cell_type": "markdown",
   "id": "a0a24c4d",
   "metadata": {},
   "source": [
    "\n",
    "7. **El método de bisección en $[a, b]$ reduce el error a la mitad en cada iteración. ¿Cuántas iteraciones se necesitan para alcanzar un error menor que $10^{-6}$?**  \n",
    "   a) ~20  \n",
    "   b) ~50  \n",
    "   c) ~10  \n",
    "   d) ~5  \n",
    "\n",
    "\n"
   ]
  },
  {
   "cell_type": "markdown",
   "id": "3a3b7b87",
   "metadata": {},
   "source": [
    "\n",
    "#### **Clave de respuestas** (para configuración en Google Forms):  \n",
    "1. **b**  \n",
    "2. **b**  \n",
    "3. **b**  \n",
    "4. **b** (valor real: 1.75 tras 2 iteraciones)  \n",
    "5. **c** (valor real: $ x_{1} = 1 - \\frac{e^1 - 2}{e^1} \\approx 0.6931 $)  \n",
    "6. **a**  \n",
    "7. **a** (fórmula: $n > \\frac{\\ln(b-a) - \\ln(\\epsilon)}{\\ln(2)}$)  \n",
    "\n"
   ]
  },
  {
   "cell_type": "markdown",
   "id": "cb8a92db",
   "metadata": {},
   "source": [
    "\n",
    "\n",
    "### **Configuración en Google Forms**  \n",
    "1. Ve a **Google Forms** y crea un nuevo formulario.  \n",
    "2. Añade las preguntas como **opción múltiple**.  \n",
    "3. En **\"Clave de respuestas\"** (en ajustes del formulario), ingresa las respuestas correctas para que se califique automáticamente.  \n",
    "4. Opcional: Añade feedback para respuestas incorrectas (ej: \"Recuerda que la bisección requiere continuidad y cambio de signo\").  \n",
    "\n"
   ]
  },
  {
   "cell_type": "markdown",
   "id": "7a573b78",
   "metadata": {},
   "source": [
    "Estos son 6 parciales basados en el método de Newton y el método de la bisección, alineados con el enfoque de Aprendizaje Basado en Problemas y Proyectos (ABPP). Cada parcial está diseñado para resolverse en **2 horas**, permitiendo el uso de herramientas como **Google Colab o Excel** para enfatizar la aplicación real de estos métodos.  \n",
    "\n"
   ]
  },
  {
   "cell_type": "markdown",
   "id": "a0b0368d",
   "metadata": {},
   "source": [
    "# Tarea para todos\n",
    "\n",
    "Fecha límitre: 6 de Junio Vodeo de descripción del método de la bisección con GeoGebra. "
   ]
  },
  {
   "cell_type": "markdown",
   "id": "45b75ad1",
   "metadata": {},
   "source": [
    "\n",
    "\n",
    "### **Parcial 1: Aplicación en Ingeniería – Cálculo de la profundidad de un río** (Leonel) \n",
    "**Contexto**: Un ingeniero necesita determinar la profundidad $h$ de un río para instalar un puente. La velocidad del agua sigue la ecuación:  \n",
    "$$\n",
    "v(h) = \\sqrt{\\frac{g}{k}} \\tanh\\left( \\sqrt{\\frac{gk}{D}} h \\right) - 2.5\n",
    "$$  \n",
    "donde $g = 9.81 \\, \\text{m/s}^2 $, $k = 0.2$, $D = 10 \\, \\text{m}$.  \n",
    "\n",
    "**Tareas**:  \n",
    "1. Usar **bisección** en $[1, 5]$ con tolerancia $10^{-3}$.  \n",
    "2. Usar **Newton-Raphson** con $h_0 = 3$ (derivar numéricamente si es necesario).  \n",
    "3. Comparar resultados y discutir cuál método es más eficiente.  \n",
    "\n",
    "**Evaluación**:  \n",
    "- Correcta implementación en código/Excel.  \n",
    "- Análisis de convergencia.  \n",
    "- Justificación del método más adecuado.  \n",
    "\n"
   ]
  },
  {
   "cell_type": "markdown",
   "id": "95848c85",
   "metadata": {},
   "source": [
    "\n",
    "\n",
    "### **Parcial 2: Economía – Punto de equilibrio de una empresa** [Manuel. Revisar el trabajo de este estudiante aquí](https://drive.google.com/drive/folders/1r61iYPMEGLCuZH89ntQFwoawfhXUAUPa)  \n",
    " \n",
    "**Contexto**: La utilidad $U(x)$ de una empresa está dada por:  \n",
    "$$\n",
    "U(x) = 50x - 0.1x^3 + 5\\ln(x+1) - 200\n",
    "$$  \n",
    "Se busca el punto de equilibrio ($U(x) = 0$).  \n",
    "\n",
    "**Tareas**:  \n",
    "1. Graficar la función en Excel/Colab para estimar intervalos.  \n",
    "2. Aplicar **bisección** en $[2, 10]$.  \n",
    "3. Aplicar **Newton** con $x_0 = 5$.  \n",
    "4. Explicar por qué no converge si $x_0 = 1$.  \n",
    "\n",
    "**Evaluación**:  \n",
    "- Uso de gráficas para inicialización.  \n",
    "- Interpretación económica del resultado.  \n",
    "\n",
    "\n"
   ]
  },
  {
   "cell_type": "markdown",
   "id": "b8366665",
   "metadata": {},
   "source": [
    "\n",
    "### **Parcial 3: Física – Movimiento de un resorte amortiguado**  Yeifry Sebastián\n",
    "**Contexto**: La posición $x(t)$ de un resorte sigue:  \n",
    "$$\n",
    "x(t) = 2e^{-0.1t} \\cos(3t) - 0.5\n",
    "$$  \n",
    "Hallar el tiempo $t$ donde $x(t) = 0$ (primer cruce).  \n"
   ]
  },
  {
   "cell_type": "markdown",
   "id": "65ad0eb0",
   "metadata": {},
   "source": [
    "\n",
    "**Tareas**:  \n",
    "1. Usar **bisección** en $[0.5, 1.5]$.  \n",
    "2. Usar **Newton** con $t_0 = 1$.  \n",
    "3. Comparar error absoluto en cada iteración.  \n",
    "\n",
    "**Evaluación**:  \n",
    "- Elección adecuada del intervalo.  \n",
    "- Análisis del error.  \n",
    "\n"
   ]
  },
  {
   "cell_type": "markdown",
   "id": "9511697f",
   "metadata": {},
   "source": [
    "\n",
    "\n",
    "### **Parcial 4: Biología – Modelo de crecimiento bacteriano**  Fred Ivan \n",
    "**Contexto**: El crecimiento de bacterias sigue:  \n",
    "$$\n",
    "P(t) = \\frac{1000}{1 + 9e^{-0.2t}} - 400\n",
    "$$  \n",
    "Hallar $t$ cuando $P(t) = 0$ (tiempo de esterilización).  \n",
    "\n",
    "**Tareas**:  \n",
    "1. Usar **bisección** en $[0, 20]$.  \n",
    "2. Usar **Newton** con $t_0 = 10$.  \n",
    "3. Discutir sensibilidad al valor inicial.  \n",
    "\n",
    "**Evaluación**:  \n",
    "- Interpretación biológica del resultado.  \n",
    "- Justificación de la tolerancia usada.  \n",
    "\n"
   ]
  },
  {
   "cell_type": "code",
   "execution_count": 38,
   "id": "58143b91",
   "metadata": {},
   "outputs": [],
   "source": [
    "import numpy as np\n",
    "import pandas as pd\n",
    "import matplotlib.pyplot as plt\n",
    "from scipy.optimize import approx_fprime\n",
    "\n",
    "class NewtonBiseccion:\n",
    "    def __init__(self, func=None):\n",
    "        # Permite al usuario definir la función f como una lambda function\n",
    "        if func is None:\n",
    "            self.f = lambda x: x**3 + 5 * 10**(-5)*x**2 - 10**-14\n",
    "        else:\n",
    "            self.f = func\n",
    "\n",
    "    def graficar_funcion(self, a=0, b=3, puntos=400):\n",
    "        x = np.linspace(a, b, puntos)\n",
    "        y = self.f(x)\n",
    "        plt.figure(figsize=(8,5))\n",
    "        plt.plot(x, y, label='f(x) definida por el usuario')\n",
    "        plt.axhline(0, color='red', linestyle='--')\n",
    "        plt.xlabel('x')\n",
    "        plt.ylabel('f(x)')\n",
    "        plt.title('Gráfico de la función')\n",
    "        plt.legend()\n",
    "        plt.grid(True)\n",
    "        plt.show()\n",
    "\n",
    "    def newton(self, x0=1.5, tol=1e-6, max_iter=20, dx=1e-6):\n",
    "        \"\"\"\n",
    "        Método de Newton con derivada numérica usando scipy.optimize.approx_fprime\n",
    "        \n",
    "        Parameters:\n",
    "        x0: valor inicial (puede ser float o array 1D)\n",
    "        tol: tolerancia para la convergencia\n",
    "        max_iter: número máximo de iteraciones\n",
    "        dx: espaciamiento para el cálculo numérico de la derivada\n",
    "        \"\"\"\n",
    "        datos = []\n",
    "        x = np.atleast_1d(x0).astype(float)  # Convertir a array 1D\n",
    "        for i in range(max_iter):\n",
    "            f_val = self.f(x[0])  # Extraer el valor escalar\n",
    "            # Calcula la derivada numéricamente en el punto actual\n",
    "            df_val = approx_fprime(x, lambda x_vec: self.f(x_vec[0]), dx)\n",
    "            if df_val[0] == 0:\n",
    "                break\n",
    "            x_new = x - f_val / df_val\n",
    "            datos.append({\n",
    "                'Iteración': i+1,\n",
    "                'x': x[0],\n",
    "                'f(x)': f_val,\n",
    "                \"f'(x)\": df_val[0],\n",
    "                'Error': abs(x_new[0] - x[0])\n",
    "            })\n",
    "            if abs(x_new[0] - x[0]) < tol:\n",
    "                break\n",
    "            x = x_new\n",
    "        return pd.DataFrame(datos)\n",
    "\n",
    "    def biseccion(self, a=0, b=3, tol=1e-6, max_iter=50):\n",
    "        datos = []\n",
    "        fa = self.f(a)\n",
    "        fb = self.f(b)\n",
    "        if fa * fb > 0:\n",
    "            raise ValueError(\"La función no cambia de signo en el intervalo dado.\")\n",
    "        for i in range(max_iter):\n",
    "            c = (a + b) / 2\n",
    "            fc = self.f(c)\n",
    "            datos.append({\n",
    "                'Iteración': i+1,\n",
    "                'a': a,\n",
    "                'b': b,\n",
    "                'c': c,\n",
    "                'f(c)': fc,\n",
    "                'Error': abs(b - a)/2\n",
    "            })\n",
    "            if abs(fc) < tol or abs(b - a)/2 < tol:\n",
    "                break\n",
    "            if fa * fc < 0:\n",
    "                b = c\n",
    "                fb = fc\n",
    "            else:\n",
    "                a = c\n",
    "                fa = fc\n",
    "        return pd.DataFrame(datos)\n",
    "\n",
    "    def comparar(self, x0=1.5, a=0, b=3, tol=1e-6, max_iter=20):\n",
    "        df_newton = self.newton(x0, tol, max_iter)\n",
    "        df_biseccion = self.biseccion(a, b, tol, max_iter)\n",
    "        # Igualar número de filas para comparación\n",
    "        max_len = max(len(df_newton), len(df_biseccion))\n",
    "        df_newton = df_newton.reindex(range(max_len)).reset_index(drop=True)\n",
    "        df_biseccion = df_biseccion.reindex(range(max_len)).reset_index(drop=True)\n",
    "        df_comp = pd.concat([\n",
    "            df_newton.add_prefix('Newton_'),\n",
    "            df_biseccion.add_prefix('Biseccion_')\n",
    "        ], axis=1)\n",
    "        return df_comp"
   ]
  },
  {
   "cell_type": "code",
   "execution_count": 39,
   "id": "9fce70da",
   "metadata": {},
   "outputs": [],
   "source": [
    "resolutor1 = NewtonBiseccion(func = lambda t: 1000/(1 + 9*np.exp(-0.2*t)) - 400)"
   ]
  },
  {
   "cell_type": "code",
   "execution_count": 40,
   "id": "43360350",
   "metadata": {},
   "outputs": [
    {
     "data": {
      "image/png": "[encoded data removed]",
      "text/plain": [
       "<Figure size 800x500 with 1 Axes>"
      ]
     },
     "metadata": {},
     "output_type": "display_data"
    }
   ],
   "source": [
    "resolutor1.graficar_funcion(a = 0, b = 20)"
   ]
  },
  {
   "cell_type": "code",
   "execution_count": 41,
   "id": "bb5b090b",
   "metadata": {},
   "outputs": [
    {
     "data": {
      "application/vnd.microsoft.datawrangler.viewer.v0+json": {
       "columns": [
        {
         "name": "index",
         "rawType": "int64",
         "type": "integer"
        },
        {
         "name": "Iteración",
         "rawType": "int64",
         "type": "integer"
        },
        {
         "name": "x",
         "rawType": "float64",
         "type": "float"
        },
        {
         "name": "f(x)",
         "rawType": "float64",
         "type": "float"
        },
        {
         "name": "f'(x)",
         "rawType": "float64",
         "type": "float"
        },
        {
         "name": "Error",
         "rawType": "float64",
         "type": "float"
        }
       ],
       "ref": "2bf8f639-fc08-4ad5-9158-e5e64f4b4d5f",
       "rows": [
        [
         "0",
         "1",
         "10.0",
         "50.85306037928376",
         "49.5169162861623",
         "1.0269835885053862"
        ],
        [
         "1",
         "2",
         "8.973016411494614",
         "0.682708826532405",
         "48.027216145801866",
         "0.014215040581570193"
        ],
        [
         "2",
         "3",
         "8.958801370913044",
         "0.00019318910847232473",
         "48.0000087254648",
         "4.024772360722295e-06"
        ],
        [
         "3",
         "4",
         "8.958797346140683",
         "1.9610979506978765e-11",
         "48.00000093791641",
         "4.085620730620576e-13"
        ]
       ],
       "shape": {
        "columns": 5,
        "rows": 4
       }
      },
      "text/html": [
       "<div>\n",
       "<style scoped>\n",
       "    .dataframe tbody tr th:only-of-type {\n",
       "        vertical-align: middle;\n",
       "    }\n",
       "\n",
       "    .dataframe tbody tr th {\n",
       "        vertical-align: top;\n",
       "    }\n",
       "\n",
       "    .dataframe thead th {\n",
       "        text-align: right;\n",
       "    }\n",
       "</style>\n",
       "<table border=\"1\" class=\"dataframe\">\n",
       "  <thead>\n",
       "    <tr style=\"text-align: right;\">\n",
       "      <th></th>\n",
       "      <th>Iteración</th>\n",
       "      <th>x</th>\n",
       "      <th>f(x)</th>\n",
       "      <th>f'(x)</th>\n",
       "      <th>Error</th>\n",
       "    </tr>\n",
       "  </thead>\n",
       "  <tbody>\n",
       "    <tr>\n",
       "      <th>0</th>\n",
       "      <td>1</td>\n",
       "      <td>10.000000</td>\n",
       "      <td>5.085306e+01</td>\n",
       "      <td>49.516916</td>\n",
       "      <td>1.026984e+00</td>\n",
       "    </tr>\n",
       "    <tr>\n",
       "      <th>1</th>\n",
       "      <td>2</td>\n",
       "      <td>8.973016</td>\n",
       "      <td>6.827088e-01</td>\n",
       "      <td>48.027216</td>\n",
       "      <td>1.421504e-02</td>\n",
       "    </tr>\n",
       "    <tr>\n",
       "      <th>2</th>\n",
       "      <td>3</td>\n",
       "      <td>8.958801</td>\n",
       "      <td>1.931891e-04</td>\n",
       "      <td>48.000009</td>\n",
       "      <td>4.024772e-06</td>\n",
       "    </tr>\n",
       "    <tr>\n",
       "      <th>3</th>\n",
       "      <td>4</td>\n",
       "      <td>8.958797</td>\n",
       "      <td>1.961098e-11</td>\n",
       "      <td>48.000001</td>\n",
       "      <td>4.085621e-13</td>\n",
       "    </tr>\n",
       "  </tbody>\n",
       "</table>\n",
       "</div>"
      ],
      "text/plain": [
       "   Iteración          x          f(x)      f'(x)         Error\n",
       "0          1  10.000000  5.085306e+01  49.516916  1.026984e+00\n",
       "1          2   8.973016  6.827088e-01  48.027216  1.421504e-02\n",
       "2          3   8.958801  1.931891e-04  48.000009  4.024772e-06\n",
       "3          4   8.958797  1.961098e-11  48.000001  4.085621e-13"
      ]
     },
     "execution_count": 41,
     "metadata": {},
     "output_type": "execute_result"
    }
   ],
   "source": [
    "resolutor1.newton(x0 = 10)"
   ]
  },
  {
   "cell_type": "code",
   "execution_count": 42,
   "id": "37ad70f6",
   "metadata": {},
   "outputs": [
    {
     "data": {
      "application/vnd.microsoft.datawrangler.viewer.v0+json": {
       "columns": [
        {
         "name": "index",
         "rawType": "int64",
         "type": "integer"
        },
        {
         "name": "Iteración",
         "rawType": "int64",
         "type": "integer"
        },
        {
         "name": "a",
         "rawType": "float64",
         "type": "float"
        },
        {
         "name": "b",
         "rawType": "float64",
         "type": "float"
        },
        {
         "name": "c",
         "rawType": "float64",
         "type": "float"
        },
        {
         "name": "f(c)",
         "rawType": "float64",
         "type": "float"
        },
        {
         "name": "Error",
         "rawType": "float64",
         "type": "float"
        }
       ],
       "ref": "8e8a8a58-d950-41bf-be27-2a882f4c575b",
       "rows": [
        [
         "0",
         "1",
         "0.0",
         "20.0",
         "10.0",
         "50.85306037928376",
         "10.0"
        ],
        [
         "1",
         "2",
         "0.0",
         "10.0",
         "5.0",
         "-168.0306833159261",
         "5.0"
        ],
        [
         "2",
         "3",
         "5.0",
         "10.0",
         "7.5",
         "-67.57213825688069",
         "2.5"
        ],
        [
         "3",
         "4",
         "7.5",
         "10.0",
         "8.75",
         "-9.979150074708798",
         "1.25"
        ],
        [
         "4",
         "5",
         "8.75",
         "10.0",
         "9.375",
         "20.13369718282115",
         "0.625"
        ],
        [
         "5",
         "6",
         "8.75",
         "9.375",
         "9.0625",
         "4.987893739546394",
         "0.3125"
        ],
        [
         "6",
         "7",
         "8.75",
         "9.0625",
         "8.90625",
         "-2.519601456768328",
         "0.15625"
        ],
        [
         "7",
         "8",
         "8.90625",
         "9.0625",
         "8.984375",
         "1.2283530743673623",
         "0.078125"
        ],
        [
         "8",
         "9",
         "8.90625",
         "8.984375",
         "8.9453125",
         "-0.6470977022443662",
         "0.0390625"
        ],
        [
         "9",
         "10",
         "8.9453125",
         "8.984375",
         "8.96484375",
         "0.29026245077449175",
         "0.01953125"
        ],
        [
         "10",
         "11",
         "8.9453125",
         "8.96484375",
         "8.955078125",
         "-0.17850932818902265",
         "0.009765625"
        ],
        [
         "11",
         "12",
         "8.955078125",
         "8.96484375",
         "8.9599609375",
         "0.055853684832015915",
         "0.0048828125"
        ],
        [
         "12",
         "13",
         "8.955078125",
         "8.9599609375",
         "8.95751953125",
         "-0.061333546940943506",
         "0.00244140625"
        ],
        [
         "13",
         "14",
         "8.95751953125",
         "8.9599609375",
         "8.958740234375",
         "-0.0027413616018634457",
         "0.001220703125"
        ],
        [
         "14",
         "15",
         "8.958740234375",
         "8.9599609375",
         "8.9593505859375",
         "0.0265558040742917",
         "0.0006103515625"
        ],
        [
         "15",
         "16",
         "8.958740234375",
         "8.9593505859375",
         "8.95904541015625",
         "0.01190713183899561",
         "0.00030517578125"
        ],
        [
         "16",
         "17",
         "8.958740234375",
         "8.95904541015625",
         "8.958892822265625",
         "0.004582862767733786",
         "0.000152587890625"
        ],
        [
         "17",
         "18",
         "8.958740234375",
         "8.958892822265625",
         "8.958816528320312",
         "0.0009207449950281443",
         "7.62939453125e-05"
        ],
        [
         "18",
         "19",
         "8.958740234375",
         "8.958816528320312",
         "8.958778381347656",
         "-0.0009103097003730909",
         "3.814697265625e-05"
        ],
        [
         "19",
         "20",
         "8.958778381347656",
         "8.958816528320312",
         "8.958797454833984",
         "5.2172981099829485e-06",
         "1.9073486328125e-05"
        ],
        [
         "20",
         "21",
         "8.958778381347656",
         "8.958797454833984",
         "8.95878791809082",
         "-0.00045254628844304534",
         "9.5367431640625e-06"
        ],
        [
         "21",
         "22",
         "8.95878791809082",
         "8.958797454833984",
         "8.958792686462402",
         "-0.00022366451702282575",
         "4.76837158203125e-06"
        ],
        [
         "22",
         "23",
         "8.958792686462402",
         "8.958797454833984",
         "8.958795070648193",
         "-0.00010922361491338961",
         "2.384185791015625e-06"
        ],
        [
         "23",
         "24",
         "8.958795070648193",
         "8.958797454833984",
         "8.958796262741089",
         "-5.200315979436709e-05",
         "1.1920928955078125e-06"
        ],
        [
         "24",
         "25",
         "8.958796262741089",
         "8.958797454833984",
         "8.958796858787537",
         "-2.3392931211674295e-05",
         "5.960464477539062e-07"
        ]
       ],
       "shape": {
        "columns": 6,
        "rows": 25
       }
      },
      "text/html": [
       "<div>\n",
       "<style scoped>\n",
       "    .dataframe tbody tr th:only-of-type {\n",
       "        vertical-align: middle;\n",
       "    }\n",
       "\n",
       "    .dataframe tbody tr th {\n",
       "        vertical-align: top;\n",
       "    }\n",
       "\n",
       "    .dataframe thead th {\n",
       "        text-align: right;\n",
       "    }\n",
       "</style>\n",
       "<table border=\"1\" class=\"dataframe\">\n",
       "  <thead>\n",
       "    <tr style=\"text-align: right;\">\n",
       "      <th></th>\n",
       "      <th>Iteración</th>\n",
       "      <th>a</th>\n",
       "      <th>b</th>\n",
       "      <th>c</th>\n",
       "      <th>f(c)</th>\n",
       "      <th>Error</th>\n",
       "    </tr>\n",
       "  </thead>\n",
       "  <tbody>\n",
       "    <tr>\n",
       "      <th>0</th>\n",
       "      <td>1</td>\n",
       "      <td>0.000000</td>\n",
       "      <td>20.000000</td>\n",
       "      <td>10.000000</td>\n",
       "      <td>50.853060</td>\n",
       "      <td>1.000000e+01</td>\n",
       "    </tr>\n",
       "    <tr>\n",
       "      <th>1</th>\n",
       "      <td>2</td>\n",
       "      <td>0.000000</td>\n",
       "      <td>10.000000</td>\n",
       "      <td>5.000000</td>\n",
       "      <td>-168.030683</td>\n",
       "      <td>5.000000e+00</td>\n",
       "    </tr>\n",
       "    <tr>\n",
       "      <th>2</th>\n",
       "      <td>3</td>\n",
       "      <td>5.000000</td>\n",
       "      <td>10.000000</td>\n",
       "      <td>7.500000</td>\n",
       "      <td>-67.572138</td>\n",
       "      <td>2.500000e+00</td>\n",
       "    </tr>\n",
       "    <tr>\n",
       "      <th>3</th>\n",
       "      <td>4</td>\n",
       "      <td>7.500000</td>\n",
       "      <td>10.000000</td>\n",
       "      <td>8.750000</td>\n",
       "      <td>-9.979150</td>\n",
       "      <td>1.250000e+00</td>\n",
       "    </tr>\n",
       "    <tr>\n",
       "      <th>4</th>\n",
       "      <td>5</td>\n",
       "      <td>8.750000</td>\n",
       "      <td>10.000000</td>\n",
       "      <td>9.375000</td>\n",
       "      <td>20.133697</td>\n",
       "      <td>6.250000e-01</td>\n",
       "    </tr>\n",
       "    <tr>\n",
       "      <th>5</th>\n",
       "      <td>6</td>\n",
       "      <td>8.750000</td>\n",
       "      <td>9.375000</td>\n",
       "      <td>9.062500</td>\n",
       "      <td>4.987894</td>\n",
       "      <td>3.125000e-01</td>\n",
       "    </tr>\n",
       "    <tr>\n",
       "      <th>6</th>\n",
       "      <td>7</td>\n",
       "      <td>8.750000</td>\n",
       "      <td>9.062500</td>\n",
       "      <td>8.906250</td>\n",
       "      <td>-2.519601</td>\n",
       "      <td>1.562500e-01</td>\n",
       "    </tr>\n",
       "    <tr>\n",
       "      <th>7</th>\n",
       "      <td>8</td>\n",
       "      <td>8.906250</td>\n",
       "      <td>9.062500</td>\n",
       "      <td>8.984375</td>\n",
       "      <td>1.228353</td>\n",
       "      <td>7.812500e-02</td>\n",
       "    </tr>\n",
       "    <tr>\n",
       "      <th>8</th>\n",
       "      <td>9</td>\n",
       "      <td>8.906250</td>\n",
       "      <td>8.984375</td>\n",
       "      <td>8.945312</td>\n",
       "      <td>-0.647098</td>\n",
       "      <td>3.906250e-02</td>\n",
       "    </tr>\n",
       "    <tr>\n",
       "      <th>9</th>\n",
       "      <td>10</td>\n",
       "      <td>8.945312</td>\n",
       "      <td>8.984375</td>\n",
       "      <td>8.964844</td>\n",
       "      <td>0.290262</td>\n",
       "      <td>1.953125e-02</td>\n",
       "    </tr>\n",
       "    <tr>\n",
       "      <th>10</th>\n",
       "      <td>11</td>\n",
       "      <td>8.945312</td>\n",
       "      <td>8.964844</td>\n",
       "      <td>8.955078</td>\n",
       "      <td>-0.178509</td>\n",
       "      <td>9.765625e-03</td>\n",
       "    </tr>\n",
       "    <tr>\n",
       "      <th>11</th>\n",
       "      <td>12</td>\n",
       "      <td>8.955078</td>\n",
       "      <td>8.964844</td>\n",
       "      <td>8.959961</td>\n",
       "      <td>0.055854</td>\n",
       "      <td>4.882812e-03</td>\n",
       "    </tr>\n",
       "    <tr>\n",
       "      <th>12</th>\n",
       "      <td>13</td>\n",
       "      <td>8.955078</td>\n",
       "      <td>8.959961</td>\n",
       "      <td>8.957520</td>\n",
       "      <td>-0.061334</td>\n",
       "      <td>2.441406e-03</td>\n",
       "    </tr>\n",
       "    <tr>\n",
       "      <th>13</th>\n",
       "      <td>14</td>\n",
       "      <td>8.957520</td>\n",
       "      <td>8.959961</td>\n",
       "      <td>8.958740</td>\n",
       "      <td>-0.002741</td>\n",
       "      <td>1.220703e-03</td>\n",
       "    </tr>\n",
       "    <tr>\n",
       "      <th>14</th>\n",
       "      <td>15</td>\n",
       "      <td>8.958740</td>\n",
       "      <td>8.959961</td>\n",
       "      <td>8.959351</td>\n",
       "      <td>0.026556</td>\n",
       "      <td>6.103516e-04</td>\n",
       "    </tr>\n",
       "    <tr>\n",
       "      <th>15</th>\n",
       "      <td>16</td>\n",
       "      <td>8.958740</td>\n",
       "      <td>8.959351</td>\n",
       "      <td>8.959045</td>\n",
       "      <td>0.011907</td>\n",
       "      <td>3.051758e-04</td>\n",
       "    </tr>\n",
       "    <tr>\n",
       "      <th>16</th>\n",
       "      <td>17</td>\n",
       "      <td>8.958740</td>\n",
       "      <td>8.959045</td>\n",
       "      <td>8.958893</td>\n",
       "      <td>0.004583</td>\n",
       "      <td>1.525879e-04</td>\n",
       "    </tr>\n",
       "    <tr>\n",
       "      <th>17</th>\n",
       "      <td>18</td>\n",
       "      <td>8.958740</td>\n",
       "      <td>8.958893</td>\n",
       "      <td>8.958817</td>\n",
       "      <td>0.000921</td>\n",
       "      <td>7.629395e-05</td>\n",
       "    </tr>\n",
       "    <tr>\n",
       "      <th>18</th>\n",
       "      <td>19</td>\n",
       "      <td>8.958740</td>\n",
       "      <td>8.958817</td>\n",
       "      <td>8.958778</td>\n",
       "      <td>-0.000910</td>\n",
       "      <td>3.814697e-05</td>\n",
       "    </tr>\n",
       "    <tr>\n",
       "      <th>19</th>\n",
       "      <td>20</td>\n",
       "      <td>8.958778</td>\n",
       "      <td>8.958817</td>\n",
       "      <td>8.958797</td>\n",
       "      <td>0.000005</td>\n",
       "      <td>1.907349e-05</td>\n",
       "    </tr>\n",
       "    <tr>\n",
       "      <th>20</th>\n",
       "      <td>21</td>\n",
       "      <td>8.958778</td>\n",
       "      <td>8.958797</td>\n",
       "      <td>8.958788</td>\n",
       "      <td>-0.000453</td>\n",
       "      <td>9.536743e-06</td>\n",
       "    </tr>\n",
       "    <tr>\n",
       "      <th>21</th>\n",
       "      <td>22</td>\n",
       "      <td>8.958788</td>\n",
       "      <td>8.958797</td>\n",
       "      <td>8.958793</td>\n",
       "      <td>-0.000224</td>\n",
       "      <td>4.768372e-06</td>\n",
       "    </tr>\n",
       "    <tr>\n",
       "      <th>22</th>\n",
       "      <td>23</td>\n",
       "      <td>8.958793</td>\n",
       "      <td>8.958797</td>\n",
       "      <td>8.958795</td>\n",
       "      <td>-0.000109</td>\n",
       "      <td>2.384186e-06</td>\n",
       "    </tr>\n",
       "    <tr>\n",
       "      <th>23</th>\n",
       "      <td>24</td>\n",
       "      <td>8.958795</td>\n",
       "      <td>8.958797</td>\n",
       "      <td>8.958796</td>\n",
       "      <td>-0.000052</td>\n",
       "      <td>1.192093e-06</td>\n",
       "    </tr>\n",
       "    <tr>\n",
       "      <th>24</th>\n",
       "      <td>25</td>\n",
       "      <td>8.958796</td>\n",
       "      <td>8.958797</td>\n",
       "      <td>8.958797</td>\n",
       "      <td>-0.000023</td>\n",
       "      <td>5.960464e-07</td>\n",
       "    </tr>\n",
       "  </tbody>\n",
       "</table>\n",
       "</div>"
      ],
      "text/plain": [
       "    Iteración         a          b          c        f(c)         Error\n",
       "0           1  0.000000  20.000000  10.000000   50.853060  1.000000e+01\n",
       "1           2  0.000000  10.000000   5.000000 -168.030683  5.000000e+00\n",
       "2           3  5.000000  10.000000   7.500000  -67.572138  2.500000e+00\n",
       "3           4  7.500000  10.000000   8.750000   -9.979150  1.250000e+00\n",
       "4           5  8.750000  10.000000   9.375000   20.133697  6.250000e-01\n",
       "5           6  8.750000   9.375000   9.062500    4.987894  3.125000e-01\n",
       "6           7  8.750000   9.062500   8.906250   -2.519601  1.562500e-01\n",
       "7           8  8.906250   9.062500   8.984375    1.228353  7.812500e-02\n",
       "8           9  8.906250   8.984375   8.945312   -0.647098  3.906250e-02\n",
       "9          10  8.945312   8.984375   8.964844    0.290262  1.953125e-02\n",
       "10         11  8.945312   8.964844   8.955078   -0.178509  9.765625e-03\n",
       "11         12  8.955078   8.964844   8.959961    0.055854  4.882812e-03\n",
       "12         13  8.955078   8.959961   8.957520   -0.061334  2.441406e-03\n",
       "13         14  8.957520   8.959961   8.958740   -0.002741  1.220703e-03\n",
       "14         15  8.958740   8.959961   8.959351    0.026556  6.103516e-04\n",
       "15         16  8.958740   8.959351   8.959045    0.011907  3.051758e-04\n",
       "16         17  8.958740   8.959045   8.958893    0.004583  1.525879e-04\n",
       "17         18  8.958740   8.958893   8.958817    0.000921  7.629395e-05\n",
       "18         19  8.958740   8.958817   8.958778   -0.000910  3.814697e-05\n",
       "19         20  8.958778   8.958817   8.958797    0.000005  1.907349e-05\n",
       "20         21  8.958778   8.958797   8.958788   -0.000453  9.536743e-06\n",
       "21         22  8.958788   8.958797   8.958793   -0.000224  4.768372e-06\n",
       "22         23  8.958793   8.958797   8.958795   -0.000109  2.384186e-06\n",
       "23         24  8.958795   8.958797   8.958796   -0.000052  1.192093e-06\n",
       "24         25  8.958796   8.958797   8.958797   -0.000023  5.960464e-07"
      ]
     },
     "execution_count": 42,
     "metadata": {},
     "output_type": "execute_result"
    }
   ],
   "source": [
    "resolutor1.biseccion(a = 0, b = 20)"
   ]
  },
  {
   "cell_type": "markdown",
   "id": "8d87c6a1",
   "metadata": {},
   "source": [
    "\n",
    "\n",
    "### **Parcial 5: Química – pH de una solución**  Estefanía Cali Herrera \n",
    "**Contexto**: La concentración de iones $[H^+]$ en una solución satisface:  \n",
    "$$\n",
    "[H^+]^3 + 5 \\times 10^{-5} [H^+]^2 - 10^{-14} = 0\n",
    "$$  \n",
    "Hallar $[H^+]$ para calcular el pH ($ \\text{pH} = -\\log[H^+]$).  \n",
    "\n",
    "**Tareas**:  \n",
    "1. Usar **bisección** en $[0, 10^{-4}]$.  \n",
    "2. Usar **Newton** con $[H^+]_0 = 10^{-5}$.  \n",
    "3. Validar con la fórmula exacta.  \n",
    "\n",
    "**Evaluación**:  \n",
    "- Precisión en unidades científicas.  \n",
    "- Discusión de aplicaciones en química.  \n",
    "\n"
   ]
  },
  {
   "cell_type": "code",
   "execution_count": 16,
   "id": "ee8c7e2d",
   "metadata": {},
   "outputs": [],
   "source": [
    "import numpy as np\n",
    "import pandas as pd\n",
    "\n",
    "import matplotlib.pyplot as plt\n",
    "\n",
    "class NewtonBiseccion:\n",
    "    def __init__(self):\n",
    "        # Definición de la función y su derivada\n",
    "        self.func = lambda t: t**3 + 5 * 10**(-5)*t**2 - 10**-14\n",
    "        self.dfunc = lambda t: 3*t**2 + 10*10**(-5)*t \n",
    "\n",
    "    def graficar_funcion(self, a=0, b=3, puntos=400):\n",
    "        t = np.linspace(a, b, puntos)\n",
    "        O = self.func(t)\n",
    "        plt.figure(figsize=(8,5))\n",
    "        plt.plot(t, O, label=r'$O(t) = t^3 + 5*10**(-5)*t^2 -10**(-14)$')\n",
    "        plt.axhline(0, color='red', linestyle='--')\n",
    "        plt.xlabel('t (días)')\n",
    "        plt.ylabel('O(t)')\n",
    "        plt.title('Química – pH de una solución')\n",
    "        plt.legend()\n",
    "        plt.grid(True)\n",
    "        plt.show()\n",
    "\n",
    "    def newton(self, t0=1.5, tol=1e-6, max_iter=20):\n",
    "        datos = []\n",
    "        t = t0\n",
    "        for i in range(max_iter):\n",
    "            f_val = self.func(t)\n",
    "            df_val = self.dfunc(t)\n",
    "            if df_val == 0:\n",
    "                break\n",
    "            t_new = t - f_val / df_val\n",
    "            datos.append({'Iteración': i+1, 't': t, 'O(t)': f_val, \"O'(t)\": df_val, 'Error': abs(t_new - t)})\n",
    "            if abs(t_new - t) < tol:\n",
    "                break\n",
    "            t = t_new\n",
    "        return pd.DataFrame(datos)\n",
    "\n",
    "    def biseccion(self, a=0, b=3, tol=1e-6, max_iter=50):\n",
    "        datos = []\n",
    "        fa = self.func(a)\n",
    "        fb = self.func(b)\n",
    "        if fa * fb > 0:\n",
    "            raise ValueError(\"La función no cambia de signo en el intervalo dado.\")\n",
    "        for i in range(max_iter):\n",
    "            c = (a + b) / 2\n",
    "            fc = self.func(c)\n",
    "            datos.append({'Iteración': i+1, 'a': a, 'b': b, 'c': c, 'O(c)': fc, 'Error': abs(b - a)/2})\n",
    "            if abs(fc) < tol or abs(b - a)/2 < tol:\n",
    "                break\n",
    "            if fa * fc < 0:\n",
    "                b = c\n",
    "                fb = fc\n",
    "            else:\n",
    "                a = c\n",
    "                fa = fc\n",
    "        return pd.DataFrame(datos)\n",
    "\n",
    "    def comparar(self, t0=1.5, a=0, b=3, tol=1e-6, max_iter=20):\n",
    "        df_newton = self.newton(t0, tol, max_iter)\n",
    "        df_biseccion = self.biseccion(a, b, tol, max_iter)\n",
    "        # Igualar número de filas para comparación\n",
    "        max_len = max(len(df_newton), len(df_biseccion))\n",
    "        df_newton = df_newton.reindex(range(max_len)).reset_index(drop=True)\n",
    "        df_biseccion = df_biseccion.reindex(range(max_len)).reset_index(drop=True)\n",
    "        df_comp = pd.concat([df_newton.add_prefix('Newton_'), df_biseccion.add_prefix('Biseccion_')], axis=1)\n",
    "        return df_comp"
   ]
  },
  {
   "cell_type": "code",
   "execution_count": 17,
   "id": "554fd41d",
   "metadata": {},
   "outputs": [],
   "source": [
    "comparador = NewtonBiseccion()"
   ]
  },
  {
   "cell_type": "code",
   "execution_count": 18,
   "id": "a898c889",
   "metadata": {},
   "outputs": [
    {
     "data": {
      "image/png": "[encoded data removed]",
      "text/plain": [
       "<Figure size 800x500 with 1 Axes>"
      ]
     },
     "metadata": {},
     "output_type": "display_data"
    }
   ],
   "source": [
    "comparador.graficar_funcion(a = 0, b = 0.25*10**(-4))"
   ]
  },
  {
   "cell_type": "code",
   "execution_count": 10,
   "id": "5532aca6",
   "metadata": {},
   "outputs": [
    {
     "data": {
      "application/vnd.microsoft.datawrangler.viewer.v0+json": {
       "columns": [
        {
         "name": "index",
         "rawType": "int64",
         "type": "integer"
        },
        {
         "name": "Iteración",
         "rawType": "int64",
         "type": "integer"
        },
        {
         "name": "a",
         "rawType": "int64",
         "type": "integer"
        },
        {
         "name": "b",
         "rawType": "float64",
         "type": "float"
        },
        {
         "name": "c",
         "rawType": "float64",
         "type": "float"
        },
        {
         "name": "O(c)",
         "rawType": "float64",
         "type": "float"
        },
        {
         "name": "Error",
         "rawType": "float64",
         "type": "float"
        }
       ],
       "ref": "37581fab-52b6-475d-8ad3-9670b69418c0",
       "rows": [
        [
         "0",
         "1",
         "0",
         "2.5e-05",
         "1.25e-05",
         "-2.34374999999999e-16",
         "1.25e-05"
        ]
       ],
       "shape": {
        "columns": 6,
        "rows": 1
       }
      },
      "text/html": [
       "<div>\n",
       "<style scoped>\n",
       "    .dataframe tbody tr th:only-of-type {\n",
       "        vertical-align: middle;\n",
       "    }\n",
       "\n",
       "    .dataframe tbody tr th {\n",
       "        vertical-align: top;\n",
       "    }\n",
       "\n",
       "    .dataframe thead th {\n",
       "        text-align: right;\n",
       "    }\n",
       "</style>\n",
       "<table border=\"1\" class=\"dataframe\">\n",
       "  <thead>\n",
       "    <tr style=\"text-align: right;\">\n",
       "      <th></th>\n",
       "      <th>Iteración</th>\n",
       "      <th>a</th>\n",
       "      <th>b</th>\n",
       "      <th>c</th>\n",
       "      <th>O(c)</th>\n",
       "      <th>Error</th>\n",
       "    </tr>\n",
       "  </thead>\n",
       "  <tbody>\n",
       "    <tr>\n",
       "      <th>0</th>\n",
       "      <td>1</td>\n",
       "      <td>0</td>\n",
       "      <td>0.000025</td>\n",
       "      <td>0.000013</td>\n",
       "      <td>-2.343750e-16</td>\n",
       "      <td>0.000013</td>\n",
       "    </tr>\n",
       "  </tbody>\n",
       "</table>\n",
       "</div>"
      ],
      "text/plain": [
       "   Iteración  a         b         c          O(c)     Error\n",
       "0          1  0  0.000025  0.000013 -2.343750e-16  0.000013"
      ]
     },
     "execution_count": 10,
     "metadata": {},
     "output_type": "execute_result"
    }
   ],
   "source": [
    "comparador.biseccion(a = 0, b = 0.25*10**(-4), tol=1e-6, max_iter=20)"
   ]
  },
  {
   "cell_type": "code",
   "execution_count": 11,
   "id": "0bd3e0f6",
   "metadata": {},
   "outputs": [
    {
     "data": {
      "application/vnd.microsoft.datawrangler.viewer.v0+json": {
       "columns": [
        {
         "name": "index",
         "rawType": "int64",
         "type": "integer"
        },
        {
         "name": "Iteración",
         "rawType": "int64",
         "type": "integer"
        },
        {
         "name": "t",
         "rawType": "float64",
         "type": "float"
        },
        {
         "name": "O(t)",
         "rawType": "float64",
         "type": "float"
        },
        {
         "name": "O'(t)",
         "rawType": "float64",
         "type": "float"
        },
        {
         "name": "Error",
         "rawType": "float64",
         "type": "float"
        }
       ],
       "ref": "a4c3b297-8d3b-4b91-a1a9-785733cbc50c",
       "rows": [
        [
         "0",
         "1",
         "1e-05",
         "-3.999999999999999e-15",
         "1.3e-09",
         "3.0769230769230757e-06"
        ],
        [
         "1",
         "2",
         "1.3076923076923077e-05",
         "7.8652708238507e-16",
         "1.8207100591715975e-09",
         "4.319892002699935e-07"
        ]
       ],
       "shape": {
        "columns": 5,
        "rows": 2
       }
      },
      "text/html": [
       "<div>\n",
       "<style scoped>\n",
       "    .dataframe tbody tr th:only-of-type {\n",
       "        vertical-align: middle;\n",
       "    }\n",
       "\n",
       "    .dataframe tbody tr th {\n",
       "        vertical-align: top;\n",
       "    }\n",
       "\n",
       "    .dataframe thead th {\n",
       "        text-align: right;\n",
       "    }\n",
       "</style>\n",
       "<table border=\"1\" class=\"dataframe\">\n",
       "  <thead>\n",
       "    <tr style=\"text-align: right;\">\n",
       "      <th></th>\n",
       "      <th>Iteración</th>\n",
       "      <th>t</th>\n",
       "      <th>O(t)</th>\n",
       "      <th>O'(t)</th>\n",
       "      <th>Error</th>\n",
       "    </tr>\n",
       "  </thead>\n",
       "  <tbody>\n",
       "    <tr>\n",
       "      <th>0</th>\n",
       "      <td>1</td>\n",
       "      <td>0.000010</td>\n",
       "      <td>-4.000000e-15</td>\n",
       "      <td>1.300000e-09</td>\n",
       "      <td>3.076923e-06</td>\n",
       "    </tr>\n",
       "    <tr>\n",
       "      <th>1</th>\n",
       "      <td>2</td>\n",
       "      <td>0.000013</td>\n",
       "      <td>7.865271e-16</td>\n",
       "      <td>1.820710e-09</td>\n",
       "      <td>4.319892e-07</td>\n",
       "    </tr>\n",
       "  </tbody>\n",
       "</table>\n",
       "</div>"
      ],
      "text/plain": [
       "   Iteración         t          O(t)         O'(t)         Error\n",
       "0          1  0.000010 -4.000000e-15  1.300000e-09  3.076923e-06\n",
       "1          2  0.000013  7.865271e-16  1.820710e-09  4.319892e-07"
      ]
     },
     "execution_count": 11,
     "metadata": {},
     "output_type": "execute_result"
    }
   ],
   "source": [
    "comparador.newton(t0 = 10**(-5))"
   ]
  },
  {
   "cell_type": "code",
   "execution_count": 12,
   "id": "f0038a32",
   "metadata": {},
   "outputs": [
    {
     "data": {
      "application/vnd.microsoft.datawrangler.viewer.v0+json": {
       "columns": [
        {
         "name": "index",
         "rawType": "int64",
         "type": "integer"
        },
        {
         "name": "Newton_Iteración",
         "rawType": "int64",
         "type": "integer"
        },
        {
         "name": "Newton_t",
         "rawType": "float64",
         "type": "float"
        },
        {
         "name": "Newton_O(t)",
         "rawType": "float64",
         "type": "float"
        },
        {
         "name": "Newton_O'(t)",
         "rawType": "float64",
         "type": "float"
        },
        {
         "name": "Newton_Error",
         "rawType": "float64",
         "type": "float"
        },
        {
         "name": "Biseccion_Iteración",
         "rawType": "float64",
         "type": "float"
        },
        {
         "name": "Biseccion_a",
         "rawType": "float64",
         "type": "float"
        },
        {
         "name": "Biseccion_b",
         "rawType": "float64",
         "type": "float"
        },
        {
         "name": "Biseccion_c",
         "rawType": "float64",
         "type": "float"
        },
        {
         "name": "Biseccion_O(c)",
         "rawType": "float64",
         "type": "float"
        },
        {
         "name": "Biseccion_Error",
         "rawType": "float64",
         "type": "float"
        }
       ],
       "ref": "dfd2b769-2c44-4fed-9ad8-8346ae5085af",
       "rows": [
        [
         "0",
         "1",
         "1e-05",
         "-3.999999999999999e-15",
         "1.3e-09",
         "3.0769230769230757e-06",
         "1.0",
         "0.0",
         "2.5e-05",
         "1.25e-05",
         "-2.34374999999999e-16",
         "1.25e-05"
        ],
        [
         "1",
         "2",
         "1.3076923076923077e-05",
         "7.8652708238507e-16",
         "1.8207100591715975e-09",
         "4.319892002699935e-07",
         null,
         null,
         null,
         null,
         null,
         null
        ]
       ],
       "shape": {
        "columns": 11,
        "rows": 2
       }
      },
      "text/html": [
       "<div>\n",
       "<style scoped>\n",
       "    .dataframe tbody tr th:only-of-type {\n",
       "        vertical-align: middle;\n",
       "    }\n",
       "\n",
       "    .dataframe tbody tr th {\n",
       "        vertical-align: top;\n",
       "    }\n",
       "\n",
       "    .dataframe thead th {\n",
       "        text-align: right;\n",
       "    }\n",
       "</style>\n",
       "<table border=\"1\" class=\"dataframe\">\n",
       "  <thead>\n",
       "    <tr style=\"text-align: right;\">\n",
       "      <th></th>\n",
       "      <th>Newton_Iteración</th>\n",
       "      <th>Newton_t</th>\n",
       "      <th>Newton_O(t)</th>\n",
       "      <th>Newton_O'(t)</th>\n",
       "      <th>Newton_Error</th>\n",
       "      <th>Biseccion_Iteración</th>\n",
       "      <th>Biseccion_a</th>\n",
       "      <th>Biseccion_b</th>\n",
       "      <th>Biseccion_c</th>\n",
       "      <th>Biseccion_O(c)</th>\n",
       "      <th>Biseccion_Error</th>\n",
       "    </tr>\n",
       "  </thead>\n",
       "  <tbody>\n",
       "    <tr>\n",
       "      <th>0</th>\n",
       "      <td>1</td>\n",
       "      <td>0.000010</td>\n",
       "      <td>-4.000000e-15</td>\n",
       "      <td>1.300000e-09</td>\n",
       "      <td>3.076923e-06</td>\n",
       "      <td>1.0</td>\n",
       "      <td>0.0</td>\n",
       "      <td>0.000025</td>\n",
       "      <td>0.000013</td>\n",
       "      <td>-2.343750e-16</td>\n",
       "      <td>0.000013</td>\n",
       "    </tr>\n",
       "    <tr>\n",
       "      <th>1</th>\n",
       "      <td>2</td>\n",
       "      <td>0.000013</td>\n",
       "      <td>7.865271e-16</td>\n",
       "      <td>1.820710e-09</td>\n",
       "      <td>4.319892e-07</td>\n",
       "      <td>NaN</td>\n",
       "      <td>NaN</td>\n",
       "      <td>NaN</td>\n",
       "      <td>NaN</td>\n",
       "      <td>NaN</td>\n",
       "      <td>NaN</td>\n",
       "    </tr>\n",
       "  </tbody>\n",
       "</table>\n",
       "</div>"
      ],
      "text/plain": [
       "   Newton_Iteración  Newton_t   Newton_O(t)  Newton_O'(t)  Newton_Error  \\\n",
       "0                 1  0.000010 -4.000000e-15  1.300000e-09  3.076923e-06   \n",
       "1                 2  0.000013  7.865271e-16  1.820710e-09  4.319892e-07   \n",
       "\n",
       "   Biseccion_Iteración  Biseccion_a  Biseccion_b  Biseccion_c  Biseccion_O(c)  \\\n",
       "0                  1.0          0.0     0.000025     0.000013   -2.343750e-16   \n",
       "1                  NaN          NaN          NaN          NaN             NaN   \n",
       "\n",
       "   Biseccion_Error  \n",
       "0         0.000013  \n",
       "1              NaN  "
      ]
     },
     "execution_count": 12,
     "metadata": {},
     "output_type": "execute_result"
    }
   ],
   "source": [
    "comparador.comparar(t0 = 10**(-5), a = 0, b = 0.25*10**(-4), tol=1e-6, max_iter=20)"
   ]
  },
  {
   "cell_type": "markdown",
   "id": "f43065c6",
   "metadata": {},
   "source": [
    "\n",
    "\n",
    "### **Parcial 6: Ciencias Ambientales – Oxígeno en un lago**  Merlis Yulieth \n",
    "**Contexto**: La concentración de oxígeno $O(t)$ en un lago contaminado sigue:  \n",
    "$$\n",
    "O(t) = t^3 - 2t^2 - 5t + 6\n",
    "$$  \n",
    "Hallar $t$ (días) cuando $O(t) = 0$.  \n",
    "\n",
    "**Tareas**:  \n",
    "1. Usar **bisección** en $[0, 3]$.  \n",
    "2. Usar **Newton** con $t_0 = 1.5$.  \n",
    "3. Proponer una estrategia de limpieza basada en los resultados.  \n",
    "\n",
    "**Evaluación**:  \n",
    "- Relación con problemas reales.  \n",
    "- Creatividad en la solución aplicada.  \n",
    "\n"
   ]
  },
  {
   "cell_type": "code",
   "execution_count": 4,
   "id": "1b28740a",
   "metadata": {},
   "outputs": [],
   "source": [
    "import numpy as np\n",
    "import pandas as pd\n",
    "\n",
    "import matplotlib.pyplot as plt\n",
    "\n",
    "class NewtonBiseccion:\n",
    "    def __init__(self):\n",
    "        # Definición de la función y su derivada\n",
    "        self.func = lambda t: t**3 - 2*t**2 - 5*t + 6\n",
    "        self.dfunc = lambda t: 3*t**2 - 4*t - 5\n",
    "\n",
    "    def graficar_funcion(self, a=0, b=3, puntos=400):\n",
    "        t = np.linspace(a, b, puntos)\n",
    "        O = self.func(t)\n",
    "        plt.figure(figsize=(8,5))\n",
    "        plt.plot(t, O, label=r'$O(t) = t^3 - 2t^2 - 5t + 6$')\n",
    "        plt.axhline(0, color='red', linestyle='--')\n",
    "        plt.xlabel('t (días)')\n",
    "        plt.ylabel('O(t)')\n",
    "        plt.title('Concentración de oxígeno en el lago')\n",
    "        plt.legend()\n",
    "        plt.grid(True)\n",
    "        plt.show()\n",
    "\n",
    "    def newton(self, t0=1.5, tol=1e-6, max_iter=20):\n",
    "        datos = []\n",
    "        t = t0\n",
    "        for i in range(max_iter):\n",
    "            f_val = self.func(t)\n",
    "            df_val = self.dfunc(t)\n",
    "            if df_val == 0:\n",
    "                break\n",
    "            t_new = t - f_val / df_val\n",
    "            datos.append({'Iteración': i+1, 't': t, 'O(t)': f_val, \"O'(t)\": df_val, 'Error': abs(t_new - t)})\n",
    "            if abs(t_new - t) < tol:\n",
    "                break\n",
    "            t = t_new\n",
    "        return pd.DataFrame(datos)\n",
    "\n",
    "    def biseccion(self, a=0, b=3, tol=1e-6, max_iter=50):\n",
    "        datos = []\n",
    "        fa = self.func(a)\n",
    "        fb = self.func(b)\n",
    "        if fa * fb > 0:\n",
    "            raise ValueError(\"La función no cambia de signo en el intervalo dado.\")\n",
    "        for i in range(max_iter):\n",
    "            c = (a + b) / 2\n",
    "            fc = self.func(c)\n",
    "            datos.append({'Iteración': i+1, 'a': a, 'b': b, 'c': c, 'O(c)': fc, 'Error': abs(b - a)/2})\n",
    "            if abs(fc) < tol or abs(b - a)/2 < tol:\n",
    "                break\n",
    "            if fa * fc < 0:\n",
    "                b = c\n",
    "                fb = fc\n",
    "            else:\n",
    "                a = c\n",
    "                fa = fc\n",
    "        return pd.DataFrame(datos)\n",
    "\n",
    "    def comparar(self, t0=1.5, a=0, b=3, tol=1e-6, max_iter=20):\n",
    "        df_newton = self.newton(t0, tol, max_iter)\n",
    "        df_biseccion = self.biseccion(a, b, tol, max_iter)\n",
    "        # Igualar número de filas para comparación\n",
    "        max_len = max(len(df_newton), len(df_biseccion))\n",
    "        df_newton = df_newton.reindex(range(max_len)).reset_index(drop=True)\n",
    "        df_biseccion = df_biseccion.reindex(range(max_len)).reset_index(drop=True)\n",
    "        df_comp = pd.concat([df_newton.add_prefix('Newton_'), df_biseccion.add_prefix('Biseccion_')], axis=1)\n",
    "        return df_comp"
   ]
  },
  {
   "cell_type": "code",
   "execution_count": 5,
   "id": "0f09d512",
   "metadata": {},
   "outputs": [],
   "source": [
    "comparador = NewtonBiseccion()\n"
   ]
  },
  {
   "cell_type": "code",
   "execution_count": 6,
   "id": "3b20efbb",
   "metadata": {},
   "outputs": [
    {
     "data": {
      "image/png": "[encoded data removed]",
      "text/plain": [
       "<Figure size 800x500 with 1 Axes>"
      ]
     },
     "metadata": {},
     "output_type": "display_data"
    }
   ],
   "source": [
    "comparador.graficar_funcion() "
   ]
  },
  {
   "cell_type": "markdown",
   "id": "b73a4146",
   "metadata": {},
   "source": [
    "\n",
    "\n",
    "### **Rúbrica General (común a todos los parciales)**  \n",
    "| **Criterio**               | **Puntos** |  \n",
    "|-----------------------------|------------|  \n",
    "| Correcta implementación     | 40%        |  \n",
    "| Análisis de convergencia    | 30%        |  \n",
    "| Interpretación aplicada     | 20%        |  \n",
    "| Presentación/claridad       | 10%        |  \n",
    "\n",
    "**Nota**: Cada parcial incluye un **problema real** para reforzar el ABPP. El uso de herramientas digitales es clave para simular entornos laborales.  \n",
    "\n"
   ]
  },
  {
   "cell_type": "markdown",
   "id": "ea5ba867",
   "metadata": {},
   "source": [
    "\n",
    "## 11. Retroalimentación\n",
    "\n",
    "**Técnica \"3-2-1\":**\n",
    "- 3 conceptos aprendidos\n",
    "- 2 dudas persistentes\n",
    "- 1 aplicación que descubrieron\n"
   ]
  },
  {
   "cell_type": "markdown",
   "id": "eabceb68",
   "metadata": {},
   "source": [
    "\n",
    "**Rúbrica de Autoevaluación:**\n",
    "1. Comprensión conceptual $(1-5)$\n",
    "2. Habilidad de implementación $(1-5)$\n",
    "3. Creatividad en aplicaciones $(1-5)$\n",
    "4. Trabajo colaborativo $(1-5)$\n"
   ]
  },
  {
   "cell_type": "markdown",
   "id": "3568838a",
   "metadata": {},
   "source": [
    "\n",
    "## 12. Vocabulario Inglés\n",
    "\n",
    "**Términos Clave:**\n",
    "- Bisection method / Método de bisección\n",
    "- Nonlinear equations / Ecuaciones no lineales\n",
    "- Convergence / Convergencia\n",
    "- Tolerance / Tolerancia\n",
    "- Iteration / Iteración\n",
    "- Root finding / Búsqueda de raíces\n",
    "- Interval / Intervalo\n",
    "- Algorithm / Algoritmo\n",
    "- Implementation / Implementación\n",
    "- Precision / Precisión\n",
    "\n",
    "**Frases Útiles:**\n",
    "- \"The function changes sign on the interval\" / La función cambia de signo en el intervalo\n",
    "- \"The method guarantees convergence\" / El método garantiza convergencia\n",
    "- \"We need to set a tolerance threshold\" / Necesitamos establecer un umbral de tolerancia\n",
    "- \"The error halves each iteration\" / El error se reduce a la mitad cada iteración\n",
    "- \"Let's implement this computationally\" / Implementemos esto computacionalmente\n"
   ]
  },
  {
   "cell_type": "markdown",
   "id": "df52ec2b",
   "metadata": {},
   "source": [
    "\n",
    "## 13. Apéndice: Habilidades Blandas\n",
    "\n",
    "**Trabajo en Equipo:**\n",
    "- Técnica \"Puzzle\" para dividir tareas del algoritmo\n",
    "- Roles rotativos: programador, documentador, validador\n",
    "\n",
    "**Inteligencia Emocional:**\n",
    "- Diario de frustraciones/soluciones en el proceso numérico\n",
    "- Técnica \"Piensa en voz alta\" para resolver errores de código\n",
    "\n",
    "**Tolerancia:**\n",
    "- Análisis de casos donde el método falla\n",
    "- Discusión sobre límites de los métodos numéricos\n"
   ]
  },
  {
   "cell_type": "markdown",
   "id": "7fe75d07",
   "metadata": {},
   "source": [
    "\n",
    "## 14. Referentes Didácticos (APA)\n",
    "\n",
    "1. Duval, R. (2006). Un tema crucial en la educación matemática: La habilidad para cambiar el registro de representación. *La Gaceta de la RSME, 9*(1), 143-168.\n",
    "\n",
    "2. Wing, J. M. (2006). Computational thinking. *Communications of the ACM, 49*(3), 33-35. https://doi.org/10.1145/1118178.1118215\n",
    "\n",
    "3. Bergmann, J., & Sams, A. (2012). Flip your classroom: Reach every student in every class every day. *International Society for Technology in Education*.\n",
    "\n",
    "4. Sanders, M. (2009). STEM, STEM education, STEMmania. *The Technology Teacher, 68*(4), 20-26.\n",
    "\n",
    "5. Thomas, J. W. (2000). A review of research on project-based learning. *Autodesk Foundation*.\n",
    "\n",
    "6. Schoenfeld, A. H. (1985). Mathematical problem solving. *Academic Press*.\n",
    "\n",
    "7. Polya, G. (1945). How to solve it. *Princeton University Press*.\n",
    "\n",
    "8. Boaler, J. (2016). Mathematical mindsets: Unleashing students' potential through creative math, inspiring messages and innovative teaching. *John Wiley & Sons*.\n",
    "\n",
    "9. Hattie, J. (2008). Visible learning: A synthesis of over 800 meta-analyses relating to achievement. *Routledge*.\n",
    "\n",
    "10. National Research Council. (2000). How people learn: Brain, mind, experience, and school. *National Academies Press*."
   ]
  },
  {
   "cell_type": "markdown",
   "id": "239427f7",
   "metadata": {},
   "source": [
    "# Definición del calendario académico para los diferentes programas de pregrado de los campus regionalizados, correspondiente al primer periodo académico del año 2025, así:  \n",
    "\n",
    "\n",
    "* Terminación de clases 08 de junio de 2025\n",
    "* Exámenes finales 09 al 15 de junio de 2025\n",
    "* Habilitación y validación 16 al 22 de junio de 2025\n",
    "* Terminación oficial 23 de junio de 2025"
   ]
  },
  {
   "cell_type": "markdown",
   "id": "8ba64aed",
   "metadata": {},
   "source": [
    "# Cursos que orienta el profesor Marco Julio Cañas Campillo en 2025  \n",
    "\n",
    "4. Cálculo Vectorial para Ingeniería Agropecuaria\n",
    "3. Análisis Numérico para Licenciatura en Matemáticas. \n",
    "5. Práctica Pedagógica V para Licenciatura en Educación Infantil\n",
    "6. Fundamentos de Lógica para Licenciatura en Matemáticas \n",
    "\n"
   ]
  },
  {
   "cell_type": "markdown",
   "id": "8d41fe58",
   "metadata": {
    "slideshow": {
     "slide_type": "slide"
    }
   },
   "source": [
    "# Horario de clases del profesor Marco\n",
    "\n",
    "* Lunes 8-12: Cálculo Vectorial\n",
    "* Martes 8-12 M: Fundamentos de Aritmética. \n",
    "* Miércoles 8 a 12 M: Fundamentos de la Lógica\n",
    "* Jueves 2 a 6 PM: Desarrollo del pensamiento matemático en la infancia. \n",
    "* Viernes 8 - 12 M: Desarrollo del pensamiento matemático en la infancia. \n",
    "* Sábados 8-12 Asesorías y espacio para retroalimentación y apoyo al trabajo independiente. "
   ]
  },
  {
   "cell_type": "markdown",
   "id": "b239fcde",
   "metadata": {},
   "source": [
    "\n",
    "# Coordinador de los cursos de la Facultad de Educación para regiones:    \n",
    "\n",
    "Andrés Vélez: regioneducacion.fedu@udea.edu.co  \n",
    "Coordinador Regiones  \n",
    "Facultad de Educación  \n",
    "Universidad de Antioquia  "
   ]
  },
  {
   "cell_type": "markdown",
   "id": "b1db4b6c",
   "metadata": {
    "slideshow": {
     "slide_type": "slide"
    }
   },
   "source": [
    "## Monitores  \n",
    "* Yeifry Sebastián Uribe: yeifry.uribe@udea.edu.co. \n",
    "* Manuel San Juan Serrano: Contactar escribiendo al correo: manuel.serrano1@udea.edu.co"
   ]
  },
  {
   "cell_type": "markdown",
   "id": "8af7d232",
   "metadata": {},
   "source": [
    "# Apéndice de orientación de uso del recurso de la clase   NewtonBiseccion para compartir con los estudiantes\n",
    "\n",
    "Aquí tienes la clase estructurada como un módulo Python listo para usar (por ejemplo, como `newton_biseccion.py` en GitHub):\n"
   ]
  },
  {
   "cell_type": "code",
   "execution_count": null,
   "id": "fd9ace0a",
   "metadata": {},
   "outputs": [],
   "source": [
    "\n",
    "\n",
    "\"\"\"\n",
    "Módulo NewtonBiseccion - Implementación de métodos numéricos para encontrar raíces\n",
    "\n",
    "Contiene:\n",
    "- Clase NewtonBiseccion: Implementa los métodos de Newton-Raphson y Bisección para encontrar raíces de funciones,\n",
    "  con visualización gráfica y comparación de métodos.\n",
    "\n",
    "Autor: Marco Julio Cañas Campillo y uso de DeepSeek \n",
    "Fecha: 27 de mayo de 2025 \n",
    "Versión: 1.0\n",
    "\"\"\"\n",
    "\n",
    "import numpy as np\n",
    "import pandas as pd\n",
    "import matplotlib.pyplot as plt\n",
    "from scipy.optimize import approx_fprime\n",
    "\n",
    "class NewtonBiseccion:\n",
    "    \"\"\"\n",
    "    Clase que implementa los métodos numéricos de Newton-Raphson y Bisección para encontrar raíces de funciones.\n",
    "    \n",
    "    Atributos:\n",
    "        f (function): Función a analizar\n",
    "        \n",
    "    Métodos:\n",
    "        graficar_funcion: Muestra un gráfico de la función en un intervalo\n",
    "        newton: Aplica el método de Newton-Raphson\n",
    "        biseccion: Aplica el método de Bisección\n",
    "        comparar: Compara ambos métodos en una tabla\n",
    "    \"\"\"\n",
    "    \n",
    "    def __init__(self, func=None):\n",
    "        \"\"\"\n",
    "        Inicializa la clase con la función a analizar.\n",
    "        \n",
    "        Args:\n",
    "            func (function, optional): Función a analizar. Si es None, usa una función por defecto.\n",
    "        \"\"\"\n",
    "        # Función por defecto si el usuario no proporciona una\n",
    "        if func is None:\n",
    "            self.f = lambda x: x**3 + 5 * 10**(-5)*x**2 - 10**-14\n",
    "        else:\n",
    "            self.f = func\n",
    "\n",
    "    def graficar_funcion(self, a=0, b=3, puntos=400):\n",
    "        \"\"\"\n",
    "        Grafica la función en el intervalo [a, b].\n",
    "        \n",
    "        Args:\n",
    "            a (float): Límite inferior del intervalo\n",
    "            b (float): Límite superior del intervalo\n",
    "            puntos (int): Número de puntos para la gráfica\n",
    "        \"\"\"\n",
    "        x = np.linspace(a, b, puntos)\n",
    "        y = self.f(x)\n",
    "        \n",
    "        plt.figure(figsize=(8,5))\n",
    "        plt.plot(x, y, label='f(x)')\n",
    "        plt.axhline(0, color='red', linestyle='--')\n",
    "        plt.xlabel('x')\n",
    "        plt.ylabel('f(x)')\n",
    "        plt.title('Gráfico de la función')\n",
    "        plt.legend()\n",
    "        plt.grid(True)\n",
    "        plt.show()\n",
    "\n",
    "    def newton(self, x0=1.5, tol=1e-6, max_iter=20, dx=1e-6):\n",
    "        \"\"\"\n",
    "        Método de Newton-Raphson para encontrar raíces.\n",
    "        \n",
    "        Args:\n",
    "            x0 (float): Valor inicial\n",
    "            tol (float): Tolerancia para la convergencia\n",
    "            max_iter (int): Número máximo de iteraciones\n",
    "            dx (float): Delta para cálculo numérico de derivada\n",
    "            \n",
    "        Returns:\n",
    "            DataFrame: Tabla con resultados de cada iteración\n",
    "        \"\"\"\n",
    "        datos = []\n",
    "        x = np.atleast_1d(x0).astype(float)  # Convertir a array 1D\n",
    "        \n",
    "        for i in range(max_iter):\n",
    "            f_val = self.f(x[0])  # Extraer el valor escalar\n",
    "            df_val = approx_fprime(x, lambda x_vec: self.f(x_vec[0]), dx)\n",
    "            \n",
    "            if df_val[0] == 0:\n",
    "                break\n",
    "                \n",
    "            x_new = x - f_val / df_val\n",
    "            \n",
    "            datos.append({\n",
    "                'Iteración': i+1,\n",
    "                'x': x[0],\n",
    "                'f(x)': f_val,\n",
    "                \"f'(x)\": df_val[0],\n",
    "                'Error': abs(x_new[0] - x[0])\n",
    "            })\n",
    "            \n",
    "            if abs(x_new[0] - x[0]) < tol:\n",
    "                break\n",
    "                \n",
    "            x = x_new\n",
    "            \n",
    "        return pd.DataFrame(datos)\n",
    "\n",
    "    def biseccion(self, a=0, b=3, tol=1e-6, max_iter=50):\n",
    "        \"\"\"\n",
    "        Método de Bisección para encontrar raíces.\n",
    "        \n",
    "        Args:\n",
    "            a (float): Extremo izquierdo del intervalo inicial\n",
    "            b (float): Extremo derecho del intervalo inicial\n",
    "            tol (float): Tolerancia para la convergencia\n",
    "            max_iter (int): Número máximo de iteraciones\n",
    "            \n",
    "        Returns:\n",
    "            DataFrame: Tabla con resultados de cada iteración\n",
    "            \n",
    "        Raises:\n",
    "            ValueError: Si no hay cambio de signo en el intervalo [a,b]\n",
    "        \"\"\"\n",
    "        datos = []\n",
    "        fa = self.f(a)\n",
    "        fb = self.f(b)\n",
    "        \n",
    "        if fa * fb > 0:\n",
    "            raise ValueError(\"La función no cambia de signo en el intervalo dado.\")\n",
    "            \n",
    "        for i in range(max_iter):\n",
    "            c = (a + b) / 2\n",
    "            fc = self.f(c)\n",
    "            \n",
    "            datos.append({\n",
    "                'Iteración': i+1,\n",
    "                'a': a,\n",
    "                'b': b,\n",
    "                'c': c,\n",
    "                'f(c)': fc,\n",
    "                'Error': abs(b - a)/2\n",
    "            })\n",
    "            \n",
    "            if abs(fc) < tol or abs(b - a)/2 < tol:\n",
    "                break\n",
    "                \n",
    "            if fa * fc < 0:\n",
    "                b = c\n",
    "                fb = fc\n",
    "            else:\n",
    "                a = c\n",
    "                fa = fc\n",
    "                \n",
    "        return pd.DataFrame(datos)\n",
    "\n",
    "    def comparar(self, x0=1.5, a=0, b=3, tol=1e-6, max_iter=20):\n",
    "        \"\"\"\n",
    "        Compara los métodos de Newton y Bisección.\n",
    "        \n",
    "        Args:\n",
    "            x0 (float): Valor inicial para Newton\n",
    "            a (float): Extremo izquierdo para Bisección\n",
    "            b (float): Extremo derecho para Bisección\n",
    "            tol (float): Tolerancia para ambos métodos\n",
    "            max_iter (int): Número máximo de iteraciones\n",
    "            \n",
    "        Returns:\n",
    "            DataFrame: Tabla comparativa de ambos métodos\n",
    "        \"\"\"\n",
    "        df_newton = self.newton(x0, tol, max_iter)\n",
    "        df_biseccion = self.biseccion(a, b, tol, max_iter)\n",
    "        \n",
    "        # Igualar número de filas para comparación\n",
    "        max_len = max(len(df_newton), len(df_biseccion))\n",
    "        df_newton = df_newton.reindex(range(max_len)).reset_index(drop=True)\n",
    "        df_biseccion = df_biseccion.reindex(range(max_len)).reset_index(drop=True)\n",
    "        \n",
    "        df_comp = pd.concat([\n",
    "            df_newton.add_prefix('Newton_'),\n",
    "            df_biseccion.add_prefix('Biseccion_')\n",
    "        ], axis=1)\n",
    "        \n",
    "        return df_comp\n",
    "\n",
    "\n"
   ]
  },
  {
   "cell_type": "markdown",
   "id": "f5284c92",
   "metadata": {},
   "source": [
    "\n",
    "### Características del módulo:\n",
    "\n",
    "1. **Documentación completa**: Cada método y clase está bien documentada con docstrings\n",
    "2. **Ejemplo de uso**: Incluye un bloque `if __name__ == \"__main__\"` con ejemplo demostrativo\n",
    "3. **Manejo de errores**: Validación para el método de bisección\n",
    "4. **Tipado claro**: Los parámetros y retornos están documentados\n",
    "5. **Práctico**: Fácil de importar y usar en otros scripts\n",
    "\n",
    "### Instrucciones para los estudiantes:\n",
    "\n",
    "1. Guardar como `newton_biseccion.py`\n",
    "2. Importar en sus scripts con:\n",
    "   ```python\n",
    "   from newton_biseccion import NewtonBiseccion\n",
    "   ```\n",
    "3. Crear una instancia:\n",
    "   ```python\n",
    "   solver = NewtonBiseccion(func=lambda x: x**2 - 2)  # Pueden usar su propia función\n",
    "   ```\n",
    "4. Usar los métodos:\n",
    "   ```python\n",
    "   solver.graficar_funcion(a=0, b=2)\n",
    "   resultados = solver.newton(x0=1.5)\n",
    "   ```\n",
    "\n",
    "El módulo está listo para subir a GitHub y que los estudiantes lo puedan usar directamente."
   ]
  },
  {
   "cell_type": "code",
   "execution_count": 13,
   "id": "34046235",
   "metadata": {},
   "outputs": [],
   "source": [
    "from newton_biseccion import NewtonBiseccion"
   ]
  },
  {
   "cell_type": "code",
   "execution_count": 16,
   "id": "d1fb1f0a",
   "metadata": {},
   "outputs": [],
   "source": [
    "resolutor = NewtonBiseccion(lambda x: np.exp(x) + x) "
   ]
  },
  {
   "cell_type": "code",
   "execution_count": 18,
   "id": "8715d986",
   "metadata": {},
   "outputs": [
    {
     "data": {
      "image/png": "[encoded data removed]",
      "text/plain": [
       "<Figure size 800x500 with 1 Axes>"
      ]
     },
     "metadata": {},
     "output_type": "display_data"
    }
   ],
   "source": [
    "import numpy as np \n",
    "resolutor.graficar_funcion(a=-2, b=2)\n"
   ]
  },
  {
   "cell_type": "code",
   "execution_count": 19,
   "id": "9d6b9de6",
   "metadata": {},
   "outputs": [
    {
     "data": {
      "application/vnd.microsoft.datawrangler.viewer.v0+json": {
       "columns": [
        {
         "name": "index",
         "rawType": "int64",
         "type": "integer"
        },
        {
         "name": "Iteración",
         "rawType": "int64",
         "type": "integer"
        },
        {
         "name": "x",
         "rawType": "float64",
         "type": "float"
        },
        {
         "name": "f(x)",
         "rawType": "float64",
         "type": "float"
        },
        {
         "name": "f'(x)",
         "rawType": "float64",
         "type": "float"
        },
        {
         "name": "Error",
         "rawType": "float64",
         "type": "float"
        }
       ],
       "ref": "00f90d84-a061-44bb-8ec6-08ee31175b97",
       "rows": [
        [
         "0",
         "1",
         "0.5",
         "2.148721270700128",
         "2.648722094912732",
         "0.8112294131676062"
        ],
        [
         "1",
         "2",
         "-0.3112294131676062",
         "0.42131638777055236",
         "1.7325461671899334",
         "0.2431775820749975"
        ],
        [
         "2",
         "3",
         "-0.5544069952426037",
         "0.020005794493353934",
         "1.5744130769759461",
         "0.012706826935012572"
        ],
        [
         "3",
         "4",
         "-0.5671138221776163",
         "4.6181188571026155e-05",
         "1.5671602870519599",
         "2.9468069700722133e-05"
        ],
        [
         "4",
         "5",
         "-0.567143290247317",
         "2.5460888952721916e-10",
         "1.5671435739765924",
         "1.62466817776874e-10"
        ]
       ],
       "shape": {
        "columns": 5,
        "rows": 5
       }
      },
      "text/html": [
       "<div>\n",
       "<style scoped>\n",
       "    .dataframe tbody tr th:only-of-type {\n",
       "        vertical-align: middle;\n",
       "    }\n",
       "\n",
       "    .dataframe tbody tr th {\n",
       "        vertical-align: top;\n",
       "    }\n",
       "\n",
       "    .dataframe thead th {\n",
       "        text-align: right;\n",
       "    }\n",
       "</style>\n",
       "<table border=\"1\" class=\"dataframe\">\n",
       "  <thead>\n",
       "    <tr style=\"text-align: right;\">\n",
       "      <th></th>\n",
       "      <th>Iteración</th>\n",
       "      <th>x</th>\n",
       "      <th>f(x)</th>\n",
       "      <th>f'(x)</th>\n",
       "      <th>Error</th>\n",
       "    </tr>\n",
       "  </thead>\n",
       "  <tbody>\n",
       "    <tr>\n",
       "      <th>0</th>\n",
       "      <td>1</td>\n",
       "      <td>0.500000</td>\n",
       "      <td>2.148721e+00</td>\n",
       "      <td>2.648722</td>\n",
       "      <td>8.112294e-01</td>\n",
       "    </tr>\n",
       "    <tr>\n",
       "      <th>1</th>\n",
       "      <td>2</td>\n",
       "      <td>-0.311229</td>\n",
       "      <td>4.213164e-01</td>\n",
       "      <td>1.732546</td>\n",
       "      <td>2.431776e-01</td>\n",
       "    </tr>\n",
       "    <tr>\n",
       "      <th>2</th>\n",
       "      <td>3</td>\n",
       "      <td>-0.554407</td>\n",
       "      <td>2.000579e-02</td>\n",
       "      <td>1.574413</td>\n",
       "      <td>1.270683e-02</td>\n",
       "    </tr>\n",
       "    <tr>\n",
       "      <th>3</th>\n",
       "      <td>4</td>\n",
       "      <td>-0.567114</td>\n",
       "      <td>4.618119e-05</td>\n",
       "      <td>1.567160</td>\n",
       "      <td>2.946807e-05</td>\n",
       "    </tr>\n",
       "    <tr>\n",
       "      <th>4</th>\n",
       "      <td>5</td>\n",
       "      <td>-0.567143</td>\n",
       "      <td>2.546089e-10</td>\n",
       "      <td>1.567144</td>\n",
       "      <td>1.624668e-10</td>\n",
       "    </tr>\n",
       "  </tbody>\n",
       "</table>\n",
       "</div>"
      ],
      "text/plain": [
       "   Iteración         x          f(x)     f'(x)         Error\n",
       "0          1  0.500000  2.148721e+00  2.648722  8.112294e-01\n",
       "1          2 -0.311229  4.213164e-01  1.732546  2.431776e-01\n",
       "2          3 -0.554407  2.000579e-02  1.574413  1.270683e-02\n",
       "3          4 -0.567114  4.618119e-05  1.567160  2.946807e-05\n",
       "4          5 -0.567143  2.546089e-10  1.567144  1.624668e-10"
      ]
     },
     "execution_count": 19,
     "metadata": {},
     "output_type": "execute_result"
    }
   ],
   "source": [
    "resolutor.newton(x0=0.5, tol=1e-6, max_iter=20)"
   ]
  },
  {
   "cell_type": "code",
   "execution_count": 20,
   "id": "37e3b2c3",
   "metadata": {},
   "outputs": [
    {
     "data": {
      "application/vnd.microsoft.datawrangler.viewer.v0+json": {
       "columns": [
        {
         "name": "index",
         "rawType": "int64",
         "type": "integer"
        },
        {
         "name": "Iteración",
         "rawType": "int64",
         "type": "integer"
        },
        {
         "name": "a",
         "rawType": "float64",
         "type": "float"
        },
        {
         "name": "b",
         "rawType": "float64",
         "type": "float"
        },
        {
         "name": "c",
         "rawType": "float64",
         "type": "float"
        },
        {
         "name": "f(c)",
         "rawType": "float64",
         "type": "float"
        },
        {
         "name": "Error",
         "rawType": "float64",
         "type": "float"
        }
       ],
       "ref": "a9989c28-6797-4544-bb62-953aa8f5d4a7",
       "rows": [
        [
         "0",
         "1",
         "-2.0",
         "2.0",
         "0.0",
         "1.0",
         "2.0"
        ],
        [
         "1",
         "2",
         "-2.0",
         "0.0",
         "-1.0",
         "-0.6321205588285577",
         "1.0"
        ],
        [
         "2",
         "3",
         "-1.0",
         "0.0",
         "-0.5",
         "0.10653065971263342",
         "0.5"
        ],
        [
         "3",
         "4",
         "-1.0",
         "-0.5",
         "-0.75",
         "-0.2776334472589853",
         "0.25"
        ],
        [
         "4",
         "5",
         "-0.75",
         "-0.5",
         "-0.625",
         "-0.08973857148100972",
         "0.125"
        ],
        [
         "5",
         "6",
         "-0.625",
         "-0.5",
         "-0.5625",
         "0.00728282473092301",
         "0.0625"
        ],
        [
         "6",
         "7",
         "-0.625",
         "-0.5625",
         "-0.59375",
         "-0.04149754983697962",
         "0.03125"
        ],
        [
         "7",
         "8",
         "-0.59375",
         "-0.5625",
         "-0.578125",
         "-0.01717583918552923",
         "0.015625"
        ],
        [
         "8",
         "9",
         "-0.578125",
         "-0.5625",
         "-0.5703125",
         "-0.004963760389385841",
         "0.0078125"
        ],
        [
         "9",
         "10",
         "-0.5703125",
         "-0.5625",
         "-0.56640625",
         "0.0011552020150243925",
         "0.00390625"
        ],
        [
         "10",
         "11",
         "-0.5703125",
         "-0.56640625",
         "-0.568359375",
         "-0.0019053596128160155",
         "0.001953125"
        ],
        [
         "11",
         "12",
         "-0.568359375",
         "-0.56640625",
         "-0.5673828125",
         "-0.00037534916914483407",
         "0.0009765625"
        ],
        [
         "12",
         "13",
         "-0.5673828125",
         "-0.56640625",
         "-0.56689453125",
         "0.0003898587973693024",
         "0.00048828125"
        ],
        [
         "13",
         "14",
         "-0.5673828125",
         "-0.56689453125",
         "-0.567138671875",
         "7.237911846869061e-06",
         "0.000244140625"
        ],
        [
         "14",
         "15",
         "-0.5673828125",
         "-0.567138671875",
         "-0.5672607421875",
         "-0.00018405985369951416",
         "0.0001220703125"
        ],
        [
         "15",
         "16",
         "-0.5672607421875",
         "-0.567138671875",
         "-0.56719970703125",
         "-8.841202725340391e-05",
         "6.103515625e-05"
        ],
        [
         "16",
         "17",
         "-0.56719970703125",
         "-0.567138671875",
         "-0.567169189453125",
         "-4.058732179312852e-05",
         "3.0517578125e-05"
        ],
        [
         "17",
         "18",
         "-0.567169189453125",
         "-0.567138671875",
         "-0.5671539306640625",
         "-1.667477099653869e-05",
         "1.52587890625e-05"
        ],
        [
         "18",
         "19",
         "-0.5671539306640625",
         "-0.567138671875",
         "-0.5671463012695312",
         "-4.718446080853589e-06",
         "7.62939453125e-06"
        ],
        [
         "19",
         "20",
         "-0.5671463012695312",
         "-0.567138671875",
         "-0.5671424865722656",
         "1.259728756530798e-06",
         "3.814697265625e-06"
        ]
       ],
       "shape": {
        "columns": 6,
        "rows": 20
       }
      },
      "text/html": [
       "<div>\n",
       "<style scoped>\n",
       "    .dataframe tbody tr th:only-of-type {\n",
       "        vertical-align: middle;\n",
       "    }\n",
       "\n",
       "    .dataframe tbody tr th {\n",
       "        vertical-align: top;\n",
       "    }\n",
       "\n",
       "    .dataframe thead th {\n",
       "        text-align: right;\n",
       "    }\n",
       "</style>\n",
       "<table border=\"1\" class=\"dataframe\">\n",
       "  <thead>\n",
       "    <tr style=\"text-align: right;\">\n",
       "      <th></th>\n",
       "      <th>Iteración</th>\n",
       "      <th>a</th>\n",
       "      <th>b</th>\n",
       "      <th>c</th>\n",
       "      <th>f(c)</th>\n",
       "      <th>Error</th>\n",
       "    </tr>\n",
       "  </thead>\n",
       "  <tbody>\n",
       "    <tr>\n",
       "      <th>0</th>\n",
       "      <td>1</td>\n",
       "      <td>-2.000000</td>\n",
       "      <td>2.000000</td>\n",
       "      <td>0.000000</td>\n",
       "      <td>1.000000</td>\n",
       "      <td>2.000000</td>\n",
       "    </tr>\n",
       "    <tr>\n",
       "      <th>1</th>\n",
       "      <td>2</td>\n",
       "      <td>-2.000000</td>\n",
       "      <td>0.000000</td>\n",
       "      <td>-1.000000</td>\n",
       "      <td>-0.632121</td>\n",
       "      <td>1.000000</td>\n",
       "    </tr>\n",
       "    <tr>\n",
       "      <th>2</th>\n",
       "      <td>3</td>\n",
       "      <td>-1.000000</td>\n",
       "      <td>0.000000</td>\n",
       "      <td>-0.500000</td>\n",
       "      <td>0.106531</td>\n",
       "      <td>0.500000</td>\n",
       "    </tr>\n",
       "    <tr>\n",
       "      <th>3</th>\n",
       "      <td>4</td>\n",
       "      <td>-1.000000</td>\n",
       "      <td>-0.500000</td>\n",
       "      <td>-0.750000</td>\n",
       "      <td>-0.277633</td>\n",
       "      <td>0.250000</td>\n",
       "    </tr>\n",
       "    <tr>\n",
       "      <th>4</th>\n",
       "      <td>5</td>\n",
       "      <td>-0.750000</td>\n",
       "      <td>-0.500000</td>\n",
       "      <td>-0.625000</td>\n",
       "      <td>-0.089739</td>\n",
       "      <td>0.125000</td>\n",
       "    </tr>\n",
       "    <tr>\n",
       "      <th>5</th>\n",
       "      <td>6</td>\n",
       "      <td>-0.625000</td>\n",
       "      <td>-0.500000</td>\n",
       "      <td>-0.562500</td>\n",
       "      <td>0.007283</td>\n",
       "      <td>0.062500</td>\n",
       "    </tr>\n",
       "    <tr>\n",
       "      <th>6</th>\n",
       "      <td>7</td>\n",
       "      <td>-0.625000</td>\n",
       "      <td>-0.562500</td>\n",
       "      <td>-0.593750</td>\n",
       "      <td>-0.041498</td>\n",
       "      <td>0.031250</td>\n",
       "    </tr>\n",
       "    <tr>\n",
       "      <th>7</th>\n",
       "      <td>8</td>\n",
       "      <td>-0.593750</td>\n",
       "      <td>-0.562500</td>\n",
       "      <td>-0.578125</td>\n",
       "      <td>-0.017176</td>\n",
       "      <td>0.015625</td>\n",
       "    </tr>\n",
       "    <tr>\n",
       "      <th>8</th>\n",
       "      <td>9</td>\n",
       "      <td>-0.578125</td>\n",
       "      <td>-0.562500</td>\n",
       "      <td>-0.570312</td>\n",
       "      <td>-0.004964</td>\n",
       "      <td>0.007812</td>\n",
       "    </tr>\n",
       "    <tr>\n",
       "      <th>9</th>\n",
       "      <td>10</td>\n",
       "      <td>-0.570312</td>\n",
       "      <td>-0.562500</td>\n",
       "      <td>-0.566406</td>\n",
       "      <td>0.001155</td>\n",
       "      <td>0.003906</td>\n",
       "    </tr>\n",
       "    <tr>\n",
       "      <th>10</th>\n",
       "      <td>11</td>\n",
       "      <td>-0.570312</td>\n",
       "      <td>-0.566406</td>\n",
       "      <td>-0.568359</td>\n",
       "      <td>-0.001905</td>\n",
       "      <td>0.001953</td>\n",
       "    </tr>\n",
       "    <tr>\n",
       "      <th>11</th>\n",
       "      <td>12</td>\n",
       "      <td>-0.568359</td>\n",
       "      <td>-0.566406</td>\n",
       "      <td>-0.567383</td>\n",
       "      <td>-0.000375</td>\n",
       "      <td>0.000977</td>\n",
       "    </tr>\n",
       "    <tr>\n",
       "      <th>12</th>\n",
       "      <td>13</td>\n",
       "      <td>-0.567383</td>\n",
       "      <td>-0.566406</td>\n",
       "      <td>-0.566895</td>\n",
       "      <td>0.000390</td>\n",
       "      <td>0.000488</td>\n",
       "    </tr>\n",
       "    <tr>\n",
       "      <th>13</th>\n",
       "      <td>14</td>\n",
       "      <td>-0.567383</td>\n",
       "      <td>-0.566895</td>\n",
       "      <td>-0.567139</td>\n",
       "      <td>0.000007</td>\n",
       "      <td>0.000244</td>\n",
       "    </tr>\n",
       "    <tr>\n",
       "      <th>14</th>\n",
       "      <td>15</td>\n",
       "      <td>-0.567383</td>\n",
       "      <td>-0.567139</td>\n",
       "      <td>-0.567261</td>\n",
       "      <td>-0.000184</td>\n",
       "      <td>0.000122</td>\n",
       "    </tr>\n",
       "    <tr>\n",
       "      <th>15</th>\n",
       "      <td>16</td>\n",
       "      <td>-0.567261</td>\n",
       "      <td>-0.567139</td>\n",
       "      <td>-0.567200</td>\n",
       "      <td>-0.000088</td>\n",
       "      <td>0.000061</td>\n",
       "    </tr>\n",
       "    <tr>\n",
       "      <th>16</th>\n",
       "      <td>17</td>\n",
       "      <td>-0.567200</td>\n",
       "      <td>-0.567139</td>\n",
       "      <td>-0.567169</td>\n",
       "      <td>-0.000041</td>\n",
       "      <td>0.000031</td>\n",
       "    </tr>\n",
       "    <tr>\n",
       "      <th>17</th>\n",
       "      <td>18</td>\n",
       "      <td>-0.567169</td>\n",
       "      <td>-0.567139</td>\n",
       "      <td>-0.567154</td>\n",
       "      <td>-0.000017</td>\n",
       "      <td>0.000015</td>\n",
       "    </tr>\n",
       "    <tr>\n",
       "      <th>18</th>\n",
       "      <td>19</td>\n",
       "      <td>-0.567154</td>\n",
       "      <td>-0.567139</td>\n",
       "      <td>-0.567146</td>\n",
       "      <td>-0.000005</td>\n",
       "      <td>0.000008</td>\n",
       "    </tr>\n",
       "    <tr>\n",
       "      <th>19</th>\n",
       "      <td>20</td>\n",
       "      <td>-0.567146</td>\n",
       "      <td>-0.567139</td>\n",
       "      <td>-0.567142</td>\n",
       "      <td>0.000001</td>\n",
       "      <td>0.000004</td>\n",
       "    </tr>\n",
       "  </tbody>\n",
       "</table>\n",
       "</div>"
      ],
      "text/plain": [
       "    Iteración         a         b         c      f(c)     Error\n",
       "0           1 -2.000000  2.000000  0.000000  1.000000  2.000000\n",
       "1           2 -2.000000  0.000000 -1.000000 -0.632121  1.000000\n",
       "2           3 -1.000000  0.000000 -0.500000  0.106531  0.500000\n",
       "3           4 -1.000000 -0.500000 -0.750000 -0.277633  0.250000\n",
       "4           5 -0.750000 -0.500000 -0.625000 -0.089739  0.125000\n",
       "5           6 -0.625000 -0.500000 -0.562500  0.007283  0.062500\n",
       "6           7 -0.625000 -0.562500 -0.593750 -0.041498  0.031250\n",
       "7           8 -0.593750 -0.562500 -0.578125 -0.017176  0.015625\n",
       "8           9 -0.578125 -0.562500 -0.570312 -0.004964  0.007812\n",
       "9          10 -0.570312 -0.562500 -0.566406  0.001155  0.003906\n",
       "10         11 -0.570312 -0.566406 -0.568359 -0.001905  0.001953\n",
       "11         12 -0.568359 -0.566406 -0.567383 -0.000375  0.000977\n",
       "12         13 -0.567383 -0.566406 -0.566895  0.000390  0.000488\n",
       "13         14 -0.567383 -0.566895 -0.567139  0.000007  0.000244\n",
       "14         15 -0.567383 -0.567139 -0.567261 -0.000184  0.000122\n",
       "15         16 -0.567261 -0.567139 -0.567200 -0.000088  0.000061\n",
       "16         17 -0.567200 -0.567139 -0.567169 -0.000041  0.000031\n",
       "17         18 -0.567169 -0.567139 -0.567154 -0.000017  0.000015\n",
       "18         19 -0.567154 -0.567139 -0.567146 -0.000005  0.000008\n",
       "19         20 -0.567146 -0.567139 -0.567142  0.000001  0.000004"
      ]
     },
     "execution_count": 20,
     "metadata": {},
     "output_type": "execute_result"
    }
   ],
   "source": [
    "resolutor.biseccion(a=-2, b=2, tol=1e-6, max_iter=20)"
   ]
  },
  {
   "cell_type": "code",
   "execution_count": 21,
   "id": "48a4e6d1",
   "metadata": {},
   "outputs": [
    {
     "data": {
      "application/vnd.microsoft.datawrangler.viewer.v0+json": {
       "columns": [
        {
         "name": "index",
         "rawType": "int64",
         "type": "integer"
        },
        {
         "name": "Newton_Iteración",
         "rawType": "float64",
         "type": "float"
        },
        {
         "name": "Newton_x",
         "rawType": "float64",
         "type": "float"
        },
        {
         "name": "Newton_f(x)",
         "rawType": "float64",
         "type": "float"
        },
        {
         "name": "Newton_f'(x)",
         "rawType": "float64",
         "type": "float"
        },
        {
         "name": "Newton_Error",
         "rawType": "float64",
         "type": "float"
        },
        {
         "name": "Biseccion_Iteración",
         "rawType": "int64",
         "type": "integer"
        },
        {
         "name": "Biseccion_a",
         "rawType": "float64",
         "type": "float"
        },
        {
         "name": "Biseccion_b",
         "rawType": "float64",
         "type": "float"
        },
        {
         "name": "Biseccion_c",
         "rawType": "float64",
         "type": "float"
        },
        {
         "name": "Biseccion_f(c)",
         "rawType": "float64",
         "type": "float"
        },
        {
         "name": "Biseccion_Error",
         "rawType": "float64",
         "type": "float"
        }
       ],
       "ref": "11fda4f0-ac23-4f37-b634-9bca4c141b3a",
       "rows": [
        [
         "0",
         "1.0",
         "0.5",
         "2.148721270700128",
         "2.648722094912732",
         "0.8112294131676062",
         "1",
         "-2.0",
         "2.0",
         "0.0",
         "1.0",
         "2.0"
        ],
        [
         "1",
         "2.0",
         "-0.3112294131676062",
         "0.42131638777055236",
         "1.7325461671899334",
         "0.2431775820749975",
         "2",
         "-2.0",
         "0.0",
         "-1.0",
         "-0.6321205588285577",
         "1.0"
        ],
        [
         "2",
         "3.0",
         "-0.5544069952426037",
         "0.020005794493353934",
         "1.5744130769759461",
         "0.012706826935012572",
         "3",
         "-1.0",
         "0.0",
         "-0.5",
         "0.10653065971263342",
         "0.5"
        ],
        [
         "3",
         "4.0",
         "-0.5671138221776163",
         "4.6181188571026155e-05",
         "1.5671602870519599",
         "2.9468069700722133e-05",
         "4",
         "-1.0",
         "-0.5",
         "-0.75",
         "-0.2776334472589853",
         "0.25"
        ],
        [
         "4",
         "5.0",
         "-0.567143290247317",
         "2.5460888952721916e-10",
         "1.5671435739765924",
         "1.62466817776874e-10",
         "5",
         "-0.75",
         "-0.5",
         "-0.625",
         "-0.08973857148100972",
         "0.125"
        ],
        [
         "5",
         null,
         null,
         null,
         null,
         null,
         "6",
         "-0.625",
         "-0.5",
         "-0.5625",
         "0.00728282473092301",
         "0.0625"
        ],
        [
         "6",
         null,
         null,
         null,
         null,
         null,
         "7",
         "-0.625",
         "-0.5625",
         "-0.59375",
         "-0.04149754983697962",
         "0.03125"
        ],
        [
         "7",
         null,
         null,
         null,
         null,
         null,
         "8",
         "-0.59375",
         "-0.5625",
         "-0.578125",
         "-0.01717583918552923",
         "0.015625"
        ],
        [
         "8",
         null,
         null,
         null,
         null,
         null,
         "9",
         "-0.578125",
         "-0.5625",
         "-0.5703125",
         "-0.004963760389385841",
         "0.0078125"
        ],
        [
         "9",
         null,
         null,
         null,
         null,
         null,
         "10",
         "-0.5703125",
         "-0.5625",
         "-0.56640625",
         "0.0011552020150243925",
         "0.00390625"
        ],
        [
         "10",
         null,
         null,
         null,
         null,
         null,
         "11",
         "-0.5703125",
         "-0.56640625",
         "-0.568359375",
         "-0.0019053596128160155",
         "0.001953125"
        ],
        [
         "11",
         null,
         null,
         null,
         null,
         null,
         "12",
         "-0.568359375",
         "-0.56640625",
         "-0.5673828125",
         "-0.00037534916914483407",
         "0.0009765625"
        ],
        [
         "12",
         null,
         null,
         null,
         null,
         null,
         "13",
         "-0.5673828125",
         "-0.56640625",
         "-0.56689453125",
         "0.0003898587973693024",
         "0.00048828125"
        ],
        [
         "13",
         null,
         null,
         null,
         null,
         null,
         "14",
         "-0.5673828125",
         "-0.56689453125",
         "-0.567138671875",
         "7.237911846869061e-06",
         "0.000244140625"
        ],
        [
         "14",
         null,
         null,
         null,
         null,
         null,
         "15",
         "-0.5673828125",
         "-0.567138671875",
         "-0.5672607421875",
         "-0.00018405985369951416",
         "0.0001220703125"
        ],
        [
         "15",
         null,
         null,
         null,
         null,
         null,
         "16",
         "-0.5672607421875",
         "-0.567138671875",
         "-0.56719970703125",
         "-8.841202725340391e-05",
         "6.103515625e-05"
        ],
        [
         "16",
         null,
         null,
         null,
         null,
         null,
         "17",
         "-0.56719970703125",
         "-0.567138671875",
         "-0.567169189453125",
         "-4.058732179312852e-05",
         "3.0517578125e-05"
        ],
        [
         "17",
         null,
         null,
         null,
         null,
         null,
         "18",
         "-0.567169189453125",
         "-0.567138671875",
         "-0.5671539306640625",
         "-1.667477099653869e-05",
         "1.52587890625e-05"
        ],
        [
         "18",
         null,
         null,
         null,
         null,
         null,
         "19",
         "-0.5671539306640625",
         "-0.567138671875",
         "-0.5671463012695312",
         "-4.718446080853589e-06",
         "7.62939453125e-06"
        ],
        [
         "19",
         null,
         null,
         null,
         null,
         null,
         "20",
         "-0.5671463012695312",
         "-0.567138671875",
         "-0.5671424865722656",
         "1.259728756530798e-06",
         "3.814697265625e-06"
        ]
       ],
       "shape": {
        "columns": 11,
        "rows": 20
       }
      },
      "text/html": [
       "<div>\n",
       "<style scoped>\n",
       "    .dataframe tbody tr th:only-of-type {\n",
       "        vertical-align: middle;\n",
       "    }\n",
       "\n",
       "    .dataframe tbody tr th {\n",
       "        vertical-align: top;\n",
       "    }\n",
       "\n",
       "    .dataframe thead th {\n",
       "        text-align: right;\n",
       "    }\n",
       "</style>\n",
       "<table border=\"1\" class=\"dataframe\">\n",
       "  <thead>\n",
       "    <tr style=\"text-align: right;\">\n",
       "      <th></th>\n",
       "      <th>Newton_Iteración</th>\n",
       "      <th>Newton_x</th>\n",
       "      <th>Newton_f(x)</th>\n",
       "      <th>Newton_f'(x)</th>\n",
       "      <th>Newton_Error</th>\n",
       "      <th>Biseccion_Iteración</th>\n",
       "      <th>Biseccion_a</th>\n",
       "      <th>Biseccion_b</th>\n",
       "      <th>Biseccion_c</th>\n",
       "      <th>Biseccion_f(c)</th>\n",
       "      <th>Biseccion_Error</th>\n",
       "    </tr>\n",
       "  </thead>\n",
       "  <tbody>\n",
       "    <tr>\n",
       "      <th>0</th>\n",
       "      <td>1.0</td>\n",
       "      <td>0.500000</td>\n",
       "      <td>2.148721e+00</td>\n",
       "      <td>2.648722</td>\n",
       "      <td>8.112294e-01</td>\n",
       "      <td>1</td>\n",
       "      <td>-2.000000</td>\n",
       "      <td>2.000000</td>\n",
       "      <td>0.000000</td>\n",
       "      <td>1.000000</td>\n",
       "      <td>2.000000</td>\n",
       "    </tr>\n",
       "    <tr>\n",
       "      <th>1</th>\n",
       "      <td>2.0</td>\n",
       "      <td>-0.311229</td>\n",
       "      <td>4.213164e-01</td>\n",
       "      <td>1.732546</td>\n",
       "      <td>2.431776e-01</td>\n",
       "      <td>2</td>\n",
       "      <td>-2.000000</td>\n",
       "      <td>0.000000</td>\n",
       "      <td>-1.000000</td>\n",
       "      <td>-0.632121</td>\n",
       "      <td>1.000000</td>\n",
       "    </tr>\n",
       "    <tr>\n",
       "      <th>2</th>\n",
       "      <td>3.0</td>\n",
       "      <td>-0.554407</td>\n",
       "      <td>2.000579e-02</td>\n",
       "      <td>1.574413</td>\n",
       "      <td>1.270683e-02</td>\n",
       "      <td>3</td>\n",
       "      <td>-1.000000</td>\n",
       "      <td>0.000000</td>\n",
       "      <td>-0.500000</td>\n",
       "      <td>0.106531</td>\n",
       "      <td>0.500000</td>\n",
       "    </tr>\n",
       "    <tr>\n",
       "      <th>3</th>\n",
       "      <td>4.0</td>\n",
       "      <td>-0.567114</td>\n",
       "      <td>4.618119e-05</td>\n",
       "      <td>1.567160</td>\n",
       "      <td>2.946807e-05</td>\n",
       "      <td>4</td>\n",
       "      <td>-1.000000</td>\n",
       "      <td>-0.500000</td>\n",
       "      <td>-0.750000</td>\n",
       "      <td>-0.277633</td>\n",
       "      <td>0.250000</td>\n",
       "    </tr>\n",
       "    <tr>\n",
       "      <th>4</th>\n",
       "      <td>5.0</td>\n",
       "      <td>-0.567143</td>\n",
       "      <td>2.546089e-10</td>\n",
       "      <td>1.567144</td>\n",
       "      <td>1.624668e-10</td>\n",
       "      <td>5</td>\n",
       "      <td>-0.750000</td>\n",
       "      <td>-0.500000</td>\n",
       "      <td>-0.625000</td>\n",
       "      <td>-0.089739</td>\n",
       "      <td>0.125000</td>\n",
       "    </tr>\n",
       "    <tr>\n",
       "      <th>5</th>\n",
       "      <td>NaN</td>\n",
       "      <td>NaN</td>\n",
       "      <td>NaN</td>\n",
       "      <td>NaN</td>\n",
       "      <td>NaN</td>\n",
       "      <td>6</td>\n",
       "      <td>-0.625000</td>\n",
       "      <td>-0.500000</td>\n",
       "      <td>-0.562500</td>\n",
       "      <td>0.007283</td>\n",
       "      <td>0.062500</td>\n",
       "    </tr>\n",
       "    <tr>\n",
       "      <th>6</th>\n",
       "      <td>NaN</td>\n",
       "      <td>NaN</td>\n",
       "      <td>NaN</td>\n",
       "      <td>NaN</td>\n",
       "      <td>NaN</td>\n",
       "      <td>7</td>\n",
       "      <td>-0.625000</td>\n",
       "      <td>-0.562500</td>\n",
       "      <td>-0.593750</td>\n",
       "      <td>-0.041498</td>\n",
       "      <td>0.031250</td>\n",
       "    </tr>\n",
       "    <tr>\n",
       "      <th>7</th>\n",
       "      <td>NaN</td>\n",
       "      <td>NaN</td>\n",
       "      <td>NaN</td>\n",
       "      <td>NaN</td>\n",
       "      <td>NaN</td>\n",
       "      <td>8</td>\n",
       "      <td>-0.593750</td>\n",
       "      <td>-0.562500</td>\n",
       "      <td>-0.578125</td>\n",
       "      <td>-0.017176</td>\n",
       "      <td>0.015625</td>\n",
       "    </tr>\n",
       "    <tr>\n",
       "      <th>8</th>\n",
       "      <td>NaN</td>\n",
       "      <td>NaN</td>\n",
       "      <td>NaN</td>\n",
       "      <td>NaN</td>\n",
       "      <td>NaN</td>\n",
       "      <td>9</td>\n",
       "      <td>-0.578125</td>\n",
       "      <td>-0.562500</td>\n",
       "      <td>-0.570312</td>\n",
       "      <td>-0.004964</td>\n",
       "      <td>0.007812</td>\n",
       "    </tr>\n",
       "    <tr>\n",
       "      <th>9</th>\n",
       "      <td>NaN</td>\n",
       "      <td>NaN</td>\n",
       "      <td>NaN</td>\n",
       "      <td>NaN</td>\n",
       "      <td>NaN</td>\n",
       "      <td>10</td>\n",
       "      <td>-0.570312</td>\n",
       "      <td>-0.562500</td>\n",
       "      <td>-0.566406</td>\n",
       "      <td>0.001155</td>\n",
       "      <td>0.003906</td>\n",
       "    </tr>\n",
       "    <tr>\n",
       "      <th>10</th>\n",
       "      <td>NaN</td>\n",
       "      <td>NaN</td>\n",
       "      <td>NaN</td>\n",
       "      <td>NaN</td>\n",
       "      <td>NaN</td>\n",
       "      <td>11</td>\n",
       "      <td>-0.570312</td>\n",
       "      <td>-0.566406</td>\n",
       "      <td>-0.568359</td>\n",
       "      <td>-0.001905</td>\n",
       "      <td>0.001953</td>\n",
       "    </tr>\n",
       "    <tr>\n",
       "      <th>11</th>\n",
       "      <td>NaN</td>\n",
       "      <td>NaN</td>\n",
       "      <td>NaN</td>\n",
       "      <td>NaN</td>\n",
       "      <td>NaN</td>\n",
       "      <td>12</td>\n",
       "      <td>-0.568359</td>\n",
       "      <td>-0.566406</td>\n",
       "      <td>-0.567383</td>\n",
       "      <td>-0.000375</td>\n",
       "      <td>0.000977</td>\n",
       "    </tr>\n",
       "    <tr>\n",
       "      <th>12</th>\n",
       "      <td>NaN</td>\n",
       "      <td>NaN</td>\n",
       "      <td>NaN</td>\n",
       "      <td>NaN</td>\n",
       "      <td>NaN</td>\n",
       "      <td>13</td>\n",
       "      <td>-0.567383</td>\n",
       "      <td>-0.566406</td>\n",
       "      <td>-0.566895</td>\n",
       "      <td>0.000390</td>\n",
       "      <td>0.000488</td>\n",
       "    </tr>\n",
       "    <tr>\n",
       "      <th>13</th>\n",
       "      <td>NaN</td>\n",
       "      <td>NaN</td>\n",
       "      <td>NaN</td>\n",
       "      <td>NaN</td>\n",
       "      <td>NaN</td>\n",
       "      <td>14</td>\n",
       "      <td>-0.567383</td>\n",
       "      <td>-0.566895</td>\n",
       "      <td>-0.567139</td>\n",
       "      <td>0.000007</td>\n",
       "      <td>0.000244</td>\n",
       "    </tr>\n",
       "    <tr>\n",
       "      <th>14</th>\n",
       "      <td>NaN</td>\n",
       "      <td>NaN</td>\n",
       "      <td>NaN</td>\n",
       "      <td>NaN</td>\n",
       "      <td>NaN</td>\n",
       "      <td>15</td>\n",
       "      <td>-0.567383</td>\n",
       "      <td>-0.567139</td>\n",
       "      <td>-0.567261</td>\n",
       "      <td>-0.000184</td>\n",
       "      <td>0.000122</td>\n",
       "    </tr>\n",
       "    <tr>\n",
       "      <th>15</th>\n",
       "      <td>NaN</td>\n",
       "      <td>NaN</td>\n",
       "      <td>NaN</td>\n",
       "      <td>NaN</td>\n",
       "      <td>NaN</td>\n",
       "      <td>16</td>\n",
       "      <td>-0.567261</td>\n",
       "      <td>-0.567139</td>\n",
       "      <td>-0.567200</td>\n",
       "      <td>-0.000088</td>\n",
       "      <td>0.000061</td>\n",
       "    </tr>\n",
       "    <tr>\n",
       "      <th>16</th>\n",
       "      <td>NaN</td>\n",
       "      <td>NaN</td>\n",
       "      <td>NaN</td>\n",
       "      <td>NaN</td>\n",
       "      <td>NaN</td>\n",
       "      <td>17</td>\n",
       "      <td>-0.567200</td>\n",
       "      <td>-0.567139</td>\n",
       "      <td>-0.567169</td>\n",
       "      <td>-0.000041</td>\n",
       "      <td>0.000031</td>\n",
       "    </tr>\n",
       "    <tr>\n",
       "      <th>17</th>\n",
       "      <td>NaN</td>\n",
       "      <td>NaN</td>\n",
       "      <td>NaN</td>\n",
       "      <td>NaN</td>\n",
       "      <td>NaN</td>\n",
       "      <td>18</td>\n",
       "      <td>-0.567169</td>\n",
       "      <td>-0.567139</td>\n",
       "      <td>-0.567154</td>\n",
       "      <td>-0.000017</td>\n",
       "      <td>0.000015</td>\n",
       "    </tr>\n",
       "    <tr>\n",
       "      <th>18</th>\n",
       "      <td>NaN</td>\n",
       "      <td>NaN</td>\n",
       "      <td>NaN</td>\n",
       "      <td>NaN</td>\n",
       "      <td>NaN</td>\n",
       "      <td>19</td>\n",
       "      <td>-0.567154</td>\n",
       "      <td>-0.567139</td>\n",
       "      <td>-0.567146</td>\n",
       "      <td>-0.000005</td>\n",
       "      <td>0.000008</td>\n",
       "    </tr>\n",
       "    <tr>\n",
       "      <th>19</th>\n",
       "      <td>NaN</td>\n",
       "      <td>NaN</td>\n",
       "      <td>NaN</td>\n",
       "      <td>NaN</td>\n",
       "      <td>NaN</td>\n",
       "      <td>20</td>\n",
       "      <td>-0.567146</td>\n",
       "      <td>-0.567139</td>\n",
       "      <td>-0.567142</td>\n",
       "      <td>0.000001</td>\n",
       "      <td>0.000004</td>\n",
       "    </tr>\n",
       "  </tbody>\n",
       "</table>\n",
       "</div>"
      ],
      "text/plain": [
       "    Newton_Iteración  Newton_x   Newton_f(x)  Newton_f'(x)  Newton_Error  \\\n",
       "0                1.0  0.500000  2.148721e+00      2.648722  8.112294e-01   \n",
       "1                2.0 -0.311229  4.213164e-01      1.732546  2.431776e-01   \n",
       "2                3.0 -0.554407  2.000579e-02      1.574413  1.270683e-02   \n",
       "3                4.0 -0.567114  4.618119e-05      1.567160  2.946807e-05   \n",
       "4                5.0 -0.567143  2.546089e-10      1.567144  1.624668e-10   \n",
       "5                NaN       NaN           NaN           NaN           NaN   \n",
       "6                NaN       NaN           NaN           NaN           NaN   \n",
       "7                NaN       NaN           NaN           NaN           NaN   \n",
       "8                NaN       NaN           NaN           NaN           NaN   \n",
       "9                NaN       NaN           NaN           NaN           NaN   \n",
       "10               NaN       NaN           NaN           NaN           NaN   \n",
       "11               NaN       NaN           NaN           NaN           NaN   \n",
       "12               NaN       NaN           NaN           NaN           NaN   \n",
       "13               NaN       NaN           NaN           NaN           NaN   \n",
       "14               NaN       NaN           NaN           NaN           NaN   \n",
       "15               NaN       NaN           NaN           NaN           NaN   \n",
       "16               NaN       NaN           NaN           NaN           NaN   \n",
       "17               NaN       NaN           NaN           NaN           NaN   \n",
       "18               NaN       NaN           NaN           NaN           NaN   \n",
       "19               NaN       NaN           NaN           NaN           NaN   \n",
       "\n",
       "    Biseccion_Iteración  Biseccion_a  Biseccion_b  Biseccion_c  \\\n",
       "0                     1    -2.000000     2.000000     0.000000   \n",
       "1                     2    -2.000000     0.000000    -1.000000   \n",
       "2                     3    -1.000000     0.000000    -0.500000   \n",
       "3                     4    -1.000000    -0.500000    -0.750000   \n",
       "4                     5    -0.750000    -0.500000    -0.625000   \n",
       "5                     6    -0.625000    -0.500000    -0.562500   \n",
       "6                     7    -0.625000    -0.562500    -0.593750   \n",
       "7                     8    -0.593750    -0.562500    -0.578125   \n",
       "8                     9    -0.578125    -0.562500    -0.570312   \n",
       "9                    10    -0.570312    -0.562500    -0.566406   \n",
       "10                   11    -0.570312    -0.566406    -0.568359   \n",
       "11                   12    -0.568359    -0.566406    -0.567383   \n",
       "12                   13    -0.567383    -0.566406    -0.566895   \n",
       "13                   14    -0.567383    -0.566895    -0.567139   \n",
       "14                   15    -0.567383    -0.567139    -0.567261   \n",
       "15                   16    -0.567261    -0.567139    -0.567200   \n",
       "16                   17    -0.567200    -0.567139    -0.567169   \n",
       "17                   18    -0.567169    -0.567139    -0.567154   \n",
       "18                   19    -0.567154    -0.567139    -0.567146   \n",
       "19                   20    -0.567146    -0.567139    -0.567142   \n",
       "\n",
       "    Biseccion_f(c)  Biseccion_Error  \n",
       "0         1.000000         2.000000  \n",
       "1        -0.632121         1.000000  \n",
       "2         0.106531         0.500000  \n",
       "3        -0.277633         0.250000  \n",
       "4        -0.089739         0.125000  \n",
       "5         0.007283         0.062500  \n",
       "6        -0.041498         0.031250  \n",
       "7        -0.017176         0.015625  \n",
       "8        -0.004964         0.007812  \n",
       "9         0.001155         0.003906  \n",
       "10       -0.001905         0.001953  \n",
       "11       -0.000375         0.000977  \n",
       "12        0.000390         0.000488  \n",
       "13        0.000007         0.000244  \n",
       "14       -0.000184         0.000122  \n",
       "15       -0.000088         0.000061  \n",
       "16       -0.000041         0.000031  \n",
       "17       -0.000017         0.000015  \n",
       "18       -0.000005         0.000008  \n",
       "19        0.000001         0.000004  "
      ]
     },
     "execution_count": 21,
     "metadata": {},
     "output_type": "execute_result"
    }
   ],
   "source": [
    "resolutor.comparar(x0=0.5, a=-2, b=2, tol=1e-6, max_iter=20)"
   ]
  },
  {
   "cell_type": "markdown",
   "id": "10bce0d0",
   "metadata": {
    "slideshow": {
     "slide_type": "slide"
    }
   },
   "source": [
    "## Referentes "
   ]
  },
  {
   "cell_type": "markdown",
   "id": "1db3c468",
   "metadata": {
    "slideshow": {
     "slide_type": "slide"
    }
   },
   "source": [
    "* [CALCULO I DE UNA VARIABLE Ron Larson-Bruce Edwards. Mc Graw Hill. 9º Edición](https://www.academia.edu/42139251/CALCULO_I_DE_UNA_VARIABLE_Ron_Larson_Bruce_Edwards_Mc_Graw_Hill_9o_Edici%C3%B3n)   \n",
    "  \n",
    "* [Métodos numéricos usando python](chrome-extension://efaidnbmnnnibpcajpcglclefindmkaj/https://librosoa.unam.mx/bitstream/handle/123456789/3416/MNPython.pdf?sequence=1&isAllowed=y)  \n",
    "  \n",
    "* [Grajales Vanegas, L. M., Restrepo Estrada, C. E., Restrepo Ochoa, S. I., & Ruíz De Villalba, F. (2015). Matemáticas I para las ciencias económicas.](https://bibliotecadigital.udea.edu.co/handle/10495/3010)\n",
    "  \n",
    "* R. Duval y Semiosis y pensamiento humano, 2.ª ed. Cali, Colombia: Programa Editorial Universidad del Valle, 2017. [En línea]. Disponible en: https://programaeditorial.univalle.edu.co/gpd-semiosis-y-pensamiento-humano-9789587655278-63324cdb0f6b3.html\n",
    "\n",
    "* [Aylwin, C. U. (2011). Lógica, conjuntos y números. Universidad de los Andes, Consejo de Publicaciones, Colección: Ciencias Básicas, Serie: Matemáticas.](chrome-extension://efaidnbmnnnibpcajpcglclefindmkaj/https://www.u-cursos.cl/ciencias/2011/1/MC110/1/material_docente/bajar?id_material=574722)\n",
    "  \n",
    "* [Chollet, F. (2021). Deep learning with Python. Simon and Schuster.](chrome-extension://efaidnbmnnnibpcajpcglclefindmkaj/https://tanthiamhuat.wordpress.com/wp-content/uploads/2018/03/deeplearningwithpython.pdf)  \n",
    "  \n",
    "* [Watson, S., Stewart, J., & Redlin, L. (2009). Precálculo. Matemáticas para el cálculo.](https://github.com/marco-canas/calculo/blob/main/referents/1_precalculo_stewart/stewart_precalculo.pdf)  \n",
    "\n",
    "* [Purcell, E. J., Varberg, D., & Rigdon, S. E. (2007). Cálculo diferencial e integral. Pearson Educación.](https://github.com/marco-canas/calculo/blob/main/referents/purcell/purcell_calculo.pdf)\n",
    "\n",
    "  \n",
    "\n",
    "* [stewart cálculo](https://udeaeduco-my.sharepoint.com/:b:/g/personal/marco_canas_udea_edu_co/EZgXZjAp8QxPqOAim2hs6LcBNPLGjSHf-xwYnUVYkwa04w?e=RZdTCy)  \n",
    "\n",
    "\n",
    "\n",
    "\n",
    "\n",
    "* [Recomendación de la UNESCO sobre ciencia abierta](https://unesdoc.unesco.org/ark:/48223/pf0000379949_spa)\n",
    "\n",
    "* [chatGPT](https://openai.com/blog/chatgpt)  \n",
    "\n",
    "* [Géron, A. (2017). Hands-on machine learning with scikit-learn and tensorflow: Concepts. Tools, and Techniques to build intelligent systems.](chrome-extension://efaidnbmnnnibpcajpcglclefindmkaj/http://14.139.161.31/OddSem-0822-1122/Hands-On_Machine_Learning_with_Scikit-Learn-Keras-and-TensorFlow-2nd-Edition-Aurelien-Geron.pdf)   \n"
   ]
  },
  {
   "cell_type": "markdown",
   "id": "df925560",
   "metadata": {},
   "source": [
    "\n",
    "* [McKinney, W. (2012). Python for data analysis: Data wrangling with Pandas, NumPy, and IPython. \" O'Reilly Media, Inc.\".](https://wesmckinney.com/book/) "
   ]
  },
  {
   "cell_type": "markdown",
   "id": "8e65d6f9",
   "metadata": {},
   "source": [
    "# Como estudiante, encuentro que...   \n",
    "\n",
    "F: Mis Fortalezas son:     \n",
    "O: Mis Oportunidades son:    \n",
    "D: Mis Debilidades son:    \n",
    "A: Lo que Amenazas mi aprendizaje es:  "
   ]
  },
  {
   "cell_type": "markdown",
   "id": "6b9e56a8",
   "metadata": {
    "slideshow": {
     "slide_type": "slide"
    }
   },
   "source": [
    "### [Evaluamos al profesor Marco Cañas Aquí](https://forms.office.com/Pages/ResponsePage.aspx?id=IefhmYRxjkmK_7KtTlPBwkanXIs1i1FEujpsZgO6dXpUREJPV1kxUk1JV1ozTFJIQVNIQjY5WEY3US4u)"
   ]
  },
  {
   "cell_type": "markdown",
   "id": "10f43536",
   "metadata": {
    "slideshow": {
     "slide_type": "slide"
    }
   },
   "source": [
    "### Continue su aprendizaje en la siguiente clase a través del siguiente [vínculo]()"
   ]
  },
  {
   "cell_type": "markdown",
   "id": "53cc9115",
   "metadata": {
    "slideshow": {
     "slide_type": "slide"
    }
   },
   "source": [
    "## Agradecimientos  \n",
    "\n",
    "Doy gracias a Dios por la vida de mi Hijo Joseph Cañas Osorio y la madurez que ha alcanzado. Este hijo me enorgullece y me hace falta abrazarlo cada día. \n",
    "\n",
    "Y a mi esposa Yasmira Emperatriz Barboza Mogollón por su apoyo, orientación y acompañamiento. "
   ]
  }
 ],
 "metadata": {
  "celltoolbar": "Slideshow",
  "kernelspec": {
   "display_name": ".venv",
   "language": "python",
   "name": "python3"
  },
  "language_info": {
   "codemirror_mode": {
    "name": "ipython",
    "version": 3
   },
   "file_extension": ".py",
   "mimetype": "text/x-python",
   "name": "python",
   "nbconvert_exporter": "python",
   "pygments_lexer": "ipython3",
   "version": "3.12.6"
  },
  "rise": {
   "enable_chalkboard": true,
   "theme": "sky",
   "transition": "zoom"
  }
 },
 "nbformat": 4,
 "nbformat_minor": 5
}
