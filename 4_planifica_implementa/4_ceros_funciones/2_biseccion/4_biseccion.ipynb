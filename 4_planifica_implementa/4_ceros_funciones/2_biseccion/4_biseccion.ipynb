{
 "cells": [
  {
   "cell_type": "markdown",
   "id": "dc06dec7",
   "metadata": {
    "slideshow": {
     "slide_type": "slide"
    }
   },
   "source": [
    "<table align=\"left\">\n",
    "  <td>\n",
    "    <a href=\"https://colab.research.google.com/github/marco-canas/analisis_numerico/blob/main/4_planifica_implementa/4_ceros_funciones/2_biseccion/4_biseccion.ipynb\" target=\"_parent\"><img src=\"https://colab.research.google.com/assets/colab-badge.svg\" alt=\"Open In Colab\"/></a>\n",
    "  </td>\n",
    "  <td>\n",
    "    <a target=\"_blank\" href=\"https://kaggle.com/kernels/welcome?src=https://github.com/marco-canas/analisis_numerico/blob/main/4_planifica_implementa/4_ceros_funciones/2_biseccion/4_biseccion.ipynb\"><img src=\"https://kaggle.com/static/images/open-in-kaggle.svg\" /></a>\n",
    "  </td>\n",
    "</table>"
   ]
  },
  {
   "cell_type": "markdown",
   "id": "e0c5b198",
   "metadata": {
    "slideshow": {
     "slide_type": "slide"
    }
   },
   "source": [
    "### [Video de apoyo a la lectura interactiva y experimental de este cuaderno]()"
   ]
  },
  {
   "cell_type": "markdown",
   "id": "41e82203",
   "metadata": {
    "slideshow": {
     "slide_type": "slide"
    }
   },
   "source": [
    "### [Vínculo al programa del curso:  ]()\n",
    "\n"
   ]
  },
  {
   "cell_type": "code",
   "execution_count": 2,
   "id": "7604880f",
   "metadata": {
    "slideshow": {
     "slide_type": "slide"
    }
   },
   "outputs": [],
   "source": [
    "import pandas as pd\n",
    "import numpy as np\n",
    "\n",
    "# Cargar la lista de estudiantes desde el archivo CSV\n",
    "path = 'C:/Users/marco/Documentos/docencia/groups_list/numerico.xlsx'\n",
    "df = pd.read_excel(path)\n"
   ]
  },
  {
   "cell_type": "markdown",
   "id": "d7598d0a-d9b7-4ae0-b029-a0ed6ed1130b",
   "metadata": {},
   "source": [
    "\n",
    "# Principios de mi labor docente"
   ]
  },
  {
   "cell_type": "markdown",
   "id": "4f9d8cf9",
   "metadata": {
    "slideshow": {
     "slide_type": "slide"
    }
   },
   "source": [
    "## Modelo general de clase: [aula invertida](https://www3.gobiernodecanarias.org/medusa/ecoescuela/pedagotic/aprendizaje-invertido-flipped-classroom/)"
   ]
  },
  {
   "cell_type": "markdown",
   "id": "eb6ed03a",
   "metadata": {},
   "source": [
    "<img src = 'https://resources.maneuveringthemiddle.com/wp-content/uploads/2020/07/04212706/1-5.png' width = 200>  \n",
    "\n"
   ]
  },
  {
   "cell_type": "markdown",
   "id": "34319cce-a71b-4f64-aab8-b53e521efa40",
   "metadata": {},
   "source": [
    "# Metodología de Aprendizaje Basado en Problemas y Proyectos (ABPP) \n"
   ]
  },
  {
   "cell_type": "markdown",
   "id": "c4f73d81",
   "metadata": {},
   "source": [
    "\n",
    "<img src = 'https://www.unir.net/wp-content/uploads/2020/07/aprendizaje-problemas2-1-1-1-1.jpeg' width = 200>"
   ]
  },
  {
   "cell_type": "markdown",
   "id": "841a985c-bd9b-4dd3-8e4c-893983980af2",
   "metadata": {},
   "source": [
    "# Desarrollo del pensamiento computacional con Lenguajes Python, R; y con archivos Markdown y R-Markdown orientado a la formación en ciencia de datos \n",
    "\n"
   ]
  },
  {
   "cell_type": "markdown",
   "id": "3d0eba94",
   "metadata": {},
   "source": [
    "\n",
    "<img src = 'https://i.ytimg.com/vi/mcG_wcR4e6M/maxresdefault.jpg' width = 200>"
   ]
  },
  {
   "cell_type": "markdown",
   "id": "65aa0404-f7ae-495e-864c-1aec01b4255e",
   "metadata": {},
   "source": [
    "# Principio de fomento a la ciencia abierta, enseñar en el acceso a los datos públicos y el uso de software de código abierto  \n"
   ]
  },
  {
   "cell_type": "markdown",
   "id": "18ae9b87",
   "metadata": {},
   "source": [
    "\n",
    "<img src = 'https://unesdoc.unesco.org/in/rest/Thumb/image?id=p%3A%3Ausmarcdef_0000379949_spa&author=UNESCO&title=Recomendaci%C3%B3n+de+la+UNESCO+sobre+la+Ciencia+Abierta&year=2021&publisher=UNESCO&TypeOfDocument=UnescoPhysicalDocument&mat=PGD&ct=true&size=512&isPhysical=1' width = 200>"
   ]
  },
  {
   "cell_type": "markdown",
   "id": "d9559f85",
   "metadata": {},
   "source": [
    "El enfoque STEAMS en educación preescolar, primaria y secundaria es una extensión del enfoque STEM (Ciencia, Tecnología, Ingeniería y Matemáticas) y su variante STEAM, que incorpora el Arte. "
   ]
  },
  {
   "cell_type": "markdown",
   "id": "72e1cfd2",
   "metadata": {},
   "source": [
    "El acrónimo STEAMS incluye:\n"
   ]
  },
  {
   "cell_type": "markdown",
   "id": "03182fd1",
   "metadata": {},
   "source": [
    "\n",
    "1. **Science (Ciencia):** Fomenta la curiosidad por el mundo natural y el desarrollo de habilidades científicas, como la observación, experimentación y análisis.\n"
   ]
  },
  {
   "cell_type": "markdown",
   "id": "1306d0fa",
   "metadata": {},
   "source": [
    "\n",
    "2. **Technology (Tecnología):** Integra herramientas tecnológicas para potenciar el aprendizaje y la resolución de problemas, promoviendo la alfabetización digital desde edades tempranas.\n"
   ]
  },
  {
   "cell_type": "markdown",
   "id": "3b1a53e8",
   "metadata": {},
   "source": [
    "\n",
    "3. **Engineering (Ingeniería):** Introduce el pensamiento lógico y la resolución de problemas estructurados, fomentando habilidades como el diseño y la construcción de soluciones.\n"
   ]
  },
  {
   "cell_type": "markdown",
   "id": "0196de87",
   "metadata": {},
   "source": [
    "\n",
    "4. **Arts (Arte):** Añade creatividad y pensamiento crítico, permitiendo a los estudiantes expresarse y explorar el aprendizaje a través de formas artísticas (plásticas, música, teatro).\n"
   ]
  },
  {
   "cell_type": "markdown",
   "id": "8bcc485a",
   "metadata": {},
   "source": [
    "\n",
    "5. **Mathematics (Matemáticas):** Refuerza las habilidades numéricas y el razonamiento lógico, fundamentales en la resolución de problemas y comprensión de conceptos abstractos.\n"
   ]
  },
  {
   "cell_type": "markdown",
   "id": "907935f4",
   "metadata": {},
   "source": [
    "\n",
    "6. **Social Sciences (Ciencias Sociales):** Incorpora la comprensión del entorno social, político, cultural y económico, promoviendo el desarrollo de la conciencia crítica sobre el mundo y su historia, además de habilidades de empatía y ciudadanía.\n"
   ]
  },
  {
   "cell_type": "markdown",
   "id": "39967d63",
   "metadata": {},
   "source": [
    "\n",
    "El enfoque STEAMS pretende desarrollar un aprendizaje **interdisciplinario** que integre estas áreas para fomentar un pensamiento más holístico y práctico. "
   ]
  },
  {
   "cell_type": "markdown",
   "id": "5145f077",
   "metadata": {},
   "source": [
    "Se busca que los estudiantes no solo aprendan conocimientos técnicos, sino también cómo aplicarlos creativa y críticamente en situaciones reales, promoviendo habilidades como el trabajo en equipo, la comunicación y la innovación. "
   ]
  },
  {
   "cell_type": "markdown",
   "id": "9d556584",
   "metadata": {},
   "source": [
    "En educación preescolar, primaria, secundaria y superior, se adapta a las diferentes etapas de desarrollo cognitivo y emocional de los estudiantes, promoviendo el aprendizaje activo y contextualizado.  \n"
   ]
  },
  {
   "cell_type": "markdown",
   "id": "0130ec1b",
   "metadata": {},
   "source": [
    "\n",
    "<img src = 'https://www.campuseducacion.com/blog/wp-content/uploads/2023/03/foto01-1.jpg' width = 200>"
   ]
  },
  {
   "cell_type": "markdown",
   "id": "84ec2fa0",
   "metadata": {},
   "source": [
    "# Y el enfoque de TRRS de Duval "
   ]
  },
  {
   "cell_type": "markdown",
   "id": "96775931",
   "metadata": {
    "slideshow": {
     "slide_type": "slide"
    }
   },
   "source": [
    "## Título de la clase: El método de bisección  \n",
    "\n",
    "[]()"
   ]
  },
  {
   "cell_type": "code",
   "execution_count": 1,
   "id": "28bae6cb",
   "metadata": {},
   "outputs": [],
   "source": [
    "def save_fig(nombre_archivo_imagen):\n",
    "    import os \n",
    "    import matplotlib.pyplot as plt \n",
    "    ubicacion_para_imagenes = r\"C:/Users/marco/Downloads\"\n",
    "    imagen_path = os.path.join(ubicacion_para_imagenes, nombre_archivo_imagen)\n",
    "    plt.savefig(imagen_path, bbox_inches='tight')"
   ]
  },
  {
   "cell_type": "markdown",
   "id": "10e55ccf",
   "metadata": {},
   "source": [
    "# Estructura general para todas las clases\n",
    "\n",
    "Dame, por favor, un diseño de clase, con el enfoque: \"Aula Invertida, STEAMS y De aprendizaje basado en problemas y proyectos(ABPP)\" sobre: \"El método de de la bisección para solución de ecuaciones no lineales para ingeniería agropecuaria\", siguiendo la estructura:  \n",
    "\n",
    "1. Título de la clase   \n",
    "   \n",
    "2. Objetivos de aprendizaje que incluyan los indicadores del logro de estos objetivos.\n",
    "   \n",
    "3. Un mapa conceptual que resuma la clase elaborado en Graphviz de Python con nodos y edges de diferentes formas, colores y rellenos y renderizado en la siguiente ubicación: `\"C:/Users/marco/Downloads\"`. No olvides el parámetro `view = True` para el método `render()` de Graphviz. Para este mapa controla las superposiciones de los nodos con: graph [overlap=false]; // Elimina superposiciones (puede aumentar el espacio) \n",
    "graph [overlap=\"scalexy\"]; // Escala el gráfico para evitar overlaps\n",
    "graph [overlap=\"compress\"]; // Comprime el grafo sin overlaps  \n",
    "   \n",
    "4. Dame elementos históricos y epistemológicos asociados a esta clase, pero contados como un cuento al estilo de un cuentero antioqueño en Colombia. Incluye imágenes de los protagonistas históricos de esta clase.   \n",
    "   \n",
    "5. Contenido de la clase. Que el contenido parta de una situación real para llegar a una constitución del modelo matemático que represente tal situación real.    \n",
    "   \n",
    "\n",
    "6. Deducción de una función de usuario de Python, que permita determinar el número de rectángulos $n$ necesarios para una precisión de la suma de Riemann dada $\\epsilon = 0.0001$.    \n",
    "   \n",
    "7. Actividades de aprendizaje: que incluya pruebas de escritorio para los algoritmos en forma verbal y seudo código, diagrama de flujo, y la implementación del algoritmo en lenguaje Python.   \n",
    "   \n",
    "8. Incluye una canción o un poema que ayude a interiorizar y fijar los conceptos asociados a esta clase.   \n",
    "   \n",
    "9.  Tarea o actividades de ejercitación y fijación.  \n",
    "    \n",
    "10. Evaluación incluyendo diez proyectos, un ejemplo de quiz y un ejemplo de parcial.  \n",
    "    \n",
    "11. Diseño de actividad de retroalimentación.   \n",
    "    \n",
    "12. Dame un vocabulario y frases del idioma inglés asociadas a esta clase.  \n",
    "\n",
    "13.  Incluye apéndice para la clase sobre desarrollo de habilidades para trabajar en equipo y de asertividad y empatía para relacionarnos. También elementos de la inteligencia emocional para presentar pruebas sin temor y sin realizar fraude en ellas. Y Actividades para desarrollar la habilidad de la Tolerancia    \n",
    "     \n",
    "14. Incluye 5 referentes en didáctica de la matemática que estén de acuerdo a la propuesta didáctica de esta clase. Adiciona a estos referentes a Raymond Duval (Representaciones y cambios de representación para la adquisición de conceptos matemáticos) y a Jeannette Wing (Desarrollo del pensamiento computacional). Déjame todos estos referentes ordenados de acuerdo a las normas APA. Incluye un referente en didáctica de la matemática que fundamente el uso del Enfoque de Aula Invertida, uno que fundamente el enfoque STEAMS y finalmente otro que fundamente el enfoque de Aprendizaje Basado en Problemas y Proyectos (ABPP)\n",
    "  \n",
    "\n",
    "Pero  que este diseño sea para que el estudiante pueda aprender experimentando en cuadernos Jupyter con funciones de usuario y animaciones y visualizaciones en Python.    \n",
    "\n",
    "En particular utiliza para el diseño de clase a Numpy, Pandas, SymPy, Matplotlib.pyplot, Seaborn, Plotly, ipywidgets, matplotlib.animation y Jupyter Notebook.    \n",
    "\n",
    "Cada vez que utilices `matplotlib.animacion` no olvides incluir el uso de `IPython. display` para la renderización de estas animaciones a través de Jupyter Notebook.    \n",
    "\n",
    "No olvides darme los diseños de clase con las ecuaciones matemáticas delimitadas con signo de dólar $ para que VS Code si me renderice estas expresiones del lenguaje latex. Cuando vallas a utilizar ipywidgets ten en cuenta la siguiente importación inicial para garantizar que la visualización interactiva si se renderice en VS Code:    \n",
    " \n",
    "import numpy as np  \n",
    "import matplotlib.pyplot as plt  \n",
    "import ipywidgets as widgets  \n",
    "from IPython.display import display, clear_output  \n",
    "from matplotlib.patches import Rectangle  \n",
    "\n",
    "# Configuración inicial para visualización estática  \n",
    "%matplotlib inline "
   ]
  },
  {
   "cell_type": "markdown",
   "id": "97d660ad",
   "metadata": {},
   "source": [
    "# Diseño de Clase: \"El Método de la Bisección para Solución de Ecuaciones No Lineales en Ingeniería Agropecuaria\"\n",
    "\n",
    "## 1. Título de la Clase\n",
    "**\"Aplicando el Método de la Bisección: Solución de Problemas Agropecuarios con Python\"**\n",
    "\n",
    "## 2. Objetivos de Aprendizaje e Indicadores\n",
    "\n",
    "**Objetivos:**\n",
    "- Comprender el fundamento matemático del método de bisección para resolver ecuaciones no lineales\n",
    "- Aplicar el método a problemas reales en ingeniería agropecuaria\n",
    "- Implementar algoritmos computacionales para automatizar el proceso de solución\n",
    "- Analizar resultados y validar su precisión\n",
    "\n",
    "**Indicadores:**\n",
    "- El estudiante formula correctamente problemas agropecuarios como ecuaciones no lineales (90% precisión)\n",
    "- Implementa en Python el método de bisección con interfaz interactiva (80% funcionalidad)\n",
    "- Interpreta gráficamente el proceso de convergencia del método (85% precisión)\n",
    "- Evalúa críticamente resultados aplicados a casos reales (75% correlación con datos reales)\n"
   ]
  },
  {
   "cell_type": "markdown",
   "id": "d53e13c1",
   "metadata": {},
   "source": [
    "\n",
    "## 3. Mapa Conceptual (Graphviz)\n"
   ]
  },
  {
   "cell_type": "code",
   "execution_count": 4,
   "id": "ba9888e2",
   "metadata": {},
   "outputs": [
    {
     "data": {
      "text/plain": [
       "'C:\\\\Users\\\\marco\\\\Downloads\\\\biseccion_map.png'"
      ]
     },
     "execution_count": 4,
     "metadata": {},
     "output_type": "execute_result"
    }
   ],
   "source": [
    "\n",
    "from graphviz import Digraph\n",
    "\n",
    "# Crear el gráfico\n",
    "graph = Digraph('Biseccion', \n",
    "                filename='C:/Users/marco/Downloads/biseccion_map', \n",
    "                format='png',\n",
    "                engine='neato')\n",
    "\n",
    "# Configuración para evitar overlaps\n",
    "graph.attr('graph', overlap='false')\n",
    "graph.attr('graph', splines='true')\n",
    "graph.attr('graph', pad='0.5')\n",
    "graph.attr('node', shape='box', style='filled', fillcolor='lightblue')\n",
    "graph.attr('edge', color='gray50')\n",
    "\n",
    "# Nodos principales\n",
    "graph.node('A', 'Método de Bisección', shape='ellipse', fillcolor='lightcoral')\n",
    "graph.node('B', 'Fundamento Matemático', shape='note', fillcolor='lightyellow')\n",
    "graph.node('C', 'Aplicaciones Agropecuarias', shape='folder', fillcolor='lightgreen')\n",
    "graph.node('D', 'Implementación Python', shape='component', fillcolor='plum')\n",
    "\n",
    "# Subnodos - Fundamentos Matemáticos\n",
    "graph.node('B1', 'Teorema del Valor Intermedio')\n",
    "graph.node('B2', 'Convergencia Lineal')\n",
    "graph.node('B3', 'Error Absoluto: $|x_n - r| ≤ (b-a)/2^{n+1}$')\n",
    "\n",
    "# Subnodos - Aplicaciones\n",
    "graph.node('C1', 'Cálculo de pH óptimo')\n",
    "graph.node('C2', 'Balance de nutrientes')\n",
    "graph.node('C3', 'Modelos de crecimiento')\n",
    "\n",
    "# Subnodos - Implementación\n",
    "graph.node('D1', 'Algoritmo iterativo')\n",
    "graph.node('D2', 'Visualización')\n",
    "graph.node('D3', 'Widgets interactivos')\n",
    "\n",
    "# Conexiones principales\n",
    "graph.edges(['AB', 'AC', 'AD'])\n",
    "\n",
    "# Conexiones secundarias\n",
    "graph.edges([('B','B1'), ('B','B2'), ('B','B3')])\n",
    "graph.edges([('C','C1'), ('C','C2'), ('C','C3')])\n",
    "graph.edges([('D','D1'), ('D', 'D2'), ('D','D3')])\n",
    "\n",
    "# Conexiones transversales\n",
    "graph.edge('B1', 'C1', style='dashed')\n",
    "graph.edge('B3', 'D1', style='dashed')\n",
    "graph.edge('C3', 'D2', style='dashed')\n",
    "\n",
    "# Renderizar y mostrar\n",
    "graph.render(view=True)\n",
    "\n"
   ]
  },
  {
   "cell_type": "markdown",
   "id": "656c87a0",
   "metadata": {},
   "source": [
    "\n",
    "## 4. Historia y Epistemología (Cuento Antioqueño)\n",
    "\n",
    "*\"¡Ay hombe!, pues les voy a contar la historia de cómo los viejos matemáticos le metieron el hombro al problema de las ecuaciones...*\n",
    "\n",
    "*Hace muchos añitos, cuando los árabes andaban repartiendo conocimiento por ahí, al-Juarismi (que pa' los cuentos es como decir 'el Jorge') se puso a jugar con las ecuaciones. Pero ese man sólo sabía de las lineales, las que van derechitas como camino de herradura...*\n",
    "\n",
    "*Pasaron los siglos y llegó el francés François Viète (mírenlo ahí con su peluca de estopa), que empezó a usar letras pa' las incógnitas. ¡Eso sí fue un avance! Pero las ecuaciones no lineales seguían duras como ñame cociná...*\n",
    "\n",
    "*Hasta que llegó Bolzano, un checo terco como mula cargada de leña, que en 1817 dijo: 'Si una función cambia de signo, por ahí debe pasar por cero'. ¡Eso era el Teorema del Valor Intermedio! Pero como no tenía computadores, tocaba hacerlo a pura paciencia, como desgranando mazorca...*\n",
    "\n",
    "*Y así nació el método de la bisección: cortar por la mitad, ver dónde está el cambio, y seguir cortando... como cuando uno parte una sandía pa' ver si está dulce. ¡Simple pero efectivo!*\n",
    "\n",
    "*Hoy nosotros, con estos computadores tan bravos, podemos hacer en segundos lo que a esos viejos les tomaba días. Pero el principio es el mismo: paciencia, método y cortar por la mitad...\"*\n",
    "\n",
    "**Imágenes sugeridas:**\n",
    "1. Muhammad ibn Musa al-Khwarizmi (al-Juarismi)\n",
    "2. François Viète\n",
    "3. Bernard Bolzano\n",
    "4. Gráfico histórico del método de bisección\n"
   ]
  },
  {
   "cell_type": "markdown",
   "id": "e0c45066",
   "metadata": {},
   "source": [
    "\n",
    "## 5. Contenido de la Clase (Situación Real)\n",
    "\n",
    "**Problema Agropecuario Real:**  \n",
    "*\"Determinar el pH óptimo para el cultivo de arándanos en suelos volcánicos, donde la relación entre pH y disponibilidad de nutrientes sigue la función:*\n",
    "\n",
    "$f(pH) = e^{-0.5(pH-4.5)^2} - 0.5(pH-4.5) + 0.1\\sin(2πpH) - 0.4$\n",
    "\n",
    "*Queremos encontrar el pH donde $f(pH) = 0$ (equilibrio nutricional máximo).\"*\n",
    "\n",
    "**Construcción del Modelo:**\n",
    "1. **Recolección de datos:** Mediciones experimentales de disponibilidad de nutrientes vs pH\n",
    "2. **Ajuste de curva:** Uso de funciones exponenciales, polinomiales y trigonométricas\n",
    "3. **Formulación matemática:** $f(pH) = 0$ como ecuación no lineal\n",
    "4. **Análisis gráfico:** Visualización de la función en el intervalo [3, 6]\n"
   ]
  },
  {
   "cell_type": "code",
   "execution_count": null,
   "id": "826de7fc",
   "metadata": {},
   "outputs": [],
   "source": [
    "\n",
    "\n",
    "import numpy as np\n",
    "import matplotlib.pyplot as plt\n",
    "from ipywidgets import interact\n",
    "\n",
    "def f(pH):\n",
    "    return np.exp(-0.5*(pH-4.5)**2) - 0.5*(pH-4.5) + 0.1*np.sin(2*np.pi*pH) - 0.4\n",
    "\n",
    "pH_values = np.linspace(3, 6, 500)\n",
    "plt.figure(figsize=(10, 6))\n",
    "plt.plot(pH_values, f(pH_values), label='Disponibilidad de nutrientes')\n",
    "plt.axhline(0, color='red', linestyle='--')\n",
    "plt.xlabel('pH')\n",
    "plt.ylabel('f(pH)')\n",
    "plt.title('Relación pH - Disponibilidad Nutrientes')\n",
    "plt.grid(True)\n",
    "plt.legend()\n",
    "plt.show()\n",
    "\n"
   ]
  },
  {
   "cell_type": "markdown",
   "id": "7cae55ad",
   "metadata": {},
   "source": [
    "\n",
    "## 6. Función Python para Método de Bisección\n"
   ]
  },
  {
   "cell_type": "code",
   "execution_count": 4,
   "id": "08a31186",
   "metadata": {},
   "outputs": [],
   "source": [
    "\n",
    "\n",
    "def metodo_biseccion(f, a, b, tol=1e-6, max_iter=100):\n",
    "    import numpy as np \n",
    "    \"\"\"\n",
    "    Implementación del método de bisección para encontrar raíces de f(x) = 0\n",
    "    \n",
    "    Parámetros:\n",
    "    f : función a evaluar\n",
    "    a, b : extremos del intervalo [a, b] donde f cambia de signo\n",
    "    tol : tolerancia (precisión deseada)\n",
    "    max_iter : número máximo de iteraciones\n",
    "    \n",
    "    Retorna:\n",
    "    (raíz_aproximada, num_iteraciones, historia)\n",
    "    \"\"\"\n",
    "    if f(a) * f(b) >= 0:\n",
    "        raise ValueError(\"La función debe cambiar de signo en el intervalo [a, b]\")\n",
    "    \n",
    "    historia = []\n",
    "    for n in range(max_iter):\n",
    "        c = (a + b) / 2\n",
    "        historia.append((n, a, b, c, f(c), abs(b - a)))\n",
    "        \n",
    "        if f(c) == 0 or (b - a)/2 < tol:\n",
    "            return c, n+1, historia\n",
    "        \n",
    "        if f(c) * f(a) < 0:\n",
    "            b = c\n",
    "        else:\n",
    "            a = c\n",
    "    \n",
    "    return (a + b)/2, max_iter, historia\n"
   ]
  },
  {
   "cell_type": "code",
   "execution_count": 11,
   "id": "5cc4a9f6",
   "metadata": {},
   "outputs": [
    {
     "name": "stdout",
     "output_type": "stream",
     "text": [
      "Raíz encontrada en pH = 0.418879 después de 20 iteraciones\n"
     ]
    }
   ],
   "source": [
    "\n",
    "import numpy as np \n",
    "# Ejemplo de uso:\n",
    "raiz, iteraciones, historia = metodo_biseccion(f = lambda x:2*np.pi*x*2 - 30*x**2, a = 0.1, \\\n",
    "    b = 0.7)\n",
    "print(f\"Raíz encontrada en pH = {raiz:.6f} después de {iteraciones} iteraciones\")\n",
    "\n"
   ]
  },
  {
   "cell_type": "code",
   "execution_count": 2,
   "id": "fb74dae2",
   "metadata": {},
   "outputs": [
    {
     "data": {
      "image/png": "[encoded data removed]",
      "text/plain": [
       "<Figure size 800x500 with 1 Axes>"
      ]
     },
     "metadata": {},
     "output_type": "display_data"
    }
   ],
   "source": [
    "import numpy as np\n",
    "\n",
    "import matplotlib.pyplot as plt\n",
    "a,b = -0.5, 1.0\n",
    "x = np.linspace(a, b, 400)\n",
    "y = 2 * np.pi * x * 2 - 30 * x**2\n",
    "\n",
    "plt.figure(figsize=(8, 5))\n",
    "plt.plot(x, y, label='2πx2 - 30x²')\n",
    "plt.axhline(0, color='red', linestyle='--')\n",
    "plt.xlabel('x')\n",
    "plt.ylabel('f(x)')\n",
    "plt.title(r'Gráfica de $f(x) = 4\\pi x - 30x^2$')\n",
    "plt.legend()\n",
    "plt.grid(True)\n",
    "plt.show()"
   ]
  },
  {
   "cell_type": "markdown",
   "id": "a6eca64b",
   "metadata": {},
   "source": [
    "# Sobre la convergencia "
   ]
  },
  {
   "cell_type": "markdown",
   "id": "bbf2377d",
   "metadata": {},
   "source": [
    "En los métodos numéricos para encontrar **ceros de funciones** (raíces), la **convergencia** se refiere a cómo de rápido y bajo qué condiciones una sucesión de aproximaciones $\\{x_n\\}$ se acerca a la solución exacta $x^*$. Los tipos de convergencia más importantes son:\n",
    "\n"
   ]
  },
  {
   "cell_type": "markdown",
   "id": "4fd8c200",
   "metadata": {},
   "source": [
    "\n",
    "\n",
    "### **1. Convergencia Lineal**\n",
    "- **Definición:** Un método converge linealmente si existe una constante $C \\in (0, 1)$ tal que:  \n",
    "  $$\n",
    "  |x_{n+1} - x^*| \\leq C |x_n - x^*|.\n",
    "  $$\n",
    "- **Interpretación:** El error se reduce en un factor constante en cada iteración (ej: $C = 0.5$ implica que el error se divide por 2 en cada paso).  \n",
    "- **Ejemplos:**  \n",
    "  - **Método de Bisección:** Converge linealmente con $C = \\frac{1}{2}$.  \n",
    "  - **Iteración de Punto Fijo** (cuando $|g'(x^*)| < 1$).\n",
    "\n"
   ]
  },
  {
   "cell_type": "markdown",
   "id": "9998a3b4",
   "metadata": {},
   "source": [
    "\n",
    "\n",
    "### **2. Convergencia Cuadrática**\n",
    "- **Definición:** Un método converge cuadráticamente si existe una constante $M > 0$ tal que:  \n",
    "  $$\n",
    "  |x_{n+1} - x^*| \\leq M |x_n - x^*|^2.\n",
    "  $$\n",
    "- **Interpretación:** El error se eleva al cuadrado en cada paso (el número de dígitos correctos se duplica aproximadamente por iteración).  \n",
    "- **Ejemplo:**  \n",
    "  - **Método de Newton-Raphson:** Converge cuadráticamente **si**:\n",
    "    - $f'(x^*) \\neq 0$ (la derivada en la raíz no es cero).  \n",
    "    - $x_0$ está suficientemente cerca de $x^*$.  \n"
   ]
  },
  {
   "cell_type": "markdown",
   "id": "f69fe094",
   "metadata": {},
   "source": [
    "\n",
    "\n",
    "### **3. Convergencia Superlineal**\n",
    "- **Definición:** Más rápida que la lineal pero no necesariamente cuadrática. Formalmente:  \n",
    "  $$\n",
    "  \\lim_{n \\to \\infty} \\frac{|x_{n+1} - x^*|}{|x_n - x^*|} = 0.\n",
    "  $$\n",
    "- **Ejemplo:**  \n",
    "  - **Método de la Secante:** Tiene orden de convergencia $\\approx 1.618$ (razón áurea).  \n",
    "\n"
   ]
  },
  {
   "cell_type": "markdown",
   "id": "59563eea",
   "metadata": {},
   "source": [
    "\n",
    "\n",
    "### **4. Convergencia de Orden $p$ (General)**\n",
    "- **Definición:** Se dice que un método tiene orden de convergencia \\(p \\geq 1\\) si existe \\(M > 0\\) tal que:  \n",
    "  $$\n",
    "  |x_{n+1} - x^*| \\leq M |x_n - x^*|^p.\n",
    "  $$\n",
    "  - \\(p = 1\\): Lineal.  \n",
    "  - \\(p = 2\\): Cuadrática.  \n",
    "  - $p > 1$: Superlineal.  \n",
    "\n"
   ]
  },
  {
   "cell_type": "markdown",
   "id": "e6d437c0",
   "metadata": {},
   "source": [
    "\n",
    "\n",
    "### **Factores que Afectan la Convergencia**\n",
    "1. **Elección del punto inicial \\(x_0\\):**  \n",
    "   - En Newton, si \\(x_0\\) está lejos de \\(x^*\\), puede divergir.  \n",
    "   - En bisección, se requiere un intervalo $[a, b]$ con cambio de signo.  \n",
    "\n",
    "2. **Derivadas de la función:**  \n",
    "   - Newton exige \\(f'(x) \\neq 0\\) cerca de \\(x^*\\).  \n",
    "   - Si \\(f'(x^*) = 0\\), Newton puede perder convergencia cuadrática (pasa a lineal).  \n",
    "\n",
    "3. **Multiplicidad de la raíz:**  \n",
    "   - Raíces múltiples (ej: \\(x^*\\) con \\(f(x^*) = f'(x^*) = 0\\)) ralentizan la convergencia de Newton. Se usan modificaciones (ej: método de Newton modificado).  \n",
    "\n"
   ]
  },
  {
   "cell_type": "markdown",
   "id": "bedb964f",
   "metadata": {},
   "source": [
    "\n",
    "\n",
    "### **Ejemplo Comparativo**\n",
    "| **Método**       | **Orden**  | **Ventajas**                          | **Desventajas**               |  \n",
    "|------------------|------------|---------------------------------------|--------------------------------|  \n",
    "| Bisección        | Lineal (\\(p=1\\)) | Robustez (siempre converge)           | Lento (requiere muchas iteraciones) |  \n",
    "| Newton-Raphson   | Cuadrático (\\(p=2\\)) | Rápido cerca de \\(x^*\\)               | Necesita derivada; sensible a $x_0$ |  \n",
    "| Secante          | $p \\approx 1.618$  | No requiere derivada                  | Menos estable que Newton       |  \n",
    "\n"
   ]
  },
  {
   "cell_type": "markdown",
   "id": "c8ca1069",
   "metadata": {},
   "source": [
    "\n",
    "\n",
    "### **Conclusión**  \n",
    "La elección del método depende del problema:  \n",
    "- **Bisección:** Seguro pero lento (útil para \"refinar\" intervalos).  \n",
    "- **Newton:** Ideal cuando se dispone de $f'$ y $x_0$ es cercano a $x^*$.  \n",
    "- **Secante:** Alternativa cuando $f'$ es difícil de calcular.  \n",
    "\n"
   ]
  },
  {
   "cell_type": "markdown",
   "id": "44484cfa",
   "metadata": {},
   "source": [
    "\n",
    "## 7. Actividades de Aprendizaje\n",
    "\n",
    "**1. Prueba de Escritorio (Caso pH):**\n",
    "- Iteración 1: a=4.0, b=5.0 → c=4.5, f(c)=-0.1756 → nuevo intervalo [4.0, 4.5]\n",
    "- Iteración 2: a=4.0, b=4.5 → c=4.25, f(c)=0.1328 → nuevo intervalo [4.25, 4.5]\n",
    "- Iteración 3: a=4.25, b=4.5 → c=4.375, f(c)=-0.0346 → nuevo intervalo [4.25, 4.375]\n"
   ]
  },
  {
   "cell_type": "markdown",
   "id": "5ed50812",
   "metadata": {},
   "source": [
    "\n",
    "**2. Pseudocódigo:**\n",
    "```\n",
    "FUNCIÓN biseccion(f, a, b, tol, max_iter):\n",
    "    SI f(a)*f(b) ≥ 0 ENTONCES\n",
    "        ERROR \"La función no cambia de signo\"\n",
    "    \n",
    "    PARA iter DE 1 A max_iter HACER:\n",
    "        c ← (a + b)/2\n",
    "        SI f(c) = 0 O (b-a)/2 < tol ENTONCES\n",
    "            RETORNAR c\n",
    "        FIN SI\n",
    "        \n",
    "        SI f(c)*f(a) < 0 ENTONCES\n",
    "            b ← c\n",
    "        SINO\n",
    "            a ← c\n",
    "        FIN SI\n",
    "    FIN PARA\n",
    "    \n",
    "    RETORNAR (a + b)/2\n",
    "FIN FUNCIÓN\n",
    "```\n"
   ]
  },
  {
   "cell_type": "markdown",
   "id": "c924f1ff",
   "metadata": {},
   "source": [
    "\n",
    "**3. Diagrama de Flujo:**\n",
    "(Representación gráfica del proceso de decisión del algoritmo)\n"
   ]
  },
  {
   "cell_type": "markdown",
   "id": "ca25bdd8",
   "metadata": {},
   "source": [
    "\n",
    "**4. Implementación Interactiva:**\n",
    "\n"
   ]
  },
  {
   "cell_type": "code",
   "execution_count": 2,
   "id": "cb9618b8",
   "metadata": {},
   "outputs": [
    {
     "data": {
      "application/vnd.jupyter.widget-view+json": {
       "model_id": "166920313f3245b9aad911b85681ef7f",
       "version_major": 2,
       "version_minor": 0
      },
      "text/plain": [
       "interactive(children=(FloatSlider(value=1.0, description='a:', max=3.0), FloatSlider(value=2.0, description='b…"
      ]
     },
     "metadata": {},
     "output_type": "display_data"
    },
    {
     "data": {
      "text/plain": [
       "<function __main__.biseccion_interactiva(a=1.0, b=2.0, max_iter=10)>"
      ]
     },
     "execution_count": 2,
     "metadata": {},
     "output_type": "execute_result"
    }
   ],
   "source": [
    "import numpy as np \n",
    "import matplotlib.pyplot as plt \n",
    "from ipywidgets import interact, FloatSlider, IntSlider\n",
    "\n",
    "def biseccion_interactiva(a=1.0, b=2.0, max_iter=10):\n",
    "    plt.figure(figsize=(10, 6))\n",
    "    f = lambda x: x**2 - 2  # Función a encontrar la raíz (puedes cambiarla)\n",
    "    \n",
    "    # Graficar función\n",
    "    x_vals = np.linspace(a, b, 500)\n",
    "    plt.plot(x_vals, f(x_vals), label='f(x) = x² - 2', linewidth=2)\n",
    "    plt.axhline(0, color='red', linestyle='--', linewidth=0.5)\n",
    "    \n",
    "    # Verificar condición inicial (Teorema de Bolzano)\n",
    "    if f(a) * f(b) >= 0:\n",
    "        plt.title(f'Error: f(a) y f(b) deben tener signos opuestos (f({a:.2f})={f(a):.2f}, f({b:.2f})={f(b):.2f})')\n",
    "        plt.xlabel('x')\n",
    "        plt.ylabel('f(x)')\n",
    "        plt.legend()\n",
    "        plt.grid(True)\n",
    "        plt.show()\n",
    "        return []\n",
    "    \n",
    "    # Aplicar método de bisección\n",
    "    historia = []\n",
    "    current_a, current_b = a, b\n",
    "    \n",
    "    for n in range(max_iter):\n",
    "        c = (current_a + current_b) / 2\n",
    "        historia.append((current_a, current_b, c))\n",
    "        \n",
    "        # Dibujar intervalo actual con color que cambia en cada iteración\n",
    "        color = plt.cm.viridis(n/max_iter)\n",
    "        plt.plot([current_a, current_b], [0, 0], 'o-', \n",
    "                color=color, linewidth=3, alpha=0.5, \n",
    "                label=f'Iter {n+1}' if n < 5 else \"\")\n",
    "        plt.plot(c, 0, 'ro', markersize=8, alpha=0.7)  # Punto medio\n",
    "        \n",
    "        # Actualizar intervalo\n",
    "        if f(c) * f(current_a) < 0:\n",
    "            current_b = c\n",
    "        else:\n",
    "            current_a = c\n",
    "    \n",
    "    plt.title(f'Método de Bisección (Iteraciones: {max_iter}, Último intervalo: [{current_a:.6f}, {current_b:.6f}])')\n",
    "    plt.xlabel('x')\n",
    "    plt.ylabel('f(x)')\n",
    "    plt.legend(bbox_to_anchor=(1.05, 1), loc='upper left')\n",
    "    plt.grid(True)\n",
    "    plt.tight_layout()\n",
    "    plt.show()\n",
    "    \n",
    "    # Mostrar historia de iteraciones\n",
    "    print(\"\\nHistorial de iteraciones:\")\n",
    "    print(\"Iter |    a    |    b    |   c=(a+b)/2  |  f(c)  \")\n",
    "    print(\"-----|---------|---------|--------------|--------\")\n",
    "    for i, (a_i, b_i, c_i) in enumerate(historia):\n",
    "        print(f\"{i+1:4d} | {a_i:.5f} | {b_i:.5f} | {c_i:.5f} | {f(c_i):.2e}\")\n",
    "    \n",
    "    return historia\n",
    "\n",
    "interact(biseccion_interactiva, \n",
    "         a=FloatSlider(value=1.0, min=0.0, max=3.0, step=0.1, description='a:'),\n",
    "         b=FloatSlider(value=2.0, min=0.1, max=3.0, step=0.1, description='b:'),\n",
    "         max_iter=IntSlider(value=5, min=1, max=20, step=1, description='Iteraciones:'))"
   ]
  },
  {
   "cell_type": "markdown",
   "id": "47a5fc8d",
   "metadata": {},
   "source": [
    "\n",
    "## 8. Canción/Poema de Aprendizaje\n",
    "\n",
    "**\"La Cumbia de la Bisección\"**  \n",
    "*(Para cantar con ritmo de cumbia colombiana)*\n",
    "\n",
    "*Cuando la función cambia de signo,  \n",
    "entre a y b hay un camino,  \n",
    "divido en dos el intervalo,  \n",
    "y repito el mismo ensayo...  \n",
    "\n",
    "¡Bisección! ¡Qué buena opción!  \n",
    "Con paciencia y dedicación,  \n",
    "la raíz voy a encontrar,  \n",
    "iterando sin parar...  \n",
    "\n",
    "Cada paso más preciso,  \n",
    "el error se hace chiquito,  \n",
    "lineal la convergencia,  \n",
    "pero segura es su esencia...*\n"
   ]
  },
  {
   "cell_type": "markdown",
   "id": "ecc90f54",
   "metadata": {},
   "source": [
    "\n",
    "## 9. Tareas y Ejercicios\n"
   ]
  },
  {
   "cell_type": "markdown",
   "id": "fce50cab",
   "metadata": {},
   "source": [
    "\n",
    "**1. Ejercicios Básicos:**\n",
    "- Aplicar el método manualmente a $f(x) = x^3 - x - 2$ en [1, 2] hasta 3 iteraciones\n",
    "- Determinar cuántas iteraciones se necesitan para alcanzar $\\epsilon < 0.001$ en $cos(x) = x$ en [0, 1]\n"
   ]
  },
  {
   "cell_type": "markdown",
   "id": "3b44c059",
   "metadata": {},
   "source": [
    "\n",
    "**2. Problemas Agropecuarios:**\n",
    "- El balance hídrico de un cultivo sigue $W(t) = e^{-t} - 0.2t$. Encontrar cuando $W(t) = 0$\n",
    "- Modelo de crecimiento bacteriano: $B(t) = 100/(1 + e^{2-t}) - 50$. Hallar $t$ cuando $B(t) = 25$\n"
   ]
  },
  {
   "cell_type": "markdown",
   "id": "a763e7c4",
   "metadata": {},
   "source": [
    "\n",
    "**3. Implementación Avanzada:**\n",
    "- Modificar la función para que devuelva una animación del proceso\n",
    "- Crear una tabla pandas con el historial de iteraciones\n"
   ]
  },
  {
   "cell_type": "markdown",
   "id": "c2373e40",
   "metadata": {},
   "source": [
    "\n",
    "## 10. Evaluación\n",
    "\n",
    "**Proyectos:**\n",
    "1. Optimización de pH para diferentes cultivos\n",
    "2. Modelación de dosis de fertilizantes\n",
    "3. Punto de equilibrio en costos de producción\n",
    "4. Cálculo de tasa de interés efectiva en créditos agrícolas\n",
    "5. Determinación de momento óptimo de cosecha\n"
   ]
  },
  {
   "cell_type": "markdown",
   "id": "39ec0d8b",
   "metadata": {},
   "source": [
    "\n",
    "**Ejemplo de Quiz:**\n",
    "1. ¿Por qué es esencial que $f(a)*f(b) < 0$ al iniciar el método?\n",
    "2. Calcular manualmente 2 iteraciones para $f(x) = x^2 - 2$ en [1, 2]\n",
    "3. ¿Cómo se relaciona el error con el número de iteraciones?\n"
   ]
  },
  {
   "cell_type": "markdown",
   "id": "6c21c9ce",
   "metadata": {},
   "source": [
    "\n",
    "**Ejemplo de Parcial:**\n",
    "1. Implementar en Python una versión mejorada que detecte convergencia lenta\n",
    "2. Aplicar el método a un problema real de su región\n",
    "3. Comparar eficiencia con otros métodos numéricos\n"
   ]
  },
  {
   "cell_type": "markdown",
   "id": "970e0ec3",
   "metadata": {},
   "source": [
    "### **Examen Parcial: Métodos Numéricos (Newton y Bisección)**  \n",
    "**Instrucciones:**   \n",
    "- Duración: 45 minutos.  \n",
    "- Marca la opción correcta en cada pregunta.  \n",
    "- Cada pregunta vale 2 puntos (total: 20 puntos).  \n",
    "\n"
   ]
  },
  {
   "cell_type": "markdown",
   "id": "0bdf7507",
   "metadata": {},
   "source": [
    "\n",
    "\n",
    "#### **Sección 1: Preguntas teóricas**  \n",
    "1. **El método de bisección:**  \n",
    "   a) Requiere calcular la derivada de la función.  \n",
    "   b) Garantiza convergencia si la función es continua y cambia de signo en el intervalo.  \n",
    "   c) Es más rápido que el método de Newton en todos los casos.  \n",
    "   d) Solo funciona para funciones polinómicas.  \n",
    "\n",
    "2. **El método de Newton-Raphson:**  \n",
    "   a) Siempre converge cuadráticamente.  \n",
    "   b) Puede divergir si la derivada es cercana a cero.  \n",
    "   c) No requiere un intervalo inicial.  \n",
    "   d) Solo se aplica a funciones lineales.  \n",
    "\n",
    "3. **Ventaja del método de bisección frente a Newton:**  \n",
    "   a) Mayor velocidad de convergencia.  \n",
    "   b) No necesita evaluar derivadas.  \n",
    "   c) Siempre encuentra la raíz exacta.  \n",
    "   d) Solo requiere un punto inicial.  \n",
    "\n"
   ]
  },
  {
   "cell_type": "markdown",
   "id": "279141e4",
   "metadata": {},
   "source": [
    "\n",
    "\n",
    "#### **Sección 2: Problemas prácticos**  \n",
    "4. **Dada $ f(x) = x^2 - 4$ en $[1, 3]$, ¿cuál es el valor aproximado de la raíz tras 2 iteraciones de bisección?**  \n",
    "   a) 1.25  \n",
    "   b) 1.75  \n",
    "   c) 2.5  \n",
    "   d) 3.0  \n",
    "\n",
    "5. **Para $f(x) = e^x - 2$, con $x_0 = 1$, ¿cuál es $x_1$ aplicando Newton-Raphson?**  \n",
    "   a) 0.7358  \n",
    "   b) 0.5000  \n",
    "   c) 0.6931  \n",
    "   d) 1.0000  \n",
    "\n"
   ]
  },
  {
   "cell_type": "markdown",
   "id": "ddb94ff3",
   "metadata": {},
   "source": [
    "\n",
    "\n",
    "#### **Sección 3: Análisis de convergencia**  \n",
    "6. **Si en el método de Newton la derivada $f'(x)$ es cero en la raíz:**  \n",
    "   a) El método falla.  \n",
    "   b) La convergencia es lineal.  \n",
    "   c) Se debe usar bisección.  \n",
    "   d) La raíz no existe.  \n"
   ]
  },
  {
   "cell_type": "markdown",
   "id": "a0a24c4d",
   "metadata": {},
   "source": [
    "\n",
    "7. **El método de bisección en $[a, b]$ reduce el error a la mitad en cada iteración. ¿Cuántas iteraciones se necesitan para alcanzar un error menor que $10^{-6}$?**  \n",
    "   a) ~20  \n",
    "   b) ~50  \n",
    "   c) ~10  \n",
    "   d) ~5  \n",
    "\n",
    "\n"
   ]
  },
  {
   "cell_type": "markdown",
   "id": "3a3b7b87",
   "metadata": {},
   "source": [
    "\n",
    "#### **Clave de respuestas** (para configuración en Google Forms):  \n",
    "1. **b**  \n",
    "2. **b**  \n",
    "3. **b**  \n",
    "4. **b** (valor real: 1.75 tras 2 iteraciones)  \n",
    "5. **c** (valor real: $ x_{1} = 1 - \\frac{e^1 - 2}{e^1} \\approx 0.6931 $)  \n",
    "6. **a**  \n",
    "7. **a** (fórmula: $n > \\frac{\\ln(b-a) - \\ln(\\epsilon)}{\\ln(2)}$)  \n",
    "\n"
   ]
  },
  {
   "cell_type": "markdown",
   "id": "cb8a92db",
   "metadata": {},
   "source": [
    "\n",
    "\n",
    "### **Configuración en Google Forms**  \n",
    "1. Ve a **Google Forms** y crea un nuevo formulario.  \n",
    "2. Añade las preguntas como **opción múltiple**.  \n",
    "3. En **\"Clave de respuestas\"** (en ajustes del formulario), ingresa las respuestas correctas para que se califique automáticamente.  \n",
    "4. Opcional: Añade feedback para respuestas incorrectas (ej: \"Recuerda que la bisección requiere continuidad y cambio de signo\").  \n",
    "\n"
   ]
  },
  {
   "cell_type": "markdown",
   "id": "7a573b78",
   "metadata": {},
   "source": [
    "Estos son 6 parciales basados en el método de Newton y el método de la bisección, alineados con el enfoque de Aprendizaje Basado en Problemas y Proyectos (ABPP). Cada parcial está diseñado para resolverse en **2 horas**, permitiendo el uso de herramientas como **Google Colab o Excel** para enfatizar la aplicación real de estos métodos.  \n",
    "\n"
   ]
  },
  {
   "cell_type": "markdown",
   "id": "a0b0368d",
   "metadata": {},
   "source": [
    "# Tarea para todos\n",
    "\n",
    "Fecha límitre: 6 de Junio Vodeo de descripción del método de la bisección con GeoGebra. "
   ]
  },
  {
   "cell_type": "markdown",
   "id": "45b75ad1",
   "metadata": {},
   "source": [
    "\n",
    "\n",
    "### **Parcial 1: Aplicación en Ingeniería – Cálculo de la profundidad de un río** (Leonel) \n",
    "**Contexto**: Un ingeniero necesita determinar la profundidad $h$ de un río para instalar un puente. La velocidad del agua sigue la ecuación:  \n",
    "$$\n",
    "v(h) = \\sqrt{\\frac{g}{k}} \\tanh\\left( \\sqrt{\\frac{gk}{D}} h \\right) - 2.5\n",
    "$$  \n",
    "donde $g = 9.81 \\, \\text{m/s}^2 $, $k = 0.2$, $D = 10 \\, \\text{m}$.  \n",
    "\n",
    "**Tareas**:  \n",
    "1. Usar **bisección** en $[1, 5]$ con tolerancia $10^{-3}$.  \n",
    "2. Usar **Newton-Raphson** con $h_0 = 3$ (derivar numéricamente si es necesario).  \n",
    "3. Comparar resultados y discutir cuál método es más eficiente.  \n",
    "\n",
    "**Evaluación**:  \n",
    "- Correcta implementación en código/Excel.  \n",
    "- Análisis de convergencia.  \n",
    "- Justificación del método más adecuado.  \n",
    "\n"
   ]
  },
  {
   "cell_type": "markdown",
   "id": "95848c85",
   "metadata": {},
   "source": [
    "\n",
    "\n",
    "### **Parcial 2: Economía – Punto de equilibrio de una empresa** Manuel   \n",
    "**Contexto**: La utilidad $U(x)$ de una empresa está dada por:  \n",
    "$$\n",
    "U(x) = 50x - 0.1x^3 + 5\\ln(x+1) - 200\n",
    "$$  \n",
    "Se busca el punto de equilibrio ($U(x) = 0$).  \n",
    "\n",
    "**Tareas**:  \n",
    "1. Graficar la función en Excel/Colab para estimar intervalos.  \n",
    "2. Aplicar **bisección** en $[2, 10]$.  \n",
    "3. Aplicar **Newton** con $x_0 = 5$.  \n",
    "4. Explicar por qué no converge si $x_0 = 1$.  \n",
    "\n",
    "**Evaluación**:  \n",
    "- Uso de gráficas para inicialización.  \n",
    "- Interpretación económica del resultado.  \n",
    "\n",
    "\n"
   ]
  },
  {
   "cell_type": "markdown",
   "id": "b8366665",
   "metadata": {},
   "source": [
    "\n",
    "### **Parcial 3: Física – Movimiento de un resorte amortiguado**  Yeifry Sebastián\n",
    "**Contexto**: La posición $x(t)$ de un resorte sigue:  \n",
    "$$\n",
    "x(t) = 2e^{-0.1t} \\cos(3t) - 0.5\n",
    "$$  \n",
    "Hallar el tiempo $t$ donde $x(t) = 0$ (primer cruce).  \n"
   ]
  },
  {
   "cell_type": "markdown",
   "id": "65ad0eb0",
   "metadata": {},
   "source": [
    "\n",
    "**Tareas**:  \n",
    "1. Usar **bisección** en $[0.5, 1.5]$.  \n",
    "2. Usar **Newton** con $t_0 = 1$.  \n",
    "3. Comparar error absoluto en cada iteración.  \n",
    "\n",
    "**Evaluación**:  \n",
    "- Elección adecuada del intervalo.  \n",
    "- Análisis del error.  \n",
    "\n"
   ]
  },
  {
   "cell_type": "markdown",
   "id": "9511697f",
   "metadata": {},
   "source": [
    "\n",
    "\n",
    "### **Parcial 4: Biología – Modelo de crecimiento bacteriano**  Fred Ivan \n",
    "**Contexto**: El crecimiento de bacterias sigue:  \n",
    "$$\n",
    "P(t) = \\frac{1000}{1 + 9e^{-0.2t}} - 400\n",
    "$$  \n",
    "Hallar $t$ cuando $P(t) = 0$ (tiempo de esterilización).  \n",
    "\n",
    "**Tareas**:  \n",
    "1. Usar **bisección** en $[0, 20]$.  \n",
    "2. Usar **Newton** con $t_0 = 10$.  \n",
    "3. Discutir sensibilidad al valor inicial.  \n",
    "\n",
    "**Evaluación**:  \n",
    "- Interpretación biológica del resultado.  \n",
    "- Justificación de la tolerancia usada.  \n",
    "\n"
   ]
  },
  {
   "cell_type": "markdown",
   "id": "8d87c6a1",
   "metadata": {},
   "source": [
    "\n",
    "\n",
    "### **Parcial 5: Química – pH de una solución**  Estefanía Cali Herrera \n",
    "**Contexto**: La concentración de iones $[H^+]$ en una solución satisface:  \n",
    "$$\n",
    "[H^+]^3 + 5 \\times 10^{-5} [H^+]^2 - 10^{-14} = 0\n",
    "$$  \n",
    "Hallar $[H^+]$ para calcular el pH ($ \\text{pH} = -\\log[H^+]$).  \n",
    "\n",
    "**Tareas**:  \n",
    "1. Usar **bisección** en $[0, 10^{-4}]$.  \n",
    "2. Usar **Newton** con $[H^+]_0 = 10^{-5}$.  \n",
    "3. Validar con la fórmula exacta.  \n",
    "\n",
    "**Evaluación**:  \n",
    "- Precisión en unidades científicas.  \n",
    "- Discusión de aplicaciones en química.  \n",
    "\n"
   ]
  },
  {
   "cell_type": "markdown",
   "id": "f43065c6",
   "metadata": {},
   "source": [
    "\n",
    "\n",
    "### **Parcial 6: Ciencias Ambientales – Oxígeno en un lago**  Merlis Yulieth \n",
    "**Contexto**: La concentración de oxígeno $O(t)$ en un lago contaminado sigue:  \n",
    "$$\n",
    "O(t) = t^3 - 2t^2 - 5t + 6\n",
    "$$  \n",
    "Hallar $t$ (días) cuando $O(t) = 0$.  \n",
    "\n",
    "**Tareas**:  \n",
    "1. Usar **bisección** en $[0, 3]$.  \n",
    "2. Usar **Newton** con $t_0 = 1.5$.  \n",
    "3. Proponer una estrategia de limpieza basada en los resultados.  \n",
    "\n",
    "**Evaluación**:  \n",
    "- Relación con problemas reales.  \n",
    "- Creatividad en la solución aplicada.  \n",
    "\n"
   ]
  },
  {
   "cell_type": "markdown",
   "id": "b73a4146",
   "metadata": {},
   "source": [
    "\n",
    "\n",
    "### **Rúbrica General (común a todos los parciales)**  \n",
    "| **Criterio**               | **Puntos** |  \n",
    "|-----------------------------|------------|  \n",
    "| Correcta implementación     | 40%        |  \n",
    "| Análisis de convergencia    | 30%        |  \n",
    "| Interpretación aplicada     | 20%        |  \n",
    "| Presentación/claridad       | 10%        |  \n",
    "\n",
    "**Nota**: Cada parcial incluye un **problema real** para reforzar el ABPP. El uso de herramientas digitales es clave para simular entornos laborales.  \n",
    "\n"
   ]
  },
  {
   "cell_type": "markdown",
   "id": "ea5ba867",
   "metadata": {},
   "source": [
    "\n",
    "## 11. Retroalimentación\n",
    "\n",
    "**Técnica \"3-2-1\":**\n",
    "- 3 conceptos aprendidos\n",
    "- 2 dudas persistentes\n",
    "- 1 aplicación que descubrieron\n"
   ]
  },
  {
   "cell_type": "markdown",
   "id": "eabceb68",
   "metadata": {},
   "source": [
    "\n",
    "**Rúbrica de Autoevaluación:**\n",
    "1. Comprensión conceptual $(1-5)$\n",
    "2. Habilidad de implementación $(1-5)$\n",
    "3. Creatividad en aplicaciones $(1-5)$\n",
    "4. Trabajo colaborativo $(1-5)$\n"
   ]
  },
  {
   "cell_type": "markdown",
   "id": "3568838a",
   "metadata": {},
   "source": [
    "\n",
    "## 12. Vocabulario Inglés\n",
    "\n",
    "**Términos Clave:**\n",
    "- Bisection method / Método de bisección\n",
    "- Nonlinear equations / Ecuaciones no lineales\n",
    "- Convergence / Convergencia\n",
    "- Tolerance / Tolerancia\n",
    "- Iteration / Iteración\n",
    "- Root finding / Búsqueda de raíces\n",
    "- Interval / Intervalo\n",
    "- Algorithm / Algoritmo\n",
    "- Implementation / Implementación\n",
    "- Precision / Precisión\n",
    "\n",
    "**Frases Útiles:**\n",
    "- \"The function changes sign on the interval\" / La función cambia de signo en el intervalo\n",
    "- \"The method guarantees convergence\" / El método garantiza convergencia\n",
    "- \"We need to set a tolerance threshold\" / Necesitamos establecer un umbral de tolerancia\n",
    "- \"The error halves each iteration\" / El error se reduce a la mitad cada iteración\n",
    "- \"Let's implement this computationally\" / Implementemos esto computacionalmente\n"
   ]
  },
  {
   "cell_type": "markdown",
   "id": "df52ec2b",
   "metadata": {},
   "source": [
    "\n",
    "## 13. Apéndice: Habilidades Blandas\n",
    "\n",
    "**Trabajo en Equipo:**\n",
    "- Técnica \"Puzzle\" para dividir tareas del algoritmo\n",
    "- Roles rotativos: programador, documentador, validador\n",
    "\n",
    "**Inteligencia Emocional:**\n",
    "- Diario de frustraciones/soluciones en el proceso numérico\n",
    "- Técnica \"Piensa en voz alta\" para resolver errores de código\n",
    "\n",
    "**Tolerancia:**\n",
    "- Análisis de casos donde el método falla\n",
    "- Discusión sobre límites de los métodos numéricos\n"
   ]
  },
  {
   "cell_type": "markdown",
   "id": "7fe75d07",
   "metadata": {},
   "source": [
    "\n",
    "## 14. Referentes Didácticos (APA)\n",
    "\n",
    "1. Duval, R. (2006). Un tema crucial en la educación matemática: La habilidad para cambiar el registro de representación. *La Gaceta de la RSME, 9*(1), 143-168.\n",
    "\n",
    "2. Wing, J. M. (2006). Computational thinking. *Communications of the ACM, 49*(3), 33-35. https://doi.org/10.1145/1118178.1118215\n",
    "\n",
    "3. Bergmann, J., & Sams, A. (2012). Flip your classroom: Reach every student in every class every day. *International Society for Technology in Education*.\n",
    "\n",
    "4. Sanders, M. (2009). STEM, STEM education, STEMmania. *The Technology Teacher, 68*(4), 20-26.\n",
    "\n",
    "5. Thomas, J. W. (2000). A review of research on project-based learning. *Autodesk Foundation*.\n",
    "\n",
    "6. Schoenfeld, A. H. (1985). Mathematical problem solving. *Academic Press*.\n",
    "\n",
    "7. Polya, G. (1945). How to solve it. *Princeton University Press*.\n",
    "\n",
    "8. Boaler, J. (2016). Mathematical mindsets: Unleashing students' potential through creative math, inspiring messages and innovative teaching. *John Wiley & Sons*.\n",
    "\n",
    "9. Hattie, J. (2008). Visible learning: A synthesis of over 800 meta-analyses relating to achievement. *Routledge*.\n",
    "\n",
    "10. National Research Council. (2000). How people learn: Brain, mind, experience, and school. *National Academies Press*."
   ]
  },
  {
   "cell_type": "markdown",
   "id": "239427f7",
   "metadata": {},
   "source": [
    "# Definición del calendario académico para los diferentes programas de pregrado de los campus regionalizados, correspondiente al primer periodo académico del año 2025, así:  \n",
    "\n",
    "\n",
    "* Terminación de clases 08 de junio de 2025\n",
    "* Exámenes finales 09 al 15 de junio de 2025\n",
    "* Habilitación y validación 16 al 22 de junio de 2025\n",
    "* Terminación oficial 23 de junio de 2025"
   ]
  },
  {
   "cell_type": "markdown",
   "id": "8ba64aed",
   "metadata": {},
   "source": [
    "# Cursos que orienta el profesor Marco Julio Cañas Campillo en 2025  \n",
    "\n",
    "4. Cálculo Vectorial para Ingeniería Agropecuaria\n",
    "3. Análisis Numérico para Licenciatura en Matemáticas. \n",
    "5. Práctica Pedagógica V para Licenciatura en Educación Infantil\n",
    "6. Fundamentos de Lógica para Licenciatura en Matemáticas \n",
    "\n"
   ]
  },
  {
   "cell_type": "markdown",
   "id": "8d41fe58",
   "metadata": {
    "slideshow": {
     "slide_type": "slide"
    }
   },
   "source": [
    "# Horario de clases del profesor Marco\n",
    "\n",
    "* Lunes 8-12: Cálculo Vectorial\n",
    "* Martes 8-12 M: Fundamentos de Aritmética. \n",
    "* Miércoles 8 a 12 M: Fundamentos de la Lógica\n",
    "* Jueves 2 a 6 PM: Desarrollo del pensamiento matemático en la infancia. \n",
    "* Viernes 8 - 12 M: Desarrollo del pensamiento matemático en la infancia. \n",
    "* Sábados 8-12 Asesorías y espacio para retroalimentación y apoyo al trabajo independiente. "
   ]
  },
  {
   "cell_type": "markdown",
   "id": "b239fcde",
   "metadata": {},
   "source": [
    "\n",
    "# Coordinador de los cursos de la Facultad de Educación para regiones:    \n",
    "\n",
    "Andrés Vélez: regioneducacion.fedu@udea.edu.co  \n",
    "Coordinador Regiones  \n",
    "Facultad de Educación  \n",
    "Universidad de Antioquia  "
   ]
  },
  {
   "cell_type": "markdown",
   "id": "b1db4b6c",
   "metadata": {
    "slideshow": {
     "slide_type": "slide"
    }
   },
   "source": [
    "## Monitores  \n",
    "* Yeifry Sebastián Uribe: yeifry.uribe@udea.edu.co. \n",
    "* Manuel San Juan Serrano: Contactar escribiendo al correo: manuel.serrano1@udea.edu.co"
   ]
  },
  {
   "cell_type": "markdown",
   "id": "10bce0d0",
   "metadata": {
    "slideshow": {
     "slide_type": "slide"
    }
   },
   "source": [
    "## Referentes "
   ]
  },
  {
   "cell_type": "markdown",
   "id": "1db3c468",
   "metadata": {
    "slideshow": {
     "slide_type": "slide"
    }
   },
   "source": [
    "* [CALCULO I DE UNA VARIABLE Ron Larson-Bruce Edwards. Mc Graw Hill. 9º Edición](https://www.academia.edu/42139251/CALCULO_I_DE_UNA_VARIABLE_Ron_Larson_Bruce_Edwards_Mc_Graw_Hill_9o_Edici%C3%B3n)   \n",
    "  \n",
    "* [Métodos numéricos usando python](chrome-extension://efaidnbmnnnibpcajpcglclefindmkaj/https://librosoa.unam.mx/bitstream/handle/123456789/3416/MNPython.pdf?sequence=1&isAllowed=y)  \n",
    "  \n",
    "* [Grajales Vanegas, L. M., Restrepo Estrada, C. E., Restrepo Ochoa, S. I., & Ruíz De Villalba, F. (2015). Matemáticas I para las ciencias económicas.](https://bibliotecadigital.udea.edu.co/handle/10495/3010)\n",
    "  \n",
    "* R. Duval y Semiosis y pensamiento humano, 2.ª ed. Cali, Colombia: Programa Editorial Universidad del Valle, 2017. [En línea]. Disponible en: https://programaeditorial.univalle.edu.co/gpd-semiosis-y-pensamiento-humano-9789587655278-63324cdb0f6b3.html\n",
    "\n",
    "* [Aylwin, C. U. (2011). Lógica, conjuntos y números. Universidad de los Andes, Consejo de Publicaciones, Colección: Ciencias Básicas, Serie: Matemáticas.](chrome-extension://efaidnbmnnnibpcajpcglclefindmkaj/https://www.u-cursos.cl/ciencias/2011/1/MC110/1/material_docente/bajar?id_material=574722)\n",
    "  \n",
    "* [Chollet, F. (2021). Deep learning with Python. Simon and Schuster.](chrome-extension://efaidnbmnnnibpcajpcglclefindmkaj/https://tanthiamhuat.wordpress.com/wp-content/uploads/2018/03/deeplearningwithpython.pdf)  \n",
    "  \n",
    "* [Watson, S., Stewart, J., & Redlin, L. (2009). Precálculo. Matemáticas para el cálculo.](https://github.com/marco-canas/calculo/blob/main/referents/1_precalculo_stewart/stewart_precalculo.pdf)  \n",
    "\n",
    "* [Purcell, E. J., Varberg, D., & Rigdon, S. E. (2007). Cálculo diferencial e integral. Pearson Educación.](https://github.com/marco-canas/calculo/blob/main/referents/purcell/purcell_calculo.pdf)\n",
    "\n",
    "  \n",
    "\n",
    "* [stewart cálculo](https://udeaeduco-my.sharepoint.com/:b:/g/personal/marco_canas_udea_edu_co/EZgXZjAp8QxPqOAim2hs6LcBNPLGjSHf-xwYnUVYkwa04w?e=RZdTCy)  \n",
    "\n",
    "\n",
    "\n",
    "\n",
    "\n",
    "* [Recomendación de la UNESCO sobre ciencia abierta](https://unesdoc.unesco.org/ark:/48223/pf0000379949_spa)\n",
    "\n",
    "* [chatGPT](https://openai.com/blog/chatgpt)  \n",
    "\n",
    "* [Géron, A. (2017). Hands-on machine learning with scikit-learn and tensorflow: Concepts. Tools, and Techniques to build intelligent systems.](chrome-extension://efaidnbmnnnibpcajpcglclefindmkaj/http://14.139.161.31/OddSem-0822-1122/Hands-On_Machine_Learning_with_Scikit-Learn-Keras-and-TensorFlow-2nd-Edition-Aurelien-Geron.pdf)   \n"
   ]
  },
  {
   "cell_type": "markdown",
   "id": "df925560",
   "metadata": {},
   "source": [
    "\n",
    "* [McKinney, W. (2012). Python for data analysis: Data wrangling with Pandas, NumPy, and IPython. \" O'Reilly Media, Inc.\".](https://wesmckinney.com/book/) "
   ]
  },
  {
   "cell_type": "markdown",
   "id": "8e65d6f9",
   "metadata": {},
   "source": [
    "# Como estudiante, encuentro que...   \n",
    "\n",
    "F: Mis Fortalezas son:     \n",
    "O: Mis Oportunidades son:    \n",
    "D: Mis Debilidades son:    \n",
    "A: Lo que Amenazas mi aprendizaje es:  "
   ]
  },
  {
   "cell_type": "markdown",
   "id": "6b9e56a8",
   "metadata": {
    "slideshow": {
     "slide_type": "slide"
    }
   },
   "source": [
    "### [Evaluamos al profesor Marco Cañas Aquí](https://forms.office.com/Pages/ResponsePage.aspx?id=IefhmYRxjkmK_7KtTlPBwkanXIs1i1FEujpsZgO6dXpUREJPV1kxUk1JV1ozTFJIQVNIQjY5WEY3US4u)"
   ]
  },
  {
   "cell_type": "markdown",
   "id": "10f43536",
   "metadata": {
    "slideshow": {
     "slide_type": "slide"
    }
   },
   "source": [
    "### Continue su aprendizaje en la siguiente clase a través del siguiente [vínculo]()"
   ]
  },
  {
   "cell_type": "markdown",
   "id": "53cc9115",
   "metadata": {
    "slideshow": {
     "slide_type": "slide"
    }
   },
   "source": [
    "## Agradecimientos  \n",
    "\n",
    "Doy gracias a Dios por la vida de mi Hijo Joseph Cañas Osorio y la madurez que ha alcanzado. Este hijo me enorgullece y me hace falta abrazarlo cada día. \n",
    "\n",
    "Y a mi esposa Yasmira Emperatriz Barboza Mogollón por su apoyo, orientación y acompañamiento. "
   ]
  },
  {
   "cell_type": "markdown",
   "id": "b6ba1c23",
   "metadata": {},
   "source": [
    "# Apéndice sobre calendarios y coordinaciones \n",
    "\n",
    "A continuación le envío el horario de la asignatura Cálculo Vectorial  \n",
    "\n",
    "Días:  \n",
    "Lunes - Hora: 7:00 a 12:00M  \n",
    "Fechas:  \n",
    "Febrero: 10-17-24                                          \n",
    " Marzo: 3-10-17-31                                                  \n",
    "Abril:7-21-28                                                   \n",
    "Mayo:5-12-19  \n",
    "\n",
    "Agradezco su apoyo, y si presenta alguna dificultad puede contactarme.  \n",
    "\n",
    "Cordialmente,  \n",
    "Juan Felipe Rivera Hernández  \n",
    "Contacto: 3106314300  "
   ]
  },
  {
   "cell_type": "markdown",
   "id": "0e66cd7c",
   "metadata": {},
   "source": [
    "# Clase de análisis numérico los Martes de 8 a 12 del medio día. "
   ]
  },
  {
   "cell_type": "markdown",
   "id": "c5ff61b1",
   "metadata": {},
   "source": []
  }
 ],
 "metadata": {
  "celltoolbar": "Slideshow",
  "kernelspec": {
   "display_name": ".venv",
   "language": "python",
   "name": "python3"
  },
  "language_info": {
   "codemirror_mode": {
    "name": "ipython",
    "version": 3
   },
   "file_extension": ".py",
   "mimetype": "text/x-python",
   "name": "python",
   "nbconvert_exporter": "python",
   "pygments_lexer": "ipython3",
   "version": "3.12.6"
  },
  "rise": {
   "enable_chalkboard": true,
   "theme": "sky",
   "transition": "zoom"
  }
 },
 "nbformat": 4,
 "nbformat_minor": 5
}
